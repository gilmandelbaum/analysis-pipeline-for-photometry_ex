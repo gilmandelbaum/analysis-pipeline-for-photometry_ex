{
 "cells": [
  {
   "cell_type": "markdown",
   "metadata": {},
   "source": [
    "# Split_5a  \n"
   ]
  },
  {
   "cell_type": "code",
   "execution_count": 1,
   "metadata": {},
   "outputs": [],
   "source": [
    "import pickle\n",
    "import pandas as pd \n",
    "import numpy  as np \n",
    "import papermill as pm\n",
    "from pathlib import Path"
   ]
  },
  {
   "cell_type": "code",
   "execution_count": 2,
   "metadata": {},
   "outputs": [],
   "source": [
    "import Notebook_5_helper_functions as Nb_5"
   ]
  },
  {
   "cell_type": "code",
   "execution_count": 3,
   "metadata": {
    "tags": [
     "parameters"
    ]
   },
   "outputs": [],
   "source": [
    "mouse = 'T240'\n",
    "data_day = '2019_09_27__T240'\n",
    "date = '2019_09_27'\n",
    "\n",
    "HowManyBack = 1\n",
    "\n",
    "Nb1= 'b'\n",
    "Nb3='b'\n",
    "\n",
    "data_dir_output = \"/Users/gilmandelbaum/Desktop/output/\"\n",
    "\n",
    "Tags = ['Reward_NoReward_tag', 'ENL_tag', 'Cue_to_Sel_tag', \"Cue_to_Sel_fromPrevTrial_tag\",\"firstENLp_tag\"]  \n",
    "Timing = [600,200,15,15,20]\n",
    "Start_or_end = ['start','end','start','start','start']\n",
    "\n",
    "seq_str = \"0a1d2a3b4ab5a6abc10a\""
   ]
  },
  {
   "cell_type": "markdown",
   "metadata": {},
   "source": [
    "# Load notebook 1:"
   ]
  },
  {
   "cell_type": "code",
   "execution_count": 4,
   "metadata": {
    "scrolled": true
   },
   "outputs": [],
   "source": [
    "root = Path(data_dir_output+\"/\"+mouse+\"/\"+data_day+'/'+str(HowManyBack)+\"_Back\")\n",
    "d = mouse+\"_\"+date+\"Notebook_1_\"+Nb1+'.pickle'\n",
    "my_path = root / d \n",
    "# open a file, where you stored the pickled data\n",
    "fileToOpen = open(my_path, 'rb')\n",
    "# dump information to that file\n",
    "behavior_data_trial_RIC_LIC_combinations_n = pickle.load(fileToOpen)"
   ]
  },
  {
   "cell_type": "markdown",
   "metadata": {},
   "source": [
    "# Load notebook 3:"
   ]
  },
  {
   "cell_type": "code",
   "execution_count": 5,
   "metadata": {},
   "outputs": [],
   "source": [
    "root = Path(data_dir_output+\"/\"+mouse+\"/\"+data_day+'/'+str(HowManyBack)+\"_Back\")\n",
    "d = mouse+\"_\"+date+\"Notebook_3_\"+Nb3+'.pickle'\n",
    "my_path = root / d \n",
    "# open a file, where you stored the pickled data\n",
    "fileToOpen = open(my_path, 'rb')\n",
    "# dump information to that file\n",
    "processed_data = pickle.load(fileToOpen)"
   ]
  },
  {
   "cell_type": "markdown",
   "metadata": {},
   "source": [
    "## Add the tags from notebooks 4: "
   ]
  },
  {
   "cell_type": "code",
   "execution_count": 6,
   "metadata": {},
   "outputs": [],
   "source": [
    "aligned_behav_photo = Nb_5.combine_processed_data_and_tags (Tags,processed_data,root)"
   ]
  },
  {
   "cell_type": "code",
   "execution_count": 7,
   "metadata": {},
   "outputs": [
    {
     "data": {
      "text/html": [
       "<div>\n",
       "<style scoped>\n",
       "    .dataframe tbody tr th:only-of-type {\n",
       "        vertical-align: middle;\n",
       "    }\n",
       "\n",
       "    .dataframe tbody tr th {\n",
       "        vertical-align: top;\n",
       "    }\n",
       "\n",
       "    .dataframe thead th {\n",
       "        text-align: right;\n",
       "    }\n",
       "</style>\n",
       "<table border=\"1\" class=\"dataframe\">\n",
       "  <thead>\n",
       "    <tr style=\"text-align: right;\">\n",
       "      <th></th>\n",
       "      <th>nTrial</th>\n",
       "      <th>iBlock</th>\n",
       "      <th>iTrial</th>\n",
       "      <th>iOccurrence</th>\n",
       "      <th>iState_start</th>\n",
       "      <th>iState_end</th>\n",
       "      <th>analog1</th>\n",
       "      <th>analog2</th>\n",
       "      <th>d2 R</th>\n",
       "      <th>d1 R</th>\n",
       "      <th>d2 L</th>\n",
       "      <th>d1 L</th>\n",
       "      <th>Real_nTrials</th>\n",
       "      <th>Reward_NoReward_tag</th>\n",
       "      <th>ENL_tag</th>\n",
       "      <th>Cue_to_Sel_tag</th>\n",
       "      <th>Cue_to_Sel_fromPrevTrial_tag</th>\n",
       "      <th>firstENLp_tag</th>\n",
       "    </tr>\n",
       "  </thead>\n",
       "  <tbody>\n",
       "    <tr>\n",
       "      <th>0</th>\n",
       "      <td>2.0</td>\n",
       "      <td>1.0</td>\n",
       "      <td>2.0</td>\n",
       "      <td>0.0</td>\n",
       "      <td>23.0</td>\n",
       "      <td>29.0</td>\n",
       "      <td>1133.0</td>\n",
       "      <td>2762.0</td>\n",
       "      <td>-0.212453</td>\n",
       "      <td>-0.446250</td>\n",
       "      <td>-0.642319</td>\n",
       "      <td>-0.930021</td>\n",
       "      <td>2</td>\n",
       "      <td>NaN</td>\n",
       "      <td>NaN</td>\n",
       "      <td>NaN</td>\n",
       "      <td>NaN</td>\n",
       "      <td>NaN</td>\n",
       "    </tr>\n",
       "    <tr>\n",
       "      <th>1</th>\n",
       "      <td>2.0</td>\n",
       "      <td>1.0</td>\n",
       "      <td>2.0</td>\n",
       "      <td>1.0</td>\n",
       "      <td>29.0</td>\n",
       "      <td>32.0</td>\n",
       "      <td>1135.0</td>\n",
       "      <td>2749.0</td>\n",
       "      <td>-0.787225</td>\n",
       "      <td>-0.360724</td>\n",
       "      <td>-1.015081</td>\n",
       "      <td>-0.687099</td>\n",
       "      <td>2</td>\n",
       "      <td>NaN</td>\n",
       "      <td>2.0</td>\n",
       "      <td>NaN</td>\n",
       "      <td>NaN</td>\n",
       "      <td>NaN</td>\n",
       "    </tr>\n",
       "    <tr>\n",
       "      <th>2</th>\n",
       "      <td>2.0</td>\n",
       "      <td>1.0</td>\n",
       "      <td>2.0</td>\n",
       "      <td>2.0</td>\n",
       "      <td>32.0</td>\n",
       "      <td>33.0</td>\n",
       "      <td>232.0</td>\n",
       "      <td>17.0</td>\n",
       "      <td>-0.649697</td>\n",
       "      <td>-0.312795</td>\n",
       "      <td>-0.928825</td>\n",
       "      <td>-0.701440</td>\n",
       "      <td>2</td>\n",
       "      <td>NaN</td>\n",
       "      <td>2.0</td>\n",
       "      <td>NaN</td>\n",
       "      <td>NaN</td>\n",
       "      <td>NaN</td>\n",
       "    </tr>\n",
       "    <tr>\n",
       "      <th>3</th>\n",
       "      <td>2.0</td>\n",
       "      <td>1.0</td>\n",
       "      <td>2.0</td>\n",
       "      <td>3.0</td>\n",
       "      <td>33.0</td>\n",
       "      <td>33.0</td>\n",
       "      <td>233.0</td>\n",
       "      <td>18.0</td>\n",
       "      <td>-0.731099</td>\n",
       "      <td>-0.252639</td>\n",
       "      <td>-0.983779</td>\n",
       "      <td>-0.637187</td>\n",
       "      <td>2</td>\n",
       "      <td>NaN</td>\n",
       "      <td>2.0</td>\n",
       "      <td>NaN</td>\n",
       "      <td>NaN</td>\n",
       "      <td>NaN</td>\n",
       "    </tr>\n",
       "    <tr>\n",
       "      <th>4</th>\n",
       "      <td>2.0</td>\n",
       "      <td>1.0</td>\n",
       "      <td>2.0</td>\n",
       "      <td>4.0</td>\n",
       "      <td>33.0</td>\n",
       "      <td>29.0</td>\n",
       "      <td>1134.0</td>\n",
       "      <td>2748.0</td>\n",
       "      <td>-0.673246</td>\n",
       "      <td>-0.200072</td>\n",
       "      <td>-0.949106</td>\n",
       "      <td>-0.623096</td>\n",
       "      <td>2</td>\n",
       "      <td>NaN</td>\n",
       "      <td>2.0</td>\n",
       "      <td>NaN</td>\n",
       "      <td>NaN</td>\n",
       "      <td>NaN</td>\n",
       "    </tr>\n",
       "  </tbody>\n",
       "</table>\n",
       "</div>"
      ],
      "text/plain": [
       "   nTrial  iBlock  iTrial  iOccurrence  iState_start  iState_end  analog1  \\\n",
       "0     2.0     1.0     2.0          0.0          23.0        29.0   1133.0   \n",
       "1     2.0     1.0     2.0          1.0          29.0        32.0   1135.0   \n",
       "2     2.0     1.0     2.0          2.0          32.0        33.0    232.0   \n",
       "3     2.0     1.0     2.0          3.0          33.0        33.0    233.0   \n",
       "4     2.0     1.0     2.0          4.0          33.0        29.0   1134.0   \n",
       "\n",
       "   analog2      d2 R      d1 R      d2 L      d1 L  Real_nTrials  \\\n",
       "0   2762.0 -0.212453 -0.446250 -0.642319 -0.930021             2   \n",
       "1   2749.0 -0.787225 -0.360724 -1.015081 -0.687099             2   \n",
       "2     17.0 -0.649697 -0.312795 -0.928825 -0.701440             2   \n",
       "3     18.0 -0.731099 -0.252639 -0.983779 -0.637187             2   \n",
       "4   2748.0 -0.673246 -0.200072 -0.949106 -0.623096             2   \n",
       "\n",
       "   Reward_NoReward_tag  ENL_tag  Cue_to_Sel_tag  Cue_to_Sel_fromPrevTrial_tag  \\\n",
       "0                  NaN      NaN             NaN                           NaN   \n",
       "1                  NaN      2.0             NaN                           NaN   \n",
       "2                  NaN      2.0             NaN                           NaN   \n",
       "3                  NaN      2.0             NaN                           NaN   \n",
       "4                  NaN      2.0             NaN                           NaN   \n",
       "\n",
       "   firstENLp_tag  \n",
       "0            NaN  \n",
       "1            NaN  \n",
       "2            NaN  \n",
       "3            NaN  \n",
       "4            NaN  "
      ]
     },
     "execution_count": 7,
     "metadata": {},
     "output_type": "execute_result"
    }
   ],
   "source": [
    "aligned_behav_photo.head(5)"
   ]
  },
  {
   "cell_type": "markdown",
   "metadata": {},
   "source": [
    "## Add pre and post the tags"
   ]
  },
  {
   "cell_type": "code",
   "execution_count": 8,
   "metadata": {},
   "outputs": [],
   "source": [
    "aligned_behav_photo = Nb_5.tag_Pre_Post_Periods(aligned_behav_photo, 200) "
   ]
  },
  {
   "cell_type": "code",
   "execution_count": null,
   "metadata": {},
   "outputs": [],
   "source": [
    "# def behavPhoto_split(aligned_behav_photo, listofTrial_RIC_LIC):\n",
    "#     total=[]\n",
    "#     for rl in listofTrial_RIC_LIC:\n",
    "#         rl_l=[]\n",
    "#         for ic in rl:\n",
    "#             ic_l=[]\n",
    "#             for list_of_trials_in_the_trial_type in ic:\n",
    "                \n",
    "#                 #print (list_of_trials_in_the_trial_type)\n",
    "#                 periods_dic={}\n",
    "                \n",
    "#                 #iterate over all the flags to the right \n",
    "#                 #after 'Real_nTrials' flags so we create dictionary with all periods. \n",
    "#                 for period in aligned_behav_photo.loc[:, 'Real_nTrials':].columns:\n",
    "#                     period_df = pd.DataFrame() #make an empty data frame for this period\n",
    "#                     for trial_number in list_of_trials_in_the_trial_type:\n",
    "#                         trial_df = aligned_behav_photo[aligned_behav_photo[period]==trial_number]\n",
    "#                         period_df= pd.concat([period_df,trial_df])  \n",
    "#                     periods_dic[period] = period_df \n",
    "#                 ic_l.append(periods_dic)                \n",
    "#             rl_l.append(ic_l)\n",
    "#         total.append(rl_l)\n",
    "#     return total "
   ]
  },
  {
   "cell_type": "markdown",
   "metadata": {},
   "source": [
    "### split the data into a structure of R/L,I/C,TT. "
   ]
  },
  {
   "cell_type": "code",
   "execution_count": 9,
   "metadata": {
    "scrolled": true
   },
   "outputs": [],
   "source": [
    "BehPhoto_RL_IC_tt_periods = Nb_5.behavPhoto_split(aligned_behav_photo, behavior_data_trial_RIC_LIC_combinations_n)"
   ]
  },
  {
   "cell_type": "markdown",
   "metadata": {},
   "source": [
    "# Drop columns so the data frames only have photometry data that corresponds to left and right side. also name change occurs here to make names shorter\n",
    "\n"
   ]
  },
  {
   "cell_type": "code",
   "execution_count": 13,
   "metadata": {},
   "outputs": [],
   "source": [
    "BehPhoto_RL_IC_tt_periods=Nb_5.drop_columns(BehPhoto_RL_IC_tt_periods)"
   ]
  },
  {
   "cell_type": "code",
   "execution_count": null,
   "metadata": {},
   "outputs": [],
   "source": []
  },
  {
   "cell_type": "code",
   "execution_count": 15,
   "metadata": {},
   "outputs": [],
   "source": [
    "PhotoData_perTrial_channels = Nb_5.get_photodata_perTrial_df_firstStep(BehPhoto_RL_IC_tt_periods)"
   ]
  },
  {
   "cell_type": "code",
   "execution_count": 16,
   "metadata": {},
   "outputs": [],
   "source": [
    "for i in range(len(Tags)):\n",
    "    PhotoData_perTrial_channels = Nb_5.get_specificTime_fromPeriod(PhotoData_perTrial_channels, \n",
    "                                                                   Tags[i], Timing[i], Start_or_end[i])"
   ]
  },
  {
   "cell_type": "code",
   "execution_count": null,
   "metadata": {},
   "outputs": [],
   "source": []
  },
  {
   "cell_type": "code",
   "execution_count": 19,
   "metadata": {},
   "outputs": [],
   "source": [
    "list_of_tags= pd.DataFrame(PhotoData_perTrial_channels[0][0][3].keys(),columns=[\"list_of_tags\"])\n",
    "list_of_tags.to_csv(data_dir_output+\"/\"+mouse+\"/\"+data_day+'/'+str(HowManyBack)+\"_Back\"+\"/\"+seq_str[:seq_str.index('6')]+\"_list_of_tags.csv\")"
   ]
  },
  {
   "cell_type": "code",
   "execution_count": 20,
   "metadata": {},
   "outputs": [],
   "source": [
    "root = Path(data_dir_output+\"/\"+mouse+\"/\"+data_day+'/'+str(HowManyBack)+\"_Back\")\n",
    "d = mouse+\"_\"+date+'Notebook_5_a'+'_seq'+seq_str[:seq_str.index('6')]+'.pickle'\n",
    "my_path = root / d \n",
    "my_file = open(my_path, 'wb')\n",
    "my_file = pickle.dump((PhotoData_perTrial_channels),my_file)"
   ]
  },
  {
   "cell_type": "code",
   "execution_count": null,
   "metadata": {},
   "outputs": [],
   "source": []
  }
 ],
 "metadata": {
  "celltoolbar": "Tags",
  "kernelspec": {
   "display_name": "Python 3",
   "language": "python",
   "name": "python3"
  },
  "language_info": {
   "codemirror_mode": {
    "name": "ipython",
    "version": 3
   },
   "file_extension": ".py",
   "mimetype": "text/x-python",
   "name": "python",
   "nbconvert_exporter": "python",
   "pygments_lexer": "ipython3",
   "version": "3.7.3"
  }
 },
 "nbformat": 4,
 "nbformat_minor": 2
}
