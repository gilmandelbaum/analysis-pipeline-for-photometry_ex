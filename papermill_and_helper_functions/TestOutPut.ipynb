{
 "cells": [
  {
   "cell_type": "markdown",
   "metadata": {
    "papermill": {
     "duration": 0.01987,
     "end_time": "2020-06-09T20:39:49.408173",
     "exception": false,
     "start_time": "2020-06-09T20:39:49.388303",
     "status": "completed"
    },
    "tags": []
   },
   "source": [
    "# Notebook 2_a"
   ]
  },
  {
   "cell_type": "code",
   "execution_count": 1,
   "metadata": {
    "execution": {
     "iopub.execute_input": "2020-06-09T20:39:49.456159Z",
     "iopub.status.busy": "2020-06-09T20:39:49.454930Z",
     "iopub.status.idle": "2020-06-09T20:39:50.374475Z",
     "shell.execute_reply": "2020-06-09T20:39:50.373523Z"
    },
    "papermill": {
     "duration": 0.945413,
     "end_time": "2020-06-09T20:39:50.374642",
     "exception": false,
     "start_time": "2020-06-09T20:39:49.429229",
     "status": "completed"
    },
    "tags": []
   },
   "outputs": [],
   "source": [
    "import pickle\n",
    "from pathlib import Path\n",
    "import tdt\n",
    "import pandas as pd \n",
    "import papermill as pm"
   ]
  },
  {
   "cell_type": "code",
   "execution_count": 2,
   "metadata": {
    "execution": {
     "iopub.execute_input": "2020-06-09T20:39:50.422107Z",
     "iopub.status.busy": "2020-06-09T20:39:50.420765Z",
     "iopub.status.idle": "2020-06-09T20:39:50.935571Z",
     "shell.execute_reply": "2020-06-09T20:39:50.934824Z"
    },
    "papermill": {
     "duration": 0.54012,
     "end_time": "2020-06-09T20:39:50.935712",
     "exception": false,
     "start_time": "2020-06-09T20:39:50.395592",
     "status": "completed"
    },
    "tags": []
   },
   "outputs": [],
   "source": [
    "import Notebook_2_helper_functions as Nb_2"
   ]
  },
  {
   "cell_type": "code",
   "execution_count": 3,
   "metadata": {
    "execution": {
     "iopub.execute_input": "2020-06-09T20:39:50.983988Z",
     "iopub.status.busy": "2020-06-09T20:39:50.982958Z",
     "iopub.status.idle": "2020-06-09T20:39:50.986666Z",
     "shell.execute_reply": "2020-06-09T20:39:50.985762Z"
    },
    "papermill": {
     "duration": 0.030551,
     "end_time": "2020-06-09T20:39:50.986938",
     "exception": false,
     "start_time": "2020-06-09T20:39:50.956387",
     "status": "completed"
    },
    "tags": [
     "parameters"
    ]
   },
   "outputs": [],
   "source": [
    "mouse = 'T240'\n",
    "data_day = '2019_09_27__T240'\n",
    "date = '2019_09_27'\n",
    "\n",
    "photo_day = 'T240-145905'\n",
    "\n",
    "HowManyBack=1 \n",
    "\n",
    "data_dir_input = \"/Users/gilmandelbaum/Desktop/T240_mouse\"\n",
    "data_dir_output = \"/Users/gilmandelbaum/Desktop/output/\""
   ]
  },
  {
   "cell_type": "code",
   "execution_count": 4,
   "metadata": {
    "execution": {
     "iopub.execute_input": "2020-06-09T20:39:51.036794Z",
     "iopub.status.busy": "2020-06-09T20:39:51.035819Z",
     "iopub.status.idle": "2020-06-09T20:39:51.039782Z",
     "shell.execute_reply": "2020-06-09T20:39:51.038859Z"
    },
    "papermill": {
     "duration": 0.033991,
     "end_time": "2020-06-09T20:39:51.039920",
     "exception": false,
     "start_time": "2020-06-09T20:39:51.005929",
     "status": "completed"
    },
    "tags": [
     "injected-parameters"
    ]
   },
   "outputs": [],
   "source": [
    "# Parameters\n",
    "data_dir_input = \"/Volumes/GilInVivoPaper.large/2.Photometry_in_str/raw_data_final\"\n",
    "data_dir_output = \"/Volumes/GilInVivoPaper.large/2.Photometry_in_str/2.raw_data_final_output_new_version/\"\n",
    "drop2blocks = \"no\"\n",
    "drop2lastblocks = \"no\"\n",
    "seq_str = \"0a1b2a3a4abcde5a6a7b\"\n",
    "HowManyBack = 1\n",
    "Nb0 = \"a\"\n",
    "Nb1 = \"b\"\n",
    "Nb2 = \"a\"\n",
    "Nb3 = \"a\"\n",
    "Nb4 = [\"a\", \"b\", \"c\", \"d\", \"e\"]\n",
    "Nb5 = \"a\"\n",
    "Nb6 = \"a\"\n",
    "Nb7 = \"b\"\n",
    "Tags = [\n",
    "    \"Reward_NoReward_tag\",\n",
    "    \"ENL_tag\",\n",
    "    \"Cue_to_Sel_tag\",\n",
    "    \"Cue_to_Sel_fromPrevTrial_tag\",\n",
    "    \"firstENLp_tag\",\n",
    "]\n",
    "Timing = [600, 200, 15, 15, 20]\n",
    "Start_or_end = [\"start\", \"end\", \"start\", \"start\", \"start\"]\n",
    "y_axis_list = [\"df_f\", \"z_score\", \"z_score_sliding_window\"]\n",
    "mouse = \"T163\"\n",
    "data_day = \"2018_12_04__T163\"\n",
    "date = \"2018_12_04\"\n",
    "photo_day = \"T163-114628\"\n"
   ]
  },
  {
   "cell_type": "markdown",
   "metadata": {
    "papermill": {
     "duration": 0.020786,
     "end_time": "2020-06-09T20:39:51.081765",
     "exception": false,
     "start_time": "2020-06-09T20:39:51.060979",
     "status": "completed"
    },
    "tags": []
   },
   "source": [
    "# Import behavior related data per state transition"
   ]
  },
  {
   "cell_type": "code",
   "execution_count": 5,
   "metadata": {
    "execution": {
     "iopub.execute_input": "2020-06-09T20:39:51.127452Z",
     "iopub.status.busy": "2020-06-09T20:39:51.126534Z",
     "iopub.status.idle": "2020-06-09T20:39:51.438219Z",
     "shell.execute_reply": "2020-06-09T20:39:51.437465Z"
    },
    "papermill": {
     "duration": 0.337188,
     "end_time": "2020-06-09T20:39:51.438359",
     "exception": false,
     "start_time": "2020-06-09T20:39:51.101171",
     "status": "completed"
    },
    "tags": []
   },
   "outputs": [],
   "source": [
    "behavior_data_states = pd.read_csv(data_dir_input+\"/\"+mouse+\"/\"+data_day+\"/\"+mouse+\"_dataAnalog.csv\")"
   ]
  },
  {
   "cell_type": "code",
   "execution_count": 6,
   "metadata": {
    "execution": {
     "iopub.execute_input": "2020-06-09T20:39:51.485650Z",
     "iopub.status.busy": "2020-06-09T20:39:51.484598Z",
     "iopub.status.idle": "2020-06-09T20:39:51.545443Z",
     "shell.execute_reply": "2020-06-09T20:39:51.544383Z"
    },
    "papermill": {
     "duration": 0.086514,
     "end_time": "2020-06-09T20:39:51.545582",
     "exception": false,
     "start_time": "2020-06-09T20:39:51.459068",
     "status": "completed"
    },
    "scrolled": true,
    "tags": []
   },
   "outputs": [],
   "source": [
    "behavior_data_states = Nb_2.prepare_behavior_data(behavior_data_states)"
   ]
  },
  {
   "cell_type": "markdown",
   "metadata": {
    "papermill": {
     "duration": 0.019929,
     "end_time": "2020-06-09T20:39:51.587410",
     "exception": false,
     "start_time": "2020-06-09T20:39:51.567481",
     "status": "completed"
    },
    "tags": []
   },
   "source": [
    "# Import photometry data\n"
   ]
  },
  {
   "cell_type": "code",
   "execution_count": 7,
   "metadata": {
    "execution": {
     "iopub.execute_input": "2020-06-09T20:39:51.632574Z",
     "iopub.status.busy": "2020-06-09T20:39:51.631701Z"
    },
    "papermill": {
     "duration": 10.210809,
     "end_time": "2020-06-09T20:40:01.817970",
     "exception": false,
     "start_time": "2020-06-09T20:39:51.607161",
     "status": "completed"
    },
    "tags": []
   },
   "outputs": [
    {
     "name": "stdout",
     "output_type": "stream",
     "text": [
      "read from t=0s to t=1301.59s\n"
     ]
    }
   ],
   "source": [
    "photometry_data = tdt.read_block(data_dir_input+\"/\"+mouse+\"/\"+photo_day)"
   ]
  },
  {
   "cell_type": "markdown",
   "metadata": {
    "papermill": {
     "duration": null,
     "end_time": null,
     "exception": null,
     "start_time": null,
     "status": "completed"
    },
    "tags": []
   },
   "source": [
    "# Grab only what is needed from the TDT photo tanks and make a df. "
   ]
  },
  {
   "cell_type": "code",
   "execution_count": null,
   "metadata": {
    "papermill": {
     "duration": null,
     "end_time": null,
     "exception": null,
     "start_time": null,
     "status": "completed"
    },
    "tags": []
   },
   "outputs": [],
   "source": [
    "#The photometry TDT data structure has a lot of info. \n",
    "#We will create 1 data frame that has: \n",
    "# \n",
    "#['d2 R' , 'd1 R', 'd2 L', \"d1 L\", \"toBehSys\", \"fromBehSys\" ]\n",
    "\n",
    "def reading_in_photometryData_all_Channels(data):\n",
    "    photometry_all_channels_d = {}\n",
    "    photometry_all_channels_d[\"d2 R\"]=photometry_data.streams.grn1.data \n",
    "    photometry_all_channels_d[\"d1 R\"]=photometry_data.streams.red1.data \n",
    "    \n",
    "    \n",
    "    photometry_all_channels_d[\"d2 L\"]=photometry_data.streams.grn2.data \n",
    "    photometry_all_channels_d[\"d1 L\"]=photometry_data.streams.red2.data \n",
    "    \n",
    "    \n",
    "    \n",
    "    photometry_all_channels_d[\"toBehSys\"]=photometry_data.streams.toGG.data \n",
    "    photometry_all_channels_d[\"fromBehSys\"]=photometry_data.streams.froG.data \n",
    "    photometry_all_channels= pd.DataFrame(data=photometry_all_channels_d)\n",
    "    \n",
    "    return (photometry_all_channels)"
   ]
  },
  {
   "cell_type": "code",
   "execution_count": null,
   "metadata": {
    "papermill": {
     "duration": null,
     "end_time": null,
     "exception": null,
     "start_time": null,
     "status": "completed"
    },
    "tags": []
   },
   "outputs": [],
   "source": [
    "photometry_all_channels=reading_in_photometryData_all_Channels(photometry_data)"
   ]
  },
  {
   "cell_type": "markdown",
   "metadata": {
    "papermill": {
     "duration": null,
     "end_time": null,
     "exception": null,
     "start_time": null,
     "status": "completed"
    },
    "tags": []
   },
   "source": [
    "# Clean the photometry data (or any neural data)"
   ]
  },
  {
   "cell_type": "code",
   "execution_count": null,
   "metadata": {
    "papermill": {
     "duration": null,
     "end_time": null,
     "exception": null,
     "start_time": null,
     "status": "completed"
    },
    "tags": []
   },
   "outputs": [],
   "source": [
    "photometry_all_channels_clean = Nb_2.handshake_behav_recording_sys(photometry_all_channels)"
   ]
  },
  {
   "cell_type": "markdown",
   "metadata": {
    "papermill": {
     "duration": null,
     "end_time": null,
     "exception": null,
     "start_time": null,
     "status": "completed"
    },
    "tags": []
   },
   "source": [
    "# Clean behavior states data "
   ]
  },
  {
   "cell_type": "code",
   "execution_count": null,
   "metadata": {
    "papermill": {
     "duration": null,
     "end_time": null,
     "exception": null,
     "start_time": null,
     "status": "completed"
    },
    "tags": []
   },
   "outputs": [],
   "source": [
    "behavior_data_states_clean = Nb_2.define_behavior_data_states(behavior_data_states)"
   ]
  },
  {
   "cell_type": "markdown",
   "metadata": {
    "papermill": {
     "duration": null,
     "end_time": null,
     "exception": null,
     "start_time": null,
     "status": "completed"
    },
    "tags": []
   },
   "source": [
    "# pre syncing steps for photometry data (or any neural data) and behavior data "
   ]
  },
  {
   "cell_type": "code",
   "execution_count": null,
   "metadata": {
    "papermill": {
     "duration": null,
     "end_time": null,
     "exception": null,
     "start_time": null,
     "status": "completed"
    },
    "tags": []
   },
   "outputs": [],
   "source": [
    "behavior_data_states_clean_binNumberlist=Nb_2.number_of_bins_beh_data_per_trial(behavior_data_states_clean)"
   ]
  },
  {
   "cell_type": "code",
   "execution_count": null,
   "metadata": {
    "papermill": {
     "duration": null,
     "end_time": null,
     "exception": null,
     "start_time": null,
     "status": "completed"
    },
    "tags": []
   },
   "outputs": [],
   "source": [
    "photometry_all_channels_clean_binNumberlist = Nb_2.number_of_bins_photo_data_per_trial(photometry_all_channels_clean)"
   ]
  },
  {
   "cell_type": "markdown",
   "metadata": {
    "papermill": {
     "duration": null,
     "end_time": null,
     "exception": null,
     "start_time": null,
     "status": "completed"
    },
    "tags": []
   },
   "source": [
    "# Resample the photometry data (or any neural data) and align to 200 hz state transition behavioral data "
   ]
  },
  {
   "cell_type": "code",
   "execution_count": null,
   "metadata": {
    "papermill": {
     "duration": null,
     "end_time": null,
     "exception": null,
     "start_time": null,
     "status": "completed"
    },
    "tags": []
   },
   "outputs": [],
   "source": [
    "aligned_behav_photo = Nb_2.resample_photoData_and_align_photo_with_beh(behavior_data_states_clean_binNumberlist,\n",
    "                                                            behavior_data_states_clean,\n",
    "                                                            photometry_all_channels_clean,\n",
    "                                                            photometry_all_channels_clean_binNumberlist)"
   ]
  },
  {
   "cell_type": "code",
   "execution_count": null,
   "metadata": {
    "papermill": {
     "duration": null,
     "end_time": null,
     "exception": null,
     "start_time": null,
     "status": "completed"
    },
    "scrolled": true,
    "tags": []
   },
   "outputs": [],
   "source": [
    "aligned_behav_photo = Nb_2.tag_real_full_trial(aligned_behav_photo)"
   ]
  },
  {
   "cell_type": "code",
   "execution_count": null,
   "metadata": {
    "papermill": {
     "duration": null,
     "end_time": null,
     "exception": null,
     "start_time": null,
     "status": "completed"
    },
    "tags": []
   },
   "outputs": [],
   "source": [
    "aligned_behav_photo.to_csv(\"aligned_behav_photo.csv\")"
   ]
  },
  {
   "cell_type": "code",
   "execution_count": null,
   "metadata": {
    "papermill": {
     "duration": null,
     "end_time": null,
     "exception": null,
     "start_time": null,
     "status": "completed"
    },
    "tags": []
   },
   "outputs": [],
   "source": [
    "root = Path(data_dir_output+\"/\"+mouse+\"/\"+data_day+'/'+str(HowManyBack)+\"_Back\")\n",
    "d = mouse+\"_\"+date+\"Notebook_2_a.pickle\"\n",
    "my_path = root / d \n",
    "my_file = open(my_path, 'wb')\n",
    "my_file = pickle.dump(aligned_behav_photo,my_file)"
   ]
  },
  {
   "cell_type": "code",
   "execution_count": null,
   "metadata": {
    "papermill": {
     "duration": null,
     "end_time": null,
     "exception": null,
     "start_time": null,
     "status": "completed"
    },
    "tags": []
   },
   "outputs": [],
   "source": []
  }
 ],
 "metadata": {
  "celltoolbar": "Tags",
  "kernelspec": {
   "display_name": "Python 3",
   "language": "python",
   "name": "python3"
  },
  "language_info": {
   "codemirror_mode": {
    "name": "ipython",
    "version": 3
   },
   "file_extension": ".py",
   "mimetype": "text/x-python",
   "name": "python",
   "nbconvert_exporter": "python",
   "pygments_lexer": "ipython3",
   "version": "3.7.3"
  },
  "papermill": {
   "duration": 13.725699,
   "end_time": "2020-06-09T20:40:01.961421",
   "environment_variables": {},
   "exception": null,
   "input_path": "/Users/gilmandelbaum/github/analysis-pipeline-for-photometry_ex/Nb_2x_combine_photometry_behav_data/Notebook_2_a.ipynb",
   "output_path": "TestOutPut.ipynb",
   "parameters": {
    "HowManyBack": 1,
    "Nb0": "a",
    "Nb1": "b",
    "Nb2": "a",
    "Nb3": "a",
    "Nb4": [
     "a",
     "b",
     "c",
     "d",
     "e"
    ],
    "Nb5": "a",
    "Nb6": "a",
    "Nb7": "b",
    "Start_or_end": [
     "start",
     "end",
     "start",
     "start",
     "start"
    ],
    "Tags": [
     "Reward_NoReward_tag",
     "ENL_tag",
     "Cue_to_Sel_tag",
     "Cue_to_Sel_fromPrevTrial_tag",
     "firstENLp_tag"
    ],
    "Timing": [
     600,
     200,
     15,
     15,
     20
    ],
    "data_day": "2018_12_04__T163",
    "data_dir_input": "/Volumes/GilInVivoPaper.large/2.Photometry_in_str/raw_data_final",
    "data_dir_output": "/Volumes/GilInVivoPaper.large/2.Photometry_in_str/2.raw_data_final_output_new_version/",
    "date": "2018_12_04",
    "drop2blocks": "no",
    "drop2lastblocks": "no",
    "mouse": "T163",
    "photo_day": "T163-114628",
    "seq_str": "0a1b2a3a4abcde5a6a7b",
    "y_axis_list": [
     "df_f",
     "z_score",
     "z_score_sliding_window"
    ]
   },
   "start_time": "2020-06-09T20:39:48.235722",
   "version": "2.1.1"
  }
 },
 "nbformat": 4,
 "nbformat_minor": 2
}