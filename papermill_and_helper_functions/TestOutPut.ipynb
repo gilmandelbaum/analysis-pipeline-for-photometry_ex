{
 "cells": [
  {
   "cell_type": "markdown",
   "metadata": {
    "papermill": {
     "duration": 0.012317,
     "end_time": "2020-11-02T19:29:39.574767",
     "exception": false,
     "start_time": "2020-11-02T19:29:39.562450",
     "status": "completed"
    },
    "tags": []
   },
   "source": [
    "# Split_5a  \n"
   ]
  },
  {
   "cell_type": "code",
   "execution_count": 1,
   "metadata": {
    "execution": {
     "iopub.execute_input": "2020-11-02T19:29:39.597582Z",
     "iopub.status.busy": "2020-11-02T19:29:39.597006Z",
     "iopub.status.idle": "2020-11-02T19:29:40.263210Z",
     "shell.execute_reply": "2020-11-02T19:29:40.262674Z"
    },
    "papermill": {
     "duration": 0.678512,
     "end_time": "2020-11-02T19:29:40.263300",
     "exception": false,
     "start_time": "2020-11-02T19:29:39.584788",
     "status": "completed"
    },
    "tags": []
   },
   "outputs": [],
   "source": [
    "import pickle\n",
    "import pandas as pd \n",
    "import numpy  as np \n",
    "import papermill as pm\n",
    "from pathlib import Path"
   ]
  },
  {
   "cell_type": "code",
   "execution_count": 2,
   "metadata": {
    "execution": {
     "iopub.execute_input": "2020-11-02T19:29:40.284541Z",
     "iopub.status.busy": "2020-11-02T19:29:40.283959Z",
     "iopub.status.idle": "2020-11-02T19:29:40.287039Z",
     "shell.execute_reply": "2020-11-02T19:29:40.287608Z"
    },
    "papermill": {
     "duration": 0.015353,
     "end_time": "2020-11-02T19:29:40.287727",
     "exception": false,
     "start_time": "2020-11-02T19:29:40.272374",
     "status": "completed"
    },
    "tags": []
   },
   "outputs": [],
   "source": [
    "import Notebook_5_helper_functions as Nb_5"
   ]
  },
  {
   "cell_type": "code",
   "execution_count": 3,
   "metadata": {
    "execution": {
     "iopub.execute_input": "2020-11-02T19:29:40.309655Z",
     "iopub.status.busy": "2020-11-02T19:29:40.309145Z",
     "iopub.status.idle": "2020-11-02T19:29:40.311527Z",
     "shell.execute_reply": "2020-11-02T19:29:40.311013Z"
    },
    "papermill": {
     "duration": 0.014984,
     "end_time": "2020-11-02T19:29:40.311606",
     "exception": false,
     "start_time": "2020-11-02T19:29:40.296622",
     "status": "completed"
    },
    "tags": [
     "parameters"
    ]
   },
   "outputs": [],
   "source": [
    "mouse = 'T240'\n",
    "data_day = '2019_09_27__T240'\n",
    "date = '2019_09_27'\n",
    "\n",
    "HowManyBack = 1\n",
    "\n",
    "Nb1= 'b'\n",
    "Nb3='b'\n",
    "\n",
    "data_dir_output = \"/Users/gilmandelbaum/Desktop/output/\"\n",
    "\n",
    "Tags = ['Reward_NoReward_tag', 'ENL_tag', 'Cue_to_Sel_tag', \"Cue_to_Sel_fromPrevTrial_tag\",\"firstENLp_tag\"]  \n",
    "Timing = [600,200,15,15,20]\n",
    "Start_or_end = ['start','end','start','start','start']\n",
    "\n",
    "seq_str = \"0a1b2a3b4ab5a6abc10a\""
   ]
  },
  {
   "cell_type": "code",
   "execution_count": 4,
   "metadata": {
    "execution": {
     "iopub.execute_input": "2020-11-02T19:29:40.333463Z",
     "iopub.status.busy": "2020-11-02T19:29:40.332964Z",
     "iopub.status.idle": "2020-11-02T19:29:40.334736Z",
     "shell.execute_reply": "2020-11-02T19:29:40.335206Z"
    },
    "papermill": {
     "duration": 0.015447,
     "end_time": "2020-11-02T19:29:40.335302",
     "exception": false,
     "start_time": "2020-11-02T19:29:40.319855",
     "status": "completed"
    },
    "tags": [
     "injected-parameters"
    ]
   },
   "outputs": [],
   "source": [
    "# Parameters\n",
    "data_dir_input = (\n",
    "    \"/Volumes/GilInVivoPaper.large/2.Photometry_in_str/0.data_Sets/1.lateral_medial_6/\"\n",
    ")\n",
    "data_dir_output = (\n",
    "    \"/Volumes/GilInVivoPaper.large/2.Photometry_in_str/1.lateral_medial_6_analysis_1/\"\n",
    ")\n",
    "drop2blocks = \"yes\"\n",
    "drop2lastblocks = \"yes\"\n",
    "seq_str = \"0a1b2a3l4abcd5a6a7a\"\n",
    "HowManyBack = 1\n",
    "Nb0 = \"a\"\n",
    "Nb1 = \"b\"\n",
    "Nb2 = \"a\"\n",
    "Nb3 = \"l\"\n",
    "Nb4 = [\"a\", \"b\", \"c\", \"d\"]\n",
    "Nb5 = \"a\"\n",
    "Nb6 = \"a\"\n",
    "Nb7 = \"a\"\n",
    "Tags = [\n",
    "    \"Reward_NoReward_tag\",\n",
    "    \"ENL_tag\",\n",
    "    \"Cue_to_Sel_tag\",\n",
    "    \"Cue_to_Sel_fromPrevTrial_tag\",\n",
    "]\n",
    "Timing = [600, 200, 15, 15]\n",
    "Start_or_end = [\"start\", \"end\", \"start\", \"start\"]\n",
    "y_axis_list = [\"df_f\", \"z_score\", \"z_score_sliding_window\"]\n",
    "mouse = \"T169\"\n",
    "data_day = \"2019_02_25__T169\"\n",
    "date = \"2019_02_25\"\n",
    "photo_day = \"T169-145248\"\n"
   ]
  },
  {
   "cell_type": "code",
   "execution_count": 5,
   "metadata": {
    "execution": {
     "iopub.execute_input": "2020-11-02T19:29:40.355381Z",
     "iopub.status.busy": "2020-11-02T19:29:40.354757Z",
     "iopub.status.idle": "2020-11-02T19:29:40.359817Z",
     "shell.execute_reply": "2020-11-02T19:29:40.359290Z"
    },
    "papermill": {
     "duration": 0.016891,
     "end_time": "2020-11-02T19:29:40.359898",
     "exception": false,
     "start_time": "2020-11-02T19:29:40.343007",
     "status": "completed"
    },
    "scrolled": true,
    "tags": []
   },
   "outputs": [],
   "source": [
    "root = Path(data_dir_output+\"/\"+mouse+\"/\"+data_day+'/'+str(HowManyBack)+\"_Back\")\n",
    "d = mouse+\"_\"+date+\"Notebook_1_\"+Nb1[-1]+'.pickle'\n",
    "my_path = root / d \n",
    "# open a file, where you stored the pickled data\n",
    "fileToOpen = open(my_path, 'rb')\n",
    "# dump information to that file\n",
    "behavior_data_trial_RIC_LIC_combinations_n = pickle.load(fileToOpen)"
   ]
  },
  {
   "cell_type": "code",
   "execution_count": 6,
   "metadata": {
    "execution": {
     "iopub.execute_input": "2020-11-02T19:29:40.382746Z",
     "iopub.status.busy": "2020-11-02T19:29:40.381824Z",
     "iopub.status.idle": "2020-11-02T19:29:40.422829Z",
     "shell.execute_reply": "2020-11-02T19:29:40.422199Z"
    },
    "papermill": {
     "duration": 0.054694,
     "end_time": "2020-11-02T19:29:40.422922",
     "exception": false,
     "start_time": "2020-11-02T19:29:40.368228",
     "status": "completed"
    },
    "tags": []
   },
   "outputs": [],
   "source": [
    "root = Path(data_dir_output+\"/\"+mouse+\"/\"+data_day+'/'+str(HowManyBack)+\"_Back\")\n",
    "d = mouse+\"_\"+date+\"Notebook_3_\"+Nb3+'_seq'+seq_str[seq_str.index(\"2\"):seq_str.index(\"4\")]+'.pickle'\n",
    "my_path = root / d \n",
    "# open a file, where you stored the pickled data\n",
    "fileToOpen = open(my_path, 'rb')\n",
    "# dump information to that file\n",
    "processed_data = pickle.load(fileToOpen)"
   ]
  },
  {
   "cell_type": "code",
   "execution_count": 7,
   "metadata": {
    "execution": {
     "iopub.execute_input": "2020-11-02T19:29:40.449099Z",
     "iopub.status.busy": "2020-11-02T19:29:40.448356Z",
     "iopub.status.idle": "2020-11-02T19:29:40.501961Z",
     "shell.execute_reply": "2020-11-02T19:29:40.501467Z"
    },
    "papermill": {
     "duration": 0.067717,
     "end_time": "2020-11-02T19:29:40.502038",
     "exception": false,
     "start_time": "2020-11-02T19:29:40.434321",
     "status": "completed"
    },
    "tags": []
   },
   "outputs": [],
   "source": [
    "aligned_behav_photo = Nb_5.combine_processed_data_and_tags (Tags,processed_data,root)"
   ]
  },
  {
   "cell_type": "code",
   "execution_count": 8,
   "metadata": {
    "execution": {
     "iopub.execute_input": "2020-11-02T19:29:40.527075Z",
     "iopub.status.busy": "2020-11-02T19:29:40.526602Z",
     "iopub.status.idle": "2020-11-02T19:29:46.150644Z",
     "shell.execute_reply": "2020-11-02T19:29:46.150172Z"
    },
    "papermill": {
     "duration": 5.64069,
     "end_time": "2020-11-02T19:29:46.150716",
     "exception": false,
     "start_time": "2020-11-02T19:29:40.510026",
     "status": "completed"
    },
    "tags": []
   },
   "outputs": [],
   "source": [
    "aligned_behav_photo = Nb_5.tag_Pre_Post_Periods(aligned_behav_photo, 200) "
   ]
  },
  {
   "cell_type": "code",
   "execution_count": null,
   "metadata": {
    "papermill": {
     "duration": 0.008541,
     "end_time": "2020-11-02T19:29:46.168514",
     "exception": false,
     "start_time": "2020-11-02T19:29:46.159973",
     "status": "completed"
    },
    "tags": []
   },
   "outputs": [],
   "source": []
  },
  {
   "cell_type": "code",
   "execution_count": 9,
   "metadata": {
    "execution": {
     "iopub.execute_input": "2020-11-02T19:29:46.201051Z",
     "iopub.status.busy": "2020-11-02T19:29:46.200584Z",
     "iopub.status.idle": "2020-11-02T19:29:49.650666Z",
     "shell.execute_reply": "2020-11-02T19:29:49.650142Z"
    },
    "papermill": {
     "duration": 3.473585,
     "end_time": "2020-11-02T19:29:49.650746",
     "exception": false,
     "start_time": "2020-11-02T19:29:46.177161",
     "status": "completed"
    },
    "tags": []
   },
   "outputs": [],
   "source": [
    "BehPhoto_RL_IC_tt_periods = Nb_5.behavPhoto_split(aligned_behav_photo, behavior_data_trial_RIC_LIC_combinations_n)"
   ]
  },
  {
   "cell_type": "markdown",
   "metadata": {
    "papermill": {
     "duration": 0.01041,
     "end_time": "2020-11-02T19:29:49.670925",
     "exception": false,
     "start_time": "2020-11-02T19:29:49.660515",
     "status": "completed"
    },
    "tags": []
   },
   "source": [
    "# Drop columns so the data frames only have photometry data that corresponds to left and right side. also name change occurs here to make names shorter\n",
    "\n"
   ]
  },
  {
   "cell_type": "code",
   "execution_count": 10,
   "metadata": {
    "execution": {
     "iopub.execute_input": "2020-11-02T19:29:49.820364Z",
     "iopub.status.busy": "2020-11-02T19:29:49.754581Z",
     "iopub.status.idle": "2020-11-02T19:29:50.128919Z",
     "shell.execute_reply": "2020-11-02T19:29:50.129520Z"
    },
    "papermill": {
     "duration": 0.446525,
     "end_time": "2020-11-02T19:29:50.129642",
     "exception": false,
     "start_time": "2020-11-02T19:29:49.683117",
     "status": "completed"
    },
    "tags": []
   },
   "outputs": [],
   "source": [
    "BehPhoto_RL_IC_tt_periods=Nb_5.drop_columns(BehPhoto_RL_IC_tt_periods)"
   ]
  },
  {
   "cell_type": "code",
   "execution_count": null,
   "metadata": {
    "papermill": {
     "duration": null,
     "end_time": null,
     "exception": false,
     "start_time": "2020-11-02T19:29:50.141313",
     "status": "running"
    },
    "tags": []
   },
   "outputs": [],
   "source": [
    "PhotoData_perTrial_channels = Nb_5.get_photodata_perTrial_df_firstStep(BehPhoto_RL_IC_tt_periods)"
   ]
  },
  {
   "cell_type": "code",
   "execution_count": null,
   "metadata": {
    "papermill": {
     "duration": null,
     "end_time": null,
     "exception": null,
     "start_time": null,
     "status": "pending"
    },
    "tags": []
   },
   "outputs": [],
   "source": [
    "for i in range(len(Tags)):\n",
    "    PhotoData_perTrial_channels = Nb_5.get_specificTime_fromPeriod(PhotoData_perTrial_channels, \n",
    "                                                                   Tags[i], Timing[i], Start_or_end[i])"
   ]
  },
  {
   "cell_type": "code",
   "execution_count": null,
   "metadata": {
    "papermill": {
     "duration": null,
     "end_time": null,
     "exception": null,
     "start_time": null,
     "status": "pending"
    },
    "tags": []
   },
   "outputs": [],
   "source": [
    "list_of_tags= pd.DataFrame(PhotoData_perTrial_channels[0][0][3].keys(),columns=[\"list_of_tags\"])\n",
    "list_of_tags.to_csv(data_dir_output+\"/\"+mouse+\"/\"+data_day+'/'+str(HowManyBack)+\"_Back\"+\"/\"+seq_str[:seq_str.index('6')]+\"_list_of_tags.csv\")"
   ]
  },
  {
   "cell_type": "code",
   "execution_count": null,
   "metadata": {
    "papermill": {
     "duration": null,
     "end_time": null,
     "exception": null,
     "start_time": null,
     "status": "pending"
    },
    "tags": []
   },
   "outputs": [],
   "source": [
    "root = Path(data_dir_output+\"/\"+mouse+\"/\"+data_day+'/'+str(HowManyBack)+\"_Back\")\n",
    "d = mouse+\"_\"+date+'Notebook_5_a'+'_seq'+seq_str[:seq_str.index('6')]+'.pickle'\n",
    "my_path = root / d \n",
    "my_file = open(my_path, 'wb')\n",
    "my_file = pickle.dump((PhotoData_perTrial_channels),my_file)"
   ]
  },
  {
   "cell_type": "code",
   "execution_count": null,
   "metadata": {
    "papermill": {
     "duration": null,
     "end_time": null,
     "exception": null,
     "start_time": null,
     "status": "pending"
    },
    "tags": []
   },
   "outputs": [],
   "source": []
  }
 ],
 "metadata": {
  "celltoolbar": "Tags",
  "kernelspec": {
   "display_name": "Python 3",
   "language": "python",
   "name": "python3"
  },
  "language_info": {
   "codemirror_mode": {
    "name": "ipython",
    "version": 3
   },
   "file_extension": ".py",
   "mimetype": "text/x-python",
   "name": "python",
   "nbconvert_exporter": "python",
   "pygments_lexer": "ipython3",
   "version": "3.7.3"
  },
  "papermill": {
   "duration": null,
   "end_time": null,
   "environment_variables": {},
   "exception": null,
   "input_path": "/Users/gilmandelbaum/github/analysis-pipeline-for-photometry_ex/Nb_5x_form_one_structure_with_all_data/Notebook_5_a.ipynb",
   "output_path": "TestOutPut.ipynb",
   "parameters": {
    "HowManyBack": 1,
    "Nb0": "a",
    "Nb1": "b",
    "Nb2": "a",
    "Nb3": "l",
    "Nb4": [
     "a",
     "b",
     "c",
     "d"
    ],
    "Nb5": "a",
    "Nb6": "a",
    "Nb7": "a",
    "Start_or_end": [
     "start",
     "end",
     "start",
     "start"
    ],
    "Tags": [
     "Reward_NoReward_tag",
     "ENL_tag",
     "Cue_to_Sel_tag",
     "Cue_to_Sel_fromPrevTrial_tag"
    ],
    "Timing": [
     600,
     200,
     15,
     15
    ],
    "data_day": "2019_02_25__T169",
    "data_dir_input": "/Volumes/GilInVivoPaper.large/2.Photometry_in_str/0.data_Sets/1.lateral_medial_6/",
    "data_dir_output": "/Volumes/GilInVivoPaper.large/2.Photometry_in_str/1.lateral_medial_6_analysis_1/",
    "date": "2019_02_25",
    "drop2blocks": "yes",
    "drop2lastblocks": "yes",
    "mouse": "T169",
    "photo_day": "T169-145248",
    "seq_str": "0a1b2a3l4abcd5a6a7a",
    "y_axis_list": [
     "df_f",
     "z_score",
     "z_score_sliding_window"
    ]
   },
   "start_time": "2020-11-02T19:29:38.710803",
   "version": "2.1.1"
  }
 },
 "nbformat": 4,
 "nbformat_minor": 2
}