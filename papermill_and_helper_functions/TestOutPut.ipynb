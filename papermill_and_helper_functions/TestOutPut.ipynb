{
 "cells": [
  {
   "cell_type": "markdown",
   "metadata": {
    "tags": [
     "papermill-error-cell-tag"
    ]
   },
   "source": [
    "<span style=\"color:red; font-family:Helvetica Neue, Helvetica, Arial, sans-serif; font-size:2em;\">An Exception was encountered at '<a href=\"#papermill-error-cell\">In [9]</a>'.</span>"
   ]
  },
  {
   "cell_type": "markdown",
   "metadata": {
    "papermill": {
     "duration": 0.010496,
     "end_time": "2020-07-03T17:00:18.998978",
     "exception": false,
     "start_time": "2020-07-03T17:00:18.988482",
     "status": "completed"
    },
    "tags": []
   },
   "source": [
    "# Notebook 6: combine periods 2"
   ]
  },
  {
   "cell_type": "code",
   "execution_count": 1,
   "metadata": {
    "execution": {
     "iopub.execute_input": "2020-07-03T17:00:19.022881Z",
     "iopub.status.busy": "2020-07-03T17:00:19.022130Z",
     "iopub.status.idle": "2020-07-03T17:00:19.568298Z",
     "shell.execute_reply": "2020-07-03T17:00:19.567791Z"
    },
    "papermill": {
     "duration": 0.559363,
     "end_time": "2020-07-03T17:00:19.568380",
     "exception": false,
     "start_time": "2020-07-03T17:00:19.009017",
     "status": "completed"
    },
    "tags": []
   },
   "outputs": [],
   "source": [
    "import pickle\n",
    "import pandas as pd \n",
    "import numpy  as np \n",
    "import papermill as pm\n",
    "from pathlib import Path"
   ]
  },
  {
   "cell_type": "code",
   "execution_count": 2,
   "metadata": {
    "execution": {
     "iopub.execute_input": "2020-07-03T17:00:19.586956Z",
     "iopub.status.busy": "2020-07-03T17:00:19.586385Z",
     "iopub.status.idle": "2020-07-03T17:00:19.590197Z",
     "shell.execute_reply": "2020-07-03T17:00:19.589561Z"
    },
    "papermill": {
     "duration": 0.014556,
     "end_time": "2020-07-03T17:00:19.590303",
     "exception": false,
     "start_time": "2020-07-03T17:00:19.575747",
     "status": "completed"
    },
    "tags": []
   },
   "outputs": [],
   "source": [
    "import Notebook_6_helper_functions as Nb_6"
   ]
  },
  {
   "cell_type": "code",
   "execution_count": 3,
   "metadata": {
    "execution": {
     "iopub.execute_input": "2020-07-03T17:00:19.609200Z",
     "iopub.status.busy": "2020-07-03T17:00:19.608324Z",
     "iopub.status.idle": "2020-07-03T17:00:19.610927Z",
     "shell.execute_reply": "2020-07-03T17:00:19.610325Z"
    },
    "papermill": {
     "duration": 0.012857,
     "end_time": "2020-07-03T17:00:19.611016",
     "exception": false,
     "start_time": "2020-07-03T17:00:19.598159",
     "status": "completed"
    },
    "tags": []
   },
   "outputs": [],
   "source": [
    "#CHANGE for a different notebook\n",
    "#combination_periods_1_str = \"s\"\n",
    "\n",
    "\n",
    "#CHANGE for different notebook: \n",
    "Nb_name= 'Notebook_6_b'\n",
    "prev_version_6 = \"a\""
   ]
  },
  {
   "cell_type": "code",
   "execution_count": 4,
   "metadata": {
    "execution": {
     "iopub.execute_input": "2020-07-03T17:00:19.631187Z",
     "iopub.status.busy": "2020-07-03T17:00:19.630641Z",
     "iopub.status.idle": "2020-07-03T17:00:19.633147Z",
     "shell.execute_reply": "2020-07-03T17:00:19.632583Z"
    },
    "papermill": {
     "duration": 0.014475,
     "end_time": "2020-07-03T17:00:19.633230",
     "exception": false,
     "start_time": "2020-07-03T17:00:19.618755",
     "status": "completed"
    },
    "tags": [
     "parameters"
    ]
   },
   "outputs": [],
   "source": [
    "mouse = 'T240'\n",
    "data_day = '2019_09_27__T240'\n",
    "date = '2019_09_27'\n",
    "\n",
    "HowManyBack = 1\n",
    "Nb5='a'\n",
    "\n",
    "seq_str= '0a1b2a3b4abcde5a6ab7a'\n",
    "\n",
    "data_dir_output = \"/Users/gilmandelbaum/Desktop/outPut\""
   ]
  },
  {
   "cell_type": "code",
   "execution_count": 5,
   "metadata": {
    "execution": {
     "iopub.execute_input": "2020-07-03T17:00:19.654879Z",
     "iopub.status.busy": "2020-07-03T17:00:19.654306Z",
     "iopub.status.idle": "2020-07-03T17:00:19.656639Z",
     "shell.execute_reply": "2020-07-03T17:00:19.656102Z"
    },
    "papermill": {
     "duration": 0.016261,
     "end_time": "2020-07-03T17:00:19.656721",
     "exception": false,
     "start_time": "2020-07-03T17:00:19.640460",
     "status": "completed"
    },
    "tags": [
     "injected-parameters"
    ]
   },
   "outputs": [],
   "source": [
    "# Parameters\n",
    "data_dir_input = \"/Volumes/GilInVivoPaper.large/2.Photometry_in_str/1.dual_color_photo_full_data_set/\"\n",
    "data_dir_output = \"/Volumes/GilInVivoPaper.large/2.Photometry_in_str/2.dual_color_photo_full_data_set_analysis/\"\n",
    "drop2blocks = \"yes\"\n",
    "drop2lastblocks = \"yes\"\n",
    "seq_str = \"0a1c2a3a4abcde5a6abc7a\"\n",
    "HowManyBack = 1\n",
    "Nb0 = \"a\"\n",
    "Nb1 = \"c\"\n",
    "Nb2 = \"a\"\n",
    "Nb3 = \"a\"\n",
    "Nb4 = [\"a\", \"b\", \"c\", \"d\", \"e\"]\n",
    "Nb5 = \"a\"\n",
    "Nb6 = [\"a\", \"b\", \"c\"]\n",
    "Nb7 = \"a\"\n",
    "Tags = [\n",
    "    \"Reward_NoReward_tag\",\n",
    "    \"ENL_tag\",\n",
    "    \"Cue_to_Sel_tag\",\n",
    "    \"Cue_to_Sel_fromPrevTrial_tag\",\n",
    "    \"firstENLp_tag\",\n",
    "]\n",
    "Timing = [600, 200, 15, 15, 100]\n",
    "Start_or_end = [\"start\", \"end\", \"start\", \"start\", \"start\"]\n",
    "y_axis_list = [\"df_f\", \"z_score\", \"z_score_sliding_window\"]\n",
    "mouse = \"T163\"\n",
    "data_day = \"2018_11_27__T163\"\n",
    "date = \"2018_11_27\"\n",
    "photo_day = \"T163-144959\"\n"
   ]
  },
  {
   "cell_type": "code",
   "execution_count": 6,
   "metadata": {
    "execution": {
     "iopub.execute_input": "2020-07-03T17:00:19.673587Z",
     "iopub.status.busy": "2020-07-03T17:00:19.673122Z",
     "iopub.status.idle": "2020-07-03T17:00:19.675119Z",
     "shell.execute_reply": "2020-07-03T17:00:19.675625Z"
    },
    "papermill": {
     "duration": 0.011849,
     "end_time": "2020-07-03T17:00:19.675728",
     "exception": false,
     "start_time": "2020-07-03T17:00:19.663879",
     "status": "completed"
    },
    "tags": []
   },
   "outputs": [],
   "source": [
    "version_without_7 = seq_str[0:seq_str.index(\"7\")]\n",
    "#print (version_without_7)"
   ]
  },
  {
   "cell_type": "code",
   "execution_count": 7,
   "metadata": {
    "execution": {
     "iopub.execute_input": "2020-07-03T17:00:19.695407Z",
     "iopub.status.busy": "2020-07-03T17:00:19.694824Z",
     "iopub.status.idle": "2020-07-03T17:00:19.697430Z",
     "shell.execute_reply": "2020-07-03T17:00:19.696838Z"
    },
    "papermill": {
     "duration": 0.013391,
     "end_time": "2020-07-03T17:00:19.697520",
     "exception": false,
     "start_time": "2020-07-03T17:00:19.684129",
     "status": "completed"
    },
    "tags": []
   },
   "outputs": [],
   "source": [
    "sequence_till_now = version_without_7[0:-1]\n",
    "#print (sequence_till_now)"
   ]
  },
  {
   "cell_type": "code",
   "execution_count": 8,
   "metadata": {
    "execution": {
     "iopub.execute_input": "2020-07-03T17:00:19.715739Z",
     "iopub.status.busy": "2020-07-03T17:00:19.715047Z",
     "iopub.status.idle": "2020-07-03T17:00:19.717683Z",
     "shell.execute_reply": "2020-07-03T17:00:19.717122Z"
    },
    "papermill": {
     "duration": 0.012794,
     "end_time": "2020-07-03T17:00:19.717768",
     "exception": false,
     "start_time": "2020-07-03T17:00:19.704974",
     "status": "completed"
    },
    "tags": []
   },
   "outputs": [],
   "source": [
    "# Nb_version= Nb_name[-1]\n",
    "# print (Nb_version)\n",
    "# version_seq = seq_str[seq_str.index('6'):]\n",
    "# print (version_seq)\n",
    "# prev_seq = seq_str[:seq_str.index('6')]\n",
    "# print (prev_seq)\n",
    "\n",
    "\n",
    "# Notebook_sequence_name = prev_seq+version_seq[0:version_seq.index(Nb_version)+1]\n",
    "# print (Notebook_sequence_name)\n",
    "# sequence_till_now = Notebook_sequence_name[0:-1]\n",
    "# print (sequence_till_now)\n",
    "# versions_in_seq = sequence_till_now[seq_str.index('6')+1:seq_str.index('7')]\n",
    "# print (versions_in_seq)\n",
    "# prev_version_6 = sequence_till_now[-1]\n",
    "# print (prev_version_6)"
   ]
  },
  {
   "cell_type": "markdown",
   "metadata": {
    "tags": [
     "papermill-error-cell-tag"
    ]
   },
   "source": [
    "<span id=\"papermill-error-cell\" style=\"color:red; font-family:Helvetica Neue, Helvetica, Arial, sans-serif; font-size:2em;\">Execution using papermill encountered an exception here and stopped:</span>"
   ]
  },
  {
   "cell_type": "code",
   "execution_count": 9,
   "metadata": {
    "execution": {
     "iopub.execute_input": "2020-07-03T17:00:19.737610Z",
     "iopub.status.busy": "2020-07-03T17:00:19.737079Z",
     "iopub.status.idle": "2020-07-03T17:00:19.907095Z",
     "shell.execute_reply": "2020-07-03T17:00:19.905715Z"
    },
    "papermill": {
     "duration": 0.182043,
     "end_time": "2020-07-03T17:00:19.907249",
     "exception": true,
     "start_time": "2020-07-03T17:00:19.725206",
     "status": "failed"
    },
    "tags": []
   },
   "outputs": [
    {
     "ename": "FileNotFoundError",
     "evalue": "[Errno 2] No such file or directory: '/Volumes/GilInVivoPaper.large/2.Photometry_in_str/2.dual_color_photo_full_data_set_analysis/T163/2018_11_27__T163/1_Back/T163_2018_11_27Notebook_6_a_seq0a1c2a3a4abcde5a6ab.pickle'",
     "output_type": "error",
     "traceback": [
      "\u001b[0;31m---------------------------------------------------------------------------\u001b[0m",
      "\u001b[0;31mFileNotFoundError\u001b[0m                         Traceback (most recent call last)",
      "\u001b[0;32m<ipython-input-9-3cf58abc6d50>\u001b[0m in \u001b[0;36m<module>\u001b[0;34m\u001b[0m\n\u001b[1;32m     12\u001b[0m \u001b[0md\u001b[0m \u001b[0;34m=\u001b[0m \u001b[0mmouse\u001b[0m\u001b[0;34m+\u001b[0m\u001b[0;34m\"_\"\u001b[0m\u001b[0;34m+\u001b[0m\u001b[0mdate\u001b[0m\u001b[0;34m+\u001b[0m\u001b[0;34m\"Notebook_6_\"\u001b[0m\u001b[0;34m+\u001b[0m\u001b[0mprev_version_6\u001b[0m\u001b[0;34m+\u001b[0m\u001b[0;34m'_seq'\u001b[0m\u001b[0;34m+\u001b[0m\u001b[0msequence_till_now\u001b[0m\u001b[0;34m+\u001b[0m\u001b[0;34m'.pickle'\u001b[0m\u001b[0;34m\u001b[0m\u001b[0;34m\u001b[0m\u001b[0m\n\u001b[1;32m     13\u001b[0m \u001b[0mmy_path\u001b[0m \u001b[0;34m=\u001b[0m \u001b[0mroot\u001b[0m \u001b[0;34m/\u001b[0m \u001b[0md\u001b[0m\u001b[0;34m\u001b[0m\u001b[0;34m\u001b[0m\u001b[0m\n\u001b[0;32m---> 14\u001b[0;31m \u001b[0mfileToOpen\u001b[0m \u001b[0;34m=\u001b[0m \u001b[0mopen\u001b[0m\u001b[0;34m(\u001b[0m\u001b[0mmy_path\u001b[0m\u001b[0;34m,\u001b[0m \u001b[0;34m'rb'\u001b[0m\u001b[0;34m)\u001b[0m\u001b[0;34m\u001b[0m\u001b[0;34m\u001b[0m\u001b[0m\n\u001b[0m\u001b[1;32m     15\u001b[0m \u001b[0mPhotoData_perTrial_channels\u001b[0m \u001b[0;34m=\u001b[0m \u001b[0mpickle\u001b[0m\u001b[0;34m.\u001b[0m\u001b[0mload\u001b[0m\u001b[0;34m(\u001b[0m\u001b[0mfileToOpen\u001b[0m\u001b[0;34m)\u001b[0m\u001b[0;34m\u001b[0m\u001b[0;34m\u001b[0m\u001b[0m\n\u001b[1;32m     16\u001b[0m \u001b[0mprint\u001b[0m \u001b[0;34m(\u001b[0m\u001b[0msequence_till_now\u001b[0m\u001b[0;34m)\u001b[0m\u001b[0;34m\u001b[0m\u001b[0;34m\u001b[0m\u001b[0m\n",
      "\u001b[0;31mFileNotFoundError\u001b[0m: [Errno 2] No such file or directory: '/Volumes/GilInVivoPaper.large/2.Photometry_in_str/2.dual_color_photo_full_data_set_analysis/T163/2018_11_27__T163/1_Back/T163_2018_11_27Notebook_6_a_seq0a1c2a3a4abcde5a6ab.pickle'"
     ]
    }
   ],
   "source": [
    "# if versions_in_seq.index(Nb_version) == 0:\n",
    "#     root = Path(data_dir_output+\"/\"+mouse+\"/\"+data_day+'/'+str(HowManyBack)+\"_Back\")\n",
    "#     d = mouse+\"_\"+date+\"Notebook_5_\"+Nb5+\"_\"+\"seq\"+prev_seq+'.pickle'\n",
    "#     my_path = root / d \n",
    "#     fileToOpen = open(my_path, 'rb')\n",
    "#     PhotoData_perTrial_channels = pickle.load(fileToOpen)\n",
    "#     print (\"loaded notebook 5\")\n",
    "\n",
    "# elif versions_in_seq.index(Nb_version) > 0:\n",
    "    \n",
    "root = Path(data_dir_output+\"/\"+mouse+\"/\"+data_day+'/'+str(HowManyBack)+\"_Back\")\n",
    "d = mouse+\"_\"+date+\"Notebook_6_\"+prev_version_6+'_seq'+sequence_till_now+'.pickle'\n",
    "my_path = root / d \n",
    "fileToOpen = open(my_path, 'rb')\n",
    "PhotoData_perTrial_channels = pickle.load(fileToOpen)\n",
    "print (sequence_till_now)"
   ]
  },
  {
   "cell_type": "code",
   "execution_count": null,
   "metadata": {
    "papermill": {
     "duration": null,
     "end_time": null,
     "exception": null,
     "start_time": null,
     "status": "pending"
    },
    "tags": []
   },
   "outputs": [],
   "source": [
    "PhotoData_perTrial_channels[0][0][0].keys()"
   ]
  },
  {
   "cell_type": "code",
   "execution_count": null,
   "metadata": {
    "papermill": {
     "duration": null,
     "end_time": null,
     "exception": null,
     "start_time": null,
     "status": "pending"
    },
    "tags": []
   },
   "outputs": [],
   "source": [
    "PhotoData_perTrial_channels = Nb_6.combine_periods_2(PhotoData_perTrial_channels)"
   ]
  },
  {
   "cell_type": "code",
   "execution_count": null,
   "metadata": {
    "papermill": {
     "duration": null,
     "end_time": null,
     "exception": null,
     "start_time": null,
     "status": "pending"
    },
    "tags": []
   },
   "outputs": [],
   "source": [
    "root = Path(data_dir_output+\"/\"+mouse+\"/\"+data_day+'/'+str(HowManyBack)+\"_Back\")\n",
    "d = mouse+\"_\"+date+Nb_name+'_seq'+version_without_7+'.pickle'\n",
    "my_path = root / d \n",
    "my_file = open(my_path, 'wb')\n",
    "my_file = pickle.dump((PhotoData_perTrial_channels),my_file)"
   ]
  },
  {
   "cell_type": "code",
   "execution_count": null,
   "metadata": {
    "papermill": {
     "duration": null,
     "end_time": null,
     "exception": null,
     "start_time": null,
     "status": "pending"
    },
    "tags": []
   },
   "outputs": [],
   "source": []
  }
 ],
 "metadata": {
  "celltoolbar": "Tags",
  "kernelspec": {
   "display_name": "Python 3",
   "language": "python",
   "name": "python3"
  },
  "language_info": {
   "codemirror_mode": {
    "name": "ipython",
    "version": 3
   },
   "file_extension": ".py",
   "mimetype": "text/x-python",
   "name": "python",
   "nbconvert_exporter": "python",
   "pygments_lexer": "ipython3",
   "version": "3.7.3"
  },
  "papermill": {
   "duration": 1.902116,
   "end_time": "2020-07-03T17:00:20.121628",
   "environment_variables": {},
   "exception": true,
   "input_path": "/Users/gilmandelbaum/github/analysis-pipeline-for-photometry_ex/Nb_6x_combine_periods_of_interest/Notebook_6_b.ipynb",
   "output_path": "TestOutPut.ipynb",
   "parameters": {
    "HowManyBack": 1,
    "Nb0": "a",
    "Nb1": "c",
    "Nb2": "a",
    "Nb3": "a",
    "Nb4": [
     "a",
     "b",
     "c",
     "d",
     "e"
    ],
    "Nb5": "a",
    "Nb6": [
     "a",
     "b",
     "c"
    ],
    "Nb7": "a",
    "Start_or_end": [
     "start",
     "end",
     "start",
     "start",
     "start"
    ],
    "Tags": [
     "Reward_NoReward_tag",
     "ENL_tag",
     "Cue_to_Sel_tag",
     "Cue_to_Sel_fromPrevTrial_tag",
     "firstENLp_tag"
    ],
    "Timing": [
     600,
     200,
     15,
     15,
     100
    ],
    "data_day": "2018_11_27__T163",
    "data_dir_input": "/Volumes/GilInVivoPaper.large/2.Photometry_in_str/1.dual_color_photo_full_data_set/",
    "data_dir_output": "/Volumes/GilInVivoPaper.large/2.Photometry_in_str/2.dual_color_photo_full_data_set_analysis/",
    "date": "2018_11_27",
    "drop2blocks": "yes",
    "drop2lastblocks": "yes",
    "mouse": "T163",
    "photo_day": "T163-144959",
    "seq_str": "0a1c2a3a4abcde5a6abc7a",
    "y_axis_list": [
     "df_f",
     "z_score",
     "z_score_sliding_window"
    ]
   },
   "start_time": "2020-07-03T17:00:18.219512",
   "version": "2.1.1"
  }
 },
 "nbformat": 4,
 "nbformat_minor": 2
}