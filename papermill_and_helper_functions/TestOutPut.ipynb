{
 "cells": [
  {
   "cell_type": "markdown",
   "metadata": {
    "papermill": {
     "duration": 0.006869,
     "end_time": "2020-06-08T22:32:15.103115",
     "exception": false,
     "start_time": "2020-06-08T22:32:15.096246",
     "status": "completed"
    },
    "tags": []
   },
   "source": [
    "# Notebook 7a: no plot output"
   ]
  },
  {
   "cell_type": "code",
   "execution_count": 1,
   "metadata": {
    "execution": {
     "iopub.execute_input": "2020-06-08T22:32:15.120418Z",
     "iopub.status.busy": "2020-06-08T22:32:15.119789Z",
     "iopub.status.idle": "2020-06-08T22:32:15.122525Z",
     "shell.execute_reply": "2020-06-08T22:32:15.121867Z"
    },
    "papermill": {
     "duration": 0.012208,
     "end_time": "2020-06-08T22:32:15.122638",
     "exception": false,
     "start_time": "2020-06-08T22:32:15.110430",
     "status": "completed"
    },
    "tags": []
   },
   "outputs": [],
   "source": [
    "import os\n",
    "from pathlib import Path\n",
    "import pickle"
   ]
  },
  {
   "cell_type": "code",
   "execution_count": 2,
   "metadata": {
    "execution": {
     "iopub.execute_input": "2020-06-08T22:32:15.134713Z",
     "iopub.status.busy": "2020-06-08T22:32:15.134138Z",
     "iopub.status.idle": "2020-06-08T22:32:15.136764Z",
     "shell.execute_reply": "2020-06-08T22:32:15.136169Z"
    },
    "papermill": {
     "duration": 0.009901,
     "end_time": "2020-06-08T22:32:15.136855",
     "exception": false,
     "start_time": "2020-06-08T22:32:15.126954",
     "status": "completed"
    },
    "tags": []
   },
   "outputs": [],
   "source": [
    "Nb_name= 'Notebook_7_a'"
   ]
  },
  {
   "cell_type": "code",
   "execution_count": 3,
   "metadata": {
    "execution": {
     "iopub.execute_input": "2020-06-08T22:32:15.149567Z",
     "iopub.status.busy": "2020-06-08T22:32:15.148990Z",
     "iopub.status.idle": "2020-06-08T22:32:15.150913Z",
     "shell.execute_reply": "2020-06-08T22:32:15.151577Z"
    },
    "papermill": {
     "duration": 0.010435,
     "end_time": "2020-06-08T22:32:15.151703",
     "exception": false,
     "start_time": "2020-06-08T22:32:15.141268",
     "status": "completed"
    },
    "tags": [
     "parameters"
    ]
   },
   "outputs": [],
   "source": [
    "mouse = 'T240'\n",
    "data_day = '2019_09_27__T240'\n",
    "date = '2019_09_27'\n",
    "\n",
    "HowManyBack = 1\n",
    "\n",
    "seq_str= \"0a1b2a3b4abcde5a6a7a\"\n",
    "\n",
    "data_dir_output = \"/Users/gilmandelbaum/Desktop/outPut\"\n"
   ]
  },
  {
   "cell_type": "code",
   "execution_count": 4,
   "metadata": {
    "execution": {
     "iopub.execute_input": "2020-06-08T22:32:15.165865Z",
     "iopub.status.busy": "2020-06-08T22:32:15.165343Z",
     "iopub.status.idle": "2020-06-08T22:32:15.167948Z",
     "shell.execute_reply": "2020-06-08T22:32:15.167381Z"
    },
    "papermill": {
     "duration": 0.0122,
     "end_time": "2020-06-08T22:32:15.168034",
     "exception": false,
     "start_time": "2020-06-08T22:32:15.155834",
     "status": "completed"
    },
    "tags": [
     "injected-parameters"
    ]
   },
   "outputs": [],
   "source": [
    "# Parameters\n",
    "data_dir_input = \"/Users/gilmandelbaum/Desktop/T240_mouse\"\n",
    "data_dir_output = \"/Users/gilmandelbaum/Desktop/output/\"\n",
    "drop2blocks = \"no\"\n",
    "drop2lastblocks = \"no\"\n",
    "seq_str = \"0a1b2a3c4abcde5a6a7a\"\n",
    "HowManyBack = 1\n",
    "Nb0 = \"a\"\n",
    "Nb1 = \"b\"\n",
    "Nb2 = \"a\"\n",
    "Nb3 = \"c\"\n",
    "Nb4 = [\"a\", \"b\", \"c\", \"d\", \"e\"]\n",
    "Nb5 = \"a\"\n",
    "Nb6 = \"a\"\n",
    "Nb7 = \"a\"\n",
    "Tags = [\n",
    "    \"Reward_NoReward_tag\",\n",
    "    \"ENL_tag\",\n",
    "    \"Cue_to_Sel_tag\",\n",
    "    \"Cue_to_Sel_fromPrevTrial_tag\",\n",
    "    \"firstENLp_tag\",\n",
    "]\n",
    "Timing = [600, 200, 15, 15, 20]\n",
    "Start_or_end = [\"start\", \"end\", \"start\", \"start\", \"start\"]\n",
    "mouse = \"T240\"\n",
    "data_day = \"2019_09_27__T240\"\n",
    "date = \"2019_09_27\"\n"
   ]
  },
  {
   "cell_type": "code",
   "execution_count": 5,
   "metadata": {
    "execution": {
     "iopub.execute_input": "2020-06-08T22:32:15.180050Z",
     "iopub.status.busy": "2020-06-08T22:32:15.179537Z",
     "iopub.status.idle": "2020-06-08T22:32:15.183142Z",
     "shell.execute_reply": "2020-06-08T22:32:15.182499Z"
    },
    "papermill": {
     "duration": 0.011229,
     "end_time": "2020-06-08T22:32:15.183232",
     "exception": false,
     "start_time": "2020-06-08T22:32:15.172003",
     "status": "completed"
    },
    "tags": []
   },
   "outputs": [],
   "source": [
    "root = Path(data_dir_output+\"/\"+mouse+\"/\"+data_day+'/'+str(HowManyBack)+\"_Back\")\n",
    "d = mouse+\"_\"+date+Nb_name+'_seq'+seq_str+'.pickle'\n",
    "my_path = root / d \n",
    "my_file = open(my_path, 'wb')\n",
    "my_file = pickle.dump((),my_file)"
   ]
  }
 ],
 "metadata": {
  "celltoolbar": "Tags",
  "kernelspec": {
   "display_name": "Python 3",
   "language": "python",
   "name": "python3"
  },
  "language_info": {
   "codemirror_mode": {
    "name": "ipython",
    "version": 3
   },
   "file_extension": ".py",
   "mimetype": "text/x-python",
   "name": "python",
   "nbconvert_exporter": "python",
   "pygments_lexer": "ipython3",
   "version": "3.7.3"
  },
  "papermill": {
   "duration": 0.882736,
   "end_time": "2020-06-08T22:32:15.300626",
   "environment_variables": {},
   "exception": null,
   "input_path": "/Users/gilmandelbaum/github/analysis-pipeline-for-photometry_ex/Nb_7x_plots/Notebook_7_a.ipynb",
   "output_path": "TestOutPut.ipynb",
   "parameters": {
    "HowManyBack": 1,
    "Nb0": "a",
    "Nb1": "b",
    "Nb2": "a",
    "Nb3": "c",
    "Nb4": [
     "a",
     "b",
     "c",
     "d",
     "e"
    ],
    "Nb5": "a",
    "Nb6": "a",
    "Nb7": "a",
    "Start_or_end": [
     "start",
     "end",
     "start",
     "start",
     "start"
    ],
    "Tags": [
     "Reward_NoReward_tag",
     "ENL_tag",
     "Cue_to_Sel_tag",
     "Cue_to_Sel_fromPrevTrial_tag",
     "firstENLp_tag"
    ],
    "Timing": [
     600,
     200,
     15,
     15,
     20
    ],
    "data_day": "2019_09_27__T240",
    "data_dir_input": "/Users/gilmandelbaum/Desktop/T240_mouse",
    "data_dir_output": "/Users/gilmandelbaum/Desktop/output/",
    "date": "2019_09_27",
    "drop2blocks": "no",
    "drop2lastblocks": "no",
    "mouse": "T240",
    "seq_str": "0a1b2a3c4abcde5a6a7a"
   },
   "start_time": "2020-06-08T22:32:14.417890",
   "version": "2.1.1"
  }
 },
 "nbformat": 4,
 "nbformat_minor": 2
}