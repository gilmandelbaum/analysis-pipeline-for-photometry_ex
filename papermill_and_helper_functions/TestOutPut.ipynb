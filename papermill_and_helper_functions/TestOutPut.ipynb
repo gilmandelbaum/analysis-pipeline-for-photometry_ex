{
 "cells": [
  {
   "cell_type": "markdown",
   "metadata": {
    "papermill": {
     "duration": 0.021127,
     "end_time": "2020-06-08T22:29:50.504532",
     "exception": false,
     "start_time": "2020-06-08T22:29:50.483405",
     "status": "completed"
    },
    "tags": []
   },
   "source": [
    "# Notebook 3 c"
   ]
  },
  {
   "cell_type": "code",
   "execution_count": 1,
   "metadata": {
    "execution": {
     "iopub.execute_input": "2020-06-08T22:29:50.545808Z",
     "iopub.status.busy": "2020-06-08T22:29:50.545258Z",
     "iopub.status.idle": "2020-06-08T22:29:51.227958Z",
     "shell.execute_reply": "2020-06-08T22:29:51.227292Z"
    },
    "papermill": {
     "duration": 0.703633,
     "end_time": "2020-06-08T22:29:51.228076",
     "exception": false,
     "start_time": "2020-06-08T22:29:50.524443",
     "status": "completed"
    },
    "tags": []
   },
   "outputs": [],
   "source": [
    "import pandas as pd \n",
    "from tqdm.auto import tqdm\n",
    "from pathlib import Path\n",
    "import pickle\n",
    "import numpy  as np \n",
    "import matplotlib.pyplot as plt\n",
    "import os"
   ]
  },
  {
   "cell_type": "code",
   "execution_count": 2,
   "metadata": {
    "execution": {
     "iopub.execute_input": "2020-06-08T22:29:51.263237Z",
     "iopub.status.busy": "2020-06-08T22:29:51.262761Z",
     "iopub.status.idle": "2020-06-08T22:29:51.265101Z",
     "shell.execute_reply": "2020-06-08T22:29:51.264634Z"
    },
    "papermill": {
     "duration": 0.021394,
     "end_time": "2020-06-08T22:29:51.265174",
     "exception": false,
     "start_time": "2020-06-08T22:29:51.243780",
     "status": "completed"
    },
    "tags": [
     "parameters"
    ]
   },
   "outputs": [],
   "source": [
    "mouse = 'T240'\n",
    "data_day = '2019_09_27__T240'\n",
    "date = '2019_09_27'\n",
    "\n",
    "HowManyBack = 1\n",
    "\n",
    "Nb2= 'a'\n",
    "Nb3='c'\n",
    "\n",
    "data_dir_output = \"/Users/gilmandelbaum/Desktop/outPut\"\n",
    "\n",
    "seq_str = \"0a1b2a3c4ab5a6abc10a\""
   ]
  },
  {
   "cell_type": "code",
   "execution_count": 3,
   "metadata": {
    "execution": {
     "iopub.execute_input": "2020-06-08T22:29:51.299348Z",
     "iopub.status.busy": "2020-06-08T22:29:51.298876Z",
     "iopub.status.idle": "2020-06-08T22:29:51.301215Z",
     "shell.execute_reply": "2020-06-08T22:29:51.300735Z"
    },
    "papermill": {
     "duration": 0.021961,
     "end_time": "2020-06-08T22:29:51.301288",
     "exception": false,
     "start_time": "2020-06-08T22:29:51.279327",
     "status": "completed"
    },
    "tags": [
     "injected-parameters"
    ]
   },
   "outputs": [],
   "source": [
    "# Parameters\n",
    "data_dir_input = \"/Users/gilmandelbaum/Desktop/T240_mouse\"\n",
    "data_dir_output = \"/Users/gilmandelbaum/Desktop/output/\"\n",
    "drop2blocks = \"no\"\n",
    "drop2lastblocks = \"no\"\n",
    "seq_str = \"0a1b2a3c4abcde5a6a7a\"\n",
    "HowManyBack = 1\n",
    "Nb0 = \"a\"\n",
    "Nb1 = \"b\"\n",
    "Nb2 = \"a\"\n",
    "Nb3 = \"c\"\n",
    "Nb4 = [\"a\", \"b\", \"c\", \"d\", \"e\"]\n",
    "Nb5 = \"a\"\n",
    "Nb6 = \"a\"\n",
    "Nb7 = \"a\"\n",
    "Tags = [\n",
    "    \"Reward_NoReward_tag\",\n",
    "    \"ENL_tag\",\n",
    "    \"Cue_to_Sel_tag\",\n",
    "    \"Cue_to_Sel_fromPrevTrial_tag\",\n",
    "    \"firstENLp_tag\",\n",
    "]\n",
    "Timing = [600, 200, 15, 15, 20]\n",
    "Start_or_end = [\"start\", \"end\", \"start\", \"start\", \"start\"]\n",
    "mouse = \"T240\"\n",
    "data_day = \"2019_09_27__T240\"\n",
    "date = \"2019_09_27\"\n"
   ]
  },
  {
   "cell_type": "code",
   "execution_count": 4,
   "metadata": {
    "execution": {
     "iopub.execute_input": "2020-06-08T22:29:51.336513Z",
     "iopub.status.busy": "2020-06-08T22:29:51.335386Z",
     "iopub.status.idle": "2020-06-08T22:29:51.380632Z",
     "shell.execute_reply": "2020-06-08T22:29:51.380152Z"
    },
    "papermill": {
     "duration": 0.06492,
     "end_time": "2020-06-08T22:29:51.380706",
     "exception": false,
     "start_time": "2020-06-08T22:29:51.315786",
     "status": "completed"
    },
    "tags": []
   },
   "outputs": [],
   "source": [
    "root = Path(data_dir_output+\"/\"+mouse+\"/\"+data_day+'/'+str(HowManyBack)+\"_Back\")\n",
    "d = mouse+\"_\"+date+\"Notebook_2_\"+Nb2+'.pickle'\n",
    "my_path = root / d \n",
    "# open a file, where you stored the pickled data\n",
    "fileToOpen = open(my_path, 'rb')\n",
    "# dump information to that file\n",
    "aligned_behav_photo = pickle.load(fileToOpen)"
   ]
  },
  {
   "cell_type": "markdown",
   "metadata": {
    "papermill": {
     "duration": 0.01582,
     "end_time": "2020-06-08T22:29:51.414329",
     "exception": false,
     "start_time": "2020-06-08T22:29:51.398509",
     "status": "completed"
    },
    "tags": []
   },
   "source": [
    "# Get df/f for photometry data based on sliding window"
   ]
  },
  {
   "cell_type": "code",
   "execution_count": 5,
   "metadata": {
    "execution": {
     "iopub.execute_input": "2020-06-08T22:29:51.451269Z",
     "iopub.status.busy": "2020-06-08T22:29:51.450807Z",
     "iopub.status.idle": "2020-06-08T22:29:51.453382Z",
     "shell.execute_reply": "2020-06-08T22:29:51.454217Z"
    },
    "papermill": {
     "duration": 0.025761,
     "end_time": "2020-06-08T22:29:51.454376",
     "exception": false,
     "start_time": "2020-06-08T22:29:51.428615",
     "status": "completed"
    },
    "tags": []
   },
   "outputs": [],
   "source": [
    "photometry_all_channel_afterDownSample = aligned_behav_photo[[\"d2 R\",\"d1 R\",\"d2 L\",\"d1 L\"]]"
   ]
  },
  {
   "cell_type": "code",
   "execution_count": 6,
   "metadata": {
    "execution": {
     "iopub.execute_input": "2020-06-08T22:29:51.487050Z",
     "iopub.status.busy": "2020-06-08T22:29:51.486579Z",
     "iopub.status.idle": "2020-06-08T22:29:51.538539Z",
     "shell.execute_reply": "2020-06-08T22:29:51.539047Z"
    },
    "papermill": {
     "duration": 0.069981,
     "end_time": "2020-06-08T22:29:51.539150",
     "exception": false,
     "start_time": "2020-06-08T22:29:51.469169",
     "status": "completed"
    },
    "tags": []
   },
   "outputs": [],
   "source": [
    "photometry_all_channel_afterDownSample_c = photometry_all_channel_afterDownSample.copy()\n",
    "photometry_all_channel_afterDownSample_c.to_dict('list');"
   ]
  },
  {
   "cell_type": "code",
   "execution_count": 7,
   "metadata": {
    "execution": {
     "iopub.execute_input": "2020-06-08T22:29:51.576039Z",
     "iopub.status.busy": "2020-06-08T22:29:51.575356Z",
     "iopub.status.idle": "2020-06-08T22:29:51.577515Z",
     "shell.execute_reply": "2020-06-08T22:29:51.577990Z"
    },
    "papermill": {
     "duration": 0.022865,
     "end_time": "2020-06-08T22:29:51.578089",
     "exception": false,
     "start_time": "2020-06-08T22:29:51.555224",
     "status": "completed"
    },
    "tags": []
   },
   "outputs": [],
   "source": [
    "# from https://stackoverflow.com/questions/40084931/taking-subarrays-from-numpy-array-with-given-stride-stepsize/40085052#40085052\n",
    "# dang this is fast!\n",
    "def strided_app(a, L, S):  # Window len = L, Stride len/stepsize = S\n",
    "    nrows = ((a.size-L)//S)+1\n",
    "    n = a.strides[0]\n",
    "    return np.lib.stride_tricks.as_strided(a, shape=(nrows, L), strides=(S*n, n))"
   ]
  },
  {
   "cell_type": "code",
   "execution_count": 8,
   "metadata": {
    "execution": {
     "iopub.execute_input": "2020-06-08T22:29:51.614062Z",
     "iopub.status.busy": "2020-06-08T22:29:51.613583Z",
     "iopub.status.idle": "2020-06-08T22:29:51.615781Z",
     "shell.execute_reply": "2020-06-08T22:29:51.615300Z"
    },
    "papermill": {
     "duration": 0.023195,
     "end_time": "2020-06-08T22:29:51.615855",
     "exception": false,
     "start_time": "2020-06-08T22:29:51.592660",
     "status": "completed"
    },
    "tags": []
   },
   "outputs": [],
   "source": [
    "def get_baseline(data, baseline_win, baseline_fun):\n",
    "\n",
    "    baseline_win_samples = int(baseline_win)\n",
    "    padded_data = np.pad(data,\n",
    "                         (baseline_win_samples // 2,\n",
    "                          baseline_win_samples // 2 - 1),\n",
    "                         'edge')\n",
    "\n",
    "    strides = strided_app(padded_data, baseline_win_samples, 1)\n",
    "    baseline = np.zeros((strides.shape[0], ), dtype='float32')\n",
    "    baseline[:] = np.nan\n",
    "\n",
    "    for k, data_slice in tqdm(enumerate(strides), total=strides.shape[0], desc='Computing baseline'):\n",
    "        use_data = data_slice[np.isfinite(data_slice)]\n",
    "        if len(use_data) > 0:\n",
    "            baseline[k] = baseline_fun(use_data)\n",
    "            \n",
    "    return baseline"
   ]
  },
  {
   "cell_type": "code",
   "execution_count": 9,
   "metadata": {
    "execution": {
     "iopub.execute_input": "2020-06-08T22:29:51.648826Z",
     "iopub.status.busy": "2020-06-08T22:29:51.648379Z",
     "iopub.status.idle": "2020-06-08T22:29:51.650243Z",
     "shell.execute_reply": "2020-06-08T22:29:51.650690Z"
    },
    "papermill": {
     "duration": 0.020325,
     "end_time": "2020-06-08T22:29:51.650784",
     "exception": false,
     "start_time": "2020-06-08T22:29:51.630459",
     "status": "completed"
    },
    "tags": []
   },
   "outputs": [],
   "source": [
    "baseline_fun = lambda x: np.percentile(x, 10)"
   ]
  },
  {
   "cell_type": "code",
   "execution_count": null,
   "metadata": {
    "papermill": {
     "duration": null,
     "end_time": null,
     "exception": false,
     "start_time": "2020-06-08T22:29:51.666525",
     "status": "running"
    },
    "tags": []
   },
   "outputs": [],
   "source": [
    "final_sig = {}\n",
    "\n",
    "for k, v in photometry_all_channel_afterDownSample_c.items():\n",
    "    baseline = get_baseline(v, 2000 ,baseline_fun)\n",
    "    final_sig['{}_f0'.format(k)] = baseline\n",
    "    final_sig['{}_dff'.format(k)] = (v - baseline) / baseline"
   ]
  },
  {
   "cell_type": "code",
   "execution_count": null,
   "metadata": {
    "papermill": {
     "duration": null,
     "end_time": null,
     "exception": null,
     "start_time": null,
     "status": "pending"
    },
    "tags": []
   },
   "outputs": [],
   "source": [
    "use_keys = [_ for _ in final_sig.keys() if 'dff' in _]"
   ]
  },
  {
   "cell_type": "code",
   "execution_count": null,
   "metadata": {
    "papermill": {
     "duration": null,
     "end_time": null,
     "exception": null,
     "start_time": null,
     "status": "pending"
    },
    "tags": []
   },
   "outputs": [],
   "source": [
    "tstamps = list(range(len(final_sig [\"d2 R_dff\"])))"
   ]
  },
  {
   "cell_type": "markdown",
   "metadata": {
    "papermill": {
     "duration": null,
     "end_time": null,
     "exception": null,
     "start_time": null,
     "status": "pending"
    },
    "tags": []
   },
   "source": [
    "# Plot 10 seconds of photometry data to see how it looks. "
   ]
  },
  {
   "cell_type": "code",
   "execution_count": null,
   "metadata": {
    "papermill": {
     "duration": null,
     "end_time": null,
     "exception": null,
     "start_time": null,
     "status": "pending"
    },
    "tags": []
   },
   "outputs": [],
   "source": [
    "# fig, ax = plt.subplots(4, 1,figsize=(10,10),sharex=True, sharey=False)\n",
    "\n",
    "# for _ax, k in zip(ax.flatten(), use_keys):\n",
    "#     _ax.plot(tstamps, final_sig[k])\n",
    "#     _ax.set_title(k.split('_')[0])\n",
    "    \n",
    "# _ax.set_xlim(30000,40000)\n",
    "# _ax.set_xlabel('Time(ms)')\n",
    "# _ax.set_ylabel('dF/F0')\n",
    "# plt.show()"
   ]
  },
  {
   "cell_type": "code",
   "execution_count": null,
   "metadata": {
    "papermill": {
     "duration": null,
     "end_time": null,
     "exception": null,
     "start_time": null,
     "status": "pending"
    },
    "tags": []
   },
   "outputs": [],
   "source": [
    "# update photometry signal after df/f \n",
    "photometry_all_channel_df0_dff = pd.DataFrame(final_sig)\n",
    "photometry_all_channel_df0_dff = photometry_all_channel_df0_dff[[\"d2 R_dff\",\"d1 R_dff\",\"d2 L_dff\",\"d1 L_dff\"]]"
   ]
  },
  {
   "cell_type": "code",
   "execution_count": null,
   "metadata": {
    "papermill": {
     "duration": null,
     "end_time": null,
     "exception": null,
     "start_time": null,
     "status": "pending"
    },
    "tags": []
   },
   "outputs": [],
   "source": [
    "actualDffPercent = 100*photometry_all_channel_df0_dff"
   ]
  },
  {
   "cell_type": "code",
   "execution_count": null,
   "metadata": {
    "papermill": {
     "duration": null,
     "end_time": null,
     "exception": null,
     "start_time": null,
     "status": "pending"
    },
    "tags": []
   },
   "outputs": [],
   "source": []
  },
  {
   "cell_type": "markdown",
   "metadata": {
    "papermill": {
     "duration": null,
     "end_time": null,
     "exception": null,
     "start_time": null,
     "status": "pending"
    },
    "tags": []
   },
   "source": [
    "# sliding window for z score: "
   ]
  },
  {
   "cell_type": "code",
   "execution_count": null,
   "metadata": {
    "papermill": {
     "duration": null,
     "end_time": null,
     "exception": null,
     "start_time": null,
     "status": "pending"
    },
    "tags": []
   },
   "outputs": [],
   "source": [
    "baseline_win_samples = 2000"
   ]
  },
  {
   "cell_type": "code",
   "execution_count": null,
   "metadata": {
    "papermill": {
     "duration": null,
     "end_time": null,
     "exception": null,
     "start_time": null,
     "status": "pending"
    },
    "tags": []
   },
   "outputs": [],
   "source": [
    "padded_data = pd.DataFrame(columns = [\"d2 R_dff\",\"d1 R_dff\",\"d2 L_dff\",\"d1 L_dff\"])\n",
    "padded_data[\"d2 R_dff\"] = np.pad(actualDffPercent[\"d2 R_dff\"], (baseline_win_samples // 2, baseline_win_samples // 2-1 ), 'edge')\n",
    "padded_data[\"d1 R_dff\"] = np.pad(actualDffPercent[\"d1 R_dff\"], (baseline_win_samples // 2, baseline_win_samples // 2-1 ), 'edge')\n",
    "padded_data[\"d2 L_dff\"] = np.pad(actualDffPercent[\"d2 L_dff\"], (baseline_win_samples // 2, baseline_win_samples // 2-1 ), 'edge')\n",
    "padded_data[\"d1 L_dff\"] = np.pad(actualDffPercent[\"d1 L_dff\"], (baseline_win_samples // 2, baseline_win_samples // 2-1 ), 'edge')"
   ]
  },
  {
   "cell_type": "code",
   "execution_count": null,
   "metadata": {
    "papermill": {
     "duration": null,
     "end_time": null,
     "exception": null,
     "start_time": null,
     "status": "pending"
    },
    "tags": []
   },
   "outputs": [],
   "source": [
    "def zscore(x, window):\n",
    "    r = x.rolling(window=window,center=True)\n",
    "    m = r.mean()\n",
    "    s = r.std(ddof=0)\n",
    "    z = (x-m)/s\n",
    "    return z"
   ]
  },
  {
   "cell_type": "code",
   "execution_count": null,
   "metadata": {
    "papermill": {
     "duration": null,
     "end_time": null,
     "exception": null,
     "start_time": null,
     "status": "pending"
    },
    "tags": []
   },
   "outputs": [],
   "source": [
    "padded_data_rolling = pd.DataFrame(columns = [\"d2 R_dff\",\"d1 R_dff\",\"d2 L_dff\",\"d1 L_dff\"])\n",
    "padded_data_rolling[\"d2 R_dff\"] = zscore(padded_data[\"d2 R_dff\"],baseline_win_samples)\n",
    "padded_data_rolling[\"d1 R_dff\"] = zscore(padded_data[\"d1 R_dff\"],baseline_win_samples)\n",
    "padded_data_rolling[\"d2 L_dff\"] = zscore(padded_data[\"d2 L_dff\"],baseline_win_samples)\n",
    "padded_data_rolling[\"d1 L_dff\"] = zscore(padded_data[\"d1 L_dff\"],baseline_win_samples)"
   ]
  },
  {
   "cell_type": "code",
   "execution_count": null,
   "metadata": {
    "papermill": {
     "duration": null,
     "end_time": null,
     "exception": null,
     "start_time": null,
     "status": "pending"
    },
    "tags": []
   },
   "outputs": [],
   "source": [
    "padded_data_rolling = padded_data_rolling.dropna()\n",
    "padded_data_rolling = padded_data_rolling.reset_index(drop=True)"
   ]
  },
  {
   "cell_type": "code",
   "execution_count": null,
   "metadata": {
    "papermill": {
     "duration": null,
     "end_time": null,
     "exception": null,
     "start_time": null,
     "status": "pending"
    },
    "tags": []
   },
   "outputs": [],
   "source": [
    "aligned_behav_photo_padded_data_rolling = aligned_behav_photo\n",
    "aligned_behav_photo_padded_data_rolling[\"d2 R\"] = padded_data_rolling[\"d2 R_dff\"].values\n",
    "aligned_behav_photo_padded_data_rolling[\"d1 R\"] = padded_data_rolling[\"d1 R_dff\"].values\n",
    "aligned_behav_photo_padded_data_rolling[\"d2 L\"] = padded_data_rolling[\"d2 L_dff\"].values\n",
    "aligned_behav_photo_padded_data_rolling[\"d1 L\"] = padded_data_rolling[\"d1 L_dff\"].values"
   ]
  },
  {
   "cell_type": "code",
   "execution_count": null,
   "metadata": {
    "papermill": {
     "duration": null,
     "end_time": null,
     "exception": null,
     "start_time": null,
     "status": "pending"
    },
    "tags": []
   },
   "outputs": [],
   "source": [
    "processed_data = aligned_behav_photo_padded_data_rolling"
   ]
  },
  {
   "cell_type": "code",
   "execution_count": null,
   "metadata": {
    "papermill": {
     "duration": null,
     "end_time": null,
     "exception": null,
     "start_time": null,
     "status": "pending"
    },
    "tags": []
   },
   "outputs": [],
   "source": []
  },
  {
   "cell_type": "markdown",
   "metadata": {
    "papermill": {
     "duration": null,
     "end_time": null,
     "exception": null,
     "start_time": null,
     "status": "pending"
    },
    "tags": []
   },
   "source": [
    "# plot the data after the rolling z-score is applied: "
   ]
  },
  {
   "cell_type": "code",
   "execution_count": null,
   "metadata": {
    "papermill": {
     "duration": null,
     "end_time": null,
     "exception": null,
     "start_time": null,
     "status": "pending"
    },
    "tags": []
   },
   "outputs": [],
   "source": [
    "# stash result in a cache directory, for how many back. \n",
    "cache_dir_plt = os.path.join(data_dir_output+'/'+mouse+'/'+data_day, str(HowManyBack)+'_Back',\"0.plots\")\n",
    "if not os.path.exists(cache_dir_plt):\n",
    "    os.makedirs(cache_dir_plt)"
   ]
  },
  {
   "cell_type": "code",
   "execution_count": null,
   "metadata": {
    "papermill": {
     "duration": null,
     "end_time": null,
     "exception": null,
     "start_time": null,
     "status": "pending"
    },
    "tags": []
   },
   "outputs": [],
   "source": [
    "path_to_plot = cache_dir_plt+\"/\"+seq_str[:seq_str.index(\"4\")]+\"_plot\""
   ]
  },
  {
   "cell_type": "code",
   "execution_count": null,
   "metadata": {
    "papermill": {
     "duration": null,
     "end_time": null,
     "exception": null,
     "start_time": null,
     "status": "pending"
    },
    "tags": []
   },
   "outputs": [],
   "source": [
    "keys = [\"d2 R\",\"d1 R\",\"d2 L\",\"d1 L\"]"
   ]
  },
  {
   "cell_type": "code",
   "execution_count": null,
   "metadata": {
    "papermill": {
     "duration": null,
     "end_time": null,
     "exception": null,
     "start_time": null,
     "status": "pending"
    },
    "tags": []
   },
   "outputs": [],
   "source": [
    "fig, ax = plt.subplots(4, 1,figsize=(10,10),sharex=True, sharey=False)\n",
    "\n",
    "for _ax, k in zip(ax.flatten(), keys):\n",
    "    _ax.plot(tstamps, processed_data[k])\n",
    "    _ax.set_title(k.split('_')[0])\n",
    "    \n",
    "_ax.set_xlim(30000,40000)\n",
    "_ax.set_xlabel('Time(ms)')\n",
    "_ax.set_ylabel(\"Zscore\")\n",
    "fig.savefig(path_to_plot+'.pdf')\n",
    "plt.show()"
   ]
  },
  {
   "cell_type": "code",
   "execution_count": null,
   "metadata": {
    "papermill": {
     "duration": null,
     "end_time": null,
     "exception": null,
     "start_time": null,
     "status": "pending"
    },
    "tags": []
   },
   "outputs": [],
   "source": [
    "root = Path(data_dir_output+\"/\"+mouse+\"/\"+data_day+'/'+str(HowManyBack)+\"_Back\")\n",
    "d = mouse+\"_\"+date+\"Notebook_3_c.pickle\"\n",
    "#theDataFrame = \"Notebook_1_\"+Nb1+'.pickle'\n",
    "my_path = root / d \n",
    "my_file = open(my_path, 'wb')\n",
    "my_file = pickle.dump(processed_data,my_file)"
   ]
  },
  {
   "cell_type": "code",
   "execution_count": null,
   "metadata": {
    "papermill": {
     "duration": null,
     "end_time": null,
     "exception": null,
     "start_time": null,
     "status": "pending"
    },
    "tags": []
   },
   "outputs": [],
   "source": []
  }
 ],
 "metadata": {
  "celltoolbar": "Tags",
  "kernelspec": {
   "display_name": "Python 3",
   "language": "python",
   "name": "python3"
  },
  "language_info": {
   "codemirror_mode": {
    "name": "ipython",
    "version": 3
   },
   "file_extension": ".py",
   "mimetype": "text/x-python",
   "name": "python",
   "nbconvert_exporter": "python",
   "pygments_lexer": "ipython3",
   "version": "3.7.3"
  },
  "papermill": {
   "duration": null,
   "end_time": null,
   "environment_variables": {},
   "exception": null,
   "input_path": "/Users/gilmandelbaum/github/analysis-pipeline-for-photometry_ex/Nb_3x_photometry_signal_analysis/Notebook_3_c.ipynb",
   "output_path": "TestOutPut.ipynb",
   "parameters": {
    "HowManyBack": 1,
    "Nb0": "a",
    "Nb1": "b",
    "Nb2": "a",
    "Nb3": "c",
    "Nb4": [
     "a",
     "b",
     "c",
     "d",
     "e"
    ],
    "Nb5": "a",
    "Nb6": "a",
    "Nb7": "a",
    "Start_or_end": [
     "start",
     "end",
     "start",
     "start",
     "start"
    ],
    "Tags": [
     "Reward_NoReward_tag",
     "ENL_tag",
     "Cue_to_Sel_tag",
     "Cue_to_Sel_fromPrevTrial_tag",
     "firstENLp_tag"
    ],
    "Timing": [
     600,
     200,
     15,
     15,
     20
    ],
    "data_day": "2019_09_27__T240",
    "data_dir_input": "/Users/gilmandelbaum/Desktop/T240_mouse",
    "data_dir_output": "/Users/gilmandelbaum/Desktop/output/",
    "date": "2019_09_27",
    "drop2blocks": "no",
    "drop2lastblocks": "no",
    "mouse": "T240",
    "seq_str": "0a1b2a3c4abcde5a6a7a"
   },
   "start_time": "2020-06-08T22:29:49.706174",
   "version": "2.1.1"
  }
 },
 "nbformat": 4,
 "nbformat_minor": 2
}