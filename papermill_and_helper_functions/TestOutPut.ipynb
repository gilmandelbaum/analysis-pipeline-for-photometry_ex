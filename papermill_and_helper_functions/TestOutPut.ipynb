{
 "cells": [
  {
   "cell_type": "markdown",
   "metadata": {
    "papermill": {
     "duration": 0.023611,
     "end_time": "2020-07-14T23:07:22.490174",
     "exception": false,
     "start_time": "2020-07-14T23:07:22.466563",
     "status": "completed"
    },
    "tags": []
   },
   "source": [
    "# Notebook 3 a"
   ]
  },
  {
   "cell_type": "code",
   "execution_count": 1,
   "metadata": {
    "execution": {
     "iopub.execute_input": "2020-07-14T23:07:22.547516Z",
     "iopub.status.busy": "2020-07-14T23:07:22.546289Z",
     "iopub.status.idle": "2020-07-14T23:07:23.602491Z",
     "shell.execute_reply": "2020-07-14T23:07:23.601344Z"
    },
    "papermill": {
     "duration": 1.086487,
     "end_time": "2020-07-14T23:07:23.602739",
     "exception": false,
     "start_time": "2020-07-14T23:07:22.516252",
     "status": "completed"
    },
    "tags": []
   },
   "outputs": [],
   "source": [
    "import pandas as pd \n",
    "from tqdm.auto import tqdm\n",
    "from pathlib import Path\n",
    "import pickle\n",
    "import numpy  as np \n",
    "import matplotlib.pyplot as plt\n",
    "import os"
   ]
  },
  {
   "cell_type": "code",
   "execution_count": null,
   "metadata": {
    "papermill": {
     "duration": 0.020507,
     "end_time": "2020-07-14T23:07:23.643912",
     "exception": false,
     "start_time": "2020-07-14T23:07:23.623405",
     "status": "completed"
    },
    "tags": []
   },
   "outputs": [],
   "source": []
  },
  {
   "cell_type": "code",
   "execution_count": 2,
   "metadata": {
    "execution": {
     "iopub.execute_input": "2020-07-14T23:07:23.693648Z",
     "iopub.status.busy": "2020-07-14T23:07:23.692448Z",
     "iopub.status.idle": "2020-07-14T23:07:23.697127Z",
     "shell.execute_reply": "2020-07-14T23:07:23.695841Z"
    },
    "papermill": {
     "duration": 0.031108,
     "end_time": "2020-07-14T23:07:23.697338",
     "exception": false,
     "start_time": "2020-07-14T23:07:23.666230",
     "status": "completed"
    },
    "tags": [
     "parameters"
    ]
   },
   "outputs": [],
   "source": [
    "mouse = 'T240'\n",
    "data_day = '2019_09_27__T240'\n",
    "date = '2019_09_27'\n",
    "\n",
    "HowManyBack = 1\n",
    "\n",
    "Nb2= 'a'\n",
    "Nb3='a'\n",
    "\n",
    "data_dir_output = \"/Users/gilmandelbaum/Desktop/outPut\"\n",
    "\n",
    "seq_str = \"0a1b2a3a4ab5a6abc10a\""
   ]
  },
  {
   "cell_type": "code",
   "execution_count": 3,
   "metadata": {
    "execution": {
     "iopub.execute_input": "2020-07-14T23:07:23.745950Z",
     "iopub.status.busy": "2020-07-14T23:07:23.745152Z",
     "iopub.status.idle": "2020-07-14T23:07:23.750191Z",
     "shell.execute_reply": "2020-07-14T23:07:23.749111Z"
    },
    "papermill": {
     "duration": 0.032598,
     "end_time": "2020-07-14T23:07:23.750481",
     "exception": false,
     "start_time": "2020-07-14T23:07:23.717883",
     "status": "completed"
    },
    "tags": [
     "injected-parameters"
    ]
   },
   "outputs": [],
   "source": [
    "# Parameters\n",
    "data_dir_input = (\n",
    "    \"/Volumes/GilInVivoPaper.large/2.Photometry_in_str/0.data_Sets/1.lateral_medial_6/\"\n",
    ")\n",
    "data_dir_output = (\n",
    "    \"/Volumes/GilInVivoPaper.large/2.Photometry_in_str/1.lateral_medial_6_analysis/\"\n",
    ")\n",
    "drop2blocks = \"yes\"\n",
    "drop2lastblocks = \"yes\"\n",
    "seq_str = \"0a1b2b3a4abcd5a6a7a\"\n",
    "HowManyBack = 1\n",
    "Nb0 = \"a\"\n",
    "Nb1 = \"b\"\n",
    "Nb2 = \"b\"\n",
    "Nb3 = \"a\"\n",
    "Nb4 = [\"a\", \"b\", \"c\", \"d\"]\n",
    "Nb5 = \"a\"\n",
    "Nb6 = \"a\"\n",
    "Nb7 = \"a\"\n",
    "Tags = [\n",
    "    \"Reward_NoReward_tag\",\n",
    "    \"ENL_tag\",\n",
    "    \"Cue_to_Sel_tag\",\n",
    "    \"Cue_to_Sel_fromPrevTrial_tag\",\n",
    "]\n",
    "Timing = [600, 200, 15, 15]\n",
    "Start_or_end = [\"start\", \"end\", \"start\", \"start\"]\n",
    "y_axis_list = [\"df_f\", \"z_score\", \"z_score_sliding_window\"]\n",
    "mouse = \"T171\"\n",
    "data_day = \"2019_02_20__T171\"\n",
    "date = \"2019_02_20\"\n",
    "photo_day = \"T171-153511\"\n"
   ]
  },
  {
   "cell_type": "code",
   "execution_count": 4,
   "metadata": {
    "execution": {
     "iopub.execute_input": "2020-07-14T23:07:23.809720Z",
     "iopub.status.busy": "2020-07-14T23:07:23.808715Z",
     "iopub.status.idle": "2020-07-14T23:07:24.325345Z",
     "shell.execute_reply": "2020-07-14T23:07:24.326550Z"
    },
    "papermill": {
     "duration": 0.553124,
     "end_time": "2020-07-14T23:07:24.326742",
     "exception": false,
     "start_time": "2020-07-14T23:07:23.773618",
     "status": "completed"
    },
    "tags": []
   },
   "outputs": [],
   "source": [
    "root = Path(data_dir_output+\"/\"+mouse+\"/\"+data_day+'/'+str(HowManyBack)+\"_Back\")\n",
    "d = mouse+\"_\"+date+\"Notebook_2_\"+Nb2+'.pickle'\n",
    "my_path = root / d \n",
    "# open a file, where you stored the pickled data\n",
    "fileToOpen = open(my_path, 'rb')\n",
    "# dump information to that file\n",
    "aligned_behav_photo = pickle.load(fileToOpen)"
   ]
  },
  {
   "cell_type": "code",
   "execution_count": 5,
   "metadata": {
    "execution": {
     "iopub.execute_input": "2020-07-14T23:07:24.398944Z",
     "iopub.status.busy": "2020-07-14T23:07:24.398055Z",
     "iopub.status.idle": "2020-07-14T23:07:24.417135Z",
     "shell.execute_reply": "2020-07-14T23:07:24.416229Z"
    },
    "papermill": {
     "duration": 0.068428,
     "end_time": "2020-07-14T23:07:24.417264",
     "exception": false,
     "start_time": "2020-07-14T23:07:24.348836",
     "status": "completed"
    },
    "tags": []
   },
   "outputs": [
    {
     "data": {
      "text/html": [
       "<div>\n",
       "<style scoped>\n",
       "    .dataframe tbody tr th:only-of-type {\n",
       "        vertical-align: middle;\n",
       "    }\n",
       "\n",
       "    .dataframe tbody tr th {\n",
       "        vertical-align: top;\n",
       "    }\n",
       "\n",
       "    .dataframe thead th {\n",
       "        text-align: right;\n",
       "    }\n",
       "</style>\n",
       "<table border=\"1\" class=\"dataframe\">\n",
       "  <thead>\n",
       "    <tr style=\"text-align: right;\">\n",
       "      <th></th>\n",
       "      <th>nTrial</th>\n",
       "      <th>iBlock</th>\n",
       "      <th>iTrial</th>\n",
       "      <th>iOccurrence</th>\n",
       "      <th>iState_start</th>\n",
       "      <th>iState_end</th>\n",
       "      <th>analog1</th>\n",
       "      <th>analog2</th>\n",
       "      <th>d2 R</th>\n",
       "      <th>d1 R</th>\n",
       "      <th>d2 L</th>\n",
       "      <th>d1 L</th>\n",
       "      <th>Real_nTrials</th>\n",
       "    </tr>\n",
       "  </thead>\n",
       "  <tbody>\n",
       "    <tr>\n",
       "      <th>0</th>\n",
       "      <td>3.0</td>\n",
       "      <td>1.0</td>\n",
       "      <td>3.0</td>\n",
       "      <td>0.0</td>\n",
       "      <td>23.0</td>\n",
       "      <td>29.0</td>\n",
       "      <td>11.0</td>\n",
       "      <td>229.0</td>\n",
       "      <td>298.256378</td>\n",
       "      <td>202.358383</td>\n",
       "      <td>341.851379</td>\n",
       "      <td>156.123901</td>\n",
       "      <td>3</td>\n",
       "    </tr>\n",
       "    <tr>\n",
       "      <th>1</th>\n",
       "      <td>3.0</td>\n",
       "      <td>1.0</td>\n",
       "      <td>3.0</td>\n",
       "      <td>1.0</td>\n",
       "      <td>29.0</td>\n",
       "      <td>30.0</td>\n",
       "      <td>9.0</td>\n",
       "      <td>229.0</td>\n",
       "      <td>307.064453</td>\n",
       "      <td>205.430099</td>\n",
       "      <td>347.942444</td>\n",
       "      <td>158.395721</td>\n",
       "      <td>3</td>\n",
       "    </tr>\n",
       "    <tr>\n",
       "      <th>2</th>\n",
       "      <td>3.0</td>\n",
       "      <td>1.0</td>\n",
       "      <td>3.0</td>\n",
       "      <td>2.0</td>\n",
       "      <td>30.0</td>\n",
       "      <td>30.0</td>\n",
       "      <td>2740.0</td>\n",
       "      <td>1206.0</td>\n",
       "      <td>304.655029</td>\n",
       "      <td>204.664139</td>\n",
       "      <td>346.281738</td>\n",
       "      <td>157.715408</td>\n",
       "      <td>3</td>\n",
       "    </tr>\n",
       "    <tr>\n",
       "      <th>3</th>\n",
       "      <td>3.0</td>\n",
       "      <td>1.0</td>\n",
       "      <td>3.0</td>\n",
       "      <td>3.0</td>\n",
       "      <td>30.0</td>\n",
       "      <td>30.0</td>\n",
       "      <td>2754.0</td>\n",
       "      <td>1207.0</td>\n",
       "      <td>306.073120</td>\n",
       "      <td>205.209686</td>\n",
       "      <td>347.257324</td>\n",
       "      <td>158.047348</td>\n",
       "      <td>3</td>\n",
       "    </tr>\n",
       "    <tr>\n",
       "      <th>4</th>\n",
       "      <td>3.0</td>\n",
       "      <td>1.0</td>\n",
       "      <td>3.0</td>\n",
       "      <td>4.0</td>\n",
       "      <td>30.0</td>\n",
       "      <td>30.0</td>\n",
       "      <td>9.0</td>\n",
       "      <td>229.0</td>\n",
       "      <td>305.042480</td>\n",
       "      <td>204.918961</td>\n",
       "      <td>346.540955</td>\n",
       "      <td>157.747101</td>\n",
       "      <td>3</td>\n",
       "    </tr>\n",
       "    <tr>\n",
       "      <th>...</th>\n",
       "      <td>...</td>\n",
       "      <td>...</td>\n",
       "      <td>...</td>\n",
       "      <td>...</td>\n",
       "      <td>...</td>\n",
       "      <td>...</td>\n",
       "      <td>...</td>\n",
       "      <td>...</td>\n",
       "      <td>...</td>\n",
       "      <td>...</td>\n",
       "      <td>...</td>\n",
       "      <td>...</td>\n",
       "      <td>...</td>\n",
       "    </tr>\n",
       "    <tr>\n",
       "      <th>254125</th>\n",
       "      <td>255.0</td>\n",
       "      <td>33.0</td>\n",
       "      <td>22.0</td>\n",
       "      <td>935.0</td>\n",
       "      <td>48.0</td>\n",
       "      <td>48.0</td>\n",
       "      <td>9.0</td>\n",
       "      <td>230.0</td>\n",
       "      <td>NaN</td>\n",
       "      <td>NaN</td>\n",
       "      <td>NaN</td>\n",
       "      <td>NaN</td>\n",
       "      <td>255</td>\n",
       "    </tr>\n",
       "    <tr>\n",
       "      <th>254126</th>\n",
       "      <td>255.0</td>\n",
       "      <td>33.0</td>\n",
       "      <td>22.0</td>\n",
       "      <td>936.0</td>\n",
       "      <td>48.0</td>\n",
       "      <td>48.0</td>\n",
       "      <td>11.0</td>\n",
       "      <td>230.0</td>\n",
       "      <td>NaN</td>\n",
       "      <td>NaN</td>\n",
       "      <td>NaN</td>\n",
       "      <td>NaN</td>\n",
       "      <td>255</td>\n",
       "    </tr>\n",
       "    <tr>\n",
       "      <th>254127</th>\n",
       "      <td>255.0</td>\n",
       "      <td>33.0</td>\n",
       "      <td>22.0</td>\n",
       "      <td>937.0</td>\n",
       "      <td>48.0</td>\n",
       "      <td>48.0</td>\n",
       "      <td>9.0</td>\n",
       "      <td>230.0</td>\n",
       "      <td>NaN</td>\n",
       "      <td>NaN</td>\n",
       "      <td>NaN</td>\n",
       "      <td>NaN</td>\n",
       "      <td>255</td>\n",
       "    </tr>\n",
       "    <tr>\n",
       "      <th>254128</th>\n",
       "      <td>255.0</td>\n",
       "      <td>33.0</td>\n",
       "      <td>22.0</td>\n",
       "      <td>938.0</td>\n",
       "      <td>48.0</td>\n",
       "      <td>48.0</td>\n",
       "      <td>9.0</td>\n",
       "      <td>230.0</td>\n",
       "      <td>NaN</td>\n",
       "      <td>NaN</td>\n",
       "      <td>NaN</td>\n",
       "      <td>NaN</td>\n",
       "      <td>255</td>\n",
       "    </tr>\n",
       "    <tr>\n",
       "      <th>254129</th>\n",
       "      <td>255.0</td>\n",
       "      <td>33.0</td>\n",
       "      <td>22.0</td>\n",
       "      <td>939.0</td>\n",
       "      <td>48.0</td>\n",
       "      <td>48.0</td>\n",
       "      <td>9.0</td>\n",
       "      <td>230.0</td>\n",
       "      <td>NaN</td>\n",
       "      <td>NaN</td>\n",
       "      <td>NaN</td>\n",
       "      <td>NaN</td>\n",
       "      <td>255</td>\n",
       "    </tr>\n",
       "  </tbody>\n",
       "</table>\n",
       "<p>254130 rows × 13 columns</p>\n",
       "</div>"
      ],
      "text/plain": [
       "        nTrial  iBlock  iTrial  iOccurrence  iState_start  iState_end  \\\n",
       "0          3.0     1.0     3.0          0.0          23.0        29.0   \n",
       "1          3.0     1.0     3.0          1.0          29.0        30.0   \n",
       "2          3.0     1.0     3.0          2.0          30.0        30.0   \n",
       "3          3.0     1.0     3.0          3.0          30.0        30.0   \n",
       "4          3.0     1.0     3.0          4.0          30.0        30.0   \n",
       "...        ...     ...     ...          ...           ...         ...   \n",
       "254125   255.0    33.0    22.0        935.0          48.0        48.0   \n",
       "254126   255.0    33.0    22.0        936.0          48.0        48.0   \n",
       "254127   255.0    33.0    22.0        937.0          48.0        48.0   \n",
       "254128   255.0    33.0    22.0        938.0          48.0        48.0   \n",
       "254129   255.0    33.0    22.0        939.0          48.0        48.0   \n",
       "\n",
       "        analog1  analog2        d2 R        d1 R        d2 L        d1 L  \\\n",
       "0          11.0    229.0  298.256378  202.358383  341.851379  156.123901   \n",
       "1           9.0    229.0  307.064453  205.430099  347.942444  158.395721   \n",
       "2        2740.0   1206.0  304.655029  204.664139  346.281738  157.715408   \n",
       "3        2754.0   1207.0  306.073120  205.209686  347.257324  158.047348   \n",
       "4           9.0    229.0  305.042480  204.918961  346.540955  157.747101   \n",
       "...         ...      ...         ...         ...         ...         ...   \n",
       "254125      9.0    230.0         NaN         NaN         NaN         NaN   \n",
       "254126     11.0    230.0         NaN         NaN         NaN         NaN   \n",
       "254127      9.0    230.0         NaN         NaN         NaN         NaN   \n",
       "254128      9.0    230.0         NaN         NaN         NaN         NaN   \n",
       "254129      9.0    230.0         NaN         NaN         NaN         NaN   \n",
       "\n",
       "        Real_nTrials  \n",
       "0                  3  \n",
       "1                  3  \n",
       "2                  3  \n",
       "3                  3  \n",
       "4                  3  \n",
       "...              ...  \n",
       "254125           255  \n",
       "254126           255  \n",
       "254127           255  \n",
       "254128           255  \n",
       "254129           255  \n",
       "\n",
       "[254130 rows x 13 columns]"
      ]
     },
     "execution_count": 5,
     "metadata": {},
     "output_type": "execute_result"
    }
   ],
   "source": [
    "aligned_behav_photo"
   ]
  },
  {
   "cell_type": "markdown",
   "metadata": {
    "papermill": {
     "duration": 0.035123,
     "end_time": "2020-07-14T23:07:24.473892",
     "exception": false,
     "start_time": "2020-07-14T23:07:24.438769",
     "status": "completed"
    },
    "tags": []
   },
   "source": [
    "# Get df/f for photometry data based on sliding window"
   ]
  },
  {
   "cell_type": "code",
   "execution_count": 6,
   "metadata": {
    "execution": {
     "iopub.execute_input": "2020-07-14T23:07:24.526900Z",
     "iopub.status.busy": "2020-07-14T23:07:24.525785Z",
     "iopub.status.idle": "2020-07-14T23:07:24.529049Z",
     "shell.execute_reply": "2020-07-14T23:07:24.529827Z"
    },
    "papermill": {
     "duration": 0.034387,
     "end_time": "2020-07-14T23:07:24.530003",
     "exception": false,
     "start_time": "2020-07-14T23:07:24.495616",
     "status": "completed"
    },
    "tags": []
   },
   "outputs": [],
   "source": [
    "photometry_all_channel_afterDownSample = aligned_behav_photo[[\"d2 R\",\"d1 R\",\"d2 L\",\"d1 L\"]]"
   ]
  },
  {
   "cell_type": "code",
   "execution_count": 7,
   "metadata": {
    "execution": {
     "iopub.execute_input": "2020-07-14T23:07:24.575940Z",
     "iopub.status.busy": "2020-07-14T23:07:24.575073Z",
     "iopub.status.idle": "2020-07-14T23:07:24.647275Z",
     "shell.execute_reply": "2020-07-14T23:07:24.648022Z"
    },
    "papermill": {
     "duration": 0.098555,
     "end_time": "2020-07-14T23:07:24.648224",
     "exception": false,
     "start_time": "2020-07-14T23:07:24.549669",
     "status": "completed"
    },
    "tags": []
   },
   "outputs": [],
   "source": [
    "photometry_all_channel_afterDownSample_c = photometry_all_channel_afterDownSample.copy()\n",
    "photometry_all_channel_afterDownSample_c.to_dict('list');"
   ]
  },
  {
   "cell_type": "code",
   "execution_count": 8,
   "metadata": {
    "execution": {
     "iopub.execute_input": "2020-07-14T23:07:24.721232Z",
     "iopub.status.busy": "2020-07-14T23:07:24.719965Z",
     "iopub.status.idle": "2020-07-14T23:07:24.723355Z",
     "shell.execute_reply": "2020-07-14T23:07:24.724285Z"
    },
    "papermill": {
     "duration": 0.043964,
     "end_time": "2020-07-14T23:07:24.724501",
     "exception": false,
     "start_time": "2020-07-14T23:07:24.680537",
     "status": "completed"
    },
    "tags": []
   },
   "outputs": [],
   "source": [
    "# from https://stackoverflow.com/questions/40084931/taking-subarrays-from-numpy-array-with-given-stride-stepsize/40085052#40085052\n",
    "# dang this is fast!\n",
    "def strided_app(a, L, S):  # Window len = L, Stride len/stepsize = S\n",
    "    nrows = ((a.size-L)//S)+1\n",
    "    n = a.strides[0]\n",
    "    return np.lib.stride_tricks.as_strided(a, shape=(nrows, L), strides=(S*n, n))"
   ]
  },
  {
   "cell_type": "code",
   "execution_count": 9,
   "metadata": {
    "execution": {
     "iopub.execute_input": "2020-07-14T23:07:24.776110Z",
     "iopub.status.busy": "2020-07-14T23:07:24.775118Z",
     "iopub.status.idle": "2020-07-14T23:07:24.778424Z",
     "shell.execute_reply": "2020-07-14T23:07:24.779230Z"
    },
    "papermill": {
     "duration": 0.033772,
     "end_time": "2020-07-14T23:07:24.779389",
     "exception": false,
     "start_time": "2020-07-14T23:07:24.745617",
     "status": "completed"
    },
    "tags": []
   },
   "outputs": [],
   "source": [
    "def get_baseline(data, baseline_win, baseline_fun):\n",
    "\n",
    "    baseline_win_samples = int(baseline_win)\n",
    "    padded_data = np.pad(data,\n",
    "                         (baseline_win_samples // 2,\n",
    "                          baseline_win_samples // 2 - 1),\n",
    "                         'edge')\n",
    "\n",
    "    strides = strided_app(padded_data, baseline_win_samples, 1)\n",
    "    baseline = np.zeros((strides.shape[0], ), dtype='float32')\n",
    "    baseline[:] = np.nan\n",
    "\n",
    "    for k, data_slice in tqdm(enumerate(strides), total=strides.shape[0], desc='Computing baseline'):\n",
    "        use_data = data_slice[np.isfinite(data_slice)]\n",
    "        if len(use_data) > 0:\n",
    "            baseline[k] = baseline_fun(use_data)\n",
    "            \n",
    "    return baseline"
   ]
  },
  {
   "cell_type": "code",
   "execution_count": 10,
   "metadata": {
    "execution": {
     "iopub.execute_input": "2020-07-14T23:07:24.826730Z",
     "iopub.status.busy": "2020-07-14T23:07:24.825921Z",
     "iopub.status.idle": "2020-07-14T23:07:24.828941Z",
     "shell.execute_reply": "2020-07-14T23:07:24.829885Z"
    },
    "papermill": {
     "duration": 0.029108,
     "end_time": "2020-07-14T23:07:24.830045",
     "exception": false,
     "start_time": "2020-07-14T23:07:24.800937",
     "status": "completed"
    },
    "tags": []
   },
   "outputs": [],
   "source": [
    "baseline_fun = lambda x: np.percentile(x, 10)"
   ]
  },
  {
   "cell_type": "code",
   "execution_count": null,
   "metadata": {
    "papermill": {
     "duration": null,
     "end_time": null,
     "exception": false,
     "start_time": "2020-07-14T23:07:24.850375",
     "status": "running"
    },
    "tags": []
   },
   "outputs": [],
   "source": [
    "final_sig = {}\n",
    "\n",
    "for k, v in photometry_all_channel_afterDownSample_c.items():\n",
    "    baseline = get_baseline(v, 2000 ,baseline_fun)\n",
    "    final_sig['{}_f0'.format(k)] = baseline\n",
    "    final_sig['{}_dff'.format(k)] = (v - baseline) / baseline"
   ]
  },
  {
   "cell_type": "code",
   "execution_count": null,
   "metadata": {
    "papermill": {
     "duration": null,
     "end_time": null,
     "exception": null,
     "start_time": null,
     "status": "pending"
    },
    "tags": []
   },
   "outputs": [],
   "source": [
    "use_keys = [_ for _ in final_sig.keys() if 'dff' in _]"
   ]
  },
  {
   "cell_type": "code",
   "execution_count": null,
   "metadata": {
    "papermill": {
     "duration": null,
     "end_time": null,
     "exception": null,
     "start_time": null,
     "status": "pending"
    },
    "tags": []
   },
   "outputs": [],
   "source": [
    "tstamps = list(range(len(final_sig [\"d2 R_dff\"])))"
   ]
  },
  {
   "cell_type": "markdown",
   "metadata": {
    "papermill": {
     "duration": null,
     "end_time": null,
     "exception": null,
     "start_time": null,
     "status": "pending"
    },
    "tags": []
   },
   "source": [
    "# Plot 10 seconds of photometry data to see how it looks. "
   ]
  },
  {
   "cell_type": "code",
   "execution_count": null,
   "metadata": {
    "papermill": {
     "duration": null,
     "end_time": null,
     "exception": null,
     "start_time": null,
     "status": "pending"
    },
    "tags": []
   },
   "outputs": [],
   "source": [
    "# stash result in a cache directory, for how many back. \n",
    "cache_dir_plt = os.path.join(data_dir_output+'/'+mouse+'/'+data_day, str(HowManyBack)+'_Back',\"0.plots\")\n",
    "if not os.path.exists(cache_dir_plt):\n",
    "    os.makedirs(cache_dir_plt)"
   ]
  },
  {
   "cell_type": "code",
   "execution_count": null,
   "metadata": {
    "papermill": {
     "duration": null,
     "end_time": null,
     "exception": null,
     "start_time": null,
     "status": "pending"
    },
    "tags": []
   },
   "outputs": [],
   "source": [
    "path_to_plot = cache_dir_plt+\"/\"+seq_str[:seq_str.index(\"4\")]+\"_plot\""
   ]
  },
  {
   "cell_type": "code",
   "execution_count": null,
   "metadata": {
    "papermill": {
     "duration": null,
     "end_time": null,
     "exception": null,
     "start_time": null,
     "status": "pending"
    },
    "tags": []
   },
   "outputs": [],
   "source": [
    "fig, ax = plt.subplots(4, 1,figsize=(10,10),sharex=True, sharey=False)\n",
    "\n",
    "for _ax, k in zip(ax.flatten(), use_keys):\n",
    "    _ax.plot(tstamps, final_sig[k])\n",
    "    _ax.set_title(k.split('_')[0])\n",
    "    \n",
    "_ax.set_xlim(30000,50000)\n",
    "_ax.set_xlabel('Time(ms)')\n",
    "_ax.set_ylabel('dF/F0')\n",
    "fig.savefig(path_to_plot+\"_1\"+'.pdf')\n",
    "plt.show()"
   ]
  },
  {
   "cell_type": "code",
   "execution_count": null,
   "metadata": {
    "papermill": {
     "duration": null,
     "end_time": null,
     "exception": null,
     "start_time": null,
     "status": "pending"
    },
    "tags": []
   },
   "outputs": [],
   "source": [
    "fig, ax = plt.subplots(4, 1,figsize=(10,10),sharex=True, sharey=False)\n",
    "\n",
    "for _ax, k in zip(ax.flatten(), use_keys):\n",
    "    _ax.plot(tstamps, final_sig[k])\n",
    "    _ax.set_title(k.split('_')[0])\n",
    "    \n",
    "_ax.set_xlim(80000,100000)\n",
    "_ax.set_xlabel('Time(ms)')\n",
    "_ax.set_ylabel('dF/F0')\n",
    "fig.savefig(path_to_plot+\"_2\"+'.pdf')\n",
    "plt.show()"
   ]
  },
  {
   "cell_type": "code",
   "execution_count": null,
   "metadata": {
    "papermill": {
     "duration": null,
     "end_time": null,
     "exception": null,
     "start_time": null,
     "status": "pending"
    },
    "tags": []
   },
   "outputs": [],
   "source": [
    "# update photometry signal after df/f \n",
    "photometry_all_channel_df0_dff = pd.DataFrame(final_sig)\n",
    "photometry_all_channel_df0_dff = photometry_all_channel_df0_dff[[\"d2 R_dff\",\"d1 R_dff\",\"d2 L_dff\",\"d1 L_dff\"]]"
   ]
  },
  {
   "cell_type": "code",
   "execution_count": null,
   "metadata": {
    "papermill": {
     "duration": null,
     "end_time": null,
     "exception": null,
     "start_time": null,
     "status": "pending"
    },
    "tags": []
   },
   "outputs": [],
   "source": [
    "actualDffPercent = 100*photometry_all_channel_df0_dff"
   ]
  },
  {
   "cell_type": "code",
   "execution_count": null,
   "metadata": {
    "papermill": {
     "duration": null,
     "end_time": null,
     "exception": null,
     "start_time": null,
     "status": "pending"
    },
    "tags": []
   },
   "outputs": [],
   "source": [
    "aligned_behav_photo_dff = aligned_behav_photo\n",
    "aligned_behav_photo_dff[\"d2 R\"] = actualDffPercent[\"d2 R_dff\"].values\n",
    "aligned_behav_photo_dff[\"d1 R\"] = actualDffPercent[\"d1 R_dff\"].values\n",
    "aligned_behav_photo_dff[\"d2 L\"] = actualDffPercent[\"d2 L_dff\"].values\n",
    "aligned_behav_photo_dff[\"d1 L\"] = actualDffPercent[\"d1 L_dff\"].values"
   ]
  },
  {
   "cell_type": "code",
   "execution_count": null,
   "metadata": {
    "papermill": {
     "duration": null,
     "end_time": null,
     "exception": null,
     "start_time": null,
     "status": "pending"
    },
    "tags": []
   },
   "outputs": [],
   "source": [
    "processed_data = aligned_behav_photo_dff"
   ]
  },
  {
   "cell_type": "code",
   "execution_count": null,
   "metadata": {
    "papermill": {
     "duration": null,
     "end_time": null,
     "exception": null,
     "start_time": null,
     "status": "pending"
    },
    "tags": []
   },
   "outputs": [],
   "source": [
    "root = Path(data_dir_output+\"/\"+mouse+\"/\"+data_day+'/'+str(HowManyBack)+\"_Back\")\n",
    "d = mouse+\"_\"+date+\"Notebook_3_a\"+'_seq'+seq_str[seq_str.index(\"2\"):seq_str.index(\"4\")]+'.pickle'\n",
    "my_path = root / d \n",
    "my_file = open(my_path, 'wb')\n",
    "my_file = pickle.dump(processed_data,my_file)"
   ]
  },
  {
   "cell_type": "code",
   "execution_count": null,
   "metadata": {
    "papermill": {
     "duration": null,
     "end_time": null,
     "exception": null,
     "start_time": null,
     "status": "pending"
    },
    "tags": []
   },
   "outputs": [],
   "source": []
  }
 ],
 "metadata": {
  "celltoolbar": "Tags",
  "kernelspec": {
   "display_name": "Python 3",
   "language": "python",
   "name": "python3"
  },
  "language_info": {
   "codemirror_mode": {
    "name": "ipython",
    "version": 3
   },
   "file_extension": ".py",
   "mimetype": "text/x-python",
   "name": "python",
   "nbconvert_exporter": "python",
   "pygments_lexer": "ipython3",
   "version": "3.7.3"
  },
  "papermill": {
   "duration": null,
   "end_time": null,
   "environment_variables": {},
   "exception": null,
   "input_path": "/Users/gilmandelbaum/github/analysis-pipeline-for-photometry_ex/Nb_3x_photometry_signal_analysis/Notebook_3_a.ipynb",
   "output_path": "TestOutPut.ipynb",
   "parameters": {
    "HowManyBack": 1,
    "Nb0": "a",
    "Nb1": "b",
    "Nb2": "b",
    "Nb3": "a",
    "Nb4": [
     "a",
     "b",
     "c",
     "d"
    ],
    "Nb5": "a",
    "Nb6": "a",
    "Nb7": "a",
    "Start_or_end": [
     "start",
     "end",
     "start",
     "start"
    ],
    "Tags": [
     "Reward_NoReward_tag",
     "ENL_tag",
     "Cue_to_Sel_tag",
     "Cue_to_Sel_fromPrevTrial_tag"
    ],
    "Timing": [
     600,
     200,
     15,
     15
    ],
    "data_day": "2019_02_20__T171",
    "data_dir_input": "/Volumes/GilInVivoPaper.large/2.Photometry_in_str/0.data_Sets/1.lateral_medial_6/",
    "data_dir_output": "/Volumes/GilInVivoPaper.large/2.Photometry_in_str/1.lateral_medial_6_analysis/",
    "date": "2019_02_20",
    "drop2blocks": "yes",
    "drop2lastblocks": "yes",
    "mouse": "T171",
    "photo_day": "T171-153511",
    "seq_str": "0a1b2b3a4abcd5a6a7a",
    "y_axis_list": [
     "df_f",
     "z_score",
     "z_score_sliding_window"
    ]
   },
   "start_time": "2020-07-14T23:07:21.316725",
   "version": "2.1.1"
  }
 },
 "nbformat": 4,
 "nbformat_minor": 2
}