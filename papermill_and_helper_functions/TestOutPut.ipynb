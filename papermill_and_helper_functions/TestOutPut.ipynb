{
 "cells": [
  {
   "cell_type": "markdown",
   "metadata": {
    "papermill": {
     "duration": 0.01813,
     "end_time": "2020-07-06T23:40:08.511358",
     "exception": false,
     "start_time": "2020-07-06T23:40:08.493228",
     "status": "completed"
    },
    "tags": []
   },
   "source": [
    "# Notebook 3 a"
   ]
  },
  {
   "cell_type": "code",
   "execution_count": 1,
   "metadata": {
    "execution": {
     "iopub.execute_input": "2020-07-06T23:40:08.548254Z",
     "iopub.status.busy": "2020-07-06T23:40:08.547499Z",
     "iopub.status.idle": "2020-07-06T23:40:09.321706Z",
     "shell.execute_reply": "2020-07-06T23:40:09.322189Z"
    },
    "papermill": {
     "duration": 0.794037,
     "end_time": "2020-07-06T23:40:09.322323",
     "exception": false,
     "start_time": "2020-07-06T23:40:08.528286",
     "status": "completed"
    },
    "tags": []
   },
   "outputs": [],
   "source": [
    "import pandas as pd \n",
    "from tqdm.auto import tqdm\n",
    "from pathlib import Path\n",
    "import pickle\n",
    "import numpy  as np \n",
    "import matplotlib.pyplot as plt\n",
    "import os"
   ]
  },
  {
   "cell_type": "code",
   "execution_count": null,
   "metadata": {
    "papermill": {
     "duration": 0.011886,
     "end_time": "2020-07-06T23:40:09.346583",
     "exception": false,
     "start_time": "2020-07-06T23:40:09.334697",
     "status": "completed"
    },
    "tags": []
   },
   "outputs": [],
   "source": []
  },
  {
   "cell_type": "code",
   "execution_count": 2,
   "metadata": {
    "execution": {
     "iopub.execute_input": "2020-07-06T23:40:09.374933Z",
     "iopub.status.busy": "2020-07-06T23:40:09.374375Z",
     "iopub.status.idle": "2020-07-06T23:40:09.376726Z",
     "shell.execute_reply": "2020-07-06T23:40:09.377168Z"
    },
    "papermill": {
     "duration": 0.018685,
     "end_time": "2020-07-06T23:40:09.377264",
     "exception": false,
     "start_time": "2020-07-06T23:40:09.358579",
     "status": "completed"
    },
    "tags": [
     "parameters"
    ]
   },
   "outputs": [],
   "source": [
    "mouse = 'T240'\n",
    "data_day = '2019_09_27__T240'\n",
    "date = '2019_09_27'\n",
    "\n",
    "HowManyBack = 1\n",
    "\n",
    "Nb2= 'a'\n",
    "Nb3='a'\n",
    "\n",
    "data_dir_output = \"/Users/gilmandelbaum/Desktop/outPut\"\n",
    "\n",
    "seq_str = \"0a1b2a3a4ab5a6abc10a\""
   ]
  },
  {
   "cell_type": "code",
   "execution_count": 3,
   "metadata": {
    "execution": {
     "iopub.execute_input": "2020-07-06T23:40:09.406642Z",
     "iopub.status.busy": "2020-07-06T23:40:09.406156Z",
     "iopub.status.idle": "2020-07-06T23:40:09.408604Z",
     "shell.execute_reply": "2020-07-06T23:40:09.408046Z"
    },
    "papermill": {
     "duration": 0.020001,
     "end_time": "2020-07-06T23:40:09.408698",
     "exception": false,
     "start_time": "2020-07-06T23:40:09.388697",
     "status": "completed"
    },
    "tags": [
     "injected-parameters"
    ]
   },
   "outputs": [],
   "source": [
    "# Parameters\n",
    "data_dir_input = \"/Volumes/GilInVivoPaper.large/2.Photometry_in_str/1.dual_color_photo_full_data_set/\"\n",
    "data_dir_output = \"/Volumes/GilInVivoPaper.large/2.Photometry_in_str/2.dual_color_photo_full_data_set_analysis/\"\n",
    "drop2blocks = \"yes\"\n",
    "drop2lastblocks = \"yes\"\n",
    "seq_str = \"0a1b2a3a4abcd5a6ab7a\"\n",
    "HowManyBack = 1\n",
    "Nb0 = \"a\"\n",
    "Nb1 = \"b\"\n",
    "Nb2 = \"a\"\n",
    "Nb3 = \"a\"\n",
    "Nb4 = [\"a\", \"b\", \"c\", \"d\"]\n",
    "Nb5 = \"a\"\n",
    "Nb6 = [\"a\", \"b\"]\n",
    "Nb7 = \"a\"\n",
    "Tags = [\n",
    "    \"Reward_NoReward_tag\",\n",
    "    \"ENL_tag\",\n",
    "    \"Cue_to_Sel_tag\",\n",
    "    \"Cue_to_Sel_fromPrevTrial_tag\",\n",
    "]\n",
    "Timing = [600, 200, 15, 15]\n",
    "Start_or_end = [\"start\", \"end\", \"start\", \"start\"]\n",
    "y_axis_list = [\"df_f\", \"z_score\", \"z_score_sliding_window\"]\n",
    "mouse = \"T163\"\n",
    "data_day = \"2018_12_04__T163\"\n",
    "date = \"2018_12_04\"\n",
    "photo_day = \"T163-114628\"\n"
   ]
  },
  {
   "cell_type": "code",
   "execution_count": 4,
   "metadata": {
    "execution": {
     "iopub.execute_input": "2020-07-06T23:40:09.453448Z",
     "iopub.status.busy": "2020-07-06T23:40:09.452356Z",
     "iopub.status.idle": "2020-07-06T23:40:09.488059Z",
     "shell.execute_reply": "2020-07-06T23:40:09.487328Z"
    },
    "papermill": {
     "duration": 0.054798,
     "end_time": "2020-07-06T23:40:09.488165",
     "exception": false,
     "start_time": "2020-07-06T23:40:09.433367",
     "status": "completed"
    },
    "tags": []
   },
   "outputs": [],
   "source": [
    "root = Path(data_dir_output+\"/\"+mouse+\"/\"+data_day+'/'+str(HowManyBack)+\"_Back\")\n",
    "d = mouse+\"_\"+date+\"Notebook_2_\"+Nb2+'.pickle'\n",
    "my_path = root / d \n",
    "# open a file, where you stored the pickled data\n",
    "fileToOpen = open(my_path, 'rb')\n",
    "# dump information to that file\n",
    "aligned_behav_photo = pickle.load(fileToOpen)"
   ]
  },
  {
   "cell_type": "code",
   "execution_count": 5,
   "metadata": {
    "execution": {
     "iopub.execute_input": "2020-07-06T23:40:09.539312Z",
     "iopub.status.busy": "2020-07-06T23:40:09.535272Z",
     "iopub.status.idle": "2020-07-06T23:40:09.550881Z",
     "shell.execute_reply": "2020-07-06T23:40:09.551359Z"
    },
    "papermill": {
     "duration": 0.044449,
     "end_time": "2020-07-06T23:40:09.551465",
     "exception": false,
     "start_time": "2020-07-06T23:40:09.507016",
     "status": "completed"
    },
    "tags": []
   },
   "outputs": [
    {
     "data": {
      "text/html": [
       "<div>\n",
       "<style scoped>\n",
       "    .dataframe tbody tr th:only-of-type {\n",
       "        vertical-align: middle;\n",
       "    }\n",
       "\n",
       "    .dataframe tbody tr th {\n",
       "        vertical-align: top;\n",
       "    }\n",
       "\n",
       "    .dataframe thead th {\n",
       "        text-align: right;\n",
       "    }\n",
       "</style>\n",
       "<table border=\"1\" class=\"dataframe\">\n",
       "  <thead>\n",
       "    <tr style=\"text-align: right;\">\n",
       "      <th></th>\n",
       "      <th>nTrial</th>\n",
       "      <th>iBlock</th>\n",
       "      <th>iTrial</th>\n",
       "      <th>iOccurrence</th>\n",
       "      <th>iState_start</th>\n",
       "      <th>iState_end</th>\n",
       "      <th>analog1</th>\n",
       "      <th>analog2</th>\n",
       "      <th>d2 R</th>\n",
       "      <th>d1 R</th>\n",
       "      <th>d2 L</th>\n",
       "      <th>d1 L</th>\n",
       "      <th>Real_nTrials</th>\n",
       "    </tr>\n",
       "  </thead>\n",
       "  <tbody>\n",
       "    <tr>\n",
       "      <th>0</th>\n",
       "      <td>4.0</td>\n",
       "      <td>1.0</td>\n",
       "      <td>4.0</td>\n",
       "      <td>0.0</td>\n",
       "      <td>23.0</td>\n",
       "      <td>29.0</td>\n",
       "      <td>9.0</td>\n",
       "      <td>226.0</td>\n",
       "      <td>380.270935</td>\n",
       "      <td>248.767105</td>\n",
       "      <td>278.166534</td>\n",
       "      <td>401.283325</td>\n",
       "      <td>4</td>\n",
       "    </tr>\n",
       "    <tr>\n",
       "      <th>1</th>\n",
       "      <td>4.0</td>\n",
       "      <td>1.0</td>\n",
       "      <td>4.0</td>\n",
       "      <td>1.0</td>\n",
       "      <td>29.0</td>\n",
       "      <td>30.0</td>\n",
       "      <td>10.0</td>\n",
       "      <td>225.0</td>\n",
       "      <td>380.057709</td>\n",
       "      <td>248.167526</td>\n",
       "      <td>278.511017</td>\n",
       "      <td>401.514954</td>\n",
       "      <td>4</td>\n",
       "    </tr>\n",
       "    <tr>\n",
       "      <th>2</th>\n",
       "      <td>4.0</td>\n",
       "      <td>1.0</td>\n",
       "      <td>4.0</td>\n",
       "      <td>2.0</td>\n",
       "      <td>30.0</td>\n",
       "      <td>30.0</td>\n",
       "      <td>2739.0</td>\n",
       "      <td>1191.0</td>\n",
       "      <td>380.151031</td>\n",
       "      <td>248.372131</td>\n",
       "      <td>278.395020</td>\n",
       "      <td>401.347473</td>\n",
       "      <td>4</td>\n",
       "    </tr>\n",
       "    <tr>\n",
       "      <th>3</th>\n",
       "      <td>4.0</td>\n",
       "      <td>1.0</td>\n",
       "      <td>4.0</td>\n",
       "      <td>3.0</td>\n",
       "      <td>30.0</td>\n",
       "      <td>30.0</td>\n",
       "      <td>2742.0</td>\n",
       "      <td>1194.0</td>\n",
       "      <td>380.136414</td>\n",
       "      <td>248.302872</td>\n",
       "      <td>278.429718</td>\n",
       "      <td>401.316467</td>\n",
       "      <td>4</td>\n",
       "    </tr>\n",
       "    <tr>\n",
       "      <th>4</th>\n",
       "      <td>4.0</td>\n",
       "      <td>1.0</td>\n",
       "      <td>4.0</td>\n",
       "      <td>4.0</td>\n",
       "      <td>30.0</td>\n",
       "      <td>30.0</td>\n",
       "      <td>9.0</td>\n",
       "      <td>225.0</td>\n",
       "      <td>380.186981</td>\n",
       "      <td>248.408096</td>\n",
       "      <td>278.360443</td>\n",
       "      <td>401.201385</td>\n",
       "      <td>4</td>\n",
       "    </tr>\n",
       "    <tr>\n",
       "      <th>...</th>\n",
       "      <td>...</td>\n",
       "      <td>...</td>\n",
       "      <td>...</td>\n",
       "      <td>...</td>\n",
       "      <td>...</td>\n",
       "      <td>...</td>\n",
       "      <td>...</td>\n",
       "      <td>...</td>\n",
       "      <td>...</td>\n",
       "      <td>...</td>\n",
       "      <td>...</td>\n",
       "      <td>...</td>\n",
       "      <td>...</td>\n",
       "    </tr>\n",
       "    <tr>\n",
       "      <th>258115</th>\n",
       "      <td>262.0</td>\n",
       "      <td>33.0</td>\n",
       "      <td>2.0</td>\n",
       "      <td>952.0</td>\n",
       "      <td>21.0</td>\n",
       "      <td>14.0</td>\n",
       "      <td>2756.0</td>\n",
       "      <td>1193.0</td>\n",
       "      <td>365.834747</td>\n",
       "      <td>242.356461</td>\n",
       "      <td>270.862610</td>\n",
       "      <td>389.001068</td>\n",
       "      <td>262</td>\n",
       "    </tr>\n",
       "    <tr>\n",
       "      <th>258116</th>\n",
       "      <td>262.0</td>\n",
       "      <td>33.0</td>\n",
       "      <td>2.0</td>\n",
       "      <td>953.0</td>\n",
       "      <td>14.0</td>\n",
       "      <td>24.0</td>\n",
       "      <td>2754.0</td>\n",
       "      <td>1193.0</td>\n",
       "      <td>366.107880</td>\n",
       "      <td>242.316254</td>\n",
       "      <td>270.863586</td>\n",
       "      <td>389.001068</td>\n",
       "      <td>262</td>\n",
       "    </tr>\n",
       "    <tr>\n",
       "      <th>258117</th>\n",
       "      <td>262.0</td>\n",
       "      <td>33.0</td>\n",
       "      <td>2.0</td>\n",
       "      <td>954.0</td>\n",
       "      <td>24.0</td>\n",
       "      <td>25.0</td>\n",
       "      <td>8.0</td>\n",
       "      <td>226.0</td>\n",
       "      <td>365.709534</td>\n",
       "      <td>242.258072</td>\n",
       "      <td>270.916534</td>\n",
       "      <td>389.005066</td>\n",
       "      <td>262</td>\n",
       "    </tr>\n",
       "    <tr>\n",
       "      <th>258118</th>\n",
       "      <td>262.0</td>\n",
       "      <td>33.0</td>\n",
       "      <td>2.0</td>\n",
       "      <td>955.0</td>\n",
       "      <td>25.0</td>\n",
       "      <td>27.0</td>\n",
       "      <td>11.0</td>\n",
       "      <td>226.0</td>\n",
       "      <td>366.230896</td>\n",
       "      <td>242.202805</td>\n",
       "      <td>270.883362</td>\n",
       "      <td>388.999481</td>\n",
       "      <td>262</td>\n",
       "    </tr>\n",
       "    <tr>\n",
       "      <th>258119</th>\n",
       "      <td>262.0</td>\n",
       "      <td>33.0</td>\n",
       "      <td>2.0</td>\n",
       "      <td>956.0</td>\n",
       "      <td>27.0</td>\n",
       "      <td>23.0</td>\n",
       "      <td>2753.0</td>\n",
       "      <td>1193.0</td>\n",
       "      <td>365.317871</td>\n",
       "      <td>242.120392</td>\n",
       "      <td>270.970001</td>\n",
       "      <td>389.003601</td>\n",
       "      <td>262</td>\n",
       "    </tr>\n",
       "  </tbody>\n",
       "</table>\n",
       "<p>258120 rows × 13 columns</p>\n",
       "</div>"
      ],
      "text/plain": [
       "        nTrial  iBlock  iTrial  iOccurrence  iState_start  iState_end  \\\n",
       "0          4.0     1.0     4.0          0.0          23.0        29.0   \n",
       "1          4.0     1.0     4.0          1.0          29.0        30.0   \n",
       "2          4.0     1.0     4.0          2.0          30.0        30.0   \n",
       "3          4.0     1.0     4.0          3.0          30.0        30.0   \n",
       "4          4.0     1.0     4.0          4.0          30.0        30.0   \n",
       "...        ...     ...     ...          ...           ...         ...   \n",
       "258115   262.0    33.0     2.0        952.0          21.0        14.0   \n",
       "258116   262.0    33.0     2.0        953.0          14.0        24.0   \n",
       "258117   262.0    33.0     2.0        954.0          24.0        25.0   \n",
       "258118   262.0    33.0     2.0        955.0          25.0        27.0   \n",
       "258119   262.0    33.0     2.0        956.0          27.0        23.0   \n",
       "\n",
       "        analog1  analog2        d2 R        d1 R        d2 L        d1 L  \\\n",
       "0           9.0    226.0  380.270935  248.767105  278.166534  401.283325   \n",
       "1          10.0    225.0  380.057709  248.167526  278.511017  401.514954   \n",
       "2        2739.0   1191.0  380.151031  248.372131  278.395020  401.347473   \n",
       "3        2742.0   1194.0  380.136414  248.302872  278.429718  401.316467   \n",
       "4           9.0    225.0  380.186981  248.408096  278.360443  401.201385   \n",
       "...         ...      ...         ...         ...         ...         ...   \n",
       "258115   2756.0   1193.0  365.834747  242.356461  270.862610  389.001068   \n",
       "258116   2754.0   1193.0  366.107880  242.316254  270.863586  389.001068   \n",
       "258117      8.0    226.0  365.709534  242.258072  270.916534  389.005066   \n",
       "258118     11.0    226.0  366.230896  242.202805  270.883362  388.999481   \n",
       "258119   2753.0   1193.0  365.317871  242.120392  270.970001  389.003601   \n",
       "\n",
       "        Real_nTrials  \n",
       "0                  4  \n",
       "1                  4  \n",
       "2                  4  \n",
       "3                  4  \n",
       "4                  4  \n",
       "...              ...  \n",
       "258115           262  \n",
       "258116           262  \n",
       "258117           262  \n",
       "258118           262  \n",
       "258119           262  \n",
       "\n",
       "[258120 rows x 13 columns]"
      ]
     },
     "execution_count": 5,
     "metadata": {},
     "output_type": "execute_result"
    }
   ],
   "source": [
    "aligned_behav_photo"
   ]
  },
  {
   "cell_type": "markdown",
   "metadata": {
    "papermill": {
     "duration": 0.012083,
     "end_time": "2020-07-06T23:40:09.589638",
     "exception": false,
     "start_time": "2020-07-06T23:40:09.577555",
     "status": "completed"
    },
    "tags": []
   },
   "source": [
    "# Get df/f for photometry data based on sliding window"
   ]
  },
  {
   "cell_type": "code",
   "execution_count": 6,
   "metadata": {
    "execution": {
     "iopub.execute_input": "2020-07-06T23:40:09.619555Z",
     "iopub.status.busy": "2020-07-06T23:40:09.619046Z",
     "iopub.status.idle": "2020-07-06T23:40:09.621271Z",
     "shell.execute_reply": "2020-07-06T23:40:09.621736Z"
    },
    "papermill": {
     "duration": 0.020737,
     "end_time": "2020-07-06T23:40:09.621837",
     "exception": false,
     "start_time": "2020-07-06T23:40:09.601100",
     "status": "completed"
    },
    "tags": []
   },
   "outputs": [],
   "source": [
    "photometry_all_channel_afterDownSample = aligned_behav_photo[[\"d2 R\",\"d1 R\",\"d2 L\",\"d1 L\"]]"
   ]
  },
  {
   "cell_type": "code",
   "execution_count": 7,
   "metadata": {
    "execution": {
     "iopub.execute_input": "2020-07-06T23:40:09.652531Z",
     "iopub.status.busy": "2020-07-06T23:40:09.651963Z",
     "iopub.status.idle": "2020-07-06T23:40:09.701476Z",
     "shell.execute_reply": "2020-07-06T23:40:09.702001Z"
    },
    "papermill": {
     "duration": 0.06685,
     "end_time": "2020-07-06T23:40:09.702128",
     "exception": false,
     "start_time": "2020-07-06T23:40:09.635278",
     "status": "completed"
    },
    "tags": []
   },
   "outputs": [],
   "source": [
    "photometry_all_channel_afterDownSample_c = photometry_all_channel_afterDownSample.copy()\n",
    "photometry_all_channel_afterDownSample_c.to_dict('list');"
   ]
  },
  {
   "cell_type": "code",
   "execution_count": 8,
   "metadata": {
    "execution": {
     "iopub.execute_input": "2020-07-06T23:40:09.731470Z",
     "iopub.status.busy": "2020-07-06T23:40:09.730878Z",
     "iopub.status.idle": "2020-07-06T23:40:09.733232Z",
     "shell.execute_reply": "2020-07-06T23:40:09.733671Z"
    },
    "papermill": {
     "duration": 0.019172,
     "end_time": "2020-07-06T23:40:09.733764",
     "exception": false,
     "start_time": "2020-07-06T23:40:09.714592",
     "status": "completed"
    },
    "tags": []
   },
   "outputs": [],
   "source": [
    "# from https://stackoverflow.com/questions/40084931/taking-subarrays-from-numpy-array-with-given-stride-stepsize/40085052#40085052\n",
    "# dang this is fast!\n",
    "def strided_app(a, L, S):  # Window len = L, Stride len/stepsize = S\n",
    "    nrows = ((a.size-L)//S)+1\n",
    "    n = a.strides[0]\n",
    "    return np.lib.stride_tricks.as_strided(a, shape=(nrows, L), strides=(S*n, n))"
   ]
  },
  {
   "cell_type": "code",
   "execution_count": 9,
   "metadata": {
    "execution": {
     "iopub.execute_input": "2020-07-06T23:40:09.768944Z",
     "iopub.status.busy": "2020-07-06T23:40:09.768164Z",
     "iopub.status.idle": "2020-07-06T23:40:09.770649Z",
     "shell.execute_reply": "2020-07-06T23:40:09.771238Z"
    },
    "papermill": {
     "duration": 0.02318,
     "end_time": "2020-07-06T23:40:09.771365",
     "exception": false,
     "start_time": "2020-07-06T23:40:09.748185",
     "status": "completed"
    },
    "tags": []
   },
   "outputs": [],
   "source": [
    "def get_baseline(data, baseline_win, baseline_fun):\n",
    "\n",
    "    baseline_win_samples = int(baseline_win)\n",
    "    padded_data = np.pad(data,\n",
    "                         (baseline_win_samples // 2,\n",
    "                          baseline_win_samples // 2 - 1),\n",
    "                         'edge')\n",
    "\n",
    "    strides = strided_app(padded_data, baseline_win_samples, 1)\n",
    "    baseline = np.zeros((strides.shape[0], ), dtype='float32')\n",
    "    baseline[:] = np.nan\n",
    "\n",
    "    for k, data_slice in tqdm(enumerate(strides), total=strides.shape[0], desc='Computing baseline'):\n",
    "        use_data = data_slice[np.isfinite(data_slice)]\n",
    "        if len(use_data) > 0:\n",
    "            baseline[k] = baseline_fun(use_data)\n",
    "            \n",
    "    return baseline"
   ]
  },
  {
   "cell_type": "code",
   "execution_count": 10,
   "metadata": {
    "execution": {
     "iopub.execute_input": "2020-07-06T23:40:09.800653Z",
     "iopub.status.busy": "2020-07-06T23:40:09.800026Z",
     "iopub.status.idle": "2020-07-06T23:40:09.802766Z",
     "shell.execute_reply": "2020-07-06T23:40:09.803378Z"
    },
    "papermill": {
     "duration": 0.019216,
     "end_time": "2020-07-06T23:40:09.803513",
     "exception": false,
     "start_time": "2020-07-06T23:40:09.784297",
     "status": "completed"
    },
    "tags": []
   },
   "outputs": [],
   "source": [
    "baseline_fun = lambda x: np.percentile(x, 10)"
   ]
  },
  {
   "cell_type": "code",
   "execution_count": null,
   "metadata": {
    "papermill": {
     "duration": null,
     "end_time": null,
     "exception": false,
     "start_time": "2020-07-06T23:40:09.816149",
     "status": "running"
    },
    "tags": []
   },
   "outputs": [],
   "source": [
    "final_sig = {}\n",
    "\n",
    "for k, v in photometry_all_channel_afterDownSample_c.items():\n",
    "    baseline = get_baseline(v, 2000 ,baseline_fun)\n",
    "    final_sig['{}_f0'.format(k)] = baseline\n",
    "    final_sig['{}_dff'.format(k)] = (v - baseline) / baseline"
   ]
  },
  {
   "cell_type": "code",
   "execution_count": null,
   "metadata": {
    "papermill": {
     "duration": null,
     "end_time": null,
     "exception": null,
     "start_time": null,
     "status": "pending"
    },
    "tags": []
   },
   "outputs": [],
   "source": [
    "use_keys = [_ for _ in final_sig.keys() if 'dff' in _]"
   ]
  },
  {
   "cell_type": "code",
   "execution_count": null,
   "metadata": {
    "papermill": {
     "duration": null,
     "end_time": null,
     "exception": null,
     "start_time": null,
     "status": "pending"
    },
    "tags": []
   },
   "outputs": [],
   "source": [
    "tstamps = list(range(len(final_sig [\"d2 R_dff\"])))"
   ]
  },
  {
   "cell_type": "markdown",
   "metadata": {
    "papermill": {
     "duration": null,
     "end_time": null,
     "exception": null,
     "start_time": null,
     "status": "pending"
    },
    "tags": []
   },
   "source": [
    "# Plot 10 seconds of photometry data to see how it looks. "
   ]
  },
  {
   "cell_type": "code",
   "execution_count": null,
   "metadata": {
    "papermill": {
     "duration": null,
     "end_time": null,
     "exception": null,
     "start_time": null,
     "status": "pending"
    },
    "tags": []
   },
   "outputs": [],
   "source": [
    "# stash result in a cache directory, for how many back. \n",
    "cache_dir_plt = os.path.join(data_dir_output+'/'+mouse+'/'+data_day, str(HowManyBack)+'_Back',\"0.plots\")\n",
    "if not os.path.exists(cache_dir_plt):\n",
    "    os.makedirs(cache_dir_plt)"
   ]
  },
  {
   "cell_type": "code",
   "execution_count": null,
   "metadata": {
    "papermill": {
     "duration": null,
     "end_time": null,
     "exception": null,
     "start_time": null,
     "status": "pending"
    },
    "tags": []
   },
   "outputs": [],
   "source": [
    "path_to_plot = cache_dir_plt+\"/\"+seq_str[:seq_str.index(\"4\")]+\"_plot\""
   ]
  },
  {
   "cell_type": "code",
   "execution_count": null,
   "metadata": {
    "papermill": {
     "duration": null,
     "end_time": null,
     "exception": null,
     "start_time": null,
     "status": "pending"
    },
    "tags": []
   },
   "outputs": [],
   "source": [
    "fig, ax = plt.subplots(4, 1,figsize=(10,10),sharex=True, sharey=False)\n",
    "\n",
    "for _ax, k in zip(ax.flatten(), use_keys):\n",
    "    _ax.plot(tstamps, final_sig[k])\n",
    "    _ax.set_title(k.split('_')[0])\n",
    "    \n",
    "_ax.set_xlim(30000,50000)\n",
    "_ax.set_xlabel('Time(ms)')\n",
    "_ax.set_ylabel('dF/F0')\n",
    "fig.savefig(path_to_plot+\"_1\"+'.pdf')\n",
    "plt.show()"
   ]
  },
  {
   "cell_type": "code",
   "execution_count": null,
   "metadata": {
    "papermill": {
     "duration": null,
     "end_time": null,
     "exception": null,
     "start_time": null,
     "status": "pending"
    },
    "tags": []
   },
   "outputs": [],
   "source": [
    "fig, ax = plt.subplots(4, 1,figsize=(10,10),sharex=True, sharey=False)\n",
    "\n",
    "for _ax, k in zip(ax.flatten(), use_keys):\n",
    "    _ax.plot(tstamps, final_sig[k])\n",
    "    _ax.set_title(k.split('_')[0])\n",
    "    \n",
    "_ax.set_xlim(80000,100000)\n",
    "_ax.set_xlabel('Time(ms)')\n",
    "_ax.set_ylabel('dF/F0')\n",
    "fig.savefig(path_to_plot+\"_2\"+'.pdf')\n",
    "plt.show()"
   ]
  },
  {
   "cell_type": "code",
   "execution_count": null,
   "metadata": {
    "papermill": {
     "duration": null,
     "end_time": null,
     "exception": null,
     "start_time": null,
     "status": "pending"
    },
    "tags": []
   },
   "outputs": [],
   "source": [
    "# update photometry signal after df/f \n",
    "photometry_all_channel_df0_dff = pd.DataFrame(final_sig)\n",
    "photometry_all_channel_df0_dff = photometry_all_channel_df0_dff[[\"d2 R_dff\",\"d1 R_dff\",\"d2 L_dff\",\"d1 L_dff\"]]"
   ]
  },
  {
   "cell_type": "code",
   "execution_count": null,
   "metadata": {
    "papermill": {
     "duration": null,
     "end_time": null,
     "exception": null,
     "start_time": null,
     "status": "pending"
    },
    "tags": []
   },
   "outputs": [],
   "source": [
    "actualDffPercent = 100*photometry_all_channel_df0_dff"
   ]
  },
  {
   "cell_type": "code",
   "execution_count": null,
   "metadata": {
    "papermill": {
     "duration": null,
     "end_time": null,
     "exception": null,
     "start_time": null,
     "status": "pending"
    },
    "tags": []
   },
   "outputs": [],
   "source": [
    "aligned_behav_photo_dff = aligned_behav_photo\n",
    "aligned_behav_photo_dff[\"d2 R\"] = actualDffPercent[\"d2 R_dff\"].values\n",
    "aligned_behav_photo_dff[\"d1 R\"] = actualDffPercent[\"d1 R_dff\"].values\n",
    "aligned_behav_photo_dff[\"d2 L\"] = actualDffPercent[\"d2 L_dff\"].values\n",
    "aligned_behav_photo_dff[\"d1 L\"] = actualDffPercent[\"d1 L_dff\"].values"
   ]
  },
  {
   "cell_type": "code",
   "execution_count": null,
   "metadata": {
    "papermill": {
     "duration": null,
     "end_time": null,
     "exception": null,
     "start_time": null,
     "status": "pending"
    },
    "tags": []
   },
   "outputs": [],
   "source": [
    "processed_data = aligned_behav_photo_dff"
   ]
  },
  {
   "cell_type": "code",
   "execution_count": null,
   "metadata": {
    "papermill": {
     "duration": null,
     "end_time": null,
     "exception": null,
     "start_time": null,
     "status": "pending"
    },
    "tags": []
   },
   "outputs": [],
   "source": [
    "root = Path(data_dir_output+\"/\"+mouse+\"/\"+data_day+'/'+str(HowManyBack)+\"_Back\")\n",
    "d = mouse+\"_\"+date+\"Notebook_3_a.pickle\"\n",
    "#theDataFrame = \"Notebook_1_\"+Nb1+'.pickle'\n",
    "my_path = root / d \n",
    "my_file = open(my_path, 'wb')\n",
    "my_file = pickle.dump(processed_data,my_file)"
   ]
  },
  {
   "cell_type": "code",
   "execution_count": null,
   "metadata": {
    "papermill": {
     "duration": null,
     "end_time": null,
     "exception": null,
     "start_time": null,
     "status": "pending"
    },
    "tags": []
   },
   "outputs": [],
   "source": []
  }
 ],
 "metadata": {
  "celltoolbar": "Tags",
  "kernelspec": {
   "display_name": "Python 3",
   "language": "python",
   "name": "python3"
  },
  "language_info": {
   "codemirror_mode": {
    "name": "ipython",
    "version": 3
   },
   "file_extension": ".py",
   "mimetype": "text/x-python",
   "name": "python",
   "nbconvert_exporter": "python",
   "pygments_lexer": "ipython3",
   "version": "3.7.3"
  },
  "papermill": {
   "duration": null,
   "end_time": null,
   "environment_variables": {},
   "exception": null,
   "input_path": "/Users/gilmandelbaum/github/analysis-pipeline-for-photometry_ex/Nb_3x_photometry_signal_analysis/Notebook_3_a.ipynb",
   "output_path": "TestOutPut.ipynb",
   "parameters": {
    "HowManyBack": 1,
    "Nb0": "a",
    "Nb1": "b",
    "Nb2": "a",
    "Nb3": "a",
    "Nb4": [
     "a",
     "b",
     "c",
     "d"
    ],
    "Nb5": "a",
    "Nb6": [
     "a",
     "b"
    ],
    "Nb7": "a",
    "Start_or_end": [
     "start",
     "end",
     "start",
     "start"
    ],
    "Tags": [
     "Reward_NoReward_tag",
     "ENL_tag",
     "Cue_to_Sel_tag",
     "Cue_to_Sel_fromPrevTrial_tag"
    ],
    "Timing": [
     600,
     200,
     15,
     15
    ],
    "data_day": "2018_12_04__T163",
    "data_dir_input": "/Volumes/GilInVivoPaper.large/2.Photometry_in_str/1.dual_color_photo_full_data_set/",
    "data_dir_output": "/Volumes/GilInVivoPaper.large/2.Photometry_in_str/2.dual_color_photo_full_data_set_analysis/",
    "date": "2018_12_04",
    "drop2blocks": "yes",
    "drop2lastblocks": "yes",
    "mouse": "T163",
    "photo_day": "T163-114628",
    "seq_str": "0a1b2a3a4abcd5a6ab7a",
    "y_axis_list": [
     "df_f",
     "z_score",
     "z_score_sliding_window"
    ]
   },
   "start_time": "2020-07-06T23:40:07.581769",
   "version": "2.1.1"
  }
 },
 "nbformat": 4,
 "nbformat_minor": 2
}