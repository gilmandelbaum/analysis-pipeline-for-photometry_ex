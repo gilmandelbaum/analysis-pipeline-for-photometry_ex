{
 "cells": [
  {
   "cell_type": "markdown",
   "metadata": {
    "papermill": {
     "duration": 0.023516,
     "end_time": "2020-06-26T15:07:22.828305",
     "exception": false,
     "start_time": "2020-06-26T15:07:22.804789",
     "status": "completed"
    },
    "tags": []
   },
   "source": [
    "# Notebook 3 c"
   ]
  },
  {
   "cell_type": "code",
   "execution_count": 1,
   "metadata": {
    "execution": {
     "iopub.execute_input": "2020-06-26T15:07:22.877180Z",
     "iopub.status.busy": "2020-06-26T15:07:22.876557Z",
     "iopub.status.idle": "2020-06-26T15:07:23.639658Z",
     "shell.execute_reply": "2020-06-26T15:07:23.638984Z"
    },
    "papermill": {
     "duration": 0.789694,
     "end_time": "2020-06-26T15:07:23.639766",
     "exception": false,
     "start_time": "2020-06-26T15:07:22.850072",
     "status": "completed"
    },
    "tags": []
   },
   "outputs": [],
   "source": [
    "import pandas as pd \n",
    "from tqdm.auto import tqdm\n",
    "from pathlib import Path\n",
    "import pickle\n",
    "import numpy  as np \n",
    "import matplotlib.pyplot as plt\n",
    "import os"
   ]
  },
  {
   "cell_type": "code",
   "execution_count": 2,
   "metadata": {
    "execution": {
     "iopub.execute_input": "2020-06-26T15:07:23.685383Z",
     "iopub.status.busy": "2020-06-26T15:07:23.684785Z",
     "iopub.status.idle": "2020-06-26T15:07:23.687394Z",
     "shell.execute_reply": "2020-06-26T15:07:23.686792Z"
    },
    "papermill": {
     "duration": 0.027043,
     "end_time": "2020-06-26T15:07:23.687492",
     "exception": false,
     "start_time": "2020-06-26T15:07:23.660449",
     "status": "completed"
    },
    "tags": [
     "parameters"
    ]
   },
   "outputs": [],
   "source": [
    "mouse = 'T240'\n",
    "data_day = '2019_09_27__T240'\n",
    "date = '2019_09_27'\n",
    "\n",
    "HowManyBack = 1\n",
    "\n",
    "Nb2= 'a'\n",
    "Nb3='c'\n",
    "\n",
    "data_dir_output = \"/Users/gilmandelbaum/Desktop/outPut\"\n",
    "\n",
    "seq_str = \"0a1b2a3c4ab5a6abc10a\""
   ]
  },
  {
   "cell_type": "code",
   "execution_count": 3,
   "metadata": {
    "execution": {
     "iopub.execute_input": "2020-06-26T15:07:23.732920Z",
     "iopub.status.busy": "2020-06-26T15:07:23.732293Z",
     "iopub.status.idle": "2020-06-26T15:07:23.734831Z",
     "shell.execute_reply": "2020-06-26T15:07:23.734230Z"
    },
    "papermill": {
     "duration": 0.028483,
     "end_time": "2020-06-26T15:07:23.734927",
     "exception": false,
     "start_time": "2020-06-26T15:07:23.706444",
     "status": "completed"
    },
    "tags": [
     "injected-parameters"
    ]
   },
   "outputs": [],
   "source": [
    "# Parameters\n",
    "data_dir_input = \"/Volumes/GilInVivoPaper.large/2.Photometry_in_str/1.dual_color_photo_full_data_set_3/\"\n",
    "data_dir_output = \"/Volumes/GilInVivoPaper.large/2.Photometry_in_str/2.dual_color_photo_full_data_set_analysis_3/\"\n",
    "drop2blocks = \"yes\"\n",
    "drop2lastblocks = \"yes\"\n",
    "seq_str = \"0a1b2a3c4abcd5a6a7a\"\n",
    "HowManyBack = 1\n",
    "Nb0 = \"a\"\n",
    "Nb1 = \"b\"\n",
    "Nb2 = \"a\"\n",
    "Nb3 = \"c\"\n",
    "Nb4 = [\"a\", \"b\", \"c\", \"d\"]\n",
    "Nb5 = \"a\"\n",
    "Nb6 = \"a\"\n",
    "Nb7 = \"a\"\n",
    "Tags = [\n",
    "    \"Reward_NoReward_tag\",\n",
    "    \"ENL_tag\",\n",
    "    \"Cue_to_Sel_tag\",\n",
    "    \"Cue_to_Sel_fromPrevTrial_tag\",\n",
    "]\n",
    "Timing = [600, 200, 15, 15]\n",
    "Start_or_end = [\"start\", \"end\", \"start\", \"start\"]\n",
    "y_axis_list = [\"df_f\", \"z_score\", \"z_score_sliding_window\"]\n",
    "mouse = \"T187\"\n",
    "data_day = \"2019_03_28__T187\"\n",
    "date = \"2019_03_28\"\n",
    "photo_day = \"T187-152018\"\n"
   ]
  },
  {
   "cell_type": "code",
   "execution_count": 4,
   "metadata": {
    "execution": {
     "iopub.execute_input": "2020-06-26T15:07:23.778789Z",
     "iopub.status.busy": "2020-06-26T15:07:23.778178Z",
     "iopub.status.idle": "2020-06-26T15:07:24.303065Z",
     "shell.execute_reply": "2020-06-26T15:07:24.302425Z"
    },
    "papermill": {
     "duration": 0.549177,
     "end_time": "2020-06-26T15:07:24.303161",
     "exception": false,
     "start_time": "2020-06-26T15:07:23.753984",
     "status": "completed"
    },
    "tags": []
   },
   "outputs": [],
   "source": [
    "root = Path(data_dir_output+\"/\"+mouse+\"/\"+data_day+'/'+str(HowManyBack)+\"_Back\")\n",
    "d = mouse+\"_\"+date+\"Notebook_2_\"+Nb2+'.pickle'\n",
    "my_path = root / d \n",
    "# open a file, where you stored the pickled data\n",
    "fileToOpen = open(my_path, 'rb')\n",
    "# dump information to that file\n",
    "aligned_behav_photo = pickle.load(fileToOpen)"
   ]
  },
  {
   "cell_type": "markdown",
   "metadata": {
    "papermill": {
     "duration": 0.019025,
     "end_time": "2020-06-26T15:07:24.342828",
     "exception": false,
     "start_time": "2020-06-26T15:07:24.323803",
     "status": "completed"
    },
    "tags": []
   },
   "source": [
    "# Get df/f for photometry data based on sliding window"
   ]
  },
  {
   "cell_type": "code",
   "execution_count": 5,
   "metadata": {
    "execution": {
     "iopub.execute_input": "2020-06-26T15:07:24.386390Z",
     "iopub.status.busy": "2020-06-26T15:07:24.385823Z",
     "iopub.status.idle": "2020-06-26T15:07:24.388652Z",
     "shell.execute_reply": "2020-06-26T15:07:24.388010Z"
    },
    "papermill": {
     "duration": 0.026558,
     "end_time": "2020-06-26T15:07:24.388749",
     "exception": false,
     "start_time": "2020-06-26T15:07:24.362191",
     "status": "completed"
    },
    "tags": []
   },
   "outputs": [],
   "source": [
    "photometry_all_channel_afterDownSample = aligned_behav_photo[[\"d2 R\",\"d1 R\",\"d2 L\",\"d1 L\"]]"
   ]
  },
  {
   "cell_type": "code",
   "execution_count": 6,
   "metadata": {
    "execution": {
     "iopub.execute_input": "2020-06-26T15:07:24.430620Z",
     "iopub.status.busy": "2020-06-26T15:07:24.429914Z",
     "iopub.status.idle": "2020-06-26T15:07:24.486990Z",
     "shell.execute_reply": "2020-06-26T15:07:24.487844Z"
    },
    "papermill": {
     "duration": 0.080372,
     "end_time": "2020-06-26T15:07:24.487996",
     "exception": false,
     "start_time": "2020-06-26T15:07:24.407624",
     "status": "completed"
    },
    "tags": []
   },
   "outputs": [],
   "source": [
    "photometry_all_channel_afterDownSample_c = photometry_all_channel_afterDownSample.copy()\n",
    "photometry_all_channel_afterDownSample_c.to_dict('list');"
   ]
  },
  {
   "cell_type": "code",
   "execution_count": 7,
   "metadata": {
    "execution": {
     "iopub.execute_input": "2020-06-26T15:07:24.534980Z",
     "iopub.status.busy": "2020-06-26T15:07:24.534390Z",
     "iopub.status.idle": "2020-06-26T15:07:24.537121Z",
     "shell.execute_reply": "2020-06-26T15:07:24.536493Z"
    },
    "papermill": {
     "duration": 0.027605,
     "end_time": "2020-06-26T15:07:24.537219",
     "exception": false,
     "start_time": "2020-06-26T15:07:24.509614",
     "status": "completed"
    },
    "tags": []
   },
   "outputs": [],
   "source": [
    "# from https://stackoverflow.com/questions/40084931/taking-subarrays-from-numpy-array-with-given-stride-stepsize/40085052#40085052\n",
    "# dang this is fast!\n",
    "def strided_app(a, L, S):  # Window len = L, Stride len/stepsize = S\n",
    "    nrows = ((a.size-L)//S)+1\n",
    "    n = a.strides[0]\n",
    "    return np.lib.stride_tricks.as_strided(a, shape=(nrows, L), strides=(S*n, n))"
   ]
  },
  {
   "cell_type": "code",
   "execution_count": 8,
   "metadata": {
    "execution": {
     "iopub.execute_input": "2020-06-26T15:07:24.581953Z",
     "iopub.status.busy": "2020-06-26T15:07:24.581147Z",
     "iopub.status.idle": "2020-06-26T15:07:24.583699Z",
     "shell.execute_reply": "2020-06-26T15:07:24.583110Z"
    },
    "papermill": {
     "duration": 0.027635,
     "end_time": "2020-06-26T15:07:24.583791",
     "exception": false,
     "start_time": "2020-06-26T15:07:24.556156",
     "status": "completed"
    },
    "tags": []
   },
   "outputs": [],
   "source": [
    "def get_baseline(data, baseline_win, baseline_fun):\n",
    "\n",
    "    baseline_win_samples = int(baseline_win)\n",
    "    padded_data = np.pad(data,\n",
    "                         (baseline_win_samples // 2,\n",
    "                          baseline_win_samples // 2 - 1),\n",
    "                         'edge')\n",
    "\n",
    "    strides = strided_app(padded_data, baseline_win_samples, 1)\n",
    "    baseline = np.zeros((strides.shape[0], ), dtype='float32')\n",
    "    baseline[:] = np.nan\n",
    "\n",
    "    for k, data_slice in tqdm(enumerate(strides), total=strides.shape[0], desc='Computing baseline'):\n",
    "        use_data = data_slice[np.isfinite(data_slice)]\n",
    "        if len(use_data) > 0:\n",
    "            baseline[k] = baseline_fun(use_data)\n",
    "            \n",
    "    return baseline"
   ]
  },
  {
   "cell_type": "code",
   "execution_count": 9,
   "metadata": {
    "execution": {
     "iopub.execute_input": "2020-06-26T15:07:24.626272Z",
     "iopub.status.busy": "2020-06-26T15:07:24.625450Z",
     "iopub.status.idle": "2020-06-26T15:07:24.628308Z",
     "shell.execute_reply": "2020-06-26T15:07:24.627665Z"
    },
    "papermill": {
     "duration": 0.025817,
     "end_time": "2020-06-26T15:07:24.628408",
     "exception": false,
     "start_time": "2020-06-26T15:07:24.602591",
     "status": "completed"
    },
    "tags": []
   },
   "outputs": [],
   "source": [
    "baseline_fun = lambda x: np.percentile(x, 10)"
   ]
  },
  {
   "cell_type": "code",
   "execution_count": 10,
   "metadata": {
    "execution": {
     "iopub.execute_input": "2020-06-26T15:07:24.675314Z",
     "iopub.status.busy": "2020-06-26T15:07:24.674732Z"
    },
    "papermill": {
     "duration": null,
     "end_time": null,
     "exception": false,
     "start_time": "2020-06-26T15:07:24.649564",
     "status": "running"
    },
    "tags": []
   },
   "outputs": [
    {
     "data": {
      "application/vnd.jupyter.widget-view+json": {
       "model_id": "8f6b4bbd8a8b4cff84474d4f4e5ea9b5",
       "version_major": 2,
       "version_minor": 0
      },
      "text/plain": [
       "HBox(children=(FloatProgress(value=0.0, description='Computing baseline', max=254024.0, style=ProgressStyle(de…"
      ]
     },
     "metadata": {},
     "output_type": "display_data"
    },
    {
     "name": "stdout",
     "output_type": "stream",
     "text": [
      "\n"
     ]
    },
    {
     "data": {
      "application/vnd.jupyter.widget-view+json": {
       "model_id": "19732c464d8347d28c5e36debc5bbeb3",
       "version_major": 2,
       "version_minor": 0
      },
      "text/plain": [
       "HBox(children=(FloatProgress(value=0.0, description='Computing baseline', max=254024.0, style=ProgressStyle(de…"
      ]
     },
     "metadata": {},
     "output_type": "display_data"
    },
    {
     "name": "stdout",
     "output_type": "stream",
     "text": [
      "\n"
     ]
    },
    {
     "data": {
      "application/vnd.jupyter.widget-view+json": {
       "model_id": "b1d95b23ef834bc6b1fe2b68e69b8ee0",
       "version_major": 2,
       "version_minor": 0
      },
      "text/plain": [
       "HBox(children=(FloatProgress(value=0.0, description='Computing baseline', max=254024.0, style=ProgressStyle(de…"
      ]
     },
     "metadata": {},
     "output_type": "display_data"
    }
   ],
   "source": [
    "final_sig = {}\n",
    "\n",
    "for k, v in photometry_all_channel_afterDownSample_c.items():\n",
    "    baseline = get_baseline(v, 2000 ,baseline_fun)\n",
    "    final_sig['{}_f0'.format(k)] = baseline\n",
    "    final_sig['{}_dff'.format(k)] = (v - baseline) / baseline"
   ]
  },
  {
   "cell_type": "code",
   "execution_count": null,
   "metadata": {
    "papermill": {
     "duration": null,
     "end_time": null,
     "exception": null,
     "start_time": null,
     "status": "pending"
    },
    "tags": []
   },
   "outputs": [],
   "source": [
    "use_keys = [_ for _ in final_sig.keys() if 'dff' in _]"
   ]
  },
  {
   "cell_type": "code",
   "execution_count": null,
   "metadata": {
    "papermill": {
     "duration": null,
     "end_time": null,
     "exception": null,
     "start_time": null,
     "status": "pending"
    },
    "tags": []
   },
   "outputs": [],
   "source": [
    "tstamps = list(range(len(final_sig [\"d2 R_dff\"])))"
   ]
  },
  {
   "cell_type": "markdown",
   "metadata": {
    "papermill": {
     "duration": null,
     "end_time": null,
     "exception": null,
     "start_time": null,
     "status": "pending"
    },
    "tags": []
   },
   "source": [
    "# Plot 10 seconds of photometry data to see how it looks. "
   ]
  },
  {
   "cell_type": "code",
   "execution_count": null,
   "metadata": {
    "papermill": {
     "duration": null,
     "end_time": null,
     "exception": null,
     "start_time": null,
     "status": "pending"
    },
    "tags": []
   },
   "outputs": [],
   "source": [
    "# fig, ax = plt.subplots(4, 1,figsize=(10,10),sharex=True, sharey=False)\n",
    "\n",
    "# for _ax, k in zip(ax.flatten(), use_keys):\n",
    "#     _ax.plot(tstamps, final_sig[k])\n",
    "#     _ax.set_title(k.split('_')[0])\n",
    "    \n",
    "# _ax.set_xlim(30000,40000)\n",
    "# _ax.set_xlabel('Time(ms)')\n",
    "# _ax.set_ylabel('dF/F0')\n",
    "# plt.show()"
   ]
  },
  {
   "cell_type": "code",
   "execution_count": null,
   "metadata": {
    "papermill": {
     "duration": null,
     "end_time": null,
     "exception": null,
     "start_time": null,
     "status": "pending"
    },
    "tags": []
   },
   "outputs": [],
   "source": [
    "# update photometry signal after df/f \n",
    "photometry_all_channel_df0_dff = pd.DataFrame(final_sig)\n",
    "photometry_all_channel_df0_dff = photometry_all_channel_df0_dff[[\"d2 R_dff\",\"d1 R_dff\",\"d2 L_dff\",\"d1 L_dff\"]]"
   ]
  },
  {
   "cell_type": "code",
   "execution_count": null,
   "metadata": {
    "papermill": {
     "duration": null,
     "end_time": null,
     "exception": null,
     "start_time": null,
     "status": "pending"
    },
    "tags": []
   },
   "outputs": [],
   "source": [
    "actualDffPercent = 100*photometry_all_channel_df0_dff"
   ]
  },
  {
   "cell_type": "code",
   "execution_count": null,
   "metadata": {
    "papermill": {
     "duration": null,
     "end_time": null,
     "exception": null,
     "start_time": null,
     "status": "pending"
    },
    "tags": []
   },
   "outputs": [],
   "source": []
  },
  {
   "cell_type": "markdown",
   "metadata": {
    "papermill": {
     "duration": null,
     "end_time": null,
     "exception": null,
     "start_time": null,
     "status": "pending"
    },
    "tags": []
   },
   "source": [
    "# sliding window for z score: "
   ]
  },
  {
   "cell_type": "code",
   "execution_count": null,
   "metadata": {
    "papermill": {
     "duration": null,
     "end_time": null,
     "exception": null,
     "start_time": null,
     "status": "pending"
    },
    "tags": []
   },
   "outputs": [],
   "source": [
    "baseline_win_samples = 2000"
   ]
  },
  {
   "cell_type": "code",
   "execution_count": null,
   "metadata": {
    "papermill": {
     "duration": null,
     "end_time": null,
     "exception": null,
     "start_time": null,
     "status": "pending"
    },
    "tags": []
   },
   "outputs": [],
   "source": [
    "padded_data = pd.DataFrame(columns = [\"d2 R_dff\",\"d1 R_dff\",\"d2 L_dff\",\"d1 L_dff\"])\n",
    "padded_data[\"d2 R_dff\"] = np.pad(actualDffPercent[\"d2 R_dff\"], (baseline_win_samples // 2, baseline_win_samples // 2-1 ), 'edge')\n",
    "padded_data[\"d1 R_dff\"] = np.pad(actualDffPercent[\"d1 R_dff\"], (baseline_win_samples // 2, baseline_win_samples // 2-1 ), 'edge')\n",
    "padded_data[\"d2 L_dff\"] = np.pad(actualDffPercent[\"d2 L_dff\"], (baseline_win_samples // 2, baseline_win_samples // 2-1 ), 'edge')\n",
    "padded_data[\"d1 L_dff\"] = np.pad(actualDffPercent[\"d1 L_dff\"], (baseline_win_samples // 2, baseline_win_samples // 2-1 ), 'edge')"
   ]
  },
  {
   "cell_type": "code",
   "execution_count": null,
   "metadata": {
    "papermill": {
     "duration": null,
     "end_time": null,
     "exception": null,
     "start_time": null,
     "status": "pending"
    },
    "tags": []
   },
   "outputs": [],
   "source": [
    "def zscore(x, window):\n",
    "    r = x.rolling(window=window,center=True)\n",
    "    m = r.mean()\n",
    "    s = r.std(ddof=0)\n",
    "    z = (x-m)/s\n",
    "    return z"
   ]
  },
  {
   "cell_type": "code",
   "execution_count": null,
   "metadata": {
    "papermill": {
     "duration": null,
     "end_time": null,
     "exception": null,
     "start_time": null,
     "status": "pending"
    },
    "tags": []
   },
   "outputs": [],
   "source": [
    "padded_data_rolling = pd.DataFrame(columns = [\"d2 R_dff\",\"d1 R_dff\",\"d2 L_dff\",\"d1 L_dff\"])\n",
    "padded_data_rolling[\"d2 R_dff\"] = zscore(padded_data[\"d2 R_dff\"],baseline_win_samples)\n",
    "padded_data_rolling[\"d1 R_dff\"] = zscore(padded_data[\"d1 R_dff\"],baseline_win_samples)\n",
    "padded_data_rolling[\"d2 L_dff\"] = zscore(padded_data[\"d2 L_dff\"],baseline_win_samples)\n",
    "padded_data_rolling[\"d1 L_dff\"] = zscore(padded_data[\"d1 L_dff\"],baseline_win_samples)"
   ]
  },
  {
   "cell_type": "code",
   "execution_count": null,
   "metadata": {
    "papermill": {
     "duration": null,
     "end_time": null,
     "exception": null,
     "start_time": null,
     "status": "pending"
    },
    "tags": []
   },
   "outputs": [],
   "source": [
    "padded_data_rolling = padded_data_rolling.dropna()\n",
    "padded_data_rolling = padded_data_rolling.reset_index(drop=True)"
   ]
  },
  {
   "cell_type": "code",
   "execution_count": null,
   "metadata": {
    "papermill": {
     "duration": null,
     "end_time": null,
     "exception": null,
     "start_time": null,
     "status": "pending"
    },
    "tags": []
   },
   "outputs": [],
   "source": [
    "aligned_behav_photo_padded_data_rolling = aligned_behav_photo\n",
    "aligned_behav_photo_padded_data_rolling[\"d2 R\"] = padded_data_rolling[\"d2 R_dff\"].values\n",
    "aligned_behav_photo_padded_data_rolling[\"d1 R\"] = padded_data_rolling[\"d1 R_dff\"].values\n",
    "aligned_behav_photo_padded_data_rolling[\"d2 L\"] = padded_data_rolling[\"d2 L_dff\"].values\n",
    "aligned_behav_photo_padded_data_rolling[\"d1 L\"] = padded_data_rolling[\"d1 L_dff\"].values"
   ]
  },
  {
   "cell_type": "code",
   "execution_count": null,
   "metadata": {
    "papermill": {
     "duration": null,
     "end_time": null,
     "exception": null,
     "start_time": null,
     "status": "pending"
    },
    "tags": []
   },
   "outputs": [],
   "source": [
    "processed_data = aligned_behav_photo_padded_data_rolling"
   ]
  },
  {
   "cell_type": "code",
   "execution_count": null,
   "metadata": {
    "papermill": {
     "duration": null,
     "end_time": null,
     "exception": null,
     "start_time": null,
     "status": "pending"
    },
    "tags": []
   },
   "outputs": [],
   "source": []
  },
  {
   "cell_type": "markdown",
   "metadata": {
    "papermill": {
     "duration": null,
     "end_time": null,
     "exception": null,
     "start_time": null,
     "status": "pending"
    },
    "tags": []
   },
   "source": [
    "# plot the data after the rolling z-score is applied: "
   ]
  },
  {
   "cell_type": "code",
   "execution_count": null,
   "metadata": {
    "papermill": {
     "duration": null,
     "end_time": null,
     "exception": null,
     "start_time": null,
     "status": "pending"
    },
    "tags": []
   },
   "outputs": [],
   "source": [
    "# stash result in a cache directory, for how many back. \n",
    "cache_dir_plt = os.path.join(data_dir_output+'/'+mouse+'/'+data_day, str(HowManyBack)+'_Back',\"0.plots\")\n",
    "if not os.path.exists(cache_dir_plt):\n",
    "    os.makedirs(cache_dir_plt)"
   ]
  },
  {
   "cell_type": "code",
   "execution_count": null,
   "metadata": {
    "papermill": {
     "duration": null,
     "end_time": null,
     "exception": null,
     "start_time": null,
     "status": "pending"
    },
    "tags": []
   },
   "outputs": [],
   "source": [
    "path_to_plot = cache_dir_plt+\"/\"+seq_str[:seq_str.index(\"4\")]+\"_plot\""
   ]
  },
  {
   "cell_type": "code",
   "execution_count": null,
   "metadata": {
    "papermill": {
     "duration": null,
     "end_time": null,
     "exception": null,
     "start_time": null,
     "status": "pending"
    },
    "tags": []
   },
   "outputs": [],
   "source": [
    "keys = [\"d2 R\",\"d1 R\",\"d2 L\",\"d1 L\"]"
   ]
  },
  {
   "cell_type": "code",
   "execution_count": null,
   "metadata": {
    "papermill": {
     "duration": null,
     "end_time": null,
     "exception": null,
     "start_time": null,
     "status": "pending"
    },
    "tags": []
   },
   "outputs": [],
   "source": [
    "fig, ax = plt.subplots(4, 1,figsize=(10,10),sharex=True, sharey=False)\n",
    "\n",
    "for _ax, k in zip(ax.flatten(), keys):\n",
    "    _ax.plot(tstamps, processed_data[k])\n",
    "    _ax.set_title(k.split('_')[0])\n",
    "    \n",
    "_ax.set_xlim(30000,50000)\n",
    "_ax.set_xlabel('Time(ms)')\n",
    "_ax.set_ylabel(\"Zscore\")\n",
    "fig.savefig(path_to_plot+\"_1\"+'.pdf')\n",
    "plt.show()"
   ]
  },
  {
   "cell_type": "code",
   "execution_count": null,
   "metadata": {
    "papermill": {
     "duration": null,
     "end_time": null,
     "exception": null,
     "start_time": null,
     "status": "pending"
    },
    "tags": []
   },
   "outputs": [],
   "source": [
    "fig, ax = plt.subplots(4, 1,figsize=(10,10),sharex=True, sharey=False)\n",
    "\n",
    "for _ax, k in zip(ax.flatten(), keys):\n",
    "    _ax.plot(tstamps, processed_data[k])\n",
    "    _ax.set_title(k.split('_')[0])\n",
    "    \n",
    "_ax.set_xlim(80000,100000)\n",
    "_ax.set_xlabel('Time(ms)')\n",
    "_ax.set_ylabel(\"Zscore\")\n",
    "fig.savefig(path_to_plot+\"_2\"+'.pdf')\n",
    "plt.show()"
   ]
  },
  {
   "cell_type": "code",
   "execution_count": null,
   "metadata": {
    "papermill": {
     "duration": null,
     "end_time": null,
     "exception": null,
     "start_time": null,
     "status": "pending"
    },
    "tags": []
   },
   "outputs": [],
   "source": [
    "root = Path(data_dir_output+\"/\"+mouse+\"/\"+data_day+'/'+str(HowManyBack)+\"_Back\")\n",
    "d = mouse+\"_\"+date+\"Notebook_3_c.pickle\"\n",
    "#theDataFrame = \"Notebook_1_\"+Nb1+'.pickle'\n",
    "my_path = root / d \n",
    "my_file = open(my_path, 'wb')\n",
    "my_file = pickle.dump(processed_data,my_file)"
   ]
  },
  {
   "cell_type": "code",
   "execution_count": null,
   "metadata": {
    "papermill": {
     "duration": null,
     "end_time": null,
     "exception": null,
     "start_time": null,
     "status": "pending"
    },
    "tags": []
   },
   "outputs": [],
   "source": []
  }
 ],
 "metadata": {
  "celltoolbar": "Tags",
  "kernelspec": {
   "display_name": "Python 3",
   "language": "python",
   "name": "python3"
  },
  "language_info": {
   "codemirror_mode": {
    "name": "ipython",
    "version": 3
   },
   "file_extension": ".py",
   "mimetype": "text/x-python",
   "name": "python",
   "nbconvert_exporter": "python",
   "pygments_lexer": "ipython3",
   "version": "3.7.3"
  },
  "papermill": {
   "duration": null,
   "end_time": null,
   "environment_variables": {},
   "exception": null,
   "input_path": "/Users/gilmandelbaum/github/analysis-pipeline-for-photometry_ex/Nb_3x_photometry_signal_analysis/Notebook_3_c.ipynb",
   "output_path": "TestOutPut.ipynb",
   "parameters": {
    "HowManyBack": 1,
    "Nb0": "a",
    "Nb1": "b",
    "Nb2": "a",
    "Nb3": "c",
    "Nb4": [
     "a",
     "b",
     "c",
     "d"
    ],
    "Nb5": "a",
    "Nb6": "a",
    "Nb7": "a",
    "Start_or_end": [
     "start",
     "end",
     "start",
     "start"
    ],
    "Tags": [
     "Reward_NoReward_tag",
     "ENL_tag",
     "Cue_to_Sel_tag",
     "Cue_to_Sel_fromPrevTrial_tag"
    ],
    "Timing": [
     600,
     200,
     15,
     15
    ],
    "data_day": "2019_03_28__T187",
    "data_dir_input": "/Volumes/GilInVivoPaper.large/2.Photometry_in_str/1.dual_color_photo_full_data_set_3/",
    "data_dir_output": "/Volumes/GilInVivoPaper.large/2.Photometry_in_str/2.dual_color_photo_full_data_set_analysis_3/",
    "date": "2019_03_28",
    "drop2blocks": "yes",
    "drop2lastblocks": "yes",
    "mouse": "T187",
    "photo_day": "T187-152018",
    "seq_str": "0a1b2a3c4abcd5a6a7a",
    "y_axis_list": [
     "df_f",
     "z_score",
     "z_score_sliding_window"
    ]
   },
   "start_time": "2020-06-26T15:07:21.936150",
   "version": "2.1.1"
  }
 },
 "nbformat": 4,
 "nbformat_minor": 2
}