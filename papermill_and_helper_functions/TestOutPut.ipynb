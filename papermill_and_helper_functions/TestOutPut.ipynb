{
 "cells": [
  {
   "cell_type": "markdown",
   "metadata": {
    "papermill": {
     "duration": 0.016629,
     "end_time": "2020-06-09T19:45:20.074203",
     "exception": false,
     "start_time": "2020-06-09T19:45:20.057574",
     "status": "completed"
    },
    "tags": []
   },
   "source": [
    "# Notebook 7b: "
   ]
  },
  {
   "cell_type": "markdown",
   "metadata": {
    "papermill": {
     "duration": 0.014802,
     "end_time": "2020-06-09T19:45:20.107175",
     "exception": false,
     "start_time": "2020-06-09T19:45:20.092373",
     "status": "completed"
    },
    "tags": []
   },
   "source": [
    "simple plot ipsi contra combined win stay and lose switch conditions. recordings from the right side hemisphere. "
   ]
  },
  {
   "cell_type": "code",
   "execution_count": 1,
   "metadata": {
    "execution": {
     "iopub.execute_input": "2020-06-09T19:45:20.137379Z",
     "iopub.status.busy": "2020-06-09T19:45:20.136817Z",
     "iopub.status.idle": "2020-06-09T19:45:20.430767Z",
     "shell.execute_reply": "2020-06-09T19:45:20.430118Z"
    },
    "papermill": {
     "duration": 0.310639,
     "end_time": "2020-06-09T19:45:20.430867",
     "exception": false,
     "start_time": "2020-06-09T19:45:20.120228",
     "status": "completed"
    },
    "tags": []
   },
   "outputs": [],
   "source": [
    "import os\n",
    "from pathlib import Path\n",
    "import pickle\n",
    "import matplotlib.pyplot as plt"
   ]
  },
  {
   "cell_type": "code",
   "execution_count": 2,
   "metadata": {
    "execution": {
     "iopub.execute_input": "2020-06-09T19:45:20.463576Z",
     "iopub.status.busy": "2020-06-09T19:45:20.463013Z",
     "iopub.status.idle": "2020-06-09T19:45:20.465889Z",
     "shell.execute_reply": "2020-06-09T19:45:20.465322Z"
    },
    "papermill": {
     "duration": 0.019975,
     "end_time": "2020-06-09T19:45:20.465978",
     "exception": false,
     "start_time": "2020-06-09T19:45:20.446003",
     "status": "completed"
    },
    "tags": []
   },
   "outputs": [],
   "source": [
    "import Notebook_7_helper_functions as Nb_7"
   ]
  },
  {
   "cell_type": "markdown",
   "metadata": {
    "papermill": {
     "duration": 0.011361,
     "end_time": "2020-06-09T19:45:20.489932",
     "exception": false,
     "start_time": "2020-06-09T19:45:20.478571",
     "status": "completed"
    },
    "tags": []
   },
   "source": [
    "\n",
    "# Needs to be updated if more notebooks 3s are added: \n"
   ]
  },
  {
   "cell_type": "code",
   "execution_count": 3,
   "metadata": {
    "execution": {
     "iopub.execute_input": "2020-06-09T19:45:20.516040Z",
     "iopub.status.busy": "2020-06-09T19:45:20.515579Z",
     "iopub.status.idle": "2020-06-09T19:45:20.517854Z",
     "shell.execute_reply": "2020-06-09T19:45:20.517380Z"
    },
    "papermill": {
     "duration": 0.016576,
     "end_time": "2020-06-09T19:45:20.517927",
     "exception": false,
     "start_time": "2020-06-09T19:45:20.501351",
     "status": "completed"
    },
    "tags": []
   },
   "outputs": [],
   "source": [
    "Nb_name= 'Notebook_7_b'\n",
    "period_of_interest = \"combined_periods_1\""
   ]
  },
  {
   "cell_type": "code",
   "execution_count": null,
   "metadata": {
    "papermill": {
     "duration": 0.01081,
     "end_time": "2020-06-09T19:45:20.539667",
     "exception": false,
     "start_time": "2020-06-09T19:45:20.528857",
     "status": "completed"
    },
    "tags": []
   },
   "outputs": [],
   "source": []
  },
  {
   "cell_type": "code",
   "execution_count": 4,
   "metadata": {
    "execution": {
     "iopub.execute_input": "2020-06-09T19:45:20.568701Z",
     "iopub.status.busy": "2020-06-09T19:45:20.568229Z",
     "iopub.status.idle": "2020-06-09T19:45:20.570455Z",
     "shell.execute_reply": "2020-06-09T19:45:20.569977Z"
    },
    "papermill": {
     "duration": 0.018293,
     "end_time": "2020-06-09T19:45:20.570531",
     "exception": false,
     "start_time": "2020-06-09T19:45:20.552238",
     "status": "completed"
    },
    "tags": [
     "parameters"
    ]
   },
   "outputs": [],
   "source": [
    "mouse = 'T240'\n",
    "data_day = '2019_09_27__T240'\n",
    "date = '2019_09_27'\n",
    "\n",
    "HowManyBack = 1\n",
    "\n",
    "seq_str= \"0a1b2a3c4abcde5a6a7b\"\n",
    "\n",
    "data_dir_output = \"/Users/gilmandelbaum/Desktop/outPut\"\n",
    "\n",
    "y_axis_list = [\"df_f\",\"z_score\",\"z_score_sliding_window\"]"
   ]
  },
  {
   "cell_type": "code",
   "execution_count": 5,
   "metadata": {
    "execution": {
     "iopub.execute_input": "2020-06-09T19:45:20.599013Z",
     "iopub.status.busy": "2020-06-09T19:45:20.598481Z",
     "iopub.status.idle": "2020-06-09T19:45:20.600820Z",
     "shell.execute_reply": "2020-06-09T19:45:20.600329Z"
    },
    "papermill": {
     "duration": 0.019172,
     "end_time": "2020-06-09T19:45:20.600897",
     "exception": false,
     "start_time": "2020-06-09T19:45:20.581725",
     "status": "completed"
    },
    "tags": [
     "injected-parameters"
    ]
   },
   "outputs": [],
   "source": [
    "# Parameters\n",
    "data_dir_input = \"/Users/gilmandelbaum/Desktop/T240_mouse\"\n",
    "data_dir_output = \"/Users/gilmandelbaum/Desktop/output/\"\n",
    "drop2blocks = \"no\"\n",
    "drop2lastblocks = \"no\"\n",
    "seq_str = \"0a1b2a3c4abcde5a6a7b\"\n",
    "HowManyBack = 1\n",
    "Nb0 = \"a\"\n",
    "Nb1 = \"b\"\n",
    "Nb2 = \"a\"\n",
    "Nb3 = \"c\"\n",
    "Nb4 = [\"a\", \"b\", \"c\", \"d\", \"e\"]\n",
    "Nb5 = \"a\"\n",
    "Nb6 = \"a\"\n",
    "Nb7 = \"b\"\n",
    "Tags = [\n",
    "    \"Reward_NoReward_tag\",\n",
    "    \"ENL_tag\",\n",
    "    \"Cue_to_Sel_tag\",\n",
    "    \"Cue_to_Sel_fromPrevTrial_tag\",\n",
    "    \"firstENLp_tag\",\n",
    "]\n",
    "Timing = [600, 200, 15, 15, 20]\n",
    "Start_or_end = [\"start\", \"end\", \"start\", \"start\", \"start\"]\n",
    "y_axis_list = [\"df_f\", \"z_score\", \"z_score_sliding_window\"]\n",
    "mouse = \"T240\"\n",
    "data_day = \"2019_09_27__T240\"\n",
    "date = \"2019_09_27\"\n"
   ]
  },
  {
   "cell_type": "markdown",
   "metadata": {
    "papermill": {
     "duration": 0.010825,
     "end_time": "2020-06-09T19:45:20.622666",
     "exception": false,
     "start_time": "2020-06-09T19:45:20.611841",
     "status": "completed"
    },
    "tags": []
   },
   "source": [
    "same for all 7 notebooks"
   ]
  },
  {
   "cell_type": "code",
   "execution_count": 6,
   "metadata": {
    "execution": {
     "iopub.execute_input": "2020-06-09T19:45:20.649145Z",
     "iopub.status.busy": "2020-06-09T19:45:20.648669Z",
     "iopub.status.idle": "2020-06-09T19:45:20.651394Z",
     "shell.execute_reply": "2020-06-09T19:45:20.650896Z"
    },
    "papermill": {
     "duration": 0.017644,
     "end_time": "2020-06-09T19:45:20.651473",
     "exception": false,
     "start_time": "2020-06-09T19:45:20.633829",
     "status": "completed"
    },
    "tags": []
   },
   "outputs": [
    {
     "name": "stdout",
     "output_type": "stream",
     "text": [
      "z_score_sliding_window\n"
     ]
    }
   ],
   "source": [
    "alphabet = [\"a\",\"b\",\"c\",\"d\",\"e\",\"f\",\"g\"]\n",
    "y_axis = y_axis_list[alphabet.index(seq_str[:seq_str.index('4')][-1])]\n",
    "print (y_axis)"
   ]
  },
  {
   "cell_type": "code",
   "execution_count": 7,
   "metadata": {
    "execution": {
     "iopub.execute_input": "2020-06-09T19:45:20.680025Z",
     "iopub.status.busy": "2020-06-09T19:45:20.679476Z",
     "iopub.status.idle": "2020-06-09T19:45:20.681442Z",
     "shell.execute_reply": "2020-06-09T19:45:20.681805Z"
    },
    "papermill": {
     "duration": 0.017504,
     "end_time": "2020-06-09T19:45:20.681906",
     "exception": false,
     "start_time": "2020-06-09T19:45:20.664402",
     "status": "completed"
    },
    "tags": []
   },
   "outputs": [],
   "source": [
    "version_to_import = seq_str[:seq_str.index('7')][-1]"
   ]
  },
  {
   "cell_type": "code",
   "execution_count": 8,
   "metadata": {
    "execution": {
     "iopub.execute_input": "2020-06-09T19:45:20.709569Z",
     "iopub.status.busy": "2020-06-09T19:45:20.709073Z",
     "iopub.status.idle": "2020-06-09T19:45:21.343014Z",
     "shell.execute_reply": "2020-06-09T19:45:21.342309Z"
    },
    "papermill": {
     "duration": 0.649536,
     "end_time": "2020-06-09T19:45:21.343112",
     "exception": false,
     "start_time": "2020-06-09T19:45:20.693576",
     "status": "completed"
    },
    "tags": []
   },
   "outputs": [
    {
     "name": "stdout",
     "output_type": "stream",
     "text": [
      "/Users/gilmandelbaum/Desktop/output/T240/2019_09_27__T240/1_Back/T240_2019_09_27Notebook_6_a_seq0a1b2a3c4abcde5a6a.pickle\n"
     ]
    }
   ],
   "source": [
    "root = Path(data_dir_output+\"/\"+mouse+\"/\"+data_day+'/'+str(HowManyBack)+\"_Back\")\n",
    "d = mouse+\"_\"+date+\"Notebook_6_\"+version_to_import+\"_\"+'seq'+seq_str[:seq_str.index('7')]+'.pickle'\n",
    "\n",
    "my_path = root / d \n",
    "print (my_path)\n",
    "        \n",
    "# open a file, where you stored the pickled data\n",
    "fileToOpen = open(my_path, 'rb')\n",
    "# load the pickle: \n",
    "PhotoData_perTrial_channels = pickle.load(fileToOpen)      "
   ]
  },
  {
   "cell_type": "code",
   "execution_count": 9,
   "metadata": {
    "execution": {
     "iopub.execute_input": "2020-06-09T19:45:21.389317Z",
     "iopub.status.busy": "2020-06-09T19:45:21.388145Z",
     "iopub.status.idle": "2020-06-09T19:45:21.391587Z",
     "shell.execute_reply": "2020-06-09T19:45:21.392647Z"
    },
    "papermill": {
     "duration": 0.033694,
     "end_time": "2020-06-09T19:45:21.392930",
     "exception": false,
     "start_time": "2020-06-09T19:45:21.359236",
     "status": "completed"
    },
    "tags": []
   },
   "outputs": [],
   "source": [
    "# stash result in a cache directory, for how many back. \n",
    "cache_dir_plt = os.path.join(data_dir_output+'/'+mouse+'/'+data_day, str(HowManyBack)+'_Back',\"0.plots\",\"session_plots_\"+y_axis)\n",
    "if not os.path.exists(cache_dir_plt):\n",
    "    os.makedirs(cache_dir_plt)    "
   ]
  },
  {
   "cell_type": "code",
   "execution_count": 10,
   "metadata": {
    "execution": {
     "iopub.execute_input": "2020-06-09T19:45:21.446785Z",
     "iopub.status.busy": "2020-06-09T19:45:21.446052Z",
     "iopub.status.idle": "2020-06-09T19:45:21.449789Z",
     "shell.execute_reply": "2020-06-09T19:45:21.449169Z"
    },
    "papermill": {
     "duration": 0.030783,
     "end_time": "2020-06-09T19:45:21.449882",
     "exception": false,
     "start_time": "2020-06-09T19:45:21.419099",
     "status": "completed"
    },
    "tags": []
   },
   "outputs": [
    {
     "name": "stdout",
     "output_type": "stream",
     "text": [
      "/Users/gilmandelbaum/Desktop/output//T240/2019_09_27__T240/1_Back/0.plots/session_plots_z_score_sliding_window/0a1b2a3c4abcde5a6a7b\n"
     ]
    }
   ],
   "source": [
    "path_to_plot = cache_dir_plt+\"/\"+seq_str\n",
    "print (path_to_plot)"
   ]
  },
  {
   "cell_type": "code",
   "execution_count": 11,
   "metadata": {
    "execution": {
     "iopub.execute_input": "2020-06-09T19:45:21.494694Z",
     "iopub.status.busy": "2020-06-09T19:45:21.493501Z",
     "iopub.status.idle": "2020-06-09T19:45:21.497019Z",
     "shell.execute_reply": "2020-06-09T19:45:21.497738Z"
    },
    "papermill": {
     "duration": 0.028768,
     "end_time": "2020-06-09T19:45:21.497888",
     "exception": false,
     "start_time": "2020-06-09T19:45:21.469120",
     "status": "completed"
    },
    "tags": []
   },
   "outputs": [],
   "source": [
    "def extract_rl_tt_period_celltype_mean(PhotoData_perTrial_channels,rl,tt,period,cell_type):\n",
    "    mean_ipsi_next = PhotoData_perTrial_channels[rl][0][tt][period][cell_type].mean(axis=1)\n",
    "    mean_contra_next = PhotoData_perTrial_channels[rl][1][tt][period][cell_type].mean(axis=1)\n",
    "    number_of_trials = len(PhotoData_perTrial_channels[rl][0][tt][period][cell_type].columns)\n",
    "    return (mean_ipsi_next,mean_contra_next,number_of_trials)"
   ]
  },
  {
   "cell_type": "code",
   "execution_count": 12,
   "metadata": {
    "execution": {
     "iopub.execute_input": "2020-06-09T19:45:21.533425Z",
     "iopub.status.busy": "2020-06-09T19:45:21.532879Z",
     "iopub.status.idle": "2020-06-09T19:45:21.535430Z",
     "shell.execute_reply": "2020-06-09T19:45:21.534857Z"
    },
    "papermill": {
     "duration": 0.022438,
     "end_time": "2020-06-09T19:45:21.535524",
     "exception": false,
     "start_time": "2020-06-09T19:45:21.513086",
     "status": "completed"
    },
    "tags": []
   },
   "outputs": [],
   "source": [
    "def plot_ipsi_contra_together (data,trial_type,cell_type,y_axis,path_to_plot):\n",
    "\n",
    "    plt.plot(data[0], label=\"ipsi_next\"+\" \"+\"(\"+str(data[2])+\")\")\n",
    "    plt.plot(data[1], label=\"contra_next\"+\" \"+\"(\"+str(data[2])+\")\")\n",
    "\n",
    "    # Add legend\n",
    "    plt.legend(loc='lower left')\n",
    "    \n",
    "    # Add title and x, y labels\n",
    "    plt.title(trial_type, fontsize=16, fontweight='bold')\n",
    "    plt.suptitle(cell_type, fontsize=16)\n",
    "\n",
    "    plt.xlabel(\"time_bins\")\n",
    "\n",
    "    #the y axis is defined in the paper mill. This allows to run 7_b with 3a,3b,3c and any future 3s, easliy changing the \n",
    "    #the name of the y axis to not cause confusion. \n",
    "    plt.ylabel(y_axis)\n",
    "    plt.savefig(path_to_plot+\"_\"+trial_type+cell_type+'.pdf')\n",
    "    plt.show()"
   ]
  },
  {
   "cell_type": "code",
   "execution_count": 13,
   "metadata": {
    "execution": {
     "iopub.execute_input": "2020-06-09T19:45:21.568772Z",
     "iopub.status.busy": "2020-06-09T19:45:21.568047Z",
     "iopub.status.idle": "2020-06-09T19:45:21.573027Z",
     "shell.execute_reply": "2020-06-09T19:45:21.572298Z"
    },
    "papermill": {
     "duration": 0.023222,
     "end_time": "2020-06-09T19:45:21.573128",
     "exception": false,
     "start_time": "2020-06-09T19:45:21.549906",
     "status": "completed"
    },
    "tags": []
   },
   "outputs": [],
   "source": [
    "r_ls_combined_periods_1_d1 = Nb_7.extract_rl_tt_period_celltype_mean (PhotoData_perTrial_channels,0,0,\n",
    "                                                                      \"combined_periods_1\",\"d1 R\")"
   ]
  },
  {
   "cell_type": "code",
   "execution_count": 14,
   "metadata": {
    "execution": {
     "iopub.execute_input": "2020-06-09T19:45:21.623614Z",
     "iopub.status.busy": "2020-06-09T19:45:21.613691Z",
     "iopub.status.idle": "2020-06-09T19:45:21.880098Z",
     "shell.execute_reply": "2020-06-09T19:45:21.879600Z"
    },
    "papermill": {
     "duration": 0.291271,
     "end_time": "2020-06-09T19:45:21.880176",
     "exception": false,
     "start_time": "2020-06-09T19:45:21.588905",
     "status": "completed"
    },
    "scrolled": true,
    "tags": []
   },
   "outputs": [
    {
     "data": {
      "image/png": "[encoded data removed]",
      "text/plain": [
       "<Figure size 432x288 with 1 Axes>"
      ]
     },
     "metadata": {
      "needs_background": "light"
     },
     "output_type": "display_data"
    }
   ],
   "source": [
    "Nb_7.plot_ipsi_contra_together(r_ls_combined_periods_1_d1,\"rightrecording; lose_switch\",\n",
    "                               \"d1\",y_axis,path_to_plot)"
   ]
  },
  {
   "cell_type": "code",
   "execution_count": 15,
   "metadata": {
    "execution": {
     "iopub.execute_input": "2020-06-09T19:45:21.913431Z",
     "iopub.status.busy": "2020-06-09T19:45:21.912941Z",
     "iopub.status.idle": "2020-06-09T19:45:21.914703Z",
     "shell.execute_reply": "2020-06-09T19:45:21.915190Z"
    },
    "papermill": {
     "duration": 0.02054,
     "end_time": "2020-06-09T19:45:21.915291",
     "exception": false,
     "start_time": "2020-06-09T19:45:21.894751",
     "status": "completed"
    },
    "tags": []
   },
   "outputs": [],
   "source": [
    "r_ls_combined_periods_1_d2 = Nb_7.extract_rl_tt_period_celltype_mean (PhotoData_perTrial_channels,0,0,\n",
    "                                                                      \"combined_periods_1\",\"d2 R\")"
   ]
  },
  {
   "cell_type": "code",
   "execution_count": 16,
   "metadata": {
    "execution": {
     "iopub.execute_input": "2020-06-09T19:45:21.954175Z",
     "iopub.status.busy": "2020-06-09T19:45:21.953197Z",
     "iopub.status.idle": "2020-06-09T19:45:22.192673Z",
     "shell.execute_reply": "2020-06-09T19:45:22.192004Z"
    },
    "papermill": {
     "duration": 0.262513,
     "end_time": "2020-06-09T19:45:22.192774",
     "exception": false,
     "start_time": "2020-06-09T19:45:21.930261",
     "status": "completed"
    },
    "tags": []
   },
   "outputs": [
    {
     "data": {
      "image/png": "[encoded data removed]",
      "text/plain": [
       "<Figure size 432x288 with 1 Axes>"
      ]
     },
     "metadata": {
      "needs_background": "light"
     },
     "output_type": "display_data"
    }
   ],
   "source": [
    "Nb_7.plot_ipsi_contra_together(r_ls_combined_periods_1_d2,\"rightrecording; lose_switch\",\n",
    "                               \"d2\",y_axis,path_to_plot)"
   ]
  },
  {
   "cell_type": "code",
   "execution_count": 17,
   "metadata": {
    "execution": {
     "iopub.execute_input": "2020-06-09T19:45:22.226542Z",
     "iopub.status.busy": "2020-06-09T19:45:22.225987Z",
     "iopub.status.idle": "2020-06-09T19:45:22.230284Z",
     "shell.execute_reply": "2020-06-09T19:45:22.229711Z"
    },
    "papermill": {
     "duration": 0.023774,
     "end_time": "2020-06-09T19:45:22.230372",
     "exception": false,
     "start_time": "2020-06-09T19:45:22.206598",
     "status": "completed"
    },
    "tags": []
   },
   "outputs": [],
   "source": [
    "r_wr_combined_periods_1_d1 = Nb_7.extract_rl_tt_period_celltype_mean (PhotoData_perTrial_channels,0,3,\n",
    "                                                                      \"combined_periods_1\",\"d1 R\")"
   ]
  },
  {
   "cell_type": "code",
   "execution_count": 18,
   "metadata": {
    "execution": {
     "iopub.execute_input": "2020-06-09T19:45:22.303856Z",
     "iopub.status.busy": "2020-06-09T19:45:22.293111Z",
     "iopub.status.idle": "2020-06-09T19:45:22.539956Z",
     "shell.execute_reply": "2020-06-09T19:45:22.539490Z"
    },
    "papermill": {
     "duration": 0.288611,
     "end_time": "2020-06-09T19:45:22.540028",
     "exception": false,
     "start_time": "2020-06-09T19:45:22.251417",
     "status": "completed"
    },
    "tags": []
   },
   "outputs": [
    {
     "data": {
      "image/png": "[encoded data removed]",
      "text/plain": [
       "<Figure size 432x288 with 1 Axes>"
      ]
     },
     "metadata": {
      "needs_background": "light"
     },
     "output_type": "display_data"
    }
   ],
   "source": [
    "Nb_7.plot_ipsi_contra_together(r_wr_combined_periods_1_d1,\"rightrecording; win_repeat\",\n",
    "                               \"d1\",y_axis,path_to_plot)"
   ]
  },
  {
   "cell_type": "code",
   "execution_count": 19,
   "metadata": {
    "execution": {
     "iopub.execute_input": "2020-06-09T19:45:22.572129Z",
     "iopub.status.busy": "2020-06-09T19:45:22.571681Z",
     "iopub.status.idle": "2020-06-09T19:45:22.575684Z",
     "shell.execute_reply": "2020-06-09T19:45:22.575203Z"
    },
    "papermill": {
     "duration": 0.021478,
     "end_time": "2020-06-09T19:45:22.575757",
     "exception": false,
     "start_time": "2020-06-09T19:45:22.554279",
     "status": "completed"
    },
    "tags": []
   },
   "outputs": [],
   "source": [
    "r_wr_combined_periods_1_d2 = Nb_7.extract_rl_tt_period_celltype_mean (PhotoData_perTrial_channels,0,3,\n",
    "                                                                      \"combined_periods_1\",\"d2 R\")"
   ]
  },
  {
   "cell_type": "code",
   "execution_count": 20,
   "metadata": {
    "execution": {
     "iopub.execute_input": "2020-06-09T19:45:22.622132Z",
     "iopub.status.busy": "2020-06-09T19:45:22.621645Z",
     "iopub.status.idle": "2020-06-09T19:45:22.839445Z",
     "shell.execute_reply": "2020-06-09T19:45:22.839061Z"
    },
    "papermill": {
     "duration": 0.247853,
     "end_time": "2020-06-09T19:45:22.839522",
     "exception": false,
     "start_time": "2020-06-09T19:45:22.591669",
     "status": "completed"
    },
    "tags": []
   },
   "outputs": [
    {
     "data": {
      "image/png": "[encoded data removed]",
      "text/plain": [
       "<Figure size 432x288 with 1 Axes>"
      ]
     },
     "metadata": {
      "needs_background": "light"
     },
     "output_type": "display_data"
    }
   ],
   "source": [
    "Nb_7.plot_ipsi_contra_together(r_wr_combined_periods_1_d2,\"rightrecording; win_repeat\",\n",
    "                               \"d2\",y_axis,path_to_plot)"
   ]
  },
  {
   "cell_type": "code",
   "execution_count": 21,
   "metadata": {
    "execution": {
     "iopub.execute_input": "2020-06-09T19:45:22.875868Z",
     "iopub.status.busy": "2020-06-09T19:45:22.875405Z",
     "iopub.status.idle": "2020-06-09T19:45:22.878857Z",
     "shell.execute_reply": "2020-06-09T19:45:22.878355Z"
    },
    "papermill": {
     "duration": 0.022962,
     "end_time": "2020-06-09T19:45:22.878934",
     "exception": false,
     "start_time": "2020-06-09T19:45:22.855972",
     "status": "completed"
    },
    "tags": []
   },
   "outputs": [],
   "source": [
    "root = Path(data_dir_output+\"/\"+mouse+\"/\"+data_day+'/'+str(HowManyBack)+\"_Back\")\n",
    "d = mouse+\"_\"+date+Nb_name+'_seq'+seq_str+'.pickle'\n",
    "my_path = root / d \n",
    "my_file = open(my_path, 'wb')\n",
    "my_file = pickle.dump((),my_file)"
   ]
  },
  {
   "cell_type": "code",
   "execution_count": null,
   "metadata": {
    "papermill": {
     "duration": 0.016528,
     "end_time": "2020-06-09T19:45:22.912530",
     "exception": false,
     "start_time": "2020-06-09T19:45:22.896002",
     "status": "completed"
    },
    "tags": []
   },
   "outputs": [],
   "source": []
  }
 ],
 "metadata": {
  "celltoolbar": "Tags",
  "kernelspec": {
   "display_name": "Python 3",
   "language": "python",
   "name": "python3"
  },
  "language_info": {
   "codemirror_mode": {
    "name": "ipython",
    "version": 3
   },
   "file_extension": ".py",
   "mimetype": "text/x-python",
   "name": "python",
   "nbconvert_exporter": "python",
   "pygments_lexer": "ipython3",
   "version": "3.7.3"
  },
  "papermill": {
   "duration": 3.78039,
   "end_time": "2020-06-09T19:45:23.037265",
   "environment_variables": {},
   "exception": null,
   "input_path": "/Users/gilmandelbaum/github/analysis-pipeline-for-photometry_ex/Nb_7x_plots/Notebook_7_b.ipynb",
   "output_path": "TestOutPut.ipynb",
   "parameters": {
    "HowManyBack": 1,
    "Nb0": "a",
    "Nb1": "b",
    "Nb2": "a",
    "Nb3": "c",
    "Nb4": [
     "a",
     "b",
     "c",
     "d",
     "e"
    ],
    "Nb5": "a",
    "Nb6": "a",
    "Nb7": "b",
    "Start_or_end": [
     "start",
     "end",
     "start",
     "start",
     "start"
    ],
    "Tags": [
     "Reward_NoReward_tag",
     "ENL_tag",
     "Cue_to_Sel_tag",
     "Cue_to_Sel_fromPrevTrial_tag",
     "firstENLp_tag"
    ],
    "Timing": [
     600,
     200,
     15,
     15,
     20
    ],
    "data_day": "2019_09_27__T240",
    "data_dir_input": "/Users/gilmandelbaum/Desktop/T240_mouse",
    "data_dir_output": "/Users/gilmandelbaum/Desktop/output/",
    "date": "2019_09_27",
    "drop2blocks": "no",
    "drop2lastblocks": "no",
    "mouse": "T240",
    "seq_str": "0a1b2a3c4abcde5a6a7b",
    "y_axis_list": [
     "df_f",
     "z_score",
     "z_score_sliding_window"
    ]
   },
   "start_time": "2020-06-09T19:45:19.256875",
   "version": "2.1.1"
  }
 },
 "nbformat": 4,
 "nbformat_minor": 2
}