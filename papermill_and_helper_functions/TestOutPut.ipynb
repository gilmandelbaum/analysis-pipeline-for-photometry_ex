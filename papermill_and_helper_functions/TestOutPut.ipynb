{
 "cells": [
  {
   "cell_type": "markdown",
   "metadata": {
    "papermill": {
     "duration": 0.006239,
     "end_time": "2020-06-26T15:14:49.294260",
     "exception": false,
     "start_time": "2020-06-26T15:14:49.288021",
     "status": "completed"
    },
    "tags": []
   },
   "source": [
    "# Notebook 7a: no plot output"
   ]
  },
  {
   "cell_type": "code",
   "execution_count": 1,
   "metadata": {
    "execution": {
     "iopub.execute_input": "2020-06-26T15:14:49.310080Z",
     "iopub.status.busy": "2020-06-26T15:14:49.309474Z",
     "iopub.status.idle": "2020-06-26T15:14:49.312323Z",
     "shell.execute_reply": "2020-06-26T15:14:49.311670Z"
    },
    "papermill": {
     "duration": 0.011789,
     "end_time": "2020-06-26T15:14:49.312428",
     "exception": false,
     "start_time": "2020-06-26T15:14:49.300639",
     "status": "completed"
    },
    "tags": []
   },
   "outputs": [],
   "source": [
    "import os\n",
    "from pathlib import Path\n",
    "import pickle"
   ]
  },
  {
   "cell_type": "code",
   "execution_count": 2,
   "metadata": {
    "execution": {
     "iopub.execute_input": "2020-06-26T15:14:49.325201Z",
     "iopub.status.busy": "2020-06-26T15:14:49.324470Z",
     "iopub.status.idle": "2020-06-26T15:14:49.327066Z",
     "shell.execute_reply": "2020-06-26T15:14:49.326470Z"
    },
    "papermill": {
     "duration": 0.010248,
     "end_time": "2020-06-26T15:14:49.327162",
     "exception": false,
     "start_time": "2020-06-26T15:14:49.316914",
     "status": "completed"
    },
    "tags": []
   },
   "outputs": [],
   "source": [
    "Nb_name= 'Notebook_7_a'"
   ]
  },
  {
   "cell_type": "code",
   "execution_count": 3,
   "metadata": {
    "execution": {
     "iopub.execute_input": "2020-06-26T15:14:49.340450Z",
     "iopub.status.busy": "2020-06-26T15:14:49.339860Z",
     "iopub.status.idle": "2020-06-26T15:14:49.342573Z",
     "shell.execute_reply": "2020-06-26T15:14:49.341969Z"
    },
    "papermill": {
     "duration": 0.010578,
     "end_time": "2020-06-26T15:14:49.342666",
     "exception": false,
     "start_time": "2020-06-26T15:14:49.332088",
     "status": "completed"
    },
    "tags": [
     "parameters"
    ]
   },
   "outputs": [],
   "source": [
    "mouse = 'T240'\n",
    "data_day = '2019_09_27__T240'\n",
    "date = '2019_09_27'\n",
    "\n",
    "HowManyBack = 1\n",
    "\n",
    "seq_str= \"0a1b2a3b4abcde5a6a7a\"\n",
    "\n",
    "data_dir_output = \"/Users/gilmandelbaum/Desktop/outPut\"\n"
   ]
  },
  {
   "cell_type": "code",
   "execution_count": 4,
   "metadata": {
    "execution": {
     "iopub.execute_input": "2020-06-26T15:14:49.358159Z",
     "iopub.status.busy": "2020-06-26T15:14:49.357332Z",
     "iopub.status.idle": "2020-06-26T15:14:49.360271Z",
     "shell.execute_reply": "2020-06-26T15:14:49.359672Z"
    },
    "papermill": {
     "duration": 0.013349,
     "end_time": "2020-06-26T15:14:49.360362",
     "exception": false,
     "start_time": "2020-06-26T15:14:49.347013",
     "status": "completed"
    },
    "tags": [
     "injected-parameters"
    ]
   },
   "outputs": [],
   "source": [
    "# Parameters\n",
    "data_dir_input = \"/Volumes/GilInVivoPaper.large/2.Photometry_in_str/1.dual_color_photo_full_data_set_3/\"\n",
    "data_dir_output = \"/Volumes/GilInVivoPaper.large/2.Photometry_in_str/2.dual_color_photo_full_data_set_analysis_3/\"\n",
    "drop2blocks = \"yes\"\n",
    "drop2lastblocks = \"yes\"\n",
    "seq_str = \"0a1b2a3c4abcd5a6a7a\"\n",
    "HowManyBack = 1\n",
    "Nb0 = \"a\"\n",
    "Nb1 = \"b\"\n",
    "Nb2 = \"a\"\n",
    "Nb3 = \"c\"\n",
    "Nb4 = [\"a\", \"b\", \"c\", \"d\"]\n",
    "Nb5 = \"a\"\n",
    "Nb6 = \"a\"\n",
    "Nb7 = \"a\"\n",
    "Tags = [\n",
    "    \"Reward_NoReward_tag\",\n",
    "    \"ENL_tag\",\n",
    "    \"Cue_to_Sel_tag\",\n",
    "    \"Cue_to_Sel_fromPrevTrial_tag\",\n",
    "]\n",
    "Timing = [600, 200, 15, 15]\n",
    "Start_or_end = [\"start\", \"end\", \"start\", \"start\"]\n",
    "y_axis_list = [\"df_f\", \"z_score\", \"z_score_sliding_window\"]\n",
    "mouse = \"T187\"\n",
    "data_day = \"2019_04_03__T187\"\n",
    "date = \"2019_04_03\"\n",
    "photo_day = \"T187-143148\"\n"
   ]
  },
  {
   "cell_type": "code",
   "execution_count": 5,
   "metadata": {
    "execution": {
     "iopub.execute_input": "2020-06-26T15:14:49.374502Z",
     "iopub.status.busy": "2020-06-26T15:14:49.373939Z",
     "iopub.status.idle": "2020-06-26T15:14:49.377082Z",
     "shell.execute_reply": "2020-06-26T15:14:49.376496Z"
    },
    "papermill": {
     "duration": 0.0127,
     "end_time": "2020-06-26T15:14:49.377173",
     "exception": false,
     "start_time": "2020-06-26T15:14:49.364473",
     "status": "completed"
    },
    "tags": []
   },
   "outputs": [],
   "source": [
    "root = Path(data_dir_output+\"/\"+mouse+\"/\"+data_day+'/'+str(HowManyBack)+\"_Back\")\n",
    "d = mouse+\"_\"+date+Nb_name+'_seq'+seq_str+'.pickle'\n",
    "my_path = root / d \n",
    "my_file = open(my_path, 'wb')\n",
    "my_file = pickle.dump((),my_file)"
   ]
  }
 ],
 "metadata": {
  "celltoolbar": "Tags",
  "kernelspec": {
   "display_name": "Python 3",
   "language": "python",
   "name": "python3"
  },
  "language_info": {
   "codemirror_mode": {
    "name": "ipython",
    "version": 3
   },
   "file_extension": ".py",
   "mimetype": "text/x-python",
   "name": "python",
   "nbconvert_exporter": "python",
   "pygments_lexer": "ipython3",
   "version": "3.7.3"
  },
  "papermill": {
   "duration": 1.005841,
   "end_time": "2020-06-26T15:14:49.495259",
   "environment_variables": {},
   "exception": null,
   "input_path": "/Users/gilmandelbaum/github/analysis-pipeline-for-photometry_ex/Nb_7x_plots/Notebook_7_a.ipynb",
   "output_path": "TestOutPut.ipynb",
   "parameters": {
    "HowManyBack": 1,
    "Nb0": "a",
    "Nb1": "b",
    "Nb2": "a",
    "Nb3": "c",
    "Nb4": [
     "a",
     "b",
     "c",
     "d"
    ],
    "Nb5": "a",
    "Nb6": "a",
    "Nb7": "a",
    "Start_or_end": [
     "start",
     "end",
     "start",
     "start"
    ],
    "Tags": [
     "Reward_NoReward_tag",
     "ENL_tag",
     "Cue_to_Sel_tag",
     "Cue_to_Sel_fromPrevTrial_tag"
    ],
    "Timing": [
     600,
     200,
     15,
     15
    ],
    "data_day": "2019_04_03__T187",
    "data_dir_input": "/Volumes/GilInVivoPaper.large/2.Photometry_in_str/1.dual_color_photo_full_data_set_3/",
    "data_dir_output": "/Volumes/GilInVivoPaper.large/2.Photometry_in_str/2.dual_color_photo_full_data_set_analysis_3/",
    "date": "2019_04_03",
    "drop2blocks": "yes",
    "drop2lastblocks": "yes",
    "mouse": "T187",
    "photo_day": "T187-143148",
    "seq_str": "0a1b2a3c4abcd5a6a7a",
    "y_axis_list": [
     "df_f",
     "z_score",
     "z_score_sliding_window"
    ]
   },
   "start_time": "2020-06-26T15:14:48.489418",
   "version": "2.1.1"
  }
 },
 "nbformat": 4,
 "nbformat_minor": 2
}