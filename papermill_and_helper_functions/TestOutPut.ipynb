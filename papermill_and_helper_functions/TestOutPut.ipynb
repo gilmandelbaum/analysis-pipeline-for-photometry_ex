{
 "cells": [
  {
   "cell_type": "markdown",
   "metadata": {
    "papermill": {
     "duration": 0.007754,
     "end_time": "2020-06-30T05:33:42.817692",
     "exception": false,
     "start_time": "2020-06-30T05:33:42.809938",
     "status": "completed"
    },
    "tags": []
   },
   "source": [
    "# Notebook 7a: no plot output"
   ]
  },
  {
   "cell_type": "code",
   "execution_count": 1,
   "metadata": {
    "execution": {
     "iopub.execute_input": "2020-06-30T05:33:42.836191Z",
     "iopub.status.busy": "2020-06-30T05:33:42.835560Z",
     "iopub.status.idle": "2020-06-30T05:33:42.838418Z",
     "shell.execute_reply": "2020-06-30T05:33:42.837778Z"
    },
    "papermill": {
     "duration": 0.01319,
     "end_time": "2020-06-30T05:33:42.838531",
     "exception": false,
     "start_time": "2020-06-30T05:33:42.825341",
     "status": "completed"
    },
    "tags": []
   },
   "outputs": [],
   "source": [
    "import os\n",
    "from pathlib import Path\n",
    "import pickle"
   ]
  },
  {
   "cell_type": "code",
   "execution_count": 2,
   "metadata": {
    "execution": {
     "iopub.execute_input": "2020-06-30T05:33:42.852025Z",
     "iopub.status.busy": "2020-06-30T05:33:42.851451Z",
     "iopub.status.idle": "2020-06-30T05:33:42.853476Z",
     "shell.execute_reply": "2020-06-30T05:33:42.854168Z"
    },
    "papermill": {
     "duration": 0.011256,
     "end_time": "2020-06-30T05:33:42.854291",
     "exception": false,
     "start_time": "2020-06-30T05:33:42.843035",
     "status": "completed"
    },
    "tags": []
   },
   "outputs": [],
   "source": [
    "Nb_name= 'Notebook_7_a'"
   ]
  },
  {
   "cell_type": "code",
   "execution_count": 3,
   "metadata": {
    "execution": {
     "iopub.execute_input": "2020-06-30T05:33:42.868058Z",
     "iopub.status.busy": "2020-06-30T05:33:42.867432Z",
     "iopub.status.idle": "2020-06-30T05:33:42.869722Z",
     "shell.execute_reply": "2020-06-30T05:33:42.870376Z"
    },
    "papermill": {
     "duration": 0.011854,
     "end_time": "2020-06-30T05:33:42.870499",
     "exception": false,
     "start_time": "2020-06-30T05:33:42.858645",
     "status": "completed"
    },
    "tags": [
     "parameters"
    ]
   },
   "outputs": [],
   "source": [
    "mouse = 'T240'\n",
    "data_day = '2019_09_27__T240'\n",
    "date = '2019_09_27'\n",
    "\n",
    "HowManyBack = 1\n",
    "\n",
    "seq_str= \"0a1b2a3b4abcde5a6a7a\"\n",
    "\n",
    "data_dir_output = \"/Users/gilmandelbaum/Desktop/outPut\"\n"
   ]
  },
  {
   "cell_type": "code",
   "execution_count": 4,
   "metadata": {
    "execution": {
     "iopub.execute_input": "2020-06-30T05:33:42.890388Z",
     "iopub.status.busy": "2020-06-30T05:33:42.889101Z",
     "iopub.status.idle": "2020-06-30T05:33:42.892941Z",
     "shell.execute_reply": "2020-06-30T05:33:42.891903Z"
    },
    "papermill": {
     "duration": 0.018008,
     "end_time": "2020-06-30T05:33:42.893055",
     "exception": false,
     "start_time": "2020-06-30T05:33:42.875047",
     "status": "completed"
    },
    "tags": [
     "injected-parameters"
    ]
   },
   "outputs": [],
   "source": [
    "# Parameters\n",
    "data_dir_input = \"/Volumes/GilInVivoPaper.large/2.Photometry_in_str/1.dual_color_photo_full_data_set/\"\n",
    "data_dir_output = \"/Volumes/GilInVivoPaper.large/2.Photometry_in_str/2.dual_color_photo_full_data_set_analysis/\"\n",
    "drop2blocks = \"yes\"\n",
    "drop2lastblocks = \"yes\"\n",
    "seq_str = \"0a1c2a3c4abcde5a6a7a\"\n",
    "HowManyBack = 1\n",
    "Nb0 = \"a\"\n",
    "Nb1 = \"c\"\n",
    "Nb2 = \"a\"\n",
    "Nb3 = \"c\"\n",
    "Nb4 = [\"a\", \"b\", \"c\", \"d\", \"e\"]\n",
    "Nb5 = \"a\"\n",
    "Nb6 = \"a\"\n",
    "Nb7 = \"a\"\n",
    "Tags = [\n",
    "    \"Reward_NoReward_tag\",\n",
    "    \"ENL_tag\",\n",
    "    \"Cue_to_Sel_tag\",\n",
    "    \"Cue_to_Sel_fromPrevTrial_tag\",\n",
    "    \"firstENLp_tag\",\n",
    "]\n",
    "Timing = [600, 200, 15, 15, 100]\n",
    "Start_or_end = [\"start\", \"end\", \"start\", \"start\", \"start\"]\n",
    "y_axis_list = [\"df_f\", \"z_score\", \"z_score_sliding_window\"]\n",
    "mouse = \"T187\"\n",
    "data_day = \"2019_04_03__T187\"\n",
    "date = \"2019_04_03\"\n",
    "photo_day = \"T187-143148\"\n"
   ]
  },
  {
   "cell_type": "code",
   "execution_count": 5,
   "metadata": {
    "execution": {
     "iopub.execute_input": "2020-06-30T05:33:42.908881Z",
     "iopub.status.busy": "2020-06-30T05:33:42.908054Z",
     "iopub.status.idle": "2020-06-30T05:33:42.912622Z",
     "shell.execute_reply": "2020-06-30T05:33:42.911236Z"
    },
    "papermill": {
     "duration": 0.014459,
     "end_time": "2020-06-30T05:33:42.912858",
     "exception": false,
     "start_time": "2020-06-30T05:33:42.898399",
     "status": "completed"
    },
    "tags": []
   },
   "outputs": [],
   "source": [
    "root = Path(data_dir_output+\"/\"+mouse+\"/\"+data_day+'/'+str(HowManyBack)+\"_Back\")\n",
    "d = mouse+\"_\"+date+Nb_name+'_seq'+seq_str+'.pickle'\n",
    "my_path = root / d \n",
    "my_file = open(my_path, 'wb')\n",
    "my_file = pickle.dump((),my_file)"
   ]
  }
 ],
 "metadata": {
  "celltoolbar": "Tags",
  "kernelspec": {
   "display_name": "Python 3",
   "language": "python",
   "name": "python3"
  },
  "language_info": {
   "codemirror_mode": {
    "name": "ipython",
    "version": 3
   },
   "file_extension": ".py",
   "mimetype": "text/x-python",
   "name": "python",
   "nbconvert_exporter": "python",
   "pygments_lexer": "ipython3",
   "version": "3.7.3"
  },
  "papermill": {
   "duration": 2.030784,
   "end_time": "2020-06-30T05:33:44.008925",
   "environment_variables": {},
   "exception": null,
   "input_path": "/Users/gilmandelbaum/github/analysis-pipeline-for-photometry_ex/Nb_7x_plots/Notebook_7_a.ipynb",
   "output_path": "TestOutPut.ipynb",
   "parameters": {
    "HowManyBack": 1,
    "Nb0": "a",
    "Nb1": "c",
    "Nb2": "a",
    "Nb3": "c",
    "Nb4": [
     "a",
     "b",
     "c",
     "d",
     "e"
    ],
    "Nb5": "a",
    "Nb6": "a",
    "Nb7": "a",
    "Start_or_end": [
     "start",
     "end",
     "start",
     "start",
     "start"
    ],
    "Tags": [
     "Reward_NoReward_tag",
     "ENL_tag",
     "Cue_to_Sel_tag",
     "Cue_to_Sel_fromPrevTrial_tag",
     "firstENLp_tag"
    ],
    "Timing": [
     600,
     200,
     15,
     15,
     100
    ],
    "data_day": "2019_04_03__T187",
    "data_dir_input": "/Volumes/GilInVivoPaper.large/2.Photometry_in_str/1.dual_color_photo_full_data_set/",
    "data_dir_output": "/Volumes/GilInVivoPaper.large/2.Photometry_in_str/2.dual_color_photo_full_data_set_analysis/",
    "date": "2019_04_03",
    "drop2blocks": "yes",
    "drop2lastblocks": "yes",
    "mouse": "T187",
    "photo_day": "T187-143148",
    "seq_str": "0a1c2a3c4abcde5a6a7a",
    "y_axis_list": [
     "df_f",
     "z_score",
     "z_score_sliding_window"
    ]
   },
   "start_time": "2020-06-30T05:33:41.978141",
   "version": "2.1.1"
  }
 },
 "nbformat": 4,
 "nbformat_minor": 2
}