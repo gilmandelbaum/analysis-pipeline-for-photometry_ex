{
 "cells": [
  {
   "cell_type": "markdown",
   "metadata": {
    "papermill": {
     "duration": 0.00453,
     "end_time": "2020-06-16T17:00:28.049763",
     "exception": false,
     "start_time": "2020-06-16T17:00:28.045233",
     "status": "completed"
    },
    "tags": []
   },
   "source": [
    "# Notebook 7a: no plot output"
   ]
  },
  {
   "cell_type": "code",
   "execution_count": 1,
   "metadata": {
    "execution": {
     "iopub.execute_input": "2020-06-16T17:00:28.066886Z",
     "iopub.status.busy": "2020-06-16T17:00:28.066064Z",
     "iopub.status.idle": "2020-06-16T17:00:28.069608Z",
     "shell.execute_reply": "2020-06-16T17:00:28.068650Z"
    },
    "papermill": {
     "duration": 0.012693,
     "end_time": "2020-06-16T17:00:28.069722",
     "exception": false,
     "start_time": "2020-06-16T17:00:28.057029",
     "status": "completed"
    },
    "tags": []
   },
   "outputs": [],
   "source": [
    "import os\n",
    "from pathlib import Path\n",
    "import pickle"
   ]
  },
  {
   "cell_type": "code",
   "execution_count": 2,
   "metadata": {
    "execution": {
     "iopub.execute_input": "2020-06-16T17:00:28.081927Z",
     "iopub.status.busy": "2020-06-16T17:00:28.081351Z",
     "iopub.status.idle": "2020-06-16T17:00:28.084484Z",
     "shell.execute_reply": "2020-06-16T17:00:28.083686Z"
    },
    "papermill": {
     "duration": 0.010678,
     "end_time": "2020-06-16T17:00:28.084712",
     "exception": false,
     "start_time": "2020-06-16T17:00:28.074034",
     "status": "completed"
    },
    "tags": []
   },
   "outputs": [],
   "source": [
    "Nb_name= 'Notebook_7_a'"
   ]
  },
  {
   "cell_type": "code",
   "execution_count": 3,
   "metadata": {
    "execution": {
     "iopub.execute_input": "2020-06-16T17:00:28.097619Z",
     "iopub.status.busy": "2020-06-16T17:00:28.097039Z",
     "iopub.status.idle": "2020-06-16T17:00:28.099881Z",
     "shell.execute_reply": "2020-06-16T17:00:28.099023Z"
    },
    "papermill": {
     "duration": 0.010956,
     "end_time": "2020-06-16T17:00:28.099982",
     "exception": false,
     "start_time": "2020-06-16T17:00:28.089026",
     "status": "completed"
    },
    "tags": [
     "parameters"
    ]
   },
   "outputs": [],
   "source": [
    "mouse = 'T240'\n",
    "data_day = '2019_09_27__T240'\n",
    "date = '2019_09_27'\n",
    "\n",
    "HowManyBack = 1\n",
    "\n",
    "seq_str= \"0a1b2a3b4abcde5a6a7a\"\n",
    "\n",
    "data_dir_output = \"/Users/gilmandelbaum/Desktop/outPut\"\n"
   ]
  },
  {
   "cell_type": "code",
   "execution_count": 4,
   "metadata": {
    "execution": {
     "iopub.execute_input": "2020-06-16T17:00:28.115610Z",
     "iopub.status.busy": "2020-06-16T17:00:28.114635Z",
     "iopub.status.idle": "2020-06-16T17:00:28.117212Z",
     "shell.execute_reply": "2020-06-16T17:00:28.117847Z"
    },
    "papermill": {
     "duration": 0.013624,
     "end_time": "2020-06-16T17:00:28.117989",
     "exception": false,
     "start_time": "2020-06-16T17:00:28.104365",
     "status": "completed"
    },
    "tags": [
     "injected-parameters"
    ]
   },
   "outputs": [],
   "source": [
    "# Parameters\n",
    "data_dir_input = \"/Volumes/GilInVivoPaper.large/2.Photometry_in_str/1.dual_color_photo_full_data_set/\"\n",
    "data_dir_output = \"/Volumes/GilInVivoPaper.large/2.Photometry_in_str/2.dual_color_photo_full_data_set_analysis/\"\n",
    "drop2blocks = \"yes\"\n",
    "drop2lastblocks = \"yes\"\n",
    "seq_str = \"0a1a2a3c4abcd5a6a7a\"\n",
    "HowManyBack = 1\n",
    "Nb0 = \"a\"\n",
    "Nb1 = \"a\"\n",
    "Nb2 = \"a\"\n",
    "Nb3 = \"c\"\n",
    "Nb4 = [\"a\", \"b\", \"c\", \"d\"]\n",
    "Nb5 = \"a\"\n",
    "Nb6 = \"a\"\n",
    "Nb7 = \"a\"\n",
    "Tags = [\n",
    "    \"Reward_NoReward_tag\",\n",
    "    \"ENL_tag\",\n",
    "    \"Cue_to_Sel_tag\",\n",
    "    \"Cue_to_Sel_fromPrevTrial_tag\",\n",
    "]\n",
    "Timing = [600, 200, 15, 15]\n",
    "Start_or_end = [\"start\", \"end\", \"start\", \"start\"]\n",
    "y_axis_list = [\"df_f\", \"z_score\", \"z_score_sliding_window\"]\n",
    "mouse = \"T240\"\n",
    "data_day = \"2019_09_27__T240\"\n",
    "date = \"2019_09_27\"\n",
    "photo_day = \"T240-145905\"\n"
   ]
  },
  {
   "cell_type": "code",
   "execution_count": 5,
   "metadata": {
    "execution": {
     "iopub.execute_input": "2020-06-16T17:00:28.132037Z",
     "iopub.status.busy": "2020-06-16T17:00:28.131297Z",
     "iopub.status.idle": "2020-06-16T17:00:28.134965Z",
     "shell.execute_reply": "2020-06-16T17:00:28.134275Z"
    },
    "papermill": {
     "duration": 0.012765,
     "end_time": "2020-06-16T17:00:28.135062",
     "exception": false,
     "start_time": "2020-06-16T17:00:28.122297",
     "status": "completed"
    },
    "tags": []
   },
   "outputs": [],
   "source": [
    "root = Path(data_dir_output+\"/\"+mouse+\"/\"+data_day+'/'+str(HowManyBack)+\"_Back\")\n",
    "d = mouse+\"_\"+date+Nb_name+'_seq'+seq_str+'.pickle'\n",
    "my_path = root / d \n",
    "my_file = open(my_path, 'wb')\n",
    "my_file = pickle.dump((),my_file)"
   ]
  }
 ],
 "metadata": {
  "celltoolbar": "Tags",
  "kernelspec": {
   "display_name": "Python 3",
   "language": "python",
   "name": "python3"
  },
  "language_info": {
   "codemirror_mode": {
    "name": "ipython",
    "version": 3
   },
   "file_extension": ".py",
   "mimetype": "text/x-python",
   "name": "python",
   "nbconvert_exporter": "python",
   "pygments_lexer": "ipython3",
   "version": "3.7.3"
  },
  "papermill": {
   "duration": 1.181409,
   "end_time": "2020-06-16T17:00:28.248731",
   "environment_variables": {},
   "exception": null,
   "input_path": "/Users/gilmandelbaum/github/analysis-pipeline-for-photometry_ex/Nb_7x_plots/Notebook_7_a.ipynb",
   "output_path": "TestOutPut.ipynb",
   "parameters": {
    "HowManyBack": 1,
    "Nb0": "a",
    "Nb1": "a",
    "Nb2": "a",
    "Nb3": "c",
    "Nb4": [
     "a",
     "b",
     "c",
     "d"
    ],
    "Nb5": "a",
    "Nb6": "a",
    "Nb7": "a",
    "Start_or_end": [
     "start",
     "end",
     "start",
     "start"
    ],
    "Tags": [
     "Reward_NoReward_tag",
     "ENL_tag",
     "Cue_to_Sel_tag",
     "Cue_to_Sel_fromPrevTrial_tag"
    ],
    "Timing": [
     600,
     200,
     15,
     15
    ],
    "data_day": "2019_09_27__T240",
    "data_dir_input": "/Volumes/GilInVivoPaper.large/2.Photometry_in_str/1.dual_color_photo_full_data_set/",
    "data_dir_output": "/Volumes/GilInVivoPaper.large/2.Photometry_in_str/2.dual_color_photo_full_data_set_analysis/",
    "date": "2019_09_27",
    "drop2blocks": "yes",
    "drop2lastblocks": "yes",
    "mouse": "T240",
    "photo_day": "T240-145905",
    "seq_str": "0a1a2a3c4abcd5a6a7a",
    "y_axis_list": [
     "df_f",
     "z_score",
     "z_score_sliding_window"
    ]
   },
   "start_time": "2020-06-16T17:00:27.067322",
   "version": "2.1.1"
  }
 },
 "nbformat": 4,
 "nbformat_minor": 2
}