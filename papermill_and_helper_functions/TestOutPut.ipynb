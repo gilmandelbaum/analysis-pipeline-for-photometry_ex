{
 "cells": [
  {
   "cell_type": "markdown",
   "metadata": {
    "papermill": {
     "duration": 0.011745,
     "end_time": "2020-11-02T19:22:19.016965",
     "exception": false,
     "start_time": "2020-11-02T19:22:19.005220",
     "status": "completed"
    },
    "tags": []
   },
   "source": [
    "# Split_5a  \n"
   ]
  },
  {
   "cell_type": "code",
   "execution_count": 1,
   "metadata": {
    "execution": {
     "iopub.execute_input": "2020-11-02T19:22:19.044560Z",
     "iopub.status.busy": "2020-11-02T19:22:19.043845Z",
     "iopub.status.idle": "2020-11-02T19:22:19.744901Z",
     "shell.execute_reply": "2020-11-02T19:22:19.744330Z"
    },
    "papermill": {
     "duration": 0.71591,
     "end_time": "2020-11-02T19:22:19.744991",
     "exception": false,
     "start_time": "2020-11-02T19:22:19.029081",
     "status": "completed"
    },
    "tags": []
   },
   "outputs": [],
   "source": [
    "import pickle\n",
    "import pandas as pd \n",
    "import numpy  as np \n",
    "import papermill as pm\n",
    "from pathlib import Path"
   ]
  },
  {
   "cell_type": "code",
   "execution_count": 2,
   "metadata": {
    "execution": {
     "iopub.execute_input": "2020-11-02T19:22:19.767029Z",
     "iopub.status.busy": "2020-11-02T19:22:19.766414Z",
     "iopub.status.idle": "2020-11-02T19:22:19.770025Z",
     "shell.execute_reply": "2020-11-02T19:22:19.769405Z"
    },
    "papermill": {
     "duration": 0.015451,
     "end_time": "2020-11-02T19:22:19.770119",
     "exception": false,
     "start_time": "2020-11-02T19:22:19.754668",
     "status": "completed"
    },
    "tags": []
   },
   "outputs": [],
   "source": [
    "import Notebook_5_helper_functions as Nb_5"
   ]
  },
  {
   "cell_type": "code",
   "execution_count": 3,
   "metadata": {
    "execution": {
     "iopub.execute_input": "2020-11-02T19:22:19.792961Z",
     "iopub.status.busy": "2020-11-02T19:22:19.792399Z",
     "iopub.status.idle": "2020-11-02T19:22:19.796224Z",
     "shell.execute_reply": "2020-11-02T19:22:19.795612Z"
    },
    "papermill": {
     "duration": 0.017423,
     "end_time": "2020-11-02T19:22:19.796313",
     "exception": false,
     "start_time": "2020-11-02T19:22:19.778890",
     "status": "completed"
    },
    "tags": [
     "parameters"
    ]
   },
   "outputs": [],
   "source": [
    "mouse = 'T240'\n",
    "data_day = '2019_09_27__T240'\n",
    "date = '2019_09_27'\n",
    "\n",
    "HowManyBack = 1\n",
    "\n",
    "Nb1= 'b'\n",
    "Nb3='b'\n",
    "\n",
    "data_dir_output = \"/Users/gilmandelbaum/Desktop/output/\"\n",
    "\n",
    "Tags = ['Reward_NoReward_tag', 'ENL_tag', 'Cue_to_Sel_tag', \"Cue_to_Sel_fromPrevTrial_tag\",\"firstENLp_tag\"]  \n",
    "Timing = [600,200,15,15,20]\n",
    "Start_or_end = ['start','end','start','start','start']\n",
    "\n",
    "seq_str = \"0a1b2a3b4ab5a6abc10a\""
   ]
  },
  {
   "cell_type": "code",
   "execution_count": 4,
   "metadata": {
    "execution": {
     "iopub.execute_input": "2020-11-02T19:22:19.819734Z",
     "iopub.status.busy": "2020-11-02T19:22:19.819142Z",
     "iopub.status.idle": "2020-11-02T19:22:19.821516Z",
     "shell.execute_reply": "2020-11-02T19:22:19.820993Z"
    },
    "papermill": {
     "duration": 0.016221,
     "end_time": "2020-11-02T19:22:19.821595",
     "exception": false,
     "start_time": "2020-11-02T19:22:19.805374",
     "status": "completed"
    },
    "tags": [
     "injected-parameters"
    ]
   },
   "outputs": [],
   "source": [
    "# Parameters\n",
    "data_dir_input = (\n",
    "    \"/Volumes/GilInVivoPaper.large/2.Photometry_in_str/0.data_Sets/1.lateral_medial_6/\"\n",
    ")\n",
    "data_dir_output = (\n",
    "    \"/Volumes/GilInVivoPaper.large/2.Photometry_in_str/1.lateral_medial_6_analysis_1/\"\n",
    ")\n",
    "drop2blocks = \"yes\"\n",
    "drop2lastblocks = \"yes\"\n",
    "seq_str = \"0a1b2a3l4abcd5a6a7a\"\n",
    "HowManyBack = 1\n",
    "Nb0 = \"a\"\n",
    "Nb1 = \"b\"\n",
    "Nb2 = \"a\"\n",
    "Nb3 = \"l\"\n",
    "Nb4 = [\"a\", \"b\", \"c\", \"d\"]\n",
    "Nb5 = \"a\"\n",
    "Nb6 = \"a\"\n",
    "Nb7 = \"a\"\n",
    "Tags = [\n",
    "    \"Reward_NoReward_tag\",\n",
    "    \"ENL_tag\",\n",
    "    \"Cue_to_Sel_tag\",\n",
    "    \"Cue_to_Sel_fromPrevTrial_tag\",\n",
    "]\n",
    "Timing = [600, 200, 15, 15]\n",
    "Start_or_end = [\"start\", \"end\", \"start\", \"start\"]\n",
    "y_axis_list = [\"df_f\", \"z_score\", \"z_score_sliding_window\"]\n",
    "mouse = \"T163\"\n",
    "data_day = \"2018_12_13__T163\"\n",
    "date = \"2018_12_13\"\n",
    "photo_day = \"T163-094646\"\n"
   ]
  },
  {
   "cell_type": "code",
   "execution_count": 5,
   "metadata": {
    "execution": {
     "iopub.execute_input": "2020-11-02T19:22:19.842683Z",
     "iopub.status.busy": "2020-11-02T19:22:19.841986Z",
     "iopub.status.idle": "2020-11-02T19:22:19.847555Z",
     "shell.execute_reply": "2020-11-02T19:22:19.846981Z"
    },
    "papermill": {
     "duration": 0.017484,
     "end_time": "2020-11-02T19:22:19.847646",
     "exception": false,
     "start_time": "2020-11-02T19:22:19.830162",
     "status": "completed"
    },
    "scrolled": true,
    "tags": []
   },
   "outputs": [],
   "source": [
    "root = Path(data_dir_output+\"/\"+mouse+\"/\"+data_day+'/'+str(HowManyBack)+\"_Back\")\n",
    "d = mouse+\"_\"+date+\"Notebook_1_\"+Nb1[-1]+'.pickle'\n",
    "my_path = root / d \n",
    "# open a file, where you stored the pickled data\n",
    "fileToOpen = open(my_path, 'rb')\n",
    "# dump information to that file\n",
    "behavior_data_trial_RIC_LIC_combinations_n = pickle.load(fileToOpen)"
   ]
  },
  {
   "cell_type": "code",
   "execution_count": 6,
   "metadata": {
    "execution": {
     "iopub.execute_input": "2020-11-02T19:22:19.873103Z",
     "iopub.status.busy": "2020-11-02T19:22:19.872459Z",
     "iopub.status.idle": "2020-11-02T19:22:19.919533Z",
     "shell.execute_reply": "2020-11-02T19:22:19.918858Z"
    },
    "papermill": {
     "duration": 0.062051,
     "end_time": "2020-11-02T19:22:19.919634",
     "exception": false,
     "start_time": "2020-11-02T19:22:19.857583",
     "status": "completed"
    },
    "tags": []
   },
   "outputs": [],
   "source": [
    "root = Path(data_dir_output+\"/\"+mouse+\"/\"+data_day+'/'+str(HowManyBack)+\"_Back\")\n",
    "d = mouse+\"_\"+date+\"Notebook_3_\"+Nb3+'_seq'+seq_str[seq_str.index(\"2\"):seq_str.index(\"4\")]+'.pickle'\n",
    "my_path = root / d \n",
    "# open a file, where you stored the pickled data\n",
    "fileToOpen = open(my_path, 'rb')\n",
    "# dump information to that file\n",
    "processed_data = pickle.load(fileToOpen)"
   ]
  },
  {
   "cell_type": "code",
   "execution_count": 7,
   "metadata": {
    "execution": {
     "iopub.execute_input": "2020-11-02T19:22:19.944235Z",
     "iopub.status.busy": "2020-11-02T19:22:19.943054Z",
     "iopub.status.idle": "2020-11-02T19:22:20.008028Z",
     "shell.execute_reply": "2020-11-02T19:22:20.007378Z"
    },
    "papermill": {
     "duration": 0.07855,
     "end_time": "2020-11-02T19:22:20.008142",
     "exception": false,
     "start_time": "2020-11-02T19:22:19.929592",
     "status": "completed"
    },
    "tags": []
   },
   "outputs": [],
   "source": [
    "aligned_behav_photo = Nb_5.combine_processed_data_and_tags (Tags,processed_data,root)"
   ]
  },
  {
   "cell_type": "code",
   "execution_count": 8,
   "metadata": {
    "execution": {
     "iopub.execute_input": "2020-11-02T19:22:20.037144Z",
     "iopub.status.busy": "2020-11-02T19:22:20.035042Z",
     "iopub.status.idle": "2020-11-02T19:22:27.241139Z",
     "shell.execute_reply": "2020-11-02T19:22:27.241727Z"
    },
    "papermill": {
     "duration": 7.223887,
     "end_time": "2020-11-02T19:22:27.241847",
     "exception": false,
     "start_time": "2020-11-02T19:22:20.017960",
     "status": "completed"
    },
    "tags": []
   },
   "outputs": [],
   "source": [
    "aligned_behav_photo = Nb_5.tag_Pre_Post_Periods(aligned_behav_photo, 200) "
   ]
  },
  {
   "cell_type": "code",
   "execution_count": null,
   "metadata": {
    "papermill": {
     "duration": 0.010486,
     "end_time": "2020-11-02T19:22:27.263052",
     "exception": false,
     "start_time": "2020-11-02T19:22:27.252566",
     "status": "completed"
    },
    "tags": []
   },
   "outputs": [],
   "source": []
  },
  {
   "cell_type": "code",
   "execution_count": 9,
   "metadata": {
    "execution": {
     "iopub.execute_input": "2020-11-02T19:22:27.304633Z",
     "iopub.status.busy": "2020-11-02T19:22:27.304035Z",
     "iopub.status.idle": "2020-11-02T19:22:31.328635Z",
     "shell.execute_reply": "2020-11-02T19:22:31.327991Z"
    },
    "papermill": {
     "duration": 4.054271,
     "end_time": "2020-11-02T19:22:31.328740",
     "exception": false,
     "start_time": "2020-11-02T19:22:27.274469",
     "status": "completed"
    },
    "tags": []
   },
   "outputs": [],
   "source": [
    "BehPhoto_RL_IC_tt_periods = Nb_5.behavPhoto_split(aligned_behav_photo, behavior_data_trial_RIC_LIC_combinations_n)"
   ]
  },
  {
   "cell_type": "markdown",
   "metadata": {
    "papermill": {
     "duration": 0.009975,
     "end_time": "2020-11-02T19:22:31.349436",
     "exception": false,
     "start_time": "2020-11-02T19:22:31.339461",
     "status": "completed"
    },
    "tags": []
   },
   "source": [
    "# Drop columns so the data frames only have photometry data that corresponds to left and right side. also name change occurs here to make names shorter\n",
    "\n"
   ]
  },
  {
   "cell_type": "code",
   "execution_count": 10,
   "metadata": {
    "execution": {
     "iopub.execute_input": "2020-11-02T19:22:31.388150Z",
     "iopub.status.busy": "2020-11-02T19:22:31.386937Z",
     "iopub.status.idle": "2020-11-02T19:22:31.870837Z",
     "shell.execute_reply": "2020-11-02T19:22:31.870201Z"
    },
    "papermill": {
     "duration": 0.510372,
     "end_time": "2020-11-02T19:22:31.870941",
     "exception": false,
     "start_time": "2020-11-02T19:22:31.360569",
     "status": "completed"
    },
    "tags": []
   },
   "outputs": [],
   "source": [
    "BehPhoto_RL_IC_tt_periods=Nb_5.drop_columns(BehPhoto_RL_IC_tt_periods)"
   ]
  },
  {
   "cell_type": "code",
   "execution_count": null,
   "metadata": {
    "papermill": {
     "duration": null,
     "end_time": null,
     "exception": false,
     "start_time": "2020-11-02T19:22:31.883042",
     "status": "running"
    },
    "tags": []
   },
   "outputs": [],
   "source": [
    "PhotoData_perTrial_channels = Nb_5.get_photodata_perTrial_df_firstStep(BehPhoto_RL_IC_tt_periods)"
   ]
  },
  {
   "cell_type": "code",
   "execution_count": null,
   "metadata": {
    "papermill": {
     "duration": null,
     "end_time": null,
     "exception": null,
     "start_time": null,
     "status": "pending"
    },
    "tags": []
   },
   "outputs": [],
   "source": [
    "for i in range(len(Tags)):\n",
    "    PhotoData_perTrial_channels = Nb_5.get_specificTime_fromPeriod(PhotoData_perTrial_channels, \n",
    "                                                                   Tags[i], Timing[i], Start_or_end[i])"
   ]
  },
  {
   "cell_type": "code",
   "execution_count": null,
   "metadata": {
    "papermill": {
     "duration": null,
     "end_time": null,
     "exception": null,
     "start_time": null,
     "status": "pending"
    },
    "tags": []
   },
   "outputs": [],
   "source": [
    "list_of_tags= pd.DataFrame(PhotoData_perTrial_channels[0][0][3].keys(),columns=[\"list_of_tags\"])\n",
    "list_of_tags.to_csv(data_dir_output+\"/\"+mouse+\"/\"+data_day+'/'+str(HowManyBack)+\"_Back\"+\"/\"+seq_str[:seq_str.index('6')]+\"_list_of_tags.csv\")"
   ]
  },
  {
   "cell_type": "code",
   "execution_count": null,
   "metadata": {
    "papermill": {
     "duration": null,
     "end_time": null,
     "exception": null,
     "start_time": null,
     "status": "pending"
    },
    "tags": []
   },
   "outputs": [],
   "source": [
    "root = Path(data_dir_output+\"/\"+mouse+\"/\"+data_day+'/'+str(HowManyBack)+\"_Back\")\n",
    "d = mouse+\"_\"+date+'Notebook_5_a'+'_seq'+seq_str[:seq_str.index('6')]+'.pickle'\n",
    "my_path = root / d \n",
    "my_file = open(my_path, 'wb')\n",
    "my_file = pickle.dump((PhotoData_perTrial_channels),my_file)"
   ]
  },
  {
   "cell_type": "code",
   "execution_count": null,
   "metadata": {
    "papermill": {
     "duration": null,
     "end_time": null,
     "exception": null,
     "start_time": null,
     "status": "pending"
    },
    "tags": []
   },
   "outputs": [],
   "source": []
  }
 ],
 "metadata": {
  "celltoolbar": "Tags",
  "kernelspec": {
   "display_name": "Python 3",
   "language": "python",
   "name": "python3"
  },
  "language_info": {
   "codemirror_mode": {
    "name": "ipython",
    "version": 3
   },
   "file_extension": ".py",
   "mimetype": "text/x-python",
   "name": "python",
   "nbconvert_exporter": "python",
   "pygments_lexer": "ipython3",
   "version": "3.7.3"
  },
  "papermill": {
   "duration": null,
   "end_time": null,
   "environment_variables": {},
   "exception": null,
   "input_path": "/Users/gilmandelbaum/github/analysis-pipeline-for-photometry_ex/Nb_5x_form_one_structure_with_all_data/Notebook_5_a.ipynb",
   "output_path": "TestOutPut.ipynb",
   "parameters": {
    "HowManyBack": 1,
    "Nb0": "a",
    "Nb1": "b",
    "Nb2": "a",
    "Nb3": "l",
    "Nb4": [
     "a",
     "b",
     "c",
     "d"
    ],
    "Nb5": "a",
    "Nb6": "a",
    "Nb7": "a",
    "Start_or_end": [
     "start",
     "end",
     "start",
     "start"
    ],
    "Tags": [
     "Reward_NoReward_tag",
     "ENL_tag",
     "Cue_to_Sel_tag",
     "Cue_to_Sel_fromPrevTrial_tag"
    ],
    "Timing": [
     600,
     200,
     15,
     15
    ],
    "data_day": "2018_12_13__T163",
    "data_dir_input": "/Volumes/GilInVivoPaper.large/2.Photometry_in_str/0.data_Sets/1.lateral_medial_6/",
    "data_dir_output": "/Volumes/GilInVivoPaper.large/2.Photometry_in_str/1.lateral_medial_6_analysis_1/",
    "date": "2018_12_13",
    "drop2blocks": "yes",
    "drop2lastblocks": "yes",
    "mouse": "T163",
    "photo_day": "T163-094646",
    "seq_str": "0a1b2a3l4abcd5a6a7a",
    "y_axis_list": [
     "df_f",
     "z_score",
     "z_score_sliding_window"
    ]
   },
   "start_time": "2020-11-02T19:22:18.131554",
   "version": "2.1.1"
  }
 },
 "nbformat": 4,
 "nbformat_minor": 2
}