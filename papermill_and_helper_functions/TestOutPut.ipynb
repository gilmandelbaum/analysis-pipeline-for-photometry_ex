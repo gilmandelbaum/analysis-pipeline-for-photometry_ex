{
 "cells": [
  {
   "cell_type": "markdown",
   "metadata": {
    "papermill": {
     "duration": 0.007075,
     "end_time": "2020-07-14T02:26:22.046310",
     "exception": false,
     "start_time": "2020-07-14T02:26:22.039235",
     "status": "completed"
    },
    "tags": []
   },
   "source": [
    "# Notebook 7a: no plot output"
   ]
  },
  {
   "cell_type": "code",
   "execution_count": 1,
   "metadata": {
    "execution": {
     "iopub.execute_input": "2020-07-14T02:26:22.063220Z",
     "iopub.status.busy": "2020-07-14T02:26:22.062586Z",
     "iopub.status.idle": "2020-07-14T02:26:22.065503Z",
     "shell.execute_reply": "2020-07-14T02:26:22.064866Z"
    },
    "papermill": {
     "duration": 0.011708,
     "end_time": "2020-07-14T02:26:22.065603",
     "exception": false,
     "start_time": "2020-07-14T02:26:22.053895",
     "status": "completed"
    },
    "tags": []
   },
   "outputs": [],
   "source": [
    "import os\n",
    "from pathlib import Path\n",
    "import pickle"
   ]
  },
  {
   "cell_type": "code",
   "execution_count": 2,
   "metadata": {
    "execution": {
     "iopub.execute_input": "2020-07-14T02:26:22.078189Z",
     "iopub.status.busy": "2020-07-14T02:26:22.077601Z",
     "iopub.status.idle": "2020-07-14T02:26:22.080347Z",
     "shell.execute_reply": "2020-07-14T02:26:22.079730Z"
    },
    "papermill": {
     "duration": 0.010418,
     "end_time": "2020-07-14T02:26:22.080438",
     "exception": false,
     "start_time": "2020-07-14T02:26:22.070020",
     "status": "completed"
    },
    "tags": []
   },
   "outputs": [],
   "source": [
    "Nb_name= 'Notebook_7_a'"
   ]
  },
  {
   "cell_type": "code",
   "execution_count": 3,
   "metadata": {
    "execution": {
     "iopub.execute_input": "2020-07-14T02:26:22.094133Z",
     "iopub.status.busy": "2020-07-14T02:26:22.093438Z",
     "iopub.status.idle": "2020-07-14T02:26:22.095908Z",
     "shell.execute_reply": "2020-07-14T02:26:22.096540Z"
    },
    "papermill": {
     "duration": 0.011512,
     "end_time": "2020-07-14T02:26:22.096670",
     "exception": false,
     "start_time": "2020-07-14T02:26:22.085158",
     "status": "completed"
    },
    "tags": [
     "parameters"
    ]
   },
   "outputs": [],
   "source": [
    "mouse = 'T240'\n",
    "data_day = '2019_09_27__T240'\n",
    "date = '2019_09_27'\n",
    "\n",
    "HowManyBack = 1\n",
    "\n",
    "seq_str= \"0a1b2a3b4abcde5a6a7a\"\n",
    "\n",
    "data_dir_output = \"/Users/gilmandelbaum/Desktop/outPut\"\n"
   ]
  },
  {
   "cell_type": "code",
   "execution_count": 4,
   "metadata": {
    "execution": {
     "iopub.execute_input": "2020-07-14T02:26:22.112163Z",
     "iopub.status.busy": "2020-07-14T02:26:22.111576Z",
     "iopub.status.idle": "2020-07-14T02:26:22.114166Z",
     "shell.execute_reply": "2020-07-14T02:26:22.113595Z"
    },
    "papermill": {
     "duration": 0.012927,
     "end_time": "2020-07-14T02:26:22.114248",
     "exception": false,
     "start_time": "2020-07-14T02:26:22.101321",
     "status": "completed"
    },
    "tags": [
     "injected-parameters"
    ]
   },
   "outputs": [],
   "source": [
    "# Parameters\n",
    "data_dir_input = (\n",
    "    \"/Volumes/GilInVivoPaper.large/2.Photometry_in_str/0.data_Sets/1.lateral_medial_6/\"\n",
    ")\n",
    "data_dir_output = (\n",
    "    \"/Volumes/GilInVivoPaper.large/2.Photometry_in_str/1.lateral_medial_6_analysis/\"\n",
    ")\n",
    "drop2blocks = \"yes\"\n",
    "drop2lastblocks = \"yes\"\n",
    "seq_str = \"0a1b2b3b4abcd5a6a7a\"\n",
    "HowManyBack = 1\n",
    "Nb0 = \"a\"\n",
    "Nb1 = \"b\"\n",
    "Nb2 = \"b\"\n",
    "Nb3 = \"b\"\n",
    "Nb4 = [\"a\", \"b\", \"c\", \"d\"]\n",
    "Nb5 = \"a\"\n",
    "Nb6 = \"a\"\n",
    "Nb7 = \"a\"\n",
    "Tags = [\n",
    "    \"Reward_NoReward_tag\",\n",
    "    \"ENL_tag\",\n",
    "    \"Cue_to_Sel_tag\",\n",
    "    \"Cue_to_Sel_fromPrevTrial_tag\",\n",
    "]\n",
    "Timing = [600, 200, 15, 15]\n",
    "Start_or_end = [\"start\", \"end\", \"start\", \"start\"]\n",
    "y_axis_list = [\"df_f\", \"z_score\", \"z_score_sliding_window\"]\n",
    "mouse = \"T202\"\n",
    "data_day = \"2019_05_30__T202\"\n",
    "date = \"2019_05_30\"\n",
    "photo_day = \"T202-152554\"\n"
   ]
  },
  {
   "cell_type": "code",
   "execution_count": 5,
   "metadata": {
    "execution": {
     "iopub.execute_input": "2020-07-14T02:26:22.126515Z",
     "iopub.status.busy": "2020-07-14T02:26:22.125979Z",
     "iopub.status.idle": "2020-07-14T02:26:22.128309Z",
     "shell.execute_reply": "2020-07-14T02:26:22.128826Z"
    },
    "papermill": {
     "duration": 0.010554,
     "end_time": "2020-07-14T02:26:22.128931",
     "exception": false,
     "start_time": "2020-07-14T02:26:22.118377",
     "status": "completed"
    },
    "tags": []
   },
   "outputs": [],
   "source": [
    "root = Path(data_dir_output+\"/\"+mouse+\"/\"+data_day+'/'+str(HowManyBack)+\"_Back\")\n",
    "d = mouse+\"_\"+date+Nb_name+'_seq'+seq_str+'.pickle'\n",
    "my_path = root / d \n",
    "my_file = open(my_path, 'wb')\n",
    "my_file = pickle.dump((),my_file)"
   ]
  }
 ],
 "metadata": {
  "celltoolbar": "Tags",
  "kernelspec": {
   "display_name": "Python 3",
   "language": "python",
   "name": "python3"
  },
  "language_info": {
   "codemirror_mode": {
    "name": "ipython",
    "version": 3
   },
   "file_extension": ".py",
   "mimetype": "text/x-python",
   "name": "python",
   "nbconvert_exporter": "python",
   "pygments_lexer": "ipython3",
   "version": "3.7.3"
  },
  "papermill": {
   "duration": 0.973487,
   "end_time": "2020-07-14T02:26:22.249689",
   "environment_variables": {},
   "exception": null,
   "input_path": "/Users/gilmandelbaum/github/analysis-pipeline-for-photometry_ex/Nb_7x_plots/Notebook_7_a.ipynb",
   "output_path": "TestOutPut.ipynb",
   "parameters": {
    "HowManyBack": 1,
    "Nb0": "a",
    "Nb1": "b",
    "Nb2": "b",
    "Nb3": "b",
    "Nb4": [
     "a",
     "b",
     "c",
     "d"
    ],
    "Nb5": "a",
    "Nb6": "a",
    "Nb7": "a",
    "Start_or_end": [
     "start",
     "end",
     "start",
     "start"
    ],
    "Tags": [
     "Reward_NoReward_tag",
     "ENL_tag",
     "Cue_to_Sel_tag",
     "Cue_to_Sel_fromPrevTrial_tag"
    ],
    "Timing": [
     600,
     200,
     15,
     15
    ],
    "data_day": "2019_05_30__T202",
    "data_dir_input": "/Volumes/GilInVivoPaper.large/2.Photometry_in_str/0.data_Sets/1.lateral_medial_6/",
    "data_dir_output": "/Volumes/GilInVivoPaper.large/2.Photometry_in_str/1.lateral_medial_6_analysis/",
    "date": "2019_05_30",
    "drop2blocks": "yes",
    "drop2lastblocks": "yes",
    "mouse": "T202",
    "photo_day": "T202-152554",
    "seq_str": "0a1b2b3b4abcd5a6a7a",
    "y_axis_list": [
     "df_f",
     "z_score",
     "z_score_sliding_window"
    ]
   },
   "start_time": "2020-07-14T02:26:21.276202",
   "version": "2.1.1"
  }
 },
 "nbformat": 4,
 "nbformat_minor": 2
}