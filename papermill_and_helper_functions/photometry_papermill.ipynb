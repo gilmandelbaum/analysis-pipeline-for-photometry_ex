{
 "cells": [
  {
   "cell_type": "markdown",
   "metadata": {},
   "source": [
    "\n",
    "# Papermill Notebook for photometry"
   ]
  },
  {
   "cell_type": "code",
   "execution_count": 1,
   "metadata": {},
   "outputs": [],
   "source": [
    "import timeit\n",
    "import pandas as pd\n",
    "import numpy as np\n",
    "import os \n",
    "import papermill as pm\n",
    "import getpass\n",
    "import sys"
   ]
  },
  {
   "cell_type": "code",
   "execution_count": 2,
   "metadata": {},
   "outputs": [
    {
     "data": {
      "text/plain": [
       "'/anaconda3/bin/python3'"
      ]
     },
     "execution_count": 2,
     "metadata": {},
     "output_type": "execute_result"
    }
   ],
   "source": [
    "sys.executable"
   ]
  },
  {
   "cell_type": "code",
   "execution_count": 3,
   "metadata": {},
   "outputs": [],
   "source": [
    "import photometry_papermill_helper_functions as ophf "
   ]
  },
  {
   "cell_type": "markdown",
   "metadata": {},
   "source": [
    "# input and output path: (user specific)"
   ]
  },
  {
   "cell_type": "code",
   "execution_count": 4,
   "metadata": {},
   "outputs": [],
   "source": [
    "#data_dir_input = \"/Users/gilmandelbaum/Desktop/T240_mouse\"\n",
    "#data_dir_output = \"/Users/gilmandelbaum/Desktop/output/\"\n",
    "\n",
    "data_dir_input = \"/Volumes/GilInVivoPaper.large/2.Photometry_in_str/1.dual_color_photo_full_data_set/\"\n",
    "data_dir_output = \"/Volumes/GilInVivoPaper.large/2.Photometry_in_str/2.dual_color_photo_full_data_set_analysis/\"\n"
   ]
  },
  {
   "cell_type": "markdown",
   "metadata": {},
   "source": [
    "# name of xlsx sheet to import with the data set info: "
   ]
  },
  {
   "cell_type": "code",
   "execution_count": 5,
   "metadata": {},
   "outputs": [],
   "source": [
    "#this xlsx sheet should be in the data_dir_input"
   ]
  },
  {
   "cell_type": "code",
   "execution_count": 6,
   "metadata": {},
   "outputs": [],
   "source": [
    "#name of xlsx file that has the sessions we want to run: \n",
    "MasterSheetName= 'data_set_6_to_10_for_papermill_after_inspection'"
   ]
  },
  {
   "cell_type": "code",
   "execution_count": 7,
   "metadata": {},
   "outputs": [],
   "source": [
    "#loading the xlsx file \n",
    "Mouse_Date_FileName = pd.read_excel(data_dir_input+'/'+MasterSheetName+'.xlsx') #mdf is mouse data file "
   ]
  },
  {
   "cell_type": "code",
   "execution_count": 8,
   "metadata": {
    "scrolled": false
   },
   "outputs": [
    {
     "data": {
      "text/html": [
       "<div>\n",
       "<style scoped>\n",
       "    .dataframe tbody tr th:only-of-type {\n",
       "        vertical-align: middle;\n",
       "    }\n",
       "\n",
       "    .dataframe tbody tr th {\n",
       "        vertical-align: top;\n",
       "    }\n",
       "\n",
       "    .dataframe thead th {\n",
       "        text-align: right;\n",
       "    }\n",
       "</style>\n",
       "<table border=\"1\" class=\"dataframe\">\n",
       "  <thead>\n",
       "    <tr style=\"text-align: right;\">\n",
       "      <th></th>\n",
       "      <th>Mouse</th>\n",
       "      <th>Date</th>\n",
       "      <th>File name</th>\n",
       "    </tr>\n",
       "  </thead>\n",
       "  <tbody>\n",
       "    <tr>\n",
       "      <th>0</th>\n",
       "      <td>T163</td>\n",
       "      <td>181127</td>\n",
       "      <td>T163-144959</td>\n",
       "    </tr>\n",
       "    <tr>\n",
       "      <th>1</th>\n",
       "      <td>T163</td>\n",
       "      <td>181207</td>\n",
       "      <td>T163-123432</td>\n",
       "    </tr>\n",
       "    <tr>\n",
       "      <th>2</th>\n",
       "      <td>T163</td>\n",
       "      <td>181128</td>\n",
       "      <td>T163-115220</td>\n",
       "    </tr>\n",
       "    <tr>\n",
       "      <th>3</th>\n",
       "      <td>T163</td>\n",
       "      <td>181203</td>\n",
       "      <td>T163-115901</td>\n",
       "    </tr>\n",
       "    <tr>\n",
       "      <th>4</th>\n",
       "      <td>T163</td>\n",
       "      <td>181204</td>\n",
       "      <td>T163-114628</td>\n",
       "    </tr>\n",
       "    <tr>\n",
       "      <th>5</th>\n",
       "      <td>T163</td>\n",
       "      <td>181206</td>\n",
       "      <td>T163-112720</td>\n",
       "    </tr>\n",
       "    <tr>\n",
       "      <th>6</th>\n",
       "      <td>T163</td>\n",
       "      <td>181213</td>\n",
       "      <td>T163-094646</td>\n",
       "    </tr>\n",
       "    <tr>\n",
       "      <th>7</th>\n",
       "      <td>T164</td>\n",
       "      <td>181127</td>\n",
       "      <td>T164-153101</td>\n",
       "    </tr>\n",
       "    <tr>\n",
       "      <th>8</th>\n",
       "      <td>T164</td>\n",
       "      <td>181204</td>\n",
       "      <td>T164-121548</td>\n",
       "    </tr>\n",
       "    <tr>\n",
       "      <th>9</th>\n",
       "      <td>T164</td>\n",
       "      <td>181205</td>\n",
       "      <td>T164-123550</td>\n",
       "    </tr>\n",
       "    <tr>\n",
       "      <th>10</th>\n",
       "      <td>T164</td>\n",
       "      <td>181128</td>\n",
       "      <td>T164-122054</td>\n",
       "    </tr>\n",
       "    <tr>\n",
       "      <th>11</th>\n",
       "      <td>T164</td>\n",
       "      <td>181213</td>\n",
       "      <td>T164-101804</td>\n",
       "    </tr>\n",
       "    <tr>\n",
       "      <th>12</th>\n",
       "      <td>T169</td>\n",
       "      <td>190211</td>\n",
       "      <td>T169-145303</td>\n",
       "    </tr>\n",
       "    <tr>\n",
       "      <th>13</th>\n",
       "      <td>T169</td>\n",
       "      <td>190301</td>\n",
       "      <td>T169-141400</td>\n",
       "    </tr>\n",
       "    <tr>\n",
       "      <th>14</th>\n",
       "      <td>T169</td>\n",
       "      <td>190125</td>\n",
       "      <td>T169-142626</td>\n",
       "    </tr>\n",
       "    <tr>\n",
       "      <th>15</th>\n",
       "      <td>T169</td>\n",
       "      <td>190214</td>\n",
       "      <td>T169-143937</td>\n",
       "    </tr>\n",
       "    <tr>\n",
       "      <th>16</th>\n",
       "      <td>T169</td>\n",
       "      <td>190227</td>\n",
       "      <td>T169-155731</td>\n",
       "    </tr>\n",
       "    <tr>\n",
       "      <th>17</th>\n",
       "      <td>T169</td>\n",
       "      <td>190228</td>\n",
       "      <td>T169-142051</td>\n",
       "    </tr>\n",
       "    <tr>\n",
       "      <th>18</th>\n",
       "      <td>T169</td>\n",
       "      <td>190221</td>\n",
       "      <td>T169-141159</td>\n",
       "    </tr>\n",
       "    <tr>\n",
       "      <th>19</th>\n",
       "      <td>T171</td>\n",
       "      <td>190221</td>\n",
       "      <td>T171-152107</td>\n",
       "    </tr>\n",
       "    <tr>\n",
       "      <th>20</th>\n",
       "      <td>T171</td>\n",
       "      <td>190226</td>\n",
       "      <td>T171-145215</td>\n",
       "    </tr>\n",
       "    <tr>\n",
       "      <th>21</th>\n",
       "      <td>T171</td>\n",
       "      <td>190122</td>\n",
       "      <td>T171-165215</td>\n",
       "    </tr>\n",
       "    <tr>\n",
       "      <th>22</th>\n",
       "      <td>T171</td>\n",
       "      <td>190225</td>\n",
       "      <td>T171-152054</td>\n",
       "    </tr>\n",
       "    <tr>\n",
       "      <th>23</th>\n",
       "      <td>T171</td>\n",
       "      <td>190227</td>\n",
       "      <td>T171-162455</td>\n",
       "    </tr>\n",
       "    <tr>\n",
       "      <th>24</th>\n",
       "      <td>T171</td>\n",
       "      <td>190214</td>\n",
       "      <td>T171-155052</td>\n",
       "    </tr>\n",
       "    <tr>\n",
       "      <th>25</th>\n",
       "      <td>T171</td>\n",
       "      <td>190222</td>\n",
       "      <td>T171-145829</td>\n",
       "    </tr>\n",
       "    <tr>\n",
       "      <th>26</th>\n",
       "      <td>T171</td>\n",
       "      <td>190215</td>\n",
       "      <td>T171-152142</td>\n",
       "    </tr>\n",
       "    <tr>\n",
       "      <th>27</th>\n",
       "      <td>T171</td>\n",
       "      <td>190131</td>\n",
       "      <td>T171-153700</td>\n",
       "    </tr>\n",
       "    <tr>\n",
       "      <th>28</th>\n",
       "      <td>T186</td>\n",
       "      <td>190322</td>\n",
       "      <td>T186-164847</td>\n",
       "    </tr>\n",
       "    <tr>\n",
       "      <th>29</th>\n",
       "      <td>T186</td>\n",
       "      <td>190401</td>\n",
       "      <td>T186-142719</td>\n",
       "    </tr>\n",
       "    <tr>\n",
       "      <th>30</th>\n",
       "      <td>T186</td>\n",
       "      <td>190328</td>\n",
       "      <td>T186-144534</td>\n",
       "    </tr>\n",
       "    <tr>\n",
       "      <th>31</th>\n",
       "      <td>T186</td>\n",
       "      <td>190327</td>\n",
       "      <td>T186-150703</td>\n",
       "    </tr>\n",
       "    <tr>\n",
       "      <th>32</th>\n",
       "      <td>T186</td>\n",
       "      <td>190402</td>\n",
       "      <td>T186-140234</td>\n",
       "    </tr>\n",
       "    <tr>\n",
       "      <th>33</th>\n",
       "      <td>T186</td>\n",
       "      <td>190405</td>\n",
       "      <td>T186-135725</td>\n",
       "    </tr>\n",
       "    <tr>\n",
       "      <th>34</th>\n",
       "      <td>T187</td>\n",
       "      <td>190322</td>\n",
       "      <td>T187-172139</td>\n",
       "    </tr>\n",
       "    <tr>\n",
       "      <th>35</th>\n",
       "      <td>T187</td>\n",
       "      <td>190402</td>\n",
       "      <td>T187-142756</td>\n",
       "    </tr>\n",
       "    <tr>\n",
       "      <th>36</th>\n",
       "      <td>T187</td>\n",
       "      <td>190325</td>\n",
       "      <td>T187-153540</td>\n",
       "    </tr>\n",
       "    <tr>\n",
       "      <th>37</th>\n",
       "      <td>T187</td>\n",
       "      <td>190404</td>\n",
       "      <td>T187-142541</td>\n",
       "    </tr>\n",
       "    <tr>\n",
       "      <th>38</th>\n",
       "      <td>T187</td>\n",
       "      <td>190401</td>\n",
       "      <td>T187-150132</td>\n",
       "    </tr>\n",
       "    <tr>\n",
       "      <th>39</th>\n",
       "      <td>T187</td>\n",
       "      <td>190328</td>\n",
       "      <td>T187-152018</td>\n",
       "    </tr>\n",
       "  </tbody>\n",
       "</table>\n",
       "</div>"
      ],
      "text/plain": [
       "   Mouse    Date    File name\n",
       "0   T163  181127  T163-144959\n",
       "1   T163  181207  T163-123432\n",
       "2   T163  181128  T163-115220\n",
       "3   T163  181203  T163-115901\n",
       "4   T163  181204  T163-114628\n",
       "5   T163  181206  T163-112720\n",
       "6   T163  181213  T163-094646\n",
       "7   T164  181127  T164-153101\n",
       "8   T164  181204  T164-121548\n",
       "9   T164  181205  T164-123550\n",
       "10  T164  181128  T164-122054\n",
       "11  T164  181213  T164-101804\n",
       "12  T169  190211  T169-145303\n",
       "13  T169  190301  T169-141400\n",
       "14  T169  190125  T169-142626\n",
       "15  T169  190214  T169-143937\n",
       "16  T169  190227  T169-155731\n",
       "17  T169  190228  T169-142051\n",
       "18  T169  190221  T169-141159\n",
       "19  T171  190221  T171-152107\n",
       "20  T171  190226  T171-145215\n",
       "21  T171  190122  T171-165215\n",
       "22  T171  190225  T171-152054\n",
       "23  T171  190227  T171-162455\n",
       "24  T171  190214  T171-155052\n",
       "25  T171  190222  T171-145829\n",
       "26  T171  190215  T171-152142\n",
       "27  T171  190131  T171-153700\n",
       "28  T186  190322  T186-164847\n",
       "29  T186  190401  T186-142719\n",
       "30  T186  190328  T186-144534\n",
       "31  T186  190327  T186-150703\n",
       "32  T186  190402  T186-140234\n",
       "33  T186  190405  T186-135725\n",
       "34  T187  190322  T187-172139\n",
       "35  T187  190402  T187-142756\n",
       "36  T187  190325  T187-153540\n",
       "37  T187  190404  T187-142541\n",
       "38  T187  190401  T187-150132\n",
       "39  T187  190328  T187-152018"
      ]
     },
     "execution_count": 8,
     "metadata": {},
     "output_type": "execute_result"
    }
   ],
   "source": [
    "Mouse_Date_FileName"
   ]
  },
  {
   "cell_type": "markdown",
   "metadata": {},
   "source": [
    "# use this if running the notebooks from local github folder"
   ]
  },
  {
   "cell_type": "markdown",
   "metadata": {},
   "source": [
    "### if not - define a path to where the repository is at"
   ]
  },
  {
   "cell_type": "code",
   "execution_count": 9,
   "metadata": {},
   "outputs": [
    {
     "name": "stdout",
     "output_type": "stream",
     "text": [
      "gilmandelbaum\n"
     ]
    }
   ],
   "source": [
    "#add the github path that will run the notebooks: \n",
    "username = getpass.getuser() # gets the username from the current comp \n",
    "print (username)"
   ]
  },
  {
   "cell_type": "code",
   "execution_count": 10,
   "metadata": {},
   "outputs": [
    {
     "data": {
      "text/plain": [
       "'/Users/gilmandelbaum/github/analysis-pipeline-for-photometry_ex/'"
      ]
     },
     "execution_count": 10,
     "metadata": {},
     "output_type": "execute_result"
    }
   ],
   "source": [
    "sys.path.append('/Users/{:}/github/analysis-pipeline-for-photometry_ex/'.format(username))\n",
    "nb_path = sys.path[-1]\n",
    "nb_path"
   ]
  },
  {
   "cell_type": "markdown",
   "metadata": {},
   "source": [
    "# parameters to change:"
   ]
  },
  {
   "cell_type": "code",
   "execution_count": 11,
   "metadata": {},
   "outputs": [],
   "source": [
    "#analysis parameters for whole data set:  \n",
    "drop2blocks= 'yes'\n",
    "drop2lastblocks=\"yes\"\n",
    "HowManyBack = 1\n",
    "\n",
    "#for notebook 5: \n",
    "# Tags = ['Reward_NoReward_tag','ENL_tag','Cue_to_Sel_tag',\"Cue_to_Sel_fromPrevTrial_tag\"]  \n",
    "# Timing = [600,200,15,15]\n",
    "# Start_or_end = ['start','end','start','start']\n",
    "\n",
    "#for notebook 5: \n",
    "Tags = ['Reward_NoReward_tag', 'ENL_tag', 'Cue_to_Sel_tag', \"Cue_to_Sel_fromPrevTrial_tag\",\"firstENLp_tag\"]  \n",
    "Timing = [600,200,15,15,100]\n",
    "Start_or_end = ['start','end','start','start',\"start\"]\n",
    "\n",
    "y_axis_list = [\"df_f\",\"z_score\",\"z_score_sliding_window\"]"
   ]
  },
  {
   "cell_type": "markdown",
   "metadata": {},
   "source": [
    "# parameters to change:"
   ]
  },
  {
   "cell_type": "code",
   "execution_count": 12,
   "metadata": {},
   "outputs": [],
   "source": [
    "#Versions for each notebook: \n",
    "#NOTE: if one notebook no need for list. see 6 as an example. \n",
    "\n",
    "Nb0='a'\n",
    "Nb1= \"b\"\n",
    "Nb2= 'a'\n",
    "Nb3= 'a'\n",
    "#Nb4= ['a','b','c','d','e'] #can be a list \n",
    "Nb4= ['a','b','c','d'] #can be a list \n",
    "Nb5= 'a'\n",
    "Nb6= \"a\" #can be a list \n",
    "#Nb6= ['a',\"b\"] #can be a list \n",
    "Nb7= 'a'"
   ]
  },
  {
   "cell_type": "code",
   "execution_count": 13,
   "metadata": {},
   "outputs": [],
   "source": [
    "List_of_versions =[Nb0,Nb1,Nb2,Nb3,Nb4,Nb5,Nb6,Nb7]\n",
    "List_of_versions_str =[\"Nb0\",\"Nb1\",\"Nb2\",\"Nb3\",\"Nb4\",\"Nb5\",\"Nb6\",\"Nb7\"]\n",
    "notebook_sequence_list = [0,1,2,3,4,5,6,7]"
   ]
  },
  {
   "cell_type": "code",
   "execution_count": null,
   "metadata": {},
   "outputs": [],
   "source": []
  },
  {
   "cell_type": "code",
   "execution_count": 14,
   "metadata": {},
   "outputs": [
    {
     "data": {
      "text/plain": [
       "['Nb0_a',\n",
       " 'Nb1_b',\n",
       " 'Nb2_a',\n",
       " 'Nb3_a',\n",
       " 'Nb4_a',\n",
       " 'Nb4_b',\n",
       " 'Nb4_c',\n",
       " 'Nb4_d',\n",
       " 'Nb5_a',\n",
       " 'Nb6_a',\n",
       " 'Nb7_a']"
      ]
     },
     "execution_count": 14,
     "metadata": {},
     "output_type": "execute_result"
    }
   ],
   "source": [
    "nb_list = ophf.make_nb_list(List_of_versions,List_of_versions_str)\n",
    "nb_list"
   ]
  },
  {
   "cell_type": "code",
   "execution_count": 15,
   "metadata": {},
   "outputs": [
    {
     "name": "stdout",
     "output_type": "stream",
     "text": [
      "seq0a1b2a3a4abcd5a6a7a will be used\n"
     ]
    }
   ],
   "source": [
    "seq_str = ophf.make_sequence_string(notebook_sequence_list, List_of_versions)"
   ]
  },
  {
   "cell_type": "markdown",
   "metadata": {},
   "source": [
    "# run the cell below (no need to make any changes)"
   ]
  },
  {
   "cell_type": "code",
   "execution_count": 16,
   "metadata": {},
   "outputs": [],
   "source": [
    "#parameters that were defined above and will carry on for the whole analysis. \n",
    "dict_for_pm = dict(data_dir_input=data_dir_input,\n",
    "                   data_dir_output=data_dir_output,\n",
    "                   drop2blocks= drop2blocks,\n",
    "                   drop2lastblocks=drop2blocks,\n",
    "                   seq_str= seq_str, \n",
    "                   HowManyBack = HowManyBack, \n",
    "                   Nb0=Nb0, Nb1=Nb1, Nb2=Nb2, Nb3=Nb3,\n",
    "                   Nb4=Nb4, Nb5=Nb5,Nb6=Nb6,Nb7=Nb7,\n",
    "                   Tags=Tags, \n",
    "                   Timing = Timing,\n",
    "                   Start_or_end=Start_or_end,\n",
    "                   y_axis_list=y_axis_list)"
   ]
  },
  {
   "cell_type": "code",
   "execution_count": null,
   "metadata": {},
   "outputs": [],
   "source": []
  },
  {
   "cell_type": "code",
   "execution_count": 17,
   "metadata": {
    "scrolled": true
   },
   "outputs": [
    {
     "name": "stdout",
     "output_type": "stream",
     "text": [
      "T163_2018_11_27_Notebook_0_a: This session already exists - no need to re-run ;)\n",
      "T163_2018_11_27_Notebook_1_b: This session already exists - no need to re-run ;)\n",
      "T163_2018_11_27_Notebook_2_a: This session already exists - no need to re-run ;)\n",
      "2018_11_27__T163_T163-144959\n",
      "Notebook_3_a.ipynb is being executed\n"
     ]
    },
    {
     "data": {
      "application/vnd.jupyter.widget-view+json": {
       "model_id": "700a8252e13c4948b5ebea16b6966145",
       "version_major": 2,
       "version_minor": 0
      },
      "text/plain": [
       "HBox(children=(FloatProgress(value=0.0, description='Executing', max=27.0, style=ProgressStyle(description_wid…"
      ]
     },
     "metadata": {},
     "output_type": "display_data"
    },
    {
     "name": "stdout",
     "output_type": "stream",
     "text": [
      "\n",
      "T163_2018_11_27_Notebook_4_a: This session already exists - no need to re-run ;)\n",
      "T163_2018_11_27_Notebook_4_b: This session already exists - no need to re-run ;)\n",
      "T163_2018_11_27_Notebook_4_c: This session already exists - no need to re-run ;)\n",
      "T163_2018_11_27_Notebook_4_d: This session already exists - no need to re-run ;)\n",
      "2018_11_27__T163_T163-144959\n",
      "Notebook_5_a.ipynb is being executed\n"
     ]
    },
    {
     "data": {
      "application/vnd.jupyter.widget-view+json": {
       "model_id": "428dbbadc7324ce6a44fd7d346bc078c",
       "version_major": 2,
       "version_minor": 0
      },
      "text/plain": [
       "HBox(children=(FloatProgress(value=0.0, description='Executing', max=18.0, style=ProgressStyle(description_wid…"
      ]
     },
     "metadata": {},
     "output_type": "display_data"
    },
    {
     "name": "stdout",
     "output_type": "stream",
     "text": [
      "\n",
      "2018_11_27__T163_T163-144959\n",
      "Notebook_6_a.ipynb is being executed\n"
     ]
    },
    {
     "data": {
      "application/vnd.jupyter.widget-view+json": {
       "model_id": "3895e5de35234633b155309923fbce76",
       "version_major": 2,
       "version_minor": 0
      },
      "text/plain": [
       "HBox(children=(FloatProgress(value=0.0, description='Executing', max=11.0, style=ProgressStyle(description_wid…"
      ]
     },
     "metadata": {},
     "output_type": "display_data"
    },
    {
     "name": "stdout",
     "output_type": "stream",
     "text": [
      "\n",
      "2018_11_27__T163_T163-144959\n",
      "Notebook_7_a.ipynb is being executed\n"
     ]
    },
    {
     "data": {
      "application/vnd.jupyter.widget-view+json": {
       "model_id": "c3d1865d6441493d9f7f0c345dfd5170",
       "version_major": 2,
       "version_minor": 0
      },
      "text/plain": [
       "HBox(children=(FloatProgress(value=0.0, description='Executing', max=6.0, style=ProgressStyle(description_widt…"
      ]
     },
     "metadata": {},
     "output_type": "display_data"
    },
    {
     "name": "stdout",
     "output_type": "stream",
     "text": [
      "\n",
      "T163_2018_12_07_Notebook_0_a: This session already exists - no need to re-run ;)\n",
      "T163_2018_12_07_Notebook_1_b: This session already exists - no need to re-run ;)\n",
      "T163_2018_12_07_Notebook_2_a: This session already exists - no need to re-run ;)\n",
      "2018_12_07__T163_T163-123432\n",
      "Notebook_3_a.ipynb is being executed\n"
     ]
    },
    {
     "data": {
      "application/vnd.jupyter.widget-view+json": {
       "model_id": "49603dbf8d334b1abdf6b9b895f1670d",
       "version_major": 2,
       "version_minor": 0
      },
      "text/plain": [
       "HBox(children=(FloatProgress(value=0.0, description='Executing', max=27.0, style=ProgressStyle(description_wid…"
      ]
     },
     "metadata": {},
     "output_type": "display_data"
    },
    {
     "name": "stdout",
     "output_type": "stream",
     "text": [
      "\n",
      "T163_2018_12_07_Notebook_4_a: This session already exists - no need to re-run ;)\n",
      "T163_2018_12_07_Notebook_4_b: This session already exists - no need to re-run ;)\n",
      "T163_2018_12_07_Notebook_4_c: This session already exists - no need to re-run ;)\n",
      "T163_2018_12_07_Notebook_4_d: This session already exists - no need to re-run ;)\n",
      "2018_12_07__T163_T163-123432\n",
      "Notebook_5_a.ipynb is being executed\n"
     ]
    },
    {
     "data": {
      "application/vnd.jupyter.widget-view+json": {
       "model_id": "976613c8c33a4ac8989d97fe8d01c8e9",
       "version_major": 2,
       "version_minor": 0
      },
      "text/plain": [
       "HBox(children=(FloatProgress(value=0.0, description='Executing', max=18.0, style=ProgressStyle(description_wid…"
      ]
     },
     "metadata": {},
     "output_type": "display_data"
    },
    {
     "name": "stdout",
     "output_type": "stream",
     "text": [
      "\n",
      "2018_12_07__T163_T163-123432\n",
      "Notebook_6_a.ipynb is being executed\n"
     ]
    },
    {
     "data": {
      "application/vnd.jupyter.widget-view+json": {
       "model_id": "a94951dfc61d4b46a91190893ed9ea56",
       "version_major": 2,
       "version_minor": 0
      },
      "text/plain": [
       "HBox(children=(FloatProgress(value=0.0, description='Executing', max=11.0, style=ProgressStyle(description_wid…"
      ]
     },
     "metadata": {},
     "output_type": "display_data"
    },
    {
     "name": "stdout",
     "output_type": "stream",
     "text": [
      "\n",
      "2018_12_07__T163_T163-123432\n",
      "Notebook_7_a.ipynb is being executed\n"
     ]
    },
    {
     "data": {
      "application/vnd.jupyter.widget-view+json": {
       "model_id": "d25b28d879774b5c83e6d0d10abdd8b1",
       "version_major": 2,
       "version_minor": 0
      },
      "text/plain": [
       "HBox(children=(FloatProgress(value=0.0, description='Executing', max=6.0, style=ProgressStyle(description_widt…"
      ]
     },
     "metadata": {},
     "output_type": "display_data"
    },
    {
     "name": "stdout",
     "output_type": "stream",
     "text": [
      "\n",
      "T163_2018_11_28_Notebook_0_a: This session already exists - no need to re-run ;)\n",
      "T163_2018_11_28_Notebook_1_b: This session already exists - no need to re-run ;)\n",
      "T163_2018_11_28_Notebook_2_a: This session already exists - no need to re-run ;)\n",
      "2018_11_28__T163_T163-115220\n",
      "Notebook_3_a.ipynb is being executed\n"
     ]
    },
    {
     "data": {
      "application/vnd.jupyter.widget-view+json": {
       "model_id": "948e38f785534016b08785ec0bfa02f1",
       "version_major": 2,
       "version_minor": 0
      },
      "text/plain": [
       "HBox(children=(FloatProgress(value=0.0, description='Executing', max=27.0, style=ProgressStyle(description_wid…"
      ]
     },
     "metadata": {},
     "output_type": "display_data"
    },
    {
     "name": "stdout",
     "output_type": "stream",
     "text": [
      "\n",
      "T163_2018_11_28_Notebook_4_a: This session already exists - no need to re-run ;)\n",
      "T163_2018_11_28_Notebook_4_b: This session already exists - no need to re-run ;)\n",
      "T163_2018_11_28_Notebook_4_c: This session already exists - no need to re-run ;)\n",
      "T163_2018_11_28_Notebook_4_d: This session already exists - no need to re-run ;)\n",
      "2018_11_28__T163_T163-115220\n",
      "Notebook_5_a.ipynb is being executed\n"
     ]
    },
    {
     "data": {
      "application/vnd.jupyter.widget-view+json": {
       "model_id": "da3767fc194f4cfa99d98e25c2491779",
       "version_major": 2,
       "version_minor": 0
      },
      "text/plain": [
       "HBox(children=(FloatProgress(value=0.0, description='Executing', max=18.0, style=ProgressStyle(description_wid…"
      ]
     },
     "metadata": {},
     "output_type": "display_data"
    },
    {
     "name": "stdout",
     "output_type": "stream",
     "text": [
      "\n",
      "2018_11_28__T163_T163-115220\n",
      "Notebook_6_a.ipynb is being executed\n"
     ]
    },
    {
     "data": {
      "application/vnd.jupyter.widget-view+json": {
       "model_id": "a29a022bdd3b472c8aff0867504423f7",
       "version_major": 2,
       "version_minor": 0
      },
      "text/plain": [
       "HBox(children=(FloatProgress(value=0.0, description='Executing', max=11.0, style=ProgressStyle(description_wid…"
      ]
     },
     "metadata": {},
     "output_type": "display_data"
    },
    {
     "name": "stdout",
     "output_type": "stream",
     "text": [
      "\n",
      "2018_11_28__T163_T163-115220\n",
      "Notebook_7_a.ipynb is being executed\n"
     ]
    },
    {
     "data": {
      "application/vnd.jupyter.widget-view+json": {
       "model_id": "35e2bfb65a7c4566bfe11f16e423555a",
       "version_major": 2,
       "version_minor": 0
      },
      "text/plain": [
       "HBox(children=(FloatProgress(value=0.0, description='Executing', max=6.0, style=ProgressStyle(description_widt…"
      ]
     },
     "metadata": {},
     "output_type": "display_data"
    },
    {
     "name": "stdout",
     "output_type": "stream",
     "text": [
      "\n",
      "T163_2018_12_03_Notebook_0_a: This session already exists - no need to re-run ;)\n",
      "T163_2018_12_03_Notebook_1_b: This session already exists - no need to re-run ;)\n",
      "T163_2018_12_03_Notebook_2_a: This session already exists - no need to re-run ;)\n",
      "2018_12_03__T163_T163-115901\n",
      "Notebook_3_a.ipynb is being executed\n"
     ]
    },
    {
     "data": {
      "application/vnd.jupyter.widget-view+json": {
       "model_id": "c1a10e258a5542b4881f0aa95c5886e3",
       "version_major": 2,
       "version_minor": 0
      },
      "text/plain": [
       "HBox(children=(FloatProgress(value=0.0, description='Executing', max=27.0, style=ProgressStyle(description_wid…"
      ]
     },
     "metadata": {},
     "output_type": "display_data"
    },
    {
     "name": "stdout",
     "output_type": "stream",
     "text": [
      "\n",
      "T163_2018_12_03_Notebook_4_a: This session already exists - no need to re-run ;)\n",
      "T163_2018_12_03_Notebook_4_b: This session already exists - no need to re-run ;)\n",
      "T163_2018_12_03_Notebook_4_c: This session already exists - no need to re-run ;)\n",
      "T163_2018_12_03_Notebook_4_d: This session already exists - no need to re-run ;)\n",
      "2018_12_03__T163_T163-115901\n",
      "Notebook_5_a.ipynb is being executed\n"
     ]
    },
    {
     "data": {
      "application/vnd.jupyter.widget-view+json": {
       "model_id": "d9e3f5c966c74235a62d400b3ea945da",
       "version_major": 2,
       "version_minor": 0
      },
      "text/plain": [
       "HBox(children=(FloatProgress(value=0.0, description='Executing', max=18.0, style=ProgressStyle(description_wid…"
      ]
     },
     "metadata": {},
     "output_type": "display_data"
    },
    {
     "name": "stdout",
     "output_type": "stream",
     "text": [
      "\n",
      "2018_12_03__T163_T163-115901\n",
      "Notebook_6_a.ipynb is being executed\n"
     ]
    },
    {
     "data": {
      "application/vnd.jupyter.widget-view+json": {
       "model_id": "360de1dc619c400092ecb8b12dad45e3",
       "version_major": 2,
       "version_minor": 0
      },
      "text/plain": [
       "HBox(children=(FloatProgress(value=0.0, description='Executing', max=11.0, style=ProgressStyle(description_wid…"
      ]
     },
     "metadata": {},
     "output_type": "display_data"
    },
    {
     "name": "stdout",
     "output_type": "stream",
     "text": [
      "\n",
      "2018_12_03__T163_T163-115901\n",
      "Notebook_7_a.ipynb is being executed\n"
     ]
    },
    {
     "data": {
      "application/vnd.jupyter.widget-view+json": {
       "model_id": "983e0bf7f22f450da56374013f0e18bf",
       "version_major": 2,
       "version_minor": 0
      },
      "text/plain": [
       "HBox(children=(FloatProgress(value=0.0, description='Executing', max=6.0, style=ProgressStyle(description_widt…"
      ]
     },
     "metadata": {},
     "output_type": "display_data"
    },
    {
     "name": "stdout",
     "output_type": "stream",
     "text": [
      "\n",
      "T163_2018_12_04_Notebook_0_a: This session already exists - no need to re-run ;)\n",
      "T163_2018_12_04_Notebook_1_b: This session already exists - no need to re-run ;)\n",
      "T163_2018_12_04_Notebook_2_a: This session already exists - no need to re-run ;)\n",
      "2018_12_04__T163_T163-114628\n",
      "Notebook_3_a.ipynb is being executed\n"
     ]
    },
    {
     "data": {
      "application/vnd.jupyter.widget-view+json": {
       "model_id": "d2409aa449b04e1093f8e85d09b07eef",
       "version_major": 2,
       "version_minor": 0
      },
      "text/plain": [
       "HBox(children=(FloatProgress(value=0.0, description='Executing', max=27.0, style=ProgressStyle(description_wid…"
      ]
     },
     "metadata": {},
     "output_type": "display_data"
    },
    {
     "name": "stdout",
     "output_type": "stream",
     "text": [
      "\n",
      "T163_2018_12_04_Notebook_4_a: This session already exists - no need to re-run ;)\n",
      "T163_2018_12_04_Notebook_4_b: This session already exists - no need to re-run ;)\n",
      "T163_2018_12_04_Notebook_4_c: This session already exists - no need to re-run ;)\n",
      "T163_2018_12_04_Notebook_4_d: This session already exists - no need to re-run ;)\n",
      "2018_12_04__T163_T163-114628\n",
      "Notebook_5_a.ipynb is being executed\n"
     ]
    },
    {
     "data": {
      "application/vnd.jupyter.widget-view+json": {
       "model_id": "f7b90e48d1fd40cb82c2e616512399da",
       "version_major": 2,
       "version_minor": 0
      },
      "text/plain": [
       "HBox(children=(FloatProgress(value=0.0, description='Executing', max=18.0, style=ProgressStyle(description_wid…"
      ]
     },
     "metadata": {},
     "output_type": "display_data"
    },
    {
     "name": "stdout",
     "output_type": "stream",
     "text": [
      "\n",
      "2018_12_04__T163_T163-114628\n",
      "Notebook_6_a.ipynb is being executed\n"
     ]
    },
    {
     "data": {
      "application/vnd.jupyter.widget-view+json": {
       "model_id": "e20c28c07a364f30aca681e974fefda0",
       "version_major": 2,
       "version_minor": 0
      },
      "text/plain": [
       "HBox(children=(FloatProgress(value=0.0, description='Executing', max=11.0, style=ProgressStyle(description_wid…"
      ]
     },
     "metadata": {},
     "output_type": "display_data"
    },
    {
     "name": "stdout",
     "output_type": "stream",
     "text": [
      "\n",
      "2018_12_04__T163_T163-114628\n",
      "Notebook_7_a.ipynb is being executed\n"
     ]
    },
    {
     "data": {
      "application/vnd.jupyter.widget-view+json": {
       "model_id": "01e29cde1f8842428ed46f9ee01ef62e",
       "version_major": 2,
       "version_minor": 0
      },
      "text/plain": [
       "HBox(children=(FloatProgress(value=0.0, description='Executing', max=6.0, style=ProgressStyle(description_widt…"
      ]
     },
     "metadata": {},
     "output_type": "display_data"
    },
    {
     "name": "stdout",
     "output_type": "stream",
     "text": [
      "\n",
      "T163_2018_12_06_Notebook_0_a: This session already exists - no need to re-run ;)\n",
      "T163_2018_12_06_Notebook_1_b: This session already exists - no need to re-run ;)\n",
      "T163_2018_12_06_Notebook_2_a: This session already exists - no need to re-run ;)\n",
      "2018_12_06__T163_T163-112720\n",
      "Notebook_3_a.ipynb is being executed\n"
     ]
    },
    {
     "data": {
      "application/vnd.jupyter.widget-view+json": {
       "model_id": "e208347909fe432b8f3280fa10417003",
       "version_major": 2,
       "version_minor": 0
      },
      "text/plain": [
       "HBox(children=(FloatProgress(value=0.0, description='Executing', max=27.0, style=ProgressStyle(description_wid…"
      ]
     },
     "metadata": {},
     "output_type": "display_data"
    },
    {
     "name": "stdout",
     "output_type": "stream",
     "text": [
      "\n",
      "T163_2018_12_06_Notebook_4_a: This session already exists - no need to re-run ;)\n",
      "T163_2018_12_06_Notebook_4_b: This session already exists - no need to re-run ;)\n",
      "T163_2018_12_06_Notebook_4_c: This session already exists - no need to re-run ;)\n",
      "T163_2018_12_06_Notebook_4_d: This session already exists - no need to re-run ;)\n",
      "2018_12_06__T163_T163-112720\n",
      "Notebook_5_a.ipynb is being executed\n"
     ]
    },
    {
     "data": {
      "application/vnd.jupyter.widget-view+json": {
       "model_id": "f73a4f449d66495bbb148edc4aead736",
       "version_major": 2,
       "version_minor": 0
      },
      "text/plain": [
       "HBox(children=(FloatProgress(value=0.0, description='Executing', max=18.0, style=ProgressStyle(description_wid…"
      ]
     },
     "metadata": {},
     "output_type": "display_data"
    },
    {
     "name": "stdout",
     "output_type": "stream",
     "text": [
      "\n",
      "2018_12_06__T163_T163-112720\n",
      "Notebook_6_a.ipynb is being executed\n"
     ]
    },
    {
     "data": {
      "application/vnd.jupyter.widget-view+json": {
       "model_id": "dad987c3b5d14a0cafe0383cbaced934",
       "version_major": 2,
       "version_minor": 0
      },
      "text/plain": [
       "HBox(children=(FloatProgress(value=0.0, description='Executing', max=11.0, style=ProgressStyle(description_wid…"
      ]
     },
     "metadata": {},
     "output_type": "display_data"
    },
    {
     "name": "stdout",
     "output_type": "stream",
     "text": [
      "\n",
      "2018_12_06__T163_T163-112720\n",
      "Notebook_7_a.ipynb is being executed\n"
     ]
    },
    {
     "data": {
      "application/vnd.jupyter.widget-view+json": {
       "model_id": "2d9443602a3a4781a9929068f919bc3c",
       "version_major": 2,
       "version_minor": 0
      },
      "text/plain": [
       "HBox(children=(FloatProgress(value=0.0, description='Executing', max=6.0, style=ProgressStyle(description_widt…"
      ]
     },
     "metadata": {},
     "output_type": "display_data"
    },
    {
     "name": "stdout",
     "output_type": "stream",
     "text": [
      "\n",
      "T163_2018_12_13_Notebook_0_a: This session already exists - no need to re-run ;)\n",
      "T163_2018_12_13_Notebook_1_b: This session already exists - no need to re-run ;)\n",
      "T163_2018_12_13_Notebook_2_a: This session already exists - no need to re-run ;)\n",
      "2018_12_13__T163_T163-094646\n",
      "Notebook_3_a.ipynb is being executed\n"
     ]
    },
    {
     "data": {
      "application/vnd.jupyter.widget-view+json": {
       "model_id": "668a7acfdfcb4d4189009947ebfdfa20",
       "version_major": 2,
       "version_minor": 0
      },
      "text/plain": [
       "HBox(children=(FloatProgress(value=0.0, description='Executing', max=27.0, style=ProgressStyle(description_wid…"
      ]
     },
     "metadata": {},
     "output_type": "display_data"
    },
    {
     "name": "stdout",
     "output_type": "stream",
     "text": [
      "\n",
      "T163_2018_12_13_Notebook_4_a: This session already exists - no need to re-run ;)\n",
      "T163_2018_12_13_Notebook_4_b: This session already exists - no need to re-run ;)\n",
      "T163_2018_12_13_Notebook_4_c: This session already exists - no need to re-run ;)\n",
      "T163_2018_12_13_Notebook_4_d: This session already exists - no need to re-run ;)\n",
      "2018_12_13__T163_T163-094646\n",
      "Notebook_5_a.ipynb is being executed\n"
     ]
    },
    {
     "data": {
      "application/vnd.jupyter.widget-view+json": {
       "model_id": "a4425b7119b14275802c64da6d21c60c",
       "version_major": 2,
       "version_minor": 0
      },
      "text/plain": [
       "HBox(children=(FloatProgress(value=0.0, description='Executing', max=18.0, style=ProgressStyle(description_wid…"
      ]
     },
     "metadata": {},
     "output_type": "display_data"
    },
    {
     "name": "stdout",
     "output_type": "stream",
     "text": [
      "\n",
      "2018_12_13__T163_T163-094646\n",
      "Notebook_6_a.ipynb is being executed\n"
     ]
    },
    {
     "data": {
      "application/vnd.jupyter.widget-view+json": {
       "model_id": "b5e70e2e90d2441f8e9b5074baad9f1b",
       "version_major": 2,
       "version_minor": 0
      },
      "text/plain": [
       "HBox(children=(FloatProgress(value=0.0, description='Executing', max=11.0, style=ProgressStyle(description_wid…"
      ]
     },
     "metadata": {},
     "output_type": "display_data"
    },
    {
     "name": "stdout",
     "output_type": "stream",
     "text": [
      "\n",
      "2018_12_13__T163_T163-094646\n",
      "Notebook_7_a.ipynb is being executed\n"
     ]
    },
    {
     "data": {
      "application/vnd.jupyter.widget-view+json": {
       "model_id": "a592c6d13f3b474e84dc91be8e5d6e32",
       "version_major": 2,
       "version_minor": 0
      },
      "text/plain": [
       "HBox(children=(FloatProgress(value=0.0, description='Executing', max=6.0, style=ProgressStyle(description_widt…"
      ]
     },
     "metadata": {},
     "output_type": "display_data"
    },
    {
     "name": "stdout",
     "output_type": "stream",
     "text": [
      "\n",
      "T164_2018_11_27_Notebook_0_a: This session already exists - no need to re-run ;)\n",
      "T164_2018_11_27_Notebook_1_b: This session already exists - no need to re-run ;)\n",
      "T164_2018_11_27_Notebook_2_a: This session already exists - no need to re-run ;)\n",
      "2018_11_27__T164_T164-153101\n",
      "Notebook_3_a.ipynb is being executed\n"
     ]
    },
    {
     "data": {
      "application/vnd.jupyter.widget-view+json": {
       "model_id": "98d2c8ebfb3146c88fe2ed47c4138d6b",
       "version_major": 2,
       "version_minor": 0
      },
      "text/plain": [
       "HBox(children=(FloatProgress(value=0.0, description='Executing', max=27.0, style=ProgressStyle(description_wid…"
      ]
     },
     "metadata": {},
     "output_type": "display_data"
    },
    {
     "name": "stdout",
     "output_type": "stream",
     "text": [
      "\n",
      "T164_2018_11_27_Notebook_4_a: This session already exists - no need to re-run ;)\n",
      "T164_2018_11_27_Notebook_4_b: This session already exists - no need to re-run ;)\n",
      "T164_2018_11_27_Notebook_4_c: This session already exists - no need to re-run ;)\n",
      "T164_2018_11_27_Notebook_4_d: This session already exists - no need to re-run ;)\n",
      "2018_11_27__T164_T164-153101\n",
      "Notebook_5_a.ipynb is being executed\n"
     ]
    },
    {
     "data": {
      "application/vnd.jupyter.widget-view+json": {
       "model_id": "6cfe08a1bfa1407bbbc2d433e0cf2956",
       "version_major": 2,
       "version_minor": 0
      },
      "text/plain": [
       "HBox(children=(FloatProgress(value=0.0, description='Executing', max=18.0, style=ProgressStyle(description_wid…"
      ]
     },
     "metadata": {},
     "output_type": "display_data"
    },
    {
     "name": "stdout",
     "output_type": "stream",
     "text": [
      "\n",
      "2018_11_27__T164_T164-153101\n",
      "Notebook_6_a.ipynb is being executed\n"
     ]
    },
    {
     "data": {
      "application/vnd.jupyter.widget-view+json": {
       "model_id": "22bd054e484a4932902ba3c2ddd2e5ff",
       "version_major": 2,
       "version_minor": 0
      },
      "text/plain": [
       "HBox(children=(FloatProgress(value=0.0, description='Executing', max=11.0, style=ProgressStyle(description_wid…"
      ]
     },
     "metadata": {},
     "output_type": "display_data"
    },
    {
     "name": "stdout",
     "output_type": "stream",
     "text": [
      "\n",
      "2018_11_27__T164_T164-153101\n",
      "Notebook_7_a.ipynb is being executed\n"
     ]
    },
    {
     "data": {
      "application/vnd.jupyter.widget-view+json": {
       "model_id": "44dfd533d570461c84e61710636fba9f",
       "version_major": 2,
       "version_minor": 0
      },
      "text/plain": [
       "HBox(children=(FloatProgress(value=0.0, description='Executing', max=6.0, style=ProgressStyle(description_widt…"
      ]
     },
     "metadata": {},
     "output_type": "display_data"
    },
    {
     "name": "stdout",
     "output_type": "stream",
     "text": [
      "\n",
      "T164_2018_12_04_Notebook_0_a: This session already exists - no need to re-run ;)\n",
      "T164_2018_12_04_Notebook_1_b: This session already exists - no need to re-run ;)\n",
      "T164_2018_12_04_Notebook_2_a: This session already exists - no need to re-run ;)\n",
      "2018_12_04__T164_T164-121548\n",
      "Notebook_3_a.ipynb is being executed\n"
     ]
    },
    {
     "data": {
      "application/vnd.jupyter.widget-view+json": {
       "model_id": "fba57672bda84d369d605a0ff49533e5",
       "version_major": 2,
       "version_minor": 0
      },
      "text/plain": [
       "HBox(children=(FloatProgress(value=0.0, description='Executing', max=27.0, style=ProgressStyle(description_wid…"
      ]
     },
     "metadata": {},
     "output_type": "display_data"
    },
    {
     "name": "stdout",
     "output_type": "stream",
     "text": [
      "\n",
      "T164_2018_12_04_Notebook_4_a: This session already exists - no need to re-run ;)\n",
      "T164_2018_12_04_Notebook_4_b: This session already exists - no need to re-run ;)\n",
      "T164_2018_12_04_Notebook_4_c: This session already exists - no need to re-run ;)\n",
      "T164_2018_12_04_Notebook_4_d: This session already exists - no need to re-run ;)\n",
      "2018_12_04__T164_T164-121548\n",
      "Notebook_5_a.ipynb is being executed\n"
     ]
    },
    {
     "data": {
      "application/vnd.jupyter.widget-view+json": {
       "model_id": "c66cd743530846d794d76f27fff553bc",
       "version_major": 2,
       "version_minor": 0
      },
      "text/plain": [
       "HBox(children=(FloatProgress(value=0.0, description='Executing', max=18.0, style=ProgressStyle(description_wid…"
      ]
     },
     "metadata": {},
     "output_type": "display_data"
    },
    {
     "name": "stdout",
     "output_type": "stream",
     "text": [
      "\n",
      "2018_12_04__T164_T164-121548\n",
      "Notebook_6_a.ipynb is being executed\n"
     ]
    },
    {
     "data": {
      "application/vnd.jupyter.widget-view+json": {
       "model_id": "f765ff4750514abfb544ebebdecd63f3",
       "version_major": 2,
       "version_minor": 0
      },
      "text/plain": [
       "HBox(children=(FloatProgress(value=0.0, description='Executing', max=11.0, style=ProgressStyle(description_wid…"
      ]
     },
     "metadata": {},
     "output_type": "display_data"
    },
    {
     "name": "stdout",
     "output_type": "stream",
     "text": [
      "\n",
      "2018_12_04__T164_T164-121548\n",
      "Notebook_7_a.ipynb is being executed\n"
     ]
    },
    {
     "data": {
      "application/vnd.jupyter.widget-view+json": {
       "model_id": "ee9f623bea724f5c89af14d72694d6c7",
       "version_major": 2,
       "version_minor": 0
      },
      "text/plain": [
       "HBox(children=(FloatProgress(value=0.0, description='Executing', max=6.0, style=ProgressStyle(description_widt…"
      ]
     },
     "metadata": {},
     "output_type": "display_data"
    },
    {
     "name": "stdout",
     "output_type": "stream",
     "text": [
      "\n",
      "T164_2018_12_05_Notebook_0_a: This session already exists - no need to re-run ;)\n",
      "T164_2018_12_05_Notebook_1_b: This session already exists - no need to re-run ;)\n",
      "T164_2018_12_05_Notebook_2_a: This session already exists - no need to re-run ;)\n",
      "2018_12_05__T164_T164-123550\n",
      "Notebook_3_a.ipynb is being executed\n"
     ]
    },
    {
     "data": {
      "application/vnd.jupyter.widget-view+json": {
       "model_id": "6401704839284f57a972cf1987cdf693",
       "version_major": 2,
       "version_minor": 0
      },
      "text/plain": [
       "HBox(children=(FloatProgress(value=0.0, description='Executing', max=27.0, style=ProgressStyle(description_wid…"
      ]
     },
     "metadata": {},
     "output_type": "display_data"
    },
    {
     "name": "stdout",
     "output_type": "stream",
     "text": [
      "\n",
      "T164_2018_12_05_Notebook_4_a: This session already exists - no need to re-run ;)\n",
      "T164_2018_12_05_Notebook_4_b: This session already exists - no need to re-run ;)\n",
      "T164_2018_12_05_Notebook_4_c: This session already exists - no need to re-run ;)\n",
      "T164_2018_12_05_Notebook_4_d: This session already exists - no need to re-run ;)\n",
      "2018_12_05__T164_T164-123550\n",
      "Notebook_5_a.ipynb is being executed\n"
     ]
    },
    {
     "data": {
      "application/vnd.jupyter.widget-view+json": {
       "model_id": "9469f6bc520d4adfb405750603a55707",
       "version_major": 2,
       "version_minor": 0
      },
      "text/plain": [
       "HBox(children=(FloatProgress(value=0.0, description='Executing', max=18.0, style=ProgressStyle(description_wid…"
      ]
     },
     "metadata": {},
     "output_type": "display_data"
    },
    {
     "name": "stdout",
     "output_type": "stream",
     "text": [
      "\n",
      "2018_12_05__T164_T164-123550\n",
      "Notebook_6_a.ipynb is being executed\n"
     ]
    },
    {
     "data": {
      "application/vnd.jupyter.widget-view+json": {
       "model_id": "7b9926b338ad48d8ae1d570fd1f7da55",
       "version_major": 2,
       "version_minor": 0
      },
      "text/plain": [
       "HBox(children=(FloatProgress(value=0.0, description='Executing', max=11.0, style=ProgressStyle(description_wid…"
      ]
     },
     "metadata": {},
     "output_type": "display_data"
    },
    {
     "name": "stdout",
     "output_type": "stream",
     "text": [
      "\n",
      "2018_12_05__T164_T164-123550\n",
      "Notebook_7_a.ipynb is being executed\n"
     ]
    },
    {
     "data": {
      "application/vnd.jupyter.widget-view+json": {
       "model_id": "db27b0c505734b9f98c7db1bc6c70328",
       "version_major": 2,
       "version_minor": 0
      },
      "text/plain": [
       "HBox(children=(FloatProgress(value=0.0, description='Executing', max=6.0, style=ProgressStyle(description_widt…"
      ]
     },
     "metadata": {},
     "output_type": "display_data"
    },
    {
     "name": "stdout",
     "output_type": "stream",
     "text": [
      "\n",
      "T164_2018_11_28_Notebook_0_a: This session already exists - no need to re-run ;)\n",
      "T164_2018_11_28_Notebook_1_b: This session already exists - no need to re-run ;)\n",
      "T164_2018_11_28_Notebook_2_a: This session already exists - no need to re-run ;)\n",
      "2018_11_28__T164_T164-122054\n",
      "Notebook_3_a.ipynb is being executed\n"
     ]
    },
    {
     "data": {
      "application/vnd.jupyter.widget-view+json": {
       "model_id": "1ae4644e730948119cc2e70c2ca5d054",
       "version_major": 2,
       "version_minor": 0
      },
      "text/plain": [
       "HBox(children=(FloatProgress(value=0.0, description='Executing', max=27.0, style=ProgressStyle(description_wid…"
      ]
     },
     "metadata": {},
     "output_type": "display_data"
    },
    {
     "name": "stdout",
     "output_type": "stream",
     "text": [
      "\n",
      "T164_2018_11_28_Notebook_4_a: This session already exists - no need to re-run ;)\n",
      "T164_2018_11_28_Notebook_4_b: This session already exists - no need to re-run ;)\n",
      "T164_2018_11_28_Notebook_4_c: This session already exists - no need to re-run ;)\n",
      "T164_2018_11_28_Notebook_4_d: This session already exists - no need to re-run ;)\n",
      "2018_11_28__T164_T164-122054\n",
      "Notebook_5_a.ipynb is being executed\n"
     ]
    },
    {
     "data": {
      "application/vnd.jupyter.widget-view+json": {
       "model_id": "0bce0e43b5d44635a536bdad04b60cb7",
       "version_major": 2,
       "version_minor": 0
      },
      "text/plain": [
       "HBox(children=(FloatProgress(value=0.0, description='Executing', max=18.0, style=ProgressStyle(description_wid…"
      ]
     },
     "metadata": {},
     "output_type": "display_data"
    },
    {
     "name": "stdout",
     "output_type": "stream",
     "text": [
      "\n",
      "2018_11_28__T164_T164-122054\n",
      "Notebook_6_a.ipynb is being executed\n"
     ]
    },
    {
     "data": {
      "application/vnd.jupyter.widget-view+json": {
       "model_id": "113e2112fb1b47a5a78430f47d2fc148",
       "version_major": 2,
       "version_minor": 0
      },
      "text/plain": [
       "HBox(children=(FloatProgress(value=0.0, description='Executing', max=11.0, style=ProgressStyle(description_wid…"
      ]
     },
     "metadata": {},
     "output_type": "display_data"
    },
    {
     "name": "stdout",
     "output_type": "stream",
     "text": [
      "\n",
      "2018_11_28__T164_T164-122054\n",
      "Notebook_7_a.ipynb is being executed\n"
     ]
    },
    {
     "data": {
      "application/vnd.jupyter.widget-view+json": {
       "model_id": "3b92469a1ef04e2b9391152f4aeab064",
       "version_major": 2,
       "version_minor": 0
      },
      "text/plain": [
       "HBox(children=(FloatProgress(value=0.0, description='Executing', max=6.0, style=ProgressStyle(description_widt…"
      ]
     },
     "metadata": {},
     "output_type": "display_data"
    },
    {
     "name": "stdout",
     "output_type": "stream",
     "text": [
      "\n",
      "T164_2018_12_13_Notebook_0_a: This session already exists - no need to re-run ;)\n",
      "T164_2018_12_13_Notebook_1_b: This session already exists - no need to re-run ;)\n",
      "T164_2018_12_13_Notebook_2_a: This session already exists - no need to re-run ;)\n",
      "2018_12_13__T164_T164-101804\n",
      "Notebook_3_a.ipynb is being executed\n"
     ]
    },
    {
     "data": {
      "application/vnd.jupyter.widget-view+json": {
       "model_id": "b5d0043bd7a84207bfb441b3d1fe6890",
       "version_major": 2,
       "version_minor": 0
      },
      "text/plain": [
       "HBox(children=(FloatProgress(value=0.0, description='Executing', max=27.0, style=ProgressStyle(description_wid…"
      ]
     },
     "metadata": {},
     "output_type": "display_data"
    },
    {
     "name": "stdout",
     "output_type": "stream",
     "text": [
      "\n",
      "T164_2018_12_13_Notebook_4_a: This session already exists - no need to re-run ;)\n",
      "T164_2018_12_13_Notebook_4_b: This session already exists - no need to re-run ;)\n",
      "T164_2018_12_13_Notebook_4_c: This session already exists - no need to re-run ;)\n",
      "T164_2018_12_13_Notebook_4_d: This session already exists - no need to re-run ;)\n",
      "2018_12_13__T164_T164-101804\n",
      "Notebook_5_a.ipynb is being executed\n"
     ]
    },
    {
     "data": {
      "application/vnd.jupyter.widget-view+json": {
       "model_id": "ab9ca85f7c514f8dba154e7c3e609717",
       "version_major": 2,
       "version_minor": 0
      },
      "text/plain": [
       "HBox(children=(FloatProgress(value=0.0, description='Executing', max=18.0, style=ProgressStyle(description_wid…"
      ]
     },
     "metadata": {},
     "output_type": "display_data"
    },
    {
     "name": "stdout",
     "output_type": "stream",
     "text": [
      "\n",
      "2018_12_13__T164_T164-101804\n",
      "Notebook_6_a.ipynb is being executed\n"
     ]
    },
    {
     "data": {
      "application/vnd.jupyter.widget-view+json": {
       "model_id": "b0cc8a758e494aeb9b66babac61b85cb",
       "version_major": 2,
       "version_minor": 0
      },
      "text/plain": [
       "HBox(children=(FloatProgress(value=0.0, description='Executing', max=11.0, style=ProgressStyle(description_wid…"
      ]
     },
     "metadata": {},
     "output_type": "display_data"
    },
    {
     "name": "stdout",
     "output_type": "stream",
     "text": [
      "\n",
      "2018_12_13__T164_T164-101804\n",
      "Notebook_7_a.ipynb is being executed\n"
     ]
    },
    {
     "data": {
      "application/vnd.jupyter.widget-view+json": {
       "model_id": "9526fb2008974b0390d60965f85d19a6",
       "version_major": 2,
       "version_minor": 0
      },
      "text/plain": [
       "HBox(children=(FloatProgress(value=0.0, description='Executing', max=6.0, style=ProgressStyle(description_widt…"
      ]
     },
     "metadata": {},
     "output_type": "display_data"
    },
    {
     "name": "stdout",
     "output_type": "stream",
     "text": [
      "\n",
      "T169_2019_02_11_Notebook_0_a: This session already exists - no need to re-run ;)\n",
      "T169_2019_02_11_Notebook_1_b: This session already exists - no need to re-run ;)\n",
      "T169_2019_02_11_Notebook_2_a: This session already exists - no need to re-run ;)\n",
      "2019_02_11__T169_T169-145303\n",
      "Notebook_3_a.ipynb is being executed\n"
     ]
    },
    {
     "data": {
      "application/vnd.jupyter.widget-view+json": {
       "model_id": "40c826e052934396811acd15e1aea728",
       "version_major": 2,
       "version_minor": 0
      },
      "text/plain": [
       "HBox(children=(FloatProgress(value=0.0, description='Executing', max=27.0, style=ProgressStyle(description_wid…"
      ]
     },
     "metadata": {},
     "output_type": "display_data"
    },
    {
     "name": "stdout",
     "output_type": "stream",
     "text": [
      "\n",
      "T169_2019_02_11_Notebook_4_a: This session already exists - no need to re-run ;)\n",
      "T169_2019_02_11_Notebook_4_b: This session already exists - no need to re-run ;)\n",
      "T169_2019_02_11_Notebook_4_c: This session already exists - no need to re-run ;)\n",
      "T169_2019_02_11_Notebook_4_d: This session already exists - no need to re-run ;)\n",
      "2019_02_11__T169_T169-145303\n",
      "Notebook_5_a.ipynb is being executed\n"
     ]
    },
    {
     "data": {
      "application/vnd.jupyter.widget-view+json": {
       "model_id": "7a7e80162e994b81b5c5b6fb01883ed6",
       "version_major": 2,
       "version_minor": 0
      },
      "text/plain": [
       "HBox(children=(FloatProgress(value=0.0, description='Executing', max=18.0, style=ProgressStyle(description_wid…"
      ]
     },
     "metadata": {},
     "output_type": "display_data"
    },
    {
     "name": "stdout",
     "output_type": "stream",
     "text": [
      "\n",
      "2019_02_11__T169_T169-145303\n",
      "Notebook_6_a.ipynb is being executed\n"
     ]
    },
    {
     "data": {
      "application/vnd.jupyter.widget-view+json": {
       "model_id": "2de98b4ea65d4006af776eadc846ebcf",
       "version_major": 2,
       "version_minor": 0
      },
      "text/plain": [
       "HBox(children=(FloatProgress(value=0.0, description='Executing', max=11.0, style=ProgressStyle(description_wid…"
      ]
     },
     "metadata": {},
     "output_type": "display_data"
    },
    {
     "name": "stdout",
     "output_type": "stream",
     "text": [
      "\n",
      "2019_02_11__T169_T169-145303\n",
      "Notebook_7_a.ipynb is being executed\n"
     ]
    },
    {
     "data": {
      "application/vnd.jupyter.widget-view+json": {
       "model_id": "0be5fd74d5ab4570bdbeceee6069add4",
       "version_major": 2,
       "version_minor": 0
      },
      "text/plain": [
       "HBox(children=(FloatProgress(value=0.0, description='Executing', max=6.0, style=ProgressStyle(description_widt…"
      ]
     },
     "metadata": {},
     "output_type": "display_data"
    },
    {
     "name": "stdout",
     "output_type": "stream",
     "text": [
      "\n",
      "T169_2019_03_01_Notebook_0_a: This session already exists - no need to re-run ;)\n",
      "T169_2019_03_01_Notebook_1_b: This session already exists - no need to re-run ;)\n",
      "T169_2019_03_01_Notebook_2_a: This session already exists - no need to re-run ;)\n",
      "2019_03_01__T169_T169-141400\n",
      "Notebook_3_a.ipynb is being executed\n"
     ]
    },
    {
     "data": {
      "application/vnd.jupyter.widget-view+json": {
       "model_id": "06d9d1b87a214f7dbe6d825a1adb51f2",
       "version_major": 2,
       "version_minor": 0
      },
      "text/plain": [
       "HBox(children=(FloatProgress(value=0.0, description='Executing', max=27.0, style=ProgressStyle(description_wid…"
      ]
     },
     "metadata": {},
     "output_type": "display_data"
    },
    {
     "name": "stdout",
     "output_type": "stream",
     "text": [
      "\n",
      "T169_2019_03_01_Notebook_4_a: This session already exists - no need to re-run ;)\n",
      "T169_2019_03_01_Notebook_4_b: This session already exists - no need to re-run ;)\n",
      "T169_2019_03_01_Notebook_4_c: This session already exists - no need to re-run ;)\n",
      "T169_2019_03_01_Notebook_4_d: This session already exists - no need to re-run ;)\n",
      "2019_03_01__T169_T169-141400\n",
      "Notebook_5_a.ipynb is being executed\n"
     ]
    },
    {
     "data": {
      "application/vnd.jupyter.widget-view+json": {
       "model_id": "70ed9a539bc84d87a61c83b18949540c",
       "version_major": 2,
       "version_minor": 0
      },
      "text/plain": [
       "HBox(children=(FloatProgress(value=0.0, description='Executing', max=18.0, style=ProgressStyle(description_wid…"
      ]
     },
     "metadata": {},
     "output_type": "display_data"
    },
    {
     "name": "stdout",
     "output_type": "stream",
     "text": [
      "\n",
      "2019_03_01__T169_T169-141400\n",
      "Notebook_6_a.ipynb is being executed\n"
     ]
    },
    {
     "data": {
      "application/vnd.jupyter.widget-view+json": {
       "model_id": "511187906b2e4180b5f0025779ee269a",
       "version_major": 2,
       "version_minor": 0
      },
      "text/plain": [
       "HBox(children=(FloatProgress(value=0.0, description='Executing', max=11.0, style=ProgressStyle(description_wid…"
      ]
     },
     "metadata": {},
     "output_type": "display_data"
    },
    {
     "name": "stdout",
     "output_type": "stream",
     "text": [
      "\n",
      "2019_03_01__T169_T169-141400\n",
      "Notebook_7_a.ipynb is being executed\n"
     ]
    },
    {
     "data": {
      "application/vnd.jupyter.widget-view+json": {
       "model_id": "0bbdb2c08f774d04af686b162a7413d6",
       "version_major": 2,
       "version_minor": 0
      },
      "text/plain": [
       "HBox(children=(FloatProgress(value=0.0, description='Executing', max=6.0, style=ProgressStyle(description_widt…"
      ]
     },
     "metadata": {},
     "output_type": "display_data"
    },
    {
     "name": "stdout",
     "output_type": "stream",
     "text": [
      "\n",
      "T169_2019_01_25_Notebook_0_a: This session already exists - no need to re-run ;)\n",
      "T169_2019_01_25_Notebook_1_b: This session already exists - no need to re-run ;)\n",
      "T169_2019_01_25_Notebook_2_a: This session already exists - no need to re-run ;)\n",
      "2019_01_25__T169_T169-142626\n",
      "Notebook_3_a.ipynb is being executed\n"
     ]
    },
    {
     "data": {
      "application/vnd.jupyter.widget-view+json": {
       "model_id": "51c7f45e92924a2d9583107092f8da3f",
       "version_major": 2,
       "version_minor": 0
      },
      "text/plain": [
       "HBox(children=(FloatProgress(value=0.0, description='Executing', max=27.0, style=ProgressStyle(description_wid…"
      ]
     },
     "metadata": {},
     "output_type": "display_data"
    },
    {
     "name": "stdout",
     "output_type": "stream",
     "text": [
      "\n",
      "T169_2019_01_25_Notebook_4_a: This session already exists - no need to re-run ;)\n",
      "T169_2019_01_25_Notebook_4_b: This session already exists - no need to re-run ;)\n",
      "T169_2019_01_25_Notebook_4_c: This session already exists - no need to re-run ;)\n",
      "T169_2019_01_25_Notebook_4_d: This session already exists - no need to re-run ;)\n",
      "2019_01_25__T169_T169-142626\n",
      "Notebook_5_a.ipynb is being executed\n"
     ]
    },
    {
     "data": {
      "application/vnd.jupyter.widget-view+json": {
       "model_id": "60b464f5b3594f93982d81798d21b39d",
       "version_major": 2,
       "version_minor": 0
      },
      "text/plain": [
       "HBox(children=(FloatProgress(value=0.0, description='Executing', max=18.0, style=ProgressStyle(description_wid…"
      ]
     },
     "metadata": {},
     "output_type": "display_data"
    },
    {
     "name": "stdout",
     "output_type": "stream",
     "text": [
      "\n",
      "2019_01_25__T169_T169-142626\n",
      "Notebook_6_a.ipynb is being executed\n"
     ]
    },
    {
     "data": {
      "application/vnd.jupyter.widget-view+json": {
       "model_id": "723407b68754457c9a201e9c488a732c",
       "version_major": 2,
       "version_minor": 0
      },
      "text/plain": [
       "HBox(children=(FloatProgress(value=0.0, description='Executing', max=11.0, style=ProgressStyle(description_wid…"
      ]
     },
     "metadata": {},
     "output_type": "display_data"
    },
    {
     "name": "stdout",
     "output_type": "stream",
     "text": [
      "\n",
      "2019_01_25__T169_T169-142626\n",
      "Notebook_7_a.ipynb is being executed\n"
     ]
    },
    {
     "data": {
      "application/vnd.jupyter.widget-view+json": {
       "model_id": "9d492759d0dd4c68b3280704d4c33f62",
       "version_major": 2,
       "version_minor": 0
      },
      "text/plain": [
       "HBox(children=(FloatProgress(value=0.0, description='Executing', max=6.0, style=ProgressStyle(description_widt…"
      ]
     },
     "metadata": {},
     "output_type": "display_data"
    },
    {
     "name": "stdout",
     "output_type": "stream",
     "text": [
      "\n",
      "T169_2019_02_14_Notebook_0_a: This session already exists - no need to re-run ;)\n",
      "T169_2019_02_14_Notebook_1_b: This session already exists - no need to re-run ;)\n",
      "T169_2019_02_14_Notebook_2_a: This session already exists - no need to re-run ;)\n",
      "2019_02_14__T169_T169-143937\n",
      "Notebook_3_a.ipynb is being executed\n"
     ]
    },
    {
     "data": {
      "application/vnd.jupyter.widget-view+json": {
       "model_id": "7b453014141a4cf490907d677817e888",
       "version_major": 2,
       "version_minor": 0
      },
      "text/plain": [
       "HBox(children=(FloatProgress(value=0.0, description='Executing', max=27.0, style=ProgressStyle(description_wid…"
      ]
     },
     "metadata": {},
     "output_type": "display_data"
    },
    {
     "name": "stdout",
     "output_type": "stream",
     "text": [
      "\n",
      "T169_2019_02_14_Notebook_4_a: This session already exists - no need to re-run ;)\n",
      "T169_2019_02_14_Notebook_4_b: This session already exists - no need to re-run ;)\n",
      "T169_2019_02_14_Notebook_4_c: This session already exists - no need to re-run ;)\n",
      "T169_2019_02_14_Notebook_4_d: This session already exists - no need to re-run ;)\n",
      "2019_02_14__T169_T169-143937\n",
      "Notebook_5_a.ipynb is being executed\n"
     ]
    },
    {
     "data": {
      "application/vnd.jupyter.widget-view+json": {
       "model_id": "51a91adafdd6403ba6411f259af9f132",
       "version_major": 2,
       "version_minor": 0
      },
      "text/plain": [
       "HBox(children=(FloatProgress(value=0.0, description='Executing', max=18.0, style=ProgressStyle(description_wid…"
      ]
     },
     "metadata": {},
     "output_type": "display_data"
    },
    {
     "name": "stdout",
     "output_type": "stream",
     "text": [
      "\n",
      "2019_02_14__T169_T169-143937\n",
      "Notebook_6_a.ipynb is being executed\n"
     ]
    },
    {
     "data": {
      "application/vnd.jupyter.widget-view+json": {
       "model_id": "6f83ddecf2b847d6bb55dea2264f8804",
       "version_major": 2,
       "version_minor": 0
      },
      "text/plain": [
       "HBox(children=(FloatProgress(value=0.0, description='Executing', max=11.0, style=ProgressStyle(description_wid…"
      ]
     },
     "metadata": {},
     "output_type": "display_data"
    },
    {
     "name": "stdout",
     "output_type": "stream",
     "text": [
      "\n",
      "2019_02_14__T169_T169-143937\n",
      "Notebook_7_a.ipynb is being executed\n"
     ]
    },
    {
     "data": {
      "application/vnd.jupyter.widget-view+json": {
       "model_id": "edccb0c3b0dd44b2a275fefa90e25192",
       "version_major": 2,
       "version_minor": 0
      },
      "text/plain": [
       "HBox(children=(FloatProgress(value=0.0, description='Executing', max=6.0, style=ProgressStyle(description_widt…"
      ]
     },
     "metadata": {},
     "output_type": "display_data"
    },
    {
     "name": "stdout",
     "output_type": "stream",
     "text": [
      "\n",
      "T169_2019_02_27_Notebook_0_a: This session already exists - no need to re-run ;)\n",
      "T169_2019_02_27_Notebook_1_b: This session already exists - no need to re-run ;)\n",
      "T169_2019_02_27_Notebook_2_a: This session already exists - no need to re-run ;)\n",
      "2019_02_27__T169_T169-155731\n",
      "Notebook_3_a.ipynb is being executed\n"
     ]
    },
    {
     "data": {
      "application/vnd.jupyter.widget-view+json": {
       "model_id": "3668f240772845c9a329ece440134fe1",
       "version_major": 2,
       "version_minor": 0
      },
      "text/plain": [
       "HBox(children=(FloatProgress(value=0.0, description='Executing', max=27.0, style=ProgressStyle(description_wid…"
      ]
     },
     "metadata": {},
     "output_type": "display_data"
    },
    {
     "name": "stdout",
     "output_type": "stream",
     "text": [
      "\n",
      "T169_2019_02_27_Notebook_4_a: This session already exists - no need to re-run ;)\n",
      "T169_2019_02_27_Notebook_4_b: This session already exists - no need to re-run ;)\n",
      "T169_2019_02_27_Notebook_4_c: This session already exists - no need to re-run ;)\n",
      "T169_2019_02_27_Notebook_4_d: This session already exists - no need to re-run ;)\n",
      "2019_02_27__T169_T169-155731\n",
      "Notebook_5_a.ipynb is being executed\n"
     ]
    },
    {
     "data": {
      "application/vnd.jupyter.widget-view+json": {
       "model_id": "8688423e2575491ebddca4d1fda9fc4c",
       "version_major": 2,
       "version_minor": 0
      },
      "text/plain": [
       "HBox(children=(FloatProgress(value=0.0, description='Executing', max=18.0, style=ProgressStyle(description_wid…"
      ]
     },
     "metadata": {},
     "output_type": "display_data"
    },
    {
     "name": "stdout",
     "output_type": "stream",
     "text": [
      "\n",
      "2019_02_27__T169_T169-155731\n",
      "Notebook_6_a.ipynb is being executed\n"
     ]
    },
    {
     "data": {
      "application/vnd.jupyter.widget-view+json": {
       "model_id": "3e33dbd9c3794c45a75da72b44165df3",
       "version_major": 2,
       "version_minor": 0
      },
      "text/plain": [
       "HBox(children=(FloatProgress(value=0.0, description='Executing', max=11.0, style=ProgressStyle(description_wid…"
      ]
     },
     "metadata": {},
     "output_type": "display_data"
    },
    {
     "name": "stdout",
     "output_type": "stream",
     "text": [
      "\n",
      "2019_02_27__T169_T169-155731\n",
      "Notebook_7_a.ipynb is being executed\n"
     ]
    },
    {
     "data": {
      "application/vnd.jupyter.widget-view+json": {
       "model_id": "0d02ab437cfa439799a8e248f1e0f96e",
       "version_major": 2,
       "version_minor": 0
      },
      "text/plain": [
       "HBox(children=(FloatProgress(value=0.0, description='Executing', max=6.0, style=ProgressStyle(description_widt…"
      ]
     },
     "metadata": {},
     "output_type": "display_data"
    },
    {
     "name": "stdout",
     "output_type": "stream",
     "text": [
      "\n",
      "T169_2019_02_28_Notebook_0_a: This session already exists - no need to re-run ;)\n",
      "T169_2019_02_28_Notebook_1_b: This session already exists - no need to re-run ;)\n",
      "T169_2019_02_28_Notebook_2_a: This session already exists - no need to re-run ;)\n",
      "2019_02_28__T169_T169-142051\n",
      "Notebook_3_a.ipynb is being executed\n"
     ]
    },
    {
     "data": {
      "application/vnd.jupyter.widget-view+json": {
       "model_id": "00b7adcc47ec4ce88757780895037f0e",
       "version_major": 2,
       "version_minor": 0
      },
      "text/plain": [
       "HBox(children=(FloatProgress(value=0.0, description='Executing', max=27.0, style=ProgressStyle(description_wid…"
      ]
     },
     "metadata": {},
     "output_type": "display_data"
    },
    {
     "name": "stdout",
     "output_type": "stream",
     "text": [
      "\n",
      "T169_2019_02_28_Notebook_4_a: This session already exists - no need to re-run ;)\n",
      "T169_2019_02_28_Notebook_4_b: This session already exists - no need to re-run ;)\n",
      "T169_2019_02_28_Notebook_4_c: This session already exists - no need to re-run ;)\n",
      "T169_2019_02_28_Notebook_4_d: This session already exists - no need to re-run ;)\n",
      "2019_02_28__T169_T169-142051\n",
      "Notebook_5_a.ipynb is being executed\n"
     ]
    },
    {
     "data": {
      "application/vnd.jupyter.widget-view+json": {
       "model_id": "ea217f679338418a9344e7ea0a783dd3",
       "version_major": 2,
       "version_minor": 0
      },
      "text/plain": [
       "HBox(children=(FloatProgress(value=0.0, description='Executing', max=18.0, style=ProgressStyle(description_wid…"
      ]
     },
     "metadata": {},
     "output_type": "display_data"
    },
    {
     "name": "stdout",
     "output_type": "stream",
     "text": [
      "\n",
      "2019_02_28__T169_T169-142051\n",
      "Notebook_6_a.ipynb is being executed\n"
     ]
    },
    {
     "data": {
      "application/vnd.jupyter.widget-view+json": {
       "model_id": "6a8e8f85066d4ba18659e50c932bcdca",
       "version_major": 2,
       "version_minor": 0
      },
      "text/plain": [
       "HBox(children=(FloatProgress(value=0.0, description='Executing', max=11.0, style=ProgressStyle(description_wid…"
      ]
     },
     "metadata": {},
     "output_type": "display_data"
    },
    {
     "name": "stdout",
     "output_type": "stream",
     "text": [
      "\n",
      "2019_02_28__T169_T169-142051\n",
      "Notebook_7_a.ipynb is being executed\n"
     ]
    },
    {
     "data": {
      "application/vnd.jupyter.widget-view+json": {
       "model_id": "8e5a09f307c5482ba27628fe8005aa9f",
       "version_major": 2,
       "version_minor": 0
      },
      "text/plain": [
       "HBox(children=(FloatProgress(value=0.0, description='Executing', max=6.0, style=ProgressStyle(description_widt…"
      ]
     },
     "metadata": {},
     "output_type": "display_data"
    },
    {
     "name": "stdout",
     "output_type": "stream",
     "text": [
      "\n",
      "T169_2019_02_21_Notebook_0_a: This session already exists - no need to re-run ;)\n",
      "T169_2019_02_21_Notebook_1_b: This session already exists - no need to re-run ;)\n",
      "T169_2019_02_21_Notebook_2_a: This session already exists - no need to re-run ;)\n",
      "2019_02_21__T169_T169-141159\n",
      "Notebook_3_a.ipynb is being executed\n"
     ]
    },
    {
     "data": {
      "application/vnd.jupyter.widget-view+json": {
       "model_id": "b1fdd3f4e8564995b5adecd2567aa3ac",
       "version_major": 2,
       "version_minor": 0
      },
      "text/plain": [
       "HBox(children=(FloatProgress(value=0.0, description='Executing', max=27.0, style=ProgressStyle(description_wid…"
      ]
     },
     "metadata": {},
     "output_type": "display_data"
    },
    {
     "name": "stdout",
     "output_type": "stream",
     "text": [
      "\n",
      "T169_2019_02_21_Notebook_4_a: This session already exists - no need to re-run ;)\n",
      "T169_2019_02_21_Notebook_4_b: This session already exists - no need to re-run ;)\n",
      "T169_2019_02_21_Notebook_4_c: This session already exists - no need to re-run ;)\n",
      "T169_2019_02_21_Notebook_4_d: This session already exists - no need to re-run ;)\n",
      "2019_02_21__T169_T169-141159\n",
      "Notebook_5_a.ipynb is being executed\n"
     ]
    },
    {
     "data": {
      "application/vnd.jupyter.widget-view+json": {
       "model_id": "a2ac15166fef48cca746ee02f6edd393",
       "version_major": 2,
       "version_minor": 0
      },
      "text/plain": [
       "HBox(children=(FloatProgress(value=0.0, description='Executing', max=18.0, style=ProgressStyle(description_wid…"
      ]
     },
     "metadata": {},
     "output_type": "display_data"
    },
    {
     "name": "stdout",
     "output_type": "stream",
     "text": [
      "\n",
      "2019_02_21__T169_T169-141159\n",
      "Notebook_6_a.ipynb is being executed\n"
     ]
    },
    {
     "data": {
      "application/vnd.jupyter.widget-view+json": {
       "model_id": "a03a1d354c6846e6ab8709ec74ea2b3c",
       "version_major": 2,
       "version_minor": 0
      },
      "text/plain": [
       "HBox(children=(FloatProgress(value=0.0, description='Executing', max=11.0, style=ProgressStyle(description_wid…"
      ]
     },
     "metadata": {},
     "output_type": "display_data"
    },
    {
     "name": "stdout",
     "output_type": "stream",
     "text": [
      "\n",
      "2019_02_21__T169_T169-141159\n",
      "Notebook_7_a.ipynb is being executed\n"
     ]
    },
    {
     "data": {
      "application/vnd.jupyter.widget-view+json": {
       "model_id": "03a9d77d3213448c909d3091e589098a",
       "version_major": 2,
       "version_minor": 0
      },
      "text/plain": [
       "HBox(children=(FloatProgress(value=0.0, description='Executing', max=6.0, style=ProgressStyle(description_widt…"
      ]
     },
     "metadata": {},
     "output_type": "display_data"
    },
    {
     "name": "stdout",
     "output_type": "stream",
     "text": [
      "\n",
      "T171_2019_02_21_Notebook_0_a: This session already exists - no need to re-run ;)\n",
      "T171_2019_02_21_Notebook_1_b: This session already exists - no need to re-run ;)\n",
      "T171_2019_02_21_Notebook_2_a: This session already exists - no need to re-run ;)\n",
      "2019_02_21__T171_T171-152107\n",
      "Notebook_3_a.ipynb is being executed\n"
     ]
    },
    {
     "data": {
      "application/vnd.jupyter.widget-view+json": {
       "model_id": "1655143ab6af4fb38faba9866ae736f1",
       "version_major": 2,
       "version_minor": 0
      },
      "text/plain": [
       "HBox(children=(FloatProgress(value=0.0, description='Executing', max=27.0, style=ProgressStyle(description_wid…"
      ]
     },
     "metadata": {},
     "output_type": "display_data"
    },
    {
     "name": "stdout",
     "output_type": "stream",
     "text": [
      "\n",
      "T171_2019_02_21_Notebook_4_a: This session already exists - no need to re-run ;)\n",
      "T171_2019_02_21_Notebook_4_b: This session already exists - no need to re-run ;)\n",
      "T171_2019_02_21_Notebook_4_c: This session already exists - no need to re-run ;)\n",
      "T171_2019_02_21_Notebook_4_d: This session already exists - no need to re-run ;)\n",
      "2019_02_21__T171_T171-152107\n",
      "Notebook_5_a.ipynb is being executed\n"
     ]
    },
    {
     "data": {
      "application/vnd.jupyter.widget-view+json": {
       "model_id": "7bd08d582abc45f8848cfe0ea077f06f",
       "version_major": 2,
       "version_minor": 0
      },
      "text/plain": [
       "HBox(children=(FloatProgress(value=0.0, description='Executing', max=18.0, style=ProgressStyle(description_wid…"
      ]
     },
     "metadata": {},
     "output_type": "display_data"
    },
    {
     "name": "stdout",
     "output_type": "stream",
     "text": [
      "\n",
      "2019_02_21__T171_T171-152107\n",
      "Notebook_6_a.ipynb is being executed\n"
     ]
    },
    {
     "data": {
      "application/vnd.jupyter.widget-view+json": {
       "model_id": "a057cef4b7ec4bb8b16c96187873d5d0",
       "version_major": 2,
       "version_minor": 0
      },
      "text/plain": [
       "HBox(children=(FloatProgress(value=0.0, description='Executing', max=11.0, style=ProgressStyle(description_wid…"
      ]
     },
     "metadata": {},
     "output_type": "display_data"
    },
    {
     "name": "stdout",
     "output_type": "stream",
     "text": [
      "\n",
      "2019_02_21__T171_T171-152107\n",
      "Notebook_7_a.ipynb is being executed\n"
     ]
    },
    {
     "data": {
      "application/vnd.jupyter.widget-view+json": {
       "model_id": "94dd49556a8748d68f7c1b74c6d4fff3",
       "version_major": 2,
       "version_minor": 0
      },
      "text/plain": [
       "HBox(children=(FloatProgress(value=0.0, description='Executing', max=6.0, style=ProgressStyle(description_widt…"
      ]
     },
     "metadata": {},
     "output_type": "display_data"
    },
    {
     "name": "stdout",
     "output_type": "stream",
     "text": [
      "\n",
      "T171_2019_02_26_Notebook_0_a: This session already exists - no need to re-run ;)\n",
      "T171_2019_02_26_Notebook_1_b: This session already exists - no need to re-run ;)\n",
      "T171_2019_02_26_Notebook_2_a: This session already exists - no need to re-run ;)\n",
      "2019_02_26__T171_T171-145215\n",
      "Notebook_3_a.ipynb is being executed\n"
     ]
    },
    {
     "data": {
      "application/vnd.jupyter.widget-view+json": {
       "model_id": "470fce7ddbf4425184fb4bfc4b141ec4",
       "version_major": 2,
       "version_minor": 0
      },
      "text/plain": [
       "HBox(children=(FloatProgress(value=0.0, description='Executing', max=27.0, style=ProgressStyle(description_wid…"
      ]
     },
     "metadata": {},
     "output_type": "display_data"
    },
    {
     "name": "stdout",
     "output_type": "stream",
     "text": [
      "\n",
      "T171_2019_02_26_Notebook_4_a: This session already exists - no need to re-run ;)\n",
      "T171_2019_02_26_Notebook_4_b: This session already exists - no need to re-run ;)\n",
      "T171_2019_02_26_Notebook_4_c: This session already exists - no need to re-run ;)\n",
      "T171_2019_02_26_Notebook_4_d: This session already exists - no need to re-run ;)\n",
      "2019_02_26__T171_T171-145215\n",
      "Notebook_5_a.ipynb is being executed\n"
     ]
    },
    {
     "data": {
      "application/vnd.jupyter.widget-view+json": {
       "model_id": "021a53e432b0420a9fdf7849827699dd",
       "version_major": 2,
       "version_minor": 0
      },
      "text/plain": [
       "HBox(children=(FloatProgress(value=0.0, description='Executing', max=18.0, style=ProgressStyle(description_wid…"
      ]
     },
     "metadata": {},
     "output_type": "display_data"
    },
    {
     "name": "stdout",
     "output_type": "stream",
     "text": [
      "\n",
      "2019_02_26__T171_T171-145215\n",
      "Notebook_6_a.ipynb is being executed\n"
     ]
    },
    {
     "data": {
      "application/vnd.jupyter.widget-view+json": {
       "model_id": "8cf24f2a959b411abe0e2f61693ad546",
       "version_major": 2,
       "version_minor": 0
      },
      "text/plain": [
       "HBox(children=(FloatProgress(value=0.0, description='Executing', max=11.0, style=ProgressStyle(description_wid…"
      ]
     },
     "metadata": {},
     "output_type": "display_data"
    },
    {
     "name": "stdout",
     "output_type": "stream",
     "text": [
      "\n",
      "2019_02_26__T171_T171-145215\n",
      "Notebook_7_a.ipynb is being executed\n"
     ]
    },
    {
     "data": {
      "application/vnd.jupyter.widget-view+json": {
       "model_id": "385dd27fa6724d82993534b6b44b5a65",
       "version_major": 2,
       "version_minor": 0
      },
      "text/plain": [
       "HBox(children=(FloatProgress(value=0.0, description='Executing', max=6.0, style=ProgressStyle(description_widt…"
      ]
     },
     "metadata": {},
     "output_type": "display_data"
    },
    {
     "name": "stdout",
     "output_type": "stream",
     "text": [
      "\n",
      "T171_2019_01_22_Notebook_0_a: This session already exists - no need to re-run ;)\n",
      "T171_2019_01_22_Notebook_1_b: This session already exists - no need to re-run ;)\n",
      "T171_2019_01_22_Notebook_2_a: This session already exists - no need to re-run ;)\n",
      "2019_01_22__T171_T171-165215\n",
      "Notebook_3_a.ipynb is being executed\n"
     ]
    },
    {
     "data": {
      "application/vnd.jupyter.widget-view+json": {
       "model_id": "5ad61744033241888d1ad5ad317f8628",
       "version_major": 2,
       "version_minor": 0
      },
      "text/plain": [
       "HBox(children=(FloatProgress(value=0.0, description='Executing', max=27.0, style=ProgressStyle(description_wid…"
      ]
     },
     "metadata": {},
     "output_type": "display_data"
    },
    {
     "name": "stdout",
     "output_type": "stream",
     "text": [
      "\n",
      "T171_2019_01_22_Notebook_4_a: This session already exists - no need to re-run ;)\n",
      "T171_2019_01_22_Notebook_4_b: This session already exists - no need to re-run ;)\n",
      "T171_2019_01_22_Notebook_4_c: This session already exists - no need to re-run ;)\n",
      "T171_2019_01_22_Notebook_4_d: This session already exists - no need to re-run ;)\n",
      "2019_01_22__T171_T171-165215\n",
      "Notebook_5_a.ipynb is being executed\n"
     ]
    },
    {
     "data": {
      "application/vnd.jupyter.widget-view+json": {
       "model_id": "d68a479d06bb4265a92911ae7d8e8b35",
       "version_major": 2,
       "version_minor": 0
      },
      "text/plain": [
       "HBox(children=(FloatProgress(value=0.0, description='Executing', max=18.0, style=ProgressStyle(description_wid…"
      ]
     },
     "metadata": {},
     "output_type": "display_data"
    },
    {
     "name": "stdout",
     "output_type": "stream",
     "text": [
      "\n",
      "2019_01_22__T171_T171-165215\n",
      "Notebook_6_a.ipynb is being executed\n"
     ]
    },
    {
     "data": {
      "application/vnd.jupyter.widget-view+json": {
       "model_id": "fdf7eb147e044344b27a46c4ba1f41f8",
       "version_major": 2,
       "version_minor": 0
      },
      "text/plain": [
       "HBox(children=(FloatProgress(value=0.0, description='Executing', max=11.0, style=ProgressStyle(description_wid…"
      ]
     },
     "metadata": {},
     "output_type": "display_data"
    },
    {
     "name": "stdout",
     "output_type": "stream",
     "text": [
      "\n",
      "2019_01_22__T171_T171-165215\n",
      "Notebook_7_a.ipynb is being executed\n"
     ]
    },
    {
     "data": {
      "application/vnd.jupyter.widget-view+json": {
       "model_id": "48613af8c5254f10aa98784f0f152250",
       "version_major": 2,
       "version_minor": 0
      },
      "text/plain": [
       "HBox(children=(FloatProgress(value=0.0, description='Executing', max=6.0, style=ProgressStyle(description_widt…"
      ]
     },
     "metadata": {},
     "output_type": "display_data"
    },
    {
     "name": "stdout",
     "output_type": "stream",
     "text": [
      "\n",
      "T171_2019_02_25_Notebook_0_a: This session already exists - no need to re-run ;)\n",
      "T171_2019_02_25_Notebook_1_b: This session already exists - no need to re-run ;)\n",
      "T171_2019_02_25_Notebook_2_a: This session already exists - no need to re-run ;)\n",
      "2019_02_25__T171_T171-152054\n",
      "Notebook_3_a.ipynb is being executed\n"
     ]
    },
    {
     "data": {
      "application/vnd.jupyter.widget-view+json": {
       "model_id": "7db96b25fe8341788664b4c4d0ec02d7",
       "version_major": 2,
       "version_minor": 0
      },
      "text/plain": [
       "HBox(children=(FloatProgress(value=0.0, description='Executing', max=27.0, style=ProgressStyle(description_wid…"
      ]
     },
     "metadata": {},
     "output_type": "display_data"
    },
    {
     "name": "stdout",
     "output_type": "stream",
     "text": [
      "\n",
      "T171_2019_02_25_Notebook_4_a: This session already exists - no need to re-run ;)\n",
      "T171_2019_02_25_Notebook_4_b: This session already exists - no need to re-run ;)\n",
      "T171_2019_02_25_Notebook_4_c: This session already exists - no need to re-run ;)\n",
      "T171_2019_02_25_Notebook_4_d: This session already exists - no need to re-run ;)\n",
      "2019_02_25__T171_T171-152054\n",
      "Notebook_5_a.ipynb is being executed\n"
     ]
    },
    {
     "data": {
      "application/vnd.jupyter.widget-view+json": {
       "model_id": "73006248d9b64b8d851acbf92bab5876",
       "version_major": 2,
       "version_minor": 0
      },
      "text/plain": [
       "HBox(children=(FloatProgress(value=0.0, description='Executing', max=18.0, style=ProgressStyle(description_wid…"
      ]
     },
     "metadata": {},
     "output_type": "display_data"
    },
    {
     "name": "stdout",
     "output_type": "stream",
     "text": [
      "\n",
      "2019_02_25__T171_T171-152054\n",
      "Notebook_6_a.ipynb is being executed\n"
     ]
    },
    {
     "data": {
      "application/vnd.jupyter.widget-view+json": {
       "model_id": "e59d9e057af64a06b487f15c9c806aa0",
       "version_major": 2,
       "version_minor": 0
      },
      "text/plain": [
       "HBox(children=(FloatProgress(value=0.0, description='Executing', max=11.0, style=ProgressStyle(description_wid…"
      ]
     },
     "metadata": {},
     "output_type": "display_data"
    },
    {
     "name": "stdout",
     "output_type": "stream",
     "text": [
      "\n",
      "2019_02_25__T171_T171-152054\n",
      "Notebook_7_a.ipynb is being executed\n"
     ]
    },
    {
     "data": {
      "application/vnd.jupyter.widget-view+json": {
       "model_id": "a6b1b3f67ccd421995fac446781fb449",
       "version_major": 2,
       "version_minor": 0
      },
      "text/plain": [
       "HBox(children=(FloatProgress(value=0.0, description='Executing', max=6.0, style=ProgressStyle(description_widt…"
      ]
     },
     "metadata": {},
     "output_type": "display_data"
    },
    {
     "name": "stdout",
     "output_type": "stream",
     "text": [
      "\n",
      "T171_2019_02_27_Notebook_0_a: This session already exists - no need to re-run ;)\n",
      "T171_2019_02_27_Notebook_1_b: This session already exists - no need to re-run ;)\n",
      "T171_2019_02_27_Notebook_2_a: This session already exists - no need to re-run ;)\n",
      "2019_02_27__T171_T171-162455\n",
      "Notebook_3_a.ipynb is being executed\n"
     ]
    },
    {
     "data": {
      "application/vnd.jupyter.widget-view+json": {
       "model_id": "917675c6e7214677b9e7edfe060050a7",
       "version_major": 2,
       "version_minor": 0
      },
      "text/plain": [
       "HBox(children=(FloatProgress(value=0.0, description='Executing', max=27.0, style=ProgressStyle(description_wid…"
      ]
     },
     "metadata": {},
     "output_type": "display_data"
    },
    {
     "name": "stdout",
     "output_type": "stream",
     "text": [
      "\n",
      "T171_2019_02_27_Notebook_4_a: This session already exists - no need to re-run ;)\n",
      "T171_2019_02_27_Notebook_4_b: This session already exists - no need to re-run ;)\n",
      "T171_2019_02_27_Notebook_4_c: This session already exists - no need to re-run ;)\n",
      "T171_2019_02_27_Notebook_4_d: This session already exists - no need to re-run ;)\n",
      "2019_02_27__T171_T171-162455\n",
      "Notebook_5_a.ipynb is being executed\n"
     ]
    },
    {
     "data": {
      "application/vnd.jupyter.widget-view+json": {
       "model_id": "5c6f98d8e05048f8a8fab842be5f665c",
       "version_major": 2,
       "version_minor": 0
      },
      "text/plain": [
       "HBox(children=(FloatProgress(value=0.0, description='Executing', max=18.0, style=ProgressStyle(description_wid…"
      ]
     },
     "metadata": {},
     "output_type": "display_data"
    },
    {
     "name": "stdout",
     "output_type": "stream",
     "text": [
      "\n",
      "2019_02_27__T171_T171-162455\n",
      "Notebook_6_a.ipynb is being executed\n"
     ]
    },
    {
     "data": {
      "application/vnd.jupyter.widget-view+json": {
       "model_id": "741f96db5d004e3ca7bfb0225f68f02e",
       "version_major": 2,
       "version_minor": 0
      },
      "text/plain": [
       "HBox(children=(FloatProgress(value=0.0, description='Executing', max=11.0, style=ProgressStyle(description_wid…"
      ]
     },
     "metadata": {},
     "output_type": "display_data"
    },
    {
     "name": "stdout",
     "output_type": "stream",
     "text": [
      "\n",
      "2019_02_27__T171_T171-162455\n",
      "Notebook_7_a.ipynb is being executed\n"
     ]
    },
    {
     "data": {
      "application/vnd.jupyter.widget-view+json": {
       "model_id": "e7720881588c44fc92436782ded293c3",
       "version_major": 2,
       "version_minor": 0
      },
      "text/plain": [
       "HBox(children=(FloatProgress(value=0.0, description='Executing', max=6.0, style=ProgressStyle(description_widt…"
      ]
     },
     "metadata": {},
     "output_type": "display_data"
    },
    {
     "name": "stdout",
     "output_type": "stream",
     "text": [
      "\n",
      "T171_2019_02_14_Notebook_0_a: This session already exists - no need to re-run ;)\n",
      "T171_2019_02_14_Notebook_1_b: This session already exists - no need to re-run ;)\n",
      "T171_2019_02_14_Notebook_2_a: This session already exists - no need to re-run ;)\n",
      "2019_02_14__T171_T171-155052\n",
      "Notebook_3_a.ipynb is being executed\n"
     ]
    },
    {
     "data": {
      "application/vnd.jupyter.widget-view+json": {
       "model_id": "85dc73cc65174e1a9f45056eb5879a11",
       "version_major": 2,
       "version_minor": 0
      },
      "text/plain": [
       "HBox(children=(FloatProgress(value=0.0, description='Executing', max=27.0, style=ProgressStyle(description_wid…"
      ]
     },
     "metadata": {},
     "output_type": "display_data"
    },
    {
     "name": "stdout",
     "output_type": "stream",
     "text": [
      "\n",
      "T171_2019_02_14_Notebook_4_a: This session already exists - no need to re-run ;)\n",
      "T171_2019_02_14_Notebook_4_b: This session already exists - no need to re-run ;)\n",
      "T171_2019_02_14_Notebook_4_c: This session already exists - no need to re-run ;)\n",
      "T171_2019_02_14_Notebook_4_d: This session already exists - no need to re-run ;)\n",
      "2019_02_14__T171_T171-155052\n",
      "Notebook_5_a.ipynb is being executed\n"
     ]
    },
    {
     "data": {
      "application/vnd.jupyter.widget-view+json": {
       "model_id": "c02be9de03764d9ca1e68fd76717b179",
       "version_major": 2,
       "version_minor": 0
      },
      "text/plain": [
       "HBox(children=(FloatProgress(value=0.0, description='Executing', max=18.0, style=ProgressStyle(description_wid…"
      ]
     },
     "metadata": {},
     "output_type": "display_data"
    },
    {
     "name": "stdout",
     "output_type": "stream",
     "text": [
      "\n",
      "2019_02_14__T171_T171-155052\n",
      "Notebook_6_a.ipynb is being executed\n"
     ]
    },
    {
     "data": {
      "application/vnd.jupyter.widget-view+json": {
       "model_id": "69c38d53df034dbc95479054d10df9e4",
       "version_major": 2,
       "version_minor": 0
      },
      "text/plain": [
       "HBox(children=(FloatProgress(value=0.0, description='Executing', max=11.0, style=ProgressStyle(description_wid…"
      ]
     },
     "metadata": {},
     "output_type": "display_data"
    },
    {
     "name": "stdout",
     "output_type": "stream",
     "text": [
      "\n",
      "2019_02_14__T171_T171-155052\n",
      "Notebook_7_a.ipynb is being executed\n"
     ]
    },
    {
     "data": {
      "application/vnd.jupyter.widget-view+json": {
       "model_id": "eea78576783f48c1a5648715c1a4adfc",
       "version_major": 2,
       "version_minor": 0
      },
      "text/plain": [
       "HBox(children=(FloatProgress(value=0.0, description='Executing', max=6.0, style=ProgressStyle(description_widt…"
      ]
     },
     "metadata": {},
     "output_type": "display_data"
    },
    {
     "name": "stdout",
     "output_type": "stream",
     "text": [
      "\n",
      "T171_2019_02_22_Notebook_0_a: This session already exists - no need to re-run ;)\n",
      "T171_2019_02_22_Notebook_1_b: This session already exists - no need to re-run ;)\n",
      "T171_2019_02_22_Notebook_2_a: This session already exists - no need to re-run ;)\n",
      "2019_02_22__T171_T171-145829\n",
      "Notebook_3_a.ipynb is being executed\n"
     ]
    },
    {
     "data": {
      "application/vnd.jupyter.widget-view+json": {
       "model_id": "7198c743ea654a48a1d0d2f6ac46359d",
       "version_major": 2,
       "version_minor": 0
      },
      "text/plain": [
       "HBox(children=(FloatProgress(value=0.0, description='Executing', max=27.0, style=ProgressStyle(description_wid…"
      ]
     },
     "metadata": {},
     "output_type": "display_data"
    },
    {
     "name": "stdout",
     "output_type": "stream",
     "text": [
      "\n",
      "T171_2019_02_22_Notebook_4_a: This session already exists - no need to re-run ;)\n",
      "T171_2019_02_22_Notebook_4_b: This session already exists - no need to re-run ;)\n",
      "T171_2019_02_22_Notebook_4_c: This session already exists - no need to re-run ;)\n",
      "T171_2019_02_22_Notebook_4_d: This session already exists - no need to re-run ;)\n",
      "2019_02_22__T171_T171-145829\n",
      "Notebook_5_a.ipynb is being executed\n"
     ]
    },
    {
     "data": {
      "application/vnd.jupyter.widget-view+json": {
       "model_id": "a4b55534eaa242dab9d44e315a3ab673",
       "version_major": 2,
       "version_minor": 0
      },
      "text/plain": [
       "HBox(children=(FloatProgress(value=0.0, description='Executing', max=18.0, style=ProgressStyle(description_wid…"
      ]
     },
     "metadata": {},
     "output_type": "display_data"
    },
    {
     "name": "stdout",
     "output_type": "stream",
     "text": [
      "\n",
      "2019_02_22__T171_T171-145829\n",
      "Notebook_6_a.ipynb is being executed\n"
     ]
    },
    {
     "data": {
      "application/vnd.jupyter.widget-view+json": {
       "model_id": "67d4749231ca458b99b28c4fe0451f70",
       "version_major": 2,
       "version_minor": 0
      },
      "text/plain": [
       "HBox(children=(FloatProgress(value=0.0, description='Executing', max=11.0, style=ProgressStyle(description_wid…"
      ]
     },
     "metadata": {},
     "output_type": "display_data"
    },
    {
     "name": "stdout",
     "output_type": "stream",
     "text": [
      "\n",
      "2019_02_22__T171_T171-145829\n",
      "Notebook_7_a.ipynb is being executed\n"
     ]
    },
    {
     "data": {
      "application/vnd.jupyter.widget-view+json": {
       "model_id": "5e4a911f00244992bad2a498f9d46746",
       "version_major": 2,
       "version_minor": 0
      },
      "text/plain": [
       "HBox(children=(FloatProgress(value=0.0, description='Executing', max=6.0, style=ProgressStyle(description_widt…"
      ]
     },
     "metadata": {},
     "output_type": "display_data"
    },
    {
     "name": "stdout",
     "output_type": "stream",
     "text": [
      "\n",
      "T171_2019_02_15_Notebook_0_a: This session already exists - no need to re-run ;)\n",
      "T171_2019_02_15_Notebook_1_b: This session already exists - no need to re-run ;)\n",
      "T171_2019_02_15_Notebook_2_a: This session already exists - no need to re-run ;)\n",
      "2019_02_15__T171_T171-152142\n",
      "Notebook_3_a.ipynb is being executed\n"
     ]
    },
    {
     "data": {
      "application/vnd.jupyter.widget-view+json": {
       "model_id": "0ee98c814fc646b5a5939940dfefa12a",
       "version_major": 2,
       "version_minor": 0
      },
      "text/plain": [
       "HBox(children=(FloatProgress(value=0.0, description='Executing', max=27.0, style=ProgressStyle(description_wid…"
      ]
     },
     "metadata": {},
     "output_type": "display_data"
    },
    {
     "name": "stdout",
     "output_type": "stream",
     "text": [
      "\n",
      "T171_2019_02_15_Notebook_4_a: This session already exists - no need to re-run ;)\n",
      "T171_2019_02_15_Notebook_4_b: This session already exists - no need to re-run ;)\n",
      "T171_2019_02_15_Notebook_4_c: This session already exists - no need to re-run ;)\n",
      "T171_2019_02_15_Notebook_4_d: This session already exists - no need to re-run ;)\n",
      "2019_02_15__T171_T171-152142\n",
      "Notebook_5_a.ipynb is being executed\n"
     ]
    },
    {
     "data": {
      "application/vnd.jupyter.widget-view+json": {
       "model_id": "eca3b4c4963c4f90b4db085c79ccc145",
       "version_major": 2,
       "version_minor": 0
      },
      "text/plain": [
       "HBox(children=(FloatProgress(value=0.0, description='Executing', max=18.0, style=ProgressStyle(description_wid…"
      ]
     },
     "metadata": {},
     "output_type": "display_data"
    },
    {
     "name": "stdout",
     "output_type": "stream",
     "text": [
      "\n",
      "2019_02_15__T171_T171-152142\n",
      "Notebook_6_a.ipynb is being executed\n"
     ]
    },
    {
     "data": {
      "application/vnd.jupyter.widget-view+json": {
       "model_id": "bd34c3e78afc4075853f9382fbf511b3",
       "version_major": 2,
       "version_minor": 0
      },
      "text/plain": [
       "HBox(children=(FloatProgress(value=0.0, description='Executing', max=11.0, style=ProgressStyle(description_wid…"
      ]
     },
     "metadata": {},
     "output_type": "display_data"
    },
    {
     "name": "stdout",
     "output_type": "stream",
     "text": [
      "\n",
      "2019_02_15__T171_T171-152142\n",
      "Notebook_7_a.ipynb is being executed\n"
     ]
    },
    {
     "data": {
      "application/vnd.jupyter.widget-view+json": {
       "model_id": "a9dcd17dc53749d8b1caa779414f4c9e",
       "version_major": 2,
       "version_minor": 0
      },
      "text/plain": [
       "HBox(children=(FloatProgress(value=0.0, description='Executing', max=6.0, style=ProgressStyle(description_widt…"
      ]
     },
     "metadata": {},
     "output_type": "display_data"
    },
    {
     "name": "stdout",
     "output_type": "stream",
     "text": [
      "\n",
      "T171_2019_01_31_Notebook_0_a: This session already exists - no need to re-run ;)\n",
      "T171_2019_01_31_Notebook_1_b: This session already exists - no need to re-run ;)\n",
      "T171_2019_01_31_Notebook_2_a: This session already exists - no need to re-run ;)\n",
      "2019_01_31__T171_T171-153700\n",
      "Notebook_3_a.ipynb is being executed\n"
     ]
    },
    {
     "data": {
      "application/vnd.jupyter.widget-view+json": {
       "model_id": "b67aecf64b1f4867ae149e041b7becd6",
       "version_major": 2,
       "version_minor": 0
      },
      "text/plain": [
       "HBox(children=(FloatProgress(value=0.0, description='Executing', max=27.0, style=ProgressStyle(description_wid…"
      ]
     },
     "metadata": {},
     "output_type": "display_data"
    },
    {
     "name": "stdout",
     "output_type": "stream",
     "text": [
      "\n",
      "T171_2019_01_31_Notebook_4_a: This session already exists - no need to re-run ;)\n",
      "T171_2019_01_31_Notebook_4_b: This session already exists - no need to re-run ;)\n",
      "T171_2019_01_31_Notebook_4_c: This session already exists - no need to re-run ;)\n",
      "T171_2019_01_31_Notebook_4_d: This session already exists - no need to re-run ;)\n",
      "2019_01_31__T171_T171-153700\n",
      "Notebook_5_a.ipynb is being executed\n"
     ]
    },
    {
     "data": {
      "application/vnd.jupyter.widget-view+json": {
       "model_id": "9245b6f7575942ba99b5fba8396f8502",
       "version_major": 2,
       "version_minor": 0
      },
      "text/plain": [
       "HBox(children=(FloatProgress(value=0.0, description='Executing', max=18.0, style=ProgressStyle(description_wid…"
      ]
     },
     "metadata": {},
     "output_type": "display_data"
    },
    {
     "name": "stdout",
     "output_type": "stream",
     "text": [
      "\n",
      "2019_01_31__T171_T171-153700\n",
      "Notebook_6_a.ipynb is being executed\n"
     ]
    },
    {
     "data": {
      "application/vnd.jupyter.widget-view+json": {
       "model_id": "32279f0f61ef4bcd98b486dd41d64e0f",
       "version_major": 2,
       "version_minor": 0
      },
      "text/plain": [
       "HBox(children=(FloatProgress(value=0.0, description='Executing', max=11.0, style=ProgressStyle(description_wid…"
      ]
     },
     "metadata": {},
     "output_type": "display_data"
    },
    {
     "name": "stdout",
     "output_type": "stream",
     "text": [
      "\n",
      "2019_01_31__T171_T171-153700\n",
      "Notebook_7_a.ipynb is being executed\n"
     ]
    },
    {
     "data": {
      "application/vnd.jupyter.widget-view+json": {
       "model_id": "01d56c0e76e54800afc47ce90e07a83c",
       "version_major": 2,
       "version_minor": 0
      },
      "text/plain": [
       "HBox(children=(FloatProgress(value=0.0, description='Executing', max=6.0, style=ProgressStyle(description_widt…"
      ]
     },
     "metadata": {},
     "output_type": "display_data"
    },
    {
     "name": "stdout",
     "output_type": "stream",
     "text": [
      "\n",
      "T186_2019_03_22_Notebook_0_a: This session already exists - no need to re-run ;)\n",
      "T186_2019_03_22_Notebook_1_b: This session already exists - no need to re-run ;)\n",
      "T186_2019_03_22_Notebook_2_a: This session already exists - no need to re-run ;)\n",
      "2019_03_22__T186_T186-164847\n",
      "Notebook_3_a.ipynb is being executed\n"
     ]
    },
    {
     "data": {
      "application/vnd.jupyter.widget-view+json": {
       "model_id": "2ef82621d5dd4596a392655e97b96658",
       "version_major": 2,
       "version_minor": 0
      },
      "text/plain": [
       "HBox(children=(FloatProgress(value=0.0, description='Executing', max=27.0, style=ProgressStyle(description_wid…"
      ]
     },
     "metadata": {},
     "output_type": "display_data"
    },
    {
     "name": "stdout",
     "output_type": "stream",
     "text": [
      "\n",
      "T186_2019_03_22_Notebook_4_a: This session already exists - no need to re-run ;)\n",
      "T186_2019_03_22_Notebook_4_b: This session already exists - no need to re-run ;)\n",
      "T186_2019_03_22_Notebook_4_c: This session already exists - no need to re-run ;)\n",
      "T186_2019_03_22_Notebook_4_d: This session already exists - no need to re-run ;)\n",
      "2019_03_22__T186_T186-164847\n",
      "Notebook_5_a.ipynb is being executed\n"
     ]
    },
    {
     "data": {
      "application/vnd.jupyter.widget-view+json": {
       "model_id": "a4fce6851e8748618789b054035867ba",
       "version_major": 2,
       "version_minor": 0
      },
      "text/plain": [
       "HBox(children=(FloatProgress(value=0.0, description='Executing', max=18.0, style=ProgressStyle(description_wid…"
      ]
     },
     "metadata": {},
     "output_type": "display_data"
    },
    {
     "name": "stdout",
     "output_type": "stream",
     "text": [
      "\n",
      "2019_03_22__T186_T186-164847\n",
      "Notebook_6_a.ipynb is being executed\n"
     ]
    },
    {
     "data": {
      "application/vnd.jupyter.widget-view+json": {
       "model_id": "db660c0ac8bc4713bc86b4877e9f0a4f",
       "version_major": 2,
       "version_minor": 0
      },
      "text/plain": [
       "HBox(children=(FloatProgress(value=0.0, description='Executing', max=11.0, style=ProgressStyle(description_wid…"
      ]
     },
     "metadata": {},
     "output_type": "display_data"
    },
    {
     "name": "stdout",
     "output_type": "stream",
     "text": [
      "\n",
      "2019_03_22__T186_T186-164847\n",
      "Notebook_7_a.ipynb is being executed\n"
     ]
    },
    {
     "data": {
      "application/vnd.jupyter.widget-view+json": {
       "model_id": "25433c5556e44dafb0492481ce8fd036",
       "version_major": 2,
       "version_minor": 0
      },
      "text/plain": [
       "HBox(children=(FloatProgress(value=0.0, description='Executing', max=6.0, style=ProgressStyle(description_widt…"
      ]
     },
     "metadata": {},
     "output_type": "display_data"
    },
    {
     "name": "stdout",
     "output_type": "stream",
     "text": [
      "\n",
      "T186_2019_04_01_Notebook_0_a: This session already exists - no need to re-run ;)\n",
      "T186_2019_04_01_Notebook_1_b: This session already exists - no need to re-run ;)\n",
      "T186_2019_04_01_Notebook_2_a: This session already exists - no need to re-run ;)\n",
      "2019_04_01__T186_T186-142719\n",
      "Notebook_3_a.ipynb is being executed\n"
     ]
    },
    {
     "data": {
      "application/vnd.jupyter.widget-view+json": {
       "model_id": "d6b87d61f6b04f1da0e04b716765d127",
       "version_major": 2,
       "version_minor": 0
      },
      "text/plain": [
       "HBox(children=(FloatProgress(value=0.0, description='Executing', max=27.0, style=ProgressStyle(description_wid…"
      ]
     },
     "metadata": {},
     "output_type": "display_data"
    },
    {
     "name": "stdout",
     "output_type": "stream",
     "text": [
      "\n",
      "T186_2019_04_01_Notebook_4_a: This session already exists - no need to re-run ;)\n",
      "T186_2019_04_01_Notebook_4_b: This session already exists - no need to re-run ;)\n",
      "T186_2019_04_01_Notebook_4_c: This session already exists - no need to re-run ;)\n",
      "T186_2019_04_01_Notebook_4_d: This session already exists - no need to re-run ;)\n",
      "2019_04_01__T186_T186-142719\n",
      "Notebook_5_a.ipynb is being executed\n"
     ]
    },
    {
     "data": {
      "application/vnd.jupyter.widget-view+json": {
       "model_id": "fba151eab4214a4896e764d9b8b44a04",
       "version_major": 2,
       "version_minor": 0
      },
      "text/plain": [
       "HBox(children=(FloatProgress(value=0.0, description='Executing', max=18.0, style=ProgressStyle(description_wid…"
      ]
     },
     "metadata": {},
     "output_type": "display_data"
    },
    {
     "name": "stdout",
     "output_type": "stream",
     "text": [
      "\n",
      "2019_04_01__T186_T186-142719\n",
      "Notebook_6_a.ipynb is being executed\n"
     ]
    },
    {
     "data": {
      "application/vnd.jupyter.widget-view+json": {
       "model_id": "9f23cb272258489b98c8fd2f8fa77a8e",
       "version_major": 2,
       "version_minor": 0
      },
      "text/plain": [
       "HBox(children=(FloatProgress(value=0.0, description='Executing', max=11.0, style=ProgressStyle(description_wid…"
      ]
     },
     "metadata": {},
     "output_type": "display_data"
    },
    {
     "name": "stdout",
     "output_type": "stream",
     "text": [
      "\n",
      "2019_04_01__T186_T186-142719\n",
      "Notebook_7_a.ipynb is being executed\n"
     ]
    },
    {
     "data": {
      "application/vnd.jupyter.widget-view+json": {
       "model_id": "4d2e49cb6c8940488cad85a6dcc201e8",
       "version_major": 2,
       "version_minor": 0
      },
      "text/plain": [
       "HBox(children=(FloatProgress(value=0.0, description='Executing', max=6.0, style=ProgressStyle(description_widt…"
      ]
     },
     "metadata": {},
     "output_type": "display_data"
    },
    {
     "name": "stdout",
     "output_type": "stream",
     "text": [
      "\n",
      "T186_2019_03_28_Notebook_0_a: This session already exists - no need to re-run ;)\n",
      "T186_2019_03_28_Notebook_1_b: This session already exists - no need to re-run ;)\n",
      "T186_2019_03_28_Notebook_2_a: This session already exists - no need to re-run ;)\n",
      "2019_03_28__T186_T186-144534\n",
      "Notebook_3_a.ipynb is being executed\n"
     ]
    },
    {
     "data": {
      "application/vnd.jupyter.widget-view+json": {
       "model_id": "07df48a8dfca460fa0ced2334649c4ba",
       "version_major": 2,
       "version_minor": 0
      },
      "text/plain": [
       "HBox(children=(FloatProgress(value=0.0, description='Executing', max=27.0, style=ProgressStyle(description_wid…"
      ]
     },
     "metadata": {},
     "output_type": "display_data"
    },
    {
     "name": "stdout",
     "output_type": "stream",
     "text": [
      "\n",
      "T186_2019_03_28_Notebook_4_a: This session already exists - no need to re-run ;)\n",
      "T186_2019_03_28_Notebook_4_b: This session already exists - no need to re-run ;)\n",
      "T186_2019_03_28_Notebook_4_c: This session already exists - no need to re-run ;)\n",
      "T186_2019_03_28_Notebook_4_d: This session already exists - no need to re-run ;)\n",
      "2019_03_28__T186_T186-144534\n",
      "Notebook_5_a.ipynb is being executed\n"
     ]
    },
    {
     "data": {
      "application/vnd.jupyter.widget-view+json": {
       "model_id": "3a2b0bd52f6249f8bb116abe313c40a3",
       "version_major": 2,
       "version_minor": 0
      },
      "text/plain": [
       "HBox(children=(FloatProgress(value=0.0, description='Executing', max=18.0, style=ProgressStyle(description_wid…"
      ]
     },
     "metadata": {},
     "output_type": "display_data"
    },
    {
     "name": "stdout",
     "output_type": "stream",
     "text": [
      "\n",
      "2019_03_28__T186_T186-144534\n",
      "Notebook_6_a.ipynb is being executed\n"
     ]
    },
    {
     "data": {
      "application/vnd.jupyter.widget-view+json": {
       "model_id": "486515e5a6274e76a4bb900fad528ee9",
       "version_major": 2,
       "version_minor": 0
      },
      "text/plain": [
       "HBox(children=(FloatProgress(value=0.0, description='Executing', max=11.0, style=ProgressStyle(description_wid…"
      ]
     },
     "metadata": {},
     "output_type": "display_data"
    },
    {
     "name": "stdout",
     "output_type": "stream",
     "text": [
      "\n",
      "2019_03_28__T186_T186-144534\n",
      "Notebook_7_a.ipynb is being executed\n"
     ]
    },
    {
     "data": {
      "application/vnd.jupyter.widget-view+json": {
       "model_id": "b2397dc20cfa4b599edd84f51aa51bea",
       "version_major": 2,
       "version_minor": 0
      },
      "text/plain": [
       "HBox(children=(FloatProgress(value=0.0, description='Executing', max=6.0, style=ProgressStyle(description_widt…"
      ]
     },
     "metadata": {},
     "output_type": "display_data"
    },
    {
     "name": "stdout",
     "output_type": "stream",
     "text": [
      "\n",
      "T186_2019_03_27_Notebook_0_a: This session already exists - no need to re-run ;)\n",
      "T186_2019_03_27_Notebook_1_b: This session already exists - no need to re-run ;)\n",
      "T186_2019_03_27_Notebook_2_a: This session already exists - no need to re-run ;)\n",
      "2019_03_27__T186_T186-150703\n",
      "Notebook_3_a.ipynb is being executed\n"
     ]
    },
    {
     "data": {
      "application/vnd.jupyter.widget-view+json": {
       "model_id": "51a254dd13e5431e95a96ec54b1084ce",
       "version_major": 2,
       "version_minor": 0
      },
      "text/plain": [
       "HBox(children=(FloatProgress(value=0.0, description='Executing', max=27.0, style=ProgressStyle(description_wid…"
      ]
     },
     "metadata": {},
     "output_type": "display_data"
    },
    {
     "name": "stdout",
     "output_type": "stream",
     "text": [
      "\n",
      "T186_2019_03_27_Notebook_4_a: This session already exists - no need to re-run ;)\n",
      "T186_2019_03_27_Notebook_4_b: This session already exists - no need to re-run ;)\n",
      "T186_2019_03_27_Notebook_4_c: This session already exists - no need to re-run ;)\n",
      "T186_2019_03_27_Notebook_4_d: This session already exists - no need to re-run ;)\n",
      "2019_03_27__T186_T186-150703\n",
      "Notebook_5_a.ipynb is being executed\n"
     ]
    },
    {
     "data": {
      "application/vnd.jupyter.widget-view+json": {
       "model_id": "9f81c2a9bd374744a7f0f2a682c767d7",
       "version_major": 2,
       "version_minor": 0
      },
      "text/plain": [
       "HBox(children=(FloatProgress(value=0.0, description='Executing', max=18.0, style=ProgressStyle(description_wid…"
      ]
     },
     "metadata": {},
     "output_type": "display_data"
    },
    {
     "name": "stdout",
     "output_type": "stream",
     "text": [
      "\n",
      "2019_03_27__T186_T186-150703\n",
      "Notebook_6_a.ipynb is being executed\n"
     ]
    },
    {
     "data": {
      "application/vnd.jupyter.widget-view+json": {
       "model_id": "b093219b041b445eb1b6c8a8a95a9ef5",
       "version_major": 2,
       "version_minor": 0
      },
      "text/plain": [
       "HBox(children=(FloatProgress(value=0.0, description='Executing', max=11.0, style=ProgressStyle(description_wid…"
      ]
     },
     "metadata": {},
     "output_type": "display_data"
    },
    {
     "name": "stdout",
     "output_type": "stream",
     "text": [
      "\n",
      "2019_03_27__T186_T186-150703\n",
      "Notebook_7_a.ipynb is being executed\n"
     ]
    },
    {
     "data": {
      "application/vnd.jupyter.widget-view+json": {
       "model_id": "31cb83e2f3d2406496d478b7913ee5a3",
       "version_major": 2,
       "version_minor": 0
      },
      "text/plain": [
       "HBox(children=(FloatProgress(value=0.0, description='Executing', max=6.0, style=ProgressStyle(description_widt…"
      ]
     },
     "metadata": {},
     "output_type": "display_data"
    },
    {
     "name": "stdout",
     "output_type": "stream",
     "text": [
      "\n",
      "T186_2019_04_02_Notebook_0_a: This session already exists - no need to re-run ;)\n",
      "T186_2019_04_02_Notebook_1_b: This session already exists - no need to re-run ;)\n",
      "T186_2019_04_02_Notebook_2_a: This session already exists - no need to re-run ;)\n",
      "2019_04_02__T186_T186-140234\n",
      "Notebook_3_a.ipynb is being executed\n"
     ]
    },
    {
     "data": {
      "application/vnd.jupyter.widget-view+json": {
       "model_id": "d53b59f7c7974f5aa967feb51d340ec2",
       "version_major": 2,
       "version_minor": 0
      },
      "text/plain": [
       "HBox(children=(FloatProgress(value=0.0, description='Executing', max=27.0, style=ProgressStyle(description_wid…"
      ]
     },
     "metadata": {},
     "output_type": "display_data"
    },
    {
     "name": "stdout",
     "output_type": "stream",
     "text": [
      "\n",
      "T186_2019_04_02_Notebook_4_a: This session already exists - no need to re-run ;)\n",
      "T186_2019_04_02_Notebook_4_b: This session already exists - no need to re-run ;)\n",
      "T186_2019_04_02_Notebook_4_c: This session already exists - no need to re-run ;)\n",
      "T186_2019_04_02_Notebook_4_d: This session already exists - no need to re-run ;)\n",
      "2019_04_02__T186_T186-140234\n",
      "Notebook_5_a.ipynb is being executed\n"
     ]
    },
    {
     "data": {
      "application/vnd.jupyter.widget-view+json": {
       "model_id": "89f56f0aafc5430995ccf13ad1dba39b",
       "version_major": 2,
       "version_minor": 0
      },
      "text/plain": [
       "HBox(children=(FloatProgress(value=0.0, description='Executing', max=18.0, style=ProgressStyle(description_wid…"
      ]
     },
     "metadata": {},
     "output_type": "display_data"
    },
    {
     "name": "stdout",
     "output_type": "stream",
     "text": [
      "\n",
      "2019_04_02__T186_T186-140234\n",
      "Notebook_6_a.ipynb is being executed\n"
     ]
    },
    {
     "data": {
      "application/vnd.jupyter.widget-view+json": {
       "model_id": "fd4cf6e28835487abfb329105b0bba8f",
       "version_major": 2,
       "version_minor": 0
      },
      "text/plain": [
       "HBox(children=(FloatProgress(value=0.0, description='Executing', max=11.0, style=ProgressStyle(description_wid…"
      ]
     },
     "metadata": {},
     "output_type": "display_data"
    },
    {
     "name": "stdout",
     "output_type": "stream",
     "text": [
      "\n",
      "2019_04_02__T186_T186-140234\n",
      "Notebook_7_a.ipynb is being executed\n"
     ]
    },
    {
     "data": {
      "application/vnd.jupyter.widget-view+json": {
       "model_id": "a6da90158612410ea04a92cc7631e797",
       "version_major": 2,
       "version_minor": 0
      },
      "text/plain": [
       "HBox(children=(FloatProgress(value=0.0, description='Executing', max=6.0, style=ProgressStyle(description_widt…"
      ]
     },
     "metadata": {},
     "output_type": "display_data"
    },
    {
     "name": "stdout",
     "output_type": "stream",
     "text": [
      "\n",
      "T186_2019_04_05_Notebook_0_a: This session already exists - no need to re-run ;)\n",
      "T186_2019_04_05_Notebook_1_b: This session already exists - no need to re-run ;)\n",
      "T186_2019_04_05_Notebook_2_a: This session already exists - no need to re-run ;)\n",
      "2019_04_05__T186_T186-135725\n",
      "Notebook_3_a.ipynb is being executed\n"
     ]
    },
    {
     "data": {
      "application/vnd.jupyter.widget-view+json": {
       "model_id": "187aac309e634bd8b2cfa99770ae0113",
       "version_major": 2,
       "version_minor": 0
      },
      "text/plain": [
       "HBox(children=(FloatProgress(value=0.0, description='Executing', max=27.0, style=ProgressStyle(description_wid…"
      ]
     },
     "metadata": {},
     "output_type": "display_data"
    },
    {
     "name": "stdout",
     "output_type": "stream",
     "text": [
      "\n",
      "T186_2019_04_05_Notebook_4_a: This session already exists - no need to re-run ;)\n",
      "T186_2019_04_05_Notebook_4_b: This session already exists - no need to re-run ;)\n",
      "T186_2019_04_05_Notebook_4_c: This session already exists - no need to re-run ;)\n",
      "T186_2019_04_05_Notebook_4_d: This session already exists - no need to re-run ;)\n",
      "2019_04_05__T186_T186-135725\n",
      "Notebook_5_a.ipynb is being executed\n"
     ]
    },
    {
     "data": {
      "application/vnd.jupyter.widget-view+json": {
       "model_id": "e73640e4949546e58aa2d1ea3a2fede8",
       "version_major": 2,
       "version_minor": 0
      },
      "text/plain": [
       "HBox(children=(FloatProgress(value=0.0, description='Executing', max=18.0, style=ProgressStyle(description_wid…"
      ]
     },
     "metadata": {},
     "output_type": "display_data"
    },
    {
     "name": "stdout",
     "output_type": "stream",
     "text": [
      "\n",
      "2019_04_05__T186_T186-135725\n",
      "Notebook_6_a.ipynb is being executed\n"
     ]
    },
    {
     "data": {
      "application/vnd.jupyter.widget-view+json": {
       "model_id": "df619e464017492eab2dcc460be1826b",
       "version_major": 2,
       "version_minor": 0
      },
      "text/plain": [
       "HBox(children=(FloatProgress(value=0.0, description='Executing', max=11.0, style=ProgressStyle(description_wid…"
      ]
     },
     "metadata": {},
     "output_type": "display_data"
    },
    {
     "name": "stdout",
     "output_type": "stream",
     "text": [
      "\n",
      "2019_04_05__T186_T186-135725\n",
      "Notebook_7_a.ipynb is being executed\n"
     ]
    },
    {
     "data": {
      "application/vnd.jupyter.widget-view+json": {
       "model_id": "e9d7d3b54bf54a55aca2807cfdaf47d4",
       "version_major": 2,
       "version_minor": 0
      },
      "text/plain": [
       "HBox(children=(FloatProgress(value=0.0, description='Executing', max=6.0, style=ProgressStyle(description_widt…"
      ]
     },
     "metadata": {},
     "output_type": "display_data"
    },
    {
     "name": "stdout",
     "output_type": "stream",
     "text": [
      "\n",
      "T187_2019_03_22_Notebook_0_a: This session already exists - no need to re-run ;)\n",
      "T187_2019_03_22_Notebook_1_b: This session already exists - no need to re-run ;)\n",
      "T187_2019_03_22_Notebook_2_a: This session already exists - no need to re-run ;)\n",
      "2019_03_22__T187_T187-172139\n",
      "Notebook_3_a.ipynb is being executed\n"
     ]
    },
    {
     "data": {
      "application/vnd.jupyter.widget-view+json": {
       "model_id": "833694677b514bd7b13ab8e65ab7a204",
       "version_major": 2,
       "version_minor": 0
      },
      "text/plain": [
       "HBox(children=(FloatProgress(value=0.0, description='Executing', max=27.0, style=ProgressStyle(description_wid…"
      ]
     },
     "metadata": {},
     "output_type": "display_data"
    },
    {
     "name": "stdout",
     "output_type": "stream",
     "text": [
      "\n",
      "T187_2019_03_22_Notebook_4_a: This session already exists - no need to re-run ;)\n",
      "T187_2019_03_22_Notebook_4_b: This session already exists - no need to re-run ;)\n",
      "T187_2019_03_22_Notebook_4_c: This session already exists - no need to re-run ;)\n",
      "T187_2019_03_22_Notebook_4_d: This session already exists - no need to re-run ;)\n",
      "2019_03_22__T187_T187-172139\n",
      "Notebook_5_a.ipynb is being executed\n"
     ]
    },
    {
     "data": {
      "application/vnd.jupyter.widget-view+json": {
       "model_id": "9d99450153684b579b5505e62e5e460a",
       "version_major": 2,
       "version_minor": 0
      },
      "text/plain": [
       "HBox(children=(FloatProgress(value=0.0, description='Executing', max=18.0, style=ProgressStyle(description_wid…"
      ]
     },
     "metadata": {},
     "output_type": "display_data"
    },
    {
     "name": "stdout",
     "output_type": "stream",
     "text": [
      "\n",
      "2019_03_22__T187_T187-172139\n",
      "Notebook_6_a.ipynb is being executed\n"
     ]
    },
    {
     "data": {
      "application/vnd.jupyter.widget-view+json": {
       "model_id": "71f98b91c7d64b9c94ee927a17817e50",
       "version_major": 2,
       "version_minor": 0
      },
      "text/plain": [
       "HBox(children=(FloatProgress(value=0.0, description='Executing', max=11.0, style=ProgressStyle(description_wid…"
      ]
     },
     "metadata": {},
     "output_type": "display_data"
    },
    {
     "name": "stdout",
     "output_type": "stream",
     "text": [
      "\n",
      "2019_03_22__T187_T187-172139\n",
      "Notebook_7_a.ipynb is being executed\n"
     ]
    },
    {
     "data": {
      "application/vnd.jupyter.widget-view+json": {
       "model_id": "8deb6dbc9dcf41ef911de616d2257036",
       "version_major": 2,
       "version_minor": 0
      },
      "text/plain": [
       "HBox(children=(FloatProgress(value=0.0, description='Executing', max=6.0, style=ProgressStyle(description_widt…"
      ]
     },
     "metadata": {},
     "output_type": "display_data"
    },
    {
     "name": "stdout",
     "output_type": "stream",
     "text": [
      "\n",
      "T187_2019_04_02_Notebook_0_a: This session already exists - no need to re-run ;)\n",
      "T187_2019_04_02_Notebook_1_b: This session already exists - no need to re-run ;)\n",
      "T187_2019_04_02_Notebook_2_a: This session already exists - no need to re-run ;)\n",
      "2019_04_02__T187_T187-142756\n",
      "Notebook_3_a.ipynb is being executed\n"
     ]
    },
    {
     "data": {
      "application/vnd.jupyter.widget-view+json": {
       "model_id": "045c864d93d948cf98780b99775ff1fe",
       "version_major": 2,
       "version_minor": 0
      },
      "text/plain": [
       "HBox(children=(FloatProgress(value=0.0, description='Executing', max=27.0, style=ProgressStyle(description_wid…"
      ]
     },
     "metadata": {},
     "output_type": "display_data"
    },
    {
     "name": "stdout",
     "output_type": "stream",
     "text": [
      "\n",
      "T187_2019_04_02_Notebook_4_a: This session already exists - no need to re-run ;)\n",
      "T187_2019_04_02_Notebook_4_b: This session already exists - no need to re-run ;)\n",
      "T187_2019_04_02_Notebook_4_c: This session already exists - no need to re-run ;)\n",
      "T187_2019_04_02_Notebook_4_d: This session already exists - no need to re-run ;)\n",
      "2019_04_02__T187_T187-142756\n",
      "Notebook_5_a.ipynb is being executed\n"
     ]
    },
    {
     "data": {
      "application/vnd.jupyter.widget-view+json": {
       "model_id": "7ba7b4a2550a442f978aecf8ac17507f",
       "version_major": 2,
       "version_minor": 0
      },
      "text/plain": [
       "HBox(children=(FloatProgress(value=0.0, description='Executing', max=18.0, style=ProgressStyle(description_wid…"
      ]
     },
     "metadata": {},
     "output_type": "display_data"
    },
    {
     "name": "stdout",
     "output_type": "stream",
     "text": [
      "\n",
      "2019_04_02__T187_T187-142756\n",
      "Notebook_6_a.ipynb is being executed\n"
     ]
    },
    {
     "data": {
      "application/vnd.jupyter.widget-view+json": {
       "model_id": "c42d074554fc4f639a6890a1505048a1",
       "version_major": 2,
       "version_minor": 0
      },
      "text/plain": [
       "HBox(children=(FloatProgress(value=0.0, description='Executing', max=11.0, style=ProgressStyle(description_wid…"
      ]
     },
     "metadata": {},
     "output_type": "display_data"
    },
    {
     "name": "stdout",
     "output_type": "stream",
     "text": [
      "\n",
      "2019_04_02__T187_T187-142756\n",
      "Notebook_7_a.ipynb is being executed\n"
     ]
    },
    {
     "data": {
      "application/vnd.jupyter.widget-view+json": {
       "model_id": "91a286e533114791aed6ea06a8ab765d",
       "version_major": 2,
       "version_minor": 0
      },
      "text/plain": [
       "HBox(children=(FloatProgress(value=0.0, description='Executing', max=6.0, style=ProgressStyle(description_widt…"
      ]
     },
     "metadata": {},
     "output_type": "display_data"
    },
    {
     "name": "stdout",
     "output_type": "stream",
     "text": [
      "\n",
      "T187_2019_03_25_Notebook_0_a: This session already exists - no need to re-run ;)\n",
      "T187_2019_03_25_Notebook_1_b: This session already exists - no need to re-run ;)\n",
      "T187_2019_03_25_Notebook_2_a: This session already exists - no need to re-run ;)\n",
      "2019_03_25__T187_T187-153540\n",
      "Notebook_3_a.ipynb is being executed\n"
     ]
    },
    {
     "data": {
      "application/vnd.jupyter.widget-view+json": {
       "model_id": "0fd86f3f0cf346ae93150d3d6c217a9b",
       "version_major": 2,
       "version_minor": 0
      },
      "text/plain": [
       "HBox(children=(FloatProgress(value=0.0, description='Executing', max=27.0, style=ProgressStyle(description_wid…"
      ]
     },
     "metadata": {},
     "output_type": "display_data"
    },
    {
     "name": "stdout",
     "output_type": "stream",
     "text": [
      "\n",
      "T187_2019_03_25_Notebook_4_a: This session already exists - no need to re-run ;)\n",
      "T187_2019_03_25_Notebook_4_b: This session already exists - no need to re-run ;)\n",
      "T187_2019_03_25_Notebook_4_c: This session already exists - no need to re-run ;)\n",
      "T187_2019_03_25_Notebook_4_d: This session already exists - no need to re-run ;)\n",
      "2019_03_25__T187_T187-153540\n",
      "Notebook_5_a.ipynb is being executed\n"
     ]
    },
    {
     "data": {
      "application/vnd.jupyter.widget-view+json": {
       "model_id": "610c69090a164fdb85d1bace0c319d79",
       "version_major": 2,
       "version_minor": 0
      },
      "text/plain": [
       "HBox(children=(FloatProgress(value=0.0, description='Executing', max=18.0, style=ProgressStyle(description_wid…"
      ]
     },
     "metadata": {},
     "output_type": "display_data"
    },
    {
     "name": "stdout",
     "output_type": "stream",
     "text": [
      "\n",
      "2019_03_25__T187_T187-153540\n",
      "Notebook_6_a.ipynb is being executed\n"
     ]
    },
    {
     "data": {
      "application/vnd.jupyter.widget-view+json": {
       "model_id": "73f7af44e3414bab9ce610aba4d65429",
       "version_major": 2,
       "version_minor": 0
      },
      "text/plain": [
       "HBox(children=(FloatProgress(value=0.0, description='Executing', max=11.0, style=ProgressStyle(description_wid…"
      ]
     },
     "metadata": {},
     "output_type": "display_data"
    },
    {
     "name": "stdout",
     "output_type": "stream",
     "text": [
      "\n",
      "2019_03_25__T187_T187-153540\n",
      "Notebook_7_a.ipynb is being executed\n"
     ]
    },
    {
     "data": {
      "application/vnd.jupyter.widget-view+json": {
       "model_id": "8a73d0a3ea1848ddb8b3fa1b54dc8776",
       "version_major": 2,
       "version_minor": 0
      },
      "text/plain": [
       "HBox(children=(FloatProgress(value=0.0, description='Executing', max=6.0, style=ProgressStyle(description_widt…"
      ]
     },
     "metadata": {},
     "output_type": "display_data"
    },
    {
     "name": "stdout",
     "output_type": "stream",
     "text": [
      "\n",
      "T187_2019_04_04_Notebook_0_a: This session already exists - no need to re-run ;)\n",
      "T187_2019_04_04_Notebook_1_b: This session already exists - no need to re-run ;)\n",
      "T187_2019_04_04_Notebook_2_a: This session already exists - no need to re-run ;)\n",
      "2019_04_04__T187_T187-142541\n",
      "Notebook_3_a.ipynb is being executed\n"
     ]
    },
    {
     "data": {
      "application/vnd.jupyter.widget-view+json": {
       "model_id": "752e50925c13489b893a18ecac0eb41c",
       "version_major": 2,
       "version_minor": 0
      },
      "text/plain": [
       "HBox(children=(FloatProgress(value=0.0, description='Executing', max=27.0, style=ProgressStyle(description_wid…"
      ]
     },
     "metadata": {},
     "output_type": "display_data"
    },
    {
     "name": "stdout",
     "output_type": "stream",
     "text": [
      "\n",
      "T187_2019_04_04_Notebook_4_a: This session already exists - no need to re-run ;)\n",
      "T187_2019_04_04_Notebook_4_b: This session already exists - no need to re-run ;)\n",
      "T187_2019_04_04_Notebook_4_c: This session already exists - no need to re-run ;)\n",
      "T187_2019_04_04_Notebook_4_d: This session already exists - no need to re-run ;)\n",
      "2019_04_04__T187_T187-142541\n",
      "Notebook_5_a.ipynb is being executed\n"
     ]
    },
    {
     "data": {
      "application/vnd.jupyter.widget-view+json": {
       "model_id": "ad6ef0955cf24fb09a0761cd3a9a5531",
       "version_major": 2,
       "version_minor": 0
      },
      "text/plain": [
       "HBox(children=(FloatProgress(value=0.0, description='Executing', max=18.0, style=ProgressStyle(description_wid…"
      ]
     },
     "metadata": {},
     "output_type": "display_data"
    },
    {
     "name": "stdout",
     "output_type": "stream",
     "text": [
      "\n",
      "2019_04_04__T187_T187-142541\n",
      "Notebook_6_a.ipynb is being executed\n"
     ]
    },
    {
     "data": {
      "application/vnd.jupyter.widget-view+json": {
       "model_id": "64bef6cad80342d8a9da1a9eede45e40",
       "version_major": 2,
       "version_minor": 0
      },
      "text/plain": [
       "HBox(children=(FloatProgress(value=0.0, description='Executing', max=11.0, style=ProgressStyle(description_wid…"
      ]
     },
     "metadata": {},
     "output_type": "display_data"
    },
    {
     "name": "stdout",
     "output_type": "stream",
     "text": [
      "\n",
      "2019_04_04__T187_T187-142541\n",
      "Notebook_7_a.ipynb is being executed\n"
     ]
    },
    {
     "data": {
      "application/vnd.jupyter.widget-view+json": {
       "model_id": "98571c7f2bc447c9bdd7443cdf86972d",
       "version_major": 2,
       "version_minor": 0
      },
      "text/plain": [
       "HBox(children=(FloatProgress(value=0.0, description='Executing', max=6.0, style=ProgressStyle(description_widt…"
      ]
     },
     "metadata": {},
     "output_type": "display_data"
    },
    {
     "name": "stdout",
     "output_type": "stream",
     "text": [
      "\n",
      "T187_2019_04_01_Notebook_0_a: This session already exists - no need to re-run ;)\n",
      "T187_2019_04_01_Notebook_1_b: This session already exists - no need to re-run ;)\n",
      "T187_2019_04_01_Notebook_2_a: This session already exists - no need to re-run ;)\n",
      "2019_04_01__T187_T187-150132\n",
      "Notebook_3_a.ipynb is being executed\n"
     ]
    },
    {
     "data": {
      "application/vnd.jupyter.widget-view+json": {
       "model_id": "f353aa23e989406d9d191312c5031ae3",
       "version_major": 2,
       "version_minor": 0
      },
      "text/plain": [
       "HBox(children=(FloatProgress(value=0.0, description='Executing', max=27.0, style=ProgressStyle(description_wid…"
      ]
     },
     "metadata": {},
     "output_type": "display_data"
    },
    {
     "name": "stdout",
     "output_type": "stream",
     "text": [
      "\n",
      "T187_2019_04_01_Notebook_4_a: This session already exists - no need to re-run ;)\n",
      "T187_2019_04_01_Notebook_4_b: This session already exists - no need to re-run ;)\n",
      "T187_2019_04_01_Notebook_4_c: This session already exists - no need to re-run ;)\n",
      "T187_2019_04_01_Notebook_4_d: This session already exists - no need to re-run ;)\n",
      "2019_04_01__T187_T187-150132\n",
      "Notebook_5_a.ipynb is being executed\n"
     ]
    },
    {
     "data": {
      "application/vnd.jupyter.widget-view+json": {
       "model_id": "33d7bb387be74aea9aded7cd618abb6a",
       "version_major": 2,
       "version_minor": 0
      },
      "text/plain": [
       "HBox(children=(FloatProgress(value=0.0, description='Executing', max=18.0, style=ProgressStyle(description_wid…"
      ]
     },
     "metadata": {},
     "output_type": "display_data"
    },
    {
     "name": "stdout",
     "output_type": "stream",
     "text": [
      "\n",
      "2019_04_01__T187_T187-150132\n",
      "Notebook_6_a.ipynb is being executed\n"
     ]
    },
    {
     "data": {
      "application/vnd.jupyter.widget-view+json": {
       "model_id": "22172ad6e78d40369b63e7637a025ab0",
       "version_major": 2,
       "version_minor": 0
      },
      "text/plain": [
       "HBox(children=(FloatProgress(value=0.0, description='Executing', max=11.0, style=ProgressStyle(description_wid…"
      ]
     },
     "metadata": {},
     "output_type": "display_data"
    },
    {
     "name": "stdout",
     "output_type": "stream",
     "text": [
      "\n",
      "2019_04_01__T187_T187-150132\n",
      "Notebook_7_a.ipynb is being executed\n"
     ]
    },
    {
     "data": {
      "application/vnd.jupyter.widget-view+json": {
       "model_id": "9d28c5f131b7459ab1db5f20f53e22a3",
       "version_major": 2,
       "version_minor": 0
      },
      "text/plain": [
       "HBox(children=(FloatProgress(value=0.0, description='Executing', max=6.0, style=ProgressStyle(description_widt…"
      ]
     },
     "metadata": {},
     "output_type": "display_data"
    },
    {
     "name": "stdout",
     "output_type": "stream",
     "text": [
      "\n",
      "T187_2019_03_28_Notebook_0_a: This session already exists - no need to re-run ;)\n",
      "T187_2019_03_28_Notebook_1_b: This session already exists - no need to re-run ;)\n",
      "T187_2019_03_28_Notebook_2_a: This session already exists - no need to re-run ;)\n",
      "2019_03_28__T187_T187-152018\n",
      "Notebook_3_a.ipynb is being executed\n"
     ]
    },
    {
     "data": {
      "application/vnd.jupyter.widget-view+json": {
       "model_id": "84e8b48ad9d24639a36e85bfa4d6fa34",
       "version_major": 2,
       "version_minor": 0
      },
      "text/plain": [
       "HBox(children=(FloatProgress(value=0.0, description='Executing', max=27.0, style=ProgressStyle(description_wid…"
      ]
     },
     "metadata": {},
     "output_type": "display_data"
    },
    {
     "name": "stdout",
     "output_type": "stream",
     "text": [
      "\n",
      "T187_2019_03_28_Notebook_4_a: This session already exists - no need to re-run ;)\n",
      "T187_2019_03_28_Notebook_4_b: This session already exists - no need to re-run ;)\n",
      "T187_2019_03_28_Notebook_4_c: This session already exists - no need to re-run ;)\n",
      "T187_2019_03_28_Notebook_4_d: This session already exists - no need to re-run ;)\n",
      "2019_03_28__T187_T187-152018\n",
      "Notebook_5_a.ipynb is being executed\n"
     ]
    },
    {
     "data": {
      "application/vnd.jupyter.widget-view+json": {
       "model_id": "e81f9438c35f4b5189d6a3252aa71b86",
       "version_major": 2,
       "version_minor": 0
      },
      "text/plain": [
       "HBox(children=(FloatProgress(value=0.0, description='Executing', max=18.0, style=ProgressStyle(description_wid…"
      ]
     },
     "metadata": {},
     "output_type": "display_data"
    },
    {
     "name": "stdout",
     "output_type": "stream",
     "text": [
      "\n",
      "2019_03_28__T187_T187-152018\n",
      "Notebook_6_a.ipynb is being executed\n"
     ]
    },
    {
     "data": {
      "application/vnd.jupyter.widget-view+json": {
       "model_id": "fca1dc70a6f74b449308519cb472ef1c",
       "version_major": 2,
       "version_minor": 0
      },
      "text/plain": [
       "HBox(children=(FloatProgress(value=0.0, description='Executing', max=11.0, style=ProgressStyle(description_wid…"
      ]
     },
     "metadata": {},
     "output_type": "display_data"
    },
    {
     "name": "stdout",
     "output_type": "stream",
     "text": [
      "\n",
      "2019_03_28__T187_T187-152018\n",
      "Notebook_7_a.ipynb is being executed\n"
     ]
    },
    {
     "data": {
      "application/vnd.jupyter.widget-view+json": {
       "model_id": "630f5edd528f420593b374bf903ab853",
       "version_major": 2,
       "version_minor": 0
      },
      "text/plain": [
       "HBox(children=(FloatProgress(value=0.0, description='Executing', max=6.0, style=ProgressStyle(description_widt…"
      ]
     },
     "metadata": {},
     "output_type": "display_data"
    },
    {
     "name": "stdout",
     "output_type": "stream",
     "text": [
      "\n"
     ]
    }
   ],
   "source": [
    "# Mouse_Date_FileName: data set we want to run \n",
    "#nb_list: notebooks that we want to run \n",
    "#nb_path: where is the repository that you are running \n",
    "#seq_str: notebooks that we want to run - in code version \n",
    "#dict_for_pm: parameters of the data set \n",
    "ophf.run_dataset(Mouse_Date_FileName,nb_list,nb_path,seq_str,dict_for_pm)"
   ]
  },
  {
   "cell_type": "code",
   "execution_count": null,
   "metadata": {},
   "outputs": [],
   "source": []
  },
  {
   "cell_type": "code",
   "execution_count": null,
   "metadata": {},
   "outputs": [],
   "source": []
  }
 ],
 "metadata": {
  "celltoolbar": "Tags",
  "kernelspec": {
   "display_name": "Python 3",
   "language": "python",
   "name": "python3"
  },
  "language_info": {
   "codemirror_mode": {
    "name": "ipython",
    "version": 3
   },
   "file_extension": ".py",
   "mimetype": "text/x-python",
   "name": "python",
   "nbconvert_exporter": "python",
   "pygments_lexer": "ipython3",
   "version": "3.7.3"
  }
 },
 "nbformat": 4,
 "nbformat_minor": 2
}
