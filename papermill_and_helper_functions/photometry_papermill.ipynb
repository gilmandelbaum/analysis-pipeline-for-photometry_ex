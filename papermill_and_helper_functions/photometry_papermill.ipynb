{
 "cells": [
  {
   "cell_type": "markdown",
   "metadata": {},
   "source": [
    "\n",
    "# Papermill Notebook for photometry"
   ]
  },
  {
   "cell_type": "code",
   "execution_count": 1,
   "metadata": {},
   "outputs": [],
   "source": [
    "import timeit\n",
    "import pandas as pd\n",
    "import numpy as np\n",
    "import os \n",
    "import papermill as pm\n",
    "import getpass\n",
    "import sys"
   ]
  },
  {
   "cell_type": "code",
   "execution_count": 2,
   "metadata": {},
   "outputs": [
    {
     "data": {
      "text/plain": [
       "'/anaconda3/bin/python3'"
      ]
     },
     "execution_count": 2,
     "metadata": {},
     "output_type": "execute_result"
    }
   ],
   "source": [
    "sys.executable"
   ]
  },
  {
   "cell_type": "code",
   "execution_count": 3,
   "metadata": {},
   "outputs": [],
   "source": [
    "import photometry_papermill_helper_functions as ophf "
   ]
  },
  {
   "cell_type": "markdown",
   "metadata": {},
   "source": [
    "# input and output path: (user specific)"
   ]
  },
  {
   "cell_type": "code",
   "execution_count": 4,
   "metadata": {},
   "outputs": [],
   "source": [
    "#data_dir_input = \"/Users/gilmandelbaum/Desktop/T240_mouse\"\n",
    "#data_dir_output = \"/Users/gilmandelbaum/Desktop/output/\"\n",
    "\n",
    "data_dir_input = \"/Volumes/GilInVivoPaper.large/2.Photometry_in_str/0.data_Sets/1.lateral_medial_6/\"\n",
    "data_dir_output = \"/Volumes/GilInVivoPaper.large/2.Photometry_in_str/1.lateral_medial_6_analysis/\"\n"
   ]
  },
  {
   "cell_type": "markdown",
   "metadata": {},
   "source": [
    "# name of xlsx sheet to import with the data set info: "
   ]
  },
  {
   "cell_type": "code",
   "execution_count": 5,
   "metadata": {},
   "outputs": [],
   "source": [
    "#this xlsx sheet should be in the data_dir_input"
   ]
  },
  {
   "cell_type": "code",
   "execution_count": 6,
   "metadata": {},
   "outputs": [],
   "source": [
    "#name of xlsx file that has the sessions we want to run: \n",
    "MasterSheetName= 'lateral_medial_6_to_run_analysis'"
   ]
  },
  {
   "cell_type": "code",
   "execution_count": 7,
   "metadata": {},
   "outputs": [],
   "source": [
    "#loading the xlsx file \n",
    "Mouse_Date_FileName = pd.read_excel(data_dir_input+'/'+MasterSheetName+'.xlsx') #mdf is mouse data file "
   ]
  },
  {
   "cell_type": "code",
   "execution_count": 8,
   "metadata": {},
   "outputs": [
    {
     "data": {
      "text/html": [
       "<div>\n",
       "<style scoped>\n",
       "    .dataframe tbody tr th:only-of-type {\n",
       "        vertical-align: middle;\n",
       "    }\n",
       "\n",
       "    .dataframe tbody tr th {\n",
       "        vertical-align: top;\n",
       "    }\n",
       "\n",
       "    .dataframe thead th {\n",
       "        text-align: right;\n",
       "    }\n",
       "</style>\n",
       "<table border=\"1\" class=\"dataframe\">\n",
       "  <thead>\n",
       "    <tr style=\"text-align: right;\">\n",
       "      <th></th>\n",
       "      <th>mouse</th>\n",
       "      <th>date</th>\n",
       "      <th>file name</th>\n",
       "    </tr>\n",
       "  </thead>\n",
       "  <tbody>\n",
       "    <tr>\n",
       "      <th>0</th>\n",
       "      <td>T163</td>\n",
       "      <td>181127</td>\n",
       "      <td>T163-144959</td>\n",
       "    </tr>\n",
       "    <tr>\n",
       "      <th>1</th>\n",
       "      <td>T163</td>\n",
       "      <td>181128</td>\n",
       "      <td>T163-115220</td>\n",
       "    </tr>\n",
       "    <tr>\n",
       "      <th>2</th>\n",
       "      <td>T163</td>\n",
       "      <td>181130</td>\n",
       "      <td>T163-133215</td>\n",
       "    </tr>\n",
       "    <tr>\n",
       "      <th>3</th>\n",
       "      <td>T163</td>\n",
       "      <td>181203</td>\n",
       "      <td>T163-115901</td>\n",
       "    </tr>\n",
       "    <tr>\n",
       "      <th>4</th>\n",
       "      <td>T163</td>\n",
       "      <td>181204</td>\n",
       "      <td>T163-114628</td>\n",
       "    </tr>\n",
       "    <tr>\n",
       "      <th>...</th>\n",
       "      <td>...</td>\n",
       "      <td>...</td>\n",
       "      <td>...</td>\n",
       "    </tr>\n",
       "    <tr>\n",
       "      <th>99</th>\n",
       "      <td>T202</td>\n",
       "      <td>190525</td>\n",
       "      <td>T202-153611</td>\n",
       "    </tr>\n",
       "    <tr>\n",
       "      <th>100</th>\n",
       "      <td>T202</td>\n",
       "      <td>190526</td>\n",
       "      <td>T202-142728</td>\n",
       "    </tr>\n",
       "    <tr>\n",
       "      <th>101</th>\n",
       "      <td>T202</td>\n",
       "      <td>190528</td>\n",
       "      <td>T202-140948</td>\n",
       "    </tr>\n",
       "    <tr>\n",
       "      <th>102</th>\n",
       "      <td>T202</td>\n",
       "      <td>190529</td>\n",
       "      <td>T202-160644</td>\n",
       "    </tr>\n",
       "    <tr>\n",
       "      <th>103</th>\n",
       "      <td>T202</td>\n",
       "      <td>190530</td>\n",
       "      <td>T202-152554</td>\n",
       "    </tr>\n",
       "  </tbody>\n",
       "</table>\n",
       "<p>104 rows × 3 columns</p>\n",
       "</div>"
      ],
      "text/plain": [
       "    mouse    date    file name\n",
       "0    T163  181127  T163-144959\n",
       "1    T163  181128  T163-115220\n",
       "2    T163  181130  T163-133215\n",
       "3    T163  181203  T163-115901\n",
       "4    T163  181204  T163-114628\n",
       "..    ...     ...          ...\n",
       "99   T202  190525  T202-153611\n",
       "100  T202  190526  T202-142728\n",
       "101  T202  190528  T202-140948\n",
       "102  T202  190529  T202-160644\n",
       "103  T202  190530  T202-152554\n",
       "\n",
       "[104 rows x 3 columns]"
      ]
     },
     "execution_count": 8,
     "metadata": {},
     "output_type": "execute_result"
    }
   ],
   "source": [
    "Mouse_Date_FileName"
   ]
  },
  {
   "cell_type": "markdown",
   "metadata": {},
   "source": [
    "# use this if running the notebooks from local github folder"
   ]
  },
  {
   "cell_type": "markdown",
   "metadata": {},
   "source": [
    "### if not - define a path to where the repository is at"
   ]
  },
  {
   "cell_type": "code",
   "execution_count": 9,
   "metadata": {},
   "outputs": [
    {
     "name": "stdout",
     "output_type": "stream",
     "text": [
      "gilmandelbaum\n"
     ]
    }
   ],
   "source": [
    "#add the github path that will run the notebooks: \n",
    "username = getpass.getuser() # gets the username from the current comp \n",
    "print (username)"
   ]
  },
  {
   "cell_type": "code",
   "execution_count": 10,
   "metadata": {},
   "outputs": [
    {
     "data": {
      "text/plain": [
       "'/Users/gilmandelbaum/github/analysis-pipeline-for-photometry_ex/'"
      ]
     },
     "execution_count": 10,
     "metadata": {},
     "output_type": "execute_result"
    }
   ],
   "source": [
    "sys.path.append('/Users/{:}/github/analysis-pipeline-for-photometry_ex/'.format(username))\n",
    "nb_path = sys.path[-1]\n",
    "nb_path"
   ]
  },
  {
   "cell_type": "markdown",
   "metadata": {},
   "source": [
    "# parameters to change:"
   ]
  },
  {
   "cell_type": "code",
   "execution_count": 11,
   "metadata": {},
   "outputs": [],
   "source": [
    "#analysis parameters for whole data set:  \n",
    "drop2blocks= 'yes'\n",
    "drop2lastblocks=\"yes\"\n",
    "HowManyBack = 1\n",
    "\n",
    "#for notebook 5: \n",
    "Tags = ['Reward_NoReward_tag','ENL_tag','Cue_to_Sel_tag',\"Cue_to_Sel_fromPrevTrial_tag\"]  \n",
    "Timing = [600,200,15,15]\n",
    "Start_or_end = ['start','end','start','start']\n",
    "\n",
    "#for notebook 5: #adds additional periods of interest. \n",
    "# Tags = ['Reward_NoReward_tag', 'ENL_tag', 'Cue_to_Sel_tag', \"Cue_to_Sel_fromPrevTrial_tag\",\"firstENLp_tag\"]  \n",
    "# Timing = [600,200,15,15,100]\n",
    "# Start_or_end = ['start','end','start','start',\"start\"]\n",
    "\n",
    "y_axis_list = [\"df_f\",\"z_score\",\"z_score_sliding_window\"]"
   ]
  },
  {
   "cell_type": "markdown",
   "metadata": {},
   "source": [
    "# parameters to change:"
   ]
  },
  {
   "cell_type": "code",
   "execution_count": 12,
   "metadata": {},
   "outputs": [],
   "source": [
    "#Versions for each notebook: \n",
    "#NOTE: if one notebook no need for list. see 6 as an example. \n",
    "\n",
    "Nb0='a'\n",
    "Nb1= \"b\"\n",
    "Nb2= 'b'\n",
    "Nb3= 'b'\n",
    "#Nb4= ['a','b','c','d','e'] #can be a list \n",
    "Nb4= ['a','b','c','d'] #can be a list \n",
    "Nb5= 'a'\n",
    "Nb6= \"b\" #can be a list \n",
    "Nb7= 'a'"
   ]
  },
  {
   "cell_type": "code",
   "execution_count": 13,
   "metadata": {},
   "outputs": [],
   "source": [
    "List_of_versions =[Nb0,Nb1,Nb2,Nb3,Nb4,Nb5,Nb6,Nb7]\n",
    "List_of_versions_str =[\"Nb0\",\"Nb1\",\"Nb2\",\"Nb3\",\"Nb4\",\"Nb5\",\"Nb6\",\"Nb7\"]\n",
    "notebook_sequence_list = [0,1,2,3,4,5,6,7]"
   ]
  },
  {
   "cell_type": "code",
   "execution_count": null,
   "metadata": {},
   "outputs": [],
   "source": []
  },
  {
   "cell_type": "code",
   "execution_count": 14,
   "metadata": {},
   "outputs": [
    {
     "data": {
      "text/plain": [
       "['Nb0_a',\n",
       " 'Nb1_b',\n",
       " 'Nb2_b',\n",
       " 'Nb3_b',\n",
       " 'Nb4_a',\n",
       " 'Nb4_b',\n",
       " 'Nb4_c',\n",
       " 'Nb4_d',\n",
       " 'Nb5_a',\n",
       " 'Nb6_b',\n",
       " 'Nb7_a']"
      ]
     },
     "execution_count": 14,
     "metadata": {},
     "output_type": "execute_result"
    }
   ],
   "source": [
    "nb_list = ophf.make_nb_list(List_of_versions,List_of_versions_str)\n",
    "nb_list"
   ]
  },
  {
   "cell_type": "code",
   "execution_count": 15,
   "metadata": {},
   "outputs": [
    {
     "name": "stdout",
     "output_type": "stream",
     "text": [
      "seq0a1b2b3b4abcd5a6b7a will be used\n"
     ]
    }
   ],
   "source": [
    "seq_str = ophf.make_sequence_string(notebook_sequence_list, List_of_versions)"
   ]
  },
  {
   "cell_type": "markdown",
   "metadata": {},
   "source": [
    "# run the cell below (no need to make any changes)"
   ]
  },
  {
   "cell_type": "code",
   "execution_count": 16,
   "metadata": {},
   "outputs": [],
   "source": [
    "#parameters that were defined above and will carry on for the whole analysis. \n",
    "dict_for_pm = dict(data_dir_input=data_dir_input,\n",
    "                   data_dir_output=data_dir_output,\n",
    "                   drop2blocks= drop2blocks,\n",
    "                   drop2lastblocks=drop2blocks,\n",
    "                   seq_str= seq_str, \n",
    "                   HowManyBack = HowManyBack, \n",
    "                   Nb0=Nb0, Nb1=Nb1, Nb2=Nb2, Nb3=Nb3,\n",
    "                   Nb4=Nb4, Nb5=Nb5,Nb6=Nb6,Nb7=Nb7,\n",
    "                   Tags=Tags, \n",
    "                   Timing = Timing,\n",
    "                   Start_or_end=Start_or_end,\n",
    "                   y_axis_list=y_axis_list)"
   ]
  },
  {
   "cell_type": "code",
   "execution_count": null,
   "metadata": {},
   "outputs": [],
   "source": []
  },
  {
   "cell_type": "code",
   "execution_count": 17,
   "metadata": {
    "scrolled": true
   },
   "outputs": [
    {
     "name": "stdout",
     "output_type": "stream",
     "text": [
      "T163_2018_11_27_Notebook_0_a: This session already exists - no need to re-run ;)\n",
      "T163_2018_11_27_Notebook_1_b: This session already exists - no need to re-run ;)\n",
      "T163_2018_11_27_Notebook_2_b: This session already exists - no need to re-run ;)\n",
      "T163_2018_11_27_Notebook_3_b_seq2b3b: This session already exists - no need to re-run ;)\n",
      "T163_2018_11_27_Notebook_4_a: This session already exists - no need to re-run ;)\n",
      "T163_2018_11_27_Notebook_4_b: This session already exists - no need to re-run ;)\n",
      "T163_2018_11_27_Notebook_4_c: This session already exists - no need to re-run ;)\n",
      "T163_2018_11_27_Notebook_4_d: This session already exists - no need to re-run ;)\n",
      "T163_2018_11_27_Notebook_5_a_seq0a1b2b3b4abcd5a: This session already exists - no need to re-run ;)\n",
      "2018_11_27__T163_T163-144959\n",
      "Notebook_6_b.ipynb is being executed\n"
     ]
    },
    {
     "data": {
      "application/vnd.jupyter.widget-view+json": {
       "model_id": "6e80a660b1a54137b20149074ce4a9a6",
       "version_major": 2,
       "version_minor": 0
      },
      "text/plain": [
       "HBox(children=(FloatProgress(value=0.0, description='Executing', max=12.0, style=ProgressStyle(description_wid…"
      ]
     },
     "metadata": {},
     "output_type": "display_data"
    },
    {
     "name": "stdout",
     "output_type": "stream",
     "text": [
      "\n",
      "2018_11_27__T163_T163-144959\n",
      "Notebook_7_a.ipynb is being executed\n"
     ]
    },
    {
     "data": {
      "application/vnd.jupyter.widget-view+json": {
       "model_id": "95ef284a0b50414cbd696d9683d946fd",
       "version_major": 2,
       "version_minor": 0
      },
      "text/plain": [
       "HBox(children=(FloatProgress(value=0.0, description='Executing', max=6.0, style=ProgressStyle(description_widt…"
      ]
     },
     "metadata": {},
     "output_type": "display_data"
    },
    {
     "name": "stdout",
     "output_type": "stream",
     "text": [
      "\n",
      "T163_2018_11_28_Notebook_0_a: This session already exists - no need to re-run ;)\n",
      "T163_2018_11_28_Notebook_1_b: This session already exists - no need to re-run ;)\n",
      "T163_2018_11_28_Notebook_2_b: This session already exists - no need to re-run ;)\n",
      "T163_2018_11_28_Notebook_3_b_seq2b3b: This session already exists - no need to re-run ;)\n",
      "T163_2018_11_28_Notebook_4_a: This session already exists - no need to re-run ;)\n",
      "T163_2018_11_28_Notebook_4_b: This session already exists - no need to re-run ;)\n",
      "T163_2018_11_28_Notebook_4_c: This session already exists - no need to re-run ;)\n",
      "T163_2018_11_28_Notebook_4_d: This session already exists - no need to re-run ;)\n",
      "T163_2018_11_28_Notebook_5_a_seq0a1b2b3b4abcd5a: This session already exists - no need to re-run ;)\n",
      "2018_11_28__T163_T163-115220\n",
      "Notebook_6_b.ipynb is being executed\n"
     ]
    },
    {
     "data": {
      "application/vnd.jupyter.widget-view+json": {
       "model_id": "f88a9ce562ed4e6ca2eb4fe69ba7ce04",
       "version_major": 2,
       "version_minor": 0
      },
      "text/plain": [
       "HBox(children=(FloatProgress(value=0.0, description='Executing', max=12.0, style=ProgressStyle(description_wid…"
      ]
     },
     "metadata": {},
     "output_type": "display_data"
    },
    {
     "name": "stdout",
     "output_type": "stream",
     "text": [
      "\n",
      "2018_11_28__T163_T163-115220\n",
      "Notebook_7_a.ipynb is being executed\n"
     ]
    },
    {
     "data": {
      "application/vnd.jupyter.widget-view+json": {
       "model_id": "b1b5e311003a4eaeab9ed0fdc42f6454",
       "version_major": 2,
       "version_minor": 0
      },
      "text/plain": [
       "HBox(children=(FloatProgress(value=0.0, description='Executing', max=6.0, style=ProgressStyle(description_widt…"
      ]
     },
     "metadata": {},
     "output_type": "display_data"
    },
    {
     "name": "stdout",
     "output_type": "stream",
     "text": [
      "\n",
      "T163_2018_11_30_Notebook_0_a: This session already exists - no need to re-run ;)\n",
      "T163_2018_11_30_Notebook_1_b: This session already exists - no need to re-run ;)\n",
      "T163_2018_11_30_Notebook_2_b: This session already exists - no need to re-run ;)\n",
      "T163_2018_11_30_Notebook_3_b_seq2b3b: This session already exists - no need to re-run ;)\n",
      "T163_2018_11_30_Notebook_4_a: This session already exists - no need to re-run ;)\n",
      "T163_2018_11_30_Notebook_4_b: This session already exists - no need to re-run ;)\n",
      "T163_2018_11_30_Notebook_4_c: This session already exists - no need to re-run ;)\n",
      "T163_2018_11_30_Notebook_4_d: This session already exists - no need to re-run ;)\n",
      "T163_2018_11_30_Notebook_5_a_seq0a1b2b3b4abcd5a: This session already exists - no need to re-run ;)\n",
      "2018_11_30__T163_T163-133215\n",
      "Notebook_6_b.ipynb is being executed\n"
     ]
    },
    {
     "data": {
      "application/vnd.jupyter.widget-view+json": {
       "model_id": "fe57ebad958d4bed878fc14a363a1e38",
       "version_major": 2,
       "version_minor": 0
      },
      "text/plain": [
       "HBox(children=(FloatProgress(value=0.0, description='Executing', max=12.0, style=ProgressStyle(description_wid…"
      ]
     },
     "metadata": {},
     "output_type": "display_data"
    },
    {
     "name": "stdout",
     "output_type": "stream",
     "text": [
      "\n",
      "2018_11_30__T163_T163-133215\n",
      "Notebook_7_a.ipynb is being executed\n"
     ]
    },
    {
     "data": {
      "application/vnd.jupyter.widget-view+json": {
       "model_id": "2fe2587fdd864f0ead9c6f43aa870a37",
       "version_major": 2,
       "version_minor": 0
      },
      "text/plain": [
       "HBox(children=(FloatProgress(value=0.0, description='Executing', max=6.0, style=ProgressStyle(description_widt…"
      ]
     },
     "metadata": {},
     "output_type": "display_data"
    },
    {
     "name": "stdout",
     "output_type": "stream",
     "text": [
      "\n",
      "T163_2018_12_03_Notebook_0_a: This session already exists - no need to re-run ;)\n",
      "T163_2018_12_03_Notebook_1_b: This session already exists - no need to re-run ;)\n",
      "T163_2018_12_03_Notebook_2_b: This session already exists - no need to re-run ;)\n",
      "T163_2018_12_03_Notebook_3_b_seq2b3b: This session already exists - no need to re-run ;)\n",
      "T163_2018_12_03_Notebook_4_a: This session already exists - no need to re-run ;)\n",
      "T163_2018_12_03_Notebook_4_b: This session already exists - no need to re-run ;)\n",
      "T163_2018_12_03_Notebook_4_c: This session already exists - no need to re-run ;)\n",
      "T163_2018_12_03_Notebook_4_d: This session already exists - no need to re-run ;)\n",
      "T163_2018_12_03_Notebook_5_a_seq0a1b2b3b4abcd5a: This session already exists - no need to re-run ;)\n",
      "2018_12_03__T163_T163-115901\n",
      "Notebook_6_b.ipynb is being executed\n"
     ]
    },
    {
     "data": {
      "application/vnd.jupyter.widget-view+json": {
       "model_id": "5aa91891686a4ca1890443c919b29888",
       "version_major": 2,
       "version_minor": 0
      },
      "text/plain": [
       "HBox(children=(FloatProgress(value=0.0, description='Executing', max=12.0, style=ProgressStyle(description_wid…"
      ]
     },
     "metadata": {},
     "output_type": "display_data"
    },
    {
     "name": "stdout",
     "output_type": "stream",
     "text": [
      "\n",
      "2018_12_03__T163_T163-115901\n",
      "Notebook_7_a.ipynb is being executed\n"
     ]
    },
    {
     "data": {
      "application/vnd.jupyter.widget-view+json": {
       "model_id": "5904a5b99693428d9821e08604a950d3",
       "version_major": 2,
       "version_minor": 0
      },
      "text/plain": [
       "HBox(children=(FloatProgress(value=0.0, description='Executing', max=6.0, style=ProgressStyle(description_widt…"
      ]
     },
     "metadata": {},
     "output_type": "display_data"
    },
    {
     "name": "stdout",
     "output_type": "stream",
     "text": [
      "\n",
      "T163_2018_12_04_Notebook_0_a: This session already exists - no need to re-run ;)\n",
      "T163_2018_12_04_Notebook_1_b: This session already exists - no need to re-run ;)\n",
      "T163_2018_12_04_Notebook_2_b: This session already exists - no need to re-run ;)\n",
      "T163_2018_12_04_Notebook_3_b_seq2b3b: This session already exists - no need to re-run ;)\n",
      "T163_2018_12_04_Notebook_4_a: This session already exists - no need to re-run ;)\n",
      "T163_2018_12_04_Notebook_4_b: This session already exists - no need to re-run ;)\n",
      "T163_2018_12_04_Notebook_4_c: This session already exists - no need to re-run ;)\n",
      "T163_2018_12_04_Notebook_4_d: This session already exists - no need to re-run ;)\n",
      "T163_2018_12_04_Notebook_5_a_seq0a1b2b3b4abcd5a: This session already exists - no need to re-run ;)\n",
      "2018_12_04__T163_T163-114628\n",
      "Notebook_6_b.ipynb is being executed\n"
     ]
    },
    {
     "data": {
      "application/vnd.jupyter.widget-view+json": {
       "model_id": "2690c69353e94cd09555110e34538b07",
       "version_major": 2,
       "version_minor": 0
      },
      "text/plain": [
       "HBox(children=(FloatProgress(value=0.0, description='Executing', max=12.0, style=ProgressStyle(description_wid…"
      ]
     },
     "metadata": {},
     "output_type": "display_data"
    },
    {
     "name": "stdout",
     "output_type": "stream",
     "text": [
      "\n",
      "2018_12_04__T163_T163-114628\n",
      "Notebook_7_a.ipynb is being executed\n"
     ]
    },
    {
     "data": {
      "application/vnd.jupyter.widget-view+json": {
       "model_id": "8aae18d553304b0daf1918f330c88556",
       "version_major": 2,
       "version_minor": 0
      },
      "text/plain": [
       "HBox(children=(FloatProgress(value=0.0, description='Executing', max=6.0, style=ProgressStyle(description_widt…"
      ]
     },
     "metadata": {},
     "output_type": "display_data"
    },
    {
     "name": "stdout",
     "output_type": "stream",
     "text": [
      "\n",
      "T163_2018_12_06_Notebook_0_a: This session already exists - no need to re-run ;)\n",
      "T163_2018_12_06_Notebook_1_b: This session already exists - no need to re-run ;)\n",
      "T163_2018_12_06_Notebook_2_b: This session already exists - no need to re-run ;)\n",
      "T163_2018_12_06_Notebook_3_b_seq2b3b: This session already exists - no need to re-run ;)\n",
      "T163_2018_12_06_Notebook_4_a: This session already exists - no need to re-run ;)\n",
      "T163_2018_12_06_Notebook_4_b: This session already exists - no need to re-run ;)\n",
      "T163_2018_12_06_Notebook_4_c: This session already exists - no need to re-run ;)\n",
      "T163_2018_12_06_Notebook_4_d: This session already exists - no need to re-run ;)\n",
      "T163_2018_12_06_Notebook_5_a_seq0a1b2b3b4abcd5a: This session already exists - no need to re-run ;)\n",
      "2018_12_06__T163_T163-112720\n",
      "Notebook_6_b.ipynb is being executed\n"
     ]
    },
    {
     "data": {
      "application/vnd.jupyter.widget-view+json": {
       "model_id": "92762c95cddb4c18a9e332243ff384ee",
       "version_major": 2,
       "version_minor": 0
      },
      "text/plain": [
       "HBox(children=(FloatProgress(value=0.0, description='Executing', max=12.0, style=ProgressStyle(description_wid…"
      ]
     },
     "metadata": {},
     "output_type": "display_data"
    },
    {
     "name": "stdout",
     "output_type": "stream",
     "text": [
      "\n",
      "2018_12_06__T163_T163-112720\n",
      "Notebook_7_a.ipynb is being executed\n"
     ]
    },
    {
     "data": {
      "application/vnd.jupyter.widget-view+json": {
       "model_id": "3ca5e6d3129241f195ad27d516578130",
       "version_major": 2,
       "version_minor": 0
      },
      "text/plain": [
       "HBox(children=(FloatProgress(value=0.0, description='Executing', max=6.0, style=ProgressStyle(description_widt…"
      ]
     },
     "metadata": {},
     "output_type": "display_data"
    },
    {
     "name": "stdout",
     "output_type": "stream",
     "text": [
      "\n",
      "T163_2018_12_07_Notebook_0_a: This session already exists - no need to re-run ;)\n",
      "T163_2018_12_07_Notebook_1_b: This session already exists - no need to re-run ;)\n",
      "T163_2018_12_07_Notebook_2_b: This session already exists - no need to re-run ;)\n",
      "T163_2018_12_07_Notebook_3_b_seq2b3b: This session already exists - no need to re-run ;)\n",
      "T163_2018_12_07_Notebook_4_a: This session already exists - no need to re-run ;)\n",
      "T163_2018_12_07_Notebook_4_b: This session already exists - no need to re-run ;)\n",
      "T163_2018_12_07_Notebook_4_c: This session already exists - no need to re-run ;)\n",
      "T163_2018_12_07_Notebook_4_d: This session already exists - no need to re-run ;)\n",
      "T163_2018_12_07_Notebook_5_a_seq0a1b2b3b4abcd5a: This session already exists - no need to re-run ;)\n",
      "2018_12_07__T163_T163-123432\n",
      "Notebook_6_b.ipynb is being executed\n"
     ]
    },
    {
     "data": {
      "application/vnd.jupyter.widget-view+json": {
       "model_id": "ad0ed73d1c264a5a9e45719d6e290086",
       "version_major": 2,
       "version_minor": 0
      },
      "text/plain": [
       "HBox(children=(FloatProgress(value=0.0, description='Executing', max=12.0, style=ProgressStyle(description_wid…"
      ]
     },
     "metadata": {},
     "output_type": "display_data"
    },
    {
     "name": "stdout",
     "output_type": "stream",
     "text": [
      "\n",
      "2018_12_07__T163_T163-123432\n",
      "Notebook_7_a.ipynb is being executed\n"
     ]
    },
    {
     "data": {
      "application/vnd.jupyter.widget-view+json": {
       "model_id": "4bc2c2dd8295485dbf00c75285e3af3d",
       "version_major": 2,
       "version_minor": 0
      },
      "text/plain": [
       "HBox(children=(FloatProgress(value=0.0, description='Executing', max=6.0, style=ProgressStyle(description_widt…"
      ]
     },
     "metadata": {},
     "output_type": "display_data"
    },
    {
     "name": "stdout",
     "output_type": "stream",
     "text": [
      "\n",
      "T163_2018_12_10_Notebook_0_a: This session already exists - no need to re-run ;)\n",
      "T163_2018_12_10_Notebook_1_b: This session already exists - no need to re-run ;)\n",
      "T163_2018_12_10_Notebook_2_b: This session already exists - no need to re-run ;)\n",
      "T163_2018_12_10_Notebook_3_b_seq2b3b: This session already exists - no need to re-run ;)\n",
      "T163_2018_12_10_Notebook_4_a: This session already exists - no need to re-run ;)\n",
      "T163_2018_12_10_Notebook_4_b: This session already exists - no need to re-run ;)\n",
      "T163_2018_12_10_Notebook_4_c: This session already exists - no need to re-run ;)\n",
      "T163_2018_12_10_Notebook_4_d: This session already exists - no need to re-run ;)\n",
      "T163_2018_12_10_Notebook_5_a_seq0a1b2b3b4abcd5a: This session already exists - no need to re-run ;)\n",
      "2018_12_10__T163_T163-102536\n",
      "Notebook_6_b.ipynb is being executed\n"
     ]
    },
    {
     "data": {
      "application/vnd.jupyter.widget-view+json": {
       "model_id": "cbd11a3632a641b89ef5dab4f766111a",
       "version_major": 2,
       "version_minor": 0
      },
      "text/plain": [
       "HBox(children=(FloatProgress(value=0.0, description='Executing', max=12.0, style=ProgressStyle(description_wid…"
      ]
     },
     "metadata": {},
     "output_type": "display_data"
    },
    {
     "name": "stdout",
     "output_type": "stream",
     "text": [
      "\n",
      "2018_12_10__T163_T163-102536\n",
      "Notebook_7_a.ipynb is being executed\n"
     ]
    },
    {
     "data": {
      "application/vnd.jupyter.widget-view+json": {
       "model_id": "91a50fd282ff4edd93d69c3a341db033",
       "version_major": 2,
       "version_minor": 0
      },
      "text/plain": [
       "HBox(children=(FloatProgress(value=0.0, description='Executing', max=6.0, style=ProgressStyle(description_widt…"
      ]
     },
     "metadata": {},
     "output_type": "display_data"
    },
    {
     "name": "stdout",
     "output_type": "stream",
     "text": [
      "\n",
      "T163_2018_12_11_Notebook_0_a: This session already exists - no need to re-run ;)\n",
      "T163_2018_12_11_Notebook_1_b: This session already exists - no need to re-run ;)\n",
      "T163_2018_12_11_Notebook_2_b: This session already exists - no need to re-run ;)\n",
      "T163_2018_12_11_Notebook_3_b_seq2b3b: This session already exists - no need to re-run ;)\n",
      "T163_2018_12_11_Notebook_4_a: This session already exists - no need to re-run ;)\n",
      "T163_2018_12_11_Notebook_4_b: This session already exists - no need to re-run ;)\n",
      "T163_2018_12_11_Notebook_4_c: This session already exists - no need to re-run ;)\n",
      "T163_2018_12_11_Notebook_4_d: This session already exists - no need to re-run ;)\n",
      "T163_2018_12_11_Notebook_5_a_seq0a1b2b3b4abcd5a: This session already exists - no need to re-run ;)\n",
      "2018_12_11__T163_T163-104921\n",
      "Notebook_6_b.ipynb is being executed\n"
     ]
    },
    {
     "data": {
      "application/vnd.jupyter.widget-view+json": {
       "model_id": "12cf7cb9fae74f18b3049663922a8343",
       "version_major": 2,
       "version_minor": 0
      },
      "text/plain": [
       "HBox(children=(FloatProgress(value=0.0, description='Executing', max=12.0, style=ProgressStyle(description_wid…"
      ]
     },
     "metadata": {},
     "output_type": "display_data"
    },
    {
     "name": "stdout",
     "output_type": "stream",
     "text": [
      "\n",
      "2018_12_11__T163_T163-104921\n",
      "Notebook_7_a.ipynb is being executed\n"
     ]
    },
    {
     "data": {
      "application/vnd.jupyter.widget-view+json": {
       "model_id": "71c597f2d2f844eeb7bd319fe4d233bd",
       "version_major": 2,
       "version_minor": 0
      },
      "text/plain": [
       "HBox(children=(FloatProgress(value=0.0, description='Executing', max=6.0, style=ProgressStyle(description_widt…"
      ]
     },
     "metadata": {},
     "output_type": "display_data"
    },
    {
     "name": "stdout",
     "output_type": "stream",
     "text": [
      "\n",
      "T163_2018_12_13_Notebook_0_a: This session already exists - no need to re-run ;)\n",
      "T163_2018_12_13_Notebook_1_b: This session already exists - no need to re-run ;)\n",
      "T163_2018_12_13_Notebook_2_b: This session already exists - no need to re-run ;)\n",
      "T163_2018_12_13_Notebook_3_b_seq2b3b: This session already exists - no need to re-run ;)\n",
      "T163_2018_12_13_Notebook_4_a: This session already exists - no need to re-run ;)\n",
      "T163_2018_12_13_Notebook_4_b: This session already exists - no need to re-run ;)\n",
      "T163_2018_12_13_Notebook_4_c: This session already exists - no need to re-run ;)\n",
      "T163_2018_12_13_Notebook_4_d: This session already exists - no need to re-run ;)\n",
      "T163_2018_12_13_Notebook_5_a_seq0a1b2b3b4abcd5a: This session already exists - no need to re-run ;)\n",
      "2018_12_13__T163_T163-094646\n",
      "Notebook_6_b.ipynb is being executed\n"
     ]
    },
    {
     "data": {
      "application/vnd.jupyter.widget-view+json": {
       "model_id": "57efabfb8b8b47789e236722b3f4b8a3",
       "version_major": 2,
       "version_minor": 0
      },
      "text/plain": [
       "HBox(children=(FloatProgress(value=0.0, description='Executing', max=12.0, style=ProgressStyle(description_wid…"
      ]
     },
     "metadata": {},
     "output_type": "display_data"
    },
    {
     "name": "stdout",
     "output_type": "stream",
     "text": [
      "\n",
      "2018_12_13__T163_T163-094646\n",
      "Notebook_7_a.ipynb is being executed\n"
     ]
    },
    {
     "data": {
      "application/vnd.jupyter.widget-view+json": {
       "model_id": "4447afb3cd8149b5943f221fda9877ca",
       "version_major": 2,
       "version_minor": 0
      },
      "text/plain": [
       "HBox(children=(FloatProgress(value=0.0, description='Executing', max=6.0, style=ProgressStyle(description_widt…"
      ]
     },
     "metadata": {},
     "output_type": "display_data"
    },
    {
     "name": "stdout",
     "output_type": "stream",
     "text": [
      "\n",
      "T164_2018_11_27_Notebook_0_a: This session already exists - no need to re-run ;)\n",
      "T164_2018_11_27_Notebook_1_b: This session already exists - no need to re-run ;)\n",
      "T164_2018_11_27_Notebook_2_b: This session already exists - no need to re-run ;)\n",
      "T164_2018_11_27_Notebook_3_b_seq2b3b: This session already exists - no need to re-run ;)\n",
      "T164_2018_11_27_Notebook_4_a: This session already exists - no need to re-run ;)\n",
      "T164_2018_11_27_Notebook_4_b: This session already exists - no need to re-run ;)\n",
      "T164_2018_11_27_Notebook_4_c: This session already exists - no need to re-run ;)\n",
      "T164_2018_11_27_Notebook_4_d: This session already exists - no need to re-run ;)\n",
      "T164_2018_11_27_Notebook_5_a_seq0a1b2b3b4abcd5a: This session already exists - no need to re-run ;)\n",
      "2018_11_27__T164_T164-153101\n",
      "Notebook_6_b.ipynb is being executed\n"
     ]
    },
    {
     "data": {
      "application/vnd.jupyter.widget-view+json": {
       "model_id": "86539c4c64c04cbf8bb055dd82b64ffa",
       "version_major": 2,
       "version_minor": 0
      },
      "text/plain": [
       "HBox(children=(FloatProgress(value=0.0, description='Executing', max=12.0, style=ProgressStyle(description_wid…"
      ]
     },
     "metadata": {},
     "output_type": "display_data"
    },
    {
     "name": "stdout",
     "output_type": "stream",
     "text": [
      "\n",
      "2018_11_27__T164_T164-153101\n",
      "Notebook_7_a.ipynb is being executed\n"
     ]
    },
    {
     "data": {
      "application/vnd.jupyter.widget-view+json": {
       "model_id": "115dfc6aa93a4ecdafe8fa978ca1f8ed",
       "version_major": 2,
       "version_minor": 0
      },
      "text/plain": [
       "HBox(children=(FloatProgress(value=0.0, description='Executing', max=6.0, style=ProgressStyle(description_widt…"
      ]
     },
     "metadata": {},
     "output_type": "display_data"
    },
    {
     "name": "stdout",
     "output_type": "stream",
     "text": [
      "\n",
      "T164_2018_11_28_Notebook_0_a: This session already exists - no need to re-run ;)\n",
      "T164_2018_11_28_Notebook_1_b: This session already exists - no need to re-run ;)\n",
      "T164_2018_11_28_Notebook_2_b: This session already exists - no need to re-run ;)\n",
      "T164_2018_11_28_Notebook_3_b_seq2b3b: This session already exists - no need to re-run ;)\n",
      "T164_2018_11_28_Notebook_4_a: This session already exists - no need to re-run ;)\n",
      "T164_2018_11_28_Notebook_4_b: This session already exists - no need to re-run ;)\n",
      "T164_2018_11_28_Notebook_4_c: This session already exists - no need to re-run ;)\n",
      "T164_2018_11_28_Notebook_4_d: This session already exists - no need to re-run ;)\n",
      "T164_2018_11_28_Notebook_5_a_seq0a1b2b3b4abcd5a: This session already exists - no need to re-run ;)\n",
      "2018_11_28__T164_T164-122054\n",
      "Notebook_6_b.ipynb is being executed\n"
     ]
    },
    {
     "data": {
      "application/vnd.jupyter.widget-view+json": {
       "model_id": "be23174e89604f5fbeb85d82f3977208",
       "version_major": 2,
       "version_minor": 0
      },
      "text/plain": [
       "HBox(children=(FloatProgress(value=0.0, description='Executing', max=12.0, style=ProgressStyle(description_wid…"
      ]
     },
     "metadata": {},
     "output_type": "display_data"
    },
    {
     "name": "stdout",
     "output_type": "stream",
     "text": [
      "\n",
      "2018_11_28__T164_T164-122054\n",
      "Notebook_7_a.ipynb is being executed\n"
     ]
    },
    {
     "data": {
      "application/vnd.jupyter.widget-view+json": {
       "model_id": "4a315bfc313d4e6b8f15f3b92f296f7b",
       "version_major": 2,
       "version_minor": 0
      },
      "text/plain": [
       "HBox(children=(FloatProgress(value=0.0, description='Executing', max=6.0, style=ProgressStyle(description_widt…"
      ]
     },
     "metadata": {},
     "output_type": "display_data"
    },
    {
     "name": "stdout",
     "output_type": "stream",
     "text": [
      "\n",
      "T164_2018_11_29_Notebook_0_a: This session already exists - no need to re-run ;)\n",
      "T164_2018_11_29_Notebook_1_b: This session already exists - no need to re-run ;)\n",
      "T164_2018_11_29_Notebook_2_b: This session already exists - no need to re-run ;)\n",
      "T164_2018_11_29_Notebook_3_b_seq2b3b: This session already exists - no need to re-run ;)\n",
      "T164_2018_11_29_Notebook_4_a: This session already exists - no need to re-run ;)\n",
      "T164_2018_11_29_Notebook_4_b: This session already exists - no need to re-run ;)\n",
      "T164_2018_11_29_Notebook_4_c: This session already exists - no need to re-run ;)\n",
      "T164_2018_11_29_Notebook_4_d: This session already exists - no need to re-run ;)\n",
      "T164_2018_11_29_Notebook_5_a_seq0a1b2b3b4abcd5a: This session already exists - no need to re-run ;)\n",
      "2018_11_29__T164_T164-122229\n",
      "Notebook_6_b.ipynb is being executed\n"
     ]
    },
    {
     "data": {
      "application/vnd.jupyter.widget-view+json": {
       "model_id": "2f236db5214b438aba71b2ca3c9ce743",
       "version_major": 2,
       "version_minor": 0
      },
      "text/plain": [
       "HBox(children=(FloatProgress(value=0.0, description='Executing', max=12.0, style=ProgressStyle(description_wid…"
      ]
     },
     "metadata": {},
     "output_type": "display_data"
    },
    {
     "name": "stdout",
     "output_type": "stream",
     "text": [
      "\n",
      "2018_11_29__T164_T164-122229\n",
      "Notebook_7_a.ipynb is being executed\n"
     ]
    },
    {
     "data": {
      "application/vnd.jupyter.widget-view+json": {
       "model_id": "ff1ebfca716f41f8a177b0e4aee825f2",
       "version_major": 2,
       "version_minor": 0
      },
      "text/plain": [
       "HBox(children=(FloatProgress(value=0.0, description='Executing', max=6.0, style=ProgressStyle(description_widt…"
      ]
     },
     "metadata": {},
     "output_type": "display_data"
    },
    {
     "name": "stdout",
     "output_type": "stream",
     "text": [
      "\n",
      "T164_2018_12_03_Notebook_0_a: This session already exists - no need to re-run ;)\n",
      "T164_2018_12_03_Notebook_1_b: This session already exists - no need to re-run ;)\n",
      "T164_2018_12_03_Notebook_2_b: This session already exists - no need to re-run ;)\n",
      "T164_2018_12_03_Notebook_3_b_seq2b3b: This session already exists - no need to re-run ;)\n",
      "T164_2018_12_03_Notebook_4_a: This session already exists - no need to re-run ;)\n",
      "T164_2018_12_03_Notebook_4_b: This session already exists - no need to re-run ;)\n",
      "T164_2018_12_03_Notebook_4_c: This session already exists - no need to re-run ;)\n",
      "T164_2018_12_03_Notebook_4_d: This session already exists - no need to re-run ;)\n",
      "T164_2018_12_03_Notebook_5_a_seq0a1b2b3b4abcd5a: This session already exists - no need to re-run ;)\n",
      "2018_12_03__T164_T164-122950\n",
      "Notebook_6_b.ipynb is being executed\n"
     ]
    },
    {
     "data": {
      "application/vnd.jupyter.widget-view+json": {
       "model_id": "5728644454ad44a38b81ffba649dda9d",
       "version_major": 2,
       "version_minor": 0
      },
      "text/plain": [
       "HBox(children=(FloatProgress(value=0.0, description='Executing', max=12.0, style=ProgressStyle(description_wid…"
      ]
     },
     "metadata": {},
     "output_type": "display_data"
    },
    {
     "name": "stdout",
     "output_type": "stream",
     "text": [
      "\n",
      "2018_12_03__T164_T164-122950\n",
      "Notebook_7_a.ipynb is being executed\n"
     ]
    },
    {
     "data": {
      "application/vnd.jupyter.widget-view+json": {
       "model_id": "c9322d4093ae415f9237ff6d794448ef",
       "version_major": 2,
       "version_minor": 0
      },
      "text/plain": [
       "HBox(children=(FloatProgress(value=0.0, description='Executing', max=6.0, style=ProgressStyle(description_widt…"
      ]
     },
     "metadata": {},
     "output_type": "display_data"
    },
    {
     "name": "stdout",
     "output_type": "stream",
     "text": [
      "\n",
      "T164_2018_12_04_Notebook_0_a: This session already exists - no need to re-run ;)\n",
      "T164_2018_12_04_Notebook_1_b: This session already exists - no need to re-run ;)\n",
      "T164_2018_12_04_Notebook_2_b: This session already exists - no need to re-run ;)\n",
      "T164_2018_12_04_Notebook_3_b_seq2b3b: This session already exists - no need to re-run ;)\n",
      "T164_2018_12_04_Notebook_4_a: This session already exists - no need to re-run ;)\n",
      "T164_2018_12_04_Notebook_4_b: This session already exists - no need to re-run ;)\n",
      "T164_2018_12_04_Notebook_4_c: This session already exists - no need to re-run ;)\n",
      "T164_2018_12_04_Notebook_4_d: This session already exists - no need to re-run ;)\n",
      "T164_2018_12_04_Notebook_5_a_seq0a1b2b3b4abcd5a: This session already exists - no need to re-run ;)\n",
      "2018_12_04__T164_T164-121548\n",
      "Notebook_6_b.ipynb is being executed\n"
     ]
    },
    {
     "data": {
      "application/vnd.jupyter.widget-view+json": {
       "model_id": "f3e148ff7e9349b39dc7e88b376a7345",
       "version_major": 2,
       "version_minor": 0
      },
      "text/plain": [
       "HBox(children=(FloatProgress(value=0.0, description='Executing', max=12.0, style=ProgressStyle(description_wid…"
      ]
     },
     "metadata": {},
     "output_type": "display_data"
    },
    {
     "name": "stdout",
     "output_type": "stream",
     "text": [
      "\n",
      "2018_12_04__T164_T164-121548\n",
      "Notebook_7_a.ipynb is being executed\n"
     ]
    },
    {
     "data": {
      "application/vnd.jupyter.widget-view+json": {
       "model_id": "72a2624150ca465a859e3609ffb4a1ce",
       "version_major": 2,
       "version_minor": 0
      },
      "text/plain": [
       "HBox(children=(FloatProgress(value=0.0, description='Executing', max=6.0, style=ProgressStyle(description_widt…"
      ]
     },
     "metadata": {},
     "output_type": "display_data"
    },
    {
     "name": "stdout",
     "output_type": "stream",
     "text": [
      "\n",
      "T164_2018_12_05_Notebook_0_a: This session already exists - no need to re-run ;)\n",
      "T164_2018_12_05_Notebook_1_b: This session already exists - no need to re-run ;)\n",
      "T164_2018_12_05_Notebook_2_b: This session already exists - no need to re-run ;)\n",
      "T164_2018_12_05_Notebook_3_b_seq2b3b: This session already exists - no need to re-run ;)\n",
      "T164_2018_12_05_Notebook_4_a: This session already exists - no need to re-run ;)\n",
      "T164_2018_12_05_Notebook_4_b: This session already exists - no need to re-run ;)\n",
      "T164_2018_12_05_Notebook_4_c: This session already exists - no need to re-run ;)\n",
      "T164_2018_12_05_Notebook_4_d: This session already exists - no need to re-run ;)\n",
      "T164_2018_12_05_Notebook_5_a_seq0a1b2b3b4abcd5a: This session already exists - no need to re-run ;)\n",
      "2018_12_05__T164_T164-123550\n",
      "Notebook_6_b.ipynb is being executed\n"
     ]
    },
    {
     "data": {
      "application/vnd.jupyter.widget-view+json": {
       "model_id": "2ae97ebef7e6463b96461e23d8a01961",
       "version_major": 2,
       "version_minor": 0
      },
      "text/plain": [
       "HBox(children=(FloatProgress(value=0.0, description='Executing', max=12.0, style=ProgressStyle(description_wid…"
      ]
     },
     "metadata": {},
     "output_type": "display_data"
    },
    {
     "name": "stdout",
     "output_type": "stream",
     "text": [
      "\n",
      "2018_12_05__T164_T164-123550\n",
      "Notebook_7_a.ipynb is being executed\n"
     ]
    },
    {
     "data": {
      "application/vnd.jupyter.widget-view+json": {
       "model_id": "0115d6ad1ab94216aed7703ee0e210e5",
       "version_major": 2,
       "version_minor": 0
      },
      "text/plain": [
       "HBox(children=(FloatProgress(value=0.0, description='Executing', max=6.0, style=ProgressStyle(description_widt…"
      ]
     },
     "metadata": {},
     "output_type": "display_data"
    },
    {
     "name": "stdout",
     "output_type": "stream",
     "text": [
      "\n",
      "T164_2018_12_06_Notebook_0_a: This session already exists - no need to re-run ;)\n",
      "T164_2018_12_06_Notebook_1_b: This session already exists - no need to re-run ;)\n",
      "T164_2018_12_06_Notebook_2_b: This session already exists - no need to re-run ;)\n",
      "T164_2018_12_06_Notebook_3_b_seq2b3b: This session already exists - no need to re-run ;)\n",
      "T164_2018_12_06_Notebook_4_a: This session already exists - no need to re-run ;)\n",
      "T164_2018_12_06_Notebook_4_b: This session already exists - no need to re-run ;)\n",
      "T164_2018_12_06_Notebook_4_c: This session already exists - no need to re-run ;)\n",
      "T164_2018_12_06_Notebook_4_d: This session already exists - no need to re-run ;)\n",
      "T164_2018_12_06_Notebook_5_a_seq0a1b2b3b4abcd5a: This session already exists - no need to re-run ;)\n",
      "2018_12_06__T164_T164-115836\n",
      "Notebook_6_b.ipynb is being executed\n"
     ]
    },
    {
     "data": {
      "application/vnd.jupyter.widget-view+json": {
       "model_id": "d46c9cdc642a4d9da362e05466d84ca8",
       "version_major": 2,
       "version_minor": 0
      },
      "text/plain": [
       "HBox(children=(FloatProgress(value=0.0, description='Executing', max=12.0, style=ProgressStyle(description_wid…"
      ]
     },
     "metadata": {},
     "output_type": "display_data"
    },
    {
     "name": "stdout",
     "output_type": "stream",
     "text": [
      "\n",
      "2018_12_06__T164_T164-115836\n",
      "Notebook_7_a.ipynb is being executed\n"
     ]
    },
    {
     "data": {
      "application/vnd.jupyter.widget-view+json": {
       "model_id": "8d4dd6dc62f64d498f0ea05ac2c674f7",
       "version_major": 2,
       "version_minor": 0
      },
      "text/plain": [
       "HBox(children=(FloatProgress(value=0.0, description='Executing', max=6.0, style=ProgressStyle(description_widt…"
      ]
     },
     "metadata": {},
     "output_type": "display_data"
    },
    {
     "name": "stdout",
     "output_type": "stream",
     "text": [
      "\n",
      "T164_2018_12_07_Notebook_0_a: This session already exists - no need to re-run ;)\n",
      "T164_2018_12_07_Notebook_1_b: This session already exists - no need to re-run ;)\n",
      "T164_2018_12_07_Notebook_2_b: This session already exists - no need to re-run ;)\n",
      "T164_2018_12_07_Notebook_3_b_seq2b3b: This session already exists - no need to re-run ;)\n",
      "T164_2018_12_07_Notebook_4_a: This session already exists - no need to re-run ;)\n",
      "T164_2018_12_07_Notebook_4_b: This session already exists - no need to re-run ;)\n",
      "T164_2018_12_07_Notebook_4_c: This session already exists - no need to re-run ;)\n",
      "T164_2018_12_07_Notebook_4_d: This session already exists - no need to re-run ;)\n",
      "T164_2018_12_07_Notebook_5_a_seq0a1b2b3b4abcd5a: This session already exists - no need to re-run ;)\n",
      "2018_12_07__T164_T164-130858\n",
      "Notebook_6_b.ipynb is being executed\n"
     ]
    },
    {
     "data": {
      "application/vnd.jupyter.widget-view+json": {
       "model_id": "08ab25bd7cde49cca4e0432b72c8924a",
       "version_major": 2,
       "version_minor": 0
      },
      "text/plain": [
       "HBox(children=(FloatProgress(value=0.0, description='Executing', max=12.0, style=ProgressStyle(description_wid…"
      ]
     },
     "metadata": {},
     "output_type": "display_data"
    },
    {
     "name": "stdout",
     "output_type": "stream",
     "text": [
      "\n",
      "2018_12_07__T164_T164-130858\n",
      "Notebook_7_a.ipynb is being executed\n"
     ]
    },
    {
     "data": {
      "application/vnd.jupyter.widget-view+json": {
       "model_id": "8f78789d12724775a4c1aa9e75aa4f3f",
       "version_major": 2,
       "version_minor": 0
      },
      "text/plain": [
       "HBox(children=(FloatProgress(value=0.0, description='Executing', max=6.0, style=ProgressStyle(description_widt…"
      ]
     },
     "metadata": {},
     "output_type": "display_data"
    },
    {
     "name": "stdout",
     "output_type": "stream",
     "text": [
      "\n",
      "T164_2018_12_10_Notebook_0_a: This session already exists - no need to re-run ;)\n",
      "T164_2018_12_10_Notebook_1_b: This session already exists - no need to re-run ;)\n",
      "T164_2018_12_10_Notebook_2_b: This session already exists - no need to re-run ;)\n",
      "T164_2018_12_10_Notebook_3_b_seq2b3b: This session already exists - no need to re-run ;)\n",
      "T164_2018_12_10_Notebook_4_a: This session already exists - no need to re-run ;)\n",
      "T164_2018_12_10_Notebook_4_b: This session already exists - no need to re-run ;)\n",
      "T164_2018_12_10_Notebook_4_c: This session already exists - no need to re-run ;)\n",
      "T164_2018_12_10_Notebook_4_d: This session already exists - no need to re-run ;)\n",
      "T164_2018_12_10_Notebook_5_a_seq0a1b2b3b4abcd5a: This session already exists - no need to re-run ;)\n",
      "2018_12_10__T164_T164-105324\n",
      "Notebook_6_b.ipynb is being executed\n"
     ]
    },
    {
     "data": {
      "application/vnd.jupyter.widget-view+json": {
       "model_id": "b5660fa77f6a4f5a95faa71372137168",
       "version_major": 2,
       "version_minor": 0
      },
      "text/plain": [
       "HBox(children=(FloatProgress(value=0.0, description='Executing', max=12.0, style=ProgressStyle(description_wid…"
      ]
     },
     "metadata": {},
     "output_type": "display_data"
    },
    {
     "name": "stdout",
     "output_type": "stream",
     "text": [
      "\n",
      "2018_12_10__T164_T164-105324\n",
      "Notebook_7_a.ipynb is being executed\n"
     ]
    },
    {
     "data": {
      "application/vnd.jupyter.widget-view+json": {
       "model_id": "c9f65954c06f4fe59f894fad98ac1d85",
       "version_major": 2,
       "version_minor": 0
      },
      "text/plain": [
       "HBox(children=(FloatProgress(value=0.0, description='Executing', max=6.0, style=ProgressStyle(description_widt…"
      ]
     },
     "metadata": {},
     "output_type": "display_data"
    },
    {
     "name": "stdout",
     "output_type": "stream",
     "text": [
      "\n",
      "T164_2018_12_11_Notebook_0_a: This session already exists - no need to re-run ;)\n",
      "T164_2018_12_11_Notebook_1_b: This session already exists - no need to re-run ;)\n",
      "T164_2018_12_11_Notebook_2_b: This session already exists - no need to re-run ;)\n",
      "T164_2018_12_11_Notebook_3_b_seq2b3b: This session already exists - no need to re-run ;)\n",
      "T164_2018_12_11_Notebook_4_a: This session already exists - no need to re-run ;)\n",
      "T164_2018_12_11_Notebook_4_b: This session already exists - no need to re-run ;)\n",
      "T164_2018_12_11_Notebook_4_c: This session already exists - no need to re-run ;)\n",
      "T164_2018_12_11_Notebook_4_d: This session already exists - no need to re-run ;)\n",
      "T164_2018_12_11_Notebook_5_a_seq0a1b2b3b4abcd5a: This session already exists - no need to re-run ;)\n",
      "2018_12_11__T164_T164-112026\n",
      "Notebook_6_b.ipynb is being executed\n"
     ]
    },
    {
     "data": {
      "application/vnd.jupyter.widget-view+json": {
       "model_id": "25d481fa485e48cdb8ea0a1066fedd8a",
       "version_major": 2,
       "version_minor": 0
      },
      "text/plain": [
       "HBox(children=(FloatProgress(value=0.0, description='Executing', max=12.0, style=ProgressStyle(description_wid…"
      ]
     },
     "metadata": {},
     "output_type": "display_data"
    },
    {
     "name": "stdout",
     "output_type": "stream",
     "text": [
      "\n",
      "2018_12_11__T164_T164-112026\n",
      "Notebook_7_a.ipynb is being executed\n"
     ]
    },
    {
     "data": {
      "application/vnd.jupyter.widget-view+json": {
       "model_id": "03b11c9976064a279399cd2223945776",
       "version_major": 2,
       "version_minor": 0
      },
      "text/plain": [
       "HBox(children=(FloatProgress(value=0.0, description='Executing', max=6.0, style=ProgressStyle(description_widt…"
      ]
     },
     "metadata": {},
     "output_type": "display_data"
    },
    {
     "name": "stdout",
     "output_type": "stream",
     "text": [
      "\n",
      "T164_2018_12_13_Notebook_0_a: This session already exists - no need to re-run ;)\n",
      "T164_2018_12_13_Notebook_1_b: This session already exists - no need to re-run ;)\n",
      "T164_2018_12_13_Notebook_2_b: This session already exists - no need to re-run ;)\n",
      "T164_2018_12_13_Notebook_3_b_seq2b3b: This session already exists - no need to re-run ;)\n",
      "T164_2018_12_13_Notebook_4_a: This session already exists - no need to re-run ;)\n",
      "T164_2018_12_13_Notebook_4_b: This session already exists - no need to re-run ;)\n",
      "T164_2018_12_13_Notebook_4_c: This session already exists - no need to re-run ;)\n",
      "T164_2018_12_13_Notebook_4_d: This session already exists - no need to re-run ;)\n",
      "T164_2018_12_13_Notebook_5_a_seq0a1b2b3b4abcd5a: This session already exists - no need to re-run ;)\n",
      "2018_12_13__T164_T164-101804\n",
      "Notebook_6_b.ipynb is being executed\n"
     ]
    },
    {
     "data": {
      "application/vnd.jupyter.widget-view+json": {
       "model_id": "881515b09e6848a29c457b9408ab4bc0",
       "version_major": 2,
       "version_minor": 0
      },
      "text/plain": [
       "HBox(children=(FloatProgress(value=0.0, description='Executing', max=12.0, style=ProgressStyle(description_wid…"
      ]
     },
     "metadata": {},
     "output_type": "display_data"
    },
    {
     "name": "stdout",
     "output_type": "stream",
     "text": [
      "\n",
      "2018_12_13__T164_T164-101804\n",
      "Notebook_7_a.ipynb is being executed\n"
     ]
    },
    {
     "data": {
      "application/vnd.jupyter.widget-view+json": {
       "model_id": "61e13221ebf4436fa1229c492f6d8eb5",
       "version_major": 2,
       "version_minor": 0
      },
      "text/plain": [
       "HBox(children=(FloatProgress(value=0.0, description='Executing', max=6.0, style=ProgressStyle(description_widt…"
      ]
     },
     "metadata": {},
     "output_type": "display_data"
    },
    {
     "name": "stdout",
     "output_type": "stream",
     "text": [
      "\n",
      "T169_2019_01_23_Notebook_0_a: This session already exists - no need to re-run ;)\n",
      "T169_2019_01_23_Notebook_1_b: This session already exists - no need to re-run ;)\n",
      "T169_2019_01_23_Notebook_2_b: This session already exists - no need to re-run ;)\n",
      "T169_2019_01_23_Notebook_3_b_seq2b3b: This session already exists - no need to re-run ;)\n",
      "T169_2019_01_23_Notebook_4_a: This session already exists - no need to re-run ;)\n",
      "T169_2019_01_23_Notebook_4_b: This session already exists - no need to re-run ;)\n",
      "T169_2019_01_23_Notebook_4_c: This session already exists - no need to re-run ;)\n",
      "T169_2019_01_23_Notebook_4_d: This session already exists - no need to re-run ;)\n",
      "T169_2019_01_23_Notebook_5_a_seq0a1b2b3b4abcd5a: This session already exists - no need to re-run ;)\n",
      "2019_01_23__T169_T169-155842\n",
      "Notebook_6_b.ipynb is being executed\n"
     ]
    },
    {
     "data": {
      "application/vnd.jupyter.widget-view+json": {
       "model_id": "28b740ae32a143c2bb6c108ccf9f296d",
       "version_major": 2,
       "version_minor": 0
      },
      "text/plain": [
       "HBox(children=(FloatProgress(value=0.0, description='Executing', max=12.0, style=ProgressStyle(description_wid…"
      ]
     },
     "metadata": {},
     "output_type": "display_data"
    },
    {
     "name": "stdout",
     "output_type": "stream",
     "text": [
      "\n",
      "2019_01_23__T169_T169-155842\n",
      "Notebook_7_a.ipynb is being executed\n"
     ]
    },
    {
     "data": {
      "application/vnd.jupyter.widget-view+json": {
       "model_id": "f514ebae3a8546a7911bfbb18a26da67",
       "version_major": 2,
       "version_minor": 0
      },
      "text/plain": [
       "HBox(children=(FloatProgress(value=0.0, description='Executing', max=6.0, style=ProgressStyle(description_widt…"
      ]
     },
     "metadata": {},
     "output_type": "display_data"
    },
    {
     "name": "stdout",
     "output_type": "stream",
     "text": [
      "\n",
      "T169_2019_01_25_Notebook_0_a: This session already exists - no need to re-run ;)\n",
      "T169_2019_01_25_Notebook_1_b: This session already exists - no need to re-run ;)\n",
      "T169_2019_01_25_Notebook_2_b: This session already exists - no need to re-run ;)\n",
      "T169_2019_01_25_Notebook_3_b_seq2b3b: This session already exists - no need to re-run ;)\n",
      "T169_2019_01_25_Notebook_4_a: This session already exists - no need to re-run ;)\n",
      "T169_2019_01_25_Notebook_4_b: This session already exists - no need to re-run ;)\n",
      "T169_2019_01_25_Notebook_4_c: This session already exists - no need to re-run ;)\n",
      "T169_2019_01_25_Notebook_4_d: This session already exists - no need to re-run ;)\n",
      "T169_2019_01_25_Notebook_5_a_seq0a1b2b3b4abcd5a: This session already exists - no need to re-run ;)\n",
      "2019_01_25__T169_T169-142626\n",
      "Notebook_6_b.ipynb is being executed\n"
     ]
    },
    {
     "data": {
      "application/vnd.jupyter.widget-view+json": {
       "model_id": "83b8409d1c5a4f898a88402abd8dcf05",
       "version_major": 2,
       "version_minor": 0
      },
      "text/plain": [
       "HBox(children=(FloatProgress(value=0.0, description='Executing', max=12.0, style=ProgressStyle(description_wid…"
      ]
     },
     "metadata": {},
     "output_type": "display_data"
    },
    {
     "name": "stdout",
     "output_type": "stream",
     "text": [
      "\n",
      "2019_01_25__T169_T169-142626\n",
      "Notebook_7_a.ipynb is being executed\n"
     ]
    },
    {
     "data": {
      "application/vnd.jupyter.widget-view+json": {
       "model_id": "71ab6601bc3d40d78499382477edb0e3",
       "version_major": 2,
       "version_minor": 0
      },
      "text/plain": [
       "HBox(children=(FloatProgress(value=0.0, description='Executing', max=6.0, style=ProgressStyle(description_widt…"
      ]
     },
     "metadata": {},
     "output_type": "display_data"
    },
    {
     "name": "stdout",
     "output_type": "stream",
     "text": [
      "\n",
      "T169_2019_01_31_Notebook_0_a: This session already exists - no need to re-run ;)\n",
      "T169_2019_01_31_Notebook_1_b: This session already exists - no need to re-run ;)\n",
      "T169_2019_01_31_Notebook_2_b: This session already exists - no need to re-run ;)\n",
      "T169_2019_01_31_Notebook_3_b_seq2b3b: This session already exists - no need to re-run ;)\n",
      "T169_2019_01_31_Notebook_4_a: This session already exists - no need to re-run ;)\n",
      "T169_2019_01_31_Notebook_4_b: This session already exists - no need to re-run ;)\n",
      "T169_2019_01_31_Notebook_4_c: This session already exists - no need to re-run ;)\n",
      "T169_2019_01_31_Notebook_4_d: This session already exists - no need to re-run ;)\n",
      "T169_2019_01_31_Notebook_5_a_seq0a1b2b3b4abcd5a: This session already exists - no need to re-run ;)\n",
      "2019_01_31__T169_T169-143728\n",
      "Notebook_6_b.ipynb is being executed\n"
     ]
    },
    {
     "data": {
      "application/vnd.jupyter.widget-view+json": {
       "model_id": "d802f234718848a786a85f6b8dcd2206",
       "version_major": 2,
       "version_minor": 0
      },
      "text/plain": [
       "HBox(children=(FloatProgress(value=0.0, description='Executing', max=12.0, style=ProgressStyle(description_wid…"
      ]
     },
     "metadata": {},
     "output_type": "display_data"
    },
    {
     "name": "stdout",
     "output_type": "stream",
     "text": [
      "\n",
      "2019_01_31__T169_T169-143728\n",
      "Notebook_7_a.ipynb is being executed\n"
     ]
    },
    {
     "data": {
      "application/vnd.jupyter.widget-view+json": {
       "model_id": "8b9215c3d4f24e1081d7e45dcba8ce56",
       "version_major": 2,
       "version_minor": 0
      },
      "text/plain": [
       "HBox(children=(FloatProgress(value=0.0, description='Executing', max=6.0, style=ProgressStyle(description_widt…"
      ]
     },
     "metadata": {},
     "output_type": "display_data"
    },
    {
     "name": "stdout",
     "output_type": "stream",
     "text": [
      "\n",
      "T169_2019_02_01_Notebook_0_a: This session already exists - no need to re-run ;)\n",
      "T169_2019_02_01_Notebook_1_b: This session already exists - no need to re-run ;)\n",
      "T169_2019_02_01_Notebook_2_b: This session already exists - no need to re-run ;)\n",
      "T169_2019_02_01_Notebook_3_b_seq2b3b: This session already exists - no need to re-run ;)\n",
      "T169_2019_02_01_Notebook_4_a: This session already exists - no need to re-run ;)\n",
      "T169_2019_02_01_Notebook_4_b: This session already exists - no need to re-run ;)\n",
      "T169_2019_02_01_Notebook_4_c: This session already exists - no need to re-run ;)\n",
      "T169_2019_02_01_Notebook_4_d: This session already exists - no need to re-run ;)\n",
      "T169_2019_02_01_Notebook_5_a_seq0a1b2b3b4abcd5a: This session already exists - no need to re-run ;)\n",
      "2019_02_01__T169_T169-141602\n",
      "Notebook_6_b.ipynb is being executed\n"
     ]
    },
    {
     "data": {
      "application/vnd.jupyter.widget-view+json": {
       "model_id": "366b196e3ca84118b5935e70c529da1e",
       "version_major": 2,
       "version_minor": 0
      },
      "text/plain": [
       "HBox(children=(FloatProgress(value=0.0, description='Executing', max=12.0, style=ProgressStyle(description_wid…"
      ]
     },
     "metadata": {},
     "output_type": "display_data"
    },
    {
     "name": "stdout",
     "output_type": "stream",
     "text": [
      "\n",
      "2019_02_01__T169_T169-141602\n",
      "Notebook_7_a.ipynb is being executed\n"
     ]
    },
    {
     "data": {
      "application/vnd.jupyter.widget-view+json": {
       "model_id": "6d95e10b03ff45a2bdbb39f16f99f542",
       "version_major": 2,
       "version_minor": 0
      },
      "text/plain": [
       "HBox(children=(FloatProgress(value=0.0, description='Executing', max=6.0, style=ProgressStyle(description_widt…"
      ]
     },
     "metadata": {},
     "output_type": "display_data"
    },
    {
     "name": "stdout",
     "output_type": "stream",
     "text": [
      "\n",
      "T169_2019_02_11_Notebook_0_a: This session already exists - no need to re-run ;)\n",
      "T169_2019_02_11_Notebook_1_b: This session already exists - no need to re-run ;)\n",
      "T169_2019_02_11_Notebook_2_b: This session already exists - no need to re-run ;)\n",
      "T169_2019_02_11_Notebook_3_b_seq2b3b: This session already exists - no need to re-run ;)\n",
      "T169_2019_02_11_Notebook_4_a: This session already exists - no need to re-run ;)\n",
      "T169_2019_02_11_Notebook_4_b: This session already exists - no need to re-run ;)\n",
      "T169_2019_02_11_Notebook_4_c: This session already exists - no need to re-run ;)\n",
      "T169_2019_02_11_Notebook_4_d: This session already exists - no need to re-run ;)\n",
      "T169_2019_02_11_Notebook_5_a_seq0a1b2b3b4abcd5a: This session already exists - no need to re-run ;)\n",
      "2019_02_11__T169_T169-145303\n",
      "Notebook_6_b.ipynb is being executed\n"
     ]
    },
    {
     "data": {
      "application/vnd.jupyter.widget-view+json": {
       "model_id": "897d4d19f5544298bb35680efa6799d1",
       "version_major": 2,
       "version_minor": 0
      },
      "text/plain": [
       "HBox(children=(FloatProgress(value=0.0, description='Executing', max=12.0, style=ProgressStyle(description_wid…"
      ]
     },
     "metadata": {},
     "output_type": "display_data"
    },
    {
     "name": "stdout",
     "output_type": "stream",
     "text": [
      "\n",
      "2019_02_11__T169_T169-145303\n",
      "Notebook_7_a.ipynb is being executed\n"
     ]
    },
    {
     "data": {
      "application/vnd.jupyter.widget-view+json": {
       "model_id": "7d565377fcfa40638ddf2fa2794599a6",
       "version_major": 2,
       "version_minor": 0
      },
      "text/plain": [
       "HBox(children=(FloatProgress(value=0.0, description='Executing', max=6.0, style=ProgressStyle(description_widt…"
      ]
     },
     "metadata": {},
     "output_type": "display_data"
    },
    {
     "name": "stdout",
     "output_type": "stream",
     "text": [
      "\n",
      "T169_2019_02_12_Notebook_0_a: This session already exists - no need to re-run ;)\n",
      "T169_2019_02_12_Notebook_1_b: This session already exists - no need to re-run ;)\n",
      "T169_2019_02_12_Notebook_2_b: This session already exists - no need to re-run ;)\n",
      "T169_2019_02_12_Notebook_3_b_seq2b3b: This session already exists - no need to re-run ;)\n",
      "T169_2019_02_12_Notebook_4_a: This session already exists - no need to re-run ;)\n",
      "T169_2019_02_12_Notebook_4_b: This session already exists - no need to re-run ;)\n",
      "T169_2019_02_12_Notebook_4_c: This session already exists - no need to re-run ;)\n",
      "T169_2019_02_12_Notebook_4_d: This session already exists - no need to re-run ;)\n",
      "T169_2019_02_12_Notebook_5_a_seq0a1b2b3b4abcd5a: This session already exists - no need to re-run ;)\n",
      "2019_02_12__T169_T169-145045\n",
      "Notebook_6_b.ipynb is being executed\n"
     ]
    },
    {
     "data": {
      "application/vnd.jupyter.widget-view+json": {
       "model_id": "a860ac9ddef44949824fdd4e4e3abcd1",
       "version_major": 2,
       "version_minor": 0
      },
      "text/plain": [
       "HBox(children=(FloatProgress(value=0.0, description='Executing', max=12.0, style=ProgressStyle(description_wid…"
      ]
     },
     "metadata": {},
     "output_type": "display_data"
    },
    {
     "name": "stdout",
     "output_type": "stream",
     "text": [
      "\n",
      "2019_02_12__T169_T169-145045\n",
      "Notebook_7_a.ipynb is being executed\n"
     ]
    },
    {
     "data": {
      "application/vnd.jupyter.widget-view+json": {
       "model_id": "cd5b1f5aa1254c9cbc94f12d43c98dda",
       "version_major": 2,
       "version_minor": 0
      },
      "text/plain": [
       "HBox(children=(FloatProgress(value=0.0, description='Executing', max=6.0, style=ProgressStyle(description_widt…"
      ]
     },
     "metadata": {},
     "output_type": "display_data"
    },
    {
     "name": "stdout",
     "output_type": "stream",
     "text": [
      "\n",
      "T169_2019_02_13_Notebook_0_a: This session already exists - no need to re-run ;)\n",
      "T169_2019_02_13_Notebook_1_b: This session already exists - no need to re-run ;)\n",
      "T169_2019_02_13_Notebook_2_b: This session already exists - no need to re-run ;)\n",
      "T169_2019_02_13_Notebook_3_b_seq2b3b: This session already exists - no need to re-run ;)\n",
      "T169_2019_02_13_Notebook_4_a: This session already exists - no need to re-run ;)\n",
      "T169_2019_02_13_Notebook_4_b: This session already exists - no need to re-run ;)\n",
      "T169_2019_02_13_Notebook_4_c: This session already exists - no need to re-run ;)\n",
      "T169_2019_02_13_Notebook_4_d: This session already exists - no need to re-run ;)\n",
      "T169_2019_02_13_Notebook_5_a_seq0a1b2b3b4abcd5a: This session already exists - no need to re-run ;)\n",
      "2019_02_13__T169_T169-141800\n",
      "Notebook_6_b.ipynb is being executed\n"
     ]
    },
    {
     "data": {
      "application/vnd.jupyter.widget-view+json": {
       "model_id": "9079b417f40b49bda273594c557c0d81",
       "version_major": 2,
       "version_minor": 0
      },
      "text/plain": [
       "HBox(children=(FloatProgress(value=0.0, description='Executing', max=12.0, style=ProgressStyle(description_wid…"
      ]
     },
     "metadata": {},
     "output_type": "display_data"
    },
    {
     "name": "stdout",
     "output_type": "stream",
     "text": [
      "\n",
      "2019_02_13__T169_T169-141800\n",
      "Notebook_7_a.ipynb is being executed\n"
     ]
    },
    {
     "data": {
      "application/vnd.jupyter.widget-view+json": {
       "model_id": "4ee3cfd1da4b4355b27e5589d8090fe8",
       "version_major": 2,
       "version_minor": 0
      },
      "text/plain": [
       "HBox(children=(FloatProgress(value=0.0, description='Executing', max=6.0, style=ProgressStyle(description_widt…"
      ]
     },
     "metadata": {},
     "output_type": "display_data"
    },
    {
     "name": "stdout",
     "output_type": "stream",
     "text": [
      "\n",
      "T169_2019_02_14_Notebook_0_a: This session already exists - no need to re-run ;)\n",
      "T169_2019_02_14_Notebook_1_b: This session already exists - no need to re-run ;)\n",
      "T169_2019_02_14_Notebook_2_b: This session already exists - no need to re-run ;)\n",
      "T169_2019_02_14_Notebook_3_b_seq2b3b: This session already exists - no need to re-run ;)\n",
      "T169_2019_02_14_Notebook_4_a: This session already exists - no need to re-run ;)\n",
      "T169_2019_02_14_Notebook_4_b: This session already exists - no need to re-run ;)\n",
      "T169_2019_02_14_Notebook_4_c: This session already exists - no need to re-run ;)\n",
      "T169_2019_02_14_Notebook_4_d: This session already exists - no need to re-run ;)\n",
      "T169_2019_02_14_Notebook_5_a_seq0a1b2b3b4abcd5a: This session already exists - no need to re-run ;)\n",
      "2019_02_14__T169_T169-143937\n",
      "Notebook_6_b.ipynb is being executed\n"
     ]
    },
    {
     "data": {
      "application/vnd.jupyter.widget-view+json": {
       "model_id": "566d1e9ef13b4428911cecd065a772cd",
       "version_major": 2,
       "version_minor": 0
      },
      "text/plain": [
       "HBox(children=(FloatProgress(value=0.0, description='Executing', max=12.0, style=ProgressStyle(description_wid…"
      ]
     },
     "metadata": {},
     "output_type": "display_data"
    },
    {
     "name": "stdout",
     "output_type": "stream",
     "text": [
      "\n",
      "2019_02_14__T169_T169-143937\n",
      "Notebook_7_a.ipynb is being executed\n"
     ]
    },
    {
     "data": {
      "application/vnd.jupyter.widget-view+json": {
       "model_id": "71cb0e1479de46d0bd2c65babf4b69d0",
       "version_major": 2,
       "version_minor": 0
      },
      "text/plain": [
       "HBox(children=(FloatProgress(value=0.0, description='Executing', max=6.0, style=ProgressStyle(description_widt…"
      ]
     },
     "metadata": {},
     "output_type": "display_data"
    },
    {
     "name": "stdout",
     "output_type": "stream",
     "text": [
      "\n",
      "T169_2019_02_15_Notebook_0_a: This session already exists - no need to re-run ;)\n",
      "T169_2019_02_15_Notebook_1_b: This session already exists - no need to re-run ;)\n",
      "T169_2019_02_15_Notebook_2_b: This session already exists - no need to re-run ;)\n",
      "T169_2019_02_15_Notebook_3_b_seq2b3b: This session already exists - no need to re-run ;)\n",
      "T169_2019_02_15_Notebook_4_a: This session already exists - no need to re-run ;)\n",
      "T169_2019_02_15_Notebook_4_b: This session already exists - no need to re-run ;)\n",
      "T169_2019_02_15_Notebook_4_c: This session already exists - no need to re-run ;)\n",
      "T169_2019_02_15_Notebook_4_d: This session already exists - no need to re-run ;)\n",
      "T169_2019_02_15_Notebook_5_a_seq0a1b2b3b4abcd5a: This session already exists - no need to re-run ;)\n",
      "2019_02_15__T169_T169-141525\n",
      "Notebook_6_b.ipynb is being executed\n"
     ]
    },
    {
     "data": {
      "application/vnd.jupyter.widget-view+json": {
       "model_id": "94e509157aa24bd283f470397d6d473b",
       "version_major": 2,
       "version_minor": 0
      },
      "text/plain": [
       "HBox(children=(FloatProgress(value=0.0, description='Executing', max=12.0, style=ProgressStyle(description_wid…"
      ]
     },
     "metadata": {},
     "output_type": "display_data"
    },
    {
     "name": "stdout",
     "output_type": "stream",
     "text": [
      "\n",
      "2019_02_15__T169_T169-141525\n",
      "Notebook_7_a.ipynb is being executed\n"
     ]
    },
    {
     "data": {
      "application/vnd.jupyter.widget-view+json": {
       "model_id": "31066868d9d84ca0b9851992a5d3f267",
       "version_major": 2,
       "version_minor": 0
      },
      "text/plain": [
       "HBox(children=(FloatProgress(value=0.0, description='Executing', max=6.0, style=ProgressStyle(description_widt…"
      ]
     },
     "metadata": {},
     "output_type": "display_data"
    },
    {
     "name": "stdout",
     "output_type": "stream",
     "text": [
      "\n",
      "T169_2019_02_19_Notebook_0_a: This session already exists - no need to re-run ;)\n",
      "T169_2019_02_19_Notebook_1_b: This session already exists - no need to re-run ;)\n",
      "T169_2019_02_19_Notebook_2_b: This session already exists - no need to re-run ;)\n",
      "T169_2019_02_19_Notebook_3_b_seq2b3b: This session already exists - no need to re-run ;)\n",
      "T169_2019_02_19_Notebook_4_a: This session already exists - no need to re-run ;)\n",
      "T169_2019_02_19_Notebook_4_b: This session already exists - no need to re-run ;)\n",
      "T169_2019_02_19_Notebook_4_c: This session already exists - no need to re-run ;)\n",
      "T169_2019_02_19_Notebook_4_d: This session already exists - no need to re-run ;)\n",
      "T169_2019_02_19_Notebook_5_a_seq0a1b2b3b4abcd5a: This session already exists - no need to re-run ;)\n",
      "2019_02_19__T169_T169-140515\n",
      "Notebook_6_b.ipynb is being executed\n"
     ]
    },
    {
     "data": {
      "application/vnd.jupyter.widget-view+json": {
       "model_id": "b2a82b3f372441118184d2d39856cbb5",
       "version_major": 2,
       "version_minor": 0
      },
      "text/plain": [
       "HBox(children=(FloatProgress(value=0.0, description='Executing', max=12.0, style=ProgressStyle(description_wid…"
      ]
     },
     "metadata": {},
     "output_type": "display_data"
    },
    {
     "name": "stdout",
     "output_type": "stream",
     "text": [
      "\n",
      "2019_02_19__T169_T169-140515\n",
      "Notebook_7_a.ipynb is being executed\n"
     ]
    },
    {
     "data": {
      "application/vnd.jupyter.widget-view+json": {
       "model_id": "13143488352944c29934f91d2a0b3194",
       "version_major": 2,
       "version_minor": 0
      },
      "text/plain": [
       "HBox(children=(FloatProgress(value=0.0, description='Executing', max=6.0, style=ProgressStyle(description_widt…"
      ]
     },
     "metadata": {},
     "output_type": "display_data"
    },
    {
     "name": "stdout",
     "output_type": "stream",
     "text": [
      "\n",
      "T169_2019_02_20_Notebook_0_a: This session already exists - no need to re-run ;)\n",
      "T169_2019_02_20_Notebook_1_b: This session already exists - no need to re-run ;)\n",
      "T169_2019_02_20_Notebook_2_b: This session already exists - no need to re-run ;)\n",
      "T169_2019_02_20_Notebook_3_b_seq2b3b: This session already exists - no need to re-run ;)\n",
      "T169_2019_02_20_Notebook_4_a: This session already exists - no need to re-run ;)\n",
      "T169_2019_02_20_Notebook_4_b: This session already exists - no need to re-run ;)\n",
      "T169_2019_02_20_Notebook_4_c: This session already exists - no need to re-run ;)\n",
      "T169_2019_02_20_Notebook_4_d: This session already exists - no need to re-run ;)\n",
      "T169_2019_02_20_Notebook_5_a_seq0a1b2b3b4abcd5a: This session already exists - no need to re-run ;)\n",
      "2019_02_20__T169_T169-141850\n",
      "Notebook_6_b.ipynb is being executed\n"
     ]
    },
    {
     "data": {
      "application/vnd.jupyter.widget-view+json": {
       "model_id": "cb3d481cb9534d939800820921506458",
       "version_major": 2,
       "version_minor": 0
      },
      "text/plain": [
       "HBox(children=(FloatProgress(value=0.0, description='Executing', max=12.0, style=ProgressStyle(description_wid…"
      ]
     },
     "metadata": {},
     "output_type": "display_data"
    },
    {
     "name": "stdout",
     "output_type": "stream",
     "text": [
      "\n",
      "2019_02_20__T169_T169-141850\n",
      "Notebook_7_a.ipynb is being executed\n"
     ]
    },
    {
     "data": {
      "application/vnd.jupyter.widget-view+json": {
       "model_id": "ea685a83b37246bda5730f1434442067",
       "version_major": 2,
       "version_minor": 0
      },
      "text/plain": [
       "HBox(children=(FloatProgress(value=0.0, description='Executing', max=6.0, style=ProgressStyle(description_widt…"
      ]
     },
     "metadata": {},
     "output_type": "display_data"
    },
    {
     "name": "stdout",
     "output_type": "stream",
     "text": [
      "\n",
      "T169_2019_02_21_Notebook_0_a: This session already exists - no need to re-run ;)\n",
      "T169_2019_02_21_Notebook_1_b: This session already exists - no need to re-run ;)\n",
      "T169_2019_02_21_Notebook_2_b: This session already exists - no need to re-run ;)\n",
      "T169_2019_02_21_Notebook_3_b_seq2b3b: This session already exists - no need to re-run ;)\n",
      "T169_2019_02_21_Notebook_4_a: This session already exists - no need to re-run ;)\n",
      "T169_2019_02_21_Notebook_4_b: This session already exists - no need to re-run ;)\n",
      "T169_2019_02_21_Notebook_4_c: This session already exists - no need to re-run ;)\n",
      "T169_2019_02_21_Notebook_4_d: This session already exists - no need to re-run ;)\n",
      "T169_2019_02_21_Notebook_5_a_seq0a1b2b3b4abcd5a: This session already exists - no need to re-run ;)\n",
      "2019_02_21__T169_T169-141159\n",
      "Notebook_6_b.ipynb is being executed\n"
     ]
    },
    {
     "data": {
      "application/vnd.jupyter.widget-view+json": {
       "model_id": "09dfc1306d804b54b7ce9e98c0a8f10e",
       "version_major": 2,
       "version_minor": 0
      },
      "text/plain": [
       "HBox(children=(FloatProgress(value=0.0, description='Executing', max=12.0, style=ProgressStyle(description_wid…"
      ]
     },
     "metadata": {},
     "output_type": "display_data"
    },
    {
     "name": "stdout",
     "output_type": "stream",
     "text": [
      "\n",
      "2019_02_21__T169_T169-141159\n",
      "Notebook_7_a.ipynb is being executed\n"
     ]
    },
    {
     "data": {
      "application/vnd.jupyter.widget-view+json": {
       "model_id": "606d29e1269a419eb8bde1863bb4a762",
       "version_major": 2,
       "version_minor": 0
      },
      "text/plain": [
       "HBox(children=(FloatProgress(value=0.0, description='Executing', max=6.0, style=ProgressStyle(description_widt…"
      ]
     },
     "metadata": {},
     "output_type": "display_data"
    },
    {
     "name": "stdout",
     "output_type": "stream",
     "text": [
      "\n",
      "T169_2019_02_22_Notebook_0_a: This session already exists - no need to re-run ;)\n",
      "T169_2019_02_22_Notebook_1_b: This session already exists - no need to re-run ;)\n",
      "T169_2019_02_22_Notebook_2_b: This session already exists - no need to re-run ;)\n",
      "T169_2019_02_22_Notebook_3_b_seq2b3b: This session already exists - no need to re-run ;)\n",
      "T169_2019_02_22_Notebook_4_a: This session already exists - no need to re-run ;)\n",
      "T169_2019_02_22_Notebook_4_b: This session already exists - no need to re-run ;)\n",
      "T169_2019_02_22_Notebook_4_c: This session already exists - no need to re-run ;)\n",
      "T169_2019_02_22_Notebook_4_d: This session already exists - no need to re-run ;)\n",
      "T169_2019_02_22_Notebook_5_a_seq0a1b2b3b4abcd5a: This session already exists - no need to re-run ;)\n",
      "2019_02_22__T169_T169-134725\n",
      "Notebook_6_b.ipynb is being executed\n"
     ]
    },
    {
     "data": {
      "application/vnd.jupyter.widget-view+json": {
       "model_id": "f1d436c82bbc4ed4bb618d90c0dd9986",
       "version_major": 2,
       "version_minor": 0
      },
      "text/plain": [
       "HBox(children=(FloatProgress(value=0.0, description='Executing', max=12.0, style=ProgressStyle(description_wid…"
      ]
     },
     "metadata": {},
     "output_type": "display_data"
    },
    {
     "name": "stdout",
     "output_type": "stream",
     "text": [
      "\n",
      "2019_02_22__T169_T169-134725\n",
      "Notebook_7_a.ipynb is being executed\n"
     ]
    },
    {
     "data": {
      "application/vnd.jupyter.widget-view+json": {
       "model_id": "9529b51334a844bc8e1f91993cdddfd3",
       "version_major": 2,
       "version_minor": 0
      },
      "text/plain": [
       "HBox(children=(FloatProgress(value=0.0, description='Executing', max=6.0, style=ProgressStyle(description_widt…"
      ]
     },
     "metadata": {},
     "output_type": "display_data"
    },
    {
     "name": "stdout",
     "output_type": "stream",
     "text": [
      "\n",
      "T169_2019_02_25_Notebook_0_a: This session already exists - no need to re-run ;)\n",
      "T169_2019_02_25_Notebook_1_b: This session already exists - no need to re-run ;)\n",
      "T169_2019_02_25_Notebook_2_b: This session already exists - no need to re-run ;)\n",
      "T169_2019_02_25_Notebook_3_b_seq2b3b: This session already exists - no need to re-run ;)\n",
      "T169_2019_02_25_Notebook_4_a: This session already exists - no need to re-run ;)\n",
      "T169_2019_02_25_Notebook_4_b: This session already exists - no need to re-run ;)\n",
      "T169_2019_02_25_Notebook_4_c: This session already exists - no need to re-run ;)\n",
      "T169_2019_02_25_Notebook_4_d: This session already exists - no need to re-run ;)\n",
      "T169_2019_02_25_Notebook_5_a_seq0a1b2b3b4abcd5a: This session already exists - no need to re-run ;)\n",
      "2019_02_25__T169_T169-145248\n",
      "Notebook_6_b.ipynb is being executed\n"
     ]
    },
    {
     "data": {
      "application/vnd.jupyter.widget-view+json": {
       "model_id": "75552b5c5ee04b109916e3ebba51a8bf",
       "version_major": 2,
       "version_minor": 0
      },
      "text/plain": [
       "HBox(children=(FloatProgress(value=0.0, description='Executing', max=12.0, style=ProgressStyle(description_wid…"
      ]
     },
     "metadata": {},
     "output_type": "display_data"
    },
    {
     "name": "stdout",
     "output_type": "stream",
     "text": [
      "\n",
      "2019_02_25__T169_T169-145248\n",
      "Notebook_7_a.ipynb is being executed\n"
     ]
    },
    {
     "data": {
      "application/vnd.jupyter.widget-view+json": {
       "model_id": "d00b91f268e1410d9923590350bd8079",
       "version_major": 2,
       "version_minor": 0
      },
      "text/plain": [
       "HBox(children=(FloatProgress(value=0.0, description='Executing', max=6.0, style=ProgressStyle(description_widt…"
      ]
     },
     "metadata": {},
     "output_type": "display_data"
    },
    {
     "name": "stdout",
     "output_type": "stream",
     "text": [
      "\n",
      "T169_2019_02_26_Notebook_0_a: This session already exists - no need to re-run ;)\n",
      "T169_2019_02_26_Notebook_1_b: This session already exists - no need to re-run ;)\n",
      "T169_2019_02_26_Notebook_2_b: This session already exists - no need to re-run ;)\n",
      "T169_2019_02_26_Notebook_3_b_seq2b3b: This session already exists - no need to re-run ;)\n",
      "T169_2019_02_26_Notebook_4_a: This session already exists - no need to re-run ;)\n",
      "T169_2019_02_26_Notebook_4_b: This session already exists - no need to re-run ;)\n",
      "T169_2019_02_26_Notebook_4_c: This session already exists - no need to re-run ;)\n",
      "T169_2019_02_26_Notebook_4_d: This session already exists - no need to re-run ;)\n",
      "T169_2019_02_26_Notebook_5_a_seq0a1b2b3b4abcd5a: This session already exists - no need to re-run ;)\n",
      "2019_02_26__T169_T169-142505\n",
      "Notebook_6_b.ipynb is being executed\n"
     ]
    },
    {
     "data": {
      "application/vnd.jupyter.widget-view+json": {
       "model_id": "b1ee0abd08284be8afee61b1ee574c20",
       "version_major": 2,
       "version_minor": 0
      },
      "text/plain": [
       "HBox(children=(FloatProgress(value=0.0, description='Executing', max=12.0, style=ProgressStyle(description_wid…"
      ]
     },
     "metadata": {},
     "output_type": "display_data"
    },
    {
     "name": "stdout",
     "output_type": "stream",
     "text": [
      "\n",
      "2019_02_26__T169_T169-142505\n",
      "Notebook_7_a.ipynb is being executed\n"
     ]
    },
    {
     "data": {
      "application/vnd.jupyter.widget-view+json": {
       "model_id": "67d7ef2a8e494005949bc1b3e3c5c0a6",
       "version_major": 2,
       "version_minor": 0
      },
      "text/plain": [
       "HBox(children=(FloatProgress(value=0.0, description='Executing', max=6.0, style=ProgressStyle(description_widt…"
      ]
     },
     "metadata": {},
     "output_type": "display_data"
    },
    {
     "name": "stdout",
     "output_type": "stream",
     "text": [
      "\n",
      "T169_2019_02_27_Notebook_0_a: This session already exists - no need to re-run ;)\n",
      "T169_2019_02_27_Notebook_1_b: This session already exists - no need to re-run ;)\n",
      "T169_2019_02_27_Notebook_2_b: This session already exists - no need to re-run ;)\n",
      "T169_2019_02_27_Notebook_3_b_seq2b3b: This session already exists - no need to re-run ;)\n",
      "T169_2019_02_27_Notebook_4_a: This session already exists - no need to re-run ;)\n",
      "T169_2019_02_27_Notebook_4_b: This session already exists - no need to re-run ;)\n",
      "T169_2019_02_27_Notebook_4_c: This session already exists - no need to re-run ;)\n",
      "T169_2019_02_27_Notebook_4_d: This session already exists - no need to re-run ;)\n",
      "T169_2019_02_27_Notebook_5_a_seq0a1b2b3b4abcd5a: This session already exists - no need to re-run ;)\n",
      "2019_02_27__T169_T169-155731\n",
      "Notebook_6_b.ipynb is being executed\n"
     ]
    },
    {
     "data": {
      "application/vnd.jupyter.widget-view+json": {
       "model_id": "001057b409574f38a80d58dc28b5bfaf",
       "version_major": 2,
       "version_minor": 0
      },
      "text/plain": [
       "HBox(children=(FloatProgress(value=0.0, description='Executing', max=12.0, style=ProgressStyle(description_wid…"
      ]
     },
     "metadata": {},
     "output_type": "display_data"
    },
    {
     "name": "stdout",
     "output_type": "stream",
     "text": [
      "\n",
      "2019_02_27__T169_T169-155731\n",
      "Notebook_7_a.ipynb is being executed\n"
     ]
    },
    {
     "data": {
      "application/vnd.jupyter.widget-view+json": {
       "model_id": "c65409033b51442caba72de9b10c5c6b",
       "version_major": 2,
       "version_minor": 0
      },
      "text/plain": [
       "HBox(children=(FloatProgress(value=0.0, description='Executing', max=6.0, style=ProgressStyle(description_widt…"
      ]
     },
     "metadata": {},
     "output_type": "display_data"
    },
    {
     "name": "stdout",
     "output_type": "stream",
     "text": [
      "\n",
      "T169_2019_02_28_Notebook_0_a: This session already exists - no need to re-run ;)\n",
      "T169_2019_02_28_Notebook_1_b: This session already exists - no need to re-run ;)\n",
      "T169_2019_02_28_Notebook_2_b: This session already exists - no need to re-run ;)\n",
      "T169_2019_02_28_Notebook_3_b_seq2b3b: This session already exists - no need to re-run ;)\n",
      "T169_2019_02_28_Notebook_4_a: This session already exists - no need to re-run ;)\n",
      "T169_2019_02_28_Notebook_4_b: This session already exists - no need to re-run ;)\n",
      "T169_2019_02_28_Notebook_4_c: This session already exists - no need to re-run ;)\n",
      "T169_2019_02_28_Notebook_4_d: This session already exists - no need to re-run ;)\n",
      "T169_2019_02_28_Notebook_5_a_seq0a1b2b3b4abcd5a: This session already exists - no need to re-run ;)\n",
      "2019_02_28__T169_T169-142051\n",
      "Notebook_6_b.ipynb is being executed\n"
     ]
    },
    {
     "data": {
      "application/vnd.jupyter.widget-view+json": {
       "model_id": "02d8dd53fb2043f6b6831a6150a6e20f",
       "version_major": 2,
       "version_minor": 0
      },
      "text/plain": [
       "HBox(children=(FloatProgress(value=0.0, description='Executing', max=12.0, style=ProgressStyle(description_wid…"
      ]
     },
     "metadata": {},
     "output_type": "display_data"
    },
    {
     "name": "stdout",
     "output_type": "stream",
     "text": [
      "\n",
      "2019_02_28__T169_T169-142051\n",
      "Notebook_7_a.ipynb is being executed\n"
     ]
    },
    {
     "data": {
      "application/vnd.jupyter.widget-view+json": {
       "model_id": "8b8ae230420e498fa8925f58112f7844",
       "version_major": 2,
       "version_minor": 0
      },
      "text/plain": [
       "HBox(children=(FloatProgress(value=0.0, description='Executing', max=6.0, style=ProgressStyle(description_widt…"
      ]
     },
     "metadata": {},
     "output_type": "display_data"
    },
    {
     "name": "stdout",
     "output_type": "stream",
     "text": [
      "\n",
      "T169_2019_03_01_Notebook_0_a: This session already exists - no need to re-run ;)\n",
      "T169_2019_03_01_Notebook_1_b: This session already exists - no need to re-run ;)\n",
      "T169_2019_03_01_Notebook_2_b: This session already exists - no need to re-run ;)\n",
      "T169_2019_03_01_Notebook_3_b_seq2b3b: This session already exists - no need to re-run ;)\n",
      "T169_2019_03_01_Notebook_4_a: This session already exists - no need to re-run ;)\n",
      "T169_2019_03_01_Notebook_4_b: This session already exists - no need to re-run ;)\n",
      "T169_2019_03_01_Notebook_4_c: This session already exists - no need to re-run ;)\n",
      "T169_2019_03_01_Notebook_4_d: This session already exists - no need to re-run ;)\n",
      "T169_2019_03_01_Notebook_5_a_seq0a1b2b3b4abcd5a: This session already exists - no need to re-run ;)\n",
      "2019_03_01__T169_T169-141400\n",
      "Notebook_6_b.ipynb is being executed\n"
     ]
    },
    {
     "data": {
      "application/vnd.jupyter.widget-view+json": {
       "model_id": "4a13e04f6dee47be9dc610b9af98b53d",
       "version_major": 2,
       "version_minor": 0
      },
      "text/plain": [
       "HBox(children=(FloatProgress(value=0.0, description='Executing', max=12.0, style=ProgressStyle(description_wid…"
      ]
     },
     "metadata": {},
     "output_type": "display_data"
    },
    {
     "name": "stdout",
     "output_type": "stream",
     "text": [
      "\n",
      "2019_03_01__T169_T169-141400\n",
      "Notebook_7_a.ipynb is being executed\n"
     ]
    },
    {
     "data": {
      "application/vnd.jupyter.widget-view+json": {
       "model_id": "521e9194843344deba91bb32772b6e65",
       "version_major": 2,
       "version_minor": 0
      },
      "text/plain": [
       "HBox(children=(FloatProgress(value=0.0, description='Executing', max=6.0, style=ProgressStyle(description_widt…"
      ]
     },
     "metadata": {},
     "output_type": "display_data"
    },
    {
     "name": "stdout",
     "output_type": "stream",
     "text": [
      "\n",
      "T170_2019_01_22_Notebook_0_a: This session already exists - no need to re-run ;)\n",
      "T170_2019_01_22_Notebook_1_b: This session already exists - no need to re-run ;)\n",
      "T170_2019_01_22_Notebook_2_b: This session already exists - no need to re-run ;)\n",
      "T170_2019_01_22_Notebook_3_b_seq2b3b: This session already exists - no need to re-run ;)\n",
      "T170_2019_01_22_Notebook_4_a: This session already exists - no need to re-run ;)\n",
      "T170_2019_01_22_Notebook_4_b: This session already exists - no need to re-run ;)\n",
      "T170_2019_01_22_Notebook_4_c: This session already exists - no need to re-run ;)\n",
      "T170_2019_01_22_Notebook_4_d: This session already exists - no need to re-run ;)\n",
      "T170_2019_01_22_Notebook_5_a_seq0a1b2b3b4abcd5a: This session already exists - no need to re-run ;)\n",
      "2019_01_22__T170_T170-162100\n",
      "Notebook_6_b.ipynb is being executed\n"
     ]
    },
    {
     "data": {
      "application/vnd.jupyter.widget-view+json": {
       "model_id": "a8f2aa31b3934b8fa1e81db8d88e8a92",
       "version_major": 2,
       "version_minor": 0
      },
      "text/plain": [
       "HBox(children=(FloatProgress(value=0.0, description='Executing', max=12.0, style=ProgressStyle(description_wid…"
      ]
     },
     "metadata": {},
     "output_type": "display_data"
    },
    {
     "name": "stdout",
     "output_type": "stream",
     "text": [
      "\n",
      "2019_01_22__T170_T170-162100\n",
      "Notebook_7_a.ipynb is being executed\n"
     ]
    },
    {
     "data": {
      "application/vnd.jupyter.widget-view+json": {
       "model_id": "7f4a87eb74c14ceeb181f73f8408cc5a",
       "version_major": 2,
       "version_minor": 0
      },
      "text/plain": [
       "HBox(children=(FloatProgress(value=0.0, description='Executing', max=6.0, style=ProgressStyle(description_widt…"
      ]
     },
     "metadata": {},
     "output_type": "display_data"
    },
    {
     "name": "stdout",
     "output_type": "stream",
     "text": [
      "\n",
      "T170_2019_01_23_Notebook_0_a: This session already exists - no need to re-run ;)\n",
      "T170_2019_01_23_Notebook_1_b: This session already exists - no need to re-run ;)\n",
      "T170_2019_01_23_Notebook_2_b: This session already exists - no need to re-run ;)\n",
      "T170_2019_01_23_Notebook_3_b_seq2b3b: This session already exists - no need to re-run ;)\n",
      "T170_2019_01_23_Notebook_4_a: This session already exists - no need to re-run ;)\n",
      "T170_2019_01_23_Notebook_4_b: This session already exists - no need to re-run ;)\n",
      "T170_2019_01_23_Notebook_4_c: This session already exists - no need to re-run ;)\n",
      "T170_2019_01_23_Notebook_4_d: This session already exists - no need to re-run ;)\n",
      "T170_2019_01_23_Notebook_5_a_seq0a1b2b3b4abcd5a: This session already exists - no need to re-run ;)\n",
      "2019_01_23__T170_T170-163736\n",
      "Notebook_6_b.ipynb is being executed\n"
     ]
    },
    {
     "data": {
      "application/vnd.jupyter.widget-view+json": {
       "model_id": "82c0ee4853ad44219a9e14755730d47a",
       "version_major": 2,
       "version_minor": 0
      },
      "text/plain": [
       "HBox(children=(FloatProgress(value=0.0, description='Executing', max=12.0, style=ProgressStyle(description_wid…"
      ]
     },
     "metadata": {},
     "output_type": "display_data"
    },
    {
     "name": "stdout",
     "output_type": "stream",
     "text": [
      "\n",
      "2019_01_23__T170_T170-163736\n",
      "Notebook_7_a.ipynb is being executed\n"
     ]
    },
    {
     "data": {
      "application/vnd.jupyter.widget-view+json": {
       "model_id": "adf01390c18c447581816c5377393193",
       "version_major": 2,
       "version_minor": 0
      },
      "text/plain": [
       "HBox(children=(FloatProgress(value=0.0, description='Executing', max=6.0, style=ProgressStyle(description_widt…"
      ]
     },
     "metadata": {},
     "output_type": "display_data"
    },
    {
     "name": "stdout",
     "output_type": "stream",
     "text": [
      "\n",
      "T170_2019_01_25_Notebook_0_a: This session already exists - no need to re-run ;)\n",
      "T170_2019_01_25_Notebook_1_b: This session already exists - no need to re-run ;)\n",
      "T170_2019_01_25_Notebook_2_b: This session already exists - no need to re-run ;)\n",
      "T170_2019_01_25_Notebook_3_b_seq2b3b: This session already exists - no need to re-run ;)\n",
      "T170_2019_01_25_Notebook_4_a: This session already exists - no need to re-run ;)\n",
      "T170_2019_01_25_Notebook_4_b: This session already exists - no need to re-run ;)\n",
      "T170_2019_01_25_Notebook_4_c: This session already exists - no need to re-run ;)\n",
      "T170_2019_01_25_Notebook_4_d: This session already exists - no need to re-run ;)\n",
      "T170_2019_01_25_Notebook_5_a_seq0a1b2b3b4abcd5a: This session already exists - no need to re-run ;)\n",
      "2019_01_25__T170_T170-150000\n",
      "Notebook_6_b.ipynb is being executed\n"
     ]
    },
    {
     "data": {
      "application/vnd.jupyter.widget-view+json": {
       "model_id": "d2c701e6f2bf49e4a6aaef6869d045b1",
       "version_major": 2,
       "version_minor": 0
      },
      "text/plain": [
       "HBox(children=(FloatProgress(value=0.0, description='Executing', max=12.0, style=ProgressStyle(description_wid…"
      ]
     },
     "metadata": {},
     "output_type": "display_data"
    },
    {
     "name": "stdout",
     "output_type": "stream",
     "text": [
      "\n",
      "2019_01_25__T170_T170-150000\n",
      "Notebook_7_a.ipynb is being executed\n"
     ]
    },
    {
     "data": {
      "application/vnd.jupyter.widget-view+json": {
       "model_id": "6181bb262b58413c9705512b5f28ea71",
       "version_major": 2,
       "version_minor": 0
      },
      "text/plain": [
       "HBox(children=(FloatProgress(value=0.0, description='Executing', max=6.0, style=ProgressStyle(description_widt…"
      ]
     },
     "metadata": {},
     "output_type": "display_data"
    },
    {
     "name": "stdout",
     "output_type": "stream",
     "text": [
      "\n",
      "T170_2019_01_30_Notebook_0_a: This session already exists - no need to re-run ;)\n",
      "T170_2019_01_30_Notebook_1_b: This session already exists - no need to re-run ;)\n",
      "T170_2019_01_30_Notebook_2_b: This session already exists - no need to re-run ;)\n",
      "T170_2019_01_30_Notebook_3_b_seq2b3b: This session already exists - no need to re-run ;)\n",
      "T170_2019_01_30_Notebook_4_a: This session already exists - no need to re-run ;)\n",
      "T170_2019_01_30_Notebook_4_b: This session already exists - no need to re-run ;)\n",
      "T170_2019_01_30_Notebook_4_c: This session already exists - no need to re-run ;)\n",
      "T170_2019_01_30_Notebook_4_d: This session already exists - no need to re-run ;)\n",
      "T170_2019_01_30_Notebook_5_a_seq0a1b2b3b4abcd5a: This session already exists - no need to re-run ;)\n",
      "2019_01_30__T170_T170-152711\n",
      "Notebook_6_b.ipynb is being executed\n"
     ]
    },
    {
     "data": {
      "application/vnd.jupyter.widget-view+json": {
       "model_id": "21964e142ee345b386ed60350939c494",
       "version_major": 2,
       "version_minor": 0
      },
      "text/plain": [
       "HBox(children=(FloatProgress(value=0.0, description='Executing', max=12.0, style=ProgressStyle(description_wid…"
      ]
     },
     "metadata": {},
     "output_type": "display_data"
    },
    {
     "name": "stdout",
     "output_type": "stream",
     "text": [
      "\n",
      "2019_01_30__T170_T170-152711\n",
      "Notebook_7_a.ipynb is being executed\n"
     ]
    },
    {
     "data": {
      "application/vnd.jupyter.widget-view+json": {
       "model_id": "0f65def9dcbf45f1ab78d758f64da848",
       "version_major": 2,
       "version_minor": 0
      },
      "text/plain": [
       "HBox(children=(FloatProgress(value=0.0, description='Executing', max=6.0, style=ProgressStyle(description_widt…"
      ]
     },
     "metadata": {},
     "output_type": "display_data"
    },
    {
     "name": "stdout",
     "output_type": "stream",
     "text": [
      "\n",
      "T170_2019_01_31_Notebook_0_a: This session already exists - no need to re-run ;)\n",
      "T170_2019_01_31_Notebook_1_b: This session already exists - no need to re-run ;)\n",
      "T170_2019_01_31_Notebook_2_b: This session already exists - no need to re-run ;)\n",
      "T170_2019_01_31_Notebook_3_b_seq2b3b: This session already exists - no need to re-run ;)\n",
      "T170_2019_01_31_Notebook_4_a: This session already exists - no need to re-run ;)\n",
      "T170_2019_01_31_Notebook_4_b: This session already exists - no need to re-run ;)\n",
      "T170_2019_01_31_Notebook_4_c: This session already exists - no need to re-run ;)\n",
      "T170_2019_01_31_Notebook_4_d: This session already exists - no need to re-run ;)\n",
      "T170_2019_01_31_Notebook_5_a_seq0a1b2b3b4abcd5a: This session already exists - no need to re-run ;)\n",
      "2019_01_31__T170_T170-150622\n",
      "Notebook_6_b.ipynb is being executed\n"
     ]
    },
    {
     "data": {
      "application/vnd.jupyter.widget-view+json": {
       "model_id": "6299e7226cb74783b9511c4de3d03f54",
       "version_major": 2,
       "version_minor": 0
      },
      "text/plain": [
       "HBox(children=(FloatProgress(value=0.0, description='Executing', max=12.0, style=ProgressStyle(description_wid…"
      ]
     },
     "metadata": {},
     "output_type": "display_data"
    },
    {
     "name": "stdout",
     "output_type": "stream",
     "text": [
      "\n",
      "2019_01_31__T170_T170-150622\n",
      "Notebook_7_a.ipynb is being executed\n"
     ]
    },
    {
     "data": {
      "application/vnd.jupyter.widget-view+json": {
       "model_id": "3806446fe22a4dd9b7947e1af1bb9647",
       "version_major": 2,
       "version_minor": 0
      },
      "text/plain": [
       "HBox(children=(FloatProgress(value=0.0, description='Executing', max=6.0, style=ProgressStyle(description_widt…"
      ]
     },
     "metadata": {},
     "output_type": "display_data"
    },
    {
     "name": "stdout",
     "output_type": "stream",
     "text": [
      "\n",
      "T170_2019_02_01_Notebook_0_a: This session already exists - no need to re-run ;)\n",
      "T170_2019_02_01_Notebook_1_b: This session already exists - no need to re-run ;)\n",
      "T170_2019_02_01_Notebook_2_b: This session already exists - no need to re-run ;)\n",
      "T170_2019_02_01_Notebook_3_b_seq2b3b: This session already exists - no need to re-run ;)\n",
      "T170_2019_02_01_Notebook_4_a: This session already exists - no need to re-run ;)\n",
      "T170_2019_02_01_Notebook_4_b: This session already exists - no need to re-run ;)\n",
      "T170_2019_02_01_Notebook_4_c: This session already exists - no need to re-run ;)\n",
      "T170_2019_02_01_Notebook_4_d: This session already exists - no need to re-run ;)\n",
      "T170_2019_02_01_Notebook_5_a_seq0a1b2b3b4abcd5a: This session already exists - no need to re-run ;)\n",
      "2019_02_01__T170_T170-145715\n",
      "Notebook_6_b.ipynb is being executed\n"
     ]
    },
    {
     "data": {
      "application/vnd.jupyter.widget-view+json": {
       "model_id": "8e32a20b16a948d9b93042adf84c93b7",
       "version_major": 2,
       "version_minor": 0
      },
      "text/plain": [
       "HBox(children=(FloatProgress(value=0.0, description='Executing', max=12.0, style=ProgressStyle(description_wid…"
      ]
     },
     "metadata": {},
     "output_type": "display_data"
    },
    {
     "name": "stdout",
     "output_type": "stream",
     "text": [
      "\n",
      "2019_02_01__T170_T170-145715\n",
      "Notebook_7_a.ipynb is being executed\n"
     ]
    },
    {
     "data": {
      "application/vnd.jupyter.widget-view+json": {
       "model_id": "963cf722f2714bd6b25fbdd748801ac4",
       "version_major": 2,
       "version_minor": 0
      },
      "text/plain": [
       "HBox(children=(FloatProgress(value=0.0, description='Executing', max=6.0, style=ProgressStyle(description_widt…"
      ]
     },
     "metadata": {},
     "output_type": "display_data"
    },
    {
     "name": "stdout",
     "output_type": "stream",
     "text": [
      "\n",
      "T170_2019_02_04_Notebook_0_a: This session already exists - no need to re-run ;)\n",
      "T170_2019_02_04_Notebook_1_b: This session already exists - no need to re-run ;)\n",
      "T170_2019_02_04_Notebook_2_b: This session already exists - no need to re-run ;)\n",
      "T170_2019_02_04_Notebook_3_b_seq2b3b: This session already exists - no need to re-run ;)\n",
      "T170_2019_02_04_Notebook_4_a: This session already exists - no need to re-run ;)\n",
      "T170_2019_02_04_Notebook_4_b: This session already exists - no need to re-run ;)\n",
      "T170_2019_02_04_Notebook_4_c: This session already exists - no need to re-run ;)\n",
      "T170_2019_02_04_Notebook_4_d: This session already exists - no need to re-run ;)\n",
      "T170_2019_02_04_Notebook_5_a_seq0a1b2b3b4abcd5a: This session already exists - no need to re-run ;)\n",
      "2019_02_04__T170_T170-142611\n",
      "Notebook_6_b.ipynb is being executed\n"
     ]
    },
    {
     "data": {
      "application/vnd.jupyter.widget-view+json": {
       "model_id": "2c913cf16f2843bcad32d1edc08b1596",
       "version_major": 2,
       "version_minor": 0
      },
      "text/plain": [
       "HBox(children=(FloatProgress(value=0.0, description='Executing', max=12.0, style=ProgressStyle(description_wid…"
      ]
     },
     "metadata": {},
     "output_type": "display_data"
    },
    {
     "name": "stdout",
     "output_type": "stream",
     "text": [
      "\n",
      "2019_02_04__T170_T170-142611\n",
      "Notebook_7_a.ipynb is being executed\n"
     ]
    },
    {
     "data": {
      "application/vnd.jupyter.widget-view+json": {
       "model_id": "4c7047cadee844108813fb7544bed3e8",
       "version_major": 2,
       "version_minor": 0
      },
      "text/plain": [
       "HBox(children=(FloatProgress(value=0.0, description='Executing', max=6.0, style=ProgressStyle(description_widt…"
      ]
     },
     "metadata": {},
     "output_type": "display_data"
    },
    {
     "name": "stdout",
     "output_type": "stream",
     "text": [
      "\n",
      "T170_2019_02_11_Notebook_0_a: This session already exists - no need to re-run ;)\n",
      "T170_2019_02_11_Notebook_1_b: This session already exists - no need to re-run ;)\n",
      "T170_2019_02_11_Notebook_2_b: This session already exists - no need to re-run ;)\n",
      "T170_2019_02_11_Notebook_3_b_seq2b3b: This session already exists - no need to re-run ;)\n",
      "T170_2019_02_11_Notebook_4_a: This session already exists - no need to re-run ;)\n",
      "T170_2019_02_11_Notebook_4_b: This session already exists - no need to re-run ;)\n",
      "T170_2019_02_11_Notebook_4_c: This session already exists - no need to re-run ;)\n",
      "T170_2019_02_11_Notebook_4_d: This session already exists - no need to re-run ;)\n",
      "T170_2019_02_11_Notebook_5_a_seq0a1b2b3b4abcd5a: This session already exists - no need to re-run ;)\n",
      "2019_02_11__T170_T170-152449\n",
      "Notebook_6_b.ipynb is being executed\n"
     ]
    },
    {
     "data": {
      "application/vnd.jupyter.widget-view+json": {
       "model_id": "691c47f2907448f888cd4aba66f8dd90",
       "version_major": 2,
       "version_minor": 0
      },
      "text/plain": [
       "HBox(children=(FloatProgress(value=0.0, description='Executing', max=12.0, style=ProgressStyle(description_wid…"
      ]
     },
     "metadata": {},
     "output_type": "display_data"
    },
    {
     "name": "stdout",
     "output_type": "stream",
     "text": [
      "\n",
      "2019_02_11__T170_T170-152449\n",
      "Notebook_7_a.ipynb is being executed\n"
     ]
    },
    {
     "data": {
      "application/vnd.jupyter.widget-view+json": {
       "model_id": "d93b0ffea9ba4e2190d99801c4d079b8",
       "version_major": 2,
       "version_minor": 0
      },
      "text/plain": [
       "HBox(children=(FloatProgress(value=0.0, description='Executing', max=6.0, style=ProgressStyle(description_widt…"
      ]
     },
     "metadata": {},
     "output_type": "display_data"
    },
    {
     "name": "stdout",
     "output_type": "stream",
     "text": [
      "\n",
      "T170_2019_02_13_Notebook_0_a: This session already exists - no need to re-run ;)\n",
      "T170_2019_02_13_Notebook_1_b: This session already exists - no need to re-run ;)\n",
      "T170_2019_02_13_Notebook_2_b: This session already exists - no need to re-run ;)\n",
      "T170_2019_02_13_Notebook_3_b_seq2b3b: This session already exists - no need to re-run ;)\n",
      "T170_2019_02_13_Notebook_4_a: This session already exists - no need to re-run ;)\n",
      "T170_2019_02_13_Notebook_4_b: This session already exists - no need to re-run ;)\n",
      "T170_2019_02_13_Notebook_4_c: This session already exists - no need to re-run ;)\n",
      "T170_2019_02_13_Notebook_4_d: This session already exists - no need to re-run ;)\n",
      "T170_2019_02_13_Notebook_5_a_seq0a1b2b3b4abcd5a: This session already exists - no need to re-run ;)\n",
      "2019_02_13__T170_T170-144357\n",
      "Notebook_6_b.ipynb is being executed\n"
     ]
    },
    {
     "data": {
      "application/vnd.jupyter.widget-view+json": {
       "model_id": "a9067a0d8a544e2e910d6516ff65a6c4",
       "version_major": 2,
       "version_minor": 0
      },
      "text/plain": [
       "HBox(children=(FloatProgress(value=0.0, description='Executing', max=12.0, style=ProgressStyle(description_wid…"
      ]
     },
     "metadata": {},
     "output_type": "display_data"
    },
    {
     "name": "stdout",
     "output_type": "stream",
     "text": [
      "\n",
      "2019_02_13__T170_T170-144357\n",
      "Notebook_7_a.ipynb is being executed\n"
     ]
    },
    {
     "data": {
      "application/vnd.jupyter.widget-view+json": {
       "model_id": "a4e18c076a2349248e08e5cc138e7c77",
       "version_major": 2,
       "version_minor": 0
      },
      "text/plain": [
       "HBox(children=(FloatProgress(value=0.0, description='Executing', max=6.0, style=ProgressStyle(description_widt…"
      ]
     },
     "metadata": {},
     "output_type": "display_data"
    },
    {
     "name": "stdout",
     "output_type": "stream",
     "text": [
      "\n",
      "T170_2019_02_14_Notebook_0_a: This session already exists - no need to re-run ;)\n",
      "T170_2019_02_14_Notebook_1_b: This session already exists - no need to re-run ;)\n",
      "T170_2019_02_14_Notebook_2_b: This session already exists - no need to re-run ;)\n",
      "T170_2019_02_14_Notebook_3_b_seq2b3b: This session already exists - no need to re-run ;)\n",
      "T170_2019_02_14_Notebook_4_a: This session already exists - no need to re-run ;)\n",
      "T170_2019_02_14_Notebook_4_b: This session already exists - no need to re-run ;)\n",
      "T170_2019_02_14_Notebook_4_c: This session already exists - no need to re-run ;)\n",
      "T170_2019_02_14_Notebook_4_d: This session already exists - no need to re-run ;)\n",
      "T170_2019_02_14_Notebook_5_a_seq0a1b2b3b4abcd5a: This session already exists - no need to re-run ;)\n",
      "2019_02_14__T170_T170-150948\n",
      "Notebook_6_b.ipynb is being executed\n"
     ]
    },
    {
     "data": {
      "application/vnd.jupyter.widget-view+json": {
       "model_id": "f236a714522a487e80e121579ed3fe63",
       "version_major": 2,
       "version_minor": 0
      },
      "text/plain": [
       "HBox(children=(FloatProgress(value=0.0, description='Executing', max=12.0, style=ProgressStyle(description_wid…"
      ]
     },
     "metadata": {},
     "output_type": "display_data"
    },
    {
     "name": "stdout",
     "output_type": "stream",
     "text": [
      "\n",
      "2019_02_14__T170_T170-150948\n",
      "Notebook_7_a.ipynb is being executed\n"
     ]
    },
    {
     "data": {
      "application/vnd.jupyter.widget-view+json": {
       "model_id": "589910df7faf451e9a63d4df9d877b67",
       "version_major": 2,
       "version_minor": 0
      },
      "text/plain": [
       "HBox(children=(FloatProgress(value=0.0, description='Executing', max=6.0, style=ProgressStyle(description_widt…"
      ]
     },
     "metadata": {},
     "output_type": "display_data"
    },
    {
     "name": "stdout",
     "output_type": "stream",
     "text": [
      "\n",
      "T170_2019_02_19_Notebook_0_a: This session already exists - no need to re-run ;)\n",
      "T170_2019_02_19_Notebook_1_b: This session already exists - no need to re-run ;)\n",
      "T170_2019_02_19_Notebook_2_b: This session already exists - no need to re-run ;)\n",
      "T170_2019_02_19_Notebook_3_b_seq2b3b: This session already exists - no need to re-run ;)\n",
      "T170_2019_02_19_Notebook_4_a: This session already exists - no need to re-run ;)\n",
      "T170_2019_02_19_Notebook_4_b: This session already exists - no need to re-run ;)\n",
      "T170_2019_02_19_Notebook_4_c: This session already exists - no need to re-run ;)\n",
      "T170_2019_02_19_Notebook_4_d: This session already exists - no need to re-run ;)\n",
      "T170_2019_02_19_Notebook_5_a_seq0a1b2b3b4abcd5a: This session already exists - no need to re-run ;)\n",
      "2019_02_19__T170_T170-143910\n",
      "Notebook_6_b.ipynb is being executed\n"
     ]
    },
    {
     "data": {
      "application/vnd.jupyter.widget-view+json": {
       "model_id": "f6419a3d34b14ffcb5ad1591462402b0",
       "version_major": 2,
       "version_minor": 0
      },
      "text/plain": [
       "HBox(children=(FloatProgress(value=0.0, description='Executing', max=12.0, style=ProgressStyle(description_wid…"
      ]
     },
     "metadata": {},
     "output_type": "display_data"
    },
    {
     "name": "stdout",
     "output_type": "stream",
     "text": [
      "\n",
      "2019_02_19__T170_T170-143910\n",
      "Notebook_7_a.ipynb is being executed\n"
     ]
    },
    {
     "data": {
      "application/vnd.jupyter.widget-view+json": {
       "model_id": "3902b6f4aefa425c8845051917da82b2",
       "version_major": 2,
       "version_minor": 0
      },
      "text/plain": [
       "HBox(children=(FloatProgress(value=0.0, description='Executing', max=6.0, style=ProgressStyle(description_widt…"
      ]
     },
     "metadata": {},
     "output_type": "display_data"
    },
    {
     "name": "stdout",
     "output_type": "stream",
     "text": [
      "\n",
      "T170_2019_02_20_Notebook_0_a: This session already exists - no need to re-run ;)\n",
      "T170_2019_02_20_Notebook_1_b: This session already exists - no need to re-run ;)\n",
      "T170_2019_02_20_Notebook_2_b: This session already exists - no need to re-run ;)\n",
      "T170_2019_02_20_Notebook_3_b_seq2b3b: This session already exists - no need to re-run ;)\n",
      "T170_2019_02_20_Notebook_4_a: This session already exists - no need to re-run ;)\n",
      "T170_2019_02_20_Notebook_4_b: This session already exists - no need to re-run ;)\n",
      "T170_2019_02_20_Notebook_4_c: This session already exists - no need to re-run ;)\n",
      "T170_2019_02_20_Notebook_4_d: This session already exists - no need to re-run ;)\n",
      "T170_2019_02_20_Notebook_5_a_seq0a1b2b3b4abcd5a: This session already exists - no need to re-run ;)\n",
      "2019_02_20__T170_T170-150418\n",
      "Notebook_6_b.ipynb is being executed\n"
     ]
    },
    {
     "data": {
      "application/vnd.jupyter.widget-view+json": {
       "model_id": "2f3e7b51b1f74b898414bff16f1fce7a",
       "version_major": 2,
       "version_minor": 0
      },
      "text/plain": [
       "HBox(children=(FloatProgress(value=0.0, description='Executing', max=12.0, style=ProgressStyle(description_wid…"
      ]
     },
     "metadata": {},
     "output_type": "display_data"
    },
    {
     "name": "stdout",
     "output_type": "stream",
     "text": [
      "\n",
      "2019_02_20__T170_T170-150418\n",
      "Notebook_7_a.ipynb is being executed\n"
     ]
    },
    {
     "data": {
      "application/vnd.jupyter.widget-view+json": {
       "model_id": "55223d57185342438704224cf137d2bc",
       "version_major": 2,
       "version_minor": 0
      },
      "text/plain": [
       "HBox(children=(FloatProgress(value=0.0, description='Executing', max=6.0, style=ProgressStyle(description_widt…"
      ]
     },
     "metadata": {},
     "output_type": "display_data"
    },
    {
     "name": "stdout",
     "output_type": "stream",
     "text": [
      "\n",
      "T170_2019_02_21_Notebook_0_a: This session already exists - no need to re-run ;)\n",
      "T170_2019_02_21_Notebook_1_b: This session already exists - no need to re-run ;)\n",
      "T170_2019_02_21_Notebook_2_b: This session already exists - no need to re-run ;)\n",
      "T170_2019_02_21_Notebook_3_b_seq2b3b: This session already exists - no need to re-run ;)\n",
      "T170_2019_02_21_Notebook_4_a: This session already exists - no need to re-run ;)\n",
      "T170_2019_02_21_Notebook_4_b: This session already exists - no need to re-run ;)\n",
      "T170_2019_02_21_Notebook_4_c: This session already exists - no need to re-run ;)\n",
      "T170_2019_02_21_Notebook_4_d: This session already exists - no need to re-run ;)\n",
      "T170_2019_02_21_Notebook_5_a_seq0a1b2b3b4abcd5a: This session already exists - no need to re-run ;)\n",
      "2019_02_21__T170_T170-143714\n",
      "Notebook_6_b.ipynb is being executed\n"
     ]
    },
    {
     "data": {
      "application/vnd.jupyter.widget-view+json": {
       "model_id": "6f4e9f628b254a4da262e4148c6c3c2b",
       "version_major": 2,
       "version_minor": 0
      },
      "text/plain": [
       "HBox(children=(FloatProgress(value=0.0, description='Executing', max=12.0, style=ProgressStyle(description_wid…"
      ]
     },
     "metadata": {},
     "output_type": "display_data"
    },
    {
     "name": "stdout",
     "output_type": "stream",
     "text": [
      "\n",
      "2019_02_21__T170_T170-143714\n",
      "Notebook_7_a.ipynb is being executed\n"
     ]
    },
    {
     "data": {
      "application/vnd.jupyter.widget-view+json": {
       "model_id": "695089c7c52e4cf795d4130d003c0221",
       "version_major": 2,
       "version_minor": 0
      },
      "text/plain": [
       "HBox(children=(FloatProgress(value=0.0, description='Executing', max=6.0, style=ProgressStyle(description_widt…"
      ]
     },
     "metadata": {},
     "output_type": "display_data"
    },
    {
     "name": "stdout",
     "output_type": "stream",
     "text": [
      "\n",
      "T170_2019_02_22_Notebook_0_a: This session already exists - no need to re-run ;)\n",
      "T170_2019_02_22_Notebook_1_b: This session already exists - no need to re-run ;)\n",
      "T170_2019_02_22_Notebook_2_b: This session already exists - no need to re-run ;)\n",
      "T170_2019_02_22_Notebook_3_b_seq2b3b: This session already exists - no need to re-run ;)\n",
      "T170_2019_02_22_Notebook_4_a: This session already exists - no need to re-run ;)\n",
      "T170_2019_02_22_Notebook_4_b: This session already exists - no need to re-run ;)\n",
      "T170_2019_02_22_Notebook_4_c: This session already exists - no need to re-run ;)\n",
      "T170_2019_02_22_Notebook_4_d: This session already exists - no need to re-run ;)\n",
      "T170_2019_02_22_Notebook_5_a_seq0a1b2b3b4abcd5a: This session already exists - no need to re-run ;)\n",
      "2019_02_22__T170_T170-141516\n",
      "Notebook_6_b.ipynb is being executed\n"
     ]
    },
    {
     "data": {
      "application/vnd.jupyter.widget-view+json": {
       "model_id": "ccf0b574108d47b5935d0d0489ec0062",
       "version_major": 2,
       "version_minor": 0
      },
      "text/plain": [
       "HBox(children=(FloatProgress(value=0.0, description='Executing', max=12.0, style=ProgressStyle(description_wid…"
      ]
     },
     "metadata": {},
     "output_type": "display_data"
    },
    {
     "name": "stdout",
     "output_type": "stream",
     "text": [
      "\n",
      "2019_02_22__T170_T170-141516\n",
      "Notebook_7_a.ipynb is being executed\n"
     ]
    },
    {
     "data": {
      "application/vnd.jupyter.widget-view+json": {
       "model_id": "cd27055a08714f62a54e82051ce8852b",
       "version_major": 2,
       "version_minor": 0
      },
      "text/plain": [
       "HBox(children=(FloatProgress(value=0.0, description='Executing', max=6.0, style=ProgressStyle(description_widt…"
      ]
     },
     "metadata": {},
     "output_type": "display_data"
    },
    {
     "name": "stdout",
     "output_type": "stream",
     "text": [
      "\n",
      "T171_2019_01_22_Notebook_0_a: This session already exists - no need to re-run ;)\n",
      "T171_2019_01_22_Notebook_1_b: This session already exists - no need to re-run ;)\n",
      "T171_2019_01_22_Notebook_2_b: This session already exists - no need to re-run ;)\n",
      "T171_2019_01_22_Notebook_3_b_seq2b3b: This session already exists - no need to re-run ;)\n",
      "T171_2019_01_22_Notebook_4_a: This session already exists - no need to re-run ;)\n",
      "T171_2019_01_22_Notebook_4_b: This session already exists - no need to re-run ;)\n",
      "T171_2019_01_22_Notebook_4_c: This session already exists - no need to re-run ;)\n",
      "T171_2019_01_22_Notebook_4_d: This session already exists - no need to re-run ;)\n",
      "T171_2019_01_22_Notebook_5_a_seq0a1b2b3b4abcd5a: This session already exists - no need to re-run ;)\n",
      "2019_01_22__T171_T171-165215\n",
      "Notebook_6_b.ipynb is being executed\n"
     ]
    },
    {
     "data": {
      "application/vnd.jupyter.widget-view+json": {
       "model_id": "194625a066024cf8a57112625784a6fe",
       "version_major": 2,
       "version_minor": 0
      },
      "text/plain": [
       "HBox(children=(FloatProgress(value=0.0, description='Executing', max=12.0, style=ProgressStyle(description_wid…"
      ]
     },
     "metadata": {},
     "output_type": "display_data"
    },
    {
     "name": "stdout",
     "output_type": "stream",
     "text": [
      "\n",
      "2019_01_22__T171_T171-165215\n",
      "Notebook_7_a.ipynb is being executed\n"
     ]
    },
    {
     "data": {
      "application/vnd.jupyter.widget-view+json": {
       "model_id": "9acf085986b54fc08513f9499c707dcd",
       "version_major": 2,
       "version_minor": 0
      },
      "text/plain": [
       "HBox(children=(FloatProgress(value=0.0, description='Executing', max=6.0, style=ProgressStyle(description_widt…"
      ]
     },
     "metadata": {},
     "output_type": "display_data"
    },
    {
     "name": "stdout",
     "output_type": "stream",
     "text": [
      "\n",
      "T171_2019_01_23_Notebook_0_a: This session already exists - no need to re-run ;)\n",
      "T171_2019_01_23_Notebook_1_b: This session already exists - no need to re-run ;)\n",
      "T171_2019_01_23_Notebook_2_b: This session already exists - no need to re-run ;)\n",
      "T171_2019_01_23_Notebook_3_b_seq2b3b: This session already exists - no need to re-run ;)\n",
      "T171_2019_01_23_Notebook_4_a: This session already exists - no need to re-run ;)\n",
      "T171_2019_01_23_Notebook_4_b: This session already exists - no need to re-run ;)\n",
      "T171_2019_01_23_Notebook_4_c: This session already exists - no need to re-run ;)\n",
      "T171_2019_01_23_Notebook_4_d: This session already exists - no need to re-run ;)\n",
      "T171_2019_01_23_Notebook_5_a_seq0a1b2b3b4abcd5a: This session already exists - no need to re-run ;)\n",
      "2019_01_23__T171_T171-165937\n",
      "Notebook_6_b.ipynb is being executed\n"
     ]
    },
    {
     "data": {
      "application/vnd.jupyter.widget-view+json": {
       "model_id": "6eb2cfdd9b5f48bbb9898a1d5fe2ea74",
       "version_major": 2,
       "version_minor": 0
      },
      "text/plain": [
       "HBox(children=(FloatProgress(value=0.0, description='Executing', max=12.0, style=ProgressStyle(description_wid…"
      ]
     },
     "metadata": {},
     "output_type": "display_data"
    },
    {
     "name": "stdout",
     "output_type": "stream",
     "text": [
      "\n",
      "2019_01_23__T171_T171-165937\n",
      "Notebook_7_a.ipynb is being executed\n"
     ]
    },
    {
     "data": {
      "application/vnd.jupyter.widget-view+json": {
       "model_id": "6319d0e7d1dc40a8a108d7a8cdbb89ce",
       "version_major": 2,
       "version_minor": 0
      },
      "text/plain": [
       "HBox(children=(FloatProgress(value=0.0, description='Executing', max=6.0, style=ProgressStyle(description_widt…"
      ]
     },
     "metadata": {},
     "output_type": "display_data"
    },
    {
     "name": "stdout",
     "output_type": "stream",
     "text": [
      "\n",
      "T171_2019_01_25_Notebook_0_a: This session already exists - no need to re-run ;)\n",
      "T171_2019_01_25_Notebook_1_b: This session already exists - no need to re-run ;)\n",
      "T171_2019_01_25_Notebook_2_b: This session already exists - no need to re-run ;)\n",
      "T171_2019_01_25_Notebook_3_b_seq2b3b: This session already exists - no need to re-run ;)\n",
      "T171_2019_01_25_Notebook_4_a: This session already exists - no need to re-run ;)\n",
      "T171_2019_01_25_Notebook_4_b: This session already exists - no need to re-run ;)\n",
      "T171_2019_01_25_Notebook_4_c: This session already exists - no need to re-run ;)\n",
      "T171_2019_01_25_Notebook_4_d: This session already exists - no need to re-run ;)\n",
      "T171_2019_01_25_Notebook_5_a_seq0a1b2b3b4abcd5a: This session already exists - no need to re-run ;)\n",
      "2019_01_25__T171_T171-153230\n",
      "Notebook_6_b.ipynb is being executed\n"
     ]
    },
    {
     "data": {
      "application/vnd.jupyter.widget-view+json": {
       "model_id": "143cbef3a18d49f7b89efbd35e6c0591",
       "version_major": 2,
       "version_minor": 0
      },
      "text/plain": [
       "HBox(children=(FloatProgress(value=0.0, description='Executing', max=12.0, style=ProgressStyle(description_wid…"
      ]
     },
     "metadata": {},
     "output_type": "display_data"
    },
    {
     "name": "stdout",
     "output_type": "stream",
     "text": [
      "\n",
      "2019_01_25__T171_T171-153230\n",
      "Notebook_7_a.ipynb is being executed\n"
     ]
    },
    {
     "data": {
      "application/vnd.jupyter.widget-view+json": {
       "model_id": "4190bdaf78c946649310f153dc6612cd",
       "version_major": 2,
       "version_minor": 0
      },
      "text/plain": [
       "HBox(children=(FloatProgress(value=0.0, description='Executing', max=6.0, style=ProgressStyle(description_widt…"
      ]
     },
     "metadata": {},
     "output_type": "display_data"
    },
    {
     "name": "stdout",
     "output_type": "stream",
     "text": [
      "\n",
      "T171_2019_01_28_Notebook_0_a: This session already exists - no need to re-run ;)\n",
      "T171_2019_01_28_Notebook_1_b: This session already exists - no need to re-run ;)\n",
      "T171_2019_01_28_Notebook_2_b: This session already exists - no need to re-run ;)\n",
      "T171_2019_01_28_Notebook_3_b_seq2b3b: This session already exists - no need to re-run ;)\n",
      "T171_2019_01_28_Notebook_4_a: This session already exists - no need to re-run ;)\n",
      "T171_2019_01_28_Notebook_4_b: This session already exists - no need to re-run ;)\n",
      "T171_2019_01_28_Notebook_4_c: This session already exists - no need to re-run ;)\n",
      "T171_2019_01_28_Notebook_4_d: This session already exists - no need to re-run ;)\n",
      "T171_2019_01_28_Notebook_5_a_seq0a1b2b3b4abcd5a: This session already exists - no need to re-run ;)\n",
      "2019_01_28__T171_T171-144901\n",
      "Notebook_6_b.ipynb is being executed\n"
     ]
    },
    {
     "data": {
      "application/vnd.jupyter.widget-view+json": {
       "model_id": "11217bc9b8e645f7a9fa4f06a13b2cc9",
       "version_major": 2,
       "version_minor": 0
      },
      "text/plain": [
       "HBox(children=(FloatProgress(value=0.0, description='Executing', max=12.0, style=ProgressStyle(description_wid…"
      ]
     },
     "metadata": {},
     "output_type": "display_data"
    },
    {
     "name": "stdout",
     "output_type": "stream",
     "text": [
      "\n",
      "2019_01_28__T171_T171-144901\n",
      "Notebook_7_a.ipynb is being executed\n"
     ]
    },
    {
     "data": {
      "application/vnd.jupyter.widget-view+json": {
       "model_id": "8dd7bc536ebb4f5a9f8151a80ef795b7",
       "version_major": 2,
       "version_minor": 0
      },
      "text/plain": [
       "HBox(children=(FloatProgress(value=0.0, description='Executing', max=6.0, style=ProgressStyle(description_widt…"
      ]
     },
     "metadata": {},
     "output_type": "display_data"
    },
    {
     "name": "stdout",
     "output_type": "stream",
     "text": [
      "\n",
      "T171_2019_01_30_Notebook_0_a: This session already exists - no need to re-run ;)\n",
      "T171_2019_01_30_Notebook_1_b: This session already exists - no need to re-run ;)\n",
      "T171_2019_01_30_Notebook_2_b: This session already exists - no need to re-run ;)\n",
      "T171_2019_01_30_Notebook_3_b_seq2b3b: This session already exists - no need to re-run ;)\n",
      "T171_2019_01_30_Notebook_4_a: This session already exists - no need to re-run ;)\n",
      "T171_2019_01_30_Notebook_4_b: This session already exists - no need to re-run ;)\n",
      "T171_2019_01_30_Notebook_4_c: This session already exists - no need to re-run ;)\n",
      "T171_2019_01_30_Notebook_4_d: This session already exists - no need to re-run ;)\n",
      "T171_2019_01_30_Notebook_5_a_seq0a1b2b3b4abcd5a: This session already exists - no need to re-run ;)\n",
      "2019_01_30__T171_T171-145252\n",
      "Notebook_6_b.ipynb is being executed\n"
     ]
    },
    {
     "data": {
      "application/vnd.jupyter.widget-view+json": {
       "model_id": "ed7f8e426b66459680c6ddf49d3e2154",
       "version_major": 2,
       "version_minor": 0
      },
      "text/plain": [
       "HBox(children=(FloatProgress(value=0.0, description='Executing', max=12.0, style=ProgressStyle(description_wid…"
      ]
     },
     "metadata": {},
     "output_type": "display_data"
    },
    {
     "name": "stdout",
     "output_type": "stream",
     "text": [
      "\n",
      "2019_01_30__T171_T171-145252\n",
      "Notebook_7_a.ipynb is being executed\n"
     ]
    },
    {
     "data": {
      "application/vnd.jupyter.widget-view+json": {
       "model_id": "d6a6e46e4fee49c093ba3dc29c27e93f",
       "version_major": 2,
       "version_minor": 0
      },
      "text/plain": [
       "HBox(children=(FloatProgress(value=0.0, description='Executing', max=6.0, style=ProgressStyle(description_widt…"
      ]
     },
     "metadata": {},
     "output_type": "display_data"
    },
    {
     "name": "stdout",
     "output_type": "stream",
     "text": [
      "\n",
      "T171_2019_01_31_Notebook_0_a: This session already exists - no need to re-run ;)\n",
      "T171_2019_01_31_Notebook_1_b: This session already exists - no need to re-run ;)\n",
      "T171_2019_01_31_Notebook_2_b: This session already exists - no need to re-run ;)\n",
      "T171_2019_01_31_Notebook_3_b_seq2b3b: This session already exists - no need to re-run ;)\n",
      "T171_2019_01_31_Notebook_4_a: This session already exists - no need to re-run ;)\n",
      "T171_2019_01_31_Notebook_4_b: This session already exists - no need to re-run ;)\n",
      "T171_2019_01_31_Notebook_4_c: This session already exists - no need to re-run ;)\n",
      "T171_2019_01_31_Notebook_4_d: This session already exists - no need to re-run ;)\n",
      "T171_2019_01_31_Notebook_5_a_seq0a1b2b3b4abcd5a: This session already exists - no need to re-run ;)\n",
      "2019_01_31__T171_T171-153700\n",
      "Notebook_6_b.ipynb is being executed\n"
     ]
    },
    {
     "data": {
      "application/vnd.jupyter.widget-view+json": {
       "model_id": "12e1921262a54f4a9b37edba15e8122e",
       "version_major": 2,
       "version_minor": 0
      },
      "text/plain": [
       "HBox(children=(FloatProgress(value=0.0, description='Executing', max=12.0, style=ProgressStyle(description_wid…"
      ]
     },
     "metadata": {},
     "output_type": "display_data"
    },
    {
     "name": "stdout",
     "output_type": "stream",
     "text": [
      "\n",
      "2019_01_31__T171_T171-153700\n",
      "Notebook_7_a.ipynb is being executed\n"
     ]
    },
    {
     "data": {
      "application/vnd.jupyter.widget-view+json": {
       "model_id": "2922cd9f893f4e568ad451ce43fa726e",
       "version_major": 2,
       "version_minor": 0
      },
      "text/plain": [
       "HBox(children=(FloatProgress(value=0.0, description='Executing', max=6.0, style=ProgressStyle(description_widt…"
      ]
     },
     "metadata": {},
     "output_type": "display_data"
    },
    {
     "name": "stdout",
     "output_type": "stream",
     "text": [
      "\n",
      "T171_2019_02_08_Notebook_0_a: This session already exists - no need to re-run ;)\n",
      "T171_2019_02_08_Notebook_1_b: This session already exists - no need to re-run ;)\n",
      "T171_2019_02_08_Notebook_2_b: This session already exists - no need to re-run ;)\n",
      "T171_2019_02_08_Notebook_3_b_seq2b3b: This session already exists - no need to re-run ;)\n",
      "T171_2019_02_08_Notebook_4_a: This session already exists - no need to re-run ;)\n",
      "T171_2019_02_08_Notebook_4_b: This session already exists - no need to re-run ;)\n",
      "T171_2019_02_08_Notebook_4_c: This session already exists - no need to re-run ;)\n",
      "T171_2019_02_08_Notebook_4_d: This session already exists - no need to re-run ;)\n",
      "T171_2019_02_08_Notebook_5_a_seq0a1b2b3b4abcd5a: This session already exists - no need to re-run ;)\n",
      "2019_02_08__T171_T171-170021\n",
      "Notebook_6_b.ipynb is being executed\n"
     ]
    },
    {
     "data": {
      "application/vnd.jupyter.widget-view+json": {
       "model_id": "9282983fbf5245ad9df85a7f8860e4f5",
       "version_major": 2,
       "version_minor": 0
      },
      "text/plain": [
       "HBox(children=(FloatProgress(value=0.0, description='Executing', max=12.0, style=ProgressStyle(description_wid…"
      ]
     },
     "metadata": {},
     "output_type": "display_data"
    },
    {
     "name": "stdout",
     "output_type": "stream",
     "text": [
      "\n",
      "2019_02_08__T171_T171-170021\n",
      "Notebook_7_a.ipynb is being executed\n"
     ]
    },
    {
     "data": {
      "application/vnd.jupyter.widget-view+json": {
       "model_id": "884ffbbd539d480a99fce464c1fabeec",
       "version_major": 2,
       "version_minor": 0
      },
      "text/plain": [
       "HBox(children=(FloatProgress(value=0.0, description='Executing', max=6.0, style=ProgressStyle(description_widt…"
      ]
     },
     "metadata": {},
     "output_type": "display_data"
    },
    {
     "name": "stdout",
     "output_type": "stream",
     "text": [
      "\n",
      "T171_2019_02_11_Notebook_0_a: This session already exists - no need to re-run ;)\n",
      "T171_2019_02_11_Notebook_1_b: This session already exists - no need to re-run ;)\n",
      "T171_2019_02_11_Notebook_2_b: This session already exists - no need to re-run ;)\n",
      "T171_2019_02_11_Notebook_3_b_seq2b3b: This session already exists - no need to re-run ;)\n",
      "T171_2019_02_11_Notebook_4_a: This session already exists - no need to re-run ;)\n",
      "T171_2019_02_11_Notebook_4_b: This session already exists - no need to re-run ;)\n",
      "T171_2019_02_11_Notebook_4_c: This session already exists - no need to re-run ;)\n",
      "T171_2019_02_11_Notebook_4_d: This session already exists - no need to re-run ;)\n",
      "T171_2019_02_11_Notebook_5_a_seq0a1b2b3b4abcd5a: This session already exists - no need to re-run ;)\n",
      "2019_02_11__T171_T171-143016\n",
      "Notebook_6_b.ipynb is being executed\n"
     ]
    },
    {
     "data": {
      "application/vnd.jupyter.widget-view+json": {
       "model_id": "a2d4b693d4c143779cf328e8b080f5c2",
       "version_major": 2,
       "version_minor": 0
      },
      "text/plain": [
       "HBox(children=(FloatProgress(value=0.0, description='Executing', max=12.0, style=ProgressStyle(description_wid…"
      ]
     },
     "metadata": {},
     "output_type": "display_data"
    },
    {
     "name": "stdout",
     "output_type": "stream",
     "text": [
      "\n",
      "2019_02_11__T171_T171-143016\n",
      "Notebook_7_a.ipynb is being executed\n"
     ]
    },
    {
     "data": {
      "application/vnd.jupyter.widget-view+json": {
       "model_id": "e6dbae372c2741259d3d8de438aab82d",
       "version_major": 2,
       "version_minor": 0
      },
      "text/plain": [
       "HBox(children=(FloatProgress(value=0.0, description='Executing', max=6.0, style=ProgressStyle(description_widt…"
      ]
     },
     "metadata": {},
     "output_type": "display_data"
    },
    {
     "name": "stdout",
     "output_type": "stream",
     "text": [
      "\n",
      "T171_2019_02_12_Notebook_0_a: This session already exists - no need to re-run ;)\n",
      "T171_2019_02_12_Notebook_1_b: This session already exists - no need to re-run ;)\n",
      "T171_2019_02_12_Notebook_2_b: This session already exists - no need to re-run ;)\n",
      "T171_2019_02_12_Notebook_3_b_seq2b3b: This session already exists - no need to re-run ;)\n",
      "T171_2019_02_12_Notebook_4_a: This session already exists - no need to re-run ;)\n",
      "T171_2019_02_12_Notebook_4_b: This session already exists - no need to re-run ;)\n",
      "T171_2019_02_12_Notebook_4_c: This session already exists - no need to re-run ;)\n",
      "T171_2019_02_12_Notebook_4_d: This session already exists - no need to re-run ;)\n",
      "T171_2019_02_12_Notebook_5_a_seq0a1b2b3b4abcd5a: This session already exists - no need to re-run ;)\n",
      "2019_02_12__T171_T171-164950\n",
      "Notebook_6_b.ipynb is being executed\n"
     ]
    },
    {
     "data": {
      "application/vnd.jupyter.widget-view+json": {
       "model_id": "76b38e878de040d2aba9ccd4e98df7cc",
       "version_major": 2,
       "version_minor": 0
      },
      "text/plain": [
       "HBox(children=(FloatProgress(value=0.0, description='Executing', max=12.0, style=ProgressStyle(description_wid…"
      ]
     },
     "metadata": {},
     "output_type": "display_data"
    },
    {
     "name": "stdout",
     "output_type": "stream",
     "text": [
      "\n",
      "2019_02_12__T171_T171-164950\n",
      "Notebook_7_a.ipynb is being executed\n"
     ]
    },
    {
     "data": {
      "application/vnd.jupyter.widget-view+json": {
       "model_id": "3e4f29e4220c419abae97561261e515e",
       "version_major": 2,
       "version_minor": 0
      },
      "text/plain": [
       "HBox(children=(FloatProgress(value=0.0, description='Executing', max=6.0, style=ProgressStyle(description_widt…"
      ]
     },
     "metadata": {},
     "output_type": "display_data"
    },
    {
     "name": "stdout",
     "output_type": "stream",
     "text": [
      "\n",
      "T171_2019_02_13_Notebook_0_a: This session already exists - no need to re-run ;)\n",
      "T171_2019_02_13_Notebook_1_b: This session already exists - no need to re-run ;)\n",
      "T171_2019_02_13_Notebook_2_b: This session already exists - no need to re-run ;)\n",
      "T171_2019_02_13_Notebook_3_b_seq2b3b: This session already exists - no need to re-run ;)\n",
      "T171_2019_02_13_Notebook_4_a: This session already exists - no need to re-run ;)\n",
      "T171_2019_02_13_Notebook_4_b: This session already exists - no need to re-run ;)\n",
      "T171_2019_02_13_Notebook_4_c: This session already exists - no need to re-run ;)\n",
      "T171_2019_02_13_Notebook_4_d: This session already exists - no need to re-run ;)\n",
      "T171_2019_02_13_Notebook_5_a_seq0a1b2b3b4abcd5a: This session already exists - no need to re-run ;)\n",
      "2019_02_13__T171_T171-151952\n",
      "Notebook_6_b.ipynb is being executed\n"
     ]
    },
    {
     "data": {
      "application/vnd.jupyter.widget-view+json": {
       "model_id": "c309476d3d254d40ac01a33116b1dc43",
       "version_major": 2,
       "version_minor": 0
      },
      "text/plain": [
       "HBox(children=(FloatProgress(value=0.0, description='Executing', max=12.0, style=ProgressStyle(description_wid…"
      ]
     },
     "metadata": {},
     "output_type": "display_data"
    },
    {
     "name": "stdout",
     "output_type": "stream",
     "text": [
      "\n",
      "2019_02_13__T171_T171-151952\n",
      "Notebook_7_a.ipynb is being executed\n"
     ]
    },
    {
     "data": {
      "application/vnd.jupyter.widget-view+json": {
       "model_id": "3d292e1371d243d5b0ab2d805c299c47",
       "version_major": 2,
       "version_minor": 0
      },
      "text/plain": [
       "HBox(children=(FloatProgress(value=0.0, description='Executing', max=6.0, style=ProgressStyle(description_widt…"
      ]
     },
     "metadata": {},
     "output_type": "display_data"
    },
    {
     "name": "stdout",
     "output_type": "stream",
     "text": [
      "\n",
      "T171_2019_02_14_Notebook_0_a: This session already exists - no need to re-run ;)\n",
      "T171_2019_02_14_Notebook_1_b: This session already exists - no need to re-run ;)\n",
      "T171_2019_02_14_Notebook_2_b: This session already exists - no need to re-run ;)\n",
      "T171_2019_02_14_Notebook_3_b_seq2b3b: This session already exists - no need to re-run ;)\n",
      "T171_2019_02_14_Notebook_4_a: This session already exists - no need to re-run ;)\n",
      "T171_2019_02_14_Notebook_4_b: This session already exists - no need to re-run ;)\n",
      "T171_2019_02_14_Notebook_4_c: This session already exists - no need to re-run ;)\n",
      "T171_2019_02_14_Notebook_4_d: This session already exists - no need to re-run ;)\n",
      "T171_2019_02_14_Notebook_5_a_seq0a1b2b3b4abcd5a: This session already exists - no need to re-run ;)\n",
      "2019_02_14__T171_T171-155052\n",
      "Notebook_6_b.ipynb is being executed\n"
     ]
    },
    {
     "data": {
      "application/vnd.jupyter.widget-view+json": {
       "model_id": "905fb654a3854b6e865bb92a1d6a42d6",
       "version_major": 2,
       "version_minor": 0
      },
      "text/plain": [
       "HBox(children=(FloatProgress(value=0.0, description='Executing', max=12.0, style=ProgressStyle(description_wid…"
      ]
     },
     "metadata": {},
     "output_type": "display_data"
    },
    {
     "name": "stdout",
     "output_type": "stream",
     "text": [
      "\n",
      "2019_02_14__T171_T171-155052\n",
      "Notebook_7_a.ipynb is being executed\n"
     ]
    },
    {
     "data": {
      "application/vnd.jupyter.widget-view+json": {
       "model_id": "8b73f772374643caa93a9a7d4e99fb9d",
       "version_major": 2,
       "version_minor": 0
      },
      "text/plain": [
       "HBox(children=(FloatProgress(value=0.0, description='Executing', max=6.0, style=ProgressStyle(description_widt…"
      ]
     },
     "metadata": {},
     "output_type": "display_data"
    },
    {
     "name": "stdout",
     "output_type": "stream",
     "text": [
      "\n",
      "T171_2019_02_15_Notebook_0_a: This session already exists - no need to re-run ;)\n",
      "T171_2019_02_15_Notebook_1_b: This session already exists - no need to re-run ;)\n",
      "T171_2019_02_15_Notebook_2_b: This session already exists - no need to re-run ;)\n",
      "T171_2019_02_15_Notebook_3_b_seq2b3b: This session already exists - no need to re-run ;)\n",
      "T171_2019_02_15_Notebook_4_a: This session already exists - no need to re-run ;)\n",
      "T171_2019_02_15_Notebook_4_b: This session already exists - no need to re-run ;)\n",
      "T171_2019_02_15_Notebook_4_c: This session already exists - no need to re-run ;)\n",
      "T171_2019_02_15_Notebook_4_d: This session already exists - no need to re-run ;)\n",
      "T171_2019_02_15_Notebook_5_a_seq0a1b2b3b4abcd5a: This session already exists - no need to re-run ;)\n",
      "2019_02_15__T171_T171-152142\n",
      "Notebook_6_b.ipynb is being executed\n"
     ]
    },
    {
     "data": {
      "application/vnd.jupyter.widget-view+json": {
       "model_id": "8f06bc1afca744ccbb175df5811b674a",
       "version_major": 2,
       "version_minor": 0
      },
      "text/plain": [
       "HBox(children=(FloatProgress(value=0.0, description='Executing', max=12.0, style=ProgressStyle(description_wid…"
      ]
     },
     "metadata": {},
     "output_type": "display_data"
    },
    {
     "name": "stdout",
     "output_type": "stream",
     "text": [
      "\n",
      "2019_02_15__T171_T171-152142\n",
      "Notebook_7_a.ipynb is being executed\n"
     ]
    },
    {
     "data": {
      "application/vnd.jupyter.widget-view+json": {
       "model_id": "1bcb6bc75fc34e98939bf1a503d30ced",
       "version_major": 2,
       "version_minor": 0
      },
      "text/plain": [
       "HBox(children=(FloatProgress(value=0.0, description='Executing', max=6.0, style=ProgressStyle(description_widt…"
      ]
     },
     "metadata": {},
     "output_type": "display_data"
    },
    {
     "name": "stdout",
     "output_type": "stream",
     "text": [
      "\n",
      "T171_2019_02_19_Notebook_0_a: This session already exists - no need to re-run ;)\n",
      "T171_2019_02_19_Notebook_1_b: This session already exists - no need to re-run ;)\n",
      "T171_2019_02_19_Notebook_2_b: This session already exists - no need to re-run ;)\n",
      "T171_2019_02_19_Notebook_3_b_seq2b3b: This session already exists - no need to re-run ;)\n",
      "T171_2019_02_19_Notebook_4_a: This session already exists - no need to re-run ;)\n",
      "T171_2019_02_19_Notebook_4_b: This session already exists - no need to re-run ;)\n",
      "T171_2019_02_19_Notebook_4_c: This session already exists - no need to re-run ;)\n",
      "T171_2019_02_19_Notebook_4_d: This session already exists - no need to re-run ;)\n",
      "T171_2019_02_19_Notebook_5_a_seq0a1b2b3b4abcd5a: This session already exists - no need to re-run ;)\n",
      "2019_02_19__T171_T171-150804\n",
      "Notebook_6_b.ipynb is being executed\n"
     ]
    },
    {
     "data": {
      "application/vnd.jupyter.widget-view+json": {
       "model_id": "9b3c11d13a7c47f5bf3350702ef6b62d",
       "version_major": 2,
       "version_minor": 0
      },
      "text/plain": [
       "HBox(children=(FloatProgress(value=0.0, description='Executing', max=12.0, style=ProgressStyle(description_wid…"
      ]
     },
     "metadata": {},
     "output_type": "display_data"
    },
    {
     "name": "stdout",
     "output_type": "stream",
     "text": [
      "\n",
      "2019_02_19__T171_T171-150804\n",
      "Notebook_7_a.ipynb is being executed\n"
     ]
    },
    {
     "data": {
      "application/vnd.jupyter.widget-view+json": {
       "model_id": "a5e987d05ef94c6ead5dfdc4573a983e",
       "version_major": 2,
       "version_minor": 0
      },
      "text/plain": [
       "HBox(children=(FloatProgress(value=0.0, description='Executing', max=6.0, style=ProgressStyle(description_widt…"
      ]
     },
     "metadata": {},
     "output_type": "display_data"
    },
    {
     "name": "stdout",
     "output_type": "stream",
     "text": [
      "\n",
      "T171_2019_02_20_Notebook_0_a: This session already exists - no need to re-run ;)\n",
      "T171_2019_02_20_Notebook_1_b: This session already exists - no need to re-run ;)\n",
      "T171_2019_02_20_Notebook_2_b: This session already exists - no need to re-run ;)\n",
      "T171_2019_02_20_Notebook_3_b_seq2b3b: This session already exists - no need to re-run ;)\n",
      "T171_2019_02_20_Notebook_4_a: This session already exists - no need to re-run ;)\n",
      "T171_2019_02_20_Notebook_4_b: This session already exists - no need to re-run ;)\n",
      "T171_2019_02_20_Notebook_4_c: This session already exists - no need to re-run ;)\n",
      "T171_2019_02_20_Notebook_4_d: This session already exists - no need to re-run ;)\n",
      "T171_2019_02_20_Notebook_5_a_seq0a1b2b3b4abcd5a: This session already exists - no need to re-run ;)\n",
      "2019_02_20__T171_T171-153511\n",
      "Notebook_6_b.ipynb is being executed\n"
     ]
    },
    {
     "data": {
      "application/vnd.jupyter.widget-view+json": {
       "model_id": "fbefa2db7cf2484199c60785f50f25be",
       "version_major": 2,
       "version_minor": 0
      },
      "text/plain": [
       "HBox(children=(FloatProgress(value=0.0, description='Executing', max=12.0, style=ProgressStyle(description_wid…"
      ]
     },
     "metadata": {},
     "output_type": "display_data"
    },
    {
     "name": "stdout",
     "output_type": "stream",
     "text": [
      "\n",
      "2019_02_20__T171_T171-153511\n",
      "Notebook_7_a.ipynb is being executed\n"
     ]
    },
    {
     "data": {
      "application/vnd.jupyter.widget-view+json": {
       "model_id": "780094f8eda845cb9c4a9f8f7b887b03",
       "version_major": 2,
       "version_minor": 0
      },
      "text/plain": [
       "HBox(children=(FloatProgress(value=0.0, description='Executing', max=6.0, style=ProgressStyle(description_widt…"
      ]
     },
     "metadata": {},
     "output_type": "display_data"
    },
    {
     "name": "stdout",
     "output_type": "stream",
     "text": [
      "\n",
      "T171_2019_02_21_Notebook_0_a: This session already exists - no need to re-run ;)\n",
      "T171_2019_02_21_Notebook_1_b: This session already exists - no need to re-run ;)\n",
      "T171_2019_02_21_Notebook_2_b: This session already exists - no need to re-run ;)\n",
      "T171_2019_02_21_Notebook_3_b_seq2b3b: This session already exists - no need to re-run ;)\n",
      "T171_2019_02_21_Notebook_4_a: This session already exists - no need to re-run ;)\n",
      "T171_2019_02_21_Notebook_4_b: This session already exists - no need to re-run ;)\n",
      "T171_2019_02_21_Notebook_4_c: This session already exists - no need to re-run ;)\n",
      "T171_2019_02_21_Notebook_4_d: This session already exists - no need to re-run ;)\n",
      "T171_2019_02_21_Notebook_5_a_seq0a1b2b3b4abcd5a: This session already exists - no need to re-run ;)\n",
      "2019_02_21__T171_T171-152107\n",
      "Notebook_6_b.ipynb is being executed\n"
     ]
    },
    {
     "data": {
      "application/vnd.jupyter.widget-view+json": {
       "model_id": "e9a383991ee141039ee128eca42dcd3d",
       "version_major": 2,
       "version_minor": 0
      },
      "text/plain": [
       "HBox(children=(FloatProgress(value=0.0, description='Executing', max=12.0, style=ProgressStyle(description_wid…"
      ]
     },
     "metadata": {},
     "output_type": "display_data"
    },
    {
     "name": "stdout",
     "output_type": "stream",
     "text": [
      "\n",
      "2019_02_21__T171_T171-152107\n",
      "Notebook_7_a.ipynb is being executed\n"
     ]
    },
    {
     "data": {
      "application/vnd.jupyter.widget-view+json": {
       "model_id": "ded3e132dff64b8888b4fcedab5c3e3d",
       "version_major": 2,
       "version_minor": 0
      },
      "text/plain": [
       "HBox(children=(FloatProgress(value=0.0, description='Executing', max=6.0, style=ProgressStyle(description_widt…"
      ]
     },
     "metadata": {},
     "output_type": "display_data"
    },
    {
     "name": "stdout",
     "output_type": "stream",
     "text": [
      "\n",
      "T171_2019_02_22_Notebook_0_a: This session already exists - no need to re-run ;)\n",
      "T171_2019_02_22_Notebook_1_b: This session already exists - no need to re-run ;)\n",
      "T171_2019_02_22_Notebook_2_b: This session already exists - no need to re-run ;)\n",
      "T171_2019_02_22_Notebook_3_b_seq2b3b: This session already exists - no need to re-run ;)\n",
      "T171_2019_02_22_Notebook_4_a: This session already exists - no need to re-run ;)\n",
      "T171_2019_02_22_Notebook_4_b: This session already exists - no need to re-run ;)\n",
      "T171_2019_02_22_Notebook_4_c: This session already exists - no need to re-run ;)\n",
      "T171_2019_02_22_Notebook_4_d: This session already exists - no need to re-run ;)\n",
      "T171_2019_02_22_Notebook_5_a_seq0a1b2b3b4abcd5a: This session already exists - no need to re-run ;)\n",
      "2019_02_22__T171_T171-145829\n",
      "Notebook_6_b.ipynb is being executed\n"
     ]
    },
    {
     "data": {
      "application/vnd.jupyter.widget-view+json": {
       "model_id": "d4516026b7d5411cba5e90937d7aab03",
       "version_major": 2,
       "version_minor": 0
      },
      "text/plain": [
       "HBox(children=(FloatProgress(value=0.0, description='Executing', max=12.0, style=ProgressStyle(description_wid…"
      ]
     },
     "metadata": {},
     "output_type": "display_data"
    },
    {
     "name": "stdout",
     "output_type": "stream",
     "text": [
      "\n",
      "2019_02_22__T171_T171-145829\n",
      "Notebook_7_a.ipynb is being executed\n"
     ]
    },
    {
     "data": {
      "application/vnd.jupyter.widget-view+json": {
       "model_id": "e9f63f74fbbf46b697aad8eaaa6cd598",
       "version_major": 2,
       "version_minor": 0
      },
      "text/plain": [
       "HBox(children=(FloatProgress(value=0.0, description='Executing', max=6.0, style=ProgressStyle(description_widt…"
      ]
     },
     "metadata": {},
     "output_type": "display_data"
    },
    {
     "name": "stdout",
     "output_type": "stream",
     "text": [
      "\n",
      "T171_2019_02_25_Notebook_0_a: This session already exists - no need to re-run ;)\n",
      "T171_2019_02_25_Notebook_1_b: This session already exists - no need to re-run ;)\n",
      "T171_2019_02_25_Notebook_2_b: This session already exists - no need to re-run ;)\n",
      "T171_2019_02_25_Notebook_3_b_seq2b3b: This session already exists - no need to re-run ;)\n",
      "T171_2019_02_25_Notebook_4_a: This session already exists - no need to re-run ;)\n",
      "T171_2019_02_25_Notebook_4_b: This session already exists - no need to re-run ;)\n",
      "T171_2019_02_25_Notebook_4_c: This session already exists - no need to re-run ;)\n",
      "T171_2019_02_25_Notebook_4_d: This session already exists - no need to re-run ;)\n",
      "T171_2019_02_25_Notebook_5_a_seq0a1b2b3b4abcd5a: This session already exists - no need to re-run ;)\n",
      "2019_02_25__T171_T171-152054\n",
      "Notebook_6_b.ipynb is being executed\n"
     ]
    },
    {
     "data": {
      "application/vnd.jupyter.widget-view+json": {
       "model_id": "816880a144704b1cbd515bd6cffbb596",
       "version_major": 2,
       "version_minor": 0
      },
      "text/plain": [
       "HBox(children=(FloatProgress(value=0.0, description='Executing', max=12.0, style=ProgressStyle(description_wid…"
      ]
     },
     "metadata": {},
     "output_type": "display_data"
    },
    {
     "name": "stdout",
     "output_type": "stream",
     "text": [
      "\n",
      "2019_02_25__T171_T171-152054\n",
      "Notebook_7_a.ipynb is being executed\n"
     ]
    },
    {
     "data": {
      "application/vnd.jupyter.widget-view+json": {
       "model_id": "ab678decf2874dcfa20ebcbd9bce12bc",
       "version_major": 2,
       "version_minor": 0
      },
      "text/plain": [
       "HBox(children=(FloatProgress(value=0.0, description='Executing', max=6.0, style=ProgressStyle(description_widt…"
      ]
     },
     "metadata": {},
     "output_type": "display_data"
    },
    {
     "name": "stdout",
     "output_type": "stream",
     "text": [
      "\n",
      "T171_2019_02_26_Notebook_0_a: This session already exists - no need to re-run ;)\n",
      "T171_2019_02_26_Notebook_1_b: This session already exists - no need to re-run ;)\n",
      "T171_2019_02_26_Notebook_2_b: This session already exists - no need to re-run ;)\n",
      "T171_2019_02_26_Notebook_3_b_seq2b3b: This session already exists - no need to re-run ;)\n",
      "T171_2019_02_26_Notebook_4_a: This session already exists - no need to re-run ;)\n",
      "T171_2019_02_26_Notebook_4_b: This session already exists - no need to re-run ;)\n",
      "T171_2019_02_26_Notebook_4_c: This session already exists - no need to re-run ;)\n",
      "T171_2019_02_26_Notebook_4_d: This session already exists - no need to re-run ;)\n",
      "T171_2019_02_26_Notebook_5_a_seq0a1b2b3b4abcd5a: This session already exists - no need to re-run ;)\n",
      "2019_02_26__T171_T171-145215\n",
      "Notebook_6_b.ipynb is being executed\n"
     ]
    },
    {
     "data": {
      "application/vnd.jupyter.widget-view+json": {
       "model_id": "ccf3ff8f4a7943e48d929d5fdfa70030",
       "version_major": 2,
       "version_minor": 0
      },
      "text/plain": [
       "HBox(children=(FloatProgress(value=0.0, description='Executing', max=12.0, style=ProgressStyle(description_wid…"
      ]
     },
     "metadata": {},
     "output_type": "display_data"
    },
    {
     "name": "stdout",
     "output_type": "stream",
     "text": [
      "\n",
      "2019_02_26__T171_T171-145215\n",
      "Notebook_7_a.ipynb is being executed\n"
     ]
    },
    {
     "data": {
      "application/vnd.jupyter.widget-view+json": {
       "model_id": "faf04c6072704c0e9e13dd41b13b8c54",
       "version_major": 2,
       "version_minor": 0
      },
      "text/plain": [
       "HBox(children=(FloatProgress(value=0.0, description='Executing', max=6.0, style=ProgressStyle(description_widt…"
      ]
     },
     "metadata": {},
     "output_type": "display_data"
    },
    {
     "name": "stdout",
     "output_type": "stream",
     "text": [
      "\n",
      "T171_2019_02_27_Notebook_0_a: This session already exists - no need to re-run ;)\n",
      "T171_2019_02_27_Notebook_1_b: This session already exists - no need to re-run ;)\n",
      "T171_2019_02_27_Notebook_2_b: This session already exists - no need to re-run ;)\n",
      "T171_2019_02_27_Notebook_3_b_seq2b3b: This session already exists - no need to re-run ;)\n",
      "T171_2019_02_27_Notebook_4_a: This session already exists - no need to re-run ;)\n",
      "T171_2019_02_27_Notebook_4_b: This session already exists - no need to re-run ;)\n",
      "T171_2019_02_27_Notebook_4_c: This session already exists - no need to re-run ;)\n",
      "T171_2019_02_27_Notebook_4_d: This session already exists - no need to re-run ;)\n",
      "T171_2019_02_27_Notebook_5_a_seq0a1b2b3b4abcd5a: This session already exists - no need to re-run ;)\n",
      "2019_02_27__T171_T171-162455\n",
      "Notebook_6_b.ipynb is being executed\n"
     ]
    },
    {
     "data": {
      "application/vnd.jupyter.widget-view+json": {
       "model_id": "c93a7b6370a643ffbe1eb7ea17c777f7",
       "version_major": 2,
       "version_minor": 0
      },
      "text/plain": [
       "HBox(children=(FloatProgress(value=0.0, description='Executing', max=12.0, style=ProgressStyle(description_wid…"
      ]
     },
     "metadata": {},
     "output_type": "display_data"
    },
    {
     "name": "stdout",
     "output_type": "stream",
     "text": [
      "\n",
      "2019_02_27__T171_T171-162455\n",
      "Notebook_7_a.ipynb is being executed\n"
     ]
    },
    {
     "data": {
      "application/vnd.jupyter.widget-view+json": {
       "model_id": "fa78986dedb74a70978905862a969771",
       "version_major": 2,
       "version_minor": 0
      },
      "text/plain": [
       "HBox(children=(FloatProgress(value=0.0, description='Executing', max=6.0, style=ProgressStyle(description_widt…"
      ]
     },
     "metadata": {},
     "output_type": "display_data"
    },
    {
     "name": "stdout",
     "output_type": "stream",
     "text": [
      "\n",
      "T171_2019_02_28_Notebook_0_a: This session already exists - no need to re-run ;)\n",
      "T171_2019_02_28_Notebook_1_b: This session already exists - no need to re-run ;)\n",
      "T171_2019_02_28_Notebook_2_b: This session already exists - no need to re-run ;)\n",
      "T171_2019_02_28_Notebook_3_b_seq2b3b: This session already exists - no need to re-run ;)\n",
      "T171_2019_02_28_Notebook_4_a: This session already exists - no need to re-run ;)\n",
      "T171_2019_02_28_Notebook_4_b: This session already exists - no need to re-run ;)\n",
      "T171_2019_02_28_Notebook_4_c: This session already exists - no need to re-run ;)\n",
      "T171_2019_02_28_Notebook_4_d: This session already exists - no need to re-run ;)\n",
      "T171_2019_02_28_Notebook_5_a_seq0a1b2b3b4abcd5a: This session already exists - no need to re-run ;)\n",
      "2019_02_28__T171_T171-145243\n",
      "Notebook_6_b.ipynb is being executed\n"
     ]
    },
    {
     "data": {
      "application/vnd.jupyter.widget-view+json": {
       "model_id": "4e16f868dab04aa8beb075c78ac943bd",
       "version_major": 2,
       "version_minor": 0
      },
      "text/plain": [
       "HBox(children=(FloatProgress(value=0.0, description='Executing', max=12.0, style=ProgressStyle(description_wid…"
      ]
     },
     "metadata": {},
     "output_type": "display_data"
    },
    {
     "name": "stdout",
     "output_type": "stream",
     "text": [
      "\n",
      "2019_02_28__T171_T171-145243\n",
      "Notebook_7_a.ipynb is being executed\n"
     ]
    },
    {
     "data": {
      "application/vnd.jupyter.widget-view+json": {
       "model_id": "597b8eb854f1476099bf042c082f6c7a",
       "version_major": 2,
       "version_minor": 0
      },
      "text/plain": [
       "HBox(children=(FloatProgress(value=0.0, description='Executing', max=6.0, style=ProgressStyle(description_widt…"
      ]
     },
     "metadata": {},
     "output_type": "display_data"
    },
    {
     "name": "stdout",
     "output_type": "stream",
     "text": [
      "\n",
      "T171_2019_03_01_Notebook_0_a: This session already exists - no need to re-run ;)\n",
      "T171_2019_03_01_Notebook_1_b: This session already exists - no need to re-run ;)\n",
      "T171_2019_03_01_Notebook_2_b: This session already exists - no need to re-run ;)\n",
      "T171_2019_03_01_Notebook_3_b_seq2b3b: This session already exists - no need to re-run ;)\n",
      "T171_2019_03_01_Notebook_4_a: This session already exists - no need to re-run ;)\n",
      "T171_2019_03_01_Notebook_4_b: This session already exists - no need to re-run ;)\n",
      "T171_2019_03_01_Notebook_4_c: This session already exists - no need to re-run ;)\n",
      "T171_2019_03_01_Notebook_4_d: This session already exists - no need to re-run ;)\n",
      "T171_2019_03_01_Notebook_5_a_seq0a1b2b3b4abcd5a: This session already exists - no need to re-run ;)\n",
      "2019_03_01__T171_T171-144116\n",
      "Notebook_6_b.ipynb is being executed\n"
     ]
    },
    {
     "data": {
      "application/vnd.jupyter.widget-view+json": {
       "model_id": "0048ed8b6e954bc39cea4fc3613410f1",
       "version_major": 2,
       "version_minor": 0
      },
      "text/plain": [
       "HBox(children=(FloatProgress(value=0.0, description='Executing', max=12.0, style=ProgressStyle(description_wid…"
      ]
     },
     "metadata": {},
     "output_type": "display_data"
    },
    {
     "name": "stdout",
     "output_type": "stream",
     "text": [
      "\n",
      "2019_03_01__T171_T171-144116\n",
      "Notebook_7_a.ipynb is being executed\n"
     ]
    },
    {
     "data": {
      "application/vnd.jupyter.widget-view+json": {
       "model_id": "36c76f761a70488d826fdd21bf848342",
       "version_major": 2,
       "version_minor": 0
      },
      "text/plain": [
       "HBox(children=(FloatProgress(value=0.0, description='Executing', max=6.0, style=ProgressStyle(description_widt…"
      ]
     },
     "metadata": {},
     "output_type": "display_data"
    },
    {
     "name": "stdout",
     "output_type": "stream",
     "text": [
      "\n",
      "T186_2019_03_21_Notebook_0_a: This session already exists - no need to re-run ;)\n",
      "T186_2019_03_21_Notebook_1_b: This session already exists - no need to re-run ;)\n",
      "T186_2019_03_21_Notebook_2_b: This session already exists - no need to re-run ;)\n",
      "T186_2019_03_21_Notebook_3_b_seq2b3b: This session already exists - no need to re-run ;)\n",
      "T186_2019_03_21_Notebook_4_a: This session already exists - no need to re-run ;)\n",
      "T186_2019_03_21_Notebook_4_b: This session already exists - no need to re-run ;)\n",
      "T186_2019_03_21_Notebook_4_c: This session already exists - no need to re-run ;)\n",
      "T186_2019_03_21_Notebook_4_d: This session already exists - no need to re-run ;)\n",
      "T186_2019_03_21_Notebook_5_a_seq0a1b2b3b4abcd5a: This session already exists - no need to re-run ;)\n",
      "2019_03_21__T186_T186-153107\n",
      "Notebook_6_b.ipynb is being executed\n"
     ]
    },
    {
     "data": {
      "application/vnd.jupyter.widget-view+json": {
       "model_id": "777e1932d21e4a22bb8121bf239db4a7",
       "version_major": 2,
       "version_minor": 0
      },
      "text/plain": [
       "HBox(children=(FloatProgress(value=0.0, description='Executing', max=12.0, style=ProgressStyle(description_wid…"
      ]
     },
     "metadata": {},
     "output_type": "display_data"
    },
    {
     "name": "stdout",
     "output_type": "stream",
     "text": [
      "\n",
      "2019_03_21__T186_T186-153107\n",
      "Notebook_7_a.ipynb is being executed\n"
     ]
    },
    {
     "data": {
      "application/vnd.jupyter.widget-view+json": {
       "model_id": "3d3417e6cbb04dec9d4d8e8a493948bb",
       "version_major": 2,
       "version_minor": 0
      },
      "text/plain": [
       "HBox(children=(FloatProgress(value=0.0, description='Executing', max=6.0, style=ProgressStyle(description_widt…"
      ]
     },
     "metadata": {},
     "output_type": "display_data"
    },
    {
     "name": "stdout",
     "output_type": "stream",
     "text": [
      "\n",
      "T186_2019_03_22_Notebook_0_a: This session already exists - no need to re-run ;)\n",
      "T186_2019_03_22_Notebook_1_b: This session already exists - no need to re-run ;)\n",
      "T186_2019_03_22_Notebook_2_b: This session already exists - no need to re-run ;)\n",
      "T186_2019_03_22_Notebook_3_b_seq2b3b: This session already exists - no need to re-run ;)\n",
      "T186_2019_03_22_Notebook_4_a: This session already exists - no need to re-run ;)\n",
      "T186_2019_03_22_Notebook_4_b: This session already exists - no need to re-run ;)\n",
      "T186_2019_03_22_Notebook_4_c: This session already exists - no need to re-run ;)\n",
      "T186_2019_03_22_Notebook_4_d: This session already exists - no need to re-run ;)\n",
      "T186_2019_03_22_Notebook_5_a_seq0a1b2b3b4abcd5a: This session already exists - no need to re-run ;)\n",
      "2019_03_22__T186_T186-164847\n",
      "Notebook_6_b.ipynb is being executed\n"
     ]
    },
    {
     "data": {
      "application/vnd.jupyter.widget-view+json": {
       "model_id": "290e30590d0a49bb8d9d35505f24b719",
       "version_major": 2,
       "version_minor": 0
      },
      "text/plain": [
       "HBox(children=(FloatProgress(value=0.0, description='Executing', max=12.0, style=ProgressStyle(description_wid…"
      ]
     },
     "metadata": {},
     "output_type": "display_data"
    },
    {
     "name": "stdout",
     "output_type": "stream",
     "text": [
      "\n",
      "2019_03_22__T186_T186-164847\n",
      "Notebook_7_a.ipynb is being executed\n"
     ]
    },
    {
     "data": {
      "application/vnd.jupyter.widget-view+json": {
       "model_id": "89894182d052465da8538ab79819ff11",
       "version_major": 2,
       "version_minor": 0
      },
      "text/plain": [
       "HBox(children=(FloatProgress(value=0.0, description='Executing', max=6.0, style=ProgressStyle(description_widt…"
      ]
     },
     "metadata": {},
     "output_type": "display_data"
    },
    {
     "name": "stdout",
     "output_type": "stream",
     "text": [
      "\n",
      "T186_2019_03_25_Notebook_0_a: This session already exists - no need to re-run ;)\n",
      "T186_2019_03_25_Notebook_1_b: This session already exists - no need to re-run ;)\n",
      "T186_2019_03_25_Notebook_2_b: This session already exists - no need to re-run ;)\n",
      "T186_2019_03_25_Notebook_3_b_seq2b3b: This session already exists - no need to re-run ;)\n",
      "T186_2019_03_25_Notebook_4_a: This session already exists - no need to re-run ;)\n",
      "T186_2019_03_25_Notebook_4_b: This session already exists - no need to re-run ;)\n",
      "T186_2019_03_25_Notebook_4_c: This session already exists - no need to re-run ;)\n",
      "T186_2019_03_25_Notebook_4_d: This session already exists - no need to re-run ;)\n",
      "T186_2019_03_25_Notebook_5_a_seq0a1b2b3b4abcd5a: This session already exists - no need to re-run ;)\n",
      "2019_03_25__T186_T186-150810\n",
      "Notebook_6_b.ipynb is being executed\n"
     ]
    },
    {
     "data": {
      "application/vnd.jupyter.widget-view+json": {
       "model_id": "e6f3b3940497484eadaff11e8e176ddd",
       "version_major": 2,
       "version_minor": 0
      },
      "text/plain": [
       "HBox(children=(FloatProgress(value=0.0, description='Executing', max=12.0, style=ProgressStyle(description_wid…"
      ]
     },
     "metadata": {},
     "output_type": "display_data"
    },
    {
     "name": "stdout",
     "output_type": "stream",
     "text": [
      "\n",
      "2019_03_25__T186_T186-150810\n",
      "Notebook_7_a.ipynb is being executed\n"
     ]
    },
    {
     "data": {
      "application/vnd.jupyter.widget-view+json": {
       "model_id": "8a59f5a60c61417f98170605dc71780e",
       "version_major": 2,
       "version_minor": 0
      },
      "text/plain": [
       "HBox(children=(FloatProgress(value=0.0, description='Executing', max=6.0, style=ProgressStyle(description_widt…"
      ]
     },
     "metadata": {},
     "output_type": "display_data"
    },
    {
     "name": "stdout",
     "output_type": "stream",
     "text": [
      "\n",
      "T186_2019_03_27_Notebook_0_a: This session already exists - no need to re-run ;)\n",
      "T186_2019_03_27_Notebook_1_b: This session already exists - no need to re-run ;)\n",
      "T186_2019_03_27_Notebook_2_b: This session already exists - no need to re-run ;)\n",
      "T186_2019_03_27_Notebook_3_b_seq2b3b: This session already exists - no need to re-run ;)\n",
      "T186_2019_03_27_Notebook_4_a: This session already exists - no need to re-run ;)\n",
      "T186_2019_03_27_Notebook_4_b: This session already exists - no need to re-run ;)\n",
      "T186_2019_03_27_Notebook_4_c: This session already exists - no need to re-run ;)\n",
      "T186_2019_03_27_Notebook_4_d: This session already exists - no need to re-run ;)\n",
      "T186_2019_03_27_Notebook_5_a_seq0a1b2b3b4abcd5a: This session already exists - no need to re-run ;)\n",
      "2019_03_27__T186_T186-150703\n",
      "Notebook_6_b.ipynb is being executed\n"
     ]
    },
    {
     "data": {
      "application/vnd.jupyter.widget-view+json": {
       "model_id": "1ed2fc7aea574ed392fd7f817f8b143e",
       "version_major": 2,
       "version_minor": 0
      },
      "text/plain": [
       "HBox(children=(FloatProgress(value=0.0, description='Executing', max=12.0, style=ProgressStyle(description_wid…"
      ]
     },
     "metadata": {},
     "output_type": "display_data"
    },
    {
     "name": "stdout",
     "output_type": "stream",
     "text": [
      "\n",
      "2019_03_27__T186_T186-150703\n",
      "Notebook_7_a.ipynb is being executed\n"
     ]
    },
    {
     "data": {
      "application/vnd.jupyter.widget-view+json": {
       "model_id": "b602e9921f7644029ac0ff9d693293d7",
       "version_major": 2,
       "version_minor": 0
      },
      "text/plain": [
       "HBox(children=(FloatProgress(value=0.0, description='Executing', max=6.0, style=ProgressStyle(description_widt…"
      ]
     },
     "metadata": {},
     "output_type": "display_data"
    },
    {
     "name": "stdout",
     "output_type": "stream",
     "text": [
      "\n",
      "T186_2019_03_28_Notebook_0_a: This session already exists - no need to re-run ;)\n",
      "T186_2019_03_28_Notebook_1_b: This session already exists - no need to re-run ;)\n",
      "T186_2019_03_28_Notebook_2_b: This session already exists - no need to re-run ;)\n",
      "T186_2019_03_28_Notebook_3_b_seq2b3b: This session already exists - no need to re-run ;)\n",
      "T186_2019_03_28_Notebook_4_a: This session already exists - no need to re-run ;)\n",
      "T186_2019_03_28_Notebook_4_b: This session already exists - no need to re-run ;)\n",
      "T186_2019_03_28_Notebook_4_c: This session already exists - no need to re-run ;)\n",
      "T186_2019_03_28_Notebook_4_d: This session already exists - no need to re-run ;)\n",
      "T186_2019_03_28_Notebook_5_a_seq0a1b2b3b4abcd5a: This session already exists - no need to re-run ;)\n",
      "2019_03_28__T186_T186-144534\n",
      "Notebook_6_b.ipynb is being executed\n"
     ]
    },
    {
     "data": {
      "application/vnd.jupyter.widget-view+json": {
       "model_id": "2130fe0b28004b4198de69a0b9d5f621",
       "version_major": 2,
       "version_minor": 0
      },
      "text/plain": [
       "HBox(children=(FloatProgress(value=0.0, description='Executing', max=12.0, style=ProgressStyle(description_wid…"
      ]
     },
     "metadata": {},
     "output_type": "display_data"
    },
    {
     "name": "stdout",
     "output_type": "stream",
     "text": [
      "\n",
      "2019_03_28__T186_T186-144534\n",
      "Notebook_7_a.ipynb is being executed\n"
     ]
    },
    {
     "data": {
      "application/vnd.jupyter.widget-view+json": {
       "model_id": "7a4d65e456c34c6487b012cbe7b87e75",
       "version_major": 2,
       "version_minor": 0
      },
      "text/plain": [
       "HBox(children=(FloatProgress(value=0.0, description='Executing', max=6.0, style=ProgressStyle(description_widt…"
      ]
     },
     "metadata": {},
     "output_type": "display_data"
    },
    {
     "name": "stdout",
     "output_type": "stream",
     "text": [
      "\n",
      "T186_2019_04_01_Notebook_0_a: This session already exists - no need to re-run ;)\n",
      "T186_2019_04_01_Notebook_1_b: This session already exists - no need to re-run ;)\n",
      "T186_2019_04_01_Notebook_2_b: This session already exists - no need to re-run ;)\n",
      "T186_2019_04_01_Notebook_3_b_seq2b3b: This session already exists - no need to re-run ;)\n",
      "T186_2019_04_01_Notebook_4_a: This session already exists - no need to re-run ;)\n",
      "T186_2019_04_01_Notebook_4_b: This session already exists - no need to re-run ;)\n",
      "T186_2019_04_01_Notebook_4_c: This session already exists - no need to re-run ;)\n",
      "T186_2019_04_01_Notebook_4_d: This session already exists - no need to re-run ;)\n",
      "T186_2019_04_01_Notebook_5_a_seq0a1b2b3b4abcd5a: This session already exists - no need to re-run ;)\n",
      "2019_04_01__T186_T186-142719\n",
      "Notebook_6_b.ipynb is being executed\n"
     ]
    },
    {
     "data": {
      "application/vnd.jupyter.widget-view+json": {
       "model_id": "e083d83db8f6463fa8f0ce1fc5d74646",
       "version_major": 2,
       "version_minor": 0
      },
      "text/plain": [
       "HBox(children=(FloatProgress(value=0.0, description='Executing', max=12.0, style=ProgressStyle(description_wid…"
      ]
     },
     "metadata": {},
     "output_type": "display_data"
    },
    {
     "name": "stdout",
     "output_type": "stream",
     "text": [
      "\n",
      "2019_04_01__T186_T186-142719\n",
      "Notebook_7_a.ipynb is being executed\n"
     ]
    },
    {
     "data": {
      "application/vnd.jupyter.widget-view+json": {
       "model_id": "249d18c918cf4aa2bdb1d09dcbbdb4c8",
       "version_major": 2,
       "version_minor": 0
      },
      "text/plain": [
       "HBox(children=(FloatProgress(value=0.0, description='Executing', max=6.0, style=ProgressStyle(description_widt…"
      ]
     },
     "metadata": {},
     "output_type": "display_data"
    },
    {
     "name": "stdout",
     "output_type": "stream",
     "text": [
      "\n",
      "T186_2019_04_02_Notebook_0_a: This session already exists - no need to re-run ;)\n",
      "T186_2019_04_02_Notebook_1_b: This session already exists - no need to re-run ;)\n",
      "T186_2019_04_02_Notebook_2_b: This session already exists - no need to re-run ;)\n",
      "T186_2019_04_02_Notebook_3_b_seq2b3b: This session already exists - no need to re-run ;)\n",
      "T186_2019_04_02_Notebook_4_a: This session already exists - no need to re-run ;)\n",
      "T186_2019_04_02_Notebook_4_b: This session already exists - no need to re-run ;)\n",
      "T186_2019_04_02_Notebook_4_c: This session already exists - no need to re-run ;)\n",
      "T186_2019_04_02_Notebook_4_d: This session already exists - no need to re-run ;)\n",
      "T186_2019_04_02_Notebook_5_a_seq0a1b2b3b4abcd5a: This session already exists - no need to re-run ;)\n",
      "2019_04_02__T186_T186-140234\n",
      "Notebook_6_b.ipynb is being executed\n"
     ]
    },
    {
     "data": {
      "application/vnd.jupyter.widget-view+json": {
       "model_id": "aac9416af77e4ba9a20e4d8b5baed324",
       "version_major": 2,
       "version_minor": 0
      },
      "text/plain": [
       "HBox(children=(FloatProgress(value=0.0, description='Executing', max=12.0, style=ProgressStyle(description_wid…"
      ]
     },
     "metadata": {},
     "output_type": "display_data"
    },
    {
     "name": "stdout",
     "output_type": "stream",
     "text": [
      "\n",
      "2019_04_02__T186_T186-140234\n",
      "Notebook_7_a.ipynb is being executed\n"
     ]
    },
    {
     "data": {
      "application/vnd.jupyter.widget-view+json": {
       "model_id": "b58810c2bd8c40f0a0e886a6a4cdc0c7",
       "version_major": 2,
       "version_minor": 0
      },
      "text/plain": [
       "HBox(children=(FloatProgress(value=0.0, description='Executing', max=6.0, style=ProgressStyle(description_widt…"
      ]
     },
     "metadata": {},
     "output_type": "display_data"
    },
    {
     "name": "stdout",
     "output_type": "stream",
     "text": [
      "\n",
      "T186_2019_04_03_Notebook_0_a: This session already exists - no need to re-run ;)\n",
      "T186_2019_04_03_Notebook_1_b: This session already exists - no need to re-run ;)\n",
      "T186_2019_04_03_Notebook_2_b: This session already exists - no need to re-run ;)\n",
      "T186_2019_04_03_Notebook_3_b_seq2b3b: This session already exists - no need to re-run ;)\n",
      "T186_2019_04_03_Notebook_4_a: This session already exists - no need to re-run ;)\n",
      "T186_2019_04_03_Notebook_4_b: This session already exists - no need to re-run ;)\n",
      "T186_2019_04_03_Notebook_4_c: This session already exists - no need to re-run ;)\n",
      "T186_2019_04_03_Notebook_4_d: This session already exists - no need to re-run ;)\n",
      "T186_2019_04_03_Notebook_5_a_seq0a1b2b3b4abcd5a: This session already exists - no need to re-run ;)\n",
      "2019_04_03__T186_T186-140505\n",
      "Notebook_6_b.ipynb is being executed\n"
     ]
    },
    {
     "data": {
      "application/vnd.jupyter.widget-view+json": {
       "model_id": "45b5e332ecf44347b3dbfdfa61d7b4bb",
       "version_major": 2,
       "version_minor": 0
      },
      "text/plain": [
       "HBox(children=(FloatProgress(value=0.0, description='Executing', max=12.0, style=ProgressStyle(description_wid…"
      ]
     },
     "metadata": {},
     "output_type": "display_data"
    },
    {
     "name": "stdout",
     "output_type": "stream",
     "text": [
      "\n",
      "2019_04_03__T186_T186-140505\n",
      "Notebook_7_a.ipynb is being executed\n"
     ]
    },
    {
     "data": {
      "application/vnd.jupyter.widget-view+json": {
       "model_id": "a8f7386718174f7f875e1dc53c6daa80",
       "version_major": 2,
       "version_minor": 0
      },
      "text/plain": [
       "HBox(children=(FloatProgress(value=0.0, description='Executing', max=6.0, style=ProgressStyle(description_widt…"
      ]
     },
     "metadata": {},
     "output_type": "display_data"
    },
    {
     "name": "stdout",
     "output_type": "stream",
     "text": [
      "\n",
      "T186_2019_04_04_Notebook_0_a: This session already exists - no need to re-run ;)\n",
      "T186_2019_04_04_Notebook_1_b: This session already exists - no need to re-run ;)\n",
      "T186_2019_04_04_Notebook_2_b: This session already exists - no need to re-run ;)\n",
      "T186_2019_04_04_Notebook_3_b_seq2b3b: This session already exists - no need to re-run ;)\n",
      "T186_2019_04_04_Notebook_4_a: This session already exists - no need to re-run ;)\n",
      "T186_2019_04_04_Notebook_4_b: This session already exists - no need to re-run ;)\n",
      "T186_2019_04_04_Notebook_4_c: This session already exists - no need to re-run ;)\n",
      "T186_2019_04_04_Notebook_4_d: This session already exists - no need to re-run ;)\n",
      "T186_2019_04_04_Notebook_5_a_seq0a1b2b3b4abcd5a: This session already exists - no need to re-run ;)\n",
      "2019_04_04__T186_T186-135646\n",
      "Notebook_6_b.ipynb is being executed\n"
     ]
    },
    {
     "data": {
      "application/vnd.jupyter.widget-view+json": {
       "model_id": "26558ad411f6432ba7bd6ec7b851fe01",
       "version_major": 2,
       "version_minor": 0
      },
      "text/plain": [
       "HBox(children=(FloatProgress(value=0.0, description='Executing', max=12.0, style=ProgressStyle(description_wid…"
      ]
     },
     "metadata": {},
     "output_type": "display_data"
    },
    {
     "name": "stdout",
     "output_type": "stream",
     "text": [
      "\n",
      "2019_04_04__T186_T186-135646\n",
      "Notebook_7_a.ipynb is being executed\n"
     ]
    },
    {
     "data": {
      "application/vnd.jupyter.widget-view+json": {
       "model_id": "5aa69d999d3a4ebf8c34d4daf6f95faf",
       "version_major": 2,
       "version_minor": 0
      },
      "text/plain": [
       "HBox(children=(FloatProgress(value=0.0, description='Executing', max=6.0, style=ProgressStyle(description_widt…"
      ]
     },
     "metadata": {},
     "output_type": "display_data"
    },
    {
     "name": "stdout",
     "output_type": "stream",
     "text": [
      "\n",
      "T186_2019_04_05_Notebook_0_a: This session already exists - no need to re-run ;)\n",
      "T186_2019_04_05_Notebook_1_b: This session already exists - no need to re-run ;)\n",
      "T186_2019_04_05_Notebook_2_b: This session already exists - no need to re-run ;)\n",
      "T186_2019_04_05_Notebook_3_b_seq2b3b: This session already exists - no need to re-run ;)\n",
      "T186_2019_04_05_Notebook_4_a: This session already exists - no need to re-run ;)\n",
      "T186_2019_04_05_Notebook_4_b: This session already exists - no need to re-run ;)\n",
      "T186_2019_04_05_Notebook_4_c: This session already exists - no need to re-run ;)\n",
      "T186_2019_04_05_Notebook_4_d: This session already exists - no need to re-run ;)\n",
      "T186_2019_04_05_Notebook_5_a_seq0a1b2b3b4abcd5a: This session already exists - no need to re-run ;)\n",
      "2019_04_05__T186_T186-135725\n",
      "Notebook_6_b.ipynb is being executed\n"
     ]
    },
    {
     "data": {
      "application/vnd.jupyter.widget-view+json": {
       "model_id": "1a885a3f69e6485e91ebe63acfd7b44b",
       "version_major": 2,
       "version_minor": 0
      },
      "text/plain": [
       "HBox(children=(FloatProgress(value=0.0, description='Executing', max=12.0, style=ProgressStyle(description_wid…"
      ]
     },
     "metadata": {},
     "output_type": "display_data"
    },
    {
     "name": "stdout",
     "output_type": "stream",
     "text": [
      "\n",
      "2019_04_05__T186_T186-135725\n",
      "Notebook_7_a.ipynb is being executed\n"
     ]
    },
    {
     "data": {
      "application/vnd.jupyter.widget-view+json": {
       "model_id": "9f7ece477c6049719fe8149fc3018cba",
       "version_major": 2,
       "version_minor": 0
      },
      "text/plain": [
       "HBox(children=(FloatProgress(value=0.0, description='Executing', max=6.0, style=ProgressStyle(description_widt…"
      ]
     },
     "metadata": {},
     "output_type": "display_data"
    },
    {
     "name": "stdout",
     "output_type": "stream",
     "text": [
      "\n",
      "T187_2019_03_21_Notebook_0_a: This session already exists - no need to re-run ;)\n",
      "T187_2019_03_21_Notebook_1_b: This session already exists - no need to re-run ;)\n",
      "T187_2019_03_21_Notebook_2_b: This session already exists - no need to re-run ;)\n",
      "T187_2019_03_21_Notebook_3_b_seq2b3b: This session already exists - no need to re-run ;)\n",
      "T187_2019_03_21_Notebook_4_a: This session already exists - no need to re-run ;)\n",
      "T187_2019_03_21_Notebook_4_b: This session already exists - no need to re-run ;)\n",
      "T187_2019_03_21_Notebook_4_c: This session already exists - no need to re-run ;)\n",
      "T187_2019_03_21_Notebook_4_d: This session already exists - no need to re-run ;)\n",
      "T187_2019_03_21_Notebook_5_a_seq0a1b2b3b4abcd5a: This session already exists - no need to re-run ;)\n",
      "2019_03_21__T187_T187-160402\n",
      "Notebook_6_b.ipynb is being executed\n"
     ]
    },
    {
     "data": {
      "application/vnd.jupyter.widget-view+json": {
       "model_id": "05d3af39205c4f3380ec353ef778d012",
       "version_major": 2,
       "version_minor": 0
      },
      "text/plain": [
       "HBox(children=(FloatProgress(value=0.0, description='Executing', max=12.0, style=ProgressStyle(description_wid…"
      ]
     },
     "metadata": {},
     "output_type": "display_data"
    },
    {
     "name": "stdout",
     "output_type": "stream",
     "text": [
      "\n",
      "2019_03_21__T187_T187-160402\n",
      "Notebook_7_a.ipynb is being executed\n"
     ]
    },
    {
     "data": {
      "application/vnd.jupyter.widget-view+json": {
       "model_id": "f6eb884f66ac4597b61ab01e5f1eb791",
       "version_major": 2,
       "version_minor": 0
      },
      "text/plain": [
       "HBox(children=(FloatProgress(value=0.0, description='Executing', max=6.0, style=ProgressStyle(description_widt…"
      ]
     },
     "metadata": {},
     "output_type": "display_data"
    },
    {
     "name": "stdout",
     "output_type": "stream",
     "text": [
      "\n",
      "T187_2019_03_22_Notebook_0_a: This session already exists - no need to re-run ;)\n",
      "T187_2019_03_22_Notebook_1_b: This session already exists - no need to re-run ;)\n",
      "T187_2019_03_22_Notebook_2_b: This session already exists - no need to re-run ;)\n",
      "T187_2019_03_22_Notebook_3_b_seq2b3b: This session already exists - no need to re-run ;)\n",
      "T187_2019_03_22_Notebook_4_a: This session already exists - no need to re-run ;)\n",
      "T187_2019_03_22_Notebook_4_b: This session already exists - no need to re-run ;)\n",
      "T187_2019_03_22_Notebook_4_c: This session already exists - no need to re-run ;)\n",
      "T187_2019_03_22_Notebook_4_d: This session already exists - no need to re-run ;)\n",
      "T187_2019_03_22_Notebook_5_a_seq0a1b2b3b4abcd5a: This session already exists - no need to re-run ;)\n",
      "2019_03_22__T187_T187-172139\n",
      "Notebook_6_b.ipynb is being executed\n"
     ]
    },
    {
     "data": {
      "application/vnd.jupyter.widget-view+json": {
       "model_id": "4271f7c67873436da5f9e07a8b25b3ea",
       "version_major": 2,
       "version_minor": 0
      },
      "text/plain": [
       "HBox(children=(FloatProgress(value=0.0, description='Executing', max=12.0, style=ProgressStyle(description_wid…"
      ]
     },
     "metadata": {},
     "output_type": "display_data"
    },
    {
     "name": "stdout",
     "output_type": "stream",
     "text": [
      "\n",
      "2019_03_22__T187_T187-172139\n",
      "Notebook_7_a.ipynb is being executed\n"
     ]
    },
    {
     "data": {
      "application/vnd.jupyter.widget-view+json": {
       "model_id": "80d53aea098341f49ba97f8e35e81835",
       "version_major": 2,
       "version_minor": 0
      },
      "text/plain": [
       "HBox(children=(FloatProgress(value=0.0, description='Executing', max=6.0, style=ProgressStyle(description_widt…"
      ]
     },
     "metadata": {},
     "output_type": "display_data"
    },
    {
     "name": "stdout",
     "output_type": "stream",
     "text": [
      "\n",
      "T187_2019_03_25_Notebook_0_a: This session already exists - no need to re-run ;)\n",
      "T187_2019_03_25_Notebook_1_b: This session already exists - no need to re-run ;)\n",
      "T187_2019_03_25_Notebook_2_b: This session already exists - no need to re-run ;)\n",
      "T187_2019_03_25_Notebook_3_b_seq2b3b: This session already exists - no need to re-run ;)\n",
      "T187_2019_03_25_Notebook_4_a: This session already exists - no need to re-run ;)\n",
      "T187_2019_03_25_Notebook_4_b: This session already exists - no need to re-run ;)\n",
      "T187_2019_03_25_Notebook_4_c: This session already exists - no need to re-run ;)\n",
      "T187_2019_03_25_Notebook_4_d: This session already exists - no need to re-run ;)\n",
      "T187_2019_03_25_Notebook_5_a_seq0a1b2b3b4abcd5a: This session already exists - no need to re-run ;)\n",
      "2019_03_25__T187_T187-153540\n",
      "Notebook_6_b.ipynb is being executed\n"
     ]
    },
    {
     "data": {
      "application/vnd.jupyter.widget-view+json": {
       "model_id": "907850e7161d4f7a990d4a1abd9d88d0",
       "version_major": 2,
       "version_minor": 0
      },
      "text/plain": [
       "HBox(children=(FloatProgress(value=0.0, description='Executing', max=12.0, style=ProgressStyle(description_wid…"
      ]
     },
     "metadata": {},
     "output_type": "display_data"
    },
    {
     "name": "stdout",
     "output_type": "stream",
     "text": [
      "\n",
      "2019_03_25__T187_T187-153540\n",
      "Notebook_7_a.ipynb is being executed\n"
     ]
    },
    {
     "data": {
      "application/vnd.jupyter.widget-view+json": {
       "model_id": "f5ba252d6c6e4edba052c1ca0745f65a",
       "version_major": 2,
       "version_minor": 0
      },
      "text/plain": [
       "HBox(children=(FloatProgress(value=0.0, description='Executing', max=6.0, style=ProgressStyle(description_widt…"
      ]
     },
     "metadata": {},
     "output_type": "display_data"
    },
    {
     "name": "stdout",
     "output_type": "stream",
     "text": [
      "\n",
      "T187_2019_03_28_Notebook_0_a: This session already exists - no need to re-run ;)\n",
      "T187_2019_03_28_Notebook_1_b: This session already exists - no need to re-run ;)\n",
      "T187_2019_03_28_Notebook_2_b: This session already exists - no need to re-run ;)\n",
      "T187_2019_03_28_Notebook_3_b_seq2b3b: This session already exists - no need to re-run ;)\n",
      "T187_2019_03_28_Notebook_4_a: This session already exists - no need to re-run ;)\n",
      "T187_2019_03_28_Notebook_4_b: This session already exists - no need to re-run ;)\n",
      "T187_2019_03_28_Notebook_4_c: This session already exists - no need to re-run ;)\n",
      "T187_2019_03_28_Notebook_4_d: This session already exists - no need to re-run ;)\n",
      "T187_2019_03_28_Notebook_5_a_seq0a1b2b3b4abcd5a: This session already exists - no need to re-run ;)\n",
      "2019_03_28__T187_T187-152018\n",
      "Notebook_6_b.ipynb is being executed\n"
     ]
    },
    {
     "data": {
      "application/vnd.jupyter.widget-view+json": {
       "model_id": "9ee1fc1ff8164f9cb02361968146901c",
       "version_major": 2,
       "version_minor": 0
      },
      "text/plain": [
       "HBox(children=(FloatProgress(value=0.0, description='Executing', max=12.0, style=ProgressStyle(description_wid…"
      ]
     },
     "metadata": {},
     "output_type": "display_data"
    },
    {
     "name": "stdout",
     "output_type": "stream",
     "text": [
      "\n",
      "2019_03_28__T187_T187-152018\n",
      "Notebook_7_a.ipynb is being executed\n"
     ]
    },
    {
     "data": {
      "application/vnd.jupyter.widget-view+json": {
       "model_id": "48081b84e4794758acce18714d64a4ba",
       "version_major": 2,
       "version_minor": 0
      },
      "text/plain": [
       "HBox(children=(FloatProgress(value=0.0, description='Executing', max=6.0, style=ProgressStyle(description_widt…"
      ]
     },
     "metadata": {},
     "output_type": "display_data"
    },
    {
     "name": "stdout",
     "output_type": "stream",
     "text": [
      "\n",
      "T187_2019_04_01_Notebook_0_a: This session already exists - no need to re-run ;)\n",
      "T187_2019_04_01_Notebook_1_b: This session already exists - no need to re-run ;)\n",
      "T187_2019_04_01_Notebook_2_b: This session already exists - no need to re-run ;)\n",
      "T187_2019_04_01_Notebook_3_b_seq2b3b: This session already exists - no need to re-run ;)\n",
      "T187_2019_04_01_Notebook_4_a: This session already exists - no need to re-run ;)\n",
      "T187_2019_04_01_Notebook_4_b: This session already exists - no need to re-run ;)\n",
      "T187_2019_04_01_Notebook_4_c: This session already exists - no need to re-run ;)\n",
      "T187_2019_04_01_Notebook_4_d: This session already exists - no need to re-run ;)\n",
      "T187_2019_04_01_Notebook_5_a_seq0a1b2b3b4abcd5a: This session already exists - no need to re-run ;)\n",
      "2019_04_01__T187_T187-150132\n",
      "Notebook_6_b.ipynb is being executed\n"
     ]
    },
    {
     "data": {
      "application/vnd.jupyter.widget-view+json": {
       "model_id": "489f4be0481d4e50aed42c3ebbe74efd",
       "version_major": 2,
       "version_minor": 0
      },
      "text/plain": [
       "HBox(children=(FloatProgress(value=0.0, description='Executing', max=12.0, style=ProgressStyle(description_wid…"
      ]
     },
     "metadata": {},
     "output_type": "display_data"
    },
    {
     "name": "stdout",
     "output_type": "stream",
     "text": [
      "\n",
      "2019_04_01__T187_T187-150132\n",
      "Notebook_7_a.ipynb is being executed\n"
     ]
    },
    {
     "data": {
      "application/vnd.jupyter.widget-view+json": {
       "model_id": "90e637efc88342a68f3507ceb28819fd",
       "version_major": 2,
       "version_minor": 0
      },
      "text/plain": [
       "HBox(children=(FloatProgress(value=0.0, description='Executing', max=6.0, style=ProgressStyle(description_widt…"
      ]
     },
     "metadata": {},
     "output_type": "display_data"
    },
    {
     "name": "stdout",
     "output_type": "stream",
     "text": [
      "\n",
      "T187_2019_04_02_Notebook_0_a: This session already exists - no need to re-run ;)\n",
      "T187_2019_04_02_Notebook_1_b: This session already exists - no need to re-run ;)\n",
      "T187_2019_04_02_Notebook_2_b: This session already exists - no need to re-run ;)\n",
      "T187_2019_04_02_Notebook_3_b_seq2b3b: This session already exists - no need to re-run ;)\n",
      "T187_2019_04_02_Notebook_4_a: This session already exists - no need to re-run ;)\n",
      "T187_2019_04_02_Notebook_4_b: This session already exists - no need to re-run ;)\n",
      "T187_2019_04_02_Notebook_4_c: This session already exists - no need to re-run ;)\n",
      "T187_2019_04_02_Notebook_4_d: This session already exists - no need to re-run ;)\n",
      "T187_2019_04_02_Notebook_5_a_seq0a1b2b3b4abcd5a: This session already exists - no need to re-run ;)\n",
      "2019_04_02__T187_T187-142756\n",
      "Notebook_6_b.ipynb is being executed\n"
     ]
    },
    {
     "data": {
      "application/vnd.jupyter.widget-view+json": {
       "model_id": "6850dc7b10bc4a8aa78d1be707be82ed",
       "version_major": 2,
       "version_minor": 0
      },
      "text/plain": [
       "HBox(children=(FloatProgress(value=0.0, description='Executing', max=12.0, style=ProgressStyle(description_wid…"
      ]
     },
     "metadata": {},
     "output_type": "display_data"
    },
    {
     "name": "stdout",
     "output_type": "stream",
     "text": [
      "\n",
      "2019_04_02__T187_T187-142756\n",
      "Notebook_7_a.ipynb is being executed\n"
     ]
    },
    {
     "data": {
      "application/vnd.jupyter.widget-view+json": {
       "model_id": "b0d005a56919494196e20d2fd0239280",
       "version_major": 2,
       "version_minor": 0
      },
      "text/plain": [
       "HBox(children=(FloatProgress(value=0.0, description='Executing', max=6.0, style=ProgressStyle(description_widt…"
      ]
     },
     "metadata": {},
     "output_type": "display_data"
    },
    {
     "name": "stdout",
     "output_type": "stream",
     "text": [
      "\n",
      "T187_2019_04_03_Notebook_0_a: This session already exists - no need to re-run ;)\n",
      "T187_2019_04_03_Notebook_1_b: This session already exists - no need to re-run ;)\n",
      "T187_2019_04_03_Notebook_2_b: This session already exists - no need to re-run ;)\n",
      "T187_2019_04_03_Notebook_3_b_seq2b3b: This session already exists - no need to re-run ;)\n",
      "T187_2019_04_03_Notebook_4_a: This session already exists - no need to re-run ;)\n",
      "T187_2019_04_03_Notebook_4_b: This session already exists - no need to re-run ;)\n",
      "T187_2019_04_03_Notebook_4_c: This session already exists - no need to re-run ;)\n",
      "T187_2019_04_03_Notebook_4_d: This session already exists - no need to re-run ;)\n",
      "T187_2019_04_03_Notebook_5_a_seq0a1b2b3b4abcd5a: This session already exists - no need to re-run ;)\n",
      "2019_04_03__T187_T187-143148\n",
      "Notebook_6_b.ipynb is being executed\n"
     ]
    },
    {
     "data": {
      "application/vnd.jupyter.widget-view+json": {
       "model_id": "92709aeba9764f39bbed663b6fdf2d57",
       "version_major": 2,
       "version_minor": 0
      },
      "text/plain": [
       "HBox(children=(FloatProgress(value=0.0, description='Executing', max=12.0, style=ProgressStyle(description_wid…"
      ]
     },
     "metadata": {},
     "output_type": "display_data"
    },
    {
     "name": "stdout",
     "output_type": "stream",
     "text": [
      "\n",
      "2019_04_03__T187_T187-143148\n",
      "Notebook_7_a.ipynb is being executed\n"
     ]
    },
    {
     "data": {
      "application/vnd.jupyter.widget-view+json": {
       "model_id": "47fc188f4b6a42f29a4d070d70125386",
       "version_major": 2,
       "version_minor": 0
      },
      "text/plain": [
       "HBox(children=(FloatProgress(value=0.0, description='Executing', max=6.0, style=ProgressStyle(description_widt…"
      ]
     },
     "metadata": {},
     "output_type": "display_data"
    },
    {
     "name": "stdout",
     "output_type": "stream",
     "text": [
      "\n",
      "T187_2019_04_04_Notebook_0_a: This session already exists - no need to re-run ;)\n",
      "T187_2019_04_04_Notebook_1_b: This session already exists - no need to re-run ;)\n",
      "T187_2019_04_04_Notebook_2_b: This session already exists - no need to re-run ;)\n",
      "T187_2019_04_04_Notebook_3_b_seq2b3b: This session already exists - no need to re-run ;)\n",
      "T187_2019_04_04_Notebook_4_a: This session already exists - no need to re-run ;)\n",
      "T187_2019_04_04_Notebook_4_b: This session already exists - no need to re-run ;)\n",
      "T187_2019_04_04_Notebook_4_c: This session already exists - no need to re-run ;)\n",
      "T187_2019_04_04_Notebook_4_d: This session already exists - no need to re-run ;)\n",
      "T187_2019_04_04_Notebook_5_a_seq0a1b2b3b4abcd5a: This session already exists - no need to re-run ;)\n",
      "2019_04_04__T187_T187-142541\n",
      "Notebook_6_b.ipynb is being executed\n"
     ]
    },
    {
     "data": {
      "application/vnd.jupyter.widget-view+json": {
       "model_id": "6a7657d196c64bb5af9996df84fc61df",
       "version_major": 2,
       "version_minor": 0
      },
      "text/plain": [
       "HBox(children=(FloatProgress(value=0.0, description='Executing', max=12.0, style=ProgressStyle(description_wid…"
      ]
     },
     "metadata": {},
     "output_type": "display_data"
    },
    {
     "name": "stdout",
     "output_type": "stream",
     "text": [
      "\n",
      "2019_04_04__T187_T187-142541\n",
      "Notebook_7_a.ipynb is being executed\n"
     ]
    },
    {
     "data": {
      "application/vnd.jupyter.widget-view+json": {
       "model_id": "0f9940b9c3b647f29c15ee695e9f07d2",
       "version_major": 2,
       "version_minor": 0
      },
      "text/plain": [
       "HBox(children=(FloatProgress(value=0.0, description='Executing', max=6.0, style=ProgressStyle(description_widt…"
      ]
     },
     "metadata": {},
     "output_type": "display_data"
    },
    {
     "name": "stdout",
     "output_type": "stream",
     "text": [
      "\n",
      "T187_2019_04_05_Notebook_0_a: This session already exists - no need to re-run ;)\n",
      "T187_2019_04_05_Notebook_1_b: This session already exists - no need to re-run ;)\n",
      "T187_2019_04_05_Notebook_2_b: This session already exists - no need to re-run ;)\n",
      "T187_2019_04_05_Notebook_3_b_seq2b3b: This session already exists - no need to re-run ;)\n",
      "T187_2019_04_05_Notebook_4_a: This session already exists - no need to re-run ;)\n",
      "T187_2019_04_05_Notebook_4_b: This session already exists - no need to re-run ;)\n",
      "T187_2019_04_05_Notebook_4_c: This session already exists - no need to re-run ;)\n",
      "T187_2019_04_05_Notebook_4_d: This session already exists - no need to re-run ;)\n",
      "T187_2019_04_05_Notebook_5_a_seq0a1b2b3b4abcd5a: This session already exists - no need to re-run ;)\n",
      "2019_04_05__T187_T187-142231\n",
      "Notebook_6_b.ipynb is being executed\n"
     ]
    },
    {
     "data": {
      "application/vnd.jupyter.widget-view+json": {
       "model_id": "b1aaebd20a5444b8b10f71bfcfa05901",
       "version_major": 2,
       "version_minor": 0
      },
      "text/plain": [
       "HBox(children=(FloatProgress(value=0.0, description='Executing', max=12.0, style=ProgressStyle(description_wid…"
      ]
     },
     "metadata": {},
     "output_type": "display_data"
    },
    {
     "name": "stdout",
     "output_type": "stream",
     "text": [
      "\n",
      "2019_04_05__T187_T187-142231\n",
      "Notebook_7_a.ipynb is being executed\n"
     ]
    },
    {
     "data": {
      "application/vnd.jupyter.widget-view+json": {
       "model_id": "f7f63786a6fc458bb972d2cabe7e4e73",
       "version_major": 2,
       "version_minor": 0
      },
      "text/plain": [
       "HBox(children=(FloatProgress(value=0.0, description='Executing', max=6.0, style=ProgressStyle(description_widt…"
      ]
     },
     "metadata": {},
     "output_type": "display_data"
    },
    {
     "name": "stdout",
     "output_type": "stream",
     "text": [
      "\n",
      "T202_2019_05_16_Notebook_0_a: This session already exists - no need to re-run ;)\n",
      "T202_2019_05_16_Notebook_1_b: This session already exists - no need to re-run ;)\n",
      "T202_2019_05_16_Notebook_2_b: This session already exists - no need to re-run ;)\n",
      "T202_2019_05_16_Notebook_3_b_seq2b3b: This session already exists - no need to re-run ;)\n",
      "T202_2019_05_16_Notebook_4_a: This session already exists - no need to re-run ;)\n",
      "T202_2019_05_16_Notebook_4_b: This session already exists - no need to re-run ;)\n",
      "T202_2019_05_16_Notebook_4_c: This session already exists - no need to re-run ;)\n",
      "T202_2019_05_16_Notebook_4_d: This session already exists - no need to re-run ;)\n",
      "T202_2019_05_16_Notebook_5_a_seq0a1b2b3b4abcd5a: This session already exists - no need to re-run ;)\n",
      "2019_05_16__T202_T202-165613\n",
      "Notebook_6_b.ipynb is being executed\n"
     ]
    },
    {
     "data": {
      "application/vnd.jupyter.widget-view+json": {
       "model_id": "883caa94a5d543f4aeefeb4e560e5968",
       "version_major": 2,
       "version_minor": 0
      },
      "text/plain": [
       "HBox(children=(FloatProgress(value=0.0, description='Executing', max=12.0, style=ProgressStyle(description_wid…"
      ]
     },
     "metadata": {},
     "output_type": "display_data"
    },
    {
     "name": "stdout",
     "output_type": "stream",
     "text": [
      "\n",
      "2019_05_16__T202_T202-165613\n",
      "Notebook_7_a.ipynb is being executed\n"
     ]
    },
    {
     "data": {
      "application/vnd.jupyter.widget-view+json": {
       "model_id": "a93cf2ecfd064cd89f7939b023bd496a",
       "version_major": 2,
       "version_minor": 0
      },
      "text/plain": [
       "HBox(children=(FloatProgress(value=0.0, description='Executing', max=6.0, style=ProgressStyle(description_widt…"
      ]
     },
     "metadata": {},
     "output_type": "display_data"
    },
    {
     "name": "stdout",
     "output_type": "stream",
     "text": [
      "\n",
      "T202_2019_05_18_Notebook_0_a: This session already exists - no need to re-run ;)\n",
      "T202_2019_05_18_Notebook_1_b: This session already exists - no need to re-run ;)\n",
      "T202_2019_05_18_Notebook_2_b: This session already exists - no need to re-run ;)\n",
      "T202_2019_05_18_Notebook_3_b_seq2b3b: This session already exists - no need to re-run ;)\n",
      "T202_2019_05_18_Notebook_4_a: This session already exists - no need to re-run ;)\n",
      "T202_2019_05_18_Notebook_4_b: This session already exists - no need to re-run ;)\n",
      "T202_2019_05_18_Notebook_4_c: This session already exists - no need to re-run ;)\n",
      "T202_2019_05_18_Notebook_4_d: This session already exists - no need to re-run ;)\n",
      "T202_2019_05_18_Notebook_5_a_seq0a1b2b3b4abcd5a: This session already exists - no need to re-run ;)\n",
      "2019_05_18__T202_T202-134047\n",
      "Notebook_6_b.ipynb is being executed\n"
     ]
    },
    {
     "data": {
      "application/vnd.jupyter.widget-view+json": {
       "model_id": "c26247ce2ce841fd987b29105c7f5580",
       "version_major": 2,
       "version_minor": 0
      },
      "text/plain": [
       "HBox(children=(FloatProgress(value=0.0, description='Executing', max=12.0, style=ProgressStyle(description_wid…"
      ]
     },
     "metadata": {},
     "output_type": "display_data"
    },
    {
     "name": "stdout",
     "output_type": "stream",
     "text": [
      "\n",
      "2019_05_18__T202_T202-134047\n",
      "Notebook_7_a.ipynb is being executed\n"
     ]
    },
    {
     "data": {
      "application/vnd.jupyter.widget-view+json": {
       "model_id": "3cb83c4c51c64597abb42b13ad7d3508",
       "version_major": 2,
       "version_minor": 0
      },
      "text/plain": [
       "HBox(children=(FloatProgress(value=0.0, description='Executing', max=6.0, style=ProgressStyle(description_widt…"
      ]
     },
     "metadata": {},
     "output_type": "display_data"
    },
    {
     "name": "stdout",
     "output_type": "stream",
     "text": [
      "\n",
      "T202_2019_05_20_Notebook_0_a: This session already exists - no need to re-run ;)\n",
      "T202_2019_05_20_Notebook_1_b: This session already exists - no need to re-run ;)\n",
      "T202_2019_05_20_Notebook_2_b: This session already exists - no need to re-run ;)\n",
      "T202_2019_05_20_Notebook_3_b_seq2b3b: This session already exists - no need to re-run ;)\n",
      "T202_2019_05_20_Notebook_4_a: This session already exists - no need to re-run ;)\n",
      "T202_2019_05_20_Notebook_4_b: This session already exists - no need to re-run ;)\n",
      "T202_2019_05_20_Notebook_4_c: This session already exists - no need to re-run ;)\n",
      "T202_2019_05_20_Notebook_4_d: This session already exists - no need to re-run ;)\n",
      "T202_2019_05_20_Notebook_5_a_seq0a1b2b3b4abcd5a: This session already exists - no need to re-run ;)\n",
      "2019_05_20__T202_T202-164447\n",
      "Notebook_6_b.ipynb is being executed\n"
     ]
    },
    {
     "data": {
      "application/vnd.jupyter.widget-view+json": {
       "model_id": "f5f0327658e44df89c980ae66898bae6",
       "version_major": 2,
       "version_minor": 0
      },
      "text/plain": [
       "HBox(children=(FloatProgress(value=0.0, description='Executing', max=12.0, style=ProgressStyle(description_wid…"
      ]
     },
     "metadata": {},
     "output_type": "display_data"
    },
    {
     "name": "stdout",
     "output_type": "stream",
     "text": [
      "\n",
      "2019_05_20__T202_T202-164447\n",
      "Notebook_7_a.ipynb is being executed\n"
     ]
    },
    {
     "data": {
      "application/vnd.jupyter.widget-view+json": {
       "model_id": "f2bc45dc82d64e00b00daa38321f84e4",
       "version_major": 2,
       "version_minor": 0
      },
      "text/plain": [
       "HBox(children=(FloatProgress(value=0.0, description='Executing', max=6.0, style=ProgressStyle(description_widt…"
      ]
     },
     "metadata": {},
     "output_type": "display_data"
    },
    {
     "name": "stdout",
     "output_type": "stream",
     "text": [
      "\n",
      "T202_2019_05_21_Notebook_0_a: This session already exists - no need to re-run ;)\n",
      "T202_2019_05_21_Notebook_1_b: This session already exists - no need to re-run ;)\n",
      "T202_2019_05_21_Notebook_2_b: This session already exists - no need to re-run ;)\n",
      "T202_2019_05_21_Notebook_3_b_seq2b3b: This session already exists - no need to re-run ;)\n",
      "T202_2019_05_21_Notebook_4_a: This session already exists - no need to re-run ;)\n",
      "T202_2019_05_21_Notebook_4_b: This session already exists - no need to re-run ;)\n",
      "T202_2019_05_21_Notebook_4_c: This session already exists - no need to re-run ;)\n",
      "T202_2019_05_21_Notebook_4_d: This session already exists - no need to re-run ;)\n",
      "T202_2019_05_21_Notebook_5_a_seq0a1b2b3b4abcd5a: This session already exists - no need to re-run ;)\n",
      "2019_05_21__T202_T202-152914\n",
      "Notebook_6_b.ipynb is being executed\n"
     ]
    },
    {
     "data": {
      "application/vnd.jupyter.widget-view+json": {
       "model_id": "dcd86fc0570f47ab89e550c901dbff19",
       "version_major": 2,
       "version_minor": 0
      },
      "text/plain": [
       "HBox(children=(FloatProgress(value=0.0, description='Executing', max=12.0, style=ProgressStyle(description_wid…"
      ]
     },
     "metadata": {},
     "output_type": "display_data"
    },
    {
     "name": "stdout",
     "output_type": "stream",
     "text": [
      "\n",
      "2019_05_21__T202_T202-152914\n",
      "Notebook_7_a.ipynb is being executed\n"
     ]
    },
    {
     "data": {
      "application/vnd.jupyter.widget-view+json": {
       "model_id": "489463b6347d443389037cacc53f2ae6",
       "version_major": 2,
       "version_minor": 0
      },
      "text/plain": [
       "HBox(children=(FloatProgress(value=0.0, description='Executing', max=6.0, style=ProgressStyle(description_widt…"
      ]
     },
     "metadata": {},
     "output_type": "display_data"
    },
    {
     "name": "stdout",
     "output_type": "stream",
     "text": [
      "\n",
      "T202_2019_05_22_Notebook_0_a: This session already exists - no need to re-run ;)\n",
      "T202_2019_05_22_Notebook_1_b: This session already exists - no need to re-run ;)\n",
      "T202_2019_05_22_Notebook_2_b: This session already exists - no need to re-run ;)\n",
      "T202_2019_05_22_Notebook_3_b_seq2b3b: This session already exists - no need to re-run ;)\n",
      "T202_2019_05_22_Notebook_4_a: This session already exists - no need to re-run ;)\n",
      "T202_2019_05_22_Notebook_4_b: This session already exists - no need to re-run ;)\n",
      "T202_2019_05_22_Notebook_4_c: This session already exists - no need to re-run ;)\n",
      "T202_2019_05_22_Notebook_4_d: This session already exists - no need to re-run ;)\n",
      "T202_2019_05_22_Notebook_5_a_seq0a1b2b3b4abcd5a: This session already exists - no need to re-run ;)\n",
      "2019_05_22__T202_T202-141516\n",
      "Notebook_6_b.ipynb is being executed\n"
     ]
    },
    {
     "data": {
      "application/vnd.jupyter.widget-view+json": {
       "model_id": "f4d34d76b2a84880a75dd543ed8007b8",
       "version_major": 2,
       "version_minor": 0
      },
      "text/plain": [
       "HBox(children=(FloatProgress(value=0.0, description='Executing', max=12.0, style=ProgressStyle(description_wid…"
      ]
     },
     "metadata": {},
     "output_type": "display_data"
    },
    {
     "name": "stdout",
     "output_type": "stream",
     "text": [
      "\n",
      "2019_05_22__T202_T202-141516\n",
      "Notebook_7_a.ipynb is being executed\n"
     ]
    },
    {
     "data": {
      "application/vnd.jupyter.widget-view+json": {
       "model_id": "331f5dd4c8e74afa87b19a0fd3818823",
       "version_major": 2,
       "version_minor": 0
      },
      "text/plain": [
       "HBox(children=(FloatProgress(value=0.0, description='Executing', max=6.0, style=ProgressStyle(description_widt…"
      ]
     },
     "metadata": {},
     "output_type": "display_data"
    },
    {
     "name": "stdout",
     "output_type": "stream",
     "text": [
      "\n",
      "T202_2019_05_24_Notebook_0_a: This session already exists - no need to re-run ;)\n",
      "T202_2019_05_24_Notebook_1_b: This session already exists - no need to re-run ;)\n",
      "T202_2019_05_24_Notebook_2_b: This session already exists - no need to re-run ;)\n",
      "T202_2019_05_24_Notebook_3_b_seq2b3b: This session already exists - no need to re-run ;)\n",
      "T202_2019_05_24_Notebook_4_a: This session already exists - no need to re-run ;)\n",
      "T202_2019_05_24_Notebook_4_b: This session already exists - no need to re-run ;)\n",
      "T202_2019_05_24_Notebook_4_c: This session already exists - no need to re-run ;)\n",
      "T202_2019_05_24_Notebook_4_d: This session already exists - no need to re-run ;)\n",
      "T202_2019_05_24_Notebook_5_a_seq0a1b2b3b4abcd5a: This session already exists - no need to re-run ;)\n",
      "2019_05_24__T202_T202-135722\n",
      "Notebook_6_b.ipynb is being executed\n"
     ]
    },
    {
     "data": {
      "application/vnd.jupyter.widget-view+json": {
       "model_id": "73db457a2e004dc3885530a8855355f2",
       "version_major": 2,
       "version_minor": 0
      },
      "text/plain": [
       "HBox(children=(FloatProgress(value=0.0, description='Executing', max=12.0, style=ProgressStyle(description_wid…"
      ]
     },
     "metadata": {},
     "output_type": "display_data"
    },
    {
     "name": "stdout",
     "output_type": "stream",
     "text": [
      "\n",
      "2019_05_24__T202_T202-135722\n",
      "Notebook_7_a.ipynb is being executed\n"
     ]
    },
    {
     "data": {
      "application/vnd.jupyter.widget-view+json": {
       "model_id": "2e391a972074468f8e8a503f35e4e70f",
       "version_major": 2,
       "version_minor": 0
      },
      "text/plain": [
       "HBox(children=(FloatProgress(value=0.0, description='Executing', max=6.0, style=ProgressStyle(description_widt…"
      ]
     },
     "metadata": {},
     "output_type": "display_data"
    },
    {
     "name": "stdout",
     "output_type": "stream",
     "text": [
      "\n",
      "T202_2019_05_25_Notebook_0_a: This session already exists - no need to re-run ;)\n",
      "T202_2019_05_25_Notebook_1_b: This session already exists - no need to re-run ;)\n",
      "T202_2019_05_25_Notebook_2_b: This session already exists - no need to re-run ;)\n",
      "T202_2019_05_25_Notebook_3_b_seq2b3b: This session already exists - no need to re-run ;)\n",
      "T202_2019_05_25_Notebook_4_a: This session already exists - no need to re-run ;)\n",
      "T202_2019_05_25_Notebook_4_b: This session already exists - no need to re-run ;)\n",
      "T202_2019_05_25_Notebook_4_c: This session already exists - no need to re-run ;)\n",
      "T202_2019_05_25_Notebook_4_d: This session already exists - no need to re-run ;)\n",
      "T202_2019_05_25_Notebook_5_a_seq0a1b2b3b4abcd5a: This session already exists - no need to re-run ;)\n",
      "2019_05_25__T202_T202-153611\n",
      "Notebook_6_b.ipynb is being executed\n"
     ]
    },
    {
     "data": {
      "application/vnd.jupyter.widget-view+json": {
       "model_id": "130136ab0fec49d5a3142d509b4931d6",
       "version_major": 2,
       "version_minor": 0
      },
      "text/plain": [
       "HBox(children=(FloatProgress(value=0.0, description='Executing', max=12.0, style=ProgressStyle(description_wid…"
      ]
     },
     "metadata": {},
     "output_type": "display_data"
    },
    {
     "name": "stdout",
     "output_type": "stream",
     "text": [
      "\n",
      "2019_05_25__T202_T202-153611\n",
      "Notebook_7_a.ipynb is being executed\n"
     ]
    },
    {
     "data": {
      "application/vnd.jupyter.widget-view+json": {
       "model_id": "cba41da918c744e4b2c9769667a1a7ab",
       "version_major": 2,
       "version_minor": 0
      },
      "text/plain": [
       "HBox(children=(FloatProgress(value=0.0, description='Executing', max=6.0, style=ProgressStyle(description_widt…"
      ]
     },
     "metadata": {},
     "output_type": "display_data"
    },
    {
     "name": "stdout",
     "output_type": "stream",
     "text": [
      "\n",
      "T202_2019_05_26_Notebook_0_a: This session already exists - no need to re-run ;)\n",
      "T202_2019_05_26_Notebook_1_b: This session already exists - no need to re-run ;)\n",
      "T202_2019_05_26_Notebook_2_b: This session already exists - no need to re-run ;)\n",
      "T202_2019_05_26_Notebook_3_b_seq2b3b: This session already exists - no need to re-run ;)\n",
      "T202_2019_05_26_Notebook_4_a: This session already exists - no need to re-run ;)\n",
      "T202_2019_05_26_Notebook_4_b: This session already exists - no need to re-run ;)\n",
      "T202_2019_05_26_Notebook_4_c: This session already exists - no need to re-run ;)\n",
      "T202_2019_05_26_Notebook_4_d: This session already exists - no need to re-run ;)\n",
      "T202_2019_05_26_Notebook_5_a_seq0a1b2b3b4abcd5a: This session already exists - no need to re-run ;)\n",
      "2019_05_26__T202_T202-142728\n",
      "Notebook_6_b.ipynb is being executed\n"
     ]
    },
    {
     "data": {
      "application/vnd.jupyter.widget-view+json": {
       "model_id": "9c6978fa16214b0fbb348d2b20a8aca8",
       "version_major": 2,
       "version_minor": 0
      },
      "text/plain": [
       "HBox(children=(FloatProgress(value=0.0, description='Executing', max=12.0, style=ProgressStyle(description_wid…"
      ]
     },
     "metadata": {},
     "output_type": "display_data"
    },
    {
     "name": "stdout",
     "output_type": "stream",
     "text": [
      "\n",
      "2019_05_26__T202_T202-142728\n",
      "Notebook_7_a.ipynb is being executed\n"
     ]
    },
    {
     "data": {
      "application/vnd.jupyter.widget-view+json": {
       "model_id": "1093b9c0554b4a5b9747c20524189bbb",
       "version_major": 2,
       "version_minor": 0
      },
      "text/plain": [
       "HBox(children=(FloatProgress(value=0.0, description='Executing', max=6.0, style=ProgressStyle(description_widt…"
      ]
     },
     "metadata": {},
     "output_type": "display_data"
    },
    {
     "name": "stdout",
     "output_type": "stream",
     "text": [
      "\n",
      "T202_2019_05_28_Notebook_0_a: This session already exists - no need to re-run ;)\n",
      "T202_2019_05_28_Notebook_1_b: This session already exists - no need to re-run ;)\n",
      "T202_2019_05_28_Notebook_2_b: This session already exists - no need to re-run ;)\n",
      "T202_2019_05_28_Notebook_3_b_seq2b3b: This session already exists - no need to re-run ;)\n",
      "T202_2019_05_28_Notebook_4_a: This session already exists - no need to re-run ;)\n",
      "T202_2019_05_28_Notebook_4_b: This session already exists - no need to re-run ;)\n",
      "T202_2019_05_28_Notebook_4_c: This session already exists - no need to re-run ;)\n",
      "T202_2019_05_28_Notebook_4_d: This session already exists - no need to re-run ;)\n",
      "T202_2019_05_28_Notebook_5_a_seq0a1b2b3b4abcd5a: This session already exists - no need to re-run ;)\n",
      "2019_05_28__T202_T202-140948\n",
      "Notebook_6_b.ipynb is being executed\n"
     ]
    },
    {
     "data": {
      "application/vnd.jupyter.widget-view+json": {
       "model_id": "94730f3a0edb41d995424d8aa661134c",
       "version_major": 2,
       "version_minor": 0
      },
      "text/plain": [
       "HBox(children=(FloatProgress(value=0.0, description='Executing', max=12.0, style=ProgressStyle(description_wid…"
      ]
     },
     "metadata": {},
     "output_type": "display_data"
    },
    {
     "name": "stdout",
     "output_type": "stream",
     "text": [
      "\n",
      "2019_05_28__T202_T202-140948\n",
      "Notebook_7_a.ipynb is being executed\n"
     ]
    },
    {
     "data": {
      "application/vnd.jupyter.widget-view+json": {
       "model_id": "20a3e016c39c4382bb480b9247055e96",
       "version_major": 2,
       "version_minor": 0
      },
      "text/plain": [
       "HBox(children=(FloatProgress(value=0.0, description='Executing', max=6.0, style=ProgressStyle(description_widt…"
      ]
     },
     "metadata": {},
     "output_type": "display_data"
    },
    {
     "name": "stdout",
     "output_type": "stream",
     "text": [
      "\n",
      "T202_2019_05_29_Notebook_0_a: This session already exists - no need to re-run ;)\n",
      "T202_2019_05_29_Notebook_1_b: This session already exists - no need to re-run ;)\n",
      "T202_2019_05_29_Notebook_2_b: This session already exists - no need to re-run ;)\n",
      "T202_2019_05_29_Notebook_3_b_seq2b3b: This session already exists - no need to re-run ;)\n",
      "T202_2019_05_29_Notebook_4_a: This session already exists - no need to re-run ;)\n",
      "T202_2019_05_29_Notebook_4_b: This session already exists - no need to re-run ;)\n",
      "T202_2019_05_29_Notebook_4_c: This session already exists - no need to re-run ;)\n",
      "T202_2019_05_29_Notebook_4_d: This session already exists - no need to re-run ;)\n",
      "T202_2019_05_29_Notebook_5_a_seq0a1b2b3b4abcd5a: This session already exists - no need to re-run ;)\n",
      "2019_05_29__T202_T202-160644\n",
      "Notebook_6_b.ipynb is being executed\n"
     ]
    },
    {
     "data": {
      "application/vnd.jupyter.widget-view+json": {
       "model_id": "54f51270a389468c9f002bf0eb0e9998",
       "version_major": 2,
       "version_minor": 0
      },
      "text/plain": [
       "HBox(children=(FloatProgress(value=0.0, description='Executing', max=12.0, style=ProgressStyle(description_wid…"
      ]
     },
     "metadata": {},
     "output_type": "display_data"
    },
    {
     "name": "stdout",
     "output_type": "stream",
     "text": [
      "\n",
      "2019_05_29__T202_T202-160644\n",
      "Notebook_7_a.ipynb is being executed\n"
     ]
    },
    {
     "data": {
      "application/vnd.jupyter.widget-view+json": {
       "model_id": "cdf8b0b4e8aa42b28e9329d3b88ebbba",
       "version_major": 2,
       "version_minor": 0
      },
      "text/plain": [
       "HBox(children=(FloatProgress(value=0.0, description='Executing', max=6.0, style=ProgressStyle(description_widt…"
      ]
     },
     "metadata": {},
     "output_type": "display_data"
    },
    {
     "name": "stdout",
     "output_type": "stream",
     "text": [
      "\n",
      "T202_2019_05_30_Notebook_0_a: This session already exists - no need to re-run ;)\n",
      "T202_2019_05_30_Notebook_1_b: This session already exists - no need to re-run ;)\n",
      "T202_2019_05_30_Notebook_2_b: This session already exists - no need to re-run ;)\n",
      "T202_2019_05_30_Notebook_3_b_seq2b3b: This session already exists - no need to re-run ;)\n",
      "T202_2019_05_30_Notebook_4_a: This session already exists - no need to re-run ;)\n",
      "T202_2019_05_30_Notebook_4_b: This session already exists - no need to re-run ;)\n",
      "T202_2019_05_30_Notebook_4_c: This session already exists - no need to re-run ;)\n",
      "T202_2019_05_30_Notebook_4_d: This session already exists - no need to re-run ;)\n",
      "T202_2019_05_30_Notebook_5_a_seq0a1b2b3b4abcd5a: This session already exists - no need to re-run ;)\n",
      "2019_05_30__T202_T202-152554\n",
      "Notebook_6_b.ipynb is being executed\n"
     ]
    },
    {
     "data": {
      "application/vnd.jupyter.widget-view+json": {
       "model_id": "e85e48983c214d0796b80a4f8a504946",
       "version_major": 2,
       "version_minor": 0
      },
      "text/plain": [
       "HBox(children=(FloatProgress(value=0.0, description='Executing', max=12.0, style=ProgressStyle(description_wid…"
      ]
     },
     "metadata": {},
     "output_type": "display_data"
    },
    {
     "name": "stdout",
     "output_type": "stream",
     "text": [
      "\n",
      "2019_05_30__T202_T202-152554\n",
      "Notebook_7_a.ipynb is being executed\n"
     ]
    },
    {
     "data": {
      "application/vnd.jupyter.widget-view+json": {
       "model_id": "03f5472427424590b6783a356a853b4f",
       "version_major": 2,
       "version_minor": 0
      },
      "text/plain": [
       "HBox(children=(FloatProgress(value=0.0, description='Executing', max=6.0, style=ProgressStyle(description_widt…"
      ]
     },
     "metadata": {},
     "output_type": "display_data"
    },
    {
     "name": "stdout",
     "output_type": "stream",
     "text": [
      "\n"
     ]
    }
   ],
   "source": [
    "# Mouse_Date_FileName: data set we want to run \n",
    "#nb_list: notebooks that we want to run \n",
    "#nb_path: where is the repository that you are running \n",
    "#seq_str: noteboks that we want to run - in code version \n",
    "#dict_for_pm: parameters of the data set \n",
    "ophf.run_dataset(Mouse_Date_FileName,nb_list,nb_path,seq_str,dict_for_pm)"
   ]
  },
  {
   "cell_type": "code",
   "execution_count": null,
   "metadata": {},
   "outputs": [],
   "source": []
  },
  {
   "cell_type": "code",
   "execution_count": null,
   "metadata": {},
   "outputs": [],
   "source": []
  }
 ],
 "metadata": {
  "celltoolbar": "Tags",
  "kernelspec": {
   "display_name": "Python 3",
   "language": "python",
   "name": "python3"
  },
  "language_info": {
   "codemirror_mode": {
    "name": "ipython",
    "version": 3
   },
   "file_extension": ".py",
   "mimetype": "text/x-python",
   "name": "python",
   "nbconvert_exporter": "python",
   "pygments_lexer": "ipython3",
   "version": "3.7.3"
  }
 },
 "nbformat": 4,
 "nbformat_minor": 2
}
