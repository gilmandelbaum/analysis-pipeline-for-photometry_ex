{
 "cells": [
  {
   "cell_type": "markdown",
   "metadata": {},
   "source": [
    "\n",
    "# Papermill Notebook for photometry"
   ]
  },
  {
   "cell_type": "code",
   "execution_count": 1,
   "metadata": {},
   "outputs": [],
   "source": [
    "import timeit\n",
    "import pandas as pd\n",
    "import numpy as np\n",
    "import os \n",
    "import papermill as pm\n",
    "import getpass\n",
    "import sys"
   ]
  },
  {
   "cell_type": "code",
   "execution_count": 2,
   "metadata": {},
   "outputs": [
    {
     "data": {
      "text/plain": [
       "'/anaconda3/bin/python3'"
      ]
     },
     "execution_count": 2,
     "metadata": {},
     "output_type": "execute_result"
    }
   ],
   "source": [
    "sys.executable"
   ]
  },
  {
   "cell_type": "code",
   "execution_count": 3,
   "metadata": {},
   "outputs": [],
   "source": [
    "import photometry_papermill_helper_functions as ophf "
   ]
  },
  {
   "cell_type": "markdown",
   "metadata": {},
   "source": [
    "# input and output path: (user specific)"
   ]
  },
  {
   "cell_type": "code",
   "execution_count": 4,
   "metadata": {},
   "outputs": [],
   "source": [
    "#data_dir_input = \"/Users/gilmandelbaum/Desktop/T240_mouse\"\n",
    "#data_dir_output = \"/Users/gilmandelbaum/Desktop/output/\"\n",
    "\n",
    "data_dir_input = \"/Volumes/GilInVivoPaper.large/2.Photometry_in_str/1.dual_color_photo_full_data_set_3/\"\n",
    "data_dir_output = \"/Volumes/GilInVivoPaper.large/2.Photometry_in_str/2.dual_color_photo_full_data_set_analysis_3/\"\n"
   ]
  },
  {
   "cell_type": "markdown",
   "metadata": {},
   "source": [
    "# name of xlsx sheet to import with the data set info: "
   ]
  },
  {
   "cell_type": "code",
   "execution_count": 5,
   "metadata": {},
   "outputs": [],
   "source": [
    "#this xlsx sheet should be in the data_dir_input"
   ]
  },
  {
   "cell_type": "code",
   "execution_count": 6,
   "metadata": {},
   "outputs": [],
   "source": [
    "#name of xlsx file that has the sessions we want to run: \n",
    "MasterSheetName= 'data_set_6_to_10_for_papermill'"
   ]
  },
  {
   "cell_type": "code",
   "execution_count": 7,
   "metadata": {},
   "outputs": [],
   "source": [
    "#loading the xlsx file \n",
    "Mouse_Date_FileName = pd.read_excel(data_dir_input+'/'+MasterSheetName+'.xlsx') #mdf is mouse data file "
   ]
  },
  {
   "cell_type": "code",
   "execution_count": 8,
   "metadata": {
    "scrolled": true
   },
   "outputs": [
    {
     "data": {
      "text/html": [
       "<div>\n",
       "<style scoped>\n",
       "    .dataframe tbody tr th:only-of-type {\n",
       "        vertical-align: middle;\n",
       "    }\n",
       "\n",
       "    .dataframe tbody tr th {\n",
       "        vertical-align: top;\n",
       "    }\n",
       "\n",
       "    .dataframe thead th {\n",
       "        text-align: right;\n",
       "    }\n",
       "</style>\n",
       "<table border=\"1\" class=\"dataframe\">\n",
       "  <thead>\n",
       "    <tr style=\"text-align: right;\">\n",
       "      <th></th>\n",
       "      <th>Mouse</th>\n",
       "      <th>Date</th>\n",
       "      <th>File name</th>\n",
       "    </tr>\n",
       "  </thead>\n",
       "  <tbody>\n",
       "    <tr>\n",
       "      <th>0</th>\n",
       "      <td>T163</td>\n",
       "      <td>181127</td>\n",
       "      <td>T163-144959</td>\n",
       "    </tr>\n",
       "    <tr>\n",
       "      <th>1</th>\n",
       "      <td>T163</td>\n",
       "      <td>181211</td>\n",
       "      <td>T163-104921</td>\n",
       "    </tr>\n",
       "    <tr>\n",
       "      <th>2</th>\n",
       "      <td>T163</td>\n",
       "      <td>181207</td>\n",
       "      <td>T163-123432</td>\n",
       "    </tr>\n",
       "    <tr>\n",
       "      <th>3</th>\n",
       "      <td>T163</td>\n",
       "      <td>181128</td>\n",
       "      <td>T163-115220</td>\n",
       "    </tr>\n",
       "    <tr>\n",
       "      <th>4</th>\n",
       "      <td>T163</td>\n",
       "      <td>181203</td>\n",
       "      <td>T163-115901</td>\n",
       "    </tr>\n",
       "    <tr>\n",
       "      <th>5</th>\n",
       "      <td>T163</td>\n",
       "      <td>181130</td>\n",
       "      <td>T163-133215</td>\n",
       "    </tr>\n",
       "    <tr>\n",
       "      <th>6</th>\n",
       "      <td>T163</td>\n",
       "      <td>181204</td>\n",
       "      <td>T163-114628</td>\n",
       "    </tr>\n",
       "    <tr>\n",
       "      <th>7</th>\n",
       "      <td>T163</td>\n",
       "      <td>181206</td>\n",
       "      <td>T163-112720</td>\n",
       "    </tr>\n",
       "    <tr>\n",
       "      <th>8</th>\n",
       "      <td>T163</td>\n",
       "      <td>181210</td>\n",
       "      <td>T163-102536</td>\n",
       "    </tr>\n",
       "    <tr>\n",
       "      <th>9</th>\n",
       "      <td>T163</td>\n",
       "      <td>181213</td>\n",
       "      <td>T163-094646</td>\n",
       "    </tr>\n",
       "    <tr>\n",
       "      <th>10</th>\n",
       "      <td>T164</td>\n",
       "      <td>181127</td>\n",
       "      <td>T164-153101</td>\n",
       "    </tr>\n",
       "    <tr>\n",
       "      <th>11</th>\n",
       "      <td>T164</td>\n",
       "      <td>181210</td>\n",
       "      <td>T164-105324</td>\n",
       "    </tr>\n",
       "    <tr>\n",
       "      <th>12</th>\n",
       "      <td>T164</td>\n",
       "      <td>181204</td>\n",
       "      <td>T164-121548</td>\n",
       "    </tr>\n",
       "    <tr>\n",
       "      <th>13</th>\n",
       "      <td>T164</td>\n",
       "      <td>181205</td>\n",
       "      <td>T164-123550</td>\n",
       "    </tr>\n",
       "    <tr>\n",
       "      <th>14</th>\n",
       "      <td>T164</td>\n",
       "      <td>181128</td>\n",
       "      <td>T164-122054</td>\n",
       "    </tr>\n",
       "    <tr>\n",
       "      <th>15</th>\n",
       "      <td>T164</td>\n",
       "      <td>181213</td>\n",
       "      <td>T164-101804</td>\n",
       "    </tr>\n",
       "    <tr>\n",
       "      <th>16</th>\n",
       "      <td>T169</td>\n",
       "      <td>190213</td>\n",
       "      <td>T169-141800</td>\n",
       "    </tr>\n",
       "    <tr>\n",
       "      <th>17</th>\n",
       "      <td>T169</td>\n",
       "      <td>190211</td>\n",
       "      <td>T169-145303</td>\n",
       "    </tr>\n",
       "    <tr>\n",
       "      <th>18</th>\n",
       "      <td>T169</td>\n",
       "      <td>190222</td>\n",
       "      <td>T169-134725</td>\n",
       "    </tr>\n",
       "    <tr>\n",
       "      <th>19</th>\n",
       "      <td>T169</td>\n",
       "      <td>190301</td>\n",
       "      <td>T169-141400</td>\n",
       "    </tr>\n",
       "    <tr>\n",
       "      <th>20</th>\n",
       "      <td>T169</td>\n",
       "      <td>190125</td>\n",
       "      <td>T169-142626</td>\n",
       "    </tr>\n",
       "    <tr>\n",
       "      <th>21</th>\n",
       "      <td>T169</td>\n",
       "      <td>190214</td>\n",
       "      <td>T169-143937</td>\n",
       "    </tr>\n",
       "    <tr>\n",
       "      <th>22</th>\n",
       "      <td>T169</td>\n",
       "      <td>190220</td>\n",
       "      <td>T169-141850</td>\n",
       "    </tr>\n",
       "    <tr>\n",
       "      <th>23</th>\n",
       "      <td>T169</td>\n",
       "      <td>190227</td>\n",
       "      <td>T169-155731</td>\n",
       "    </tr>\n",
       "    <tr>\n",
       "      <th>24</th>\n",
       "      <td>T169</td>\n",
       "      <td>190228</td>\n",
       "      <td>T169-142051</td>\n",
       "    </tr>\n",
       "    <tr>\n",
       "      <th>25</th>\n",
       "      <td>T169</td>\n",
       "      <td>190221</td>\n",
       "      <td>T169-141159</td>\n",
       "    </tr>\n",
       "    <tr>\n",
       "      <th>26</th>\n",
       "      <td>T171</td>\n",
       "      <td>190221</td>\n",
       "      <td>T171-152107</td>\n",
       "    </tr>\n",
       "    <tr>\n",
       "      <th>27</th>\n",
       "      <td>T171</td>\n",
       "      <td>190226</td>\n",
       "      <td>T171-145215</td>\n",
       "    </tr>\n",
       "    <tr>\n",
       "      <th>28</th>\n",
       "      <td>T171</td>\n",
       "      <td>190122</td>\n",
       "      <td>T171-165215</td>\n",
       "    </tr>\n",
       "    <tr>\n",
       "      <th>29</th>\n",
       "      <td>T171</td>\n",
       "      <td>190225</td>\n",
       "      <td>T171-152054</td>\n",
       "    </tr>\n",
       "    <tr>\n",
       "      <th>30</th>\n",
       "      <td>T171</td>\n",
       "      <td>190227</td>\n",
       "      <td>T171-162455</td>\n",
       "    </tr>\n",
       "    <tr>\n",
       "      <th>31</th>\n",
       "      <td>T171</td>\n",
       "      <td>190214</td>\n",
       "      <td>T171-155052</td>\n",
       "    </tr>\n",
       "    <tr>\n",
       "      <th>32</th>\n",
       "      <td>T171</td>\n",
       "      <td>190222</td>\n",
       "      <td>T171-145829</td>\n",
       "    </tr>\n",
       "    <tr>\n",
       "      <th>33</th>\n",
       "      <td>T171</td>\n",
       "      <td>190215</td>\n",
       "      <td>T171-152142</td>\n",
       "    </tr>\n",
       "    <tr>\n",
       "      <th>34</th>\n",
       "      <td>T171</td>\n",
       "      <td>190131</td>\n",
       "      <td>T171-153700</td>\n",
       "    </tr>\n",
       "    <tr>\n",
       "      <th>35</th>\n",
       "      <td>T171</td>\n",
       "      <td>190130</td>\n",
       "      <td>T171-145252</td>\n",
       "    </tr>\n",
       "    <tr>\n",
       "      <th>36</th>\n",
       "      <td>T186</td>\n",
       "      <td>190322</td>\n",
       "      <td>T186-164847</td>\n",
       "    </tr>\n",
       "    <tr>\n",
       "      <th>37</th>\n",
       "      <td>T186</td>\n",
       "      <td>190401</td>\n",
       "      <td>T186-142719</td>\n",
       "    </tr>\n",
       "    <tr>\n",
       "      <th>38</th>\n",
       "      <td>T186</td>\n",
       "      <td>190328</td>\n",
       "      <td>T186-144534</td>\n",
       "    </tr>\n",
       "    <tr>\n",
       "      <th>39</th>\n",
       "      <td>T186</td>\n",
       "      <td>190327</td>\n",
       "      <td>T186-150703</td>\n",
       "    </tr>\n",
       "    <tr>\n",
       "      <th>40</th>\n",
       "      <td>T186</td>\n",
       "      <td>190402</td>\n",
       "      <td>T186-140234</td>\n",
       "    </tr>\n",
       "    <tr>\n",
       "      <th>41</th>\n",
       "      <td>T186</td>\n",
       "      <td>190405</td>\n",
       "      <td>T186-135725</td>\n",
       "    </tr>\n",
       "    <tr>\n",
       "      <th>42</th>\n",
       "      <td>T187</td>\n",
       "      <td>190322</td>\n",
       "      <td>T187-172139</td>\n",
       "    </tr>\n",
       "    <tr>\n",
       "      <th>43</th>\n",
       "      <td>T187</td>\n",
       "      <td>190402</td>\n",
       "      <td>T187-142756</td>\n",
       "    </tr>\n",
       "    <tr>\n",
       "      <th>44</th>\n",
       "      <td>T187</td>\n",
       "      <td>190325</td>\n",
       "      <td>T187-153540</td>\n",
       "    </tr>\n",
       "    <tr>\n",
       "      <th>45</th>\n",
       "      <td>T187</td>\n",
       "      <td>190404</td>\n",
       "      <td>T187-142541</td>\n",
       "    </tr>\n",
       "    <tr>\n",
       "      <th>46</th>\n",
       "      <td>T187</td>\n",
       "      <td>190401</td>\n",
       "      <td>T187-150132</td>\n",
       "    </tr>\n",
       "    <tr>\n",
       "      <th>47</th>\n",
       "      <td>T187</td>\n",
       "      <td>190328</td>\n",
       "      <td>T187-152018</td>\n",
       "    </tr>\n",
       "    <tr>\n",
       "      <th>48</th>\n",
       "      <td>T187</td>\n",
       "      <td>190403</td>\n",
       "      <td>T187-143148</td>\n",
       "    </tr>\n",
       "  </tbody>\n",
       "</table>\n",
       "</div>"
      ],
      "text/plain": [
       "   Mouse    Date    File name\n",
       "0   T163  181127  T163-144959\n",
       "1   T163  181211  T163-104921\n",
       "2   T163  181207  T163-123432\n",
       "3   T163  181128  T163-115220\n",
       "4   T163  181203  T163-115901\n",
       "5   T163  181130  T163-133215\n",
       "6   T163  181204  T163-114628\n",
       "7   T163  181206  T163-112720\n",
       "8   T163  181210  T163-102536\n",
       "9   T163  181213  T163-094646\n",
       "10  T164  181127  T164-153101\n",
       "11  T164  181210  T164-105324\n",
       "12  T164  181204  T164-121548\n",
       "13  T164  181205  T164-123550\n",
       "14  T164  181128  T164-122054\n",
       "15  T164  181213  T164-101804\n",
       "16  T169  190213  T169-141800\n",
       "17  T169  190211  T169-145303\n",
       "18  T169  190222  T169-134725\n",
       "19  T169  190301  T169-141400\n",
       "20  T169  190125  T169-142626\n",
       "21  T169  190214  T169-143937\n",
       "22  T169  190220  T169-141850\n",
       "23  T169  190227  T169-155731\n",
       "24  T169  190228  T169-142051\n",
       "25  T169  190221  T169-141159\n",
       "26  T171  190221  T171-152107\n",
       "27  T171  190226  T171-145215\n",
       "28  T171  190122  T171-165215\n",
       "29  T171  190225  T171-152054\n",
       "30  T171  190227  T171-162455\n",
       "31  T171  190214  T171-155052\n",
       "32  T171  190222  T171-145829\n",
       "33  T171  190215  T171-152142\n",
       "34  T171  190131  T171-153700\n",
       "35  T171  190130  T171-145252\n",
       "36  T186  190322  T186-164847\n",
       "37  T186  190401  T186-142719\n",
       "38  T186  190328  T186-144534\n",
       "39  T186  190327  T186-150703\n",
       "40  T186  190402  T186-140234\n",
       "41  T186  190405  T186-135725\n",
       "42  T187  190322  T187-172139\n",
       "43  T187  190402  T187-142756\n",
       "44  T187  190325  T187-153540\n",
       "45  T187  190404  T187-142541\n",
       "46  T187  190401  T187-150132\n",
       "47  T187  190328  T187-152018\n",
       "48  T187  190403  T187-143148"
      ]
     },
     "execution_count": 8,
     "metadata": {},
     "output_type": "execute_result"
    }
   ],
   "source": [
    "Mouse_Date_FileName"
   ]
  },
  {
   "cell_type": "markdown",
   "metadata": {},
   "source": [
    "# use this if running the notebooks from local github folder"
   ]
  },
  {
   "cell_type": "markdown",
   "metadata": {},
   "source": [
    "### if not - define a path to where the repository is at"
   ]
  },
  {
   "cell_type": "code",
   "execution_count": 9,
   "metadata": {},
   "outputs": [
    {
     "name": "stdout",
     "output_type": "stream",
     "text": [
      "gilmandelbaum\n"
     ]
    }
   ],
   "source": [
    "#add the github path that will run the notebooks: \n",
    "username = getpass.getuser() # gets the username from the current comp \n",
    "print (username)"
   ]
  },
  {
   "cell_type": "code",
   "execution_count": 10,
   "metadata": {},
   "outputs": [
    {
     "data": {
      "text/plain": [
       "'/Users/gilmandelbaum/github/analysis-pipeline-for-photometry_ex/'"
      ]
     },
     "execution_count": 10,
     "metadata": {},
     "output_type": "execute_result"
    }
   ],
   "source": [
    "sys.path.append('/Users/{:}/github/analysis-pipeline-for-photometry_ex/'.format(username))\n",
    "nb_path = sys.path[-1]\n",
    "nb_path"
   ]
  },
  {
   "cell_type": "markdown",
   "metadata": {},
   "source": [
    "# parameters to change:"
   ]
  },
  {
   "cell_type": "code",
   "execution_count": 11,
   "metadata": {},
   "outputs": [],
   "source": [
    "#analysis parameters for whole data set:  \n",
    "drop2blocks= 'yes'\n",
    "drop2lastblocks=\"yes\"\n",
    "HowManyBack = 1\n",
    "\n",
    "# #for notebook 5: \n",
    "# Tags = ['Reward_NoReward_tag', 'ENL_tag', 'Cue_to_Sel_tag', \"Cue_to_Sel_fromPrevTrial_tag\",\"firstENLp_tag\"]  \n",
    "# Timing = [600,200,15,15,20]\n",
    "# Start_or_end = ['start','end','start','start','start']\n",
    "\n",
    "#for notebook 5: \n",
    "Tags = ['Reward_NoReward_tag', 'ENL_tag', 'Cue_to_Sel_tag', \"Cue_to_Sel_fromPrevTrial_tag\"]  \n",
    "Timing = [600,200,15,15]\n",
    "Start_or_end = ['start','end','start','start']\n",
    "\n",
    "y_axis_list = [\"df_f\",\"z_score\",\"z_score_sliding_window\"]"
   ]
  },
  {
   "cell_type": "markdown",
   "metadata": {},
   "source": [
    "# parameters to change:"
   ]
  },
  {
   "cell_type": "code",
   "execution_count": 12,
   "metadata": {},
   "outputs": [],
   "source": [
    "#Versions for each notebook: \n",
    "#NOTE: if one notebook no need for list. see 6 as an example. \n",
    "\n",
    "Nb0='a'\n",
    "Nb1= 'b'\n",
    "Nb2= 'a'\n",
    "Nb3= 'c'\n",
    "#Nb4= ['a','b','c','d','e'] #can be a list \n",
    "Nb4= ['a','b','c','d'] #can be a list \n",
    "Nb5= 'a'\n",
    "Nb6= 'a' #can be a list \n",
    "#Nb6= ['a',\"b\"] #can be a list \n",
    "Nb7= 'a'"
   ]
  },
  {
   "cell_type": "code",
   "execution_count": 13,
   "metadata": {},
   "outputs": [],
   "source": [
    "List_of_versions =[Nb0,Nb1,Nb2,Nb3,Nb4,Nb5,Nb6,Nb7]\n",
    "List_of_versions_str =[\"Nb0\",\"Nb1\",\"Nb2\",\"Nb3\",\"Nb4\",\"Nb5\",\"Nb6\",\"Nb7\"]\n",
    "notebook_sequence_list = [0,1,2,3,4,5,6,7]"
   ]
  },
  {
   "cell_type": "code",
   "execution_count": null,
   "metadata": {},
   "outputs": [],
   "source": []
  },
  {
   "cell_type": "code",
   "execution_count": 14,
   "metadata": {},
   "outputs": [
    {
     "data": {
      "text/plain": [
       "['Nb0_a',\n",
       " 'Nb1_b',\n",
       " 'Nb2_a',\n",
       " 'Nb3_c',\n",
       " 'Nb4_a',\n",
       " 'Nb4_b',\n",
       " 'Nb4_c',\n",
       " 'Nb4_d',\n",
       " 'Nb5_a',\n",
       " 'Nb6_a',\n",
       " 'Nb7_a']"
      ]
     },
     "execution_count": 14,
     "metadata": {},
     "output_type": "execute_result"
    }
   ],
   "source": [
    "nb_list = ophf.make_nb_list(List_of_versions,List_of_versions_str)\n",
    "nb_list"
   ]
  },
  {
   "cell_type": "code",
   "execution_count": 15,
   "metadata": {},
   "outputs": [
    {
     "name": "stdout",
     "output_type": "stream",
     "text": [
      "seq0a1b2a3c4abcd5a6a7a will be used\n"
     ]
    }
   ],
   "source": [
    "seq_str = ophf.make_sequence_string(notebook_sequence_list, List_of_versions)"
   ]
  },
  {
   "cell_type": "markdown",
   "metadata": {},
   "source": [
    "# run the cell below (no need to make any changes)"
   ]
  },
  {
   "cell_type": "code",
   "execution_count": 16,
   "metadata": {},
   "outputs": [],
   "source": [
    "#parameters that were defined above and will carry on for the whole analysis. \n",
    "dict_for_pm = dict(data_dir_input=data_dir_input,\n",
    "                   data_dir_output=data_dir_output,\n",
    "                   drop2blocks= drop2blocks,\n",
    "                   drop2lastblocks=drop2blocks,\n",
    "                   seq_str= seq_str, \n",
    "                   HowManyBack = HowManyBack, \n",
    "                   Nb0=Nb0, Nb1=Nb1, Nb2=Nb2, Nb3=Nb3,\n",
    "                   Nb4=Nb4, Nb5=Nb5,Nb6=Nb6,Nb7=Nb7,\n",
    "                   Tags=Tags, \n",
    "                   Timing = Timing,\n",
    "                   Start_or_end=Start_or_end,\n",
    "                   y_axis_list=y_axis_list)"
   ]
  },
  {
   "cell_type": "code",
   "execution_count": null,
   "metadata": {},
   "outputs": [],
   "source": []
  },
  {
   "cell_type": "code",
   "execution_count": 17,
   "metadata": {
    "scrolled": true
   },
   "outputs": [
    {
     "name": "stdout",
     "output_type": "stream",
     "text": [
      "T163_2018_11_27_Notebook_0_a: This session already exists - no need to re-run ;)\n",
      "T163_2018_11_27_Notebook_1_b: This session already exists - no need to re-run ;)\n",
      "T163_2018_11_27_Notebook_2_a: This session already exists - no need to re-run ;)\n",
      "2018_11_27__T163_T163-144959\n",
      "Notebook_3_c.ipynb is being executed\n"
     ]
    },
    {
     "data": {
      "application/vnd.jupyter.widget-view+json": {
       "model_id": "2ba3a9889bdb43e2969c81801ef1caa9",
       "version_major": 2,
       "version_minor": 0
      },
      "text/plain": [
       "HBox(children=(FloatProgress(value=0.0, description='Executing', max=36.0, style=ProgressStyle(description_wid…"
      ]
     },
     "metadata": {},
     "output_type": "display_data"
    },
    {
     "name": "stdout",
     "output_type": "stream",
     "text": [
      "\n",
      "T163_2018_11_27_Notebook_4_a: This session already exists - no need to re-run ;)\n",
      "T163_2018_11_27_Notebook_4_b: This session already exists - no need to re-run ;)\n",
      "T163_2018_11_27_Notebook_4_c: This session already exists - no need to re-run ;)\n",
      "T163_2018_11_27_Notebook_4_d: This session already exists - no need to re-run ;)\n",
      "2018_11_27__T163_T163-144959\n",
      "Notebook_5_a.ipynb is being executed\n"
     ]
    },
    {
     "data": {
      "application/vnd.jupyter.widget-view+json": {
       "model_id": "e1ee5c3ba3fd49279a232e0bdb28043f",
       "version_major": 2,
       "version_minor": 0
      },
      "text/plain": [
       "HBox(children=(FloatProgress(value=0.0, description='Executing', max=18.0, style=ProgressStyle(description_wid…"
      ]
     },
     "metadata": {},
     "output_type": "display_data"
    },
    {
     "name": "stdout",
     "output_type": "stream",
     "text": [
      "\n",
      "2018_11_27__T163_T163-144959\n",
      "Notebook_6_a.ipynb is being executed\n"
     ]
    },
    {
     "data": {
      "application/vnd.jupyter.widget-view+json": {
       "model_id": "9c5118ade76045e6b4503c85fb818a66",
       "version_major": 2,
       "version_minor": 0
      },
      "text/plain": [
       "HBox(children=(FloatProgress(value=0.0, description='Executing', max=12.0, style=ProgressStyle(description_wid…"
      ]
     },
     "metadata": {},
     "output_type": "display_data"
    },
    {
     "name": "stdout",
     "output_type": "stream",
     "text": [
      "\n",
      "2018_11_27__T163_T163-144959\n",
      "Notebook_7_a.ipynb is being executed\n"
     ]
    },
    {
     "data": {
      "application/vnd.jupyter.widget-view+json": {
       "model_id": "787a2e7557ea4942937d940f327e5cac",
       "version_major": 2,
       "version_minor": 0
      },
      "text/plain": [
       "HBox(children=(FloatProgress(value=0.0, description='Executing', max=6.0, style=ProgressStyle(description_widt…"
      ]
     },
     "metadata": {},
     "output_type": "display_data"
    },
    {
     "name": "stdout",
     "output_type": "stream",
     "text": [
      "\n",
      "T163_2018_12_11_Notebook_0_a: This session already exists - no need to re-run ;)\n",
      "T163_2018_12_11_Notebook_1_b: This session already exists - no need to re-run ;)\n",
      "T163_2018_12_11_Notebook_2_a: This session already exists - no need to re-run ;)\n",
      "2018_12_11__T163_T163-104921\n",
      "Notebook_3_c.ipynb is being executed\n"
     ]
    },
    {
     "data": {
      "application/vnd.jupyter.widget-view+json": {
       "model_id": "8aa97759b57d48b9bd26f6c0318ff1b8",
       "version_major": 2,
       "version_minor": 0
      },
      "text/plain": [
       "HBox(children=(FloatProgress(value=0.0, description='Executing', max=36.0, style=ProgressStyle(description_wid…"
      ]
     },
     "metadata": {},
     "output_type": "display_data"
    },
    {
     "name": "stdout",
     "output_type": "stream",
     "text": [
      "\n",
      "T163_2018_12_11_Notebook_4_a: This session already exists - no need to re-run ;)\n",
      "T163_2018_12_11_Notebook_4_b: This session already exists - no need to re-run ;)\n",
      "T163_2018_12_11_Notebook_4_c: This session already exists - no need to re-run ;)\n",
      "T163_2018_12_11_Notebook_4_d: This session already exists - no need to re-run ;)\n",
      "2018_12_11__T163_T163-104921\n",
      "Notebook_5_a.ipynb is being executed\n"
     ]
    },
    {
     "data": {
      "application/vnd.jupyter.widget-view+json": {
       "model_id": "68e2feff3fa24763ac334e43cff52c7c",
       "version_major": 2,
       "version_minor": 0
      },
      "text/plain": [
       "HBox(children=(FloatProgress(value=0.0, description='Executing', max=18.0, style=ProgressStyle(description_wid…"
      ]
     },
     "metadata": {},
     "output_type": "display_data"
    },
    {
     "name": "stdout",
     "output_type": "stream",
     "text": [
      "\n",
      "2018_12_11__T163_T163-104921\n",
      "Notebook_6_a.ipynb is being executed\n"
     ]
    },
    {
     "data": {
      "application/vnd.jupyter.widget-view+json": {
       "model_id": "1f70c633d8a64a41a62083dd8e70d9c2",
       "version_major": 2,
       "version_minor": 0
      },
      "text/plain": [
       "HBox(children=(FloatProgress(value=0.0, description='Executing', max=12.0, style=ProgressStyle(description_wid…"
      ]
     },
     "metadata": {},
     "output_type": "display_data"
    },
    {
     "name": "stdout",
     "output_type": "stream",
     "text": [
      "\n",
      "2018_12_11__T163_T163-104921\n",
      "Notebook_7_a.ipynb is being executed\n"
     ]
    },
    {
     "data": {
      "application/vnd.jupyter.widget-view+json": {
       "model_id": "0a60c5cee24f4adbb49cc664240ed1ba",
       "version_major": 2,
       "version_minor": 0
      },
      "text/plain": [
       "HBox(children=(FloatProgress(value=0.0, description='Executing', max=6.0, style=ProgressStyle(description_widt…"
      ]
     },
     "metadata": {},
     "output_type": "display_data"
    },
    {
     "name": "stdout",
     "output_type": "stream",
     "text": [
      "\n",
      "T163_2018_12_07_Notebook_0_a: This session already exists - no need to re-run ;)\n",
      "T163_2018_12_07_Notebook_1_b: This session already exists - no need to re-run ;)\n",
      "T163_2018_12_07_Notebook_2_a: This session already exists - no need to re-run ;)\n",
      "2018_12_07__T163_T163-123432\n",
      "Notebook_3_c.ipynb is being executed\n"
     ]
    },
    {
     "data": {
      "application/vnd.jupyter.widget-view+json": {
       "model_id": "5050c7f8ce5e4fe097d1a0db39587bde",
       "version_major": 2,
       "version_minor": 0
      },
      "text/plain": [
       "HBox(children=(FloatProgress(value=0.0, description='Executing', max=36.0, style=ProgressStyle(description_wid…"
      ]
     },
     "metadata": {},
     "output_type": "display_data"
    },
    {
     "name": "stdout",
     "output_type": "stream",
     "text": [
      "\n",
      "T163_2018_12_07_Notebook_4_a: This session already exists - no need to re-run ;)\n",
      "T163_2018_12_07_Notebook_4_b: This session already exists - no need to re-run ;)\n",
      "T163_2018_12_07_Notebook_4_c: This session already exists - no need to re-run ;)\n",
      "T163_2018_12_07_Notebook_4_d: This session already exists - no need to re-run ;)\n",
      "2018_12_07__T163_T163-123432\n",
      "Notebook_5_a.ipynb is being executed\n"
     ]
    },
    {
     "data": {
      "application/vnd.jupyter.widget-view+json": {
       "model_id": "6daf738673aa4c3fb97d4a5ebe406e8d",
       "version_major": 2,
       "version_minor": 0
      },
      "text/plain": [
       "HBox(children=(FloatProgress(value=0.0, description='Executing', max=18.0, style=ProgressStyle(description_wid…"
      ]
     },
     "metadata": {},
     "output_type": "display_data"
    },
    {
     "name": "stdout",
     "output_type": "stream",
     "text": [
      "\n",
      "2018_12_07__T163_T163-123432\n",
      "Notebook_6_a.ipynb is being executed\n"
     ]
    },
    {
     "data": {
      "application/vnd.jupyter.widget-view+json": {
       "model_id": "705f5955eaf34b7a88fdee017e10ef8e",
       "version_major": 2,
       "version_minor": 0
      },
      "text/plain": [
       "HBox(children=(FloatProgress(value=0.0, description='Executing', max=12.0, style=ProgressStyle(description_wid…"
      ]
     },
     "metadata": {},
     "output_type": "display_data"
    },
    {
     "name": "stdout",
     "output_type": "stream",
     "text": [
      "\n",
      "2018_12_07__T163_T163-123432\n",
      "Notebook_7_a.ipynb is being executed\n"
     ]
    },
    {
     "data": {
      "application/vnd.jupyter.widget-view+json": {
       "model_id": "7235370480c84226bd9d8ba6e8e268ca",
       "version_major": 2,
       "version_minor": 0
      },
      "text/plain": [
       "HBox(children=(FloatProgress(value=0.0, description='Executing', max=6.0, style=ProgressStyle(description_widt…"
      ]
     },
     "metadata": {},
     "output_type": "display_data"
    },
    {
     "name": "stdout",
     "output_type": "stream",
     "text": [
      "\n",
      "T163_2018_11_28_Notebook_0_a: This session already exists - no need to re-run ;)\n",
      "T163_2018_11_28_Notebook_1_b: This session already exists - no need to re-run ;)\n",
      "T163_2018_11_28_Notebook_2_a: This session already exists - no need to re-run ;)\n",
      "2018_11_28__T163_T163-115220\n",
      "Notebook_3_c.ipynb is being executed\n"
     ]
    },
    {
     "data": {
      "application/vnd.jupyter.widget-view+json": {
       "model_id": "9448b6a394dc497d928e98cff81da888",
       "version_major": 2,
       "version_minor": 0
      },
      "text/plain": [
       "HBox(children=(FloatProgress(value=0.0, description='Executing', max=36.0, style=ProgressStyle(description_wid…"
      ]
     },
     "metadata": {},
     "output_type": "display_data"
    },
    {
     "name": "stdout",
     "output_type": "stream",
     "text": [
      "\n",
      "T163_2018_11_28_Notebook_4_a: This session already exists - no need to re-run ;)\n",
      "T163_2018_11_28_Notebook_4_b: This session already exists - no need to re-run ;)\n",
      "T163_2018_11_28_Notebook_4_c: This session already exists - no need to re-run ;)\n",
      "T163_2018_11_28_Notebook_4_d: This session already exists - no need to re-run ;)\n",
      "2018_11_28__T163_T163-115220\n",
      "Notebook_5_a.ipynb is being executed\n"
     ]
    },
    {
     "data": {
      "application/vnd.jupyter.widget-view+json": {
       "model_id": "8766a06587ad4e1a85c2989a4753b1b5",
       "version_major": 2,
       "version_minor": 0
      },
      "text/plain": [
       "HBox(children=(FloatProgress(value=0.0, description='Executing', max=18.0, style=ProgressStyle(description_wid…"
      ]
     },
     "metadata": {},
     "output_type": "display_data"
    },
    {
     "name": "stdout",
     "output_type": "stream",
     "text": [
      "\n",
      "2018_11_28__T163_T163-115220\n",
      "Notebook_6_a.ipynb is being executed\n"
     ]
    },
    {
     "data": {
      "application/vnd.jupyter.widget-view+json": {
       "model_id": "ecef1173304143c08dd9b12c7d1fc4e0",
       "version_major": 2,
       "version_minor": 0
      },
      "text/plain": [
       "HBox(children=(FloatProgress(value=0.0, description='Executing', max=12.0, style=ProgressStyle(description_wid…"
      ]
     },
     "metadata": {},
     "output_type": "display_data"
    },
    {
     "name": "stdout",
     "output_type": "stream",
     "text": [
      "\n",
      "2018_11_28__T163_T163-115220\n",
      "Notebook_7_a.ipynb is being executed\n"
     ]
    },
    {
     "data": {
      "application/vnd.jupyter.widget-view+json": {
       "model_id": "5f981ef972334fa68173d1d46e4fb45e",
       "version_major": 2,
       "version_minor": 0
      },
      "text/plain": [
       "HBox(children=(FloatProgress(value=0.0, description='Executing', max=6.0, style=ProgressStyle(description_widt…"
      ]
     },
     "metadata": {},
     "output_type": "display_data"
    },
    {
     "name": "stdout",
     "output_type": "stream",
     "text": [
      "\n",
      "T163_2018_12_03_Notebook_0_a: This session already exists - no need to re-run ;)\n",
      "T163_2018_12_03_Notebook_1_b: This session already exists - no need to re-run ;)\n",
      "T163_2018_12_03_Notebook_2_a: This session already exists - no need to re-run ;)\n",
      "2018_12_03__T163_T163-115901\n",
      "Notebook_3_c.ipynb is being executed\n"
     ]
    },
    {
     "data": {
      "application/vnd.jupyter.widget-view+json": {
       "model_id": "eca1adf873084872bb08e0805738c77d",
       "version_major": 2,
       "version_minor": 0
      },
      "text/plain": [
       "HBox(children=(FloatProgress(value=0.0, description='Executing', max=36.0, style=ProgressStyle(description_wid…"
      ]
     },
     "metadata": {},
     "output_type": "display_data"
    },
    {
     "name": "stdout",
     "output_type": "stream",
     "text": [
      "\n",
      "T163_2018_12_03_Notebook_4_a: This session already exists - no need to re-run ;)\n",
      "T163_2018_12_03_Notebook_4_b: This session already exists - no need to re-run ;)\n",
      "T163_2018_12_03_Notebook_4_c: This session already exists - no need to re-run ;)\n",
      "T163_2018_12_03_Notebook_4_d: This session already exists - no need to re-run ;)\n",
      "2018_12_03__T163_T163-115901\n",
      "Notebook_5_a.ipynb is being executed\n"
     ]
    },
    {
     "data": {
      "application/vnd.jupyter.widget-view+json": {
       "model_id": "8bdda5fc36a942c390b1ae3835d498e5",
       "version_major": 2,
       "version_minor": 0
      },
      "text/plain": [
       "HBox(children=(FloatProgress(value=0.0, description='Executing', max=18.0, style=ProgressStyle(description_wid…"
      ]
     },
     "metadata": {},
     "output_type": "display_data"
    },
    {
     "name": "stdout",
     "output_type": "stream",
     "text": [
      "\n",
      "2018_12_03__T163_T163-115901\n",
      "Notebook_6_a.ipynb is being executed\n"
     ]
    },
    {
     "data": {
      "application/vnd.jupyter.widget-view+json": {
       "model_id": "f6f201f7f26d46cba5e3d5ca4ab3272c",
       "version_major": 2,
       "version_minor": 0
      },
      "text/plain": [
       "HBox(children=(FloatProgress(value=0.0, description='Executing', max=12.0, style=ProgressStyle(description_wid…"
      ]
     },
     "metadata": {},
     "output_type": "display_data"
    },
    {
     "name": "stdout",
     "output_type": "stream",
     "text": [
      "\n",
      "2018_12_03__T163_T163-115901\n",
      "Notebook_7_a.ipynb is being executed\n"
     ]
    },
    {
     "data": {
      "application/vnd.jupyter.widget-view+json": {
       "model_id": "a9fd2362634a4c3b849ca39c24f1d1ef",
       "version_major": 2,
       "version_minor": 0
      },
      "text/plain": [
       "HBox(children=(FloatProgress(value=0.0, description='Executing', max=6.0, style=ProgressStyle(description_widt…"
      ]
     },
     "metadata": {},
     "output_type": "display_data"
    },
    {
     "name": "stdout",
     "output_type": "stream",
     "text": [
      "\n",
      "T163_2018_11_30_Notebook_0_a: This session already exists - no need to re-run ;)\n",
      "T163_2018_11_30_Notebook_1_b: This session already exists - no need to re-run ;)\n",
      "T163_2018_11_30_Notebook_2_a: This session already exists - no need to re-run ;)\n",
      "2018_11_30__T163_T163-133215\n",
      "Notebook_3_c.ipynb is being executed\n"
     ]
    },
    {
     "data": {
      "application/vnd.jupyter.widget-view+json": {
       "model_id": "df9da4ec7f764f85a6220f065859ec2c",
       "version_major": 2,
       "version_minor": 0
      },
      "text/plain": [
       "HBox(children=(FloatProgress(value=0.0, description='Executing', max=36.0, style=ProgressStyle(description_wid…"
      ]
     },
     "metadata": {},
     "output_type": "display_data"
    },
    {
     "name": "stdout",
     "output_type": "stream",
     "text": [
      "\n",
      "T163_2018_11_30_Notebook_4_a: This session already exists - no need to re-run ;)\n",
      "T163_2018_11_30_Notebook_4_b: This session already exists - no need to re-run ;)\n",
      "T163_2018_11_30_Notebook_4_c: This session already exists - no need to re-run ;)\n",
      "T163_2018_11_30_Notebook_4_d: This session already exists - no need to re-run ;)\n",
      "2018_11_30__T163_T163-133215\n",
      "Notebook_5_a.ipynb is being executed\n"
     ]
    },
    {
     "data": {
      "application/vnd.jupyter.widget-view+json": {
       "model_id": "260beef5757f4f149dc17edeca91c0f0",
       "version_major": 2,
       "version_minor": 0
      },
      "text/plain": [
       "HBox(children=(FloatProgress(value=0.0, description='Executing', max=18.0, style=ProgressStyle(description_wid…"
      ]
     },
     "metadata": {},
     "output_type": "display_data"
    },
    {
     "name": "stdout",
     "output_type": "stream",
     "text": [
      "\n",
      "2018_11_30__T163_T163-133215\n",
      "Notebook_6_a.ipynb is being executed\n"
     ]
    },
    {
     "data": {
      "application/vnd.jupyter.widget-view+json": {
       "model_id": "8b7ad623f7b1471c87de1352c164f5f0",
       "version_major": 2,
       "version_minor": 0
      },
      "text/plain": [
       "HBox(children=(FloatProgress(value=0.0, description='Executing', max=12.0, style=ProgressStyle(description_wid…"
      ]
     },
     "metadata": {},
     "output_type": "display_data"
    },
    {
     "name": "stdout",
     "output_type": "stream",
     "text": [
      "\n",
      "2018_11_30__T163_T163-133215\n",
      "Notebook_7_a.ipynb is being executed\n"
     ]
    },
    {
     "data": {
      "application/vnd.jupyter.widget-view+json": {
       "model_id": "d503727d4b8c40e7b543e76de25ba6f1",
       "version_major": 2,
       "version_minor": 0
      },
      "text/plain": [
       "HBox(children=(FloatProgress(value=0.0, description='Executing', max=6.0, style=ProgressStyle(description_widt…"
      ]
     },
     "metadata": {},
     "output_type": "display_data"
    },
    {
     "name": "stdout",
     "output_type": "stream",
     "text": [
      "\n",
      "T163_2018_12_04_Notebook_0_a: This session already exists - no need to re-run ;)\n",
      "T163_2018_12_04_Notebook_1_b: This session already exists - no need to re-run ;)\n",
      "T163_2018_12_04_Notebook_2_a: This session already exists - no need to re-run ;)\n",
      "2018_12_04__T163_T163-114628\n",
      "Notebook_3_c.ipynb is being executed\n"
     ]
    },
    {
     "data": {
      "application/vnd.jupyter.widget-view+json": {
       "model_id": "6332d96da6834798a88ea9342297638e",
       "version_major": 2,
       "version_minor": 0
      },
      "text/plain": [
       "HBox(children=(FloatProgress(value=0.0, description='Executing', max=36.0, style=ProgressStyle(description_wid…"
      ]
     },
     "metadata": {},
     "output_type": "display_data"
    },
    {
     "name": "stdout",
     "output_type": "stream",
     "text": [
      "\n",
      "T163_2018_12_04_Notebook_4_a: This session already exists - no need to re-run ;)\n",
      "T163_2018_12_04_Notebook_4_b: This session already exists - no need to re-run ;)\n",
      "T163_2018_12_04_Notebook_4_c: This session already exists - no need to re-run ;)\n",
      "T163_2018_12_04_Notebook_4_d: This session already exists - no need to re-run ;)\n",
      "2018_12_04__T163_T163-114628\n",
      "Notebook_5_a.ipynb is being executed\n"
     ]
    },
    {
     "data": {
      "application/vnd.jupyter.widget-view+json": {
       "model_id": "ffb3d71ffc644c7d814657ca39889024",
       "version_major": 2,
       "version_minor": 0
      },
      "text/plain": [
       "HBox(children=(FloatProgress(value=0.0, description='Executing', max=18.0, style=ProgressStyle(description_wid…"
      ]
     },
     "metadata": {},
     "output_type": "display_data"
    },
    {
     "name": "stdout",
     "output_type": "stream",
     "text": [
      "\n",
      "2018_12_04__T163_T163-114628\n",
      "Notebook_6_a.ipynb is being executed\n"
     ]
    },
    {
     "data": {
      "application/vnd.jupyter.widget-view+json": {
       "model_id": "1aa18f2c8ea446c185f3a792a22aff0a",
       "version_major": 2,
       "version_minor": 0
      },
      "text/plain": [
       "HBox(children=(FloatProgress(value=0.0, description='Executing', max=12.0, style=ProgressStyle(description_wid…"
      ]
     },
     "metadata": {},
     "output_type": "display_data"
    },
    {
     "name": "stdout",
     "output_type": "stream",
     "text": [
      "\n",
      "2018_12_04__T163_T163-114628\n",
      "Notebook_7_a.ipynb is being executed\n"
     ]
    },
    {
     "data": {
      "application/vnd.jupyter.widget-view+json": {
       "model_id": "b05448843b12465cb39dd52b86168c34",
       "version_major": 2,
       "version_minor": 0
      },
      "text/plain": [
       "HBox(children=(FloatProgress(value=0.0, description='Executing', max=6.0, style=ProgressStyle(description_widt…"
      ]
     },
     "metadata": {},
     "output_type": "display_data"
    },
    {
     "name": "stdout",
     "output_type": "stream",
     "text": [
      "\n",
      "T163_2018_12_06_Notebook_0_a: This session already exists - no need to re-run ;)\n",
      "T163_2018_12_06_Notebook_1_b: This session already exists - no need to re-run ;)\n",
      "T163_2018_12_06_Notebook_2_a: This session already exists - no need to re-run ;)\n",
      "2018_12_06__T163_T163-112720\n",
      "Notebook_3_c.ipynb is being executed\n"
     ]
    },
    {
     "data": {
      "application/vnd.jupyter.widget-view+json": {
       "model_id": "c6cfe2e486de4ec79897d858486a58ed",
       "version_major": 2,
       "version_minor": 0
      },
      "text/plain": [
       "HBox(children=(FloatProgress(value=0.0, description='Executing', max=36.0, style=ProgressStyle(description_wid…"
      ]
     },
     "metadata": {},
     "output_type": "display_data"
    },
    {
     "name": "stdout",
     "output_type": "stream",
     "text": [
      "\n",
      "T163_2018_12_06_Notebook_4_a: This session already exists - no need to re-run ;)\n",
      "T163_2018_12_06_Notebook_4_b: This session already exists - no need to re-run ;)\n",
      "T163_2018_12_06_Notebook_4_c: This session already exists - no need to re-run ;)\n",
      "T163_2018_12_06_Notebook_4_d: This session already exists - no need to re-run ;)\n",
      "2018_12_06__T163_T163-112720\n",
      "Notebook_5_a.ipynb is being executed\n"
     ]
    },
    {
     "data": {
      "application/vnd.jupyter.widget-view+json": {
       "model_id": "c9111502a20741f49863a46a6a8839b4",
       "version_major": 2,
       "version_minor": 0
      },
      "text/plain": [
       "HBox(children=(FloatProgress(value=0.0, description='Executing', max=18.0, style=ProgressStyle(description_wid…"
      ]
     },
     "metadata": {},
     "output_type": "display_data"
    },
    {
     "name": "stdout",
     "output_type": "stream",
     "text": [
      "\n",
      "2018_12_06__T163_T163-112720\n",
      "Notebook_6_a.ipynb is being executed\n"
     ]
    },
    {
     "data": {
      "application/vnd.jupyter.widget-view+json": {
       "model_id": "67b8d722a20b4163949ac415f7a30aa7",
       "version_major": 2,
       "version_minor": 0
      },
      "text/plain": [
       "HBox(children=(FloatProgress(value=0.0, description='Executing', max=12.0, style=ProgressStyle(description_wid…"
      ]
     },
     "metadata": {},
     "output_type": "display_data"
    },
    {
     "name": "stdout",
     "output_type": "stream",
     "text": [
      "\n",
      "2018_12_06__T163_T163-112720\n",
      "Notebook_7_a.ipynb is being executed\n"
     ]
    },
    {
     "data": {
      "application/vnd.jupyter.widget-view+json": {
       "model_id": "9b6ad223d5544b39ac331b1b00961378",
       "version_major": 2,
       "version_minor": 0
      },
      "text/plain": [
       "HBox(children=(FloatProgress(value=0.0, description='Executing', max=6.0, style=ProgressStyle(description_widt…"
      ]
     },
     "metadata": {},
     "output_type": "display_data"
    },
    {
     "name": "stdout",
     "output_type": "stream",
     "text": [
      "\n",
      "T163_2018_12_10_Notebook_0_a: This session already exists - no need to re-run ;)\n",
      "T163_2018_12_10_Notebook_1_b: This session already exists - no need to re-run ;)\n",
      "T163_2018_12_10_Notebook_2_a: This session already exists - no need to re-run ;)\n",
      "2018_12_10__T163_T163-102536\n",
      "Notebook_3_c.ipynb is being executed\n"
     ]
    },
    {
     "data": {
      "application/vnd.jupyter.widget-view+json": {
       "model_id": "1088b2b1ae104dd093fa24fdd29322d8",
       "version_major": 2,
       "version_minor": 0
      },
      "text/plain": [
       "HBox(children=(FloatProgress(value=0.0, description='Executing', max=36.0, style=ProgressStyle(description_wid…"
      ]
     },
     "metadata": {},
     "output_type": "display_data"
    },
    {
     "name": "stdout",
     "output_type": "stream",
     "text": [
      "\n",
      "T163_2018_12_10_Notebook_4_a: This session already exists - no need to re-run ;)\n",
      "T163_2018_12_10_Notebook_4_b: This session already exists - no need to re-run ;)\n",
      "T163_2018_12_10_Notebook_4_c: This session already exists - no need to re-run ;)\n",
      "T163_2018_12_10_Notebook_4_d: This session already exists - no need to re-run ;)\n",
      "2018_12_10__T163_T163-102536\n",
      "Notebook_5_a.ipynb is being executed\n"
     ]
    },
    {
     "data": {
      "application/vnd.jupyter.widget-view+json": {
       "model_id": "00d172b4469e49b5a622ed405f51a2eb",
       "version_major": 2,
       "version_minor": 0
      },
      "text/plain": [
       "HBox(children=(FloatProgress(value=0.0, description='Executing', max=18.0, style=ProgressStyle(description_wid…"
      ]
     },
     "metadata": {},
     "output_type": "display_data"
    },
    {
     "name": "stdout",
     "output_type": "stream",
     "text": [
      "\n",
      "2018_12_10__T163_T163-102536\n",
      "Notebook_6_a.ipynb is being executed\n"
     ]
    },
    {
     "data": {
      "application/vnd.jupyter.widget-view+json": {
       "model_id": "73be50b420a147c592e6660c8b75299e",
       "version_major": 2,
       "version_minor": 0
      },
      "text/plain": [
       "HBox(children=(FloatProgress(value=0.0, description='Executing', max=12.0, style=ProgressStyle(description_wid…"
      ]
     },
     "metadata": {},
     "output_type": "display_data"
    },
    {
     "name": "stdout",
     "output_type": "stream",
     "text": [
      "\n",
      "2018_12_10__T163_T163-102536\n",
      "Notebook_7_a.ipynb is being executed\n"
     ]
    },
    {
     "data": {
      "application/vnd.jupyter.widget-view+json": {
       "model_id": "8ae1a640e1de40debf49d792d836828e",
       "version_major": 2,
       "version_minor": 0
      },
      "text/plain": [
       "HBox(children=(FloatProgress(value=0.0, description='Executing', max=6.0, style=ProgressStyle(description_widt…"
      ]
     },
     "metadata": {},
     "output_type": "display_data"
    },
    {
     "name": "stdout",
     "output_type": "stream",
     "text": [
      "\n",
      "T163_2018_12_13_Notebook_0_a: This session already exists - no need to re-run ;)\n",
      "T163_2018_12_13_Notebook_1_b: This session already exists - no need to re-run ;)\n",
      "T163_2018_12_13_Notebook_2_a: This session already exists - no need to re-run ;)\n",
      "2018_12_13__T163_T163-094646\n",
      "Notebook_3_c.ipynb is being executed\n"
     ]
    },
    {
     "data": {
      "application/vnd.jupyter.widget-view+json": {
       "model_id": "24f4d188008943799ae14eafcf40b5e8",
       "version_major": 2,
       "version_minor": 0
      },
      "text/plain": [
       "HBox(children=(FloatProgress(value=0.0, description='Executing', max=36.0, style=ProgressStyle(description_wid…"
      ]
     },
     "metadata": {},
     "output_type": "display_data"
    },
    {
     "name": "stdout",
     "output_type": "stream",
     "text": [
      "\n",
      "T163_2018_12_13_Notebook_4_a: This session already exists - no need to re-run ;)\n",
      "T163_2018_12_13_Notebook_4_b: This session already exists - no need to re-run ;)\n",
      "T163_2018_12_13_Notebook_4_c: This session already exists - no need to re-run ;)\n",
      "T163_2018_12_13_Notebook_4_d: This session already exists - no need to re-run ;)\n",
      "2018_12_13__T163_T163-094646\n",
      "Notebook_5_a.ipynb is being executed\n"
     ]
    },
    {
     "data": {
      "application/vnd.jupyter.widget-view+json": {
       "model_id": "91adff7e90214c7a977cbfc3bbf2eb6a",
       "version_major": 2,
       "version_minor": 0
      },
      "text/plain": [
       "HBox(children=(FloatProgress(value=0.0, description='Executing', max=18.0, style=ProgressStyle(description_wid…"
      ]
     },
     "metadata": {},
     "output_type": "display_data"
    },
    {
     "name": "stdout",
     "output_type": "stream",
     "text": [
      "\n",
      "2018_12_13__T163_T163-094646\n",
      "Notebook_6_a.ipynb is being executed\n"
     ]
    },
    {
     "data": {
      "application/vnd.jupyter.widget-view+json": {
       "model_id": "bf7b3059a8e441ea9bb3e42b5d8d1dd2",
       "version_major": 2,
       "version_minor": 0
      },
      "text/plain": [
       "HBox(children=(FloatProgress(value=0.0, description='Executing', max=12.0, style=ProgressStyle(description_wid…"
      ]
     },
     "metadata": {},
     "output_type": "display_data"
    },
    {
     "name": "stdout",
     "output_type": "stream",
     "text": [
      "\n",
      "2018_12_13__T163_T163-094646\n",
      "Notebook_7_a.ipynb is being executed\n"
     ]
    },
    {
     "data": {
      "application/vnd.jupyter.widget-view+json": {
       "model_id": "8870fa73fb8443d8a0158edc3d9bd55c",
       "version_major": 2,
       "version_minor": 0
      },
      "text/plain": [
       "HBox(children=(FloatProgress(value=0.0, description='Executing', max=6.0, style=ProgressStyle(description_widt…"
      ]
     },
     "metadata": {},
     "output_type": "display_data"
    },
    {
     "name": "stdout",
     "output_type": "stream",
     "text": [
      "\n",
      "T164_2018_11_27_Notebook_0_a: This session already exists - no need to re-run ;)\n",
      "T164_2018_11_27_Notebook_1_b: This session already exists - no need to re-run ;)\n",
      "T164_2018_11_27_Notebook_2_a: This session already exists - no need to re-run ;)\n",
      "2018_11_27__T164_T164-153101\n",
      "Notebook_3_c.ipynb is being executed\n"
     ]
    },
    {
     "data": {
      "application/vnd.jupyter.widget-view+json": {
       "model_id": "42bbf8b291c044b38e1c6bded6e309bc",
       "version_major": 2,
       "version_minor": 0
      },
      "text/plain": [
       "HBox(children=(FloatProgress(value=0.0, description='Executing', max=36.0, style=ProgressStyle(description_wid…"
      ]
     },
     "metadata": {},
     "output_type": "display_data"
    },
    {
     "name": "stdout",
     "output_type": "stream",
     "text": [
      "\n",
      "T164_2018_11_27_Notebook_4_a: This session already exists - no need to re-run ;)\n",
      "T164_2018_11_27_Notebook_4_b: This session already exists - no need to re-run ;)\n",
      "T164_2018_11_27_Notebook_4_c: This session already exists - no need to re-run ;)\n",
      "T164_2018_11_27_Notebook_4_d: This session already exists - no need to re-run ;)\n",
      "2018_11_27__T164_T164-153101\n",
      "Notebook_5_a.ipynb is being executed\n"
     ]
    },
    {
     "data": {
      "application/vnd.jupyter.widget-view+json": {
       "model_id": "0aeef4eafdce44b7bac409790e4ee09c",
       "version_major": 2,
       "version_minor": 0
      },
      "text/plain": [
       "HBox(children=(FloatProgress(value=0.0, description='Executing', max=18.0, style=ProgressStyle(description_wid…"
      ]
     },
     "metadata": {},
     "output_type": "display_data"
    },
    {
     "name": "stdout",
     "output_type": "stream",
     "text": [
      "\n",
      "2018_11_27__T164_T164-153101\n",
      "Notebook_6_a.ipynb is being executed\n"
     ]
    },
    {
     "data": {
      "application/vnd.jupyter.widget-view+json": {
       "model_id": "65a42e88a1f249f6b202828cea1b1e29",
       "version_major": 2,
       "version_minor": 0
      },
      "text/plain": [
       "HBox(children=(FloatProgress(value=0.0, description='Executing', max=12.0, style=ProgressStyle(description_wid…"
      ]
     },
     "metadata": {},
     "output_type": "display_data"
    },
    {
     "name": "stdout",
     "output_type": "stream",
     "text": [
      "\n",
      "2018_11_27__T164_T164-153101\n",
      "Notebook_7_a.ipynb is being executed\n"
     ]
    },
    {
     "data": {
      "application/vnd.jupyter.widget-view+json": {
       "model_id": "0c433ce4825946d48ac8bb1db21facb7",
       "version_major": 2,
       "version_minor": 0
      },
      "text/plain": [
       "HBox(children=(FloatProgress(value=0.0, description='Executing', max=6.0, style=ProgressStyle(description_widt…"
      ]
     },
     "metadata": {},
     "output_type": "display_data"
    },
    {
     "name": "stdout",
     "output_type": "stream",
     "text": [
      "\n",
      "T164_2018_12_10_Notebook_0_a: This session already exists - no need to re-run ;)\n",
      "T164_2018_12_10_Notebook_1_b: This session already exists - no need to re-run ;)\n",
      "T164_2018_12_10_Notebook_2_a: This session already exists - no need to re-run ;)\n",
      "2018_12_10__T164_T164-105324\n",
      "Notebook_3_c.ipynb is being executed\n"
     ]
    },
    {
     "data": {
      "application/vnd.jupyter.widget-view+json": {
       "model_id": "08484824b3ce4f8d946e413ba0964be5",
       "version_major": 2,
       "version_minor": 0
      },
      "text/plain": [
       "HBox(children=(FloatProgress(value=0.0, description='Executing', max=36.0, style=ProgressStyle(description_wid…"
      ]
     },
     "metadata": {},
     "output_type": "display_data"
    },
    {
     "name": "stdout",
     "output_type": "stream",
     "text": [
      "\n",
      "T164_2018_12_10_Notebook_4_a: This session already exists - no need to re-run ;)\n",
      "T164_2018_12_10_Notebook_4_b: This session already exists - no need to re-run ;)\n",
      "T164_2018_12_10_Notebook_4_c: This session already exists - no need to re-run ;)\n",
      "T164_2018_12_10_Notebook_4_d: This session already exists - no need to re-run ;)\n",
      "2018_12_10__T164_T164-105324\n",
      "Notebook_5_a.ipynb is being executed\n"
     ]
    },
    {
     "data": {
      "application/vnd.jupyter.widget-view+json": {
       "model_id": "d9b4c80b50de4293bb76e3fd4a01b5d8",
       "version_major": 2,
       "version_minor": 0
      },
      "text/plain": [
       "HBox(children=(FloatProgress(value=0.0, description='Executing', max=18.0, style=ProgressStyle(description_wid…"
      ]
     },
     "metadata": {},
     "output_type": "display_data"
    },
    {
     "name": "stdout",
     "output_type": "stream",
     "text": [
      "\n",
      "2018_12_10__T164_T164-105324\n",
      "Notebook_6_a.ipynb is being executed\n"
     ]
    },
    {
     "data": {
      "application/vnd.jupyter.widget-view+json": {
       "model_id": "bf9bc223f59d470a9eb4674c8cade9a0",
       "version_major": 2,
       "version_minor": 0
      },
      "text/plain": [
       "HBox(children=(FloatProgress(value=0.0, description='Executing', max=12.0, style=ProgressStyle(description_wid…"
      ]
     },
     "metadata": {},
     "output_type": "display_data"
    },
    {
     "name": "stdout",
     "output_type": "stream",
     "text": [
      "\n",
      "2018_12_10__T164_T164-105324\n",
      "Notebook_7_a.ipynb is being executed\n"
     ]
    },
    {
     "data": {
      "application/vnd.jupyter.widget-view+json": {
       "model_id": "8decad90e3cd4327ad9ae195cca67d94",
       "version_major": 2,
       "version_minor": 0
      },
      "text/plain": [
       "HBox(children=(FloatProgress(value=0.0, description='Executing', max=6.0, style=ProgressStyle(description_widt…"
      ]
     },
     "metadata": {},
     "output_type": "display_data"
    },
    {
     "name": "stdout",
     "output_type": "stream",
     "text": [
      "\n",
      "T164_2018_12_04_Notebook_0_a: This session already exists - no need to re-run ;)\n",
      "T164_2018_12_04_Notebook_1_b: This session already exists - no need to re-run ;)\n",
      "T164_2018_12_04_Notebook_2_a: This session already exists - no need to re-run ;)\n",
      "2018_12_04__T164_T164-121548\n",
      "Notebook_3_c.ipynb is being executed\n"
     ]
    },
    {
     "data": {
      "application/vnd.jupyter.widget-view+json": {
       "model_id": "7c9f7ae193f3423eac9804b18bf6b11d",
       "version_major": 2,
       "version_minor": 0
      },
      "text/plain": [
       "HBox(children=(FloatProgress(value=0.0, description='Executing', max=36.0, style=ProgressStyle(description_wid…"
      ]
     },
     "metadata": {},
     "output_type": "display_data"
    },
    {
     "name": "stdout",
     "output_type": "stream",
     "text": [
      "\n",
      "T164_2018_12_04_Notebook_4_a: This session already exists - no need to re-run ;)\n",
      "T164_2018_12_04_Notebook_4_b: This session already exists - no need to re-run ;)\n",
      "T164_2018_12_04_Notebook_4_c: This session already exists - no need to re-run ;)\n",
      "T164_2018_12_04_Notebook_4_d: This session already exists - no need to re-run ;)\n",
      "2018_12_04__T164_T164-121548\n",
      "Notebook_5_a.ipynb is being executed\n"
     ]
    },
    {
     "data": {
      "application/vnd.jupyter.widget-view+json": {
       "model_id": "b18c08b93aca4dcd87b2f99b9df17062",
       "version_major": 2,
       "version_minor": 0
      },
      "text/plain": [
       "HBox(children=(FloatProgress(value=0.0, description='Executing', max=18.0, style=ProgressStyle(description_wid…"
      ]
     },
     "metadata": {},
     "output_type": "display_data"
    },
    {
     "name": "stdout",
     "output_type": "stream",
     "text": [
      "\n",
      "2018_12_04__T164_T164-121548\n",
      "Notebook_6_a.ipynb is being executed\n"
     ]
    },
    {
     "data": {
      "application/vnd.jupyter.widget-view+json": {
       "model_id": "7782add104014b79a13ce8da96d544c3",
       "version_major": 2,
       "version_minor": 0
      },
      "text/plain": [
       "HBox(children=(FloatProgress(value=0.0, description='Executing', max=12.0, style=ProgressStyle(description_wid…"
      ]
     },
     "metadata": {},
     "output_type": "display_data"
    },
    {
     "name": "stdout",
     "output_type": "stream",
     "text": [
      "\n",
      "2018_12_04__T164_T164-121548\n",
      "Notebook_7_a.ipynb is being executed\n"
     ]
    },
    {
     "data": {
      "application/vnd.jupyter.widget-view+json": {
       "model_id": "e2cbc93bc2fa4a34be1bfd19a7d9e6d7",
       "version_major": 2,
       "version_minor": 0
      },
      "text/plain": [
       "HBox(children=(FloatProgress(value=0.0, description='Executing', max=6.0, style=ProgressStyle(description_widt…"
      ]
     },
     "metadata": {},
     "output_type": "display_data"
    },
    {
     "name": "stdout",
     "output_type": "stream",
     "text": [
      "\n",
      "T164_2018_12_05_Notebook_0_a: This session already exists - no need to re-run ;)\n",
      "T164_2018_12_05_Notebook_1_b: This session already exists - no need to re-run ;)\n",
      "T164_2018_12_05_Notebook_2_a: This session already exists - no need to re-run ;)\n",
      "2018_12_05__T164_T164-123550\n",
      "Notebook_3_c.ipynb is being executed\n"
     ]
    },
    {
     "data": {
      "application/vnd.jupyter.widget-view+json": {
       "model_id": "01a0e7e5cc0f466b97832a94b30aa32a",
       "version_major": 2,
       "version_minor": 0
      },
      "text/plain": [
       "HBox(children=(FloatProgress(value=0.0, description='Executing', max=36.0, style=ProgressStyle(description_wid…"
      ]
     },
     "metadata": {},
     "output_type": "display_data"
    },
    {
     "name": "stdout",
     "output_type": "stream",
     "text": [
      "\n",
      "T164_2018_12_05_Notebook_4_a: This session already exists - no need to re-run ;)\n",
      "T164_2018_12_05_Notebook_4_b: This session already exists - no need to re-run ;)\n",
      "T164_2018_12_05_Notebook_4_c: This session already exists - no need to re-run ;)\n",
      "T164_2018_12_05_Notebook_4_d: This session already exists - no need to re-run ;)\n",
      "2018_12_05__T164_T164-123550\n",
      "Notebook_5_a.ipynb is being executed\n"
     ]
    },
    {
     "data": {
      "application/vnd.jupyter.widget-view+json": {
       "model_id": "6c9a1154cc874ba5bdcd980c03275536",
       "version_major": 2,
       "version_minor": 0
      },
      "text/plain": [
       "HBox(children=(FloatProgress(value=0.0, description='Executing', max=18.0, style=ProgressStyle(description_wid…"
      ]
     },
     "metadata": {},
     "output_type": "display_data"
    },
    {
     "name": "stdout",
     "output_type": "stream",
     "text": [
      "\n",
      "2018_12_05__T164_T164-123550\n",
      "Notebook_6_a.ipynb is being executed\n"
     ]
    },
    {
     "data": {
      "application/vnd.jupyter.widget-view+json": {
       "model_id": "2fa59d3afbb7448297426efd5f184c15",
       "version_major": 2,
       "version_minor": 0
      },
      "text/plain": [
       "HBox(children=(FloatProgress(value=0.0, description='Executing', max=12.0, style=ProgressStyle(description_wid…"
      ]
     },
     "metadata": {},
     "output_type": "display_data"
    },
    {
     "name": "stdout",
     "output_type": "stream",
     "text": [
      "\n",
      "2018_12_05__T164_T164-123550\n",
      "Notebook_7_a.ipynb is being executed\n"
     ]
    },
    {
     "data": {
      "application/vnd.jupyter.widget-view+json": {
       "model_id": "40352aae212543c4ac881546f6fa5d5d",
       "version_major": 2,
       "version_minor": 0
      },
      "text/plain": [
       "HBox(children=(FloatProgress(value=0.0, description='Executing', max=6.0, style=ProgressStyle(description_widt…"
      ]
     },
     "metadata": {},
     "output_type": "display_data"
    },
    {
     "name": "stdout",
     "output_type": "stream",
     "text": [
      "\n",
      "T164_2018_11_28_Notebook_0_a: This session already exists - no need to re-run ;)\n",
      "T164_2018_11_28_Notebook_1_b: This session already exists - no need to re-run ;)\n",
      "T164_2018_11_28_Notebook_2_a: This session already exists - no need to re-run ;)\n",
      "2018_11_28__T164_T164-122054\n",
      "Notebook_3_c.ipynb is being executed\n"
     ]
    },
    {
     "data": {
      "application/vnd.jupyter.widget-view+json": {
       "model_id": "c0381d23dcde496995a8a083ad444747",
       "version_major": 2,
       "version_minor": 0
      },
      "text/plain": [
       "HBox(children=(FloatProgress(value=0.0, description='Executing', max=36.0, style=ProgressStyle(description_wid…"
      ]
     },
     "metadata": {},
     "output_type": "display_data"
    },
    {
     "name": "stdout",
     "output_type": "stream",
     "text": [
      "\n",
      "T164_2018_11_28_Notebook_4_a: This session already exists - no need to re-run ;)\n",
      "T164_2018_11_28_Notebook_4_b: This session already exists - no need to re-run ;)\n",
      "T164_2018_11_28_Notebook_4_c: This session already exists - no need to re-run ;)\n",
      "T164_2018_11_28_Notebook_4_d: This session already exists - no need to re-run ;)\n",
      "2018_11_28__T164_T164-122054\n",
      "Notebook_5_a.ipynb is being executed\n"
     ]
    },
    {
     "data": {
      "application/vnd.jupyter.widget-view+json": {
       "model_id": "3dddf6ee61404ae98c6101a7fb7d1783",
       "version_major": 2,
       "version_minor": 0
      },
      "text/plain": [
       "HBox(children=(FloatProgress(value=0.0, description='Executing', max=18.0, style=ProgressStyle(description_wid…"
      ]
     },
     "metadata": {},
     "output_type": "display_data"
    },
    {
     "name": "stdout",
     "output_type": "stream",
     "text": [
      "\n",
      "2018_11_28__T164_T164-122054\n",
      "Notebook_6_a.ipynb is being executed\n"
     ]
    },
    {
     "data": {
      "application/vnd.jupyter.widget-view+json": {
       "model_id": "dd60bc1c529f40699053d488a2b69e1a",
       "version_major": 2,
       "version_minor": 0
      },
      "text/plain": [
       "HBox(children=(FloatProgress(value=0.0, description='Executing', max=12.0, style=ProgressStyle(description_wid…"
      ]
     },
     "metadata": {},
     "output_type": "display_data"
    },
    {
     "name": "stdout",
     "output_type": "stream",
     "text": [
      "\n",
      "2018_11_28__T164_T164-122054\n",
      "Notebook_7_a.ipynb is being executed\n"
     ]
    },
    {
     "data": {
      "application/vnd.jupyter.widget-view+json": {
       "model_id": "d6e9d16e45854c5f98f4dd36c2b13c01",
       "version_major": 2,
       "version_minor": 0
      },
      "text/plain": [
       "HBox(children=(FloatProgress(value=0.0, description='Executing', max=6.0, style=ProgressStyle(description_widt…"
      ]
     },
     "metadata": {},
     "output_type": "display_data"
    },
    {
     "name": "stdout",
     "output_type": "stream",
     "text": [
      "\n",
      "T164_2018_12_13_Notebook_0_a: This session already exists - no need to re-run ;)\n",
      "T164_2018_12_13_Notebook_1_b: This session already exists - no need to re-run ;)\n",
      "T164_2018_12_13_Notebook_2_a: This session already exists - no need to re-run ;)\n",
      "2018_12_13__T164_T164-101804\n",
      "Notebook_3_c.ipynb is being executed\n"
     ]
    },
    {
     "data": {
      "application/vnd.jupyter.widget-view+json": {
       "model_id": "e5c92604a00a4fc4abdca584f2c186fe",
       "version_major": 2,
       "version_minor": 0
      },
      "text/plain": [
       "HBox(children=(FloatProgress(value=0.0, description='Executing', max=36.0, style=ProgressStyle(description_wid…"
      ]
     },
     "metadata": {},
     "output_type": "display_data"
    },
    {
     "name": "stdout",
     "output_type": "stream",
     "text": [
      "\n",
      "T164_2018_12_13_Notebook_4_a: This session already exists - no need to re-run ;)\n",
      "T164_2018_12_13_Notebook_4_b: This session already exists - no need to re-run ;)\n",
      "T164_2018_12_13_Notebook_4_c: This session already exists - no need to re-run ;)\n",
      "T164_2018_12_13_Notebook_4_d: This session already exists - no need to re-run ;)\n",
      "2018_12_13__T164_T164-101804\n",
      "Notebook_5_a.ipynb is being executed\n"
     ]
    },
    {
     "data": {
      "application/vnd.jupyter.widget-view+json": {
       "model_id": "b036626f5a84477897b90cf92cfe42f3",
       "version_major": 2,
       "version_minor": 0
      },
      "text/plain": [
       "HBox(children=(FloatProgress(value=0.0, description='Executing', max=18.0, style=ProgressStyle(description_wid…"
      ]
     },
     "metadata": {},
     "output_type": "display_data"
    },
    {
     "name": "stdout",
     "output_type": "stream",
     "text": [
      "\n",
      "2018_12_13__T164_T164-101804\n",
      "Notebook_6_a.ipynb is being executed\n"
     ]
    },
    {
     "data": {
      "application/vnd.jupyter.widget-view+json": {
       "model_id": "649067bae52e495f840291a4442897d8",
       "version_major": 2,
       "version_minor": 0
      },
      "text/plain": [
       "HBox(children=(FloatProgress(value=0.0, description='Executing', max=12.0, style=ProgressStyle(description_wid…"
      ]
     },
     "metadata": {},
     "output_type": "display_data"
    },
    {
     "name": "stdout",
     "output_type": "stream",
     "text": [
      "\n",
      "2018_12_13__T164_T164-101804\n",
      "Notebook_7_a.ipynb is being executed\n"
     ]
    },
    {
     "data": {
      "application/vnd.jupyter.widget-view+json": {
       "model_id": "ecf10b27cb964465b7ba4b10e534674f",
       "version_major": 2,
       "version_minor": 0
      },
      "text/plain": [
       "HBox(children=(FloatProgress(value=0.0, description='Executing', max=6.0, style=ProgressStyle(description_widt…"
      ]
     },
     "metadata": {},
     "output_type": "display_data"
    },
    {
     "name": "stdout",
     "output_type": "stream",
     "text": [
      "\n",
      "T169_2019_02_13_Notebook_0_a: This session already exists - no need to re-run ;)\n",
      "T169_2019_02_13_Notebook_1_b: This session already exists - no need to re-run ;)\n",
      "T169_2019_02_13_Notebook_2_a: This session already exists - no need to re-run ;)\n",
      "2019_02_13__T169_T169-141800\n",
      "Notebook_3_c.ipynb is being executed\n"
     ]
    },
    {
     "data": {
      "application/vnd.jupyter.widget-view+json": {
       "model_id": "b4850dfbc1924a039b12753f26fd7381",
       "version_major": 2,
       "version_minor": 0
      },
      "text/plain": [
       "HBox(children=(FloatProgress(value=0.0, description='Executing', max=36.0, style=ProgressStyle(description_wid…"
      ]
     },
     "metadata": {},
     "output_type": "display_data"
    },
    {
     "name": "stdout",
     "output_type": "stream",
     "text": [
      "\n",
      "T169_2019_02_13_Notebook_4_a: This session already exists - no need to re-run ;)\n",
      "T169_2019_02_13_Notebook_4_b: This session already exists - no need to re-run ;)\n",
      "T169_2019_02_13_Notebook_4_c: This session already exists - no need to re-run ;)\n",
      "T169_2019_02_13_Notebook_4_d: This session already exists - no need to re-run ;)\n",
      "2019_02_13__T169_T169-141800\n",
      "Notebook_5_a.ipynb is being executed\n"
     ]
    },
    {
     "data": {
      "application/vnd.jupyter.widget-view+json": {
       "model_id": "16deb57f1d374627a799df872375179a",
       "version_major": 2,
       "version_minor": 0
      },
      "text/plain": [
       "HBox(children=(FloatProgress(value=0.0, description='Executing', max=18.0, style=ProgressStyle(description_wid…"
      ]
     },
     "metadata": {},
     "output_type": "display_data"
    },
    {
     "name": "stdout",
     "output_type": "stream",
     "text": [
      "\n",
      "2019_02_13__T169_T169-141800\n",
      "Notebook_6_a.ipynb is being executed\n"
     ]
    },
    {
     "data": {
      "application/vnd.jupyter.widget-view+json": {
       "model_id": "07958f1670164244b48715ca61de4293",
       "version_major": 2,
       "version_minor": 0
      },
      "text/plain": [
       "HBox(children=(FloatProgress(value=0.0, description='Executing', max=12.0, style=ProgressStyle(description_wid…"
      ]
     },
     "metadata": {},
     "output_type": "display_data"
    },
    {
     "name": "stdout",
     "output_type": "stream",
     "text": [
      "\n",
      "2019_02_13__T169_T169-141800\n",
      "Notebook_7_a.ipynb is being executed\n"
     ]
    },
    {
     "data": {
      "application/vnd.jupyter.widget-view+json": {
       "model_id": "46d3de687538423895346a66beefe59c",
       "version_major": 2,
       "version_minor": 0
      },
      "text/plain": [
       "HBox(children=(FloatProgress(value=0.0, description='Executing', max=6.0, style=ProgressStyle(description_widt…"
      ]
     },
     "metadata": {},
     "output_type": "display_data"
    },
    {
     "name": "stdout",
     "output_type": "stream",
     "text": [
      "\n",
      "T169_2019_02_11_Notebook_0_a: This session already exists - no need to re-run ;)\n",
      "T169_2019_02_11_Notebook_1_b: This session already exists - no need to re-run ;)\n",
      "T169_2019_02_11_Notebook_2_a: This session already exists - no need to re-run ;)\n",
      "2019_02_11__T169_T169-145303\n",
      "Notebook_3_c.ipynb is being executed\n"
     ]
    },
    {
     "data": {
      "application/vnd.jupyter.widget-view+json": {
       "model_id": "aa9969e827bb47a6ba202d0d7b41639b",
       "version_major": 2,
       "version_minor": 0
      },
      "text/plain": [
       "HBox(children=(FloatProgress(value=0.0, description='Executing', max=36.0, style=ProgressStyle(description_wid…"
      ]
     },
     "metadata": {},
     "output_type": "display_data"
    },
    {
     "name": "stdout",
     "output_type": "stream",
     "text": [
      "\n",
      "T169_2019_02_11_Notebook_4_a: This session already exists - no need to re-run ;)\n",
      "T169_2019_02_11_Notebook_4_b: This session already exists - no need to re-run ;)\n",
      "T169_2019_02_11_Notebook_4_c: This session already exists - no need to re-run ;)\n",
      "T169_2019_02_11_Notebook_4_d: This session already exists - no need to re-run ;)\n",
      "2019_02_11__T169_T169-145303\n",
      "Notebook_5_a.ipynb is being executed\n"
     ]
    },
    {
     "data": {
      "application/vnd.jupyter.widget-view+json": {
       "model_id": "ec1e26fd8b2d4e3b89471f0ea9a5dd60",
       "version_major": 2,
       "version_minor": 0
      },
      "text/plain": [
       "HBox(children=(FloatProgress(value=0.0, description='Executing', max=18.0, style=ProgressStyle(description_wid…"
      ]
     },
     "metadata": {},
     "output_type": "display_data"
    },
    {
     "name": "stdout",
     "output_type": "stream",
     "text": [
      "\n",
      "2019_02_11__T169_T169-145303\n",
      "Notebook_6_a.ipynb is being executed\n"
     ]
    },
    {
     "data": {
      "application/vnd.jupyter.widget-view+json": {
       "model_id": "07165dbe996049ee9b0c630109e9046c",
       "version_major": 2,
       "version_minor": 0
      },
      "text/plain": [
       "HBox(children=(FloatProgress(value=0.0, description='Executing', max=12.0, style=ProgressStyle(description_wid…"
      ]
     },
     "metadata": {},
     "output_type": "display_data"
    },
    {
     "name": "stdout",
     "output_type": "stream",
     "text": [
      "\n",
      "2019_02_11__T169_T169-145303\n",
      "Notebook_7_a.ipynb is being executed\n"
     ]
    },
    {
     "data": {
      "application/vnd.jupyter.widget-view+json": {
       "model_id": "9bba2e75c9ac4257888cd326e2ce73bd",
       "version_major": 2,
       "version_minor": 0
      },
      "text/plain": [
       "HBox(children=(FloatProgress(value=0.0, description='Executing', max=6.0, style=ProgressStyle(description_widt…"
      ]
     },
     "metadata": {},
     "output_type": "display_data"
    },
    {
     "name": "stdout",
     "output_type": "stream",
     "text": [
      "\n",
      "T169_2019_02_22_Notebook_0_a: This session already exists - no need to re-run ;)\n",
      "T169_2019_02_22_Notebook_1_b: This session already exists - no need to re-run ;)\n",
      "T169_2019_02_22_Notebook_2_a: This session already exists - no need to re-run ;)\n",
      "2019_02_22__T169_T169-134725\n",
      "Notebook_3_c.ipynb is being executed\n"
     ]
    },
    {
     "data": {
      "application/vnd.jupyter.widget-view+json": {
       "model_id": "d46ddf6235db41d181cbe1f3b3304027",
       "version_major": 2,
       "version_minor": 0
      },
      "text/plain": [
       "HBox(children=(FloatProgress(value=0.0, description='Executing', max=36.0, style=ProgressStyle(description_wid…"
      ]
     },
     "metadata": {},
     "output_type": "display_data"
    },
    {
     "name": "stdout",
     "output_type": "stream",
     "text": [
      "\n",
      "T169_2019_02_22_Notebook_4_a: This session already exists - no need to re-run ;)\n",
      "T169_2019_02_22_Notebook_4_b: This session already exists - no need to re-run ;)\n",
      "T169_2019_02_22_Notebook_4_c: This session already exists - no need to re-run ;)\n",
      "T169_2019_02_22_Notebook_4_d: This session already exists - no need to re-run ;)\n",
      "2019_02_22__T169_T169-134725\n",
      "Notebook_5_a.ipynb is being executed\n"
     ]
    },
    {
     "data": {
      "application/vnd.jupyter.widget-view+json": {
       "model_id": "a0c30eac1b2c42d5864e7b9c0a04f3cd",
       "version_major": 2,
       "version_minor": 0
      },
      "text/plain": [
       "HBox(children=(FloatProgress(value=0.0, description='Executing', max=18.0, style=ProgressStyle(description_wid…"
      ]
     },
     "metadata": {},
     "output_type": "display_data"
    },
    {
     "name": "stdout",
     "output_type": "stream",
     "text": [
      "\n",
      "2019_02_22__T169_T169-134725\n",
      "Notebook_6_a.ipynb is being executed\n"
     ]
    },
    {
     "data": {
      "application/vnd.jupyter.widget-view+json": {
       "model_id": "c774b83108cb4b3886fb854e2cf56d74",
       "version_major": 2,
       "version_minor": 0
      },
      "text/plain": [
       "HBox(children=(FloatProgress(value=0.0, description='Executing', max=12.0, style=ProgressStyle(description_wid…"
      ]
     },
     "metadata": {},
     "output_type": "display_data"
    },
    {
     "name": "stdout",
     "output_type": "stream",
     "text": [
      "\n",
      "2019_02_22__T169_T169-134725\n",
      "Notebook_7_a.ipynb is being executed\n"
     ]
    },
    {
     "data": {
      "application/vnd.jupyter.widget-view+json": {
       "model_id": "3667028a32ee408cb64e1ea6cedcd7e4",
       "version_major": 2,
       "version_minor": 0
      },
      "text/plain": [
       "HBox(children=(FloatProgress(value=0.0, description='Executing', max=6.0, style=ProgressStyle(description_widt…"
      ]
     },
     "metadata": {},
     "output_type": "display_data"
    },
    {
     "name": "stdout",
     "output_type": "stream",
     "text": [
      "\n",
      "T169_2019_03_01_Notebook_0_a: This session already exists - no need to re-run ;)\n",
      "T169_2019_03_01_Notebook_1_b: This session already exists - no need to re-run ;)\n",
      "T169_2019_03_01_Notebook_2_a: This session already exists - no need to re-run ;)\n",
      "2019_03_01__T169_T169-141400\n",
      "Notebook_3_c.ipynb is being executed\n"
     ]
    },
    {
     "data": {
      "application/vnd.jupyter.widget-view+json": {
       "model_id": "a9962e07bc124674a342100c5df7b3a9",
       "version_major": 2,
       "version_minor": 0
      },
      "text/plain": [
       "HBox(children=(FloatProgress(value=0.0, description='Executing', max=36.0, style=ProgressStyle(description_wid…"
      ]
     },
     "metadata": {},
     "output_type": "display_data"
    },
    {
     "name": "stdout",
     "output_type": "stream",
     "text": [
      "\n",
      "T169_2019_03_01_Notebook_4_a: This session already exists - no need to re-run ;)\n",
      "T169_2019_03_01_Notebook_4_b: This session already exists - no need to re-run ;)\n",
      "T169_2019_03_01_Notebook_4_c: This session already exists - no need to re-run ;)\n",
      "T169_2019_03_01_Notebook_4_d: This session already exists - no need to re-run ;)\n",
      "2019_03_01__T169_T169-141400\n",
      "Notebook_5_a.ipynb is being executed\n"
     ]
    },
    {
     "data": {
      "application/vnd.jupyter.widget-view+json": {
       "model_id": "462d6be362aa48518912051fa0d3eb19",
       "version_major": 2,
       "version_minor": 0
      },
      "text/plain": [
       "HBox(children=(FloatProgress(value=0.0, description='Executing', max=18.0, style=ProgressStyle(description_wid…"
      ]
     },
     "metadata": {},
     "output_type": "display_data"
    },
    {
     "name": "stdout",
     "output_type": "stream",
     "text": [
      "\n",
      "2019_03_01__T169_T169-141400\n",
      "Notebook_6_a.ipynb is being executed\n"
     ]
    },
    {
     "data": {
      "application/vnd.jupyter.widget-view+json": {
       "model_id": "320024507b854a7aa0aa730e1954b919",
       "version_major": 2,
       "version_minor": 0
      },
      "text/plain": [
       "HBox(children=(FloatProgress(value=0.0, description='Executing', max=12.0, style=ProgressStyle(description_wid…"
      ]
     },
     "metadata": {},
     "output_type": "display_data"
    },
    {
     "name": "stdout",
     "output_type": "stream",
     "text": [
      "\n",
      "2019_03_01__T169_T169-141400\n",
      "Notebook_7_a.ipynb is being executed\n"
     ]
    },
    {
     "data": {
      "application/vnd.jupyter.widget-view+json": {
       "model_id": "d31d1062e7a846b9a41303dd19d6e76b",
       "version_major": 2,
       "version_minor": 0
      },
      "text/plain": [
       "HBox(children=(FloatProgress(value=0.0, description='Executing', max=6.0, style=ProgressStyle(description_widt…"
      ]
     },
     "metadata": {},
     "output_type": "display_data"
    },
    {
     "name": "stdout",
     "output_type": "stream",
     "text": [
      "\n",
      "T169_2019_01_25_Notebook_0_a: This session already exists - no need to re-run ;)\n",
      "T169_2019_01_25_Notebook_1_b: This session already exists - no need to re-run ;)\n",
      "T169_2019_01_25_Notebook_2_a: This session already exists - no need to re-run ;)\n",
      "2019_01_25__T169_T169-142626\n",
      "Notebook_3_c.ipynb is being executed\n"
     ]
    },
    {
     "data": {
      "application/vnd.jupyter.widget-view+json": {
       "model_id": "0c7a063fcb44415bb54954e72c4ee213",
       "version_major": 2,
       "version_minor": 0
      },
      "text/plain": [
       "HBox(children=(FloatProgress(value=0.0, description='Executing', max=36.0, style=ProgressStyle(description_wid…"
      ]
     },
     "metadata": {},
     "output_type": "display_data"
    },
    {
     "name": "stdout",
     "output_type": "stream",
     "text": [
      "\n",
      "T169_2019_01_25_Notebook_4_a: This session already exists - no need to re-run ;)\n",
      "T169_2019_01_25_Notebook_4_b: This session already exists - no need to re-run ;)\n",
      "T169_2019_01_25_Notebook_4_c: This session already exists - no need to re-run ;)\n",
      "T169_2019_01_25_Notebook_4_d: This session already exists - no need to re-run ;)\n",
      "2019_01_25__T169_T169-142626\n",
      "Notebook_5_a.ipynb is being executed\n"
     ]
    },
    {
     "data": {
      "application/vnd.jupyter.widget-view+json": {
       "model_id": "28acc24813284bf4887c0a1cf1091ee4",
       "version_major": 2,
       "version_minor": 0
      },
      "text/plain": [
       "HBox(children=(FloatProgress(value=0.0, description='Executing', max=18.0, style=ProgressStyle(description_wid…"
      ]
     },
     "metadata": {},
     "output_type": "display_data"
    },
    {
     "name": "stdout",
     "output_type": "stream",
     "text": [
      "\n",
      "2019_01_25__T169_T169-142626\n",
      "Notebook_6_a.ipynb is being executed\n"
     ]
    },
    {
     "data": {
      "application/vnd.jupyter.widget-view+json": {
       "model_id": "9922b2c108864e05837504d1d6c2895a",
       "version_major": 2,
       "version_minor": 0
      },
      "text/plain": [
       "HBox(children=(FloatProgress(value=0.0, description='Executing', max=12.0, style=ProgressStyle(description_wid…"
      ]
     },
     "metadata": {},
     "output_type": "display_data"
    },
    {
     "name": "stdout",
     "output_type": "stream",
     "text": [
      "\n",
      "2019_01_25__T169_T169-142626\n",
      "Notebook_7_a.ipynb is being executed\n"
     ]
    },
    {
     "data": {
      "application/vnd.jupyter.widget-view+json": {
       "model_id": "e3989149cb9d4bf5b6c0565c869519b6",
       "version_major": 2,
       "version_minor": 0
      },
      "text/plain": [
       "HBox(children=(FloatProgress(value=0.0, description='Executing', max=6.0, style=ProgressStyle(description_widt…"
      ]
     },
     "metadata": {},
     "output_type": "display_data"
    },
    {
     "name": "stdout",
     "output_type": "stream",
     "text": [
      "\n",
      "T169_2019_02_14_Notebook_0_a: This session already exists - no need to re-run ;)\n",
      "T169_2019_02_14_Notebook_1_b: This session already exists - no need to re-run ;)\n",
      "T169_2019_02_14_Notebook_2_a: This session already exists - no need to re-run ;)\n",
      "2019_02_14__T169_T169-143937\n",
      "Notebook_3_c.ipynb is being executed\n"
     ]
    },
    {
     "data": {
      "application/vnd.jupyter.widget-view+json": {
       "model_id": "4cf5fd153d1d49059f5210bd5dcd123f",
       "version_major": 2,
       "version_minor": 0
      },
      "text/plain": [
       "HBox(children=(FloatProgress(value=0.0, description='Executing', max=36.0, style=ProgressStyle(description_wid…"
      ]
     },
     "metadata": {},
     "output_type": "display_data"
    },
    {
     "name": "stdout",
     "output_type": "stream",
     "text": [
      "\n",
      "T169_2019_02_14_Notebook_4_a: This session already exists - no need to re-run ;)\n",
      "T169_2019_02_14_Notebook_4_b: This session already exists - no need to re-run ;)\n",
      "T169_2019_02_14_Notebook_4_c: This session already exists - no need to re-run ;)\n",
      "T169_2019_02_14_Notebook_4_d: This session already exists - no need to re-run ;)\n",
      "2019_02_14__T169_T169-143937\n",
      "Notebook_5_a.ipynb is being executed\n"
     ]
    },
    {
     "data": {
      "application/vnd.jupyter.widget-view+json": {
       "model_id": "fe0086b12ef842bf886c05e70a42d670",
       "version_major": 2,
       "version_minor": 0
      },
      "text/plain": [
       "HBox(children=(FloatProgress(value=0.0, description='Executing', max=18.0, style=ProgressStyle(description_wid…"
      ]
     },
     "metadata": {},
     "output_type": "display_data"
    },
    {
     "name": "stdout",
     "output_type": "stream",
     "text": [
      "\n",
      "2019_02_14__T169_T169-143937\n",
      "Notebook_6_a.ipynb is being executed\n"
     ]
    },
    {
     "data": {
      "application/vnd.jupyter.widget-view+json": {
       "model_id": "3aa33c46d59a4a0391cbc57a90ac9b83",
       "version_major": 2,
       "version_minor": 0
      },
      "text/plain": [
       "HBox(children=(FloatProgress(value=0.0, description='Executing', max=12.0, style=ProgressStyle(description_wid…"
      ]
     },
     "metadata": {},
     "output_type": "display_data"
    },
    {
     "name": "stdout",
     "output_type": "stream",
     "text": [
      "\n",
      "2019_02_14__T169_T169-143937\n",
      "Notebook_7_a.ipynb is being executed\n"
     ]
    },
    {
     "data": {
      "application/vnd.jupyter.widget-view+json": {
       "model_id": "ada84507e55c4b949f9945565ef408e4",
       "version_major": 2,
       "version_minor": 0
      },
      "text/plain": [
       "HBox(children=(FloatProgress(value=0.0, description='Executing', max=6.0, style=ProgressStyle(description_widt…"
      ]
     },
     "metadata": {},
     "output_type": "display_data"
    },
    {
     "name": "stdout",
     "output_type": "stream",
     "text": [
      "\n",
      "T169_2019_02_20_Notebook_0_a: This session already exists - no need to re-run ;)\n",
      "T169_2019_02_20_Notebook_1_b: This session already exists - no need to re-run ;)\n",
      "T169_2019_02_20_Notebook_2_a: This session already exists - no need to re-run ;)\n",
      "2019_02_20__T169_T169-141850\n",
      "Notebook_3_c.ipynb is being executed\n"
     ]
    },
    {
     "data": {
      "application/vnd.jupyter.widget-view+json": {
       "model_id": "94031f7d9a544c47b11507dcd9b3ce74",
       "version_major": 2,
       "version_minor": 0
      },
      "text/plain": [
       "HBox(children=(FloatProgress(value=0.0, description='Executing', max=36.0, style=ProgressStyle(description_wid…"
      ]
     },
     "metadata": {},
     "output_type": "display_data"
    },
    {
     "name": "stdout",
     "output_type": "stream",
     "text": [
      "\n",
      "T169_2019_02_20_Notebook_4_a: This session already exists - no need to re-run ;)\n",
      "T169_2019_02_20_Notebook_4_b: This session already exists - no need to re-run ;)\n",
      "T169_2019_02_20_Notebook_4_c: This session already exists - no need to re-run ;)\n",
      "T169_2019_02_20_Notebook_4_d: This session already exists - no need to re-run ;)\n",
      "2019_02_20__T169_T169-141850\n",
      "Notebook_5_a.ipynb is being executed\n"
     ]
    },
    {
     "data": {
      "application/vnd.jupyter.widget-view+json": {
       "model_id": "a14f050ee7364f59bd1d704bcba4b9dc",
       "version_major": 2,
       "version_minor": 0
      },
      "text/plain": [
       "HBox(children=(FloatProgress(value=0.0, description='Executing', max=18.0, style=ProgressStyle(description_wid…"
      ]
     },
     "metadata": {},
     "output_type": "display_data"
    },
    {
     "name": "stdout",
     "output_type": "stream",
     "text": [
      "\n",
      "2019_02_20__T169_T169-141850\n",
      "Notebook_6_a.ipynb is being executed\n"
     ]
    },
    {
     "data": {
      "application/vnd.jupyter.widget-view+json": {
       "model_id": "2a668565d4d94945928f1b2f911c375e",
       "version_major": 2,
       "version_minor": 0
      },
      "text/plain": [
       "HBox(children=(FloatProgress(value=0.0, description='Executing', max=12.0, style=ProgressStyle(description_wid…"
      ]
     },
     "metadata": {},
     "output_type": "display_data"
    },
    {
     "name": "stdout",
     "output_type": "stream",
     "text": [
      "\n",
      "2019_02_20__T169_T169-141850\n",
      "Notebook_7_a.ipynb is being executed\n"
     ]
    },
    {
     "data": {
      "application/vnd.jupyter.widget-view+json": {
       "model_id": "41b779ba40bc423a8a72d5ee44d31904",
       "version_major": 2,
       "version_minor": 0
      },
      "text/plain": [
       "HBox(children=(FloatProgress(value=0.0, description='Executing', max=6.0, style=ProgressStyle(description_widt…"
      ]
     },
     "metadata": {},
     "output_type": "display_data"
    },
    {
     "name": "stdout",
     "output_type": "stream",
     "text": [
      "\n",
      "T169_2019_02_27_Notebook_0_a: This session already exists - no need to re-run ;)\n",
      "T169_2019_02_27_Notebook_1_b: This session already exists - no need to re-run ;)\n",
      "T169_2019_02_27_Notebook_2_a: This session already exists - no need to re-run ;)\n",
      "2019_02_27__T169_T169-155731\n",
      "Notebook_3_c.ipynb is being executed\n"
     ]
    },
    {
     "data": {
      "application/vnd.jupyter.widget-view+json": {
       "model_id": "81d4bd1c91ae4cf4a78b8663fbda32a3",
       "version_major": 2,
       "version_minor": 0
      },
      "text/plain": [
       "HBox(children=(FloatProgress(value=0.0, description='Executing', max=36.0, style=ProgressStyle(description_wid…"
      ]
     },
     "metadata": {},
     "output_type": "display_data"
    },
    {
     "name": "stdout",
     "output_type": "stream",
     "text": [
      "\n",
      "T169_2019_02_27_Notebook_4_a: This session already exists - no need to re-run ;)\n",
      "T169_2019_02_27_Notebook_4_b: This session already exists - no need to re-run ;)\n",
      "T169_2019_02_27_Notebook_4_c: This session already exists - no need to re-run ;)\n",
      "T169_2019_02_27_Notebook_4_d: This session already exists - no need to re-run ;)\n",
      "2019_02_27__T169_T169-155731\n",
      "Notebook_5_a.ipynb is being executed\n"
     ]
    },
    {
     "data": {
      "application/vnd.jupyter.widget-view+json": {
       "model_id": "8e7671f0b8d844b1925325620cccf476",
       "version_major": 2,
       "version_minor": 0
      },
      "text/plain": [
       "HBox(children=(FloatProgress(value=0.0, description='Executing', max=18.0, style=ProgressStyle(description_wid…"
      ]
     },
     "metadata": {},
     "output_type": "display_data"
    },
    {
     "name": "stdout",
     "output_type": "stream",
     "text": [
      "\n",
      "2019_02_27__T169_T169-155731\n",
      "Notebook_6_a.ipynb is being executed\n"
     ]
    },
    {
     "data": {
      "application/vnd.jupyter.widget-view+json": {
       "model_id": "bde36cf6b9024c358636d703319acb33",
       "version_major": 2,
       "version_minor": 0
      },
      "text/plain": [
       "HBox(children=(FloatProgress(value=0.0, description='Executing', max=12.0, style=ProgressStyle(description_wid…"
      ]
     },
     "metadata": {},
     "output_type": "display_data"
    },
    {
     "name": "stdout",
     "output_type": "stream",
     "text": [
      "\n",
      "2019_02_27__T169_T169-155731\n",
      "Notebook_7_a.ipynb is being executed\n"
     ]
    },
    {
     "data": {
      "application/vnd.jupyter.widget-view+json": {
       "model_id": "e15686320d1949c4abeac92db02d640f",
       "version_major": 2,
       "version_minor": 0
      },
      "text/plain": [
       "HBox(children=(FloatProgress(value=0.0, description='Executing', max=6.0, style=ProgressStyle(description_widt…"
      ]
     },
     "metadata": {},
     "output_type": "display_data"
    },
    {
     "name": "stdout",
     "output_type": "stream",
     "text": [
      "\n",
      "T169_2019_02_28_Notebook_0_a: This session already exists - no need to re-run ;)\n",
      "T169_2019_02_28_Notebook_1_b: This session already exists - no need to re-run ;)\n",
      "T169_2019_02_28_Notebook_2_a: This session already exists - no need to re-run ;)\n",
      "2019_02_28__T169_T169-142051\n",
      "Notebook_3_c.ipynb is being executed\n"
     ]
    },
    {
     "data": {
      "application/vnd.jupyter.widget-view+json": {
       "model_id": "acd98068acd44196a98670b62f277d89",
       "version_major": 2,
       "version_minor": 0
      },
      "text/plain": [
       "HBox(children=(FloatProgress(value=0.0, description='Executing', max=36.0, style=ProgressStyle(description_wid…"
      ]
     },
     "metadata": {},
     "output_type": "display_data"
    },
    {
     "name": "stdout",
     "output_type": "stream",
     "text": [
      "\n",
      "T169_2019_02_28_Notebook_4_a: This session already exists - no need to re-run ;)\n",
      "T169_2019_02_28_Notebook_4_b: This session already exists - no need to re-run ;)\n",
      "T169_2019_02_28_Notebook_4_c: This session already exists - no need to re-run ;)\n",
      "T169_2019_02_28_Notebook_4_d: This session already exists - no need to re-run ;)\n",
      "2019_02_28__T169_T169-142051\n",
      "Notebook_5_a.ipynb is being executed\n"
     ]
    },
    {
     "data": {
      "application/vnd.jupyter.widget-view+json": {
       "model_id": "dea254f8105d47e4918b2d792ca4eb71",
       "version_major": 2,
       "version_minor": 0
      },
      "text/plain": [
       "HBox(children=(FloatProgress(value=0.0, description='Executing', max=18.0, style=ProgressStyle(description_wid…"
      ]
     },
     "metadata": {},
     "output_type": "display_data"
    },
    {
     "name": "stdout",
     "output_type": "stream",
     "text": [
      "\n",
      "2019_02_28__T169_T169-142051\n",
      "Notebook_6_a.ipynb is being executed\n"
     ]
    },
    {
     "data": {
      "application/vnd.jupyter.widget-view+json": {
       "model_id": "1b8c0a0ef92e46bfb9e6715a36c4f594",
       "version_major": 2,
       "version_minor": 0
      },
      "text/plain": [
       "HBox(children=(FloatProgress(value=0.0, description='Executing', max=12.0, style=ProgressStyle(description_wid…"
      ]
     },
     "metadata": {},
     "output_type": "display_data"
    },
    {
     "name": "stdout",
     "output_type": "stream",
     "text": [
      "\n",
      "2019_02_28__T169_T169-142051\n",
      "Notebook_7_a.ipynb is being executed\n"
     ]
    },
    {
     "data": {
      "application/vnd.jupyter.widget-view+json": {
       "model_id": "9ff175909f94465a921326c752b74651",
       "version_major": 2,
       "version_minor": 0
      },
      "text/plain": [
       "HBox(children=(FloatProgress(value=0.0, description='Executing', max=6.0, style=ProgressStyle(description_widt…"
      ]
     },
     "metadata": {},
     "output_type": "display_data"
    },
    {
     "name": "stdout",
     "output_type": "stream",
     "text": [
      "\n",
      "T169_2019_02_21_Notebook_0_a: This session already exists - no need to re-run ;)\n",
      "T169_2019_02_21_Notebook_1_b: This session already exists - no need to re-run ;)\n",
      "T169_2019_02_21_Notebook_2_a: This session already exists - no need to re-run ;)\n",
      "2019_02_21__T169_T169-141159\n",
      "Notebook_3_c.ipynb is being executed\n"
     ]
    },
    {
     "data": {
      "application/vnd.jupyter.widget-view+json": {
       "model_id": "538c8747cbaa4f779a4d18f9aac45147",
       "version_major": 2,
       "version_minor": 0
      },
      "text/plain": [
       "HBox(children=(FloatProgress(value=0.0, description='Executing', max=36.0, style=ProgressStyle(description_wid…"
      ]
     },
     "metadata": {},
     "output_type": "display_data"
    },
    {
     "name": "stdout",
     "output_type": "stream",
     "text": [
      "\n",
      "T169_2019_02_21_Notebook_4_a: This session already exists - no need to re-run ;)\n",
      "T169_2019_02_21_Notebook_4_b: This session already exists - no need to re-run ;)\n",
      "T169_2019_02_21_Notebook_4_c: This session already exists - no need to re-run ;)\n",
      "T169_2019_02_21_Notebook_4_d: This session already exists - no need to re-run ;)\n",
      "2019_02_21__T169_T169-141159\n",
      "Notebook_5_a.ipynb is being executed\n"
     ]
    },
    {
     "data": {
      "application/vnd.jupyter.widget-view+json": {
       "model_id": "3fafcd9ee7d744de9881acf1e57a9011",
       "version_major": 2,
       "version_minor": 0
      },
      "text/plain": [
       "HBox(children=(FloatProgress(value=0.0, description='Executing', max=18.0, style=ProgressStyle(description_wid…"
      ]
     },
     "metadata": {},
     "output_type": "display_data"
    },
    {
     "name": "stdout",
     "output_type": "stream",
     "text": [
      "\n",
      "2019_02_21__T169_T169-141159\n",
      "Notebook_6_a.ipynb is being executed\n"
     ]
    },
    {
     "data": {
      "application/vnd.jupyter.widget-view+json": {
       "model_id": "75c9cfedd5aa48eea4f19f7a7c7b0846",
       "version_major": 2,
       "version_minor": 0
      },
      "text/plain": [
       "HBox(children=(FloatProgress(value=0.0, description='Executing', max=12.0, style=ProgressStyle(description_wid…"
      ]
     },
     "metadata": {},
     "output_type": "display_data"
    },
    {
     "name": "stdout",
     "output_type": "stream",
     "text": [
      "\n",
      "2019_02_21__T169_T169-141159\n",
      "Notebook_7_a.ipynb is being executed\n"
     ]
    },
    {
     "data": {
      "application/vnd.jupyter.widget-view+json": {
       "model_id": "3920d4ee3bfd44a3bd59e56159a0b264",
       "version_major": 2,
       "version_minor": 0
      },
      "text/plain": [
       "HBox(children=(FloatProgress(value=0.0, description='Executing', max=6.0, style=ProgressStyle(description_widt…"
      ]
     },
     "metadata": {},
     "output_type": "display_data"
    },
    {
     "name": "stdout",
     "output_type": "stream",
     "text": [
      "\n",
      "T171_2019_02_21_Notebook_0_a: This session already exists - no need to re-run ;)\n",
      "T171_2019_02_21_Notebook_1_b: This session already exists - no need to re-run ;)\n",
      "T171_2019_02_21_Notebook_2_a: This session already exists - no need to re-run ;)\n",
      "2019_02_21__T171_T171-152107\n",
      "Notebook_3_c.ipynb is being executed\n"
     ]
    },
    {
     "data": {
      "application/vnd.jupyter.widget-view+json": {
       "model_id": "5ab9b19e80c144bebbe6bba4527b77e6",
       "version_major": 2,
       "version_minor": 0
      },
      "text/plain": [
       "HBox(children=(FloatProgress(value=0.0, description='Executing', max=36.0, style=ProgressStyle(description_wid…"
      ]
     },
     "metadata": {},
     "output_type": "display_data"
    },
    {
     "name": "stdout",
     "output_type": "stream",
     "text": [
      "\n",
      "T171_2019_02_21_Notebook_4_a: This session already exists - no need to re-run ;)\n",
      "T171_2019_02_21_Notebook_4_b: This session already exists - no need to re-run ;)\n",
      "T171_2019_02_21_Notebook_4_c: This session already exists - no need to re-run ;)\n",
      "T171_2019_02_21_Notebook_4_d: This session already exists - no need to re-run ;)\n",
      "2019_02_21__T171_T171-152107\n",
      "Notebook_5_a.ipynb is being executed\n"
     ]
    },
    {
     "data": {
      "application/vnd.jupyter.widget-view+json": {
       "model_id": "b8030e406ab64717876d83a8e50d51a6",
       "version_major": 2,
       "version_minor": 0
      },
      "text/plain": [
       "HBox(children=(FloatProgress(value=0.0, description='Executing', max=18.0, style=ProgressStyle(description_wid…"
      ]
     },
     "metadata": {},
     "output_type": "display_data"
    },
    {
     "name": "stdout",
     "output_type": "stream",
     "text": [
      "\n",
      "2019_02_21__T171_T171-152107\n",
      "Notebook_6_a.ipynb is being executed\n"
     ]
    },
    {
     "data": {
      "application/vnd.jupyter.widget-view+json": {
       "model_id": "2a06b34a489e432ab11dda02121ea2ba",
       "version_major": 2,
       "version_minor": 0
      },
      "text/plain": [
       "HBox(children=(FloatProgress(value=0.0, description='Executing', max=12.0, style=ProgressStyle(description_wid…"
      ]
     },
     "metadata": {},
     "output_type": "display_data"
    },
    {
     "name": "stdout",
     "output_type": "stream",
     "text": [
      "\n",
      "2019_02_21__T171_T171-152107\n",
      "Notebook_7_a.ipynb is being executed\n"
     ]
    },
    {
     "data": {
      "application/vnd.jupyter.widget-view+json": {
       "model_id": "b0417067732447d49597cde9930b38a0",
       "version_major": 2,
       "version_minor": 0
      },
      "text/plain": [
       "HBox(children=(FloatProgress(value=0.0, description='Executing', max=6.0, style=ProgressStyle(description_widt…"
      ]
     },
     "metadata": {},
     "output_type": "display_data"
    },
    {
     "name": "stdout",
     "output_type": "stream",
     "text": [
      "\n",
      "T171_2019_02_26_Notebook_0_a: This session already exists - no need to re-run ;)\n",
      "T171_2019_02_26_Notebook_1_b: This session already exists - no need to re-run ;)\n",
      "T171_2019_02_26_Notebook_2_a: This session already exists - no need to re-run ;)\n",
      "2019_02_26__T171_T171-145215\n",
      "Notebook_3_c.ipynb is being executed\n"
     ]
    },
    {
     "data": {
      "application/vnd.jupyter.widget-view+json": {
       "model_id": "8fd85778200c4381a1faa80f0da24d48",
       "version_major": 2,
       "version_minor": 0
      },
      "text/plain": [
       "HBox(children=(FloatProgress(value=0.0, description='Executing', max=36.0, style=ProgressStyle(description_wid…"
      ]
     },
     "metadata": {},
     "output_type": "display_data"
    },
    {
     "name": "stdout",
     "output_type": "stream",
     "text": [
      "\n",
      "T171_2019_02_26_Notebook_4_a: This session already exists - no need to re-run ;)\n",
      "T171_2019_02_26_Notebook_4_b: This session already exists - no need to re-run ;)\n",
      "T171_2019_02_26_Notebook_4_c: This session already exists - no need to re-run ;)\n",
      "T171_2019_02_26_Notebook_4_d: This session already exists - no need to re-run ;)\n",
      "2019_02_26__T171_T171-145215\n",
      "Notebook_5_a.ipynb is being executed\n"
     ]
    },
    {
     "data": {
      "application/vnd.jupyter.widget-view+json": {
       "model_id": "daa80866cef44f57abfb460285f9fbd3",
       "version_major": 2,
       "version_minor": 0
      },
      "text/plain": [
       "HBox(children=(FloatProgress(value=0.0, description='Executing', max=18.0, style=ProgressStyle(description_wid…"
      ]
     },
     "metadata": {},
     "output_type": "display_data"
    },
    {
     "name": "stdout",
     "output_type": "stream",
     "text": [
      "\n",
      "2019_02_26__T171_T171-145215\n",
      "Notebook_6_a.ipynb is being executed\n"
     ]
    },
    {
     "data": {
      "application/vnd.jupyter.widget-view+json": {
       "model_id": "4ae22bc6071d45be933d9e5736c76c2c",
       "version_major": 2,
       "version_minor": 0
      },
      "text/plain": [
       "HBox(children=(FloatProgress(value=0.0, description='Executing', max=12.0, style=ProgressStyle(description_wid…"
      ]
     },
     "metadata": {},
     "output_type": "display_data"
    },
    {
     "name": "stdout",
     "output_type": "stream",
     "text": [
      "\n",
      "2019_02_26__T171_T171-145215\n",
      "Notebook_7_a.ipynb is being executed\n"
     ]
    },
    {
     "data": {
      "application/vnd.jupyter.widget-view+json": {
       "model_id": "c8630cc833b04ab686c9af65890867c2",
       "version_major": 2,
       "version_minor": 0
      },
      "text/plain": [
       "HBox(children=(FloatProgress(value=0.0, description='Executing', max=6.0, style=ProgressStyle(description_widt…"
      ]
     },
     "metadata": {},
     "output_type": "display_data"
    },
    {
     "name": "stdout",
     "output_type": "stream",
     "text": [
      "\n",
      "T171_2019_01_22_Notebook_0_a: This session already exists - no need to re-run ;)\n",
      "T171_2019_01_22_Notebook_1_b: This session already exists - no need to re-run ;)\n",
      "T171_2019_01_22_Notebook_2_a: This session already exists - no need to re-run ;)\n",
      "2019_01_22__T171_T171-165215\n",
      "Notebook_3_c.ipynb is being executed\n"
     ]
    },
    {
     "data": {
      "application/vnd.jupyter.widget-view+json": {
       "model_id": "1b7156610c6e4b6598351e5a6caa2e60",
       "version_major": 2,
       "version_minor": 0
      },
      "text/plain": [
       "HBox(children=(FloatProgress(value=0.0, description='Executing', max=36.0, style=ProgressStyle(description_wid…"
      ]
     },
     "metadata": {},
     "output_type": "display_data"
    },
    {
     "name": "stdout",
     "output_type": "stream",
     "text": [
      "\n",
      "T171_2019_01_22_Notebook_4_a: This session already exists - no need to re-run ;)\n",
      "T171_2019_01_22_Notebook_4_b: This session already exists - no need to re-run ;)\n",
      "T171_2019_01_22_Notebook_4_c: This session already exists - no need to re-run ;)\n",
      "T171_2019_01_22_Notebook_4_d: This session already exists - no need to re-run ;)\n",
      "2019_01_22__T171_T171-165215\n",
      "Notebook_5_a.ipynb is being executed\n"
     ]
    },
    {
     "data": {
      "application/vnd.jupyter.widget-view+json": {
       "model_id": "c6a4f66125314a3b8f7e23ab95de54f3",
       "version_major": 2,
       "version_minor": 0
      },
      "text/plain": [
       "HBox(children=(FloatProgress(value=0.0, description='Executing', max=18.0, style=ProgressStyle(description_wid…"
      ]
     },
     "metadata": {},
     "output_type": "display_data"
    },
    {
     "name": "stdout",
     "output_type": "stream",
     "text": [
      "\n",
      "2019_01_22__T171_T171-165215\n",
      "Notebook_6_a.ipynb is being executed\n"
     ]
    },
    {
     "data": {
      "application/vnd.jupyter.widget-view+json": {
       "model_id": "d24887d1ed324e0da56fdc4f9c6b0b66",
       "version_major": 2,
       "version_minor": 0
      },
      "text/plain": [
       "HBox(children=(FloatProgress(value=0.0, description='Executing', max=12.0, style=ProgressStyle(description_wid…"
      ]
     },
     "metadata": {},
     "output_type": "display_data"
    },
    {
     "name": "stdout",
     "output_type": "stream",
     "text": [
      "\n",
      "2019_01_22__T171_T171-165215\n",
      "Notebook_7_a.ipynb is being executed\n"
     ]
    },
    {
     "data": {
      "application/vnd.jupyter.widget-view+json": {
       "model_id": "cb7a02d5bd2f4455b959914e65bd2742",
       "version_major": 2,
       "version_minor": 0
      },
      "text/plain": [
       "HBox(children=(FloatProgress(value=0.0, description='Executing', max=6.0, style=ProgressStyle(description_widt…"
      ]
     },
     "metadata": {},
     "output_type": "display_data"
    },
    {
     "name": "stdout",
     "output_type": "stream",
     "text": [
      "\n",
      "T171_2019_02_25_Notebook_0_a: This session already exists - no need to re-run ;)\n",
      "T171_2019_02_25_Notebook_1_b: This session already exists - no need to re-run ;)\n",
      "T171_2019_02_25_Notebook_2_a: This session already exists - no need to re-run ;)\n",
      "2019_02_25__T171_T171-152054\n",
      "Notebook_3_c.ipynb is being executed\n"
     ]
    },
    {
     "data": {
      "application/vnd.jupyter.widget-view+json": {
       "model_id": "7e48b1a8892747ff9cfcfabccb8c6aa0",
       "version_major": 2,
       "version_minor": 0
      },
      "text/plain": [
       "HBox(children=(FloatProgress(value=0.0, description='Executing', max=36.0, style=ProgressStyle(description_wid…"
      ]
     },
     "metadata": {},
     "output_type": "display_data"
    },
    {
     "name": "stdout",
     "output_type": "stream",
     "text": [
      "\n",
      "T171_2019_02_25_Notebook_4_a: This session already exists - no need to re-run ;)\n",
      "T171_2019_02_25_Notebook_4_b: This session already exists - no need to re-run ;)\n",
      "T171_2019_02_25_Notebook_4_c: This session already exists - no need to re-run ;)\n",
      "T171_2019_02_25_Notebook_4_d: This session already exists - no need to re-run ;)\n",
      "2019_02_25__T171_T171-152054\n",
      "Notebook_5_a.ipynb is being executed\n"
     ]
    },
    {
     "data": {
      "application/vnd.jupyter.widget-view+json": {
       "model_id": "fcfcf4023ccd4966a8d1d8d3c444eeae",
       "version_major": 2,
       "version_minor": 0
      },
      "text/plain": [
       "HBox(children=(FloatProgress(value=0.0, description='Executing', max=18.0, style=ProgressStyle(description_wid…"
      ]
     },
     "metadata": {},
     "output_type": "display_data"
    },
    {
     "name": "stdout",
     "output_type": "stream",
     "text": [
      "\n",
      "2019_02_25__T171_T171-152054\n",
      "Notebook_6_a.ipynb is being executed\n"
     ]
    },
    {
     "data": {
      "application/vnd.jupyter.widget-view+json": {
       "model_id": "10219cb3d19d4e499499934ce17e4f21",
       "version_major": 2,
       "version_minor": 0
      },
      "text/plain": [
       "HBox(children=(FloatProgress(value=0.0, description='Executing', max=12.0, style=ProgressStyle(description_wid…"
      ]
     },
     "metadata": {},
     "output_type": "display_data"
    },
    {
     "name": "stdout",
     "output_type": "stream",
     "text": [
      "\n",
      "2019_02_25__T171_T171-152054\n",
      "Notebook_7_a.ipynb is being executed\n"
     ]
    },
    {
     "data": {
      "application/vnd.jupyter.widget-view+json": {
       "model_id": "382664b05c2d467f9df73cf434ac31ca",
       "version_major": 2,
       "version_minor": 0
      },
      "text/plain": [
       "HBox(children=(FloatProgress(value=0.0, description='Executing', max=6.0, style=ProgressStyle(description_widt…"
      ]
     },
     "metadata": {},
     "output_type": "display_data"
    },
    {
     "name": "stdout",
     "output_type": "stream",
     "text": [
      "\n",
      "T171_2019_02_27_Notebook_0_a: This session already exists - no need to re-run ;)\n",
      "T171_2019_02_27_Notebook_1_b: This session already exists - no need to re-run ;)\n",
      "T171_2019_02_27_Notebook_2_a: This session already exists - no need to re-run ;)\n",
      "2019_02_27__T171_T171-162455\n",
      "Notebook_3_c.ipynb is being executed\n"
     ]
    },
    {
     "data": {
      "application/vnd.jupyter.widget-view+json": {
       "model_id": "a62d167f8f304844ab0c0017ce89b07e",
       "version_major": 2,
       "version_minor": 0
      },
      "text/plain": [
       "HBox(children=(FloatProgress(value=0.0, description='Executing', max=36.0, style=ProgressStyle(description_wid…"
      ]
     },
     "metadata": {},
     "output_type": "display_data"
    },
    {
     "name": "stdout",
     "output_type": "stream",
     "text": [
      "\n",
      "T171_2019_02_27_Notebook_4_a: This session already exists - no need to re-run ;)\n",
      "T171_2019_02_27_Notebook_4_b: This session already exists - no need to re-run ;)\n",
      "T171_2019_02_27_Notebook_4_c: This session already exists - no need to re-run ;)\n",
      "T171_2019_02_27_Notebook_4_d: This session already exists - no need to re-run ;)\n",
      "2019_02_27__T171_T171-162455\n",
      "Notebook_5_a.ipynb is being executed\n"
     ]
    },
    {
     "data": {
      "application/vnd.jupyter.widget-view+json": {
       "model_id": "cecfd8078903462c98021461ef40ed29",
       "version_major": 2,
       "version_minor": 0
      },
      "text/plain": [
       "HBox(children=(FloatProgress(value=0.0, description='Executing', max=18.0, style=ProgressStyle(description_wid…"
      ]
     },
     "metadata": {},
     "output_type": "display_data"
    },
    {
     "name": "stdout",
     "output_type": "stream",
     "text": [
      "\n",
      "2019_02_27__T171_T171-162455\n",
      "Notebook_6_a.ipynb is being executed\n"
     ]
    },
    {
     "data": {
      "application/vnd.jupyter.widget-view+json": {
       "model_id": "97f798795f2e433cb80647f4312dcb7e",
       "version_major": 2,
       "version_minor": 0
      },
      "text/plain": [
       "HBox(children=(FloatProgress(value=0.0, description='Executing', max=12.0, style=ProgressStyle(description_wid…"
      ]
     },
     "metadata": {},
     "output_type": "display_data"
    },
    {
     "name": "stdout",
     "output_type": "stream",
     "text": [
      "\n",
      "2019_02_27__T171_T171-162455\n",
      "Notebook_7_a.ipynb is being executed\n"
     ]
    },
    {
     "data": {
      "application/vnd.jupyter.widget-view+json": {
       "model_id": "2780538a8afa4f33a1808df2a537b02d",
       "version_major": 2,
       "version_minor": 0
      },
      "text/plain": [
       "HBox(children=(FloatProgress(value=0.0, description='Executing', max=6.0, style=ProgressStyle(description_widt…"
      ]
     },
     "metadata": {},
     "output_type": "display_data"
    },
    {
     "name": "stdout",
     "output_type": "stream",
     "text": [
      "\n",
      "T171_2019_02_14_Notebook_0_a: This session already exists - no need to re-run ;)\n",
      "T171_2019_02_14_Notebook_1_b: This session already exists - no need to re-run ;)\n",
      "T171_2019_02_14_Notebook_2_a: This session already exists - no need to re-run ;)\n",
      "2019_02_14__T171_T171-155052\n",
      "Notebook_3_c.ipynb is being executed\n"
     ]
    },
    {
     "data": {
      "application/vnd.jupyter.widget-view+json": {
       "model_id": "a2025d262a93479fbc699d7197e02a41",
       "version_major": 2,
       "version_minor": 0
      },
      "text/plain": [
       "HBox(children=(FloatProgress(value=0.0, description='Executing', max=36.0, style=ProgressStyle(description_wid…"
      ]
     },
     "metadata": {},
     "output_type": "display_data"
    },
    {
     "name": "stdout",
     "output_type": "stream",
     "text": [
      "\n",
      "T171_2019_02_14_Notebook_4_a: This session already exists - no need to re-run ;)\n",
      "T171_2019_02_14_Notebook_4_b: This session already exists - no need to re-run ;)\n",
      "T171_2019_02_14_Notebook_4_c: This session already exists - no need to re-run ;)\n",
      "T171_2019_02_14_Notebook_4_d: This session already exists - no need to re-run ;)\n",
      "2019_02_14__T171_T171-155052\n",
      "Notebook_5_a.ipynb is being executed\n"
     ]
    },
    {
     "data": {
      "application/vnd.jupyter.widget-view+json": {
       "model_id": "6a1c42a681ef4f8cbf2580104cccd0a5",
       "version_major": 2,
       "version_minor": 0
      },
      "text/plain": [
       "HBox(children=(FloatProgress(value=0.0, description='Executing', max=18.0, style=ProgressStyle(description_wid…"
      ]
     },
     "metadata": {},
     "output_type": "display_data"
    },
    {
     "name": "stdout",
     "output_type": "stream",
     "text": [
      "\n",
      "2019_02_14__T171_T171-155052\n",
      "Notebook_6_a.ipynb is being executed\n"
     ]
    },
    {
     "data": {
      "application/vnd.jupyter.widget-view+json": {
       "model_id": "877e5022c4804756b6cc638a7e8ac33a",
       "version_major": 2,
       "version_minor": 0
      },
      "text/plain": [
       "HBox(children=(FloatProgress(value=0.0, description='Executing', max=12.0, style=ProgressStyle(description_wid…"
      ]
     },
     "metadata": {},
     "output_type": "display_data"
    },
    {
     "name": "stdout",
     "output_type": "stream",
     "text": [
      "\n",
      "2019_02_14__T171_T171-155052\n",
      "Notebook_7_a.ipynb is being executed\n"
     ]
    },
    {
     "data": {
      "application/vnd.jupyter.widget-view+json": {
       "model_id": "9b55a1c30c1049d4bdcd72047179461b",
       "version_major": 2,
       "version_minor": 0
      },
      "text/plain": [
       "HBox(children=(FloatProgress(value=0.0, description='Executing', max=6.0, style=ProgressStyle(description_widt…"
      ]
     },
     "metadata": {},
     "output_type": "display_data"
    },
    {
     "name": "stdout",
     "output_type": "stream",
     "text": [
      "\n",
      "T171_2019_02_22_Notebook_0_a: This session already exists - no need to re-run ;)\n",
      "T171_2019_02_22_Notebook_1_b: This session already exists - no need to re-run ;)\n",
      "T171_2019_02_22_Notebook_2_a: This session already exists - no need to re-run ;)\n",
      "2019_02_22__T171_T171-145829\n",
      "Notebook_3_c.ipynb is being executed\n"
     ]
    },
    {
     "data": {
      "application/vnd.jupyter.widget-view+json": {
       "model_id": "1c402023b54341bda2aab69b6dddad63",
       "version_major": 2,
       "version_minor": 0
      },
      "text/plain": [
       "HBox(children=(FloatProgress(value=0.0, description='Executing', max=36.0, style=ProgressStyle(description_wid…"
      ]
     },
     "metadata": {},
     "output_type": "display_data"
    },
    {
     "name": "stdout",
     "output_type": "stream",
     "text": [
      "\n",
      "T171_2019_02_22_Notebook_4_a: This session already exists - no need to re-run ;)\n",
      "T171_2019_02_22_Notebook_4_b: This session already exists - no need to re-run ;)\n",
      "T171_2019_02_22_Notebook_4_c: This session already exists - no need to re-run ;)\n",
      "T171_2019_02_22_Notebook_4_d: This session already exists - no need to re-run ;)\n",
      "2019_02_22__T171_T171-145829\n",
      "Notebook_5_a.ipynb is being executed\n"
     ]
    },
    {
     "data": {
      "application/vnd.jupyter.widget-view+json": {
       "model_id": "5500f43d855a41c2bed2e9a3dfb0076c",
       "version_major": 2,
       "version_minor": 0
      },
      "text/plain": [
       "HBox(children=(FloatProgress(value=0.0, description='Executing', max=18.0, style=ProgressStyle(description_wid…"
      ]
     },
     "metadata": {},
     "output_type": "display_data"
    },
    {
     "name": "stdout",
     "output_type": "stream",
     "text": [
      "\n",
      "2019_02_22__T171_T171-145829\n",
      "Notebook_6_a.ipynb is being executed\n"
     ]
    },
    {
     "data": {
      "application/vnd.jupyter.widget-view+json": {
       "model_id": "764bdd277cf54a0a988066d9621e494d",
       "version_major": 2,
       "version_minor": 0
      },
      "text/plain": [
       "HBox(children=(FloatProgress(value=0.0, description='Executing', max=12.0, style=ProgressStyle(description_wid…"
      ]
     },
     "metadata": {},
     "output_type": "display_data"
    },
    {
     "name": "stdout",
     "output_type": "stream",
     "text": [
      "\n",
      "2019_02_22__T171_T171-145829\n",
      "Notebook_7_a.ipynb is being executed\n"
     ]
    },
    {
     "data": {
      "application/vnd.jupyter.widget-view+json": {
       "model_id": "fefd0bc26207403fbb07bb11289980f7",
       "version_major": 2,
       "version_minor": 0
      },
      "text/plain": [
       "HBox(children=(FloatProgress(value=0.0, description='Executing', max=6.0, style=ProgressStyle(description_widt…"
      ]
     },
     "metadata": {},
     "output_type": "display_data"
    },
    {
     "name": "stdout",
     "output_type": "stream",
     "text": [
      "\n",
      "T171_2019_02_15_Notebook_0_a: This session already exists - no need to re-run ;)\n",
      "T171_2019_02_15_Notebook_1_b: This session already exists - no need to re-run ;)\n",
      "T171_2019_02_15_Notebook_2_a: This session already exists - no need to re-run ;)\n",
      "2019_02_15__T171_T171-152142\n",
      "Notebook_3_c.ipynb is being executed\n"
     ]
    },
    {
     "data": {
      "application/vnd.jupyter.widget-view+json": {
       "model_id": "63ca095f49824cba99bbb4f1465f7672",
       "version_major": 2,
       "version_minor": 0
      },
      "text/plain": [
       "HBox(children=(FloatProgress(value=0.0, description='Executing', max=36.0, style=ProgressStyle(description_wid…"
      ]
     },
     "metadata": {},
     "output_type": "display_data"
    },
    {
     "name": "stdout",
     "output_type": "stream",
     "text": [
      "\n",
      "T171_2019_02_15_Notebook_4_a: This session already exists - no need to re-run ;)\n",
      "T171_2019_02_15_Notebook_4_b: This session already exists - no need to re-run ;)\n",
      "T171_2019_02_15_Notebook_4_c: This session already exists - no need to re-run ;)\n",
      "T171_2019_02_15_Notebook_4_d: This session already exists - no need to re-run ;)\n",
      "2019_02_15__T171_T171-152142\n",
      "Notebook_5_a.ipynb is being executed\n"
     ]
    },
    {
     "data": {
      "application/vnd.jupyter.widget-view+json": {
       "model_id": "554faceeccae4ac3b2cc87ac51e3de31",
       "version_major": 2,
       "version_minor": 0
      },
      "text/plain": [
       "HBox(children=(FloatProgress(value=0.0, description='Executing', max=18.0, style=ProgressStyle(description_wid…"
      ]
     },
     "metadata": {},
     "output_type": "display_data"
    },
    {
     "name": "stdout",
     "output_type": "stream",
     "text": [
      "\n",
      "2019_02_15__T171_T171-152142\n",
      "Notebook_6_a.ipynb is being executed\n"
     ]
    },
    {
     "data": {
      "application/vnd.jupyter.widget-view+json": {
       "model_id": "d3fd05d253d54911993e8c3eb3acdfd5",
       "version_major": 2,
       "version_minor": 0
      },
      "text/plain": [
       "HBox(children=(FloatProgress(value=0.0, description='Executing', max=12.0, style=ProgressStyle(description_wid…"
      ]
     },
     "metadata": {},
     "output_type": "display_data"
    },
    {
     "name": "stdout",
     "output_type": "stream",
     "text": [
      "\n",
      "2019_02_15__T171_T171-152142\n",
      "Notebook_7_a.ipynb is being executed\n"
     ]
    },
    {
     "data": {
      "application/vnd.jupyter.widget-view+json": {
       "model_id": "accdd895323e4598b51218298f61944a",
       "version_major": 2,
       "version_minor": 0
      },
      "text/plain": [
       "HBox(children=(FloatProgress(value=0.0, description='Executing', max=6.0, style=ProgressStyle(description_widt…"
      ]
     },
     "metadata": {},
     "output_type": "display_data"
    },
    {
     "name": "stdout",
     "output_type": "stream",
     "text": [
      "\n",
      "T171_2019_01_31_Notebook_0_a: This session already exists - no need to re-run ;)\n",
      "T171_2019_01_31_Notebook_1_b: This session already exists - no need to re-run ;)\n",
      "T171_2019_01_31_Notebook_2_a: This session already exists - no need to re-run ;)\n",
      "2019_01_31__T171_T171-153700\n",
      "Notebook_3_c.ipynb is being executed\n"
     ]
    },
    {
     "data": {
      "application/vnd.jupyter.widget-view+json": {
       "model_id": "cb122973aad94f67ab8f5efa5740c078",
       "version_major": 2,
       "version_minor": 0
      },
      "text/plain": [
       "HBox(children=(FloatProgress(value=0.0, description='Executing', max=36.0, style=ProgressStyle(description_wid…"
      ]
     },
     "metadata": {},
     "output_type": "display_data"
    },
    {
     "name": "stdout",
     "output_type": "stream",
     "text": [
      "\n",
      "T171_2019_01_31_Notebook_4_a: This session already exists - no need to re-run ;)\n",
      "T171_2019_01_31_Notebook_4_b: This session already exists - no need to re-run ;)\n",
      "T171_2019_01_31_Notebook_4_c: This session already exists - no need to re-run ;)\n",
      "T171_2019_01_31_Notebook_4_d: This session already exists - no need to re-run ;)\n",
      "2019_01_31__T171_T171-153700\n",
      "Notebook_5_a.ipynb is being executed\n"
     ]
    },
    {
     "data": {
      "application/vnd.jupyter.widget-view+json": {
       "model_id": "df40bdf00d3c46bcbb720ec03f691516",
       "version_major": 2,
       "version_minor": 0
      },
      "text/plain": [
       "HBox(children=(FloatProgress(value=0.0, description='Executing', max=18.0, style=ProgressStyle(description_wid…"
      ]
     },
     "metadata": {},
     "output_type": "display_data"
    },
    {
     "name": "stdout",
     "output_type": "stream",
     "text": [
      "\n",
      "2019_01_31__T171_T171-153700\n",
      "Notebook_6_a.ipynb is being executed\n"
     ]
    },
    {
     "data": {
      "application/vnd.jupyter.widget-view+json": {
       "model_id": "e71703c691af402bb34bfafda20162ce",
       "version_major": 2,
       "version_minor": 0
      },
      "text/plain": [
       "HBox(children=(FloatProgress(value=0.0, description='Executing', max=12.0, style=ProgressStyle(description_wid…"
      ]
     },
     "metadata": {},
     "output_type": "display_data"
    },
    {
     "name": "stdout",
     "output_type": "stream",
     "text": [
      "\n",
      "2019_01_31__T171_T171-153700\n",
      "Notebook_7_a.ipynb is being executed\n"
     ]
    },
    {
     "data": {
      "application/vnd.jupyter.widget-view+json": {
       "model_id": "f212a5f9fc31421c8cfd08977ea8da10",
       "version_major": 2,
       "version_minor": 0
      },
      "text/plain": [
       "HBox(children=(FloatProgress(value=0.0, description='Executing', max=6.0, style=ProgressStyle(description_widt…"
      ]
     },
     "metadata": {},
     "output_type": "display_data"
    },
    {
     "name": "stdout",
     "output_type": "stream",
     "text": [
      "\n",
      "T171_2019_01_30_Notebook_0_a: This session already exists - no need to re-run ;)\n",
      "T171_2019_01_30_Notebook_1_b: This session already exists - no need to re-run ;)\n",
      "T171_2019_01_30_Notebook_2_a: This session already exists - no need to re-run ;)\n",
      "2019_01_30__T171_T171-145252\n",
      "Notebook_3_c.ipynb is being executed\n"
     ]
    },
    {
     "data": {
      "application/vnd.jupyter.widget-view+json": {
       "model_id": "b370bd1ed645415ca8cbed54ede1abde",
       "version_major": 2,
       "version_minor": 0
      },
      "text/plain": [
       "HBox(children=(FloatProgress(value=0.0, description='Executing', max=36.0, style=ProgressStyle(description_wid…"
      ]
     },
     "metadata": {},
     "output_type": "display_data"
    },
    {
     "name": "stdout",
     "output_type": "stream",
     "text": [
      "\n",
      "T171_2019_01_30_Notebook_4_a: This session already exists - no need to re-run ;)\n",
      "T171_2019_01_30_Notebook_4_b: This session already exists - no need to re-run ;)\n",
      "T171_2019_01_30_Notebook_4_c: This session already exists - no need to re-run ;)\n",
      "T171_2019_01_30_Notebook_4_d: This session already exists - no need to re-run ;)\n",
      "2019_01_30__T171_T171-145252\n",
      "Notebook_5_a.ipynb is being executed\n"
     ]
    },
    {
     "data": {
      "application/vnd.jupyter.widget-view+json": {
       "model_id": "f88d1b5f58ab4c18887188c4a48f7623",
       "version_major": 2,
       "version_minor": 0
      },
      "text/plain": [
       "HBox(children=(FloatProgress(value=0.0, description='Executing', max=18.0, style=ProgressStyle(description_wid…"
      ]
     },
     "metadata": {},
     "output_type": "display_data"
    },
    {
     "name": "stdout",
     "output_type": "stream",
     "text": [
      "\n",
      "2019_01_30__T171_T171-145252\n",
      "Notebook_6_a.ipynb is being executed\n"
     ]
    },
    {
     "data": {
      "application/vnd.jupyter.widget-view+json": {
       "model_id": "d25fa50f23fd4208adffae472cf5cd1f",
       "version_major": 2,
       "version_minor": 0
      },
      "text/plain": [
       "HBox(children=(FloatProgress(value=0.0, description='Executing', max=12.0, style=ProgressStyle(description_wid…"
      ]
     },
     "metadata": {},
     "output_type": "display_data"
    },
    {
     "name": "stdout",
     "output_type": "stream",
     "text": [
      "\n",
      "2019_01_30__T171_T171-145252\n",
      "Notebook_7_a.ipynb is being executed\n"
     ]
    },
    {
     "data": {
      "application/vnd.jupyter.widget-view+json": {
       "model_id": "e3cf1e50bb0d4dbfbdd88a9087b7c3d2",
       "version_major": 2,
       "version_minor": 0
      },
      "text/plain": [
       "HBox(children=(FloatProgress(value=0.0, description='Executing', max=6.0, style=ProgressStyle(description_widt…"
      ]
     },
     "metadata": {},
     "output_type": "display_data"
    },
    {
     "name": "stdout",
     "output_type": "stream",
     "text": [
      "\n",
      "T186_2019_03_22_Notebook_0_a: This session already exists - no need to re-run ;)\n",
      "T186_2019_03_22_Notebook_1_b: This session already exists - no need to re-run ;)\n",
      "T186_2019_03_22_Notebook_2_a: This session already exists - no need to re-run ;)\n",
      "2019_03_22__T186_T186-164847\n",
      "Notebook_3_c.ipynb is being executed\n"
     ]
    },
    {
     "data": {
      "application/vnd.jupyter.widget-view+json": {
       "model_id": "d597d2066dd44e41a5e1df03f3acbe1a",
       "version_major": 2,
       "version_minor": 0
      },
      "text/plain": [
       "HBox(children=(FloatProgress(value=0.0, description='Executing', max=36.0, style=ProgressStyle(description_wid…"
      ]
     },
     "metadata": {},
     "output_type": "display_data"
    },
    {
     "name": "stdout",
     "output_type": "stream",
     "text": [
      "\n",
      "T186_2019_03_22_Notebook_4_a: This session already exists - no need to re-run ;)\n",
      "T186_2019_03_22_Notebook_4_b: This session already exists - no need to re-run ;)\n",
      "T186_2019_03_22_Notebook_4_c: This session already exists - no need to re-run ;)\n",
      "T186_2019_03_22_Notebook_4_d: This session already exists - no need to re-run ;)\n",
      "2019_03_22__T186_T186-164847\n",
      "Notebook_5_a.ipynb is being executed\n"
     ]
    },
    {
     "data": {
      "application/vnd.jupyter.widget-view+json": {
       "model_id": "309f61b558fd4324a24233e659bea78d",
       "version_major": 2,
       "version_minor": 0
      },
      "text/plain": [
       "HBox(children=(FloatProgress(value=0.0, description='Executing', max=18.0, style=ProgressStyle(description_wid…"
      ]
     },
     "metadata": {},
     "output_type": "display_data"
    },
    {
     "name": "stdout",
     "output_type": "stream",
     "text": [
      "\n",
      "2019_03_22__T186_T186-164847\n",
      "Notebook_6_a.ipynb is being executed\n"
     ]
    },
    {
     "data": {
      "application/vnd.jupyter.widget-view+json": {
       "model_id": "2a94d5c38563481982b6fccc184df23b",
       "version_major": 2,
       "version_minor": 0
      },
      "text/plain": [
       "HBox(children=(FloatProgress(value=0.0, description='Executing', max=12.0, style=ProgressStyle(description_wid…"
      ]
     },
     "metadata": {},
     "output_type": "display_data"
    },
    {
     "name": "stdout",
     "output_type": "stream",
     "text": [
      "\n",
      "2019_03_22__T186_T186-164847\n",
      "Notebook_7_a.ipynb is being executed\n"
     ]
    },
    {
     "data": {
      "application/vnd.jupyter.widget-view+json": {
       "model_id": "a1aeec898bea488ab1d68c463470dd67",
       "version_major": 2,
       "version_minor": 0
      },
      "text/plain": [
       "HBox(children=(FloatProgress(value=0.0, description='Executing', max=6.0, style=ProgressStyle(description_widt…"
      ]
     },
     "metadata": {},
     "output_type": "display_data"
    },
    {
     "name": "stdout",
     "output_type": "stream",
     "text": [
      "\n",
      "T186_2019_04_01_Notebook_0_a: This session already exists - no need to re-run ;)\n",
      "T186_2019_04_01_Notebook_1_b: This session already exists - no need to re-run ;)\n",
      "T186_2019_04_01_Notebook_2_a: This session already exists - no need to re-run ;)\n",
      "2019_04_01__T186_T186-142719\n",
      "Notebook_3_c.ipynb is being executed\n"
     ]
    },
    {
     "data": {
      "application/vnd.jupyter.widget-view+json": {
       "model_id": "653671b8a752428cb56d8fb15073784d",
       "version_major": 2,
       "version_minor": 0
      },
      "text/plain": [
       "HBox(children=(FloatProgress(value=0.0, description='Executing', max=36.0, style=ProgressStyle(description_wid…"
      ]
     },
     "metadata": {},
     "output_type": "display_data"
    },
    {
     "name": "stdout",
     "output_type": "stream",
     "text": [
      "\n",
      "T186_2019_04_01_Notebook_4_a: This session already exists - no need to re-run ;)\n",
      "T186_2019_04_01_Notebook_4_b: This session already exists - no need to re-run ;)\n",
      "T186_2019_04_01_Notebook_4_c: This session already exists - no need to re-run ;)\n",
      "T186_2019_04_01_Notebook_4_d: This session already exists - no need to re-run ;)\n",
      "2019_04_01__T186_T186-142719\n",
      "Notebook_5_a.ipynb is being executed\n"
     ]
    },
    {
     "data": {
      "application/vnd.jupyter.widget-view+json": {
       "model_id": "82c648864eb84422a7301d07867bad8a",
       "version_major": 2,
       "version_minor": 0
      },
      "text/plain": [
       "HBox(children=(FloatProgress(value=0.0, description='Executing', max=18.0, style=ProgressStyle(description_wid…"
      ]
     },
     "metadata": {},
     "output_type": "display_data"
    },
    {
     "name": "stdout",
     "output_type": "stream",
     "text": [
      "\n",
      "2019_04_01__T186_T186-142719\n",
      "Notebook_6_a.ipynb is being executed\n"
     ]
    },
    {
     "data": {
      "application/vnd.jupyter.widget-view+json": {
       "model_id": "f3673c1fe95846d2b801c3d3e32d1961",
       "version_major": 2,
       "version_minor": 0
      },
      "text/plain": [
       "HBox(children=(FloatProgress(value=0.0, description='Executing', max=12.0, style=ProgressStyle(description_wid…"
      ]
     },
     "metadata": {},
     "output_type": "display_data"
    },
    {
     "name": "stdout",
     "output_type": "stream",
     "text": [
      "\n",
      "2019_04_01__T186_T186-142719\n",
      "Notebook_7_a.ipynb is being executed\n"
     ]
    },
    {
     "data": {
      "application/vnd.jupyter.widget-view+json": {
       "model_id": "2b391088d89445139cb2a606dd2f6e42",
       "version_major": 2,
       "version_minor": 0
      },
      "text/plain": [
       "HBox(children=(FloatProgress(value=0.0, description='Executing', max=6.0, style=ProgressStyle(description_widt…"
      ]
     },
     "metadata": {},
     "output_type": "display_data"
    },
    {
     "name": "stdout",
     "output_type": "stream",
     "text": [
      "\n",
      "T186_2019_03_28_Notebook_0_a: This session already exists - no need to re-run ;)\n",
      "T186_2019_03_28_Notebook_1_b: This session already exists - no need to re-run ;)\n",
      "T186_2019_03_28_Notebook_2_a: This session already exists - no need to re-run ;)\n",
      "2019_03_28__T186_T186-144534\n",
      "Notebook_3_c.ipynb is being executed\n"
     ]
    },
    {
     "data": {
      "application/vnd.jupyter.widget-view+json": {
       "model_id": "1c2e08041eda4424bfeab0aaaa5c99ed",
       "version_major": 2,
       "version_minor": 0
      },
      "text/plain": [
       "HBox(children=(FloatProgress(value=0.0, description='Executing', max=36.0, style=ProgressStyle(description_wid…"
      ]
     },
     "metadata": {},
     "output_type": "display_data"
    },
    {
     "name": "stdout",
     "output_type": "stream",
     "text": [
      "\n",
      "T186_2019_03_28_Notebook_4_a: This session already exists - no need to re-run ;)\n",
      "T186_2019_03_28_Notebook_4_b: This session already exists - no need to re-run ;)\n",
      "T186_2019_03_28_Notebook_4_c: This session already exists - no need to re-run ;)\n",
      "T186_2019_03_28_Notebook_4_d: This session already exists - no need to re-run ;)\n",
      "2019_03_28__T186_T186-144534\n",
      "Notebook_5_a.ipynb is being executed\n"
     ]
    },
    {
     "data": {
      "application/vnd.jupyter.widget-view+json": {
       "model_id": "8685d1378b424ef79c1b5d3a7debd1a4",
       "version_major": 2,
       "version_minor": 0
      },
      "text/plain": [
       "HBox(children=(FloatProgress(value=0.0, description='Executing', max=18.0, style=ProgressStyle(description_wid…"
      ]
     },
     "metadata": {},
     "output_type": "display_data"
    },
    {
     "name": "stdout",
     "output_type": "stream",
     "text": [
      "\n",
      "2019_03_28__T186_T186-144534\n",
      "Notebook_6_a.ipynb is being executed\n"
     ]
    },
    {
     "data": {
      "application/vnd.jupyter.widget-view+json": {
       "model_id": "3bfa0f20b57141f49b8b7e89f0f46b69",
       "version_major": 2,
       "version_minor": 0
      },
      "text/plain": [
       "HBox(children=(FloatProgress(value=0.0, description='Executing', max=12.0, style=ProgressStyle(description_wid…"
      ]
     },
     "metadata": {},
     "output_type": "display_data"
    },
    {
     "name": "stdout",
     "output_type": "stream",
     "text": [
      "\n",
      "2019_03_28__T186_T186-144534\n",
      "Notebook_7_a.ipynb is being executed\n"
     ]
    },
    {
     "data": {
      "application/vnd.jupyter.widget-view+json": {
       "model_id": "327af3a7bc19445a969a236405981935",
       "version_major": 2,
       "version_minor": 0
      },
      "text/plain": [
       "HBox(children=(FloatProgress(value=0.0, description='Executing', max=6.0, style=ProgressStyle(description_widt…"
      ]
     },
     "metadata": {},
     "output_type": "display_data"
    },
    {
     "name": "stdout",
     "output_type": "stream",
     "text": [
      "\n",
      "T186_2019_03_27_Notebook_0_a: This session already exists - no need to re-run ;)\n",
      "T186_2019_03_27_Notebook_1_b: This session already exists - no need to re-run ;)\n",
      "T186_2019_03_27_Notebook_2_a: This session already exists - no need to re-run ;)\n",
      "2019_03_27__T186_T186-150703\n",
      "Notebook_3_c.ipynb is being executed\n"
     ]
    },
    {
     "data": {
      "application/vnd.jupyter.widget-view+json": {
       "model_id": "fd9ed9776bd14fcba52f12628bf4accf",
       "version_major": 2,
       "version_minor": 0
      },
      "text/plain": [
       "HBox(children=(FloatProgress(value=0.0, description='Executing', max=36.0, style=ProgressStyle(description_wid…"
      ]
     },
     "metadata": {},
     "output_type": "display_data"
    },
    {
     "name": "stdout",
     "output_type": "stream",
     "text": [
      "\n",
      "T186_2019_03_27_Notebook_4_a: This session already exists - no need to re-run ;)\n",
      "T186_2019_03_27_Notebook_4_b: This session already exists - no need to re-run ;)\n",
      "T186_2019_03_27_Notebook_4_c: This session already exists - no need to re-run ;)\n",
      "T186_2019_03_27_Notebook_4_d: This session already exists - no need to re-run ;)\n",
      "2019_03_27__T186_T186-150703\n",
      "Notebook_5_a.ipynb is being executed\n"
     ]
    },
    {
     "data": {
      "application/vnd.jupyter.widget-view+json": {
       "model_id": "ae91d2a9c4a9461d9a91ae1f20297a4d",
       "version_major": 2,
       "version_minor": 0
      },
      "text/plain": [
       "HBox(children=(FloatProgress(value=0.0, description='Executing', max=18.0, style=ProgressStyle(description_wid…"
      ]
     },
     "metadata": {},
     "output_type": "display_data"
    },
    {
     "name": "stdout",
     "output_type": "stream",
     "text": [
      "\n",
      "2019_03_27__T186_T186-150703\n",
      "Notebook_6_a.ipynb is being executed\n"
     ]
    },
    {
     "data": {
      "application/vnd.jupyter.widget-view+json": {
       "model_id": "da0b53a699394eebbdf40268bcd1ec0c",
       "version_major": 2,
       "version_minor": 0
      },
      "text/plain": [
       "HBox(children=(FloatProgress(value=0.0, description='Executing', max=12.0, style=ProgressStyle(description_wid…"
      ]
     },
     "metadata": {},
     "output_type": "display_data"
    },
    {
     "name": "stdout",
     "output_type": "stream",
     "text": [
      "\n",
      "2019_03_27__T186_T186-150703\n",
      "Notebook_7_a.ipynb is being executed\n"
     ]
    },
    {
     "data": {
      "application/vnd.jupyter.widget-view+json": {
       "model_id": "7d704f9a39a249a48b9c404955780869",
       "version_major": 2,
       "version_minor": 0
      },
      "text/plain": [
       "HBox(children=(FloatProgress(value=0.0, description='Executing', max=6.0, style=ProgressStyle(description_widt…"
      ]
     },
     "metadata": {},
     "output_type": "display_data"
    },
    {
     "name": "stdout",
     "output_type": "stream",
     "text": [
      "\n",
      "T186_2019_04_02_Notebook_0_a: This session already exists - no need to re-run ;)\n",
      "T186_2019_04_02_Notebook_1_b: This session already exists - no need to re-run ;)\n",
      "T186_2019_04_02_Notebook_2_a: This session already exists - no need to re-run ;)\n",
      "2019_04_02__T186_T186-140234\n",
      "Notebook_3_c.ipynb is being executed\n"
     ]
    },
    {
     "data": {
      "application/vnd.jupyter.widget-view+json": {
       "model_id": "c682d1a980d54636812c1accbff2e034",
       "version_major": 2,
       "version_minor": 0
      },
      "text/plain": [
       "HBox(children=(FloatProgress(value=0.0, description='Executing', max=36.0, style=ProgressStyle(description_wid…"
      ]
     },
     "metadata": {},
     "output_type": "display_data"
    },
    {
     "name": "stdout",
     "output_type": "stream",
     "text": [
      "\n",
      "T186_2019_04_02_Notebook_4_a: This session already exists - no need to re-run ;)\n",
      "T186_2019_04_02_Notebook_4_b: This session already exists - no need to re-run ;)\n",
      "T186_2019_04_02_Notebook_4_c: This session already exists - no need to re-run ;)\n",
      "T186_2019_04_02_Notebook_4_d: This session already exists - no need to re-run ;)\n",
      "2019_04_02__T186_T186-140234\n",
      "Notebook_5_a.ipynb is being executed\n"
     ]
    },
    {
     "data": {
      "application/vnd.jupyter.widget-view+json": {
       "model_id": "f3f9f9e7a4d24ce4b81e964bd5e9c01c",
       "version_major": 2,
       "version_minor": 0
      },
      "text/plain": [
       "HBox(children=(FloatProgress(value=0.0, description='Executing', max=18.0, style=ProgressStyle(description_wid…"
      ]
     },
     "metadata": {},
     "output_type": "display_data"
    },
    {
     "name": "stdout",
     "output_type": "stream",
     "text": [
      "\n",
      "2019_04_02__T186_T186-140234\n",
      "Notebook_6_a.ipynb is being executed\n"
     ]
    },
    {
     "data": {
      "application/vnd.jupyter.widget-view+json": {
       "model_id": "1fdd301d8d8a47f18636fef2e471570c",
       "version_major": 2,
       "version_minor": 0
      },
      "text/plain": [
       "HBox(children=(FloatProgress(value=0.0, description='Executing', max=12.0, style=ProgressStyle(description_wid…"
      ]
     },
     "metadata": {},
     "output_type": "display_data"
    },
    {
     "name": "stdout",
     "output_type": "stream",
     "text": [
      "\n",
      "2019_04_02__T186_T186-140234\n",
      "Notebook_7_a.ipynb is being executed\n"
     ]
    },
    {
     "data": {
      "application/vnd.jupyter.widget-view+json": {
       "model_id": "7349f819dd954e75bceaa71ebfd068dd",
       "version_major": 2,
       "version_minor": 0
      },
      "text/plain": [
       "HBox(children=(FloatProgress(value=0.0, description='Executing', max=6.0, style=ProgressStyle(description_widt…"
      ]
     },
     "metadata": {},
     "output_type": "display_data"
    },
    {
     "name": "stdout",
     "output_type": "stream",
     "text": [
      "\n",
      "T186_2019_04_05_Notebook_0_a: This session already exists - no need to re-run ;)\n",
      "T186_2019_04_05_Notebook_1_b: This session already exists - no need to re-run ;)\n",
      "T186_2019_04_05_Notebook_2_a: This session already exists - no need to re-run ;)\n",
      "2019_04_05__T186_T186-135725\n",
      "Notebook_3_c.ipynb is being executed\n"
     ]
    },
    {
     "data": {
      "application/vnd.jupyter.widget-view+json": {
       "model_id": "a8bc35cb919f47f5af2a78aab8ca349d",
       "version_major": 2,
       "version_minor": 0
      },
      "text/plain": [
       "HBox(children=(FloatProgress(value=0.0, description='Executing', max=36.0, style=ProgressStyle(description_wid…"
      ]
     },
     "metadata": {},
     "output_type": "display_data"
    },
    {
     "name": "stdout",
     "output_type": "stream",
     "text": [
      "\n",
      "T186_2019_04_05_Notebook_4_a: This session already exists - no need to re-run ;)\n",
      "T186_2019_04_05_Notebook_4_b: This session already exists - no need to re-run ;)\n",
      "T186_2019_04_05_Notebook_4_c: This session already exists - no need to re-run ;)\n",
      "T186_2019_04_05_Notebook_4_d: This session already exists - no need to re-run ;)\n",
      "2019_04_05__T186_T186-135725\n",
      "Notebook_5_a.ipynb is being executed\n"
     ]
    },
    {
     "data": {
      "application/vnd.jupyter.widget-view+json": {
       "model_id": "5a769d44fe11469ebd2f6bfa35f6d6c7",
       "version_major": 2,
       "version_minor": 0
      },
      "text/plain": [
       "HBox(children=(FloatProgress(value=0.0, description='Executing', max=18.0, style=ProgressStyle(description_wid…"
      ]
     },
     "metadata": {},
     "output_type": "display_data"
    },
    {
     "name": "stdout",
     "output_type": "stream",
     "text": [
      "\n",
      "2019_04_05__T186_T186-135725\n",
      "Notebook_6_a.ipynb is being executed\n"
     ]
    },
    {
     "data": {
      "application/vnd.jupyter.widget-view+json": {
       "model_id": "63c4ed963fed4e40b9aa2bf843efb067",
       "version_major": 2,
       "version_minor": 0
      },
      "text/plain": [
       "HBox(children=(FloatProgress(value=0.0, description='Executing', max=12.0, style=ProgressStyle(description_wid…"
      ]
     },
     "metadata": {},
     "output_type": "display_data"
    },
    {
     "name": "stdout",
     "output_type": "stream",
     "text": [
      "\n",
      "2019_04_05__T186_T186-135725\n",
      "Notebook_7_a.ipynb is being executed\n"
     ]
    },
    {
     "data": {
      "application/vnd.jupyter.widget-view+json": {
       "model_id": "c566e06ad94e4d66aaacf5fc907b127b",
       "version_major": 2,
       "version_minor": 0
      },
      "text/plain": [
       "HBox(children=(FloatProgress(value=0.0, description='Executing', max=6.0, style=ProgressStyle(description_widt…"
      ]
     },
     "metadata": {},
     "output_type": "display_data"
    },
    {
     "name": "stdout",
     "output_type": "stream",
     "text": [
      "\n",
      "T187_2019_03_22_Notebook_0_a: This session already exists - no need to re-run ;)\n",
      "T187_2019_03_22_Notebook_1_b: This session already exists - no need to re-run ;)\n",
      "T187_2019_03_22_Notebook_2_a: This session already exists - no need to re-run ;)\n",
      "2019_03_22__T187_T187-172139\n",
      "Notebook_3_c.ipynb is being executed\n"
     ]
    },
    {
     "data": {
      "application/vnd.jupyter.widget-view+json": {
       "model_id": "ba8cbbd55abb4330bd9ce69b6191c0f8",
       "version_major": 2,
       "version_minor": 0
      },
      "text/plain": [
       "HBox(children=(FloatProgress(value=0.0, description='Executing', max=36.0, style=ProgressStyle(description_wid…"
      ]
     },
     "metadata": {},
     "output_type": "display_data"
    },
    {
     "name": "stdout",
     "output_type": "stream",
     "text": [
      "\n",
      "T187_2019_03_22_Notebook_4_a: This session already exists - no need to re-run ;)\n",
      "T187_2019_03_22_Notebook_4_b: This session already exists - no need to re-run ;)\n",
      "T187_2019_03_22_Notebook_4_c: This session already exists - no need to re-run ;)\n",
      "T187_2019_03_22_Notebook_4_d: This session already exists - no need to re-run ;)\n",
      "2019_03_22__T187_T187-172139\n",
      "Notebook_5_a.ipynb is being executed\n"
     ]
    },
    {
     "data": {
      "application/vnd.jupyter.widget-view+json": {
       "model_id": "5116ed4c35954848aef437e20080de01",
       "version_major": 2,
       "version_minor": 0
      },
      "text/plain": [
       "HBox(children=(FloatProgress(value=0.0, description='Executing', max=18.0, style=ProgressStyle(description_wid…"
      ]
     },
     "metadata": {},
     "output_type": "display_data"
    },
    {
     "name": "stdout",
     "output_type": "stream",
     "text": [
      "\n",
      "2019_03_22__T187_T187-172139\n",
      "Notebook_6_a.ipynb is being executed\n"
     ]
    },
    {
     "data": {
      "application/vnd.jupyter.widget-view+json": {
       "model_id": "96b95b8de74d4b2fb4373bee4fcdc9b4",
       "version_major": 2,
       "version_minor": 0
      },
      "text/plain": [
       "HBox(children=(FloatProgress(value=0.0, description='Executing', max=12.0, style=ProgressStyle(description_wid…"
      ]
     },
     "metadata": {},
     "output_type": "display_data"
    },
    {
     "name": "stdout",
     "output_type": "stream",
     "text": [
      "\n",
      "2019_03_22__T187_T187-172139\n",
      "Notebook_7_a.ipynb is being executed\n"
     ]
    },
    {
     "data": {
      "application/vnd.jupyter.widget-view+json": {
       "model_id": "9fbefffde42244d6bde3840b767021a7",
       "version_major": 2,
       "version_minor": 0
      },
      "text/plain": [
       "HBox(children=(FloatProgress(value=0.0, description='Executing', max=6.0, style=ProgressStyle(description_widt…"
      ]
     },
     "metadata": {},
     "output_type": "display_data"
    },
    {
     "name": "stdout",
     "output_type": "stream",
     "text": [
      "\n",
      "T187_2019_04_02_Notebook_0_a: This session already exists - no need to re-run ;)\n",
      "T187_2019_04_02_Notebook_1_b: This session already exists - no need to re-run ;)\n",
      "T187_2019_04_02_Notebook_2_a: This session already exists - no need to re-run ;)\n",
      "2019_04_02__T187_T187-142756\n",
      "Notebook_3_c.ipynb is being executed\n"
     ]
    },
    {
     "data": {
      "application/vnd.jupyter.widget-view+json": {
       "model_id": "f42c20a12bb54a71a561b2b78f877669",
       "version_major": 2,
       "version_minor": 0
      },
      "text/plain": [
       "HBox(children=(FloatProgress(value=0.0, description='Executing', max=36.0, style=ProgressStyle(description_wid…"
      ]
     },
     "metadata": {},
     "output_type": "display_data"
    },
    {
     "name": "stdout",
     "output_type": "stream",
     "text": [
      "\n",
      "T187_2019_04_02_Notebook_4_a: This session already exists - no need to re-run ;)\n",
      "T187_2019_04_02_Notebook_4_b: This session already exists - no need to re-run ;)\n",
      "T187_2019_04_02_Notebook_4_c: This session already exists - no need to re-run ;)\n",
      "T187_2019_04_02_Notebook_4_d: This session already exists - no need to re-run ;)\n",
      "2019_04_02__T187_T187-142756\n",
      "Notebook_5_a.ipynb is being executed\n"
     ]
    },
    {
     "data": {
      "application/vnd.jupyter.widget-view+json": {
       "model_id": "d2a012cda9e045e692a06d38284fa509",
       "version_major": 2,
       "version_minor": 0
      },
      "text/plain": [
       "HBox(children=(FloatProgress(value=0.0, description='Executing', max=18.0, style=ProgressStyle(description_wid…"
      ]
     },
     "metadata": {},
     "output_type": "display_data"
    },
    {
     "name": "stdout",
     "output_type": "stream",
     "text": [
      "\n",
      "2019_04_02__T187_T187-142756\n",
      "Notebook_6_a.ipynb is being executed\n"
     ]
    },
    {
     "data": {
      "application/vnd.jupyter.widget-view+json": {
       "model_id": "de593664c6cb416aa14beaabe629c323",
       "version_major": 2,
       "version_minor": 0
      },
      "text/plain": [
       "HBox(children=(FloatProgress(value=0.0, description='Executing', max=12.0, style=ProgressStyle(description_wid…"
      ]
     },
     "metadata": {},
     "output_type": "display_data"
    },
    {
     "name": "stdout",
     "output_type": "stream",
     "text": [
      "\n",
      "2019_04_02__T187_T187-142756\n",
      "Notebook_7_a.ipynb is being executed\n"
     ]
    },
    {
     "data": {
      "application/vnd.jupyter.widget-view+json": {
       "model_id": "1058c1a1343843b4944bdcacdf60decf",
       "version_major": 2,
       "version_minor": 0
      },
      "text/plain": [
       "HBox(children=(FloatProgress(value=0.0, description='Executing', max=6.0, style=ProgressStyle(description_widt…"
      ]
     },
     "metadata": {},
     "output_type": "display_data"
    },
    {
     "name": "stdout",
     "output_type": "stream",
     "text": [
      "\n",
      "T187_2019_03_25_Notebook_0_a: This session already exists - no need to re-run ;)\n",
      "T187_2019_03_25_Notebook_1_b: This session already exists - no need to re-run ;)\n",
      "T187_2019_03_25_Notebook_2_a: This session already exists - no need to re-run ;)\n",
      "2019_03_25__T187_T187-153540\n",
      "Notebook_3_c.ipynb is being executed\n"
     ]
    },
    {
     "data": {
      "application/vnd.jupyter.widget-view+json": {
       "model_id": "d9d911e8775e4eb7b52c9480b624a721",
       "version_major": 2,
       "version_minor": 0
      },
      "text/plain": [
       "HBox(children=(FloatProgress(value=0.0, description='Executing', max=36.0, style=ProgressStyle(description_wid…"
      ]
     },
     "metadata": {},
     "output_type": "display_data"
    },
    {
     "name": "stdout",
     "output_type": "stream",
     "text": [
      "\n",
      "T187_2019_03_25_Notebook_4_a: This session already exists - no need to re-run ;)\n",
      "T187_2019_03_25_Notebook_4_b: This session already exists - no need to re-run ;)\n",
      "T187_2019_03_25_Notebook_4_c: This session already exists - no need to re-run ;)\n",
      "T187_2019_03_25_Notebook_4_d: This session already exists - no need to re-run ;)\n",
      "2019_03_25__T187_T187-153540\n",
      "Notebook_5_a.ipynb is being executed\n"
     ]
    },
    {
     "data": {
      "application/vnd.jupyter.widget-view+json": {
       "model_id": "7acec57d42fe4319950abbddc50c74bd",
       "version_major": 2,
       "version_minor": 0
      },
      "text/plain": [
       "HBox(children=(FloatProgress(value=0.0, description='Executing', max=18.0, style=ProgressStyle(description_wid…"
      ]
     },
     "metadata": {},
     "output_type": "display_data"
    },
    {
     "name": "stdout",
     "output_type": "stream",
     "text": [
      "\n",
      "2019_03_25__T187_T187-153540\n",
      "Notebook_6_a.ipynb is being executed\n"
     ]
    },
    {
     "data": {
      "application/vnd.jupyter.widget-view+json": {
       "model_id": "b5ce766c38ba422bb3f78ff653ecda9c",
       "version_major": 2,
       "version_minor": 0
      },
      "text/plain": [
       "HBox(children=(FloatProgress(value=0.0, description='Executing', max=12.0, style=ProgressStyle(description_wid…"
      ]
     },
     "metadata": {},
     "output_type": "display_data"
    },
    {
     "name": "stdout",
     "output_type": "stream",
     "text": [
      "\n",
      "2019_03_25__T187_T187-153540\n",
      "Notebook_7_a.ipynb is being executed\n"
     ]
    },
    {
     "data": {
      "application/vnd.jupyter.widget-view+json": {
       "model_id": "763899725393462d887afc3a72408760",
       "version_major": 2,
       "version_minor": 0
      },
      "text/plain": [
       "HBox(children=(FloatProgress(value=0.0, description='Executing', max=6.0, style=ProgressStyle(description_widt…"
      ]
     },
     "metadata": {},
     "output_type": "display_data"
    },
    {
     "name": "stdout",
     "output_type": "stream",
     "text": [
      "\n",
      "T187_2019_04_04_Notebook_0_a: This session already exists - no need to re-run ;)\n",
      "T187_2019_04_04_Notebook_1_b: This session already exists - no need to re-run ;)\n",
      "T187_2019_04_04_Notebook_2_a: This session already exists - no need to re-run ;)\n",
      "2019_04_04__T187_T187-142541\n",
      "Notebook_3_c.ipynb is being executed\n"
     ]
    },
    {
     "data": {
      "application/vnd.jupyter.widget-view+json": {
       "model_id": "beb8d58a44dc4b42a3442a975104f9bd",
       "version_major": 2,
       "version_minor": 0
      },
      "text/plain": [
       "HBox(children=(FloatProgress(value=0.0, description='Executing', max=36.0, style=ProgressStyle(description_wid…"
      ]
     },
     "metadata": {},
     "output_type": "display_data"
    },
    {
     "name": "stdout",
     "output_type": "stream",
     "text": [
      "\n",
      "T187_2019_04_04_Notebook_4_a: This session already exists - no need to re-run ;)\n",
      "T187_2019_04_04_Notebook_4_b: This session already exists - no need to re-run ;)\n",
      "T187_2019_04_04_Notebook_4_c: This session already exists - no need to re-run ;)\n",
      "T187_2019_04_04_Notebook_4_d: This session already exists - no need to re-run ;)\n",
      "2019_04_04__T187_T187-142541\n",
      "Notebook_5_a.ipynb is being executed\n"
     ]
    },
    {
     "data": {
      "application/vnd.jupyter.widget-view+json": {
       "model_id": "86ac9707e1874d5ea751055c15460cde",
       "version_major": 2,
       "version_minor": 0
      },
      "text/plain": [
       "HBox(children=(FloatProgress(value=0.0, description='Executing', max=18.0, style=ProgressStyle(description_wid…"
      ]
     },
     "metadata": {},
     "output_type": "display_data"
    },
    {
     "name": "stdout",
     "output_type": "stream",
     "text": [
      "\n",
      "2019_04_04__T187_T187-142541\n",
      "Notebook_6_a.ipynb is being executed\n"
     ]
    },
    {
     "data": {
      "application/vnd.jupyter.widget-view+json": {
       "model_id": "b03a6ae720244fcaabbc65fadd86b625",
       "version_major": 2,
       "version_minor": 0
      },
      "text/plain": [
       "HBox(children=(FloatProgress(value=0.0, description='Executing', max=12.0, style=ProgressStyle(description_wid…"
      ]
     },
     "metadata": {},
     "output_type": "display_data"
    },
    {
     "name": "stdout",
     "output_type": "stream",
     "text": [
      "\n",
      "2019_04_04__T187_T187-142541\n",
      "Notebook_7_a.ipynb is being executed\n"
     ]
    },
    {
     "data": {
      "application/vnd.jupyter.widget-view+json": {
       "model_id": "1aaad5af9fc34b73afff9813cd8d122a",
       "version_major": 2,
       "version_minor": 0
      },
      "text/plain": [
       "HBox(children=(FloatProgress(value=0.0, description='Executing', max=6.0, style=ProgressStyle(description_widt…"
      ]
     },
     "metadata": {},
     "output_type": "display_data"
    },
    {
     "name": "stdout",
     "output_type": "stream",
     "text": [
      "\n",
      "T187_2019_04_01_Notebook_0_a: This session already exists - no need to re-run ;)\n",
      "T187_2019_04_01_Notebook_1_b: This session already exists - no need to re-run ;)\n",
      "T187_2019_04_01_Notebook_2_a: This session already exists - no need to re-run ;)\n",
      "2019_04_01__T187_T187-150132\n",
      "Notebook_3_c.ipynb is being executed\n"
     ]
    },
    {
     "data": {
      "application/vnd.jupyter.widget-view+json": {
       "model_id": "9d439eb1103944b582778fb9544ac41f",
       "version_major": 2,
       "version_minor": 0
      },
      "text/plain": [
       "HBox(children=(FloatProgress(value=0.0, description='Executing', max=36.0, style=ProgressStyle(description_wid…"
      ]
     },
     "metadata": {},
     "output_type": "display_data"
    },
    {
     "name": "stdout",
     "output_type": "stream",
     "text": [
      "\n",
      "T187_2019_04_01_Notebook_4_a: This session already exists - no need to re-run ;)\n",
      "T187_2019_04_01_Notebook_4_b: This session already exists - no need to re-run ;)\n",
      "T187_2019_04_01_Notebook_4_c: This session already exists - no need to re-run ;)\n",
      "T187_2019_04_01_Notebook_4_d: This session already exists - no need to re-run ;)\n",
      "2019_04_01__T187_T187-150132\n",
      "Notebook_5_a.ipynb is being executed\n"
     ]
    },
    {
     "data": {
      "application/vnd.jupyter.widget-view+json": {
       "model_id": "5cb31ab6e39b40c1acf96da9c1db3741",
       "version_major": 2,
       "version_minor": 0
      },
      "text/plain": [
       "HBox(children=(FloatProgress(value=0.0, description='Executing', max=18.0, style=ProgressStyle(description_wid…"
      ]
     },
     "metadata": {},
     "output_type": "display_data"
    },
    {
     "name": "stdout",
     "output_type": "stream",
     "text": [
      "\n",
      "2019_04_01__T187_T187-150132\n",
      "Notebook_6_a.ipynb is being executed\n"
     ]
    },
    {
     "data": {
      "application/vnd.jupyter.widget-view+json": {
       "model_id": "1f47b24456244865bfe0d1e54ad1b812",
       "version_major": 2,
       "version_minor": 0
      },
      "text/plain": [
       "HBox(children=(FloatProgress(value=0.0, description='Executing', max=12.0, style=ProgressStyle(description_wid…"
      ]
     },
     "metadata": {},
     "output_type": "display_data"
    },
    {
     "name": "stdout",
     "output_type": "stream",
     "text": [
      "\n",
      "2019_04_01__T187_T187-150132\n",
      "Notebook_7_a.ipynb is being executed\n"
     ]
    },
    {
     "data": {
      "application/vnd.jupyter.widget-view+json": {
       "model_id": "fbb45b0f1f524d50b15dc673fe58fbc9",
       "version_major": 2,
       "version_minor": 0
      },
      "text/plain": [
       "HBox(children=(FloatProgress(value=0.0, description='Executing', max=6.0, style=ProgressStyle(description_widt…"
      ]
     },
     "metadata": {},
     "output_type": "display_data"
    },
    {
     "name": "stdout",
     "output_type": "stream",
     "text": [
      "\n",
      "T187_2019_03_28_Notebook_0_a: This session already exists - no need to re-run ;)\n",
      "T187_2019_03_28_Notebook_1_b: This session already exists - no need to re-run ;)\n",
      "T187_2019_03_28_Notebook_2_a: This session already exists - no need to re-run ;)\n",
      "2019_03_28__T187_T187-152018\n",
      "Notebook_3_c.ipynb is being executed\n"
     ]
    },
    {
     "data": {
      "application/vnd.jupyter.widget-view+json": {
       "model_id": "58d568e2b40c46baaeca51d70bec7028",
       "version_major": 2,
       "version_minor": 0
      },
      "text/plain": [
       "HBox(children=(FloatProgress(value=0.0, description='Executing', max=36.0, style=ProgressStyle(description_wid…"
      ]
     },
     "metadata": {},
     "output_type": "display_data"
    },
    {
     "name": "stdout",
     "output_type": "stream",
     "text": [
      "\n",
      "T187_2019_03_28_Notebook_4_a: This session already exists - no need to re-run ;)\n",
      "T187_2019_03_28_Notebook_4_b: This session already exists - no need to re-run ;)\n",
      "T187_2019_03_28_Notebook_4_c: This session already exists - no need to re-run ;)\n",
      "T187_2019_03_28_Notebook_4_d: This session already exists - no need to re-run ;)\n",
      "2019_03_28__T187_T187-152018\n",
      "Notebook_5_a.ipynb is being executed\n"
     ]
    },
    {
     "data": {
      "application/vnd.jupyter.widget-view+json": {
       "model_id": "79ff6caeb9db4303a8b9dd70e403aa27",
       "version_major": 2,
       "version_minor": 0
      },
      "text/plain": [
       "HBox(children=(FloatProgress(value=0.0, description='Executing', max=18.0, style=ProgressStyle(description_wid…"
      ]
     },
     "metadata": {},
     "output_type": "display_data"
    },
    {
     "name": "stdout",
     "output_type": "stream",
     "text": [
      "\n",
      "2019_03_28__T187_T187-152018\n",
      "Notebook_6_a.ipynb is being executed\n"
     ]
    },
    {
     "data": {
      "application/vnd.jupyter.widget-view+json": {
       "model_id": "c9920959bce3439db153807256759fbc",
       "version_major": 2,
       "version_minor": 0
      },
      "text/plain": [
       "HBox(children=(FloatProgress(value=0.0, description='Executing', max=12.0, style=ProgressStyle(description_wid…"
      ]
     },
     "metadata": {},
     "output_type": "display_data"
    },
    {
     "name": "stdout",
     "output_type": "stream",
     "text": [
      "\n",
      "2019_03_28__T187_T187-152018\n",
      "Notebook_7_a.ipynb is being executed\n"
     ]
    },
    {
     "data": {
      "application/vnd.jupyter.widget-view+json": {
       "model_id": "852248dd8f3a4f198e91f4ca4b30e05c",
       "version_major": 2,
       "version_minor": 0
      },
      "text/plain": [
       "HBox(children=(FloatProgress(value=0.0, description='Executing', max=6.0, style=ProgressStyle(description_widt…"
      ]
     },
     "metadata": {},
     "output_type": "display_data"
    },
    {
     "name": "stdout",
     "output_type": "stream",
     "text": [
      "\n",
      "T187_2019_04_03_Notebook_0_a: This session already exists - no need to re-run ;)\n",
      "T187_2019_04_03_Notebook_1_b: This session already exists - no need to re-run ;)\n",
      "T187_2019_04_03_Notebook_2_a: This session already exists - no need to re-run ;)\n",
      "2019_04_03__T187_T187-143148\n",
      "Notebook_3_c.ipynb is being executed\n"
     ]
    },
    {
     "data": {
      "application/vnd.jupyter.widget-view+json": {
       "model_id": "ce9365c7ead845c5887bde572e98d74e",
       "version_major": 2,
       "version_minor": 0
      },
      "text/plain": [
       "HBox(children=(FloatProgress(value=0.0, description='Executing', max=36.0, style=ProgressStyle(description_wid…"
      ]
     },
     "metadata": {},
     "output_type": "display_data"
    },
    {
     "name": "stdout",
     "output_type": "stream",
     "text": [
      "\n",
      "T187_2019_04_03_Notebook_4_a: This session already exists - no need to re-run ;)\n",
      "T187_2019_04_03_Notebook_4_b: This session already exists - no need to re-run ;)\n",
      "T187_2019_04_03_Notebook_4_c: This session already exists - no need to re-run ;)\n",
      "T187_2019_04_03_Notebook_4_d: This session already exists - no need to re-run ;)\n",
      "2019_04_03__T187_T187-143148\n",
      "Notebook_5_a.ipynb is being executed\n"
     ]
    },
    {
     "data": {
      "application/vnd.jupyter.widget-view+json": {
       "model_id": "6439b13fbdc8408f9f6e8e59590aad25",
       "version_major": 2,
       "version_minor": 0
      },
      "text/plain": [
       "HBox(children=(FloatProgress(value=0.0, description='Executing', max=18.0, style=ProgressStyle(description_wid…"
      ]
     },
     "metadata": {},
     "output_type": "display_data"
    },
    {
     "name": "stdout",
     "output_type": "stream",
     "text": [
      "\n",
      "2019_04_03__T187_T187-143148\n",
      "Notebook_6_a.ipynb is being executed\n"
     ]
    },
    {
     "data": {
      "application/vnd.jupyter.widget-view+json": {
       "model_id": "f87171a1fb2948fc8950fdb1a5ab479d",
       "version_major": 2,
       "version_minor": 0
      },
      "text/plain": [
       "HBox(children=(FloatProgress(value=0.0, description='Executing', max=12.0, style=ProgressStyle(description_wid…"
      ]
     },
     "metadata": {},
     "output_type": "display_data"
    },
    {
     "name": "stdout",
     "output_type": "stream",
     "text": [
      "\n",
      "2019_04_03__T187_T187-143148\n",
      "Notebook_7_a.ipynb is being executed\n"
     ]
    },
    {
     "data": {
      "application/vnd.jupyter.widget-view+json": {
       "model_id": "6e523c85e5d24905afcb086978331a58",
       "version_major": 2,
       "version_minor": 0
      },
      "text/plain": [
       "HBox(children=(FloatProgress(value=0.0, description='Executing', max=6.0, style=ProgressStyle(description_widt…"
      ]
     },
     "metadata": {},
     "output_type": "display_data"
    },
    {
     "name": "stdout",
     "output_type": "stream",
     "text": [
      "\n"
     ]
    }
   ],
   "source": [
    "# Mouse_Date_FileName: data set we want to run \n",
    "#nb_list: notebooks that we want to run \n",
    "#nb_path: where is the repository that you are running \n",
    "#seq_str: notebooks that we want to run - in code version \n",
    "#dict_for_pm: parameters of the data set \n",
    "ophf.run_dataset (Mouse_Date_FileName,nb_list,nb_path,seq_str,dict_for_pm)"
   ]
  },
  {
   "cell_type": "code",
   "execution_count": null,
   "metadata": {},
   "outputs": [],
   "source": []
  },
  {
   "cell_type": "code",
   "execution_count": null,
   "metadata": {},
   "outputs": [],
   "source": []
  }
 ],
 "metadata": {
  "celltoolbar": "Tags",
  "kernelspec": {
   "display_name": "Python 3",
   "language": "python",
   "name": "python3"
  },
  "language_info": {
   "codemirror_mode": {
    "name": "ipython",
    "version": 3
   },
   "file_extension": ".py",
   "mimetype": "text/x-python",
   "name": "python",
   "nbconvert_exporter": "python",
   "pygments_lexer": "ipython3",
   "version": "3.7.3"
  }
 },
 "nbformat": 4,
 "nbformat_minor": 2
}
