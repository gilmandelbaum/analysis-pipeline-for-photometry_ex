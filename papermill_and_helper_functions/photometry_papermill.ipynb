{
 "cells": [
  {
   "cell_type": "markdown",
   "metadata": {},
   "source": [
    "\n",
    "# Papermill Notebook for photometry"
   ]
  },
  {
   "cell_type": "code",
   "execution_count": 1,
   "metadata": {},
   "outputs": [],
   "source": [
    "import timeit\n",
    "import pandas as pd\n",
    "import numpy as np\n",
    "import os \n",
    "import papermill as pm\n",
    "import getpass\n",
    "import sys"
   ]
  },
  {
   "cell_type": "code",
   "execution_count": 2,
   "metadata": {},
   "outputs": [
    {
     "data": {
      "text/plain": [
       "'/anaconda3/bin/python3'"
      ]
     },
     "execution_count": 2,
     "metadata": {},
     "output_type": "execute_result"
    }
   ],
   "source": [
    "sys.executable"
   ]
  },
  {
   "cell_type": "code",
   "execution_count": 3,
   "metadata": {},
   "outputs": [],
   "source": [
    "import photometry_papermill_helper_functions as ophf "
   ]
  },
  {
   "cell_type": "markdown",
   "metadata": {},
   "source": [
    "# input and output path: (user specific)"
   ]
  },
  {
   "cell_type": "code",
   "execution_count": 4,
   "metadata": {},
   "outputs": [],
   "source": [
    "#data_dir_input = \"/Users/gilmandelbaum/Desktop/T240_mouse\"\n",
    "#data_dir_output = \"/Users/gilmandelbaum/Desktop/output/\"\n",
    "\n",
    "data_dir_input = \"/Volumes/GilInVivoPaper.large/2.Photometry_in_str/raw_data_final\"\n",
    "data_dir_output = \"/Volumes/GilInVivoPaper.large/2.Photometry_in_str/2.raw_data_final_output_new_version/\"\n"
   ]
  },
  {
   "cell_type": "markdown",
   "metadata": {},
   "source": [
    "# name of xlsx sheet to import with the data set info: "
   ]
  },
  {
   "cell_type": "code",
   "execution_count": 5,
   "metadata": {},
   "outputs": [],
   "source": [
    "#this xlsx sheet should be in the data_dir_input"
   ]
  },
  {
   "cell_type": "code",
   "execution_count": 6,
   "metadata": {},
   "outputs": [],
   "source": [
    "#name of xlsx file that has the sessions we want to run: \n",
    "MasterSheetName= 'dual_color_photo_master_spread_sheet'"
   ]
  },
  {
   "cell_type": "code",
   "execution_count": 7,
   "metadata": {},
   "outputs": [],
   "source": [
    "#loading the xlsx file \n",
    "Mouse_Date_FileName = pd.read_excel(data_dir_input+'/'+MasterSheetName+'.xlsx') #mdf is mouse data file "
   ]
  },
  {
   "cell_type": "code",
   "execution_count": 8,
   "metadata": {
    "scrolled": true
   },
   "outputs": [
    {
     "data": {
      "text/html": [
       "<div>\n",
       "<style scoped>\n",
       "    .dataframe tbody tr th:only-of-type {\n",
       "        vertical-align: middle;\n",
       "    }\n",
       "\n",
       "    .dataframe tbody tr th {\n",
       "        vertical-align: top;\n",
       "    }\n",
       "\n",
       "    .dataframe thead th {\n",
       "        text-align: right;\n",
       "    }\n",
       "</style>\n",
       "<table border=\"1\" class=\"dataframe\">\n",
       "  <thead>\n",
       "    <tr style=\"text-align: right;\">\n",
       "      <th></th>\n",
       "      <th>Mouse</th>\n",
       "      <th>Date</th>\n",
       "      <th>File name</th>\n",
       "    </tr>\n",
       "  </thead>\n",
       "  <tbody>\n",
       "    <tr>\n",
       "      <th>0</th>\n",
       "      <td>T163</td>\n",
       "      <td>181128</td>\n",
       "      <td>T163-115220</td>\n",
       "    </tr>\n",
       "    <tr>\n",
       "      <th>1</th>\n",
       "      <td>T163</td>\n",
       "      <td>181130</td>\n",
       "      <td>T163-133215</td>\n",
       "    </tr>\n",
       "    <tr>\n",
       "      <th>2</th>\n",
       "      <td>T163</td>\n",
       "      <td>181203</td>\n",
       "      <td>T163-115901</td>\n",
       "    </tr>\n",
       "    <tr>\n",
       "      <th>3</th>\n",
       "      <td>T163</td>\n",
       "      <td>181204</td>\n",
       "      <td>T163-114628</td>\n",
       "    </tr>\n",
       "    <tr>\n",
       "      <th>4</th>\n",
       "      <td>T163</td>\n",
       "      <td>181206</td>\n",
       "      <td>T163-112720</td>\n",
       "    </tr>\n",
       "    <tr>\n",
       "      <th>5</th>\n",
       "      <td>T163</td>\n",
       "      <td>181207</td>\n",
       "      <td>T163-123432</td>\n",
       "    </tr>\n",
       "    <tr>\n",
       "      <th>6</th>\n",
       "      <td>T163</td>\n",
       "      <td>181210</td>\n",
       "      <td>T163-102536</td>\n",
       "    </tr>\n",
       "    <tr>\n",
       "      <th>7</th>\n",
       "      <td>T163</td>\n",
       "      <td>181213</td>\n",
       "      <td>T163-094646</td>\n",
       "    </tr>\n",
       "    <tr>\n",
       "      <th>8</th>\n",
       "      <td>T164</td>\n",
       "      <td>181127</td>\n",
       "      <td>T164-153101</td>\n",
       "    </tr>\n",
       "    <tr>\n",
       "      <th>9</th>\n",
       "      <td>T164</td>\n",
       "      <td>181128</td>\n",
       "      <td>T164-122054</td>\n",
       "    </tr>\n",
       "    <tr>\n",
       "      <th>10</th>\n",
       "      <td>T164</td>\n",
       "      <td>181204</td>\n",
       "      <td>T164-121548</td>\n",
       "    </tr>\n",
       "    <tr>\n",
       "      <th>11</th>\n",
       "      <td>T164</td>\n",
       "      <td>181205</td>\n",
       "      <td>T164-123550</td>\n",
       "    </tr>\n",
       "    <tr>\n",
       "      <th>12</th>\n",
       "      <td>T164</td>\n",
       "      <td>181210</td>\n",
       "      <td>T164-105324</td>\n",
       "    </tr>\n",
       "    <tr>\n",
       "      <th>13</th>\n",
       "      <td>T164</td>\n",
       "      <td>181213</td>\n",
       "      <td>T164-101804</td>\n",
       "    </tr>\n",
       "    <tr>\n",
       "      <th>14</th>\n",
       "      <td>T169</td>\n",
       "      <td>190201</td>\n",
       "      <td>T169-141602</td>\n",
       "    </tr>\n",
       "    <tr>\n",
       "      <th>15</th>\n",
       "      <td>T169</td>\n",
       "      <td>190212</td>\n",
       "      <td>T169-145045</td>\n",
       "    </tr>\n",
       "    <tr>\n",
       "      <th>16</th>\n",
       "      <td>T169</td>\n",
       "      <td>190213</td>\n",
       "      <td>T169-141800</td>\n",
       "    </tr>\n",
       "    <tr>\n",
       "      <th>17</th>\n",
       "      <td>T169</td>\n",
       "      <td>190219</td>\n",
       "      <td>T169-140515</td>\n",
       "    </tr>\n",
       "    <tr>\n",
       "      <th>18</th>\n",
       "      <td>T169</td>\n",
       "      <td>190220</td>\n",
       "      <td>T169-141850</td>\n",
       "    </tr>\n",
       "    <tr>\n",
       "      <th>19</th>\n",
       "      <td>T169</td>\n",
       "      <td>190222</td>\n",
       "      <td>T169-134725</td>\n",
       "    </tr>\n",
       "    <tr>\n",
       "      <th>20</th>\n",
       "      <td>T169</td>\n",
       "      <td>190225</td>\n",
       "      <td>T169-145248</td>\n",
       "    </tr>\n",
       "    <tr>\n",
       "      <th>21</th>\n",
       "      <td>T169</td>\n",
       "      <td>190227</td>\n",
       "      <td>T169-155731</td>\n",
       "    </tr>\n",
       "    <tr>\n",
       "      <th>22</th>\n",
       "      <td>T169</td>\n",
       "      <td>190228</td>\n",
       "      <td>T169-142051</td>\n",
       "    </tr>\n",
       "    <tr>\n",
       "      <th>23</th>\n",
       "      <td>T171</td>\n",
       "      <td>190122</td>\n",
       "      <td>T171-165215</td>\n",
       "    </tr>\n",
       "    <tr>\n",
       "      <th>24</th>\n",
       "      <td>T171</td>\n",
       "      <td>190128</td>\n",
       "      <td>T171-144901</td>\n",
       "    </tr>\n",
       "    <tr>\n",
       "      <th>25</th>\n",
       "      <td>T171</td>\n",
       "      <td>190130</td>\n",
       "      <td>T171-145252</td>\n",
       "    </tr>\n",
       "    <tr>\n",
       "      <th>26</th>\n",
       "      <td>T171</td>\n",
       "      <td>190211</td>\n",
       "      <td>T171-143016</td>\n",
       "    </tr>\n",
       "    <tr>\n",
       "      <th>27</th>\n",
       "      <td>T171</td>\n",
       "      <td>190220</td>\n",
       "      <td>T171-153511</td>\n",
       "    </tr>\n",
       "    <tr>\n",
       "      <th>28</th>\n",
       "      <td>T171</td>\n",
       "      <td>190221</td>\n",
       "      <td>T171-152107</td>\n",
       "    </tr>\n",
       "    <tr>\n",
       "      <th>29</th>\n",
       "      <td>T171</td>\n",
       "      <td>190225</td>\n",
       "      <td>T171-152054</td>\n",
       "    </tr>\n",
       "    <tr>\n",
       "      <th>30</th>\n",
       "      <td>T171</td>\n",
       "      <td>190226</td>\n",
       "      <td>T171-145215</td>\n",
       "    </tr>\n",
       "    <tr>\n",
       "      <th>31</th>\n",
       "      <td>T171</td>\n",
       "      <td>190227</td>\n",
       "      <td>T171-162455</td>\n",
       "    </tr>\n",
       "    <tr>\n",
       "      <th>32</th>\n",
       "      <td>T186</td>\n",
       "      <td>190322</td>\n",
       "      <td>T186-164847</td>\n",
       "    </tr>\n",
       "    <tr>\n",
       "      <th>33</th>\n",
       "      <td>T186</td>\n",
       "      <td>190327</td>\n",
       "      <td>T186-150703</td>\n",
       "    </tr>\n",
       "    <tr>\n",
       "      <th>34</th>\n",
       "      <td>T186</td>\n",
       "      <td>190328</td>\n",
       "      <td>T186-144534</td>\n",
       "    </tr>\n",
       "    <tr>\n",
       "      <th>35</th>\n",
       "      <td>T186</td>\n",
       "      <td>190401</td>\n",
       "      <td>T186-142719</td>\n",
       "    </tr>\n",
       "    <tr>\n",
       "      <th>36</th>\n",
       "      <td>T186</td>\n",
       "      <td>190402</td>\n",
       "      <td>T186-140234</td>\n",
       "    </tr>\n",
       "    <tr>\n",
       "      <th>37</th>\n",
       "      <td>T186</td>\n",
       "      <td>190405</td>\n",
       "      <td>T186-135725</td>\n",
       "    </tr>\n",
       "    <tr>\n",
       "      <th>38</th>\n",
       "      <td>T187</td>\n",
       "      <td>190322</td>\n",
       "      <td>T187-172139</td>\n",
       "    </tr>\n",
       "    <tr>\n",
       "      <th>39</th>\n",
       "      <td>T187</td>\n",
       "      <td>190325</td>\n",
       "      <td>T187-153540</td>\n",
       "    </tr>\n",
       "    <tr>\n",
       "      <th>40</th>\n",
       "      <td>T187</td>\n",
       "      <td>190328</td>\n",
       "      <td>T187-152018</td>\n",
       "    </tr>\n",
       "    <tr>\n",
       "      <th>41</th>\n",
       "      <td>T187</td>\n",
       "      <td>190401</td>\n",
       "      <td>T187-150132</td>\n",
       "    </tr>\n",
       "    <tr>\n",
       "      <th>42</th>\n",
       "      <td>T187</td>\n",
       "      <td>190402</td>\n",
       "      <td>T187-142756</td>\n",
       "    </tr>\n",
       "    <tr>\n",
       "      <th>43</th>\n",
       "      <td>T187</td>\n",
       "      <td>190403</td>\n",
       "      <td>T187-143148</td>\n",
       "    </tr>\n",
       "    <tr>\n",
       "      <th>44</th>\n",
       "      <td>T187</td>\n",
       "      <td>190404</td>\n",
       "      <td>T187-142541</td>\n",
       "    </tr>\n",
       "    <tr>\n",
       "      <th>45</th>\n",
       "      <td>T196</td>\n",
       "      <td>190422</td>\n",
       "      <td>T196-172239</td>\n",
       "    </tr>\n",
       "    <tr>\n",
       "      <th>46</th>\n",
       "      <td>T196</td>\n",
       "      <td>190424</td>\n",
       "      <td>T196-170637</td>\n",
       "    </tr>\n",
       "    <tr>\n",
       "      <th>47</th>\n",
       "      <td>T196</td>\n",
       "      <td>190429</td>\n",
       "      <td>T196-151455</td>\n",
       "    </tr>\n",
       "    <tr>\n",
       "      <th>48</th>\n",
       "      <td>T196</td>\n",
       "      <td>190430</td>\n",
       "      <td>T196-145937</td>\n",
       "    </tr>\n",
       "    <tr>\n",
       "      <th>49</th>\n",
       "      <td>T196</td>\n",
       "      <td>190507</td>\n",
       "      <td>T196-144204</td>\n",
       "    </tr>\n",
       "    <tr>\n",
       "      <th>50</th>\n",
       "      <td>T196</td>\n",
       "      <td>190509</td>\n",
       "      <td>T196-144508</td>\n",
       "    </tr>\n",
       "    <tr>\n",
       "      <th>51</th>\n",
       "      <td>T240</td>\n",
       "      <td>190821</td>\n",
       "      <td>T240-144433</td>\n",
       "    </tr>\n",
       "    <tr>\n",
       "      <th>52</th>\n",
       "      <td>T240</td>\n",
       "      <td>190822</td>\n",
       "      <td>T240-142317</td>\n",
       "    </tr>\n",
       "    <tr>\n",
       "      <th>53</th>\n",
       "      <td>T240</td>\n",
       "      <td>190827</td>\n",
       "      <td>T240-141253</td>\n",
       "    </tr>\n",
       "    <tr>\n",
       "      <th>54</th>\n",
       "      <td>T240</td>\n",
       "      <td>190830</td>\n",
       "      <td>T240-142919</td>\n",
       "    </tr>\n",
       "    <tr>\n",
       "      <th>55</th>\n",
       "      <td>T240</td>\n",
       "      <td>190913</td>\n",
       "      <td>T240-144701</td>\n",
       "    </tr>\n",
       "    <tr>\n",
       "      <th>56</th>\n",
       "      <td>T240</td>\n",
       "      <td>190927</td>\n",
       "      <td>T240-145905</td>\n",
       "    </tr>\n",
       "  </tbody>\n",
       "</table>\n",
       "</div>"
      ],
      "text/plain": [
       "   Mouse    Date    File name\n",
       "0   T163  181128  T163-115220\n",
       "1   T163  181130  T163-133215\n",
       "2   T163  181203  T163-115901\n",
       "3   T163  181204  T163-114628\n",
       "4   T163  181206  T163-112720\n",
       "5   T163  181207  T163-123432\n",
       "6   T163  181210  T163-102536\n",
       "7   T163  181213  T163-094646\n",
       "8   T164  181127  T164-153101\n",
       "9   T164  181128  T164-122054\n",
       "10  T164  181204  T164-121548\n",
       "11  T164  181205  T164-123550\n",
       "12  T164  181210  T164-105324\n",
       "13  T164  181213  T164-101804\n",
       "14  T169  190201  T169-141602\n",
       "15  T169  190212  T169-145045\n",
       "16  T169  190213  T169-141800\n",
       "17  T169  190219  T169-140515\n",
       "18  T169  190220  T169-141850\n",
       "19  T169  190222  T169-134725\n",
       "20  T169  190225  T169-145248\n",
       "21  T169  190227  T169-155731\n",
       "22  T169  190228  T169-142051\n",
       "23  T171  190122  T171-165215\n",
       "24  T171  190128  T171-144901\n",
       "25  T171  190130  T171-145252\n",
       "26  T171  190211  T171-143016\n",
       "27  T171  190220  T171-153511\n",
       "28  T171  190221  T171-152107\n",
       "29  T171  190225  T171-152054\n",
       "30  T171  190226  T171-145215\n",
       "31  T171  190227  T171-162455\n",
       "32  T186  190322  T186-164847\n",
       "33  T186  190327  T186-150703\n",
       "34  T186  190328  T186-144534\n",
       "35  T186  190401  T186-142719\n",
       "36  T186  190402  T186-140234\n",
       "37  T186  190405  T186-135725\n",
       "38  T187  190322  T187-172139\n",
       "39  T187  190325  T187-153540\n",
       "40  T187  190328  T187-152018\n",
       "41  T187  190401  T187-150132\n",
       "42  T187  190402  T187-142756\n",
       "43  T187  190403  T187-143148\n",
       "44  T187  190404  T187-142541\n",
       "45  T196  190422  T196-172239\n",
       "46  T196  190424  T196-170637\n",
       "47  T196  190429  T196-151455\n",
       "48  T196  190430  T196-145937\n",
       "49  T196  190507  T196-144204\n",
       "50  T196  190509  T196-144508\n",
       "51  T240  190821  T240-144433\n",
       "52  T240  190822  T240-142317\n",
       "53  T240  190827  T240-141253\n",
       "54  T240  190830  T240-142919\n",
       "55  T240  190913  T240-144701\n",
       "56  T240  190927  T240-145905"
      ]
     },
     "execution_count": 8,
     "metadata": {},
     "output_type": "execute_result"
    }
   ],
   "source": [
    "Mouse_Date_FileName"
   ]
  },
  {
   "cell_type": "markdown",
   "metadata": {},
   "source": [
    "# use this if running the notebooks from local github folder"
   ]
  },
  {
   "cell_type": "markdown",
   "metadata": {},
   "source": [
    "### if not - define a path to where the repository is at"
   ]
  },
  {
   "cell_type": "code",
   "execution_count": 9,
   "metadata": {},
   "outputs": [
    {
     "name": "stdout",
     "output_type": "stream",
     "text": [
      "gilmandelbaum\n"
     ]
    }
   ],
   "source": [
    "#add the github path that will run the notebooks: \n",
    "username = getpass.getuser() # gets the username from the current comp \n",
    "print (username)"
   ]
  },
  {
   "cell_type": "code",
   "execution_count": 10,
   "metadata": {},
   "outputs": [
    {
     "data": {
      "text/plain": [
       "'/Users/gilmandelbaum/github/analysis-pipeline-for-photometry_ex/'"
      ]
     },
     "execution_count": 10,
     "metadata": {},
     "output_type": "execute_result"
    }
   ],
   "source": [
    "sys.path.append('/Users/{:}/github/analysis-pipeline-for-photometry_ex/'.format(username))\n",
    "nb_path = sys.path[-1]\n",
    "nb_path"
   ]
  },
  {
   "cell_type": "markdown",
   "metadata": {},
   "source": [
    "# parameters to change:"
   ]
  },
  {
   "cell_type": "code",
   "execution_count": 11,
   "metadata": {},
   "outputs": [],
   "source": [
    "#analysis parameters for whole data set:  \n",
    "drop2blocks= 'yes'\n",
    "drop2lastblocks=\"yes\"\n",
    "HowManyBack = 1\n",
    "\n",
    "#for notebook 5: \n",
    "Tags = ['Reward_NoReward_tag', 'ENL_tag', 'Cue_to_Sel_tag', \"Cue_to_Sel_fromPrevTrial_tag\",\"firstENLp_tag\"]  \n",
    "Timing = [600,200,15,15,20]\n",
    "Start_or_end = ['start','end','start','start','start']\n",
    "\n",
    "y_axis_list = [\"df_f\",\"z_score\",\"z_score_sliding_window\"]"
   ]
  },
  {
   "cell_type": "markdown",
   "metadata": {},
   "source": [
    "# parameters to change:"
   ]
  },
  {
   "cell_type": "code",
   "execution_count": 12,
   "metadata": {},
   "outputs": [],
   "source": [
    "#Versions for each notebook: \n",
    "#NOTE: if one notebook no need for list. see 6 as an example. \n",
    "\n",
    "Nb0='a'\n",
    "Nb1= 'a'\n",
    "Nb2= 'a'\n",
    "Nb3= 'c'\n",
    "Nb4= ['a','b','c','d','e'] #can be a list \n",
    "Nb5= 'a'\n",
    "Nb6= 'a' #can be a list \n",
    "#Nb6= ['a',\"b\"] #can be a list \n",
    "Nb7= 'b'"
   ]
  },
  {
   "cell_type": "code",
   "execution_count": 13,
   "metadata": {},
   "outputs": [],
   "source": [
    "List_of_versions =[Nb0,Nb1,Nb2,Nb3,Nb4,Nb5,Nb6,Nb7]\n",
    "List_of_versions_str =[\"Nb0\",\"Nb1\",\"Nb2\",\"Nb3\",\"Nb4\",\"Nb5\",\"Nb6\",\"Nb7\"]\n",
    "notebook_sequence_list = [0,1,2,3,4,5,6,7]"
   ]
  },
  {
   "cell_type": "code",
   "execution_count": null,
   "metadata": {},
   "outputs": [],
   "source": []
  },
  {
   "cell_type": "code",
   "execution_count": 14,
   "metadata": {},
   "outputs": [
    {
     "data": {
      "text/plain": [
       "['Nb0_a',\n",
       " 'Nb1_a',\n",
       " 'Nb2_a',\n",
       " 'Nb3_c',\n",
       " 'Nb4_a',\n",
       " 'Nb4_b',\n",
       " 'Nb4_c',\n",
       " 'Nb4_d',\n",
       " 'Nb4_e',\n",
       " 'Nb5_a',\n",
       " 'Nb6_a',\n",
       " 'Nb7_b']"
      ]
     },
     "execution_count": 14,
     "metadata": {},
     "output_type": "execute_result"
    }
   ],
   "source": [
    "nb_list = ophf.make_nb_list(List_of_versions,List_of_versions_str)\n",
    "nb_list"
   ]
  },
  {
   "cell_type": "code",
   "execution_count": 15,
   "metadata": {},
   "outputs": [
    {
     "name": "stdout",
     "output_type": "stream",
     "text": [
      "seq0a1a2a3c4abcde5a6a7b will be used\n"
     ]
    }
   ],
   "source": [
    "seq_str = ophf.make_sequence_string(notebook_sequence_list, List_of_versions)"
   ]
  },
  {
   "cell_type": "markdown",
   "metadata": {},
   "source": [
    "# run the cell below (no need to make any changes)"
   ]
  },
  {
   "cell_type": "code",
   "execution_count": 16,
   "metadata": {},
   "outputs": [],
   "source": [
    "#parameters that were defined above and will carry on for the whole analysis. \n",
    "dict_for_pm = dict(data_dir_input=data_dir_input,\n",
    "                   data_dir_output=data_dir_output,\n",
    "                   drop2blocks= drop2blocks,\n",
    "                   drop2lastblocks=drop2blocks,\n",
    "                   seq_str= seq_str, \n",
    "                   HowManyBack = HowManyBack, \n",
    "                   Nb0=Nb0, Nb1=Nb1, Nb2=Nb2, Nb3=Nb3,\n",
    "                   Nb4=Nb4, Nb5=Nb5,Nb6=Nb6,Nb7=Nb7,\n",
    "                   Tags=Tags, \n",
    "                   Timing = Timing,\n",
    "                   Start_or_end=Start_or_end,\n",
    "                   y_axis_list=y_axis_list)"
   ]
  },
  {
   "cell_type": "code",
   "execution_count": null,
   "metadata": {},
   "outputs": [],
   "source": []
  },
  {
   "cell_type": "code",
   "execution_count": 17,
   "metadata": {
    "scrolled": true
   },
   "outputs": [
    {
     "name": "stdout",
     "output_type": "stream",
     "text": [
      "T163_2018_11_28_Notebook_0_a: This session already exists - no need to re-run ;)\n",
      "T163_2018_11_28_Notebook_1_a: This session already exists - no need to re-run ;)\n",
      "T163_2018_11_28_Notebook_2_a: This session already exists - no need to re-run ;)\n",
      "T163_2018_11_28_Notebook_3_c: This session already exists - no need to re-run ;)\n",
      "T163_2018_11_28_Notebook_4_a: This session already exists - no need to re-run ;)\n",
      "T163_2018_11_28_Notebook_4_b: This session already exists - no need to re-run ;)\n",
      "T163_2018_11_28_Notebook_4_c: This session already exists - no need to re-run ;)\n",
      "T163_2018_11_28_Notebook_4_d: This session already exists - no need to re-run ;)\n",
      "T163_2018_11_28_Notebook_4_e: This session already exists - no need to re-run ;)\n",
      "T163_2018_11_28_Notebook_5_a_seq0a1a2a3c4abcde5a: This session already exists - no need to re-run ;)\n",
      "T163_2018_11_28_Notebook_6_a_seq0a1a2a3c4abcde5a6a: This session already exists - no need to re-run ;)\n",
      "T163_2018_11_28_Notebook_7_b_seq0a1a2a3c4abcde5a6a7b: This session already exists - no need to re-run ;)\n",
      "T163_2018_11_30_Notebook_0_a: This session already exists - no need to re-run ;)\n",
      "T163_2018_11_30_Notebook_1_a: This session already exists - no need to re-run ;)\n",
      "T163_2018_11_30_Notebook_2_a: This session already exists - no need to re-run ;)\n",
      "T163_2018_11_30_Notebook_3_c: This session already exists - no need to re-run ;)\n",
      "T163_2018_11_30_Notebook_4_a: This session already exists - no need to re-run ;)\n",
      "T163_2018_11_30_Notebook_4_b: This session already exists - no need to re-run ;)\n",
      "T163_2018_11_30_Notebook_4_c: This session already exists - no need to re-run ;)\n",
      "T163_2018_11_30_Notebook_4_d: This session already exists - no need to re-run ;)\n",
      "T163_2018_11_30_Notebook_4_e: This session already exists - no need to re-run ;)\n",
      "T163_2018_11_30_Notebook_5_a_seq0a1a2a3c4abcde5a: This session already exists - no need to re-run ;)\n",
      "T163_2018_11_30_Notebook_6_a_seq0a1a2a3c4abcde5a6a: This session already exists - no need to re-run ;)\n",
      "T163_2018_11_30_Notebook_7_b_seq0a1a2a3c4abcde5a6a7b: This session already exists - no need to re-run ;)\n",
      "T163_2018_12_03_Notebook_0_a: This session already exists - no need to re-run ;)\n",
      "T163_2018_12_03_Notebook_1_a: This session already exists - no need to re-run ;)\n",
      "T163_2018_12_03_Notebook_2_a: This session already exists - no need to re-run ;)\n",
      "T163_2018_12_03_Notebook_3_c: This session already exists - no need to re-run ;)\n",
      "T163_2018_12_03_Notebook_4_a: This session already exists - no need to re-run ;)\n",
      "T163_2018_12_03_Notebook_4_b: This session already exists - no need to re-run ;)\n",
      "T163_2018_12_03_Notebook_4_c: This session already exists - no need to re-run ;)\n",
      "T163_2018_12_03_Notebook_4_d: This session already exists - no need to re-run ;)\n",
      "T163_2018_12_03_Notebook_4_e: This session already exists - no need to re-run ;)\n",
      "T163_2018_12_03_Notebook_5_a_seq0a1a2a3c4abcde5a: This session already exists - no need to re-run ;)\n",
      "T163_2018_12_03_Notebook_6_a_seq0a1a2a3c4abcde5a6a: This session already exists - no need to re-run ;)\n",
      "T163_2018_12_03_Notebook_7_b_seq0a1a2a3c4abcde5a6a7b: This session already exists - no need to re-run ;)\n",
      "T163_2018_12_04_Notebook_0_a: This session already exists - no need to re-run ;)\n",
      "T163_2018_12_04_Notebook_1_a: This session already exists - no need to re-run ;)\n",
      "T163_2018_12_04_Notebook_2_a: This session already exists - no need to re-run ;)\n",
      "T163_2018_12_04_Notebook_3_c: This session already exists - no need to re-run ;)\n",
      "T163_2018_12_04_Notebook_4_a: This session already exists - no need to re-run ;)\n",
      "T163_2018_12_04_Notebook_4_b: This session already exists - no need to re-run ;)\n",
      "T163_2018_12_04_Notebook_4_c: This session already exists - no need to re-run ;)\n",
      "T163_2018_12_04_Notebook_4_d: This session already exists - no need to re-run ;)\n",
      "T163_2018_12_04_Notebook_4_e: This session already exists - no need to re-run ;)\n",
      "T163_2018_12_04_Notebook_5_a_seq0a1a2a3c4abcde5a: This session already exists - no need to re-run ;)\n",
      "T163_2018_12_04_Notebook_6_a_seq0a1a2a3c4abcde5a6a: This session already exists - no need to re-run ;)\n",
      "T163_2018_12_04_Notebook_7_b_seq0a1a2a3c4abcde5a6a7b: This session already exists - no need to re-run ;)\n",
      "T163_2018_12_06_Notebook_0_a: This session already exists - no need to re-run ;)\n",
      "T163_2018_12_06_Notebook_1_a: This session already exists - no need to re-run ;)\n",
      "T163_2018_12_06_Notebook_2_a: This session already exists - no need to re-run ;)\n",
      "T163_2018_12_06_Notebook_3_c: This session already exists - no need to re-run ;)\n",
      "T163_2018_12_06_Notebook_4_a: This session already exists - no need to re-run ;)\n",
      "T163_2018_12_06_Notebook_4_b: This session already exists - no need to re-run ;)\n",
      "T163_2018_12_06_Notebook_4_c: This session already exists - no need to re-run ;)\n",
      "T163_2018_12_06_Notebook_4_d: This session already exists - no need to re-run ;)\n",
      "T163_2018_12_06_Notebook_4_e: This session already exists - no need to re-run ;)\n",
      "T163_2018_12_06_Notebook_5_a_seq0a1a2a3c4abcde5a: This session already exists - no need to re-run ;)\n",
      "T163_2018_12_06_Notebook_6_a_seq0a1a2a3c4abcde5a6a: This session already exists - no need to re-run ;)\n",
      "T163_2018_12_06_Notebook_7_b_seq0a1a2a3c4abcde5a6a7b: This session already exists - no need to re-run ;)\n",
      "T163_2018_12_07_Notebook_0_a: This session already exists - no need to re-run ;)\n",
      "T163_2018_12_07_Notebook_1_a: This session already exists - no need to re-run ;)\n",
      "T163_2018_12_07_Notebook_2_a: This session already exists - no need to re-run ;)\n",
      "T163_2018_12_07_Notebook_3_c: This session already exists - no need to re-run ;)\n",
      "T163_2018_12_07_Notebook_4_a: This session already exists - no need to re-run ;)\n",
      "T163_2018_12_07_Notebook_4_b: This session already exists - no need to re-run ;)\n",
      "T163_2018_12_07_Notebook_4_c: This session already exists - no need to re-run ;)\n",
      "T163_2018_12_07_Notebook_4_d: This session already exists - no need to re-run ;)\n",
      "T163_2018_12_07_Notebook_4_e: This session already exists - no need to re-run ;)\n",
      "T163_2018_12_07_Notebook_5_a_seq0a1a2a3c4abcde5a: This session already exists - no need to re-run ;)\n",
      "T163_2018_12_07_Notebook_6_a_seq0a1a2a3c4abcde5a6a: This session already exists - no need to re-run ;)\n",
      "T163_2018_12_07_Notebook_7_b_seq0a1a2a3c4abcde5a6a7b: This session already exists - no need to re-run ;)\n",
      "T163_2018_12_10_Notebook_0_a: This session already exists - no need to re-run ;)\n",
      "T163_2018_12_10_Notebook_1_a: This session already exists - no need to re-run ;)\n",
      "T163_2018_12_10_Notebook_2_a: This session already exists - no need to re-run ;)\n",
      "T163_2018_12_10_Notebook_3_c: This session already exists - no need to re-run ;)\n",
      "T163_2018_12_10_Notebook_4_a: This session already exists - no need to re-run ;)\n",
      "T163_2018_12_10_Notebook_4_b: This session already exists - no need to re-run ;)\n",
      "T163_2018_12_10_Notebook_4_c: This session already exists - no need to re-run ;)\n",
      "T163_2018_12_10_Notebook_4_d: This session already exists - no need to re-run ;)\n",
      "T163_2018_12_10_Notebook_4_e: This session already exists - no need to re-run ;)\n",
      "T163_2018_12_10_Notebook_5_a_seq0a1a2a3c4abcde5a: This session already exists - no need to re-run ;)\n",
      "T163_2018_12_10_Notebook_6_a_seq0a1a2a3c4abcde5a6a: This session already exists - no need to re-run ;)\n",
      "2018_12_10__T163_T163-102536\n",
      "Notebook_7_b.ipynb is being executed\n"
     ]
    },
    {
     "data": {
      "application/vnd.jupyter.widget-view+json": {
       "model_id": "3416ba080ade46248ffd079e5f551b4a",
       "version_major": 2,
       "version_minor": 0
      },
      "text/plain": [
       "HBox(children=(FloatProgress(value=0.0, description='Executing', max=36.0, style=ProgressStyle(description_wid…"
      ]
     },
     "metadata": {},
     "output_type": "display_data"
    },
    {
     "name": "stdout",
     "output_type": "stream",
     "text": [
      "\n",
      "T163_2018_12_13_Notebook_0_a: This session already exists - no need to re-run ;)\n",
      "T163_2018_12_13_Notebook_1_a: This session already exists - no need to re-run ;)\n",
      "T163_2018_12_13_Notebook_2_a: This session already exists - no need to re-run ;)\n",
      "T163_2018_12_13_Notebook_3_c: This session already exists - no need to re-run ;)\n",
      "T163_2018_12_13_Notebook_4_a: This session already exists - no need to re-run ;)\n",
      "T163_2018_12_13_Notebook_4_b: This session already exists - no need to re-run ;)\n",
      "T163_2018_12_13_Notebook_4_c: This session already exists - no need to re-run ;)\n",
      "T163_2018_12_13_Notebook_4_d: This session already exists - no need to re-run ;)\n",
      "T163_2018_12_13_Notebook_4_e: This session already exists - no need to re-run ;)\n",
      "2018_12_13__T163_T163-094646\n",
      "Notebook_5_a.ipynb is being executed\n"
     ]
    },
    {
     "data": {
      "application/vnd.jupyter.widget-view+json": {
       "model_id": "a17b173275ad45fca7249fb7be95f1c0",
       "version_major": 2,
       "version_minor": 0
      },
      "text/plain": [
       "HBox(children=(FloatProgress(value=0.0, description='Executing', max=17.0, style=ProgressStyle(description_wid…"
      ]
     },
     "metadata": {},
     "output_type": "display_data"
    },
    {
     "name": "stdout",
     "output_type": "stream",
     "text": [
      "\n",
      "2018_12_13__T163_T163-094646\n",
      "Notebook_6_a.ipynb is being executed\n"
     ]
    },
    {
     "data": {
      "application/vnd.jupyter.widget-view+json": {
       "model_id": "2b0aba85f50147ba8661923e0576052d",
       "version_major": 2,
       "version_minor": 0
      },
      "text/plain": [
       "HBox(children=(FloatProgress(value=0.0, description='Executing', max=10.0, style=ProgressStyle(description_wid…"
      ]
     },
     "metadata": {},
     "output_type": "display_data"
    },
    {
     "name": "stdout",
     "output_type": "stream",
     "text": [
      "\n",
      "2018_12_13__T163_T163-094646\n",
      "Notebook_7_b.ipynb is being executed\n"
     ]
    },
    {
     "data": {
      "application/vnd.jupyter.widget-view+json": {
       "model_id": "b8640efe402c46b4a626e958c00580b6",
       "version_major": 2,
       "version_minor": 0
      },
      "text/plain": [
       "HBox(children=(FloatProgress(value=0.0, description='Executing', max=36.0, style=ProgressStyle(description_wid…"
      ]
     },
     "metadata": {},
     "output_type": "display_data"
    },
    {
     "name": "stdout",
     "output_type": "stream",
     "text": [
      "\n",
      "T164_2018_11_27_Notebook_0_a: This session already exists - no need to re-run ;)\n",
      "T164_2018_11_27_Notebook_1_a: This session already exists - no need to re-run ;)\n",
      "T164_2018_11_27_Notebook_2_a: This session already exists - no need to re-run ;)\n",
      "T164_2018_11_27_Notebook_3_c: This session already exists - no need to re-run ;)\n",
      "T164_2018_11_27_Notebook_4_a: This session already exists - no need to re-run ;)\n",
      "T164_2018_11_27_Notebook_4_b: This session already exists - no need to re-run ;)\n",
      "T164_2018_11_27_Notebook_4_c: This session already exists - no need to re-run ;)\n",
      "T164_2018_11_27_Notebook_4_d: This session already exists - no need to re-run ;)\n",
      "T164_2018_11_27_Notebook_4_e: This session already exists - no need to re-run ;)\n",
      "2018_11_27__T164_T164-153101\n",
      "Notebook_5_a.ipynb is being executed\n"
     ]
    },
    {
     "data": {
      "application/vnd.jupyter.widget-view+json": {
       "model_id": "c6948b141f23433ca5e4417274b512a1",
       "version_major": 2,
       "version_minor": 0
      },
      "text/plain": [
       "HBox(children=(FloatProgress(value=0.0, description='Executing', max=17.0, style=ProgressStyle(description_wid…"
      ]
     },
     "metadata": {},
     "output_type": "display_data"
    },
    {
     "name": "stdout",
     "output_type": "stream",
     "text": [
      "\n",
      "2018_11_27__T164_T164-153101\n",
      "Notebook_6_a.ipynb is being executed\n"
     ]
    },
    {
     "data": {
      "application/vnd.jupyter.widget-view+json": {
       "model_id": "54f3b9bb50a041f1bd6bee2cd559e3de",
       "version_major": 2,
       "version_minor": 0
      },
      "text/plain": [
       "HBox(children=(FloatProgress(value=0.0, description='Executing', max=10.0, style=ProgressStyle(description_wid…"
      ]
     },
     "metadata": {},
     "output_type": "display_data"
    },
    {
     "name": "stdout",
     "output_type": "stream",
     "text": [
      "\n",
      "2018_11_27__T164_T164-153101\n",
      "Notebook_7_b.ipynb is being executed\n"
     ]
    },
    {
     "data": {
      "application/vnd.jupyter.widget-view+json": {
       "model_id": "88589c17f9b7419cb7a957bc0f1aca26",
       "version_major": 2,
       "version_minor": 0
      },
      "text/plain": [
       "HBox(children=(FloatProgress(value=0.0, description='Executing', max=36.0, style=ProgressStyle(description_wid…"
      ]
     },
     "metadata": {},
     "output_type": "display_data"
    },
    {
     "name": "stdout",
     "output_type": "stream",
     "text": [
      "\n",
      "T164_2018_11_28_Notebook_0_a: This session already exists - no need to re-run ;)\n",
      "T164_2018_11_28_Notebook_1_a: This session already exists - no need to re-run ;)\n",
      "T164_2018_11_28_Notebook_2_a: This session already exists - no need to re-run ;)\n",
      "T164_2018_11_28_Notebook_3_c: This session already exists - no need to re-run ;)\n",
      "T164_2018_11_28_Notebook_4_a: This session already exists - no need to re-run ;)\n",
      "T164_2018_11_28_Notebook_4_b: This session already exists - no need to re-run ;)\n",
      "T164_2018_11_28_Notebook_4_c: This session already exists - no need to re-run ;)\n",
      "T164_2018_11_28_Notebook_4_d: This session already exists - no need to re-run ;)\n",
      "T164_2018_11_28_Notebook_4_e: This session already exists - no need to re-run ;)\n",
      "2018_11_28__T164_T164-122054\n",
      "Notebook_5_a.ipynb is being executed\n"
     ]
    },
    {
     "data": {
      "application/vnd.jupyter.widget-view+json": {
       "model_id": "85c79ab7ee7f4d78917e65e5bb58e5c8",
       "version_major": 2,
       "version_minor": 0
      },
      "text/plain": [
       "HBox(children=(FloatProgress(value=0.0, description='Executing', max=17.0, style=ProgressStyle(description_wid…"
      ]
     },
     "metadata": {},
     "output_type": "display_data"
    },
    {
     "name": "stdout",
     "output_type": "stream",
     "text": [
      "\n",
      "2018_11_28__T164_T164-122054\n",
      "Notebook_6_a.ipynb is being executed\n"
     ]
    },
    {
     "data": {
      "application/vnd.jupyter.widget-view+json": {
       "model_id": "70d60edb7ea84cc9936929803ff3dc58",
       "version_major": 2,
       "version_minor": 0
      },
      "text/plain": [
       "HBox(children=(FloatProgress(value=0.0, description='Executing', max=10.0, style=ProgressStyle(description_wid…"
      ]
     },
     "metadata": {},
     "output_type": "display_data"
    },
    {
     "name": "stdout",
     "output_type": "stream",
     "text": [
      "\n",
      "2018_11_28__T164_T164-122054\n",
      "Notebook_7_b.ipynb is being executed\n"
     ]
    },
    {
     "data": {
      "application/vnd.jupyter.widget-view+json": {
       "model_id": "cc257301810747bb9917566081e3f857",
       "version_major": 2,
       "version_minor": 0
      },
      "text/plain": [
       "HBox(children=(FloatProgress(value=0.0, description='Executing', max=36.0, style=ProgressStyle(description_wid…"
      ]
     },
     "metadata": {},
     "output_type": "display_data"
    },
    {
     "name": "stdout",
     "output_type": "stream",
     "text": [
      "\n",
      "T164_2018_12_04_Notebook_0_a: This session already exists - no need to re-run ;)\n",
      "T164_2018_12_04_Notebook_1_a: This session already exists - no need to re-run ;)\n",
      "T164_2018_12_04_Notebook_2_a: This session already exists - no need to re-run ;)\n",
      "T164_2018_12_04_Notebook_3_c: This session already exists - no need to re-run ;)\n",
      "T164_2018_12_04_Notebook_4_a: This session already exists - no need to re-run ;)\n",
      "T164_2018_12_04_Notebook_4_b: This session already exists - no need to re-run ;)\n",
      "T164_2018_12_04_Notebook_4_c: This session already exists - no need to re-run ;)\n",
      "T164_2018_12_04_Notebook_4_d: This session already exists - no need to re-run ;)\n",
      "T164_2018_12_04_Notebook_4_e: This session already exists - no need to re-run ;)\n",
      "2018_12_04__T164_T164-121548\n",
      "Notebook_5_a.ipynb is being executed\n"
     ]
    },
    {
     "data": {
      "application/vnd.jupyter.widget-view+json": {
       "model_id": "47caa7cead454419bfeda9ec67cc4e2e",
       "version_major": 2,
       "version_minor": 0
      },
      "text/plain": [
       "HBox(children=(FloatProgress(value=0.0, description='Executing', max=17.0, style=ProgressStyle(description_wid…"
      ]
     },
     "metadata": {},
     "output_type": "display_data"
    },
    {
     "name": "stdout",
     "output_type": "stream",
     "text": [
      "\n",
      "2018_12_04__T164_T164-121548\n",
      "Notebook_6_a.ipynb is being executed\n"
     ]
    },
    {
     "data": {
      "application/vnd.jupyter.widget-view+json": {
       "model_id": "c3df8561dc5f43188c89c1c1c4b5e93d",
       "version_major": 2,
       "version_minor": 0
      },
      "text/plain": [
       "HBox(children=(FloatProgress(value=0.0, description='Executing', max=10.0, style=ProgressStyle(description_wid…"
      ]
     },
     "metadata": {},
     "output_type": "display_data"
    },
    {
     "name": "stdout",
     "output_type": "stream",
     "text": [
      "\n",
      "2018_12_04__T164_T164-121548\n",
      "Notebook_7_b.ipynb is being executed\n"
     ]
    },
    {
     "data": {
      "application/vnd.jupyter.widget-view+json": {
       "model_id": "76bf17e41d6d47e2b70bb610dab1986c",
       "version_major": 2,
       "version_minor": 0
      },
      "text/plain": [
       "HBox(children=(FloatProgress(value=0.0, description='Executing', max=36.0, style=ProgressStyle(description_wid…"
      ]
     },
     "metadata": {},
     "output_type": "display_data"
    },
    {
     "name": "stdout",
     "output_type": "stream",
     "text": [
      "\n",
      "T164_2018_12_05_Notebook_0_a: This session already exists - no need to re-run ;)\n",
      "T164_2018_12_05_Notebook_1_a: This session already exists - no need to re-run ;)\n",
      "T164_2018_12_05_Notebook_2_a: This session already exists - no need to re-run ;)\n",
      "T164_2018_12_05_Notebook_3_c: This session already exists - no need to re-run ;)\n",
      "T164_2018_12_05_Notebook_4_a: This session already exists - no need to re-run ;)\n",
      "T164_2018_12_05_Notebook_4_b: This session already exists - no need to re-run ;)\n",
      "T164_2018_12_05_Notebook_4_c: This session already exists - no need to re-run ;)\n",
      "T164_2018_12_05_Notebook_4_d: This session already exists - no need to re-run ;)\n",
      "T164_2018_12_05_Notebook_4_e: This session already exists - no need to re-run ;)\n",
      "2018_12_05__T164_T164-123550\n",
      "Notebook_5_a.ipynb is being executed\n"
     ]
    },
    {
     "data": {
      "application/vnd.jupyter.widget-view+json": {
       "model_id": "d8b465c0b1a04a8884b98b4ebe969464",
       "version_major": 2,
       "version_minor": 0
      },
      "text/plain": [
       "HBox(children=(FloatProgress(value=0.0, description='Executing', max=17.0, style=ProgressStyle(description_wid…"
      ]
     },
     "metadata": {},
     "output_type": "display_data"
    },
    {
     "name": "stdout",
     "output_type": "stream",
     "text": [
      "\n",
      "2018_12_05__T164_T164-123550\n",
      "Notebook_6_a.ipynb is being executed\n"
     ]
    },
    {
     "data": {
      "application/vnd.jupyter.widget-view+json": {
       "model_id": "fdee9143ceb84f98815e2e924f46e0b5",
       "version_major": 2,
       "version_minor": 0
      },
      "text/plain": [
       "HBox(children=(FloatProgress(value=0.0, description='Executing', max=10.0, style=ProgressStyle(description_wid…"
      ]
     },
     "metadata": {},
     "output_type": "display_data"
    },
    {
     "name": "stdout",
     "output_type": "stream",
     "text": [
      "\n",
      "2018_12_05__T164_T164-123550\n",
      "Notebook_7_b.ipynb is being executed\n"
     ]
    },
    {
     "data": {
      "application/vnd.jupyter.widget-view+json": {
       "model_id": "c93e15d4886d46a7a02f1e8e60963fe5",
       "version_major": 2,
       "version_minor": 0
      },
      "text/plain": [
       "HBox(children=(FloatProgress(value=0.0, description='Executing', max=36.0, style=ProgressStyle(description_wid…"
      ]
     },
     "metadata": {},
     "output_type": "display_data"
    },
    {
     "name": "stdout",
     "output_type": "stream",
     "text": [
      "\n",
      "T164_2018_12_10_Notebook_0_a: This session already exists - no need to re-run ;)\n",
      "T164_2018_12_10_Notebook_1_a: This session already exists - no need to re-run ;)\n",
      "T164_2018_12_10_Notebook_2_a: This session already exists - no need to re-run ;)\n",
      "T164_2018_12_10_Notebook_3_c: This session already exists - no need to re-run ;)\n",
      "T164_2018_12_10_Notebook_4_a: This session already exists - no need to re-run ;)\n",
      "T164_2018_12_10_Notebook_4_b: This session already exists - no need to re-run ;)\n",
      "T164_2018_12_10_Notebook_4_c: This session already exists - no need to re-run ;)\n",
      "T164_2018_12_10_Notebook_4_d: This session already exists - no need to re-run ;)\n",
      "T164_2018_12_10_Notebook_4_e: This session already exists - no need to re-run ;)\n",
      "2018_12_10__T164_T164-105324\n",
      "Notebook_5_a.ipynb is being executed\n"
     ]
    },
    {
     "data": {
      "application/vnd.jupyter.widget-view+json": {
       "model_id": "aaf526dd75504affb8defd3c354a3f90",
       "version_major": 2,
       "version_minor": 0
      },
      "text/plain": [
       "HBox(children=(FloatProgress(value=0.0, description='Executing', max=17.0, style=ProgressStyle(description_wid…"
      ]
     },
     "metadata": {},
     "output_type": "display_data"
    },
    {
     "name": "stdout",
     "output_type": "stream",
     "text": [
      "\n",
      "2018_12_10__T164_T164-105324\n",
      "Notebook_6_a.ipynb is being executed\n"
     ]
    },
    {
     "data": {
      "application/vnd.jupyter.widget-view+json": {
       "model_id": "ce8d92cbc8c943709abb17c5c237b47a",
       "version_major": 2,
       "version_minor": 0
      },
      "text/plain": [
       "HBox(children=(FloatProgress(value=0.0, description='Executing', max=10.0, style=ProgressStyle(description_wid…"
      ]
     },
     "metadata": {},
     "output_type": "display_data"
    },
    {
     "name": "stdout",
     "output_type": "stream",
     "text": [
      "\n",
      "2018_12_10__T164_T164-105324\n",
      "Notebook_7_b.ipynb is being executed\n"
     ]
    },
    {
     "data": {
      "application/vnd.jupyter.widget-view+json": {
       "model_id": "a33af42865a244dbaa907e94d553425b",
       "version_major": 2,
       "version_minor": 0
      },
      "text/plain": [
       "HBox(children=(FloatProgress(value=0.0, description='Executing', max=36.0, style=ProgressStyle(description_wid…"
      ]
     },
     "metadata": {},
     "output_type": "display_data"
    },
    {
     "name": "stdout",
     "output_type": "stream",
     "text": [
      "\n",
      "T164_2018_12_13_Notebook_0_a: This session already exists - no need to re-run ;)\n",
      "T164_2018_12_13_Notebook_1_a: This session already exists - no need to re-run ;)\n",
      "T164_2018_12_13_Notebook_2_a: This session already exists - no need to re-run ;)\n",
      "T164_2018_12_13_Notebook_3_c: This session already exists - no need to re-run ;)\n",
      "T164_2018_12_13_Notebook_4_a: This session already exists - no need to re-run ;)\n",
      "T164_2018_12_13_Notebook_4_b: This session already exists - no need to re-run ;)\n",
      "T164_2018_12_13_Notebook_4_c: This session already exists - no need to re-run ;)\n",
      "T164_2018_12_13_Notebook_4_d: This session already exists - no need to re-run ;)\n",
      "T164_2018_12_13_Notebook_4_e: This session already exists - no need to re-run ;)\n",
      "2018_12_13__T164_T164-101804\n",
      "Notebook_5_a.ipynb is being executed\n"
     ]
    },
    {
     "data": {
      "application/vnd.jupyter.widget-view+json": {
       "model_id": "10d645e95cbb4567af5612af8c34775e",
       "version_major": 2,
       "version_minor": 0
      },
      "text/plain": [
       "HBox(children=(FloatProgress(value=0.0, description='Executing', max=17.0, style=ProgressStyle(description_wid…"
      ]
     },
     "metadata": {},
     "output_type": "display_data"
    },
    {
     "name": "stdout",
     "output_type": "stream",
     "text": [
      "\n",
      "2018_12_13__T164_T164-101804\n",
      "Notebook_6_a.ipynb is being executed\n"
     ]
    },
    {
     "data": {
      "application/vnd.jupyter.widget-view+json": {
       "model_id": "b92d42031f87424ea8cc497879a8adf7",
       "version_major": 2,
       "version_minor": 0
      },
      "text/plain": [
       "HBox(children=(FloatProgress(value=0.0, description='Executing', max=10.0, style=ProgressStyle(description_wid…"
      ]
     },
     "metadata": {},
     "output_type": "display_data"
    },
    {
     "name": "stdout",
     "output_type": "stream",
     "text": [
      "\n",
      "2018_12_13__T164_T164-101804\n",
      "Notebook_7_b.ipynb is being executed\n"
     ]
    },
    {
     "data": {
      "application/vnd.jupyter.widget-view+json": {
       "model_id": "63665ab6181d447581ba36d29610761f",
       "version_major": 2,
       "version_minor": 0
      },
      "text/plain": [
       "HBox(children=(FloatProgress(value=0.0, description='Executing', max=36.0, style=ProgressStyle(description_wid…"
      ]
     },
     "metadata": {},
     "output_type": "display_data"
    },
    {
     "name": "stdout",
     "output_type": "stream",
     "text": [
      "\n",
      "T169_2019_02_01_Notebook_0_a: This session already exists - no need to re-run ;)\n",
      "T169_2019_02_01_Notebook_1_a: This session already exists - no need to re-run ;)\n",
      "T169_2019_02_01_Notebook_2_a: This session already exists - no need to re-run ;)\n",
      "T169_2019_02_01_Notebook_3_c: This session already exists - no need to re-run ;)\n",
      "T169_2019_02_01_Notebook_4_a: This session already exists - no need to re-run ;)\n",
      "T169_2019_02_01_Notebook_4_b: This session already exists - no need to re-run ;)\n",
      "T169_2019_02_01_Notebook_4_c: This session already exists - no need to re-run ;)\n",
      "T169_2019_02_01_Notebook_4_d: This session already exists - no need to re-run ;)\n",
      "T169_2019_02_01_Notebook_4_e: This session already exists - no need to re-run ;)\n",
      "2019_02_01__T169_T169-141602\n",
      "Notebook_5_a.ipynb is being executed\n"
     ]
    },
    {
     "data": {
      "application/vnd.jupyter.widget-view+json": {
       "model_id": "078dcbe4317a4e5b8ae57ede6c3b2ac5",
       "version_major": 2,
       "version_minor": 0
      },
      "text/plain": [
       "HBox(children=(FloatProgress(value=0.0, description='Executing', max=17.0, style=ProgressStyle(description_wid…"
      ]
     },
     "metadata": {},
     "output_type": "display_data"
    },
    {
     "name": "stdout",
     "output_type": "stream",
     "text": [
      "\n",
      "2019_02_01__T169_T169-141602\n",
      "Notebook_6_a.ipynb is being executed\n"
     ]
    },
    {
     "data": {
      "application/vnd.jupyter.widget-view+json": {
       "model_id": "878914858cf6487e8b75e898f8ae97cd",
       "version_major": 2,
       "version_minor": 0
      },
      "text/plain": [
       "HBox(children=(FloatProgress(value=0.0, description='Executing', max=10.0, style=ProgressStyle(description_wid…"
      ]
     },
     "metadata": {},
     "output_type": "display_data"
    },
    {
     "name": "stdout",
     "output_type": "stream",
     "text": [
      "\n",
      "2019_02_01__T169_T169-141602\n",
      "Notebook_7_b.ipynb is being executed\n"
     ]
    },
    {
     "data": {
      "application/vnd.jupyter.widget-view+json": {
       "model_id": "2b088ac1e6a344b4814dbb82f20002fc",
       "version_major": 2,
       "version_minor": 0
      },
      "text/plain": [
       "HBox(children=(FloatProgress(value=0.0, description='Executing', max=36.0, style=ProgressStyle(description_wid…"
      ]
     },
     "metadata": {},
     "output_type": "display_data"
    },
    {
     "name": "stdout",
     "output_type": "stream",
     "text": [
      "\n",
      "T169_2019_02_12_Notebook_0_a: This session already exists - no need to re-run ;)\n",
      "T169_2019_02_12_Notebook_1_a: This session already exists - no need to re-run ;)\n",
      "T169_2019_02_12_Notebook_2_a: This session already exists - no need to re-run ;)\n",
      "T169_2019_02_12_Notebook_3_c: This session already exists - no need to re-run ;)\n",
      "T169_2019_02_12_Notebook_4_a: This session already exists - no need to re-run ;)\n",
      "T169_2019_02_12_Notebook_4_b: This session already exists - no need to re-run ;)\n",
      "T169_2019_02_12_Notebook_4_c: This session already exists - no need to re-run ;)\n",
      "T169_2019_02_12_Notebook_4_d: This session already exists - no need to re-run ;)\n",
      "T169_2019_02_12_Notebook_4_e: This session already exists - no need to re-run ;)\n",
      "2019_02_12__T169_T169-145045\n",
      "Notebook_5_a.ipynb is being executed\n"
     ]
    },
    {
     "data": {
      "application/vnd.jupyter.widget-view+json": {
       "model_id": "4820d6883d5142fdbd6b833478cbd892",
       "version_major": 2,
       "version_minor": 0
      },
      "text/plain": [
       "HBox(children=(FloatProgress(value=0.0, description='Executing', max=17.0, style=ProgressStyle(description_wid…"
      ]
     },
     "metadata": {},
     "output_type": "display_data"
    },
    {
     "name": "stdout",
     "output_type": "stream",
     "text": [
      "\n",
      "2019_02_12__T169_T169-145045\n",
      "Notebook_6_a.ipynb is being executed\n"
     ]
    },
    {
     "data": {
      "application/vnd.jupyter.widget-view+json": {
       "model_id": "c4b590e0ff464a579bdf34b06736215b",
       "version_major": 2,
       "version_minor": 0
      },
      "text/plain": [
       "HBox(children=(FloatProgress(value=0.0, description='Executing', max=10.0, style=ProgressStyle(description_wid…"
      ]
     },
     "metadata": {},
     "output_type": "display_data"
    },
    {
     "name": "stdout",
     "output_type": "stream",
     "text": [
      "\n",
      "2019_02_12__T169_T169-145045\n",
      "Notebook_7_b.ipynb is being executed\n"
     ]
    },
    {
     "data": {
      "application/vnd.jupyter.widget-view+json": {
       "model_id": "8d80ccb57bff41d8b5adacd473d8695c",
       "version_major": 2,
       "version_minor": 0
      },
      "text/plain": [
       "HBox(children=(FloatProgress(value=0.0, description='Executing', max=36.0, style=ProgressStyle(description_wid…"
      ]
     },
     "metadata": {},
     "output_type": "display_data"
    },
    {
     "name": "stdout",
     "output_type": "stream",
     "text": [
      "\n",
      "T169_2019_02_13_Notebook_0_a: This session already exists - no need to re-run ;)\n",
      "T169_2019_02_13_Notebook_1_a: This session already exists - no need to re-run ;)\n",
      "T169_2019_02_13_Notebook_2_a: This session already exists - no need to re-run ;)\n",
      "T169_2019_02_13_Notebook_3_c: This session already exists - no need to re-run ;)\n",
      "T169_2019_02_13_Notebook_4_a: This session already exists - no need to re-run ;)\n",
      "T169_2019_02_13_Notebook_4_b: This session already exists - no need to re-run ;)\n",
      "T169_2019_02_13_Notebook_4_c: This session already exists - no need to re-run ;)\n",
      "T169_2019_02_13_Notebook_4_d: This session already exists - no need to re-run ;)\n",
      "T169_2019_02_13_Notebook_4_e: This session already exists - no need to re-run ;)\n",
      "2019_02_13__T169_T169-141800\n",
      "Notebook_5_a.ipynb is being executed\n"
     ]
    },
    {
     "data": {
      "application/vnd.jupyter.widget-view+json": {
       "model_id": "5e1f03819de64548aa841e5269f4904c",
       "version_major": 2,
       "version_minor": 0
      },
      "text/plain": [
       "HBox(children=(FloatProgress(value=0.0, description='Executing', max=17.0, style=ProgressStyle(description_wid…"
      ]
     },
     "metadata": {},
     "output_type": "display_data"
    },
    {
     "name": "stdout",
     "output_type": "stream",
     "text": [
      "\n",
      "2019_02_13__T169_T169-141800\n",
      "Notebook_6_a.ipynb is being executed\n"
     ]
    },
    {
     "data": {
      "application/vnd.jupyter.widget-view+json": {
       "model_id": "c4defaba04c74471a2b6ed2501c3ea8f",
       "version_major": 2,
       "version_minor": 0
      },
      "text/plain": [
       "HBox(children=(FloatProgress(value=0.0, description='Executing', max=10.0, style=ProgressStyle(description_wid…"
      ]
     },
     "metadata": {},
     "output_type": "display_data"
    },
    {
     "name": "stdout",
     "output_type": "stream",
     "text": [
      "\n",
      "2019_02_13__T169_T169-141800\n",
      "Notebook_7_b.ipynb is being executed\n"
     ]
    },
    {
     "data": {
      "application/vnd.jupyter.widget-view+json": {
       "model_id": "622c7eab2e674afb99cdf2bdb900e542",
       "version_major": 2,
       "version_minor": 0
      },
      "text/plain": [
       "HBox(children=(FloatProgress(value=0.0, description='Executing', max=36.0, style=ProgressStyle(description_wid…"
      ]
     },
     "metadata": {},
     "output_type": "display_data"
    },
    {
     "name": "stdout",
     "output_type": "stream",
     "text": [
      "\n",
      "T169_2019_02_19_Notebook_0_a: This session already exists - no need to re-run ;)\n",
      "T169_2019_02_19_Notebook_1_a: This session already exists - no need to re-run ;)\n",
      "T169_2019_02_19_Notebook_2_a: This session already exists - no need to re-run ;)\n",
      "T169_2019_02_19_Notebook_3_c: This session already exists - no need to re-run ;)\n",
      "T169_2019_02_19_Notebook_4_a: This session already exists - no need to re-run ;)\n",
      "T169_2019_02_19_Notebook_4_b: This session already exists - no need to re-run ;)\n",
      "T169_2019_02_19_Notebook_4_c: This session already exists - no need to re-run ;)\n",
      "T169_2019_02_19_Notebook_4_d: This session already exists - no need to re-run ;)\n",
      "T169_2019_02_19_Notebook_4_e: This session already exists - no need to re-run ;)\n",
      "2019_02_19__T169_T169-140515\n",
      "Notebook_5_a.ipynb is being executed\n"
     ]
    },
    {
     "data": {
      "application/vnd.jupyter.widget-view+json": {
       "model_id": "f09ef031f9ba4c328a34827a3d7689cf",
       "version_major": 2,
       "version_minor": 0
      },
      "text/plain": [
       "HBox(children=(FloatProgress(value=0.0, description='Executing', max=17.0, style=ProgressStyle(description_wid…"
      ]
     },
     "metadata": {},
     "output_type": "display_data"
    },
    {
     "name": "stdout",
     "output_type": "stream",
     "text": [
      "\n",
      "2019_02_19__T169_T169-140515\n",
      "Notebook_6_a.ipynb is being executed\n"
     ]
    },
    {
     "data": {
      "application/vnd.jupyter.widget-view+json": {
       "model_id": "b7baba8e162e4b9ca357b66f80d148bf",
       "version_major": 2,
       "version_minor": 0
      },
      "text/plain": [
       "HBox(children=(FloatProgress(value=0.0, description='Executing', max=10.0, style=ProgressStyle(description_wid…"
      ]
     },
     "metadata": {},
     "output_type": "display_data"
    },
    {
     "name": "stdout",
     "output_type": "stream",
     "text": [
      "\n",
      "2019_02_19__T169_T169-140515\n",
      "Notebook_7_b.ipynb is being executed\n"
     ]
    },
    {
     "data": {
      "application/vnd.jupyter.widget-view+json": {
       "model_id": "e9aa6c4bd8e64385971db9e46c2693de",
       "version_major": 2,
       "version_minor": 0
      },
      "text/plain": [
       "HBox(children=(FloatProgress(value=0.0, description='Executing', max=36.0, style=ProgressStyle(description_wid…"
      ]
     },
     "metadata": {},
     "output_type": "display_data"
    },
    {
     "name": "stdout",
     "output_type": "stream",
     "text": [
      "\n",
      "T169_2019_02_20_Notebook_0_a: This session already exists - no need to re-run ;)\n",
      "T169_2019_02_20_Notebook_1_a: This session already exists - no need to re-run ;)\n",
      "T169_2019_02_20_Notebook_2_a: This session already exists - no need to re-run ;)\n",
      "T169_2019_02_20_Notebook_3_c: This session already exists - no need to re-run ;)\n",
      "T169_2019_02_20_Notebook_4_a: This session already exists - no need to re-run ;)\n",
      "T169_2019_02_20_Notebook_4_b: This session already exists - no need to re-run ;)\n",
      "T169_2019_02_20_Notebook_4_c: This session already exists - no need to re-run ;)\n",
      "T169_2019_02_20_Notebook_4_d: This session already exists - no need to re-run ;)\n",
      "T169_2019_02_20_Notebook_4_e: This session already exists - no need to re-run ;)\n",
      "2019_02_20__T169_T169-141850\n",
      "Notebook_5_a.ipynb is being executed\n"
     ]
    },
    {
     "data": {
      "application/vnd.jupyter.widget-view+json": {
       "model_id": "49376e48af3d4e0fa5b54b612fa074c3",
       "version_major": 2,
       "version_minor": 0
      },
      "text/plain": [
       "HBox(children=(FloatProgress(value=0.0, description='Executing', max=17.0, style=ProgressStyle(description_wid…"
      ]
     },
     "metadata": {},
     "output_type": "display_data"
    },
    {
     "name": "stdout",
     "output_type": "stream",
     "text": [
      "\n",
      "2019_02_20__T169_T169-141850\n",
      "Notebook_6_a.ipynb is being executed\n"
     ]
    },
    {
     "data": {
      "application/vnd.jupyter.widget-view+json": {
       "model_id": "0fc6c33b1453419988b5a5335b815141",
       "version_major": 2,
       "version_minor": 0
      },
      "text/plain": [
       "HBox(children=(FloatProgress(value=0.0, description='Executing', max=10.0, style=ProgressStyle(description_wid…"
      ]
     },
     "metadata": {},
     "output_type": "display_data"
    },
    {
     "name": "stdout",
     "output_type": "stream",
     "text": [
      "\n",
      "2019_02_20__T169_T169-141850\n",
      "Notebook_7_b.ipynb is being executed\n"
     ]
    },
    {
     "data": {
      "application/vnd.jupyter.widget-view+json": {
       "model_id": "fd15d904fb8947939a5d3d52a593e857",
       "version_major": 2,
       "version_minor": 0
      },
      "text/plain": [
       "HBox(children=(FloatProgress(value=0.0, description='Executing', max=36.0, style=ProgressStyle(description_wid…"
      ]
     },
     "metadata": {},
     "output_type": "display_data"
    },
    {
     "name": "stdout",
     "output_type": "stream",
     "text": [
      "\n",
      "T169_2019_02_22_Notebook_0_a: This session already exists - no need to re-run ;)\n",
      "T169_2019_02_22_Notebook_1_a: This session already exists - no need to re-run ;)\n",
      "T169_2019_02_22_Notebook_2_a: This session already exists - no need to re-run ;)\n",
      "T169_2019_02_22_Notebook_3_c: This session already exists - no need to re-run ;)\n",
      "T169_2019_02_22_Notebook_4_a: This session already exists - no need to re-run ;)\n",
      "T169_2019_02_22_Notebook_4_b: This session already exists - no need to re-run ;)\n",
      "T169_2019_02_22_Notebook_4_c: This session already exists - no need to re-run ;)\n",
      "T169_2019_02_22_Notebook_4_d: This session already exists - no need to re-run ;)\n",
      "T169_2019_02_22_Notebook_4_e: This session already exists - no need to re-run ;)\n",
      "2019_02_22__T169_T169-134725\n",
      "Notebook_5_a.ipynb is being executed\n"
     ]
    },
    {
     "data": {
      "application/vnd.jupyter.widget-view+json": {
       "model_id": "74b57d64094f4690abe32b87fa486ee5",
       "version_major": 2,
       "version_minor": 0
      },
      "text/plain": [
       "HBox(children=(FloatProgress(value=0.0, description='Executing', max=17.0, style=ProgressStyle(description_wid…"
      ]
     },
     "metadata": {},
     "output_type": "display_data"
    },
    {
     "name": "stdout",
     "output_type": "stream",
     "text": [
      "\n",
      "2019_02_22__T169_T169-134725\n",
      "Notebook_6_a.ipynb is being executed\n"
     ]
    },
    {
     "data": {
      "application/vnd.jupyter.widget-view+json": {
       "model_id": "982772e5391d41aca353cdf5c859a58c",
       "version_major": 2,
       "version_minor": 0
      },
      "text/plain": [
       "HBox(children=(FloatProgress(value=0.0, description='Executing', max=10.0, style=ProgressStyle(description_wid…"
      ]
     },
     "metadata": {},
     "output_type": "display_data"
    },
    {
     "name": "stdout",
     "output_type": "stream",
     "text": [
      "\n",
      "2019_02_22__T169_T169-134725\n",
      "Notebook_7_b.ipynb is being executed\n"
     ]
    },
    {
     "data": {
      "application/vnd.jupyter.widget-view+json": {
       "model_id": "f365bbb11501448fbdc5a9ddabdf2308",
       "version_major": 2,
       "version_minor": 0
      },
      "text/plain": [
       "HBox(children=(FloatProgress(value=0.0, description='Executing', max=36.0, style=ProgressStyle(description_wid…"
      ]
     },
     "metadata": {},
     "output_type": "display_data"
    },
    {
     "name": "stdout",
     "output_type": "stream",
     "text": [
      "\n",
      "T169_2019_02_25_Notebook_0_a: This session already exists - no need to re-run ;)\n",
      "T169_2019_02_25_Notebook_1_a: This session already exists - no need to re-run ;)\n",
      "T169_2019_02_25_Notebook_2_a: This session already exists - no need to re-run ;)\n",
      "T169_2019_02_25_Notebook_3_c: This session already exists - no need to re-run ;)\n",
      "T169_2019_02_25_Notebook_4_a: This session already exists - no need to re-run ;)\n",
      "T169_2019_02_25_Notebook_4_b: This session already exists - no need to re-run ;)\n",
      "T169_2019_02_25_Notebook_4_c: This session already exists - no need to re-run ;)\n",
      "T169_2019_02_25_Notebook_4_d: This session already exists - no need to re-run ;)\n",
      "T169_2019_02_25_Notebook_4_e: This session already exists - no need to re-run ;)\n",
      "2019_02_25__T169_T169-145248\n",
      "Notebook_5_a.ipynb is being executed\n"
     ]
    },
    {
     "data": {
      "application/vnd.jupyter.widget-view+json": {
       "model_id": "0441d319234045ceb16885d555e0e666",
       "version_major": 2,
       "version_minor": 0
      },
      "text/plain": [
       "HBox(children=(FloatProgress(value=0.0, description='Executing', max=17.0, style=ProgressStyle(description_wid…"
      ]
     },
     "metadata": {},
     "output_type": "display_data"
    },
    {
     "name": "stdout",
     "output_type": "stream",
     "text": [
      "\n",
      "2019_02_25__T169_T169-145248\n",
      "Notebook_6_a.ipynb is being executed\n"
     ]
    },
    {
     "data": {
      "application/vnd.jupyter.widget-view+json": {
       "model_id": "67bf609aad2546379a4a3ea7162a25d6",
       "version_major": 2,
       "version_minor": 0
      },
      "text/plain": [
       "HBox(children=(FloatProgress(value=0.0, description='Executing', max=10.0, style=ProgressStyle(description_wid…"
      ]
     },
     "metadata": {},
     "output_type": "display_data"
    },
    {
     "name": "stdout",
     "output_type": "stream",
     "text": [
      "\n",
      "2019_02_25__T169_T169-145248\n",
      "Notebook_7_b.ipynb is being executed\n"
     ]
    },
    {
     "data": {
      "application/vnd.jupyter.widget-view+json": {
       "model_id": "da4d5cea84c345739aa91f16cc1eb14e",
       "version_major": 2,
       "version_minor": 0
      },
      "text/plain": [
       "HBox(children=(FloatProgress(value=0.0, description='Executing', max=36.0, style=ProgressStyle(description_wid…"
      ]
     },
     "metadata": {},
     "output_type": "display_data"
    },
    {
     "name": "stdout",
     "output_type": "stream",
     "text": [
      "\n",
      "T169_2019_02_27_Notebook_0_a: This session already exists - no need to re-run ;)\n",
      "T169_2019_02_27_Notebook_1_a: This session already exists - no need to re-run ;)\n",
      "T169_2019_02_27_Notebook_2_a: This session already exists - no need to re-run ;)\n",
      "T169_2019_02_27_Notebook_3_c: This session already exists - no need to re-run ;)\n",
      "T169_2019_02_27_Notebook_4_a: This session already exists - no need to re-run ;)\n",
      "T169_2019_02_27_Notebook_4_b: This session already exists - no need to re-run ;)\n",
      "T169_2019_02_27_Notebook_4_c: This session already exists - no need to re-run ;)\n",
      "T169_2019_02_27_Notebook_4_d: This session already exists - no need to re-run ;)\n",
      "T169_2019_02_27_Notebook_4_e: This session already exists - no need to re-run ;)\n",
      "2019_02_27__T169_T169-155731\n",
      "Notebook_5_a.ipynb is being executed\n"
     ]
    },
    {
     "data": {
      "application/vnd.jupyter.widget-view+json": {
       "model_id": "3502d29ee2854a8db21862d2fc8090bd",
       "version_major": 2,
       "version_minor": 0
      },
      "text/plain": [
       "HBox(children=(FloatProgress(value=0.0, description='Executing', max=17.0, style=ProgressStyle(description_wid…"
      ]
     },
     "metadata": {},
     "output_type": "display_data"
    },
    {
     "name": "stdout",
     "output_type": "stream",
     "text": [
      "\n",
      "2019_02_27__T169_T169-155731\n",
      "Notebook_6_a.ipynb is being executed\n"
     ]
    },
    {
     "data": {
      "application/vnd.jupyter.widget-view+json": {
       "model_id": "76b983015e6e4a5391575f2119e2f132",
       "version_major": 2,
       "version_minor": 0
      },
      "text/plain": [
       "HBox(children=(FloatProgress(value=0.0, description='Executing', max=10.0, style=ProgressStyle(description_wid…"
      ]
     },
     "metadata": {},
     "output_type": "display_data"
    },
    {
     "name": "stdout",
     "output_type": "stream",
     "text": [
      "\n",
      "2019_02_27__T169_T169-155731\n",
      "Notebook_7_b.ipynb is being executed\n"
     ]
    },
    {
     "data": {
      "application/vnd.jupyter.widget-view+json": {
       "model_id": "36c7faddecce4e5c9184e9b7d7db84b6",
       "version_major": 2,
       "version_minor": 0
      },
      "text/plain": [
       "HBox(children=(FloatProgress(value=0.0, description='Executing', max=36.0, style=ProgressStyle(description_wid…"
      ]
     },
     "metadata": {},
     "output_type": "display_data"
    },
    {
     "name": "stdout",
     "output_type": "stream",
     "text": [
      "\n",
      "T169_2019_02_28_Notebook_0_a: This session already exists - no need to re-run ;)\n",
      "T169_2019_02_28_Notebook_1_a: This session already exists - no need to re-run ;)\n",
      "T169_2019_02_28_Notebook_2_a: This session already exists - no need to re-run ;)\n",
      "T169_2019_02_28_Notebook_3_c: This session already exists - no need to re-run ;)\n",
      "T169_2019_02_28_Notebook_4_a: This session already exists - no need to re-run ;)\n",
      "T169_2019_02_28_Notebook_4_b: This session already exists - no need to re-run ;)\n",
      "T169_2019_02_28_Notebook_4_c: This session already exists - no need to re-run ;)\n",
      "T169_2019_02_28_Notebook_4_d: This session already exists - no need to re-run ;)\n",
      "T169_2019_02_28_Notebook_4_e: This session already exists - no need to re-run ;)\n",
      "2019_02_28__T169_T169-142051\n",
      "Notebook_5_a.ipynb is being executed\n"
     ]
    },
    {
     "data": {
      "application/vnd.jupyter.widget-view+json": {
       "model_id": "5e402c290cf140cc9a883c3855cb755a",
       "version_major": 2,
       "version_minor": 0
      },
      "text/plain": [
       "HBox(children=(FloatProgress(value=0.0, description='Executing', max=17.0, style=ProgressStyle(description_wid…"
      ]
     },
     "metadata": {},
     "output_type": "display_data"
    },
    {
     "name": "stdout",
     "output_type": "stream",
     "text": [
      "\n",
      "2019_02_28__T169_T169-142051\n",
      "Notebook_6_a.ipynb is being executed\n"
     ]
    },
    {
     "data": {
      "application/vnd.jupyter.widget-view+json": {
       "model_id": "5bbf7bdb10e843d3acc379991c9472a2",
       "version_major": 2,
       "version_minor": 0
      },
      "text/plain": [
       "HBox(children=(FloatProgress(value=0.0, description='Executing', max=10.0, style=ProgressStyle(description_wid…"
      ]
     },
     "metadata": {},
     "output_type": "display_data"
    },
    {
     "name": "stdout",
     "output_type": "stream",
     "text": [
      "\n",
      "2019_02_28__T169_T169-142051\n",
      "Notebook_7_b.ipynb is being executed\n"
     ]
    },
    {
     "data": {
      "application/vnd.jupyter.widget-view+json": {
       "model_id": "8e75446c7f7d44bcb864d4180ca63a41",
       "version_major": 2,
       "version_minor": 0
      },
      "text/plain": [
       "HBox(children=(FloatProgress(value=0.0, description='Executing', max=36.0, style=ProgressStyle(description_wid…"
      ]
     },
     "metadata": {},
     "output_type": "display_data"
    },
    {
     "name": "stdout",
     "output_type": "stream",
     "text": [
      "\n",
      "T171_2019_01_22_Notebook_0_a: This session already exists - no need to re-run ;)\n",
      "T171_2019_01_22_Notebook_1_a: This session already exists - no need to re-run ;)\n",
      "T171_2019_01_22_Notebook_2_a: This session already exists - no need to re-run ;)\n",
      "T171_2019_01_22_Notebook_3_c: This session already exists - no need to re-run ;)\n",
      "T171_2019_01_22_Notebook_4_a: This session already exists - no need to re-run ;)\n",
      "T171_2019_01_22_Notebook_4_b: This session already exists - no need to re-run ;)\n",
      "T171_2019_01_22_Notebook_4_c: This session already exists - no need to re-run ;)\n",
      "T171_2019_01_22_Notebook_4_d: This session already exists - no need to re-run ;)\n",
      "T171_2019_01_22_Notebook_4_e: This session already exists - no need to re-run ;)\n",
      "2019_01_22__T171_T171-165215\n",
      "Notebook_5_a.ipynb is being executed\n"
     ]
    },
    {
     "data": {
      "application/vnd.jupyter.widget-view+json": {
       "model_id": "9f63464241594cfc98cf97d64e0c5302",
       "version_major": 2,
       "version_minor": 0
      },
      "text/plain": [
       "HBox(children=(FloatProgress(value=0.0, description='Executing', max=17.0, style=ProgressStyle(description_wid…"
      ]
     },
     "metadata": {},
     "output_type": "display_data"
    },
    {
     "name": "stdout",
     "output_type": "stream",
     "text": [
      "\n",
      "2019_01_22__T171_T171-165215\n",
      "Notebook_6_a.ipynb is being executed\n"
     ]
    },
    {
     "data": {
      "application/vnd.jupyter.widget-view+json": {
       "model_id": "42ae71a0f89d418cb6b7fae383f2dd6e",
       "version_major": 2,
       "version_minor": 0
      },
      "text/plain": [
       "HBox(children=(FloatProgress(value=0.0, description='Executing', max=10.0, style=ProgressStyle(description_wid…"
      ]
     },
     "metadata": {},
     "output_type": "display_data"
    },
    {
     "name": "stdout",
     "output_type": "stream",
     "text": [
      "\n",
      "2019_01_22__T171_T171-165215\n",
      "Notebook_7_b.ipynb is being executed\n"
     ]
    },
    {
     "data": {
      "application/vnd.jupyter.widget-view+json": {
       "model_id": "48242851aef0474db184ab02c11e71fe",
       "version_major": 2,
       "version_minor": 0
      },
      "text/plain": [
       "HBox(children=(FloatProgress(value=0.0, description='Executing', max=36.0, style=ProgressStyle(description_wid…"
      ]
     },
     "metadata": {},
     "output_type": "display_data"
    },
    {
     "name": "stdout",
     "output_type": "stream",
     "text": [
      "\n",
      "T171_2019_01_28_Notebook_0_a: This session already exists - no need to re-run ;)\n",
      "T171_2019_01_28_Notebook_1_a: This session already exists - no need to re-run ;)\n",
      "T171_2019_01_28_Notebook_2_a: This session already exists - no need to re-run ;)\n",
      "T171_2019_01_28_Notebook_3_c: This session already exists - no need to re-run ;)\n",
      "T171_2019_01_28_Notebook_4_a: This session already exists - no need to re-run ;)\n",
      "T171_2019_01_28_Notebook_4_b: This session already exists - no need to re-run ;)\n",
      "T171_2019_01_28_Notebook_4_c: This session already exists - no need to re-run ;)\n",
      "T171_2019_01_28_Notebook_4_d: This session already exists - no need to re-run ;)\n",
      "T171_2019_01_28_Notebook_4_e: This session already exists - no need to re-run ;)\n",
      "2019_01_28__T171_T171-144901\n",
      "Notebook_5_a.ipynb is being executed\n"
     ]
    },
    {
     "data": {
      "application/vnd.jupyter.widget-view+json": {
       "model_id": "db0d41c3187f48df971739eba9bd2858",
       "version_major": 2,
       "version_minor": 0
      },
      "text/plain": [
       "HBox(children=(FloatProgress(value=0.0, description='Executing', max=17.0, style=ProgressStyle(description_wid…"
      ]
     },
     "metadata": {},
     "output_type": "display_data"
    },
    {
     "name": "stdout",
     "output_type": "stream",
     "text": [
      "\n",
      "2019_01_28__T171_T171-144901\n",
      "Notebook_6_a.ipynb is being executed\n"
     ]
    },
    {
     "data": {
      "application/vnd.jupyter.widget-view+json": {
       "model_id": "26f18bc1df9a47a69dc788483ed5766f",
       "version_major": 2,
       "version_minor": 0
      },
      "text/plain": [
       "HBox(children=(FloatProgress(value=0.0, description='Executing', max=10.0, style=ProgressStyle(description_wid…"
      ]
     },
     "metadata": {},
     "output_type": "display_data"
    },
    {
     "name": "stdout",
     "output_type": "stream",
     "text": [
      "\n",
      "2019_01_28__T171_T171-144901\n",
      "Notebook_7_b.ipynb is being executed\n"
     ]
    },
    {
     "data": {
      "application/vnd.jupyter.widget-view+json": {
       "model_id": "ab3f28fb43294cc991bcfaccf060a860",
       "version_major": 2,
       "version_minor": 0
      },
      "text/plain": [
       "HBox(children=(FloatProgress(value=0.0, description='Executing', max=36.0, style=ProgressStyle(description_wid…"
      ]
     },
     "metadata": {},
     "output_type": "display_data"
    },
    {
     "name": "stdout",
     "output_type": "stream",
     "text": [
      "\n",
      "T171_2019_01_30_Notebook_0_a: This session already exists - no need to re-run ;)\n",
      "T171_2019_01_30_Notebook_1_a: This session already exists - no need to re-run ;)\n",
      "T171_2019_01_30_Notebook_2_a: This session already exists - no need to re-run ;)\n",
      "T171_2019_01_30_Notebook_3_c: This session already exists - no need to re-run ;)\n",
      "T171_2019_01_30_Notebook_4_a: This session already exists - no need to re-run ;)\n",
      "T171_2019_01_30_Notebook_4_b: This session already exists - no need to re-run ;)\n",
      "T171_2019_01_30_Notebook_4_c: This session already exists - no need to re-run ;)\n",
      "T171_2019_01_30_Notebook_4_d: This session already exists - no need to re-run ;)\n",
      "T171_2019_01_30_Notebook_4_e: This session already exists - no need to re-run ;)\n",
      "2019_01_30__T171_T171-145252\n",
      "Notebook_5_a.ipynb is being executed\n"
     ]
    },
    {
     "data": {
      "application/vnd.jupyter.widget-view+json": {
       "model_id": "f88ebc738fe94a0c9a111f4735c603f6",
       "version_major": 2,
       "version_minor": 0
      },
      "text/plain": [
       "HBox(children=(FloatProgress(value=0.0, description='Executing', max=17.0, style=ProgressStyle(description_wid…"
      ]
     },
     "metadata": {},
     "output_type": "display_data"
    },
    {
     "name": "stdout",
     "output_type": "stream",
     "text": [
      "\n",
      "2019_01_30__T171_T171-145252\n",
      "Notebook_6_a.ipynb is being executed\n"
     ]
    },
    {
     "data": {
      "application/vnd.jupyter.widget-view+json": {
       "model_id": "dda903ca682e435bb38546761328f4d0",
       "version_major": 2,
       "version_minor": 0
      },
      "text/plain": [
       "HBox(children=(FloatProgress(value=0.0, description='Executing', max=10.0, style=ProgressStyle(description_wid…"
      ]
     },
     "metadata": {},
     "output_type": "display_data"
    },
    {
     "name": "stdout",
     "output_type": "stream",
     "text": [
      "\n",
      "2019_01_30__T171_T171-145252\n",
      "Notebook_7_b.ipynb is being executed\n"
     ]
    },
    {
     "data": {
      "application/vnd.jupyter.widget-view+json": {
       "model_id": "cf092fa7a2c343c6ae4d59d52f7c33f9",
       "version_major": 2,
       "version_minor": 0
      },
      "text/plain": [
       "HBox(children=(FloatProgress(value=0.0, description='Executing', max=36.0, style=ProgressStyle(description_wid…"
      ]
     },
     "metadata": {},
     "output_type": "display_data"
    },
    {
     "name": "stdout",
     "output_type": "stream",
     "text": [
      "\n",
      "T171_2019_02_11_Notebook_0_a: This session already exists - no need to re-run ;)\n",
      "T171_2019_02_11_Notebook_1_a: This session already exists - no need to re-run ;)\n",
      "T171_2019_02_11_Notebook_2_a: This session already exists - no need to re-run ;)\n",
      "T171_2019_02_11_Notebook_3_c: This session already exists - no need to re-run ;)\n",
      "T171_2019_02_11_Notebook_4_a: This session already exists - no need to re-run ;)\n",
      "T171_2019_02_11_Notebook_4_b: This session already exists - no need to re-run ;)\n",
      "T171_2019_02_11_Notebook_4_c: This session already exists - no need to re-run ;)\n",
      "T171_2019_02_11_Notebook_4_d: This session already exists - no need to re-run ;)\n",
      "T171_2019_02_11_Notebook_4_e: This session already exists - no need to re-run ;)\n",
      "2019_02_11__T171_T171-143016\n",
      "Notebook_5_a.ipynb is being executed\n"
     ]
    },
    {
     "data": {
      "application/vnd.jupyter.widget-view+json": {
       "model_id": "46392efc04774eaca25e9c12202f184c",
       "version_major": 2,
       "version_minor": 0
      },
      "text/plain": [
       "HBox(children=(FloatProgress(value=0.0, description='Executing', max=17.0, style=ProgressStyle(description_wid…"
      ]
     },
     "metadata": {},
     "output_type": "display_data"
    },
    {
     "name": "stdout",
     "output_type": "stream",
     "text": [
      "\n",
      "2019_02_11__T171_T171-143016\n",
      "Notebook_6_a.ipynb is being executed\n"
     ]
    },
    {
     "data": {
      "application/vnd.jupyter.widget-view+json": {
       "model_id": "ef69569d76ad440b91f16d873cd430e7",
       "version_major": 2,
       "version_minor": 0
      },
      "text/plain": [
       "HBox(children=(FloatProgress(value=0.0, description='Executing', max=10.0, style=ProgressStyle(description_wid…"
      ]
     },
     "metadata": {},
     "output_type": "display_data"
    },
    {
     "name": "stdout",
     "output_type": "stream",
     "text": [
      "\n",
      "2019_02_11__T171_T171-143016\n",
      "Notebook_7_b.ipynb is being executed\n"
     ]
    },
    {
     "data": {
      "application/vnd.jupyter.widget-view+json": {
       "model_id": "ed4a65ece7204f849546905409b47e13",
       "version_major": 2,
       "version_minor": 0
      },
      "text/plain": [
       "HBox(children=(FloatProgress(value=0.0, description='Executing', max=36.0, style=ProgressStyle(description_wid…"
      ]
     },
     "metadata": {},
     "output_type": "display_data"
    },
    {
     "name": "stdout",
     "output_type": "stream",
     "text": [
      "\n",
      "T171_2019_02_20_Notebook_0_a: This session already exists - no need to re-run ;)\n",
      "T171_2019_02_20_Notebook_1_a: This session already exists - no need to re-run ;)\n",
      "T171_2019_02_20_Notebook_2_a: This session already exists - no need to re-run ;)\n",
      "T171_2019_02_20_Notebook_3_c: This session already exists - no need to re-run ;)\n",
      "T171_2019_02_20_Notebook_4_a: This session already exists - no need to re-run ;)\n",
      "T171_2019_02_20_Notebook_4_b: This session already exists - no need to re-run ;)\n",
      "T171_2019_02_20_Notebook_4_c: This session already exists - no need to re-run ;)\n",
      "T171_2019_02_20_Notebook_4_d: This session already exists - no need to re-run ;)\n",
      "T171_2019_02_20_Notebook_4_e: This session already exists - no need to re-run ;)\n",
      "2019_02_20__T171_T171-153511\n",
      "Notebook_5_a.ipynb is being executed\n"
     ]
    },
    {
     "data": {
      "application/vnd.jupyter.widget-view+json": {
       "model_id": "036264fc414e403b9067c8ead459dc16",
       "version_major": 2,
       "version_minor": 0
      },
      "text/plain": [
       "HBox(children=(FloatProgress(value=0.0, description='Executing', max=17.0, style=ProgressStyle(description_wid…"
      ]
     },
     "metadata": {},
     "output_type": "display_data"
    },
    {
     "name": "stdout",
     "output_type": "stream",
     "text": [
      "\n",
      "2019_02_20__T171_T171-153511\n",
      "Notebook_6_a.ipynb is being executed\n"
     ]
    },
    {
     "data": {
      "application/vnd.jupyter.widget-view+json": {
       "model_id": "4e247b625fe04a3c8a6fcd2f7b7cc407",
       "version_major": 2,
       "version_minor": 0
      },
      "text/plain": [
       "HBox(children=(FloatProgress(value=0.0, description='Executing', max=10.0, style=ProgressStyle(description_wid…"
      ]
     },
     "metadata": {},
     "output_type": "display_data"
    },
    {
     "name": "stdout",
     "output_type": "stream",
     "text": [
      "\n",
      "2019_02_20__T171_T171-153511\n",
      "Notebook_7_b.ipynb is being executed\n"
     ]
    },
    {
     "data": {
      "application/vnd.jupyter.widget-view+json": {
       "model_id": "aed97e98b5244797a680cc2eccbcca9c",
       "version_major": 2,
       "version_minor": 0
      },
      "text/plain": [
       "HBox(children=(FloatProgress(value=0.0, description='Executing', max=36.0, style=ProgressStyle(description_wid…"
      ]
     },
     "metadata": {},
     "output_type": "display_data"
    },
    {
     "name": "stdout",
     "output_type": "stream",
     "text": [
      "\n",
      "T171_2019_02_21_Notebook_0_a: This session already exists - no need to re-run ;)\n",
      "T171_2019_02_21_Notebook_1_a: This session already exists - no need to re-run ;)\n",
      "T171_2019_02_21_Notebook_2_a: This session already exists - no need to re-run ;)\n",
      "T171_2019_02_21_Notebook_3_c: This session already exists - no need to re-run ;)\n",
      "T171_2019_02_21_Notebook_4_a: This session already exists - no need to re-run ;)\n",
      "T171_2019_02_21_Notebook_4_b: This session already exists - no need to re-run ;)\n",
      "T171_2019_02_21_Notebook_4_c: This session already exists - no need to re-run ;)\n",
      "T171_2019_02_21_Notebook_4_d: This session already exists - no need to re-run ;)\n",
      "T171_2019_02_21_Notebook_4_e: This session already exists - no need to re-run ;)\n",
      "2019_02_21__T171_T171-152107\n",
      "Notebook_5_a.ipynb is being executed\n"
     ]
    },
    {
     "data": {
      "application/vnd.jupyter.widget-view+json": {
       "model_id": "c8a8ae2245d344c0b90cfcd3aba165e4",
       "version_major": 2,
       "version_minor": 0
      },
      "text/plain": [
       "HBox(children=(FloatProgress(value=0.0, description='Executing', max=17.0, style=ProgressStyle(description_wid…"
      ]
     },
     "metadata": {},
     "output_type": "display_data"
    },
    {
     "name": "stdout",
     "output_type": "stream",
     "text": [
      "\n",
      "2019_02_21__T171_T171-152107\n",
      "Notebook_6_a.ipynb is being executed\n"
     ]
    },
    {
     "data": {
      "application/vnd.jupyter.widget-view+json": {
       "model_id": "dc9e5feeb5c342429cdc0d9cf04d2410",
       "version_major": 2,
       "version_minor": 0
      },
      "text/plain": [
       "HBox(children=(FloatProgress(value=0.0, description='Executing', max=10.0, style=ProgressStyle(description_wid…"
      ]
     },
     "metadata": {},
     "output_type": "display_data"
    },
    {
     "name": "stdout",
     "output_type": "stream",
     "text": [
      "\n",
      "2019_02_21__T171_T171-152107\n",
      "Notebook_7_b.ipynb is being executed\n"
     ]
    },
    {
     "data": {
      "application/vnd.jupyter.widget-view+json": {
       "model_id": "680c249d44794e39a2c0d6a28175ba99",
       "version_major": 2,
       "version_minor": 0
      },
      "text/plain": [
       "HBox(children=(FloatProgress(value=0.0, description='Executing', max=36.0, style=ProgressStyle(description_wid…"
      ]
     },
     "metadata": {},
     "output_type": "display_data"
    },
    {
     "name": "stdout",
     "output_type": "stream",
     "text": [
      "\n",
      "T171_2019_02_25_Notebook_0_a: This session already exists - no need to re-run ;)\n",
      "T171_2019_02_25_Notebook_1_a: This session already exists - no need to re-run ;)\n",
      "T171_2019_02_25_Notebook_2_a: This session already exists - no need to re-run ;)\n",
      "T171_2019_02_25_Notebook_3_c: This session already exists - no need to re-run ;)\n",
      "T171_2019_02_25_Notebook_4_a: This session already exists - no need to re-run ;)\n",
      "T171_2019_02_25_Notebook_4_b: This session already exists - no need to re-run ;)\n",
      "T171_2019_02_25_Notebook_4_c: This session already exists - no need to re-run ;)\n",
      "T171_2019_02_25_Notebook_4_d: This session already exists - no need to re-run ;)\n",
      "T171_2019_02_25_Notebook_4_e: This session already exists - no need to re-run ;)\n",
      "2019_02_25__T171_T171-152054\n",
      "Notebook_5_a.ipynb is being executed\n"
     ]
    },
    {
     "data": {
      "application/vnd.jupyter.widget-view+json": {
       "model_id": "cc5d9178681843f39e64b831d40a38cb",
       "version_major": 2,
       "version_minor": 0
      },
      "text/plain": [
       "HBox(children=(FloatProgress(value=0.0, description='Executing', max=17.0, style=ProgressStyle(description_wid…"
      ]
     },
     "metadata": {},
     "output_type": "display_data"
    },
    {
     "name": "stdout",
     "output_type": "stream",
     "text": [
      "\n",
      "2019_02_25__T171_T171-152054\n",
      "Notebook_6_a.ipynb is being executed\n"
     ]
    },
    {
     "data": {
      "application/vnd.jupyter.widget-view+json": {
       "model_id": "7e536652263b44dcb2190efeca2b8764",
       "version_major": 2,
       "version_minor": 0
      },
      "text/plain": [
       "HBox(children=(FloatProgress(value=0.0, description='Executing', max=10.0, style=ProgressStyle(description_wid…"
      ]
     },
     "metadata": {},
     "output_type": "display_data"
    },
    {
     "name": "stdout",
     "output_type": "stream",
     "text": [
      "\n",
      "2019_02_25__T171_T171-152054\n",
      "Notebook_7_b.ipynb is being executed\n"
     ]
    },
    {
     "data": {
      "application/vnd.jupyter.widget-view+json": {
       "model_id": "1b2d4b2c9688463da2d835232365a9cc",
       "version_major": 2,
       "version_minor": 0
      },
      "text/plain": [
       "HBox(children=(FloatProgress(value=0.0, description='Executing', max=36.0, style=ProgressStyle(description_wid…"
      ]
     },
     "metadata": {},
     "output_type": "display_data"
    },
    {
     "name": "stdout",
     "output_type": "stream",
     "text": [
      "\n",
      "T171_2019_02_26_Notebook_0_a: This session already exists - no need to re-run ;)\n",
      "T171_2019_02_26_Notebook_1_a: This session already exists - no need to re-run ;)\n",
      "T171_2019_02_26_Notebook_2_a: This session already exists - no need to re-run ;)\n",
      "T171_2019_02_26_Notebook_3_c: This session already exists - no need to re-run ;)\n",
      "T171_2019_02_26_Notebook_4_a: This session already exists - no need to re-run ;)\n",
      "T171_2019_02_26_Notebook_4_b: This session already exists - no need to re-run ;)\n",
      "T171_2019_02_26_Notebook_4_c: This session already exists - no need to re-run ;)\n",
      "T171_2019_02_26_Notebook_4_d: This session already exists - no need to re-run ;)\n",
      "T171_2019_02_26_Notebook_4_e: This session already exists - no need to re-run ;)\n",
      "2019_02_26__T171_T171-145215\n",
      "Notebook_5_a.ipynb is being executed\n"
     ]
    },
    {
     "data": {
      "application/vnd.jupyter.widget-view+json": {
       "model_id": "72b15d2ea90d4cafa646be70ad1e4fa0",
       "version_major": 2,
       "version_minor": 0
      },
      "text/plain": [
       "HBox(children=(FloatProgress(value=0.0, description='Executing', max=17.0, style=ProgressStyle(description_wid…"
      ]
     },
     "metadata": {},
     "output_type": "display_data"
    },
    {
     "name": "stdout",
     "output_type": "stream",
     "text": [
      "\n",
      "2019_02_26__T171_T171-145215\n",
      "Notebook_6_a.ipynb is being executed\n"
     ]
    },
    {
     "data": {
      "application/vnd.jupyter.widget-view+json": {
       "model_id": "5e8d42e92e644a2e871a3b40c0f61e57",
       "version_major": 2,
       "version_minor": 0
      },
      "text/plain": [
       "HBox(children=(FloatProgress(value=0.0, description='Executing', max=10.0, style=ProgressStyle(description_wid…"
      ]
     },
     "metadata": {},
     "output_type": "display_data"
    },
    {
     "name": "stdout",
     "output_type": "stream",
     "text": [
      "\n",
      "2019_02_26__T171_T171-145215\n",
      "Notebook_7_b.ipynb is being executed\n"
     ]
    },
    {
     "data": {
      "application/vnd.jupyter.widget-view+json": {
       "model_id": "ac2a7316a23e4a0a828517f645cf392f",
       "version_major": 2,
       "version_minor": 0
      },
      "text/plain": [
       "HBox(children=(FloatProgress(value=0.0, description='Executing', max=36.0, style=ProgressStyle(description_wid…"
      ]
     },
     "metadata": {},
     "output_type": "display_data"
    },
    {
     "name": "stdout",
     "output_type": "stream",
     "text": [
      "\n",
      "T171_2019_02_27_Notebook_0_a: This session already exists - no need to re-run ;)\n",
      "T171_2019_02_27_Notebook_1_a: This session already exists - no need to re-run ;)\n",
      "T171_2019_02_27_Notebook_2_a: This session already exists - no need to re-run ;)\n",
      "T171_2019_02_27_Notebook_3_c: This session already exists - no need to re-run ;)\n",
      "T171_2019_02_27_Notebook_4_a: This session already exists - no need to re-run ;)\n",
      "T171_2019_02_27_Notebook_4_b: This session already exists - no need to re-run ;)\n",
      "T171_2019_02_27_Notebook_4_c: This session already exists - no need to re-run ;)\n",
      "T171_2019_02_27_Notebook_4_d: This session already exists - no need to re-run ;)\n",
      "T171_2019_02_27_Notebook_4_e: This session already exists - no need to re-run ;)\n",
      "2019_02_27__T171_T171-162455\n",
      "Notebook_5_a.ipynb is being executed\n"
     ]
    },
    {
     "data": {
      "application/vnd.jupyter.widget-view+json": {
       "model_id": "2bff7f4cacda40e7a4fd4e56b5a2a5cf",
       "version_major": 2,
       "version_minor": 0
      },
      "text/plain": [
       "HBox(children=(FloatProgress(value=0.0, description='Executing', max=17.0, style=ProgressStyle(description_wid…"
      ]
     },
     "metadata": {},
     "output_type": "display_data"
    },
    {
     "name": "stdout",
     "output_type": "stream",
     "text": [
      "\n",
      "2019_02_27__T171_T171-162455\n",
      "Notebook_6_a.ipynb is being executed\n"
     ]
    },
    {
     "data": {
      "application/vnd.jupyter.widget-view+json": {
       "model_id": "3e07ee31dd584c9cb3e48c2701ee6dd2",
       "version_major": 2,
       "version_minor": 0
      },
      "text/plain": [
       "HBox(children=(FloatProgress(value=0.0, description='Executing', max=10.0, style=ProgressStyle(description_wid…"
      ]
     },
     "metadata": {},
     "output_type": "display_data"
    },
    {
     "name": "stdout",
     "output_type": "stream",
     "text": [
      "\n",
      "2019_02_27__T171_T171-162455\n",
      "Notebook_7_b.ipynb is being executed\n"
     ]
    },
    {
     "data": {
      "application/vnd.jupyter.widget-view+json": {
       "model_id": "dd59d4998b394142970078c48604e8a1",
       "version_major": 2,
       "version_minor": 0
      },
      "text/plain": [
       "HBox(children=(FloatProgress(value=0.0, description='Executing', max=36.0, style=ProgressStyle(description_wid…"
      ]
     },
     "metadata": {},
     "output_type": "display_data"
    },
    {
     "name": "stdout",
     "output_type": "stream",
     "text": [
      "\n",
      "T186_2019_03_22_Notebook_0_a: This session already exists - no need to re-run ;)\n",
      "T186_2019_03_22_Notebook_1_a: This session already exists - no need to re-run ;)\n",
      "T186_2019_03_22_Notebook_2_a: This session already exists - no need to re-run ;)\n",
      "T186_2019_03_22_Notebook_3_c: This session already exists - no need to re-run ;)\n",
      "T186_2019_03_22_Notebook_4_a: This session already exists - no need to re-run ;)\n",
      "T186_2019_03_22_Notebook_4_b: This session already exists - no need to re-run ;)\n",
      "T186_2019_03_22_Notebook_4_c: This session already exists - no need to re-run ;)\n",
      "T186_2019_03_22_Notebook_4_d: This session already exists - no need to re-run ;)\n",
      "T186_2019_03_22_Notebook_4_e: This session already exists - no need to re-run ;)\n",
      "2019_03_22__T186_T186-164847\n",
      "Notebook_5_a.ipynb is being executed\n"
     ]
    },
    {
     "data": {
      "application/vnd.jupyter.widget-view+json": {
       "model_id": "e192ac5ff52c406b807aaf3cdb01d0ab",
       "version_major": 2,
       "version_minor": 0
      },
      "text/plain": [
       "HBox(children=(FloatProgress(value=0.0, description='Executing', max=17.0, style=ProgressStyle(description_wid…"
      ]
     },
     "metadata": {},
     "output_type": "display_data"
    },
    {
     "name": "stdout",
     "output_type": "stream",
     "text": [
      "\n",
      "2019_03_22__T186_T186-164847\n",
      "Notebook_6_a.ipynb is being executed\n"
     ]
    },
    {
     "data": {
      "application/vnd.jupyter.widget-view+json": {
       "model_id": "880ade68ac744b149d05e8d625466d0d",
       "version_major": 2,
       "version_minor": 0
      },
      "text/plain": [
       "HBox(children=(FloatProgress(value=0.0, description='Executing', max=10.0, style=ProgressStyle(description_wid…"
      ]
     },
     "metadata": {},
     "output_type": "display_data"
    },
    {
     "name": "stdout",
     "output_type": "stream",
     "text": [
      "\n",
      "2019_03_22__T186_T186-164847\n",
      "Notebook_7_b.ipynb is being executed\n"
     ]
    },
    {
     "data": {
      "application/vnd.jupyter.widget-view+json": {
       "model_id": "e205c549d6744fdfa7ca049afd936606",
       "version_major": 2,
       "version_minor": 0
      },
      "text/plain": [
       "HBox(children=(FloatProgress(value=0.0, description='Executing', max=36.0, style=ProgressStyle(description_wid…"
      ]
     },
     "metadata": {},
     "output_type": "display_data"
    },
    {
     "name": "stdout",
     "output_type": "stream",
     "text": [
      "\n",
      "T186_2019_03_27_Notebook_0_a: This session already exists - no need to re-run ;)\n",
      "T186_2019_03_27_Notebook_1_a: This session already exists - no need to re-run ;)\n",
      "T186_2019_03_27_Notebook_2_a: This session already exists - no need to re-run ;)\n",
      "T186_2019_03_27_Notebook_3_c: This session already exists - no need to re-run ;)\n",
      "T186_2019_03_27_Notebook_4_a: This session already exists - no need to re-run ;)\n",
      "T186_2019_03_27_Notebook_4_b: This session already exists - no need to re-run ;)\n",
      "T186_2019_03_27_Notebook_4_c: This session already exists - no need to re-run ;)\n",
      "T186_2019_03_27_Notebook_4_d: This session already exists - no need to re-run ;)\n",
      "T186_2019_03_27_Notebook_4_e: This session already exists - no need to re-run ;)\n",
      "2019_03_27__T186_T186-150703\n",
      "Notebook_5_a.ipynb is being executed\n"
     ]
    },
    {
     "data": {
      "application/vnd.jupyter.widget-view+json": {
       "model_id": "80520ce684ca483eb0d7aff3668ceeab",
       "version_major": 2,
       "version_minor": 0
      },
      "text/plain": [
       "HBox(children=(FloatProgress(value=0.0, description='Executing', max=17.0, style=ProgressStyle(description_wid…"
      ]
     },
     "metadata": {},
     "output_type": "display_data"
    },
    {
     "name": "stdout",
     "output_type": "stream",
     "text": [
      "\n",
      "2019_03_27__T186_T186-150703\n",
      "Notebook_6_a.ipynb is being executed\n"
     ]
    },
    {
     "data": {
      "application/vnd.jupyter.widget-view+json": {
       "model_id": "d9fe114945a044899d2e7c8cf765aac9",
       "version_major": 2,
       "version_minor": 0
      },
      "text/plain": [
       "HBox(children=(FloatProgress(value=0.0, description='Executing', max=10.0, style=ProgressStyle(description_wid…"
      ]
     },
     "metadata": {},
     "output_type": "display_data"
    },
    {
     "name": "stdout",
     "output_type": "stream",
     "text": [
      "\n",
      "2019_03_27__T186_T186-150703\n",
      "Notebook_7_b.ipynb is being executed\n"
     ]
    },
    {
     "data": {
      "application/vnd.jupyter.widget-view+json": {
       "model_id": "63cc990978394c1892f7d07b4407c3a3",
       "version_major": 2,
       "version_minor": 0
      },
      "text/plain": [
       "HBox(children=(FloatProgress(value=0.0, description='Executing', max=36.0, style=ProgressStyle(description_wid…"
      ]
     },
     "metadata": {},
     "output_type": "display_data"
    },
    {
     "name": "stdout",
     "output_type": "stream",
     "text": [
      "\n",
      "T186_2019_03_28_Notebook_0_a: This session already exists - no need to re-run ;)\n",
      "T186_2019_03_28_Notebook_1_a: This session already exists - no need to re-run ;)\n",
      "T186_2019_03_28_Notebook_2_a: This session already exists - no need to re-run ;)\n",
      "T186_2019_03_28_Notebook_3_c: This session already exists - no need to re-run ;)\n",
      "T186_2019_03_28_Notebook_4_a: This session already exists - no need to re-run ;)\n",
      "T186_2019_03_28_Notebook_4_b: This session already exists - no need to re-run ;)\n",
      "T186_2019_03_28_Notebook_4_c: This session already exists - no need to re-run ;)\n",
      "T186_2019_03_28_Notebook_4_d: This session already exists - no need to re-run ;)\n",
      "T186_2019_03_28_Notebook_4_e: This session already exists - no need to re-run ;)\n",
      "2019_03_28__T186_T186-144534\n",
      "Notebook_5_a.ipynb is being executed\n"
     ]
    },
    {
     "data": {
      "application/vnd.jupyter.widget-view+json": {
       "model_id": "67ea7dd519c842e3aa120c7141091091",
       "version_major": 2,
       "version_minor": 0
      },
      "text/plain": [
       "HBox(children=(FloatProgress(value=0.0, description='Executing', max=17.0, style=ProgressStyle(description_wid…"
      ]
     },
     "metadata": {},
     "output_type": "display_data"
    },
    {
     "name": "stdout",
     "output_type": "stream",
     "text": [
      "\n",
      "2019_03_28__T186_T186-144534\n",
      "Notebook_6_a.ipynb is being executed\n"
     ]
    },
    {
     "data": {
      "application/vnd.jupyter.widget-view+json": {
       "model_id": "a66138296fef4faeae8f4b9234fd83c2",
       "version_major": 2,
       "version_minor": 0
      },
      "text/plain": [
       "HBox(children=(FloatProgress(value=0.0, description='Executing', max=10.0, style=ProgressStyle(description_wid…"
      ]
     },
     "metadata": {},
     "output_type": "display_data"
    },
    {
     "name": "stdout",
     "output_type": "stream",
     "text": [
      "\n",
      "2019_03_28__T186_T186-144534\n",
      "Notebook_7_b.ipynb is being executed\n"
     ]
    },
    {
     "data": {
      "application/vnd.jupyter.widget-view+json": {
       "model_id": "88471cfcf6a44e5097940e78c08feef4",
       "version_major": 2,
       "version_minor": 0
      },
      "text/plain": [
       "HBox(children=(FloatProgress(value=0.0, description='Executing', max=36.0, style=ProgressStyle(description_wid…"
      ]
     },
     "metadata": {},
     "output_type": "display_data"
    },
    {
     "name": "stdout",
     "output_type": "stream",
     "text": [
      "\n",
      "T186_2019_04_01_Notebook_0_a: This session already exists - no need to re-run ;)\n",
      "T186_2019_04_01_Notebook_1_a: This session already exists - no need to re-run ;)\n",
      "T186_2019_04_01_Notebook_2_a: This session already exists - no need to re-run ;)\n",
      "T186_2019_04_01_Notebook_3_c: This session already exists - no need to re-run ;)\n",
      "T186_2019_04_01_Notebook_4_a: This session already exists - no need to re-run ;)\n",
      "T186_2019_04_01_Notebook_4_b: This session already exists - no need to re-run ;)\n",
      "T186_2019_04_01_Notebook_4_c: This session already exists - no need to re-run ;)\n",
      "T186_2019_04_01_Notebook_4_d: This session already exists - no need to re-run ;)\n",
      "T186_2019_04_01_Notebook_4_e: This session already exists - no need to re-run ;)\n",
      "2019_04_01__T186_T186-142719\n",
      "Notebook_5_a.ipynb is being executed\n"
     ]
    },
    {
     "data": {
      "application/vnd.jupyter.widget-view+json": {
       "model_id": "c3170981c7b74990bab1fd76da78d484",
       "version_major": 2,
       "version_minor": 0
      },
      "text/plain": [
       "HBox(children=(FloatProgress(value=0.0, description='Executing', max=17.0, style=ProgressStyle(description_wid…"
      ]
     },
     "metadata": {},
     "output_type": "display_data"
    },
    {
     "name": "stdout",
     "output_type": "stream",
     "text": [
      "\n",
      "2019_04_01__T186_T186-142719\n",
      "Notebook_6_a.ipynb is being executed\n"
     ]
    },
    {
     "data": {
      "application/vnd.jupyter.widget-view+json": {
       "model_id": "a8a6d5e98a7d488ab567c491011b4966",
       "version_major": 2,
       "version_minor": 0
      },
      "text/plain": [
       "HBox(children=(FloatProgress(value=0.0, description='Executing', max=10.0, style=ProgressStyle(description_wid…"
      ]
     },
     "metadata": {},
     "output_type": "display_data"
    },
    {
     "name": "stdout",
     "output_type": "stream",
     "text": [
      "\n",
      "2019_04_01__T186_T186-142719\n",
      "Notebook_7_b.ipynb is being executed\n"
     ]
    },
    {
     "data": {
      "application/vnd.jupyter.widget-view+json": {
       "model_id": "d729e3db0f9f41f091a736704faa5832",
       "version_major": 2,
       "version_minor": 0
      },
      "text/plain": [
       "HBox(children=(FloatProgress(value=0.0, description='Executing', max=36.0, style=ProgressStyle(description_wid…"
      ]
     },
     "metadata": {},
     "output_type": "display_data"
    },
    {
     "name": "stdout",
     "output_type": "stream",
     "text": [
      "\n",
      "T186_2019_04_02_Notebook_0_a: This session already exists - no need to re-run ;)\n",
      "T186_2019_04_02_Notebook_1_a: This session already exists - no need to re-run ;)\n",
      "T186_2019_04_02_Notebook_2_a: This session already exists - no need to re-run ;)\n",
      "T186_2019_04_02_Notebook_3_c: This session already exists - no need to re-run ;)\n",
      "T186_2019_04_02_Notebook_4_a: This session already exists - no need to re-run ;)\n",
      "T186_2019_04_02_Notebook_4_b: This session already exists - no need to re-run ;)\n",
      "T186_2019_04_02_Notebook_4_c: This session already exists - no need to re-run ;)\n",
      "T186_2019_04_02_Notebook_4_d: This session already exists - no need to re-run ;)\n",
      "T186_2019_04_02_Notebook_4_e: This session already exists - no need to re-run ;)\n",
      "2019_04_02__T186_T186-140234\n",
      "Notebook_5_a.ipynb is being executed\n"
     ]
    },
    {
     "data": {
      "application/vnd.jupyter.widget-view+json": {
       "model_id": "a7321b186db147db8a3bcb03e5078fef",
       "version_major": 2,
       "version_minor": 0
      },
      "text/plain": [
       "HBox(children=(FloatProgress(value=0.0, description='Executing', max=17.0, style=ProgressStyle(description_wid…"
      ]
     },
     "metadata": {},
     "output_type": "display_data"
    },
    {
     "name": "stdout",
     "output_type": "stream",
     "text": [
      "\n",
      "2019_04_02__T186_T186-140234\n",
      "Notebook_6_a.ipynb is being executed\n"
     ]
    },
    {
     "data": {
      "application/vnd.jupyter.widget-view+json": {
       "model_id": "efb07dce1254487e9f0787972f7bb3ee",
       "version_major": 2,
       "version_minor": 0
      },
      "text/plain": [
       "HBox(children=(FloatProgress(value=0.0, description='Executing', max=10.0, style=ProgressStyle(description_wid…"
      ]
     },
     "metadata": {},
     "output_type": "display_data"
    },
    {
     "name": "stdout",
     "output_type": "stream",
     "text": [
      "\n",
      "2019_04_02__T186_T186-140234\n",
      "Notebook_7_b.ipynb is being executed\n"
     ]
    },
    {
     "data": {
      "application/vnd.jupyter.widget-view+json": {
       "model_id": "7abe1a8be59c4edeb6c3e701a58cf75a",
       "version_major": 2,
       "version_minor": 0
      },
      "text/plain": [
       "HBox(children=(FloatProgress(value=0.0, description='Executing', max=36.0, style=ProgressStyle(description_wid…"
      ]
     },
     "metadata": {},
     "output_type": "display_data"
    },
    {
     "name": "stdout",
     "output_type": "stream",
     "text": [
      "\n",
      "T186_2019_04_05_Notebook_0_a: This session already exists - no need to re-run ;)\n",
      "T186_2019_04_05_Notebook_1_a: This session already exists - no need to re-run ;)\n",
      "T186_2019_04_05_Notebook_2_a: This session already exists - no need to re-run ;)\n",
      "T186_2019_04_05_Notebook_3_c: This session already exists - no need to re-run ;)\n",
      "T186_2019_04_05_Notebook_4_a: This session already exists - no need to re-run ;)\n",
      "T186_2019_04_05_Notebook_4_b: This session already exists - no need to re-run ;)\n",
      "T186_2019_04_05_Notebook_4_c: This session already exists - no need to re-run ;)\n",
      "T186_2019_04_05_Notebook_4_d: This session already exists - no need to re-run ;)\n",
      "T186_2019_04_05_Notebook_4_e: This session already exists - no need to re-run ;)\n",
      "2019_04_05__T186_T186-135725\n",
      "Notebook_5_a.ipynb is being executed\n"
     ]
    },
    {
     "data": {
      "application/vnd.jupyter.widget-view+json": {
       "model_id": "1d3b29783b324f3ab961b083e3803133",
       "version_major": 2,
       "version_minor": 0
      },
      "text/plain": [
       "HBox(children=(FloatProgress(value=0.0, description='Executing', max=17.0, style=ProgressStyle(description_wid…"
      ]
     },
     "metadata": {},
     "output_type": "display_data"
    },
    {
     "name": "stdout",
     "output_type": "stream",
     "text": [
      "\n",
      "2019_04_05__T186_T186-135725\n",
      "Notebook_6_a.ipynb is being executed\n"
     ]
    },
    {
     "data": {
      "application/vnd.jupyter.widget-view+json": {
       "model_id": "617550303d5d4dddbc02b766cd484ae1",
       "version_major": 2,
       "version_minor": 0
      },
      "text/plain": [
       "HBox(children=(FloatProgress(value=0.0, description='Executing', max=10.0, style=ProgressStyle(description_wid…"
      ]
     },
     "metadata": {},
     "output_type": "display_data"
    },
    {
     "name": "stdout",
     "output_type": "stream",
     "text": [
      "\n",
      "2019_04_05__T186_T186-135725\n",
      "Notebook_7_b.ipynb is being executed\n"
     ]
    },
    {
     "data": {
      "application/vnd.jupyter.widget-view+json": {
       "model_id": "eda7cf5c5e2041adb22e9751d881ca96",
       "version_major": 2,
       "version_minor": 0
      },
      "text/plain": [
       "HBox(children=(FloatProgress(value=0.0, description='Executing', max=36.0, style=ProgressStyle(description_wid…"
      ]
     },
     "metadata": {},
     "output_type": "display_data"
    },
    {
     "name": "stdout",
     "output_type": "stream",
     "text": [
      "\n",
      "T187_2019_03_22_Notebook_0_a: This session already exists - no need to re-run ;)\n",
      "T187_2019_03_22_Notebook_1_a: This session already exists - no need to re-run ;)\n",
      "T187_2019_03_22_Notebook_2_a: This session already exists - no need to re-run ;)\n",
      "T187_2019_03_22_Notebook_3_c: This session already exists - no need to re-run ;)\n",
      "T187_2019_03_22_Notebook_4_a: This session already exists - no need to re-run ;)\n",
      "T187_2019_03_22_Notebook_4_b: This session already exists - no need to re-run ;)\n",
      "T187_2019_03_22_Notebook_4_c: This session already exists - no need to re-run ;)\n",
      "T187_2019_03_22_Notebook_4_d: This session already exists - no need to re-run ;)\n",
      "T187_2019_03_22_Notebook_4_e: This session already exists - no need to re-run ;)\n",
      "2019_03_22__T187_T187-172139\n",
      "Notebook_5_a.ipynb is being executed\n"
     ]
    },
    {
     "data": {
      "application/vnd.jupyter.widget-view+json": {
       "model_id": "85ee316915fe417ea10b3726d037c41c",
       "version_major": 2,
       "version_minor": 0
      },
      "text/plain": [
       "HBox(children=(FloatProgress(value=0.0, description='Executing', max=17.0, style=ProgressStyle(description_wid…"
      ]
     },
     "metadata": {},
     "output_type": "display_data"
    },
    {
     "name": "stdout",
     "output_type": "stream",
     "text": [
      "\n",
      "2019_03_22__T187_T187-172139\n",
      "Notebook_6_a.ipynb is being executed\n"
     ]
    },
    {
     "data": {
      "application/vnd.jupyter.widget-view+json": {
       "model_id": "2b57ab71031e41a393c2e4feff6d0b04",
       "version_major": 2,
       "version_minor": 0
      },
      "text/plain": [
       "HBox(children=(FloatProgress(value=0.0, description='Executing', max=10.0, style=ProgressStyle(description_wid…"
      ]
     },
     "metadata": {},
     "output_type": "display_data"
    },
    {
     "name": "stdout",
     "output_type": "stream",
     "text": [
      "\n",
      "2019_03_22__T187_T187-172139\n",
      "Notebook_7_b.ipynb is being executed\n"
     ]
    },
    {
     "data": {
      "application/vnd.jupyter.widget-view+json": {
       "model_id": "224fd76cb71644b89f65a8a8cdddf46f",
       "version_major": 2,
       "version_minor": 0
      },
      "text/plain": [
       "HBox(children=(FloatProgress(value=0.0, description='Executing', max=36.0, style=ProgressStyle(description_wid…"
      ]
     },
     "metadata": {},
     "output_type": "display_data"
    },
    {
     "name": "stdout",
     "output_type": "stream",
     "text": [
      "\n",
      "T187_2019_03_25_Notebook_0_a: This session already exists - no need to re-run ;)\n",
      "T187_2019_03_25_Notebook_1_a: This session already exists - no need to re-run ;)\n",
      "T187_2019_03_25_Notebook_2_a: This session already exists - no need to re-run ;)\n",
      "T187_2019_03_25_Notebook_3_c: This session already exists - no need to re-run ;)\n",
      "T187_2019_03_25_Notebook_4_a: This session already exists - no need to re-run ;)\n",
      "T187_2019_03_25_Notebook_4_b: This session already exists - no need to re-run ;)\n",
      "T187_2019_03_25_Notebook_4_c: This session already exists - no need to re-run ;)\n",
      "T187_2019_03_25_Notebook_4_d: This session already exists - no need to re-run ;)\n",
      "T187_2019_03_25_Notebook_4_e: This session already exists - no need to re-run ;)\n",
      "2019_03_25__T187_T187-153540\n",
      "Notebook_5_a.ipynb is being executed\n"
     ]
    },
    {
     "data": {
      "application/vnd.jupyter.widget-view+json": {
       "model_id": "3a748ee09c394981940bfd6fe1df2f6f",
       "version_major": 2,
       "version_minor": 0
      },
      "text/plain": [
       "HBox(children=(FloatProgress(value=0.0, description='Executing', max=17.0, style=ProgressStyle(description_wid…"
      ]
     },
     "metadata": {},
     "output_type": "display_data"
    },
    {
     "name": "stdout",
     "output_type": "stream",
     "text": [
      "\n",
      "2019_03_25__T187_T187-153540\n",
      "Notebook_6_a.ipynb is being executed\n"
     ]
    },
    {
     "data": {
      "application/vnd.jupyter.widget-view+json": {
       "model_id": "4df037420efb4478ab178a5f664fe67a",
       "version_major": 2,
       "version_minor": 0
      },
      "text/plain": [
       "HBox(children=(FloatProgress(value=0.0, description='Executing', max=10.0, style=ProgressStyle(description_wid…"
      ]
     },
     "metadata": {},
     "output_type": "display_data"
    },
    {
     "name": "stdout",
     "output_type": "stream",
     "text": [
      "\n",
      "2019_03_25__T187_T187-153540\n",
      "Notebook_7_b.ipynb is being executed\n"
     ]
    },
    {
     "data": {
      "application/vnd.jupyter.widget-view+json": {
       "model_id": "4510cf0cb5734e4ba228885dd03379c8",
       "version_major": 2,
       "version_minor": 0
      },
      "text/plain": [
       "HBox(children=(FloatProgress(value=0.0, description='Executing', max=36.0, style=ProgressStyle(description_wid…"
      ]
     },
     "metadata": {},
     "output_type": "display_data"
    },
    {
     "name": "stdout",
     "output_type": "stream",
     "text": [
      "\n",
      "T187_2019_03_28_Notebook_0_a: This session already exists - no need to re-run ;)\n",
      "T187_2019_03_28_Notebook_1_a: This session already exists - no need to re-run ;)\n",
      "T187_2019_03_28_Notebook_2_a: This session already exists - no need to re-run ;)\n",
      "T187_2019_03_28_Notebook_3_c: This session already exists - no need to re-run ;)\n",
      "T187_2019_03_28_Notebook_4_a: This session already exists - no need to re-run ;)\n",
      "T187_2019_03_28_Notebook_4_b: This session already exists - no need to re-run ;)\n",
      "T187_2019_03_28_Notebook_4_c: This session already exists - no need to re-run ;)\n",
      "T187_2019_03_28_Notebook_4_d: This session already exists - no need to re-run ;)\n",
      "T187_2019_03_28_Notebook_4_e: This session already exists - no need to re-run ;)\n",
      "2019_03_28__T187_T187-152018\n",
      "Notebook_5_a.ipynb is being executed\n"
     ]
    },
    {
     "data": {
      "application/vnd.jupyter.widget-view+json": {
       "model_id": "291a231c366640c4b7dd531367851595",
       "version_major": 2,
       "version_minor": 0
      },
      "text/plain": [
       "HBox(children=(FloatProgress(value=0.0, description='Executing', max=17.0, style=ProgressStyle(description_wid…"
      ]
     },
     "metadata": {},
     "output_type": "display_data"
    },
    {
     "name": "stdout",
     "output_type": "stream",
     "text": [
      "\n",
      "2019_03_28__T187_T187-152018\n",
      "Notebook_6_a.ipynb is being executed\n"
     ]
    },
    {
     "data": {
      "application/vnd.jupyter.widget-view+json": {
       "model_id": "f26e9cffa3744f559b278e739a79a782",
       "version_major": 2,
       "version_minor": 0
      },
      "text/plain": [
       "HBox(children=(FloatProgress(value=0.0, description='Executing', max=10.0, style=ProgressStyle(description_wid…"
      ]
     },
     "metadata": {},
     "output_type": "display_data"
    },
    {
     "name": "stdout",
     "output_type": "stream",
     "text": [
      "\n",
      "2019_03_28__T187_T187-152018\n",
      "Notebook_7_b.ipynb is being executed\n"
     ]
    },
    {
     "data": {
      "application/vnd.jupyter.widget-view+json": {
       "model_id": "4ba2fb549eb146f4bd7c67a88c33f12c",
       "version_major": 2,
       "version_minor": 0
      },
      "text/plain": [
       "HBox(children=(FloatProgress(value=0.0, description='Executing', max=36.0, style=ProgressStyle(description_wid…"
      ]
     },
     "metadata": {},
     "output_type": "display_data"
    },
    {
     "name": "stdout",
     "output_type": "stream",
     "text": [
      "\n",
      "T187_2019_04_01_Notebook_0_a: This session already exists - no need to re-run ;)\n",
      "T187_2019_04_01_Notebook_1_a: This session already exists - no need to re-run ;)\n",
      "T187_2019_04_01_Notebook_2_a: This session already exists - no need to re-run ;)\n",
      "T187_2019_04_01_Notebook_3_c: This session already exists - no need to re-run ;)\n",
      "T187_2019_04_01_Notebook_4_a: This session already exists - no need to re-run ;)\n",
      "T187_2019_04_01_Notebook_4_b: This session already exists - no need to re-run ;)\n",
      "T187_2019_04_01_Notebook_4_c: This session already exists - no need to re-run ;)\n",
      "T187_2019_04_01_Notebook_4_d: This session already exists - no need to re-run ;)\n",
      "T187_2019_04_01_Notebook_4_e: This session already exists - no need to re-run ;)\n",
      "2019_04_01__T187_T187-150132\n",
      "Notebook_5_a.ipynb is being executed\n"
     ]
    },
    {
     "data": {
      "application/vnd.jupyter.widget-view+json": {
       "model_id": "3f0312ae29b94b59acb913e39b74b29f",
       "version_major": 2,
       "version_minor": 0
      },
      "text/plain": [
       "HBox(children=(FloatProgress(value=0.0, description='Executing', max=17.0, style=ProgressStyle(description_wid…"
      ]
     },
     "metadata": {},
     "output_type": "display_data"
    },
    {
     "name": "stdout",
     "output_type": "stream",
     "text": [
      "\n",
      "2019_04_01__T187_T187-150132\n",
      "Notebook_6_a.ipynb is being executed\n"
     ]
    },
    {
     "data": {
      "application/vnd.jupyter.widget-view+json": {
       "model_id": "7eb7205c394a4348a9e29b1c75e75d19",
       "version_major": 2,
       "version_minor": 0
      },
      "text/plain": [
       "HBox(children=(FloatProgress(value=0.0, description='Executing', max=10.0, style=ProgressStyle(description_wid…"
      ]
     },
     "metadata": {},
     "output_type": "display_data"
    },
    {
     "name": "stdout",
     "output_type": "stream",
     "text": [
      "\n",
      "2019_04_01__T187_T187-150132\n",
      "Notebook_7_b.ipynb is being executed\n"
     ]
    },
    {
     "data": {
      "application/vnd.jupyter.widget-view+json": {
       "model_id": "65b7a709434347e388dcc8288bdda7a3",
       "version_major": 2,
       "version_minor": 0
      },
      "text/plain": [
       "HBox(children=(FloatProgress(value=0.0, description='Executing', max=36.0, style=ProgressStyle(description_wid…"
      ]
     },
     "metadata": {},
     "output_type": "display_data"
    },
    {
     "name": "stdout",
     "output_type": "stream",
     "text": [
      "\n",
      "T187_2019_04_02_Notebook_0_a: This session already exists - no need to re-run ;)\n",
      "T187_2019_04_02_Notebook_1_a: This session already exists - no need to re-run ;)\n",
      "T187_2019_04_02_Notebook_2_a: This session already exists - no need to re-run ;)\n",
      "T187_2019_04_02_Notebook_3_c: This session already exists - no need to re-run ;)\n",
      "T187_2019_04_02_Notebook_4_a: This session already exists - no need to re-run ;)\n",
      "T187_2019_04_02_Notebook_4_b: This session already exists - no need to re-run ;)\n",
      "T187_2019_04_02_Notebook_4_c: This session already exists - no need to re-run ;)\n",
      "T187_2019_04_02_Notebook_4_d: This session already exists - no need to re-run ;)\n",
      "T187_2019_04_02_Notebook_4_e: This session already exists - no need to re-run ;)\n",
      "2019_04_02__T187_T187-142756\n",
      "Notebook_5_a.ipynb is being executed\n"
     ]
    },
    {
     "data": {
      "application/vnd.jupyter.widget-view+json": {
       "model_id": "2620332ddf72467d889f48cf6684dd99",
       "version_major": 2,
       "version_minor": 0
      },
      "text/plain": [
       "HBox(children=(FloatProgress(value=0.0, description='Executing', max=17.0, style=ProgressStyle(description_wid…"
      ]
     },
     "metadata": {},
     "output_type": "display_data"
    },
    {
     "name": "stdout",
     "output_type": "stream",
     "text": [
      "\n",
      "2019_04_02__T187_T187-142756\n",
      "Notebook_6_a.ipynb is being executed\n"
     ]
    },
    {
     "data": {
      "application/vnd.jupyter.widget-view+json": {
       "model_id": "3260815a0a2041b4a8c5bf73c66b9230",
       "version_major": 2,
       "version_minor": 0
      },
      "text/plain": [
       "HBox(children=(FloatProgress(value=0.0, description='Executing', max=10.0, style=ProgressStyle(description_wid…"
      ]
     },
     "metadata": {},
     "output_type": "display_data"
    },
    {
     "name": "stdout",
     "output_type": "stream",
     "text": [
      "\n",
      "2019_04_02__T187_T187-142756\n",
      "Notebook_7_b.ipynb is being executed\n"
     ]
    },
    {
     "data": {
      "application/vnd.jupyter.widget-view+json": {
       "model_id": "84c68d7aad1f455aa3ad6e0c95bedbf8",
       "version_major": 2,
       "version_minor": 0
      },
      "text/plain": [
       "HBox(children=(FloatProgress(value=0.0, description='Executing', max=36.0, style=ProgressStyle(description_wid…"
      ]
     },
     "metadata": {},
     "output_type": "display_data"
    },
    {
     "name": "stdout",
     "output_type": "stream",
     "text": [
      "\n",
      "T187_2019_04_03_Notebook_0_a: This session already exists - no need to re-run ;)\n",
      "T187_2019_04_03_Notebook_1_a: This session already exists - no need to re-run ;)\n",
      "T187_2019_04_03_Notebook_2_a: This session already exists - no need to re-run ;)\n",
      "T187_2019_04_03_Notebook_3_c: This session already exists - no need to re-run ;)\n",
      "T187_2019_04_03_Notebook_4_a: This session already exists - no need to re-run ;)\n",
      "T187_2019_04_03_Notebook_4_b: This session already exists - no need to re-run ;)\n",
      "T187_2019_04_03_Notebook_4_c: This session already exists - no need to re-run ;)\n",
      "T187_2019_04_03_Notebook_4_d: This session already exists - no need to re-run ;)\n",
      "T187_2019_04_03_Notebook_4_e: This session already exists - no need to re-run ;)\n",
      "2019_04_03__T187_T187-143148\n",
      "Notebook_5_a.ipynb is being executed\n"
     ]
    },
    {
     "data": {
      "application/vnd.jupyter.widget-view+json": {
       "model_id": "ee4a026447ff4ff5913d3cff2e561790",
       "version_major": 2,
       "version_minor": 0
      },
      "text/plain": [
       "HBox(children=(FloatProgress(value=0.0, description='Executing', max=17.0, style=ProgressStyle(description_wid…"
      ]
     },
     "metadata": {},
     "output_type": "display_data"
    },
    {
     "name": "stdout",
     "output_type": "stream",
     "text": [
      "\n",
      "2019_04_03__T187_T187-143148\n",
      "Notebook_6_a.ipynb is being executed\n"
     ]
    },
    {
     "data": {
      "application/vnd.jupyter.widget-view+json": {
       "model_id": "8ffa198e91ca45279dc33569c607c657",
       "version_major": 2,
       "version_minor": 0
      },
      "text/plain": [
       "HBox(children=(FloatProgress(value=0.0, description='Executing', max=10.0, style=ProgressStyle(description_wid…"
      ]
     },
     "metadata": {},
     "output_type": "display_data"
    },
    {
     "name": "stdout",
     "output_type": "stream",
     "text": [
      "\n",
      "2019_04_03__T187_T187-143148\n",
      "Notebook_7_b.ipynb is being executed\n"
     ]
    },
    {
     "data": {
      "application/vnd.jupyter.widget-view+json": {
       "model_id": "5d8335405336443ba075233280743803",
       "version_major": 2,
       "version_minor": 0
      },
      "text/plain": [
       "HBox(children=(FloatProgress(value=0.0, description='Executing', max=36.0, style=ProgressStyle(description_wid…"
      ]
     },
     "metadata": {},
     "output_type": "display_data"
    },
    {
     "name": "stdout",
     "output_type": "stream",
     "text": [
      "\n",
      "T187_2019_04_04_Notebook_0_a: This session already exists - no need to re-run ;)\n",
      "T187_2019_04_04_Notebook_1_a: This session already exists - no need to re-run ;)\n",
      "T187_2019_04_04_Notebook_2_a: This session already exists - no need to re-run ;)\n",
      "T187_2019_04_04_Notebook_3_c: This session already exists - no need to re-run ;)\n",
      "T187_2019_04_04_Notebook_4_a: This session already exists - no need to re-run ;)\n",
      "T187_2019_04_04_Notebook_4_b: This session already exists - no need to re-run ;)\n",
      "T187_2019_04_04_Notebook_4_c: This session already exists - no need to re-run ;)\n",
      "T187_2019_04_04_Notebook_4_d: This session already exists - no need to re-run ;)\n",
      "T187_2019_04_04_Notebook_4_e: This session already exists - no need to re-run ;)\n",
      "2019_04_04__T187_T187-142541\n",
      "Notebook_5_a.ipynb is being executed\n"
     ]
    },
    {
     "data": {
      "application/vnd.jupyter.widget-view+json": {
       "model_id": "804de7b4b1404c1bba14219cb77cec66",
       "version_major": 2,
       "version_minor": 0
      },
      "text/plain": [
       "HBox(children=(FloatProgress(value=0.0, description='Executing', max=17.0, style=ProgressStyle(description_wid…"
      ]
     },
     "metadata": {},
     "output_type": "display_data"
    },
    {
     "name": "stdout",
     "output_type": "stream",
     "text": [
      "\n",
      "2019_04_04__T187_T187-142541\n",
      "Notebook_6_a.ipynb is being executed\n"
     ]
    },
    {
     "data": {
      "application/vnd.jupyter.widget-view+json": {
       "model_id": "fc2f6b7117b0495fbef005fa354af5e5",
       "version_major": 2,
       "version_minor": 0
      },
      "text/plain": [
       "HBox(children=(FloatProgress(value=0.0, description='Executing', max=10.0, style=ProgressStyle(description_wid…"
      ]
     },
     "metadata": {},
     "output_type": "display_data"
    },
    {
     "name": "stdout",
     "output_type": "stream",
     "text": [
      "\n",
      "2019_04_04__T187_T187-142541\n",
      "Notebook_7_b.ipynb is being executed\n"
     ]
    },
    {
     "data": {
      "application/vnd.jupyter.widget-view+json": {
       "model_id": "e081af1a2a3243e88adf5e0a3406358f",
       "version_major": 2,
       "version_minor": 0
      },
      "text/plain": [
       "HBox(children=(FloatProgress(value=0.0, description='Executing', max=36.0, style=ProgressStyle(description_wid…"
      ]
     },
     "metadata": {},
     "output_type": "display_data"
    },
    {
     "name": "stdout",
     "output_type": "stream",
     "text": [
      "\n",
      "T196_2019_04_22_Notebook_0_a: This session already exists - no need to re-run ;)\n",
      "T196_2019_04_22_Notebook_1_a: This session already exists - no need to re-run ;)\n",
      "T196_2019_04_22_Notebook_2_a: This session already exists - no need to re-run ;)\n",
      "T196_2019_04_22_Notebook_3_c: This session already exists - no need to re-run ;)\n",
      "T196_2019_04_22_Notebook_4_a: This session already exists - no need to re-run ;)\n",
      "T196_2019_04_22_Notebook_4_b: This session already exists - no need to re-run ;)\n",
      "T196_2019_04_22_Notebook_4_c: This session already exists - no need to re-run ;)\n",
      "T196_2019_04_22_Notebook_4_d: This session already exists - no need to re-run ;)\n",
      "T196_2019_04_22_Notebook_4_e: This session already exists - no need to re-run ;)\n",
      "2019_04_22__T196_T196-172239\n",
      "Notebook_5_a.ipynb is being executed\n"
     ]
    },
    {
     "data": {
      "application/vnd.jupyter.widget-view+json": {
       "model_id": "3ae898362b6d4bdd8c6bbbef973f618e",
       "version_major": 2,
       "version_minor": 0
      },
      "text/plain": [
       "HBox(children=(FloatProgress(value=0.0, description='Executing', max=17.0, style=ProgressStyle(description_wid…"
      ]
     },
     "metadata": {},
     "output_type": "display_data"
    },
    {
     "name": "stdout",
     "output_type": "stream",
     "text": [
      "\n",
      "2019_04_22__T196_T196-172239\n",
      "Notebook_6_a.ipynb is being executed\n"
     ]
    },
    {
     "data": {
      "application/vnd.jupyter.widget-view+json": {
       "model_id": "69fcec184bf54b9b81f0d93c3203f450",
       "version_major": 2,
       "version_minor": 0
      },
      "text/plain": [
       "HBox(children=(FloatProgress(value=0.0, description='Executing', max=10.0, style=ProgressStyle(description_wid…"
      ]
     },
     "metadata": {},
     "output_type": "display_data"
    },
    {
     "name": "stdout",
     "output_type": "stream",
     "text": [
      "\n",
      "2019_04_22__T196_T196-172239\n",
      "Notebook_7_b.ipynb is being executed\n"
     ]
    },
    {
     "data": {
      "application/vnd.jupyter.widget-view+json": {
       "model_id": "b852fe9b140f4a16828a01d6535efbae",
       "version_major": 2,
       "version_minor": 0
      },
      "text/plain": [
       "HBox(children=(FloatProgress(value=0.0, description='Executing', max=36.0, style=ProgressStyle(description_wid…"
      ]
     },
     "metadata": {},
     "output_type": "display_data"
    },
    {
     "name": "stdout",
     "output_type": "stream",
     "text": [
      "\n",
      "T196_2019_04_24_Notebook_0_a: This session already exists - no need to re-run ;)\n",
      "T196_2019_04_24_Notebook_1_a: This session already exists - no need to re-run ;)\n",
      "T196_2019_04_24_Notebook_2_a: This session already exists - no need to re-run ;)\n",
      "T196_2019_04_24_Notebook_3_c: This session already exists - no need to re-run ;)\n",
      "T196_2019_04_24_Notebook_4_a: This session already exists - no need to re-run ;)\n",
      "T196_2019_04_24_Notebook_4_b: This session already exists - no need to re-run ;)\n",
      "T196_2019_04_24_Notebook_4_c: This session already exists - no need to re-run ;)\n",
      "T196_2019_04_24_Notebook_4_d: This session already exists - no need to re-run ;)\n",
      "T196_2019_04_24_Notebook_4_e: This session already exists - no need to re-run ;)\n",
      "2019_04_24__T196_T196-170637\n",
      "Notebook_5_a.ipynb is being executed\n"
     ]
    },
    {
     "data": {
      "application/vnd.jupyter.widget-view+json": {
       "model_id": "e35b2a44cda543928233b4b09e301019",
       "version_major": 2,
       "version_minor": 0
      },
      "text/plain": [
       "HBox(children=(FloatProgress(value=0.0, description='Executing', max=17.0, style=ProgressStyle(description_wid…"
      ]
     },
     "metadata": {},
     "output_type": "display_data"
    },
    {
     "name": "stdout",
     "output_type": "stream",
     "text": [
      "\n",
      "2019_04_24__T196_T196-170637\n",
      "Notebook_6_a.ipynb is being executed\n"
     ]
    },
    {
     "data": {
      "application/vnd.jupyter.widget-view+json": {
       "model_id": "dd00dafeb6dd41ad85d170dfa8c5d2be",
       "version_major": 2,
       "version_minor": 0
      },
      "text/plain": [
       "HBox(children=(FloatProgress(value=0.0, description='Executing', max=10.0, style=ProgressStyle(description_wid…"
      ]
     },
     "metadata": {},
     "output_type": "display_data"
    },
    {
     "name": "stdout",
     "output_type": "stream",
     "text": [
      "\n",
      "2019_04_24__T196_T196-170637\n",
      "Notebook_7_b.ipynb is being executed\n"
     ]
    },
    {
     "data": {
      "application/vnd.jupyter.widget-view+json": {
       "model_id": "2d2141a968a14ae7a8ff44639cb6f263",
       "version_major": 2,
       "version_minor": 0
      },
      "text/plain": [
       "HBox(children=(FloatProgress(value=0.0, description='Executing', max=36.0, style=ProgressStyle(description_wid…"
      ]
     },
     "metadata": {},
     "output_type": "display_data"
    },
    {
     "name": "stdout",
     "output_type": "stream",
     "text": [
      "\n",
      "T196_2019_04_29_Notebook_0_a: This session already exists - no need to re-run ;)\n",
      "T196_2019_04_29_Notebook_1_a: This session already exists - no need to re-run ;)\n",
      "T196_2019_04_29_Notebook_2_a: This session already exists - no need to re-run ;)\n",
      "T196_2019_04_29_Notebook_3_c: This session already exists - no need to re-run ;)\n",
      "T196_2019_04_29_Notebook_4_a: This session already exists - no need to re-run ;)\n",
      "T196_2019_04_29_Notebook_4_b: This session already exists - no need to re-run ;)\n",
      "T196_2019_04_29_Notebook_4_c: This session already exists - no need to re-run ;)\n",
      "T196_2019_04_29_Notebook_4_d: This session already exists - no need to re-run ;)\n",
      "T196_2019_04_29_Notebook_4_e: This session already exists - no need to re-run ;)\n",
      "2019_04_29__T196_T196-151455\n",
      "Notebook_5_a.ipynb is being executed\n"
     ]
    },
    {
     "data": {
      "application/vnd.jupyter.widget-view+json": {
       "model_id": "076961c3f7c648f792d206f0e5aa6d1b",
       "version_major": 2,
       "version_minor": 0
      },
      "text/plain": [
       "HBox(children=(FloatProgress(value=0.0, description='Executing', max=17.0, style=ProgressStyle(description_wid…"
      ]
     },
     "metadata": {},
     "output_type": "display_data"
    },
    {
     "name": "stdout",
     "output_type": "stream",
     "text": [
      "\n",
      "2019_04_29__T196_T196-151455\n",
      "Notebook_6_a.ipynb is being executed\n"
     ]
    },
    {
     "data": {
      "application/vnd.jupyter.widget-view+json": {
       "model_id": "96f004931a7547168600119a5a90db8a",
       "version_major": 2,
       "version_minor": 0
      },
      "text/plain": [
       "HBox(children=(FloatProgress(value=0.0, description='Executing', max=10.0, style=ProgressStyle(description_wid…"
      ]
     },
     "metadata": {},
     "output_type": "display_data"
    },
    {
     "name": "stdout",
     "output_type": "stream",
     "text": [
      "\n",
      "2019_04_29__T196_T196-151455\n",
      "Notebook_7_b.ipynb is being executed\n"
     ]
    },
    {
     "data": {
      "application/vnd.jupyter.widget-view+json": {
       "model_id": "5a7ea67344684e98934606c43af92c0c",
       "version_major": 2,
       "version_minor": 0
      },
      "text/plain": [
       "HBox(children=(FloatProgress(value=0.0, description='Executing', max=36.0, style=ProgressStyle(description_wid…"
      ]
     },
     "metadata": {},
     "output_type": "display_data"
    },
    {
     "name": "stdout",
     "output_type": "stream",
     "text": [
      "\n",
      "T196_2019_04_30_Notebook_0_a: This session already exists - no need to re-run ;)\n",
      "T196_2019_04_30_Notebook_1_a: This session already exists - no need to re-run ;)\n",
      "T196_2019_04_30_Notebook_2_a: This session already exists - no need to re-run ;)\n",
      "T196_2019_04_30_Notebook_3_c: This session already exists - no need to re-run ;)\n",
      "T196_2019_04_30_Notebook_4_a: This session already exists - no need to re-run ;)\n",
      "T196_2019_04_30_Notebook_4_b: This session already exists - no need to re-run ;)\n",
      "T196_2019_04_30_Notebook_4_c: This session already exists - no need to re-run ;)\n",
      "T196_2019_04_30_Notebook_4_d: This session already exists - no need to re-run ;)\n",
      "T196_2019_04_30_Notebook_4_e: This session already exists - no need to re-run ;)\n",
      "2019_04_30__T196_T196-145937\n",
      "Notebook_5_a.ipynb is being executed\n"
     ]
    },
    {
     "data": {
      "application/vnd.jupyter.widget-view+json": {
       "model_id": "17be45c211804ca8b5e85e97489afdb1",
       "version_major": 2,
       "version_minor": 0
      },
      "text/plain": [
       "HBox(children=(FloatProgress(value=0.0, description='Executing', max=17.0, style=ProgressStyle(description_wid…"
      ]
     },
     "metadata": {},
     "output_type": "display_data"
    },
    {
     "name": "stdout",
     "output_type": "stream",
     "text": [
      "\n",
      "2019_04_30__T196_T196-145937\n",
      "Notebook_6_a.ipynb is being executed\n"
     ]
    },
    {
     "data": {
      "application/vnd.jupyter.widget-view+json": {
       "model_id": "bcdb0c5626b0464fb1dec2250ad58a33",
       "version_major": 2,
       "version_minor": 0
      },
      "text/plain": [
       "HBox(children=(FloatProgress(value=0.0, description='Executing', max=10.0, style=ProgressStyle(description_wid…"
      ]
     },
     "metadata": {},
     "output_type": "display_data"
    },
    {
     "name": "stdout",
     "output_type": "stream",
     "text": [
      "\n",
      "2019_04_30__T196_T196-145937\n",
      "Notebook_7_b.ipynb is being executed\n"
     ]
    },
    {
     "data": {
      "application/vnd.jupyter.widget-view+json": {
       "model_id": "c64a9d0787514a98a4d7d683b188d664",
       "version_major": 2,
       "version_minor": 0
      },
      "text/plain": [
       "HBox(children=(FloatProgress(value=0.0, description='Executing', max=36.0, style=ProgressStyle(description_wid…"
      ]
     },
     "metadata": {},
     "output_type": "display_data"
    },
    {
     "name": "stdout",
     "output_type": "stream",
     "text": [
      "\n",
      "T196_2019_05_07_Notebook_0_a: This session already exists - no need to re-run ;)\n",
      "T196_2019_05_07_Notebook_1_a: This session already exists - no need to re-run ;)\n",
      "T196_2019_05_07_Notebook_2_a: This session already exists - no need to re-run ;)\n",
      "T196_2019_05_07_Notebook_3_c: This session already exists - no need to re-run ;)\n",
      "T196_2019_05_07_Notebook_4_a: This session already exists - no need to re-run ;)\n",
      "T196_2019_05_07_Notebook_4_b: This session already exists - no need to re-run ;)\n",
      "T196_2019_05_07_Notebook_4_c: This session already exists - no need to re-run ;)\n",
      "T196_2019_05_07_Notebook_4_d: This session already exists - no need to re-run ;)\n",
      "T196_2019_05_07_Notebook_4_e: This session already exists - no need to re-run ;)\n",
      "2019_05_07__T196_T196-144204\n",
      "Notebook_5_a.ipynb is being executed\n"
     ]
    },
    {
     "data": {
      "application/vnd.jupyter.widget-view+json": {
       "model_id": "6c8f94d5e8fc403a99d5afad8f00ab02",
       "version_major": 2,
       "version_minor": 0
      },
      "text/plain": [
       "HBox(children=(FloatProgress(value=0.0, description='Executing', max=17.0, style=ProgressStyle(description_wid…"
      ]
     },
     "metadata": {},
     "output_type": "display_data"
    },
    {
     "name": "stdout",
     "output_type": "stream",
     "text": [
      "\n",
      "2019_05_07__T196_T196-144204\n",
      "Notebook_6_a.ipynb is being executed\n"
     ]
    },
    {
     "data": {
      "application/vnd.jupyter.widget-view+json": {
       "model_id": "e5e1000f01144a36bd3ebda43683fc75",
       "version_major": 2,
       "version_minor": 0
      },
      "text/plain": [
       "HBox(children=(FloatProgress(value=0.0, description='Executing', max=10.0, style=ProgressStyle(description_wid…"
      ]
     },
     "metadata": {},
     "output_type": "display_data"
    },
    {
     "name": "stdout",
     "output_type": "stream",
     "text": [
      "\n",
      "2019_05_07__T196_T196-144204\n",
      "Notebook_7_b.ipynb is being executed\n"
     ]
    },
    {
     "data": {
      "application/vnd.jupyter.widget-view+json": {
       "model_id": "6e1824b925854c31bfe41e8bcb1682ed",
       "version_major": 2,
       "version_minor": 0
      },
      "text/plain": [
       "HBox(children=(FloatProgress(value=0.0, description='Executing', max=36.0, style=ProgressStyle(description_wid…"
      ]
     },
     "metadata": {},
     "output_type": "display_data"
    },
    {
     "name": "stdout",
     "output_type": "stream",
     "text": [
      "\n",
      "T196_2019_05_09_Notebook_0_a: This session already exists - no need to re-run ;)\n",
      "T196_2019_05_09_Notebook_1_a: This session already exists - no need to re-run ;)\n",
      "T196_2019_05_09_Notebook_2_a: This session already exists - no need to re-run ;)\n",
      "T196_2019_05_09_Notebook_3_c: This session already exists - no need to re-run ;)\n",
      "T196_2019_05_09_Notebook_4_a: This session already exists - no need to re-run ;)\n",
      "T196_2019_05_09_Notebook_4_b: This session already exists - no need to re-run ;)\n",
      "T196_2019_05_09_Notebook_4_c: This session already exists - no need to re-run ;)\n",
      "T196_2019_05_09_Notebook_4_d: This session already exists - no need to re-run ;)\n",
      "T196_2019_05_09_Notebook_4_e: This session already exists - no need to re-run ;)\n",
      "2019_05_09__T196_T196-144508\n",
      "Notebook_5_a.ipynb is being executed\n"
     ]
    },
    {
     "data": {
      "application/vnd.jupyter.widget-view+json": {
       "model_id": "bdf8860f54c14bdb84841fcedd39fe4c",
       "version_major": 2,
       "version_minor": 0
      },
      "text/plain": [
       "HBox(children=(FloatProgress(value=0.0, description='Executing', max=17.0, style=ProgressStyle(description_wid…"
      ]
     },
     "metadata": {},
     "output_type": "display_data"
    },
    {
     "name": "stdout",
     "output_type": "stream",
     "text": [
      "\n",
      "2019_05_09__T196_T196-144508\n",
      "Notebook_6_a.ipynb is being executed\n"
     ]
    },
    {
     "data": {
      "application/vnd.jupyter.widget-view+json": {
       "model_id": "86abbbb1fc6c4a50916f0c41cf2c5c0a",
       "version_major": 2,
       "version_minor": 0
      },
      "text/plain": [
       "HBox(children=(FloatProgress(value=0.0, description='Executing', max=10.0, style=ProgressStyle(description_wid…"
      ]
     },
     "metadata": {},
     "output_type": "display_data"
    },
    {
     "name": "stdout",
     "output_type": "stream",
     "text": [
      "\n",
      "2019_05_09__T196_T196-144508\n",
      "Notebook_7_b.ipynb is being executed\n"
     ]
    },
    {
     "data": {
      "application/vnd.jupyter.widget-view+json": {
       "model_id": "53c9241ecc2b407b9121ee784ecebfc4",
       "version_major": 2,
       "version_minor": 0
      },
      "text/plain": [
       "HBox(children=(FloatProgress(value=0.0, description='Executing', max=36.0, style=ProgressStyle(description_wid…"
      ]
     },
     "metadata": {},
     "output_type": "display_data"
    },
    {
     "name": "stdout",
     "output_type": "stream",
     "text": [
      "\n",
      "T240_2019_08_21_Notebook_0_a: This session already exists - no need to re-run ;)\n",
      "T240_2019_08_21_Notebook_1_a: This session already exists - no need to re-run ;)\n",
      "T240_2019_08_21_Notebook_2_a: This session already exists - no need to re-run ;)\n",
      "T240_2019_08_21_Notebook_3_c: This session already exists - no need to re-run ;)\n",
      "T240_2019_08_21_Notebook_4_a: This session already exists - no need to re-run ;)\n",
      "T240_2019_08_21_Notebook_4_b: This session already exists - no need to re-run ;)\n",
      "T240_2019_08_21_Notebook_4_c: This session already exists - no need to re-run ;)\n",
      "T240_2019_08_21_Notebook_4_d: This session already exists - no need to re-run ;)\n",
      "T240_2019_08_21_Notebook_4_e: This session already exists - no need to re-run ;)\n",
      "2019_08_21__T240_T240-144433\n",
      "Notebook_5_a.ipynb is being executed\n"
     ]
    },
    {
     "data": {
      "application/vnd.jupyter.widget-view+json": {
       "model_id": "0c99141a66ad45499c896b7059a3e841",
       "version_major": 2,
       "version_minor": 0
      },
      "text/plain": [
       "HBox(children=(FloatProgress(value=0.0, description='Executing', max=17.0, style=ProgressStyle(description_wid…"
      ]
     },
     "metadata": {},
     "output_type": "display_data"
    },
    {
     "name": "stdout",
     "output_type": "stream",
     "text": [
      "\n",
      "2019_08_21__T240_T240-144433\n",
      "Notebook_6_a.ipynb is being executed\n"
     ]
    },
    {
     "data": {
      "application/vnd.jupyter.widget-view+json": {
       "model_id": "30349d79125248ef890b697f7693eb84",
       "version_major": 2,
       "version_minor": 0
      },
      "text/plain": [
       "HBox(children=(FloatProgress(value=0.0, description='Executing', max=10.0, style=ProgressStyle(description_wid…"
      ]
     },
     "metadata": {},
     "output_type": "display_data"
    },
    {
     "name": "stdout",
     "output_type": "stream",
     "text": [
      "\n",
      "2019_08_21__T240_T240-144433\n",
      "Notebook_7_b.ipynb is being executed\n"
     ]
    },
    {
     "data": {
      "application/vnd.jupyter.widget-view+json": {
       "model_id": "9e1483dc49214221b5c10266a8296cc8",
       "version_major": 2,
       "version_minor": 0
      },
      "text/plain": [
       "HBox(children=(FloatProgress(value=0.0, description='Executing', max=36.0, style=ProgressStyle(description_wid…"
      ]
     },
     "metadata": {},
     "output_type": "display_data"
    },
    {
     "name": "stdout",
     "output_type": "stream",
     "text": [
      "\n",
      "T240_2019_08_22_Notebook_0_a: This session already exists - no need to re-run ;)\n",
      "T240_2019_08_22_Notebook_1_a: This session already exists - no need to re-run ;)\n",
      "T240_2019_08_22_Notebook_2_a: This session already exists - no need to re-run ;)\n",
      "T240_2019_08_22_Notebook_3_c: This session already exists - no need to re-run ;)\n",
      "T240_2019_08_22_Notebook_4_a: This session already exists - no need to re-run ;)\n",
      "T240_2019_08_22_Notebook_4_b: This session already exists - no need to re-run ;)\n",
      "T240_2019_08_22_Notebook_4_c: This session already exists - no need to re-run ;)\n",
      "T240_2019_08_22_Notebook_4_d: This session already exists - no need to re-run ;)\n",
      "T240_2019_08_22_Notebook_4_e: This session already exists - no need to re-run ;)\n",
      "2019_08_22__T240_T240-142317\n",
      "Notebook_5_a.ipynb is being executed\n"
     ]
    },
    {
     "data": {
      "application/vnd.jupyter.widget-view+json": {
       "model_id": "8caa62c758604de0b83359f9f62d614d",
       "version_major": 2,
       "version_minor": 0
      },
      "text/plain": [
       "HBox(children=(FloatProgress(value=0.0, description='Executing', max=17.0, style=ProgressStyle(description_wid…"
      ]
     },
     "metadata": {},
     "output_type": "display_data"
    },
    {
     "name": "stdout",
     "output_type": "stream",
     "text": [
      "\n",
      "2019_08_22__T240_T240-142317\n",
      "Notebook_6_a.ipynb is being executed\n"
     ]
    },
    {
     "data": {
      "application/vnd.jupyter.widget-view+json": {
       "model_id": "b311f54df4b1405c96ce803640e79786",
       "version_major": 2,
       "version_minor": 0
      },
      "text/plain": [
       "HBox(children=(FloatProgress(value=0.0, description='Executing', max=10.0, style=ProgressStyle(description_wid…"
      ]
     },
     "metadata": {},
     "output_type": "display_data"
    },
    {
     "name": "stdout",
     "output_type": "stream",
     "text": [
      "\n",
      "2019_08_22__T240_T240-142317\n",
      "Notebook_7_b.ipynb is being executed\n"
     ]
    },
    {
     "data": {
      "application/vnd.jupyter.widget-view+json": {
       "model_id": "29fce7e9b57e4010a03bbeab028299a1",
       "version_major": 2,
       "version_minor": 0
      },
      "text/plain": [
       "HBox(children=(FloatProgress(value=0.0, description='Executing', max=36.0, style=ProgressStyle(description_wid…"
      ]
     },
     "metadata": {},
     "output_type": "display_data"
    },
    {
     "name": "stdout",
     "output_type": "stream",
     "text": [
      "\n",
      "T240_2019_08_27_Notebook_0_a: This session already exists - no need to re-run ;)\n",
      "T240_2019_08_27_Notebook_1_a: This session already exists - no need to re-run ;)\n",
      "T240_2019_08_27_Notebook_2_a: This session already exists - no need to re-run ;)\n",
      "T240_2019_08_27_Notebook_3_c: This session already exists - no need to re-run ;)\n",
      "T240_2019_08_27_Notebook_4_a: This session already exists - no need to re-run ;)\n",
      "T240_2019_08_27_Notebook_4_b: This session already exists - no need to re-run ;)\n",
      "T240_2019_08_27_Notebook_4_c: This session already exists - no need to re-run ;)\n",
      "T240_2019_08_27_Notebook_4_d: This session already exists - no need to re-run ;)\n",
      "T240_2019_08_27_Notebook_4_e: This session already exists - no need to re-run ;)\n",
      "2019_08_27__T240_T240-141253\n",
      "Notebook_5_a.ipynb is being executed\n"
     ]
    },
    {
     "data": {
      "application/vnd.jupyter.widget-view+json": {
       "model_id": "8b6bd27da97840f8bc1e325e7ce573b6",
       "version_major": 2,
       "version_minor": 0
      },
      "text/plain": [
       "HBox(children=(FloatProgress(value=0.0, description='Executing', max=17.0, style=ProgressStyle(description_wid…"
      ]
     },
     "metadata": {},
     "output_type": "display_data"
    },
    {
     "name": "stdout",
     "output_type": "stream",
     "text": [
      "\n",
      "2019_08_27__T240_T240-141253\n",
      "Notebook_6_a.ipynb is being executed\n"
     ]
    },
    {
     "data": {
      "application/vnd.jupyter.widget-view+json": {
       "model_id": "f4d0d8fe4b1147339309ada7adbc1b66",
       "version_major": 2,
       "version_minor": 0
      },
      "text/plain": [
       "HBox(children=(FloatProgress(value=0.0, description='Executing', max=10.0, style=ProgressStyle(description_wid…"
      ]
     },
     "metadata": {},
     "output_type": "display_data"
    },
    {
     "name": "stdout",
     "output_type": "stream",
     "text": [
      "\n",
      "2019_08_27__T240_T240-141253\n",
      "Notebook_7_b.ipynb is being executed\n"
     ]
    },
    {
     "data": {
      "application/vnd.jupyter.widget-view+json": {
       "model_id": "8cf2e3c5c6eb4b34b95759ec0741da3e",
       "version_major": 2,
       "version_minor": 0
      },
      "text/plain": [
       "HBox(children=(FloatProgress(value=0.0, description='Executing', max=36.0, style=ProgressStyle(description_wid…"
      ]
     },
     "metadata": {},
     "output_type": "display_data"
    },
    {
     "name": "stdout",
     "output_type": "stream",
     "text": [
      "\n",
      "T240_2019_08_30_Notebook_0_a: This session already exists - no need to re-run ;)\n",
      "T240_2019_08_30_Notebook_1_a: This session already exists - no need to re-run ;)\n",
      "T240_2019_08_30_Notebook_2_a: This session already exists - no need to re-run ;)\n",
      "T240_2019_08_30_Notebook_3_c: This session already exists - no need to re-run ;)\n",
      "T240_2019_08_30_Notebook_4_a: This session already exists - no need to re-run ;)\n",
      "T240_2019_08_30_Notebook_4_b: This session already exists - no need to re-run ;)\n",
      "T240_2019_08_30_Notebook_4_c: This session already exists - no need to re-run ;)\n",
      "T240_2019_08_30_Notebook_4_d: This session already exists - no need to re-run ;)\n",
      "T240_2019_08_30_Notebook_4_e: This session already exists - no need to re-run ;)\n",
      "2019_08_30__T240_T240-142919\n",
      "Notebook_5_a.ipynb is being executed\n"
     ]
    },
    {
     "data": {
      "application/vnd.jupyter.widget-view+json": {
       "model_id": "1d12632004d2484094feffbe54fce098",
       "version_major": 2,
       "version_minor": 0
      },
      "text/plain": [
       "HBox(children=(FloatProgress(value=0.0, description='Executing', max=17.0, style=ProgressStyle(description_wid…"
      ]
     },
     "metadata": {},
     "output_type": "display_data"
    },
    {
     "name": "stdout",
     "output_type": "stream",
     "text": [
      "\n",
      "2019_08_30__T240_T240-142919\n",
      "Notebook_6_a.ipynb is being executed\n"
     ]
    },
    {
     "data": {
      "application/vnd.jupyter.widget-view+json": {
       "model_id": "88afd33e14044593a68d477e40b8d7ea",
       "version_major": 2,
       "version_minor": 0
      },
      "text/plain": [
       "HBox(children=(FloatProgress(value=0.0, description='Executing', max=10.0, style=ProgressStyle(description_wid…"
      ]
     },
     "metadata": {},
     "output_type": "display_data"
    },
    {
     "name": "stdout",
     "output_type": "stream",
     "text": [
      "\n",
      "2019_08_30__T240_T240-142919\n",
      "Notebook_7_b.ipynb is being executed\n"
     ]
    },
    {
     "data": {
      "application/vnd.jupyter.widget-view+json": {
       "model_id": "22d42aa5593f4705be5fb7217ad7c40f",
       "version_major": 2,
       "version_minor": 0
      },
      "text/plain": [
       "HBox(children=(FloatProgress(value=0.0, description='Executing', max=36.0, style=ProgressStyle(description_wid…"
      ]
     },
     "metadata": {},
     "output_type": "display_data"
    },
    {
     "name": "stdout",
     "output_type": "stream",
     "text": [
      "\n",
      "T240_2019_09_13_Notebook_0_a: This session already exists - no need to re-run ;)\n",
      "T240_2019_09_13_Notebook_1_a: This session already exists - no need to re-run ;)\n",
      "T240_2019_09_13_Notebook_2_a: This session already exists - no need to re-run ;)\n",
      "T240_2019_09_13_Notebook_3_c: This session already exists - no need to re-run ;)\n",
      "T240_2019_09_13_Notebook_4_a: This session already exists - no need to re-run ;)\n",
      "T240_2019_09_13_Notebook_4_b: This session already exists - no need to re-run ;)\n",
      "T240_2019_09_13_Notebook_4_c: This session already exists - no need to re-run ;)\n",
      "T240_2019_09_13_Notebook_4_d: This session already exists - no need to re-run ;)\n",
      "T240_2019_09_13_Notebook_4_e: This session already exists - no need to re-run ;)\n",
      "2019_09_13__T240_T240-144701\n",
      "Notebook_5_a.ipynb is being executed\n"
     ]
    },
    {
     "data": {
      "application/vnd.jupyter.widget-view+json": {
       "model_id": "d07751df22b949be8e01c05729271e22",
       "version_major": 2,
       "version_minor": 0
      },
      "text/plain": [
       "HBox(children=(FloatProgress(value=0.0, description='Executing', max=17.0, style=ProgressStyle(description_wid…"
      ]
     },
     "metadata": {},
     "output_type": "display_data"
    },
    {
     "name": "stdout",
     "output_type": "stream",
     "text": [
      "\n",
      "2019_09_13__T240_T240-144701\n",
      "Notebook_6_a.ipynb is being executed\n"
     ]
    },
    {
     "data": {
      "application/vnd.jupyter.widget-view+json": {
       "model_id": "23f0b1af9a5c4f3483d6baf116711728",
       "version_major": 2,
       "version_minor": 0
      },
      "text/plain": [
       "HBox(children=(FloatProgress(value=0.0, description='Executing', max=10.0, style=ProgressStyle(description_wid…"
      ]
     },
     "metadata": {},
     "output_type": "display_data"
    },
    {
     "name": "stdout",
     "output_type": "stream",
     "text": [
      "\n",
      "2019_09_13__T240_T240-144701\n",
      "Notebook_7_b.ipynb is being executed\n"
     ]
    },
    {
     "data": {
      "application/vnd.jupyter.widget-view+json": {
       "model_id": "74d3cfcca67141e7b9763b45718e960c",
       "version_major": 2,
       "version_minor": 0
      },
      "text/plain": [
       "HBox(children=(FloatProgress(value=0.0, description='Executing', max=36.0, style=ProgressStyle(description_wid…"
      ]
     },
     "metadata": {},
     "output_type": "display_data"
    },
    {
     "name": "stdout",
     "output_type": "stream",
     "text": [
      "\n",
      "T240_2019_09_27_Notebook_0_a: This session already exists - no need to re-run ;)\n",
      "T240_2019_09_27_Notebook_1_a: This session already exists - no need to re-run ;)\n",
      "T240_2019_09_27_Notebook_2_a: This session already exists - no need to re-run ;)\n",
      "T240_2019_09_27_Notebook_3_c: This session already exists - no need to re-run ;)\n",
      "T240_2019_09_27_Notebook_4_a: This session already exists - no need to re-run ;)\n",
      "T240_2019_09_27_Notebook_4_b: This session already exists - no need to re-run ;)\n",
      "T240_2019_09_27_Notebook_4_c: This session already exists - no need to re-run ;)\n",
      "T240_2019_09_27_Notebook_4_d: This session already exists - no need to re-run ;)\n",
      "T240_2019_09_27_Notebook_4_e: This session already exists - no need to re-run ;)\n",
      "2019_09_27__T240_T240-145905\n",
      "Notebook_5_a.ipynb is being executed\n"
     ]
    },
    {
     "data": {
      "application/vnd.jupyter.widget-view+json": {
       "model_id": "44b514e2e676419c837fdfb345392226",
       "version_major": 2,
       "version_minor": 0
      },
      "text/plain": [
       "HBox(children=(FloatProgress(value=0.0, description='Executing', max=17.0, style=ProgressStyle(description_wid…"
      ]
     },
     "metadata": {},
     "output_type": "display_data"
    },
    {
     "name": "stdout",
     "output_type": "stream",
     "text": [
      "\n",
      "2019_09_27__T240_T240-145905\n",
      "Notebook_6_a.ipynb is being executed\n"
     ]
    },
    {
     "data": {
      "application/vnd.jupyter.widget-view+json": {
       "model_id": "802a9c127bd54b0c840f8366bcdf5cc2",
       "version_major": 2,
       "version_minor": 0
      },
      "text/plain": [
       "HBox(children=(FloatProgress(value=0.0, description='Executing', max=10.0, style=ProgressStyle(description_wid…"
      ]
     },
     "metadata": {},
     "output_type": "display_data"
    },
    {
     "name": "stdout",
     "output_type": "stream",
     "text": [
      "\n",
      "2019_09_27__T240_T240-145905\n",
      "Notebook_7_b.ipynb is being executed\n"
     ]
    },
    {
     "data": {
      "application/vnd.jupyter.widget-view+json": {
       "model_id": "f845d4cdeba74620adddf2da0f04fd9b",
       "version_major": 2,
       "version_minor": 0
      },
      "text/plain": [
       "HBox(children=(FloatProgress(value=0.0, description='Executing', max=36.0, style=ProgressStyle(description_wid…"
      ]
     },
     "metadata": {},
     "output_type": "display_data"
    },
    {
     "name": "stdout",
     "output_type": "stream",
     "text": [
      "\n"
     ]
    }
   ],
   "source": [
    "#Mouse_Date_FileName: data set we want to run \n",
    "#nb_list: notebooks that we want to run \n",
    "#nb_path: where is the repository that you are running \n",
    "#seq_str: notebooks that we want to run - in code version \n",
    "#dict_for_pm: parameters of the data set \n",
    "\n",
    "ophf.run_dataset (Mouse_Date_FileName,nb_list,nb_path,seq_str,dict_for_pm)"
   ]
  },
  {
   "cell_type": "code",
   "execution_count": null,
   "metadata": {},
   "outputs": [],
   "source": []
  },
  {
   "cell_type": "code",
   "execution_count": null,
   "metadata": {},
   "outputs": [],
   "source": []
  }
 ],
 "metadata": {
  "celltoolbar": "Tags",
  "kernelspec": {
   "display_name": "Python 3",
   "language": "python",
   "name": "python3"
  },
  "language_info": {
   "codemirror_mode": {
    "name": "ipython",
    "version": 3
   },
   "file_extension": ".py",
   "mimetype": "text/x-python",
   "name": "python",
   "nbconvert_exporter": "python",
   "pygments_lexer": "ipython3",
   "version": "3.7.3"
  }
 },
 "nbformat": 4,
 "nbformat_minor": 2
}
