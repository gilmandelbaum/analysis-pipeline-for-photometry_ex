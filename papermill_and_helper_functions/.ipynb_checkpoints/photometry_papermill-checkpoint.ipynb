{
 "cells": [
  {
   "cell_type": "markdown",
   "metadata": {},
   "source": [
    "\n",
    "# Papermill Notebook for photometry"
   ]
  },
  {
   "cell_type": "code",
   "execution_count": 1,
   "metadata": {},
   "outputs": [],
   "source": [
    "import timeit\n",
    "import pandas as pd\n",
    "import numpy as np\n",
    "import os \n",
    "import papermill as pm\n",
    "import getpass\n",
    "import sys"
   ]
  },
  {
   "cell_type": "code",
   "execution_count": 2,
   "metadata": {},
   "outputs": [
    {
     "data": {
      "text/plain": [
       "'/anaconda3/bin/python3'"
      ]
     },
     "execution_count": 2,
     "metadata": {},
     "output_type": "execute_result"
    }
   ],
   "source": [
    "sys.executable"
   ]
  },
  {
   "cell_type": "code",
   "execution_count": 3,
   "metadata": {},
   "outputs": [],
   "source": [
    "import photometry_papermill_helper_functions as ophf "
   ]
  },
  {
   "cell_type": "markdown",
   "metadata": {},
   "source": [
    "# input and output path: (user specific)"
   ]
  },
  {
   "cell_type": "code",
   "execution_count": 4,
   "metadata": {},
   "outputs": [],
   "source": [
    "#data_dir_input = \"/Users/gilmandelbaum/Desktop/T240_mouse\"\n",
    "#data_dir_output = \"/Users/gilmandelbaum/Desktop/output/\"\n",
    "\n",
    "data_dir_input = \"/Volumes/GilInVivoPaper.large/2.Photometry_in_str/2.dual_color_photo_full_data_set_analysis/\"\n",
    "data_dir_output = \"/Volumes/GilInVivoPaper.large/2.Photometry_in_str/2.dual_color_photo_full_data_set_analysis/\"\n"
   ]
  },
  {
   "cell_type": "markdown",
   "metadata": {},
   "source": [
    "# name of xlsx sheet to import with the data set info: "
   ]
  },
  {
   "cell_type": "code",
   "execution_count": 5,
   "metadata": {},
   "outputs": [],
   "source": [
    "#this xlsx sheet should be in the data_dir_input"
   ]
  },
  {
   "cell_type": "code",
   "execution_count": 6,
   "metadata": {},
   "outputs": [],
   "source": [
    "#name of xlsx file that has the sessions we want to run: \n",
    "MasterSheetName= 'dual_color_photo_master_spread_sheet'"
   ]
  },
  {
   "cell_type": "code",
   "execution_count": 7,
   "metadata": {},
   "outputs": [],
   "source": [
    "#loading the xlsx file \n",
    "Mouse_Date_FileName = pd.read_excel(data_dir_input+'/'+MasterSheetName+'.xlsx') #mdf is mouse data file "
   ]
  },
  {
   "cell_type": "code",
   "execution_count": 8,
   "metadata": {
    "scrolled": true
   },
   "outputs": [
    {
     "data": {
      "text/html": [
       "<div>\n",
       "<style scoped>\n",
       "    .dataframe tbody tr th:only-of-type {\n",
       "        vertical-align: middle;\n",
       "    }\n",
       "\n",
       "    .dataframe tbody tr th {\n",
       "        vertical-align: top;\n",
       "    }\n",
       "\n",
       "    .dataframe thead th {\n",
       "        text-align: right;\n",
       "    }\n",
       "</style>\n",
       "<table border=\"1\" class=\"dataframe\">\n",
       "  <thead>\n",
       "    <tr style=\"text-align: right;\">\n",
       "      <th></th>\n",
       "      <th>Mouse</th>\n",
       "      <th>Date</th>\n",
       "      <th>File name</th>\n",
       "    </tr>\n",
       "  </thead>\n",
       "  <tbody>\n",
       "    <tr>\n",
       "      <th>0</th>\n",
       "      <td>T163</td>\n",
       "      <td>181128</td>\n",
       "      <td>T163-115220</td>\n",
       "    </tr>\n",
       "    <tr>\n",
       "      <th>1</th>\n",
       "      <td>T163</td>\n",
       "      <td>181130</td>\n",
       "      <td>T163-133215</td>\n",
       "    </tr>\n",
       "    <tr>\n",
       "      <th>2</th>\n",
       "      <td>T163</td>\n",
       "      <td>181203</td>\n",
       "      <td>T163-115901</td>\n",
       "    </tr>\n",
       "    <tr>\n",
       "      <th>3</th>\n",
       "      <td>T163</td>\n",
       "      <td>181204</td>\n",
       "      <td>T163-114628</td>\n",
       "    </tr>\n",
       "    <tr>\n",
       "      <th>4</th>\n",
       "      <td>T163</td>\n",
       "      <td>181206</td>\n",
       "      <td>T163-112720</td>\n",
       "    </tr>\n",
       "    <tr>\n",
       "      <th>5</th>\n",
       "      <td>T163</td>\n",
       "      <td>181207</td>\n",
       "      <td>T163-123432</td>\n",
       "    </tr>\n",
       "    <tr>\n",
       "      <th>6</th>\n",
       "      <td>T163</td>\n",
       "      <td>181210</td>\n",
       "      <td>T163-102536</td>\n",
       "    </tr>\n",
       "    <tr>\n",
       "      <th>7</th>\n",
       "      <td>T163</td>\n",
       "      <td>181213</td>\n",
       "      <td>T163-094646</td>\n",
       "    </tr>\n",
       "    <tr>\n",
       "      <th>8</th>\n",
       "      <td>T164</td>\n",
       "      <td>181127</td>\n",
       "      <td>T164-153101</td>\n",
       "    </tr>\n",
       "    <tr>\n",
       "      <th>9</th>\n",
       "      <td>T164</td>\n",
       "      <td>181128</td>\n",
       "      <td>T164-122054</td>\n",
       "    </tr>\n",
       "    <tr>\n",
       "      <th>10</th>\n",
       "      <td>T164</td>\n",
       "      <td>181204</td>\n",
       "      <td>T164-121548</td>\n",
       "    </tr>\n",
       "    <tr>\n",
       "      <th>11</th>\n",
       "      <td>T164</td>\n",
       "      <td>181205</td>\n",
       "      <td>T164-123550</td>\n",
       "    </tr>\n",
       "    <tr>\n",
       "      <th>12</th>\n",
       "      <td>T164</td>\n",
       "      <td>181210</td>\n",
       "      <td>T164-105324</td>\n",
       "    </tr>\n",
       "    <tr>\n",
       "      <th>13</th>\n",
       "      <td>T164</td>\n",
       "      <td>181213</td>\n",
       "      <td>T164-101804</td>\n",
       "    </tr>\n",
       "    <tr>\n",
       "      <th>14</th>\n",
       "      <td>T169</td>\n",
       "      <td>190201</td>\n",
       "      <td>T169-141602</td>\n",
       "    </tr>\n",
       "    <tr>\n",
       "      <th>15</th>\n",
       "      <td>T169</td>\n",
       "      <td>190212</td>\n",
       "      <td>T169-145045</td>\n",
       "    </tr>\n",
       "    <tr>\n",
       "      <th>16</th>\n",
       "      <td>T169</td>\n",
       "      <td>190213</td>\n",
       "      <td>T169-141800</td>\n",
       "    </tr>\n",
       "    <tr>\n",
       "      <th>17</th>\n",
       "      <td>T169</td>\n",
       "      <td>190219</td>\n",
       "      <td>T169-140515</td>\n",
       "    </tr>\n",
       "    <tr>\n",
       "      <th>18</th>\n",
       "      <td>T169</td>\n",
       "      <td>190220</td>\n",
       "      <td>T169-141850</td>\n",
       "    </tr>\n",
       "    <tr>\n",
       "      <th>19</th>\n",
       "      <td>T169</td>\n",
       "      <td>190222</td>\n",
       "      <td>T169-134725</td>\n",
       "    </tr>\n",
       "    <tr>\n",
       "      <th>20</th>\n",
       "      <td>T169</td>\n",
       "      <td>190225</td>\n",
       "      <td>T169-145248</td>\n",
       "    </tr>\n",
       "    <tr>\n",
       "      <th>21</th>\n",
       "      <td>T169</td>\n",
       "      <td>190227</td>\n",
       "      <td>T169-155731</td>\n",
       "    </tr>\n",
       "    <tr>\n",
       "      <th>22</th>\n",
       "      <td>T169</td>\n",
       "      <td>190228</td>\n",
       "      <td>T169-142051</td>\n",
       "    </tr>\n",
       "    <tr>\n",
       "      <th>23</th>\n",
       "      <td>T171</td>\n",
       "      <td>190122</td>\n",
       "      <td>T171-165215</td>\n",
       "    </tr>\n",
       "    <tr>\n",
       "      <th>24</th>\n",
       "      <td>T171</td>\n",
       "      <td>190128</td>\n",
       "      <td>T171-144901</td>\n",
       "    </tr>\n",
       "    <tr>\n",
       "      <th>25</th>\n",
       "      <td>T171</td>\n",
       "      <td>190130</td>\n",
       "      <td>T171-145252</td>\n",
       "    </tr>\n",
       "    <tr>\n",
       "      <th>26</th>\n",
       "      <td>T171</td>\n",
       "      <td>190211</td>\n",
       "      <td>T171-143016</td>\n",
       "    </tr>\n",
       "    <tr>\n",
       "      <th>27</th>\n",
       "      <td>T171</td>\n",
       "      <td>190220</td>\n",
       "      <td>T171-153511</td>\n",
       "    </tr>\n",
       "    <tr>\n",
       "      <th>28</th>\n",
       "      <td>T171</td>\n",
       "      <td>190221</td>\n",
       "      <td>T171-152107</td>\n",
       "    </tr>\n",
       "    <tr>\n",
       "      <th>29</th>\n",
       "      <td>T171</td>\n",
       "      <td>190225</td>\n",
       "      <td>T171-152054</td>\n",
       "    </tr>\n",
       "    <tr>\n",
       "      <th>30</th>\n",
       "      <td>T171</td>\n",
       "      <td>190226</td>\n",
       "      <td>T171-145215</td>\n",
       "    </tr>\n",
       "    <tr>\n",
       "      <th>31</th>\n",
       "      <td>T171</td>\n",
       "      <td>190227</td>\n",
       "      <td>T171-162455</td>\n",
       "    </tr>\n",
       "    <tr>\n",
       "      <th>32</th>\n",
       "      <td>T186</td>\n",
       "      <td>190322</td>\n",
       "      <td>T186-164847</td>\n",
       "    </tr>\n",
       "    <tr>\n",
       "      <th>33</th>\n",
       "      <td>T186</td>\n",
       "      <td>190327</td>\n",
       "      <td>T186-150703</td>\n",
       "    </tr>\n",
       "    <tr>\n",
       "      <th>34</th>\n",
       "      <td>T186</td>\n",
       "      <td>190328</td>\n",
       "      <td>T186-144534</td>\n",
       "    </tr>\n",
       "    <tr>\n",
       "      <th>35</th>\n",
       "      <td>T186</td>\n",
       "      <td>190401</td>\n",
       "      <td>T186-142719</td>\n",
       "    </tr>\n",
       "    <tr>\n",
       "      <th>36</th>\n",
       "      <td>T186</td>\n",
       "      <td>190402</td>\n",
       "      <td>T186-140234</td>\n",
       "    </tr>\n",
       "    <tr>\n",
       "      <th>37</th>\n",
       "      <td>T186</td>\n",
       "      <td>190405</td>\n",
       "      <td>T186-135725</td>\n",
       "    </tr>\n",
       "    <tr>\n",
       "      <th>38</th>\n",
       "      <td>T187</td>\n",
       "      <td>190322</td>\n",
       "      <td>T187-172139</td>\n",
       "    </tr>\n",
       "    <tr>\n",
       "      <th>39</th>\n",
       "      <td>T187</td>\n",
       "      <td>190325</td>\n",
       "      <td>T187-153540</td>\n",
       "    </tr>\n",
       "    <tr>\n",
       "      <th>40</th>\n",
       "      <td>T187</td>\n",
       "      <td>190328</td>\n",
       "      <td>T187-152018</td>\n",
       "    </tr>\n",
       "    <tr>\n",
       "      <th>41</th>\n",
       "      <td>T187</td>\n",
       "      <td>190401</td>\n",
       "      <td>T187-150132</td>\n",
       "    </tr>\n",
       "    <tr>\n",
       "      <th>42</th>\n",
       "      <td>T187</td>\n",
       "      <td>190402</td>\n",
       "      <td>T187-142756</td>\n",
       "    </tr>\n",
       "    <tr>\n",
       "      <th>43</th>\n",
       "      <td>T187</td>\n",
       "      <td>190403</td>\n",
       "      <td>T187-143148</td>\n",
       "    </tr>\n",
       "    <tr>\n",
       "      <th>44</th>\n",
       "      <td>T187</td>\n",
       "      <td>190404</td>\n",
       "      <td>T187-142541</td>\n",
       "    </tr>\n",
       "    <tr>\n",
       "      <th>45</th>\n",
       "      <td>T196</td>\n",
       "      <td>190422</td>\n",
       "      <td>T196-172239</td>\n",
       "    </tr>\n",
       "    <tr>\n",
       "      <th>46</th>\n",
       "      <td>T196</td>\n",
       "      <td>190424</td>\n",
       "      <td>T196-170637</td>\n",
       "    </tr>\n",
       "    <tr>\n",
       "      <th>47</th>\n",
       "      <td>T196</td>\n",
       "      <td>190429</td>\n",
       "      <td>T196-151455</td>\n",
       "    </tr>\n",
       "    <tr>\n",
       "      <th>48</th>\n",
       "      <td>T196</td>\n",
       "      <td>190430</td>\n",
       "      <td>T196-145937</td>\n",
       "    </tr>\n",
       "    <tr>\n",
       "      <th>49</th>\n",
       "      <td>T196</td>\n",
       "      <td>190507</td>\n",
       "      <td>T196-144204</td>\n",
       "    </tr>\n",
       "    <tr>\n",
       "      <th>50</th>\n",
       "      <td>T196</td>\n",
       "      <td>190509</td>\n",
       "      <td>T196-144508</td>\n",
       "    </tr>\n",
       "    <tr>\n",
       "      <th>51</th>\n",
       "      <td>T240</td>\n",
       "      <td>190821</td>\n",
       "      <td>T240-144433</td>\n",
       "    </tr>\n",
       "    <tr>\n",
       "      <th>52</th>\n",
       "      <td>T240</td>\n",
       "      <td>190822</td>\n",
       "      <td>T240-142317</td>\n",
       "    </tr>\n",
       "    <tr>\n",
       "      <th>53</th>\n",
       "      <td>T240</td>\n",
       "      <td>190827</td>\n",
       "      <td>T240-141253</td>\n",
       "    </tr>\n",
       "    <tr>\n",
       "      <th>54</th>\n",
       "      <td>T240</td>\n",
       "      <td>190830</td>\n",
       "      <td>T240-142919</td>\n",
       "    </tr>\n",
       "    <tr>\n",
       "      <th>55</th>\n",
       "      <td>T240</td>\n",
       "      <td>190913</td>\n",
       "      <td>T240-144701</td>\n",
       "    </tr>\n",
       "    <tr>\n",
       "      <th>56</th>\n",
       "      <td>T240</td>\n",
       "      <td>190927</td>\n",
       "      <td>T240-145905</td>\n",
       "    </tr>\n",
       "  </tbody>\n",
       "</table>\n",
       "</div>"
      ],
      "text/plain": [
       "   Mouse    Date    File name\n",
       "0   T163  181128  T163-115220\n",
       "1   T163  181130  T163-133215\n",
       "2   T163  181203  T163-115901\n",
       "3   T163  181204  T163-114628\n",
       "4   T163  181206  T163-112720\n",
       "5   T163  181207  T163-123432\n",
       "6   T163  181210  T163-102536\n",
       "7   T163  181213  T163-094646\n",
       "8   T164  181127  T164-153101\n",
       "9   T164  181128  T164-122054\n",
       "10  T164  181204  T164-121548\n",
       "11  T164  181205  T164-123550\n",
       "12  T164  181210  T164-105324\n",
       "13  T164  181213  T164-101804\n",
       "14  T169  190201  T169-141602\n",
       "15  T169  190212  T169-145045\n",
       "16  T169  190213  T169-141800\n",
       "17  T169  190219  T169-140515\n",
       "18  T169  190220  T169-141850\n",
       "19  T169  190222  T169-134725\n",
       "20  T169  190225  T169-145248\n",
       "21  T169  190227  T169-155731\n",
       "22  T169  190228  T169-142051\n",
       "23  T171  190122  T171-165215\n",
       "24  T171  190128  T171-144901\n",
       "25  T171  190130  T171-145252\n",
       "26  T171  190211  T171-143016\n",
       "27  T171  190220  T171-153511\n",
       "28  T171  190221  T171-152107\n",
       "29  T171  190225  T171-152054\n",
       "30  T171  190226  T171-145215\n",
       "31  T171  190227  T171-162455\n",
       "32  T186  190322  T186-164847\n",
       "33  T186  190327  T186-150703\n",
       "34  T186  190328  T186-144534\n",
       "35  T186  190401  T186-142719\n",
       "36  T186  190402  T186-140234\n",
       "37  T186  190405  T186-135725\n",
       "38  T187  190322  T187-172139\n",
       "39  T187  190325  T187-153540\n",
       "40  T187  190328  T187-152018\n",
       "41  T187  190401  T187-150132\n",
       "42  T187  190402  T187-142756\n",
       "43  T187  190403  T187-143148\n",
       "44  T187  190404  T187-142541\n",
       "45  T196  190422  T196-172239\n",
       "46  T196  190424  T196-170637\n",
       "47  T196  190429  T196-151455\n",
       "48  T196  190430  T196-145937\n",
       "49  T196  190507  T196-144204\n",
       "50  T196  190509  T196-144508\n",
       "51  T240  190821  T240-144433\n",
       "52  T240  190822  T240-142317\n",
       "53  T240  190827  T240-141253\n",
       "54  T240  190830  T240-142919\n",
       "55  T240  190913  T240-144701\n",
       "56  T240  190927  T240-145905"
      ]
     },
     "execution_count": 8,
     "metadata": {},
     "output_type": "execute_result"
    }
   ],
   "source": [
    "Mouse_Date_FileName"
   ]
  },
  {
   "cell_type": "markdown",
   "metadata": {},
   "source": [
    "# use this if running the notebooks from local github folder"
   ]
  },
  {
   "cell_type": "markdown",
   "metadata": {},
   "source": [
    "### if not - define a path to where the repository is at"
   ]
  },
  {
   "cell_type": "code",
   "execution_count": 9,
   "metadata": {},
   "outputs": [
    {
     "name": "stdout",
     "output_type": "stream",
     "text": [
      "gilmandelbaum\n"
     ]
    }
   ],
   "source": [
    "#add the github path that will run the notebooks: \n",
    "username = getpass.getuser() # gets the username from the current comp \n",
    "print (username)"
   ]
  },
  {
   "cell_type": "code",
   "execution_count": 10,
   "metadata": {},
   "outputs": [
    {
     "data": {
      "text/plain": [
       "'/Users/gilmandelbaum/github/analysis-pipeline-for-photometry_ex/'"
      ]
     },
     "execution_count": 10,
     "metadata": {},
     "output_type": "execute_result"
    }
   ],
   "source": [
    "sys.path.append('/Users/{:}/github/analysis-pipeline-for-photometry_ex/'.format(username))\n",
    "nb_path = sys.path[-1]\n",
    "nb_path"
   ]
  },
  {
   "cell_type": "markdown",
   "metadata": {},
   "source": [
    "# parameters to change:"
   ]
  },
  {
   "cell_type": "code",
   "execution_count": 11,
   "metadata": {},
   "outputs": [],
   "source": [
    "#analysis parameters for whole data set:  \n",
    "drop2blocks= 'yes'\n",
    "drop2lastblocks=\"yes\"\n",
    "HowManyBack = 1\n",
    "\n",
    "#for notebook 5: \n",
    "Tags = ['Reward_NoReward_tag', 'ENL_tag', 'Cue_to_Sel_tag', \"Cue_to_Sel_fromPrevTrial_tag\",\"firstENLp_tag\"]  \n",
    "Timing = [600,200,15,15,20]\n",
    "Start_or_end = ['start','end','start','start','start']\n",
    "\n",
    "y_axis_list = [\"df_f\",\"z_score\",\"z_score_sliding_window\"]"
   ]
  },
  {
   "cell_type": "markdown",
   "metadata": {},
   "source": [
    "# parameters to change:"
   ]
  },
  {
   "cell_type": "code",
   "execution_count": 12,
   "metadata": {},
   "outputs": [],
   "source": [
    "#Versions for each notebook: \n",
    "#NOTE: if one notebook no need for list. see 6 as an example. \n",
    "\n",
    "Nb0='a'\n",
    "Nb1= 'd'\n",
    "Nb2= 'a'\n",
    "Nb3= 'b'\n",
    "Nb4= ['a','b','c','d','e'] #can be a list \n",
    "Nb5= 'a'\n",
    "Nb6= 'a' #can be a list \n",
    "#Nb6= ['a',\"b\"] #can be a list \n",
    "Nb7= 'b'"
   ]
  },
  {
   "cell_type": "code",
   "execution_count": 13,
   "metadata": {},
   "outputs": [],
   "source": [
    "List_of_versions =[Nb0,Nb1,Nb2,Nb3,Nb4,Nb5,Nb6,Nb7]\n",
    "List_of_versions_str =[\"Nb0\",\"Nb1\",\"Nb2\",\"Nb3\",\"Nb4\",\"Nb5\",\"Nb6\",\"Nb7\"]\n",
    "notebook_sequence_list = [0,1,2,3,4,5,6,7]"
   ]
  },
  {
   "cell_type": "code",
   "execution_count": null,
   "metadata": {},
   "outputs": [],
   "source": []
  },
  {
   "cell_type": "code",
   "execution_count": 14,
   "metadata": {},
   "outputs": [
    {
     "data": {
      "text/plain": [
       "['Nb0_a',\n",
       " 'Nb1_d',\n",
       " 'Nb2_a',\n",
       " 'Nb3_c',\n",
       " 'Nb4_a',\n",
       " 'Nb4_b',\n",
       " 'Nb4_c',\n",
       " 'Nb4_d',\n",
       " 'Nb4_e',\n",
       " 'Nb5_a',\n",
       " 'Nb6_a',\n",
       " 'Nb7_b']"
      ]
     },
     "execution_count": 14,
     "metadata": {},
     "output_type": "execute_result"
    }
   ],
   "source": [
    "nb_list = ophf.make_nb_list(List_of_versions,List_of_versions_str)\n",
    "nb_list"
   ]
  },
  {
   "cell_type": "code",
   "execution_count": 15,
   "metadata": {},
   "outputs": [
    {
     "name": "stdout",
     "output_type": "stream",
     "text": [
      "seq0a1d2a3c4abcde5a6a7b will be used\n"
     ]
    }
   ],
   "source": [
    "seq_str = ophf.make_sequence_string(notebook_sequence_list, List_of_versions)"
   ]
  },
  {
   "cell_type": "markdown",
   "metadata": {},
   "source": [
    "# run the cell below (no need to make any changes)"
   ]
  },
  {
   "cell_type": "code",
   "execution_count": 16,
   "metadata": {},
   "outputs": [],
   "source": [
    "#parameters that were defined above and will carry on for the whole analysis. \n",
    "dict_for_pm = dict(data_dir_input=data_dir_input,\n",
    "                   data_dir_output=data_dir_output,\n",
    "                   drop2blocks= drop2blocks,\n",
    "                   drop2lastblocks=drop2blocks,\n",
    "                   seq_str= seq_str, \n",
    "                   HowManyBack = HowManyBack, \n",
    "                   Nb0=Nb0, Nb1=Nb1, Nb2=Nb2, Nb3=Nb3,\n",
    "                   Nb4=Nb4, Nb5=Nb5,Nb6=Nb6,Nb7=Nb7,\n",
    "                   Tags=Tags, \n",
    "                   Timing = Timing,\n",
    "                   Start_or_end=Start_or_end,\n",
    "                   y_axis_list=y_axis_list)"
   ]
  },
  {
   "cell_type": "code",
   "execution_count": null,
   "metadata": {},
   "outputs": [],
   "source": []
  },
  {
   "cell_type": "code",
   "execution_count": null,
   "metadata": {
    "scrolled": true
   },
   "outputs": [
    {
     "name": "stdout",
     "output_type": "stream",
     "text": [
      "T163_2018_11_28_Notebook_0_a: This session already exists - no need to re-run ;)\n",
      "2018_11_28__T163_T163-115220\n",
      "Notebook_1_d.ipynb is being executed\n"
     ]
    },
    {
     "data": {
      "application/vnd.jupyter.widget-view+json": {
       "model_id": "d26734314b104401af4187934d24e067",
       "version_major": 2,
       "version_minor": 0
      },
      "text/plain": [
       "HBox(children=(FloatProgress(value=0.0, description='Executing', max=15.0, style=ProgressStyle(description_wid…"
      ]
     },
     "metadata": {},
     "output_type": "display_data"
    },
    {
     "name": "stdout",
     "output_type": "stream",
     "text": [
      "\n",
      "T163_2018_11_28_Notebook_2_a: This session already exists - no need to re-run ;)\n",
      "T163_2018_11_28_Notebook_3_c: This session already exists - no need to re-run ;)\n",
      "T163_2018_11_28_Notebook_4_a: This session already exists - no need to re-run ;)\n",
      "T163_2018_11_28_Notebook_4_b: This session already exists - no need to re-run ;)\n",
      "T163_2018_11_28_Notebook_4_c: This session already exists - no need to re-run ;)\n",
      "T163_2018_11_28_Notebook_4_d: This session already exists - no need to re-run ;)\n",
      "T163_2018_11_28_Notebook_4_e: This session already exists - no need to re-run ;)\n",
      "2018_11_28__T163_T163-115220\n",
      "Notebook_5_a.ipynb is being executed\n"
     ]
    },
    {
     "data": {
      "application/vnd.jupyter.widget-view+json": {
       "model_id": "2070621920eb4c6f986b6f492b34e3ad",
       "version_major": 2,
       "version_minor": 0
      },
      "text/plain": [
       "HBox(children=(FloatProgress(value=0.0, description='Executing', max=17.0, style=ProgressStyle(description_wid…"
      ]
     },
     "metadata": {},
     "output_type": "display_data"
    },
    {
     "name": "stdout",
     "output_type": "stream",
     "text": [
      "\n",
      "2018_11_28__T163_T163-115220\n",
      "Notebook_6_a.ipynb is being executed\n"
     ]
    },
    {
     "data": {
      "application/vnd.jupyter.widget-view+json": {
       "model_id": "42a419dea95b41988e1ed31ca128a853",
       "version_major": 2,
       "version_minor": 0
      },
      "text/plain": [
       "HBox(children=(FloatProgress(value=0.0, description='Executing', max=10.0, style=ProgressStyle(description_wid…"
      ]
     },
     "metadata": {},
     "output_type": "display_data"
    },
    {
     "name": "stdout",
     "output_type": "stream",
     "text": [
      "\n",
      "2018_11_28__T163_T163-115220\n",
      "Notebook_7_b.ipynb is being executed\n"
     ]
    },
    {
     "data": {
      "application/vnd.jupyter.widget-view+json": {
       "model_id": "4c01d0b016954989ad04a01a6fb3e1b1",
       "version_major": 2,
       "version_minor": 0
      },
      "text/plain": [
       "HBox(children=(FloatProgress(value=0.0, description='Executing', max=36.0, style=ProgressStyle(description_wid…"
      ]
     },
     "metadata": {},
     "output_type": "display_data"
    },
    {
     "name": "stdout",
     "output_type": "stream",
     "text": [
      "\n",
      "T163_2018_11_30_Notebook_0_a: This session already exists - no need to re-run ;)\n",
      "2018_11_30__T163_T163-133215\n",
      "Notebook_1_d.ipynb is being executed\n"
     ]
    },
    {
     "data": {
      "application/vnd.jupyter.widget-view+json": {
       "model_id": "066818917a22413eb2cebae0f2ce05a6",
       "version_major": 2,
       "version_minor": 0
      },
      "text/plain": [
       "HBox(children=(FloatProgress(value=0.0, description='Executing', max=15.0, style=ProgressStyle(description_wid…"
      ]
     },
     "metadata": {},
     "output_type": "display_data"
    },
    {
     "name": "stdout",
     "output_type": "stream",
     "text": [
      "\n",
      "T163_2018_11_30_Notebook_2_a: This session already exists - no need to re-run ;)\n",
      "T163_2018_11_30_Notebook_3_c: This session already exists - no need to re-run ;)\n",
      "T163_2018_11_30_Notebook_4_a: This session already exists - no need to re-run ;)\n",
      "T163_2018_11_30_Notebook_4_b: This session already exists - no need to re-run ;)\n",
      "T163_2018_11_30_Notebook_4_c: This session already exists - no need to re-run ;)\n",
      "T163_2018_11_30_Notebook_4_d: This session already exists - no need to re-run ;)\n",
      "T163_2018_11_30_Notebook_4_e: This session already exists - no need to re-run ;)\n",
      "2018_11_30__T163_T163-133215\n",
      "Notebook_5_a.ipynb is being executed\n"
     ]
    },
    {
     "data": {
      "application/vnd.jupyter.widget-view+json": {
       "model_id": "72a975eb97c342dc97d17dd5f090c50c",
       "version_major": 2,
       "version_minor": 0
      },
      "text/plain": [
       "HBox(children=(FloatProgress(value=0.0, description='Executing', max=17.0, style=ProgressStyle(description_wid…"
      ]
     },
     "metadata": {},
     "output_type": "display_data"
    },
    {
     "name": "stdout",
     "output_type": "stream",
     "text": [
      "\n",
      "2018_11_30__T163_T163-133215\n",
      "Notebook_6_a.ipynb is being executed\n"
     ]
    },
    {
     "data": {
      "application/vnd.jupyter.widget-view+json": {
       "model_id": "9adb6e61bf794de18926ec6379ad0d36",
       "version_major": 2,
       "version_minor": 0
      },
      "text/plain": [
       "HBox(children=(FloatProgress(value=0.0, description='Executing', max=10.0, style=ProgressStyle(description_wid…"
      ]
     },
     "metadata": {},
     "output_type": "display_data"
    },
    {
     "name": "stdout",
     "output_type": "stream",
     "text": [
      "\n",
      "2018_11_30__T163_T163-133215\n",
      "Notebook_7_b.ipynb is being executed\n"
     ]
    },
    {
     "data": {
      "application/vnd.jupyter.widget-view+json": {
       "model_id": "1e67b7fdb8e1448e8a37bff5e97c2337",
       "version_major": 2,
       "version_minor": 0
      },
      "text/plain": [
       "HBox(children=(FloatProgress(value=0.0, description='Executing', max=36.0, style=ProgressStyle(description_wid…"
      ]
     },
     "metadata": {},
     "output_type": "display_data"
    },
    {
     "name": "stdout",
     "output_type": "stream",
     "text": [
      "\n",
      "T163_2018_12_03_Notebook_0_a: This session already exists - no need to re-run ;)\n",
      "2018_12_03__T163_T163-115901\n",
      "Notebook_1_d.ipynb is being executed\n"
     ]
    },
    {
     "data": {
      "application/vnd.jupyter.widget-view+json": {
       "model_id": "b7c5199c8f63466d897d36a627597f35",
       "version_major": 2,
       "version_minor": 0
      },
      "text/plain": [
       "HBox(children=(FloatProgress(value=0.0, description='Executing', max=15.0, style=ProgressStyle(description_wid…"
      ]
     },
     "metadata": {},
     "output_type": "display_data"
    },
    {
     "name": "stdout",
     "output_type": "stream",
     "text": [
      "\n",
      "T163_2018_12_03_Notebook_2_a: This session already exists - no need to re-run ;)\n",
      "T163_2018_12_03_Notebook_3_c: This session already exists - no need to re-run ;)\n",
      "T163_2018_12_03_Notebook_4_a: This session already exists - no need to re-run ;)\n",
      "T163_2018_12_03_Notebook_4_b: This session already exists - no need to re-run ;)\n",
      "T163_2018_12_03_Notebook_4_c: This session already exists - no need to re-run ;)\n",
      "T163_2018_12_03_Notebook_4_d: This session already exists - no need to re-run ;)\n",
      "T163_2018_12_03_Notebook_4_e: This session already exists - no need to re-run ;)\n",
      "2018_12_03__T163_T163-115901\n",
      "Notebook_5_a.ipynb is being executed\n"
     ]
    },
    {
     "data": {
      "application/vnd.jupyter.widget-view+json": {
       "model_id": "f678a3da1dc0496daf9e9cc26670705d",
       "version_major": 2,
       "version_minor": 0
      },
      "text/plain": [
       "HBox(children=(FloatProgress(value=0.0, description='Executing', max=17.0, style=ProgressStyle(description_wid…"
      ]
     },
     "metadata": {},
     "output_type": "display_data"
    },
    {
     "name": "stdout",
     "output_type": "stream",
     "text": [
      "\n",
      "2018_12_03__T163_T163-115901\n",
      "Notebook_6_a.ipynb is being executed\n"
     ]
    },
    {
     "data": {
      "application/vnd.jupyter.widget-view+json": {
       "model_id": "401b3ceccc0249ddb0b1b2e4277f097a",
       "version_major": 2,
       "version_minor": 0
      },
      "text/plain": [
       "HBox(children=(FloatProgress(value=0.0, description='Executing', max=10.0, style=ProgressStyle(description_wid…"
      ]
     },
     "metadata": {},
     "output_type": "display_data"
    },
    {
     "name": "stdout",
     "output_type": "stream",
     "text": [
      "\n",
      "2018_12_03__T163_T163-115901\n",
      "Notebook_7_b.ipynb is being executed\n"
     ]
    },
    {
     "data": {
      "application/vnd.jupyter.widget-view+json": {
       "model_id": "06e689a231ce400790814410aa1b6244",
       "version_major": 2,
       "version_minor": 0
      },
      "text/plain": [
       "HBox(children=(FloatProgress(value=0.0, description='Executing', max=36.0, style=ProgressStyle(description_wid…"
      ]
     },
     "metadata": {},
     "output_type": "display_data"
    },
    {
     "name": "stdout",
     "output_type": "stream",
     "text": [
      "\n",
      "T163_2018_12_04_Notebook_0_a: This session already exists - no need to re-run ;)\n",
      "2018_12_04__T163_T163-114628\n",
      "Notebook_1_d.ipynb is being executed\n"
     ]
    },
    {
     "data": {
      "application/vnd.jupyter.widget-view+json": {
       "model_id": "7219ec5e82484c078d47fb522da9c3b1",
       "version_major": 2,
       "version_minor": 0
      },
      "text/plain": [
       "HBox(children=(FloatProgress(value=0.0, description='Executing', max=15.0, style=ProgressStyle(description_wid…"
      ]
     },
     "metadata": {},
     "output_type": "display_data"
    },
    {
     "name": "stdout",
     "output_type": "stream",
     "text": [
      "\n",
      "T163_2018_12_04_Notebook_2_a: This session already exists - no need to re-run ;)\n",
      "T163_2018_12_04_Notebook_3_c: This session already exists - no need to re-run ;)\n",
      "T163_2018_12_04_Notebook_4_a: This session already exists - no need to re-run ;)\n",
      "T163_2018_12_04_Notebook_4_b: This session already exists - no need to re-run ;)\n",
      "T163_2018_12_04_Notebook_4_c: This session already exists - no need to re-run ;)\n",
      "T163_2018_12_04_Notebook_4_d: This session already exists - no need to re-run ;)\n",
      "T163_2018_12_04_Notebook_4_e: This session already exists - no need to re-run ;)\n",
      "2018_12_04__T163_T163-114628\n",
      "Notebook_5_a.ipynb is being executed\n"
     ]
    },
    {
     "data": {
      "application/vnd.jupyter.widget-view+json": {
       "model_id": "e6d737d49b1d4e2fa4b89e9926681816",
       "version_major": 2,
       "version_minor": 0
      },
      "text/plain": [
       "HBox(children=(FloatProgress(value=0.0, description='Executing', max=17.0, style=ProgressStyle(description_wid…"
      ]
     },
     "metadata": {},
     "output_type": "display_data"
    },
    {
     "name": "stdout",
     "output_type": "stream",
     "text": [
      "\n",
      "2018_12_04__T163_T163-114628\n",
      "Notebook_6_a.ipynb is being executed\n"
     ]
    },
    {
     "data": {
      "application/vnd.jupyter.widget-view+json": {
       "model_id": "f32f742bd04243e9bd01d89fb9a1f0be",
       "version_major": 2,
       "version_minor": 0
      },
      "text/plain": [
       "HBox(children=(FloatProgress(value=0.0, description='Executing', max=10.0, style=ProgressStyle(description_wid…"
      ]
     },
     "metadata": {},
     "output_type": "display_data"
    },
    {
     "name": "stdout",
     "output_type": "stream",
     "text": [
      "\n",
      "2018_12_04__T163_T163-114628\n",
      "Notebook_7_b.ipynb is being executed\n"
     ]
    },
    {
     "data": {
      "application/vnd.jupyter.widget-view+json": {
       "model_id": "20fae6ce67ed47c8a9c3c99b52149967",
       "version_major": 2,
       "version_minor": 0
      },
      "text/plain": [
       "HBox(children=(FloatProgress(value=0.0, description='Executing', max=36.0, style=ProgressStyle(description_wid…"
      ]
     },
     "metadata": {},
     "output_type": "display_data"
    },
    {
     "name": "stdout",
     "output_type": "stream",
     "text": [
      "\n",
      "T163_2018_12_06_Notebook_0_a: This session already exists - no need to re-run ;)\n",
      "2018_12_06__T163_T163-112720\n",
      "Notebook_1_d.ipynb is being executed\n"
     ]
    },
    {
     "data": {
      "application/vnd.jupyter.widget-view+json": {
       "model_id": "8ee992f793e742f98237fbd3d58454db",
       "version_major": 2,
       "version_minor": 0
      },
      "text/plain": [
       "HBox(children=(FloatProgress(value=0.0, description='Executing', max=15.0, style=ProgressStyle(description_wid…"
      ]
     },
     "metadata": {},
     "output_type": "display_data"
    },
    {
     "name": "stdout",
     "output_type": "stream",
     "text": [
      "\n",
      "T163_2018_12_06_Notebook_2_a: This session already exists - no need to re-run ;)\n",
      "T163_2018_12_06_Notebook_3_c: This session already exists - no need to re-run ;)\n",
      "T163_2018_12_06_Notebook_4_a: This session already exists - no need to re-run ;)\n",
      "T163_2018_12_06_Notebook_4_b: This session already exists - no need to re-run ;)\n",
      "T163_2018_12_06_Notebook_4_c: This session already exists - no need to re-run ;)\n",
      "T163_2018_12_06_Notebook_4_d: This session already exists - no need to re-run ;)\n",
      "T163_2018_12_06_Notebook_4_e: This session already exists - no need to re-run ;)\n",
      "2018_12_06__T163_T163-112720\n",
      "Notebook_5_a.ipynb is being executed\n"
     ]
    },
    {
     "data": {
      "application/vnd.jupyter.widget-view+json": {
       "model_id": "9f022f6734c04d65b9bddabd91084d36",
       "version_major": 2,
       "version_minor": 0
      },
      "text/plain": [
       "HBox(children=(FloatProgress(value=0.0, description='Executing', max=17.0, style=ProgressStyle(description_wid…"
      ]
     },
     "metadata": {},
     "output_type": "display_data"
    },
    {
     "name": "stdout",
     "output_type": "stream",
     "text": [
      "\n",
      "2018_12_06__T163_T163-112720\n",
      "Notebook_6_a.ipynb is being executed\n"
     ]
    },
    {
     "data": {
      "application/vnd.jupyter.widget-view+json": {
       "model_id": "087be48fd89f4674a7de2e2268f95064",
       "version_major": 2,
       "version_minor": 0
      },
      "text/plain": [
       "HBox(children=(FloatProgress(value=0.0, description='Executing', max=10.0, style=ProgressStyle(description_wid…"
      ]
     },
     "metadata": {},
     "output_type": "display_data"
    },
    {
     "name": "stdout",
     "output_type": "stream",
     "text": [
      "\n",
      "2018_12_06__T163_T163-112720\n",
      "Notebook_7_b.ipynb is being executed\n"
     ]
    },
    {
     "data": {
      "application/vnd.jupyter.widget-view+json": {
       "model_id": "663d9af6a0b246488b3d9d7b01d0b85f",
       "version_major": 2,
       "version_minor": 0
      },
      "text/plain": [
       "HBox(children=(FloatProgress(value=0.0, description='Executing', max=36.0, style=ProgressStyle(description_wid…"
      ]
     },
     "metadata": {},
     "output_type": "display_data"
    },
    {
     "name": "stdout",
     "output_type": "stream",
     "text": [
      "\n",
      "T163_2018_12_07_Notebook_0_a: This session already exists - no need to re-run ;)\n",
      "2018_12_07__T163_T163-123432\n",
      "Notebook_1_d.ipynb is being executed\n"
     ]
    },
    {
     "data": {
      "application/vnd.jupyter.widget-view+json": {
       "model_id": "ff5cd95665334202841b6e0acbf25819",
       "version_major": 2,
       "version_minor": 0
      },
      "text/plain": [
       "HBox(children=(FloatProgress(value=0.0, description='Executing', max=15.0, style=ProgressStyle(description_wid…"
      ]
     },
     "metadata": {},
     "output_type": "display_data"
    },
    {
     "name": "stdout",
     "output_type": "stream",
     "text": [
      "\n",
      "T163_2018_12_07_Notebook_2_a: This session already exists - no need to re-run ;)\n",
      "T163_2018_12_07_Notebook_3_c: This session already exists - no need to re-run ;)\n",
      "T163_2018_12_07_Notebook_4_a: This session already exists - no need to re-run ;)\n",
      "T163_2018_12_07_Notebook_4_b: This session already exists - no need to re-run ;)\n",
      "T163_2018_12_07_Notebook_4_c: This session already exists - no need to re-run ;)\n",
      "T163_2018_12_07_Notebook_4_d: This session already exists - no need to re-run ;)\n",
      "T163_2018_12_07_Notebook_4_e: This session already exists - no need to re-run ;)\n",
      "2018_12_07__T163_T163-123432\n",
      "Notebook_5_a.ipynb is being executed\n"
     ]
    },
    {
     "data": {
      "application/vnd.jupyter.widget-view+json": {
       "model_id": "4459f9e62f324a8a897321bd0e4f4109",
       "version_major": 2,
       "version_minor": 0
      },
      "text/plain": [
       "HBox(children=(FloatProgress(value=0.0, description='Executing', max=17.0, style=ProgressStyle(description_wid…"
      ]
     },
     "metadata": {},
     "output_type": "display_data"
    },
    {
     "name": "stdout",
     "output_type": "stream",
     "text": [
      "\n",
      "2018_12_07__T163_T163-123432\n",
      "Notebook_6_a.ipynb is being executed\n"
     ]
    },
    {
     "data": {
      "application/vnd.jupyter.widget-view+json": {
       "model_id": "ce96690368c7452ea496de67d9e75520",
       "version_major": 2,
       "version_minor": 0
      },
      "text/plain": [
       "HBox(children=(FloatProgress(value=0.0, description='Executing', max=10.0, style=ProgressStyle(description_wid…"
      ]
     },
     "metadata": {},
     "output_type": "display_data"
    },
    {
     "name": "stdout",
     "output_type": "stream",
     "text": [
      "\n",
      "2018_12_07__T163_T163-123432\n",
      "Notebook_7_b.ipynb is being executed\n"
     ]
    },
    {
     "data": {
      "application/vnd.jupyter.widget-view+json": {
       "model_id": "6afa9dd031a14ef0b2d255fb2a7c11ae",
       "version_major": 2,
       "version_minor": 0
      },
      "text/plain": [
       "HBox(children=(FloatProgress(value=0.0, description='Executing', max=36.0, style=ProgressStyle(description_wid…"
      ]
     },
     "metadata": {},
     "output_type": "display_data"
    },
    {
     "name": "stdout",
     "output_type": "stream",
     "text": [
      "\n",
      "T163_2018_12_10_Notebook_0_a: This session already exists - no need to re-run ;)\n",
      "2018_12_10__T163_T163-102536\n",
      "Notebook_1_d.ipynb is being executed\n"
     ]
    },
    {
     "data": {
      "application/vnd.jupyter.widget-view+json": {
       "model_id": "099083c7fd6e4158827e65777645a057",
       "version_major": 2,
       "version_minor": 0
      },
      "text/plain": [
       "HBox(children=(FloatProgress(value=0.0, description='Executing', max=15.0, style=ProgressStyle(description_wid…"
      ]
     },
     "metadata": {},
     "output_type": "display_data"
    },
    {
     "name": "stdout",
     "output_type": "stream",
     "text": [
      "\n",
      "T163_2018_12_10_Notebook_2_a: This session already exists - no need to re-run ;)\n",
      "T163_2018_12_10_Notebook_3_c: This session already exists - no need to re-run ;)\n",
      "T163_2018_12_10_Notebook_4_a: This session already exists - no need to re-run ;)\n",
      "T163_2018_12_10_Notebook_4_b: This session already exists - no need to re-run ;)\n",
      "T163_2018_12_10_Notebook_4_c: This session already exists - no need to re-run ;)\n",
      "T163_2018_12_10_Notebook_4_d: This session already exists - no need to re-run ;)\n",
      "T163_2018_12_10_Notebook_4_e: This session already exists - no need to re-run ;)\n",
      "2018_12_10__T163_T163-102536\n",
      "Notebook_5_a.ipynb is being executed\n"
     ]
    },
    {
     "data": {
      "application/vnd.jupyter.widget-view+json": {
       "model_id": "0620ea5962b84edd9f7d1dd2d11dc4b2",
       "version_major": 2,
       "version_minor": 0
      },
      "text/plain": [
       "HBox(children=(FloatProgress(value=0.0, description='Executing', max=17.0, style=ProgressStyle(description_wid…"
      ]
     },
     "metadata": {},
     "output_type": "display_data"
    },
    {
     "name": "stdout",
     "output_type": "stream",
     "text": [
      "\n",
      "2018_12_10__T163_T163-102536\n",
      "Notebook_6_a.ipynb is being executed\n"
     ]
    },
    {
     "data": {
      "application/vnd.jupyter.widget-view+json": {
       "model_id": "790a76168e5349598b95258c87ac4b9a",
       "version_major": 2,
       "version_minor": 0
      },
      "text/plain": [
       "HBox(children=(FloatProgress(value=0.0, description='Executing', max=10.0, style=ProgressStyle(description_wid…"
      ]
     },
     "metadata": {},
     "output_type": "display_data"
    },
    {
     "name": "stdout",
     "output_type": "stream",
     "text": [
      "\n",
      "2018_12_10__T163_T163-102536\n",
      "Notebook_7_b.ipynb is being executed\n"
     ]
    },
    {
     "data": {
      "application/vnd.jupyter.widget-view+json": {
       "model_id": "30a050b33e8244d6893956d9aa15e311",
       "version_major": 2,
       "version_minor": 0
      },
      "text/plain": [
       "HBox(children=(FloatProgress(value=0.0, description='Executing', max=36.0, style=ProgressStyle(description_wid…"
      ]
     },
     "metadata": {},
     "output_type": "display_data"
    },
    {
     "name": "stdout",
     "output_type": "stream",
     "text": [
      "\n",
      "T163_2018_12_13_Notebook_0_a: This session already exists - no need to re-run ;)\n",
      "2018_12_13__T163_T163-094646\n",
      "Notebook_1_d.ipynb is being executed\n"
     ]
    },
    {
     "data": {
      "application/vnd.jupyter.widget-view+json": {
       "model_id": "1c3ffd16abda486ab3eca21fd6379ee3",
       "version_major": 2,
       "version_minor": 0
      },
      "text/plain": [
       "HBox(children=(FloatProgress(value=0.0, description='Executing', max=15.0, style=ProgressStyle(description_wid…"
      ]
     },
     "metadata": {},
     "output_type": "display_data"
    },
    {
     "name": "stdout",
     "output_type": "stream",
     "text": [
      "\n",
      "T163_2018_12_13_Notebook_2_a: This session already exists - no need to re-run ;)\n",
      "T163_2018_12_13_Notebook_3_c: This session already exists - no need to re-run ;)\n",
      "T163_2018_12_13_Notebook_4_a: This session already exists - no need to re-run ;)\n",
      "T163_2018_12_13_Notebook_4_b: This session already exists - no need to re-run ;)\n",
      "T163_2018_12_13_Notebook_4_c: This session already exists - no need to re-run ;)\n",
      "T163_2018_12_13_Notebook_4_d: This session already exists - no need to re-run ;)\n",
      "T163_2018_12_13_Notebook_4_e: This session already exists - no need to re-run ;)\n",
      "2018_12_13__T163_T163-094646\n",
      "Notebook_5_a.ipynb is being executed\n"
     ]
    },
    {
     "data": {
      "application/vnd.jupyter.widget-view+json": {
       "model_id": "a5976f624f3d447e846a55c24d19fc16",
       "version_major": 2,
       "version_minor": 0
      },
      "text/plain": [
       "HBox(children=(FloatProgress(value=0.0, description='Executing', max=17.0, style=ProgressStyle(description_wid…"
      ]
     },
     "metadata": {},
     "output_type": "display_data"
    },
    {
     "name": "stdout",
     "output_type": "stream",
     "text": [
      "\n",
      "2018_12_13__T163_T163-094646\n",
      "Notebook_6_a.ipynb is being executed\n"
     ]
    },
    {
     "data": {
      "application/vnd.jupyter.widget-view+json": {
       "model_id": "a9d22eee623f4a7aa8832c06bd29dbb6",
       "version_major": 2,
       "version_minor": 0
      },
      "text/plain": [
       "HBox(children=(FloatProgress(value=0.0, description='Executing', max=10.0, style=ProgressStyle(description_wid…"
      ]
     },
     "metadata": {},
     "output_type": "display_data"
    },
    {
     "name": "stdout",
     "output_type": "stream",
     "text": [
      "\n",
      "2018_12_13__T163_T163-094646\n",
      "Notebook_7_b.ipynb is being executed\n"
     ]
    },
    {
     "data": {
      "application/vnd.jupyter.widget-view+json": {
       "model_id": "a97dc71211f24cc494ba7dcbc4739a9e",
       "version_major": 2,
       "version_minor": 0
      },
      "text/plain": [
       "HBox(children=(FloatProgress(value=0.0, description='Executing', max=36.0, style=ProgressStyle(description_wid…"
      ]
     },
     "metadata": {},
     "output_type": "display_data"
    },
    {
     "name": "stdout",
     "output_type": "stream",
     "text": [
      "\n",
      "T164_2018_11_27_Notebook_0_a: This session already exists - no need to re-run ;)\n",
      "2018_11_27__T164_T164-153101\n",
      "Notebook_1_d.ipynb is being executed\n"
     ]
    },
    {
     "data": {
      "application/vnd.jupyter.widget-view+json": {
       "model_id": "3f1321e086d24467b2ee0c40c07aa23b",
       "version_major": 2,
       "version_minor": 0
      },
      "text/plain": [
       "HBox(children=(FloatProgress(value=0.0, description='Executing', max=15.0, style=ProgressStyle(description_wid…"
      ]
     },
     "metadata": {},
     "output_type": "display_data"
    },
    {
     "name": "stdout",
     "output_type": "stream",
     "text": [
      "\n",
      "T164_2018_11_27_Notebook_2_a: This session already exists - no need to re-run ;)\n",
      "T164_2018_11_27_Notebook_3_c: This session already exists - no need to re-run ;)\n",
      "T164_2018_11_27_Notebook_4_a: This session already exists - no need to re-run ;)\n",
      "T164_2018_11_27_Notebook_4_b: This session already exists - no need to re-run ;)\n",
      "T164_2018_11_27_Notebook_4_c: This session already exists - no need to re-run ;)\n",
      "T164_2018_11_27_Notebook_4_d: This session already exists - no need to re-run ;)\n",
      "T164_2018_11_27_Notebook_4_e: This session already exists - no need to re-run ;)\n",
      "2018_11_27__T164_T164-153101\n",
      "Notebook_5_a.ipynb is being executed\n"
     ]
    },
    {
     "data": {
      "application/vnd.jupyter.widget-view+json": {
       "model_id": "9453884e47d04e0dbd51eb71aa54e682",
       "version_major": 2,
       "version_minor": 0
      },
      "text/plain": [
       "HBox(children=(FloatProgress(value=0.0, description='Executing', max=17.0, style=ProgressStyle(description_wid…"
      ]
     },
     "metadata": {},
     "output_type": "display_data"
    },
    {
     "name": "stdout",
     "output_type": "stream",
     "text": [
      "\n",
      "2018_11_27__T164_T164-153101\n",
      "Notebook_6_a.ipynb is being executed\n"
     ]
    },
    {
     "data": {
      "application/vnd.jupyter.widget-view+json": {
       "model_id": "43e21218bc9944b8a0cb4368eb7cf3f9",
       "version_major": 2,
       "version_minor": 0
      },
      "text/plain": [
       "HBox(children=(FloatProgress(value=0.0, description='Executing', max=10.0, style=ProgressStyle(description_wid…"
      ]
     },
     "metadata": {},
     "output_type": "display_data"
    },
    {
     "name": "stdout",
     "output_type": "stream",
     "text": [
      "\n",
      "2018_11_27__T164_T164-153101\n",
      "Notebook_7_b.ipynb is being executed\n"
     ]
    },
    {
     "data": {
      "application/vnd.jupyter.widget-view+json": {
       "model_id": "cdb0bf5b4cc34327b95d9b1f80be3eff",
       "version_major": 2,
       "version_minor": 0
      },
      "text/plain": [
       "HBox(children=(FloatProgress(value=0.0, description='Executing', max=36.0, style=ProgressStyle(description_wid…"
      ]
     },
     "metadata": {},
     "output_type": "display_data"
    },
    {
     "name": "stdout",
     "output_type": "stream",
     "text": [
      "\n",
      "T164_2018_11_28_Notebook_0_a: This session already exists - no need to re-run ;)\n",
      "2018_11_28__T164_T164-122054\n",
      "Notebook_1_d.ipynb is being executed\n"
     ]
    },
    {
     "data": {
      "application/vnd.jupyter.widget-view+json": {
       "model_id": "b9e5497cf781462897a867e4d082d668",
       "version_major": 2,
       "version_minor": 0
      },
      "text/plain": [
       "HBox(children=(FloatProgress(value=0.0, description='Executing', max=15.0, style=ProgressStyle(description_wid…"
      ]
     },
     "metadata": {},
     "output_type": "display_data"
    },
    {
     "name": "stdout",
     "output_type": "stream",
     "text": [
      "\n",
      "T164_2018_11_28_Notebook_2_a: This session already exists - no need to re-run ;)\n",
      "T164_2018_11_28_Notebook_3_c: This session already exists - no need to re-run ;)\n",
      "T164_2018_11_28_Notebook_4_a: This session already exists - no need to re-run ;)\n",
      "T164_2018_11_28_Notebook_4_b: This session already exists - no need to re-run ;)\n",
      "T164_2018_11_28_Notebook_4_c: This session already exists - no need to re-run ;)\n",
      "T164_2018_11_28_Notebook_4_d: This session already exists - no need to re-run ;)\n",
      "T164_2018_11_28_Notebook_4_e: This session already exists - no need to re-run ;)\n",
      "2018_11_28__T164_T164-122054\n",
      "Notebook_5_a.ipynb is being executed\n"
     ]
    },
    {
     "data": {
      "application/vnd.jupyter.widget-view+json": {
       "model_id": "1766373d3ed94addb565b8df977f74c3",
       "version_major": 2,
       "version_minor": 0
      },
      "text/plain": [
       "HBox(children=(FloatProgress(value=0.0, description='Executing', max=17.0, style=ProgressStyle(description_wid…"
      ]
     },
     "metadata": {},
     "output_type": "display_data"
    },
    {
     "name": "stdout",
     "output_type": "stream",
     "text": [
      "\n",
      "2018_11_28__T164_T164-122054\n",
      "Notebook_6_a.ipynb is being executed\n"
     ]
    },
    {
     "data": {
      "application/vnd.jupyter.widget-view+json": {
       "model_id": "03670e457565431b8a3df9db504603f6",
       "version_major": 2,
       "version_minor": 0
      },
      "text/plain": [
       "HBox(children=(FloatProgress(value=0.0, description='Executing', max=10.0, style=ProgressStyle(description_wid…"
      ]
     },
     "metadata": {},
     "output_type": "display_data"
    },
    {
     "name": "stdout",
     "output_type": "stream",
     "text": [
      "\n",
      "2018_11_28__T164_T164-122054\n",
      "Notebook_7_b.ipynb is being executed\n"
     ]
    },
    {
     "data": {
      "application/vnd.jupyter.widget-view+json": {
       "model_id": "6db7e733619e4576ae9cfbe5042696c5",
       "version_major": 2,
       "version_minor": 0
      },
      "text/plain": [
       "HBox(children=(FloatProgress(value=0.0, description='Executing', max=36.0, style=ProgressStyle(description_wid…"
      ]
     },
     "metadata": {},
     "output_type": "display_data"
    },
    {
     "name": "stdout",
     "output_type": "stream",
     "text": [
      "\n",
      "T164_2018_12_04_Notebook_0_a: This session already exists - no need to re-run ;)\n",
      "2018_12_04__T164_T164-121548\n",
      "Notebook_1_d.ipynb is being executed\n"
     ]
    },
    {
     "data": {
      "application/vnd.jupyter.widget-view+json": {
       "model_id": "fe0547a196464f15aaa823ae469bc05e",
       "version_major": 2,
       "version_minor": 0
      },
      "text/plain": [
       "HBox(children=(FloatProgress(value=0.0, description='Executing', max=15.0, style=ProgressStyle(description_wid…"
      ]
     },
     "metadata": {},
     "output_type": "display_data"
    },
    {
     "name": "stdout",
     "output_type": "stream",
     "text": [
      "\n",
      "T164_2018_12_04_Notebook_2_a: This session already exists - no need to re-run ;)\n",
      "T164_2018_12_04_Notebook_3_c: This session already exists - no need to re-run ;)\n",
      "T164_2018_12_04_Notebook_4_a: This session already exists - no need to re-run ;)\n",
      "T164_2018_12_04_Notebook_4_b: This session already exists - no need to re-run ;)\n",
      "T164_2018_12_04_Notebook_4_c: This session already exists - no need to re-run ;)\n",
      "T164_2018_12_04_Notebook_4_d: This session already exists - no need to re-run ;)\n",
      "T164_2018_12_04_Notebook_4_e: This session already exists - no need to re-run ;)\n",
      "2018_12_04__T164_T164-121548\n",
      "Notebook_5_a.ipynb is being executed\n"
     ]
    },
    {
     "data": {
      "application/vnd.jupyter.widget-view+json": {
       "model_id": "2bbe114410ae4ce5b6b5af45d9f79cef",
       "version_major": 2,
       "version_minor": 0
      },
      "text/plain": [
       "HBox(children=(FloatProgress(value=0.0, description='Executing', max=17.0, style=ProgressStyle(description_wid…"
      ]
     },
     "metadata": {},
     "output_type": "display_data"
    },
    {
     "name": "stdout",
     "output_type": "stream",
     "text": [
      "\n",
      "2018_12_04__T164_T164-121548\n",
      "Notebook_6_a.ipynb is being executed\n"
     ]
    },
    {
     "data": {
      "application/vnd.jupyter.widget-view+json": {
       "model_id": "3f93e3ae0df1495ab579f6f0d8874391",
       "version_major": 2,
       "version_minor": 0
      },
      "text/plain": [
       "HBox(children=(FloatProgress(value=0.0, description='Executing', max=10.0, style=ProgressStyle(description_wid…"
      ]
     },
     "metadata": {},
     "output_type": "display_data"
    },
    {
     "name": "stdout",
     "output_type": "stream",
     "text": [
      "\n",
      "2018_12_04__T164_T164-121548\n",
      "Notebook_7_b.ipynb is being executed\n"
     ]
    },
    {
     "data": {
      "application/vnd.jupyter.widget-view+json": {
       "model_id": "a237d18be5534cf18389e516ad68a12c",
       "version_major": 2,
       "version_minor": 0
      },
      "text/plain": [
       "HBox(children=(FloatProgress(value=0.0, description='Executing', max=36.0, style=ProgressStyle(description_wid…"
      ]
     },
     "metadata": {},
     "output_type": "display_data"
    },
    {
     "name": "stdout",
     "output_type": "stream",
     "text": [
      "\n",
      "T164_2018_12_05_Notebook_0_a: This session already exists - no need to re-run ;)\n",
      "2018_12_05__T164_T164-123550\n",
      "Notebook_1_d.ipynb is being executed\n"
     ]
    },
    {
     "data": {
      "application/vnd.jupyter.widget-view+json": {
       "model_id": "68ceddbb35204ea5b0122988399c9e78",
       "version_major": 2,
       "version_minor": 0
      },
      "text/plain": [
       "HBox(children=(FloatProgress(value=0.0, description='Executing', max=15.0, style=ProgressStyle(description_wid…"
      ]
     },
     "metadata": {},
     "output_type": "display_data"
    },
    {
     "name": "stdout",
     "output_type": "stream",
     "text": [
      "\n",
      "T164_2018_12_05_Notebook_2_a: This session already exists - no need to re-run ;)\n",
      "T164_2018_12_05_Notebook_3_c: This session already exists - no need to re-run ;)\n",
      "T164_2018_12_05_Notebook_4_a: This session already exists - no need to re-run ;)\n",
      "T164_2018_12_05_Notebook_4_b: This session already exists - no need to re-run ;)\n",
      "T164_2018_12_05_Notebook_4_c: This session already exists - no need to re-run ;)\n",
      "T164_2018_12_05_Notebook_4_d: This session already exists - no need to re-run ;)\n",
      "T164_2018_12_05_Notebook_4_e: This session already exists - no need to re-run ;)\n",
      "2018_12_05__T164_T164-123550\n",
      "Notebook_5_a.ipynb is being executed\n"
     ]
    },
    {
     "data": {
      "application/vnd.jupyter.widget-view+json": {
       "model_id": "dd6829f69acf452d9d58a39286df08be",
       "version_major": 2,
       "version_minor": 0
      },
      "text/plain": [
       "HBox(children=(FloatProgress(value=0.0, description='Executing', max=17.0, style=ProgressStyle(description_wid…"
      ]
     },
     "metadata": {},
     "output_type": "display_data"
    },
    {
     "name": "stdout",
     "output_type": "stream",
     "text": [
      "\n",
      "2018_12_05__T164_T164-123550\n",
      "Notebook_6_a.ipynb is being executed\n"
     ]
    },
    {
     "data": {
      "application/vnd.jupyter.widget-view+json": {
       "model_id": "3a49879cdf9442db8502fb3ab4630e13",
       "version_major": 2,
       "version_minor": 0
      },
      "text/plain": [
       "HBox(children=(FloatProgress(value=0.0, description='Executing', max=10.0, style=ProgressStyle(description_wid…"
      ]
     },
     "metadata": {},
     "output_type": "display_data"
    },
    {
     "name": "stdout",
     "output_type": "stream",
     "text": [
      "\n",
      "2018_12_05__T164_T164-123550\n",
      "Notebook_7_b.ipynb is being executed\n"
     ]
    },
    {
     "data": {
      "application/vnd.jupyter.widget-view+json": {
       "model_id": "a913a20210db40f9b858269acc509e1e",
       "version_major": 2,
       "version_minor": 0
      },
      "text/plain": [
       "HBox(children=(FloatProgress(value=0.0, description='Executing', max=36.0, style=ProgressStyle(description_wid…"
      ]
     },
     "metadata": {},
     "output_type": "display_data"
    },
    {
     "name": "stdout",
     "output_type": "stream",
     "text": [
      "\n",
      "T164_2018_12_10_Notebook_0_a: This session already exists - no need to re-run ;)\n",
      "2018_12_10__T164_T164-105324\n",
      "Notebook_1_d.ipynb is being executed\n"
     ]
    },
    {
     "data": {
      "application/vnd.jupyter.widget-view+json": {
       "model_id": "b45f77d057544d37abdad840bee7595f",
       "version_major": 2,
       "version_minor": 0
      },
      "text/plain": [
       "HBox(children=(FloatProgress(value=0.0, description='Executing', max=15.0, style=ProgressStyle(description_wid…"
      ]
     },
     "metadata": {},
     "output_type": "display_data"
    },
    {
     "name": "stdout",
     "output_type": "stream",
     "text": [
      "\n",
      "T164_2018_12_10_Notebook_2_a: This session already exists - no need to re-run ;)\n",
      "T164_2018_12_10_Notebook_3_c: This session already exists - no need to re-run ;)\n",
      "T164_2018_12_10_Notebook_4_a: This session already exists - no need to re-run ;)\n",
      "T164_2018_12_10_Notebook_4_b: This session already exists - no need to re-run ;)\n",
      "T164_2018_12_10_Notebook_4_c: This session already exists - no need to re-run ;)\n",
      "T164_2018_12_10_Notebook_4_d: This session already exists - no need to re-run ;)\n",
      "T164_2018_12_10_Notebook_4_e: This session already exists - no need to re-run ;)\n",
      "2018_12_10__T164_T164-105324\n",
      "Notebook_5_a.ipynb is being executed\n"
     ]
    },
    {
     "data": {
      "application/vnd.jupyter.widget-view+json": {
       "model_id": "ef9e98dddba2422f972980957ed66689",
       "version_major": 2,
       "version_minor": 0
      },
      "text/plain": [
       "HBox(children=(FloatProgress(value=0.0, description='Executing', max=17.0, style=ProgressStyle(description_wid…"
      ]
     },
     "metadata": {},
     "output_type": "display_data"
    },
    {
     "name": "stdout",
     "output_type": "stream",
     "text": [
      "\n",
      "2018_12_10__T164_T164-105324\n",
      "Notebook_6_a.ipynb is being executed\n"
     ]
    },
    {
     "data": {
      "application/vnd.jupyter.widget-view+json": {
       "model_id": "ded5189a9f4e4f7eb31f1a841c5b0f7f",
       "version_major": 2,
       "version_minor": 0
      },
      "text/plain": [
       "HBox(children=(FloatProgress(value=0.0, description='Executing', max=10.0, style=ProgressStyle(description_wid…"
      ]
     },
     "metadata": {},
     "output_type": "display_data"
    },
    {
     "name": "stdout",
     "output_type": "stream",
     "text": [
      "\n",
      "2018_12_10__T164_T164-105324\n",
      "Notebook_7_b.ipynb is being executed\n"
     ]
    },
    {
     "data": {
      "application/vnd.jupyter.widget-view+json": {
       "model_id": "06e3395311b2432a9275a8ef03777b7a",
       "version_major": 2,
       "version_minor": 0
      },
      "text/plain": [
       "HBox(children=(FloatProgress(value=0.0, description='Executing', max=36.0, style=ProgressStyle(description_wid…"
      ]
     },
     "metadata": {},
     "output_type": "display_data"
    },
    {
     "name": "stdout",
     "output_type": "stream",
     "text": [
      "\n",
      "T164_2018_12_13_Notebook_0_a: This session already exists - no need to re-run ;)\n",
      "2018_12_13__T164_T164-101804\n",
      "Notebook_1_d.ipynb is being executed\n"
     ]
    },
    {
     "data": {
      "application/vnd.jupyter.widget-view+json": {
       "model_id": "16e66336411c40b48f2165d27f8b6a20",
       "version_major": 2,
       "version_minor": 0
      },
      "text/plain": [
       "HBox(children=(FloatProgress(value=0.0, description='Executing', max=15.0, style=ProgressStyle(description_wid…"
      ]
     },
     "metadata": {},
     "output_type": "display_data"
    },
    {
     "name": "stdout",
     "output_type": "stream",
     "text": [
      "\n",
      "T164_2018_12_13_Notebook_2_a: This session already exists - no need to re-run ;)\n",
      "T164_2018_12_13_Notebook_3_c: This session already exists - no need to re-run ;)\n",
      "T164_2018_12_13_Notebook_4_a: This session already exists - no need to re-run ;)\n",
      "T164_2018_12_13_Notebook_4_b: This session already exists - no need to re-run ;)\n",
      "T164_2018_12_13_Notebook_4_c: This session already exists - no need to re-run ;)\n",
      "T164_2018_12_13_Notebook_4_d: This session already exists - no need to re-run ;)\n",
      "T164_2018_12_13_Notebook_4_e: This session already exists - no need to re-run ;)\n",
      "2018_12_13__T164_T164-101804\n",
      "Notebook_5_a.ipynb is being executed\n"
     ]
    },
    {
     "data": {
      "application/vnd.jupyter.widget-view+json": {
       "model_id": "d34e0e152bef411c9e770a902ef6b63f",
       "version_major": 2,
       "version_minor": 0
      },
      "text/plain": [
       "HBox(children=(FloatProgress(value=0.0, description='Executing', max=17.0, style=ProgressStyle(description_wid…"
      ]
     },
     "metadata": {},
     "output_type": "display_data"
    },
    {
     "name": "stdout",
     "output_type": "stream",
     "text": [
      "\n",
      "2018_12_13__T164_T164-101804\n",
      "Notebook_6_a.ipynb is being executed\n"
     ]
    },
    {
     "data": {
      "application/vnd.jupyter.widget-view+json": {
       "model_id": "a977f31f0cab4708b0f7c10f0cb4026a",
       "version_major": 2,
       "version_minor": 0
      },
      "text/plain": [
       "HBox(children=(FloatProgress(value=0.0, description='Executing', max=10.0, style=ProgressStyle(description_wid…"
      ]
     },
     "metadata": {},
     "output_type": "display_data"
    },
    {
     "name": "stdout",
     "output_type": "stream",
     "text": [
      "\n",
      "2018_12_13__T164_T164-101804\n",
      "Notebook_7_b.ipynb is being executed\n"
     ]
    },
    {
     "data": {
      "application/vnd.jupyter.widget-view+json": {
       "model_id": "7d45978b51184a3ba77b245aa915da3c",
       "version_major": 2,
       "version_minor": 0
      },
      "text/plain": [
       "HBox(children=(FloatProgress(value=0.0, description='Executing', max=36.0, style=ProgressStyle(description_wid…"
      ]
     },
     "metadata": {},
     "output_type": "display_data"
    },
    {
     "name": "stdout",
     "output_type": "stream",
     "text": [
      "\n",
      "T169_2019_02_01_Notebook_0_a: This session already exists - no need to re-run ;)\n",
      "2019_02_01__T169_T169-141602\n",
      "Notebook_1_d.ipynb is being executed\n"
     ]
    },
    {
     "data": {
      "application/vnd.jupyter.widget-view+json": {
       "model_id": "ff2963e8f909465cbd63402825d1430e",
       "version_major": 2,
       "version_minor": 0
      },
      "text/plain": [
       "HBox(children=(FloatProgress(value=0.0, description='Executing', max=15.0, style=ProgressStyle(description_wid…"
      ]
     },
     "metadata": {},
     "output_type": "display_data"
    },
    {
     "name": "stdout",
     "output_type": "stream",
     "text": [
      "\n",
      "T169_2019_02_01_Notebook_2_a: This session already exists - no need to re-run ;)\n",
      "T169_2019_02_01_Notebook_3_c: This session already exists - no need to re-run ;)\n",
      "T169_2019_02_01_Notebook_4_a: This session already exists - no need to re-run ;)\n",
      "T169_2019_02_01_Notebook_4_b: This session already exists - no need to re-run ;)\n",
      "T169_2019_02_01_Notebook_4_c: This session already exists - no need to re-run ;)\n",
      "T169_2019_02_01_Notebook_4_d: This session already exists - no need to re-run ;)\n",
      "T169_2019_02_01_Notebook_4_e: This session already exists - no need to re-run ;)\n",
      "2019_02_01__T169_T169-141602\n",
      "Notebook_5_a.ipynb is being executed\n"
     ]
    },
    {
     "data": {
      "application/vnd.jupyter.widget-view+json": {
       "model_id": "60ce873b28134eeb88b1c794e588f88f",
       "version_major": 2,
       "version_minor": 0
      },
      "text/plain": [
       "HBox(children=(FloatProgress(value=0.0, description='Executing', max=17.0, style=ProgressStyle(description_wid…"
      ]
     },
     "metadata": {},
     "output_type": "display_data"
    }
   ],
   "source": [
    "#Mouse_Date_FileName: data set we want to run \n",
    "#nb_list: notebooks that we want to run \n",
    "#nb_path: where is the repository that you are running \n",
    "#seq_str: notebooks that we want to run - in code version \n",
    "#dict_for_pm: parameters of the data set \n",
    "%%time\n",
    "ophf.run_dataset (Mouse_Date_FileName,nb_list,nb_path,seq_str,dict_for_pm)"
   ]
  },
  {
   "cell_type": "code",
   "execution_count": null,
   "metadata": {},
   "outputs": [],
   "source": []
  },
  {
   "cell_type": "code",
   "execution_count": null,
   "metadata": {},
   "outputs": [],
   "source": []
  }
 ],
 "metadata": {
  "celltoolbar": "Tags",
  "kernelspec": {
   "display_name": "Python 3",
   "language": "python",
   "name": "python3"
  },
  "language_info": {
   "codemirror_mode": {
    "name": "ipython",
    "version": 3
   },
   "file_extension": ".py",
   "mimetype": "text/x-python",
   "name": "python",
   "nbconvert_exporter": "python",
   "pygments_lexer": "ipython3",
   "version": "3.7.3"
  }
 },
 "nbformat": 4,
 "nbformat_minor": 2
}
