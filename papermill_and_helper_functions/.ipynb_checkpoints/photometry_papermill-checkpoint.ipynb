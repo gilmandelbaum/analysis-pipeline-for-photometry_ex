{
 "cells": [
  {
   "cell_type": "markdown",
   "metadata": {},
   "source": [
    "\n",
    "# Papermill Notebook for photometry"
   ]
  },
  {
   "cell_type": "code",
   "execution_count": 1,
   "metadata": {},
   "outputs": [],
   "source": [
    "import pandas as pd\n",
    "import numpy as np\n",
    "import os \n",
    "import papermill as pm\n",
    "import getpass\n",
    "import sys"
   ]
  },
  {
   "cell_type": "code",
   "execution_count": 2,
   "metadata": {},
   "outputs": [
    {
     "data": {
      "text/plain": [
       "'/anaconda3/bin/python3'"
      ]
     },
     "execution_count": 2,
     "metadata": {},
     "output_type": "execute_result"
    }
   ],
   "source": [
    "sys.executable"
   ]
  },
  {
   "cell_type": "code",
   "execution_count": 3,
   "metadata": {},
   "outputs": [],
   "source": [
    "import photometry_papermill_helper_functions as ophf "
   ]
  },
  {
   "cell_type": "markdown",
   "metadata": {},
   "source": [
    "# input and output path: (user specific)"
   ]
  },
  {
   "cell_type": "code",
   "execution_count": 4,
   "metadata": {},
   "outputs": [],
   "source": [
    "#data_dir_input = \"/Users/gilmandelbaum/Desktop/T240_mouse\"\n",
    "#data_dir_output = \"/Users/gilmandelbaum/Desktop/output/\"\n",
    "\n",
    "data_dir_input = \"/Volumes/GilInVivoPaper.large/2.Photometry_in_str/0.data_Sets/1.lateral_medial_6/\"\n",
    "data_dir_output = \"/Volumes/GilInVivoPaper.large/2.Photometry_in_str/1.lateral_medial_6_analysis/\"\n"
   ]
  },
  {
   "cell_type": "markdown",
   "metadata": {},
   "source": [
    "# name of xlsx sheet to import with the data set info: "
   ]
  },
  {
   "cell_type": "code",
   "execution_count": 5,
   "metadata": {},
   "outputs": [],
   "source": [
    "#this xlsx sheet should be in the data_dir_input"
   ]
  },
  {
   "cell_type": "code",
   "execution_count": 6,
   "metadata": {},
   "outputs": [],
   "source": [
    "#name of xlsx file that has the sessions we want to run: \n",
    "MasterSheetName= '3.lateral_ medial_6_lateral_channels_final'\n",
    "\n",
    "#MasterSheetName = \"4.lateral_medial_6_medial_channels_final\""
   ]
  },
  {
   "cell_type": "code",
   "execution_count": 7,
   "metadata": {
    "scrolled": true
   },
   "outputs": [],
   "source": [
    "#loading the xlsx file \n",
    "Mouse_Date_FileName = pd.read_excel(data_dir_input+'/'+MasterSheetName+'.xlsx') #mdf is mouse data file "
   ]
  },
  {
   "cell_type": "code",
   "execution_count": 8,
   "metadata": {},
   "outputs": [
    {
     "data": {
      "text/html": [
       "<div>\n",
       "<style scoped>\n",
       "    .dataframe tbody tr th:only-of-type {\n",
       "        vertical-align: middle;\n",
       "    }\n",
       "\n",
       "    .dataframe tbody tr th {\n",
       "        vertical-align: top;\n",
       "    }\n",
       "\n",
       "    .dataframe thead th {\n",
       "        text-align: right;\n",
       "    }\n",
       "</style>\n",
       "<table border=\"1\" class=\"dataframe\">\n",
       "  <thead>\n",
       "    <tr style=\"text-align: right;\">\n",
       "      <th></th>\n",
       "      <th>mouse</th>\n",
       "      <th>date</th>\n",
       "      <th>file name</th>\n",
       "    </tr>\n",
       "  </thead>\n",
       "  <tbody>\n",
       "    <tr>\n",
       "      <th>0</th>\n",
       "      <td>T163</td>\n",
       "      <td>181207</td>\n",
       "      <td>T163-123432</td>\n",
       "    </tr>\n",
       "    <tr>\n",
       "      <th>1</th>\n",
       "      <td>T163</td>\n",
       "      <td>181128</td>\n",
       "      <td>T163-115220</td>\n",
       "    </tr>\n",
       "    <tr>\n",
       "      <th>2</th>\n",
       "      <td>T163</td>\n",
       "      <td>181203</td>\n",
       "      <td>T163-115901</td>\n",
       "    </tr>\n",
       "    <tr>\n",
       "      <th>3</th>\n",
       "      <td>T163</td>\n",
       "      <td>181130</td>\n",
       "      <td>T163-133215</td>\n",
       "    </tr>\n",
       "    <tr>\n",
       "      <th>4</th>\n",
       "      <td>T163</td>\n",
       "      <td>181204</td>\n",
       "      <td>T163-114628</td>\n",
       "    </tr>\n",
       "    <tr>\n",
       "      <th>...</th>\n",
       "      <td>...</td>\n",
       "      <td>...</td>\n",
       "      <td>...</td>\n",
       "    </tr>\n",
       "    <tr>\n",
       "      <th>70</th>\n",
       "      <td>T202</td>\n",
       "      <td>190530</td>\n",
       "      <td>T202-152554</td>\n",
       "    </tr>\n",
       "    <tr>\n",
       "      <th>71</th>\n",
       "      <td>T202</td>\n",
       "      <td>190522</td>\n",
       "      <td>T202-141516</td>\n",
       "    </tr>\n",
       "    <tr>\n",
       "      <th>72</th>\n",
       "      <td>T202</td>\n",
       "      <td>190529</td>\n",
       "      <td>T202-160644</td>\n",
       "    </tr>\n",
       "    <tr>\n",
       "      <th>73</th>\n",
       "      <td>T202</td>\n",
       "      <td>190526</td>\n",
       "      <td>T202-142728</td>\n",
       "    </tr>\n",
       "    <tr>\n",
       "      <th>74</th>\n",
       "      <td>T202</td>\n",
       "      <td>190516</td>\n",
       "      <td>T202-165613</td>\n",
       "    </tr>\n",
       "  </tbody>\n",
       "</table>\n",
       "<p>75 rows × 3 columns</p>\n",
       "</div>"
      ],
      "text/plain": [
       "   mouse    date    file name\n",
       "0   T163  181207  T163-123432\n",
       "1   T163  181128  T163-115220\n",
       "2   T163  181203  T163-115901\n",
       "3   T163  181130  T163-133215\n",
       "4   T163  181204  T163-114628\n",
       "..   ...     ...          ...\n",
       "70  T202  190530  T202-152554\n",
       "71  T202  190522  T202-141516\n",
       "72  T202  190529  T202-160644\n",
       "73  T202  190526  T202-142728\n",
       "74  T202  190516  T202-165613\n",
       "\n",
       "[75 rows x 3 columns]"
      ]
     },
     "execution_count": 8,
     "metadata": {},
     "output_type": "execute_result"
    }
   ],
   "source": [
    "Mouse_Date_FileName"
   ]
  },
  {
   "cell_type": "markdown",
   "metadata": {},
   "source": [
    "# use this if running the notebooks from local github folder"
   ]
  },
  {
   "cell_type": "markdown",
   "metadata": {},
   "source": [
    "### if not - define a path to where the repository is at"
   ]
  },
  {
   "cell_type": "code",
   "execution_count": 9,
   "metadata": {},
   "outputs": [
    {
     "name": "stdout",
     "output_type": "stream",
     "text": [
      "gilmandelbaum\n"
     ]
    }
   ],
   "source": [
    "#add the github path that will run the notebooks: \n",
    "username = getpass.getuser() # gets the username from the current comp \n",
    "print (username)"
   ]
  },
  {
   "cell_type": "code",
   "execution_count": 10,
   "metadata": {},
   "outputs": [
    {
     "data": {
      "text/plain": [
       "'/Users/gilmandelbaum/github/analysis-pipeline-for-photometry_ex/'"
      ]
     },
     "execution_count": 10,
     "metadata": {},
     "output_type": "execute_result"
    }
   ],
   "source": [
    "sys.path.append('/Users/{:}/github/analysis-pipeline-for-photometry_ex/'.format(username))\n",
    "nb_path = sys.path[-1]\n",
    "nb_path"
   ]
  },
  {
   "cell_type": "markdown",
   "metadata": {},
   "source": [
    "# parameters to change:"
   ]
  },
  {
   "cell_type": "code",
   "execution_count": 11,
   "metadata": {},
   "outputs": [],
   "source": [
    "#analysis parameters for whole data set:  \n",
    "drop2blocks= 'yes'\n",
    "drop2lastblocks=\"yes\"\n",
    "HowManyBack = 1\n",
    "\n",
    "#for notebook 5: \n",
    "Tags = ['Reward_NoReward_tag','ENL_tag','Cue_to_Sel_tag',\"Cue_to_Sel_fromPrevTrial_tag\"]  \n",
    "Timing = [600,200,15,15]\n",
    "Start_or_end = ['start','end','start','start']\n",
    "\n",
    "#for notebook 5: #adds additional periods of interest. \n",
    "# Tags = ['Reward_NoReward_tag', 'ENL_tag', 'Cue_to_Sel_tag', \"Cue_to_Sel_fromPrevTrial_tag\",\"firstENLp_tag\"]  \n",
    "# Timing = [600,200,15,15,100]\n",
    "# Start_or_end = ['start','end','start','start',\"start\"]\n",
    "\n",
    "y_axis_list = [\"df_f\",\"z_score\",\"z_score_sliding_window\"]"
   ]
  },
  {
   "cell_type": "markdown",
   "metadata": {},
   "source": [
    "# parameters to change:"
   ]
  },
  {
   "cell_type": "code",
   "execution_count": 12,
   "metadata": {},
   "outputs": [],
   "source": [
    "#Versions for each notebook: \n",
    "#NOTE: if one notebook no need for list. see 6 as an example. \n",
    "\n",
    "Nb0='a'\n",
    "Nb1= \"b\"\n",
    "Nb2= 'b'\n",
    "Nb3= 'j'\n",
    "#Nb4= ['a','b','c','d','e'] #can be a list \n",
    "Nb4= ['a','b','c','d'] #can be a list \n",
    "Nb5= 'a'\n",
    "Nb6= \"b\" #can be a list \n",
    "Nb7= 'a'"
   ]
  },
  {
   "cell_type": "code",
   "execution_count": 13,
   "metadata": {},
   "outputs": [],
   "source": [
    "List_of_versions =[Nb0,Nb1,Nb2,Nb3,Nb4,Nb5,Nb6,Nb7]\n",
    "List_of_versions_str =[\"Nb0\",\"Nb1\",\"Nb2\",\"Nb3\",\"Nb4\",\"Nb5\",\"Nb6\",\"Nb7\"]\n",
    "notebook_sequence_list = [0,1,2,3,4,5,6,7]"
   ]
  },
  {
   "cell_type": "code",
   "execution_count": null,
   "metadata": {},
   "outputs": [],
   "source": []
  },
  {
   "cell_type": "code",
   "execution_count": 14,
   "metadata": {},
   "outputs": [
    {
     "data": {
      "text/plain": [
       "['Nb0_a',\n",
       " 'Nb1_b',\n",
       " 'Nb2_b',\n",
       " 'Nb3_j',\n",
       " 'Nb4_a',\n",
       " 'Nb4_b',\n",
       " 'Nb4_c',\n",
       " 'Nb4_d',\n",
       " 'Nb5_a',\n",
       " 'Nb6_b',\n",
       " 'Nb7_a']"
      ]
     },
     "execution_count": 14,
     "metadata": {},
     "output_type": "execute_result"
    }
   ],
   "source": [
    "nb_list = ophf.make_nb_list(List_of_versions,List_of_versions_str)\n",
    "nb_list"
   ]
  },
  {
   "cell_type": "code",
   "execution_count": 15,
   "metadata": {},
   "outputs": [
    {
     "name": "stdout",
     "output_type": "stream",
     "text": [
      "seq0a1b2b3j4abcd5a6b7a will be used\n"
     ]
    }
   ],
   "source": [
    "seq_str = ophf.make_sequence_string(notebook_sequence_list, List_of_versions)"
   ]
  },
  {
   "cell_type": "markdown",
   "metadata": {},
   "source": [
    "# run the cell below (no need to make any changes)"
   ]
  },
  {
   "cell_type": "code",
   "execution_count": 16,
   "metadata": {},
   "outputs": [],
   "source": [
    "#parameters that were defined above and will carry on for the whole analysis. \n",
    "dict_for_pm = dict(data_dir_input=data_dir_input,\n",
    "                   data_dir_output=data_dir_output,\n",
    "                   drop2blocks= drop2blocks,\n",
    "                   drop2lastblocks=drop2blocks,\n",
    "                   seq_str= seq_str, \n",
    "                   HowManyBack = HowManyBack, \n",
    "                   Nb0=Nb0, Nb1=Nb1, Nb2=Nb2, Nb3=Nb3,\n",
    "                   Nb4=Nb4, Nb5=Nb5,Nb6=Nb6,Nb7=Nb7,\n",
    "                   Tags=Tags, \n",
    "                   Timing = Timing,\n",
    "                   Start_or_end=Start_or_end,\n",
    "                   y_axis_list=y_axis_list)"
   ]
  },
  {
   "cell_type": "code",
   "execution_count": null,
   "metadata": {},
   "outputs": [],
   "source": []
  },
  {
   "cell_type": "code",
   "execution_count": 18,
   "metadata": {
    "scrolled": true
   },
   "outputs": [
    {
     "name": "stdout",
     "output_type": "stream",
     "text": [
      "T163_2018_12_07_Notebook_0_a: This session already exists - no need to re-run ;)\n",
      "T163_2018_12_07_Notebook_1_b: This session already exists - no need to re-run ;)\n",
      "T163_2018_12_07_Notebook_2_b: This session already exists - no need to re-run ;)\n",
      "2018_12_07__T163_T163-123432\n",
      "Notebook_3_j.ipynb is being executed\n"
     ]
    },
    {
     "data": {
      "application/vnd.jupyter.widget-view+json": {
       "model_id": "8b833650f256463b82ecf2b6902eb2c1",
       "version_major": 2,
       "version_minor": 0
      },
      "text/plain": [
       "HBox(children=(FloatProgress(value=0.0, description='Executing', max=38.0, style=ProgressStyle(description_wid…"
      ]
     },
     "metadata": {},
     "output_type": "display_data"
    },
    {
     "name": "stdout",
     "output_type": "stream",
     "text": [
      "\n",
      "T163_2018_12_07_Notebook_4_a: This session already exists - no need to re-run ;)\n",
      "T163_2018_12_07_Notebook_4_b: This session already exists - no need to re-run ;)\n",
      "T163_2018_12_07_Notebook_4_c: This session already exists - no need to re-run ;)\n",
      "T163_2018_12_07_Notebook_4_d: This session already exists - no need to re-run ;)\n",
      "2018_12_07__T163_T163-123432\n",
      "Notebook_5_a.ipynb is being executed\n"
     ]
    },
    {
     "data": {
      "application/vnd.jupyter.widget-view+json": {
       "model_id": "3a049220cb4f464fad0c37169c4a749e",
       "version_major": 2,
       "version_minor": 0
      },
      "text/plain": [
       "HBox(children=(FloatProgress(value=0.0, description='Executing', max=18.0, style=ProgressStyle(description_wid…"
      ]
     },
     "metadata": {},
     "output_type": "display_data"
    },
    {
     "name": "stdout",
     "output_type": "stream",
     "text": [
      "\n",
      "2018_12_07__T163_T163-123432\n",
      "Notebook_6_b.ipynb is being executed\n"
     ]
    },
    {
     "data": {
      "application/vnd.jupyter.widget-view+json": {
       "model_id": "036f101faa004960bda285cc3d33b194",
       "version_major": 2,
       "version_minor": 0
      },
      "text/plain": [
       "HBox(children=(FloatProgress(value=0.0, description='Executing', max=12.0, style=ProgressStyle(description_wid…"
      ]
     },
     "metadata": {},
     "output_type": "display_data"
    },
    {
     "name": "stdout",
     "output_type": "stream",
     "text": [
      "\n",
      "2018_12_07__T163_T163-123432\n",
      "Notebook_7_a.ipynb is being executed\n"
     ]
    },
    {
     "data": {
      "application/vnd.jupyter.widget-view+json": {
       "model_id": "4432d9d5486e40229a229049a447578f",
       "version_major": 2,
       "version_minor": 0
      },
      "text/plain": [
       "HBox(children=(FloatProgress(value=0.0, description='Executing', max=6.0, style=ProgressStyle(description_widt…"
      ]
     },
     "metadata": {},
     "output_type": "display_data"
    },
    {
     "name": "stdout",
     "output_type": "stream",
     "text": [
      "\n",
      "T163_2018_11_28_Notebook_0_a: This session already exists - no need to re-run ;)\n",
      "T163_2018_11_28_Notebook_1_b: This session already exists - no need to re-run ;)\n",
      "T163_2018_11_28_Notebook_2_b: This session already exists - no need to re-run ;)\n",
      "2018_11_28__T163_T163-115220\n",
      "Notebook_3_j.ipynb is being executed\n"
     ]
    },
    {
     "data": {
      "application/vnd.jupyter.widget-view+json": {
       "model_id": "38793255dc3540bd9befe5590fd46659",
       "version_major": 2,
       "version_minor": 0
      },
      "text/plain": [
       "HBox(children=(FloatProgress(value=0.0, description='Executing', max=38.0, style=ProgressStyle(description_wid…"
      ]
     },
     "metadata": {},
     "output_type": "display_data"
    },
    {
     "name": "stdout",
     "output_type": "stream",
     "text": [
      "\n",
      "T163_2018_11_28_Notebook_4_a: This session already exists - no need to re-run ;)\n",
      "T163_2018_11_28_Notebook_4_b: This session already exists - no need to re-run ;)\n",
      "T163_2018_11_28_Notebook_4_c: This session already exists - no need to re-run ;)\n",
      "T163_2018_11_28_Notebook_4_d: This session already exists - no need to re-run ;)\n",
      "2018_11_28__T163_T163-115220\n",
      "Notebook_5_a.ipynb is being executed\n"
     ]
    },
    {
     "data": {
      "application/vnd.jupyter.widget-view+json": {
       "model_id": "770c4f3eff604660babea797b5812cab",
       "version_major": 2,
       "version_minor": 0
      },
      "text/plain": [
       "HBox(children=(FloatProgress(value=0.0, description='Executing', max=18.0, style=ProgressStyle(description_wid…"
      ]
     },
     "metadata": {},
     "output_type": "display_data"
    },
    {
     "name": "stdout",
     "output_type": "stream",
     "text": [
      "\n",
      "2018_11_28__T163_T163-115220\n",
      "Notebook_6_b.ipynb is being executed\n"
     ]
    },
    {
     "data": {
      "application/vnd.jupyter.widget-view+json": {
       "model_id": "1e9ccb356e1646359ecc867deb66419f",
       "version_major": 2,
       "version_minor": 0
      },
      "text/plain": [
       "HBox(children=(FloatProgress(value=0.0, description='Executing', max=12.0, style=ProgressStyle(description_wid…"
      ]
     },
     "metadata": {},
     "output_type": "display_data"
    },
    {
     "name": "stdout",
     "output_type": "stream",
     "text": [
      "\n",
      "2018_11_28__T163_T163-115220\n",
      "Notebook_7_a.ipynb is being executed\n"
     ]
    },
    {
     "data": {
      "application/vnd.jupyter.widget-view+json": {
       "model_id": "a289edcd2b104a7db68f776b72395748",
       "version_major": 2,
       "version_minor": 0
      },
      "text/plain": [
       "HBox(children=(FloatProgress(value=0.0, description='Executing', max=6.0, style=ProgressStyle(description_widt…"
      ]
     },
     "metadata": {},
     "output_type": "display_data"
    },
    {
     "name": "stdout",
     "output_type": "stream",
     "text": [
      "\n",
      "T163_2018_12_03_Notebook_0_a: This session already exists - no need to re-run ;)\n",
      "T163_2018_12_03_Notebook_1_b: This session already exists - no need to re-run ;)\n",
      "T163_2018_12_03_Notebook_2_b: This session already exists - no need to re-run ;)\n",
      "2018_12_03__T163_T163-115901\n",
      "Notebook_3_j.ipynb is being executed\n"
     ]
    },
    {
     "data": {
      "application/vnd.jupyter.widget-view+json": {
       "model_id": "2604d7c0791640aab658c4677a6b166a",
       "version_major": 2,
       "version_minor": 0
      },
      "text/plain": [
       "HBox(children=(FloatProgress(value=0.0, description='Executing', max=38.0, style=ProgressStyle(description_wid…"
      ]
     },
     "metadata": {},
     "output_type": "display_data"
    },
    {
     "name": "stdout",
     "output_type": "stream",
     "text": [
      "\n",
      "T163_2018_12_03_Notebook_4_a: This session already exists - no need to re-run ;)\n",
      "T163_2018_12_03_Notebook_4_b: This session already exists - no need to re-run ;)\n",
      "T163_2018_12_03_Notebook_4_c: This session already exists - no need to re-run ;)\n",
      "T163_2018_12_03_Notebook_4_d: This session already exists - no need to re-run ;)\n",
      "2018_12_03__T163_T163-115901\n",
      "Notebook_5_a.ipynb is being executed\n"
     ]
    },
    {
     "data": {
      "application/vnd.jupyter.widget-view+json": {
       "model_id": "ff18f005e1ef459e89cbba9f228b69b5",
       "version_major": 2,
       "version_minor": 0
      },
      "text/plain": [
       "HBox(children=(FloatProgress(value=0.0, description='Executing', max=18.0, style=ProgressStyle(description_wid…"
      ]
     },
     "metadata": {},
     "output_type": "display_data"
    },
    {
     "name": "stdout",
     "output_type": "stream",
     "text": [
      "\n",
      "2018_12_03__T163_T163-115901\n",
      "Notebook_6_b.ipynb is being executed\n"
     ]
    },
    {
     "data": {
      "application/vnd.jupyter.widget-view+json": {
       "model_id": "5aa344a96d9c4caba479c2a153c5eb2c",
       "version_major": 2,
       "version_minor": 0
      },
      "text/plain": [
       "HBox(children=(FloatProgress(value=0.0, description='Executing', max=12.0, style=ProgressStyle(description_wid…"
      ]
     },
     "metadata": {},
     "output_type": "display_data"
    },
    {
     "name": "stdout",
     "output_type": "stream",
     "text": [
      "\n",
      "2018_12_03__T163_T163-115901\n",
      "Notebook_7_a.ipynb is being executed\n"
     ]
    },
    {
     "data": {
      "application/vnd.jupyter.widget-view+json": {
       "model_id": "deffedcf1278457ca7d106e152c66f19",
       "version_major": 2,
       "version_minor": 0
      },
      "text/plain": [
       "HBox(children=(FloatProgress(value=0.0, description='Executing', max=6.0, style=ProgressStyle(description_widt…"
      ]
     },
     "metadata": {},
     "output_type": "display_data"
    },
    {
     "name": "stdout",
     "output_type": "stream",
     "text": [
      "\n",
      "T163_2018_11_30_Notebook_0_a: This session already exists - no need to re-run ;)\n",
      "T163_2018_11_30_Notebook_1_b: This session already exists - no need to re-run ;)\n",
      "T163_2018_11_30_Notebook_2_b: This session already exists - no need to re-run ;)\n",
      "2018_11_30__T163_T163-133215\n",
      "Notebook_3_j.ipynb is being executed\n"
     ]
    },
    {
     "data": {
      "application/vnd.jupyter.widget-view+json": {
       "model_id": "31d06ea78cc34fbeb406ed2978b0ce36",
       "version_major": 2,
       "version_minor": 0
      },
      "text/plain": [
       "HBox(children=(FloatProgress(value=0.0, description='Executing', max=38.0, style=ProgressStyle(description_wid…"
      ]
     },
     "metadata": {},
     "output_type": "display_data"
    },
    {
     "name": "stdout",
     "output_type": "stream",
     "text": [
      "\n",
      "T163_2018_11_30_Notebook_4_a: This session already exists - no need to re-run ;)\n",
      "T163_2018_11_30_Notebook_4_b: This session already exists - no need to re-run ;)\n",
      "T163_2018_11_30_Notebook_4_c: This session already exists - no need to re-run ;)\n",
      "T163_2018_11_30_Notebook_4_d: This session already exists - no need to re-run ;)\n",
      "2018_11_30__T163_T163-133215\n",
      "Notebook_5_a.ipynb is being executed\n"
     ]
    },
    {
     "data": {
      "application/vnd.jupyter.widget-view+json": {
       "model_id": "434feb1b49974c6aa019f34984cbdf98",
       "version_major": 2,
       "version_minor": 0
      },
      "text/plain": [
       "HBox(children=(FloatProgress(value=0.0, description='Executing', max=18.0, style=ProgressStyle(description_wid…"
      ]
     },
     "metadata": {},
     "output_type": "display_data"
    },
    {
     "name": "stdout",
     "output_type": "stream",
     "text": [
      "\n",
      "2018_11_30__T163_T163-133215\n",
      "Notebook_6_b.ipynb is being executed\n"
     ]
    },
    {
     "data": {
      "application/vnd.jupyter.widget-view+json": {
       "model_id": "8a3b246ef8c441e9b25699cf0a5009c1",
       "version_major": 2,
       "version_minor": 0
      },
      "text/plain": [
       "HBox(children=(FloatProgress(value=0.0, description='Executing', max=12.0, style=ProgressStyle(description_wid…"
      ]
     },
     "metadata": {},
     "output_type": "display_data"
    },
    {
     "name": "stdout",
     "output_type": "stream",
     "text": [
      "\n",
      "2018_11_30__T163_T163-133215\n",
      "Notebook_7_a.ipynb is being executed\n"
     ]
    },
    {
     "data": {
      "application/vnd.jupyter.widget-view+json": {
       "model_id": "f3b55a57c1f64f8c9fdd24c730fe020f",
       "version_major": 2,
       "version_minor": 0
      },
      "text/plain": [
       "HBox(children=(FloatProgress(value=0.0, description='Executing', max=6.0, style=ProgressStyle(description_widt…"
      ]
     },
     "metadata": {},
     "output_type": "display_data"
    },
    {
     "name": "stdout",
     "output_type": "stream",
     "text": [
      "\n",
      "T163_2018_12_04_Notebook_0_a: This session already exists - no need to re-run ;)\n",
      "T163_2018_12_04_Notebook_1_b: This session already exists - no need to re-run ;)\n",
      "T163_2018_12_04_Notebook_2_b: This session already exists - no need to re-run ;)\n",
      "2018_12_04__T163_T163-114628\n",
      "Notebook_3_j.ipynb is being executed\n"
     ]
    },
    {
     "data": {
      "application/vnd.jupyter.widget-view+json": {
       "model_id": "fe0e857da93f40fe9fa9b663b3d60275",
       "version_major": 2,
       "version_minor": 0
      },
      "text/plain": [
       "HBox(children=(FloatProgress(value=0.0, description='Executing', max=38.0, style=ProgressStyle(description_wid…"
      ]
     },
     "metadata": {},
     "output_type": "display_data"
    },
    {
     "name": "stdout",
     "output_type": "stream",
     "text": [
      "\n",
      "T163_2018_12_04_Notebook_4_a: This session already exists - no need to re-run ;)\n",
      "T163_2018_12_04_Notebook_4_b: This session already exists - no need to re-run ;)\n",
      "T163_2018_12_04_Notebook_4_c: This session already exists - no need to re-run ;)\n",
      "T163_2018_12_04_Notebook_4_d: This session already exists - no need to re-run ;)\n",
      "2018_12_04__T163_T163-114628\n",
      "Notebook_5_a.ipynb is being executed\n"
     ]
    },
    {
     "data": {
      "application/vnd.jupyter.widget-view+json": {
       "model_id": "be653c20563f4f69b116df83d73d01e2",
       "version_major": 2,
       "version_minor": 0
      },
      "text/plain": [
       "HBox(children=(FloatProgress(value=0.0, description='Executing', max=18.0, style=ProgressStyle(description_wid…"
      ]
     },
     "metadata": {},
     "output_type": "display_data"
    },
    {
     "name": "stdout",
     "output_type": "stream",
     "text": [
      "\n",
      "2018_12_04__T163_T163-114628\n",
      "Notebook_6_b.ipynb is being executed\n"
     ]
    },
    {
     "data": {
      "application/vnd.jupyter.widget-view+json": {
       "model_id": "6a586aa71de44f54bf0856a2d132a752",
       "version_major": 2,
       "version_minor": 0
      },
      "text/plain": [
       "HBox(children=(FloatProgress(value=0.0, description='Executing', max=12.0, style=ProgressStyle(description_wid…"
      ]
     },
     "metadata": {},
     "output_type": "display_data"
    },
    {
     "name": "stdout",
     "output_type": "stream",
     "text": [
      "\n",
      "2018_12_04__T163_T163-114628\n",
      "Notebook_7_a.ipynb is being executed\n"
     ]
    },
    {
     "data": {
      "application/vnd.jupyter.widget-view+json": {
       "model_id": "6085decff49241be8b2e2c6be13f9657",
       "version_major": 2,
       "version_minor": 0
      },
      "text/plain": [
       "HBox(children=(FloatProgress(value=0.0, description='Executing', max=6.0, style=ProgressStyle(description_widt…"
      ]
     },
     "metadata": {},
     "output_type": "display_data"
    },
    {
     "name": "stdout",
     "output_type": "stream",
     "text": [
      "\n",
      "T163_2018_12_06_Notebook_0_a: This session already exists - no need to re-run ;)\n",
      "T163_2018_12_06_Notebook_1_b: This session already exists - no need to re-run ;)\n",
      "T163_2018_12_06_Notebook_2_b: This session already exists - no need to re-run ;)\n",
      "2018_12_06__T163_T163-112720\n",
      "Notebook_3_j.ipynb is being executed\n"
     ]
    },
    {
     "data": {
      "application/vnd.jupyter.widget-view+json": {
       "model_id": "f7b14423171e4c90b68a467c7937ee8d",
       "version_major": 2,
       "version_minor": 0
      },
      "text/plain": [
       "HBox(children=(FloatProgress(value=0.0, description='Executing', max=38.0, style=ProgressStyle(description_wid…"
      ]
     },
     "metadata": {},
     "output_type": "display_data"
    },
    {
     "name": "stdout",
     "output_type": "stream",
     "text": [
      "\n",
      "T163_2018_12_06_Notebook_4_a: This session already exists - no need to re-run ;)\n",
      "T163_2018_12_06_Notebook_4_b: This session already exists - no need to re-run ;)\n",
      "T163_2018_12_06_Notebook_4_c: This session already exists - no need to re-run ;)\n",
      "T163_2018_12_06_Notebook_4_d: This session already exists - no need to re-run ;)\n",
      "2018_12_06__T163_T163-112720\n",
      "Notebook_5_a.ipynb is being executed\n"
     ]
    },
    {
     "data": {
      "application/vnd.jupyter.widget-view+json": {
       "model_id": "4c8b802c98564590a775ce65ea5b6ea3",
       "version_major": 2,
       "version_minor": 0
      },
      "text/plain": [
       "HBox(children=(FloatProgress(value=0.0, description='Executing', max=18.0, style=ProgressStyle(description_wid…"
      ]
     },
     "metadata": {},
     "output_type": "display_data"
    },
    {
     "name": "stdout",
     "output_type": "stream",
     "text": [
      "\n",
      "2018_12_06__T163_T163-112720\n",
      "Notebook_6_b.ipynb is being executed\n"
     ]
    },
    {
     "data": {
      "application/vnd.jupyter.widget-view+json": {
       "model_id": "b6b6ff490acd4d07b3e7edaf93cb844c",
       "version_major": 2,
       "version_minor": 0
      },
      "text/plain": [
       "HBox(children=(FloatProgress(value=0.0, description='Executing', max=12.0, style=ProgressStyle(description_wid…"
      ]
     },
     "metadata": {},
     "output_type": "display_data"
    },
    {
     "name": "stdout",
     "output_type": "stream",
     "text": [
      "\n",
      "2018_12_06__T163_T163-112720\n",
      "Notebook_7_a.ipynb is being executed\n"
     ]
    },
    {
     "data": {
      "application/vnd.jupyter.widget-view+json": {
       "model_id": "8b3e3b4e541a422ea1f70edd95e2dd40",
       "version_major": 2,
       "version_minor": 0
      },
      "text/plain": [
       "HBox(children=(FloatProgress(value=0.0, description='Executing', max=6.0, style=ProgressStyle(description_widt…"
      ]
     },
     "metadata": {},
     "output_type": "display_data"
    },
    {
     "name": "stdout",
     "output_type": "stream",
     "text": [
      "\n",
      "T163_2018_12_10_Notebook_0_a: This session already exists - no need to re-run ;)\n",
      "T163_2018_12_10_Notebook_1_b: This session already exists - no need to re-run ;)\n",
      "T163_2018_12_10_Notebook_2_b: This session already exists - no need to re-run ;)\n",
      "2018_12_10__T163_T163-102536\n",
      "Notebook_3_j.ipynb is being executed\n"
     ]
    },
    {
     "data": {
      "application/vnd.jupyter.widget-view+json": {
       "model_id": "b6e9bacb489a45208251ffff1785c881",
       "version_major": 2,
       "version_minor": 0
      },
      "text/plain": [
       "HBox(children=(FloatProgress(value=0.0, description='Executing', max=38.0, style=ProgressStyle(description_wid…"
      ]
     },
     "metadata": {},
     "output_type": "display_data"
    },
    {
     "name": "stdout",
     "output_type": "stream",
     "text": [
      "\n",
      "T163_2018_12_10_Notebook_4_a: This session already exists - no need to re-run ;)\n",
      "T163_2018_12_10_Notebook_4_b: This session already exists - no need to re-run ;)\n",
      "T163_2018_12_10_Notebook_4_c: This session already exists - no need to re-run ;)\n",
      "T163_2018_12_10_Notebook_4_d: This session already exists - no need to re-run ;)\n",
      "2018_12_10__T163_T163-102536\n",
      "Notebook_5_a.ipynb is being executed\n"
     ]
    },
    {
     "data": {
      "application/vnd.jupyter.widget-view+json": {
       "model_id": "30b512712f9a4482bd5c21f2e9048732",
       "version_major": 2,
       "version_minor": 0
      },
      "text/plain": [
       "HBox(children=(FloatProgress(value=0.0, description='Executing', max=18.0, style=ProgressStyle(description_wid…"
      ]
     },
     "metadata": {},
     "output_type": "display_data"
    },
    {
     "name": "stdout",
     "output_type": "stream",
     "text": [
      "\n",
      "2018_12_10__T163_T163-102536\n",
      "Notebook_6_b.ipynb is being executed\n"
     ]
    },
    {
     "data": {
      "application/vnd.jupyter.widget-view+json": {
       "model_id": "2b3e241b25e34ff0a19992ed7213d210",
       "version_major": 2,
       "version_minor": 0
      },
      "text/plain": [
       "HBox(children=(FloatProgress(value=0.0, description='Executing', max=12.0, style=ProgressStyle(description_wid…"
      ]
     },
     "metadata": {},
     "output_type": "display_data"
    },
    {
     "name": "stdout",
     "output_type": "stream",
     "text": [
      "\n",
      "2018_12_10__T163_T163-102536\n",
      "Notebook_7_a.ipynb is being executed\n"
     ]
    },
    {
     "data": {
      "application/vnd.jupyter.widget-view+json": {
       "model_id": "667fdb3567334731bd6672ff8ef77cc9",
       "version_major": 2,
       "version_minor": 0
      },
      "text/plain": [
       "HBox(children=(FloatProgress(value=0.0, description='Executing', max=6.0, style=ProgressStyle(description_widt…"
      ]
     },
     "metadata": {},
     "output_type": "display_data"
    },
    {
     "name": "stdout",
     "output_type": "stream",
     "text": [
      "\n",
      "T163_2018_12_13_Notebook_0_a: This session already exists - no need to re-run ;)\n",
      "T163_2018_12_13_Notebook_1_b: This session already exists - no need to re-run ;)\n",
      "T163_2018_12_13_Notebook_2_b: This session already exists - no need to re-run ;)\n",
      "2018_12_13__T163_T163-094646\n",
      "Notebook_3_j.ipynb is being executed\n"
     ]
    },
    {
     "data": {
      "application/vnd.jupyter.widget-view+json": {
       "model_id": "1edc68512ef74900b7423acb5d1f3aa5",
       "version_major": 2,
       "version_minor": 0
      },
      "text/plain": [
       "HBox(children=(FloatProgress(value=0.0, description='Executing', max=38.0, style=ProgressStyle(description_wid…"
      ]
     },
     "metadata": {},
     "output_type": "display_data"
    },
    {
     "name": "stdout",
     "output_type": "stream",
     "text": [
      "\n",
      "T163_2018_12_13_Notebook_4_a: This session already exists - no need to re-run ;)\n",
      "T163_2018_12_13_Notebook_4_b: This session already exists - no need to re-run ;)\n",
      "T163_2018_12_13_Notebook_4_c: This session already exists - no need to re-run ;)\n",
      "T163_2018_12_13_Notebook_4_d: This session already exists - no need to re-run ;)\n",
      "2018_12_13__T163_T163-094646\n",
      "Notebook_5_a.ipynb is being executed\n"
     ]
    },
    {
     "data": {
      "application/vnd.jupyter.widget-view+json": {
       "model_id": "988770d36f244850aea7e58287a82ada",
       "version_major": 2,
       "version_minor": 0
      },
      "text/plain": [
       "HBox(children=(FloatProgress(value=0.0, description='Executing', max=18.0, style=ProgressStyle(description_wid…"
      ]
     },
     "metadata": {},
     "output_type": "display_data"
    },
    {
     "name": "stdout",
     "output_type": "stream",
     "text": [
      "\n",
      "2018_12_13__T163_T163-094646\n",
      "Notebook_6_b.ipynb is being executed\n"
     ]
    },
    {
     "data": {
      "application/vnd.jupyter.widget-view+json": {
       "model_id": "2ce3c0add3a4491dae37e5efa0f57b18",
       "version_major": 2,
       "version_minor": 0
      },
      "text/plain": [
       "HBox(children=(FloatProgress(value=0.0, description='Executing', max=12.0, style=ProgressStyle(description_wid…"
      ]
     },
     "metadata": {},
     "output_type": "display_data"
    },
    {
     "name": "stdout",
     "output_type": "stream",
     "text": [
      "\n",
      "2018_12_13__T163_T163-094646\n",
      "Notebook_7_a.ipynb is being executed\n"
     ]
    },
    {
     "data": {
      "application/vnd.jupyter.widget-view+json": {
       "model_id": "dcb803edfe364be1a956592b3f5fd0ea",
       "version_major": 2,
       "version_minor": 0
      },
      "text/plain": [
       "HBox(children=(FloatProgress(value=0.0, description='Executing', max=6.0, style=ProgressStyle(description_widt…"
      ]
     },
     "metadata": {},
     "output_type": "display_data"
    },
    {
     "name": "stdout",
     "output_type": "stream",
     "text": [
      "\n",
      "T164_2018_11_27_Notebook_0_a: This session already exists - no need to re-run ;)\n",
      "T164_2018_11_27_Notebook_1_b: This session already exists - no need to re-run ;)\n",
      "T164_2018_11_27_Notebook_2_b: This session already exists - no need to re-run ;)\n",
      "2018_11_27__T164_T164-153101\n",
      "Notebook_3_j.ipynb is being executed\n"
     ]
    },
    {
     "data": {
      "application/vnd.jupyter.widget-view+json": {
       "model_id": "65a68ceefc7b41d5bdab85006fb2b422",
       "version_major": 2,
       "version_minor": 0
      },
      "text/plain": [
       "HBox(children=(FloatProgress(value=0.0, description='Executing', max=38.0, style=ProgressStyle(description_wid…"
      ]
     },
     "metadata": {},
     "output_type": "display_data"
    },
    {
     "name": "stdout",
     "output_type": "stream",
     "text": [
      "\n",
      "T164_2018_11_27_Notebook_4_a: This session already exists - no need to re-run ;)\n",
      "T164_2018_11_27_Notebook_4_b: This session already exists - no need to re-run ;)\n",
      "T164_2018_11_27_Notebook_4_c: This session already exists - no need to re-run ;)\n",
      "T164_2018_11_27_Notebook_4_d: This session already exists - no need to re-run ;)\n",
      "2018_11_27__T164_T164-153101\n",
      "Notebook_5_a.ipynb is being executed\n"
     ]
    },
    {
     "data": {
      "application/vnd.jupyter.widget-view+json": {
       "model_id": "1e04a648653143968c5847f3a0835776",
       "version_major": 2,
       "version_minor": 0
      },
      "text/plain": [
       "HBox(children=(FloatProgress(value=0.0, description='Executing', max=18.0, style=ProgressStyle(description_wid…"
      ]
     },
     "metadata": {},
     "output_type": "display_data"
    },
    {
     "name": "stdout",
     "output_type": "stream",
     "text": [
      "\n",
      "2018_11_27__T164_T164-153101\n",
      "Notebook_6_b.ipynb is being executed\n"
     ]
    },
    {
     "data": {
      "application/vnd.jupyter.widget-view+json": {
       "model_id": "ae5497952a724d5ea80239459ba601c5",
       "version_major": 2,
       "version_minor": 0
      },
      "text/plain": [
       "HBox(children=(FloatProgress(value=0.0, description='Executing', max=12.0, style=ProgressStyle(description_wid…"
      ]
     },
     "metadata": {},
     "output_type": "display_data"
    },
    {
     "name": "stdout",
     "output_type": "stream",
     "text": [
      "\n",
      "2018_11_27__T164_T164-153101\n",
      "Notebook_7_a.ipynb is being executed\n"
     ]
    },
    {
     "data": {
      "application/vnd.jupyter.widget-view+json": {
       "model_id": "122dedd1a19e47fab90da276ba722023",
       "version_major": 2,
       "version_minor": 0
      },
      "text/plain": [
       "HBox(children=(FloatProgress(value=0.0, description='Executing', max=6.0, style=ProgressStyle(description_widt…"
      ]
     },
     "metadata": {},
     "output_type": "display_data"
    },
    {
     "name": "stdout",
     "output_type": "stream",
     "text": [
      "\n",
      "T164_2018_12_10_Notebook_0_a: This session already exists - no need to re-run ;)\n",
      "T164_2018_12_10_Notebook_1_b: This session already exists - no need to re-run ;)\n",
      "T164_2018_12_10_Notebook_2_b: This session already exists - no need to re-run ;)\n",
      "2018_12_10__T164_T164-105324\n",
      "Notebook_3_j.ipynb is being executed\n"
     ]
    },
    {
     "data": {
      "application/vnd.jupyter.widget-view+json": {
       "model_id": "32fd2ddaa8b74b4598d5e1cd46cdfb67",
       "version_major": 2,
       "version_minor": 0
      },
      "text/plain": [
       "HBox(children=(FloatProgress(value=0.0, description='Executing', max=38.0, style=ProgressStyle(description_wid…"
      ]
     },
     "metadata": {},
     "output_type": "display_data"
    },
    {
     "name": "stdout",
     "output_type": "stream",
     "text": [
      "\n",
      "T164_2018_12_10_Notebook_4_a: This session already exists - no need to re-run ;)\n",
      "T164_2018_12_10_Notebook_4_b: This session already exists - no need to re-run ;)\n",
      "T164_2018_12_10_Notebook_4_c: This session already exists - no need to re-run ;)\n",
      "T164_2018_12_10_Notebook_4_d: This session already exists - no need to re-run ;)\n",
      "2018_12_10__T164_T164-105324\n",
      "Notebook_5_a.ipynb is being executed\n"
     ]
    },
    {
     "data": {
      "application/vnd.jupyter.widget-view+json": {
       "model_id": "b1a4702ae216412b8c4d6bc8bbbc836a",
       "version_major": 2,
       "version_minor": 0
      },
      "text/plain": [
       "HBox(children=(FloatProgress(value=0.0, description='Executing', max=18.0, style=ProgressStyle(description_wid…"
      ]
     },
     "metadata": {},
     "output_type": "display_data"
    },
    {
     "name": "stdout",
     "output_type": "stream",
     "text": [
      "\n",
      "2018_12_10__T164_T164-105324\n",
      "Notebook_6_b.ipynb is being executed\n"
     ]
    },
    {
     "data": {
      "application/vnd.jupyter.widget-view+json": {
       "model_id": "fe7c949c99a842db8373c4902df5214d",
       "version_major": 2,
       "version_minor": 0
      },
      "text/plain": [
       "HBox(children=(FloatProgress(value=0.0, description='Executing', max=12.0, style=ProgressStyle(description_wid…"
      ]
     },
     "metadata": {},
     "output_type": "display_data"
    },
    {
     "name": "stdout",
     "output_type": "stream",
     "text": [
      "\n",
      "2018_12_10__T164_T164-105324\n",
      "Notebook_7_a.ipynb is being executed\n"
     ]
    },
    {
     "data": {
      "application/vnd.jupyter.widget-view+json": {
       "model_id": "a26632e6df434b64b5d8d134a11356cf",
       "version_major": 2,
       "version_minor": 0
      },
      "text/plain": [
       "HBox(children=(FloatProgress(value=0.0, description='Executing', max=6.0, style=ProgressStyle(description_widt…"
      ]
     },
     "metadata": {},
     "output_type": "display_data"
    },
    {
     "name": "stdout",
     "output_type": "stream",
     "text": [
      "\n",
      "T164_2018_12_03_Notebook_0_a: This session already exists - no need to re-run ;)\n",
      "T164_2018_12_03_Notebook_1_b: This session already exists - no need to re-run ;)\n",
      "T164_2018_12_03_Notebook_2_b: This session already exists - no need to re-run ;)\n",
      "2018_12_03__T164_T164-122950\n",
      "Notebook_3_j.ipynb is being executed\n"
     ]
    },
    {
     "data": {
      "application/vnd.jupyter.widget-view+json": {
       "model_id": "4f95596290084516a3e77cc81b6d02bc",
       "version_major": 2,
       "version_minor": 0
      },
      "text/plain": [
       "HBox(children=(FloatProgress(value=0.0, description='Executing', max=38.0, style=ProgressStyle(description_wid…"
      ]
     },
     "metadata": {},
     "output_type": "display_data"
    },
    {
     "name": "stdout",
     "output_type": "stream",
     "text": [
      "\n",
      "T164_2018_12_03_Notebook_4_a: This session already exists - no need to re-run ;)\n",
      "T164_2018_12_03_Notebook_4_b: This session already exists - no need to re-run ;)\n",
      "T164_2018_12_03_Notebook_4_c: This session already exists - no need to re-run ;)\n",
      "T164_2018_12_03_Notebook_4_d: This session already exists - no need to re-run ;)\n",
      "2018_12_03__T164_T164-122950\n",
      "Notebook_5_a.ipynb is being executed\n"
     ]
    },
    {
     "data": {
      "application/vnd.jupyter.widget-view+json": {
       "model_id": "5026d5cbfce84efc91242d64ab46afb7",
       "version_major": 2,
       "version_minor": 0
      },
      "text/plain": [
       "HBox(children=(FloatProgress(value=0.0, description='Executing', max=18.0, style=ProgressStyle(description_wid…"
      ]
     },
     "metadata": {},
     "output_type": "display_data"
    },
    {
     "name": "stdout",
     "output_type": "stream",
     "text": [
      "\n",
      "2018_12_03__T164_T164-122950\n",
      "Notebook_6_b.ipynb is being executed\n"
     ]
    },
    {
     "data": {
      "application/vnd.jupyter.widget-view+json": {
       "model_id": "1244d6b24851408b9ebda452cade8a49",
       "version_major": 2,
       "version_minor": 0
      },
      "text/plain": [
       "HBox(children=(FloatProgress(value=0.0, description='Executing', max=12.0, style=ProgressStyle(description_wid…"
      ]
     },
     "metadata": {},
     "output_type": "display_data"
    },
    {
     "name": "stdout",
     "output_type": "stream",
     "text": [
      "\n",
      "2018_12_03__T164_T164-122950\n",
      "Notebook_7_a.ipynb is being executed\n"
     ]
    },
    {
     "data": {
      "application/vnd.jupyter.widget-view+json": {
       "model_id": "57745600e98545c0a856059e58d2bb15",
       "version_major": 2,
       "version_minor": 0
      },
      "text/plain": [
       "HBox(children=(FloatProgress(value=0.0, description='Executing', max=6.0, style=ProgressStyle(description_widt…"
      ]
     },
     "metadata": {},
     "output_type": "display_data"
    },
    {
     "name": "stdout",
     "output_type": "stream",
     "text": [
      "\n",
      "T164_2018_12_04_Notebook_0_a: This session already exists - no need to re-run ;)\n",
      "T164_2018_12_04_Notebook_1_b: This session already exists - no need to re-run ;)\n",
      "T164_2018_12_04_Notebook_2_b: This session already exists - no need to re-run ;)\n",
      "2018_12_04__T164_T164-121548\n",
      "Notebook_3_j.ipynb is being executed\n"
     ]
    },
    {
     "data": {
      "application/vnd.jupyter.widget-view+json": {
       "model_id": "1e4089eee39f43089ff63de96eb27446",
       "version_major": 2,
       "version_minor": 0
      },
      "text/plain": [
       "HBox(children=(FloatProgress(value=0.0, description='Executing', max=38.0, style=ProgressStyle(description_wid…"
      ]
     },
     "metadata": {},
     "output_type": "display_data"
    },
    {
     "name": "stdout",
     "output_type": "stream",
     "text": [
      "\n",
      "T164_2018_12_04_Notebook_4_a: This session already exists - no need to re-run ;)\n",
      "T164_2018_12_04_Notebook_4_b: This session already exists - no need to re-run ;)\n",
      "T164_2018_12_04_Notebook_4_c: This session already exists - no need to re-run ;)\n",
      "T164_2018_12_04_Notebook_4_d: This session already exists - no need to re-run ;)\n",
      "2018_12_04__T164_T164-121548\n",
      "Notebook_5_a.ipynb is being executed\n"
     ]
    },
    {
     "data": {
      "application/vnd.jupyter.widget-view+json": {
       "model_id": "ab17a6ba160949f98c758386dca6532d",
       "version_major": 2,
       "version_minor": 0
      },
      "text/plain": [
       "HBox(children=(FloatProgress(value=0.0, description='Executing', max=18.0, style=ProgressStyle(description_wid…"
      ]
     },
     "metadata": {},
     "output_type": "display_data"
    },
    {
     "name": "stdout",
     "output_type": "stream",
     "text": [
      "\n",
      "2018_12_04__T164_T164-121548\n",
      "Notebook_6_b.ipynb is being executed\n"
     ]
    },
    {
     "data": {
      "application/vnd.jupyter.widget-view+json": {
       "model_id": "0e7c69a4e9c04f7494acf23739d46d73",
       "version_major": 2,
       "version_minor": 0
      },
      "text/plain": [
       "HBox(children=(FloatProgress(value=0.0, description='Executing', max=12.0, style=ProgressStyle(description_wid…"
      ]
     },
     "metadata": {},
     "output_type": "display_data"
    },
    {
     "name": "stdout",
     "output_type": "stream",
     "text": [
      "\n",
      "2018_12_04__T164_T164-121548\n",
      "Notebook_7_a.ipynb is being executed\n"
     ]
    },
    {
     "data": {
      "application/vnd.jupyter.widget-view+json": {
       "model_id": "129af642157944869762d8d776dbc7bf",
       "version_major": 2,
       "version_minor": 0
      },
      "text/plain": [
       "HBox(children=(FloatProgress(value=0.0, description='Executing', max=6.0, style=ProgressStyle(description_widt…"
      ]
     },
     "metadata": {},
     "output_type": "display_data"
    },
    {
     "name": "stdout",
     "output_type": "stream",
     "text": [
      "\n",
      "T164_2018_12_05_Notebook_0_a: This session already exists - no need to re-run ;)\n",
      "T164_2018_12_05_Notebook_1_b: This session already exists - no need to re-run ;)\n",
      "T164_2018_12_05_Notebook_2_b: This session already exists - no need to re-run ;)\n",
      "2018_12_05__T164_T164-123550\n",
      "Notebook_3_j.ipynb is being executed\n"
     ]
    },
    {
     "data": {
      "application/vnd.jupyter.widget-view+json": {
       "model_id": "764b8bb3e5634935bf27697074f54534",
       "version_major": 2,
       "version_minor": 0
      },
      "text/plain": [
       "HBox(children=(FloatProgress(value=0.0, description='Executing', max=38.0, style=ProgressStyle(description_wid…"
      ]
     },
     "metadata": {},
     "output_type": "display_data"
    },
    {
     "name": "stdout",
     "output_type": "stream",
     "text": [
      "\n",
      "T164_2018_12_05_Notebook_4_a: This session already exists - no need to re-run ;)\n",
      "T164_2018_12_05_Notebook_4_b: This session already exists - no need to re-run ;)\n",
      "T164_2018_12_05_Notebook_4_c: This session already exists - no need to re-run ;)\n",
      "T164_2018_12_05_Notebook_4_d: This session already exists - no need to re-run ;)\n",
      "2018_12_05__T164_T164-123550\n",
      "Notebook_5_a.ipynb is being executed\n"
     ]
    },
    {
     "data": {
      "application/vnd.jupyter.widget-view+json": {
       "model_id": "88c9b4147726493cac9741c419928df4",
       "version_major": 2,
       "version_minor": 0
      },
      "text/plain": [
       "HBox(children=(FloatProgress(value=0.0, description='Executing', max=18.0, style=ProgressStyle(description_wid…"
      ]
     },
     "metadata": {},
     "output_type": "display_data"
    },
    {
     "name": "stdout",
     "output_type": "stream",
     "text": [
      "\n",
      "2018_12_05__T164_T164-123550\n",
      "Notebook_6_b.ipynb is being executed\n"
     ]
    },
    {
     "data": {
      "application/vnd.jupyter.widget-view+json": {
       "model_id": "c4b1bdd620c6470d8684f976286b1f60",
       "version_major": 2,
       "version_minor": 0
      },
      "text/plain": [
       "HBox(children=(FloatProgress(value=0.0, description='Executing', max=12.0, style=ProgressStyle(description_wid…"
      ]
     },
     "metadata": {},
     "output_type": "display_data"
    },
    {
     "name": "stdout",
     "output_type": "stream",
     "text": [
      "\n",
      "2018_12_05__T164_T164-123550\n",
      "Notebook_7_a.ipynb is being executed\n"
     ]
    },
    {
     "data": {
      "application/vnd.jupyter.widget-view+json": {
       "model_id": "9aef5db4165d41c09c276fb00102f427",
       "version_major": 2,
       "version_minor": 0
      },
      "text/plain": [
       "HBox(children=(FloatProgress(value=0.0, description='Executing', max=6.0, style=ProgressStyle(description_widt…"
      ]
     },
     "metadata": {},
     "output_type": "display_data"
    },
    {
     "name": "stdout",
     "output_type": "stream",
     "text": [
      "\n",
      "T164_2018_11_28_Notebook_0_a: This session already exists - no need to re-run ;)\n",
      "T164_2018_11_28_Notebook_1_b: This session already exists - no need to re-run ;)\n",
      "T164_2018_11_28_Notebook_2_b: This session already exists - no need to re-run ;)\n",
      "2018_11_28__T164_T164-122054\n",
      "Notebook_3_j.ipynb is being executed\n"
     ]
    },
    {
     "data": {
      "application/vnd.jupyter.widget-view+json": {
       "model_id": "87c47ddaf69d461fa75adb87ad2a4ca0",
       "version_major": 2,
       "version_minor": 0
      },
      "text/plain": [
       "HBox(children=(FloatProgress(value=0.0, description='Executing', max=38.0, style=ProgressStyle(description_wid…"
      ]
     },
     "metadata": {},
     "output_type": "display_data"
    },
    {
     "name": "stdout",
     "output_type": "stream",
     "text": [
      "\n",
      "T164_2018_11_28_Notebook_4_a: This session already exists - no need to re-run ;)\n",
      "T164_2018_11_28_Notebook_4_b: This session already exists - no need to re-run ;)\n",
      "T164_2018_11_28_Notebook_4_c: This session already exists - no need to re-run ;)\n",
      "T164_2018_11_28_Notebook_4_d: This session already exists - no need to re-run ;)\n",
      "2018_11_28__T164_T164-122054\n",
      "Notebook_5_a.ipynb is being executed\n"
     ]
    },
    {
     "data": {
      "application/vnd.jupyter.widget-view+json": {
       "model_id": "3d3f73dcf52c499099f46a0325c59a86",
       "version_major": 2,
       "version_minor": 0
      },
      "text/plain": [
       "HBox(children=(FloatProgress(value=0.0, description='Executing', max=18.0, style=ProgressStyle(description_wid…"
      ]
     },
     "metadata": {},
     "output_type": "display_data"
    },
    {
     "name": "stdout",
     "output_type": "stream",
     "text": [
      "\n",
      "2018_11_28__T164_T164-122054\n",
      "Notebook_6_b.ipynb is being executed\n"
     ]
    },
    {
     "data": {
      "application/vnd.jupyter.widget-view+json": {
       "model_id": "33c20662aa7b47d29ac78cf498644c0a",
       "version_major": 2,
       "version_minor": 0
      },
      "text/plain": [
       "HBox(children=(FloatProgress(value=0.0, description='Executing', max=12.0, style=ProgressStyle(description_wid…"
      ]
     },
     "metadata": {},
     "output_type": "display_data"
    },
    {
     "name": "stdout",
     "output_type": "stream",
     "text": [
      "\n",
      "2018_11_28__T164_T164-122054\n",
      "Notebook_7_a.ipynb is being executed\n"
     ]
    },
    {
     "data": {
      "application/vnd.jupyter.widget-view+json": {
       "model_id": "3c0987c07ae74006b935ba14e4688e0a",
       "version_major": 2,
       "version_minor": 0
      },
      "text/plain": [
       "HBox(children=(FloatProgress(value=0.0, description='Executing', max=6.0, style=ProgressStyle(description_widt…"
      ]
     },
     "metadata": {},
     "output_type": "display_data"
    },
    {
     "name": "stdout",
     "output_type": "stream",
     "text": [
      "\n",
      "T164_2018_12_13_Notebook_0_a: This session already exists - no need to re-run ;)\n",
      "T164_2018_12_13_Notebook_1_b: This session already exists - no need to re-run ;)\n",
      "T164_2018_12_13_Notebook_2_b: This session already exists - no need to re-run ;)\n",
      "2018_12_13__T164_T164-101804\n",
      "Notebook_3_j.ipynb is being executed\n"
     ]
    },
    {
     "data": {
      "application/vnd.jupyter.widget-view+json": {
       "model_id": "99f72adc18d343ee861903c3dd3281c2",
       "version_major": 2,
       "version_minor": 0
      },
      "text/plain": [
       "HBox(children=(FloatProgress(value=0.0, description='Executing', max=38.0, style=ProgressStyle(description_wid…"
      ]
     },
     "metadata": {},
     "output_type": "display_data"
    },
    {
     "name": "stdout",
     "output_type": "stream",
     "text": [
      "\n",
      "T164_2018_12_13_Notebook_4_a: This session already exists - no need to re-run ;)\n",
      "T164_2018_12_13_Notebook_4_b: This session already exists - no need to re-run ;)\n",
      "T164_2018_12_13_Notebook_4_c: This session already exists - no need to re-run ;)\n",
      "T164_2018_12_13_Notebook_4_d: This session already exists - no need to re-run ;)\n",
      "2018_12_13__T164_T164-101804\n",
      "Notebook_5_a.ipynb is being executed\n"
     ]
    },
    {
     "data": {
      "application/vnd.jupyter.widget-view+json": {
       "model_id": "fe74a5ea3f5448b4a54a0d608fa28ade",
       "version_major": 2,
       "version_minor": 0
      },
      "text/plain": [
       "HBox(children=(FloatProgress(value=0.0, description='Executing', max=18.0, style=ProgressStyle(description_wid…"
      ]
     },
     "metadata": {},
     "output_type": "display_data"
    },
    {
     "name": "stdout",
     "output_type": "stream",
     "text": [
      "\n",
      "2018_12_13__T164_T164-101804\n",
      "Notebook_6_b.ipynb is being executed\n"
     ]
    },
    {
     "data": {
      "application/vnd.jupyter.widget-view+json": {
       "model_id": "e9ea9c3b1a764027b089b0af35f9da56",
       "version_major": 2,
       "version_minor": 0
      },
      "text/plain": [
       "HBox(children=(FloatProgress(value=0.0, description='Executing', max=12.0, style=ProgressStyle(description_wid…"
      ]
     },
     "metadata": {},
     "output_type": "display_data"
    },
    {
     "name": "stdout",
     "output_type": "stream",
     "text": [
      "\n",
      "2018_12_13__T164_T164-101804\n",
      "Notebook_7_a.ipynb is being executed\n"
     ]
    },
    {
     "data": {
      "application/vnd.jupyter.widget-view+json": {
       "model_id": "3a68085b46594c06af2c0ce7fc27b289",
       "version_major": 2,
       "version_minor": 0
      },
      "text/plain": [
       "HBox(children=(FloatProgress(value=0.0, description='Executing', max=6.0, style=ProgressStyle(description_widt…"
      ]
     },
     "metadata": {},
     "output_type": "display_data"
    },
    {
     "name": "stdout",
     "output_type": "stream",
     "text": [
      "\n",
      "T169_2019_02_13_Notebook_0_a: This session already exists - no need to re-run ;)\n",
      "T169_2019_02_13_Notebook_1_b: This session already exists - no need to re-run ;)\n",
      "T169_2019_02_13_Notebook_2_b: This session already exists - no need to re-run ;)\n",
      "2019_02_13__T169_T169-141800\n",
      "Notebook_3_j.ipynb is being executed\n"
     ]
    },
    {
     "data": {
      "application/vnd.jupyter.widget-view+json": {
       "model_id": "65a2f5dcf45e4540a5e837c124697765",
       "version_major": 2,
       "version_minor": 0
      },
      "text/plain": [
       "HBox(children=(FloatProgress(value=0.0, description='Executing', max=38.0, style=ProgressStyle(description_wid…"
      ]
     },
     "metadata": {},
     "output_type": "display_data"
    },
    {
     "name": "stdout",
     "output_type": "stream",
     "text": [
      "\n",
      "T169_2019_02_13_Notebook_4_a: This session already exists - no need to re-run ;)\n",
      "T169_2019_02_13_Notebook_4_b: This session already exists - no need to re-run ;)\n",
      "T169_2019_02_13_Notebook_4_c: This session already exists - no need to re-run ;)\n",
      "T169_2019_02_13_Notebook_4_d: This session already exists - no need to re-run ;)\n",
      "2019_02_13__T169_T169-141800\n",
      "Notebook_5_a.ipynb is being executed\n"
     ]
    },
    {
     "data": {
      "application/vnd.jupyter.widget-view+json": {
       "model_id": "4fce6634eaec42588b6da330e76c9536",
       "version_major": 2,
       "version_minor": 0
      },
      "text/plain": [
       "HBox(children=(FloatProgress(value=0.0, description='Executing', max=18.0, style=ProgressStyle(description_wid…"
      ]
     },
     "metadata": {},
     "output_type": "display_data"
    },
    {
     "name": "stdout",
     "output_type": "stream",
     "text": [
      "\n",
      "2019_02_13__T169_T169-141800\n",
      "Notebook_6_b.ipynb is being executed\n"
     ]
    },
    {
     "data": {
      "application/vnd.jupyter.widget-view+json": {
       "model_id": "6a08dcdf43254d57beb80cee5a2861cf",
       "version_major": 2,
       "version_minor": 0
      },
      "text/plain": [
       "HBox(children=(FloatProgress(value=0.0, description='Executing', max=12.0, style=ProgressStyle(description_wid…"
      ]
     },
     "metadata": {},
     "output_type": "display_data"
    },
    {
     "name": "stdout",
     "output_type": "stream",
     "text": [
      "\n",
      "2019_02_13__T169_T169-141800\n",
      "Notebook_7_a.ipynb is being executed\n"
     ]
    },
    {
     "data": {
      "application/vnd.jupyter.widget-view+json": {
       "model_id": "e577cab9c816444a91289ef1d075e6ea",
       "version_major": 2,
       "version_minor": 0
      },
      "text/plain": [
       "HBox(children=(FloatProgress(value=0.0, description='Executing', max=6.0, style=ProgressStyle(description_widt…"
      ]
     },
     "metadata": {},
     "output_type": "display_data"
    },
    {
     "name": "stdout",
     "output_type": "stream",
     "text": [
      "\n",
      "T169_2019_02_11_Notebook_0_a: This session already exists - no need to re-run ;)\n",
      "T169_2019_02_11_Notebook_1_b: This session already exists - no need to re-run ;)\n",
      "T169_2019_02_11_Notebook_2_b: This session already exists - no need to re-run ;)\n",
      "2019_02_11__T169_T169-145303\n",
      "Notebook_3_j.ipynb is being executed\n"
     ]
    },
    {
     "data": {
      "application/vnd.jupyter.widget-view+json": {
       "model_id": "803ca066124649d5befd606b4b523803",
       "version_major": 2,
       "version_minor": 0
      },
      "text/plain": [
       "HBox(children=(FloatProgress(value=0.0, description='Executing', max=38.0, style=ProgressStyle(description_wid…"
      ]
     },
     "metadata": {},
     "output_type": "display_data"
    },
    {
     "name": "stdout",
     "output_type": "stream",
     "text": [
      "\n",
      "T169_2019_02_11_Notebook_4_a: This session already exists - no need to re-run ;)\n",
      "T169_2019_02_11_Notebook_4_b: This session already exists - no need to re-run ;)\n",
      "T169_2019_02_11_Notebook_4_c: This session already exists - no need to re-run ;)\n",
      "T169_2019_02_11_Notebook_4_d: This session already exists - no need to re-run ;)\n",
      "2019_02_11__T169_T169-145303\n",
      "Notebook_5_a.ipynb is being executed\n"
     ]
    },
    {
     "data": {
      "application/vnd.jupyter.widget-view+json": {
       "model_id": "8b8976ee691f4a69b758bf8b433f99d6",
       "version_major": 2,
       "version_minor": 0
      },
      "text/plain": [
       "HBox(children=(FloatProgress(value=0.0, description='Executing', max=18.0, style=ProgressStyle(description_wid…"
      ]
     },
     "metadata": {},
     "output_type": "display_data"
    },
    {
     "name": "stdout",
     "output_type": "stream",
     "text": [
      "\n",
      "2019_02_11__T169_T169-145303\n",
      "Notebook_6_b.ipynb is being executed\n"
     ]
    },
    {
     "data": {
      "application/vnd.jupyter.widget-view+json": {
       "model_id": "0477cc0aa5164b0cb331f8f231bdc38b",
       "version_major": 2,
       "version_minor": 0
      },
      "text/plain": [
       "HBox(children=(FloatProgress(value=0.0, description='Executing', max=12.0, style=ProgressStyle(description_wid…"
      ]
     },
     "metadata": {},
     "output_type": "display_data"
    },
    {
     "name": "stdout",
     "output_type": "stream",
     "text": [
      "\n",
      "2019_02_11__T169_T169-145303\n",
      "Notebook_7_a.ipynb is being executed\n"
     ]
    },
    {
     "data": {
      "application/vnd.jupyter.widget-view+json": {
       "model_id": "9989a233fcbf433ebb8939fce0237523",
       "version_major": 2,
       "version_minor": 0
      },
      "text/plain": [
       "HBox(children=(FloatProgress(value=0.0, description='Executing', max=6.0, style=ProgressStyle(description_widt…"
      ]
     },
     "metadata": {},
     "output_type": "display_data"
    },
    {
     "name": "stdout",
     "output_type": "stream",
     "text": [
      "\n",
      "T169_2019_02_12_Notebook_0_a: This session already exists - no need to re-run ;)\n",
      "T169_2019_02_12_Notebook_1_b: This session already exists - no need to re-run ;)\n",
      "T169_2019_02_12_Notebook_2_b: This session already exists - no need to re-run ;)\n",
      "2019_02_12__T169_T169-145045\n",
      "Notebook_3_j.ipynb is being executed\n"
     ]
    },
    {
     "data": {
      "application/vnd.jupyter.widget-view+json": {
       "model_id": "487bffb9da524d62ba57ad9267c2ea02",
       "version_major": 2,
       "version_minor": 0
      },
      "text/plain": [
       "HBox(children=(FloatProgress(value=0.0, description='Executing', max=38.0, style=ProgressStyle(description_wid…"
      ]
     },
     "metadata": {},
     "output_type": "display_data"
    },
    {
     "name": "stdout",
     "output_type": "stream",
     "text": [
      "\n",
      "T169_2019_02_12_Notebook_4_a: This session already exists - no need to re-run ;)\n",
      "T169_2019_02_12_Notebook_4_b: This session already exists - no need to re-run ;)\n",
      "T169_2019_02_12_Notebook_4_c: This session already exists - no need to re-run ;)\n",
      "T169_2019_02_12_Notebook_4_d: This session already exists - no need to re-run ;)\n",
      "2019_02_12__T169_T169-145045\n",
      "Notebook_5_a.ipynb is being executed\n"
     ]
    },
    {
     "data": {
      "application/vnd.jupyter.widget-view+json": {
       "model_id": "17f050523ec542ff8c5e44d1d4ea666a",
       "version_major": 2,
       "version_minor": 0
      },
      "text/plain": [
       "HBox(children=(FloatProgress(value=0.0, description='Executing', max=18.0, style=ProgressStyle(description_wid…"
      ]
     },
     "metadata": {},
     "output_type": "display_data"
    },
    {
     "name": "stdout",
     "output_type": "stream",
     "text": [
      "\n",
      "2019_02_12__T169_T169-145045\n",
      "Notebook_6_b.ipynb is being executed\n"
     ]
    },
    {
     "data": {
      "application/vnd.jupyter.widget-view+json": {
       "model_id": "b580a32d4ae148abb2faac1d7895bc72",
       "version_major": 2,
       "version_minor": 0
      },
      "text/plain": [
       "HBox(children=(FloatProgress(value=0.0, description='Executing', max=12.0, style=ProgressStyle(description_wid…"
      ]
     },
     "metadata": {},
     "output_type": "display_data"
    },
    {
     "name": "stdout",
     "output_type": "stream",
     "text": [
      "\n",
      "2019_02_12__T169_T169-145045\n",
      "Notebook_7_a.ipynb is being executed\n"
     ]
    },
    {
     "data": {
      "application/vnd.jupyter.widget-view+json": {
       "model_id": "d26cefc443534ecf81b67f10182b87d9",
       "version_major": 2,
       "version_minor": 0
      },
      "text/plain": [
       "HBox(children=(FloatProgress(value=0.0, description='Executing', max=6.0, style=ProgressStyle(description_widt…"
      ]
     },
     "metadata": {},
     "output_type": "display_data"
    },
    {
     "name": "stdout",
     "output_type": "stream",
     "text": [
      "\n",
      "T169_2019_02_26_Notebook_0_a: This session already exists - no need to re-run ;)\n",
      "T169_2019_02_26_Notebook_1_b: This session already exists - no need to re-run ;)\n",
      "T169_2019_02_26_Notebook_2_b: This session already exists - no need to re-run ;)\n",
      "2019_02_26__T169_T169-142505\n",
      "Notebook_3_j.ipynb is being executed\n"
     ]
    },
    {
     "data": {
      "application/vnd.jupyter.widget-view+json": {
       "model_id": "2de2bbf489cb447cb868e7fc20323311",
       "version_major": 2,
       "version_minor": 0
      },
      "text/plain": [
       "HBox(children=(FloatProgress(value=0.0, description='Executing', max=38.0, style=ProgressStyle(description_wid…"
      ]
     },
     "metadata": {},
     "output_type": "display_data"
    },
    {
     "name": "stdout",
     "output_type": "stream",
     "text": [
      "\n",
      "T169_2019_02_26_Notebook_4_a: This session already exists - no need to re-run ;)\n",
      "T169_2019_02_26_Notebook_4_b: This session already exists - no need to re-run ;)\n",
      "T169_2019_02_26_Notebook_4_c: This session already exists - no need to re-run ;)\n",
      "T169_2019_02_26_Notebook_4_d: This session already exists - no need to re-run ;)\n",
      "2019_02_26__T169_T169-142505\n",
      "Notebook_5_a.ipynb is being executed\n"
     ]
    },
    {
     "data": {
      "application/vnd.jupyter.widget-view+json": {
       "model_id": "7146ba093c844c7697545044549b47cd",
       "version_major": 2,
       "version_minor": 0
      },
      "text/plain": [
       "HBox(children=(FloatProgress(value=0.0, description='Executing', max=18.0, style=ProgressStyle(description_wid…"
      ]
     },
     "metadata": {},
     "output_type": "display_data"
    },
    {
     "name": "stdout",
     "output_type": "stream",
     "text": [
      "\n",
      "2019_02_26__T169_T169-142505\n",
      "Notebook_6_b.ipynb is being executed\n"
     ]
    },
    {
     "data": {
      "application/vnd.jupyter.widget-view+json": {
       "model_id": "8164e3599c034d4dba7218fc9cc5c7d1",
       "version_major": 2,
       "version_minor": 0
      },
      "text/plain": [
       "HBox(children=(FloatProgress(value=0.0, description='Executing', max=12.0, style=ProgressStyle(description_wid…"
      ]
     },
     "metadata": {},
     "output_type": "display_data"
    },
    {
     "name": "stdout",
     "output_type": "stream",
     "text": [
      "\n",
      "2019_02_26__T169_T169-142505\n",
      "Notebook_7_a.ipynb is being executed\n"
     ]
    },
    {
     "data": {
      "application/vnd.jupyter.widget-view+json": {
       "model_id": "ee95749e95094bb5b6452cbe66b9a87d",
       "version_major": 2,
       "version_minor": 0
      },
      "text/plain": [
       "HBox(children=(FloatProgress(value=0.0, description='Executing', max=6.0, style=ProgressStyle(description_widt…"
      ]
     },
     "metadata": {},
     "output_type": "display_data"
    },
    {
     "name": "stdout",
     "output_type": "stream",
     "text": [
      "\n",
      "T169_2019_02_22_Notebook_0_a: This session already exists - no need to re-run ;)\n",
      "T169_2019_02_22_Notebook_1_b: This session already exists - no need to re-run ;)\n",
      "T169_2019_02_22_Notebook_2_b: This session already exists - no need to re-run ;)\n",
      "2019_02_22__T169_T169-134725\n",
      "Notebook_3_j.ipynb is being executed\n"
     ]
    },
    {
     "data": {
      "application/vnd.jupyter.widget-view+json": {
       "model_id": "b0fb5e5e5abc4eeea45794e9b0c5589b",
       "version_major": 2,
       "version_minor": 0
      },
      "text/plain": [
       "HBox(children=(FloatProgress(value=0.0, description='Executing', max=38.0, style=ProgressStyle(description_wid…"
      ]
     },
     "metadata": {},
     "output_type": "display_data"
    },
    {
     "name": "stdout",
     "output_type": "stream",
     "text": [
      "\n",
      "T169_2019_02_22_Notebook_4_a: This session already exists - no need to re-run ;)\n",
      "T169_2019_02_22_Notebook_4_b: This session already exists - no need to re-run ;)\n",
      "T169_2019_02_22_Notebook_4_c: This session already exists - no need to re-run ;)\n",
      "T169_2019_02_22_Notebook_4_d: This session already exists - no need to re-run ;)\n",
      "2019_02_22__T169_T169-134725\n",
      "Notebook_5_a.ipynb is being executed\n"
     ]
    },
    {
     "data": {
      "application/vnd.jupyter.widget-view+json": {
       "model_id": "a592c3d1bb5e497fb45b4e17353a9e3f",
       "version_major": 2,
       "version_minor": 0
      },
      "text/plain": [
       "HBox(children=(FloatProgress(value=0.0, description='Executing', max=18.0, style=ProgressStyle(description_wid…"
      ]
     },
     "metadata": {},
     "output_type": "display_data"
    },
    {
     "name": "stdout",
     "output_type": "stream",
     "text": [
      "\n",
      "2019_02_22__T169_T169-134725\n",
      "Notebook_6_b.ipynb is being executed\n"
     ]
    },
    {
     "data": {
      "application/vnd.jupyter.widget-view+json": {
       "model_id": "168b536429ab4ed9ad54386b1cfe9ea0",
       "version_major": 2,
       "version_minor": 0
      },
      "text/plain": [
       "HBox(children=(FloatProgress(value=0.0, description='Executing', max=12.0, style=ProgressStyle(description_wid…"
      ]
     },
     "metadata": {},
     "output_type": "display_data"
    },
    {
     "name": "stdout",
     "output_type": "stream",
     "text": [
      "\n",
      "2019_02_22__T169_T169-134725\n",
      "Notebook_7_a.ipynb is being executed\n"
     ]
    },
    {
     "data": {
      "application/vnd.jupyter.widget-view+json": {
       "model_id": "d475b844ab0e4a2ebcdb532c33d88842",
       "version_major": 2,
       "version_minor": 0
      },
      "text/plain": [
       "HBox(children=(FloatProgress(value=0.0, description='Executing', max=6.0, style=ProgressStyle(description_widt…"
      ]
     },
     "metadata": {},
     "output_type": "display_data"
    },
    {
     "name": "stdout",
     "output_type": "stream",
     "text": [
      "\n",
      "T169_2019_02_25_Notebook_0_a: This session already exists - no need to re-run ;)\n",
      "T169_2019_02_25_Notebook_1_b: This session already exists - no need to re-run ;)\n",
      "T169_2019_02_25_Notebook_2_b: This session already exists - no need to re-run ;)\n",
      "2019_02_25__T169_T169-145248\n",
      "Notebook_3_j.ipynb is being executed\n"
     ]
    },
    {
     "data": {
      "application/vnd.jupyter.widget-view+json": {
       "model_id": "6f920e833bf74ddaa8600861d14a76fb",
       "version_major": 2,
       "version_minor": 0
      },
      "text/plain": [
       "HBox(children=(FloatProgress(value=0.0, description='Executing', max=38.0, style=ProgressStyle(description_wid…"
      ]
     },
     "metadata": {},
     "output_type": "display_data"
    },
    {
     "name": "stdout",
     "output_type": "stream",
     "text": [
      "\n",
      "T169_2019_02_25_Notebook_4_a: This session already exists - no need to re-run ;)\n",
      "T169_2019_02_25_Notebook_4_b: This session already exists - no need to re-run ;)\n",
      "T169_2019_02_25_Notebook_4_c: This session already exists - no need to re-run ;)\n",
      "T169_2019_02_25_Notebook_4_d: This session already exists - no need to re-run ;)\n",
      "2019_02_25__T169_T169-145248\n",
      "Notebook_5_a.ipynb is being executed\n"
     ]
    },
    {
     "data": {
      "application/vnd.jupyter.widget-view+json": {
       "model_id": "5fc955c16b374acebdf82152a0b9635d",
       "version_major": 2,
       "version_minor": 0
      },
      "text/plain": [
       "HBox(children=(FloatProgress(value=0.0, description='Executing', max=18.0, style=ProgressStyle(description_wid…"
      ]
     },
     "metadata": {},
     "output_type": "display_data"
    },
    {
     "name": "stdout",
     "output_type": "stream",
     "text": [
      "\n",
      "2019_02_25__T169_T169-145248\n",
      "Notebook_6_b.ipynb is being executed\n"
     ]
    },
    {
     "data": {
      "application/vnd.jupyter.widget-view+json": {
       "model_id": "2d1f41741de24e0ab59d4b5327bbe3f5",
       "version_major": 2,
       "version_minor": 0
      },
      "text/plain": [
       "HBox(children=(FloatProgress(value=0.0, description='Executing', max=12.0, style=ProgressStyle(description_wid…"
      ]
     },
     "metadata": {},
     "output_type": "display_data"
    },
    {
     "name": "stdout",
     "output_type": "stream",
     "text": [
      "\n",
      "2019_02_25__T169_T169-145248\n",
      "Notebook_7_a.ipynb is being executed\n"
     ]
    },
    {
     "data": {
      "application/vnd.jupyter.widget-view+json": {
       "model_id": "1216615c615943529776eda9612d4eee",
       "version_major": 2,
       "version_minor": 0
      },
      "text/plain": [
       "HBox(children=(FloatProgress(value=0.0, description='Executing', max=6.0, style=ProgressStyle(description_widt…"
      ]
     },
     "metadata": {},
     "output_type": "display_data"
    },
    {
     "name": "stdout",
     "output_type": "stream",
     "text": [
      "\n",
      "T169_2019_01_25_Notebook_0_a: This session already exists - no need to re-run ;)\n",
      "T169_2019_01_25_Notebook_1_b: This session already exists - no need to re-run ;)\n",
      "T169_2019_01_25_Notebook_2_b: This session already exists - no need to re-run ;)\n",
      "2019_01_25__T169_T169-142626\n",
      "Notebook_3_j.ipynb is being executed\n"
     ]
    },
    {
     "data": {
      "application/vnd.jupyter.widget-view+json": {
       "model_id": "0e698d2a541640b58e4d4b9f152bbf15",
       "version_major": 2,
       "version_minor": 0
      },
      "text/plain": [
       "HBox(children=(FloatProgress(value=0.0, description='Executing', max=38.0, style=ProgressStyle(description_wid…"
      ]
     },
     "metadata": {},
     "output_type": "display_data"
    },
    {
     "name": "stdout",
     "output_type": "stream",
     "text": [
      "\n",
      "T169_2019_01_25_Notebook_4_a: This session already exists - no need to re-run ;)\n",
      "T169_2019_01_25_Notebook_4_b: This session already exists - no need to re-run ;)\n",
      "T169_2019_01_25_Notebook_4_c: This session already exists - no need to re-run ;)\n",
      "T169_2019_01_25_Notebook_4_d: This session already exists - no need to re-run ;)\n",
      "2019_01_25__T169_T169-142626\n",
      "Notebook_5_a.ipynb is being executed\n"
     ]
    },
    {
     "data": {
      "application/vnd.jupyter.widget-view+json": {
       "model_id": "e7a4bc0e0a634bd7a48eb579cbddfb67",
       "version_major": 2,
       "version_minor": 0
      },
      "text/plain": [
       "HBox(children=(FloatProgress(value=0.0, description='Executing', max=18.0, style=ProgressStyle(description_wid…"
      ]
     },
     "metadata": {},
     "output_type": "display_data"
    },
    {
     "name": "stdout",
     "output_type": "stream",
     "text": [
      "\n",
      "2019_01_25__T169_T169-142626\n",
      "Notebook_6_b.ipynb is being executed\n"
     ]
    },
    {
     "data": {
      "application/vnd.jupyter.widget-view+json": {
       "model_id": "6d5ef31e33194c4b8239e47ed4286502",
       "version_major": 2,
       "version_minor": 0
      },
      "text/plain": [
       "HBox(children=(FloatProgress(value=0.0, description='Executing', max=12.0, style=ProgressStyle(description_wid…"
      ]
     },
     "metadata": {},
     "output_type": "display_data"
    },
    {
     "name": "stdout",
     "output_type": "stream",
     "text": [
      "\n",
      "2019_01_25__T169_T169-142626\n",
      "Notebook_7_a.ipynb is being executed\n"
     ]
    },
    {
     "data": {
      "application/vnd.jupyter.widget-view+json": {
       "model_id": "4e90416dafdf45808d7e67c65100e5b9",
       "version_major": 2,
       "version_minor": 0
      },
      "text/plain": [
       "HBox(children=(FloatProgress(value=0.0, description='Executing', max=6.0, style=ProgressStyle(description_widt…"
      ]
     },
     "metadata": {},
     "output_type": "display_data"
    },
    {
     "name": "stdout",
     "output_type": "stream",
     "text": [
      "\n",
      "T169_2019_03_01_Notebook_0_a: This session already exists - no need to re-run ;)\n",
      "T169_2019_03_01_Notebook_1_b: This session already exists - no need to re-run ;)\n",
      "T169_2019_03_01_Notebook_2_b: This session already exists - no need to re-run ;)\n",
      "2019_03_01__T169_T169-141400\n",
      "Notebook_3_j.ipynb is being executed\n"
     ]
    },
    {
     "data": {
      "application/vnd.jupyter.widget-view+json": {
       "model_id": "c84d35553dc94d76b33892d4434b9a99",
       "version_major": 2,
       "version_minor": 0
      },
      "text/plain": [
       "HBox(children=(FloatProgress(value=0.0, description='Executing', max=38.0, style=ProgressStyle(description_wid…"
      ]
     },
     "metadata": {},
     "output_type": "display_data"
    },
    {
     "name": "stdout",
     "output_type": "stream",
     "text": [
      "\n",
      "T169_2019_03_01_Notebook_4_a: This session already exists - no need to re-run ;)\n",
      "T169_2019_03_01_Notebook_4_b: This session already exists - no need to re-run ;)\n",
      "T169_2019_03_01_Notebook_4_c: This session already exists - no need to re-run ;)\n",
      "T169_2019_03_01_Notebook_4_d: This session already exists - no need to re-run ;)\n",
      "2019_03_01__T169_T169-141400\n",
      "Notebook_5_a.ipynb is being executed\n"
     ]
    },
    {
     "data": {
      "application/vnd.jupyter.widget-view+json": {
       "model_id": "f9bc15d09c1446daa803f26eb2b7643e",
       "version_major": 2,
       "version_minor": 0
      },
      "text/plain": [
       "HBox(children=(FloatProgress(value=0.0, description='Executing', max=18.0, style=ProgressStyle(description_wid…"
      ]
     },
     "metadata": {},
     "output_type": "display_data"
    },
    {
     "name": "stdout",
     "output_type": "stream",
     "text": [
      "\n",
      "2019_03_01__T169_T169-141400\n",
      "Notebook_6_b.ipynb is being executed\n"
     ]
    },
    {
     "data": {
      "application/vnd.jupyter.widget-view+json": {
       "model_id": "c2ce8ca11edb44b1bf823ad07c92caff",
       "version_major": 2,
       "version_minor": 0
      },
      "text/plain": [
       "HBox(children=(FloatProgress(value=0.0, description='Executing', max=12.0, style=ProgressStyle(description_wid…"
      ]
     },
     "metadata": {},
     "output_type": "display_data"
    },
    {
     "name": "stdout",
     "output_type": "stream",
     "text": [
      "\n",
      "2019_03_01__T169_T169-141400\n",
      "Notebook_7_a.ipynb is being executed\n"
     ]
    },
    {
     "data": {
      "application/vnd.jupyter.widget-view+json": {
       "model_id": "8050b82a09b4473dad6964f8352c2459",
       "version_major": 2,
       "version_minor": 0
      },
      "text/plain": [
       "HBox(children=(FloatProgress(value=0.0, description='Executing', max=6.0, style=ProgressStyle(description_widt…"
      ]
     },
     "metadata": {},
     "output_type": "display_data"
    },
    {
     "name": "stdout",
     "output_type": "stream",
     "text": [
      "\n",
      "T169_2019_01_23_Notebook_0_a: This session already exists - no need to re-run ;)\n",
      "T169_2019_01_23_Notebook_1_b: This session already exists - no need to re-run ;)\n",
      "T169_2019_01_23_Notebook_2_b: This session already exists - no need to re-run ;)\n",
      "2019_01_23__T169_T169-155842\n",
      "Notebook_3_j.ipynb is being executed\n"
     ]
    },
    {
     "data": {
      "application/vnd.jupyter.widget-view+json": {
       "model_id": "f1d9dda53a424055afbf0642391157c4",
       "version_major": 2,
       "version_minor": 0
      },
      "text/plain": [
       "HBox(children=(FloatProgress(value=0.0, description='Executing', max=38.0, style=ProgressStyle(description_wid…"
      ]
     },
     "metadata": {},
     "output_type": "display_data"
    },
    {
     "name": "stdout",
     "output_type": "stream",
     "text": [
      "\n",
      "T169_2019_01_23_Notebook_4_a: This session already exists - no need to re-run ;)\n",
      "T169_2019_01_23_Notebook_4_b: This session already exists - no need to re-run ;)\n",
      "T169_2019_01_23_Notebook_4_c: This session already exists - no need to re-run ;)\n",
      "T169_2019_01_23_Notebook_4_d: This session already exists - no need to re-run ;)\n",
      "2019_01_23__T169_T169-155842\n",
      "Notebook_5_a.ipynb is being executed\n"
     ]
    },
    {
     "data": {
      "application/vnd.jupyter.widget-view+json": {
       "model_id": "597aa475f5ea4d409f289003ea3cb42f",
       "version_major": 2,
       "version_minor": 0
      },
      "text/plain": [
       "HBox(children=(FloatProgress(value=0.0, description='Executing', max=18.0, style=ProgressStyle(description_wid…"
      ]
     },
     "metadata": {},
     "output_type": "display_data"
    },
    {
     "name": "stdout",
     "output_type": "stream",
     "text": [
      "\n",
      "2019_01_23__T169_T169-155842\n",
      "Notebook_6_b.ipynb is being executed\n"
     ]
    },
    {
     "data": {
      "application/vnd.jupyter.widget-view+json": {
       "model_id": "4ccbfca29f5147518d4f3c68cb61573d",
       "version_major": 2,
       "version_minor": 0
      },
      "text/plain": [
       "HBox(children=(FloatProgress(value=0.0, description='Executing', max=12.0, style=ProgressStyle(description_wid…"
      ]
     },
     "metadata": {},
     "output_type": "display_data"
    },
    {
     "name": "stdout",
     "output_type": "stream",
     "text": [
      "\n",
      "2019_01_23__T169_T169-155842\n",
      "Notebook_7_a.ipynb is being executed\n"
     ]
    },
    {
     "data": {
      "application/vnd.jupyter.widget-view+json": {
       "model_id": "c3633ea4d1fa4ce9b0c62fa91fc5b82a",
       "version_major": 2,
       "version_minor": 0
      },
      "text/plain": [
       "HBox(children=(FloatProgress(value=0.0, description='Executing', max=6.0, style=ProgressStyle(description_widt…"
      ]
     },
     "metadata": {},
     "output_type": "display_data"
    },
    {
     "name": "stdout",
     "output_type": "stream",
     "text": [
      "\n",
      "T169_2019_02_15_Notebook_0_a: This session already exists - no need to re-run ;)\n",
      "T169_2019_02_15_Notebook_1_b: This session already exists - no need to re-run ;)\n",
      "T169_2019_02_15_Notebook_2_b: This session already exists - no need to re-run ;)\n",
      "2019_02_15__T169_T169-141525\n",
      "Notebook_3_j.ipynb is being executed\n"
     ]
    },
    {
     "data": {
      "application/vnd.jupyter.widget-view+json": {
       "model_id": "989b3300b1e4462cb4a0be88902d7016",
       "version_major": 2,
       "version_minor": 0
      },
      "text/plain": [
       "HBox(children=(FloatProgress(value=0.0, description='Executing', max=38.0, style=ProgressStyle(description_wid…"
      ]
     },
     "metadata": {},
     "output_type": "display_data"
    },
    {
     "name": "stdout",
     "output_type": "stream",
     "text": [
      "\n",
      "T169_2019_02_15_Notebook_4_a: This session already exists - no need to re-run ;)\n",
      "T169_2019_02_15_Notebook_4_b: This session already exists - no need to re-run ;)\n",
      "T169_2019_02_15_Notebook_4_c: This session already exists - no need to re-run ;)\n",
      "T169_2019_02_15_Notebook_4_d: This session already exists - no need to re-run ;)\n",
      "2019_02_15__T169_T169-141525\n",
      "Notebook_5_a.ipynb is being executed\n"
     ]
    },
    {
     "data": {
      "application/vnd.jupyter.widget-view+json": {
       "model_id": "eccc02dad0e44fd09fb391982dfa847e",
       "version_major": 2,
       "version_minor": 0
      },
      "text/plain": [
       "HBox(children=(FloatProgress(value=0.0, description='Executing', max=18.0, style=ProgressStyle(description_wid…"
      ]
     },
     "metadata": {},
     "output_type": "display_data"
    },
    {
     "name": "stdout",
     "output_type": "stream",
     "text": [
      "\n",
      "2019_02_15__T169_T169-141525\n",
      "Notebook_6_b.ipynb is being executed\n"
     ]
    },
    {
     "data": {
      "application/vnd.jupyter.widget-view+json": {
       "model_id": "24efb87b0ecf4c9e87873f3e1330e636",
       "version_major": 2,
       "version_minor": 0
      },
      "text/plain": [
       "HBox(children=(FloatProgress(value=0.0, description='Executing', max=12.0, style=ProgressStyle(description_wid…"
      ]
     },
     "metadata": {},
     "output_type": "display_data"
    },
    {
     "name": "stdout",
     "output_type": "stream",
     "text": [
      "\n",
      "2019_02_15__T169_T169-141525\n",
      "Notebook_7_a.ipynb is being executed\n"
     ]
    },
    {
     "data": {
      "application/vnd.jupyter.widget-view+json": {
       "model_id": "45d83cea660a4faf9332d43277754b7d",
       "version_major": 2,
       "version_minor": 0
      },
      "text/plain": [
       "HBox(children=(FloatProgress(value=0.0, description='Executing', max=6.0, style=ProgressStyle(description_widt…"
      ]
     },
     "metadata": {},
     "output_type": "display_data"
    },
    {
     "name": "stdout",
     "output_type": "stream",
     "text": [
      "\n",
      "T169_2019_02_14_Notebook_0_a: This session already exists - no need to re-run ;)\n",
      "T169_2019_02_14_Notebook_1_b: This session already exists - no need to re-run ;)\n",
      "T169_2019_02_14_Notebook_2_b: This session already exists - no need to re-run ;)\n",
      "2019_02_14__T169_T169-143937\n",
      "Notebook_3_j.ipynb is being executed\n"
     ]
    },
    {
     "data": {
      "application/vnd.jupyter.widget-view+json": {
       "model_id": "9e8b86897f13480b9d984eb6d3a5d44c",
       "version_major": 2,
       "version_minor": 0
      },
      "text/plain": [
       "HBox(children=(FloatProgress(value=0.0, description='Executing', max=38.0, style=ProgressStyle(description_wid…"
      ]
     },
     "metadata": {},
     "output_type": "display_data"
    },
    {
     "name": "stdout",
     "output_type": "stream",
     "text": [
      "\n",
      "T169_2019_02_14_Notebook_4_a: This session already exists - no need to re-run ;)\n",
      "T169_2019_02_14_Notebook_4_b: This session already exists - no need to re-run ;)\n",
      "T169_2019_02_14_Notebook_4_c: This session already exists - no need to re-run ;)\n",
      "T169_2019_02_14_Notebook_4_d: This session already exists - no need to re-run ;)\n",
      "2019_02_14__T169_T169-143937\n",
      "Notebook_5_a.ipynb is being executed\n"
     ]
    },
    {
     "data": {
      "application/vnd.jupyter.widget-view+json": {
       "model_id": "e0bb079d9e734ecf8be92c59718b1e63",
       "version_major": 2,
       "version_minor": 0
      },
      "text/plain": [
       "HBox(children=(FloatProgress(value=0.0, description='Executing', max=18.0, style=ProgressStyle(description_wid…"
      ]
     },
     "metadata": {},
     "output_type": "display_data"
    },
    {
     "name": "stdout",
     "output_type": "stream",
     "text": [
      "\n",
      "2019_02_14__T169_T169-143937\n",
      "Notebook_6_b.ipynb is being executed\n"
     ]
    },
    {
     "data": {
      "application/vnd.jupyter.widget-view+json": {
       "model_id": "f8d61b26087a40c08664687a184fa1d7",
       "version_major": 2,
       "version_minor": 0
      },
      "text/plain": [
       "HBox(children=(FloatProgress(value=0.0, description='Executing', max=12.0, style=ProgressStyle(description_wid…"
      ]
     },
     "metadata": {},
     "output_type": "display_data"
    },
    {
     "name": "stdout",
     "output_type": "stream",
     "text": [
      "\n",
      "2019_02_14__T169_T169-143937\n",
      "Notebook_7_a.ipynb is being executed\n"
     ]
    },
    {
     "data": {
      "application/vnd.jupyter.widget-view+json": {
       "model_id": "a1b1959a0ffc40648efd5964332a9dba",
       "version_major": 2,
       "version_minor": 0
      },
      "text/plain": [
       "HBox(children=(FloatProgress(value=0.0, description='Executing', max=6.0, style=ProgressStyle(description_widt…"
      ]
     },
     "metadata": {},
     "output_type": "display_data"
    },
    {
     "name": "stdout",
     "output_type": "stream",
     "text": [
      "\n",
      "T169_2019_02_20_Notebook_0_a: This session already exists - no need to re-run ;)\n",
      "T169_2019_02_20_Notebook_1_b: This session already exists - no need to re-run ;)\n",
      "T169_2019_02_20_Notebook_2_b: This session already exists - no need to re-run ;)\n",
      "2019_02_20__T169_T169-141850\n",
      "Notebook_3_j.ipynb is being executed\n"
     ]
    },
    {
     "data": {
      "application/vnd.jupyter.widget-view+json": {
       "model_id": "da59d941acf34b2f95e088a975ced0d3",
       "version_major": 2,
       "version_minor": 0
      },
      "text/plain": [
       "HBox(children=(FloatProgress(value=0.0, description='Executing', max=38.0, style=ProgressStyle(description_wid…"
      ]
     },
     "metadata": {},
     "output_type": "display_data"
    },
    {
     "name": "stdout",
     "output_type": "stream",
     "text": [
      "\n",
      "T169_2019_02_20_Notebook_4_a: This session already exists - no need to re-run ;)\n",
      "T169_2019_02_20_Notebook_4_b: This session already exists - no need to re-run ;)\n",
      "T169_2019_02_20_Notebook_4_c: This session already exists - no need to re-run ;)\n",
      "T169_2019_02_20_Notebook_4_d: This session already exists - no need to re-run ;)\n",
      "2019_02_20__T169_T169-141850\n",
      "Notebook_5_a.ipynb is being executed\n"
     ]
    },
    {
     "data": {
      "application/vnd.jupyter.widget-view+json": {
       "model_id": "f7fd2fb6ad8d4b998c4b0bece420d3fc",
       "version_major": 2,
       "version_minor": 0
      },
      "text/plain": [
       "HBox(children=(FloatProgress(value=0.0, description='Executing', max=18.0, style=ProgressStyle(description_wid…"
      ]
     },
     "metadata": {},
     "output_type": "display_data"
    },
    {
     "name": "stdout",
     "output_type": "stream",
     "text": [
      "\n",
      "2019_02_20__T169_T169-141850\n",
      "Notebook_6_b.ipynb is being executed\n"
     ]
    },
    {
     "data": {
      "application/vnd.jupyter.widget-view+json": {
       "model_id": "09d5af15d7ca483f93a93d2ea909a33d",
       "version_major": 2,
       "version_minor": 0
      },
      "text/plain": [
       "HBox(children=(FloatProgress(value=0.0, description='Executing', max=12.0, style=ProgressStyle(description_wid…"
      ]
     },
     "metadata": {},
     "output_type": "display_data"
    },
    {
     "name": "stdout",
     "output_type": "stream",
     "text": [
      "\n",
      "2019_02_20__T169_T169-141850\n",
      "Notebook_7_a.ipynb is being executed\n"
     ]
    },
    {
     "data": {
      "application/vnd.jupyter.widget-view+json": {
       "model_id": "d3fffa1feccb4f8fa5a7a5467515157a",
       "version_major": 2,
       "version_minor": 0
      },
      "text/plain": [
       "HBox(children=(FloatProgress(value=0.0, description='Executing', max=6.0, style=ProgressStyle(description_widt…"
      ]
     },
     "metadata": {},
     "output_type": "display_data"
    },
    {
     "name": "stdout",
     "output_type": "stream",
     "text": [
      "\n",
      "T169_2019_02_19_Notebook_0_a: This session already exists - no need to re-run ;)\n",
      "T169_2019_02_19_Notebook_1_b: This session already exists - no need to re-run ;)\n",
      "T169_2019_02_19_Notebook_2_b: This session already exists - no need to re-run ;)\n",
      "2019_02_19__T169_T169-140515\n",
      "Notebook_3_j.ipynb is being executed\n"
     ]
    },
    {
     "data": {
      "application/vnd.jupyter.widget-view+json": {
       "model_id": "eae757bc02a84bbab9a34edcb19e5b02",
       "version_major": 2,
       "version_minor": 0
      },
      "text/plain": [
       "HBox(children=(FloatProgress(value=0.0, description='Executing', max=38.0, style=ProgressStyle(description_wid…"
      ]
     },
     "metadata": {},
     "output_type": "display_data"
    },
    {
     "name": "stdout",
     "output_type": "stream",
     "text": [
      "\n",
      "T169_2019_02_19_Notebook_4_a: This session already exists - no need to re-run ;)\n",
      "T169_2019_02_19_Notebook_4_b: This session already exists - no need to re-run ;)\n",
      "T169_2019_02_19_Notebook_4_c: This session already exists - no need to re-run ;)\n",
      "T169_2019_02_19_Notebook_4_d: This session already exists - no need to re-run ;)\n",
      "2019_02_19__T169_T169-140515\n",
      "Notebook_5_a.ipynb is being executed\n"
     ]
    },
    {
     "data": {
      "application/vnd.jupyter.widget-view+json": {
       "model_id": "38d81c28825248e3a616febe8ca74dd7",
       "version_major": 2,
       "version_minor": 0
      },
      "text/plain": [
       "HBox(children=(FloatProgress(value=0.0, description='Executing', max=18.0, style=ProgressStyle(description_wid…"
      ]
     },
     "metadata": {},
     "output_type": "display_data"
    },
    {
     "name": "stdout",
     "output_type": "stream",
     "text": [
      "\n",
      "2019_02_19__T169_T169-140515\n",
      "Notebook_6_b.ipynb is being executed\n"
     ]
    },
    {
     "data": {
      "application/vnd.jupyter.widget-view+json": {
       "model_id": "c91f4b844f4943d1930cdef31cad3a2a",
       "version_major": 2,
       "version_minor": 0
      },
      "text/plain": [
       "HBox(children=(FloatProgress(value=0.0, description='Executing', max=12.0, style=ProgressStyle(description_wid…"
      ]
     },
     "metadata": {},
     "output_type": "display_data"
    },
    {
     "name": "stdout",
     "output_type": "stream",
     "text": [
      "\n",
      "2019_02_19__T169_T169-140515\n",
      "Notebook_7_a.ipynb is being executed\n"
     ]
    },
    {
     "data": {
      "application/vnd.jupyter.widget-view+json": {
       "model_id": "9eabc54ab51a4f5cb814591dcfce9b91",
       "version_major": 2,
       "version_minor": 0
      },
      "text/plain": [
       "HBox(children=(FloatProgress(value=0.0, description='Executing', max=6.0, style=ProgressStyle(description_widt…"
      ]
     },
     "metadata": {},
     "output_type": "display_data"
    },
    {
     "name": "stdout",
     "output_type": "stream",
     "text": [
      "\n",
      "T169_2019_02_27_Notebook_0_a: This session already exists - no need to re-run ;)\n",
      "T169_2019_02_27_Notebook_1_b: This session already exists - no need to re-run ;)\n",
      "T169_2019_02_27_Notebook_2_b: This session already exists - no need to re-run ;)\n",
      "2019_02_27__T169_T169-155731\n",
      "Notebook_3_j.ipynb is being executed\n"
     ]
    },
    {
     "data": {
      "application/vnd.jupyter.widget-view+json": {
       "model_id": "e0abb253574c4196abd9a7393f3afbeb",
       "version_major": 2,
       "version_minor": 0
      },
      "text/plain": [
       "HBox(children=(FloatProgress(value=0.0, description='Executing', max=38.0, style=ProgressStyle(description_wid…"
      ]
     },
     "metadata": {},
     "output_type": "display_data"
    },
    {
     "name": "stdout",
     "output_type": "stream",
     "text": [
      "\n",
      "T169_2019_02_27_Notebook_4_a: This session already exists - no need to re-run ;)\n",
      "T169_2019_02_27_Notebook_4_b: This session already exists - no need to re-run ;)\n",
      "T169_2019_02_27_Notebook_4_c: This session already exists - no need to re-run ;)\n",
      "T169_2019_02_27_Notebook_4_d: This session already exists - no need to re-run ;)\n",
      "2019_02_27__T169_T169-155731\n",
      "Notebook_5_a.ipynb is being executed\n"
     ]
    },
    {
     "data": {
      "application/vnd.jupyter.widget-view+json": {
       "model_id": "5de68f4a11d949368a960db6a291a89e",
       "version_major": 2,
       "version_minor": 0
      },
      "text/plain": [
       "HBox(children=(FloatProgress(value=0.0, description='Executing', max=18.0, style=ProgressStyle(description_wid…"
      ]
     },
     "metadata": {},
     "output_type": "display_data"
    },
    {
     "name": "stdout",
     "output_type": "stream",
     "text": [
      "\n",
      "2019_02_27__T169_T169-155731\n",
      "Notebook_6_b.ipynb is being executed\n"
     ]
    },
    {
     "data": {
      "application/vnd.jupyter.widget-view+json": {
       "model_id": "f0c54e5b92704404b9fd466ef91591a8",
       "version_major": 2,
       "version_minor": 0
      },
      "text/plain": [
       "HBox(children=(FloatProgress(value=0.0, description='Executing', max=12.0, style=ProgressStyle(description_wid…"
      ]
     },
     "metadata": {},
     "output_type": "display_data"
    },
    {
     "name": "stdout",
     "output_type": "stream",
     "text": [
      "\n",
      "2019_02_27__T169_T169-155731\n",
      "Notebook_7_a.ipynb is being executed\n"
     ]
    },
    {
     "data": {
      "application/vnd.jupyter.widget-view+json": {
       "model_id": "dc5153284be047e590b5fe132963c4fe",
       "version_major": 2,
       "version_minor": 0
      },
      "text/plain": [
       "HBox(children=(FloatProgress(value=0.0, description='Executing', max=6.0, style=ProgressStyle(description_widt…"
      ]
     },
     "metadata": {},
     "output_type": "display_data"
    },
    {
     "name": "stdout",
     "output_type": "stream",
     "text": [
      "\n",
      "T169_2019_02_01_Notebook_0_a: This session already exists - no need to re-run ;)\n",
      "T169_2019_02_01_Notebook_1_b: This session already exists - no need to re-run ;)\n",
      "T169_2019_02_01_Notebook_2_b: This session already exists - no need to re-run ;)\n",
      "2019_02_01__T169_T169-141602\n",
      "Notebook_3_j.ipynb is being executed\n"
     ]
    },
    {
     "data": {
      "application/vnd.jupyter.widget-view+json": {
       "model_id": "4ca43423d0ce4976abf5e28b66c8a460",
       "version_major": 2,
       "version_minor": 0
      },
      "text/plain": [
       "HBox(children=(FloatProgress(value=0.0, description='Executing', max=38.0, style=ProgressStyle(description_wid…"
      ]
     },
     "metadata": {},
     "output_type": "display_data"
    },
    {
     "name": "stdout",
     "output_type": "stream",
     "text": [
      "\n",
      "T169_2019_02_01_Notebook_4_a: This session already exists - no need to re-run ;)\n",
      "T169_2019_02_01_Notebook_4_b: This session already exists - no need to re-run ;)\n",
      "T169_2019_02_01_Notebook_4_c: This session already exists - no need to re-run ;)\n",
      "T169_2019_02_01_Notebook_4_d: This session already exists - no need to re-run ;)\n",
      "2019_02_01__T169_T169-141602\n",
      "Notebook_5_a.ipynb is being executed\n"
     ]
    },
    {
     "data": {
      "application/vnd.jupyter.widget-view+json": {
       "model_id": "4a31526d15794b75aaa373bf1ff9efa2",
       "version_major": 2,
       "version_minor": 0
      },
      "text/plain": [
       "HBox(children=(FloatProgress(value=0.0, description='Executing', max=18.0, style=ProgressStyle(description_wid…"
      ]
     },
     "metadata": {},
     "output_type": "display_data"
    },
    {
     "name": "stdout",
     "output_type": "stream",
     "text": [
      "\n",
      "2019_02_01__T169_T169-141602\n",
      "Notebook_6_b.ipynb is being executed\n"
     ]
    },
    {
     "data": {
      "application/vnd.jupyter.widget-view+json": {
       "model_id": "47b582a3f66248969e5555035a4d841d",
       "version_major": 2,
       "version_minor": 0
      },
      "text/plain": [
       "HBox(children=(FloatProgress(value=0.0, description='Executing', max=12.0, style=ProgressStyle(description_wid…"
      ]
     },
     "metadata": {},
     "output_type": "display_data"
    },
    {
     "name": "stdout",
     "output_type": "stream",
     "text": [
      "\n",
      "2019_02_01__T169_T169-141602\n",
      "Notebook_7_a.ipynb is being executed\n"
     ]
    },
    {
     "data": {
      "application/vnd.jupyter.widget-view+json": {
       "model_id": "97ecfb9a69b04f09a31291e35e8635fc",
       "version_major": 2,
       "version_minor": 0
      },
      "text/plain": [
       "HBox(children=(FloatProgress(value=0.0, description='Executing', max=6.0, style=ProgressStyle(description_widt…"
      ]
     },
     "metadata": {},
     "output_type": "display_data"
    },
    {
     "name": "stdout",
     "output_type": "stream",
     "text": [
      "\n",
      "T169_2019_01_31_Notebook_0_a: This session already exists - no need to re-run ;)\n",
      "T169_2019_01_31_Notebook_1_b: This session already exists - no need to re-run ;)\n",
      "T169_2019_01_31_Notebook_2_b: This session already exists - no need to re-run ;)\n",
      "2019_01_31__T169_T169-143728\n",
      "Notebook_3_j.ipynb is being executed\n"
     ]
    },
    {
     "data": {
      "application/vnd.jupyter.widget-view+json": {
       "model_id": "d3c1c358d0b348b68c5125d981c2ad5b",
       "version_major": 2,
       "version_minor": 0
      },
      "text/plain": [
       "HBox(children=(FloatProgress(value=0.0, description='Executing', max=38.0, style=ProgressStyle(description_wid…"
      ]
     },
     "metadata": {},
     "output_type": "display_data"
    },
    {
     "name": "stdout",
     "output_type": "stream",
     "text": [
      "\n",
      "T169_2019_01_31_Notebook_4_a: This session already exists - no need to re-run ;)\n",
      "T169_2019_01_31_Notebook_4_b: This session already exists - no need to re-run ;)\n",
      "T169_2019_01_31_Notebook_4_c: This session already exists - no need to re-run ;)\n",
      "T169_2019_01_31_Notebook_4_d: This session already exists - no need to re-run ;)\n",
      "2019_01_31__T169_T169-143728\n",
      "Notebook_5_a.ipynb is being executed\n"
     ]
    },
    {
     "data": {
      "application/vnd.jupyter.widget-view+json": {
       "model_id": "be733064608e4b5e9a4e8b668de3ca23",
       "version_major": 2,
       "version_minor": 0
      },
      "text/plain": [
       "HBox(children=(FloatProgress(value=0.0, description='Executing', max=18.0, style=ProgressStyle(description_wid…"
      ]
     },
     "metadata": {},
     "output_type": "display_data"
    },
    {
     "name": "stdout",
     "output_type": "stream",
     "text": [
      "\n",
      "2019_01_31__T169_T169-143728\n",
      "Notebook_6_b.ipynb is being executed\n"
     ]
    },
    {
     "data": {
      "application/vnd.jupyter.widget-view+json": {
       "model_id": "506e6e88ab4e42af8203d4163472d9ef",
       "version_major": 2,
       "version_minor": 0
      },
      "text/plain": [
       "HBox(children=(FloatProgress(value=0.0, description='Executing', max=12.0, style=ProgressStyle(description_wid…"
      ]
     },
     "metadata": {},
     "output_type": "display_data"
    },
    {
     "name": "stdout",
     "output_type": "stream",
     "text": [
      "\n",
      "2019_01_31__T169_T169-143728\n",
      "Notebook_7_a.ipynb is being executed\n"
     ]
    },
    {
     "data": {
      "application/vnd.jupyter.widget-view+json": {
       "model_id": "d33f9b69f9864b02ad0eb8fa3e24232a",
       "version_major": 2,
       "version_minor": 0
      },
      "text/plain": [
       "HBox(children=(FloatProgress(value=0.0, description='Executing', max=6.0, style=ProgressStyle(description_widt…"
      ]
     },
     "metadata": {},
     "output_type": "display_data"
    },
    {
     "name": "stdout",
     "output_type": "stream",
     "text": [
      "\n",
      "T169_2019_02_28_Notebook_0_a: This session already exists - no need to re-run ;)\n",
      "T169_2019_02_28_Notebook_1_b: This session already exists - no need to re-run ;)\n",
      "T169_2019_02_28_Notebook_2_b: This session already exists - no need to re-run ;)\n",
      "2019_02_28__T169_T169-142051\n",
      "Notebook_3_j.ipynb is being executed\n"
     ]
    },
    {
     "data": {
      "application/vnd.jupyter.widget-view+json": {
       "model_id": "51a9aabb52d54db3ac0cb58b70c7177c",
       "version_major": 2,
       "version_minor": 0
      },
      "text/plain": [
       "HBox(children=(FloatProgress(value=0.0, description='Executing', max=38.0, style=ProgressStyle(description_wid…"
      ]
     },
     "metadata": {},
     "output_type": "display_data"
    },
    {
     "name": "stdout",
     "output_type": "stream",
     "text": [
      "\n",
      "T169_2019_02_28_Notebook_4_a: This session already exists - no need to re-run ;)\n",
      "T169_2019_02_28_Notebook_4_b: This session already exists - no need to re-run ;)\n",
      "T169_2019_02_28_Notebook_4_c: This session already exists - no need to re-run ;)\n",
      "T169_2019_02_28_Notebook_4_d: This session already exists - no need to re-run ;)\n",
      "2019_02_28__T169_T169-142051\n",
      "Notebook_5_a.ipynb is being executed\n"
     ]
    },
    {
     "data": {
      "application/vnd.jupyter.widget-view+json": {
       "model_id": "cfb766bae52b4cdb8068914458c6854f",
       "version_major": 2,
       "version_minor": 0
      },
      "text/plain": [
       "HBox(children=(FloatProgress(value=0.0, description='Executing', max=18.0, style=ProgressStyle(description_wid…"
      ]
     },
     "metadata": {},
     "output_type": "display_data"
    },
    {
     "name": "stdout",
     "output_type": "stream",
     "text": [
      "\n",
      "2019_02_28__T169_T169-142051\n",
      "Notebook_6_b.ipynb is being executed\n"
     ]
    },
    {
     "data": {
      "application/vnd.jupyter.widget-view+json": {
       "model_id": "13202be414ba4f3ebc52cae64ae90f8c",
       "version_major": 2,
       "version_minor": 0
      },
      "text/plain": [
       "HBox(children=(FloatProgress(value=0.0, description='Executing', max=12.0, style=ProgressStyle(description_wid…"
      ]
     },
     "metadata": {},
     "output_type": "display_data"
    },
    {
     "name": "stdout",
     "output_type": "stream",
     "text": [
      "\n",
      "2019_02_28__T169_T169-142051\n",
      "Notebook_7_a.ipynb is being executed\n"
     ]
    },
    {
     "data": {
      "application/vnd.jupyter.widget-view+json": {
       "model_id": "1deefd9cbd86427686f2729a2dc3add0",
       "version_major": 2,
       "version_minor": 0
      },
      "text/plain": [
       "HBox(children=(FloatProgress(value=0.0, description='Executing', max=6.0, style=ProgressStyle(description_widt…"
      ]
     },
     "metadata": {},
     "output_type": "display_data"
    },
    {
     "name": "stdout",
     "output_type": "stream",
     "text": [
      "\n",
      "T169_2019_02_21_Notebook_0_a: This session already exists - no need to re-run ;)\n",
      "T169_2019_02_21_Notebook_1_b: This session already exists - no need to re-run ;)\n",
      "T169_2019_02_21_Notebook_2_b: This session already exists - no need to re-run ;)\n",
      "2019_02_21__T169_T169-141159\n",
      "Notebook_3_j.ipynb is being executed\n"
     ]
    },
    {
     "data": {
      "application/vnd.jupyter.widget-view+json": {
       "model_id": "b82ca9990a584f77a004d94a804392f9",
       "version_major": 2,
       "version_minor": 0
      },
      "text/plain": [
       "HBox(children=(FloatProgress(value=0.0, description='Executing', max=38.0, style=ProgressStyle(description_wid…"
      ]
     },
     "metadata": {},
     "output_type": "display_data"
    },
    {
     "name": "stdout",
     "output_type": "stream",
     "text": [
      "\n",
      "T169_2019_02_21_Notebook_4_a: This session already exists - no need to re-run ;)\n",
      "T169_2019_02_21_Notebook_4_b: This session already exists - no need to re-run ;)\n",
      "T169_2019_02_21_Notebook_4_c: This session already exists - no need to re-run ;)\n",
      "T169_2019_02_21_Notebook_4_d: This session already exists - no need to re-run ;)\n",
      "2019_02_21__T169_T169-141159\n",
      "Notebook_5_a.ipynb is being executed\n"
     ]
    },
    {
     "data": {
      "application/vnd.jupyter.widget-view+json": {
       "model_id": "7278509cf60541819da9b634f5591a76",
       "version_major": 2,
       "version_minor": 0
      },
      "text/plain": [
       "HBox(children=(FloatProgress(value=0.0, description='Executing', max=18.0, style=ProgressStyle(description_wid…"
      ]
     },
     "metadata": {},
     "output_type": "display_data"
    },
    {
     "name": "stdout",
     "output_type": "stream",
     "text": [
      "\n",
      "2019_02_21__T169_T169-141159\n",
      "Notebook_6_b.ipynb is being executed\n"
     ]
    },
    {
     "data": {
      "application/vnd.jupyter.widget-view+json": {
       "model_id": "498be11380b64eee95650f10637937db",
       "version_major": 2,
       "version_minor": 0
      },
      "text/plain": [
       "HBox(children=(FloatProgress(value=0.0, description='Executing', max=12.0, style=ProgressStyle(description_wid…"
      ]
     },
     "metadata": {},
     "output_type": "display_data"
    },
    {
     "name": "stdout",
     "output_type": "stream",
     "text": [
      "\n",
      "2019_02_21__T169_T169-141159\n",
      "Notebook_7_a.ipynb is being executed\n"
     ]
    },
    {
     "data": {
      "application/vnd.jupyter.widget-view+json": {
       "model_id": "3c9a1e92dd8d46449eec6c803eb0b000",
       "version_major": 2,
       "version_minor": 0
      },
      "text/plain": [
       "HBox(children=(FloatProgress(value=0.0, description='Executing', max=6.0, style=ProgressStyle(description_widt…"
      ]
     },
     "metadata": {},
     "output_type": "display_data"
    },
    {
     "name": "stdout",
     "output_type": "stream",
     "text": [
      "\n",
      "T171_2019_02_19_Notebook_0_a: This session already exists - no need to re-run ;)\n",
      "T171_2019_02_19_Notebook_1_b: This session already exists - no need to re-run ;)\n",
      "T171_2019_02_19_Notebook_2_b: This session already exists - no need to re-run ;)\n",
      "2019_02_19__T171_T171-150804\n",
      "Notebook_3_j.ipynb is being executed\n"
     ]
    },
    {
     "data": {
      "application/vnd.jupyter.widget-view+json": {
       "model_id": "af2e919ca9914e4a9d996872258039cc",
       "version_major": 2,
       "version_minor": 0
      },
      "text/plain": [
       "HBox(children=(FloatProgress(value=0.0, description='Executing', max=38.0, style=ProgressStyle(description_wid…"
      ]
     },
     "metadata": {},
     "output_type": "display_data"
    },
    {
     "name": "stdout",
     "output_type": "stream",
     "text": [
      "\n",
      "T171_2019_02_19_Notebook_4_a: This session already exists - no need to re-run ;)\n",
      "T171_2019_02_19_Notebook_4_b: This session already exists - no need to re-run ;)\n",
      "T171_2019_02_19_Notebook_4_c: This session already exists - no need to re-run ;)\n",
      "T171_2019_02_19_Notebook_4_d: This session already exists - no need to re-run ;)\n",
      "2019_02_19__T171_T171-150804\n",
      "Notebook_5_a.ipynb is being executed\n"
     ]
    },
    {
     "data": {
      "application/vnd.jupyter.widget-view+json": {
       "model_id": "02c16f0ec79a4a9c9b17e3c305fb9566",
       "version_major": 2,
       "version_minor": 0
      },
      "text/plain": [
       "HBox(children=(FloatProgress(value=0.0, description='Executing', max=18.0, style=ProgressStyle(description_wid…"
      ]
     },
     "metadata": {},
     "output_type": "display_data"
    },
    {
     "name": "stdout",
     "output_type": "stream",
     "text": [
      "\n",
      "2019_02_19__T171_T171-150804\n",
      "Notebook_6_b.ipynb is being executed\n"
     ]
    },
    {
     "data": {
      "application/vnd.jupyter.widget-view+json": {
       "model_id": "de55647adbc04259868ae40317c04af9",
       "version_major": 2,
       "version_minor": 0
      },
      "text/plain": [
       "HBox(children=(FloatProgress(value=0.0, description='Executing', max=12.0, style=ProgressStyle(description_wid…"
      ]
     },
     "metadata": {},
     "output_type": "display_data"
    },
    {
     "name": "stdout",
     "output_type": "stream",
     "text": [
      "\n",
      "2019_02_19__T171_T171-150804\n",
      "Notebook_7_a.ipynb is being executed\n"
     ]
    },
    {
     "data": {
      "application/vnd.jupyter.widget-view+json": {
       "model_id": "3e7a188157d34e4390331ed42ba52a85",
       "version_major": 2,
       "version_minor": 0
      },
      "text/plain": [
       "HBox(children=(FloatProgress(value=0.0, description='Executing', max=6.0, style=ProgressStyle(description_widt…"
      ]
     },
     "metadata": {},
     "output_type": "display_data"
    },
    {
     "name": "stdout",
     "output_type": "stream",
     "text": [
      "\n",
      "T171_2019_01_28_Notebook_0_a: This session already exists - no need to re-run ;)\n",
      "T171_2019_01_28_Notebook_1_b: This session already exists - no need to re-run ;)\n",
      "T171_2019_01_28_Notebook_2_b: This session already exists - no need to re-run ;)\n",
      "2019_01_28__T171_T171-144901\n",
      "Notebook_3_j.ipynb is being executed\n"
     ]
    },
    {
     "data": {
      "application/vnd.jupyter.widget-view+json": {
       "model_id": "2ed0cc36deff4ecc86b8d67307223f7e",
       "version_major": 2,
       "version_minor": 0
      },
      "text/plain": [
       "HBox(children=(FloatProgress(value=0.0, description='Executing', max=38.0, style=ProgressStyle(description_wid…"
      ]
     },
     "metadata": {},
     "output_type": "display_data"
    },
    {
     "name": "stdout",
     "output_type": "stream",
     "text": [
      "\n",
      "T171_2019_01_28_Notebook_4_a: This session already exists - no need to re-run ;)\n",
      "T171_2019_01_28_Notebook_4_b: This session already exists - no need to re-run ;)\n",
      "T171_2019_01_28_Notebook_4_c: This session already exists - no need to re-run ;)\n",
      "T171_2019_01_28_Notebook_4_d: This session already exists - no need to re-run ;)\n",
      "2019_01_28__T171_T171-144901\n",
      "Notebook_5_a.ipynb is being executed\n"
     ]
    },
    {
     "data": {
      "application/vnd.jupyter.widget-view+json": {
       "model_id": "c2c5d6a871534cad80bd3c179bf94b5f",
       "version_major": 2,
       "version_minor": 0
      },
      "text/plain": [
       "HBox(children=(FloatProgress(value=0.0, description='Executing', max=18.0, style=ProgressStyle(description_wid…"
      ]
     },
     "metadata": {},
     "output_type": "display_data"
    },
    {
     "name": "stdout",
     "output_type": "stream",
     "text": [
      "\n",
      "2019_01_28__T171_T171-144901\n",
      "Notebook_6_b.ipynb is being executed\n"
     ]
    },
    {
     "data": {
      "application/vnd.jupyter.widget-view+json": {
       "model_id": "6dbbc6dfa17b4dcfa65db39d7777d2f8",
       "version_major": 2,
       "version_minor": 0
      },
      "text/plain": [
       "HBox(children=(FloatProgress(value=0.0, description='Executing', max=12.0, style=ProgressStyle(description_wid…"
      ]
     },
     "metadata": {},
     "output_type": "display_data"
    },
    {
     "name": "stdout",
     "output_type": "stream",
     "text": [
      "\n",
      "2019_01_28__T171_T171-144901\n",
      "Notebook_7_a.ipynb is being executed\n"
     ]
    },
    {
     "data": {
      "application/vnd.jupyter.widget-view+json": {
       "model_id": "23d85d3a36604030a9c30a765701fc1a",
       "version_major": 2,
       "version_minor": 0
      },
      "text/plain": [
       "HBox(children=(FloatProgress(value=0.0, description='Executing', max=6.0, style=ProgressStyle(description_widt…"
      ]
     },
     "metadata": {},
     "output_type": "display_data"
    },
    {
     "name": "stdout",
     "output_type": "stream",
     "text": [
      "\n",
      "T171_2019_03_01_Notebook_0_a: This session already exists - no need to re-run ;)\n",
      "T171_2019_03_01_Notebook_1_b: This session already exists - no need to re-run ;)\n",
      "T171_2019_03_01_Notebook_2_b: This session already exists - no need to re-run ;)\n",
      "2019_03_01__T171_T171-144116\n",
      "Notebook_3_j.ipynb is being executed\n"
     ]
    },
    {
     "data": {
      "application/vnd.jupyter.widget-view+json": {
       "model_id": "c3e187633f7a4092a2349431b8d8e03c",
       "version_major": 2,
       "version_minor": 0
      },
      "text/plain": [
       "HBox(children=(FloatProgress(value=0.0, description='Executing', max=38.0, style=ProgressStyle(description_wid…"
      ]
     },
     "metadata": {},
     "output_type": "display_data"
    },
    {
     "name": "stdout",
     "output_type": "stream",
     "text": [
      "\n",
      "T171_2019_03_01_Notebook_4_a: This session already exists - no need to re-run ;)\n",
      "T171_2019_03_01_Notebook_4_b: This session already exists - no need to re-run ;)\n",
      "T171_2019_03_01_Notebook_4_c: This session already exists - no need to re-run ;)\n",
      "T171_2019_03_01_Notebook_4_d: This session already exists - no need to re-run ;)\n",
      "2019_03_01__T171_T171-144116\n",
      "Notebook_5_a.ipynb is being executed\n"
     ]
    },
    {
     "data": {
      "application/vnd.jupyter.widget-view+json": {
       "model_id": "e7edc26710064ab1a151d68a4a73d82e",
       "version_major": 2,
       "version_minor": 0
      },
      "text/plain": [
       "HBox(children=(FloatProgress(value=0.0, description='Executing', max=18.0, style=ProgressStyle(description_wid…"
      ]
     },
     "metadata": {},
     "output_type": "display_data"
    },
    {
     "name": "stdout",
     "output_type": "stream",
     "text": [
      "\n",
      "2019_03_01__T171_T171-144116\n",
      "Notebook_6_b.ipynb is being executed\n"
     ]
    },
    {
     "data": {
      "application/vnd.jupyter.widget-view+json": {
       "model_id": "524ef8bf682e4abeb8cc848fad7ca14b",
       "version_major": 2,
       "version_minor": 0
      },
      "text/plain": [
       "HBox(children=(FloatProgress(value=0.0, description='Executing', max=12.0, style=ProgressStyle(description_wid…"
      ]
     },
     "metadata": {},
     "output_type": "display_data"
    },
    {
     "name": "stdout",
     "output_type": "stream",
     "text": [
      "\n",
      "2019_03_01__T171_T171-144116\n",
      "Notebook_7_a.ipynb is being executed\n"
     ]
    },
    {
     "data": {
      "application/vnd.jupyter.widget-view+json": {
       "model_id": "c61d51c174ee4f99a2d49ca8ef92259c",
       "version_major": 2,
       "version_minor": 0
      },
      "text/plain": [
       "HBox(children=(FloatProgress(value=0.0, description='Executing', max=6.0, style=ProgressStyle(description_widt…"
      ]
     },
     "metadata": {},
     "output_type": "display_data"
    },
    {
     "name": "stdout",
     "output_type": "stream",
     "text": [
      "\n",
      "T171_2019_01_23_Notebook_0_a: This session already exists - no need to re-run ;)\n",
      "T171_2019_01_23_Notebook_1_b: This session already exists - no need to re-run ;)\n",
      "T171_2019_01_23_Notebook_2_b: This session already exists - no need to re-run ;)\n",
      "2019_01_23__T171_T171-165937\n",
      "Notebook_3_j.ipynb is being executed\n"
     ]
    },
    {
     "data": {
      "application/vnd.jupyter.widget-view+json": {
       "model_id": "9196967bda464c1f8b1b4a9910cf49c3",
       "version_major": 2,
       "version_minor": 0
      },
      "text/plain": [
       "HBox(children=(FloatProgress(value=0.0, description='Executing', max=38.0, style=ProgressStyle(description_wid…"
      ]
     },
     "metadata": {},
     "output_type": "display_data"
    },
    {
     "name": "stdout",
     "output_type": "stream",
     "text": [
      "\n",
      "T171_2019_01_23_Notebook_4_a: This session already exists - no need to re-run ;)\n",
      "T171_2019_01_23_Notebook_4_b: This session already exists - no need to re-run ;)\n",
      "T171_2019_01_23_Notebook_4_c: This session already exists - no need to re-run ;)\n",
      "T171_2019_01_23_Notebook_4_d: This session already exists - no need to re-run ;)\n",
      "2019_01_23__T171_T171-165937\n",
      "Notebook_5_a.ipynb is being executed\n"
     ]
    },
    {
     "data": {
      "application/vnd.jupyter.widget-view+json": {
       "model_id": "8bbd8a0703b640a5bd13e6b7e6e7af8e",
       "version_major": 2,
       "version_minor": 0
      },
      "text/plain": [
       "HBox(children=(FloatProgress(value=0.0, description='Executing', max=18.0, style=ProgressStyle(description_wid…"
      ]
     },
     "metadata": {},
     "output_type": "display_data"
    },
    {
     "name": "stdout",
     "output_type": "stream",
     "text": [
      "\n",
      "2019_01_23__T171_T171-165937\n",
      "Notebook_6_b.ipynb is being executed\n"
     ]
    },
    {
     "data": {
      "application/vnd.jupyter.widget-view+json": {
       "model_id": "a271e5cee54a4e299f87b336a579aa40",
       "version_major": 2,
       "version_minor": 0
      },
      "text/plain": [
       "HBox(children=(FloatProgress(value=0.0, description='Executing', max=12.0, style=ProgressStyle(description_wid…"
      ]
     },
     "metadata": {},
     "output_type": "display_data"
    },
    {
     "name": "stdout",
     "output_type": "stream",
     "text": [
      "\n",
      "2019_01_23__T171_T171-165937\n",
      "Notebook_7_a.ipynb is being executed\n"
     ]
    },
    {
     "data": {
      "application/vnd.jupyter.widget-view+json": {
       "model_id": "31b41a1685884923b1d40d5c75586c36",
       "version_major": 2,
       "version_minor": 0
      },
      "text/plain": [
       "HBox(children=(FloatProgress(value=0.0, description='Executing', max=6.0, style=ProgressStyle(description_widt…"
      ]
     },
     "metadata": {},
     "output_type": "display_data"
    },
    {
     "name": "stdout",
     "output_type": "stream",
     "text": [
      "\n",
      "T171_2019_02_21_Notebook_0_a: This session already exists - no need to re-run ;)\n",
      "T171_2019_02_21_Notebook_1_b: This session already exists - no need to re-run ;)\n",
      "T171_2019_02_21_Notebook_2_b: This session already exists - no need to re-run ;)\n",
      "2019_02_21__T171_T171-152107\n",
      "Notebook_3_j.ipynb is being executed\n"
     ]
    },
    {
     "data": {
      "application/vnd.jupyter.widget-view+json": {
       "model_id": "b8de33ad47574d2ba45af473268494fc",
       "version_major": 2,
       "version_minor": 0
      },
      "text/plain": [
       "HBox(children=(FloatProgress(value=0.0, description='Executing', max=38.0, style=ProgressStyle(description_wid…"
      ]
     },
     "metadata": {},
     "output_type": "display_data"
    },
    {
     "name": "stdout",
     "output_type": "stream",
     "text": [
      "\n",
      "T171_2019_02_21_Notebook_4_a: This session already exists - no need to re-run ;)\n",
      "T171_2019_02_21_Notebook_4_b: This session already exists - no need to re-run ;)\n",
      "T171_2019_02_21_Notebook_4_c: This session already exists - no need to re-run ;)\n",
      "T171_2019_02_21_Notebook_4_d: This session already exists - no need to re-run ;)\n",
      "2019_02_21__T171_T171-152107\n",
      "Notebook_5_a.ipynb is being executed\n"
     ]
    },
    {
     "data": {
      "application/vnd.jupyter.widget-view+json": {
       "model_id": "5f3216723d3345cfbd3f5ba5b93cffc8",
       "version_major": 2,
       "version_minor": 0
      },
      "text/plain": [
       "HBox(children=(FloatProgress(value=0.0, description='Executing', max=18.0, style=ProgressStyle(description_wid…"
      ]
     },
     "metadata": {},
     "output_type": "display_data"
    },
    {
     "name": "stdout",
     "output_type": "stream",
     "text": [
      "\n",
      "2019_02_21__T171_T171-152107\n",
      "Notebook_6_b.ipynb is being executed\n"
     ]
    },
    {
     "data": {
      "application/vnd.jupyter.widget-view+json": {
       "model_id": "50760e204c534cd5893e17363ad25e2d",
       "version_major": 2,
       "version_minor": 0
      },
      "text/plain": [
       "HBox(children=(FloatProgress(value=0.0, description='Executing', max=12.0, style=ProgressStyle(description_wid…"
      ]
     },
     "metadata": {},
     "output_type": "display_data"
    },
    {
     "name": "stdout",
     "output_type": "stream",
     "text": [
      "\n",
      "2019_02_21__T171_T171-152107\n",
      "Notebook_7_a.ipynb is being executed\n"
     ]
    },
    {
     "data": {
      "application/vnd.jupyter.widget-view+json": {
       "model_id": "9aa51778aca5439cb9887bad02e9f52f",
       "version_major": 2,
       "version_minor": 0
      },
      "text/plain": [
       "HBox(children=(FloatProgress(value=0.0, description='Executing', max=6.0, style=ProgressStyle(description_widt…"
      ]
     },
     "metadata": {},
     "output_type": "display_data"
    },
    {
     "name": "stdout",
     "output_type": "stream",
     "text": [
      "\n",
      "T171_2019_02_13_Notebook_0_a: This session already exists - no need to re-run ;)\n",
      "T171_2019_02_13_Notebook_1_b: This session already exists - no need to re-run ;)\n",
      "T171_2019_02_13_Notebook_2_b: This session already exists - no need to re-run ;)\n",
      "2019_02_13__T171_T171-151952\n",
      "Notebook_3_j.ipynb is being executed\n"
     ]
    },
    {
     "data": {
      "application/vnd.jupyter.widget-view+json": {
       "model_id": "daac9fab64c942729b6970967a43a1e9",
       "version_major": 2,
       "version_minor": 0
      },
      "text/plain": [
       "HBox(children=(FloatProgress(value=0.0, description='Executing', max=38.0, style=ProgressStyle(description_wid…"
      ]
     },
     "metadata": {},
     "output_type": "display_data"
    },
    {
     "name": "stdout",
     "output_type": "stream",
     "text": [
      "\n",
      "T171_2019_02_13_Notebook_4_a: This session already exists - no need to re-run ;)\n",
      "T171_2019_02_13_Notebook_4_b: This session already exists - no need to re-run ;)\n",
      "T171_2019_02_13_Notebook_4_c: This session already exists - no need to re-run ;)\n",
      "T171_2019_02_13_Notebook_4_d: This session already exists - no need to re-run ;)\n",
      "2019_02_13__T171_T171-151952\n",
      "Notebook_5_a.ipynb is being executed\n"
     ]
    },
    {
     "data": {
      "application/vnd.jupyter.widget-view+json": {
       "model_id": "61dcc9ed438544db942820c822909481",
       "version_major": 2,
       "version_minor": 0
      },
      "text/plain": [
       "HBox(children=(FloatProgress(value=0.0, description='Executing', max=18.0, style=ProgressStyle(description_wid…"
      ]
     },
     "metadata": {},
     "output_type": "display_data"
    },
    {
     "name": "stdout",
     "output_type": "stream",
     "text": [
      "\n",
      "2019_02_13__T171_T171-151952\n",
      "Notebook_6_b.ipynb is being executed\n"
     ]
    },
    {
     "data": {
      "application/vnd.jupyter.widget-view+json": {
       "model_id": "5adee6ff02904aafae727307077b974e",
       "version_major": 2,
       "version_minor": 0
      },
      "text/plain": [
       "HBox(children=(FloatProgress(value=0.0, description='Executing', max=12.0, style=ProgressStyle(description_wid…"
      ]
     },
     "metadata": {},
     "output_type": "display_data"
    },
    {
     "name": "stdout",
     "output_type": "stream",
     "text": [
      "\n",
      "2019_02_13__T171_T171-151952\n",
      "Notebook_7_a.ipynb is being executed\n"
     ]
    },
    {
     "data": {
      "application/vnd.jupyter.widget-view+json": {
       "model_id": "8619a11fba2644f5a1a1dd33a15ba4b0",
       "version_major": 2,
       "version_minor": 0
      },
      "text/plain": [
       "HBox(children=(FloatProgress(value=0.0, description='Executing', max=6.0, style=ProgressStyle(description_widt…"
      ]
     },
     "metadata": {},
     "output_type": "display_data"
    },
    {
     "name": "stdout",
     "output_type": "stream",
     "text": [
      "\n",
      "T171_2019_02_26_Notebook_0_a: This session already exists - no need to re-run ;)\n",
      "T171_2019_02_26_Notebook_1_b: This session already exists - no need to re-run ;)\n",
      "T171_2019_02_26_Notebook_2_b: This session already exists - no need to re-run ;)\n",
      "2019_02_26__T171_T171-145215\n",
      "Notebook_3_j.ipynb is being executed\n"
     ]
    },
    {
     "data": {
      "application/vnd.jupyter.widget-view+json": {
       "model_id": "d2aa43010e364e0e89402b5083eb544c",
       "version_major": 2,
       "version_minor": 0
      },
      "text/plain": [
       "HBox(children=(FloatProgress(value=0.0, description='Executing', max=38.0, style=ProgressStyle(description_wid…"
      ]
     },
     "metadata": {},
     "output_type": "display_data"
    },
    {
     "name": "stdout",
     "output_type": "stream",
     "text": [
      "\n",
      "T171_2019_02_26_Notebook_4_a: This session already exists - no need to re-run ;)\n",
      "T171_2019_02_26_Notebook_4_b: This session already exists - no need to re-run ;)\n",
      "T171_2019_02_26_Notebook_4_c: This session already exists - no need to re-run ;)\n",
      "T171_2019_02_26_Notebook_4_d: This session already exists - no need to re-run ;)\n",
      "2019_02_26__T171_T171-145215\n",
      "Notebook_5_a.ipynb is being executed\n"
     ]
    },
    {
     "data": {
      "application/vnd.jupyter.widget-view+json": {
       "model_id": "7d2cd3b27ad246c7837192058bc0234e",
       "version_major": 2,
       "version_minor": 0
      },
      "text/plain": [
       "HBox(children=(FloatProgress(value=0.0, description='Executing', max=18.0, style=ProgressStyle(description_wid…"
      ]
     },
     "metadata": {},
     "output_type": "display_data"
    },
    {
     "name": "stdout",
     "output_type": "stream",
     "text": [
      "\n",
      "2019_02_26__T171_T171-145215\n",
      "Notebook_6_b.ipynb is being executed\n"
     ]
    },
    {
     "data": {
      "application/vnd.jupyter.widget-view+json": {
       "model_id": "fb71110986284c528ea491233e503ef6",
       "version_major": 2,
       "version_minor": 0
      },
      "text/plain": [
       "HBox(children=(FloatProgress(value=0.0, description='Executing', max=12.0, style=ProgressStyle(description_wid…"
      ]
     },
     "metadata": {},
     "output_type": "display_data"
    },
    {
     "name": "stdout",
     "output_type": "stream",
     "text": [
      "\n",
      "2019_02_26__T171_T171-145215\n",
      "Notebook_7_a.ipynb is being executed\n"
     ]
    },
    {
     "data": {
      "application/vnd.jupyter.widget-view+json": {
       "model_id": "fbed71e1a1d64099bffc48a4fff7cc05",
       "version_major": 2,
       "version_minor": 0
      },
      "text/plain": [
       "HBox(children=(FloatProgress(value=0.0, description='Executing', max=6.0, style=ProgressStyle(description_widt…"
      ]
     },
     "metadata": {},
     "output_type": "display_data"
    },
    {
     "name": "stdout",
     "output_type": "stream",
     "text": [
      "\n",
      "T171_2019_01_22_Notebook_0_a: This session already exists - no need to re-run ;)\n",
      "T171_2019_01_22_Notebook_1_b: This session already exists - no need to re-run ;)\n",
      "T171_2019_01_22_Notebook_2_b: This session already exists - no need to re-run ;)\n",
      "2019_01_22__T171_T171-165215\n",
      "Notebook_3_j.ipynb is being executed\n"
     ]
    },
    {
     "data": {
      "application/vnd.jupyter.widget-view+json": {
       "model_id": "85205c07e0034a5db6ebf11e071b0bfa",
       "version_major": 2,
       "version_minor": 0
      },
      "text/plain": [
       "HBox(children=(FloatProgress(value=0.0, description='Executing', max=38.0, style=ProgressStyle(description_wid…"
      ]
     },
     "metadata": {},
     "output_type": "display_data"
    },
    {
     "name": "stdout",
     "output_type": "stream",
     "text": [
      "\n",
      "T171_2019_01_22_Notebook_4_a: This session already exists - no need to re-run ;)\n",
      "T171_2019_01_22_Notebook_4_b: This session already exists - no need to re-run ;)\n",
      "T171_2019_01_22_Notebook_4_c: This session already exists - no need to re-run ;)\n",
      "T171_2019_01_22_Notebook_4_d: This session already exists - no need to re-run ;)\n",
      "2019_01_22__T171_T171-165215\n",
      "Notebook_5_a.ipynb is being executed\n"
     ]
    },
    {
     "data": {
      "application/vnd.jupyter.widget-view+json": {
       "model_id": "cd37a56b640149f08462bbeb47f542dc",
       "version_major": 2,
       "version_minor": 0
      },
      "text/plain": [
       "HBox(children=(FloatProgress(value=0.0, description='Executing', max=18.0, style=ProgressStyle(description_wid…"
      ]
     },
     "metadata": {},
     "output_type": "display_data"
    },
    {
     "name": "stdout",
     "output_type": "stream",
     "text": [
      "\n",
      "2019_01_22__T171_T171-165215\n",
      "Notebook_6_b.ipynb is being executed\n"
     ]
    },
    {
     "data": {
      "application/vnd.jupyter.widget-view+json": {
       "model_id": "7ccd454a5f71425cadb877f822666797",
       "version_major": 2,
       "version_minor": 0
      },
      "text/plain": [
       "HBox(children=(FloatProgress(value=0.0, description='Executing', max=12.0, style=ProgressStyle(description_wid…"
      ]
     },
     "metadata": {},
     "output_type": "display_data"
    },
    {
     "name": "stdout",
     "output_type": "stream",
     "text": [
      "\n",
      "2019_01_22__T171_T171-165215\n",
      "Notebook_7_a.ipynb is being executed\n"
     ]
    },
    {
     "data": {
      "application/vnd.jupyter.widget-view+json": {
       "model_id": "6e4806e2ac624ff58e37d139aebf5b2c",
       "version_major": 2,
       "version_minor": 0
      },
      "text/plain": [
       "HBox(children=(FloatProgress(value=0.0, description='Executing', max=6.0, style=ProgressStyle(description_widt…"
      ]
     },
     "metadata": {},
     "output_type": "display_data"
    },
    {
     "name": "stdout",
     "output_type": "stream",
     "text": [
      "\n",
      "T171_2019_02_25_Notebook_0_a: This session already exists - no need to re-run ;)\n",
      "T171_2019_02_25_Notebook_1_b: This session already exists - no need to re-run ;)\n",
      "T171_2019_02_25_Notebook_2_b: This session already exists - no need to re-run ;)\n",
      "2019_02_25__T171_T171-152054\n",
      "Notebook_3_j.ipynb is being executed\n"
     ]
    },
    {
     "data": {
      "application/vnd.jupyter.widget-view+json": {
       "model_id": "01da0eb1f1f14b22a84f5d36aeea72e9",
       "version_major": 2,
       "version_minor": 0
      },
      "text/plain": [
       "HBox(children=(FloatProgress(value=0.0, description='Executing', max=38.0, style=ProgressStyle(description_wid…"
      ]
     },
     "metadata": {},
     "output_type": "display_data"
    },
    {
     "name": "stdout",
     "output_type": "stream",
     "text": [
      "\n",
      "T171_2019_02_25_Notebook_4_a: This session already exists - no need to re-run ;)\n",
      "T171_2019_02_25_Notebook_4_b: This session already exists - no need to re-run ;)\n",
      "T171_2019_02_25_Notebook_4_c: This session already exists - no need to re-run ;)\n",
      "T171_2019_02_25_Notebook_4_d: This session already exists - no need to re-run ;)\n",
      "2019_02_25__T171_T171-152054\n",
      "Notebook_5_a.ipynb is being executed\n"
     ]
    },
    {
     "data": {
      "application/vnd.jupyter.widget-view+json": {
       "model_id": "4db30181a2ba46579840955970cd6b9f",
       "version_major": 2,
       "version_minor": 0
      },
      "text/plain": [
       "HBox(children=(FloatProgress(value=0.0, description='Executing', max=18.0, style=ProgressStyle(description_wid…"
      ]
     },
     "metadata": {},
     "output_type": "display_data"
    },
    {
     "name": "stdout",
     "output_type": "stream",
     "text": [
      "\n",
      "2019_02_25__T171_T171-152054\n",
      "Notebook_6_b.ipynb is being executed\n"
     ]
    },
    {
     "data": {
      "application/vnd.jupyter.widget-view+json": {
       "model_id": "5317de1a9b6b46e2aef0cb8cb98b876f",
       "version_major": 2,
       "version_minor": 0
      },
      "text/plain": [
       "HBox(children=(FloatProgress(value=0.0, description='Executing', max=12.0, style=ProgressStyle(description_wid…"
      ]
     },
     "metadata": {},
     "output_type": "display_data"
    },
    {
     "name": "stdout",
     "output_type": "stream",
     "text": [
      "\n",
      "2019_02_25__T171_T171-152054\n",
      "Notebook_7_a.ipynb is being executed\n"
     ]
    },
    {
     "data": {
      "application/vnd.jupyter.widget-view+json": {
       "model_id": "3aac13cd2b5844adb0ccc322835f938d",
       "version_major": 2,
       "version_minor": 0
      },
      "text/plain": [
       "HBox(children=(FloatProgress(value=0.0, description='Executing', max=6.0, style=ProgressStyle(description_widt…"
      ]
     },
     "metadata": {},
     "output_type": "display_data"
    },
    {
     "name": "stdout",
     "output_type": "stream",
     "text": [
      "\n",
      "T171_2019_02_27_Notebook_0_a: This session already exists - no need to re-run ;)\n",
      "T171_2019_02_27_Notebook_1_b: This session already exists - no need to re-run ;)\n",
      "T171_2019_02_27_Notebook_2_b: This session already exists - no need to re-run ;)\n",
      "2019_02_27__T171_T171-162455\n",
      "Notebook_3_j.ipynb is being executed\n"
     ]
    },
    {
     "data": {
      "application/vnd.jupyter.widget-view+json": {
       "model_id": "48eeea35cad649e18fea4fb09aa43d0d",
       "version_major": 2,
       "version_minor": 0
      },
      "text/plain": [
       "HBox(children=(FloatProgress(value=0.0, description='Executing', max=38.0, style=ProgressStyle(description_wid…"
      ]
     },
     "metadata": {},
     "output_type": "display_data"
    },
    {
     "name": "stdout",
     "output_type": "stream",
     "text": [
      "\n",
      "T171_2019_02_27_Notebook_4_a: This session already exists - no need to re-run ;)\n",
      "T171_2019_02_27_Notebook_4_b: This session already exists - no need to re-run ;)\n",
      "T171_2019_02_27_Notebook_4_c: This session already exists - no need to re-run ;)\n",
      "T171_2019_02_27_Notebook_4_d: This session already exists - no need to re-run ;)\n",
      "2019_02_27__T171_T171-162455\n",
      "Notebook_5_a.ipynb is being executed\n"
     ]
    },
    {
     "data": {
      "application/vnd.jupyter.widget-view+json": {
       "model_id": "bad3032baab641d99cdc42882e535a62",
       "version_major": 2,
       "version_minor": 0
      },
      "text/plain": [
       "HBox(children=(FloatProgress(value=0.0, description='Executing', max=18.0, style=ProgressStyle(description_wid…"
      ]
     },
     "metadata": {},
     "output_type": "display_data"
    },
    {
     "name": "stdout",
     "output_type": "stream",
     "text": [
      "\n",
      "2019_02_27__T171_T171-162455\n",
      "Notebook_6_b.ipynb is being executed\n"
     ]
    },
    {
     "data": {
      "application/vnd.jupyter.widget-view+json": {
       "model_id": "72318780fd1e4e288b174f3db14408d3",
       "version_major": 2,
       "version_minor": 0
      },
      "text/plain": [
       "HBox(children=(FloatProgress(value=0.0, description='Executing', max=12.0, style=ProgressStyle(description_wid…"
      ]
     },
     "metadata": {},
     "output_type": "display_data"
    },
    {
     "name": "stdout",
     "output_type": "stream",
     "text": [
      "\n",
      "2019_02_27__T171_T171-162455\n",
      "Notebook_7_a.ipynb is being executed\n"
     ]
    },
    {
     "data": {
      "application/vnd.jupyter.widget-view+json": {
       "model_id": "61cfe6b0a8b04833b72d235e10e0f450",
       "version_major": 2,
       "version_minor": 0
      },
      "text/plain": [
       "HBox(children=(FloatProgress(value=0.0, description='Executing', max=6.0, style=ProgressStyle(description_widt…"
      ]
     },
     "metadata": {},
     "output_type": "display_data"
    },
    {
     "name": "stdout",
     "output_type": "stream",
     "text": [
      "\n",
      "T171_2019_02_14_Notebook_0_a: This session already exists - no need to re-run ;)\n",
      "T171_2019_02_14_Notebook_1_b: This session already exists - no need to re-run ;)\n",
      "T171_2019_02_14_Notebook_2_b: This session already exists - no need to re-run ;)\n",
      "2019_02_14__T171_T171-155052\n",
      "Notebook_3_j.ipynb is being executed\n"
     ]
    },
    {
     "data": {
      "application/vnd.jupyter.widget-view+json": {
       "model_id": "8a58372cfed24386b87037c737fd0ce0",
       "version_major": 2,
       "version_minor": 0
      },
      "text/plain": [
       "HBox(children=(FloatProgress(value=0.0, description='Executing', max=38.0, style=ProgressStyle(description_wid…"
      ]
     },
     "metadata": {},
     "output_type": "display_data"
    },
    {
     "name": "stdout",
     "output_type": "stream",
     "text": [
      "\n",
      "T171_2019_02_14_Notebook_4_a: This session already exists - no need to re-run ;)\n",
      "T171_2019_02_14_Notebook_4_b: This session already exists - no need to re-run ;)\n",
      "T171_2019_02_14_Notebook_4_c: This session already exists - no need to re-run ;)\n",
      "T171_2019_02_14_Notebook_4_d: This session already exists - no need to re-run ;)\n",
      "2019_02_14__T171_T171-155052\n",
      "Notebook_5_a.ipynb is being executed\n"
     ]
    },
    {
     "data": {
      "application/vnd.jupyter.widget-view+json": {
       "model_id": "33db39a61a204ccab796bdc72f8b6b25",
       "version_major": 2,
       "version_minor": 0
      },
      "text/plain": [
       "HBox(children=(FloatProgress(value=0.0, description='Executing', max=18.0, style=ProgressStyle(description_wid…"
      ]
     },
     "metadata": {},
     "output_type": "display_data"
    },
    {
     "name": "stdout",
     "output_type": "stream",
     "text": [
      "\n",
      "2019_02_14__T171_T171-155052\n",
      "Notebook_6_b.ipynb is being executed\n"
     ]
    },
    {
     "data": {
      "application/vnd.jupyter.widget-view+json": {
       "model_id": "0ba1af092e6944ac80dbe2b6c14aa976",
       "version_major": 2,
       "version_minor": 0
      },
      "text/plain": [
       "HBox(children=(FloatProgress(value=0.0, description='Executing', max=12.0, style=ProgressStyle(description_wid…"
      ]
     },
     "metadata": {},
     "output_type": "display_data"
    },
    {
     "name": "stdout",
     "output_type": "stream",
     "text": [
      "\n",
      "2019_02_14__T171_T171-155052\n",
      "Notebook_7_a.ipynb is being executed\n"
     ]
    },
    {
     "data": {
      "application/vnd.jupyter.widget-view+json": {
       "model_id": "796d6c8e1c7944c9803b6e560792e466",
       "version_major": 2,
       "version_minor": 0
      },
      "text/plain": [
       "HBox(children=(FloatProgress(value=0.0, description='Executing', max=6.0, style=ProgressStyle(description_widt…"
      ]
     },
     "metadata": {},
     "output_type": "display_data"
    },
    {
     "name": "stdout",
     "output_type": "stream",
     "text": [
      "\n",
      "T171_2019_02_20_Notebook_0_a: This session already exists - no need to re-run ;)\n",
      "T171_2019_02_20_Notebook_1_b: This session already exists - no need to re-run ;)\n",
      "T171_2019_02_20_Notebook_2_b: This session already exists - no need to re-run ;)\n",
      "2019_02_20__T171_T171-153511\n",
      "Notebook_3_j.ipynb is being executed\n"
     ]
    },
    {
     "data": {
      "application/vnd.jupyter.widget-view+json": {
       "model_id": "bbcafa7dee2c4cd28f423919c81edb64",
       "version_major": 2,
       "version_minor": 0
      },
      "text/plain": [
       "HBox(children=(FloatProgress(value=0.0, description='Executing', max=38.0, style=ProgressStyle(description_wid…"
      ]
     },
     "metadata": {},
     "output_type": "display_data"
    },
    {
     "name": "stdout",
     "output_type": "stream",
     "text": [
      "\n",
      "T171_2019_02_20_Notebook_4_a: This session already exists - no need to re-run ;)\n",
      "T171_2019_02_20_Notebook_4_b: This session already exists - no need to re-run ;)\n",
      "T171_2019_02_20_Notebook_4_c: This session already exists - no need to re-run ;)\n",
      "T171_2019_02_20_Notebook_4_d: This session already exists - no need to re-run ;)\n",
      "2019_02_20__T171_T171-153511\n",
      "Notebook_5_a.ipynb is being executed\n"
     ]
    },
    {
     "data": {
      "application/vnd.jupyter.widget-view+json": {
       "model_id": "d4d314df7a8241e18f5f283c297eae68",
       "version_major": 2,
       "version_minor": 0
      },
      "text/plain": [
       "HBox(children=(FloatProgress(value=0.0, description='Executing', max=18.0, style=ProgressStyle(description_wid…"
      ]
     },
     "metadata": {},
     "output_type": "display_data"
    },
    {
     "name": "stdout",
     "output_type": "stream",
     "text": [
      "\n",
      "2019_02_20__T171_T171-153511\n",
      "Notebook_6_b.ipynb is being executed\n"
     ]
    },
    {
     "data": {
      "application/vnd.jupyter.widget-view+json": {
       "model_id": "9da1ef64497c46fa8210d8581784a1b7",
       "version_major": 2,
       "version_minor": 0
      },
      "text/plain": [
       "HBox(children=(FloatProgress(value=0.0, description='Executing', max=12.0, style=ProgressStyle(description_wid…"
      ]
     },
     "metadata": {},
     "output_type": "display_data"
    },
    {
     "name": "stdout",
     "output_type": "stream",
     "text": [
      "\n",
      "2019_02_20__T171_T171-153511\n",
      "Notebook_7_a.ipynb is being executed\n"
     ]
    },
    {
     "data": {
      "application/vnd.jupyter.widget-view+json": {
       "model_id": "acaf85a566d24b9798f0d6125a74df4f",
       "version_major": 2,
       "version_minor": 0
      },
      "text/plain": [
       "HBox(children=(FloatProgress(value=0.0, description='Executing', max=6.0, style=ProgressStyle(description_widt…"
      ]
     },
     "metadata": {},
     "output_type": "display_data"
    },
    {
     "name": "stdout",
     "output_type": "stream",
     "text": [
      "\n",
      "T171_2019_02_22_Notebook_0_a: This session already exists - no need to re-run ;)\n",
      "T171_2019_02_22_Notebook_1_b: This session already exists - no need to re-run ;)\n",
      "T171_2019_02_22_Notebook_2_b: This session already exists - no need to re-run ;)\n",
      "2019_02_22__T171_T171-145829\n",
      "Notebook_3_j.ipynb is being executed\n"
     ]
    },
    {
     "data": {
      "application/vnd.jupyter.widget-view+json": {
       "model_id": "db0d55ca559c4826a57e74b047ef685b",
       "version_major": 2,
       "version_minor": 0
      },
      "text/plain": [
       "HBox(children=(FloatProgress(value=0.0, description='Executing', max=38.0, style=ProgressStyle(description_wid…"
      ]
     },
     "metadata": {},
     "output_type": "display_data"
    },
    {
     "name": "stdout",
     "output_type": "stream",
     "text": [
      "\n",
      "T171_2019_02_22_Notebook_4_a: This session already exists - no need to re-run ;)\n",
      "T171_2019_02_22_Notebook_4_b: This session already exists - no need to re-run ;)\n",
      "T171_2019_02_22_Notebook_4_c: This session already exists - no need to re-run ;)\n",
      "T171_2019_02_22_Notebook_4_d: This session already exists - no need to re-run ;)\n",
      "2019_02_22__T171_T171-145829\n",
      "Notebook_5_a.ipynb is being executed\n"
     ]
    },
    {
     "data": {
      "application/vnd.jupyter.widget-view+json": {
       "model_id": "f3a1dff0962c4d2f9bc331676f4573d5",
       "version_major": 2,
       "version_minor": 0
      },
      "text/plain": [
       "HBox(children=(FloatProgress(value=0.0, description='Executing', max=18.0, style=ProgressStyle(description_wid…"
      ]
     },
     "metadata": {},
     "output_type": "display_data"
    },
    {
     "name": "stdout",
     "output_type": "stream",
     "text": [
      "\n",
      "2019_02_22__T171_T171-145829\n",
      "Notebook_6_b.ipynb is being executed\n"
     ]
    },
    {
     "data": {
      "application/vnd.jupyter.widget-view+json": {
       "model_id": "d2b9a0a3827045e78bbc7f9768f69a54",
       "version_major": 2,
       "version_minor": 0
      },
      "text/plain": [
       "HBox(children=(FloatProgress(value=0.0, description='Executing', max=12.0, style=ProgressStyle(description_wid…"
      ]
     },
     "metadata": {},
     "output_type": "display_data"
    },
    {
     "name": "stdout",
     "output_type": "stream",
     "text": [
      "\n",
      "2019_02_22__T171_T171-145829\n",
      "Notebook_7_a.ipynb is being executed\n"
     ]
    },
    {
     "data": {
      "application/vnd.jupyter.widget-view+json": {
       "model_id": "98cfa92a98504c289bdb06be7da09847",
       "version_major": 2,
       "version_minor": 0
      },
      "text/plain": [
       "HBox(children=(FloatProgress(value=0.0, description='Executing', max=6.0, style=ProgressStyle(description_widt…"
      ]
     },
     "metadata": {},
     "output_type": "display_data"
    },
    {
     "name": "stdout",
     "output_type": "stream",
     "text": [
      "\n",
      "T171_2019_02_08_Notebook_0_a: This session already exists - no need to re-run ;)\n",
      "T171_2019_02_08_Notebook_1_b: This session already exists - no need to re-run ;)\n",
      "T171_2019_02_08_Notebook_2_b: This session already exists - no need to re-run ;)\n",
      "2019_02_08__T171_T171-170021\n",
      "Notebook_3_j.ipynb is being executed\n"
     ]
    },
    {
     "data": {
      "application/vnd.jupyter.widget-view+json": {
       "model_id": "0910e91ad4c441318582e81ae8ed09fb",
       "version_major": 2,
       "version_minor": 0
      },
      "text/plain": [
       "HBox(children=(FloatProgress(value=0.0, description='Executing', max=38.0, style=ProgressStyle(description_wid…"
      ]
     },
     "metadata": {},
     "output_type": "display_data"
    },
    {
     "name": "stdout",
     "output_type": "stream",
     "text": [
      "\n",
      "T171_2019_02_08_Notebook_4_a: This session already exists - no need to re-run ;)\n",
      "T171_2019_02_08_Notebook_4_b: This session already exists - no need to re-run ;)\n",
      "T171_2019_02_08_Notebook_4_c: This session already exists - no need to re-run ;)\n",
      "T171_2019_02_08_Notebook_4_d: This session already exists - no need to re-run ;)\n",
      "2019_02_08__T171_T171-170021\n",
      "Notebook_5_a.ipynb is being executed\n"
     ]
    },
    {
     "data": {
      "application/vnd.jupyter.widget-view+json": {
       "model_id": "e073953cb08d47c086eace646e47f55d",
       "version_major": 2,
       "version_minor": 0
      },
      "text/plain": [
       "HBox(children=(FloatProgress(value=0.0, description='Executing', max=18.0, style=ProgressStyle(description_wid…"
      ]
     },
     "metadata": {},
     "output_type": "display_data"
    },
    {
     "name": "stdout",
     "output_type": "stream",
     "text": [
      "\n",
      "2019_02_08__T171_T171-170021\n",
      "Notebook_6_b.ipynb is being executed\n"
     ]
    },
    {
     "data": {
      "application/vnd.jupyter.widget-view+json": {
       "model_id": "0082109fd434477496374d56e1e0734d",
       "version_major": 2,
       "version_minor": 0
      },
      "text/plain": [
       "HBox(children=(FloatProgress(value=0.0, description='Executing', max=12.0, style=ProgressStyle(description_wid…"
      ]
     },
     "metadata": {},
     "output_type": "display_data"
    },
    {
     "name": "stdout",
     "output_type": "stream",
     "text": [
      "\n",
      "2019_02_08__T171_T171-170021\n",
      "Notebook_7_a.ipynb is being executed\n"
     ]
    },
    {
     "data": {
      "application/vnd.jupyter.widget-view+json": {
       "model_id": "20056c02138441cfaf50d3d032a2a1ee",
       "version_major": 2,
       "version_minor": 0
      },
      "text/plain": [
       "HBox(children=(FloatProgress(value=0.0, description='Executing', max=6.0, style=ProgressStyle(description_widt…"
      ]
     },
     "metadata": {},
     "output_type": "display_data"
    },
    {
     "name": "stdout",
     "output_type": "stream",
     "text": [
      "\n",
      "T171_2019_01_25_Notebook_0_a: This session already exists - no need to re-run ;)\n",
      "T171_2019_01_25_Notebook_1_b: This session already exists - no need to re-run ;)\n",
      "T171_2019_01_25_Notebook_2_b: This session already exists - no need to re-run ;)\n",
      "2019_01_25__T171_T171-153230\n",
      "Notebook_3_j.ipynb is being executed\n"
     ]
    },
    {
     "data": {
      "application/vnd.jupyter.widget-view+json": {
       "model_id": "ebf12d0e382c4ff0b9d18043013fec9b",
       "version_major": 2,
       "version_minor": 0
      },
      "text/plain": [
       "HBox(children=(FloatProgress(value=0.0, description='Executing', max=38.0, style=ProgressStyle(description_wid…"
      ]
     },
     "metadata": {},
     "output_type": "display_data"
    },
    {
     "name": "stdout",
     "output_type": "stream",
     "text": [
      "\n",
      "T171_2019_01_25_Notebook_4_a: This session already exists - no need to re-run ;)\n",
      "T171_2019_01_25_Notebook_4_b: This session already exists - no need to re-run ;)\n",
      "T171_2019_01_25_Notebook_4_c: This session already exists - no need to re-run ;)\n",
      "T171_2019_01_25_Notebook_4_d: This session already exists - no need to re-run ;)\n",
      "2019_01_25__T171_T171-153230\n",
      "Notebook_5_a.ipynb is being executed\n"
     ]
    },
    {
     "data": {
      "application/vnd.jupyter.widget-view+json": {
       "model_id": "f7230b7b09f040c6a8251e98287bc06e",
       "version_major": 2,
       "version_minor": 0
      },
      "text/plain": [
       "HBox(children=(FloatProgress(value=0.0, description='Executing', max=18.0, style=ProgressStyle(description_wid…"
      ]
     },
     "metadata": {},
     "output_type": "display_data"
    },
    {
     "name": "stdout",
     "output_type": "stream",
     "text": [
      "\n",
      "2019_01_25__T171_T171-153230\n",
      "Notebook_6_b.ipynb is being executed\n"
     ]
    },
    {
     "data": {
      "application/vnd.jupyter.widget-view+json": {
       "model_id": "4dec58f2fa91414693ab122dc00dbe33",
       "version_major": 2,
       "version_minor": 0
      },
      "text/plain": [
       "HBox(children=(FloatProgress(value=0.0, description='Executing', max=12.0, style=ProgressStyle(description_wid…"
      ]
     },
     "metadata": {},
     "output_type": "display_data"
    },
    {
     "name": "stdout",
     "output_type": "stream",
     "text": [
      "\n",
      "2019_01_25__T171_T171-153230\n",
      "Notebook_7_a.ipynb is being executed\n"
     ]
    },
    {
     "data": {
      "application/vnd.jupyter.widget-view+json": {
       "model_id": "fa2d6e141e154d83bf8d1963bddb0fd6",
       "version_major": 2,
       "version_minor": 0
      },
      "text/plain": [
       "HBox(children=(FloatProgress(value=0.0, description='Executing', max=6.0, style=ProgressStyle(description_widt…"
      ]
     },
     "metadata": {},
     "output_type": "display_data"
    },
    {
     "name": "stdout",
     "output_type": "stream",
     "text": [
      "\n",
      "T171_2019_02_28_Notebook_0_a: This session already exists - no need to re-run ;)\n",
      "T171_2019_02_28_Notebook_1_b: This session already exists - no need to re-run ;)\n",
      "T171_2019_02_28_Notebook_2_b: This session already exists - no need to re-run ;)\n",
      "2019_02_28__T171_T171-145243\n",
      "Notebook_3_j.ipynb is being executed\n"
     ]
    },
    {
     "data": {
      "application/vnd.jupyter.widget-view+json": {
       "model_id": "826d54d6ad734dcabf2c78c16533cf59",
       "version_major": 2,
       "version_minor": 0
      },
      "text/plain": [
       "HBox(children=(FloatProgress(value=0.0, description='Executing', max=38.0, style=ProgressStyle(description_wid…"
      ]
     },
     "metadata": {},
     "output_type": "display_data"
    },
    {
     "name": "stdout",
     "output_type": "stream",
     "text": [
      "\n",
      "T171_2019_02_28_Notebook_4_a: This session already exists - no need to re-run ;)\n",
      "T171_2019_02_28_Notebook_4_b: This session already exists - no need to re-run ;)\n",
      "T171_2019_02_28_Notebook_4_c: This session already exists - no need to re-run ;)\n",
      "T171_2019_02_28_Notebook_4_d: This session already exists - no need to re-run ;)\n",
      "2019_02_28__T171_T171-145243\n",
      "Notebook_5_a.ipynb is being executed\n"
     ]
    },
    {
     "data": {
      "application/vnd.jupyter.widget-view+json": {
       "model_id": "07705671616749d6b00fb8beaafca72f",
       "version_major": 2,
       "version_minor": 0
      },
      "text/plain": [
       "HBox(children=(FloatProgress(value=0.0, description='Executing', max=18.0, style=ProgressStyle(description_wid…"
      ]
     },
     "metadata": {},
     "output_type": "display_data"
    },
    {
     "name": "stdout",
     "output_type": "stream",
     "text": [
      "\n",
      "2019_02_28__T171_T171-145243\n",
      "Notebook_6_b.ipynb is being executed\n"
     ]
    },
    {
     "data": {
      "application/vnd.jupyter.widget-view+json": {
       "model_id": "bacdb122e50a442cae9e1fc1f28888b2",
       "version_major": 2,
       "version_minor": 0
      },
      "text/plain": [
       "HBox(children=(FloatProgress(value=0.0, description='Executing', max=12.0, style=ProgressStyle(description_wid…"
      ]
     },
     "metadata": {},
     "output_type": "display_data"
    },
    {
     "name": "stdout",
     "output_type": "stream",
     "text": [
      "\n",
      "2019_02_28__T171_T171-145243\n",
      "Notebook_7_a.ipynb is being executed\n"
     ]
    },
    {
     "data": {
      "application/vnd.jupyter.widget-view+json": {
       "model_id": "f01425380c5c4dd8b0e9157667dbe536",
       "version_major": 2,
       "version_minor": 0
      },
      "text/plain": [
       "HBox(children=(FloatProgress(value=0.0, description='Executing', max=6.0, style=ProgressStyle(description_widt…"
      ]
     },
     "metadata": {},
     "output_type": "display_data"
    },
    {
     "name": "stdout",
     "output_type": "stream",
     "text": [
      "\n",
      "T171_2019_02_15_Notebook_0_a: This session already exists - no need to re-run ;)\n",
      "T171_2019_02_15_Notebook_1_b: This session already exists - no need to re-run ;)\n",
      "T171_2019_02_15_Notebook_2_b: This session already exists - no need to re-run ;)\n",
      "2019_02_15__T171_T171-152142\n",
      "Notebook_3_j.ipynb is being executed\n"
     ]
    },
    {
     "data": {
      "application/vnd.jupyter.widget-view+json": {
       "model_id": "d276e05d63324e7da7332d253cfbef98",
       "version_major": 2,
       "version_minor": 0
      },
      "text/plain": [
       "HBox(children=(FloatProgress(value=0.0, description='Executing', max=38.0, style=ProgressStyle(description_wid…"
      ]
     },
     "metadata": {},
     "output_type": "display_data"
    },
    {
     "name": "stdout",
     "output_type": "stream",
     "text": [
      "\n",
      "T171_2019_02_15_Notebook_4_a: This session already exists - no need to re-run ;)\n",
      "T171_2019_02_15_Notebook_4_b: This session already exists - no need to re-run ;)\n",
      "T171_2019_02_15_Notebook_4_c: This session already exists - no need to re-run ;)\n",
      "T171_2019_02_15_Notebook_4_d: This session already exists - no need to re-run ;)\n",
      "2019_02_15__T171_T171-152142\n",
      "Notebook_5_a.ipynb is being executed\n"
     ]
    },
    {
     "data": {
      "application/vnd.jupyter.widget-view+json": {
       "model_id": "c7dba9c77a884078bcb1ccc3021ac214",
       "version_major": 2,
       "version_minor": 0
      },
      "text/plain": [
       "HBox(children=(FloatProgress(value=0.0, description='Executing', max=18.0, style=ProgressStyle(description_wid…"
      ]
     },
     "metadata": {},
     "output_type": "display_data"
    },
    {
     "name": "stdout",
     "output_type": "stream",
     "text": [
      "\n",
      "2019_02_15__T171_T171-152142\n",
      "Notebook_6_b.ipynb is being executed\n"
     ]
    },
    {
     "data": {
      "application/vnd.jupyter.widget-view+json": {
       "model_id": "4d637bf76fc9448ea885198ca0f32a82",
       "version_major": 2,
       "version_minor": 0
      },
      "text/plain": [
       "HBox(children=(FloatProgress(value=0.0, description='Executing', max=12.0, style=ProgressStyle(description_wid…"
      ]
     },
     "metadata": {},
     "output_type": "display_data"
    },
    {
     "name": "stdout",
     "output_type": "stream",
     "text": [
      "\n",
      "2019_02_15__T171_T171-152142\n",
      "Notebook_7_a.ipynb is being executed\n"
     ]
    },
    {
     "data": {
      "application/vnd.jupyter.widget-view+json": {
       "model_id": "247d17a0cff04337a85e070cc70d3b5d",
       "version_major": 2,
       "version_minor": 0
      },
      "text/plain": [
       "HBox(children=(FloatProgress(value=0.0, description='Executing', max=6.0, style=ProgressStyle(description_widt…"
      ]
     },
     "metadata": {},
     "output_type": "display_data"
    },
    {
     "name": "stdout",
     "output_type": "stream",
     "text": [
      "\n",
      "T171_2019_02_12_Notebook_0_a: This session already exists - no need to re-run ;)\n",
      "T171_2019_02_12_Notebook_1_b: This session already exists - no need to re-run ;)\n",
      "T171_2019_02_12_Notebook_2_b: This session already exists - no need to re-run ;)\n",
      "2019_02_12__T171_T171-164950\n",
      "Notebook_3_j.ipynb is being executed\n"
     ]
    },
    {
     "data": {
      "application/vnd.jupyter.widget-view+json": {
       "model_id": "d2f461b71c8040768826c46cb37a8a3e",
       "version_major": 2,
       "version_minor": 0
      },
      "text/plain": [
       "HBox(children=(FloatProgress(value=0.0, description='Executing', max=38.0, style=ProgressStyle(description_wid…"
      ]
     },
     "metadata": {},
     "output_type": "display_data"
    },
    {
     "name": "stdout",
     "output_type": "stream",
     "text": [
      "\n",
      "T171_2019_02_12_Notebook_4_a: This session already exists - no need to re-run ;)\n",
      "T171_2019_02_12_Notebook_4_b: This session already exists - no need to re-run ;)\n",
      "T171_2019_02_12_Notebook_4_c: This session already exists - no need to re-run ;)\n",
      "T171_2019_02_12_Notebook_4_d: This session already exists - no need to re-run ;)\n",
      "2019_02_12__T171_T171-164950\n",
      "Notebook_5_a.ipynb is being executed\n"
     ]
    },
    {
     "data": {
      "application/vnd.jupyter.widget-view+json": {
       "model_id": "c27f8960d506426fa3f7b107db8e1b94",
       "version_major": 2,
       "version_minor": 0
      },
      "text/plain": [
       "HBox(children=(FloatProgress(value=0.0, description='Executing', max=18.0, style=ProgressStyle(description_wid…"
      ]
     },
     "metadata": {},
     "output_type": "display_data"
    },
    {
     "name": "stdout",
     "output_type": "stream",
     "text": [
      "\n",
      "2019_02_12__T171_T171-164950\n",
      "Notebook_6_b.ipynb is being executed\n"
     ]
    },
    {
     "data": {
      "application/vnd.jupyter.widget-view+json": {
       "model_id": "c93e3afcae084dc19bf63c45c7f1b2f9",
       "version_major": 2,
       "version_minor": 0
      },
      "text/plain": [
       "HBox(children=(FloatProgress(value=0.0, description='Executing', max=12.0, style=ProgressStyle(description_wid…"
      ]
     },
     "metadata": {},
     "output_type": "display_data"
    },
    {
     "name": "stdout",
     "output_type": "stream",
     "text": [
      "\n",
      "2019_02_12__T171_T171-164950\n",
      "Notebook_7_a.ipynb is being executed\n"
     ]
    },
    {
     "data": {
      "application/vnd.jupyter.widget-view+json": {
       "model_id": "8a87c9d627184dc094910d5de6b4e5f0",
       "version_major": 2,
       "version_minor": 0
      },
      "text/plain": [
       "HBox(children=(FloatProgress(value=0.0, description='Executing', max=6.0, style=ProgressStyle(description_widt…"
      ]
     },
     "metadata": {},
     "output_type": "display_data"
    },
    {
     "name": "stdout",
     "output_type": "stream",
     "text": [
      "\n",
      "T171_2019_02_11_Notebook_0_a: This session already exists - no need to re-run ;)\n",
      "T171_2019_02_11_Notebook_1_b: This session already exists - no need to re-run ;)\n",
      "T171_2019_02_11_Notebook_2_b: This session already exists - no need to re-run ;)\n",
      "2019_02_11__T171_T171-143016\n",
      "Notebook_3_j.ipynb is being executed\n"
     ]
    },
    {
     "data": {
      "application/vnd.jupyter.widget-view+json": {
       "model_id": "7bbeb642357c4a26afb2ad43efa44cbc",
       "version_major": 2,
       "version_minor": 0
      },
      "text/plain": [
       "HBox(children=(FloatProgress(value=0.0, description='Executing', max=38.0, style=ProgressStyle(description_wid…"
      ]
     },
     "metadata": {},
     "output_type": "display_data"
    },
    {
     "name": "stdout",
     "output_type": "stream",
     "text": [
      "\n",
      "T171_2019_02_11_Notebook_4_a: This session already exists - no need to re-run ;)\n",
      "T171_2019_02_11_Notebook_4_b: This session already exists - no need to re-run ;)\n",
      "T171_2019_02_11_Notebook_4_c: This session already exists - no need to re-run ;)\n",
      "T171_2019_02_11_Notebook_4_d: This session already exists - no need to re-run ;)\n",
      "2019_02_11__T171_T171-143016\n",
      "Notebook_5_a.ipynb is being executed\n"
     ]
    },
    {
     "data": {
      "application/vnd.jupyter.widget-view+json": {
       "model_id": "acee69dac58247e98cf219de92c96eaa",
       "version_major": 2,
       "version_minor": 0
      },
      "text/plain": [
       "HBox(children=(FloatProgress(value=0.0, description='Executing', max=18.0, style=ProgressStyle(description_wid…"
      ]
     },
     "metadata": {},
     "output_type": "display_data"
    },
    {
     "name": "stdout",
     "output_type": "stream",
     "text": [
      "\n",
      "2019_02_11__T171_T171-143016\n",
      "Notebook_6_b.ipynb is being executed\n"
     ]
    },
    {
     "data": {
      "application/vnd.jupyter.widget-view+json": {
       "model_id": "bf559b5b246d49ad8c703de4165119aa",
       "version_major": 2,
       "version_minor": 0
      },
      "text/plain": [
       "HBox(children=(FloatProgress(value=0.0, description='Executing', max=12.0, style=ProgressStyle(description_wid…"
      ]
     },
     "metadata": {},
     "output_type": "display_data"
    },
    {
     "name": "stdout",
     "output_type": "stream",
     "text": [
      "\n",
      "2019_02_11__T171_T171-143016\n",
      "Notebook_7_a.ipynb is being executed\n"
     ]
    },
    {
     "data": {
      "application/vnd.jupyter.widget-view+json": {
       "model_id": "a84958980462489a95f1cdf1b9ddc323",
       "version_major": 2,
       "version_minor": 0
      },
      "text/plain": [
       "HBox(children=(FloatProgress(value=0.0, description='Executing', max=6.0, style=ProgressStyle(description_widt…"
      ]
     },
     "metadata": {},
     "output_type": "display_data"
    },
    {
     "name": "stdout",
     "output_type": "stream",
     "text": [
      "\n",
      "T171_2019_01_31_Notebook_0_a: This session already exists - no need to re-run ;)\n",
      "T171_2019_01_31_Notebook_1_b: This session already exists - no need to re-run ;)\n",
      "T171_2019_01_31_Notebook_2_b: This session already exists - no need to re-run ;)\n",
      "2019_01_31__T171_T171-153700\n",
      "Notebook_3_j.ipynb is being executed\n"
     ]
    },
    {
     "data": {
      "application/vnd.jupyter.widget-view+json": {
       "model_id": "4bf49b4a91344c37b320a143bd9fad9c",
       "version_major": 2,
       "version_minor": 0
      },
      "text/plain": [
       "HBox(children=(FloatProgress(value=0.0, description='Executing', max=38.0, style=ProgressStyle(description_wid…"
      ]
     },
     "metadata": {},
     "output_type": "display_data"
    },
    {
     "name": "stdout",
     "output_type": "stream",
     "text": [
      "\n",
      "T171_2019_01_31_Notebook_4_a: This session already exists - no need to re-run ;)\n",
      "T171_2019_01_31_Notebook_4_b: This session already exists - no need to re-run ;)\n",
      "T171_2019_01_31_Notebook_4_c: This session already exists - no need to re-run ;)\n",
      "T171_2019_01_31_Notebook_4_d: This session already exists - no need to re-run ;)\n",
      "2019_01_31__T171_T171-153700\n",
      "Notebook_5_a.ipynb is being executed\n"
     ]
    },
    {
     "data": {
      "application/vnd.jupyter.widget-view+json": {
       "model_id": "ce28a1e75369423e98b58b107800f4d2",
       "version_major": 2,
       "version_minor": 0
      },
      "text/plain": [
       "HBox(children=(FloatProgress(value=0.0, description='Executing', max=18.0, style=ProgressStyle(description_wid…"
      ]
     },
     "metadata": {},
     "output_type": "display_data"
    },
    {
     "name": "stdout",
     "output_type": "stream",
     "text": [
      "\n",
      "2019_01_31__T171_T171-153700\n",
      "Notebook_6_b.ipynb is being executed\n"
     ]
    },
    {
     "data": {
      "application/vnd.jupyter.widget-view+json": {
       "model_id": "3e0d036d853346a386e0b472ca7aa35f",
       "version_major": 2,
       "version_minor": 0
      },
      "text/plain": [
       "HBox(children=(FloatProgress(value=0.0, description='Executing', max=12.0, style=ProgressStyle(description_wid…"
      ]
     },
     "metadata": {},
     "output_type": "display_data"
    },
    {
     "name": "stdout",
     "output_type": "stream",
     "text": [
      "\n",
      "2019_01_31__T171_T171-153700\n",
      "Notebook_7_a.ipynb is being executed\n"
     ]
    },
    {
     "data": {
      "application/vnd.jupyter.widget-view+json": {
       "model_id": "0d3afbe151894770a3006716ae4315ef",
       "version_major": 2,
       "version_minor": 0
      },
      "text/plain": [
       "HBox(children=(FloatProgress(value=0.0, description='Executing', max=6.0, style=ProgressStyle(description_widt…"
      ]
     },
     "metadata": {},
     "output_type": "display_data"
    },
    {
     "name": "stdout",
     "output_type": "stream",
     "text": [
      "\n",
      "T171_2019_01_30_Notebook_0_a: This session already exists - no need to re-run ;)\n",
      "T171_2019_01_30_Notebook_1_b: This session already exists - no need to re-run ;)\n",
      "T171_2019_01_30_Notebook_2_b: This session already exists - no need to re-run ;)\n",
      "2019_01_30__T171_T171-145252\n",
      "Notebook_3_j.ipynb is being executed\n"
     ]
    },
    {
     "data": {
      "application/vnd.jupyter.widget-view+json": {
       "model_id": "aa326a3adb6f42d7b11c7e21c70a70d3",
       "version_major": 2,
       "version_minor": 0
      },
      "text/plain": [
       "HBox(children=(FloatProgress(value=0.0, description='Executing', max=38.0, style=ProgressStyle(description_wid…"
      ]
     },
     "metadata": {},
     "output_type": "display_data"
    },
    {
     "name": "stdout",
     "output_type": "stream",
     "text": [
      "\n",
      "T171_2019_01_30_Notebook_4_a: This session already exists - no need to re-run ;)\n",
      "T171_2019_01_30_Notebook_4_b: This session already exists - no need to re-run ;)\n",
      "T171_2019_01_30_Notebook_4_c: This session already exists - no need to re-run ;)\n",
      "T171_2019_01_30_Notebook_4_d: This session already exists - no need to re-run ;)\n",
      "2019_01_30__T171_T171-145252\n",
      "Notebook_5_a.ipynb is being executed\n"
     ]
    },
    {
     "data": {
      "application/vnd.jupyter.widget-view+json": {
       "model_id": "47ec3e77fa8f47989c1ce0b14a3511bf",
       "version_major": 2,
       "version_minor": 0
      },
      "text/plain": [
       "HBox(children=(FloatProgress(value=0.0, description='Executing', max=18.0, style=ProgressStyle(description_wid…"
      ]
     },
     "metadata": {},
     "output_type": "display_data"
    },
    {
     "name": "stdout",
     "output_type": "stream",
     "text": [
      "\n",
      "2019_01_30__T171_T171-145252\n",
      "Notebook_6_b.ipynb is being executed\n"
     ]
    },
    {
     "data": {
      "application/vnd.jupyter.widget-view+json": {
       "model_id": "351204e396e54ef5bcd69ed621bc1311",
       "version_major": 2,
       "version_minor": 0
      },
      "text/plain": [
       "HBox(children=(FloatProgress(value=0.0, description='Executing', max=12.0, style=ProgressStyle(description_wid…"
      ]
     },
     "metadata": {},
     "output_type": "display_data"
    },
    {
     "name": "stdout",
     "output_type": "stream",
     "text": [
      "\n",
      "2019_01_30__T171_T171-145252\n",
      "Notebook_7_a.ipynb is being executed\n"
     ]
    },
    {
     "data": {
      "application/vnd.jupyter.widget-view+json": {
       "model_id": "fac53d401006497b86a17ab022239f95",
       "version_major": 2,
       "version_minor": 0
      },
      "text/plain": [
       "HBox(children=(FloatProgress(value=0.0, description='Executing', max=6.0, style=ProgressStyle(description_widt…"
      ]
     },
     "metadata": {},
     "output_type": "display_data"
    },
    {
     "name": "stdout",
     "output_type": "stream",
     "text": [
      "\n",
      "T186_2019_03_21_Notebook_0_a: This session already exists - no need to re-run ;)\n",
      "T186_2019_03_21_Notebook_1_b: This session already exists - no need to re-run ;)\n",
      "T186_2019_03_21_Notebook_2_b: This session already exists - no need to re-run ;)\n",
      "2019_03_21__T186_T186-153107\n",
      "Notebook_3_j.ipynb is being executed\n"
     ]
    },
    {
     "data": {
      "application/vnd.jupyter.widget-view+json": {
       "model_id": "96f9c6b488c640029e9d4c556beac949",
       "version_major": 2,
       "version_minor": 0
      },
      "text/plain": [
       "HBox(children=(FloatProgress(value=0.0, description='Executing', max=38.0, style=ProgressStyle(description_wid…"
      ]
     },
     "metadata": {},
     "output_type": "display_data"
    },
    {
     "name": "stdout",
     "output_type": "stream",
     "text": [
      "\n",
      "T186_2019_03_21_Notebook_4_a: This session already exists - no need to re-run ;)\n",
      "T186_2019_03_21_Notebook_4_b: This session already exists - no need to re-run ;)\n",
      "T186_2019_03_21_Notebook_4_c: This session already exists - no need to re-run ;)\n",
      "T186_2019_03_21_Notebook_4_d: This session already exists - no need to re-run ;)\n",
      "2019_03_21__T186_T186-153107\n",
      "Notebook_5_a.ipynb is being executed\n"
     ]
    },
    {
     "data": {
      "application/vnd.jupyter.widget-view+json": {
       "model_id": "ce9d4df0ae734e288592f2ff061b954d",
       "version_major": 2,
       "version_minor": 0
      },
      "text/plain": [
       "HBox(children=(FloatProgress(value=0.0, description='Executing', max=18.0, style=ProgressStyle(description_wid…"
      ]
     },
     "metadata": {},
     "output_type": "display_data"
    },
    {
     "name": "stdout",
     "output_type": "stream",
     "text": [
      "\n",
      "2019_03_21__T186_T186-153107\n",
      "Notebook_6_b.ipynb is being executed\n"
     ]
    },
    {
     "data": {
      "application/vnd.jupyter.widget-view+json": {
       "model_id": "94f06a4605ea427cad229838025db2f2",
       "version_major": 2,
       "version_minor": 0
      },
      "text/plain": [
       "HBox(children=(FloatProgress(value=0.0, description='Executing', max=12.0, style=ProgressStyle(description_wid…"
      ]
     },
     "metadata": {},
     "output_type": "display_data"
    },
    {
     "name": "stdout",
     "output_type": "stream",
     "text": [
      "\n",
      "2019_03_21__T186_T186-153107\n",
      "Notebook_7_a.ipynb is being executed\n"
     ]
    },
    {
     "data": {
      "application/vnd.jupyter.widget-view+json": {
       "model_id": "ffa6988cd4b647029b3232122b81b7bc",
       "version_major": 2,
       "version_minor": 0
      },
      "text/plain": [
       "HBox(children=(FloatProgress(value=0.0, description='Executing', max=6.0, style=ProgressStyle(description_widt…"
      ]
     },
     "metadata": {},
     "output_type": "display_data"
    },
    {
     "name": "stdout",
     "output_type": "stream",
     "text": [
      "\n",
      "T186_2019_03_25_Notebook_0_a: This session already exists - no need to re-run ;)\n",
      "T186_2019_03_25_Notebook_1_b: This session already exists - no need to re-run ;)\n",
      "T186_2019_03_25_Notebook_2_b: This session already exists - no need to re-run ;)\n",
      "2019_03_25__T186_T186-150810\n",
      "Notebook_3_j.ipynb is being executed\n"
     ]
    },
    {
     "data": {
      "application/vnd.jupyter.widget-view+json": {
       "model_id": "5e7d1bc96e3d4d5dbe8ccbb7d060f114",
       "version_major": 2,
       "version_minor": 0
      },
      "text/plain": [
       "HBox(children=(FloatProgress(value=0.0, description='Executing', max=38.0, style=ProgressStyle(description_wid…"
      ]
     },
     "metadata": {},
     "output_type": "display_data"
    },
    {
     "name": "stdout",
     "output_type": "stream",
     "text": [
      "\n",
      "T186_2019_03_25_Notebook_4_a: This session already exists - no need to re-run ;)\n",
      "T186_2019_03_25_Notebook_4_b: This session already exists - no need to re-run ;)\n",
      "T186_2019_03_25_Notebook_4_c: This session already exists - no need to re-run ;)\n",
      "T186_2019_03_25_Notebook_4_d: This session already exists - no need to re-run ;)\n",
      "2019_03_25__T186_T186-150810\n",
      "Notebook_5_a.ipynb is being executed\n"
     ]
    },
    {
     "data": {
      "application/vnd.jupyter.widget-view+json": {
       "model_id": "d3c90491d7c5412396da3d593e84623b",
       "version_major": 2,
       "version_minor": 0
      },
      "text/plain": [
       "HBox(children=(FloatProgress(value=0.0, description='Executing', max=18.0, style=ProgressStyle(description_wid…"
      ]
     },
     "metadata": {},
     "output_type": "display_data"
    },
    {
     "name": "stdout",
     "output_type": "stream",
     "text": [
      "\n",
      "2019_03_25__T186_T186-150810\n",
      "Notebook_6_b.ipynb is being executed\n"
     ]
    },
    {
     "data": {
      "application/vnd.jupyter.widget-view+json": {
       "model_id": "cd4acf890c404b66b3fda79c0e94e49f",
       "version_major": 2,
       "version_minor": 0
      },
      "text/plain": [
       "HBox(children=(FloatProgress(value=0.0, description='Executing', max=12.0, style=ProgressStyle(description_wid…"
      ]
     },
     "metadata": {},
     "output_type": "display_data"
    },
    {
     "name": "stdout",
     "output_type": "stream",
     "text": [
      "\n",
      "2019_03_25__T186_T186-150810\n",
      "Notebook_7_a.ipynb is being executed\n"
     ]
    },
    {
     "data": {
      "application/vnd.jupyter.widget-view+json": {
       "model_id": "9e8af6ed12fc443a98a1fa5aec2bec7d",
       "version_major": 2,
       "version_minor": 0
      },
      "text/plain": [
       "HBox(children=(FloatProgress(value=0.0, description='Executing', max=6.0, style=ProgressStyle(description_widt…"
      ]
     },
     "metadata": {},
     "output_type": "display_data"
    },
    {
     "name": "stdout",
     "output_type": "stream",
     "text": [
      "\n",
      "T186_2019_03_22_Notebook_0_a: This session already exists - no need to re-run ;)\n",
      "T186_2019_03_22_Notebook_1_b: This session already exists - no need to re-run ;)\n",
      "T186_2019_03_22_Notebook_2_b: This session already exists - no need to re-run ;)\n",
      "2019_03_22__T186_T186-164847\n",
      "Notebook_3_j.ipynb is being executed\n"
     ]
    },
    {
     "data": {
      "application/vnd.jupyter.widget-view+json": {
       "model_id": "d7a81e5a110b499dbf50d78fdc282119",
       "version_major": 2,
       "version_minor": 0
      },
      "text/plain": [
       "HBox(children=(FloatProgress(value=0.0, description='Executing', max=38.0, style=ProgressStyle(description_wid…"
      ]
     },
     "metadata": {},
     "output_type": "display_data"
    },
    {
     "name": "stdout",
     "output_type": "stream",
     "text": [
      "\n",
      "T186_2019_03_22_Notebook_4_a: This session already exists - no need to re-run ;)\n",
      "T186_2019_03_22_Notebook_4_b: This session already exists - no need to re-run ;)\n",
      "T186_2019_03_22_Notebook_4_c: This session already exists - no need to re-run ;)\n",
      "T186_2019_03_22_Notebook_4_d: This session already exists - no need to re-run ;)\n",
      "2019_03_22__T186_T186-164847\n",
      "Notebook_5_a.ipynb is being executed\n"
     ]
    },
    {
     "data": {
      "application/vnd.jupyter.widget-view+json": {
       "model_id": "a3f668e6daa743a38a6bb533e1cf316e",
       "version_major": 2,
       "version_minor": 0
      },
      "text/plain": [
       "HBox(children=(FloatProgress(value=0.0, description='Executing', max=18.0, style=ProgressStyle(description_wid…"
      ]
     },
     "metadata": {},
     "output_type": "display_data"
    },
    {
     "name": "stdout",
     "output_type": "stream",
     "text": [
      "\n",
      "2019_03_22__T186_T186-164847\n",
      "Notebook_6_b.ipynb is being executed\n"
     ]
    },
    {
     "data": {
      "application/vnd.jupyter.widget-view+json": {
       "model_id": "3b4c85eec6054eb0afc523732a646614",
       "version_major": 2,
       "version_minor": 0
      },
      "text/plain": [
       "HBox(children=(FloatProgress(value=0.0, description='Executing', max=12.0, style=ProgressStyle(description_wid…"
      ]
     },
     "metadata": {},
     "output_type": "display_data"
    },
    {
     "name": "stdout",
     "output_type": "stream",
     "text": [
      "\n",
      "2019_03_22__T186_T186-164847\n",
      "Notebook_7_a.ipynb is being executed\n"
     ]
    },
    {
     "data": {
      "application/vnd.jupyter.widget-view+json": {
       "model_id": "0efb388f7e1b4f218bc5e30acdfb51dc",
       "version_major": 2,
       "version_minor": 0
      },
      "text/plain": [
       "HBox(children=(FloatProgress(value=0.0, description='Executing', max=6.0, style=ProgressStyle(description_widt…"
      ]
     },
     "metadata": {},
     "output_type": "display_data"
    },
    {
     "name": "stdout",
     "output_type": "stream",
     "text": [
      "\n",
      "T186_2019_04_01_Notebook_0_a: This session already exists - no need to re-run ;)\n",
      "T186_2019_04_01_Notebook_1_b: This session already exists - no need to re-run ;)\n",
      "T186_2019_04_01_Notebook_2_b: This session already exists - no need to re-run ;)\n",
      "2019_04_01__T186_T186-142719\n",
      "Notebook_3_j.ipynb is being executed\n"
     ]
    },
    {
     "data": {
      "application/vnd.jupyter.widget-view+json": {
       "model_id": "c3cd0bd62f0d4137b9311a3a870f89d9",
       "version_major": 2,
       "version_minor": 0
      },
      "text/plain": [
       "HBox(children=(FloatProgress(value=0.0, description='Executing', max=38.0, style=ProgressStyle(description_wid…"
      ]
     },
     "metadata": {},
     "output_type": "display_data"
    },
    {
     "name": "stdout",
     "output_type": "stream",
     "text": [
      "\n",
      "T186_2019_04_01_Notebook_4_a: This session already exists - no need to re-run ;)\n",
      "T186_2019_04_01_Notebook_4_b: This session already exists - no need to re-run ;)\n",
      "T186_2019_04_01_Notebook_4_c: This session already exists - no need to re-run ;)\n",
      "T186_2019_04_01_Notebook_4_d: This session already exists - no need to re-run ;)\n",
      "2019_04_01__T186_T186-142719\n",
      "Notebook_5_a.ipynb is being executed\n"
     ]
    },
    {
     "data": {
      "application/vnd.jupyter.widget-view+json": {
       "model_id": "add956ec431f483eb178ea3a51e83c43",
       "version_major": 2,
       "version_minor": 0
      },
      "text/plain": [
       "HBox(children=(FloatProgress(value=0.0, description='Executing', max=18.0, style=ProgressStyle(description_wid…"
      ]
     },
     "metadata": {},
     "output_type": "display_data"
    },
    {
     "name": "stdout",
     "output_type": "stream",
     "text": [
      "\n",
      "2019_04_01__T186_T186-142719\n",
      "Notebook_6_b.ipynb is being executed\n"
     ]
    },
    {
     "data": {
      "application/vnd.jupyter.widget-view+json": {
       "model_id": "a8876c29c51c4f938fe0ded079d7035b",
       "version_major": 2,
       "version_minor": 0
      },
      "text/plain": [
       "HBox(children=(FloatProgress(value=0.0, description='Executing', max=12.0, style=ProgressStyle(description_wid…"
      ]
     },
     "metadata": {},
     "output_type": "display_data"
    },
    {
     "name": "stdout",
     "output_type": "stream",
     "text": [
      "\n",
      "2019_04_01__T186_T186-142719\n",
      "Notebook_7_a.ipynb is being executed\n"
     ]
    },
    {
     "data": {
      "application/vnd.jupyter.widget-view+json": {
       "model_id": "1087dbdd3d6a4c19a2aca0fa3494f4bd",
       "version_major": 2,
       "version_minor": 0
      },
      "text/plain": [
       "HBox(children=(FloatProgress(value=0.0, description='Executing', max=6.0, style=ProgressStyle(description_widt…"
      ]
     },
     "metadata": {},
     "output_type": "display_data"
    },
    {
     "name": "stdout",
     "output_type": "stream",
     "text": [
      "\n",
      "T186_2019_03_28_Notebook_0_a: This session already exists - no need to re-run ;)\n",
      "T186_2019_03_28_Notebook_1_b: This session already exists - no need to re-run ;)\n",
      "T186_2019_03_28_Notebook_2_b: This session already exists - no need to re-run ;)\n",
      "2019_03_28__T186_T186-144534\n",
      "Notebook_3_j.ipynb is being executed\n"
     ]
    },
    {
     "data": {
      "application/vnd.jupyter.widget-view+json": {
       "model_id": "6570e494fe5544b3ace9c6d0d63b2d53",
       "version_major": 2,
       "version_minor": 0
      },
      "text/plain": [
       "HBox(children=(FloatProgress(value=0.0, description='Executing', max=38.0, style=ProgressStyle(description_wid…"
      ]
     },
     "metadata": {},
     "output_type": "display_data"
    },
    {
     "name": "stdout",
     "output_type": "stream",
     "text": [
      "\n",
      "T186_2019_03_28_Notebook_4_a: This session already exists - no need to re-run ;)\n",
      "T186_2019_03_28_Notebook_4_b: This session already exists - no need to re-run ;)\n",
      "T186_2019_03_28_Notebook_4_c: This session already exists - no need to re-run ;)\n",
      "T186_2019_03_28_Notebook_4_d: This session already exists - no need to re-run ;)\n",
      "2019_03_28__T186_T186-144534\n",
      "Notebook_5_a.ipynb is being executed\n"
     ]
    },
    {
     "data": {
      "application/vnd.jupyter.widget-view+json": {
       "model_id": "8cbf1a3e0796434eaf27307fb75cfc09",
       "version_major": 2,
       "version_minor": 0
      },
      "text/plain": [
       "HBox(children=(FloatProgress(value=0.0, description='Executing', max=18.0, style=ProgressStyle(description_wid…"
      ]
     },
     "metadata": {},
     "output_type": "display_data"
    },
    {
     "name": "stdout",
     "output_type": "stream",
     "text": [
      "\n",
      "2019_03_28__T186_T186-144534\n",
      "Notebook_6_b.ipynb is being executed\n"
     ]
    },
    {
     "data": {
      "application/vnd.jupyter.widget-view+json": {
       "model_id": "3520a882a4b34ce1abda23c85581b784",
       "version_major": 2,
       "version_minor": 0
      },
      "text/plain": [
       "HBox(children=(FloatProgress(value=0.0, description='Executing', max=12.0, style=ProgressStyle(description_wid…"
      ]
     },
     "metadata": {},
     "output_type": "display_data"
    },
    {
     "name": "stdout",
     "output_type": "stream",
     "text": [
      "\n",
      "2019_03_28__T186_T186-144534\n",
      "Notebook_7_a.ipynb is being executed\n"
     ]
    },
    {
     "data": {
      "application/vnd.jupyter.widget-view+json": {
       "model_id": "cf7f2941501e469c9cb496d560763f0c",
       "version_major": 2,
       "version_minor": 0
      },
      "text/plain": [
       "HBox(children=(FloatProgress(value=0.0, description='Executing', max=6.0, style=ProgressStyle(description_widt…"
      ]
     },
     "metadata": {},
     "output_type": "display_data"
    },
    {
     "name": "stdout",
     "output_type": "stream",
     "text": [
      "\n",
      "T186_2019_03_27_Notebook_0_a: This session already exists - no need to re-run ;)\n",
      "T186_2019_03_27_Notebook_1_b: This session already exists - no need to re-run ;)\n",
      "T186_2019_03_27_Notebook_2_b: This session already exists - no need to re-run ;)\n",
      "2019_03_27__T186_T186-150703\n",
      "Notebook_3_j.ipynb is being executed\n"
     ]
    },
    {
     "data": {
      "application/vnd.jupyter.widget-view+json": {
       "model_id": "6838d1ddf6e64fbe86416bad88aa983c",
       "version_major": 2,
       "version_minor": 0
      },
      "text/plain": [
       "HBox(children=(FloatProgress(value=0.0, description='Executing', max=38.0, style=ProgressStyle(description_wid…"
      ]
     },
     "metadata": {},
     "output_type": "display_data"
    },
    {
     "name": "stdout",
     "output_type": "stream",
     "text": [
      "\n",
      "T186_2019_03_27_Notebook_4_a: This session already exists - no need to re-run ;)\n",
      "T186_2019_03_27_Notebook_4_b: This session already exists - no need to re-run ;)\n",
      "T186_2019_03_27_Notebook_4_c: This session already exists - no need to re-run ;)\n",
      "T186_2019_03_27_Notebook_4_d: This session already exists - no need to re-run ;)\n",
      "2019_03_27__T186_T186-150703\n",
      "Notebook_5_a.ipynb is being executed\n"
     ]
    },
    {
     "data": {
      "application/vnd.jupyter.widget-view+json": {
       "model_id": "0c4895df3a6c414c9333ae0cd709db32",
       "version_major": 2,
       "version_minor": 0
      },
      "text/plain": [
       "HBox(children=(FloatProgress(value=0.0, description='Executing', max=18.0, style=ProgressStyle(description_wid…"
      ]
     },
     "metadata": {},
     "output_type": "display_data"
    },
    {
     "name": "stdout",
     "output_type": "stream",
     "text": [
      "\n",
      "2019_03_27__T186_T186-150703\n",
      "Notebook_6_b.ipynb is being executed\n"
     ]
    },
    {
     "data": {
      "application/vnd.jupyter.widget-view+json": {
       "model_id": "2f1f9d6299344a2ab55d0f7d7d497241",
       "version_major": 2,
       "version_minor": 0
      },
      "text/plain": [
       "HBox(children=(FloatProgress(value=0.0, description='Executing', max=12.0, style=ProgressStyle(description_wid…"
      ]
     },
     "metadata": {},
     "output_type": "display_data"
    },
    {
     "name": "stdout",
     "output_type": "stream",
     "text": [
      "\n",
      "2019_03_27__T186_T186-150703\n",
      "Notebook_7_a.ipynb is being executed\n"
     ]
    },
    {
     "data": {
      "application/vnd.jupyter.widget-view+json": {
       "model_id": "c65922968a9d4afe888a9bdd1e43a4f7",
       "version_major": 2,
       "version_minor": 0
      },
      "text/plain": [
       "HBox(children=(FloatProgress(value=0.0, description='Executing', max=6.0, style=ProgressStyle(description_widt…"
      ]
     },
     "metadata": {},
     "output_type": "display_data"
    },
    {
     "name": "stdout",
     "output_type": "stream",
     "text": [
      "\n",
      "T186_2019_04_02_Notebook_0_a: This session already exists - no need to re-run ;)\n",
      "T186_2019_04_02_Notebook_1_b: This session already exists - no need to re-run ;)\n",
      "T186_2019_04_02_Notebook_2_b: This session already exists - no need to re-run ;)\n",
      "2019_04_02__T186_T186-140234\n",
      "Notebook_3_j.ipynb is being executed\n"
     ]
    },
    {
     "data": {
      "application/vnd.jupyter.widget-view+json": {
       "model_id": "4b0905d0885a4aecb18ffce4aeee5b5a",
       "version_major": 2,
       "version_minor": 0
      },
      "text/plain": [
       "HBox(children=(FloatProgress(value=0.0, description='Executing', max=38.0, style=ProgressStyle(description_wid…"
      ]
     },
     "metadata": {},
     "output_type": "display_data"
    },
    {
     "name": "stdout",
     "output_type": "stream",
     "text": [
      "\n",
      "T186_2019_04_02_Notebook_4_a: This session already exists - no need to re-run ;)\n",
      "T186_2019_04_02_Notebook_4_b: This session already exists - no need to re-run ;)\n",
      "T186_2019_04_02_Notebook_4_c: This session already exists - no need to re-run ;)\n",
      "T186_2019_04_02_Notebook_4_d: This session already exists - no need to re-run ;)\n",
      "2019_04_02__T186_T186-140234\n",
      "Notebook_5_a.ipynb is being executed\n"
     ]
    },
    {
     "data": {
      "application/vnd.jupyter.widget-view+json": {
       "model_id": "63e2c007a8a54196b899c63c9cb9eb1c",
       "version_major": 2,
       "version_minor": 0
      },
      "text/plain": [
       "HBox(children=(FloatProgress(value=0.0, description='Executing', max=18.0, style=ProgressStyle(description_wid…"
      ]
     },
     "metadata": {},
     "output_type": "display_data"
    },
    {
     "name": "stdout",
     "output_type": "stream",
     "text": [
      "\n",
      "2019_04_02__T186_T186-140234\n",
      "Notebook_6_b.ipynb is being executed\n"
     ]
    },
    {
     "data": {
      "application/vnd.jupyter.widget-view+json": {
       "model_id": "f2dbc345d78e4be1b786ed0e336c5424",
       "version_major": 2,
       "version_minor": 0
      },
      "text/plain": [
       "HBox(children=(FloatProgress(value=0.0, description='Executing', max=12.0, style=ProgressStyle(description_wid…"
      ]
     },
     "metadata": {},
     "output_type": "display_data"
    },
    {
     "name": "stdout",
     "output_type": "stream",
     "text": [
      "\n",
      "2019_04_02__T186_T186-140234\n",
      "Notebook_7_a.ipynb is being executed\n"
     ]
    },
    {
     "data": {
      "application/vnd.jupyter.widget-view+json": {
       "model_id": "bea1e979d44d4dbd8d6955390138de17",
       "version_major": 2,
       "version_minor": 0
      },
      "text/plain": [
       "HBox(children=(FloatProgress(value=0.0, description='Executing', max=6.0, style=ProgressStyle(description_widt…"
      ]
     },
     "metadata": {},
     "output_type": "display_data"
    },
    {
     "name": "stdout",
     "output_type": "stream",
     "text": [
      "\n",
      "T186_2019_04_05_Notebook_0_a: This session already exists - no need to re-run ;)\n",
      "T186_2019_04_05_Notebook_1_b: This session already exists - no need to re-run ;)\n",
      "T186_2019_04_05_Notebook_2_b: This session already exists - no need to re-run ;)\n",
      "2019_04_05__T186_T186-135725\n",
      "Notebook_3_j.ipynb is being executed\n"
     ]
    },
    {
     "data": {
      "application/vnd.jupyter.widget-view+json": {
       "model_id": "b0bbf311aa894c9a89e39cf67d2040f8",
       "version_major": 2,
       "version_minor": 0
      },
      "text/plain": [
       "HBox(children=(FloatProgress(value=0.0, description='Executing', max=38.0, style=ProgressStyle(description_wid…"
      ]
     },
     "metadata": {},
     "output_type": "display_data"
    },
    {
     "name": "stdout",
     "output_type": "stream",
     "text": [
      "\n",
      "T186_2019_04_05_Notebook_4_a: This session already exists - no need to re-run ;)\n",
      "T186_2019_04_05_Notebook_4_b: This session already exists - no need to re-run ;)\n",
      "T186_2019_04_05_Notebook_4_c: This session already exists - no need to re-run ;)\n",
      "T186_2019_04_05_Notebook_4_d: This session already exists - no need to re-run ;)\n",
      "2019_04_05__T186_T186-135725\n",
      "Notebook_5_a.ipynb is being executed\n"
     ]
    },
    {
     "data": {
      "application/vnd.jupyter.widget-view+json": {
       "model_id": "2757dc6b144e499a89077aa785a44278",
       "version_major": 2,
       "version_minor": 0
      },
      "text/plain": [
       "HBox(children=(FloatProgress(value=0.0, description='Executing', max=18.0, style=ProgressStyle(description_wid…"
      ]
     },
     "metadata": {},
     "output_type": "display_data"
    },
    {
     "name": "stdout",
     "output_type": "stream",
     "text": [
      "\n",
      "2019_04_05__T186_T186-135725\n",
      "Notebook_6_b.ipynb is being executed\n"
     ]
    },
    {
     "data": {
      "application/vnd.jupyter.widget-view+json": {
       "model_id": "ed0ecfddf28e475c8559580e1d858059",
       "version_major": 2,
       "version_minor": 0
      },
      "text/plain": [
       "HBox(children=(FloatProgress(value=0.0, description='Executing', max=12.0, style=ProgressStyle(description_wid…"
      ]
     },
     "metadata": {},
     "output_type": "display_data"
    },
    {
     "name": "stdout",
     "output_type": "stream",
     "text": [
      "\n",
      "2019_04_05__T186_T186-135725\n",
      "Notebook_7_a.ipynb is being executed\n"
     ]
    },
    {
     "data": {
      "application/vnd.jupyter.widget-view+json": {
       "model_id": "29df9b9ac77642f4806318756087644f",
       "version_major": 2,
       "version_minor": 0
      },
      "text/plain": [
       "HBox(children=(FloatProgress(value=0.0, description='Executing', max=6.0, style=ProgressStyle(description_widt…"
      ]
     },
     "metadata": {},
     "output_type": "display_data"
    },
    {
     "name": "stdout",
     "output_type": "stream",
     "text": [
      "\n",
      "T187_2019_03_22_Notebook_0_a: This session already exists - no need to re-run ;)\n",
      "T187_2019_03_22_Notebook_1_b: This session already exists - no need to re-run ;)\n",
      "T187_2019_03_22_Notebook_2_b: This session already exists - no need to re-run ;)\n",
      "2019_03_22__T187_T187-172139\n",
      "Notebook_3_j.ipynb is being executed\n"
     ]
    },
    {
     "data": {
      "application/vnd.jupyter.widget-view+json": {
       "model_id": "fed7cf04eb7b467b97db0f58fa5b2905",
       "version_major": 2,
       "version_minor": 0
      },
      "text/plain": [
       "HBox(children=(FloatProgress(value=0.0, description='Executing', max=38.0, style=ProgressStyle(description_wid…"
      ]
     },
     "metadata": {},
     "output_type": "display_data"
    },
    {
     "name": "stdout",
     "output_type": "stream",
     "text": [
      "\n",
      "T187_2019_03_22_Notebook_4_a: This session already exists - no need to re-run ;)\n",
      "T187_2019_03_22_Notebook_4_b: This session already exists - no need to re-run ;)\n",
      "T187_2019_03_22_Notebook_4_c: This session already exists - no need to re-run ;)\n",
      "T187_2019_03_22_Notebook_4_d: This session already exists - no need to re-run ;)\n",
      "2019_03_22__T187_T187-172139\n",
      "Notebook_5_a.ipynb is being executed\n"
     ]
    },
    {
     "data": {
      "application/vnd.jupyter.widget-view+json": {
       "model_id": "57e4d52a34614cfa9a105c4c3cb4d3d3",
       "version_major": 2,
       "version_minor": 0
      },
      "text/plain": [
       "HBox(children=(FloatProgress(value=0.0, description='Executing', max=18.0, style=ProgressStyle(description_wid…"
      ]
     },
     "metadata": {},
     "output_type": "display_data"
    },
    {
     "name": "stdout",
     "output_type": "stream",
     "text": [
      "\n",
      "2019_03_22__T187_T187-172139\n",
      "Notebook_6_b.ipynb is being executed\n"
     ]
    },
    {
     "data": {
      "application/vnd.jupyter.widget-view+json": {
       "model_id": "5939ccfea1834778830639b70dc72a71",
       "version_major": 2,
       "version_minor": 0
      },
      "text/plain": [
       "HBox(children=(FloatProgress(value=0.0, description='Executing', max=12.0, style=ProgressStyle(description_wid…"
      ]
     },
     "metadata": {},
     "output_type": "display_data"
    },
    {
     "name": "stdout",
     "output_type": "stream",
     "text": [
      "\n",
      "2019_03_22__T187_T187-172139\n",
      "Notebook_7_a.ipynb is being executed\n"
     ]
    },
    {
     "data": {
      "application/vnd.jupyter.widget-view+json": {
       "model_id": "4efc7181083a4f0989df3ce0c282ef3f",
       "version_major": 2,
       "version_minor": 0
      },
      "text/plain": [
       "HBox(children=(FloatProgress(value=0.0, description='Executing', max=6.0, style=ProgressStyle(description_widt…"
      ]
     },
     "metadata": {},
     "output_type": "display_data"
    },
    {
     "name": "stdout",
     "output_type": "stream",
     "text": [
      "\n",
      "T187_2019_04_02_Notebook_0_a: This session already exists - no need to re-run ;)\n",
      "T187_2019_04_02_Notebook_1_b: This session already exists - no need to re-run ;)\n",
      "T187_2019_04_02_Notebook_2_b: This session already exists - no need to re-run ;)\n",
      "2019_04_02__T187_T187-142756\n",
      "Notebook_3_j.ipynb is being executed\n"
     ]
    },
    {
     "data": {
      "application/vnd.jupyter.widget-view+json": {
       "model_id": "15369e294e6f464eafab744a63d90ea8",
       "version_major": 2,
       "version_minor": 0
      },
      "text/plain": [
       "HBox(children=(FloatProgress(value=0.0, description='Executing', max=38.0, style=ProgressStyle(description_wid…"
      ]
     },
     "metadata": {},
     "output_type": "display_data"
    },
    {
     "name": "stdout",
     "output_type": "stream",
     "text": [
      "\n",
      "T187_2019_04_02_Notebook_4_a: This session already exists - no need to re-run ;)\n",
      "T187_2019_04_02_Notebook_4_b: This session already exists - no need to re-run ;)\n",
      "T187_2019_04_02_Notebook_4_c: This session already exists - no need to re-run ;)\n",
      "T187_2019_04_02_Notebook_4_d: This session already exists - no need to re-run ;)\n",
      "2019_04_02__T187_T187-142756\n",
      "Notebook_5_a.ipynb is being executed\n"
     ]
    },
    {
     "data": {
      "application/vnd.jupyter.widget-view+json": {
       "model_id": "956a3dcecac34ee68433b2b62824e2c2",
       "version_major": 2,
       "version_minor": 0
      },
      "text/plain": [
       "HBox(children=(FloatProgress(value=0.0, description='Executing', max=18.0, style=ProgressStyle(description_wid…"
      ]
     },
     "metadata": {},
     "output_type": "display_data"
    },
    {
     "name": "stdout",
     "output_type": "stream",
     "text": [
      "\n",
      "2019_04_02__T187_T187-142756\n",
      "Notebook_6_b.ipynb is being executed\n"
     ]
    },
    {
     "data": {
      "application/vnd.jupyter.widget-view+json": {
       "model_id": "0f718915fc9c4b0783bdc1c70a2a1493",
       "version_major": 2,
       "version_minor": 0
      },
      "text/plain": [
       "HBox(children=(FloatProgress(value=0.0, description='Executing', max=12.0, style=ProgressStyle(description_wid…"
      ]
     },
     "metadata": {},
     "output_type": "display_data"
    },
    {
     "name": "stdout",
     "output_type": "stream",
     "text": [
      "\n",
      "2019_04_02__T187_T187-142756\n",
      "Notebook_7_a.ipynb is being executed\n"
     ]
    },
    {
     "data": {
      "application/vnd.jupyter.widget-view+json": {
       "model_id": "2f117bd68db74370a7edd6010aad394e",
       "version_major": 2,
       "version_minor": 0
      },
      "text/plain": [
       "HBox(children=(FloatProgress(value=0.0, description='Executing', max=6.0, style=ProgressStyle(description_widt…"
      ]
     },
     "metadata": {},
     "output_type": "display_data"
    },
    {
     "name": "stdout",
     "output_type": "stream",
     "text": [
      "\n",
      "T187_2019_03_25_Notebook_0_a: This session already exists - no need to re-run ;)\n",
      "T187_2019_03_25_Notebook_1_b: This session already exists - no need to re-run ;)\n",
      "T187_2019_03_25_Notebook_2_b: This session already exists - no need to re-run ;)\n",
      "2019_03_25__T187_T187-153540\n",
      "Notebook_3_j.ipynb is being executed\n"
     ]
    },
    {
     "data": {
      "application/vnd.jupyter.widget-view+json": {
       "model_id": "0af25cdec2c943ffa75af348983ddd52",
       "version_major": 2,
       "version_minor": 0
      },
      "text/plain": [
       "HBox(children=(FloatProgress(value=0.0, description='Executing', max=38.0, style=ProgressStyle(description_wid…"
      ]
     },
     "metadata": {},
     "output_type": "display_data"
    },
    {
     "name": "stdout",
     "output_type": "stream",
     "text": [
      "\n",
      "T187_2019_03_25_Notebook_4_a: This session already exists - no need to re-run ;)\n",
      "T187_2019_03_25_Notebook_4_b: This session already exists - no need to re-run ;)\n",
      "T187_2019_03_25_Notebook_4_c: This session already exists - no need to re-run ;)\n",
      "T187_2019_03_25_Notebook_4_d: This session already exists - no need to re-run ;)\n",
      "2019_03_25__T187_T187-153540\n",
      "Notebook_5_a.ipynb is being executed\n"
     ]
    },
    {
     "data": {
      "application/vnd.jupyter.widget-view+json": {
       "model_id": "51f28428091743949044877caead915f",
       "version_major": 2,
       "version_minor": 0
      },
      "text/plain": [
       "HBox(children=(FloatProgress(value=0.0, description='Executing', max=18.0, style=ProgressStyle(description_wid…"
      ]
     },
     "metadata": {},
     "output_type": "display_data"
    },
    {
     "name": "stdout",
     "output_type": "stream",
     "text": [
      "\n",
      "2019_03_25__T187_T187-153540\n",
      "Notebook_6_b.ipynb is being executed\n"
     ]
    },
    {
     "data": {
      "application/vnd.jupyter.widget-view+json": {
       "model_id": "33c431e9631a41c3bc2dcedb706c44fc",
       "version_major": 2,
       "version_minor": 0
      },
      "text/plain": [
       "HBox(children=(FloatProgress(value=0.0, description='Executing', max=12.0, style=ProgressStyle(description_wid…"
      ]
     },
     "metadata": {},
     "output_type": "display_data"
    },
    {
     "name": "stdout",
     "output_type": "stream",
     "text": [
      "\n",
      "2019_03_25__T187_T187-153540\n",
      "Notebook_7_a.ipynb is being executed\n"
     ]
    },
    {
     "data": {
      "application/vnd.jupyter.widget-view+json": {
       "model_id": "63c7d747ea1d47b29847d8cb7b58b7d3",
       "version_major": 2,
       "version_minor": 0
      },
      "text/plain": [
       "HBox(children=(FloatProgress(value=0.0, description='Executing', max=6.0, style=ProgressStyle(description_widt…"
      ]
     },
     "metadata": {},
     "output_type": "display_data"
    },
    {
     "name": "stdout",
     "output_type": "stream",
     "text": [
      "\n",
      "T187_2019_04_04_Notebook_0_a: This session already exists - no need to re-run ;)\n",
      "T187_2019_04_04_Notebook_1_b: This session already exists - no need to re-run ;)\n",
      "T187_2019_04_04_Notebook_2_b: This session already exists - no need to re-run ;)\n",
      "2019_04_04__T187_T187-142541\n",
      "Notebook_3_j.ipynb is being executed\n"
     ]
    },
    {
     "data": {
      "application/vnd.jupyter.widget-view+json": {
       "model_id": "8a36566e7e964655af742a1a71fd29fb",
       "version_major": 2,
       "version_minor": 0
      },
      "text/plain": [
       "HBox(children=(FloatProgress(value=0.0, description='Executing', max=38.0, style=ProgressStyle(description_wid…"
      ]
     },
     "metadata": {},
     "output_type": "display_data"
    },
    {
     "name": "stdout",
     "output_type": "stream",
     "text": [
      "\n",
      "T187_2019_04_04_Notebook_4_a: This session already exists - no need to re-run ;)\n",
      "T187_2019_04_04_Notebook_4_b: This session already exists - no need to re-run ;)\n",
      "T187_2019_04_04_Notebook_4_c: This session already exists - no need to re-run ;)\n",
      "T187_2019_04_04_Notebook_4_d: This session already exists - no need to re-run ;)\n",
      "2019_04_04__T187_T187-142541\n",
      "Notebook_5_a.ipynb is being executed\n"
     ]
    },
    {
     "data": {
      "application/vnd.jupyter.widget-view+json": {
       "model_id": "0ba2b1d67a164728bba5ca48bfc2bcc5",
       "version_major": 2,
       "version_minor": 0
      },
      "text/plain": [
       "HBox(children=(FloatProgress(value=0.0, description='Executing', max=18.0, style=ProgressStyle(description_wid…"
      ]
     },
     "metadata": {},
     "output_type": "display_data"
    },
    {
     "name": "stdout",
     "output_type": "stream",
     "text": [
      "\n",
      "2019_04_04__T187_T187-142541\n",
      "Notebook_6_b.ipynb is being executed\n"
     ]
    },
    {
     "data": {
      "application/vnd.jupyter.widget-view+json": {
       "model_id": "7bc23f27961c47eb966777a81c120960",
       "version_major": 2,
       "version_minor": 0
      },
      "text/plain": [
       "HBox(children=(FloatProgress(value=0.0, description='Executing', max=12.0, style=ProgressStyle(description_wid…"
      ]
     },
     "metadata": {},
     "output_type": "display_data"
    },
    {
     "name": "stdout",
     "output_type": "stream",
     "text": [
      "\n",
      "2019_04_04__T187_T187-142541\n",
      "Notebook_7_a.ipynb is being executed\n"
     ]
    },
    {
     "data": {
      "application/vnd.jupyter.widget-view+json": {
       "model_id": "7b6e3a52c9854e2dac6e36290720d9b3",
       "version_major": 2,
       "version_minor": 0
      },
      "text/plain": [
       "HBox(children=(FloatProgress(value=0.0, description='Executing', max=6.0, style=ProgressStyle(description_widt…"
      ]
     },
     "metadata": {},
     "output_type": "display_data"
    },
    {
     "name": "stdout",
     "output_type": "stream",
     "text": [
      "\n",
      "T187_2019_04_05_Notebook_0_a: This session already exists - no need to re-run ;)\n",
      "T187_2019_04_05_Notebook_1_b: This session already exists - no need to re-run ;)\n",
      "T187_2019_04_05_Notebook_2_b: This session already exists - no need to re-run ;)\n",
      "2019_04_05__T187_T187-142231\n",
      "Notebook_3_j.ipynb is being executed\n"
     ]
    },
    {
     "data": {
      "application/vnd.jupyter.widget-view+json": {
       "model_id": "e6c84f5c96b148b69eefca5497beafae",
       "version_major": 2,
       "version_minor": 0
      },
      "text/plain": [
       "HBox(children=(FloatProgress(value=0.0, description='Executing', max=38.0, style=ProgressStyle(description_wid…"
      ]
     },
     "metadata": {},
     "output_type": "display_data"
    },
    {
     "name": "stdout",
     "output_type": "stream",
     "text": [
      "\n",
      "T187_2019_04_05_Notebook_4_a: This session already exists - no need to re-run ;)\n",
      "T187_2019_04_05_Notebook_4_b: This session already exists - no need to re-run ;)\n",
      "T187_2019_04_05_Notebook_4_c: This session already exists - no need to re-run ;)\n",
      "T187_2019_04_05_Notebook_4_d: This session already exists - no need to re-run ;)\n",
      "2019_04_05__T187_T187-142231\n",
      "Notebook_5_a.ipynb is being executed\n"
     ]
    },
    {
     "data": {
      "application/vnd.jupyter.widget-view+json": {
       "model_id": "61b5c445c876445f94d06e3d9201476e",
       "version_major": 2,
       "version_minor": 0
      },
      "text/plain": [
       "HBox(children=(FloatProgress(value=0.0, description='Executing', max=18.0, style=ProgressStyle(description_wid…"
      ]
     },
     "metadata": {},
     "output_type": "display_data"
    },
    {
     "name": "stdout",
     "output_type": "stream",
     "text": [
      "\n",
      "2019_04_05__T187_T187-142231\n",
      "Notebook_6_b.ipynb is being executed\n"
     ]
    },
    {
     "data": {
      "application/vnd.jupyter.widget-view+json": {
       "model_id": "46c2cd74c9ee4eca9c6682e303c0ccce",
       "version_major": 2,
       "version_minor": 0
      },
      "text/plain": [
       "HBox(children=(FloatProgress(value=0.0, description='Executing', max=12.0, style=ProgressStyle(description_wid…"
      ]
     },
     "metadata": {},
     "output_type": "display_data"
    },
    {
     "name": "stdout",
     "output_type": "stream",
     "text": [
      "\n",
      "2019_04_05__T187_T187-142231\n",
      "Notebook_7_a.ipynb is being executed\n"
     ]
    },
    {
     "data": {
      "application/vnd.jupyter.widget-view+json": {
       "model_id": "6ddb10637bef4840802337fb98130aeb",
       "version_major": 2,
       "version_minor": 0
      },
      "text/plain": [
       "HBox(children=(FloatProgress(value=0.0, description='Executing', max=6.0, style=ProgressStyle(description_widt…"
      ]
     },
     "metadata": {},
     "output_type": "display_data"
    },
    {
     "name": "stdout",
     "output_type": "stream",
     "text": [
      "\n",
      "T187_2019_04_01_Notebook_0_a: This session already exists - no need to re-run ;)\n",
      "T187_2019_04_01_Notebook_1_b: This session already exists - no need to re-run ;)\n",
      "T187_2019_04_01_Notebook_2_b: This session already exists - no need to re-run ;)\n",
      "2019_04_01__T187_T187-150132\n",
      "Notebook_3_j.ipynb is being executed\n"
     ]
    },
    {
     "data": {
      "application/vnd.jupyter.widget-view+json": {
       "model_id": "87704a23c2bf4c3a983234cf456046c8",
       "version_major": 2,
       "version_minor": 0
      },
      "text/plain": [
       "HBox(children=(FloatProgress(value=0.0, description='Executing', max=38.0, style=ProgressStyle(description_wid…"
      ]
     },
     "metadata": {},
     "output_type": "display_data"
    },
    {
     "name": "stdout",
     "output_type": "stream",
     "text": [
      "\n",
      "T187_2019_04_01_Notebook_4_a: This session already exists - no need to re-run ;)\n",
      "T187_2019_04_01_Notebook_4_b: This session already exists - no need to re-run ;)\n",
      "T187_2019_04_01_Notebook_4_c: This session already exists - no need to re-run ;)\n",
      "T187_2019_04_01_Notebook_4_d: This session already exists - no need to re-run ;)\n",
      "2019_04_01__T187_T187-150132\n",
      "Notebook_5_a.ipynb is being executed\n"
     ]
    },
    {
     "data": {
      "application/vnd.jupyter.widget-view+json": {
       "model_id": "a505a8700e1d4d9a97ab67e392c7db0b",
       "version_major": 2,
       "version_minor": 0
      },
      "text/plain": [
       "HBox(children=(FloatProgress(value=0.0, description='Executing', max=18.0, style=ProgressStyle(description_wid…"
      ]
     },
     "metadata": {},
     "output_type": "display_data"
    },
    {
     "name": "stdout",
     "output_type": "stream",
     "text": [
      "\n",
      "2019_04_01__T187_T187-150132\n",
      "Notebook_6_b.ipynb is being executed\n"
     ]
    },
    {
     "data": {
      "application/vnd.jupyter.widget-view+json": {
       "model_id": "467fc4adf9d8411fa2b93a0b203c0a2c",
       "version_major": 2,
       "version_minor": 0
      },
      "text/plain": [
       "HBox(children=(FloatProgress(value=0.0, description='Executing', max=12.0, style=ProgressStyle(description_wid…"
      ]
     },
     "metadata": {},
     "output_type": "display_data"
    },
    {
     "name": "stdout",
     "output_type": "stream",
     "text": [
      "\n",
      "2019_04_01__T187_T187-150132\n",
      "Notebook_7_a.ipynb is being executed\n"
     ]
    },
    {
     "data": {
      "application/vnd.jupyter.widget-view+json": {
       "model_id": "24a990d7b5f24c7a98866a69f68fdd2e",
       "version_major": 2,
       "version_minor": 0
      },
      "text/plain": [
       "HBox(children=(FloatProgress(value=0.0, description='Executing', max=6.0, style=ProgressStyle(description_widt…"
      ]
     },
     "metadata": {},
     "output_type": "display_data"
    },
    {
     "name": "stdout",
     "output_type": "stream",
     "text": [
      "\n",
      "T187_2019_03_28_Notebook_0_a: This session already exists - no need to re-run ;)\n",
      "T187_2019_03_28_Notebook_1_b: This session already exists - no need to re-run ;)\n",
      "T187_2019_03_28_Notebook_2_b: This session already exists - no need to re-run ;)\n",
      "2019_03_28__T187_T187-152018\n",
      "Notebook_3_j.ipynb is being executed\n"
     ]
    },
    {
     "data": {
      "application/vnd.jupyter.widget-view+json": {
       "model_id": "1de586ba339a44aaae6c50d770bb314b",
       "version_major": 2,
       "version_minor": 0
      },
      "text/plain": [
       "HBox(children=(FloatProgress(value=0.0, description='Executing', max=38.0, style=ProgressStyle(description_wid…"
      ]
     },
     "metadata": {},
     "output_type": "display_data"
    },
    {
     "name": "stdout",
     "output_type": "stream",
     "text": [
      "\n",
      "T187_2019_03_28_Notebook_4_a: This session already exists - no need to re-run ;)\n",
      "T187_2019_03_28_Notebook_4_b: This session already exists - no need to re-run ;)\n",
      "T187_2019_03_28_Notebook_4_c: This session already exists - no need to re-run ;)\n",
      "T187_2019_03_28_Notebook_4_d: This session already exists - no need to re-run ;)\n",
      "2019_03_28__T187_T187-152018\n",
      "Notebook_5_a.ipynb is being executed\n"
     ]
    },
    {
     "data": {
      "application/vnd.jupyter.widget-view+json": {
       "model_id": "0d3a971fda604ef1a926f3409816a404",
       "version_major": 2,
       "version_minor": 0
      },
      "text/plain": [
       "HBox(children=(FloatProgress(value=0.0, description='Executing', max=18.0, style=ProgressStyle(description_wid…"
      ]
     },
     "metadata": {},
     "output_type": "display_data"
    },
    {
     "name": "stdout",
     "output_type": "stream",
     "text": [
      "\n",
      "2019_03_28__T187_T187-152018\n",
      "Notebook_6_b.ipynb is being executed\n"
     ]
    },
    {
     "data": {
      "application/vnd.jupyter.widget-view+json": {
       "model_id": "0bf5d2dd2a94473eaf9e9a3a0e98e09d",
       "version_major": 2,
       "version_minor": 0
      },
      "text/plain": [
       "HBox(children=(FloatProgress(value=0.0, description='Executing', max=12.0, style=ProgressStyle(description_wid…"
      ]
     },
     "metadata": {},
     "output_type": "display_data"
    },
    {
     "name": "stdout",
     "output_type": "stream",
     "text": [
      "\n",
      "2019_03_28__T187_T187-152018\n",
      "Notebook_7_a.ipynb is being executed\n"
     ]
    },
    {
     "data": {
      "application/vnd.jupyter.widget-view+json": {
       "model_id": "9da29ef4b4f24d95b72312307d31bc7e",
       "version_major": 2,
       "version_minor": 0
      },
      "text/plain": [
       "HBox(children=(FloatProgress(value=0.0, description='Executing', max=6.0, style=ProgressStyle(description_widt…"
      ]
     },
     "metadata": {},
     "output_type": "display_data"
    },
    {
     "name": "stdout",
     "output_type": "stream",
     "text": [
      "\n",
      "T187_2019_04_03_Notebook_0_a: This session already exists - no need to re-run ;)\n",
      "T187_2019_04_03_Notebook_1_b: This session already exists - no need to re-run ;)\n",
      "T187_2019_04_03_Notebook_2_b: This session already exists - no need to re-run ;)\n",
      "2019_04_03__T187_T187-143148\n",
      "Notebook_3_j.ipynb is being executed\n"
     ]
    },
    {
     "data": {
      "application/vnd.jupyter.widget-view+json": {
       "model_id": "980129215a7b495d8e9f287dd5c7af0e",
       "version_major": 2,
       "version_minor": 0
      },
      "text/plain": [
       "HBox(children=(FloatProgress(value=0.0, description='Executing', max=38.0, style=ProgressStyle(description_wid…"
      ]
     },
     "metadata": {},
     "output_type": "display_data"
    },
    {
     "name": "stdout",
     "output_type": "stream",
     "text": [
      "\n",
      "T187_2019_04_03_Notebook_4_a: This session already exists - no need to re-run ;)\n",
      "T187_2019_04_03_Notebook_4_b: This session already exists - no need to re-run ;)\n",
      "T187_2019_04_03_Notebook_4_c: This session already exists - no need to re-run ;)\n",
      "T187_2019_04_03_Notebook_4_d: This session already exists - no need to re-run ;)\n",
      "2019_04_03__T187_T187-143148\n",
      "Notebook_5_a.ipynb is being executed\n"
     ]
    },
    {
     "data": {
      "application/vnd.jupyter.widget-view+json": {
       "model_id": "f00789e2a83e43918d9437a67f98ba42",
       "version_major": 2,
       "version_minor": 0
      },
      "text/plain": [
       "HBox(children=(FloatProgress(value=0.0, description='Executing', max=18.0, style=ProgressStyle(description_wid…"
      ]
     },
     "metadata": {},
     "output_type": "display_data"
    },
    {
     "name": "stdout",
     "output_type": "stream",
     "text": [
      "\n",
      "2019_04_03__T187_T187-143148\n",
      "Notebook_6_b.ipynb is being executed\n"
     ]
    },
    {
     "data": {
      "application/vnd.jupyter.widget-view+json": {
       "model_id": "f4f824a1209445db9ce9cbdb46410120",
       "version_major": 2,
       "version_minor": 0
      },
      "text/plain": [
       "HBox(children=(FloatProgress(value=0.0, description='Executing', max=12.0, style=ProgressStyle(description_wid…"
      ]
     },
     "metadata": {},
     "output_type": "display_data"
    },
    {
     "name": "stdout",
     "output_type": "stream",
     "text": [
      "\n",
      "2019_04_03__T187_T187-143148\n",
      "Notebook_7_a.ipynb is being executed\n"
     ]
    },
    {
     "data": {
      "application/vnd.jupyter.widget-view+json": {
       "model_id": "dba6e843321643dc90f4ea23406a4c37",
       "version_major": 2,
       "version_minor": 0
      },
      "text/plain": [
       "HBox(children=(FloatProgress(value=0.0, description='Executing', max=6.0, style=ProgressStyle(description_widt…"
      ]
     },
     "metadata": {},
     "output_type": "display_data"
    },
    {
     "name": "stdout",
     "output_type": "stream",
     "text": [
      "\n",
      "T202_2019_05_30_Notebook_0_a: This session already exists - no need to re-run ;)\n",
      "T202_2019_05_30_Notebook_1_b: This session already exists - no need to re-run ;)\n",
      "T202_2019_05_30_Notebook_2_b: This session already exists - no need to re-run ;)\n",
      "2019_05_30__T202_T202-152554\n",
      "Notebook_3_j.ipynb is being executed\n"
     ]
    },
    {
     "data": {
      "application/vnd.jupyter.widget-view+json": {
       "model_id": "83bd39c7519d4938a036dc7005b835fa",
       "version_major": 2,
       "version_minor": 0
      },
      "text/plain": [
       "HBox(children=(FloatProgress(value=0.0, description='Executing', max=38.0, style=ProgressStyle(description_wid…"
      ]
     },
     "metadata": {},
     "output_type": "display_data"
    },
    {
     "name": "stdout",
     "output_type": "stream",
     "text": [
      "\n",
      "T202_2019_05_30_Notebook_4_a: This session already exists - no need to re-run ;)\n",
      "T202_2019_05_30_Notebook_4_b: This session already exists - no need to re-run ;)\n",
      "T202_2019_05_30_Notebook_4_c: This session already exists - no need to re-run ;)\n",
      "T202_2019_05_30_Notebook_4_d: This session already exists - no need to re-run ;)\n",
      "2019_05_30__T202_T202-152554\n",
      "Notebook_5_a.ipynb is being executed\n"
     ]
    },
    {
     "data": {
      "application/vnd.jupyter.widget-view+json": {
       "model_id": "f885cba959df44b38dbe92c40ac4c3b2",
       "version_major": 2,
       "version_minor": 0
      },
      "text/plain": [
       "HBox(children=(FloatProgress(value=0.0, description='Executing', max=18.0, style=ProgressStyle(description_wid…"
      ]
     },
     "metadata": {},
     "output_type": "display_data"
    },
    {
     "name": "stdout",
     "output_type": "stream",
     "text": [
      "\n",
      "2019_05_30__T202_T202-152554\n",
      "Notebook_6_b.ipynb is being executed\n"
     ]
    },
    {
     "data": {
      "application/vnd.jupyter.widget-view+json": {
       "model_id": "0b9c8d4f7bd14cb294262f543e049bb5",
       "version_major": 2,
       "version_minor": 0
      },
      "text/plain": [
       "HBox(children=(FloatProgress(value=0.0, description='Executing', max=12.0, style=ProgressStyle(description_wid…"
      ]
     },
     "metadata": {},
     "output_type": "display_data"
    },
    {
     "name": "stdout",
     "output_type": "stream",
     "text": [
      "\n",
      "2019_05_30__T202_T202-152554\n",
      "Notebook_7_a.ipynb is being executed\n"
     ]
    },
    {
     "data": {
      "application/vnd.jupyter.widget-view+json": {
       "model_id": "ef1591a248334426b250c59b6dad6d34",
       "version_major": 2,
       "version_minor": 0
      },
      "text/plain": [
       "HBox(children=(FloatProgress(value=0.0, description='Executing', max=6.0, style=ProgressStyle(description_widt…"
      ]
     },
     "metadata": {},
     "output_type": "display_data"
    },
    {
     "name": "stdout",
     "output_type": "stream",
     "text": [
      "\n",
      "T202_2019_05_22_Notebook_0_a: This session already exists - no need to re-run ;)\n",
      "T202_2019_05_22_Notebook_1_b: This session already exists - no need to re-run ;)\n",
      "T202_2019_05_22_Notebook_2_b: This session already exists - no need to re-run ;)\n",
      "2019_05_22__T202_T202-141516\n",
      "Notebook_3_j.ipynb is being executed\n"
     ]
    },
    {
     "data": {
      "application/vnd.jupyter.widget-view+json": {
       "model_id": "9e02f452824b4c3a8816c5eac23387db",
       "version_major": 2,
       "version_minor": 0
      },
      "text/plain": [
       "HBox(children=(FloatProgress(value=0.0, description='Executing', max=38.0, style=ProgressStyle(description_wid…"
      ]
     },
     "metadata": {},
     "output_type": "display_data"
    },
    {
     "name": "stdout",
     "output_type": "stream",
     "text": [
      "\n",
      "T202_2019_05_22_Notebook_4_a: This session already exists - no need to re-run ;)\n",
      "T202_2019_05_22_Notebook_4_b: This session already exists - no need to re-run ;)\n",
      "T202_2019_05_22_Notebook_4_c: This session already exists - no need to re-run ;)\n",
      "T202_2019_05_22_Notebook_4_d: This session already exists - no need to re-run ;)\n",
      "2019_05_22__T202_T202-141516\n",
      "Notebook_5_a.ipynb is being executed\n"
     ]
    },
    {
     "data": {
      "application/vnd.jupyter.widget-view+json": {
       "model_id": "d076367b72094b7f9e03afd25a25c558",
       "version_major": 2,
       "version_minor": 0
      },
      "text/plain": [
       "HBox(children=(FloatProgress(value=0.0, description='Executing', max=18.0, style=ProgressStyle(description_wid…"
      ]
     },
     "metadata": {},
     "output_type": "display_data"
    },
    {
     "name": "stdout",
     "output_type": "stream",
     "text": [
      "\n",
      "2019_05_22__T202_T202-141516\n",
      "Notebook_6_b.ipynb is being executed\n"
     ]
    },
    {
     "data": {
      "application/vnd.jupyter.widget-view+json": {
       "model_id": "fdd280e31cca493887bd7775c325e8f1",
       "version_major": 2,
       "version_minor": 0
      },
      "text/plain": [
       "HBox(children=(FloatProgress(value=0.0, description='Executing', max=12.0, style=ProgressStyle(description_wid…"
      ]
     },
     "metadata": {},
     "output_type": "display_data"
    },
    {
     "name": "stdout",
     "output_type": "stream",
     "text": [
      "\n",
      "2019_05_22__T202_T202-141516\n",
      "Notebook_7_a.ipynb is being executed\n"
     ]
    },
    {
     "data": {
      "application/vnd.jupyter.widget-view+json": {
       "model_id": "3c3f63ab6f5b49c4873e7fedca0fa20c",
       "version_major": 2,
       "version_minor": 0
      },
      "text/plain": [
       "HBox(children=(FloatProgress(value=0.0, description='Executing', max=6.0, style=ProgressStyle(description_widt…"
      ]
     },
     "metadata": {},
     "output_type": "display_data"
    },
    {
     "name": "stdout",
     "output_type": "stream",
     "text": [
      "\n",
      "T202_2019_05_29_Notebook_0_a: This session already exists - no need to re-run ;)\n",
      "T202_2019_05_29_Notebook_1_b: This session already exists - no need to re-run ;)\n",
      "T202_2019_05_29_Notebook_2_b: This session already exists - no need to re-run ;)\n",
      "2019_05_29__T202_T202-160644\n",
      "Notebook_3_j.ipynb is being executed\n"
     ]
    },
    {
     "data": {
      "application/vnd.jupyter.widget-view+json": {
       "model_id": "d405af7100f242f1a13355eaf5f0b1d0",
       "version_major": 2,
       "version_minor": 0
      },
      "text/plain": [
       "HBox(children=(FloatProgress(value=0.0, description='Executing', max=38.0, style=ProgressStyle(description_wid…"
      ]
     },
     "metadata": {},
     "output_type": "display_data"
    },
    {
     "name": "stdout",
     "output_type": "stream",
     "text": [
      "\n",
      "T202_2019_05_29_Notebook_4_a: This session already exists - no need to re-run ;)\n",
      "T202_2019_05_29_Notebook_4_b: This session already exists - no need to re-run ;)\n",
      "T202_2019_05_29_Notebook_4_c: This session already exists - no need to re-run ;)\n",
      "T202_2019_05_29_Notebook_4_d: This session already exists - no need to re-run ;)\n",
      "2019_05_29__T202_T202-160644\n",
      "Notebook_5_a.ipynb is being executed\n"
     ]
    },
    {
     "data": {
      "application/vnd.jupyter.widget-view+json": {
       "model_id": "5274e5f113b94d9e9d8b05501bb420bd",
       "version_major": 2,
       "version_minor": 0
      },
      "text/plain": [
       "HBox(children=(FloatProgress(value=0.0, description='Executing', max=18.0, style=ProgressStyle(description_wid…"
      ]
     },
     "metadata": {},
     "output_type": "display_data"
    },
    {
     "name": "stdout",
     "output_type": "stream",
     "text": [
      "\n",
      "2019_05_29__T202_T202-160644\n",
      "Notebook_6_b.ipynb is being executed\n"
     ]
    },
    {
     "data": {
      "application/vnd.jupyter.widget-view+json": {
       "model_id": "04c873f851fa4a6dbed0f86a6b1d3bfb",
       "version_major": 2,
       "version_minor": 0
      },
      "text/plain": [
       "HBox(children=(FloatProgress(value=0.0, description='Executing', max=12.0, style=ProgressStyle(description_wid…"
      ]
     },
     "metadata": {},
     "output_type": "display_data"
    },
    {
     "name": "stdout",
     "output_type": "stream",
     "text": [
      "\n",
      "2019_05_29__T202_T202-160644\n",
      "Notebook_7_a.ipynb is being executed\n"
     ]
    },
    {
     "data": {
      "application/vnd.jupyter.widget-view+json": {
       "model_id": "7174e4ed6bc543eeb4ce263dd77c5531",
       "version_major": 2,
       "version_minor": 0
      },
      "text/plain": [
       "HBox(children=(FloatProgress(value=0.0, description='Executing', max=6.0, style=ProgressStyle(description_widt…"
      ]
     },
     "metadata": {},
     "output_type": "display_data"
    },
    {
     "name": "stdout",
     "output_type": "stream",
     "text": [
      "\n",
      "T202_2019_05_26_Notebook_0_a: This session already exists - no need to re-run ;)\n",
      "T202_2019_05_26_Notebook_1_b: This session already exists - no need to re-run ;)\n",
      "T202_2019_05_26_Notebook_2_b: This session already exists - no need to re-run ;)\n",
      "2019_05_26__T202_T202-142728\n",
      "Notebook_3_j.ipynb is being executed\n"
     ]
    },
    {
     "data": {
      "application/vnd.jupyter.widget-view+json": {
       "model_id": "ad8b2f2848264a35abf82bccba6b6619",
       "version_major": 2,
       "version_minor": 0
      },
      "text/plain": [
       "HBox(children=(FloatProgress(value=0.0, description='Executing', max=38.0, style=ProgressStyle(description_wid…"
      ]
     },
     "metadata": {},
     "output_type": "display_data"
    },
    {
     "name": "stdout",
     "output_type": "stream",
     "text": [
      "\n",
      "T202_2019_05_26_Notebook_4_a: This session already exists - no need to re-run ;)\n",
      "T202_2019_05_26_Notebook_4_b: This session already exists - no need to re-run ;)\n",
      "T202_2019_05_26_Notebook_4_c: This session already exists - no need to re-run ;)\n",
      "T202_2019_05_26_Notebook_4_d: This session already exists - no need to re-run ;)\n",
      "2019_05_26__T202_T202-142728\n",
      "Notebook_5_a.ipynb is being executed\n"
     ]
    },
    {
     "data": {
      "application/vnd.jupyter.widget-view+json": {
       "model_id": "45206625ad184642bca0f46d5a3497a8",
       "version_major": 2,
       "version_minor": 0
      },
      "text/plain": [
       "HBox(children=(FloatProgress(value=0.0, description='Executing', max=18.0, style=ProgressStyle(description_wid…"
      ]
     },
     "metadata": {},
     "output_type": "display_data"
    },
    {
     "name": "stdout",
     "output_type": "stream",
     "text": [
      "\n",
      "2019_05_26__T202_T202-142728\n",
      "Notebook_6_b.ipynb is being executed\n"
     ]
    },
    {
     "data": {
      "application/vnd.jupyter.widget-view+json": {
       "model_id": "b0ec762a885747a8b31f661294ffc5e0",
       "version_major": 2,
       "version_minor": 0
      },
      "text/plain": [
       "HBox(children=(FloatProgress(value=0.0, description='Executing', max=12.0, style=ProgressStyle(description_wid…"
      ]
     },
     "metadata": {},
     "output_type": "display_data"
    },
    {
     "name": "stdout",
     "output_type": "stream",
     "text": [
      "\n",
      "2019_05_26__T202_T202-142728\n",
      "Notebook_7_a.ipynb is being executed\n"
     ]
    },
    {
     "data": {
      "application/vnd.jupyter.widget-view+json": {
       "model_id": "a66dde2b489b4e24aea552b664c53710",
       "version_major": 2,
       "version_minor": 0
      },
      "text/plain": [
       "HBox(children=(FloatProgress(value=0.0, description='Executing', max=6.0, style=ProgressStyle(description_widt…"
      ]
     },
     "metadata": {},
     "output_type": "display_data"
    },
    {
     "name": "stdout",
     "output_type": "stream",
     "text": [
      "\n",
      "T202_2019_05_16_Notebook_0_a: This session already exists - no need to re-run ;)\n",
      "T202_2019_05_16_Notebook_1_b: This session already exists - no need to re-run ;)\n",
      "T202_2019_05_16_Notebook_2_b: This session already exists - no need to re-run ;)\n",
      "2019_05_16__T202_T202-165613\n",
      "Notebook_3_j.ipynb is being executed\n"
     ]
    },
    {
     "data": {
      "application/vnd.jupyter.widget-view+json": {
       "model_id": "e9421dc8d91e473887fe2109ebc98d32",
       "version_major": 2,
       "version_minor": 0
      },
      "text/plain": [
       "HBox(children=(FloatProgress(value=0.0, description='Executing', max=38.0, style=ProgressStyle(description_wid…"
      ]
     },
     "metadata": {},
     "output_type": "display_data"
    },
    {
     "name": "stdout",
     "output_type": "stream",
     "text": [
      "\n",
      "T202_2019_05_16_Notebook_4_a: This session already exists - no need to re-run ;)\n",
      "T202_2019_05_16_Notebook_4_b: This session already exists - no need to re-run ;)\n",
      "T202_2019_05_16_Notebook_4_c: This session already exists - no need to re-run ;)\n",
      "T202_2019_05_16_Notebook_4_d: This session already exists - no need to re-run ;)\n",
      "2019_05_16__T202_T202-165613\n",
      "Notebook_5_a.ipynb is being executed\n"
     ]
    },
    {
     "data": {
      "application/vnd.jupyter.widget-view+json": {
       "model_id": "18ca06d723764dec8a87f6d4b19fb0a4",
       "version_major": 2,
       "version_minor": 0
      },
      "text/plain": [
       "HBox(children=(FloatProgress(value=0.0, description='Executing', max=18.0, style=ProgressStyle(description_wid…"
      ]
     },
     "metadata": {},
     "output_type": "display_data"
    },
    {
     "name": "stdout",
     "output_type": "stream",
     "text": [
      "\n",
      "2019_05_16__T202_T202-165613\n",
      "Notebook_6_b.ipynb is being executed\n"
     ]
    },
    {
     "data": {
      "application/vnd.jupyter.widget-view+json": {
       "model_id": "1c2fe5eb6a6d4b1a900809ebe29f28e9",
       "version_major": 2,
       "version_minor": 0
      },
      "text/plain": [
       "HBox(children=(FloatProgress(value=0.0, description='Executing', max=12.0, style=ProgressStyle(description_wid…"
      ]
     },
     "metadata": {},
     "output_type": "display_data"
    },
    {
     "name": "stdout",
     "output_type": "stream",
     "text": [
      "\n",
      "2019_05_16__T202_T202-165613\n",
      "Notebook_7_a.ipynb is being executed\n"
     ]
    },
    {
     "data": {
      "application/vnd.jupyter.widget-view+json": {
       "model_id": "6605167e7c1b4af7a57c6481b10023e0",
       "version_major": 2,
       "version_minor": 0
      },
      "text/plain": [
       "HBox(children=(FloatProgress(value=0.0, description='Executing', max=6.0, style=ProgressStyle(description_widt…"
      ]
     },
     "metadata": {},
     "output_type": "display_data"
    },
    {
     "name": "stdout",
     "output_type": "stream",
     "text": [
      "\n"
     ]
    }
   ],
   "source": [
    "# Mouse_Date_FileName: data set we want to run \n",
    "#nb_list: notebooks that we want to run \n",
    "#nb_path: where is the repository that you are running \n",
    "#seq_str: noteboks that we want to run - in code version \n",
    "#dict_for_pm: parameters of the data set \n",
    "ophf.run_dataset(Mouse_Date_FileName,nb_list,nb_path,seq_str,dict_for_pm)"
   ]
  },
  {
   "cell_type": "code",
   "execution_count": null,
   "metadata": {},
   "outputs": [],
   "source": []
  },
  {
   "cell_type": "code",
   "execution_count": null,
   "metadata": {},
   "outputs": [],
   "source": []
  }
 ],
 "metadata": {
  "celltoolbar": "Tags",
  "kernelspec": {
   "display_name": "Python 3",
   "language": "python",
   "name": "python3"
  },
  "language_info": {
   "codemirror_mode": {
    "name": "ipython",
    "version": 3
   },
   "file_extension": ".py",
   "mimetype": "text/x-python",
   "name": "python",
   "nbconvert_exporter": "python",
   "pygments_lexer": "ipython3",
   "version": "3.7.3"
  }
 },
 "nbformat": 4,
 "nbformat_minor": 2
}
