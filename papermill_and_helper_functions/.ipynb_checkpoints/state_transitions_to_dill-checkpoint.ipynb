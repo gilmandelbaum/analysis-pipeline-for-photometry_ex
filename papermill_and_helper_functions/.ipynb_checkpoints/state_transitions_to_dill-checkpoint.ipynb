{
 "cells": [
  {
   "cell_type": "code",
   "execution_count": 1,
   "metadata": {},
   "outputs": [],
   "source": [
    "import dill"
   ]
  },
  {
   "cell_type": "code",
   "execution_count": 2,
   "metadata": {},
   "outputs": [],
   "source": [
    "state_ENL = [(29, 32), (29, 30), (30, 30), (30, 32), (32, 33), (33, 33), (33, 29), (30,38)]\n",
    "state_ENL_and_ENLpenalties = [(29, 30), (29, 32), (30, 30), (30, 32), (31, 32), (32, 33), (33, 33), (33, 29)]\n",
    "state_ENLp = [(29, 32), (30, 32)]#, (31, 32), (32, 33), (32, 32), (30, 33), (33, 33)]\n",
    "    \n",
    "#Cue and Selection Time\n",
    "state_Cue_to_Selection = [(38, 39), (38, 41), (39, 39), (39, 41), (41, 42), (42, 42)]+[(39, 47), (47, 48), (48, 48), (48, 49)]\n",
    "    \n",
    "#Selection \n",
    "state_SelectRew=[(47,50), (48, 50)]\n",
    "state_SelectNonRew=[(47, 54), (48, 54)]\n",
    "    \n",
    "#Consumption\n",
    "state_collectRew=[(53, 53),(50, 51), (51, 51), (51, 52), (52, 53), (53, 61)] \n",
    "state_NonRew= [(55, 55), (54, 55), (55, 56)]\n",
    "    \n",
    "states_EndOfTrial_notIdentified= [(61, 82), (82, 62), (62, 63), (55, 61), (63, 78),  (78, 66), (66, 75), (58, 61), (58, 58), (75, 16)]\n",
    "states_StartOfTrial_notIdentified = [(63, 20),(20, 21), (21,14), (14, 24), (24, 25), (25, 27), (27, 23), (16, 20)]\n",
    "states_FreeRewards = [(63, 93), (93, 94), (94, 94), (94, 95), (95, 96), (96, 96), (96, 20)]\n",
    "state_TO = [(58, 58)]"
   ]
  },
  {
   "cell_type": "code",
   "execution_count": 3,
   "metadata": {},
   "outputs": [],
   "source": [
    "dill.dump_session('state_transitions.db')"
   ]
  },
  {
   "cell_type": "code",
   "execution_count": null,
   "metadata": {},
   "outputs": [],
   "source": []
  }
 ],
 "metadata": {
  "kernelspec": {
   "display_name": "Python 3",
   "language": "python",
   "name": "python3"
  },
  "language_info": {
   "codemirror_mode": {
    "name": "ipython",
    "version": 3
   },
   "file_extension": ".py",
   "mimetype": "text/x-python",
   "name": "python",
   "nbconvert_exporter": "python",
   "pygments_lexer": "ipython3",
   "version": "3.7.3"
  }
 },
 "nbformat": 4,
 "nbformat_minor": 2
}
