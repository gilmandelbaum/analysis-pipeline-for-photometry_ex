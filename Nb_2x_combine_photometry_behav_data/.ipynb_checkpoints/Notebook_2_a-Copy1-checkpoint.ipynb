{
 "cells": [
  {
   "cell_type": "markdown",
   "metadata": {},
   "source": [
    "# Notebook 2_a"
   ]
  },
  {
   "cell_type": "code",
   "execution_count": 2,
   "metadata": {},
   "outputs": [],
   "source": [
    "import pickle\n",
    "from pathlib import Path\n",
    "import tdt\n",
    "import pandas as pd \n",
    "import os"
   ]
  },
  {
   "cell_type": "code",
   "execution_count": 3,
   "metadata": {},
   "outputs": [],
   "source": [
    "import Notebook_2_helper_functions as Nb_2"
   ]
  },
  {
   "cell_type": "code",
   "execution_count": 15,
   "metadata": {
    "tags": [
     "parameters"
    ]
   },
   "outputs": [],
   "source": [
    "mouse = 'T240'\n",
    "data_day = '2019_09_27__T240'\n",
    "date = '2019_09_27'\n",
    "\n",
    "photo_day = 'T240-145905'\n",
    "\n",
    "HowManyBack=1 \n",
    "\n",
    "data_dir_input = \"/Users/gilmandelbaum/Desktop/T240_mouse\"\n",
    "data_dir_output = \"/Users/gilmandelbaum/Desktop/output/\"\n",
    "\n",
    "seq_str = \"0a1b2a3b4ab5a6abc10a\""
   ]
  },
  {
   "cell_type": "markdown",
   "metadata": {},
   "source": [
    "# Import behavior related data per state transition"
   ]
  },
  {
   "cell_type": "code",
   "execution_count": 5,
   "metadata": {},
   "outputs": [],
   "source": [
    "behavior_data_states = pd.read_csv(data_dir_input+\"/\"+mouse+\"/\"+data_day+\"/\"+mouse+\"_dataAnalog.csv\")"
   ]
  },
  {
   "cell_type": "code",
   "execution_count": 6,
   "metadata": {
    "scrolled": true
   },
   "outputs": [],
   "source": [
    "behavior_data_states = Nb_2.prepare_behavior_data(behavior_data_states)"
   ]
  },
  {
   "cell_type": "markdown",
   "metadata": {},
   "source": [
    "# Import photometry data\n"
   ]
  },
  {
   "cell_type": "code",
   "execution_count": 7,
   "metadata": {},
   "outputs": [
    {
     "name": "stdout",
     "output_type": "stream",
     "text": [
      "read from t=0s to t=1345.46s\n"
     ]
    }
   ],
   "source": [
    "photometry_data = tdt.read_block(data_dir_input+\"/\"+mouse+\"/\"+photo_day)"
   ]
  },
  {
   "cell_type": "markdown",
   "metadata": {},
   "source": [
    "# Grab only what is needed from the TDT photo tanks and make a df. "
   ]
  },
  {
   "cell_type": "code",
   "execution_count": 8,
   "metadata": {},
   "outputs": [],
   "source": [
    "#The photometry TDT data structure has a lot of info. \n",
    "#We will create 1 data frame that has: \n",
    "# \n",
    "#['d2 R' , 'd1 R', 'd2 L', \"d1 L\", \"toBehSys\", \"fromBehSys\" ]\n",
    "\n",
    "def reading_in_photometryData_all_Channels(data):\n",
    "    photometry_all_channels_d = {}\n",
    "    photometry_all_channels_d[\"d2 R\"]=photometry_data.streams.grn1.data \n",
    "    photometry_all_channels_d[\"d1 R\"]=photometry_data.streams.red1.data \n",
    "    \n",
    "    \n",
    "    photometry_all_channels_d[\"d2 L\"]=photometry_data.streams.grn2.data \n",
    "    photometry_all_channels_d[\"d1 L\"]=photometry_data.streams.red2.data \n",
    "    \n",
    "    \n",
    "    \n",
    "    photometry_all_channels_d[\"toBehSys\"]=photometry_data.streams.toGG.data \n",
    "    photometry_all_channels_d[\"fromBehSys\"]=photometry_data.streams.froG.data \n",
    "    photometry_all_channels= pd.DataFrame(data=photometry_all_channels_d)\n",
    "    \n",
    "    return (photometry_all_channels)"
   ]
  },
  {
   "cell_type": "code",
   "execution_count": 9,
   "metadata": {},
   "outputs": [],
   "source": [
    "photometry_all_channels=reading_in_photometryData_all_Channels(photometry_data)"
   ]
  },
  {
   "cell_type": "markdown",
   "metadata": {},
   "source": [
    "# Clean the photometry data (or any neural data)"
   ]
  },
  {
   "cell_type": "code",
   "execution_count": 10,
   "metadata": {},
   "outputs": [],
   "source": [
    "photometry_all_channels_clean = Nb_2.handshake_behav_recording_sys(photometry_all_channels)"
   ]
  },
  {
   "cell_type": "markdown",
   "metadata": {},
   "source": [
    "# Clean behavior states data "
   ]
  },
  {
   "cell_type": "code",
   "execution_count": 11,
   "metadata": {},
   "outputs": [],
   "source": [
    "behavior_data_states_clean = Nb_2.define_behavior_data_states(behavior_data_states)"
   ]
  },
  {
   "cell_type": "code",
   "execution_count": 12,
   "metadata": {},
   "outputs": [
    {
     "data": {
      "text/html": [
       "<div>\n",
       "<style scoped>\n",
       "    .dataframe tbody tr th:only-of-type {\n",
       "        vertical-align: middle;\n",
       "    }\n",
       "\n",
       "    .dataframe tbody tr th {\n",
       "        vertical-align: top;\n",
       "    }\n",
       "\n",
       "    .dataframe thead th {\n",
       "        text-align: right;\n",
       "    }\n",
       "</style>\n",
       "<table border=\"1\" class=\"dataframe\">\n",
       "  <thead>\n",
       "    <tr style=\"text-align: right;\">\n",
       "      <th></th>\n",
       "      <th>d2 R</th>\n",
       "      <th>d1 R</th>\n",
       "      <th>d2 L</th>\n",
       "      <th>d1 L</th>\n",
       "      <th>toBehSys</th>\n",
       "      <th>fromBehSys</th>\n",
       "    </tr>\n",
       "  </thead>\n",
       "  <tbody>\n",
       "    <tr>\n",
       "      <th>0</th>\n",
       "      <td>1110.641357</td>\n",
       "      <td>319.187805</td>\n",
       "      <td>889.529785</td>\n",
       "      <td>807.124390</td>\n",
       "      <td>1.0</td>\n",
       "      <td>0.0</td>\n",
       "    </tr>\n",
       "    <tr>\n",
       "      <th>1</th>\n",
       "      <td>1110.641357</td>\n",
       "      <td>319.188416</td>\n",
       "      <td>889.528992</td>\n",
       "      <td>807.125305</td>\n",
       "      <td>1.0</td>\n",
       "      <td>0.0</td>\n",
       "    </tr>\n",
       "    <tr>\n",
       "      <th>2</th>\n",
       "      <td>1110.641357</td>\n",
       "      <td>319.189056</td>\n",
       "      <td>889.528198</td>\n",
       "      <td>807.126221</td>\n",
       "      <td>1.0</td>\n",
       "      <td>0.0</td>\n",
       "    </tr>\n",
       "    <tr>\n",
       "      <th>3</th>\n",
       "      <td>1110.641235</td>\n",
       "      <td>319.189667</td>\n",
       "      <td>889.527405</td>\n",
       "      <td>807.127075</td>\n",
       "      <td>1.0</td>\n",
       "      <td>0.0</td>\n",
       "    </tr>\n",
       "    <tr>\n",
       "      <th>4</th>\n",
       "      <td>1110.641235</td>\n",
       "      <td>319.190308</td>\n",
       "      <td>889.526672</td>\n",
       "      <td>807.127991</td>\n",
       "      <td>1.0</td>\n",
       "      <td>0.0</td>\n",
       "    </tr>\n",
       "  </tbody>\n",
       "</table>\n",
       "</div>"
      ],
      "text/plain": [
       "          d2 R        d1 R        d2 L        d1 L  toBehSys  fromBehSys\n",
       "0  1110.641357  319.187805  889.529785  807.124390       1.0         0.0\n",
       "1  1110.641357  319.188416  889.528992  807.125305       1.0         0.0\n",
       "2  1110.641357  319.189056  889.528198  807.126221       1.0         0.0\n",
       "3  1110.641235  319.189667  889.527405  807.127075       1.0         0.0\n",
       "4  1110.641235  319.190308  889.526672  807.127991       1.0         0.0"
      ]
     },
     "execution_count": 12,
     "metadata": {},
     "output_type": "execute_result"
    }
   ],
   "source": [
    "photometry_all_channels_clean.head()"
   ]
  },
  {
   "cell_type": "code",
   "execution_count": 21,
   "metadata": {},
   "outputs": [],
   "source": [
    "cache_dir_plt = os.path.join(data_dir_output+'/'+mouse+'/'+data_day, str(HowManyBack)+'_Back',\"0.plots\")\n",
    "path_to_plot = cache_dir_plt+\"/\"+seq_str[:seq_str.index(\"3\")]+\"_plot\""
   ]
  },
  {
   "cell_type": "code",
   "execution_count": null,
   "metadata": {},
   "outputs": [],
   "source": []
  },
  {
   "cell_type": "code",
   "execution_count": null,
   "metadata": {},
   "outputs": [],
   "source": [
    "fig.savefig(path_to_plot+\"_1\"+'.pdf')"
   ]
  },
  {
   "cell_type": "markdown",
   "metadata": {},
   "source": [
    "# pre syncing steps for photometry data (or any neural data) and behavior data "
   ]
  },
  {
   "cell_type": "code",
   "execution_count": null,
   "metadata": {},
   "outputs": [],
   "source": [
    "behavior_data_states_clean_binNumberlist=Nb_2.number_of_bins_beh_data_per_trial(behavior_data_states_clean)"
   ]
  },
  {
   "cell_type": "code",
   "execution_count": null,
   "metadata": {},
   "outputs": [],
   "source": [
    "photometry_all_channels_clean_binNumberlist = Nb_2.number_of_bins_photo_data_per_trial(photometry_all_channels_clean)"
   ]
  },
  {
   "cell_type": "markdown",
   "metadata": {},
   "source": [
    "# Resample the photometry data (or any neural data) and align to 200 hz state transition behavioral data "
   ]
  },
  {
   "cell_type": "code",
   "execution_count": null,
   "metadata": {},
   "outputs": [],
   "source": [
    "aligned_behav_photo = Nb_2.resample_photoData_and_align_photo_with_beh(behavior_data_states_clean_binNumberlist,\n",
    "                                                            behavior_data_states_clean,\n",
    "                                                            photometry_all_channels_clean,\n",
    "                                                            photometry_all_channels_clean_binNumberlist)"
   ]
  },
  {
   "cell_type": "code",
   "execution_count": null,
   "metadata": {
    "scrolled": true
   },
   "outputs": [],
   "source": [
    "aligned_behav_photo = Nb_2.tag_real_full_trial(aligned_behav_photo)"
   ]
  },
  {
   "cell_type": "code",
   "execution_count": null,
   "metadata": {},
   "outputs": [],
   "source": [
    "root = Path(data_dir_output+\"/\"+mouse+\"/\"+data_day+'/'+str(HowManyBack)+\"_Back\")\n",
    "d = mouse+\"_\"+date+\"Notebook_2_a.pickle\"\n",
    "my_path = root / d \n",
    "my_file = open(my_path, 'wb')\n",
    "my_file = pickle.dump(aligned_behav_photo,my_file)"
   ]
  },
  {
   "cell_type": "code",
   "execution_count": null,
   "metadata": {},
   "outputs": [],
   "source": []
  }
 ],
 "metadata": {
  "celltoolbar": "Tags",
  "kernelspec": {
   "display_name": "Python 3",
   "language": "python",
   "name": "python3"
  },
  "language_info": {
   "codemirror_mode": {
    "name": "ipython",
    "version": 3
   },
   "file_extension": ".py",
   "mimetype": "text/x-python",
   "name": "python",
   "nbconvert_exporter": "python",
   "pygments_lexer": "ipython3",
   "version": "3.7.3"
  }
 },
 "nbformat": 4,
 "nbformat_minor": 2
}
