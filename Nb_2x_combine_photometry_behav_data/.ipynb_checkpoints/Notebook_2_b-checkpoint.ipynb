{
 "cells": [
  {
   "cell_type": "markdown",
   "metadata": {},
   "source": [
    "# Notebook 2_b"
   ]
  },
  {
   "cell_type": "code",
   "execution_count": 1,
   "metadata": {},
   "outputs": [],
   "source": [
    "import pickle\n",
    "from pathlib import Path\n",
    "import tdt\n",
    "import pandas as pd \n",
    "import scipy.signal as sp_signal"
   ]
  },
  {
   "cell_type": "code",
   "execution_count": 2,
   "metadata": {},
   "outputs": [],
   "source": [
    "import Notebook_2_helper_functions as Nb_2"
   ]
  },
  {
   "cell_type": "code",
   "execution_count": 3,
   "metadata": {
    "tags": [
     "parameters"
    ]
   },
   "outputs": [],
   "source": [
    "mouse = 'T240'\n",
    "data_day = '2019_09_27__T240'\n",
    "date = '2019_09_27'\n",
    "\n",
    "photo_day = 'T240-145905'\n",
    "\n",
    "HowManyBack=1 \n",
    "\n",
    "data_dir_input = \"/Users/gilmandelbaum/Desktop/T240_mouse\"\n",
    "data_dir_output = \"/Users/gilmandelbaum/Desktop/output/\""
   ]
  },
  {
   "cell_type": "markdown",
   "metadata": {},
   "source": [
    "# Import behavior related data per state transition"
   ]
  },
  {
   "cell_type": "code",
   "execution_count": 4,
   "metadata": {},
   "outputs": [],
   "source": [
    "behavior_data_states = pd.read_csv(data_dir_input+\"/\"+mouse+\"/\"+data_day+\"/\"+mouse+\"_dataAnalog.csv\")"
   ]
  },
  {
   "cell_type": "code",
   "execution_count": 5,
   "metadata": {
    "scrolled": true
   },
   "outputs": [],
   "source": [
    "behavior_data_states = Nb_2.prepare_behavior_data(behavior_data_states)"
   ]
  },
  {
   "cell_type": "markdown",
   "metadata": {},
   "source": [
    "# Import photometry data\n"
   ]
  },
  {
   "cell_type": "code",
   "execution_count": 6,
   "metadata": {},
   "outputs": [
    {
     "name": "stdout",
     "output_type": "stream",
     "text": [
      "read from t=0s to t=1345.46s\n"
     ]
    }
   ],
   "source": [
    "photometry_data = tdt.read_block(data_dir_input+\"/\"+mouse+\"/\"+photo_day)"
   ]
  },
  {
   "cell_type": "markdown",
   "metadata": {},
   "source": [
    "# Grab only what is needed from the TDT photo tanks and make a df. "
   ]
  },
  {
   "cell_type": "code",
   "execution_count": 7,
   "metadata": {},
   "outputs": [],
   "source": [
    "#The photometry TDT data structure has a lot of info. \n",
    "#We will create 1 data frame that has: \n",
    "# \n",
    "#['d2 R' , 'd1 R', 'd2 L', \"d1 L\", \"toBehSys\", \"fromBehSys\" ]\n",
    "\n",
    "def reading_in_photometryData_all_Channels(data):\n",
    "    photometry_all_channels_d = {}\n",
    "    photometry_all_channels_d[\"d2 R\"]=photometry_data.streams.grn1.data \n",
    "    photometry_all_channels_d[\"d1 R\"]=photometry_data.streams.red1.data \n",
    "    \n",
    "    \n",
    "    photometry_all_channels_d[\"d2 L\"]=photometry_data.streams.grn2.data \n",
    "    photometry_all_channels_d[\"d1 L\"]=photometry_data.streams.red2.data \n",
    "    \n",
    "    \n",
    "    \n",
    "    photometry_all_channels_d[\"toBehSys\"]=photometry_data.streams.toGG.data \n",
    "    photometry_all_channels_d[\"fromBehSys\"]=photometry_data.streams.froG.data \n",
    "    photometry_all_channels= pd.DataFrame(data=photometry_all_channels_d)\n",
    "    \n",
    "    return (photometry_all_channels)"
   ]
  },
  {
   "cell_type": "code",
   "execution_count": 8,
   "metadata": {},
   "outputs": [],
   "source": [
    "photometry_all_channels=reading_in_photometryData_all_Channels(photometry_data)"
   ]
  },
  {
   "cell_type": "markdown",
   "metadata": {},
   "source": [
    "# Clean the photometry data (or any neural data)"
   ]
  },
  {
   "cell_type": "code",
   "execution_count": 9,
   "metadata": {},
   "outputs": [],
   "source": [
    "photometry_all_channels_clean = Nb_2.handshake_behav_recording_sys(photometry_all_channels)"
   ]
  },
  {
   "cell_type": "markdown",
   "metadata": {},
   "source": [
    "# Clean behavior states data "
   ]
  },
  {
   "cell_type": "code",
   "execution_count": 10,
   "metadata": {},
   "outputs": [],
   "source": [
    "behavior_data_states_clean = Nb_2.define_behavior_data_states(behavior_data_states)"
   ]
  },
  {
   "cell_type": "markdown",
   "metadata": {},
   "source": [
    "# pre syncing steps for photometry data (or any neural data) and behavior data "
   ]
  },
  {
   "cell_type": "code",
   "execution_count": 11,
   "metadata": {},
   "outputs": [],
   "source": [
    "behavior_data_states_clean_binNumberlist=Nb_2.number_of_bins_beh_data_per_trial(behavior_data_states_clean)"
   ]
  },
  {
   "cell_type": "code",
   "execution_count": 12,
   "metadata": {},
   "outputs": [],
   "source": [
    "photometry_all_channels_clean_binNumberlist = Nb_2.number_of_bins_photo_data_per_trial(photometry_all_channels_clean)"
   ]
  },
  {
   "cell_type": "markdown",
   "metadata": {},
   "source": [
    "# Resample the photometry data (or any neural data) and align to 200 hz state transition behavioral data "
   ]
  },
  {
   "cell_type": "code",
   "execution_count": 24,
   "metadata": {},
   "outputs": [
    {
     "data": {
      "text/html": [
       "<div>\n",
       "<style scoped>\n",
       "    .dataframe tbody tr th:only-of-type {\n",
       "        vertical-align: middle;\n",
       "    }\n",
       "\n",
       "    .dataframe tbody tr th {\n",
       "        vertical-align: top;\n",
       "    }\n",
       "\n",
       "    .dataframe thead th {\n",
       "        text-align: right;\n",
       "    }\n",
       "</style>\n",
       "<table border=\"1\" class=\"dataframe\">\n",
       "  <thead>\n",
       "    <tr style=\"text-align: right;\">\n",
       "      <th></th>\n",
       "      <th>d2 R</th>\n",
       "      <th>d1 R</th>\n",
       "      <th>d2 L</th>\n",
       "      <th>d1 L</th>\n",
       "      <th>toBehSys</th>\n",
       "      <th>fromBehSys</th>\n",
       "    </tr>\n",
       "  </thead>\n",
       "  <tbody>\n",
       "    <tr>\n",
       "      <th>0</th>\n",
       "      <td>1110.641357</td>\n",
       "      <td>319.187805</td>\n",
       "      <td>889.529785</td>\n",
       "      <td>807.124390</td>\n",
       "      <td>1.0</td>\n",
       "      <td>0.0</td>\n",
       "    </tr>\n",
       "    <tr>\n",
       "      <th>1</th>\n",
       "      <td>1110.641357</td>\n",
       "      <td>319.188416</td>\n",
       "      <td>889.528992</td>\n",
       "      <td>807.125305</td>\n",
       "      <td>1.0</td>\n",
       "      <td>0.0</td>\n",
       "    </tr>\n",
       "    <tr>\n",
       "      <th>2</th>\n",
       "      <td>1110.641357</td>\n",
       "      <td>319.189056</td>\n",
       "      <td>889.528198</td>\n",
       "      <td>807.126221</td>\n",
       "      <td>1.0</td>\n",
       "      <td>0.0</td>\n",
       "    </tr>\n",
       "    <tr>\n",
       "      <th>3</th>\n",
       "      <td>1110.641235</td>\n",
       "      <td>319.189667</td>\n",
       "      <td>889.527405</td>\n",
       "      <td>807.127075</td>\n",
       "      <td>1.0</td>\n",
       "      <td>0.0</td>\n",
       "    </tr>\n",
       "    <tr>\n",
       "      <th>4</th>\n",
       "      <td>1110.641235</td>\n",
       "      <td>319.190308</td>\n",
       "      <td>889.526672</td>\n",
       "      <td>807.127991</td>\n",
       "      <td>1.0</td>\n",
       "      <td>0.0</td>\n",
       "    </tr>\n",
       "    <tr>\n",
       "      <th>...</th>\n",
       "      <td>...</td>\n",
       "      <td>...</td>\n",
       "      <td>...</td>\n",
       "      <td>...</td>\n",
       "      <td>...</td>\n",
       "      <td>...</td>\n",
       "    </tr>\n",
       "    <tr>\n",
       "      <th>8162261</th>\n",
       "      <td>1046.929810</td>\n",
       "      <td>295.138245</td>\n",
       "      <td>856.593201</td>\n",
       "      <td>736.605835</td>\n",
       "      <td>0.0</td>\n",
       "      <td>1.0</td>\n",
       "    </tr>\n",
       "    <tr>\n",
       "      <th>8162262</th>\n",
       "      <td>1046.927979</td>\n",
       "      <td>295.137909</td>\n",
       "      <td>856.590149</td>\n",
       "      <td>736.606262</td>\n",
       "      <td>0.0</td>\n",
       "      <td>1.0</td>\n",
       "    </tr>\n",
       "    <tr>\n",
       "      <th>8162263</th>\n",
       "      <td>1046.926270</td>\n",
       "      <td>295.137634</td>\n",
       "      <td>856.587036</td>\n",
       "      <td>736.606689</td>\n",
       "      <td>0.0</td>\n",
       "      <td>1.0</td>\n",
       "    </tr>\n",
       "    <tr>\n",
       "      <th>8162264</th>\n",
       "      <td>1046.924561</td>\n",
       "      <td>295.137360</td>\n",
       "      <td>856.583984</td>\n",
       "      <td>736.607056</td>\n",
       "      <td>0.0</td>\n",
       "      <td>1.0</td>\n",
       "    </tr>\n",
       "    <tr>\n",
       "      <th>8162265</th>\n",
       "      <td>1046.922729</td>\n",
       "      <td>295.137085</td>\n",
       "      <td>856.580872</td>\n",
       "      <td>736.607422</td>\n",
       "      <td>0.0</td>\n",
       "      <td>1.0</td>\n",
       "    </tr>\n",
       "  </tbody>\n",
       "</table>\n",
       "<p>8162266 rows × 6 columns</p>\n",
       "</div>"
      ],
      "text/plain": [
       "                d2 R        d1 R        d2 L        d1 L  toBehSys  fromBehSys\n",
       "0        1110.641357  319.187805  889.529785  807.124390       1.0         0.0\n",
       "1        1110.641357  319.188416  889.528992  807.125305       1.0         0.0\n",
       "2        1110.641357  319.189056  889.528198  807.126221       1.0         0.0\n",
       "3        1110.641235  319.189667  889.527405  807.127075       1.0         0.0\n",
       "4        1110.641235  319.190308  889.526672  807.127991       1.0         0.0\n",
       "...              ...         ...         ...         ...       ...         ...\n",
       "8162261  1046.929810  295.138245  856.593201  736.605835       0.0         1.0\n",
       "8162262  1046.927979  295.137909  856.590149  736.606262       0.0         1.0\n",
       "8162263  1046.926270  295.137634  856.587036  736.606689       0.0         1.0\n",
       "8162264  1046.924561  295.137360  856.583984  736.607056       0.0         1.0\n",
       "8162265  1046.922729  295.137085  856.580872  736.607422       0.0         1.0\n",
       "\n",
       "[8162266 rows x 6 columns]"
      ]
     },
     "execution_count": 24,
     "metadata": {},
     "output_type": "execute_result"
    }
   ],
   "source": [
    "photometry_all_channels_clean"
   ]
  },
  {
   "cell_type": "code",
   "execution_count": 25,
   "metadata": {},
   "outputs": [
    {
     "data": {
      "text/html": [
       "<div>\n",
       "<style scoped>\n",
       "    .dataframe tbody tr th:only-of-type {\n",
       "        vertical-align: middle;\n",
       "    }\n",
       "\n",
       "    .dataframe tbody tr th {\n",
       "        vertical-align: top;\n",
       "    }\n",
       "\n",
       "    .dataframe thead th {\n",
       "        text-align: right;\n",
       "    }\n",
       "</style>\n",
       "<table border=\"1\" class=\"dataframe\">\n",
       "  <thead>\n",
       "    <tr style=\"text-align: right;\">\n",
       "      <th></th>\n",
       "      <th>d2 R</th>\n",
       "      <th>d1 R</th>\n",
       "      <th>d2 L</th>\n",
       "      <th>d1 L</th>\n",
       "    </tr>\n",
       "  </thead>\n",
       "  <tbody>\n",
       "    <tr>\n",
       "      <th>0</th>\n",
       "      <td>1110.641357</td>\n",
       "      <td>319.187805</td>\n",
       "      <td>889.529785</td>\n",
       "      <td>807.124390</td>\n",
       "    </tr>\n",
       "    <tr>\n",
       "      <th>1</th>\n",
       "      <td>1110.641357</td>\n",
       "      <td>319.188416</td>\n",
       "      <td>889.528992</td>\n",
       "      <td>807.125305</td>\n",
       "    </tr>\n",
       "    <tr>\n",
       "      <th>2</th>\n",
       "      <td>1110.641357</td>\n",
       "      <td>319.189056</td>\n",
       "      <td>889.528198</td>\n",
       "      <td>807.126221</td>\n",
       "    </tr>\n",
       "    <tr>\n",
       "      <th>3</th>\n",
       "      <td>1110.641235</td>\n",
       "      <td>319.189667</td>\n",
       "      <td>889.527405</td>\n",
       "      <td>807.127075</td>\n",
       "    </tr>\n",
       "    <tr>\n",
       "      <th>4</th>\n",
       "      <td>1110.641235</td>\n",
       "      <td>319.190308</td>\n",
       "      <td>889.526672</td>\n",
       "      <td>807.127991</td>\n",
       "    </tr>\n",
       "    <tr>\n",
       "      <th>...</th>\n",
       "      <td>...</td>\n",
       "      <td>...</td>\n",
       "      <td>...</td>\n",
       "      <td>...</td>\n",
       "    </tr>\n",
       "    <tr>\n",
       "      <th>1996</th>\n",
       "      <td>1109.903076</td>\n",
       "      <td>319.047699</td>\n",
       "      <td>889.847534</td>\n",
       "      <td>807.476013</td>\n",
       "    </tr>\n",
       "    <tr>\n",
       "      <th>1997</th>\n",
       "      <td>1109.902344</td>\n",
       "      <td>319.048004</td>\n",
       "      <td>889.849121</td>\n",
       "      <td>807.474792</td>\n",
       "    </tr>\n",
       "    <tr>\n",
       "      <th>1998</th>\n",
       "      <td>1109.901611</td>\n",
       "      <td>319.048279</td>\n",
       "      <td>889.850708</td>\n",
       "      <td>807.473572</td>\n",
       "    </tr>\n",
       "    <tr>\n",
       "      <th>1999</th>\n",
       "      <td>1109.900879</td>\n",
       "      <td>319.048584</td>\n",
       "      <td>889.852295</td>\n",
       "      <td>807.472351</td>\n",
       "    </tr>\n",
       "    <tr>\n",
       "      <th>2000</th>\n",
       "      <td>1109.900146</td>\n",
       "      <td>319.048859</td>\n",
       "      <td>889.853882</td>\n",
       "      <td>807.471069</td>\n",
       "    </tr>\n",
       "  </tbody>\n",
       "</table>\n",
       "<p>2001 rows × 4 columns</p>\n",
       "</div>"
      ],
      "text/plain": [
       "             d2 R        d1 R        d2 L        d1 L\n",
       "0     1110.641357  319.187805  889.529785  807.124390\n",
       "1     1110.641357  319.188416  889.528992  807.125305\n",
       "2     1110.641357  319.189056  889.528198  807.126221\n",
       "3     1110.641235  319.189667  889.527405  807.127075\n",
       "4     1110.641235  319.190308  889.526672  807.127991\n",
       "...           ...         ...         ...         ...\n",
       "1996  1109.903076  319.047699  889.847534  807.476013\n",
       "1997  1109.902344  319.048004  889.849121  807.474792\n",
       "1998  1109.901611  319.048279  889.850708  807.473572\n",
       "1999  1109.900879  319.048584  889.852295  807.472351\n",
       "2000  1109.900146  319.048859  889.853882  807.471069\n",
       "\n",
       "[2001 rows x 4 columns]"
      ]
     },
     "execution_count": 25,
     "metadata": {},
     "output_type": "execute_result"
    }
   ],
   "source": [
    "photometry_all_channels_clean.loc[0:2000,['d2 R', 'd1 R', 'd2 L', 'd1 L']]"
   ]
  },
  {
   "cell_type": "code",
   "execution_count": 32,
   "metadata": {},
   "outputs": [],
   "source": [
    "def resample_photoData_and_align_photo_with_beh_1(beh_binslist, behdf, photo_raw, photo_binslist):\n",
    "    if len(photo_binslist) < len(beh_binslist):\n",
    "        shorter_list = len(photo_binslist)\n",
    "    else: \n",
    "        shorter_list = len(beh_binslist)\n",
    "\n",
    "    beh_binslist_short= beh_binslist[0:(shorter_list)]\n",
    "    photo_binslist_short= photo_binslist[0:(shorter_list)]\n",
    "    \n",
    "\n",
    "    total_num_behav_bins = sum(beh_binslist_short)\n",
    "    total_num_photo_bins = sum (photo_binslist_short)\n",
    "    \n",
    "    #print (total_num_behav_bins)\n",
    "    #print (total_num_photo_bins)\n",
    "    \n",
    "    photo_raw_to_resample = photo_raw.loc[0:(total_num_photo_bins-1),['d2 R', 'd1 R', 'd2 L', 'd1 L']]\n",
    "    #print (len (photo_raw_to_resample))\n",
    "    photo_resample = pd.DataFrame(sp_signal.resample(photo_raw_to_resample, total_num_behav_bins))\n",
    "    \n",
    "    photo_resample.columns = ['d2 R', 'd1 R', 'd2 L', 'd1 L']\n",
    "    \n",
    "    df_photo_beh = pd.concat([behdf, photo_resample], axis=1)\n",
    "    \n",
    "    \n",
    "    return (df_photo_beh)"
   ]
  },
  {
   "cell_type": "code",
   "execution_count": 33,
   "metadata": {},
   "outputs": [
    {
     "name": "stdout",
     "output_type": "stream",
     "text": [
      "265428\n",
      "8130603\n",
      "8130603\n"
     ]
    }
   ],
   "source": [
    "aligned_behav_photo = resample_photoData_and_align_photo_with_beh_1(behavior_data_states_clean_binNumberlist,\n",
    "                                                                    behavior_data_states_clean,\n",
    "                                                                    photometry_all_channels_clean,\n",
    "                                                                    photometry_all_channels_clean_binNumberlist)"
   ]
  },
  {
   "cell_type": "code",
   "execution_count": null,
   "metadata": {
    "scrolled": true
   },
   "outputs": [],
   "source": [
    "aligned_behav_photo = Nb_2.tag_real_full_trial(aligned_behav_photo)"
   ]
  },
  {
   "cell_type": "code",
   "execution_count": null,
   "metadata": {},
   "outputs": [],
   "source": [
    "root = Path(data_dir_output+\"/\"+mouse+\"/\"+data_day+'/'+str(HowManyBack)+\"_Back\")\n",
    "d = mouse+\"_\"+date+\"Notebook_2_b.pickle\"\n",
    "my_path = root / d \n",
    "my_file = open(my_path, 'wb')\n",
    "my_file = pickle.dump(aligned_behav_photo,my_file)"
   ]
  },
  {
   "cell_type": "code",
   "execution_count": null,
   "metadata": {},
   "outputs": [],
   "source": []
  }
 ],
 "metadata": {
  "celltoolbar": "Tags",
  "kernelspec": {
   "display_name": "Python 3",
   "language": "python",
   "name": "python3"
  },
  "language_info": {
   "codemirror_mode": {
    "name": "ipython",
    "version": 3
   },
   "file_extension": ".py",
   "mimetype": "text/x-python",
   "name": "python",
   "nbconvert_exporter": "python",
   "pygments_lexer": "ipython3",
   "version": "3.7.3"
  }
 },
 "nbformat": 4,
 "nbformat_minor": 2
}
