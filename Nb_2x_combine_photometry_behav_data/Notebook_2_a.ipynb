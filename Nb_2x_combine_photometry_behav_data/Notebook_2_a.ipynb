{
 "cells": [
  {
   "cell_type": "markdown",
   "metadata": {},
   "source": [
    "# Notebook 2_a"
   ]
  },
  {
   "cell_type": "code",
   "execution_count": 2,
   "metadata": {},
   "outputs": [],
   "source": [
    "import pickle\n",
    "from pathlib import Path\n",
    "import tdt\n",
    "import pandas as pd \n",
    "import papermill as pm"
   ]
  },
  {
   "cell_type": "code",
   "execution_count": 3,
   "metadata": {},
   "outputs": [],
   "source": [
    "import Notebook_2_helper_functions as Nb_2"
   ]
  },
  {
   "cell_type": "code",
   "execution_count": 4,
   "metadata": {
    "tags": [
     "parameters"
    ]
   },
   "outputs": [],
   "source": [
    "mouse = 'T240'\n",
    "data_day = '2019_09_27__T240'\n",
    "date = '2019_09_27'\n",
    "\n",
    "photo_day = 'T240-145905'\n",
    "\n",
    "HowManyBack=1 \n",
    "\n",
    "data_dir_input = \"/Users/gilmandelbaum/Desktop/T240_mouse\"\n",
    "data_dir_output = \"/Users/gilmandelbaum/Desktop/output/\""
   ]
  },
  {
   "cell_type": "markdown",
   "metadata": {},
   "source": [
    "# Import behavior related data per state transition"
   ]
  },
  {
   "cell_type": "code",
   "execution_count": 5,
   "metadata": {},
   "outputs": [],
   "source": [
    "behavior_data_states = pd.read_csv(data_dir_input+\"/\"+mouse+\"/\"+data_day+\"/\"+mouse+\"_dataAnalog.csv\")"
   ]
  },
  {
   "cell_type": "code",
   "execution_count": 6,
   "metadata": {
    "scrolled": true
   },
   "outputs": [],
   "source": [
    "behavior_data_states = Nb_2.prepare_behavior_data(behavior_data_states)"
   ]
  },
  {
   "cell_type": "markdown",
   "metadata": {},
   "source": [
    "# Import photometry data\n"
   ]
  },
  {
   "cell_type": "code",
   "execution_count": 7,
   "metadata": {},
   "outputs": [
    {
     "name": "stdout",
     "output_type": "stream",
     "text": [
      "read from t=0s to t=1345.46s\n"
     ]
    }
   ],
   "source": [
    "photometry_data = tdt.read_block(data_dir_input+\"/\"+mouse+\"/\"+photo_day)"
   ]
  },
  {
   "cell_type": "markdown",
   "metadata": {},
   "source": [
    "# Grab only what is needed from the TDT photo tanks and make a df. "
   ]
  },
  {
   "cell_type": "code",
   "execution_count": 8,
   "metadata": {},
   "outputs": [],
   "source": [
    "#The photometry TDT data structure has a lot of info. \n",
    "#We will create 1 data frame that has: \n",
    "# \n",
    "#['d2 R' , 'd1 R', 'd2 L', \"d1 L\", \"toBehSys\", \"fromBehSys\" ]\n",
    "\n",
    "def reading_in_photometryData_all_Channels(data):\n",
    "    photometry_all_channels_d = {}\n",
    "    photometry_all_channels_d[\"d2 R\"]=photometry_data.streams.grn1.data \n",
    "    photometry_all_channels_d[\"d1 R\"]=photometry_data.streams.red1.data \n",
    "    \n",
    "    \n",
    "    photometry_all_channels_d[\"d2 L\"]=photometry_data.streams.grn2.data \n",
    "    photometry_all_channels_d[\"d1 L\"]=photometry_data.streams.red2.data \n",
    "    \n",
    "    \n",
    "    \n",
    "    photometry_all_channels_d[\"toBehSys\"]=photometry_data.streams.toGG.data \n",
    "    photometry_all_channels_d[\"fromBehSys\"]=photometry_data.streams.froG.data \n",
    "    photometry_all_channels= pd.DataFrame(data=photometry_all_channels_d)\n",
    "    \n",
    "    return (photometry_all_channels)"
   ]
  },
  {
   "cell_type": "code",
   "execution_count": 9,
   "metadata": {},
   "outputs": [],
   "source": [
    "photometry_all_channels=reading_in_photometryData_all_Channels(photometry_data)"
   ]
  },
  {
   "cell_type": "markdown",
   "metadata": {},
   "source": [
    "# Clean the photometry data (or any neural data)"
   ]
  },
  {
   "cell_type": "code",
   "execution_count": 10,
   "metadata": {},
   "outputs": [],
   "source": [
    "photometry_all_channels_clean = Nb_2.handshake_behav_recording_sys(photometry_all_channels)"
   ]
  },
  {
   "cell_type": "markdown",
   "metadata": {},
   "source": [
    "# Clean behavior states data "
   ]
  },
  {
   "cell_type": "code",
   "execution_count": 11,
   "metadata": {},
   "outputs": [],
   "source": [
    "behavior_data_states_clean = Nb_2.define_behavior_data_states(behavior_data_states)"
   ]
  },
  {
   "cell_type": "markdown",
   "metadata": {},
   "source": [
    "# pre syncing steps for photometry data (or any neural data) and behavior data "
   ]
  },
  {
   "cell_type": "code",
   "execution_count": 12,
   "metadata": {},
   "outputs": [],
   "source": [
    "behavior_data_states_clean_binNumberlist=Nb_2.number_of_bins_beh_data_per_trial(behavior_data_states_clean)"
   ]
  },
  {
   "cell_type": "code",
   "execution_count": 13,
   "metadata": {},
   "outputs": [],
   "source": [
    "photometry_all_channels_clean_binNumberlist = Nb_2.number_of_bins_photo_data_per_trial(photometry_all_channels_clean)"
   ]
  },
  {
   "cell_type": "markdown",
   "metadata": {},
   "source": [
    "# Resample the photometry data (or any neural data) and align to 200 hz state transition behavioral data "
   ]
  },
  {
   "cell_type": "code",
   "execution_count": 14,
   "metadata": {},
   "outputs": [
    {
     "name": "stdout",
     "output_type": "stream",
     "text": [
      "number of trials synced: 269\n"
     ]
    }
   ],
   "source": [
    "aligned_behav_photo = Nb_2.resample_photoData_and_align_photo_with_beh(behavior_data_states_clean_binNumberlist,\n",
    "                                                            behavior_data_states_clean,\n",
    "                                                            photometry_all_channels_clean,\n",
    "                                                            photometry_all_channels_clean_binNumberlist)"
   ]
  },
  {
   "cell_type": "code",
   "execution_count": 15,
   "metadata": {
    "scrolled": true
   },
   "outputs": [
    {
     "name": "stderr",
     "output_type": "stream",
     "text": [
      "/Users/gilmandelbaum/Desktop/photometry_analysis/Notebook_2_helper_functions.py:258: SettingWithCopyWarning: \n",
      "A value is trying to be set on a copy of a slice from a DataFrame.\n",
      "Try using .loc[row_indexer,col_indexer] = value instead\n",
      "\n",
      "See the caveats in the documentation: https://pandas.pydata.org/pandas-docs/stable/user_guide/indexing.html#returning-a-view-versus-a-copy\n",
      "  df_prevTrial['new_index'] = df_prevTrial.index+1\n"
     ]
    }
   ],
   "source": [
    "aligned_behav_photo = Nb_2.tag_real_full_trial(aligned_behav_photo)"
   ]
  },
  {
   "cell_type": "code",
   "execution_count": 16,
   "metadata": {},
   "outputs": [],
   "source": [
    "aligned_behav_photo.to_csv(\"aligned_behav_photo.csv\")"
   ]
  },
  {
   "cell_type": "code",
   "execution_count": 17,
   "metadata": {},
   "outputs": [],
   "source": [
    "root = Path(data_dir_output+\"/\"+mouse+\"/\"+data_day+'/'+str(HowManyBack)+\"_Back\")\n",
    "d = mouse+\"_\"+date+\"Notebook_2_a.pickle\"\n",
    "my_path = root / d \n",
    "my_file = open(my_path, 'wb')\n",
    "my_file = pickle.dump(aligned_behav_photo,my_file)"
   ]
  },
  {
   "cell_type": "code",
   "execution_count": null,
   "metadata": {},
   "outputs": [],
   "source": []
  }
 ],
 "metadata": {
  "celltoolbar": "Tags",
  "kernelspec": {
   "display_name": "Python 3",
   "language": "python",
   "name": "python3"
  },
  "language_info": {
   "codemirror_mode": {
    "name": "ipython",
    "version": 3
   },
   "file_extension": ".py",
   "mimetype": "text/x-python",
   "name": "python",
   "nbconvert_exporter": "python",
   "pygments_lexer": "ipython3",
   "version": "3.7.3"
  }
 },
 "nbformat": 4,
 "nbformat_minor": 2
}
