{
 "cells": [
  {
   "cell_type": "markdown",
   "metadata": {},
   "source": [
    "# Notebook 6: combine periods 1"
   ]
  },
  {
   "cell_type": "code",
   "execution_count": 1,
   "metadata": {},
   "outputs": [],
   "source": [
    "import pickle\n",
    "import pandas as pd \n",
    "import numpy  as np \n",
    "import papermill as pm\n",
    "from pathlib import Path"
   ]
  },
  {
   "cell_type": "code",
   "execution_count": 2,
   "metadata": {},
   "outputs": [],
   "source": [
    "import Notebook_6_helper_functions as Nb_6"
   ]
  },
  {
   "cell_type": "code",
   "execution_count": 3,
   "metadata": {},
   "outputs": [],
   "source": [
    "#CHANGE for different notebook: \n",
    "Nb_name= 'Notebook_6_a'"
   ]
  },
  {
   "cell_type": "code",
   "execution_count": 4,
   "metadata": {
    "tags": [
     "parameters"
    ]
   },
   "outputs": [],
   "source": [
    "mouse = 'T240'\n",
    "data_day = '2019_09_27__T240'\n",
    "date = '2019_09_27'\n",
    "\n",
    "HowManyBack = 1\n",
    "Nb5='a'\n",
    "seq_str= '0a1b2a3b4abcde5a6a7a'\n",
    "\n",
    "data_dir_output = \"/Users/gilmandelbaum/Desktop/outPut\""
   ]
  },
  {
   "cell_type": "code",
   "execution_count": 6,
   "metadata": {},
   "outputs": [
    {
     "name": "stdout",
     "output_type": "stream",
     "text": [
      "seq_until_Nb5: 0a1b2a3b4abcde5a\n",
      "Nb6s_to_run: 6a\n",
      "first notebook\n",
      "loaded:/Users/gilmandelbaum/Desktop/outPut/T240/2019_09_27__T240/1_Back/T240_2019_09_27Notebook_5_a_seq0a1b2a3b4abcde5a.pickle\n"
     ]
    }
   ],
   "source": [
    "PhotoData_perTrial_channels = Nb_6.load_data_obj_general(data_dir_output,\n",
    "                                                 mouse,\n",
    "                                                 data_day,\n",
    "                                                 date,\n",
    "                                                 HowManyBack,\n",
    "                                                 seq_str,\n",
    "                                                 Nb_name,\n",
    "                                                 Nb5)"
   ]
  },
  {
   "cell_type": "code",
   "execution_count": 7,
   "metadata": {},
   "outputs": [
    {
     "name": "stdout",
     "output_type": "stream",
     "text": [
      "periodsCombined\n",
      "periodsCombined\n",
      "periodsCombined\n",
      "periodsCombined\n",
      "periodsCombined\n",
      "periodsCombined\n",
      "periodsCombined\n",
      "periodsCombined\n",
      "periodsCombined\n",
      "periodsCombined\n",
      "periodsCombined\n",
      "periodsCombined\n",
      "periodsCombined\n",
      "periodsCombined\n",
      "periodsCombined\n",
      "periodsCombined\n"
     ]
    }
   ],
   "source": [
    "PhotoData_perTrial_channels = Nb_6.combine_periods_1(PhotoData_perTrial_channels)"
   ]
  },
  {
   "cell_type": "code",
   "execution_count": 8,
   "metadata": {},
   "outputs": [
    {
     "name": "stdout",
     "output_type": "stream",
     "text": [
      "0a1b2a3b4abcde5a6a\n"
     ]
    }
   ],
   "source": [
    "seq_for_this_nb =Nb_6.seq_for_this_nb(seq_str,Nb_name)"
   ]
  },
  {
   "cell_type": "code",
   "execution_count": 9,
   "metadata": {},
   "outputs": [
    {
     "name": "stdout",
     "output_type": "stream",
     "text": [
      "/Users/gilmandelbaum/Desktop/outPut/T240/2019_09_27__T240/1_Back/T240_2019_09_27Notebook_6_a_seq0a1b2a3b4abcde5a6a.pickle\n"
     ]
    }
   ],
   "source": [
    "root = Path(data_dir_output+\"/\"+mouse+\"/\"+data_day+'/'+str(HowManyBack)+\"_Back\")\n",
    "d = mouse+\"_\"+date+Nb_name+'_seq'+seq_for_this_nb+'.pickle'\n",
    "my_path = root / d \n",
    "print (str(my_path))\n",
    "my_file = open(my_path, 'wb')\n",
    "my_file = pickle.dump((PhotoData_perTrial_channels),my_file)"
   ]
  },
  {
   "cell_type": "code",
   "execution_count": null,
   "metadata": {},
   "outputs": [],
   "source": []
  }
 ],
 "metadata": {
  "celltoolbar": "Tags",
  "kernelspec": {
   "display_name": "Python 3",
   "language": "python",
   "name": "python3"
  },
  "language_info": {
   "codemirror_mode": {
    "name": "ipython",
    "version": 3
   },
   "file_extension": ".py",
   "mimetype": "text/x-python",
   "name": "python",
   "nbconvert_exporter": "python",
   "pygments_lexer": "ipython3",
   "version": "3.7.3"
  }
 },
 "nbformat": 4,
 "nbformat_minor": 2
}
