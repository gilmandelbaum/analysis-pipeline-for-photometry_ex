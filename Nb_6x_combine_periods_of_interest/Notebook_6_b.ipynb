{
 "cells": [
  {
   "cell_type": "markdown",
   "metadata": {},
   "source": [
    "# Notebook 6: combine periods 2"
   ]
  },
  {
   "cell_type": "code",
   "execution_count": 1,
   "metadata": {},
   "outputs": [],
   "source": [
    "import pickle\n",
    "import pandas as pd \n",
    "import numpy  as np \n",
    "import papermill as pm\n",
    "from pathlib import Path"
   ]
  },
  {
   "cell_type": "code",
   "execution_count": 2,
   "metadata": {},
   "outputs": [],
   "source": [
    "import Notebook_6_helper_functions as Nb_6"
   ]
  },
  {
   "cell_type": "code",
   "execution_count": 3,
   "metadata": {},
   "outputs": [],
   "source": [
    "#CHANGE for a different notebook\n",
    "combination_periods_1_str = \"pre_Cue_to_Sel_+_Cue_to_Sel_+_Reward_NoReward\"\n",
    "\n",
    "\n",
    "#CHANGE for different notebook: \n",
    "Nb_name= 'Notebook_6_b'"
   ]
  },
  {
   "cell_type": "code",
   "execution_count": 4,
   "metadata": {
    "tags": [
     "parameters"
    ]
   },
   "outputs": [],
   "source": [
    "mouse = 'T240'\n",
    "data_day = '2019_09_27__T240'\n",
    "date = '2019_09_27'\n",
    "\n",
    "HowManyBack = 1\n",
    "Nb5='a'\n",
    "\n",
    "seq_str= '0a1b2a3b4ab5a6a7a'\n",
    "\n",
    "data_dir_output = \"/Users/gilmandelbaum/Desktop/outPut\""
   ]
  },
  {
   "cell_type": "code",
   "execution_count": 6,
   "metadata": {},
   "outputs": [],
   "source": [
    "Nb_version= Nb_name[-1]\n",
    "#print (Nb_version)\n",
    "version_seq = seq_str[seq_str.index('6'):]\n",
    "#print (version_seq)\n",
    "prev_seq = seq_str[:seq_str.index('6')]\n",
    "#print (prev_seq)\n",
    "Notebook_sequence_name = prev_seq+version_seq[0:version_seq.index(Nb_version)+1]\n",
    "#print (Notebook_sequence_name)\n",
    "versions_in_seq = seq_str[seq_str.index('6')+1:seq_str.index('7')]\n",
    "#print (versions_in_seq)"
   ]
  },
  {
   "cell_type": "code",
   "execution_count": 7,
   "metadata": {},
   "outputs": [
    {
     "name": "stdout",
     "output_type": "stream",
     "text": [
      "loaded notebook 5\n"
     ]
    }
   ],
   "source": [
    "if versions_in_seq.index(Nb_version) == 0:\n",
    "    \n",
    "    root = Path(data_dir_output+\"/\"+mouse+\"/\"+data_day+'/'+str(HowManyBack)+\"_Back\")\n",
    "    d = mouse+\"_\"+date+\"Notebook_5_\"+Nb5+\"_\"+\"seq\"+prev_seq+'.pickle'\n",
    "    my_path = root / d \n",
    "    fileToOpen = open(my_path, 'rb')\n",
    "    PhotoData_perTrial_channels = pickle.load(fileToOpen)\n",
    "    print (\"loaded notebook 5\")\n",
    "\n",
    "elif versions_in_seq.index(Nb_version) > 0:\n",
    "    \n",
    "    root = Path(data_dir_output+\"/\"+mouse+\"/\"+data_day+'/'+str(HowManyBack)+\"_Back\")\n",
    "    d = mouse+\"_\"+date+\"Notebook_6_\"+v+'_seq'+sequence_till_now+'.pickle'\n",
    "    my_path = root / d \n",
    "    fileToOpen = open(my_path, 'rb')\n",
    "    PhotoData_perTrial_channels = pickle.load(fileToOpen)\n",
    "    print (sequence_till_now)"
   ]
  },
  {
   "cell_type": "code",
   "execution_count": 8,
   "metadata": {},
   "outputs": [
    {
     "name": "stdout",
     "output_type": "stream",
     "text": [
      "periodsCombined\n",
      "periodsCombined\n",
      "no new key\n",
      "periodsCombined\n",
      "periodsCombined\n",
      "periodsCombined\n",
      "periodsCombined\n",
      "periodsCombined\n",
      "periodsCombined\n",
      "periodsCombined\n",
      "periodsCombined\n",
      "periodsCombined\n",
      "periodsCombined\n",
      "periodsCombined\n",
      "no new key\n",
      "periodsCombined\n"
     ]
    }
   ],
   "source": [
    "PhotoData_perTrial_channels = Nb_6.combine_periods_2(PhotoData_perTrial_channels)"
   ]
  },
  {
   "cell_type": "code",
   "execution_count": null,
   "metadata": {},
   "outputs": [],
   "source": [
    "root = Path(data_dir_output+\"/\"+mouse+\"/\"+data_day+'/'+str(HowManyBack)+\"_Back\")\n",
    "d = mouse+\"_\"+date+Nb_name+'_seq'+Notebook_sequence_name+'.pickle'\n",
    "my_path = root / d \n",
    "my_file = open(my_path, 'wb')\n",
    "my_file = pickle.dump((PhotoData_perTrial_channels),my_file)"
   ]
  },
  {
   "cell_type": "code",
   "execution_count": null,
   "metadata": {},
   "outputs": [],
   "source": []
  }
 ],
 "metadata": {
  "celltoolbar": "Tags",
  "kernelspec": {
   "display_name": "Python 3",
   "language": "python",
   "name": "python3"
  },
  "language_info": {
   "codemirror_mode": {
    "name": "ipython",
    "version": 3
   },
   "file_extension": ".py",
   "mimetype": "text/x-python",
   "name": "python",
   "nbconvert_exporter": "python",
   "pygments_lexer": "ipython3",
   "version": "3.7.3"
  }
 },
 "nbformat": 4,
 "nbformat_minor": 2
}
