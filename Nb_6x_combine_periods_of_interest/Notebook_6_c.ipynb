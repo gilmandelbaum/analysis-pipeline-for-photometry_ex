{
 "cells": [
  {
   "cell_type": "markdown",
   "metadata": {},
   "source": [
    "# Notebook 6: combine periods 2"
   ]
  },
  {
   "cell_type": "code",
   "execution_count": 1,
   "metadata": {},
   "outputs": [],
   "source": [
    "import pickle\n",
    "import pandas as pd \n",
    "import numpy  as np \n",
    "import papermill as pm\n",
    "from pathlib import Path"
   ]
  },
  {
   "cell_type": "code",
   "execution_count": 2,
   "metadata": {},
   "outputs": [],
   "source": [
    "import Notebook_6_helper_functions as Nb_6"
   ]
  },
  {
   "cell_type": "code",
   "execution_count": 3,
   "metadata": {},
   "outputs": [],
   "source": [
    "#CHANGE for a different notebook\n",
    "#combination_periods_1_str = \"s\"\n",
    "\n",
    "\n",
    "#CHANGE for different notebook: \n",
    "Nb_name= 'Notebook_6_c'\n",
    "prev_version_6 = \"b\""
   ]
  },
  {
   "cell_type": "code",
   "execution_count": 4,
   "metadata": {
    "tags": [
     "parameters"
    ]
   },
   "outputs": [],
   "source": [
    "mouse = 'T240'\n",
    "data_day = '2019_09_27__T240'\n",
    "date = '2019_09_27'\n",
    "\n",
    "HowManyBack = 1\n",
    "Nb5='a'\n",
    "\n",
    "seq_str= '0a1b2a3b4abcde5a6abc7a'\n",
    "\n",
    "data_dir_output = \"/Users/gilmandelbaum/Desktop/outPut\""
   ]
  },
  {
   "cell_type": "code",
   "execution_count": 5,
   "metadata": {},
   "outputs": [
    {
     "name": "stdout",
     "output_type": "stream",
     "text": [
      "0a1b2a3b4abcde5a6abc\n"
     ]
    }
   ],
   "source": [
    "version_without_7 = seq_str[0:seq_str.index(\"7\")]\n",
    "print (version_without_7)"
   ]
  },
  {
   "cell_type": "code",
   "execution_count": 6,
   "metadata": {},
   "outputs": [
    {
     "name": "stdout",
     "output_type": "stream",
     "text": [
      "0a1b2a3b4abcde5a6ab\n"
     ]
    }
   ],
   "source": [
    "sequence_till_now = version_without_7[0:-1]\n",
    "print (sequence_till_now)"
   ]
  },
  {
   "cell_type": "code",
   "execution_count": null,
   "metadata": {},
   "outputs": [],
   "source": [
    "# Nb_version= Nb_name[-1]\n",
    "# print (Nb_version)\n",
    "# version_seq = seq_str[seq_str.index('6'):]\n",
    "# print (version_seq)\n",
    "# prev_seq = seq_str[:seq_str.index('6')]\n",
    "# print (prev_seq)\n",
    "\n",
    "\n",
    "# Notebook_sequence_name = prev_seq+version_seq[0:version_seq.index(Nb_version)+1]\n",
    "# print (Notebook_sequence_name)\n",
    "# sequence_till_now = Notebook_sequence_name[0:-1]\n",
    "# print (sequence_till_now)\n",
    "# versions_in_seq = sequence_till_now[seq_str.index('6')+1:seq_str.index('7')]\n",
    "# print (versions_in_seq)\n",
    "# prev_version_6 = sequence_till_now[-1]\n",
    "# print (prev_version_6)"
   ]
  },
  {
   "cell_type": "code",
   "execution_count": 7,
   "metadata": {},
   "outputs": [
    {
     "name": "stdout",
     "output_type": "stream",
     "text": [
      "0a1b2a3b4abcde5a6ab\n"
     ]
    }
   ],
   "source": [
    "# if versions_in_seq.index(Nb_version) == 0:\n",
    "#     root = Path(data_dir_output+\"/\"+mouse+\"/\"+data_day+'/'+str(HowManyBack)+\"_Back\")\n",
    "#     d = mouse+\"_\"+date+\"Notebook_5_\"+Nb5+\"_\"+\"seq\"+prev_seq+'.pickle'\n",
    "#     my_path = root / d \n",
    "#     fileToOpen = open(my_path, 'rb')\n",
    "#     PhotoData_perTrial_channels = pickle.load(fileToOpen)\n",
    "#     print (\"loaded notebook 5\")\n",
    "\n",
    "# elif versions_in_seq.index(Nb_version) > 0:\n",
    "    \n",
    "root = Path(data_dir_output+\"/\"+mouse+\"/\"+data_day+'/'+str(HowManyBack)+\"_Back\")\n",
    "d = mouse+\"_\"+date+\"Notebook_6_\"+prev_version_6+'_seq'+sequence_till_now+'.pickle'\n",
    "my_path = root / d \n",
    "fileToOpen = open(my_path, 'rb')\n",
    "PhotoData_perTrial_channels = pickle.load(fileToOpen)\n",
    "print (sequence_till_now)"
   ]
  },
  {
   "cell_type": "code",
   "execution_count": 8,
   "metadata": {},
   "outputs": [
    {
     "data": {
      "text/plain": [
       "dict_keys(['Real_nTrials', 'Reward_NoReward_tag', 'ENL_tag', 'Cue_to_Sel_tag', 'Cue_to_Sel_fromPrevTrial_tag', 'firstENLp_tag', 'pre_Reward_NoReward_tag', 'post_Reward_NoReward_tag', 'pre_ENL_tag', 'post_ENL_tag', 'pre_Cue_to_Sel_tag', 'post_Cue_to_Sel_tag', 'pre_Cue_to_Sel_fromPrevTrial_tag', 'post_Cue_to_Sel_fromPrevTrial_tag', 'pre_firstENLp_tag', 'post_firstENLp_tag', 'first_600_bins_Reward_NoReward_tag', 'last_200_bins_ENL_tag', 'first_15_bins_Cue_to_Sel_tag', 'first_15_bins_Cue_to_Sel_fromPrevTrial_tag', 'first_20_bins_firstENLp_tag', 'combined_periods_1', 'combined_periods_2'])"
      ]
     },
     "execution_count": 8,
     "metadata": {},
     "output_type": "execute_result"
    }
   ],
   "source": [
    "PhotoData_perTrial_channels[0][0][0].keys()"
   ]
  },
  {
   "cell_type": "code",
   "execution_count": 9,
   "metadata": {},
   "outputs": [
    {
     "name": "stdout",
     "output_type": "stream",
     "text": [
      "periodsCombined\n",
      "periodsCombined\n",
      "periodsCombined\n",
      "periodsCombined\n",
      "periodsCombined\n",
      "periodsCombined\n",
      "periodsCombined\n",
      "periodsCombined\n",
      "periodsCombined\n",
      "periodsCombined\n",
      "periodsCombined\n",
      "periodsCombined\n",
      "periodsCombined\n",
      "periodsCombined\n",
      "periodsCombined\n",
      "periodsCombined\n"
     ]
    }
   ],
   "source": [
    "PhotoData_perTrial_channels = Nb_6.combine_periods_3(PhotoData_perTrial_channels)"
   ]
  },
  {
   "cell_type": "code",
   "execution_count": 18,
   "metadata": {},
   "outputs": [
    {
     "data": {
      "text/html": [
       "<div>\n",
       "<style scoped>\n",
       "    .dataframe tbody tr th:only-of-type {\n",
       "        vertical-align: middle;\n",
       "    }\n",
       "\n",
       "    .dataframe tbody tr th {\n",
       "        vertical-align: top;\n",
       "    }\n",
       "\n",
       "    .dataframe thead tr th {\n",
       "        text-align: left;\n",
       "    }\n",
       "</style>\n",
       "<table border=\"1\" class=\"dataframe\">\n",
       "  <thead>\n",
       "    <tr>\n",
       "      <th></th>\n",
       "      <th colspan=\"3\" halign=\"left\">d1 L</th>\n",
       "      <th colspan=\"3\" halign=\"left\">d2 L</th>\n",
       "    </tr>\n",
       "    <tr>\n",
       "      <th></th>\n",
       "      <th>97.0</th>\n",
       "      <th>192.0</th>\n",
       "      <th>268.0</th>\n",
       "      <th>97.0</th>\n",
       "      <th>192.0</th>\n",
       "      <th>268.0</th>\n",
       "    </tr>\n",
       "  </thead>\n",
       "  <tbody>\n",
       "  </tbody>\n",
       "</table>\n",
       "</div>"
      ],
      "text/plain": [
       "Empty DataFrame\n",
       "Columns: [(d1 L, 97.0), (d1 L, 192.0), (d1 L, 268.0), (d2 L, 97.0), (d2 L, 192.0), (d2 L, 268.0)]\n",
       "Index: []"
      ]
     },
     "execution_count": 18,
     "metadata": {},
     "output_type": "execute_result"
    }
   ],
   "source": [
    "PhotoData_perTrial_channels[1][0][2][\"combined_periods_3\"]"
   ]
  },
  {
   "cell_type": "code",
   "execution_count": null,
   "metadata": {},
   "outputs": [],
   "source": [
    "root = Path(data_dir_output+\"/\"+mouse+\"/\"+data_day+'/'+str(HowManyBack)+\"_Back\")\n",
    "d = mouse+\"_\"+date+Nb_name+'_seq'+version_without_7+'.pickle'\n",
    "my_path = root / d \n",
    "my_file = open(my_path, 'wb')\n",
    "my_file = pickle.dump((PhotoData_perTrial_channels),my_file)"
   ]
  },
  {
   "cell_type": "code",
   "execution_count": null,
   "metadata": {},
   "outputs": [],
   "source": [
    "my_path"
   ]
  },
  {
   "cell_type": "code",
   "execution_count": null,
   "metadata": {},
   "outputs": [],
   "source": []
  }
 ],
 "metadata": {
  "celltoolbar": "Tags",
  "kernelspec": {
   "display_name": "Python 3",
   "language": "python",
   "name": "python3"
  },
  "language_info": {
   "codemirror_mode": {
    "name": "ipython",
    "version": 3
   },
   "file_extension": ".py",
   "mimetype": "text/x-python",
   "name": "python",
   "nbconvert_exporter": "python",
   "pygments_lexer": "ipython3",
   "version": "3.7.3"
  }
 },
 "nbformat": 4,
 "nbformat_minor": 2
}
