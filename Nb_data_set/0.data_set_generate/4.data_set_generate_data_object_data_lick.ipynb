{
 "cells": [
  {
   "cell_type": "code",
   "execution_count": null,
   "metadata": {},
   "outputs": [],
   "source": [
    "import pickle\n",
    "from pathlib import Path\n",
    "import pandas as pd \n",
    "import os\n",
    "import syss"
   ]
  },
  {
   "cell_type": "code",
   "execution_count": null,
   "metadata": {},
   "outputs": [],
   "source": [
    "import data_set_generate_helper_functions as ghf"
   ]
  },
  {
   "cell_type": "code",
   "execution_count": null,
   "metadata": {},
   "outputs": [],
   "source": [
    "sys.executable"
   ]
  },
  {
   "cell_type": "markdown",
   "metadata": {},
   "source": [
    "# Path to import the data "
   ]
  },
  {
   "cell_type": "code",
   "execution_count": null,
   "metadata": {},
   "outputs": [],
   "source": [
    "path_to_import = \"/Volumes/GilInVivoPaper.large/2.Photometry_in_str/0.data_Sets/1.lateral_medial_6\""
   ]
  },
  {
   "cell_type": "markdown",
   "metadata": {},
   "source": [
    "# Path where to save it "
   ]
  },
  {
   "cell_type": "code",
   "execution_count": null,
   "metadata": {},
   "outputs": [],
   "source": [
    "path_to_save= \"/Volumes/GilInVivoPaper.large/2.Photometry_in_str/1.lateral_medial_6_analysis_1\""
   ]
  },
  {
   "cell_type": "markdown",
   "metadata": {},
   "source": [
    "# Update depending on analysis: "
   ]
  },
  {
   "cell_type": "code",
   "execution_count": null,
   "metadata": {},
   "outputs": [],
   "source": [
    "seq_str = '0a1b2b3j4abcd5a6a7a'\n",
    "HowManyBack=1\n",
    "drop2blocks = \"yes\"\n",
    "drop2lastblocks = \"no\""
   ]
  },
  {
   "cell_type": "markdown",
   "metadata": {},
   "source": [
    "# Folder to save the data: "
   ]
  },
  {
   "cell_type": "code",
   "execution_count": null,
   "metadata": {},
   "outputs": [],
   "source": [
    "folderName=\"right_dual_color_photo_full_data_after_QC\" #folder where the plot data_set will be saved \n",
    "#folderName=\"left_dual_color_photo_full_data_set_after_inspection\" #folder where the plot data_set will be saved "
   ]
  },
  {
   "cell_type": "code",
   "execution_count": null,
   "metadata": {},
   "outputs": [],
   "source": [
    "full_path_to_save = path_to_save+\"/\"+folderName+\"/\"+seq_str\n",
    "full_path_to_save"
   ]
  },
  {
   "cell_type": "markdown",
   "metadata": {},
   "source": [
    "# import the data table: "
   ]
  },
  {
   "cell_type": "code",
   "execution_count": null,
   "metadata": {},
   "outputs": [],
   "source": [
    "#name of xlsx file that has the sessions we want to run: \n",
    "MasterSheetName= '3.lateral_medial_6_lateral_channels_final'"
   ]
  },
  {
   "cell_type": "code",
   "execution_count": null,
   "metadata": {},
   "outputs": [],
   "source": [
    "Mouse_Date_FileName = pd.read_excel(path_to_save+'/'+folderName+\"/\"+MasterSheetName+'.xlsx') #mdf is mouse data file "
   ]
  },
  {
   "cell_type": "code",
   "execution_count": null,
   "metadata": {
    "scrolled": true
   },
   "outputs": [],
   "source": [
    "Mouse_Date_FileName"
   ]
  },
  {
   "cell_type": "code",
   "execution_count": null,
   "metadata": {},
   "outputs": [],
   "source": [
    "#Mouse_Date_FileName = Mouse_Date_FileName.iloc[0:45,:]"
   ]
  },
  {
   "cell_type": "code",
   "execution_count": null,
   "metadata": {
    "scrolled": true
   },
   "outputs": [],
   "source": [
    "#Mouse_Date_FileName"
   ]
  },
  {
   "cell_type": "markdown",
   "metadata": {},
   "source": [
    "# Import the full data structure for each session: "
   ]
  },
  {
   "cell_type": "code",
   "execution_count": null,
   "metadata": {},
   "outputs": [],
   "source": [
    "def extract_data_object_data_lick(Mouse_Date_FileName,path):\n",
    "    data_lick_data_set = []\n",
    "    counter = 1 \n",
    "    \n",
    "    l_mouse = list(Mouse_Date_FileName[\"mouse\"]) \n",
    "    l_date_ = list(Mouse_Date_FileName.apply(lambda x: generate_date_(x[\"date\"]),axis=1))  \n",
    "    l_date_and_name = list(Mouse_Date_FileName.apply(lambda x: generate_name_and_date(x[\"date\"],x[\"mouse\"]),axis=1))\n",
    "    \n",
    "    numer_of_sessions_dataset = len(l_mouse)\n",
    "    \n",
    "    for (mouse, date_, date_and_name) in zip(l_mouse, l_date_, l_date_and_name):\n",
    "        print (\"session number\"+\" \"+str(counter)+\" \"+\"was imported (out of\"+\" \"+str(numer_of_sessions_dataset)+\")\")\n",
    "        data_lick = pd.read_excel(path+\"/\"+mouse+\"/\"+date_and_name+\"/\"+mouse+\"_dataLick_label.xlsx\")\n",
    "        data_lick_data_set.append(data_lick)  \n",
    "        counter +=1\n",
    "        \n",
    "    return (data_lick_data_set)"
   ]
  },
  {
   "cell_type": "code",
   "execution_count": null,
   "metadata": {},
   "outputs": [],
   "source": [
    "def generate_date_(Date):\n",
    "    return('20'+str(Date)[:2]+'_'+str(Date)[2:4]+'_'+str(Date)[4:6])\n",
    "\n",
    "def generate_name_and_date(Date,Mouse):\n",
    "    return ('20'+str(Date)[:2]+'_'+str(Date)[2:4]+'_'+str(Date)[4:6]+'__'+Mouse)"
   ]
  },
  {
   "cell_type": "code",
   "execution_count": null,
   "metadata": {
    "scrolled": true
   },
   "outputs": [],
   "source": [
    "%%time\n",
    "behavior_data_lick_data_set = extract_data_object_data_lick(Mouse_Date_FileName,path_to_import)"
   ]
  },
  {
   "cell_type": "markdown",
   "metadata": {},
   "source": [
    "extract_data_object_data_lick(Mouse_Date_FileName,path)"
   ]
  },
  {
   "cell_type": "markdown",
   "metadata": {},
   "source": [
    "# A function to help loop on each sessioon with various functions "
   ]
  },
  {
   "cell_type": "code",
   "execution_count": null,
   "metadata": {},
   "outputs": [],
   "source": [
    "def session_looper(data_set,function):\n",
    "    organized_data_lick_list=[]\n",
    "    for session in data_set:\n",
    "        result = function(session)\n",
    "        organized_data_lick_list.append(result)\n",
    "    return organized_data_lick_list"
   ]
  },
  {
   "cell_type": "code",
   "execution_count": null,
   "metadata": {},
   "outputs": [],
   "source": [
    "def clean_behavior_data_lick (behavior_data_lick):        \n",
    "    if behavior_data_lick.columns.tolist() == ['iBlock', 'iTrial', 'iSpout', 'sTrial_start', 'sTrial_end', 'tState']:\n",
    "        pass\n",
    "    else:\n",
    "        #Shifting the names on the columns, so each column has the right label. (raw data has these labels shifted)\n",
    "        behavior_data_lick=behavior_data_lick.rename(columns={\"nTrial\": \"iBlock\", \"iBlock\":\"iTrial\", \n",
    "                                                              \"iTrial\":\"iSpout\",\"iSpout\":\"sTrial_start\", \n",
    "                                                              \"sTrial_start\":\"sTrial_end\", \"sTrial_end\":\"tState_new\"})\n",
    "        #I will delete the extra column\n",
    "        behavior_data_lick=behavior_data_lick.drop(\"tState\", 1)\n",
    "        behavior_data_lick=behavior_data_lick.rename(columns={\"tState_new\":\"tState\"})\n",
    "        \n",
    "    #this is to delete the first and last rows which have no lick data  \n",
    "    behavior_data_lick=behavior_data_lick[1: -1]\n",
    "    #Drop everything before first trial\n",
    "    behavior_data_lick= behavior_data_lick[behavior_data_lick.iBlock>0]\n",
    "    return behavior_data_lick"
   ]
  },
  {
   "cell_type": "code",
   "execution_count": null,
   "metadata": {},
   "outputs": [],
   "source": [
    "#add nTrial to dataLick\n",
    "def get_nTrial_DataLick_list(session):\n",
    "    \n",
    "    block=1\n",
    "    nTrial= 0\n",
    "    l=[]\n",
    "    \n",
    "    for row in session.iterrows(): \n",
    "        \n",
    "        (iblock, iTrial)= (row[1][\"iBlock\"], row[1][\"iTrial\"])\n",
    "        \n",
    "        if iblock!=block:\n",
    "            block+=1\n",
    "            nTrial+=(iTrial)\n",
    "            l.append((nTrial))\n",
    "            \n",
    "        else:\n",
    "            if iTrial>nTrial:\n",
    "                nTrial+=(iTrial-nTrial)\n",
    "                l.append((nTrial))\n",
    "            elif iTrial<nTrial:\n",
    "                nTrial+= iTrial - (session.at[row[0]-1, \"iTrial\"])\n",
    "                l.append((nTrial))\n",
    "            else:\n",
    "                l.append((nTrial))\n",
    "                \n",
    "    session[\"nTrial\"]= l\n",
    "    return session"
   ]
  },
  {
   "cell_type": "code",
   "execution_count": null,
   "metadata": {},
   "outputs": [],
   "source": [
    "behavior_data_lick_data_set_clean = session_looper (behavior_data_lick_data_set,clean_behavior_data_lick)"
   ]
  },
  {
   "cell_type": "code",
   "execution_count": null,
   "metadata": {},
   "outputs": [],
   "source": [
    "%time\n",
    "behavior_data_lick_data_set_clean = session_looper (behavior_data_lick_data_set_clean,get_nTrial_DataLick_list)"
   ]
  },
  {
   "cell_type": "code",
   "execution_count": null,
   "metadata": {},
   "outputs": [],
   "source": [
    "def drop_first_two_blocks(behavior_data_lick):\n",
    "    if drop2blocks==\"yes\":\n",
    "        behavior_data_lick = behavior_data_lick[behavior_data_lick['iBlock'] > 2]\n",
    "    \n",
    "    if drop2lastblocks==\"yes\":\n",
    "        lastblock = behavior_data_lick['iBlock'].values.tolist()[-1]\n",
    "        SecondToLast = lastblock-1\n",
    "        behavior_data_lick = behavior_data_lick[behavior_data_lick.iBlock<SecondToLast]\n",
    "\n",
    "    return behavior_data_lick"
   ]
  },
  {
   "cell_type": "code",
   "execution_count": null,
   "metadata": {},
   "outputs": [],
   "source": [
    "behavior_data_lick_data_set_clean = session_looper (behavior_data_lick_data_set_clean,drop_first_two_blocks)"
   ]
  },
  {
   "cell_type": "code",
   "execution_count": null,
   "metadata": {},
   "outputs": [],
   "source": [
    "#behavior_data_lick_data_set_clean[0]"
   ]
  },
  {
   "cell_type": "code",
   "execution_count": null,
   "metadata": {},
   "outputs": [],
   "source": [
    "data_set = behavior_data_lick_data_set_clean.copy()"
   ]
  },
  {
   "cell_type": "code",
   "execution_count": null,
   "metadata": {},
   "outputs": [],
   "source": [
    "#data_set[0].to_csv(\"sample_data_lick_pickle.csv\")"
   ]
  },
  {
   "cell_type": "code",
   "execution_count": null,
   "metadata": {},
   "outputs": [],
   "source": [
    "%%time\n",
    "root = Path(full_path_to_save)\n",
    "d = \"data_object_data_lick\"+\"_\"+seq_str+'.pickle'\n",
    "my_path = root / d \n",
    "print (my_path)\n",
    "my_file = open(my_path, 'wb')\n",
    "my_file = pickle.dump((data_set),my_file)"
   ]
  },
  {
   "cell_type": "code",
   "execution_count": null,
   "metadata": {},
   "outputs": [],
   "source": []
  }
 ],
 "metadata": {
  "kernelspec": {
   "display_name": "Python 3",
   "language": "python",
   "name": "python3"
  },
  "language_info": {
   "codemirror_mode": {
    "name": "ipython",
    "version": 3
   },
   "file_extension": ".py",
   "mimetype": "text/x-python",
   "name": "python",
   "nbconvert_exporter": "python",
   "pygments_lexer": "ipython3",
   "version": "3.7.3"
  }
 },
 "nbformat": 4,
 "nbformat_minor": 4
}
