{
 "cells": [
  {
   "cell_type": "code",
   "execution_count": 1,
   "metadata": {},
   "outputs": [],
   "source": [
    "import pickle\n",
    "from pathlib import Path\n",
    "import pandas as pd \n",
    "import os\n",
    "import sys"
   ]
  },
  {
   "cell_type": "code",
   "execution_count": 2,
   "metadata": {},
   "outputs": [],
   "source": [
    "import data_set_generate_helper_functions as ghf"
   ]
  },
  {
   "cell_type": "code",
   "execution_count": 3,
   "metadata": {},
   "outputs": [
    {
     "data": {
      "text/plain": [
       "'/anaconda3/bin/python3'"
      ]
     },
     "execution_count": 3,
     "metadata": {},
     "output_type": "execute_result"
    }
   ],
   "source": [
    "sys.executable"
   ]
  },
  {
   "cell_type": "markdown",
   "metadata": {},
   "source": [
    "# Path to import the data and where to save it "
   ]
  },
  {
   "cell_type": "code",
   "execution_count": 4,
   "metadata": {},
   "outputs": [],
   "source": [
    "path = \"/Volumes/GilInVivoPaper.large/2.Photometry_in_str/1.lateral_medial_6_analysis\""
   ]
  },
  {
   "cell_type": "markdown",
   "metadata": {},
   "source": [
    "# Update depending on analysis: "
   ]
  },
  {
   "cell_type": "code",
   "execution_count": 5,
   "metadata": {},
   "outputs": [],
   "source": [
    "seq_str = '0a1b2b3b4abcd5a6a7a'\n",
    "HowManyBack=1"
   ]
  },
  {
   "cell_type": "code",
   "execution_count": 6,
   "metadata": {},
   "outputs": [
    {
     "data": {
      "text/plain": [
       "'2b3b'"
      ]
     },
     "execution_count": 6,
     "metadata": {},
     "output_type": "execute_result"
    }
   ],
   "source": [
    "version_of_notebook_2_3=seq_str[seq_str.index('2'):seq_str.index('4')]\n",
    "version_of_notebook_2_3"
   ]
  },
  {
   "cell_type": "markdown",
   "metadata": {},
   "source": [
    "# Folder to save the data: "
   ]
  },
  {
   "cell_type": "code",
   "execution_count": 7,
   "metadata": {},
   "outputs": [],
   "source": [
    "folderName=\"right_dual_color_photo_full_data\" #folder where the plot data_set will be saved \n",
    "#folderName=\"left_dual_color_photo_full_data_set_after_inspection\" #folder where the plot data_set will be saved "
   ]
  },
  {
   "cell_type": "code",
   "execution_count": 8,
   "metadata": {},
   "outputs": [
    {
     "data": {
      "text/plain": [
       "'/Volumes/GilInVivoPaper.large/2.Photometry_in_str/1.lateral_medial_6_analysis/right_dual_color_photo_full_data/0a1b2b3b4abcd5a6a7a'"
      ]
     },
     "execution_count": 8,
     "metadata": {},
     "output_type": "execute_result"
    }
   ],
   "source": [
    "path_to_save = path+\"/\"+folderName+\"/\"+seq_str\n",
    "path_to_save"
   ]
  },
  {
   "cell_type": "markdown",
   "metadata": {},
   "source": [
    "# import the data table: "
   ]
  },
  {
   "cell_type": "code",
   "execution_count": 9,
   "metadata": {},
   "outputs": [],
   "source": [
    "#name of xlsx file that has the sessions we want to run: \n",
    "MasterSheetName= 'lateral_ medial_6_to_run_analysis'"
   ]
  },
  {
   "cell_type": "code",
   "execution_count": 10,
   "metadata": {},
   "outputs": [],
   "source": [
    "Mouse_Date_FileName = pd.read_excel(path+'/'+MasterSheetName+'.xlsx') #mdf is mouse data file "
   ]
  },
  {
   "cell_type": "code",
   "execution_count": 11,
   "metadata": {
    "scrolled": true
   },
   "outputs": [
    {
     "data": {
      "text/html": [
       "<div>\n",
       "<style scoped>\n",
       "    .dataframe tbody tr th:only-of-type {\n",
       "        vertical-align: middle;\n",
       "    }\n",
       "\n",
       "    .dataframe tbody tr th {\n",
       "        vertical-align: top;\n",
       "    }\n",
       "\n",
       "    .dataframe thead th {\n",
       "        text-align: right;\n",
       "    }\n",
       "</style>\n",
       "<table border=\"1\" class=\"dataframe\">\n",
       "  <thead>\n",
       "    <tr style=\"text-align: right;\">\n",
       "      <th></th>\n",
       "      <th>mouse</th>\n",
       "      <th>date</th>\n",
       "      <th>file name</th>\n",
       "    </tr>\n",
       "  </thead>\n",
       "  <tbody>\n",
       "    <tr>\n",
       "      <th>0</th>\n",
       "      <td>T163</td>\n",
       "      <td>181127</td>\n",
       "      <td>T163-144959</td>\n",
       "    </tr>\n",
       "    <tr>\n",
       "      <th>1</th>\n",
       "      <td>T163</td>\n",
       "      <td>181128</td>\n",
       "      <td>T163-115220</td>\n",
       "    </tr>\n",
       "    <tr>\n",
       "      <th>2</th>\n",
       "      <td>T163</td>\n",
       "      <td>181130</td>\n",
       "      <td>T163-133215</td>\n",
       "    </tr>\n",
       "    <tr>\n",
       "      <th>3</th>\n",
       "      <td>T163</td>\n",
       "      <td>181203</td>\n",
       "      <td>T163-115901</td>\n",
       "    </tr>\n",
       "    <tr>\n",
       "      <th>4</th>\n",
       "      <td>T163</td>\n",
       "      <td>181204</td>\n",
       "      <td>T163-114628</td>\n",
       "    </tr>\n",
       "    <tr>\n",
       "      <th>...</th>\n",
       "      <td>...</td>\n",
       "      <td>...</td>\n",
       "      <td>...</td>\n",
       "    </tr>\n",
       "    <tr>\n",
       "      <th>99</th>\n",
       "      <td>T202</td>\n",
       "      <td>190525</td>\n",
       "      <td>T202-153611</td>\n",
       "    </tr>\n",
       "    <tr>\n",
       "      <th>100</th>\n",
       "      <td>T202</td>\n",
       "      <td>190526</td>\n",
       "      <td>T202-142728</td>\n",
       "    </tr>\n",
       "    <tr>\n",
       "      <th>101</th>\n",
       "      <td>T202</td>\n",
       "      <td>190528</td>\n",
       "      <td>T202-140948</td>\n",
       "    </tr>\n",
       "    <tr>\n",
       "      <th>102</th>\n",
       "      <td>T202</td>\n",
       "      <td>190529</td>\n",
       "      <td>T202-160644</td>\n",
       "    </tr>\n",
       "    <tr>\n",
       "      <th>103</th>\n",
       "      <td>T202</td>\n",
       "      <td>190530</td>\n",
       "      <td>T202-152554</td>\n",
       "    </tr>\n",
       "  </tbody>\n",
       "</table>\n",
       "<p>104 rows × 3 columns</p>\n",
       "</div>"
      ],
      "text/plain": [
       "    mouse    date    file name\n",
       "0    T163  181127  T163-144959\n",
       "1    T163  181128  T163-115220\n",
       "2    T163  181130  T163-133215\n",
       "3    T163  181203  T163-115901\n",
       "4    T163  181204  T163-114628\n",
       "..    ...     ...          ...\n",
       "99   T202  190525  T202-153611\n",
       "100  T202  190526  T202-142728\n",
       "101  T202  190528  T202-140948\n",
       "102  T202  190529  T202-160644\n",
       "103  T202  190530  T202-152554\n",
       "\n",
       "[104 rows x 3 columns]"
      ]
     },
     "execution_count": 11,
     "metadata": {},
     "output_type": "execute_result"
    }
   ],
   "source": [
    "Mouse_Date_FileName"
   ]
  },
  {
   "cell_type": "code",
   "execution_count": 12,
   "metadata": {},
   "outputs": [],
   "source": [
    "#Mouse_Date_FileName = Mouse_Date_FileName.iloc[0:4,:]"
   ]
  },
  {
   "cell_type": "code",
   "execution_count": 13,
   "metadata": {
    "scrolled": true
   },
   "outputs": [],
   "source": [
    "#Mouse_Date_FileName"
   ]
  },
  {
   "cell_type": "markdown",
   "metadata": {},
   "source": [
    "# Import the full data structure for each session: "
   ]
  },
  {
   "cell_type": "code",
   "execution_count": 14,
   "metadata": {
    "scrolled": true
   },
   "outputs": [
    {
     "name": "stdout",
     "output_type": "stream",
     "text": [
      "session number 1 was imported (out of 104)\n",
      "T163_2018_11_27Notebook_3_b_seq2b3b.pickle\n",
      "session number 2 was imported (out of 104)\n",
      "T163_2018_11_28Notebook_3_b_seq2b3b.pickle\n",
      "session number 3 was imported (out of 104)\n",
      "T163_2018_11_30Notebook_3_b_seq2b3b.pickle\n",
      "session number 4 was imported (out of 104)\n",
      "T163_2018_12_03Notebook_3_b_seq2b3b.pickle\n",
      "session number 5 was imported (out of 104)\n",
      "T163_2018_12_04Notebook_3_b_seq2b3b.pickle\n",
      "session number 6 was imported (out of 104)\n",
      "T163_2018_12_06Notebook_3_b_seq2b3b.pickle\n",
      "session number 7 was imported (out of 104)\n",
      "T163_2018_12_07Notebook_3_b_seq2b3b.pickle\n",
      "session number 8 was imported (out of 104)\n",
      "T163_2018_12_10Notebook_3_b_seq2b3b.pickle\n",
      "session number 9 was imported (out of 104)\n",
      "T163_2018_12_11Notebook_3_b_seq2b3b.pickle\n",
      "session number 10 was imported (out of 104)\n",
      "T163_2018_12_13Notebook_3_b_seq2b3b.pickle\n",
      "session number 11 was imported (out of 104)\n",
      "T164_2018_11_27Notebook_3_b_seq2b3b.pickle\n",
      "session number 12 was imported (out of 104)\n",
      "T164_2018_11_28Notebook_3_b_seq2b3b.pickle\n",
      "session number 13 was imported (out of 104)\n",
      "T164_2018_11_29Notebook_3_b_seq2b3b.pickle\n",
      "session number 14 was imported (out of 104)\n",
      "T164_2018_12_03Notebook_3_b_seq2b3b.pickle\n",
      "session number 15 was imported (out of 104)\n",
      "T164_2018_12_04Notebook_3_b_seq2b3b.pickle\n",
      "session number 16 was imported (out of 104)\n",
      "T164_2018_12_05Notebook_3_b_seq2b3b.pickle\n",
      "session number 17 was imported (out of 104)\n",
      "T164_2018_12_06Notebook_3_b_seq2b3b.pickle\n",
      "session number 18 was imported (out of 104)\n",
      "T164_2018_12_07Notebook_3_b_seq2b3b.pickle\n",
      "session number 19 was imported (out of 104)\n",
      "T164_2018_12_10Notebook_3_b_seq2b3b.pickle\n",
      "session number 20 was imported (out of 104)\n",
      "T164_2018_12_11Notebook_3_b_seq2b3b.pickle\n",
      "session number 21 was imported (out of 104)\n",
      "T164_2018_12_13Notebook_3_b_seq2b3b.pickle\n",
      "session number 22 was imported (out of 104)\n",
      "T169_2019_01_23Notebook_3_b_seq2b3b.pickle\n",
      "session number 23 was imported (out of 104)\n",
      "T169_2019_01_25Notebook_3_b_seq2b3b.pickle\n",
      "session number 24 was imported (out of 104)\n",
      "T169_2019_01_31Notebook_3_b_seq2b3b.pickle\n",
      "session number 25 was imported (out of 104)\n",
      "T169_2019_02_01Notebook_3_b_seq2b3b.pickle\n",
      "session number 26 was imported (out of 104)\n",
      "T169_2019_02_11Notebook_3_b_seq2b3b.pickle\n",
      "session number 27 was imported (out of 104)\n",
      "T169_2019_02_12Notebook_3_b_seq2b3b.pickle\n",
      "session number 28 was imported (out of 104)\n",
      "T169_2019_02_13Notebook_3_b_seq2b3b.pickle\n",
      "session number 29 was imported (out of 104)\n",
      "T169_2019_02_14Notebook_3_b_seq2b3b.pickle\n",
      "session number 30 was imported (out of 104)\n",
      "T169_2019_02_15Notebook_3_b_seq2b3b.pickle\n",
      "session number 31 was imported (out of 104)\n",
      "T169_2019_02_19Notebook_3_b_seq2b3b.pickle\n",
      "session number 32 was imported (out of 104)\n",
      "T169_2019_02_20Notebook_3_b_seq2b3b.pickle\n",
      "session number 33 was imported (out of 104)\n",
      "T169_2019_02_21Notebook_3_b_seq2b3b.pickle\n",
      "session number 34 was imported (out of 104)\n",
      "T169_2019_02_22Notebook_3_b_seq2b3b.pickle\n",
      "session number 35 was imported (out of 104)\n",
      "T169_2019_02_25Notebook_3_b_seq2b3b.pickle\n",
      "session number 36 was imported (out of 104)\n",
      "T169_2019_02_26Notebook_3_b_seq2b3b.pickle\n",
      "session number 37 was imported (out of 104)\n",
      "T169_2019_02_27Notebook_3_b_seq2b3b.pickle\n",
      "session number 38 was imported (out of 104)\n",
      "T169_2019_02_28Notebook_3_b_seq2b3b.pickle\n",
      "session number 39 was imported (out of 104)\n",
      "T169_2019_03_01Notebook_3_b_seq2b3b.pickle\n",
      "session number 40 was imported (out of 104)\n",
      "T170_2019_01_22Notebook_3_b_seq2b3b.pickle\n",
      "session number 41 was imported (out of 104)\n",
      "T170_2019_01_23Notebook_3_b_seq2b3b.pickle\n",
      "session number 42 was imported (out of 104)\n",
      "T170_2019_01_25Notebook_3_b_seq2b3b.pickle\n",
      "session number 43 was imported (out of 104)\n",
      "T170_2019_01_30Notebook_3_b_seq2b3b.pickle\n",
      "session number 44 was imported (out of 104)\n",
      "T170_2019_01_31Notebook_3_b_seq2b3b.pickle\n",
      "session number 45 was imported (out of 104)\n",
      "T170_2019_02_01Notebook_3_b_seq2b3b.pickle\n",
      "session number 46 was imported (out of 104)\n",
      "T170_2019_02_04Notebook_3_b_seq2b3b.pickle\n",
      "session number 47 was imported (out of 104)\n",
      "T170_2019_02_11Notebook_3_b_seq2b3b.pickle\n",
      "session number 48 was imported (out of 104)\n",
      "T170_2019_02_13Notebook_3_b_seq2b3b.pickle\n",
      "session number 49 was imported (out of 104)\n",
      "T170_2019_02_14Notebook_3_b_seq2b3b.pickle\n",
      "session number 50 was imported (out of 104)\n",
      "T170_2019_02_19Notebook_3_b_seq2b3b.pickle\n",
      "session number 51 was imported (out of 104)\n",
      "T170_2019_02_20Notebook_3_b_seq2b3b.pickle\n",
      "session number 52 was imported (out of 104)\n",
      "T170_2019_02_21Notebook_3_b_seq2b3b.pickle\n",
      "session number 53 was imported (out of 104)\n",
      "T170_2019_02_22Notebook_3_b_seq2b3b.pickle\n",
      "session number 54 was imported (out of 104)\n",
      "T171_2019_01_22Notebook_3_b_seq2b3b.pickle\n",
      "session number 55 was imported (out of 104)\n",
      "T171_2019_01_23Notebook_3_b_seq2b3b.pickle\n",
      "session number 56 was imported (out of 104)\n",
      "T171_2019_01_25Notebook_3_b_seq2b3b.pickle\n",
      "session number 57 was imported (out of 104)\n",
      "T171_2019_01_28Notebook_3_b_seq2b3b.pickle\n",
      "session number 58 was imported (out of 104)\n",
      "T171_2019_01_30Notebook_3_b_seq2b3b.pickle\n",
      "session number 59 was imported (out of 104)\n",
      "T171_2019_01_31Notebook_3_b_seq2b3b.pickle\n",
      "session number 60 was imported (out of 104)\n",
      "T171_2019_02_08Notebook_3_b_seq2b3b.pickle\n",
      "session number 61 was imported (out of 104)\n",
      "T171_2019_02_11Notebook_3_b_seq2b3b.pickle\n",
      "session number 62 was imported (out of 104)\n",
      "T171_2019_02_12Notebook_3_b_seq2b3b.pickle\n",
      "session number 63 was imported (out of 104)\n",
      "T171_2019_02_13Notebook_3_b_seq2b3b.pickle\n",
      "session number 64 was imported (out of 104)\n",
      "T171_2019_02_14Notebook_3_b_seq2b3b.pickle\n",
      "session number 65 was imported (out of 104)\n",
      "T171_2019_02_15Notebook_3_b_seq2b3b.pickle\n",
      "session number 66 was imported (out of 104)\n",
      "T171_2019_02_19Notebook_3_b_seq2b3b.pickle\n",
      "session number 67 was imported (out of 104)\n",
      "T171_2019_02_20Notebook_3_b_seq2b3b.pickle\n",
      "session number 68 was imported (out of 104)\n",
      "T171_2019_02_21Notebook_3_b_seq2b3b.pickle\n",
      "session number 69 was imported (out of 104)\n",
      "T171_2019_02_22Notebook_3_b_seq2b3b.pickle\n",
      "session number 70 was imported (out of 104)\n",
      "T171_2019_02_25Notebook_3_b_seq2b3b.pickle\n",
      "session number 71 was imported (out of 104)\n",
      "T171_2019_02_26Notebook_3_b_seq2b3b.pickle\n",
      "session number 72 was imported (out of 104)\n",
      "T171_2019_02_27Notebook_3_b_seq2b3b.pickle\n",
      "session number 73 was imported (out of 104)\n",
      "T171_2019_02_28Notebook_3_b_seq2b3b.pickle\n",
      "session number 74 was imported (out of 104)\n",
      "T171_2019_03_01Notebook_3_b_seq2b3b.pickle\n",
      "session number 75 was imported (out of 104)\n",
      "T186_2019_03_21Notebook_3_b_seq2b3b.pickle\n",
      "session number 76 was imported (out of 104)\n",
      "T186_2019_03_22Notebook_3_b_seq2b3b.pickle\n",
      "session number 77 was imported (out of 104)\n",
      "T186_2019_03_25Notebook_3_b_seq2b3b.pickle\n",
      "session number 78 was imported (out of 104)\n",
      "T186_2019_03_27Notebook_3_b_seq2b3b.pickle\n",
      "session number 79 was imported (out of 104)\n",
      "T186_2019_03_28Notebook_3_b_seq2b3b.pickle\n",
      "session number 80 was imported (out of 104)\n",
      "T186_2019_04_01Notebook_3_b_seq2b3b.pickle\n",
      "session number 81 was imported (out of 104)\n",
      "T186_2019_04_02Notebook_3_b_seq2b3b.pickle\n",
      "session number 82 was imported (out of 104)\n",
      "T186_2019_04_03Notebook_3_b_seq2b3b.pickle\n",
      "session number 83 was imported (out of 104)\n",
      "T186_2019_04_04Notebook_3_b_seq2b3b.pickle\n",
      "session number 84 was imported (out of 104)\n",
      "T186_2019_04_05Notebook_3_b_seq2b3b.pickle\n",
      "session number 85 was imported (out of 104)\n",
      "T187_2019_03_21Notebook_3_b_seq2b3b.pickle\n",
      "session number 86 was imported (out of 104)\n",
      "T187_2019_03_22Notebook_3_b_seq2b3b.pickle\n",
      "session number 87 was imported (out of 104)\n",
      "T187_2019_03_25Notebook_3_b_seq2b3b.pickle\n",
      "session number 88 was imported (out of 104)\n",
      "T187_2019_03_28Notebook_3_b_seq2b3b.pickle\n",
      "session number 89 was imported (out of 104)\n",
      "T187_2019_04_01Notebook_3_b_seq2b3b.pickle\n",
      "session number 90 was imported (out of 104)\n",
      "T187_2019_04_02Notebook_3_b_seq2b3b.pickle\n",
      "session number 91 was imported (out of 104)\n",
      "T187_2019_04_03Notebook_3_b_seq2b3b.pickle\n",
      "session number 92 was imported (out of 104)\n",
      "T187_2019_04_04Notebook_3_b_seq2b3b.pickle\n",
      "session number 93 was imported (out of 104)\n",
      "T187_2019_04_05Notebook_3_b_seq2b3b.pickle\n",
      "session number 94 was imported (out of 104)\n",
      "T202_2019_05_16Notebook_3_b_seq2b3b.pickle\n",
      "session number 95 was imported (out of 104)\n",
      "T202_2019_05_18Notebook_3_b_seq2b3b.pickle\n"
     ]
    },
    {
     "name": "stdout",
     "output_type": "stream",
     "text": [
      "session number 96 was imported (out of 104)\n",
      "T202_2019_05_20Notebook_3_b_seq2b3b.pickle\n",
      "session number 97 was imported (out of 104)\n",
      "T202_2019_05_21Notebook_3_b_seq2b3b.pickle\n",
      "session number 98 was imported (out of 104)\n",
      "T202_2019_05_22Notebook_3_b_seq2b3b.pickle\n",
      "session number 99 was imported (out of 104)\n",
      "T202_2019_05_24Notebook_3_b_seq2b3b.pickle\n",
      "session number 100 was imported (out of 104)\n",
      "T202_2019_05_25Notebook_3_b_seq2b3b.pickle\n",
      "session number 101 was imported (out of 104)\n",
      "T202_2019_05_26Notebook_3_b_seq2b3b.pickle\n",
      "session number 102 was imported (out of 104)\n",
      "T202_2019_05_28Notebook_3_b_seq2b3b.pickle\n",
      "session number 103 was imported (out of 104)\n",
      "T202_2019_05_29Notebook_3_b_seq2b3b.pickle\n",
      "session number 104 was imported (out of 104)\n",
      "T202_2019_05_30Notebook_3_b_seq2b3b.pickle\n",
      "CPU times: user 1.6 s, sys: 3.8 s, total: 5.4 s\n",
      "Wall time: 1min 11s\n"
     ]
    }
   ],
   "source": [
    "%%time\n",
    "data_trial_data_set = ghf.extract_data_object_photometry_after_down_sampling(Mouse_Date_FileName,path,\n",
    "                                                                             version_of_notebook_2_3,\n",
    "                                                                             HowManyBack)"
   ]
  },
  {
   "cell_type": "code",
   "execution_count": 15,
   "metadata": {},
   "outputs": [],
   "source": [
    "data_set = data_trial_data_set.copy()"
   ]
  },
  {
   "cell_type": "code",
   "execution_count": 16,
   "metadata": {
    "scrolled": true
   },
   "outputs": [
    {
     "data": {
      "text/plain": [
       "['nTrial',\n",
       " 'iBlock',\n",
       " 'iTrial',\n",
       " 'iOccurrence',\n",
       " 'iState_start',\n",
       " 'iState_end',\n",
       " 'analog1',\n",
       " 'analog2',\n",
       " 'd2 R',\n",
       " 'd1 R',\n",
       " 'd2 L',\n",
       " 'd1 L',\n",
       " 'Real_nTrials']"
      ]
     },
     "execution_count": 16,
     "metadata": {},
     "output_type": "execute_result"
    }
   ],
   "source": [
    "list(data_set[0].keys())"
   ]
  },
  {
   "cell_type": "code",
   "execution_count": 17,
   "metadata": {},
   "outputs": [],
   "source": [
    "if not os.path.exists(path_to_save):\n",
    "    os.makedirs(path_to_save)"
   ]
  },
  {
   "cell_type": "code",
   "execution_count": 18,
   "metadata": {},
   "outputs": [],
   "source": [
    "root = Path(path_to_save)\n",
    "d = \"data_object_photometry_after_down_sampling\"+\"_\"+seq_str+'.pickle'\n",
    "my_path = root / d "
   ]
  },
  {
   "cell_type": "code",
   "execution_count": 19,
   "metadata": {},
   "outputs": [
    {
     "name": "stdout",
     "output_type": "stream",
     "text": [
      "CPU times: user 1.97 s, sys: 6.9 s, total: 8.87 s\n",
      "Wall time: 1min 20s\n"
     ]
    }
   ],
   "source": [
    "%%time\n",
    "my_file = open(my_path, 'wb')\n",
    "my_file = pickle.dump((data_set),my_file)"
   ]
  },
  {
   "cell_type": "code",
   "execution_count": null,
   "metadata": {},
   "outputs": [],
   "source": []
  }
 ],
 "metadata": {
  "kernelspec": {
   "display_name": "Python 3",
   "language": "python",
   "name": "python3"
  },
  "language_info": {
   "codemirror_mode": {
    "name": "ipython",
    "version": 3
   },
   "file_extension": ".py",
   "mimetype": "text/x-python",
   "name": "python",
   "nbconvert_exporter": "python",
   "pygments_lexer": "ipython3",
   "version": "3.7.3"
  }
 },
 "nbformat": 4,
 "nbformat_minor": 4
}
