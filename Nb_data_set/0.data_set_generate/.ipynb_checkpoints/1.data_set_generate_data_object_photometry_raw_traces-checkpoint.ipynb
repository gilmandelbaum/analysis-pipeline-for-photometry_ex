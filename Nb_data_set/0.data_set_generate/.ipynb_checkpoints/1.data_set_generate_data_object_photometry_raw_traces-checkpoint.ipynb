{
 "cells": [
  {
   "cell_type": "code",
   "execution_count": 1,
   "metadata": {},
   "outputs": [],
   "source": [
    "import pickle\n",
    "from pathlib import Path\n",
    "import pandas as pd \n",
    "import os\n",
    "import sys\n",
    "import tdt"
   ]
  },
  {
   "cell_type": "code",
   "execution_count": 2,
   "metadata": {},
   "outputs": [],
   "source": [
    "import data_set_generate_helper_functions as ghf"
   ]
  },
  {
   "cell_type": "code",
   "execution_count": 3,
   "metadata": {},
   "outputs": [
    {
     "data": {
      "text/plain": [
       "'/anaconda3/bin/python3'"
      ]
     },
     "execution_count": 3,
     "metadata": {},
     "output_type": "execute_result"
    }
   ],
   "source": [
    "sys.executable"
   ]
  },
  {
   "cell_type": "markdown",
   "metadata": {},
   "source": [
    "# Path to import the data"
   ]
  },
  {
   "cell_type": "markdown",
   "metadata": {},
   "source": [
    "not the analysis folder because we are importing the raw traces"
   ]
  },
  {
   "cell_type": "code",
   "execution_count": 4,
   "metadata": {},
   "outputs": [],
   "source": [
    "path_to_import =\"/Volumes/GilInVivoPaper.large/2.Photometry_in_str/0.data_Sets/1.lateral_medial_6\""
   ]
  },
  {
   "cell_type": "markdown",
   "metadata": {},
   "source": [
    "# Path to save the data"
   ]
  },
  {
   "cell_type": "code",
   "execution_count": 5,
   "metadata": {},
   "outputs": [],
   "source": [
    "path_to_save = \"/Volumes/GilInVivoPaper.large/2.Photometry_in_str/1.lateral_medial_6_analysis\""
   ]
  },
  {
   "cell_type": "markdown",
   "metadata": {},
   "source": [
    "# Folder to save the data: "
   ]
  },
  {
   "cell_type": "code",
   "execution_count": 6,
   "metadata": {},
   "outputs": [],
   "source": [
    "folderName=\"raw_traces_data_set\" #folder where the plot data_set will be saved \n",
    "#folderName=\"left_dual_color_photo_full_data_set_after_inspection\" #folder where the plot data_set will be saved "
   ]
  },
  {
   "cell_type": "code",
   "execution_count": 7,
   "metadata": {},
   "outputs": [
    {
     "data": {
      "text/plain": [
       "'/Volumes/GilInVivoPaper.large/2.Photometry_in_str/1.lateral_medial_6_analysis/raw_traces_data_set'"
      ]
     },
     "execution_count": 7,
     "metadata": {},
     "output_type": "execute_result"
    }
   ],
   "source": [
    "full_path_to_save = path_to_save+\"/\"+folderName\n",
    "full_path_to_save"
   ]
  },
  {
   "cell_type": "markdown",
   "metadata": {},
   "source": [
    "# import the data table: "
   ]
  },
  {
   "cell_type": "code",
   "execution_count": 8,
   "metadata": {},
   "outputs": [],
   "source": [
    "#name of xlsx file that has the sessions we want to run: \n",
    "MasterSheetName= 'lateral_ medial_6_behavior'"
   ]
  },
  {
   "cell_type": "code",
   "execution_count": 9,
   "metadata": {},
   "outputs": [
    {
     "data": {
      "text/plain": [
       "'/Volumes/GilInVivoPaper.large/2.Photometry_in_str/0.data_Sets/1.lateral_medial_6/lateral_ medial_6_behavior.xlsx'"
      ]
     },
     "execution_count": 9,
     "metadata": {},
     "output_type": "execute_result"
    }
   ],
   "source": [
    "path_to_import+'/'+MasterSheetName+'.xlsx'"
   ]
  },
  {
   "cell_type": "code",
   "execution_count": 10,
   "metadata": {},
   "outputs": [],
   "source": [
    "Mouse_Date_FileName = pd.read_excel(path_to_import+'/'+MasterSheetName+'.xlsx') #mdf is mouse data file "
   ]
  },
  {
   "cell_type": "code",
   "execution_count": 11,
   "metadata": {
    "scrolled": true
   },
   "outputs": [
    {
     "data": {
      "text/html": [
       "<div>\n",
       "<style scoped>\n",
       "    .dataframe tbody tr th:only-of-type {\n",
       "        vertical-align: middle;\n",
       "    }\n",
       "\n",
       "    .dataframe tbody tr th {\n",
       "        vertical-align: top;\n",
       "    }\n",
       "\n",
       "    .dataframe thead th {\n",
       "        text-align: right;\n",
       "    }\n",
       "</style>\n",
       "<table border=\"1\" class=\"dataframe\">\n",
       "  <thead>\n",
       "    <tr style=\"text-align: right;\">\n",
       "      <th></th>\n",
       "      <th>mouse</th>\n",
       "      <th>date</th>\n",
       "      <th>file name</th>\n",
       "      <th>1122</th>\n",
       "      <th>1111</th>\n",
       "      <th>2211</th>\n",
       "      <th>2121</th>\n",
       "      <th>1122.1</th>\n",
       "      <th>1111.1</th>\n",
       "      <th>2211.1</th>\n",
       "      <th>...</th>\n",
       "      <th>d2 R RAW</th>\n",
       "      <th>d1 L RAW</th>\n",
       "      <th>d2 L RAW</th>\n",
       "      <th>d1 R AVG</th>\n",
       "      <th>d2 R AVG</th>\n",
       "      <th>d1 L AVG</th>\n",
       "      <th>d2 L AVG</th>\n",
       "      <th>mouse.1</th>\n",
       "      <th>date.1</th>\n",
       "      <th>file name.1</th>\n",
       "    </tr>\n",
       "  </thead>\n",
       "  <tbody>\n",
       "    <tr>\n",
       "      <th>0</th>\n",
       "      <td>T163</td>\n",
       "      <td>181127</td>\n",
       "      <td>T163-144959</td>\n",
       "      <td>7</td>\n",
       "      <td>58</td>\n",
       "      <td>17</td>\n",
       "      <td>6</td>\n",
       "      <td>3</td>\n",
       "      <td>57</td>\n",
       "      <td>6</td>\n",
       "      <td>...</td>\n",
       "      <td>NaN</td>\n",
       "      <td>NaN</td>\n",
       "      <td>NaN</td>\n",
       "      <td>NaN</td>\n",
       "      <td>NaN</td>\n",
       "      <td>NaN</td>\n",
       "      <td>NaN</td>\n",
       "      <td>T163</td>\n",
       "      <td>181127</td>\n",
       "      <td>T163-144959</td>\n",
       "    </tr>\n",
       "    <tr>\n",
       "      <th>1</th>\n",
       "      <td>T163</td>\n",
       "      <td>181128</td>\n",
       "      <td>T163-115220</td>\n",
       "      <td>9</td>\n",
       "      <td>61</td>\n",
       "      <td>16</td>\n",
       "      <td>0</td>\n",
       "      <td>6</td>\n",
       "      <td>69</td>\n",
       "      <td>9</td>\n",
       "      <td>...</td>\n",
       "      <td>NaN</td>\n",
       "      <td>NaN</td>\n",
       "      <td>NaN</td>\n",
       "      <td>NaN</td>\n",
       "      <td>NaN</td>\n",
       "      <td>NaN</td>\n",
       "      <td>NaN</td>\n",
       "      <td>T163</td>\n",
       "      <td>181128</td>\n",
       "      <td>T163-115220</td>\n",
       "    </tr>\n",
       "    <tr>\n",
       "      <th>2</th>\n",
       "      <td>T163</td>\n",
       "      <td>181130</td>\n",
       "      <td>T163-133215</td>\n",
       "      <td>9</td>\n",
       "      <td>56</td>\n",
       "      <td>16</td>\n",
       "      <td>3</td>\n",
       "      <td>2</td>\n",
       "      <td>47</td>\n",
       "      <td>6</td>\n",
       "      <td>...</td>\n",
       "      <td>NaN</td>\n",
       "      <td>NaN</td>\n",
       "      <td>NaN</td>\n",
       "      <td>NaN</td>\n",
       "      <td>NaN</td>\n",
       "      <td>NaN</td>\n",
       "      <td>NaN</td>\n",
       "      <td>T163</td>\n",
       "      <td>181130</td>\n",
       "      <td>T163-133215</td>\n",
       "    </tr>\n",
       "    <tr>\n",
       "      <th>3</th>\n",
       "      <td>T163</td>\n",
       "      <td>181203</td>\n",
       "      <td>T163-115901</td>\n",
       "      <td>8</td>\n",
       "      <td>49</td>\n",
       "      <td>16</td>\n",
       "      <td>0</td>\n",
       "      <td>8</td>\n",
       "      <td>61</td>\n",
       "      <td>6</td>\n",
       "      <td>...</td>\n",
       "      <td>NaN</td>\n",
       "      <td>NaN</td>\n",
       "      <td>NaN</td>\n",
       "      <td>NaN</td>\n",
       "      <td>NaN</td>\n",
       "      <td>NaN</td>\n",
       "      <td>NaN</td>\n",
       "      <td>T163</td>\n",
       "      <td>181203</td>\n",
       "      <td>T163-115901</td>\n",
       "    </tr>\n",
       "    <tr>\n",
       "      <th>4</th>\n",
       "      <td>T163</td>\n",
       "      <td>181204</td>\n",
       "      <td>T163-114628</td>\n",
       "      <td>9</td>\n",
       "      <td>52</td>\n",
       "      <td>19</td>\n",
       "      <td>4</td>\n",
       "      <td>8</td>\n",
       "      <td>65</td>\n",
       "      <td>12</td>\n",
       "      <td>...</td>\n",
       "      <td>NaN</td>\n",
       "      <td>NaN</td>\n",
       "      <td>NaN</td>\n",
       "      <td>NaN</td>\n",
       "      <td>NaN</td>\n",
       "      <td>NaN</td>\n",
       "      <td>NaN</td>\n",
       "      <td>T163</td>\n",
       "      <td>181204</td>\n",
       "      <td>T163-114628</td>\n",
       "    </tr>\n",
       "    <tr>\n",
       "      <th>...</th>\n",
       "      <td>...</td>\n",
       "      <td>...</td>\n",
       "      <td>...</td>\n",
       "      <td>...</td>\n",
       "      <td>...</td>\n",
       "      <td>...</td>\n",
       "      <td>...</td>\n",
       "      <td>...</td>\n",
       "      <td>...</td>\n",
       "      <td>...</td>\n",
       "      <td>...</td>\n",
       "      <td>...</td>\n",
       "      <td>...</td>\n",
       "      <td>...</td>\n",
       "      <td>...</td>\n",
       "      <td>...</td>\n",
       "      <td>...</td>\n",
       "      <td>...</td>\n",
       "      <td>...</td>\n",
       "      <td>...</td>\n",
       "      <td>...</td>\n",
       "    </tr>\n",
       "    <tr>\n",
       "      <th>99</th>\n",
       "      <td>T202</td>\n",
       "      <td>190525</td>\n",
       "      <td>T202-153611</td>\n",
       "      <td>2</td>\n",
       "      <td>38</td>\n",
       "      <td>15</td>\n",
       "      <td>5</td>\n",
       "      <td>2</td>\n",
       "      <td>22</td>\n",
       "      <td>5</td>\n",
       "      <td>...</td>\n",
       "      <td>NaN</td>\n",
       "      <td>NaN</td>\n",
       "      <td>NaN</td>\n",
       "      <td>NaN</td>\n",
       "      <td>NaN</td>\n",
       "      <td>NaN</td>\n",
       "      <td>NaN</td>\n",
       "      <td>T202</td>\n",
       "      <td>190525</td>\n",
       "      <td>T202-153611</td>\n",
       "    </tr>\n",
       "    <tr>\n",
       "      <th>100</th>\n",
       "      <td>T202</td>\n",
       "      <td>190526</td>\n",
       "      <td>T202-142728</td>\n",
       "      <td>5</td>\n",
       "      <td>50</td>\n",
       "      <td>17</td>\n",
       "      <td>0</td>\n",
       "      <td>9</td>\n",
       "      <td>55</td>\n",
       "      <td>9</td>\n",
       "      <td>...</td>\n",
       "      <td>NaN</td>\n",
       "      <td>NaN</td>\n",
       "      <td>NaN</td>\n",
       "      <td>NaN</td>\n",
       "      <td>NaN</td>\n",
       "      <td>NaN</td>\n",
       "      <td>NaN</td>\n",
       "      <td>T202</td>\n",
       "      <td>190526</td>\n",
       "      <td>T202-142728</td>\n",
       "    </tr>\n",
       "    <tr>\n",
       "      <th>101</th>\n",
       "      <td>T202</td>\n",
       "      <td>190528</td>\n",
       "      <td>T202-140948</td>\n",
       "      <td>5</td>\n",
       "      <td>28</td>\n",
       "      <td>9</td>\n",
       "      <td>2</td>\n",
       "      <td>4</td>\n",
       "      <td>30</td>\n",
       "      <td>3</td>\n",
       "      <td>...</td>\n",
       "      <td>NaN</td>\n",
       "      <td>NaN</td>\n",
       "      <td>NaN</td>\n",
       "      <td>NaN</td>\n",
       "      <td>NaN</td>\n",
       "      <td>NaN</td>\n",
       "      <td>NaN</td>\n",
       "      <td>T202</td>\n",
       "      <td>190528</td>\n",
       "      <td>T202-140948</td>\n",
       "    </tr>\n",
       "    <tr>\n",
       "      <th>102</th>\n",
       "      <td>T202</td>\n",
       "      <td>190529</td>\n",
       "      <td>T202-160644</td>\n",
       "      <td>4</td>\n",
       "      <td>57</td>\n",
       "      <td>11</td>\n",
       "      <td>2</td>\n",
       "      <td>10</td>\n",
       "      <td>55</td>\n",
       "      <td>12</td>\n",
       "      <td>...</td>\n",
       "      <td>NaN</td>\n",
       "      <td>NaN</td>\n",
       "      <td>NaN</td>\n",
       "      <td>NaN</td>\n",
       "      <td>NaN</td>\n",
       "      <td>NaN</td>\n",
       "      <td>NaN</td>\n",
       "      <td>T202</td>\n",
       "      <td>190529</td>\n",
       "      <td>T202-160644</td>\n",
       "    </tr>\n",
       "    <tr>\n",
       "      <th>103</th>\n",
       "      <td>T202</td>\n",
       "      <td>190530</td>\n",
       "      <td>T202-152554</td>\n",
       "      <td>5</td>\n",
       "      <td>31</td>\n",
       "      <td>5</td>\n",
       "      <td>2</td>\n",
       "      <td>7</td>\n",
       "      <td>47</td>\n",
       "      <td>7</td>\n",
       "      <td>...</td>\n",
       "      <td>NaN</td>\n",
       "      <td>NaN</td>\n",
       "      <td>NaN</td>\n",
       "      <td>NaN</td>\n",
       "      <td>NaN</td>\n",
       "      <td>NaN</td>\n",
       "      <td>NaN</td>\n",
       "      <td>T202</td>\n",
       "      <td>190530</td>\n",
       "      <td>T202-152554</td>\n",
       "    </tr>\n",
       "  </tbody>\n",
       "</table>\n",
       "<p>104 rows × 37 columns</p>\n",
       "</div>"
      ],
      "text/plain": [
       "    mouse    date    file name  1122  1111  2211  2121  1122.1  1111.1  \\\n",
       "0    T163  181127  T163-144959     7    58    17     6       3      57   \n",
       "1    T163  181128  T163-115220     9    61    16     0       6      69   \n",
       "2    T163  181130  T163-133215     9    56    16     3       2      47   \n",
       "3    T163  181203  T163-115901     8    49    16     0       8      61   \n",
       "4    T163  181204  T163-114628     9    52    19     4       8      65   \n",
       "..    ...     ...          ...   ...   ...   ...   ...     ...     ...   \n",
       "99   T202  190525  T202-153611     2    38    15     5       2      22   \n",
       "100  T202  190526  T202-142728     5    50    17     0       9      55   \n",
       "101  T202  190528  T202-140948     5    28     9     2       4      30   \n",
       "102  T202  190529  T202-160644     4    57    11     2      10      55   \n",
       "103  T202  190530  T202-152554     5    31     5     2       7      47   \n",
       "\n",
       "     2211.1  ...  d2 R RAW  d1 L RAW  d2 L RAW  d1 R AVG  d2 R AVG  d1 L AVG  \\\n",
       "0         6  ...       NaN       NaN       NaN       NaN       NaN       NaN   \n",
       "1         9  ...       NaN       NaN       NaN       NaN       NaN       NaN   \n",
       "2         6  ...       NaN       NaN       NaN       NaN       NaN       NaN   \n",
       "3         6  ...       NaN       NaN       NaN       NaN       NaN       NaN   \n",
       "4        12  ...       NaN       NaN       NaN       NaN       NaN       NaN   \n",
       "..      ...  ...       ...       ...       ...       ...       ...       ...   \n",
       "99        5  ...       NaN       NaN       NaN       NaN       NaN       NaN   \n",
       "100       9  ...       NaN       NaN       NaN       NaN       NaN       NaN   \n",
       "101       3  ...       NaN       NaN       NaN       NaN       NaN       NaN   \n",
       "102      12  ...       NaN       NaN       NaN       NaN       NaN       NaN   \n",
       "103       7  ...       NaN       NaN       NaN       NaN       NaN       NaN   \n",
       "\n",
       "     d2 L AVG  mouse.1  date.1  file name.1  \n",
       "0         NaN     T163  181127  T163-144959  \n",
       "1         NaN     T163  181128  T163-115220  \n",
       "2         NaN     T163  181130  T163-133215  \n",
       "3         NaN     T163  181203  T163-115901  \n",
       "4         NaN     T163  181204  T163-114628  \n",
       "..        ...      ...     ...          ...  \n",
       "99        NaN     T202  190525  T202-153611  \n",
       "100       NaN     T202  190526  T202-142728  \n",
       "101       NaN     T202  190528  T202-140948  \n",
       "102       NaN     T202  190529  T202-160644  \n",
       "103       NaN     T202  190530  T202-152554  \n",
       "\n",
       "[104 rows x 37 columns]"
      ]
     },
     "execution_count": 11,
     "metadata": {},
     "output_type": "execute_result"
    }
   ],
   "source": [
    "Mouse_Date_FileName"
   ]
  },
  {
   "cell_type": "code",
   "execution_count": 12,
   "metadata": {},
   "outputs": [],
   "source": [
    "#Mouse_Date_FileName = Mouse_Date_FileName.iloc[0:30,:]"
   ]
  },
  {
   "cell_type": "code",
   "execution_count": 13,
   "metadata": {
    "scrolled": true
   },
   "outputs": [],
   "source": [
    "#Mouse_Date_FileName"
   ]
  },
  {
   "cell_type": "markdown",
   "metadata": {},
   "source": [
    "# Import the full data structure for each session: "
   ]
  },
  {
   "cell_type": "code",
   "execution_count": null,
   "metadata": {
    "scrolled": true
   },
   "outputs": [
    {
     "name": "stdout",
     "output_type": "stream",
     "text": [
      "session number 1 was imported (out of 104)\n",
      "read from t=0s to t=1235.57s\n",
      "session number 2 was imported (out of 104)\n",
      "read from t=0s to t=1288.2s\n",
      "session number 3 was imported (out of 104)\n",
      "read from t=0s to t=1338.08s\n",
      "session number 4 was imported (out of 104)\n",
      "read from t=0s to t=1354.94s\n",
      "session number 5 was imported (out of 104)\n",
      "read from t=0s to t=1301.59s\n",
      "session number 6 was imported (out of 104)\n",
      "read from t=0s to t=1264.2s\n",
      "session number 7 was imported (out of 104)\n",
      "read from t=0s to t=1414.42s\n",
      "session number 8 was imported (out of 104)\n",
      "read from t=0s to t=1265.19s\n",
      "session number 9 was imported (out of 104)\n",
      "read from t=0s to t=1383.3s\n",
      "session number 10 was imported (out of 104)\n",
      "read from t=0s to t=1419.37s\n",
      "session number 11 was imported (out of 104)\n",
      "read from t=0s to t=1086.68s\n",
      "session number 12 was imported (out of 104)\n",
      "read from t=0s to t=1213.68s\n",
      "session number 13 was imported (out of 104)\n",
      "read from t=0s to t=1457.54s\n",
      "session number 14 was imported (out of 104)\n",
      "read from t=0s to t=1397.89s\n",
      "session number 15 was imported (out of 104)\n",
      "read from t=0s to t=1318.45s\n",
      "session number 16 was imported (out of 104)\n",
      "read from t=0s to t=1225.42s\n",
      "session number 17 was imported (out of 104)\n",
      "read from t=0s to t=1197.07s\n",
      "session number 18 was imported (out of 104)\n",
      "read from t=0s to t=1259.2s\n",
      "session number 19 was imported (out of 104)\n",
      "read from t=0s to t=1186.42s\n",
      "session number 20 was imported (out of 104)\n",
      "read from t=0s to t=1270.39s\n",
      "session number 21 was imported (out of 104)\n",
      "read from t=0s to t=1186.67s\n",
      "session number 22 was imported (out of 104)\n",
      "read from t=0s to t=1296.06s\n",
      "session number 23 was imported (out of 104)\n",
      "read from t=0s to t=1262.42s\n",
      "session number 24 was imported (out of 104)\n",
      "read from t=0s to t=1221.82s\n",
      "session number 25 was imported (out of 104)\n",
      "read from t=0s to t=1314.68s\n",
      "session number 26 was imported (out of 104)\n",
      "read from t=0s to t=1312.75s\n",
      "session number 27 was imported (out of 104)\n",
      "read from t=0s to t=1254.28s\n",
      "session number 28 was imported (out of 104)\n",
      "read from t=0s to t=1233.64s\n",
      "session number 29 was imported (out of 104)\n",
      "read from t=0s to t=1202.77s\n",
      "session number 30 was imported (out of 104)\n",
      "read from t=0s to t=1184.74s\n",
      "session number 31 was imported (out of 104)\n",
      "read from t=0s to t=1279.7s\n",
      "session number 32 was imported (out of 104)\n",
      "read from t=0s to t=1229.37s\n",
      "session number 33 was imported (out of 104)\n",
      "read from t=0s to t=1157.39s\n",
      "session number 34 was imported (out of 104)\n",
      "read from t=0s to t=1192.19s\n"
     ]
    }
   ],
   "source": [
    "%%time\n",
    "data_set = ghf.extract_data_object_photometry_raw_traces(Mouse_Date_FileName,\n",
    "                                                         path_to_import,\n",
    "                                                         path_to_save)"
   ]
  },
  {
   "cell_type": "code",
   "execution_count": null,
   "metadata": {
    "scrolled": true
   },
   "outputs": [],
   "source": [
    "list(data_set[0].keys())"
   ]
  },
  {
   "cell_type": "code",
   "execution_count": null,
   "metadata": {},
   "outputs": [],
   "source": [
    "if not os.path.exists(full_path_to_save):\n",
    "    os.makedirs(full_path_to_save)"
   ]
  },
  {
   "cell_type": "code",
   "execution_count": null,
   "metadata": {},
   "outputs": [],
   "source": [
    "root = Path(full_path_to_save)\n",
    "d = \"data_object_photometry_raw_traces\"+'.pickle'\n",
    "my_path = root / d "
   ]
  },
  {
   "cell_type": "code",
   "execution_count": null,
   "metadata": {},
   "outputs": [],
   "source": [
    "my_path"
   ]
  },
  {
   "cell_type": "code",
   "execution_count": null,
   "metadata": {},
   "outputs": [],
   "source": [
    "%%time\n",
    "my_file = open(my_path, 'wb')\n",
    "my_file = pickle.dump((data_set),my_file)"
   ]
  },
  {
   "cell_type": "code",
   "execution_count": null,
   "metadata": {},
   "outputs": [],
   "source": []
  }
 ],
 "metadata": {
  "kernelspec": {
   "display_name": "Python 3",
   "language": "python",
   "name": "python3"
  },
  "language_info": {
   "codemirror_mode": {
    "name": "ipython",
    "version": 3
   },
   "file_extension": ".py",
   "mimetype": "text/x-python",
   "name": "python",
   "nbconvert_exporter": "python",
   "pygments_lexer": "ipython3",
   "version": "3.7.3"
  }
 },
 "nbformat": 4,
 "nbformat_minor": 4
}
