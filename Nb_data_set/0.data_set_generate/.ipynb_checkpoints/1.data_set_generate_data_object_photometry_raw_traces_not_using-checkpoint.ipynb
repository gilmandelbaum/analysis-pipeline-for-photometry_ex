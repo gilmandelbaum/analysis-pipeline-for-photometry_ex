{
 "cells": [
  {
   "cell_type": "code",
   "execution_count": 1,
   "metadata": {},
   "outputs": [],
   "source": [
    "import pickle\n",
    "from pathlib import Path\n",
    "import pandas as pd \n",
    "import os\n",
    "import sys\n",
    "import tdt"
   ]
  },
  {
   "cell_type": "code",
   "execution_count": 2,
   "metadata": {},
   "outputs": [],
   "source": [
    "import data_set_generate_helper_functions as ghf"
   ]
  },
  {
   "cell_type": "code",
   "execution_count": 3,
   "metadata": {
    "scrolled": true
   },
   "outputs": [
    {
     "data": {
      "text/plain": [
       "'/anaconda3/bin/python3'"
      ]
     },
     "execution_count": 3,
     "metadata": {},
     "output_type": "execute_result"
    }
   ],
   "source": [
    "sys.executable"
   ]
  },
  {
   "cell_type": "markdown",
   "metadata": {},
   "source": [
    "# Path to all the raw data:"
   ]
  },
  {
   "cell_type": "code",
   "execution_count": 4,
   "metadata": {},
   "outputs": [],
   "source": [
    "path_to_raw_data = \"/Volumes/GilInVivoPaper.large/2.Photometry_in_str/0.data_Sets\""
   ]
  },
  {
   "cell_type": "markdown",
   "metadata": {},
   "source": [
    "# Where is the data set of interest:"
   ]
  },
  {
   "cell_type": "code",
   "execution_count": 5,
   "metadata": {},
   "outputs": [],
   "source": [
    "folder_name=\"1.lateral_medial_6\" #folder where the raw data is. "
   ]
  },
  {
   "cell_type": "code",
   "execution_count": 6,
   "metadata": {},
   "outputs": [
    {
     "data": {
      "text/plain": [
       "'/Volumes/GilInVivoPaper.large/2.Photometry_in_str/0.data_Sets/1.lateral_medial_6'"
      ]
     },
     "execution_count": 6,
     "metadata": {},
     "output_type": "execute_result"
    }
   ],
   "source": [
    "path_to_import = path_to_raw_data+\"/\"+folder_name\n",
    "path_to_import"
   ]
  },
  {
   "cell_type": "markdown",
   "metadata": {},
   "source": [
    "# Where to save the data: "
   ]
  },
  {
   "cell_type": "code",
   "execution_count": 7,
   "metadata": {},
   "outputs": [
    {
     "data": {
      "text/plain": [
       "'/Volumes/GilInVivoPaper.large/2.Photometry_in_str/1.lateral_medial_6_analysis'"
      ]
     },
     "execution_count": 7,
     "metadata": {},
     "output_type": "execute_result"
    }
   ],
   "source": [
    "path_to_save = \"/Volumes/GilInVivoPaper.large/2.Photometry_in_str/\"+folder_name+\"_analysis\"\n",
    "path_to_save"
   ]
  },
  {
   "cell_type": "markdown",
   "metadata": {},
   "source": [
    "# import the data table: "
   ]
  },
  {
   "cell_type": "code",
   "execution_count": 8,
   "metadata": {},
   "outputs": [],
   "source": [
    "#name of xlsx file that has the sessions we want to run: \n",
    "MasterSheetName= 'lateral_ medial_6_to_run_analysis'"
   ]
  },
  {
   "cell_type": "code",
   "execution_count": 9,
   "metadata": {},
   "outputs": [],
   "source": [
    "Mouse_Date_FileName = pd.read_excel(path_to_import+'/'+MasterSheetName+'.xlsx') #mdf is mouse data file "
   ]
  },
  {
   "cell_type": "code",
   "execution_count": 10,
   "metadata": {
    "scrolled": true
   },
   "outputs": [],
   "source": [
    "#Mouse_Date_FileName = Mouse_Date_FileName.drop([16])"
   ]
  },
  {
   "cell_type": "code",
   "execution_count": 11,
   "metadata": {
    "scrolled": true
   },
   "outputs": [
    {
     "data": {
      "text/html": [
       "<div>\n",
       "<style scoped>\n",
       "    .dataframe tbody tr th:only-of-type {\n",
       "        vertical-align: middle;\n",
       "    }\n",
       "\n",
       "    .dataframe tbody tr th {\n",
       "        vertical-align: top;\n",
       "    }\n",
       "\n",
       "    .dataframe thead th {\n",
       "        text-align: right;\n",
       "    }\n",
       "</style>\n",
       "<table border=\"1\" class=\"dataframe\">\n",
       "  <thead>\n",
       "    <tr style=\"text-align: right;\">\n",
       "      <th></th>\n",
       "      <th>mouse</th>\n",
       "      <th>date</th>\n",
       "      <th>file name</th>\n",
       "    </tr>\n",
       "  </thead>\n",
       "  <tbody>\n",
       "    <tr>\n",
       "      <th>0</th>\n",
       "      <td>T163</td>\n",
       "      <td>181127</td>\n",
       "      <td>T163-144959</td>\n",
       "    </tr>\n",
       "    <tr>\n",
       "      <th>1</th>\n",
       "      <td>T163</td>\n",
       "      <td>181128</td>\n",
       "      <td>T163-115220</td>\n",
       "    </tr>\n",
       "    <tr>\n",
       "      <th>2</th>\n",
       "      <td>T163</td>\n",
       "      <td>181130</td>\n",
       "      <td>T163-133215</td>\n",
       "    </tr>\n",
       "    <tr>\n",
       "      <th>3</th>\n",
       "      <td>T163</td>\n",
       "      <td>181203</td>\n",
       "      <td>T163-115901</td>\n",
       "    </tr>\n",
       "    <tr>\n",
       "      <th>4</th>\n",
       "      <td>T163</td>\n",
       "      <td>181204</td>\n",
       "      <td>T163-114628</td>\n",
       "    </tr>\n",
       "    <tr>\n",
       "      <th>...</th>\n",
       "      <td>...</td>\n",
       "      <td>...</td>\n",
       "      <td>...</td>\n",
       "    </tr>\n",
       "    <tr>\n",
       "      <th>99</th>\n",
       "      <td>T202</td>\n",
       "      <td>190525</td>\n",
       "      <td>T202-153611</td>\n",
       "    </tr>\n",
       "    <tr>\n",
       "      <th>100</th>\n",
       "      <td>T202</td>\n",
       "      <td>190526</td>\n",
       "      <td>T202-142728</td>\n",
       "    </tr>\n",
       "    <tr>\n",
       "      <th>101</th>\n",
       "      <td>T202</td>\n",
       "      <td>190528</td>\n",
       "      <td>T202-140948</td>\n",
       "    </tr>\n",
       "    <tr>\n",
       "      <th>102</th>\n",
       "      <td>T202</td>\n",
       "      <td>190529</td>\n",
       "      <td>T202-160644</td>\n",
       "    </tr>\n",
       "    <tr>\n",
       "      <th>103</th>\n",
       "      <td>T202</td>\n",
       "      <td>190530</td>\n",
       "      <td>T202-152554</td>\n",
       "    </tr>\n",
       "  </tbody>\n",
       "</table>\n",
       "<p>104 rows × 3 columns</p>\n",
       "</div>"
      ],
      "text/plain": [
       "    mouse    date    file name\n",
       "0    T163  181127  T163-144959\n",
       "1    T163  181128  T163-115220\n",
       "2    T163  181130  T163-133215\n",
       "3    T163  181203  T163-115901\n",
       "4    T163  181204  T163-114628\n",
       "..    ...     ...          ...\n",
       "99   T202  190525  T202-153611\n",
       "100  T202  190526  T202-142728\n",
       "101  T202  190528  T202-140948\n",
       "102  T202  190529  T202-160644\n",
       "103  T202  190530  T202-152554\n",
       "\n",
       "[104 rows x 3 columns]"
      ]
     },
     "execution_count": 11,
     "metadata": {},
     "output_type": "execute_result"
    }
   ],
   "source": [
    "Mouse_Date_FileName"
   ]
  },
  {
   "cell_type": "code",
   "execution_count": 17,
   "metadata": {},
   "outputs": [],
   "source": [
    "#Mouse_Date_FileName = Mouse_Date_FileName.loc[0:2]"
   ]
  },
  {
   "cell_type": "code",
   "execution_count": 18,
   "metadata": {},
   "outputs": [
    {
     "data": {
      "text/html": [
       "<div>\n",
       "<style scoped>\n",
       "    .dataframe tbody tr th:only-of-type {\n",
       "        vertical-align: middle;\n",
       "    }\n",
       "\n",
       "    .dataframe tbody tr th {\n",
       "        vertical-align: top;\n",
       "    }\n",
       "\n",
       "    .dataframe thead th {\n",
       "        text-align: right;\n",
       "    }\n",
       "</style>\n",
       "<table border=\"1\" class=\"dataframe\">\n",
       "  <thead>\n",
       "    <tr style=\"text-align: right;\">\n",
       "      <th></th>\n",
       "      <th>mouse</th>\n",
       "      <th>date</th>\n",
       "      <th>file name</th>\n",
       "    </tr>\n",
       "  </thead>\n",
       "  <tbody>\n",
       "    <tr>\n",
       "      <th>0</th>\n",
       "      <td>T163</td>\n",
       "      <td>181127</td>\n",
       "      <td>T163-144959</td>\n",
       "    </tr>\n",
       "    <tr>\n",
       "      <th>1</th>\n",
       "      <td>T163</td>\n",
       "      <td>181128</td>\n",
       "      <td>T163-115220</td>\n",
       "    </tr>\n",
       "    <tr>\n",
       "      <th>2</th>\n",
       "      <td>T163</td>\n",
       "      <td>181130</td>\n",
       "      <td>T163-133215</td>\n",
       "    </tr>\n",
       "  </tbody>\n",
       "</table>\n",
       "</div>"
      ],
      "text/plain": [
       "  mouse    date    file name\n",
       "0  T163  181127  T163-144959\n",
       "1  T163  181128  T163-115220\n",
       "2  T163  181130  T163-133215"
      ]
     },
     "execution_count": 18,
     "metadata": {},
     "output_type": "execute_result"
    }
   ],
   "source": [
    "Mouse_Date_FileName"
   ]
  },
  {
   "cell_type": "code",
   "execution_count": 39,
   "metadata": {},
   "outputs": [],
   "source": [
    "def reading_in_photometryData_all_Channels(photometry_data):\n",
    "    \n",
    "    photometry_all_channels_d = {}\n",
    "    photometry_all_channels_d[\"d2 R\"]=photometry_data.streams.grn1.data \n",
    "    photometry_all_channels_d[\"d1 R\"]=photometry_data.streams.red1.data \n",
    "    \n",
    "    \n",
    "    photometry_all_channels_d[\"d2 L\"]=photometry_data.streams.grn2.data \n",
    "    photometry_all_channels_d[\"d1 L\"]=photometry_data.streams.red2.data \n",
    "    \n",
    "    photometry_all_channels= pd.DataFrame(data=photometry_all_channels_d)\n",
    "    \n",
    "    return (photometry_all_channels)"
   ]
  },
  {
   "cell_type": "code",
   "execution_count": 40,
   "metadata": {
    "scrolled": true
   },
   "outputs": [],
   "source": [
    "def extract_data_set(Mouse_Date_FileName,path_to_import,path_to_save):   \n",
    "\n",
    "    l_mouse = list(Mouse_Date_FileName[\"mouse\"]) \n",
    "    l_photo_day = list(Mouse_Date_FileName[\"file name\"]) \n",
    "\n",
    "    raw_photo_data_per_trial_channels_data_set = []\n",
    "    counter = 1 \n",
    "    \n",
    "    \n",
    "    numer_of_sessions_dataset = len(l_mouse)\n",
    "    \n",
    "    for (mouse, photo_day) in zip(l_mouse, l_photo_day):\n",
    "        print (\"session number\"+\" \"+str(counter)+\" \"+\"was imported (out of\"+\" \"+str(numer_of_sessions_dataset)+\")\")\n",
    "        \n",
    "        photometry_data = tdt.read_block(path_to_import+\"/\"+mouse+\"/\"+photo_day)\n",
    "        photometry_data = reading_in_photometryData_all_Channels(photometry_data)\n",
    "        raw_photo_data_per_trial_channels_data_set.append(photometry_data)\n",
    "        \n",
    "        counter += 1 \n",
    "        \n",
    "    return raw_photo_data_per_trial_channels_data_set"
   ]
  },
  {
   "cell_type": "code",
   "execution_count": 41,
   "metadata": {},
   "outputs": [
    {
     "name": "stdout",
     "output_type": "stream",
     "text": [
      "session number 1 was imported (out of 3)\n",
      "read from t=0s to t=1235.57s\n",
      "session number 2 was imported (out of 3)\n",
      "read from t=0s to t=1288.2s\n",
      "session number 3 was imported (out of 3)\n",
      "read from t=0s to t=1338.08s\n"
     ]
    }
   ],
   "source": [
    "data_set = extract_data_set(Mouse_Date_FileName,path_to_import,path_to_save)"
   ]
  },
  {
   "cell_type": "code",
   "execution_count": 34,
   "metadata": {},
   "outputs": [
    {
     "data": {
      "text/plain": [
       "'d1 R'"
      ]
     },
     "execution_count": 34,
     "metadata": {},
     "output_type": "execute_result"
    }
   ],
   "source": [
    "data_set[0].keys()[1]"
   ]
  },
  {
   "cell_type": "code",
   "execution_count": null,
   "metadata": {},
   "outputs": [],
   "source": [
    "def plot_raw_traces (raw_data,channel_name)\n",
    "\n",
    "    plt.plot(raw_data,linewidth=2, label=channel_name)\n",
    "    plt.show()\n",
    "\n",
    "    \n",
    "#     # Add legend\n",
    "#     plt.legend(loc='lower left')\n",
    "    \n",
    "#     # Add title and x, y labels\n",
    "#     plt.title(trial_type, fontsize=16, fontweight='bold')\n",
    "#     plt.suptitle(cell_type, fontsize=16)\n",
    "\n",
    "#     plt.xlabel(\"time_bins\")\n",
    "\n",
    "#     #the y axis is defined in the paper mill. This allows to run 7_b with 3a,3b,3c and any future 3s, easliy changing the \n",
    "#     #the name of the y axis to not cause confusion. \n",
    "#     plt.ylabel(y_axis)\n",
    "#     plt.savefig(path_to_plot+\"_\"+trial_type+cell_type+'.pdf')\n",
    "#     plt.show()\n",
    "    "
   ]
  },
  {
   "cell_type": "code",
   "execution_count": 47,
   "metadata": {},
   "outputs": [
    {
     "name": "stdout",
     "output_type": "stream",
     "text": [
      "               d2 R        d1 R        d2 L        d1 L\n",
      "0          0.235543    0.357189    0.259591    0.273457\n",
      "1          0.238212    0.364245    0.251423    0.269650\n",
      "2          0.240774    0.371143    0.243186    0.265820\n",
      "3          0.243224    0.377872    0.234890    0.261986\n",
      "4          0.245556    0.384422    0.226544    0.258172\n",
      "...             ...         ...         ...         ...\n",
      "1256827  470.992065  321.918915  308.153687  361.480591\n",
      "1256828  470.981812  321.924744  308.138641  361.483521\n",
      "1256829  470.971069  321.930725  308.124084  361.486420\n",
      "1256830  470.959930  321.936829  308.109924  361.489349\n",
      "1256831  470.948456  321.942993  308.096191  361.492249\n",
      "\n",
      "[1256832 rows x 4 columns]\n",
      "Index(['d2 R', 'd1 R', 'd2 L', 'd1 L'], dtype='object')\n",
      "               d2 R        d1 R        d2 L        d1 L\n",
      "0          0.478921    0.424884    0.524244    0.265896\n",
      "1          0.480466    0.418782    0.521244    0.267785\n",
      "2          0.481840    0.412701    0.518070    0.269684\n",
      "3          0.483037    0.406659    0.514722    0.271590\n",
      "4          0.484050    0.400677    0.511203    0.273498\n",
      "...             ...         ...         ...         ...\n",
      "1310331  432.713135  285.172211  292.839294  321.636566\n",
      "1310332  432.705719  285.168182  292.854279  321.653870\n",
      "1310333  432.697235  285.163910  292.869385  321.671173\n",
      "1310334  432.687653  285.159424  292.884583  321.688599\n",
      "1310335  432.676971  285.154694  292.899933  321.706024\n",
      "\n",
      "[1310336 rows x 4 columns]\n",
      "Index(['d2 R', 'd1 R', 'd2 L', 'd1 L'], dtype='object')\n",
      "               d2 R        d1 R        d2 L        d1 L\n",
      "0          0.328710    0.136567    0.218904    0.200837\n",
      "1          0.326382    0.129584    0.221968    0.202825\n",
      "2          0.323902    0.122971    0.225051    0.204884\n",
      "3          0.321272    0.116812    0.228144    0.207016\n",
      "4          0.318495    0.111200    0.231240    0.209225\n",
      "...             ...         ...         ...         ...\n",
      "1361147  364.331940  255.096191  340.450562  295.595856\n",
      "1361148  364.351746  255.102097  340.450653  295.599823\n",
      "1361149  364.371124  255.107803  340.451080  295.604126\n",
      "1361150  364.390106  255.113342  340.451935  295.608734\n",
      "1361151  364.408783  255.118698  340.453064  295.613647\n",
      "\n",
      "[1361152 rows x 4 columns]\n",
      "Index(['d2 R', 'd1 R', 'd2 L', 'd1 L'], dtype='object')\n"
     ]
    }
   ],
   "source": [
    "for data_session in data_set: \n",
    "    print (data_session)\n",
    "    print (data_session.keys())\n",
    "#     for channel_name in data_session.keys():\n",
    "#         plot_raw_traces(data_session[channel_name],channel_name)"
   ]
  },
  {
   "cell_type": "markdown",
   "metadata": {},
   "source": [
    "# Import the full data structure for each session: "
   ]
  },
  {
   "cell_type": "code",
   "execution_count": null,
   "metadata": {},
   "outputs": [],
   "source": [
    "if not os.path.exists(path_to_save):\n",
    "    os.makedirs(path_to_save)"
   ]
  },
  {
   "cell_type": "code",
   "execution_count": null,
   "metadata": {},
   "outputs": [],
   "source": [
    "%%time\n",
    "root = Path(path_to_save)\n",
    "d = \"data_object_photometry\"+\"_\"+seq_str+'.pickle'\n",
    "my_path = root / d \n",
    "my_file = open(my_path, 'wb')\n",
    "my_file = pickle.dump((data_set),my_file)"
   ]
  },
  {
   "cell_type": "code",
   "execution_count": null,
   "metadata": {},
   "outputs": [],
   "source": []
  }
 ],
 "metadata": {
  "kernelspec": {
   "display_name": "Python 3",
   "language": "python",
   "name": "python3"
  },
  "language_info": {
   "codemirror_mode": {
    "name": "ipython",
    "version": 3
   },
   "file_extension": ".py",
   "mimetype": "text/x-python",
   "name": "python",
   "nbconvert_exporter": "python",
   "pygments_lexer": "ipython3",
   "version": "3.7.3"
  }
 },
 "nbformat": 4,
 "nbformat_minor": 4
}
