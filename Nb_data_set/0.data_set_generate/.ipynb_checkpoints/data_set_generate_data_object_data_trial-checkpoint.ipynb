{
 "cells": [
  {
   "cell_type": "code",
   "execution_count": 1,
   "metadata": {},
   "outputs": [],
   "source": [
    "import pickle\n",
    "from pathlib import Path\n",
    "import pandas as pd \n",
    "import os\n",
    "import sys"
   ]
  },
  {
   "cell_type": "code",
   "execution_count": 2,
   "metadata": {},
   "outputs": [],
   "source": [
    "#import data_set_generate_helper_functions as ghf"
   ]
  },
  {
   "cell_type": "code",
   "execution_count": 3,
   "metadata": {},
   "outputs": [
    {
     "data": {
      "text/plain": [
       "'/anaconda3/bin/python3'"
      ]
     },
     "execution_count": 3,
     "metadata": {},
     "output_type": "execute_result"
    }
   ],
   "source": [
    "sys.executable"
   ]
  },
  {
   "cell_type": "markdown",
   "metadata": {},
   "source": [
    "# Import the data and where to save it "
   ]
  },
  {
   "cell_type": "code",
   "execution_count": 4,
   "metadata": {},
   "outputs": [],
   "source": [
    "path = \"/Volumes/GilInVivoPaper.large/2.Photometry_in_str/2.dual_color_photo_full_data_set_analysis\""
   ]
  },
  {
   "cell_type": "markdown",
   "metadata": {},
   "source": [
    "# Update depending on analysis: "
   ]
  },
  {
   "cell_type": "code",
   "execution_count": 5,
   "metadata": {},
   "outputs": [],
   "source": [
    "seq_str = '0a1c2a3c4abcde5a6a7a'\n",
    "HowManyBack=1"
   ]
  },
  {
   "cell_type": "markdown",
   "metadata": {},
   "source": [
    "# folder that has the whole analysis of that type: "
   ]
  },
  {
   "cell_type": "code",
   "execution_count": 6,
   "metadata": {},
   "outputs": [],
   "source": [
    "folderName=\"right_dual_color_photo_full_data_set_after_inspection\" #folder where the plot data_set will be saved \n",
    "#folderName=\"left_dual_color_photo_full_data_set_after_inspection\" #folder where the plot data_set will be saved "
   ]
  },
  {
   "cell_type": "code",
   "execution_count": null,
   "metadata": {},
   "outputs": [],
   "source": []
  },
  {
   "cell_type": "code",
   "execution_count": 7,
   "metadata": {},
   "outputs": [],
   "source": [
    "path_to_save = path+\"/\"+folderName+\"/\"+seq_str\n",
    "#path_to_save = path+\"/\"+folderName+\"/\""
   ]
  },
  {
   "cell_type": "code",
   "execution_count": 8,
   "metadata": {},
   "outputs": [
    {
     "data": {
      "text/plain": [
       "'/Volumes/GilInVivoPaper.large/2.Photometry_in_str/2.dual_color_photo_full_data_set_analysis/right_dual_color_photo_full_data_set_after_inspection/0a1c2a3c4abcde5a6a7a'"
      ]
     },
     "execution_count": 8,
     "metadata": {},
     "output_type": "execute_result"
    }
   ],
   "source": [
    "path_to_save"
   ]
  },
  {
   "cell_type": "markdown",
   "metadata": {},
   "source": []
  },
  {
   "cell_type": "markdown",
   "metadata": {},
   "source": [
    "# import the data table: "
   ]
  },
  {
   "cell_type": "code",
   "execution_count": 9,
   "metadata": {},
   "outputs": [],
   "source": [
    "#name of xlsx file that has the sessions we want to run: \n",
    "MasterSheetName= 'data_set_6_to_10_for_papermill_after_inspection'"
   ]
  },
  {
   "cell_type": "code",
   "execution_count": 10,
   "metadata": {},
   "outputs": [],
   "source": [
    "Mouse_Date_FileName = pd.read_excel(path+'/'+MasterSheetName+'.xlsx') #mdf is mouse data file "
   ]
  },
  {
   "cell_type": "code",
   "execution_count": 11,
   "metadata": {
    "scrolled": true
   },
   "outputs": [
    {
     "data": {
      "text/html": [
       "<div>\n",
       "<style scoped>\n",
       "    .dataframe tbody tr th:only-of-type {\n",
       "        vertical-align: middle;\n",
       "    }\n",
       "\n",
       "    .dataframe tbody tr th {\n",
       "        vertical-align: top;\n",
       "    }\n",
       "\n",
       "    .dataframe thead th {\n",
       "        text-align: right;\n",
       "    }\n",
       "</style>\n",
       "<table border=\"1\" class=\"dataframe\">\n",
       "  <thead>\n",
       "    <tr style=\"text-align: right;\">\n",
       "      <th></th>\n",
       "      <th>Mouse</th>\n",
       "      <th>Date</th>\n",
       "      <th>File name</th>\n",
       "    </tr>\n",
       "  </thead>\n",
       "  <tbody>\n",
       "    <tr>\n",
       "      <th>0</th>\n",
       "      <td>T163</td>\n",
       "      <td>181127</td>\n",
       "      <td>T163-144959</td>\n",
       "    </tr>\n",
       "    <tr>\n",
       "      <th>1</th>\n",
       "      <td>T163</td>\n",
       "      <td>181207</td>\n",
       "      <td>T163-123432</td>\n",
       "    </tr>\n",
       "    <tr>\n",
       "      <th>2</th>\n",
       "      <td>T163</td>\n",
       "      <td>181128</td>\n",
       "      <td>T163-115220</td>\n",
       "    </tr>\n",
       "    <tr>\n",
       "      <th>3</th>\n",
       "      <td>T163</td>\n",
       "      <td>181203</td>\n",
       "      <td>T163-115901</td>\n",
       "    </tr>\n",
       "    <tr>\n",
       "      <th>4</th>\n",
       "      <td>T163</td>\n",
       "      <td>181204</td>\n",
       "      <td>T163-114628</td>\n",
       "    </tr>\n",
       "    <tr>\n",
       "      <th>5</th>\n",
       "      <td>T163</td>\n",
       "      <td>181206</td>\n",
       "      <td>T163-112720</td>\n",
       "    </tr>\n",
       "    <tr>\n",
       "      <th>6</th>\n",
       "      <td>T163</td>\n",
       "      <td>181213</td>\n",
       "      <td>T163-094646</td>\n",
       "    </tr>\n",
       "    <tr>\n",
       "      <th>7</th>\n",
       "      <td>T164</td>\n",
       "      <td>181127</td>\n",
       "      <td>T164-153101</td>\n",
       "    </tr>\n",
       "    <tr>\n",
       "      <th>8</th>\n",
       "      <td>T164</td>\n",
       "      <td>181204</td>\n",
       "      <td>T164-121548</td>\n",
       "    </tr>\n",
       "    <tr>\n",
       "      <th>9</th>\n",
       "      <td>T164</td>\n",
       "      <td>181205</td>\n",
       "      <td>T164-123550</td>\n",
       "    </tr>\n",
       "    <tr>\n",
       "      <th>10</th>\n",
       "      <td>T164</td>\n",
       "      <td>181128</td>\n",
       "      <td>T164-122054</td>\n",
       "    </tr>\n",
       "    <tr>\n",
       "      <th>11</th>\n",
       "      <td>T164</td>\n",
       "      <td>181213</td>\n",
       "      <td>T164-101804</td>\n",
       "    </tr>\n",
       "    <tr>\n",
       "      <th>12</th>\n",
       "      <td>T169</td>\n",
       "      <td>190211</td>\n",
       "      <td>T169-145303</td>\n",
       "    </tr>\n",
       "    <tr>\n",
       "      <th>13</th>\n",
       "      <td>T169</td>\n",
       "      <td>190301</td>\n",
       "      <td>T169-141400</td>\n",
       "    </tr>\n",
       "    <tr>\n",
       "      <th>14</th>\n",
       "      <td>T169</td>\n",
       "      <td>190125</td>\n",
       "      <td>T169-142626</td>\n",
       "    </tr>\n",
       "    <tr>\n",
       "      <th>15</th>\n",
       "      <td>T169</td>\n",
       "      <td>190214</td>\n",
       "      <td>T169-143937</td>\n",
       "    </tr>\n",
       "    <tr>\n",
       "      <th>16</th>\n",
       "      <td>T169</td>\n",
       "      <td>190227</td>\n",
       "      <td>T169-155731</td>\n",
       "    </tr>\n",
       "    <tr>\n",
       "      <th>17</th>\n",
       "      <td>T169</td>\n",
       "      <td>190228</td>\n",
       "      <td>T169-142051</td>\n",
       "    </tr>\n",
       "    <tr>\n",
       "      <th>18</th>\n",
       "      <td>T169</td>\n",
       "      <td>190221</td>\n",
       "      <td>T169-141159</td>\n",
       "    </tr>\n",
       "    <tr>\n",
       "      <th>19</th>\n",
       "      <td>T171</td>\n",
       "      <td>190221</td>\n",
       "      <td>T171-152107</td>\n",
       "    </tr>\n",
       "    <tr>\n",
       "      <th>20</th>\n",
       "      <td>T171</td>\n",
       "      <td>190226</td>\n",
       "      <td>T171-145215</td>\n",
       "    </tr>\n",
       "    <tr>\n",
       "      <th>21</th>\n",
       "      <td>T171</td>\n",
       "      <td>190122</td>\n",
       "      <td>T171-165215</td>\n",
       "    </tr>\n",
       "    <tr>\n",
       "      <th>22</th>\n",
       "      <td>T171</td>\n",
       "      <td>190225</td>\n",
       "      <td>T171-152054</td>\n",
       "    </tr>\n",
       "    <tr>\n",
       "      <th>23</th>\n",
       "      <td>T171</td>\n",
       "      <td>190227</td>\n",
       "      <td>T171-162455</td>\n",
       "    </tr>\n",
       "    <tr>\n",
       "      <th>24</th>\n",
       "      <td>T171</td>\n",
       "      <td>190214</td>\n",
       "      <td>T171-155052</td>\n",
       "    </tr>\n",
       "    <tr>\n",
       "      <th>25</th>\n",
       "      <td>T171</td>\n",
       "      <td>190222</td>\n",
       "      <td>T171-145829</td>\n",
       "    </tr>\n",
       "    <tr>\n",
       "      <th>26</th>\n",
       "      <td>T171</td>\n",
       "      <td>190215</td>\n",
       "      <td>T171-152142</td>\n",
       "    </tr>\n",
       "    <tr>\n",
       "      <th>27</th>\n",
       "      <td>T171</td>\n",
       "      <td>190131</td>\n",
       "      <td>T171-153700</td>\n",
       "    </tr>\n",
       "    <tr>\n",
       "      <th>28</th>\n",
       "      <td>T186</td>\n",
       "      <td>190322</td>\n",
       "      <td>T186-164847</td>\n",
       "    </tr>\n",
       "    <tr>\n",
       "      <th>29</th>\n",
       "      <td>T186</td>\n",
       "      <td>190401</td>\n",
       "      <td>T186-142719</td>\n",
       "    </tr>\n",
       "    <tr>\n",
       "      <th>30</th>\n",
       "      <td>T186</td>\n",
       "      <td>190328</td>\n",
       "      <td>T186-144534</td>\n",
       "    </tr>\n",
       "    <tr>\n",
       "      <th>31</th>\n",
       "      <td>T186</td>\n",
       "      <td>190327</td>\n",
       "      <td>T186-150703</td>\n",
       "    </tr>\n",
       "    <tr>\n",
       "      <th>32</th>\n",
       "      <td>T186</td>\n",
       "      <td>190402</td>\n",
       "      <td>T186-140234</td>\n",
       "    </tr>\n",
       "    <tr>\n",
       "      <th>33</th>\n",
       "      <td>T186</td>\n",
       "      <td>190405</td>\n",
       "      <td>T186-135725</td>\n",
       "    </tr>\n",
       "    <tr>\n",
       "      <th>34</th>\n",
       "      <td>T187</td>\n",
       "      <td>190322</td>\n",
       "      <td>T187-172139</td>\n",
       "    </tr>\n",
       "    <tr>\n",
       "      <th>35</th>\n",
       "      <td>T187</td>\n",
       "      <td>190402</td>\n",
       "      <td>T187-142756</td>\n",
       "    </tr>\n",
       "    <tr>\n",
       "      <th>36</th>\n",
       "      <td>T187</td>\n",
       "      <td>190325</td>\n",
       "      <td>T187-153540</td>\n",
       "    </tr>\n",
       "    <tr>\n",
       "      <th>37</th>\n",
       "      <td>T187</td>\n",
       "      <td>190404</td>\n",
       "      <td>T187-142541</td>\n",
       "    </tr>\n",
       "    <tr>\n",
       "      <th>38</th>\n",
       "      <td>T187</td>\n",
       "      <td>190401</td>\n",
       "      <td>T187-150132</td>\n",
       "    </tr>\n",
       "    <tr>\n",
       "      <th>39</th>\n",
       "      <td>T187</td>\n",
       "      <td>190328</td>\n",
       "      <td>T187-152018</td>\n",
       "    </tr>\n",
       "  </tbody>\n",
       "</table>\n",
       "</div>"
      ],
      "text/plain": [
       "   Mouse    Date    File name\n",
       "0   T163  181127  T163-144959\n",
       "1   T163  181207  T163-123432\n",
       "2   T163  181128  T163-115220\n",
       "3   T163  181203  T163-115901\n",
       "4   T163  181204  T163-114628\n",
       "5   T163  181206  T163-112720\n",
       "6   T163  181213  T163-094646\n",
       "7   T164  181127  T164-153101\n",
       "8   T164  181204  T164-121548\n",
       "9   T164  181205  T164-123550\n",
       "10  T164  181128  T164-122054\n",
       "11  T164  181213  T164-101804\n",
       "12  T169  190211  T169-145303\n",
       "13  T169  190301  T169-141400\n",
       "14  T169  190125  T169-142626\n",
       "15  T169  190214  T169-143937\n",
       "16  T169  190227  T169-155731\n",
       "17  T169  190228  T169-142051\n",
       "18  T169  190221  T169-141159\n",
       "19  T171  190221  T171-152107\n",
       "20  T171  190226  T171-145215\n",
       "21  T171  190122  T171-165215\n",
       "22  T171  190225  T171-152054\n",
       "23  T171  190227  T171-162455\n",
       "24  T171  190214  T171-155052\n",
       "25  T171  190222  T171-145829\n",
       "26  T171  190215  T171-152142\n",
       "27  T171  190131  T171-153700\n",
       "28  T186  190322  T186-164847\n",
       "29  T186  190401  T186-142719\n",
       "30  T186  190328  T186-144534\n",
       "31  T186  190327  T186-150703\n",
       "32  T186  190402  T186-140234\n",
       "33  T186  190405  T186-135725\n",
       "34  T187  190322  T187-172139\n",
       "35  T187  190402  T187-142756\n",
       "36  T187  190325  T187-153540\n",
       "37  T187  190404  T187-142541\n",
       "38  T187  190401  T187-150132\n",
       "39  T187  190328  T187-152018"
      ]
     },
     "execution_count": 11,
     "metadata": {},
     "output_type": "execute_result"
    }
   ],
   "source": [
    "Mouse_Date_FileName"
   ]
  },
  {
   "cell_type": "code",
   "execution_count": 12,
   "metadata": {},
   "outputs": [],
   "source": [
    "#Mouse_Date_FileName = Mouse_Date_FileName.iloc[0:45,:]"
   ]
  },
  {
   "cell_type": "code",
   "execution_count": 13,
   "metadata": {
    "scrolled": true
   },
   "outputs": [],
   "source": [
    "#Mouse_Date_FileName"
   ]
  },
  {
   "cell_type": "markdown",
   "metadata": {},
   "source": [
    "# Import the full data structure for each session: "
   ]
  },
  {
   "cell_type": "code",
   "execution_count": 14,
   "metadata": {},
   "outputs": [],
   "source": [
    "def generate_date_(Date):\n",
    "    return('20'+str(Date)[:2]+'_'+str(Date)[2:4]+'_'+str(Date)[4:6])\n",
    "\n",
    "def generate_name_and_date(Date,Mouse):\n",
    "    return ('20'+str(Date)[:2]+'_'+str(Date)[2:4]+'_'+str(Date)[4:6]+'__'+Mouse)"
   ]
  },
  {
   "cell_type": "code",
   "execution_count": 15,
   "metadata": {},
   "outputs": [],
   "source": [
    "def extract_data_set_data_trial(Mouse_Date_FileName,data_to_be_plotted,HowManyBack):\n",
    "    PhotoData_perTrial_channels_data_set = []\n",
    "    counter = 1 \n",
    "    \n",
    "    l_mouse = list(Mouse_Date_FileName[\"Mouse\"]) \n",
    "    l_date_ = list(Mouse_Date_FileName.apply(lambda x: generate_date_(x[\"Date\"]),axis=1))  \n",
    "    l_date_and_name = list(Mouse_Date_FileName.apply(lambda x: generate_name_and_date(x[\"Date\"],x[\"Mouse\"]),axis=1))\n",
    "    \n",
    "    numer_of_sessions_dataset = len(l_mouse)\n",
    "    \n",
    "    for (mouse, date_, date_and_name) in zip(l_mouse, l_date_, l_date_and_name):\n",
    "        print (\"session number\"+\" \"+str(counter)+\" \"+\"was imported (out of\"+\" \"+str(numer_of_sessions_dataset)+\")\")\n",
    "        root = Path(data_to_be_plotted+\"/\"+mouse+\"/\"+date_and_name+'/'+str(HowManyBack)+\"_Back\")\n",
    "        d = mouse+\"_\"+date_+\"Notebook_0_a\"+'.pickle'\n",
    "        my_path = root / d \n",
    "        \n",
    "        fileToOpen = open(my_path, 'rb')\n",
    "        # load the pickle: \n",
    "        PhotoData_perTrial_channels = pickle.load(fileToOpen)\n",
    "        counter += 1       \n",
    "        PhotoData_perTrial_channels_data_set.append(PhotoData_perTrial_channels)  \n",
    "    \n",
    "    return PhotoData_perTrial_channels_data_set"
   ]
  },
  {
   "cell_type": "code",
   "execution_count": 16,
   "metadata": {
    "scrolled": true
   },
   "outputs": [
    {
     "name": "stdout",
     "output_type": "stream",
     "text": [
      "session number 1 was imported (out of 40)\n",
      "session number 2 was imported (out of 40)\n",
      "session number 3 was imported (out of 40)\n",
      "session number 4 was imported (out of 40)\n",
      "session number 5 was imported (out of 40)\n",
      "session number 6 was imported (out of 40)\n",
      "session number 7 was imported (out of 40)\n",
      "session number 8 was imported (out of 40)\n",
      "session number 9 was imported (out of 40)\n",
      "session number 10 was imported (out of 40)\n",
      "session number 11 was imported (out of 40)\n",
      "session number 12 was imported (out of 40)\n",
      "session number 13 was imported (out of 40)\n",
      "session number 14 was imported (out of 40)\n",
      "session number 15 was imported (out of 40)\n",
      "session number 16 was imported (out of 40)\n",
      "session number 17 was imported (out of 40)\n",
      "session number 18 was imported (out of 40)\n",
      "session number 19 was imported (out of 40)\n",
      "session number 20 was imported (out of 40)\n",
      "session number 21 was imported (out of 40)\n",
      "session number 22 was imported (out of 40)\n",
      "session number 23 was imported (out of 40)\n",
      "session number 24 was imported (out of 40)\n",
      "session number 25 was imported (out of 40)\n",
      "session number 26 was imported (out of 40)\n",
      "session number 27 was imported (out of 40)\n",
      "session number 28 was imported (out of 40)\n",
      "session number 29 was imported (out of 40)\n",
      "session number 30 was imported (out of 40)\n",
      "session number 31 was imported (out of 40)\n",
      "session number 32 was imported (out of 40)\n",
      "session number 33 was imported (out of 40)\n",
      "session number 34 was imported (out of 40)\n",
      "session number 35 was imported (out of 40)\n",
      "session number 36 was imported (out of 40)\n",
      "session number 37 was imported (out of 40)\n",
      "session number 38 was imported (out of 40)\n",
      "session number 39 was imported (out of 40)\n",
      "session number 40 was imported (out of 40)\n",
      "CPU times: user 55 ms, sys: 12.9 ms, total: 67.9 ms\n",
      "Wall time: 64 ms\n"
     ]
    }
   ],
   "source": [
    "%%time\n",
    "data_trial_data_set = extract_data_set_data_trial(Mouse_Date_FileName,path,HowManyBack)"
   ]
  },
  {
   "cell_type": "code",
   "execution_count": 17,
   "metadata": {},
   "outputs": [],
   "source": [
    "data_set = data_trial_data_set.copy()"
   ]
  },
  {
   "cell_type": "code",
   "execution_count": null,
   "metadata": {},
   "outputs": [],
   "source": []
  },
  {
   "cell_type": "code",
   "execution_count": 18,
   "metadata": {
    "scrolled": true
   },
   "outputs": [
    {
     "data": {
      "text/plain": [
       "['iSpout',\n",
       " 'iBlock',\n",
       " 'iTrial',\n",
       " 'iTrial_post',\n",
       " 'iReward',\n",
       " 'iError',\n",
       " 'I_listeningRig',\n",
       " 'sCue',\n",
       " 'T_Cue_Audio',\n",
       " 'T_Cue_LED',\n",
       " 'sTrial_start',\n",
       " 'sTrial_end',\n",
       " 'sSelection',\n",
       " 'tSelection',\n",
       " 'I_anySelect_L',\n",
       " 'I_anySelect_R',\n",
       " 'I_giveReward',\n",
       " 'T_Reward',\n",
       " 'L_power_l1',\n",
       " 'L_power_l2',\n",
       " 'L_T_l1',\n",
       " 'L_T_l2',\n",
       " 'T_ENL',\n",
       " 'n_ENL',\n",
       " 'L_ENL_event_n_l1',\n",
       " 'L_ENL_event_n_l2',\n",
       " 'L_ENL_trig_n_l1',\n",
       " 'L_ENL_trig_n_l2',\n",
       " 'L_ENL_event_I_l1',\n",
       " 'L_ENL_event_I_l2',\n",
       " 'L_ENL_trig_I_l1',\n",
       " 'L_ENL_trig_I_l2',\n",
       " 'n_Cue',\n",
       " 'L_Cue_event_n_l1',\n",
       " 'L_Cue_event_n_l2',\n",
       " 'L_Cue_trig_n_l1',\n",
       " 'L_Cue_trig_n_l2',\n",
       " 'L_Cue_event_I_l1',\n",
       " 'L_Cue_event_I_l2',\n",
       " 'L_Cue_trig_I_l1',\n",
       " 'L_Cue_trig_I_l2',\n",
       " 'L_Sel_event_n_l1',\n",
       " 'L_Sel_event_n_l2',\n",
       " 'L_Sel_trig_n_l1',\n",
       " 'L_Sel_trig_n_l2',\n",
       " 'L_Sel_event_I_l1',\n",
       " 'L_Sel_event_I_l2',\n",
       " 'L_Sel_trig_I_l1',\n",
       " 'L_Sel_trig_I_l2',\n",
       " 'L_Rew_event_I_l1',\n",
       " 'L_Rew_event_I_l2',\n",
       " 'L_Rew_trig_I_l1',\n",
       " 'L_Rew_trig_I_l2',\n",
       " 'L_Wro_event_I_l1',\n",
       " 'L_Wro_event_I_l2',\n",
       " 'L_Wro_trig_I_l1',\n",
       " 'L_Wro_trig_I_l2',\n",
       " 'sCue2',\n",
       " 'T_Cue2_Audio',\n",
       " 'T_Cue2_LED',\n",
       " 'T_ENL2',\n",
       " 'n_ENL2',\n",
       " 'L_ENL2_event_n_l1',\n",
       " 'L_ENL2_event_n_l2',\n",
       " 'L_ENL2_trig_n_l1',\n",
       " 'L_ENL2_trig_n_l2',\n",
       " 'L_ENL2_event_I_l1',\n",
       " 'L_ENL2_event_I_l2',\n",
       " 'L_ENL2_trig_I_l1',\n",
       " 'L_ENL2_trig_I_l2',\n",
       " 'n_Cue2',\n",
       " 'L_Cue2_event_n_l1',\n",
       " 'L_Cue2_event_n_l2',\n",
       " 'L_Cue2_trig_n_l1',\n",
       " 'L_Cue2_trig_n_l2',\n",
       " 'L_Cue2_event_I_l1',\n",
       " 'L_Cue2_event_I_l2',\n",
       " 'L_Cue2_trig_I_l1',\n",
       " 'L_Cue2_trig_I_l2',\n",
       " 'DAB_I_HighProbSel',\n",
       " 'DAB_I_flipLR_event',\n",
       " 'DAB_I_flipLR',\n",
       " 'DAB_iSelect_L',\n",
       " 'DAB_iSelect_R',\n",
       " 'DAB_iSelect_HighProb',\n",
       " 'DAB_iSelect_LowProb',\n",
       " 'Unnamed: 87',\n",
       " 'Unnamed: 88',\n",
       " 'Unnamed: 89',\n",
       " 'Unnamed: 90',\n",
       " 'Unnamed: 91',\n",
       " 'Unnamed: 92',\n",
       " 'Unnamed: 93',\n",
       " 'Date',\n",
       " 'Mouse',\n",
       " 'direction',\n",
       " '-1_r',\n",
       " 'SamePastDirection',\n",
       " '-1_d']"
      ]
     },
     "execution_count": 18,
     "metadata": {},
     "output_type": "execute_result"
    }
   ],
   "source": [
    "list(data_set[0].keys())"
   ]
  },
  {
   "cell_type": "code",
   "execution_count": 19,
   "metadata": {},
   "outputs": [
    {
     "data": {
      "text/plain": [
       "99"
      ]
     },
     "execution_count": 19,
     "metadata": {},
     "output_type": "execute_result"
    }
   ],
   "source": [
    "len(list(data_set[0].keys()))"
   ]
  },
  {
   "cell_type": "code",
   "execution_count": 20,
   "metadata": {},
   "outputs": [],
   "source": [
    "if not os.path.exists(path_to_save):\n",
    "    os.makedirs(path_to_save)"
   ]
  },
  {
   "cell_type": "code",
   "execution_count": 21,
   "metadata": {},
   "outputs": [
    {
     "name": "stdout",
     "output_type": "stream",
     "text": [
      "CPU times: user 48 µs, sys: 0 ns, total: 48 µs\n",
      "Wall time: 53.9 µs\n"
     ]
    }
   ],
   "source": [
    "%%time\n",
    "root = Path(path_to_save)\n",
    "d = \"data_object_data_trial\"+\"_\"+seq_str+'.pickle'\n",
    "my_path = root / d "
   ]
  },
  {
   "cell_type": "code",
   "execution_count": 22,
   "metadata": {},
   "outputs": [
    {
     "data": {
      "text/plain": [
       "PosixPath('/Volumes/GilInVivoPaper.large/2.Photometry_in_str/2.dual_color_photo_full_data_set_analysis/right_dual_color_photo_full_data_set_after_inspection/0a1c2a3c4abcde5a6a7a/data_object_data_trial_0a1c2a3c4abcde5a6a7a.pickle')"
      ]
     },
     "execution_count": 22,
     "metadata": {},
     "output_type": "execute_result"
    }
   ],
   "source": [
    "my_path"
   ]
  },
  {
   "cell_type": "code",
   "execution_count": 23,
   "metadata": {},
   "outputs": [],
   "source": [
    "my_file = open(my_path, 'wb')\n",
    "my_file = pickle.dump((data_set),my_file)"
   ]
  },
  {
   "cell_type": "code",
   "execution_count": null,
   "metadata": {},
   "outputs": [],
   "source": []
  }
 ],
 "metadata": {
  "kernelspec": {
   "display_name": "Python 3",
   "language": "python",
   "name": "python3"
  },
  "language_info": {
   "codemirror_mode": {
    "name": "ipython",
    "version": 3
   },
   "file_extension": ".py",
   "mimetype": "text/x-python",
   "name": "python",
   "nbconvert_exporter": "python",
   "pygments_lexer": "ipython3",
   "version": "3.7.3"
  }
 },
 "nbformat": 4,
 "nbformat_minor": 4
}
