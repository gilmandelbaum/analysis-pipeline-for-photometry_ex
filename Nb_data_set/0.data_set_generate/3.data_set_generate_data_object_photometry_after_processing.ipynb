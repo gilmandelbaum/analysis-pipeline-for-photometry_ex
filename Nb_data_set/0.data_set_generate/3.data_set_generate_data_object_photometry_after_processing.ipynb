{
 "cells": [
  {
   "cell_type": "code",
   "execution_count": 1,
   "metadata": {},
   "outputs": [],
   "source": [
    "import pickle\n",
    "from pathlib import Path\n",
    "import pandas as pd \n",
    "import os\n",
    "import sys"
   ]
  },
  {
   "cell_type": "code",
   "execution_count": 2,
   "metadata": {},
   "outputs": [],
   "source": [
    "import data_set_generate_helper_functions as ghf"
   ]
  },
  {
   "cell_type": "code",
   "execution_count": 3,
   "metadata": {},
   "outputs": [
    {
     "data": {
      "text/plain": [
       "'/anaconda3/bin/python3'"
      ]
     },
     "execution_count": 3,
     "metadata": {},
     "output_type": "execute_result"
    }
   ],
   "source": [
    "sys.executable"
   ]
  },
  {
   "cell_type": "markdown",
   "metadata": {},
   "source": [
    "# Path to import the data and where to save it "
   ]
  },
  {
   "cell_type": "code",
   "execution_count": 4,
   "metadata": {},
   "outputs": [],
   "source": [
    "path = \"/Volumes/GilInVivoPaper.large/2.Photometry_in_str/1.lateral_medial_6_analysis\""
   ]
  },
  {
   "cell_type": "markdown",
   "metadata": {},
   "source": [
    "# Update depending on analysis: "
   ]
  },
  {
   "cell_type": "code",
   "execution_count": 5,
   "metadata": {},
   "outputs": [],
   "source": [
    "seq_str = '0a1b2b3b4abcd5a6b7a'\n",
    "HowManyBack=1"
   ]
  },
  {
   "cell_type": "markdown",
   "metadata": {},
   "source": [
    "# Folder to save the data: "
   ]
  },
  {
   "cell_type": "code",
   "execution_count": 6,
   "metadata": {},
   "outputs": [],
   "source": [
    "#folderName=\"left_dual_color_photo_full_data_after_QC\" #folder where the plot data_set will be saved \n",
    "folderName=\"right_dual_color_photo_full_data_after_QC\" #folder where the plot data_set will be saved "
   ]
  },
  {
   "cell_type": "code",
   "execution_count": 7,
   "metadata": {},
   "outputs": [
    {
     "data": {
      "text/plain": [
       "'/Volumes/GilInVivoPaper.large/2.Photometry_in_str/1.lateral_medial_6_analysis/right_dual_color_photo_full_data_after_QC/0a1b2b3b4abcd5a6b7a'"
      ]
     },
     "execution_count": 7,
     "metadata": {},
     "output_type": "execute_result"
    }
   ],
   "source": [
    "path_to_save = path+\"/\"+folderName+\"/\"+seq_str\n",
    "path_to_save"
   ]
  },
  {
   "cell_type": "markdown",
   "metadata": {},
   "source": [
    "# import the data table: "
   ]
  },
  {
   "cell_type": "code",
   "execution_count": 11,
   "metadata": {},
   "outputs": [],
   "source": [
    "#name of xlsx file that has the sessions we want to run: \n",
    "#MasterSheetName= '4.lateral_ medial_6_medial_channels_final'\n",
    "MasterSheetName= '3.lateral_ medial_6_lateral_channels_final'"
   ]
  },
  {
   "cell_type": "code",
   "execution_count": 12,
   "metadata": {},
   "outputs": [],
   "source": [
    "Mouse_Date_FileName = pd.read_excel(path+'/'+MasterSheetName+'.xlsx') #mdf is mouse data file "
   ]
  },
  {
   "cell_type": "code",
   "execution_count": 13,
   "metadata": {
    "scrolled": true
   },
   "outputs": [
    {
     "data": {
      "text/html": [
       "<div>\n",
       "<style scoped>\n",
       "    .dataframe tbody tr th:only-of-type {\n",
       "        vertical-align: middle;\n",
       "    }\n",
       "\n",
       "    .dataframe tbody tr th {\n",
       "        vertical-align: top;\n",
       "    }\n",
       "\n",
       "    .dataframe thead th {\n",
       "        text-align: right;\n",
       "    }\n",
       "</style>\n",
       "<table border=\"1\" class=\"dataframe\">\n",
       "  <thead>\n",
       "    <tr style=\"text-align: right;\">\n",
       "      <th></th>\n",
       "      <th>mouse</th>\n",
       "      <th>date</th>\n",
       "      <th>file name</th>\n",
       "    </tr>\n",
       "  </thead>\n",
       "  <tbody>\n",
       "    <tr>\n",
       "      <th>0</th>\n",
       "      <td>T163</td>\n",
       "      <td>181207</td>\n",
       "      <td>T163-123432</td>\n",
       "    </tr>\n",
       "    <tr>\n",
       "      <th>1</th>\n",
       "      <td>T163</td>\n",
       "      <td>181128</td>\n",
       "      <td>T163-115220</td>\n",
       "    </tr>\n",
       "    <tr>\n",
       "      <th>2</th>\n",
       "      <td>T163</td>\n",
       "      <td>181203</td>\n",
       "      <td>T163-115901</td>\n",
       "    </tr>\n",
       "    <tr>\n",
       "      <th>3</th>\n",
       "      <td>T163</td>\n",
       "      <td>181130</td>\n",
       "      <td>T163-133215</td>\n",
       "    </tr>\n",
       "    <tr>\n",
       "      <th>4</th>\n",
       "      <td>T163</td>\n",
       "      <td>181204</td>\n",
       "      <td>T163-114628</td>\n",
       "    </tr>\n",
       "    <tr>\n",
       "      <th>...</th>\n",
       "      <td>...</td>\n",
       "      <td>...</td>\n",
       "      <td>...</td>\n",
       "    </tr>\n",
       "    <tr>\n",
       "      <th>70</th>\n",
       "      <td>T202</td>\n",
       "      <td>190530</td>\n",
       "      <td>T202-152554</td>\n",
       "    </tr>\n",
       "    <tr>\n",
       "      <th>71</th>\n",
       "      <td>T202</td>\n",
       "      <td>190522</td>\n",
       "      <td>T202-141516</td>\n",
       "    </tr>\n",
       "    <tr>\n",
       "      <th>72</th>\n",
       "      <td>T202</td>\n",
       "      <td>190529</td>\n",
       "      <td>T202-160644</td>\n",
       "    </tr>\n",
       "    <tr>\n",
       "      <th>73</th>\n",
       "      <td>T202</td>\n",
       "      <td>190526</td>\n",
       "      <td>T202-142728</td>\n",
       "    </tr>\n",
       "    <tr>\n",
       "      <th>74</th>\n",
       "      <td>T202</td>\n",
       "      <td>190516</td>\n",
       "      <td>T202-165613</td>\n",
       "    </tr>\n",
       "  </tbody>\n",
       "</table>\n",
       "<p>75 rows × 3 columns</p>\n",
       "</div>"
      ],
      "text/plain": [
       "   mouse    date    file name\n",
       "0   T163  181207  T163-123432\n",
       "1   T163  181128  T163-115220\n",
       "2   T163  181203  T163-115901\n",
       "3   T163  181130  T163-133215\n",
       "4   T163  181204  T163-114628\n",
       "..   ...     ...          ...\n",
       "70  T202  190530  T202-152554\n",
       "71  T202  190522  T202-141516\n",
       "72  T202  190529  T202-160644\n",
       "73  T202  190526  T202-142728\n",
       "74  T202  190516  T202-165613\n",
       "\n",
       "[75 rows x 3 columns]"
      ]
     },
     "execution_count": 13,
     "metadata": {},
     "output_type": "execute_result"
    }
   ],
   "source": [
    "Mouse_Date_FileName"
   ]
  },
  {
   "cell_type": "code",
   "execution_count": 14,
   "metadata": {},
   "outputs": [],
   "source": [
    "#Mouse_Date_FileName = Mouse_Date_FileName.iloc[0:45,:]"
   ]
  },
  {
   "cell_type": "code",
   "execution_count": 15,
   "metadata": {
    "scrolled": true
   },
   "outputs": [],
   "source": [
    "#Mouse_Date_FileName"
   ]
  },
  {
   "cell_type": "markdown",
   "metadata": {},
   "source": [
    "# Import the full data structure for each session: "
   ]
  },
  {
   "cell_type": "code",
   "execution_count": 16,
   "metadata": {},
   "outputs": [],
   "source": [
    "# def generate_date_(Date):\n",
    "#     return('20'+str(Date)[:2]+'_'+str(Date)[2:4]+'_'+str(Date)[4:6])\n",
    "\n",
    "# def generate_name_and_date(Date,Mouse):\n",
    "#     return ('20'+str(Date)[:2]+'_'+str(Date)[2:4]+'_'+str(Date)[4:6]+'__'+Mouse)"
   ]
  },
  {
   "cell_type": "code",
   "execution_count": 17,
   "metadata": {
    "scrolled": true
   },
   "outputs": [
    {
     "name": "stdout",
     "output_type": "stream",
     "text": [
      "session number 1 was imported (out of 75)\n",
      "/Volumes/GilInVivoPaper.large/2.Photometry_in_str/1.lateral_medial_6_analysis/T163/2018_12_07__T163/1_Back/T163_2018_12_07Notebook_6_b_seq0a1b2b3b4abcd5a6b.pickle\n",
      "session number 2 was imported (out of 75)\n",
      "/Volumes/GilInVivoPaper.large/2.Photometry_in_str/1.lateral_medial_6_analysis/T163/2018_11_28__T163/1_Back/T163_2018_11_28Notebook_6_b_seq0a1b2b3b4abcd5a6b.pickle\n",
      "session number 3 was imported (out of 75)\n",
      "/Volumes/GilInVivoPaper.large/2.Photometry_in_str/1.lateral_medial_6_analysis/T163/2018_12_03__T163/1_Back/T163_2018_12_03Notebook_6_b_seq0a1b2b3b4abcd5a6b.pickle\n",
      "session number 4 was imported (out of 75)\n",
      "/Volumes/GilInVivoPaper.large/2.Photometry_in_str/1.lateral_medial_6_analysis/T163/2018_11_30__T163/1_Back/T163_2018_11_30Notebook_6_b_seq0a1b2b3b4abcd5a6b.pickle\n",
      "session number 5 was imported (out of 75)\n",
      "/Volumes/GilInVivoPaper.large/2.Photometry_in_str/1.lateral_medial_6_analysis/T163/2018_12_04__T163/1_Back/T163_2018_12_04Notebook_6_b_seq0a1b2b3b4abcd5a6b.pickle\n",
      "session number 6 was imported (out of 75)\n",
      "/Volumes/GilInVivoPaper.large/2.Photometry_in_str/1.lateral_medial_6_analysis/T163/2018_12_06__T163/1_Back/T163_2018_12_06Notebook_6_b_seq0a1b2b3b4abcd5a6b.pickle\n",
      "session number 7 was imported (out of 75)\n",
      "/Volumes/GilInVivoPaper.large/2.Photometry_in_str/1.lateral_medial_6_analysis/T163/2018_12_10__T163/1_Back/T163_2018_12_10Notebook_6_b_seq0a1b2b3b4abcd5a6b.pickle\n",
      "session number 8 was imported (out of 75)\n",
      "/Volumes/GilInVivoPaper.large/2.Photometry_in_str/1.lateral_medial_6_analysis/T163/2018_12_13__T163/1_Back/T163_2018_12_13Notebook_6_b_seq0a1b2b3b4abcd5a6b.pickle\n",
      "session number 9 was imported (out of 75)\n",
      "/Volumes/GilInVivoPaper.large/2.Photometry_in_str/1.lateral_medial_6_analysis/T164/2018_11_27__T164/1_Back/T164_2018_11_27Notebook_6_b_seq0a1b2b3b4abcd5a6b.pickle\n",
      "session number 10 was imported (out of 75)\n",
      "/Volumes/GilInVivoPaper.large/2.Photometry_in_str/1.lateral_medial_6_analysis/T164/2018_12_10__T164/1_Back/T164_2018_12_10Notebook_6_b_seq0a1b2b3b4abcd5a6b.pickle\n",
      "session number 11 was imported (out of 75)\n",
      "/Volumes/GilInVivoPaper.large/2.Photometry_in_str/1.lateral_medial_6_analysis/T164/2018_12_03__T164/1_Back/T164_2018_12_03Notebook_6_b_seq0a1b2b3b4abcd5a6b.pickle\n",
      "session number 12 was imported (out of 75)\n",
      "/Volumes/GilInVivoPaper.large/2.Photometry_in_str/1.lateral_medial_6_analysis/T164/2018_12_04__T164/1_Back/T164_2018_12_04Notebook_6_b_seq0a1b2b3b4abcd5a6b.pickle\n",
      "session number 13 was imported (out of 75)\n",
      "/Volumes/GilInVivoPaper.large/2.Photometry_in_str/1.lateral_medial_6_analysis/T164/2018_12_05__T164/1_Back/T164_2018_12_05Notebook_6_b_seq0a1b2b3b4abcd5a6b.pickle\n",
      "session number 14 was imported (out of 75)\n",
      "/Volumes/GilInVivoPaper.large/2.Photometry_in_str/1.lateral_medial_6_analysis/T164/2018_11_28__T164/1_Back/T164_2018_11_28Notebook_6_b_seq0a1b2b3b4abcd5a6b.pickle\n",
      "session number 15 was imported (out of 75)\n",
      "/Volumes/GilInVivoPaper.large/2.Photometry_in_str/1.lateral_medial_6_analysis/T164/2018_12_13__T164/1_Back/T164_2018_12_13Notebook_6_b_seq0a1b2b3b4abcd5a6b.pickle\n",
      "session number 16 was imported (out of 75)\n",
      "/Volumes/GilInVivoPaper.large/2.Photometry_in_str/1.lateral_medial_6_analysis/T169/2019_02_13__T169/1_Back/T169_2019_02_13Notebook_6_b_seq0a1b2b3b4abcd5a6b.pickle\n",
      "session number 17 was imported (out of 75)\n",
      "/Volumes/GilInVivoPaper.large/2.Photometry_in_str/1.lateral_medial_6_analysis/T169/2019_02_11__T169/1_Back/T169_2019_02_11Notebook_6_b_seq0a1b2b3b4abcd5a6b.pickle\n",
      "session number 18 was imported (out of 75)\n",
      "/Volumes/GilInVivoPaper.large/2.Photometry_in_str/1.lateral_medial_6_analysis/T169/2019_02_12__T169/1_Back/T169_2019_02_12Notebook_6_b_seq0a1b2b3b4abcd5a6b.pickle\n",
      "session number 19 was imported (out of 75)\n",
      "/Volumes/GilInVivoPaper.large/2.Photometry_in_str/1.lateral_medial_6_analysis/T169/2019_02_26__T169/1_Back/T169_2019_02_26Notebook_6_b_seq0a1b2b3b4abcd5a6b.pickle\n",
      "session number 20 was imported (out of 75)\n",
      "/Volumes/GilInVivoPaper.large/2.Photometry_in_str/1.lateral_medial_6_analysis/T169/2019_02_22__T169/1_Back/T169_2019_02_22Notebook_6_b_seq0a1b2b3b4abcd5a6b.pickle\n",
      "session number 21 was imported (out of 75)\n",
      "/Volumes/GilInVivoPaper.large/2.Photometry_in_str/1.lateral_medial_6_analysis/T169/2019_02_25__T169/1_Back/T169_2019_02_25Notebook_6_b_seq0a1b2b3b4abcd5a6b.pickle\n",
      "session number 22 was imported (out of 75)\n",
      "/Volumes/GilInVivoPaper.large/2.Photometry_in_str/1.lateral_medial_6_analysis/T169/2019_01_25__T169/1_Back/T169_2019_01_25Notebook_6_b_seq0a1b2b3b4abcd5a6b.pickle\n",
      "session number 23 was imported (out of 75)\n",
      "/Volumes/GilInVivoPaper.large/2.Photometry_in_str/1.lateral_medial_6_analysis/T169/2019_03_01__T169/1_Back/T169_2019_03_01Notebook_6_b_seq0a1b2b3b4abcd5a6b.pickle\n",
      "session number 24 was imported (out of 75)\n",
      "/Volumes/GilInVivoPaper.large/2.Photometry_in_str/1.lateral_medial_6_analysis/T169/2019_01_23__T169/1_Back/T169_2019_01_23Notebook_6_b_seq0a1b2b3b4abcd5a6b.pickle\n",
      "session number 25 was imported (out of 75)\n",
      "/Volumes/GilInVivoPaper.large/2.Photometry_in_str/1.lateral_medial_6_analysis/T169/2019_02_15__T169/1_Back/T169_2019_02_15Notebook_6_b_seq0a1b2b3b4abcd5a6b.pickle\n",
      "session number 26 was imported (out of 75)\n",
      "/Volumes/GilInVivoPaper.large/2.Photometry_in_str/1.lateral_medial_6_analysis/T169/2019_02_14__T169/1_Back/T169_2019_02_14Notebook_6_b_seq0a1b2b3b4abcd5a6b.pickle\n",
      "session number 27 was imported (out of 75)\n",
      "/Volumes/GilInVivoPaper.large/2.Photometry_in_str/1.lateral_medial_6_analysis/T169/2019_02_20__T169/1_Back/T169_2019_02_20Notebook_6_b_seq0a1b2b3b4abcd5a6b.pickle\n",
      "session number 28 was imported (out of 75)\n",
      "/Volumes/GilInVivoPaper.large/2.Photometry_in_str/1.lateral_medial_6_analysis/T169/2019_02_19__T169/1_Back/T169_2019_02_19Notebook_6_b_seq0a1b2b3b4abcd5a6b.pickle\n",
      "session number 29 was imported (out of 75)\n",
      "/Volumes/GilInVivoPaper.large/2.Photometry_in_str/1.lateral_medial_6_analysis/T169/2019_02_27__T169/1_Back/T169_2019_02_27Notebook_6_b_seq0a1b2b3b4abcd5a6b.pickle\n",
      "session number 30 was imported (out of 75)\n",
      "/Volumes/GilInVivoPaper.large/2.Photometry_in_str/1.lateral_medial_6_analysis/T169/2019_02_01__T169/1_Back/T169_2019_02_01Notebook_6_b_seq0a1b2b3b4abcd5a6b.pickle\n",
      "session number 31 was imported (out of 75)\n",
      "/Volumes/GilInVivoPaper.large/2.Photometry_in_str/1.lateral_medial_6_analysis/T169/2019_01_31__T169/1_Back/T169_2019_01_31Notebook_6_b_seq0a1b2b3b4abcd5a6b.pickle\n",
      "session number 32 was imported (out of 75)\n",
      "/Volumes/GilInVivoPaper.large/2.Photometry_in_str/1.lateral_medial_6_analysis/T169/2019_02_28__T169/1_Back/T169_2019_02_28Notebook_6_b_seq0a1b2b3b4abcd5a6b.pickle\n",
      "session number 33 was imported (out of 75)\n",
      "/Volumes/GilInVivoPaper.large/2.Photometry_in_str/1.lateral_medial_6_analysis/T169/2019_02_21__T169/1_Back/T169_2019_02_21Notebook_6_b_seq0a1b2b3b4abcd5a6b.pickle\n",
      "session number 34 was imported (out of 75)\n",
      "/Volumes/GilInVivoPaper.large/2.Photometry_in_str/1.lateral_medial_6_analysis/T171/2019_02_19__T171/1_Back/T171_2019_02_19Notebook_6_b_seq0a1b2b3b4abcd5a6b.pickle\n",
      "session number 35 was imported (out of 75)\n",
      "/Volumes/GilInVivoPaper.large/2.Photometry_in_str/1.lateral_medial_6_analysis/T171/2019_01_28__T171/1_Back/T171_2019_01_28Notebook_6_b_seq0a1b2b3b4abcd5a6b.pickle\n",
      "session number 36 was imported (out of 75)\n",
      "/Volumes/GilInVivoPaper.large/2.Photometry_in_str/1.lateral_medial_6_analysis/T171/2019_03_01__T171/1_Back/T171_2019_03_01Notebook_6_b_seq0a1b2b3b4abcd5a6b.pickle\n",
      "session number 37 was imported (out of 75)\n",
      "/Volumes/GilInVivoPaper.large/2.Photometry_in_str/1.lateral_medial_6_analysis/T171/2019_01_23__T171/1_Back/T171_2019_01_23Notebook_6_b_seq0a1b2b3b4abcd5a6b.pickle\n",
      "session number 38 was imported (out of 75)\n",
      "/Volumes/GilInVivoPaper.large/2.Photometry_in_str/1.lateral_medial_6_analysis/T171/2019_02_21__T171/1_Back/T171_2019_02_21Notebook_6_b_seq0a1b2b3b4abcd5a6b.pickle\n",
      "session number 39 was imported (out of 75)\n",
      "/Volumes/GilInVivoPaper.large/2.Photometry_in_str/1.lateral_medial_6_analysis/T171/2019_02_13__T171/1_Back/T171_2019_02_13Notebook_6_b_seq0a1b2b3b4abcd5a6b.pickle\n",
      "session number 40 was imported (out of 75)\n",
      "/Volumes/GilInVivoPaper.large/2.Photometry_in_str/1.lateral_medial_6_analysis/T171/2019_02_26__T171/1_Back/T171_2019_02_26Notebook_6_b_seq0a1b2b3b4abcd5a6b.pickle\n"
     ]
    },
    {
     "name": "stdout",
     "output_type": "stream",
     "text": [
      "session number 41 was imported (out of 75)\n",
      "/Volumes/GilInVivoPaper.large/2.Photometry_in_str/1.lateral_medial_6_analysis/T171/2019_01_22__T171/1_Back/T171_2019_01_22Notebook_6_b_seq0a1b2b3b4abcd5a6b.pickle\n",
      "session number 42 was imported (out of 75)\n",
      "/Volumes/GilInVivoPaper.large/2.Photometry_in_str/1.lateral_medial_6_analysis/T171/2019_02_25__T171/1_Back/T171_2019_02_25Notebook_6_b_seq0a1b2b3b4abcd5a6b.pickle\n",
      "session number 43 was imported (out of 75)\n",
      "/Volumes/GilInVivoPaper.large/2.Photometry_in_str/1.lateral_medial_6_analysis/T171/2019_02_27__T171/1_Back/T171_2019_02_27Notebook_6_b_seq0a1b2b3b4abcd5a6b.pickle\n",
      "session number 44 was imported (out of 75)\n",
      "/Volumes/GilInVivoPaper.large/2.Photometry_in_str/1.lateral_medial_6_analysis/T171/2019_02_14__T171/1_Back/T171_2019_02_14Notebook_6_b_seq0a1b2b3b4abcd5a6b.pickle\n",
      "session number 45 was imported (out of 75)\n",
      "/Volumes/GilInVivoPaper.large/2.Photometry_in_str/1.lateral_medial_6_analysis/T171/2019_02_20__T171/1_Back/T171_2019_02_20Notebook_6_b_seq0a1b2b3b4abcd5a6b.pickle\n",
      "session number 46 was imported (out of 75)\n",
      "/Volumes/GilInVivoPaper.large/2.Photometry_in_str/1.lateral_medial_6_analysis/T171/2019_02_22__T171/1_Back/T171_2019_02_22Notebook_6_b_seq0a1b2b3b4abcd5a6b.pickle\n",
      "session number 47 was imported (out of 75)\n",
      "/Volumes/GilInVivoPaper.large/2.Photometry_in_str/1.lateral_medial_6_analysis/T171/2019_02_08__T171/1_Back/T171_2019_02_08Notebook_6_b_seq0a1b2b3b4abcd5a6b.pickle\n",
      "session number 48 was imported (out of 75)\n",
      "/Volumes/GilInVivoPaper.large/2.Photometry_in_str/1.lateral_medial_6_analysis/T171/2019_01_25__T171/1_Back/T171_2019_01_25Notebook_6_b_seq0a1b2b3b4abcd5a6b.pickle\n",
      "session number 49 was imported (out of 75)\n",
      "/Volumes/GilInVivoPaper.large/2.Photometry_in_str/1.lateral_medial_6_analysis/T171/2019_02_28__T171/1_Back/T171_2019_02_28Notebook_6_b_seq0a1b2b3b4abcd5a6b.pickle\n",
      "session number 50 was imported (out of 75)\n",
      "/Volumes/GilInVivoPaper.large/2.Photometry_in_str/1.lateral_medial_6_analysis/T171/2019_02_15__T171/1_Back/T171_2019_02_15Notebook_6_b_seq0a1b2b3b4abcd5a6b.pickle\n",
      "session number 51 was imported (out of 75)\n",
      "/Volumes/GilInVivoPaper.large/2.Photometry_in_str/1.lateral_medial_6_analysis/T171/2019_02_12__T171/1_Back/T171_2019_02_12Notebook_6_b_seq0a1b2b3b4abcd5a6b.pickle\n",
      "session number 52 was imported (out of 75)\n",
      "/Volumes/GilInVivoPaper.large/2.Photometry_in_str/1.lateral_medial_6_analysis/T171/2019_02_11__T171/1_Back/T171_2019_02_11Notebook_6_b_seq0a1b2b3b4abcd5a6b.pickle\n",
      "session number 53 was imported (out of 75)\n",
      "/Volumes/GilInVivoPaper.large/2.Photometry_in_str/1.lateral_medial_6_analysis/T171/2019_01_31__T171/1_Back/T171_2019_01_31Notebook_6_b_seq0a1b2b3b4abcd5a6b.pickle\n",
      "session number 54 was imported (out of 75)\n",
      "/Volumes/GilInVivoPaper.large/2.Photometry_in_str/1.lateral_medial_6_analysis/T171/2019_01_30__T171/1_Back/T171_2019_01_30Notebook_6_b_seq0a1b2b3b4abcd5a6b.pickle\n",
      "session number 55 was imported (out of 75)\n",
      "/Volumes/GilInVivoPaper.large/2.Photometry_in_str/1.lateral_medial_6_analysis/T186/2019_03_21__T186/1_Back/T186_2019_03_21Notebook_6_b_seq0a1b2b3b4abcd5a6b.pickle\n",
      "session number 56 was imported (out of 75)\n",
      "/Volumes/GilInVivoPaper.large/2.Photometry_in_str/1.lateral_medial_6_analysis/T186/2019_03_25__T186/1_Back/T186_2019_03_25Notebook_6_b_seq0a1b2b3b4abcd5a6b.pickle\n",
      "session number 57 was imported (out of 75)\n",
      "/Volumes/GilInVivoPaper.large/2.Photometry_in_str/1.lateral_medial_6_analysis/T186/2019_03_22__T186/1_Back/T186_2019_03_22Notebook_6_b_seq0a1b2b3b4abcd5a6b.pickle\n",
      "session number 58 was imported (out of 75)\n",
      "/Volumes/GilInVivoPaper.large/2.Photometry_in_str/1.lateral_medial_6_analysis/T186/2019_04_01__T186/1_Back/T186_2019_04_01Notebook_6_b_seq0a1b2b3b4abcd5a6b.pickle\n",
      "session number 59 was imported (out of 75)\n",
      "/Volumes/GilInVivoPaper.large/2.Photometry_in_str/1.lateral_medial_6_analysis/T186/2019_03_28__T186/1_Back/T186_2019_03_28Notebook_6_b_seq0a1b2b3b4abcd5a6b.pickle\n",
      "session number 60 was imported (out of 75)\n",
      "/Volumes/GilInVivoPaper.large/2.Photometry_in_str/1.lateral_medial_6_analysis/T186/2019_03_27__T186/1_Back/T186_2019_03_27Notebook_6_b_seq0a1b2b3b4abcd5a6b.pickle\n",
      "session number 61 was imported (out of 75)\n",
      "/Volumes/GilInVivoPaper.large/2.Photometry_in_str/1.lateral_medial_6_analysis/T186/2019_04_02__T186/1_Back/T186_2019_04_02Notebook_6_b_seq0a1b2b3b4abcd5a6b.pickle\n",
      "session number 62 was imported (out of 75)\n",
      "/Volumes/GilInVivoPaper.large/2.Photometry_in_str/1.lateral_medial_6_analysis/T186/2019_04_05__T186/1_Back/T186_2019_04_05Notebook_6_b_seq0a1b2b3b4abcd5a6b.pickle\n",
      "session number 63 was imported (out of 75)\n",
      "/Volumes/GilInVivoPaper.large/2.Photometry_in_str/1.lateral_medial_6_analysis/T187/2019_03_22__T187/1_Back/T187_2019_03_22Notebook_6_b_seq0a1b2b3b4abcd5a6b.pickle\n",
      "session number 64 was imported (out of 75)\n",
      "/Volumes/GilInVivoPaper.large/2.Photometry_in_str/1.lateral_medial_6_analysis/T187/2019_04_02__T187/1_Back/T187_2019_04_02Notebook_6_b_seq0a1b2b3b4abcd5a6b.pickle\n",
      "session number 65 was imported (out of 75)\n",
      "/Volumes/GilInVivoPaper.large/2.Photometry_in_str/1.lateral_medial_6_analysis/T187/2019_03_25__T187/1_Back/T187_2019_03_25Notebook_6_b_seq0a1b2b3b4abcd5a6b.pickle\n",
      "session number 66 was imported (out of 75)\n",
      "/Volumes/GilInVivoPaper.large/2.Photometry_in_str/1.lateral_medial_6_analysis/T187/2019_04_04__T187/1_Back/T187_2019_04_04Notebook_6_b_seq0a1b2b3b4abcd5a6b.pickle\n",
      "session number 67 was imported (out of 75)\n",
      "/Volumes/GilInVivoPaper.large/2.Photometry_in_str/1.lateral_medial_6_analysis/T187/2019_04_05__T187/1_Back/T187_2019_04_05Notebook_6_b_seq0a1b2b3b4abcd5a6b.pickle\n",
      "session number 68 was imported (out of 75)\n",
      "/Volumes/GilInVivoPaper.large/2.Photometry_in_str/1.lateral_medial_6_analysis/T187/2019_04_01__T187/1_Back/T187_2019_04_01Notebook_6_b_seq0a1b2b3b4abcd5a6b.pickle\n",
      "session number 69 was imported (out of 75)\n",
      "/Volumes/GilInVivoPaper.large/2.Photometry_in_str/1.lateral_medial_6_analysis/T187/2019_03_28__T187/1_Back/T187_2019_03_28Notebook_6_b_seq0a1b2b3b4abcd5a6b.pickle\n",
      "session number 70 was imported (out of 75)\n",
      "/Volumes/GilInVivoPaper.large/2.Photometry_in_str/1.lateral_medial_6_analysis/T187/2019_04_03__T187/1_Back/T187_2019_04_03Notebook_6_b_seq0a1b2b3b4abcd5a6b.pickle\n",
      "session number 71 was imported (out of 75)\n",
      "/Volumes/GilInVivoPaper.large/2.Photometry_in_str/1.lateral_medial_6_analysis/T202/2019_05_30__T202/1_Back/T202_2019_05_30Notebook_6_b_seq0a1b2b3b4abcd5a6b.pickle\n",
      "session number 72 was imported (out of 75)\n",
      "/Volumes/GilInVivoPaper.large/2.Photometry_in_str/1.lateral_medial_6_analysis/T202/2019_05_22__T202/1_Back/T202_2019_05_22Notebook_6_b_seq0a1b2b3b4abcd5a6b.pickle\n",
      "session number 73 was imported (out of 75)\n",
      "/Volumes/GilInVivoPaper.large/2.Photometry_in_str/1.lateral_medial_6_analysis/T202/2019_05_29__T202/1_Back/T202_2019_05_29Notebook_6_b_seq0a1b2b3b4abcd5a6b.pickle\n",
      "session number 74 was imported (out of 75)\n",
      "/Volumes/GilInVivoPaper.large/2.Photometry_in_str/1.lateral_medial_6_analysis/T202/2019_05_26__T202/1_Back/T202_2019_05_26Notebook_6_b_seq0a1b2b3b4abcd5a6b.pickle\n",
      "session number 75 was imported (out of 75)\n",
      "/Volumes/GilInVivoPaper.large/2.Photometry_in_str/1.lateral_medial_6_analysis/T202/2019_05_16__T202/1_Back/T202_2019_05_16Notebook_6_b_seq0a1b2b3b4abcd5a6b.pickle\n",
      "CPU times: user 30.5 s, sys: 3.26 s, total: 33.7 s\n",
      "Wall time: 1min 8s\n"
     ]
    }
   ],
   "source": [
    "%%time\n",
    "data_trial_data_set = ghf.extract_data_object_photometry_after_processing(Mouse_Date_FileName,\n",
    "                                                                          path,HowManyBack,\n",
    "                                                                          seq_str)"
   ]
  },
  {
   "cell_type": "code",
   "execution_count": 18,
   "metadata": {},
   "outputs": [],
   "source": [
    "data_set = data_trial_data_set.copy()"
   ]
  },
  {
   "cell_type": "code",
   "execution_count": 19,
   "metadata": {
    "scrolled": true
   },
   "outputs": [
    {
     "data": {
      "text/plain": [
       "['Real_nTrials',\n",
       " 'Reward_NoReward_tag',\n",
       " 'ENL_tag',\n",
       " 'Cue_to_Sel_tag',\n",
       " 'Cue_to_Sel_fromPrevTrial_tag',\n",
       " 'pre_Reward_NoReward_tag',\n",
       " 'post_Reward_NoReward_tag',\n",
       " 'pre_ENL_tag',\n",
       " 'post_ENL_tag',\n",
       " 'pre_Cue_to_Sel_tag',\n",
       " 'post_Cue_to_Sel_tag',\n",
       " 'pre_Cue_to_Sel_fromPrevTrial_tag',\n",
       " 'post_Cue_to_Sel_fromPrevTrial_tag',\n",
       " 'first_600_bins_Reward_NoReward_tag',\n",
       " 'last_200_bins_ENL_tag',\n",
       " 'first_15_bins_Cue_to_Sel_tag',\n",
       " 'first_15_bins_Cue_to_Sel_fromPrevTrial_tag',\n",
       " 'combined_periods_2']"
      ]
     },
     "execution_count": 19,
     "metadata": {},
     "output_type": "execute_result"
    }
   ],
   "source": [
    "list(data_set[0][0][0][0].keys())"
   ]
  },
  {
   "cell_type": "code",
   "execution_count": 20,
   "metadata": {},
   "outputs": [],
   "source": [
    "if not os.path.exists(path_to_save):\n",
    "    os.makedirs(path_to_save)"
   ]
  },
  {
   "cell_type": "code",
   "execution_count": 21,
   "metadata": {},
   "outputs": [],
   "source": [
    "root = Path(path_to_save)\n",
    "d = \"data_object_photometry_after_processing\"+\"_\"+seq_str+'.pickle'\n",
    "my_path = root / d "
   ]
  },
  {
   "cell_type": "code",
   "execution_count": 22,
   "metadata": {},
   "outputs": [
    {
     "name": "stdout",
     "output_type": "stream",
     "text": [
      "/Volumes/GilInVivoPaper.large/2.Photometry_in_str/1.lateral_medial_6_analysis/right_dual_color_photo_full_data_after_QC/0a1b2b3b4abcd5a6b7a/data_object_photometry_after_processing_0a1b2b3b4abcd5a6b7a.pickle\n"
     ]
    }
   ],
   "source": [
    "print (my_path)"
   ]
  },
  {
   "cell_type": "code",
   "execution_count": 23,
   "metadata": {},
   "outputs": [
    {
     "name": "stdout",
     "output_type": "stream",
     "text": [
      "CPU times: user 10.9 s, sys: 4.43 s, total: 15.3 s\n",
      "Wall time: 1min 11s\n"
     ]
    }
   ],
   "source": [
    "%%time\n",
    "my_file = open(my_path, 'wb')\n",
    "my_file = pickle.dump((data_set),my_file)"
   ]
  },
  {
   "cell_type": "code",
   "execution_count": null,
   "metadata": {},
   "outputs": [],
   "source": []
  }
 ],
 "metadata": {
  "kernelspec": {
   "display_name": "Python 3",
   "language": "python",
   "name": "python3"
  },
  "language_info": {
   "codemirror_mode": {
    "name": "ipython",
    "version": 3
   },
   "file_extension": ".py",
   "mimetype": "text/x-python",
   "name": "python",
   "nbconvert_exporter": "python",
   "pygments_lexer": "ipython3",
   "version": "3.7.3"
  }
 },
 "nbformat": 4,
 "nbformat_minor": 4
}
