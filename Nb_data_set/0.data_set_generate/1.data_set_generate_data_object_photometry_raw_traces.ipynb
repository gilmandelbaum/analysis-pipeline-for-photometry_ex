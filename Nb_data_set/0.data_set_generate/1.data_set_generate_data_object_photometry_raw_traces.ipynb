{
 "cells": [
  {
   "cell_type": "code",
   "execution_count": 1,
   "metadata": {},
   "outputs": [],
   "source": [
    "import pickle\n",
    "from pathlib import Path\n",
    "import pandas as pd \n",
    "import os\n",
    "import sys\n",
    "import tdt"
   ]
  },
  {
   "cell_type": "code",
   "execution_count": 2,
   "metadata": {},
   "outputs": [],
   "source": [
    "import data_set_generate_helper_functions as ghf"
   ]
  },
  {
   "cell_type": "code",
   "execution_count": 3,
   "metadata": {},
   "outputs": [
    {
     "data": {
      "text/plain": [
       "'/anaconda3/bin/python3'"
      ]
     },
     "execution_count": 3,
     "metadata": {},
     "output_type": "execute_result"
    }
   ],
   "source": [
    "sys.executable"
   ]
  },
  {
   "cell_type": "markdown",
   "metadata": {},
   "source": [
    "# Path to import the data"
   ]
  },
  {
   "cell_type": "markdown",
   "metadata": {},
   "source": [
    "not the analysis folder because we are importing the raw traces"
   ]
  },
  {
   "cell_type": "code",
   "execution_count": 4,
   "metadata": {},
   "outputs": [],
   "source": [
    "path_to_import =\"/Volumes/GilInVivoPaper.large/2.Photometry_in_str/0.data_Sets/1.lateral_medial_6\""
   ]
  },
  {
   "cell_type": "markdown",
   "metadata": {},
   "source": [
    "# Path to save the data"
   ]
  },
  {
   "cell_type": "code",
   "execution_count": 5,
   "metadata": {},
   "outputs": [],
   "source": [
    "path_to_save = \"/Volumes/GilInVivoPaper.large/2.Photometry_in_str/1.lateral_medial_6_analysis\""
   ]
  },
  {
   "cell_type": "markdown",
   "metadata": {},
   "source": [
    "# Folder to save the data: "
   ]
  },
  {
   "cell_type": "code",
   "execution_count": 6,
   "metadata": {},
   "outputs": [],
   "source": [
    "folderName=\"raw_traces_data_set\" #folder where the plot data_set will be saved \n",
    "#folderName=\"left_dual_color_photo_full_data_set_after_inspection\" #folder where the plot data_set will be saved "
   ]
  },
  {
   "cell_type": "code",
   "execution_count": 7,
   "metadata": {},
   "outputs": [
    {
     "data": {
      "text/plain": [
       "'/Volumes/GilInVivoPaper.large/2.Photometry_in_str/1.lateral_medial_6_analysis/raw_traces_data_set'"
      ]
     },
     "execution_count": 7,
     "metadata": {},
     "output_type": "execute_result"
    }
   ],
   "source": [
    "full_path_to_save = path_to_save+\"/\"+folderName\n",
    "full_path_to_save"
   ]
  },
  {
   "cell_type": "markdown",
   "metadata": {},
   "source": [
    "# import the data table: "
   ]
  },
  {
   "cell_type": "code",
   "execution_count": 12,
   "metadata": {},
   "outputs": [],
   "source": [
    "#name of xlsx file that has the sessions we want to run: \n",
    "MasterSheetName= '3.lateral_ medial_6_lateral_channels_final'"
   ]
  },
  {
   "cell_type": "code",
   "execution_count": 13,
   "metadata": {},
   "outputs": [
    {
     "data": {
      "text/plain": [
       "'/Volumes/GilInVivoPaper.large/2.Photometry_in_str/0.data_Sets/1.lateral_medial_6/3.lateral_ medial_6_lateral_channels_final.xlsx'"
      ]
     },
     "execution_count": 13,
     "metadata": {},
     "output_type": "execute_result"
    }
   ],
   "source": [
    "path_to_import+'/'+MasterSheetName+'.xlsx'"
   ]
  },
  {
   "cell_type": "code",
   "execution_count": 14,
   "metadata": {},
   "outputs": [],
   "source": [
    "Mouse_Date_FileName = pd.read_excel(path_to_import+'/'+MasterSheetName+'.xlsx') #mdf is mouse data file "
   ]
  },
  {
   "cell_type": "code",
   "execution_count": 15,
   "metadata": {
    "scrolled": true
   },
   "outputs": [
    {
     "data": {
      "text/html": [
       "<div>\n",
       "<style scoped>\n",
       "    .dataframe tbody tr th:only-of-type {\n",
       "        vertical-align: middle;\n",
       "    }\n",
       "\n",
       "    .dataframe tbody tr th {\n",
       "        vertical-align: top;\n",
       "    }\n",
       "\n",
       "    .dataframe thead th {\n",
       "        text-align: right;\n",
       "    }\n",
       "</style>\n",
       "<table border=\"1\" class=\"dataframe\">\n",
       "  <thead>\n",
       "    <tr style=\"text-align: right;\">\n",
       "      <th></th>\n",
       "      <th>mouse</th>\n",
       "      <th>date</th>\n",
       "      <th>file name</th>\n",
       "    </tr>\n",
       "  </thead>\n",
       "  <tbody>\n",
       "    <tr>\n",
       "      <th>0</th>\n",
       "      <td>T163</td>\n",
       "      <td>181207</td>\n",
       "      <td>T163-123432</td>\n",
       "    </tr>\n",
       "    <tr>\n",
       "      <th>1</th>\n",
       "      <td>T163</td>\n",
       "      <td>181128</td>\n",
       "      <td>T163-115220</td>\n",
       "    </tr>\n",
       "    <tr>\n",
       "      <th>2</th>\n",
       "      <td>T163</td>\n",
       "      <td>181203</td>\n",
       "      <td>T163-115901</td>\n",
       "    </tr>\n",
       "    <tr>\n",
       "      <th>3</th>\n",
       "      <td>T163</td>\n",
       "      <td>181130</td>\n",
       "      <td>T163-133215</td>\n",
       "    </tr>\n",
       "    <tr>\n",
       "      <th>4</th>\n",
       "      <td>T163</td>\n",
       "      <td>181204</td>\n",
       "      <td>T163-114628</td>\n",
       "    </tr>\n",
       "    <tr>\n",
       "      <th>...</th>\n",
       "      <td>...</td>\n",
       "      <td>...</td>\n",
       "      <td>...</td>\n",
       "    </tr>\n",
       "    <tr>\n",
       "      <th>70</th>\n",
       "      <td>T202</td>\n",
       "      <td>190530</td>\n",
       "      <td>T202-152554</td>\n",
       "    </tr>\n",
       "    <tr>\n",
       "      <th>71</th>\n",
       "      <td>T202</td>\n",
       "      <td>190522</td>\n",
       "      <td>T202-141516</td>\n",
       "    </tr>\n",
       "    <tr>\n",
       "      <th>72</th>\n",
       "      <td>T202</td>\n",
       "      <td>190529</td>\n",
       "      <td>T202-160644</td>\n",
       "    </tr>\n",
       "    <tr>\n",
       "      <th>73</th>\n",
       "      <td>T202</td>\n",
       "      <td>190526</td>\n",
       "      <td>T202-142728</td>\n",
       "    </tr>\n",
       "    <tr>\n",
       "      <th>74</th>\n",
       "      <td>T202</td>\n",
       "      <td>190516</td>\n",
       "      <td>T202-165613</td>\n",
       "    </tr>\n",
       "  </tbody>\n",
       "</table>\n",
       "<p>75 rows × 3 columns</p>\n",
       "</div>"
      ],
      "text/plain": [
       "   mouse    date    file name\n",
       "0   T163  181207  T163-123432\n",
       "1   T163  181128  T163-115220\n",
       "2   T163  181203  T163-115901\n",
       "3   T163  181130  T163-133215\n",
       "4   T163  181204  T163-114628\n",
       "..   ...     ...          ...\n",
       "70  T202  190530  T202-152554\n",
       "71  T202  190522  T202-141516\n",
       "72  T202  190529  T202-160644\n",
       "73  T202  190526  T202-142728\n",
       "74  T202  190516  T202-165613\n",
       "\n",
       "[75 rows x 3 columns]"
      ]
     },
     "execution_count": 15,
     "metadata": {},
     "output_type": "execute_result"
    }
   ],
   "source": [
    "Mouse_Date_FileName"
   ]
  },
  {
   "cell_type": "code",
   "execution_count": 16,
   "metadata": {},
   "outputs": [],
   "source": [
    "#Mouse_Date_FileName = Mouse_Date_FileName.iloc[0:30,:]"
   ]
  },
  {
   "cell_type": "code",
   "execution_count": 17,
   "metadata": {
    "scrolled": true
   },
   "outputs": [],
   "source": [
    "#Mouse_Date_FileName"
   ]
  },
  {
   "cell_type": "markdown",
   "metadata": {},
   "source": [
    "# Import the full data structure for each session: "
   ]
  },
  {
   "cell_type": "code",
   "execution_count": 18,
   "metadata": {
    "scrolled": true
   },
   "outputs": [
    {
     "name": "stdout",
     "output_type": "stream",
     "text": [
      "session number 1 was imported (out of 75)\n",
      "read from t=0s to t=1414.42s\n",
      "session number 2 was imported (out of 75)\n",
      "read from t=0s to t=1288.2s\n",
      "session number 3 was imported (out of 75)\n",
      "read from t=0s to t=1354.94s\n",
      "session number 4 was imported (out of 75)\n",
      "read from t=0s to t=1338.08s\n",
      "session number 5 was imported (out of 75)\n",
      "read from t=0s to t=1301.59s\n",
      "session number 6 was imported (out of 75)\n",
      "read from t=0s to t=1264.2s\n",
      "session number 7 was imported (out of 75)\n",
      "read from t=0s to t=1265.19s\n",
      "session number 8 was imported (out of 75)\n",
      "read from t=0s to t=1419.37s\n",
      "session number 9 was imported (out of 75)\n",
      "read from t=0s to t=1086.68s\n",
      "session number 10 was imported (out of 75)\n",
      "read from t=0s to t=1186.42s\n",
      "session number 11 was imported (out of 75)\n",
      "read from t=0s to t=1397.89s\n",
      "session number 12 was imported (out of 75)\n",
      "read from t=0s to t=1318.45s\n",
      "session number 13 was imported (out of 75)\n",
      "read from t=0s to t=1225.42s\n",
      "session number 14 was imported (out of 75)\n",
      "read from t=0s to t=1213.68s\n",
      "session number 15 was imported (out of 75)\n",
      "read from t=0s to t=1186.67s\n",
      "session number 16 was imported (out of 75)\n",
      "read from t=0s to t=1233.64s\n",
      "session number 17 was imported (out of 75)\n",
      "read from t=0s to t=1312.75s\n",
      "session number 18 was imported (out of 75)\n",
      "read from t=0s to t=1254.28s\n",
      "session number 19 was imported (out of 75)\n",
      "read from t=0s to t=1247.82s\n",
      "session number 20 was imported (out of 75)\n",
      "read from t=0s to t=1192.19s\n",
      "session number 21 was imported (out of 75)\n",
      "read from t=0s to t=1281.46s\n",
      "session number 22 was imported (out of 75)\n",
      "read from t=0s to t=1262.42s\n",
      "session number 23 was imported (out of 75)\n",
      "read from t=0s to t=1200.93s\n",
      "session number 24 was imported (out of 75)\n",
      "read from t=0s to t=1296.06s\n",
      "session number 25 was imported (out of 75)\n",
      "read from t=0s to t=1184.74s\n",
      "session number 26 was imported (out of 75)\n",
      "read from t=0s to t=1202.77s\n",
      "session number 27 was imported (out of 75)\n",
      "read from t=0s to t=1229.37s\n",
      "session number 28 was imported (out of 75)\n",
      "read from t=0s to t=1279.7s\n",
      "session number 29 was imported (out of 75)\n",
      "read from t=0s to t=1246.56s\n",
      "session number 30 was imported (out of 75)\n",
      "read from t=0s to t=1314.68s\n",
      "session number 31 was imported (out of 75)\n",
      "read from t=0s to t=1221.82s\n",
      "session number 32 was imported (out of 75)\n",
      "read from t=0s to t=1206.97s\n",
      "session number 33 was imported (out of 75)\n",
      "read from t=0s to t=1157.39s\n",
      "session number 34 was imported (out of 75)\n",
      "read from t=0s to t=1402.34s\n",
      "session number 35 was imported (out of 75)\n",
      "read from t=0s to t=909.76s\n",
      "session number 36 was imported (out of 75)\n",
      "read from t=0s to t=1391.77s\n",
      "session number 37 was imported (out of 75)\n",
      "read from t=0s to t=1281.71s\n",
      "session number 38 was imported (out of 75)\n",
      "read from t=0s to t=1316.2s\n",
      "session number 39 was imported (out of 75)\n",
      "read from t=0s to t=1398.4s\n",
      "session number 40 was imported (out of 75)\n",
      "read from t=0s to t=1259.65s\n",
      "session number 41 was imported (out of 75)\n",
      "read from t=0s to t=1258.89s\n",
      "session number 42 was imported (out of 75)\n",
      "read from t=0s to t=1260.2s\n",
      "session number 43 was imported (out of 75)\n",
      "read from t=0s to t=1348.4s\n",
      "session number 44 was imported (out of 75)\n",
      "read from t=0s to t=1190.7s\n",
      "session number 45 was imported (out of 75)\n",
      "read from t=0s to t=1267.7s\n",
      "session number 46 was imported (out of 75)\n",
      "read from t=0s to t=1259.2s\n",
      "session number 47 was imported (out of 75)\n",
      "read from t=0s to t=1006.48s\n",
      "session number 48 was imported (out of 75)\n",
      "read from t=0s to t=1071.24s\n",
      "session number 49 was imported (out of 75)\n",
      "read from t=0s to t=1291.95s\n",
      "session number 50 was imported (out of 75)\n",
      "read from t=0s to t=1339.59s\n",
      "session number 51 was imported (out of 75)\n",
      "read from t=0s to t=1249.2s\n",
      "session number 52 was imported (out of 75)\n",
      "read from t=0s to t=797.52s\n",
      "session number 53 was imported (out of 75)\n",
      "read from t=0s to t=1033.83s\n",
      "session number 54 was imported (out of 75)\n",
      "read from t=0s to t=1218.38s\n",
      "session number 55 was imported (out of 75)\n",
      "read from t=0s to t=1500.65s\n",
      "session number 56 was imported (out of 75)\n",
      "read from t=0s to t=1366.35s\n",
      "session number 57 was imported (out of 75)\n",
      "read from t=0s to t=1196.32s\n",
      "session number 58 was imported (out of 75)\n",
      "read from t=0s to t=1318.2s\n",
      "session number 59 was imported (out of 75)\n",
      "read from t=0s to t=1299.83s\n",
      "session number 60 was imported (out of 75)\n",
      "read from t=0s to t=1297.65s\n",
      "session number 61 was imported (out of 75)\n",
      "read from t=0s to t=1221.31s\n",
      "session number 62 was imported (out of 75)\n",
      "read from t=0s to t=1208.73s\n",
      "session number 63 was imported (out of 75)\n",
      "read from t=0s to t=1320.05s\n",
      "session number 64 was imported (out of 75)\n",
      "read from t=0s to t=1296.98s\n",
      "session number 65 was imported (out of 75)\n",
      "read from t=0s to t=1341.52s\n",
      "session number 66 was imported (out of 75)\n",
      "read from t=0s to t=1364.67s\n",
      "session number 67 was imported (out of 75)\n",
      "read from t=0s to t=1427.42s\n",
      "session number 68 was imported (out of 75)\n",
      "read from t=0s to t=1380.78s\n",
      "session number 69 was imported (out of 75)\n",
      "read from t=0s to t=1276.68s\n",
      "session number 70 was imported (out of 75)\n",
      "read from t=0s to t=1253.27s\n",
      "session number 71 was imported (out of 75)\n",
      "read from t=0s to t=1504.6s\n",
      "session number 72 was imported (out of 75)\n",
      "read from t=0s to t=1638.23s\n",
      "session number 73 was imported (out of 75)\n",
      "read from t=0s to t=1335.99s\n",
      "session number 74 was imported (out of 75)\n",
      "read from t=0s to t=1307.2s\n",
      "session number 75 was imported (out of 75)\n",
      "read from t=0s to t=1450.22s\n",
      "CPU times: user 6min 6s, sys: 1min 41s, total: 7min 47s\n",
      "Wall time: 17min 11s\n"
     ]
    }
   ],
   "source": [
    "%%time\n",
    "data_set = ghf.extract_data_object_photometry_raw_traces(Mouse_Date_FileName,\n",
    "                                                         path_to_import,\n",
    "                                                         path_to_save)"
   ]
  },
  {
   "cell_type": "code",
   "execution_count": 19,
   "metadata": {
    "scrolled": true
   },
   "outputs": [
    {
     "data": {
      "text/plain": [
       "['d2 R', 'd1 R', 'd2 L', 'd1 L']"
      ]
     },
     "execution_count": 19,
     "metadata": {},
     "output_type": "execute_result"
    }
   ],
   "source": [
    "list(data_set[0].keys())"
   ]
  },
  {
   "cell_type": "code",
   "execution_count": 20,
   "metadata": {},
   "outputs": [],
   "source": [
    "if not os.path.exists(full_path_to_save):\n",
    "    os.makedirs(full_path_to_save)"
   ]
  },
  {
   "cell_type": "code",
   "execution_count": 21,
   "metadata": {},
   "outputs": [],
   "source": [
    "root = Path(full_path_to_save)\n",
    "d = \"data_object_photometry_raw_traces\"+'.pickle'\n",
    "my_path = root / d "
   ]
  },
  {
   "cell_type": "code",
   "execution_count": 22,
   "metadata": {},
   "outputs": [
    {
     "data": {
      "text/plain": [
       "PosixPath('/Volumes/GilInVivoPaper.large/2.Photometry_in_str/1.lateral_medial_6_analysis/raw_traces_data_set/data_object_photometry_raw_traces.pickle')"
      ]
     },
     "execution_count": 22,
     "metadata": {},
     "output_type": "execute_result"
    }
   ],
   "source": [
    "my_path"
   ]
  },
  {
   "cell_type": "code",
   "execution_count": 23,
   "metadata": {},
   "outputs": [
    {
     "name": "stdout",
     "output_type": "stream",
     "text": [
      "CPU times: user 941 ms, sys: 4.2 s, total: 5.14 s\n",
      "Wall time: 40.1 s\n"
     ]
    }
   ],
   "source": [
    "%%time\n",
    "my_file = open(my_path, 'wb')\n",
    "my_file = pickle.dump((data_set),my_file)"
   ]
  },
  {
   "cell_type": "code",
   "execution_count": null,
   "metadata": {},
   "outputs": [],
   "source": []
  }
 ],
 "metadata": {
  "kernelspec": {
   "display_name": "Python 3",
   "language": "python",
   "name": "python3"
  },
  "language_info": {
   "codemirror_mode": {
    "name": "ipython",
    "version": 3
   },
   "file_extension": ".py",
   "mimetype": "text/x-python",
   "name": "python",
   "nbconvert_exporter": "python",
   "pygments_lexer": "ipython3",
   "version": "3.7.3"
  }
 },
 "nbformat": 4,
 "nbformat_minor": 4
}
