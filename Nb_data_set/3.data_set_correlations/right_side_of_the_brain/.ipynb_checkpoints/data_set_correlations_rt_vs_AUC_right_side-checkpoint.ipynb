{
 "cells": [
  {
   "cell_type": "code",
   "execution_count": 1,
   "metadata": {},
   "outputs": [],
   "source": [
    "import pickle\n",
    "from pathlib import Path\n",
    "import pandas as pd \n",
    "import os\n",
    "import sys\n",
    "import numpy as np\n",
    "import getpass\n",
    "import matplotlib.pyplot as plt"
   ]
  },
  {
   "cell_type": "code",
   "execution_count": 2,
   "metadata": {},
   "outputs": [
    {
     "name": "stdout",
     "output_type": "stream",
     "text": [
      "gilmandelbaum\n"
     ]
    }
   ],
   "source": [
    "#add the github path that will run the notebooks: \n",
    "username = getpass.getuser() # gets the username from the current comp \n",
    "print (username)"
   ]
  },
  {
   "cell_type": "code",
   "execution_count": 3,
   "metadata": {},
   "outputs": [],
   "source": [
    "sys.path.insert(0,'/Users/{:}/github/analysis-pipeline-for-photometry_ex/Nb_data_set/3.data_set_correlations'.format(username))"
   ]
  },
  {
   "cell_type": "code",
   "execution_count": 4,
   "metadata": {},
   "outputs": [
    {
     "data": {
      "text/plain": [
       "'/Users/gilmandelbaum/github/analysis-pipeline-for-photometry_ex/Nb_data_set/3.data_set_correlations'"
      ]
     },
     "execution_count": 4,
     "metadata": {},
     "output_type": "execute_result"
    }
   ],
   "source": [
    "sys.path[0]"
   ]
  },
  {
   "cell_type": "code",
   "execution_count": 5,
   "metadata": {},
   "outputs": [],
   "source": [
    "#import data_set_correlations_helper_functions as dschf"
   ]
  },
  {
   "cell_type": "markdown",
   "metadata": {},
   "source": [
    "# Change based on analysis: "
   ]
  },
  {
   "cell_type": "code",
   "execution_count": 6,
   "metadata": {},
   "outputs": [],
   "source": [
    "seq_str = '0a1b2a3b4abcd5a6a7a'\n",
    "period_of_interest = \"combined_periods_1\""
   ]
  },
  {
   "cell_type": "code",
   "execution_count": 7,
   "metadata": {},
   "outputs": [],
   "source": [
    "HowManyBack=1\n",
    "folderName=\"right_dual_color_photo_full_data_set_after_inspection\" #folder where the plot data_set will be saved \n",
    "path = \"/Volumes/GilInVivoPaper.large/2.Photometry_in_str/2.dual_color_photo_full_data_set_analysis_3/\""
   ]
  },
  {
   "cell_type": "markdown",
   "metadata": {},
   "source": [
    "# Folder name of analysis: "
   ]
  },
  {
   "cell_type": "code",
   "execution_count": 8,
   "metadata": {},
   "outputs": [],
   "source": [
    "analysis_type =\"data_set_correlations\""
   ]
  },
  {
   "cell_type": "code",
   "execution_count": 9,
   "metadata": {},
   "outputs": [
    {
     "data": {
      "text/plain": [
       "'/anaconda3/bin/python3'"
      ]
     },
     "execution_count": 9,
     "metadata": {},
     "output_type": "execute_result"
    }
   ],
   "source": [
    "sys.executable"
   ]
  },
  {
   "cell_type": "markdown",
   "metadata": {},
   "source": [
    "# Import the data and where to save it "
   ]
  },
  {
   "cell_type": "code",
   "execution_count": 10,
   "metadata": {},
   "outputs": [],
   "source": [
    "path_to_save = path+\"/\"+folderName+\"/\"+seq_str #also for loading"
   ]
  },
  {
   "cell_type": "code",
   "execution_count": 11,
   "metadata": {},
   "outputs": [
    {
     "data": {
      "text/plain": [
       "'/Volumes/GilInVivoPaper.large/2.Photometry_in_str/2.dual_color_photo_full_data_set_analysis_3//right_dual_color_photo_full_data_set_after_inspection/0a1b2a3b4abcd5a6a7a'"
      ]
     },
     "execution_count": 11,
     "metadata": {},
     "output_type": "execute_result"
    }
   ],
   "source": [
    "path_to_save"
   ]
  },
  {
   "cell_type": "code",
   "execution_count": 12,
   "metadata": {},
   "outputs": [],
   "source": [
    "# stash result in a cache directory, for how many back. \n",
    "cache_dir_plt = os.path.join(path_to_save,analysis_type,period_of_interest)"
   ]
  },
  {
   "cell_type": "code",
   "execution_count": 13,
   "metadata": {},
   "outputs": [],
   "source": [
    "# stash result in a cache directory, for how many back. \n",
    "cache_dir_plt = os.path.join(path_to_save,analysis_type,period_of_interest)\n",
    "if not os.path.exists(cache_dir_plt):\n",
    "    os.makedirs(cache_dir_plt)"
   ]
  },
  {
   "cell_type": "markdown",
   "metadata": {},
   "source": [
    "# Import data_trial"
   ]
  },
  {
   "cell_type": "code",
   "execution_count": 14,
   "metadata": {},
   "outputs": [
    {
     "name": "stdout",
     "output_type": "stream",
     "text": [
      "CPU times: user 54.5 ms, sys: 12.3 ms, total: 66.7 ms\n",
      "Wall time: 180 ms\n"
     ]
    }
   ],
   "source": [
    "%%time\n",
    "root = Path(path_to_save)\n",
    "d = \"data_object_data_trial\"+\"_\"+seq_str+'.pickle'\n",
    "my_path = root / d \n",
    "fileToOpen = open(my_path, 'rb')\n",
    "data_trial_sessions = pickle.load(fileToOpen)"
   ]
  },
  {
   "cell_type": "markdown",
   "metadata": {},
   "source": [
    "# Extract selection time "
   ]
  },
  {
   "cell_type": "code",
   "execution_count": 15,
   "metadata": {},
   "outputs": [],
   "source": [
    "def extract_behaviorFeature_perSession(data_trial_sessions,behavior_measure):\n",
    "    behavior_measure_list=[]\n",
    "    for data_trial in data_trial_sessions:\n",
    "        behavior_measure_list.append(pd.DataFrame(data_trial[behavior_measure]))\n",
    "    return behavior_measure_list"
   ]
  },
  {
   "cell_type": "code",
   "execution_count": 16,
   "metadata": {},
   "outputs": [],
   "source": [
    "data_trial_sessions_rt=extract_behaviorFeature_perSession(data_trial_sessions,'tSelection')"
   ]
  },
  {
   "cell_type": "markdown",
   "metadata": {},
   "source": [
    "# Import data_photometry"
   ]
  },
  {
   "cell_type": "code",
   "execution_count": 17,
   "metadata": {},
   "outputs": [
    {
     "name": "stdout",
     "output_type": "stream",
     "text": [
      "CPU times: user 16.5 s, sys: 1.94 s, total: 18.4 s\n",
      "Wall time: 37 s\n"
     ]
    }
   ],
   "source": [
    "%%time\n",
    "root = Path(path_to_save)\n",
    "d = \"data_object_photometry\"+\"_\"+seq_str+'.pickle'\n",
    "my_path = root / d \n",
    "fileToOpen = open(my_path, 'rb')\n",
    "data_set = pickle.load(fileToOpen)"
   ]
  },
  {
   "cell_type": "markdown",
   "metadata": {},
   "source": [
    "# generate data sets of interest"
   ]
  },
  {
   "cell_type": "code",
   "execution_count": 18,
   "metadata": {},
   "outputs": [],
   "source": [
    "def extract_data_of_interest_ipsi_contra_per_session_helper (PhotoData_perTrial_channels,rl,tt,period,cell_type):\n",
    "    ipsi_next = PhotoData_perTrial_channels[rl][0][tt][period][cell_type]\n",
    "    contra_next = PhotoData_perTrial_channels[rl][1][tt][period][cell_type]\n",
    "    return (ipsi_next,contra_next)\n",
    "    \n",
    "\n",
    "\n",
    "def extract_data_of_interest_ipsi_contra_data_set (PhotoData_perTrial_channels_data_set,\n",
    "                                                   rl,tt,period,cell_type): \n",
    "    \n",
    "    ipsi_contra_data_set = []\n",
    "    \n",
    "    for PhotoData_perTrial_channels in PhotoData_perTrial_channels_data_set:\n",
    "        ipsi_contra = extract_data_of_interest_ipsi_contra_per_session_helper (PhotoData_perTrial_channels,rl,tt,period,cell_type)\n",
    "        ipsi_contra_data_set.append(ipsi_contra)\n",
    "        \n",
    "    return (ipsi_contra_data_set)"
   ]
  },
  {
   "cell_type": "code",
   "execution_count": 19,
   "metadata": {},
   "outputs": [],
   "source": [
    "r_ls_period_d1_data_set= extract_data_of_interest_ipsi_contra_data_set(data_set,\n",
    "                                                                           0,0,\n",
    "                                                                           period_of_interest,\"d1 R\")"
   ]
  },
  {
   "cell_type": "code",
   "execution_count": 20,
   "metadata": {},
   "outputs": [],
   "source": [
    "r_ls_period_d2_data_set= extract_data_of_interest_ipsi_contra_data_set(data_set,\n",
    "                                                                           0,0,\n",
    "                                                                           period_of_interest,\"d2 R\")"
   ]
  },
  {
   "cell_type": "code",
   "execution_count": 21,
   "metadata": {},
   "outputs": [],
   "source": [
    "r_wr_period_d1_data_set= extract_data_of_interest_ipsi_contra_data_set(data_set,\n",
    "                                                                           0,3,\n",
    "                                                                           period_of_interest,\"d1 R\")"
   ]
  },
  {
   "cell_type": "code",
   "execution_count": 22,
   "metadata": {},
   "outputs": [],
   "source": [
    "r_wr_period_d2_data_set= extract_data_of_interest_ipsi_contra_data_set(data_set,\n",
    "                                                                           0,3,\n",
    "                                                                           period_of_interest,\"d2 R\")"
   ]
  },
  {
   "cell_type": "code",
   "execution_count": 35,
   "metadata": {},
   "outputs": [],
   "source": [
    "def extract_signal_per_session (data_state_sessions,function):\n",
    "    maxSig_sessions=[]\n",
    "    \n",
    "    for session in data_state_sessions:\n",
    "        max_ipsi_next = function(session[0])\n",
    "        max_contra_next = function(session[1])\n",
    "        \n",
    "        maxSig_sessions.append((max_ipsi_next,max_contra_next))\n",
    "\n",
    "    return maxSig_sessions"
   ]
  },
  {
   "cell_type": "code",
   "execution_count": null,
   "metadata": {},
   "outputs": [],
   "source": [
    "# def extract_mean_max_signal(session_ipsi_or_contra):\n",
    "    \n",
    "#     list_max_value=[]\n",
    "#     df = pd.DataFrame()\n",
    "    \n",
    "#     idx_max_signal_list = list(session_ipsi_or_contra.loc[200:500,:].idxmax())\n",
    "    \n",
    "#     for c,i in enumerate (idx_max_signal_list): #c is the count, i is the index of max value in each session avg \n",
    "#         max_signal_per_trial = session_ipsi_or_contra.iloc[(i-10):(i+11),c].mean()\n",
    "#         list_max_value.append(max_signal_per_trial)\n",
    "        \n",
    "#     df['max_signal'] = list_max_value\n",
    "    \n",
    "#     trial_number = list(session_ipsi_or_contra.keys())\n",
    "#     df.index = trial_number\n",
    "    \n",
    "#     return df"
   ]
  },
  {
   "cell_type": "code",
   "execution_count": 66,
   "metadata": {},
   "outputs": [],
   "source": [
    "def area_under_curve_per_session(session_ipsi_or_contra):\n",
    "    \n",
    "    list_area_under_curve=[]\n",
    "    df = pd.DataFrame()\n",
    "    data_ipsi_contra_after_choice_lick = session_ipsi_or_contra.loc[200:500,:]\n",
    "    \n",
    "    \n",
    "    for column in session_ipsi_or_contra:\n",
    "        \n",
    "        auc_trial=np.trapz(data_ipsi_contra_after_choice_lick[column])\n",
    "        list_area_under_curve.append(auc_trial)\n",
    "    \n",
    "    df['area_under_curv'] = list_area_under_curve\n",
    "    trial_number = list(session_ipsi_or_contra.keys())\n",
    "    df.index = trial_number\n",
    "\n",
    "    \n",
    "    return df"
   ]
  },
  {
   "cell_type": "code",
   "execution_count": 67,
   "metadata": {
    "scrolled": true
   },
   "outputs": [],
   "source": [
    "r_ls_period_d1_maxSig=extract_signal_per_session(r_ls_period_d1_data_set,area_under_curve_per_session)"
   ]
  },
  {
   "cell_type": "code",
   "execution_count": 69,
   "metadata": {},
   "outputs": [],
   "source": [
    "r_ls_period_d2_maxSig=extract_signal_per_session(r_ls_period_d2_data_set,area_under_curve_per_session)"
   ]
  },
  {
   "cell_type": "code",
   "execution_count": 70,
   "metadata": {},
   "outputs": [],
   "source": [
    "r_wr_period_d1_maxSig=extract_signal_per_session(r_wr_period_d1_data_set,area_under_curve_per_session)"
   ]
  },
  {
   "cell_type": "code",
   "execution_count": 71,
   "metadata": {},
   "outputs": [],
   "source": [
    "r_wr_period_d2_maxSig=extract_signal_per_session(r_wr_period_d2_data_set,area_under_curve_per_session)"
   ]
  },
  {
   "cell_type": "code",
   "execution_count": 72,
   "metadata": {},
   "outputs": [],
   "source": [
    "def combine_resTime_maxSignal(resTime,maxSignal):\n",
    "    \n",
    "    trial_num=list(maxSignal.index) #get the index of the max signal (this is the trial numbers that we\n",
    "    #are intersted in). \n",
    "    \n",
    "    resTime_list = resTime.loc[trial_num] #get the response time of interest as a data frame \n",
    "    \n",
    "    #combine the above:\n",
    "    df_resTime_maxSig = pd.concat([resTime_list,maxSignal],axis=1)\n",
    "\n",
    "    df_resTime_maxSig = df_resTime_maxSig\n",
    "    \n",
    "    return df_resTime_maxSig"
   ]
  },
  {
   "cell_type": "code",
   "execution_count": 73,
   "metadata": {},
   "outputs": [],
   "source": [
    "def get_maxSig_resTime(processed_photo_sessions, processed_beh_sessions,column_header):\n",
    "    df_time_max_signal_ipsi= pd.DataFrame()\n",
    "    df_time_max_signal_contra = pd.DataFrame()   \n",
    "    \n",
    "    for photo,beh in zip(processed_photo_sessions,processed_beh_sessions):\n",
    "        \n",
    "\n",
    "        \n",
    "        df_ipsi = combine_resTime_maxSignal(beh, photo[0])\n",
    "        df_contra = combine_resTime_maxSignal(beh, photo[1])\n",
    "\n",
    "        df_time_max_signal_ipsi = pd.concat([df_time_max_signal_ipsi, df_ipsi])\n",
    "        df_time_max_signal_contra = pd.concat([df_time_max_signal_contra, df_contra])       \n",
    "    \n",
    "    \n",
    "    \n",
    "    df_time_max_signal_ipsi = df_time_max_signal_ipsi.reset_index().drop([\"index\"],axis=1)\n",
    "    df_time_max_signal_contra = df_time_max_signal_contra.reset_index().drop([\"index\"],axis=1)\n",
    "    \n",
    "    \n",
    "    #make second header: \n",
    "    df_time_max_signal_ipsi.columns = [[(column_header+\"_ipsi\"),(column_header+\"_ipsi\")], df_time_max_signal_ipsi.columns]\n",
    "    df_time_max_signal_contra.columns = [[(column_header+\"_contra\"),(column_header+\"_contra\")], df_time_max_signal_contra.columns]\n",
    "\n",
    "\n",
    "    \n",
    "    \n",
    "    return(df_time_max_signal_ipsi,df_time_max_signal_contra)        "
   ]
  },
  {
   "cell_type": "code",
   "execution_count": 74,
   "metadata": {},
   "outputs": [],
   "source": [
    "r_ls_period_d1_resTime_maxSig=get_maxSig_resTime(r_ls_period_d1_maxSig, data_trial_sessions_rt,\"r_ls_d1\")"
   ]
  },
  {
   "cell_type": "code",
   "execution_count": 75,
   "metadata": {},
   "outputs": [],
   "source": [
    "r_ls_period_d2_resTime_maxSig=get_maxSig_resTime(r_ls_period_d2_maxSig,data_trial_sessions_rt,\"r_ls_d2\")"
   ]
  },
  {
   "cell_type": "code",
   "execution_count": 76,
   "metadata": {},
   "outputs": [],
   "source": [
    "r_wr_period_d1_resTime_maxSig=get_maxSig_resTime(r_wr_period_d1_maxSig,data_trial_sessions_rt,\"r_wr_d1\")"
   ]
  },
  {
   "cell_type": "code",
   "execution_count": 77,
   "metadata": {},
   "outputs": [],
   "source": [
    "r_wr_period_d2_resTime_maxSig=get_maxSig_resTime(r_wr_period_d2_maxSig,data_trial_sessions_rt,\"r_wr_d2\")"
   ]
  },
  {
   "cell_type": "code",
   "execution_count": 78,
   "metadata": {},
   "outputs": [],
   "source": [
    "result = pd.concat([r_ls_period_d1_resTime_maxSig[0],r_ls_period_d1_resTime_maxSig[1],\n",
    "                    r_ls_period_d2_resTime_maxSig[0],r_ls_period_d2_resTime_maxSig[1],\n",
    "                    r_wr_period_d1_resTime_maxSig[0],r_wr_period_d1_resTime_maxSig[1],\n",
    "                    r_wr_period_d2_resTime_maxSig[0],r_wr_period_d2_resTime_maxSig[1]],axis=1)"
   ]
  },
  {
   "cell_type": "code",
   "execution_count": 79,
   "metadata": {},
   "outputs": [
    {
     "data": {
      "text/html": [
       "<div>\n",
       "<style scoped>\n",
       "    .dataframe tbody tr th:only-of-type {\n",
       "        vertical-align: middle;\n",
       "    }\n",
       "\n",
       "    .dataframe tbody tr th {\n",
       "        vertical-align: top;\n",
       "    }\n",
       "\n",
       "    .dataframe thead tr th {\n",
       "        text-align: left;\n",
       "    }\n",
       "</style>\n",
       "<table border=\"1\" class=\"dataframe\">\n",
       "  <thead>\n",
       "    <tr>\n",
       "      <th></th>\n",
       "      <th colspan=\"2\" halign=\"left\">r_ls_d1_ipsi</th>\n",
       "      <th colspan=\"2\" halign=\"left\">r_ls_d1_contra</th>\n",
       "      <th colspan=\"2\" halign=\"left\">r_ls_d2_ipsi</th>\n",
       "      <th colspan=\"2\" halign=\"left\">r_ls_d2_contra</th>\n",
       "      <th colspan=\"2\" halign=\"left\">r_wr_d1_ipsi</th>\n",
       "      <th colspan=\"2\" halign=\"left\">r_wr_d1_contra</th>\n",
       "      <th colspan=\"2\" halign=\"left\">r_wr_d2_ipsi</th>\n",
       "      <th colspan=\"2\" halign=\"left\">r_wr_d2_contra</th>\n",
       "    </tr>\n",
       "    <tr>\n",
       "      <th></th>\n",
       "      <th>tSelection</th>\n",
       "      <th>area_under_curv</th>\n",
       "      <th>tSelection</th>\n",
       "      <th>area_under_curv</th>\n",
       "      <th>tSelection</th>\n",
       "      <th>area_under_curv</th>\n",
       "      <th>tSelection</th>\n",
       "      <th>area_under_curv</th>\n",
       "      <th>tSelection</th>\n",
       "      <th>area_under_curv</th>\n",
       "      <th>tSelection</th>\n",
       "      <th>area_under_curv</th>\n",
       "      <th>tSelection</th>\n",
       "      <th>area_under_curv</th>\n",
       "      <th>tSelection</th>\n",
       "      <th>area_under_curv</th>\n",
       "    </tr>\n",
       "  </thead>\n",
       "  <tbody>\n",
       "    <tr>\n",
       "      <th>0</th>\n",
       "      <td>85.0</td>\n",
       "      <td>38.201940</td>\n",
       "      <td>415.0</td>\n",
       "      <td>127.914408</td>\n",
       "      <td>85.0</td>\n",
       "      <td>113.261540</td>\n",
       "      <td>415.0</td>\n",
       "      <td>-201.615984</td>\n",
       "      <td>180</td>\n",
       "      <td>361.694835</td>\n",
       "      <td>80.0</td>\n",
       "      <td>183.539990</td>\n",
       "      <td>180</td>\n",
       "      <td>325.840133</td>\n",
       "      <td>80.0</td>\n",
       "      <td>429.199464</td>\n",
       "    </tr>\n",
       "    <tr>\n",
       "      <th>1</th>\n",
       "      <td>90.0</td>\n",
       "      <td>216.301280</td>\n",
       "      <td>235.0</td>\n",
       "      <td>245.852677</td>\n",
       "      <td>90.0</td>\n",
       "      <td>387.480851</td>\n",
       "      <td>235.0</td>\n",
       "      <td>56.716378</td>\n",
       "      <td>70</td>\n",
       "      <td>215.410659</td>\n",
       "      <td>215.0</td>\n",
       "      <td>237.014782</td>\n",
       "      <td>70</td>\n",
       "      <td>216.771767</td>\n",
       "      <td>215.0</td>\n",
       "      <td>613.551841</td>\n",
       "    </tr>\n",
       "    <tr>\n",
       "      <th>2</th>\n",
       "      <td>50.0</td>\n",
       "      <td>201.489504</td>\n",
       "      <td>65.0</td>\n",
       "      <td>79.455968</td>\n",
       "      <td>50.0</td>\n",
       "      <td>321.062216</td>\n",
       "      <td>65.0</td>\n",
       "      <td>194.554401</td>\n",
       "      <td>185</td>\n",
       "      <td>108.923088</td>\n",
       "      <td>55.0</td>\n",
       "      <td>57.416272</td>\n",
       "      <td>185</td>\n",
       "      <td>132.885666</td>\n",
       "      <td>55.0</td>\n",
       "      <td>424.864387</td>\n",
       "    </tr>\n",
       "    <tr>\n",
       "      <th>3</th>\n",
       "      <td>50.0</td>\n",
       "      <td>254.966780</td>\n",
       "      <td>200.0</td>\n",
       "      <td>186.322464</td>\n",
       "      <td>50.0</td>\n",
       "      <td>239.940068</td>\n",
       "      <td>200.0</td>\n",
       "      <td>-58.165379</td>\n",
       "      <td>230</td>\n",
       "      <td>300.902900</td>\n",
       "      <td>210.0</td>\n",
       "      <td>161.788743</td>\n",
       "      <td>230</td>\n",
       "      <td>390.307669</td>\n",
       "      <td>210.0</td>\n",
       "      <td>395.304182</td>\n",
       "    </tr>\n",
       "    <tr>\n",
       "      <th>4</th>\n",
       "      <td>175.0</td>\n",
       "      <td>39.175651</td>\n",
       "      <td>75.0</td>\n",
       "      <td>-71.206372</td>\n",
       "      <td>175.0</td>\n",
       "      <td>172.193137</td>\n",
       "      <td>75.0</td>\n",
       "      <td>13.488871</td>\n",
       "      <td>185</td>\n",
       "      <td>259.613763</td>\n",
       "      <td>85.0</td>\n",
       "      <td>143.983054</td>\n",
       "      <td>185</td>\n",
       "      <td>410.716821</td>\n",
       "      <td>85.0</td>\n",
       "      <td>503.158808</td>\n",
       "    </tr>\n",
       "  </tbody>\n",
       "</table>\n",
       "</div>"
      ],
      "text/plain": [
       "  r_ls_d1_ipsi                 r_ls_d1_contra                 r_ls_d2_ipsi  \\\n",
       "    tSelection area_under_curv     tSelection area_under_curv   tSelection   \n",
       "0         85.0       38.201940          415.0      127.914408         85.0   \n",
       "1         90.0      216.301280          235.0      245.852677         90.0   \n",
       "2         50.0      201.489504           65.0       79.455968         50.0   \n",
       "3         50.0      254.966780          200.0      186.322464         50.0   \n",
       "4        175.0       39.175651           75.0      -71.206372        175.0   \n",
       "\n",
       "                  r_ls_d2_contra                 r_wr_d1_ipsi                  \\\n",
       "  area_under_curv     tSelection area_under_curv   tSelection area_under_curv   \n",
       "0      113.261540          415.0     -201.615984          180      361.694835   \n",
       "1      387.480851          235.0       56.716378           70      215.410659   \n",
       "2      321.062216           65.0      194.554401          185      108.923088   \n",
       "3      239.940068          200.0      -58.165379          230      300.902900   \n",
       "4      172.193137           75.0       13.488871          185      259.613763   \n",
       "\n",
       "  r_wr_d1_contra                 r_wr_d2_ipsi                 r_wr_d2_contra  \\\n",
       "      tSelection area_under_curv   tSelection area_under_curv     tSelection   \n",
       "0           80.0      183.539990          180      325.840133           80.0   \n",
       "1          215.0      237.014782           70      216.771767          215.0   \n",
       "2           55.0       57.416272          185      132.885666           55.0   \n",
       "3          210.0      161.788743          230      390.307669          210.0   \n",
       "4           85.0      143.983054          185      410.716821           85.0   \n",
       "\n",
       "                   \n",
       "  area_under_curv  \n",
       "0      429.199464  \n",
       "1      613.551841  \n",
       "2      424.864387  \n",
       "3      395.304182  \n",
       "4      503.158808  "
      ]
     },
     "execution_count": 79,
     "metadata": {},
     "output_type": "execute_result"
    }
   ],
   "source": [
    "result.head(5)"
   ]
  },
  {
   "cell_type": "code",
   "execution_count": 80,
   "metadata": {},
   "outputs": [],
   "source": [
    "result.to_csv(cache_dir_plt+\"/data_set_correlations_rt_vs_AUC_right_side.csv\")"
   ]
  },
  {
   "cell_type": "code",
   "execution_count": null,
   "metadata": {},
   "outputs": [],
   "source": []
  }
 ],
 "metadata": {
  "celltoolbar": "Tags",
  "kernelspec": {
   "display_name": "Python 3",
   "language": "python",
   "name": "python3"
  },
  "language_info": {
   "codemirror_mode": {
    "name": "ipython",
    "version": 3
   },
   "file_extension": ".py",
   "mimetype": "text/x-python",
   "name": "python",
   "nbconvert_exporter": "python",
   "pygments_lexer": "ipython3",
   "version": "3.7.3"
  }
 },
 "nbformat": 4,
 "nbformat_minor": 4
}
