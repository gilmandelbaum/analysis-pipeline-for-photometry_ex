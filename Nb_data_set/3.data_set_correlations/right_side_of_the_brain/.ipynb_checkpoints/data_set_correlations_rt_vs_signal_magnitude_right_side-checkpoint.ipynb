{
 "cells": [
  {
   "cell_type": "code",
   "execution_count": null,
   "metadata": {},
   "outputs": [],
   "source": [
    "import pickle\n",
    "from pathlib import Path\n",
    "import pandas as pd \n",
    "import os\n",
    "import sys\n",
    "import numpy as np\n",
    "import getpass\n",
    "import matplotlib.pyplot as plt"
   ]
  },
  {
   "cell_type": "code",
   "execution_count": null,
   "metadata": {},
   "outputs": [],
   "source": [
    "#add the github path that will run the notebooks: \n",
    "username = getpass.getuser() # gets the username from the current comp \n",
    "print (username)"
   ]
  },
  {
   "cell_type": "code",
   "execution_count": null,
   "metadata": {},
   "outputs": [],
   "source": [
    "sys.path.insert(0,'/Users/{:}/github/analysis-pipeline-for-photometry_ex/Nb_data_set/3.data_set_correlations'.format(username))"
   ]
  },
  {
   "cell_type": "code",
   "execution_count": null,
   "metadata": {},
   "outputs": [],
   "source": [
    "sys.path[0]"
   ]
  },
  {
   "cell_type": "code",
   "execution_count": null,
   "metadata": {},
   "outputs": [],
   "source": [
    "#import data_set_correlations_helper_functions as dschf"
   ]
  },
  {
   "cell_type": "markdown",
   "metadata": {},
   "source": [
    "# Change based on analysis: "
   ]
  },
  {
   "cell_type": "code",
   "execution_count": null,
   "metadata": {},
   "outputs": [],
   "source": [
    "seq_str = '0a1b2a3b4abcd5a6a7a'\n",
    "period_of_interest = \"combined_periods_1\""
   ]
  },
  {
   "cell_type": "code",
   "execution_count": 1,
   "metadata": {},
   "outputs": [],
   "source": [
    "HowManyBack=1\n",
    "folderName=\"right_dual_color_photo_full_data_set_after_inspection\" #folder where the plot data_set will be saved \n",
    "path = \"/Volumes/GilInVivoPaper.large/2.Photometry_in_str/2.dual_color_photo_full_data_set_analysis_3/\""
   ]
  },
  {
   "cell_type": "markdown",
   "metadata": {},
   "source": [
    "# Folder name of analysis: "
   ]
  },
  {
   "cell_type": "code",
   "execution_count": null,
   "metadata": {},
   "outputs": [],
   "source": [
    "analysis_type =\"data_set_correlations\""
   ]
  },
  {
   "cell_type": "code",
   "execution_count": null,
   "metadata": {},
   "outputs": [],
   "source": [
    "sys.executable"
   ]
  },
  {
   "cell_type": "markdown",
   "metadata": {},
   "source": [
    "# Import the data and where to save it "
   ]
  },
  {
   "cell_type": "code",
   "execution_count": null,
   "metadata": {},
   "outputs": [],
   "source": [
    "path_to_save = path+\"/\"+folderName+\"/\"+seq_str #also for loading"
   ]
  },
  {
   "cell_type": "code",
   "execution_count": null,
   "metadata": {},
   "outputs": [],
   "source": [
    "path_to_save"
   ]
  },
  {
   "cell_type": "code",
   "execution_count": null,
   "metadata": {},
   "outputs": [],
   "source": [
    "# stash result in a cache directory, for how many back. \n",
    "cache_dir_plt = os.path.join(path_to_save,analysis_type,period_of_interest)"
   ]
  },
  {
   "cell_type": "code",
   "execution_count": null,
   "metadata": {},
   "outputs": [],
   "source": [
    "# stash result in a cache directory, for how many back. \n",
    "cache_dir_plt = os.path.join(path_to_save,analysis_type,period_of_interest)\n",
    "if not os.path.exists(cache_dir_plt):\n",
    "    os.makedirs(cache_dir_plt)"
   ]
  },
  {
   "cell_type": "markdown",
   "metadata": {},
   "source": [
    "# Import data_trial"
   ]
  },
  {
   "cell_type": "code",
   "execution_count": null,
   "metadata": {},
   "outputs": [],
   "source": [
    "%%time\n",
    "root = Path(path_to_save)\n",
    "d = \"data_object_data_trial\"+\"_\"+seq_str+'.pickle'\n",
    "my_path = root / d \n",
    "fileToOpen = open(my_path, 'rb')\n",
    "data_trial_sessions = pickle.load(fileToOpen)"
   ]
  },
  {
   "cell_type": "markdown",
   "metadata": {},
   "source": [
    "# Extract selection time "
   ]
  },
  {
   "cell_type": "code",
   "execution_count": null,
   "metadata": {},
   "outputs": [],
   "source": [
    "def extract_behaviorFeature_perSession(data_trial_sessions,behavior_measure):\n",
    "    behavior_measure_list=[]\n",
    "    for data_trial in data_trial_sessions:\n",
    "        behavior_measure_list.append(pd.DataFrame(data_trial[behavior_measure]))\n",
    "    return behavior_measure_list"
   ]
  },
  {
   "cell_type": "code",
   "execution_count": null,
   "metadata": {},
   "outputs": [],
   "source": [
    "data_trial_sessions_rt=extract_behaviorFeature_perSession(data_trial_sessions,'tSelection')"
   ]
  },
  {
   "cell_type": "markdown",
   "metadata": {},
   "source": [
    "# Import data_photometry"
   ]
  },
  {
   "cell_type": "code",
   "execution_count": null,
   "metadata": {},
   "outputs": [],
   "source": [
    "%%time\n",
    "root = Path(path_to_save)\n",
    "d = \"data_object_photometry\"+\"_\"+seq_str+'.pickle'\n",
    "my_path = root / d \n",
    "fileToOpen = open(my_path, 'rb')\n",
    "data_set = pickle.load(fileToOpen)"
   ]
  },
  {
   "cell_type": "markdown",
   "metadata": {},
   "source": [
    "# generate data sets of interest"
   ]
  },
  {
   "cell_type": "code",
   "execution_count": null,
   "metadata": {},
   "outputs": [],
   "source": [
    "def extract_data_of_interest_ipsi_contra_per_session_helper (PhotoData_perTrial_channels,rl,tt,period,cell_type):\n",
    "    ipsi_next = PhotoData_perTrial_channels[rl][0][tt][period][cell_type]\n",
    "    contra_next = PhotoData_perTrial_channels[rl][1][tt][period][cell_type]\n",
    "    return (ipsi_next,contra_next)\n",
    "    \n",
    "\n",
    "\n",
    "def extract_data_of_interest_ipsi_contra_data_set (PhotoData_perTrial_channels_data_set,\n",
    "                                                   rl,tt,period,cell_type): \n",
    "    \n",
    "    ipsi_contra_data_set = []\n",
    "    \n",
    "    for PhotoData_perTrial_channels in PhotoData_perTrial_channels_data_set:\n",
    "        ipsi_contra = extract_data_of_interest_ipsi_contra_per_session_helper (PhotoData_perTrial_channels,rl,tt,period,cell_type)\n",
    "        ipsi_contra_data_set.append(ipsi_contra)\n",
    "        \n",
    "    return (ipsi_contra_data_set)"
   ]
  },
  {
   "cell_type": "code",
   "execution_count": null,
   "metadata": {},
   "outputs": [],
   "source": [
    "r_ls_period_d1_data_set= extract_data_of_interest_ipsi_contra_data_set(data_set,\n",
    "                                                                           0,0,\n",
    "                                                                           period_of_interest,\"d1 R\")"
   ]
  },
  {
   "cell_type": "code",
   "execution_count": null,
   "metadata": {},
   "outputs": [],
   "source": [
    "r_ls_period_d2_data_set= extract_data_of_interest_ipsi_contra_data_set(data_set,\n",
    "                                                                           0,0,\n",
    "                                                                           period_of_interest,\"d2 R\")"
   ]
  },
  {
   "cell_type": "code",
   "execution_count": null,
   "metadata": {},
   "outputs": [],
   "source": [
    "r_wr_period_d1_data_set= extract_data_of_interest_ipsi_contra_data_set(data_set,\n",
    "                                                                           0,3,\n",
    "                                                                           period_of_interest,\"d1 R\")"
   ]
  },
  {
   "cell_type": "code",
   "execution_count": null,
   "metadata": {},
   "outputs": [],
   "source": [
    "r_wr_period_d2_data_set= extract_data_of_interest_ipsi_contra_data_set(data_set,\n",
    "                                                                           0,3,\n",
    "                                                                           period_of_interest,\"d2 R\")"
   ]
  },
  {
   "cell_type": "code",
   "execution_count": null,
   "metadata": {},
   "outputs": [],
   "source": [
    "def extract_signal_per_session (data_state_sessions):\n",
    "    maxSig_sessions=[]\n",
    "    \n",
    "    for session in data_state_sessions:\n",
    "        max_ipsi_next = extract_mean_max_signal(session[0])\n",
    "        max_contra_next = extract_mean_max_signal(session[1])\n",
    "        \n",
    "        maxSig_sessions.append((max_ipsi_next,max_contra_next))\n",
    "\n",
    "    return maxSig_sessions"
   ]
  },
  {
   "cell_type": "code",
   "execution_count": null,
   "metadata": {},
   "outputs": [],
   "source": [
    "def extract_mean_max_signal(session_ipsi_or_contra):\n",
    "    \n",
    "    list_max_value=[]\n",
    "    list_dfs = pd.DataFrame()\n",
    "    \n",
    "    idx_max_signal_list = list(session_ipsi_or_contra.loc[200:500,:].idxmax())\n",
    "    \n",
    "    for c,i in enumerate (idx_max_signal_list): #c is the count, i is the index of max value in each session avg \n",
    "        max_signal_per_trial = session_ipsi_or_contra.iloc[(i-10):(i+11),c].mean()\n",
    "        list_max_value.append(max_signal_per_trial)\n",
    "        \n",
    "    list_dfs['max_signal'] = list_max_value\n",
    "    \n",
    "    trial_number = list(session_ipsi_or_contra.keys())\n",
    "    list_dfs.index = trial_number\n",
    "    \n",
    "    return list_dfs"
   ]
  },
  {
   "cell_type": "code",
   "execution_count": null,
   "metadata": {
    "scrolled": true
   },
   "outputs": [],
   "source": [
    "r_ls_period_d1_maxSig=extract_signal_per_session(r_ls_period_d1_data_set)"
   ]
  },
  {
   "cell_type": "code",
   "execution_count": null,
   "metadata": {},
   "outputs": [],
   "source": [
    "r_ls_period_d2_maxSig=extract_signal_per_session(r_ls_period_d2_data_set)"
   ]
  },
  {
   "cell_type": "code",
   "execution_count": null,
   "metadata": {},
   "outputs": [],
   "source": [
    "r_wr_period_d1_maxSig=extract_signal_per_session(r_wr_period_d1_data_set)"
   ]
  },
  {
   "cell_type": "code",
   "execution_count": null,
   "metadata": {},
   "outputs": [],
   "source": [
    "r_wr_period_d2_maxSig=extract_signal_per_session(r_wr_period_d2_data_set)"
   ]
  },
  {
   "cell_type": "code",
   "execution_count": null,
   "metadata": {},
   "outputs": [],
   "source": [
    "def combine_resTime_maxSignal(resTime,maxSignal):\n",
    "    \n",
    "    trial_num=list(maxSignal.index) #get the index of the max signal (this is the trial numbers that we\n",
    "    #are intersted in). \n",
    "    \n",
    "    resTime_list = resTime.loc[trial_num] #get the response time of interest as a data frame \n",
    "    \n",
    "    #combine the above:\n",
    "    df_resTime_maxSig = pd.concat([resTime_list,maxSignal],axis=1)\n",
    "\n",
    "    df_resTime_maxSig = df_resTime_maxSig\n",
    "    \n",
    "    return df_resTime_maxSig"
   ]
  },
  {
   "cell_type": "code",
   "execution_count": null,
   "metadata": {},
   "outputs": [],
   "source": [
    "def get_maxSig_resTime(processed_photo_sessions, processed_beh_sessions,column_header):\n",
    "    df_time_max_signal_ipsi= pd.DataFrame()\n",
    "    df_time_max_signal_contra = pd.DataFrame()   \n",
    "    \n",
    "    for photo,beh in zip(processed_photo_sessions,processed_beh_sessions):\n",
    "        \n",
    "        \n",
    "        df_ipsi = combine_resTime_maxSignal(beh, photo[0])\n",
    "        df_contra = combine_resTime_maxSignal(beh, photo[1])\n",
    "\n",
    "        df_time_max_signal_ipsi = pd.concat([df_time_max_signal_ipsi, df_ipsi])\n",
    "        df_time_max_signal_contra = pd.concat([df_time_max_signal_contra, df_contra])       \n",
    "    \n",
    "    \n",
    "    \n",
    "    df_time_max_signal_ipsi = df_time_max_signal_ipsi.reset_index().drop([\"index\"],axis=1)\n",
    "    df_time_max_signal_contra = df_time_max_signal_contra.reset_index().drop([\"index\"],axis=1)\n",
    "    \n",
    "    \n",
    "    #make second header: \n",
    "    df_time_max_signal_ipsi.columns = [[(column_header+\"_ipsi\"),(column_header+\"_ipsi\")], df_time_max_signal_ipsi.columns]\n",
    "    df_time_max_signal_contra.columns = [[(column_header+\"_contra\"),(column_header+\"_contra\")], df_time_max_signal_contra.columns]\n",
    "\n",
    "\n",
    "    \n",
    "    \n",
    "    return(df_time_max_signal_ipsi,df_time_max_signal_contra)        "
   ]
  },
  {
   "cell_type": "code",
   "execution_count": null,
   "metadata": {},
   "outputs": [],
   "source": [
    "r_ls_period_d1_resTime_maxSig=get_maxSig_resTime(r_ls_period_d1_maxSig, data_trial_sessions_rt,\"r_ls_d1\")"
   ]
  },
  {
   "cell_type": "code",
   "execution_count": null,
   "metadata": {},
   "outputs": [],
   "source": [
    "r_ls_period_d2_resTime_maxSig=get_maxSig_resTime(r_ls_period_d2_maxSig,data_trial_sessions_rt,\"r_ls_d2\")"
   ]
  },
  {
   "cell_type": "code",
   "execution_count": null,
   "metadata": {},
   "outputs": [],
   "source": [
    "r_wr_period_d1_resTime_maxSig=get_maxSig_resTime(r_wr_period_d1_maxSig,data_trial_sessions_rt,\"r_wr_d1\")"
   ]
  },
  {
   "cell_type": "code",
   "execution_count": null,
   "metadata": {},
   "outputs": [],
   "source": [
    "r_wr_period_d2_resTime_maxSig=get_maxSig_resTime(r_wr_period_d2_maxSig,data_trial_sessions_rt,\"r_wr_d2\")"
   ]
  },
  {
   "cell_type": "code",
   "execution_count": null,
   "metadata": {},
   "outputs": [],
   "source": [
    "result = pd.concat([r_ls_period_d1_resTime_maxSig[0],r_ls_period_d1_resTime_maxSig[1],\n",
    "                    r_ls_period_d2_resTime_maxSig[0],r_ls_period_d2_resTime_maxSig[1],\n",
    "                    r_wr_period_d1_resTime_maxSig[0],r_wr_period_d1_resTime_maxSig[1],\n",
    "                    r_wr_period_d2_resTime_maxSig[0],r_wr_period_d2_resTime_maxSig[1]],axis=1)"
   ]
  },
  {
   "cell_type": "code",
   "execution_count": null,
   "metadata": {},
   "outputs": [],
   "source": [
    "result.head(5)"
   ]
  },
  {
   "cell_type": "code",
   "execution_count": null,
   "metadata": {},
   "outputs": [],
   "source": [
    "result.to_csv(cache_dir_plt+\"/rt_vs_signal_magnitude_right_side.csv\")"
   ]
  },
  {
   "cell_type": "code",
   "execution_count": null,
   "metadata": {},
   "outputs": [],
   "source": []
  }
 ],
 "metadata": {
  "celltoolbar": "Tags",
  "kernelspec": {
   "display_name": "Python 3",
   "language": "python",
   "name": "python3"
  },
  "language_info": {
   "codemirror_mode": {
    "name": "ipython",
    "version": 3
   },
   "file_extension": ".py",
   "mimetype": "text/x-python",
   "name": "python",
   "nbconvert_exporter": "python",
   "pygments_lexer": "ipython3",
   "version": "3.7.3"
  }
 },
 "nbformat": 4,
 "nbformat_minor": 4
}
