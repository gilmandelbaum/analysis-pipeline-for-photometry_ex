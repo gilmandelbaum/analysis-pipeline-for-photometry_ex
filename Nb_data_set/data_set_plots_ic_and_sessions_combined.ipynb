{
 "cells": [
  {
   "cell_type": "code",
   "execution_count": 1,
   "metadata": {},
   "outputs": [],
   "source": [
    "import pickle\n",
    "from pathlib import Path\n",
    "import pandas as pd \n",
    "import os\n",
    "import sys\n",
    "import matplotlib.pyplot as plt"
   ]
  },
  {
   "cell_type": "code",
   "execution_count": 2,
   "metadata": {},
   "outputs": [],
   "source": [
    "import data_set_analysis_helper_functions as ahf"
   ]
  },
  {
   "cell_type": "code",
   "execution_count": 3,
   "metadata": {},
   "outputs": [
    {
     "data": {
      "text/plain": [
       "'/anaconda3/bin/python3'"
      ]
     },
     "execution_count": 3,
     "metadata": {},
     "output_type": "execute_result"
    }
   ],
   "source": [
    "sys.executable"
   ]
  },
  {
   "cell_type": "markdown",
   "metadata": {},
   "source": [
    "# Update depending on analysis: "
   ]
  },
  {
   "cell_type": "code",
   "execution_count": 4,
   "metadata": {},
   "outputs": [],
   "source": [
    "seq_str = '0a1b2a3c4abcde5a6a7b'\n",
    "HowManyBack=1"
   ]
  },
  {
   "cell_type": "code",
   "execution_count": 5,
   "metadata": {},
   "outputs": [],
   "source": [
    "y_axis_list = [\"df_f\",\"z_score\",\"z_score_sliding_window\"]"
   ]
  },
  {
   "cell_type": "code",
   "execution_count": 6,
   "metadata": {},
   "outputs": [
    {
     "name": "stdout",
     "output_type": "stream",
     "text": [
      "z_score_sliding_window\n"
     ]
    }
   ],
   "source": [
    "alphabet = [\"a\",\"b\",\"c\",\"d\",\"e\",\"f\",\"g\"]\n",
    "y_axis = y_axis_list[alphabet.index(seq_str[:seq_str.index('4')][-1])]\n",
    "print (y_axis)"
   ]
  },
  {
   "cell_type": "markdown",
   "metadata": {},
   "source": [
    "# Import the data and where to save it "
   ]
  },
  {
   "cell_type": "code",
   "execution_count": 7,
   "metadata": {},
   "outputs": [],
   "source": [
    "#equivalent to data_dir_output \n",
    "data_to_be_plotted = \"/Volumes/GilInVivoPaper.large/2.Photometry_in_str/2.raw_data_final_output_new_version/\"\n",
    "path_to_save = \"/Volumes/GilInVivoPaper.large/2.Photometry_in_str/2.raw_data_final_output_new_version/\""
   ]
  },
  {
   "cell_type": "code",
   "execution_count": 8,
   "metadata": {},
   "outputs": [],
   "source": [
    "folderName=\"testing\" #folder where the plot data_set will be saved "
   ]
  },
  {
   "cell_type": "markdown",
   "metadata": {},
   "source": [
    "# Name of sheet with all the data: "
   ]
  },
  {
   "cell_type": "code",
   "execution_count": 9,
   "metadata": {},
   "outputs": [],
   "source": [
    "#name of xlsx file that has the sessions we want to run: \n",
    "MasterSheetName= 'dual_color_photo_master_spread_sheet'"
   ]
  },
  {
   "cell_type": "markdown",
   "metadata": {},
   "source": [
    "# import the sheet"
   ]
  },
  {
   "cell_type": "code",
   "execution_count": 10,
   "metadata": {},
   "outputs": [],
   "source": [
    "Mouse_Date_FileName = pd.read_excel(data_to_be_plotted+'/'+MasterSheetName+'.xlsx') #mdf is mouse data file "
   ]
  },
  {
   "cell_type": "code",
   "execution_count": 11,
   "metadata": {
    "scrolled": true
   },
   "outputs": [
    {
     "data": {
      "text/html": [
       "<div>\n",
       "<style scoped>\n",
       "    .dataframe tbody tr th:only-of-type {\n",
       "        vertical-align: middle;\n",
       "    }\n",
       "\n",
       "    .dataframe tbody tr th {\n",
       "        vertical-align: top;\n",
       "    }\n",
       "\n",
       "    .dataframe thead th {\n",
       "        text-align: right;\n",
       "    }\n",
       "</style>\n",
       "<table border=\"1\" class=\"dataframe\">\n",
       "  <thead>\n",
       "    <tr style=\"text-align: right;\">\n",
       "      <th></th>\n",
       "      <th>Mouse</th>\n",
       "      <th>Date</th>\n",
       "      <th>File name</th>\n",
       "    </tr>\n",
       "  </thead>\n",
       "  <tbody>\n",
       "    <tr>\n",
       "      <th>0</th>\n",
       "      <td>T163</td>\n",
       "      <td>181128</td>\n",
       "      <td>T163-115220</td>\n",
       "    </tr>\n",
       "    <tr>\n",
       "      <th>1</th>\n",
       "      <td>T163</td>\n",
       "      <td>181130</td>\n",
       "      <td>T163-133215</td>\n",
       "    </tr>\n",
       "    <tr>\n",
       "      <th>2</th>\n",
       "      <td>T163</td>\n",
       "      <td>181203</td>\n",
       "      <td>T163-115901</td>\n",
       "    </tr>\n",
       "    <tr>\n",
       "      <th>3</th>\n",
       "      <td>T163</td>\n",
       "      <td>181204</td>\n",
       "      <td>T163-114628</td>\n",
       "    </tr>\n",
       "    <tr>\n",
       "      <th>4</th>\n",
       "      <td>T163</td>\n",
       "      <td>181206</td>\n",
       "      <td>T163-112720</td>\n",
       "    </tr>\n",
       "    <tr>\n",
       "      <th>5</th>\n",
       "      <td>T163</td>\n",
       "      <td>181207</td>\n",
       "      <td>T163-123432</td>\n",
       "    </tr>\n",
       "    <tr>\n",
       "      <th>6</th>\n",
       "      <td>T163</td>\n",
       "      <td>181210</td>\n",
       "      <td>T163-102536</td>\n",
       "    </tr>\n",
       "    <tr>\n",
       "      <th>7</th>\n",
       "      <td>T163</td>\n",
       "      <td>181213</td>\n",
       "      <td>T163-094646</td>\n",
       "    </tr>\n",
       "    <tr>\n",
       "      <th>8</th>\n",
       "      <td>T164</td>\n",
       "      <td>181127</td>\n",
       "      <td>T164-153101</td>\n",
       "    </tr>\n",
       "    <tr>\n",
       "      <th>9</th>\n",
       "      <td>T164</td>\n",
       "      <td>181128</td>\n",
       "      <td>T164-122054</td>\n",
       "    </tr>\n",
       "    <tr>\n",
       "      <th>10</th>\n",
       "      <td>T164</td>\n",
       "      <td>181204</td>\n",
       "      <td>T164-121548</td>\n",
       "    </tr>\n",
       "    <tr>\n",
       "      <th>11</th>\n",
       "      <td>T164</td>\n",
       "      <td>181205</td>\n",
       "      <td>T164-123550</td>\n",
       "    </tr>\n",
       "    <tr>\n",
       "      <th>12</th>\n",
       "      <td>T164</td>\n",
       "      <td>181210</td>\n",
       "      <td>T164-105324</td>\n",
       "    </tr>\n",
       "    <tr>\n",
       "      <th>13</th>\n",
       "      <td>T164</td>\n",
       "      <td>181213</td>\n",
       "      <td>T164-101804</td>\n",
       "    </tr>\n",
       "    <tr>\n",
       "      <th>14</th>\n",
       "      <td>T169</td>\n",
       "      <td>190201</td>\n",
       "      <td>T169-141602</td>\n",
       "    </tr>\n",
       "    <tr>\n",
       "      <th>15</th>\n",
       "      <td>T169</td>\n",
       "      <td>190212</td>\n",
       "      <td>T169-145045</td>\n",
       "    </tr>\n",
       "    <tr>\n",
       "      <th>16</th>\n",
       "      <td>T169</td>\n",
       "      <td>190213</td>\n",
       "      <td>T169-141800</td>\n",
       "    </tr>\n",
       "    <tr>\n",
       "      <th>17</th>\n",
       "      <td>T169</td>\n",
       "      <td>190219</td>\n",
       "      <td>T169-140515</td>\n",
       "    </tr>\n",
       "    <tr>\n",
       "      <th>18</th>\n",
       "      <td>T169</td>\n",
       "      <td>190220</td>\n",
       "      <td>T169-141850</td>\n",
       "    </tr>\n",
       "    <tr>\n",
       "      <th>19</th>\n",
       "      <td>T169</td>\n",
       "      <td>190222</td>\n",
       "      <td>T169-134725</td>\n",
       "    </tr>\n",
       "    <tr>\n",
       "      <th>20</th>\n",
       "      <td>T169</td>\n",
       "      <td>190225</td>\n",
       "      <td>T169-145248</td>\n",
       "    </tr>\n",
       "    <tr>\n",
       "      <th>21</th>\n",
       "      <td>T169</td>\n",
       "      <td>190227</td>\n",
       "      <td>T169-155731</td>\n",
       "    </tr>\n",
       "    <tr>\n",
       "      <th>22</th>\n",
       "      <td>T169</td>\n",
       "      <td>190228</td>\n",
       "      <td>T169-142051</td>\n",
       "    </tr>\n",
       "    <tr>\n",
       "      <th>23</th>\n",
       "      <td>T171</td>\n",
       "      <td>190122</td>\n",
       "      <td>T171-165215</td>\n",
       "    </tr>\n",
       "    <tr>\n",
       "      <th>24</th>\n",
       "      <td>T171</td>\n",
       "      <td>190128</td>\n",
       "      <td>T171-144901</td>\n",
       "    </tr>\n",
       "    <tr>\n",
       "      <th>25</th>\n",
       "      <td>T171</td>\n",
       "      <td>190130</td>\n",
       "      <td>T171-145252</td>\n",
       "    </tr>\n",
       "    <tr>\n",
       "      <th>26</th>\n",
       "      <td>T171</td>\n",
       "      <td>190211</td>\n",
       "      <td>T171-143016</td>\n",
       "    </tr>\n",
       "    <tr>\n",
       "      <th>27</th>\n",
       "      <td>T171</td>\n",
       "      <td>190220</td>\n",
       "      <td>T171-153511</td>\n",
       "    </tr>\n",
       "    <tr>\n",
       "      <th>28</th>\n",
       "      <td>T171</td>\n",
       "      <td>190221</td>\n",
       "      <td>T171-152107</td>\n",
       "    </tr>\n",
       "    <tr>\n",
       "      <th>29</th>\n",
       "      <td>T171</td>\n",
       "      <td>190225</td>\n",
       "      <td>T171-152054</td>\n",
       "    </tr>\n",
       "    <tr>\n",
       "      <th>30</th>\n",
       "      <td>T171</td>\n",
       "      <td>190226</td>\n",
       "      <td>T171-145215</td>\n",
       "    </tr>\n",
       "    <tr>\n",
       "      <th>31</th>\n",
       "      <td>T171</td>\n",
       "      <td>190227</td>\n",
       "      <td>T171-162455</td>\n",
       "    </tr>\n",
       "    <tr>\n",
       "      <th>32</th>\n",
       "      <td>T186</td>\n",
       "      <td>190322</td>\n",
       "      <td>T186-164847</td>\n",
       "    </tr>\n",
       "    <tr>\n",
       "      <th>33</th>\n",
       "      <td>T186</td>\n",
       "      <td>190327</td>\n",
       "      <td>T186-150703</td>\n",
       "    </tr>\n",
       "    <tr>\n",
       "      <th>34</th>\n",
       "      <td>T186</td>\n",
       "      <td>190328</td>\n",
       "      <td>T186-144534</td>\n",
       "    </tr>\n",
       "    <tr>\n",
       "      <th>35</th>\n",
       "      <td>T186</td>\n",
       "      <td>190401</td>\n",
       "      <td>T186-142719</td>\n",
       "    </tr>\n",
       "    <tr>\n",
       "      <th>36</th>\n",
       "      <td>T186</td>\n",
       "      <td>190402</td>\n",
       "      <td>T186-140234</td>\n",
       "    </tr>\n",
       "    <tr>\n",
       "      <th>37</th>\n",
       "      <td>T186</td>\n",
       "      <td>190405</td>\n",
       "      <td>T186-135725</td>\n",
       "    </tr>\n",
       "    <tr>\n",
       "      <th>38</th>\n",
       "      <td>T187</td>\n",
       "      <td>190322</td>\n",
       "      <td>T187-172139</td>\n",
       "    </tr>\n",
       "    <tr>\n",
       "      <th>39</th>\n",
       "      <td>T187</td>\n",
       "      <td>190325</td>\n",
       "      <td>T187-153540</td>\n",
       "    </tr>\n",
       "    <tr>\n",
       "      <th>40</th>\n",
       "      <td>T187</td>\n",
       "      <td>190328</td>\n",
       "      <td>T187-152018</td>\n",
       "    </tr>\n",
       "    <tr>\n",
       "      <th>41</th>\n",
       "      <td>T187</td>\n",
       "      <td>190401</td>\n",
       "      <td>T187-150132</td>\n",
       "    </tr>\n",
       "    <tr>\n",
       "      <th>42</th>\n",
       "      <td>T187</td>\n",
       "      <td>190402</td>\n",
       "      <td>T187-142756</td>\n",
       "    </tr>\n",
       "    <tr>\n",
       "      <th>43</th>\n",
       "      <td>T187</td>\n",
       "      <td>190403</td>\n",
       "      <td>T187-143148</td>\n",
       "    </tr>\n",
       "    <tr>\n",
       "      <th>44</th>\n",
       "      <td>T187</td>\n",
       "      <td>190404</td>\n",
       "      <td>T187-142541</td>\n",
       "    </tr>\n",
       "    <tr>\n",
       "      <th>45</th>\n",
       "      <td>T196</td>\n",
       "      <td>190422</td>\n",
       "      <td>T196-172239</td>\n",
       "    </tr>\n",
       "    <tr>\n",
       "      <th>46</th>\n",
       "      <td>T196</td>\n",
       "      <td>190424</td>\n",
       "      <td>T196-170637</td>\n",
       "    </tr>\n",
       "    <tr>\n",
       "      <th>47</th>\n",
       "      <td>T196</td>\n",
       "      <td>190429</td>\n",
       "      <td>T196-151455</td>\n",
       "    </tr>\n",
       "    <tr>\n",
       "      <th>48</th>\n",
       "      <td>T196</td>\n",
       "      <td>190430</td>\n",
       "      <td>T196-145937</td>\n",
       "    </tr>\n",
       "    <tr>\n",
       "      <th>49</th>\n",
       "      <td>T196</td>\n",
       "      <td>190507</td>\n",
       "      <td>T196-144204</td>\n",
       "    </tr>\n",
       "    <tr>\n",
       "      <th>50</th>\n",
       "      <td>T196</td>\n",
       "      <td>190509</td>\n",
       "      <td>T196-144508</td>\n",
       "    </tr>\n",
       "    <tr>\n",
       "      <th>51</th>\n",
       "      <td>T240</td>\n",
       "      <td>190821</td>\n",
       "      <td>T240-144433</td>\n",
       "    </tr>\n",
       "    <tr>\n",
       "      <th>52</th>\n",
       "      <td>T240</td>\n",
       "      <td>190822</td>\n",
       "      <td>T240-142317</td>\n",
       "    </tr>\n",
       "    <tr>\n",
       "      <th>53</th>\n",
       "      <td>T240</td>\n",
       "      <td>190827</td>\n",
       "      <td>T240-141253</td>\n",
       "    </tr>\n",
       "    <tr>\n",
       "      <th>54</th>\n",
       "      <td>T240</td>\n",
       "      <td>190830</td>\n",
       "      <td>T240-142919</td>\n",
       "    </tr>\n",
       "    <tr>\n",
       "      <th>55</th>\n",
       "      <td>T240</td>\n",
       "      <td>190913</td>\n",
       "      <td>T240-144701</td>\n",
       "    </tr>\n",
       "    <tr>\n",
       "      <th>56</th>\n",
       "      <td>T240</td>\n",
       "      <td>190927</td>\n",
       "      <td>T240-145905</td>\n",
       "    </tr>\n",
       "  </tbody>\n",
       "</table>\n",
       "</div>"
      ],
      "text/plain": [
       "   Mouse    Date    File name\n",
       "0   T163  181128  T163-115220\n",
       "1   T163  181130  T163-133215\n",
       "2   T163  181203  T163-115901\n",
       "3   T163  181204  T163-114628\n",
       "4   T163  181206  T163-112720\n",
       "5   T163  181207  T163-123432\n",
       "6   T163  181210  T163-102536\n",
       "7   T163  181213  T163-094646\n",
       "8   T164  181127  T164-153101\n",
       "9   T164  181128  T164-122054\n",
       "10  T164  181204  T164-121548\n",
       "11  T164  181205  T164-123550\n",
       "12  T164  181210  T164-105324\n",
       "13  T164  181213  T164-101804\n",
       "14  T169  190201  T169-141602\n",
       "15  T169  190212  T169-145045\n",
       "16  T169  190213  T169-141800\n",
       "17  T169  190219  T169-140515\n",
       "18  T169  190220  T169-141850\n",
       "19  T169  190222  T169-134725\n",
       "20  T169  190225  T169-145248\n",
       "21  T169  190227  T169-155731\n",
       "22  T169  190228  T169-142051\n",
       "23  T171  190122  T171-165215\n",
       "24  T171  190128  T171-144901\n",
       "25  T171  190130  T171-145252\n",
       "26  T171  190211  T171-143016\n",
       "27  T171  190220  T171-153511\n",
       "28  T171  190221  T171-152107\n",
       "29  T171  190225  T171-152054\n",
       "30  T171  190226  T171-145215\n",
       "31  T171  190227  T171-162455\n",
       "32  T186  190322  T186-164847\n",
       "33  T186  190327  T186-150703\n",
       "34  T186  190328  T186-144534\n",
       "35  T186  190401  T186-142719\n",
       "36  T186  190402  T186-140234\n",
       "37  T186  190405  T186-135725\n",
       "38  T187  190322  T187-172139\n",
       "39  T187  190325  T187-153540\n",
       "40  T187  190328  T187-152018\n",
       "41  T187  190401  T187-150132\n",
       "42  T187  190402  T187-142756\n",
       "43  T187  190403  T187-143148\n",
       "44  T187  190404  T187-142541\n",
       "45  T196  190422  T196-172239\n",
       "46  T196  190424  T196-170637\n",
       "47  T196  190429  T196-151455\n",
       "48  T196  190430  T196-145937\n",
       "49  T196  190507  T196-144204\n",
       "50  T196  190509  T196-144508\n",
       "51  T240  190821  T240-144433\n",
       "52  T240  190822  T240-142317\n",
       "53  T240  190827  T240-141253\n",
       "54  T240  190830  T240-142919\n",
       "55  T240  190913  T240-144701\n",
       "56  T240  190927  T240-145905"
      ]
     },
     "execution_count": 11,
     "metadata": {},
     "output_type": "execute_result"
    }
   ],
   "source": [
    "Mouse_Date_FileName"
   ]
  },
  {
   "cell_type": "markdown",
   "metadata": {},
   "source": [
    "# Import the full data structure for each session: "
   ]
  },
  {
   "cell_type": "code",
   "execution_count": 12,
   "metadata": {
    "scrolled": true
   },
   "outputs": [
    {
     "name": "stdout",
     "output_type": "stream",
     "text": [
      "session number 1 was imported (out of 57)\n",
      "/Volumes/GilInVivoPaper.large/2.Photometry_in_str/2.raw_data_final_output_new_version/T163/2018_11_28__T163/1_Back/T163_2018_11_28Notebook_6_a_seq0a1b2a3c4abcde5a6a.pickle\n",
      "session number 2 was imported (out of 57)\n",
      "/Volumes/GilInVivoPaper.large/2.Photometry_in_str/2.raw_data_final_output_new_version/T163/2018_11_30__T163/1_Back/T163_2018_11_30Notebook_6_a_seq0a1b2a3c4abcde5a6a.pickle\n",
      "session number 3 was imported (out of 57)\n",
      "/Volumes/GilInVivoPaper.large/2.Photometry_in_str/2.raw_data_final_output_new_version/T163/2018_12_03__T163/1_Back/T163_2018_12_03Notebook_6_a_seq0a1b2a3c4abcde5a6a.pickle\n",
      "session number 4 was imported (out of 57)\n",
      "/Volumes/GilInVivoPaper.large/2.Photometry_in_str/2.raw_data_final_output_new_version/T163/2018_12_04__T163/1_Back/T163_2018_12_04Notebook_6_a_seq0a1b2a3c4abcde5a6a.pickle\n",
      "session number 5 was imported (out of 57)\n",
      "/Volumes/GilInVivoPaper.large/2.Photometry_in_str/2.raw_data_final_output_new_version/T163/2018_12_06__T163/1_Back/T163_2018_12_06Notebook_6_a_seq0a1b2a3c4abcde5a6a.pickle\n",
      "session number 6 was imported (out of 57)\n",
      "/Volumes/GilInVivoPaper.large/2.Photometry_in_str/2.raw_data_final_output_new_version/T163/2018_12_07__T163/1_Back/T163_2018_12_07Notebook_6_a_seq0a1b2a3c4abcde5a6a.pickle\n",
      "session number 7 was imported (out of 57)\n",
      "/Volumes/GilInVivoPaper.large/2.Photometry_in_str/2.raw_data_final_output_new_version/T163/2018_12_10__T163/1_Back/T163_2018_12_10Notebook_6_a_seq0a1b2a3c4abcde5a6a.pickle\n",
      "session number 8 was imported (out of 57)\n",
      "/Volumes/GilInVivoPaper.large/2.Photometry_in_str/2.raw_data_final_output_new_version/T163/2018_12_13__T163/1_Back/T163_2018_12_13Notebook_6_a_seq0a1b2a3c4abcde5a6a.pickle\n",
      "session number 9 was imported (out of 57)\n",
      "/Volumes/GilInVivoPaper.large/2.Photometry_in_str/2.raw_data_final_output_new_version/T164/2018_11_27__T164/1_Back/T164_2018_11_27Notebook_6_a_seq0a1b2a3c4abcde5a6a.pickle\n",
      "session number 10 was imported (out of 57)\n",
      "/Volumes/GilInVivoPaper.large/2.Photometry_in_str/2.raw_data_final_output_new_version/T164/2018_11_28__T164/1_Back/T164_2018_11_28Notebook_6_a_seq0a1b2a3c4abcde5a6a.pickle\n",
      "session number 11 was imported (out of 57)\n",
      "/Volumes/GilInVivoPaper.large/2.Photometry_in_str/2.raw_data_final_output_new_version/T164/2018_12_04__T164/1_Back/T164_2018_12_04Notebook_6_a_seq0a1b2a3c4abcde5a6a.pickle\n",
      "session number 12 was imported (out of 57)\n",
      "/Volumes/GilInVivoPaper.large/2.Photometry_in_str/2.raw_data_final_output_new_version/T164/2018_12_05__T164/1_Back/T164_2018_12_05Notebook_6_a_seq0a1b2a3c4abcde5a6a.pickle\n",
      "session number 13 was imported (out of 57)\n",
      "/Volumes/GilInVivoPaper.large/2.Photometry_in_str/2.raw_data_final_output_new_version/T164/2018_12_10__T164/1_Back/T164_2018_12_10Notebook_6_a_seq0a1b2a3c4abcde5a6a.pickle\n",
      "session number 14 was imported (out of 57)\n",
      "/Volumes/GilInVivoPaper.large/2.Photometry_in_str/2.raw_data_final_output_new_version/T164/2018_12_13__T164/1_Back/T164_2018_12_13Notebook_6_a_seq0a1b2a3c4abcde5a6a.pickle\n",
      "session number 15 was imported (out of 57)\n",
      "/Volumes/GilInVivoPaper.large/2.Photometry_in_str/2.raw_data_final_output_new_version/T169/2019_02_01__T169/1_Back/T169_2019_02_01Notebook_6_a_seq0a1b2a3c4abcde5a6a.pickle\n",
      "session number 16 was imported (out of 57)\n",
      "/Volumes/GilInVivoPaper.large/2.Photometry_in_str/2.raw_data_final_output_new_version/T169/2019_02_12__T169/1_Back/T169_2019_02_12Notebook_6_a_seq0a1b2a3c4abcde5a6a.pickle\n",
      "session number 17 was imported (out of 57)\n",
      "/Volumes/GilInVivoPaper.large/2.Photometry_in_str/2.raw_data_final_output_new_version/T169/2019_02_13__T169/1_Back/T169_2019_02_13Notebook_6_a_seq0a1b2a3c4abcde5a6a.pickle\n",
      "session number 18 was imported (out of 57)\n",
      "/Volumes/GilInVivoPaper.large/2.Photometry_in_str/2.raw_data_final_output_new_version/T169/2019_02_19__T169/1_Back/T169_2019_02_19Notebook_6_a_seq0a1b2a3c4abcde5a6a.pickle\n",
      "session number 19 was imported (out of 57)\n",
      "/Volumes/GilInVivoPaper.large/2.Photometry_in_str/2.raw_data_final_output_new_version/T169/2019_02_20__T169/1_Back/T169_2019_02_20Notebook_6_a_seq0a1b2a3c4abcde5a6a.pickle\n",
      "session number 20 was imported (out of 57)\n",
      "/Volumes/GilInVivoPaper.large/2.Photometry_in_str/2.raw_data_final_output_new_version/T169/2019_02_22__T169/1_Back/T169_2019_02_22Notebook_6_a_seq0a1b2a3c4abcde5a6a.pickle\n",
      "session number 21 was imported (out of 57)\n",
      "/Volumes/GilInVivoPaper.large/2.Photometry_in_str/2.raw_data_final_output_new_version/T169/2019_02_25__T169/1_Back/T169_2019_02_25Notebook_6_a_seq0a1b2a3c4abcde5a6a.pickle\n",
      "session number 22 was imported (out of 57)\n",
      "/Volumes/GilInVivoPaper.large/2.Photometry_in_str/2.raw_data_final_output_new_version/T169/2019_02_27__T169/1_Back/T169_2019_02_27Notebook_6_a_seq0a1b2a3c4abcde5a6a.pickle\n",
      "session number 23 was imported (out of 57)\n",
      "/Volumes/GilInVivoPaper.large/2.Photometry_in_str/2.raw_data_final_output_new_version/T169/2019_02_28__T169/1_Back/T169_2019_02_28Notebook_6_a_seq0a1b2a3c4abcde5a6a.pickle\n",
      "session number 24 was imported (out of 57)\n",
      "/Volumes/GilInVivoPaper.large/2.Photometry_in_str/2.raw_data_final_output_new_version/T171/2019_01_22__T171/1_Back/T171_2019_01_22Notebook_6_a_seq0a1b2a3c4abcde5a6a.pickle\n",
      "session number 25 was imported (out of 57)\n",
      "/Volumes/GilInVivoPaper.large/2.Photometry_in_str/2.raw_data_final_output_new_version/T171/2019_01_28__T171/1_Back/T171_2019_01_28Notebook_6_a_seq0a1b2a3c4abcde5a6a.pickle\n",
      "session number 26 was imported (out of 57)\n",
      "/Volumes/GilInVivoPaper.large/2.Photometry_in_str/2.raw_data_final_output_new_version/T171/2019_01_30__T171/1_Back/T171_2019_01_30Notebook_6_a_seq0a1b2a3c4abcde5a6a.pickle\n",
      "session number 27 was imported (out of 57)\n",
      "/Volumes/GilInVivoPaper.large/2.Photometry_in_str/2.raw_data_final_output_new_version/T171/2019_02_11__T171/1_Back/T171_2019_02_11Notebook_6_a_seq0a1b2a3c4abcde5a6a.pickle\n",
      "session number 28 was imported (out of 57)\n",
      "/Volumes/GilInVivoPaper.large/2.Photometry_in_str/2.raw_data_final_output_new_version/T171/2019_02_20__T171/1_Back/T171_2019_02_20Notebook_6_a_seq0a1b2a3c4abcde5a6a.pickle\n",
      "session number 29 was imported (out of 57)\n",
      "/Volumes/GilInVivoPaper.large/2.Photometry_in_str/2.raw_data_final_output_new_version/T171/2019_02_21__T171/1_Back/T171_2019_02_21Notebook_6_a_seq0a1b2a3c4abcde5a6a.pickle\n",
      "session number 30 was imported (out of 57)\n",
      "/Volumes/GilInVivoPaper.large/2.Photometry_in_str/2.raw_data_final_output_new_version/T171/2019_02_25__T171/1_Back/T171_2019_02_25Notebook_6_a_seq0a1b2a3c4abcde5a6a.pickle\n",
      "session number 31 was imported (out of 57)\n",
      "/Volumes/GilInVivoPaper.large/2.Photometry_in_str/2.raw_data_final_output_new_version/T171/2019_02_26__T171/1_Back/T171_2019_02_26Notebook_6_a_seq0a1b2a3c4abcde5a6a.pickle\n",
      "session number 32 was imported (out of 57)\n",
      "/Volumes/GilInVivoPaper.large/2.Photometry_in_str/2.raw_data_final_output_new_version/T171/2019_02_27__T171/1_Back/T171_2019_02_27Notebook_6_a_seq0a1b2a3c4abcde5a6a.pickle\n",
      "session number 33 was imported (out of 57)\n",
      "/Volumes/GilInVivoPaper.large/2.Photometry_in_str/2.raw_data_final_output_new_version/T186/2019_03_22__T186/1_Back/T186_2019_03_22Notebook_6_a_seq0a1b2a3c4abcde5a6a.pickle\n",
      "session number 34 was imported (out of 57)\n",
      "/Volumes/GilInVivoPaper.large/2.Photometry_in_str/2.raw_data_final_output_new_version/T186/2019_03_27__T186/1_Back/T186_2019_03_27Notebook_6_a_seq0a1b2a3c4abcde5a6a.pickle\n",
      "session number 35 was imported (out of 57)\n",
      "/Volumes/GilInVivoPaper.large/2.Photometry_in_str/2.raw_data_final_output_new_version/T186/2019_03_28__T186/1_Back/T186_2019_03_28Notebook_6_a_seq0a1b2a3c4abcde5a6a.pickle\n",
      "session number 36 was imported (out of 57)\n",
      "/Volumes/GilInVivoPaper.large/2.Photometry_in_str/2.raw_data_final_output_new_version/T186/2019_04_01__T186/1_Back/T186_2019_04_01Notebook_6_a_seq0a1b2a3c4abcde5a6a.pickle\n",
      "session number 37 was imported (out of 57)\n",
      "/Volumes/GilInVivoPaper.large/2.Photometry_in_str/2.raw_data_final_output_new_version/T186/2019_04_02__T186/1_Back/T186_2019_04_02Notebook_6_a_seq0a1b2a3c4abcde5a6a.pickle\n",
      "session number 38 was imported (out of 57)\n",
      "/Volumes/GilInVivoPaper.large/2.Photometry_in_str/2.raw_data_final_output_new_version/T186/2019_04_05__T186/1_Back/T186_2019_04_05Notebook_6_a_seq0a1b2a3c4abcde5a6a.pickle\n",
      "session number 39 was imported (out of 57)\n",
      "/Volumes/GilInVivoPaper.large/2.Photometry_in_str/2.raw_data_final_output_new_version/T187/2019_03_22__T187/1_Back/T187_2019_03_22Notebook_6_a_seq0a1b2a3c4abcde5a6a.pickle\n"
     ]
    },
    {
     "name": "stdout",
     "output_type": "stream",
     "text": [
      "session number 40 was imported (out of 57)\n",
      "/Volumes/GilInVivoPaper.large/2.Photometry_in_str/2.raw_data_final_output_new_version/T187/2019_03_25__T187/1_Back/T187_2019_03_25Notebook_6_a_seq0a1b2a3c4abcde5a6a.pickle\n",
      "session number 41 was imported (out of 57)\n",
      "/Volumes/GilInVivoPaper.large/2.Photometry_in_str/2.raw_data_final_output_new_version/T187/2019_03_28__T187/1_Back/T187_2019_03_28Notebook_6_a_seq0a1b2a3c4abcde5a6a.pickle\n",
      "session number 42 was imported (out of 57)\n",
      "/Volumes/GilInVivoPaper.large/2.Photometry_in_str/2.raw_data_final_output_new_version/T187/2019_04_01__T187/1_Back/T187_2019_04_01Notebook_6_a_seq0a1b2a3c4abcde5a6a.pickle\n",
      "session number 43 was imported (out of 57)\n",
      "/Volumes/GilInVivoPaper.large/2.Photometry_in_str/2.raw_data_final_output_new_version/T187/2019_04_02__T187/1_Back/T187_2019_04_02Notebook_6_a_seq0a1b2a3c4abcde5a6a.pickle\n",
      "session number 44 was imported (out of 57)\n",
      "/Volumes/GilInVivoPaper.large/2.Photometry_in_str/2.raw_data_final_output_new_version/T187/2019_04_03__T187/1_Back/T187_2019_04_03Notebook_6_a_seq0a1b2a3c4abcde5a6a.pickle\n",
      "session number 45 was imported (out of 57)\n",
      "/Volumes/GilInVivoPaper.large/2.Photometry_in_str/2.raw_data_final_output_new_version/T187/2019_04_04__T187/1_Back/T187_2019_04_04Notebook_6_a_seq0a1b2a3c4abcde5a6a.pickle\n",
      "session number 46 was imported (out of 57)\n",
      "/Volumes/GilInVivoPaper.large/2.Photometry_in_str/2.raw_data_final_output_new_version/T196/2019_04_22__T196/1_Back/T196_2019_04_22Notebook_6_a_seq0a1b2a3c4abcde5a6a.pickle\n",
      "session number 47 was imported (out of 57)\n",
      "/Volumes/GilInVivoPaper.large/2.Photometry_in_str/2.raw_data_final_output_new_version/T196/2019_04_24__T196/1_Back/T196_2019_04_24Notebook_6_a_seq0a1b2a3c4abcde5a6a.pickle\n",
      "session number 48 was imported (out of 57)\n",
      "/Volumes/GilInVivoPaper.large/2.Photometry_in_str/2.raw_data_final_output_new_version/T196/2019_04_29__T196/1_Back/T196_2019_04_29Notebook_6_a_seq0a1b2a3c4abcde5a6a.pickle\n",
      "session number 49 was imported (out of 57)\n",
      "/Volumes/GilInVivoPaper.large/2.Photometry_in_str/2.raw_data_final_output_new_version/T196/2019_04_30__T196/1_Back/T196_2019_04_30Notebook_6_a_seq0a1b2a3c4abcde5a6a.pickle\n",
      "session number 50 was imported (out of 57)\n",
      "/Volumes/GilInVivoPaper.large/2.Photometry_in_str/2.raw_data_final_output_new_version/T196/2019_05_07__T196/1_Back/T196_2019_05_07Notebook_6_a_seq0a1b2a3c4abcde5a6a.pickle\n",
      "session number 51 was imported (out of 57)\n",
      "/Volumes/GilInVivoPaper.large/2.Photometry_in_str/2.raw_data_final_output_new_version/T196/2019_05_09__T196/1_Back/T196_2019_05_09Notebook_6_a_seq0a1b2a3c4abcde5a6a.pickle\n",
      "session number 52 was imported (out of 57)\n",
      "/Volumes/GilInVivoPaper.large/2.Photometry_in_str/2.raw_data_final_output_new_version/T240/2019_08_21__T240/1_Back/T240_2019_08_21Notebook_6_a_seq0a1b2a3c4abcde5a6a.pickle\n",
      "session number 53 was imported (out of 57)\n",
      "/Volumes/GilInVivoPaper.large/2.Photometry_in_str/2.raw_data_final_output_new_version/T240/2019_08_22__T240/1_Back/T240_2019_08_22Notebook_6_a_seq0a1b2a3c4abcde5a6a.pickle\n",
      "session number 54 was imported (out of 57)\n",
      "/Volumes/GilInVivoPaper.large/2.Photometry_in_str/2.raw_data_final_output_new_version/T240/2019_08_27__T240/1_Back/T240_2019_08_27Notebook_6_a_seq0a1b2a3c4abcde5a6a.pickle\n",
      "session number 55 was imported (out of 57)\n",
      "/Volumes/GilInVivoPaper.large/2.Photometry_in_str/2.raw_data_final_output_new_version/T240/2019_08_30__T240/1_Back/T240_2019_08_30Notebook_6_a_seq0a1b2a3c4abcde5a6a.pickle\n",
      "session number 56 was imported (out of 57)\n",
      "/Volumes/GilInVivoPaper.large/2.Photometry_in_str/2.raw_data_final_output_new_version/T240/2019_09_13__T240/1_Back/T240_2019_09_13Notebook_6_a_seq0a1b2a3c4abcde5a6a.pickle\n",
      "session number 57 was imported (out of 57)\n",
      "/Volumes/GilInVivoPaper.large/2.Photometry_in_str/2.raw_data_final_output_new_version/T240/2019_09_27__T240/1_Back/T240_2019_09_27Notebook_6_a_seq0a1b2a3c4abcde5a6a.pickle\n",
      "CPU times: user 24.8 s, sys: 2.49 s, total: 27.3 s\n",
      "Wall time: 52.5 s\n"
     ]
    }
   ],
   "source": [
    "%%time\n",
    "PhotoData_perTrial_channels_data_set = ahf.extract_data_set(Mouse_Date_FileName,data_to_be_plotted,HowManyBack,seq_str)"
   ]
  },
  {
   "cell_type": "code",
   "execution_count": null,
   "metadata": {},
   "outputs": [],
   "source": []
  },
  {
   "cell_type": "code",
   "execution_count": null,
   "metadata": {},
   "outputs": [],
   "source": []
  },
  {
   "cell_type": "code",
   "execution_count": 141,
   "metadata": {},
   "outputs": [],
   "source": [
    "data_set = PhotoData_perTrial_channels_data_set.copy()"
   ]
  },
  {
   "cell_type": "code",
   "execution_count": 142,
   "metadata": {},
   "outputs": [
    {
     "name": "stdout",
     "output_type": "stream",
     "text": [
      "['Real_nTrials', 'Reward_NoReward_tag', 'ENL_tag', 'Cue_to_Sel_tag', 'Cue_to_Sel_fromPrevTrial_tag', 'firstENLp_tag', 'pre_Reward_NoReward_tag', 'post_Reward_NoReward_tag', 'pre_ENL_tag', 'post_ENL_tag', 'pre_Cue_to_Sel_tag', 'post_Cue_to_Sel_tag', 'pre_Cue_to_Sel_fromPrevTrial_tag', 'post_Cue_to_Sel_fromPrevTrial_tag', 'pre_firstENLp_tag', 'post_firstENLp_tag', 'first_600_bins_Reward_NoReward_tag', 'last_200_bins_ENL_tag', 'first_15_bins_Cue_to_Sel_tag', 'first_15_bins_Cue_to_Sel_fromPrevTrial_tag', 'first_20_bins_firstENLp_tag', 'combined_periods_1']\n"
     ]
    }
   ],
   "source": [
    "print(list(data_set[0][0][0][0].keys()))"
   ]
  },
  {
   "cell_type": "code",
   "execution_count": 143,
   "metadata": {},
   "outputs": [],
   "source": [
    "#period_of_interest=\"combined_periods_1\"\n",
    "#period_of_interest = \"pre_firstENLp_tag\"\n",
    "#period_of_interest=\"last_200_bins_ENL_tag\"\n",
    "#period_of_interest = \"first_15_bins_Cue_to_Sel_tag\"\n",
    "#period_of_interest=\"first_15_bins_Cue_to_Sel_fromPrevTrial_tag\"\n",
    "#period_of_interest=\"Real_nTrials\"\n",
    "#period_of_interest=\"Cue_to_Sel_tag\"\n",
    "period_of_interest=\"Cue_to_Sel_fromPrevTrial_tag\""
   ]
  },
  {
   "cell_type": "code",
   "execution_count": 144,
   "metadata": {},
   "outputs": [],
   "source": [
    "# stash result in a cache directory, for how many back. \n",
    "cache_dir_plt = os.path.join(path_to_save,folderName,seq_str,period_of_interest)\n",
    "if not os.path.exists(cache_dir_plt):\n",
    "    os.makedirs(cache_dir_plt)"
   ]
  },
  {
   "cell_type": "code",
   "execution_count": 145,
   "metadata": {},
   "outputs": [
    {
     "data": {
      "text/plain": [
       "'/Volumes/GilInVivoPaper.large/2.Photometry_in_str/2.raw_data_final_output_new_version/testing/0a1b2a3c4abcde5a6a7b/Cue_to_Sel_fromPrevTrial_tag'"
      ]
     },
     "execution_count": 145,
     "metadata": {},
     "output_type": "execute_result"
    }
   ],
   "source": [
    "cache_dir_plt"
   ]
  },
  {
   "cell_type": "markdown",
   "metadata": {},
   "source": [
    "# generate data sets of interest"
   ]
  },
  {
   "cell_type": "code",
   "execution_count": 146,
   "metadata": {},
   "outputs": [],
   "source": [
    "r_ls_period_d1_data_set= ahf.extract_data_of_interest_ipsi_contra_data_set(data_set,\n",
    "                                                                           0,0,\n",
    "                                                                           period_of_interest,\"d1 R\")"
   ]
  },
  {
   "cell_type": "code",
   "execution_count": 147,
   "metadata": {},
   "outputs": [],
   "source": [
    "r_ls_period_d2_data_set= ahf.extract_data_of_interest_ipsi_contra_data_set(data_set,\n",
    "                                                                           0,0,\n",
    "                                                                           period_of_interest,\"d2 R\")"
   ]
  },
  {
   "cell_type": "code",
   "execution_count": 148,
   "metadata": {},
   "outputs": [],
   "source": [
    "r_wr_period_d1_data_set= ahf.extract_data_of_interest_ipsi_contra_data_set(data_set,\n",
    "                                                                           0,3,\n",
    "                                                                           period_of_interest,\"d1 R\")"
   ]
  },
  {
   "cell_type": "code",
   "execution_count": 149,
   "metadata": {},
   "outputs": [],
   "source": [
    "r_wr_period_d2_data_set= ahf.extract_data_of_interest_ipsi_contra_data_set(data_set,\n",
    "                                                                           0,3,\n",
    "                                                                           period_of_interest,\"d2 R\")"
   ]
  },
  {
   "cell_type": "markdown",
   "metadata": {},
   "source": [
    "# Calculate means per each session "
   ]
  },
  {
   "cell_type": "code",
   "execution_count": 150,
   "metadata": {},
   "outputs": [],
   "source": [
    "r_ls_period_d1_df = ahf.calculate_mean_data_set(r_ls_period_d1_data_set)"
   ]
  },
  {
   "cell_type": "code",
   "execution_count": 151,
   "metadata": {},
   "outputs": [],
   "source": [
    "r_ls_period_d2_df = ahf.calculate_mean_data_set(r_ls_period_d2_data_set)"
   ]
  },
  {
   "cell_type": "code",
   "execution_count": 152,
   "metadata": {},
   "outputs": [],
   "source": [
    "r_wr_period_d1_df = ahf.calculate_mean_data_set(r_wr_period_d1_data_set)"
   ]
  },
  {
   "cell_type": "code",
   "execution_count": 153,
   "metadata": {},
   "outputs": [],
   "source": [
    "r_wr_period_d2_df = ahf.calculate_mean_data_set(r_wr_period_d2_data_set)"
   ]
  },
  {
   "cell_type": "markdown",
   "metadata": {},
   "source": [
    "# Calculate means and sem on the data set "
   ]
  },
  {
   "cell_type": "code",
   "execution_count": 154,
   "metadata": {},
   "outputs": [],
   "source": [
    "r_ls_period_d1_mean_sem = ahf.calculate_mean_sem (r_ls_period_d1_df)"
   ]
  },
  {
   "cell_type": "code",
   "execution_count": 155,
   "metadata": {},
   "outputs": [],
   "source": [
    "r_ls_period_d2_mean_sem = ahf.calculate_mean_sem (r_ls_period_d2_df)"
   ]
  },
  {
   "cell_type": "code",
   "execution_count": 156,
   "metadata": {},
   "outputs": [],
   "source": [
    "r_wr_period_d1_mean_sem = ahf.calculate_mean_sem (r_wr_period_d1_df)"
   ]
  },
  {
   "cell_type": "code",
   "execution_count": 157,
   "metadata": {},
   "outputs": [],
   "source": [
    "r_wr_period_d2_mean_sem = ahf.calculate_mean_sem (r_wr_period_d2_df)"
   ]
  },
  {
   "cell_type": "markdown",
   "metadata": {},
   "source": [
    "# make_sem_traces"
   ]
  },
  {
   "cell_type": "code",
   "execution_count": 158,
   "metadata": {},
   "outputs": [],
   "source": [
    "r_ls_period_d1_sem_traces = ahf.make_sem_traces(r_ls_period_d1_mean_sem)"
   ]
  },
  {
   "cell_type": "code",
   "execution_count": 159,
   "metadata": {},
   "outputs": [],
   "source": [
    "r_ls_period_d2_sem_traces = ahf.make_sem_traces(r_ls_period_d2_mean_sem)"
   ]
  },
  {
   "cell_type": "code",
   "execution_count": 160,
   "metadata": {},
   "outputs": [],
   "source": [
    "r_wr_period_d1_sem_traces = ahf.make_sem_traces(r_wr_period_d1_mean_sem)"
   ]
  },
  {
   "cell_type": "code",
   "execution_count": 161,
   "metadata": {},
   "outputs": [],
   "source": [
    "r_wr_period_d2_sem_traces = ahf.make_sem_traces(r_wr_period_d2_mean_sem)"
   ]
  },
  {
   "cell_type": "markdown",
   "metadata": {},
   "source": [
    "# plots"
   ]
  },
  {
   "cell_type": "code",
   "execution_count": 162,
   "metadata": {
    "scrolled": false
   },
   "outputs": [
    {
     "data": {
      "image/png": "[encoded data removed]",
      "text/plain": [
       "<Figure size 432x288 with 1 Axes>"
      ]
     },
     "metadata": {
      "needs_background": "light"
     },
     "output_type": "display_data"
    }
   ],
   "source": [
    "ahf.plot_ipsi_contra_together(r_ls_period_d1_mean_sem,\n",
    "                              r_ls_period_d1_sem_traces,\n",
    "                              \"lose switch\",period_of_interest,\"D1\",y_axis,cache_dir_plt)"
   ]
  },
  {
   "cell_type": "code",
   "execution_count": 163,
   "metadata": {},
   "outputs": [
    {
     "data": {
      "image/png": "[encoded data removed]",
      "text/plain": [
       "<Figure size 432x288 with 1 Axes>"
      ]
     },
     "metadata": {
      "needs_background": "light"
     },
     "output_type": "display_data"
    }
   ],
   "source": [
    "ahf.plot_ipsi_contra_together(r_ls_period_d2_mean_sem,\n",
    "                              r_ls_period_d2_sem_traces,\n",
    "                              \"lose switch\",period_of_interest,\"D2\",y_axis,cache_dir_plt)"
   ]
  },
  {
   "cell_type": "code",
   "execution_count": 164,
   "metadata": {
    "scrolled": true
   },
   "outputs": [
    {
     "data": {
      "image/png": "[encoded data removed]",
      "text/plain": [
       "<Figure size 432x288 with 1 Axes>"
      ]
     },
     "metadata": {
      "needs_background": "light"
     },
     "output_type": "display_data"
    }
   ],
   "source": [
    "ahf.plot_ipsi_contra_together(r_wr_period_d1_mean_sem,\n",
    "                              r_wr_period_d1_sem_traces,\n",
    "                              \"win repeat\",period_of_interest,\"D1\",y_axis,cache_dir_plt)"
   ]
  },
  {
   "cell_type": "code",
   "execution_count": 165,
   "metadata": {},
   "outputs": [
    {
     "data": {
      "image/png": "[encoded data removed]",
      "text/plain": [
       "<Figure size 432x288 with 1 Axes>"
      ]
     },
     "metadata": {
      "needs_background": "light"
     },
     "output_type": "display_data"
    }
   ],
   "source": [
    "ahf.plot_ipsi_contra_together(r_wr_period_d2_mean_sem,\n",
    "                              r_wr_period_d2_sem_traces,\n",
    "                              \"win repeat\",period_of_interest,\"D2\",y_axis,cache_dir_plt)"
   ]
  },
  {
   "cell_type": "code",
   "execution_count": null,
   "metadata": {},
   "outputs": [],
   "source": []
  },
  {
   "cell_type": "code",
   "execution_count": null,
   "metadata": {},
   "outputs": [],
   "source": []
  },
  {
   "cell_type": "code",
   "execution_count": null,
   "metadata": {},
   "outputs": [],
   "source": []
  }
 ],
 "metadata": {
  "kernelspec": {
   "display_name": "Python 3",
   "language": "python",
   "name": "python3"
  },
  "language_info": {
   "codemirror_mode": {
    "name": "ipython",
    "version": 3
   },
   "file_extension": ".py",
   "mimetype": "text/x-python",
   "name": "python",
   "nbconvert_exporter": "python",
   "pygments_lexer": "ipython3",
   "version": "3.7.3"
  }
 },
 "nbformat": 4,
 "nbformat_minor": 4
}
