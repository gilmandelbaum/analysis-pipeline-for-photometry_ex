{
 "cells": [
  {
   "cell_type": "code",
   "execution_count": 1,
   "metadata": {},
   "outputs": [],
   "source": [
    "import pickle\n",
    "from pathlib import Path\n",
    "import pandas as pd \n",
    "import os\n",
    "import sys\n",
    "import matplotlib.pyplot as plt\n",
    "import getpass"
   ]
  },
  {
   "cell_type": "markdown",
   "metadata": {},
   "source": [
    "# importing the helper functions: "
   ]
  },
  {
   "cell_type": "code",
   "execution_count": 2,
   "metadata": {},
   "outputs": [
    {
     "name": "stdout",
     "output_type": "stream",
     "text": [
      "gilmandelbaum\n"
     ]
    }
   ],
   "source": [
    "#add the github path that will run the notebooks: \n",
    "username = getpass.getuser() # gets the username from the current comp \n",
    "print (username)"
   ]
  },
  {
   "cell_type": "code",
   "execution_count": 3,
   "metadata": {},
   "outputs": [],
   "source": [
    "sys.path.insert(0,'/Users/{:}/github/analysis-pipeline-for-photometry_ex/Nb_data_set/1.data_set_lineplot'.format(username))"
   ]
  },
  {
   "cell_type": "code",
   "execution_count": 4,
   "metadata": {},
   "outputs": [
    {
     "data": {
      "text/plain": [
       "'/Users/gilmandelbaum/github/analysis-pipeline-for-photometry_ex/Nb_data_set/1.data_set_lineplot'"
      ]
     },
     "execution_count": 4,
     "metadata": {},
     "output_type": "execute_result"
    }
   ],
   "source": [
    "sys.path[0]"
   ]
  },
  {
   "cell_type": "code",
   "execution_count": 5,
   "metadata": {},
   "outputs": [],
   "source": [
    "import data_set_lineplot_ic_together_helper_functions as dslhf"
   ]
  },
  {
   "cell_type": "markdown",
   "metadata": {},
   "source": [
    "# parameters when using papermill:"
   ]
  },
  {
   "cell_type": "code",
   "execution_count": 6,
   "metadata": {
    "tags": [
     "parameters"
    ]
   },
   "outputs": [],
   "source": [
    "seq_str = '0a1b2a3b4abcd5a6a7a'\n",
    "period_of_interest = \"combined_periods_1\"\n",
    "HowManyBasck=1\n",
    "folderName=\"right_dual_color_photo_full_data_set_after_inspection\" #folder where the plot data_set will be saved \n",
    "#where to load the data from: \n",
    "path_to_load_data = \"/Volumes/GilInVivoPaper.large/2.Photometry_in_str/1.lateral_medial_6_analysis//right_dual_color_photo_full_data/0a1b2a3b4abcd5a6a7a\"\n",
    "sessionIndex_perMouse = ['0', '10', '21', '39', '53', '74', '84', '93', '104']\n"
   ]
  },
  {
   "cell_type": "markdown",
   "metadata": {},
   "source": [
    "# folder name of analysis: "
   ]
  },
  {
   "cell_type": "code",
   "execution_count": 7,
   "metadata": {},
   "outputs": [],
   "source": [
    "analysis_type = \"4.dsl__winall(ipsi_vs_contra_previous)_loseall(ipsi_vs_contra_previous)__rs_mice\""
   ]
  },
  {
   "cell_type": "code",
   "execution_count": 8,
   "metadata": {},
   "outputs": [
    {
     "data": {
      "text/plain": [
       "'/anaconda3/bin/python3'"
      ]
     },
     "execution_count": 8,
     "metadata": {},
     "output_type": "execute_result"
    }
   ],
   "source": [
    "sys.executable"
   ]
  },
  {
   "cell_type": "markdown",
   "metadata": {},
   "source": [
    "# where to save the data: "
   ]
  },
  {
   "cell_type": "code",
   "execution_count": 9,
   "metadata": {},
   "outputs": [],
   "source": [
    "path_to_save_plots = path_to_load_data+\"/\"+\"line_plots\"+\"/\"+\"avg_of_mice\"+\"/\"+analysis_type "
   ]
  },
  {
   "cell_type": "code",
   "execution_count": 10,
   "metadata": {},
   "outputs": [
    {
     "data": {
      "text/plain": [
       "'/Volumes/GilInVivoPaper.large/2.Photometry_in_str/1.lateral_medial_6_analysis//right_dual_color_photo_full_data/0a1b2a3b4abcd5a6a7a/line_plots/avg_of_mice/4.dsl__winall(ipsi_vs_contra_previous)_loseall(ipsi_vs_contra_previous)__rs_mice'"
      ]
     },
     "execution_count": 10,
     "metadata": {},
     "output_type": "execute_result"
    }
   ],
   "source": [
    "path_to_save_plots"
   ]
  },
  {
   "cell_type": "markdown",
   "metadata": {},
   "source": [
    "# Import the data and where to save it "
   ]
  },
  {
   "cell_type": "code",
   "execution_count": 11,
   "metadata": {},
   "outputs": [
    {
     "name": "stdout",
     "output_type": "stream",
     "text": [
      "CPU times: user 41.1 s, sys: 5.46 s, total: 46.6 s\n",
      "Wall time: 1min 23s\n"
     ]
    }
   ],
   "source": [
    "%%time\n",
    "root = Path(path_to_load_data)\n",
    "d = \"data_object_photometry_after_processing\"+\"_\"+seq_str+'.pickle'\n",
    "my_path = root / d \n",
    "fileToOpen = open(my_path, 'rb')\n",
    "data_set = pickle.load(fileToOpen)"
   ]
  },
  {
   "cell_type": "markdown",
   "metadata": {},
   "source": [
    "# label y axis "
   ]
  },
  {
   "cell_type": "code",
   "execution_count": 12,
   "metadata": {},
   "outputs": [],
   "source": [
    "y_axis_list = [\"df_f\",\"z_score\",\"z_score_sliding_window\"]"
   ]
  },
  {
   "cell_type": "code",
   "execution_count": 13,
   "metadata": {},
   "outputs": [
    {
     "name": "stdout",
     "output_type": "stream",
     "text": [
      "z_score\n"
     ]
    }
   ],
   "source": [
    "alphabet = [\"a\",\"b\",\"c\",\"d\",\"e\",\"f\",\"g\"]\n",
    "y_axis = y_axis_list[alphabet.index(seq_str[:seq_str.index('4')][-1])]\n",
    "print (y_axis)"
   ]
  },
  {
   "cell_type": "code",
   "execution_count": null,
   "metadata": {},
   "outputs": [],
   "source": []
  },
  {
   "cell_type": "code",
   "execution_count": 14,
   "metadata": {},
   "outputs": [],
   "source": [
    "# stash result in a cache directory.\n",
    "cache_dir_plt = os.path.join(path_to_save_plots,period_of_interest)\n",
    "if not os.path.exists(cache_dir_plt):\n",
    "    os.makedirs(cache_dir_plt)"
   ]
  },
  {
   "cell_type": "code",
   "execution_count": 15,
   "metadata": {},
   "outputs": [
    {
     "data": {
      "text/plain": [
       "'/Volumes/GilInVivoPaper.large/2.Photometry_in_str/1.lateral_medial_6_analysis//right_dual_color_photo_full_data/0a1b2a3b4abcd5a6a7a/line_plots/avg_of_mice/4.dsl__winall(ipsi_vs_contra_previous)_loseall(ipsi_vs_contra_previous)__rs_mice/combined_periods_1'"
      ]
     },
     "execution_count": 15,
     "metadata": {},
     "output_type": "execute_result"
    }
   ],
   "source": [
    "cache_dir_plt"
   ]
  },
  {
   "cell_type": "markdown",
   "metadata": {},
   "source": [
    "# generate data sets of interest"
   ]
  },
  {
   "cell_type": "code",
   "execution_count": 16,
   "metadata": {},
   "outputs": [],
   "source": [
    "#combinations = [(2, 2), (2, 1), (1, 2), (1, 1)]"
   ]
  },
  {
   "cell_type": "code",
   "execution_count": 17,
   "metadata": {
    "scrolled": true
   },
   "outputs": [
    {
     "name": "stdout",
     "output_type": "stream",
     "text": [
      "empty\n",
      "empty\n",
      "full\n",
      "empty\n",
      "full\n",
      "full\n",
      "full\n",
      "empty\n",
      "empty\n",
      "empty\n",
      "full\n",
      "empty\n",
      "empty\n",
      "full\n",
      "full\n",
      "empty\n",
      "full\n",
      "empty\n",
      "empty\n",
      "empty\n",
      "empty\n",
      "full\n",
      "full\n",
      "empty\n",
      "full\n",
      "full\n",
      "empty\n",
      "empty\n",
      "full\n",
      "full\n",
      "full\n",
      "full\n",
      "empty\n",
      "empty\n",
      "empty\n",
      "full\n",
      "empty\n",
      "full\n",
      "full\n",
      "empty\n",
      "full\n",
      "empty\n",
      "empty\n",
      "empty\n",
      "empty\n",
      "full\n",
      "empty\n",
      "empty\n",
      "empty\n",
      "empty\n",
      "empty\n",
      "full\n",
      "empty\n",
      "full\n",
      "full\n",
      "empty\n",
      "full\n",
      "empty\n",
      "empty\n",
      "full\n",
      "empty\n",
      "empty\n",
      "full\n",
      "empty\n",
      "empty\n",
      "full\n",
      "full\n",
      "full\n",
      "full\n",
      "full\n",
      "full\n",
      "full\n",
      "full\n",
      "full\n",
      "full\n",
      "empty\n",
      "full\n",
      "full\n",
      "empty\n",
      "full\n",
      "empty\n",
      "full\n",
      "empty\n",
      "empty\n",
      "full\n",
      "empty\n",
      "empty\n",
      "empty\n",
      "full\n",
      "full\n",
      "full\n",
      "full\n",
      "empty\n",
      "empty\n",
      "empty\n",
      "empty\n",
      "full\n",
      "full\n",
      "empty\n",
      "full\n",
      "empty\n",
      "full\n",
      "empty\n",
      "full\n"
     ]
    }
   ],
   "source": [
    "ws_period_d1_data_set= dslhf.extract_data_of_interest_ipsi_contra_data_set(data_set,\n",
    "                                                                           0,2,\n",
    "                                                                           period_of_interest,\"d1 R\")"
   ]
  },
  {
   "cell_type": "code",
   "execution_count": 18,
   "metadata": {
    "scrolled": true
   },
   "outputs": [
    {
     "name": "stdout",
     "output_type": "stream",
     "text": [
      "empty\n",
      "empty\n",
      "full\n",
      "empty\n",
      "full\n",
      "full\n",
      "full\n",
      "empty\n",
      "empty\n",
      "empty\n",
      "full\n",
      "empty\n",
      "empty\n",
      "full\n",
      "full\n",
      "empty\n",
      "full\n",
      "empty\n",
      "empty\n",
      "empty\n",
      "empty\n",
      "full\n",
      "full\n",
      "empty\n",
      "full\n",
      "full\n",
      "empty\n",
      "empty\n",
      "full\n",
      "full\n",
      "full\n",
      "full\n",
      "empty\n",
      "empty\n",
      "empty\n",
      "full\n",
      "empty\n",
      "full\n",
      "full\n",
      "empty\n",
      "full\n",
      "empty\n",
      "empty\n",
      "empty\n",
      "empty\n",
      "full\n",
      "empty\n",
      "empty\n",
      "empty\n",
      "empty\n",
      "empty\n",
      "full\n",
      "empty\n",
      "full\n",
      "full\n",
      "empty\n",
      "full\n",
      "empty\n",
      "empty\n",
      "full\n",
      "empty\n",
      "empty\n",
      "full\n",
      "empty\n",
      "empty\n",
      "full\n",
      "full\n",
      "full\n",
      "full\n",
      "full\n",
      "full\n",
      "full\n",
      "full\n",
      "full\n",
      "full\n",
      "empty\n",
      "full\n",
      "full\n",
      "empty\n",
      "full\n",
      "empty\n",
      "full\n",
      "empty\n",
      "empty\n",
      "full\n",
      "empty\n",
      "empty\n",
      "empty\n",
      "full\n",
      "full\n",
      "full\n",
      "full\n",
      "empty\n",
      "empty\n",
      "empty\n",
      "empty\n",
      "full\n",
      "full\n",
      "empty\n",
      "full\n",
      "empty\n",
      "full\n",
      "empty\n",
      "full\n"
     ]
    }
   ],
   "source": [
    "ws_period_d2_data_set= dslhf.extract_data_of_interest_ipsi_contra_data_set(data_set,\n",
    "                                                                           0,2,\n",
    "                                                                           period_of_interest,\"d2 R\")"
   ]
  },
  {
   "cell_type": "code",
   "execution_count": 19,
   "metadata": {
    "scrolled": true
   },
   "outputs": [
    {
     "name": "stdout",
     "output_type": "stream",
     "text": [
      "full\n",
      "full\n",
      "full\n",
      "full\n",
      "full\n",
      "full\n",
      "full\n",
      "full\n",
      "full\n",
      "full\n",
      "full\n",
      "full\n",
      "full\n",
      "full\n",
      "full\n",
      "full\n",
      "full\n",
      "full\n",
      "full\n",
      "full\n",
      "full\n",
      "full\n",
      "full\n",
      "full\n",
      "full\n",
      "full\n",
      "full\n",
      "full\n",
      "full\n",
      "full\n",
      "full\n",
      "full\n",
      "full\n",
      "full\n",
      "full\n",
      "full\n",
      "full\n",
      "full\n",
      "full\n",
      "full\n",
      "full\n",
      "full\n",
      "full\n",
      "full\n",
      "full\n",
      "full\n",
      "full\n",
      "full\n",
      "full\n",
      "full\n",
      "full\n",
      "full\n",
      "full\n",
      "full\n",
      "full\n",
      "full\n",
      "full\n",
      "full\n",
      "full\n",
      "full\n",
      "full\n",
      "full\n",
      "full\n",
      "full\n",
      "full\n",
      "full\n",
      "full\n",
      "full\n",
      "full\n",
      "full\n",
      "full\n",
      "full\n",
      "full\n",
      "full\n",
      "full\n",
      "full\n",
      "full\n",
      "full\n",
      "full\n",
      "full\n",
      "full\n",
      "full\n",
      "full\n",
      "full\n",
      "full\n",
      "full\n",
      "full\n",
      "full\n",
      "full\n",
      "full\n",
      "full\n",
      "full\n",
      "full\n",
      "full\n",
      "full\n",
      "full\n",
      "full\n",
      "full\n",
      "full\n",
      "full\n",
      "full\n",
      "full\n",
      "full\n",
      "full\n"
     ]
    }
   ],
   "source": [
    "wr_period_d1_data_set= dslhf.extract_data_of_interest_ipsi_contra_data_set(data_set,\n",
    "                                                                           0,3,\n",
    "                                                                           period_of_interest,\"d1 R\")"
   ]
  },
  {
   "cell_type": "code",
   "execution_count": 20,
   "metadata": {
    "scrolled": true
   },
   "outputs": [
    {
     "name": "stdout",
     "output_type": "stream",
     "text": [
      "full\n",
      "full\n",
      "full\n",
      "full\n",
      "full\n",
      "full\n",
      "full\n",
      "full\n",
      "full\n",
      "full\n",
      "full\n",
      "full\n",
      "full\n",
      "full\n",
      "full\n",
      "full\n",
      "full\n",
      "full\n",
      "full\n",
      "full\n",
      "full\n",
      "full\n",
      "full\n",
      "full\n",
      "full\n",
      "full\n",
      "full\n",
      "full\n",
      "full\n",
      "full\n",
      "full\n",
      "full\n",
      "full\n",
      "full\n",
      "full\n",
      "full\n",
      "full\n",
      "full\n",
      "full\n",
      "full\n",
      "full\n",
      "full\n",
      "full\n",
      "full\n",
      "full\n",
      "full\n",
      "full\n",
      "full\n",
      "full\n",
      "full\n",
      "full\n",
      "full\n",
      "full\n",
      "full\n",
      "full\n",
      "full\n",
      "full\n",
      "full\n",
      "full\n",
      "full\n",
      "full\n",
      "full\n",
      "full\n",
      "full\n",
      "full\n",
      "full\n",
      "full\n",
      "full\n",
      "full\n",
      "full\n",
      "full\n",
      "full\n",
      "full\n",
      "full\n",
      "full\n",
      "full\n",
      "full\n",
      "full\n",
      "full\n",
      "full\n",
      "full\n",
      "full\n",
      "full\n",
      "full\n",
      "full\n",
      "full\n",
      "full\n",
      "full\n",
      "full\n",
      "full\n",
      "full\n",
      "full\n",
      "full\n",
      "full\n",
      "full\n",
      "full\n",
      "full\n",
      "full\n",
      "full\n",
      "full\n",
      "full\n",
      "full\n",
      "full\n",
      "full\n"
     ]
    }
   ],
   "source": [
    "wr_period_d2_data_set= dslhf.extract_data_of_interest_ipsi_contra_data_set(data_set,\n",
    "                                                                           0,3,\n",
    "                                                                           period_of_interest,\"d2 R\")"
   ]
  },
  {
   "cell_type": "code",
   "execution_count": 21,
   "metadata": {
    "scrolled": true
   },
   "outputs": [
    {
     "name": "stdout",
     "output_type": "stream",
     "text": [
      "full\n",
      "full\n",
      "full\n",
      "full\n",
      "full\n",
      "full\n",
      "full\n",
      "full\n",
      "full\n",
      "full\n",
      "full\n",
      "full\n",
      "full\n",
      "full\n",
      "full\n",
      "full\n",
      "full\n",
      "full\n",
      "full\n",
      "full\n",
      "full\n",
      "full\n",
      "full\n",
      "full\n",
      "full\n",
      "full\n",
      "full\n",
      "full\n",
      "full\n",
      "full\n",
      "full\n",
      "full\n",
      "full\n",
      "full\n",
      "full\n",
      "full\n",
      "full\n",
      "full\n",
      "full\n",
      "full\n",
      "full\n",
      "full\n",
      "full\n",
      "full\n",
      "full\n",
      "full\n",
      "full\n",
      "full\n",
      "full\n",
      "full\n",
      "full\n",
      "full\n",
      "full\n",
      "full\n",
      "full\n",
      "full\n",
      "full\n",
      "full\n",
      "full\n",
      "full\n",
      "full\n",
      "full\n",
      "full\n",
      "full\n",
      "full\n",
      "full\n",
      "full\n",
      "full\n",
      "full\n",
      "full\n",
      "full\n",
      "full\n",
      "full\n",
      "full\n",
      "full\n",
      "full\n",
      "full\n",
      "full\n",
      "full\n",
      "full\n",
      "full\n",
      "full\n",
      "full\n",
      "full\n",
      "full\n",
      "full\n",
      "full\n",
      "full\n",
      "full\n",
      "full\n",
      "full\n",
      "full\n",
      "full\n",
      "full\n",
      "full\n",
      "full\n",
      "full\n",
      "full\n",
      "full\n",
      "full\n",
      "full\n",
      "full\n",
      "full\n",
      "full\n"
     ]
    }
   ],
   "source": [
    "ls_period_d1_data_set= dslhf.extract_data_of_interest_ipsi_contra_data_set(data_set,\n",
    "                                                                           0,0,\n",
    "                                                                           period_of_interest,\"d1 R\")"
   ]
  },
  {
   "cell_type": "code",
   "execution_count": 22,
   "metadata": {
    "scrolled": true
   },
   "outputs": [
    {
     "name": "stdout",
     "output_type": "stream",
     "text": [
      "full\n",
      "full\n",
      "full\n",
      "full\n",
      "full\n",
      "full\n",
      "full\n",
      "full\n",
      "full\n",
      "full\n",
      "full\n",
      "full\n",
      "full\n",
      "full\n",
      "full\n",
      "full\n",
      "full\n",
      "full\n",
      "full\n",
      "full\n",
      "full\n",
      "full\n",
      "full\n",
      "full\n",
      "full\n",
      "full\n",
      "full\n",
      "full\n",
      "full\n",
      "full\n",
      "full\n",
      "full\n",
      "full\n",
      "full\n",
      "full\n",
      "full\n",
      "full\n",
      "full\n",
      "full\n",
      "full\n",
      "full\n",
      "full\n",
      "full\n",
      "full\n",
      "full\n",
      "full\n",
      "full\n",
      "full\n",
      "full\n",
      "full\n",
      "full\n",
      "full\n",
      "full\n",
      "full\n",
      "full\n",
      "full\n",
      "full\n",
      "full\n",
      "full\n",
      "full\n",
      "full\n",
      "full\n",
      "full\n",
      "full\n",
      "full\n",
      "full\n",
      "full\n",
      "full\n",
      "full\n",
      "full\n",
      "full\n",
      "full\n",
      "full\n",
      "full\n",
      "full\n",
      "full\n",
      "full\n",
      "full\n",
      "full\n",
      "full\n",
      "full\n",
      "full\n",
      "full\n",
      "full\n",
      "full\n",
      "full\n",
      "full\n",
      "full\n",
      "full\n",
      "full\n",
      "full\n",
      "full\n",
      "full\n",
      "full\n",
      "full\n",
      "full\n",
      "full\n",
      "full\n",
      "full\n",
      "full\n",
      "full\n",
      "full\n",
      "full\n",
      "full\n"
     ]
    }
   ],
   "source": [
    "ls_period_d2_data_set= dslhf.extract_data_of_interest_ipsi_contra_data_set(data_set,\n",
    "                                                                           0,0,\n",
    "                                                                           period_of_interest,\"d2 R\")"
   ]
  },
  {
   "cell_type": "code",
   "execution_count": 23,
   "metadata": {
    "scrolled": true
   },
   "outputs": [
    {
     "name": "stdout",
     "output_type": "stream",
     "text": [
      "full\n",
      "full\n",
      "full\n",
      "full\n",
      "full\n",
      "full\n",
      "full\n",
      "full\n",
      "full\n",
      "full\n",
      "full\n",
      "full\n",
      "full\n",
      "full\n",
      "full\n",
      "full\n",
      "full\n",
      "full\n",
      "full\n",
      "full\n",
      "full\n",
      "empty\n",
      "full\n",
      "empty\n",
      "full\n",
      "empty\n",
      "full\n",
      "full\n",
      "empty\n",
      "empty\n",
      "full\n",
      "empty\n",
      "full\n",
      "full\n",
      "full\n",
      "full\n",
      "empty\n",
      "full\n",
      "full\n",
      "full\n",
      "empty\n",
      "full\n",
      "full\n",
      "full\n",
      "full\n",
      "full\n",
      "full\n",
      "full\n",
      "full\n",
      "full\n",
      "full\n",
      "full\n",
      "full\n",
      "full\n",
      "full\n",
      "full\n",
      "full\n",
      "full\n",
      "full\n",
      "empty\n",
      "empty\n",
      "full\n",
      "full\n",
      "full\n",
      "empty\n",
      "full\n",
      "full\n",
      "full\n",
      "full\n",
      "full\n",
      "full\n",
      "full\n",
      "full\n",
      "full\n",
      "full\n",
      "full\n",
      "full\n",
      "full\n",
      "full\n",
      "full\n",
      "full\n",
      "full\n",
      "full\n",
      "full\n",
      "full\n",
      "full\n",
      "full\n",
      "full\n",
      "full\n",
      "full\n",
      "full\n",
      "full\n",
      "full\n",
      "full\n",
      "full\n",
      "full\n",
      "full\n",
      "full\n",
      "full\n",
      "full\n",
      "full\n",
      "full\n",
      "full\n",
      "full\n"
     ]
    }
   ],
   "source": [
    "lr_period_d1_data_set= dslhf.extract_data_of_interest_ipsi_contra_data_set(data_set,\n",
    "                                                                           0,1,\n",
    "                                                                           period_of_interest,\"d1 R\")"
   ]
  },
  {
   "cell_type": "code",
   "execution_count": 24,
   "metadata": {
    "scrolled": true
   },
   "outputs": [
    {
     "name": "stdout",
     "output_type": "stream",
     "text": [
      "full\n",
      "full\n",
      "full\n",
      "full\n",
      "full\n",
      "full\n",
      "full\n",
      "full\n",
      "full\n",
      "full\n",
      "full\n",
      "full\n",
      "full\n",
      "full\n",
      "full\n",
      "full\n",
      "full\n",
      "full\n",
      "full\n",
      "full\n",
      "full\n",
      "empty\n",
      "full\n",
      "empty\n",
      "full\n",
      "empty\n",
      "full\n",
      "full\n",
      "empty\n",
      "empty\n",
      "full\n",
      "empty\n",
      "full\n",
      "full\n",
      "full\n",
      "full\n",
      "empty\n",
      "full\n",
      "full\n",
      "full\n",
      "empty\n",
      "full\n",
      "full\n",
      "full\n",
      "full\n",
      "full\n",
      "full\n",
      "full\n",
      "full\n",
      "full\n",
      "full\n",
      "full\n",
      "full\n",
      "full\n",
      "full\n",
      "full\n",
      "full\n",
      "full\n",
      "full\n",
      "empty\n",
      "empty\n",
      "full\n",
      "full\n",
      "full\n",
      "empty\n",
      "full\n",
      "full\n",
      "full\n",
      "full\n",
      "full\n",
      "full\n",
      "full\n",
      "full\n",
      "full\n",
      "full\n",
      "full\n",
      "full\n",
      "full\n",
      "full\n",
      "full\n",
      "full\n",
      "full\n",
      "full\n",
      "full\n",
      "full\n",
      "full\n",
      "full\n",
      "full\n",
      "full\n",
      "full\n",
      "full\n",
      "full\n",
      "full\n",
      "full\n",
      "full\n",
      "full\n",
      "full\n",
      "full\n",
      "full\n",
      "full\n",
      "full\n",
      "full\n",
      "full\n",
      "full\n"
     ]
    }
   ],
   "source": [
    "lr_period_d2_data_set= dslhf.extract_data_of_interest_ipsi_contra_data_set(data_set,\n",
    "                                                                           0,1,\n",
    "                                                                           period_of_interest,\"d2 R\")"
   ]
  },
  {
   "cell_type": "code",
   "execution_count": 25,
   "metadata": {},
   "outputs": [],
   "source": [
    "def combine_data_of_interest (data_set_1, data_set_2): \n",
    "    \n",
    "    ipsi_contra_data_set_combined = []\n",
    "    \n",
    "    for session_1,session_2 in zip(data_set_1,data_set_2):\n",
    "        ipsi_contra = combine_data_of_interest_helper(session_1,session_2)\n",
    "        ipsi_contra_data_set_combined.append(ipsi_contra)\n",
    "        \n",
    "    return (ipsi_contra_data_set_combined)"
   ]
  },
  {
   "cell_type": "code",
   "execution_count": 26,
   "metadata": {},
   "outputs": [],
   "source": [
    "def combine_data_of_interest_helper (session_1, session_2):\n",
    "#combine function: \n",
    "#append the win switch (if exists) to the win repeats that do exist.\n",
    "    ipsi_combined =  pd.concat([session_1[0],session_2[1]],axis=1)\n",
    "    contra_combined =  pd.concat([session_1[1],session_2[0]],axis=1)\n",
    "\n",
    "    #contra_combined = PhotoData_perTrial_channels[rl][1][tt][period][cell_type]\n",
    "    return (ipsi_combined,contra_combined)"
   ]
  },
  {
   "cell_type": "code",
   "execution_count": 27,
   "metadata": {},
   "outputs": [],
   "source": [
    "d1_win_data_set = combine_data_of_interest (wr_period_d1_data_set,ws_period_d1_data_set)"
   ]
  },
  {
   "cell_type": "code",
   "execution_count": 28,
   "metadata": {},
   "outputs": [],
   "source": [
    "d2_win_data_set = combine_data_of_interest (wr_period_d2_data_set,ws_period_d2_data_set)"
   ]
  },
  {
   "cell_type": "code",
   "execution_count": 29,
   "metadata": {},
   "outputs": [],
   "source": [
    "d1_lose_data_set = combine_data_of_interest (lr_period_d1_data_set,ls_period_d1_data_set)"
   ]
  },
  {
   "cell_type": "code",
   "execution_count": 30,
   "metadata": {},
   "outputs": [],
   "source": [
    "d2_lose_data_set = combine_data_of_interest (lr_period_d2_data_set,ls_period_d2_data_set)"
   ]
  },
  {
   "cell_type": "code",
   "execution_count": 31,
   "metadata": {},
   "outputs": [],
   "source": [
    "def calculate_mean_data_set (ipsi_contra_data_set): \n",
    "    \n",
    "    df_ipsi_previous = pd.DataFrame()\n",
    "    df_contra_previous = pd.DataFrame()\n",
    "    \n",
    "    for session_data in ipsi_contra_data_set:\n",
    "        \n",
    "        mean_ipsi_previous = session_data[0].mean(axis=1)\n",
    "        mean_contra_previous = session_data[1].mean(axis=1)\n",
    "        \n",
    "        df_ipsi_previous = pd.concat([df_ipsi_previous,mean_ipsi_previous],axis=1)\n",
    "        df_contra_previous = pd.concat([df_contra_previous,mean_contra_previous],axis=1)\n",
    "        \n",
    "        \n",
    "    return (df_ipsi_previous,df_contra_previous)\n"
   ]
  },
  {
   "cell_type": "code",
   "execution_count": 32,
   "metadata": {},
   "outputs": [],
   "source": [
    "d1_win_mean_ipsi_contra = calculate_mean_data_set(d1_win_data_set)"
   ]
  },
  {
   "cell_type": "code",
   "execution_count": 33,
   "metadata": {},
   "outputs": [],
   "source": [
    "d2_win_mean_ipsi_contra = calculate_mean_data_set(d2_win_data_set)"
   ]
  },
  {
   "cell_type": "code",
   "execution_count": 34,
   "metadata": {},
   "outputs": [],
   "source": [
    "d1_lose_mean_ipsi_contra = calculate_mean_data_set(d1_lose_data_set)"
   ]
  },
  {
   "cell_type": "code",
   "execution_count": 35,
   "metadata": {},
   "outputs": [],
   "source": [
    "d2_lose_mean_ipsi_contra = calculate_mean_data_set(d2_lose_data_set)"
   ]
  },
  {
   "cell_type": "code",
   "execution_count": null,
   "metadata": {},
   "outputs": [],
   "source": []
  },
  {
   "cell_type": "code",
   "execution_count": 36,
   "metadata": {},
   "outputs": [
    {
     "data": {
      "text/plain": [
       "[0, 10, 21, 39, 53, 74, 84, 93, 104]"
      ]
     },
     "execution_count": 36,
     "metadata": {},
     "output_type": "execute_result"
    }
   ],
   "source": [
    "sessionIndex_perMouse = list(map(int,sessionIndex_perMouse))\n",
    "sessionIndex_perMouse"
   ]
  },
  {
   "cell_type": "code",
   "execution_count": 37,
   "metadata": {},
   "outputs": [],
   "source": [
    "def calculate_mean_per_mouse_ipsi_contra(data_set,sessionIndex_perMouse):\n",
    "    \n",
    "    avg_per_mouse_df_ipsi = pd.DataFrame()\n",
    "    avg_per_mouse_df_contra = pd.DataFrame()\n",
    "    \n",
    "    for list_index in range(len(sessionIndex_perMouse)-1):\n",
    "        \n",
    "        avg_per_mouse_ipsi = data_set[0].iloc[:,sessionIndex_perMouse[list_index]:sessionIndex_perMouse[list_index+1]].mean(axis=1)\n",
    "        avg_per_mouse_df_ipsi = pd.concat([avg_per_mouse_df_ipsi,avg_per_mouse_ipsi],axis=1)\n",
    "    \n",
    "\n",
    "        \n",
    "        avg_per_mouse_contra = data_set[1].iloc[:,sessionIndex_perMouse[list_index]:sessionIndex_perMouse[list_index+1]].mean(axis=1)\n",
    "        avg_per_mouse_df_contra = pd.concat([avg_per_mouse_df_contra,avg_per_mouse_contra],axis=1)\n",
    "        \n",
    "    avg_per_mouse_df_ipsi_data_set = avg_per_mouse_df_ipsi.mean(axis=1)\n",
    "    avg_per_mouse_df_contra_data_set = avg_per_mouse_df_contra.mean(axis=1)\n",
    "    \n",
    "    return (avg_per_mouse_df_ipsi, avg_per_mouse_df_ipsi_data_set,\n",
    "            avg_per_mouse_df_contra, avg_per_mouse_df_contra_data_set)"
   ]
  },
  {
   "cell_type": "code",
   "execution_count": 38,
   "metadata": {},
   "outputs": [],
   "source": [
    "d1_win_mean_ipsi_contra_per_mouse_data_set = calculate_mean_per_mouse_ipsi_contra(d1_win_mean_ipsi_contra,sessionIndex_perMouse)"
   ]
  },
  {
   "cell_type": "code",
   "execution_count": 39,
   "metadata": {},
   "outputs": [],
   "source": [
    "d2_win_mean_ipsi_contra_per_mouse_data_set = calculate_mean_per_mouse_ipsi_contra(d2_win_mean_ipsi_contra,sessionIndex_perMouse)"
   ]
  },
  {
   "cell_type": "code",
   "execution_count": 40,
   "metadata": {},
   "outputs": [],
   "source": [
    "d1_lose_mean_ipsi_contra_per_mouse_data_set = calculate_mean_per_mouse_ipsi_contra(d1_lose_mean_ipsi_contra,sessionIndex_perMouse)\n",
    "\n"
   ]
  },
  {
   "cell_type": "code",
   "execution_count": 41,
   "metadata": {},
   "outputs": [],
   "source": [
    "d2_lose_mean_ipsi_contra_per_mouse_data_set = calculate_mean_per_mouse_ipsi_contra(d2_lose_mean_ipsi_contra,sessionIndex_perMouse)\n",
    "\n"
   ]
  },
  {
   "cell_type": "markdown",
   "metadata": {},
   "source": [
    "# plots"
   ]
  },
  {
   "cell_type": "code",
   "execution_count": 42,
   "metadata": {},
   "outputs": [],
   "source": [
    "import matplotlib as mpl"
   ]
  },
  {
   "cell_type": "code",
   "execution_count": 43,
   "metadata": {},
   "outputs": [],
   "source": [
    "def plot_win_or_lose_ipsi_contra_per_mouse(mean_ipsi_contra_per_mouse_data_set,\n",
    "                                           trial_type,period_of_interest,cell_type,y_axis,path_to_plot):\n",
    "    \n",
    "        \n",
    "    \n",
    "    for i in range(len(mean_ipsi_contra_per_mouse_data_set[0].columns)):\n",
    "        \n",
    "        plt.plot(mean_ipsi_contra_per_mouse_data_set[0].iloc[:,i],color='blue', linewidth=0.2,alpha=0.5)\n",
    "        plt.plot(mean_ipsi_contra_per_mouse_data_set[2].iloc[:,i],color='orange', linewidth=0.2,alpha=0.5)\n",
    "        \n",
    "        print (\"ok\")\n",
    "    \n",
    "    plt.plot(mean_ipsi_contra_per_mouse_data_set[1],linewidth=2.5, label=\"ipsi_next\")\n",
    "    plt.plot(mean_ipsi_contra_per_mouse_data_set[3],linewidth=2.5, label=\"contra_next\")\n",
    "    \n",
    "\n",
    "    plt.ylim([-1,2.5])\n",
    "    \n",
    "    \n",
    "    \n",
    "    # Add legend\n",
    "    plt.legend(loc='upper right')\n",
    "\n",
    "    # Add title and x, y labels\n",
    "    title = trial_type+\"_\"+\"(\"+period_of_interest+\")\"\n",
    "    plt.title(title, fontsize=16, fontweight='bold')\n",
    "    plt.suptitle(cell_type, fontsize=16)\n",
    "\n",
    "    plt.xlabel(\"time_bins\")\n",
    "    \n",
    "    #the y axis is defined in the paper mill. This allows to run 7_b with 3a,3b,3c and any future 3s, easliy changing the \n",
    "    #the name of the y axis to not cause confusion. \n",
    "    plt.ylabel(y_axis)\n",
    "    plt.savefig(path_to_plot+\"/\"+\"_\"+trial_type+cell_type+\"_\"+period_of_interest+'.pdf')\n",
    "    plt.show()"
   ]
  },
  {
   "cell_type": "code",
   "execution_count": 45,
   "metadata": {
    "scrolled": false
   },
   "outputs": [
    {
     "name": "stdout",
     "output_type": "stream",
     "text": [
      "ok\n",
      "ok\n",
      "ok\n",
      "ok\n",
      "ok\n",
      "ok\n",
      "ok\n",
      "ok\n"
     ]
    },
    {
     "data": {
      "image/png": "[encoded data removed]",
      "text/plain": [
       "<Figure size 432x288 with 1 Axes>"
      ]
     },
     "metadata": {
      "needs_background": "light"
     },
     "output_type": "display_data"
    }
   ],
   "source": [
    "plot_win_or_lose_ipsi_contra_per_mouse(d1_win_mean_ipsi_contra_per_mouse_data_set,\n",
    "                                       \"win ipsi vs contra previous\",period_of_interest,\"D1\",y_axis,cache_dir_plt)"
   ]
  },
  {
   "cell_type": "code",
   "execution_count": 46,
   "metadata": {
    "scrolled": false
   },
   "outputs": [
    {
     "name": "stdout",
     "output_type": "stream",
     "text": [
      "ok\n",
      "ok\n",
      "ok\n",
      "ok\n",
      "ok\n",
      "ok\n",
      "ok\n",
      "ok\n"
     ]
    },
    {
     "data": {
      "image/png": "[encoded data removed]",
      "text/plain": [
       "<Figure size 432x288 with 1 Axes>"
      ]
     },
     "metadata": {
      "needs_background": "light"
     },
     "output_type": "display_data"
    }
   ],
   "source": [
    "plot_win_or_lose_ipsi_contra_per_mouse(d2_win_mean_ipsi_contra_per_mouse_data_set,\n",
    "                                       \"win ipsi vs contra previous\",period_of_interest,\"D2\",y_axis,cache_dir_plt)"
   ]
  },
  {
   "cell_type": "code",
   "execution_count": 47,
   "metadata": {
    "scrolled": false
   },
   "outputs": [
    {
     "name": "stdout",
     "output_type": "stream",
     "text": [
      "ok\n",
      "ok\n",
      "ok\n",
      "ok\n",
      "ok\n",
      "ok\n",
      "ok\n",
      "ok\n"
     ]
    },
    {
     "data": {
      "image/png": "[encoded data removed]",
      "text/plain": [
       "<Figure size 432x288 with 1 Axes>"
      ]
     },
     "metadata": {
      "needs_background": "light"
     },
     "output_type": "display_data"
    }
   ],
   "source": [
    "plot_win_or_lose_ipsi_contra_per_mouse(d1_lose_mean_ipsi_contra_per_mouse_data_set,\n",
    "                                       \"lose ipsi vs contra previous\",period_of_interest,\"D1\",y_axis,cache_dir_plt)"
   ]
  },
  {
   "cell_type": "code",
   "execution_count": 48,
   "metadata": {},
   "outputs": [
    {
     "name": "stdout",
     "output_type": "stream",
     "text": [
      "ok\n",
      "ok\n",
      "ok\n",
      "ok\n",
      "ok\n",
      "ok\n",
      "ok\n",
      "ok\n"
     ]
    },
    {
     "data": {
      "image/png": "[encoded data removed]",
      "text/plain": [
       "<Figure size 432x288 with 1 Axes>"
      ]
     },
     "metadata": {
      "needs_background": "light"
     },
     "output_type": "display_data"
    }
   ],
   "source": [
    "plot_win_or_lose_ipsi_contra_per_mouse(d2_lose_mean_ipsi_contra_per_mouse_data_set,\n",
    "                                       \"lose ipsi vs contra previous\",period_of_interest,\"D2\",y_axis,cache_dir_plt)"
   ]
  },
  {
   "cell_type": "code",
   "execution_count": null,
   "metadata": {},
   "outputs": [],
   "source": []
  }
 ],
 "metadata": {
  "celltoolbar": "Tags",
  "kernelspec": {
   "display_name": "Python 3",
   "language": "python",
   "name": "python3"
  },
  "language_info": {
   "codemirror_mode": {
    "name": "ipython",
    "version": 3
   },
   "file_extension": ".py",
   "mimetype": "text/x-python",
   "name": "python",
   "nbconvert_exporter": "python",
   "pygments_lexer": "ipython3",
   "version": "3.7.3"
  }
 },
 "nbformat": 4,
 "nbformat_minor": 4
}
