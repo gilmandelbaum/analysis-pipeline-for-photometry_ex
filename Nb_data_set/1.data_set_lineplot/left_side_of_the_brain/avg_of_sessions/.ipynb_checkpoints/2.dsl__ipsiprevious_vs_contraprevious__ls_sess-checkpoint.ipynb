{
 "cells": [
  {
   "cell_type": "code",
   "execution_count": null,
   "metadata": {},
   "outputs": [],
   "source": [
    "import pickle\n",
    "from pathlib import Path\n",
    "import pandas as pd \n",
    "import os\n",
    "import sys\n",
    "import matplotlib.pyplot as plt\n",
    "import getpass"
   ]
  },
  {
   "cell_type": "markdown",
   "metadata": {},
   "source": [
    "# importing the helper functions: "
   ]
  },
  {
   "cell_type": "code",
   "execution_count": null,
   "metadata": {},
   "outputs": [],
   "source": [
    "#add the github path that will run the notebooks: \n",
    "username = getpass.getuser() # gets the username from the current comp \n",
    "print (username)"
   ]
  },
  {
   "cell_type": "code",
   "execution_count": null,
   "metadata": {},
   "outputs": [],
   "source": [
    "sys.path.insert(0,'/Users/{:}/github/analysis-pipeline-for-photometry_ex/Nb_data_set/1.data_set_lineplot'.format(username))"
   ]
  },
  {
   "cell_type": "code",
   "execution_count": null,
   "metadata": {},
   "outputs": [],
   "source": [
    "sys.path[0]"
   ]
  },
  {
   "cell_type": "code",
   "execution_count": null,
   "metadata": {},
   "outputs": [],
   "source": [
    "import data_set_lineplot_ic_together_helper_functions as dslhf"
   ]
  },
  {
   "cell_type": "markdown",
   "metadata": {},
   "source": [
    "# parameters when using papermill:"
   ]
  },
  {
   "cell_type": "code",
   "execution_count": null,
   "metadata": {
    "tags": [
     "parameters"
    ]
   },
   "outputs": [],
   "source": [
    "seq_str = '0a1b2a3b4abcd5a6a7a'\n",
    "period_of_interest = \"combined_periods_1\"\n",
    "HowManyBasck=1\n",
    "folderName=\"left_dual_color_photo_full_data_set_after_inspection\" #folder where the plot data_set will be saved \n",
    "#where to load the data from: \n",
    "path_to_load_data = \"/Volumes/GilInVivoPaper.large/2.Photometry_in_str/1.lateral_medial_6_analysis//left_dual_color_photo_full_data/0a1b2a3b4abcd5a6a7a\""
   ]
  },
  {
   "cell_type": "markdown",
   "metadata": {},
   "source": [
    "# folder name of analysis: "
   ]
  },
  {
   "cell_type": "code",
   "execution_count": null,
   "metadata": {},
   "outputs": [],
   "source": [
    "analysis_type = \"2.dsl__ipsiprevious_vs_contraprevious__ls_sess\""
   ]
  },
  {
   "cell_type": "code",
   "execution_count": null,
   "metadata": {},
   "outputs": [],
   "source": [
    "sys.executable"
   ]
  },
  {
   "cell_type": "markdown",
   "metadata": {},
   "source": [
    "# where to save the data: "
   ]
  },
  {
   "cell_type": "code",
   "execution_count": null,
   "metadata": {},
   "outputs": [],
   "source": [
    "path_to_save_plots = path_to_load_data+\"/\"+\"line_plots\"+\"/\"+\"avg_of_sessions\"+\"/\"+analysis_type "
   ]
  },
  {
   "cell_type": "code",
   "execution_count": null,
   "metadata": {},
   "outputs": [],
   "source": [
    "path_to_save_plots"
   ]
  },
  {
   "cell_type": "markdown",
   "metadata": {},
   "source": [
    "# Import the data and where to save it "
   ]
  },
  {
   "cell_type": "code",
   "execution_count": null,
   "metadata": {},
   "outputs": [],
   "source": [
    "%%time\n",
    "root = Path(path_to_load_data)\n",
    "d = \"data_object_photometry_after_processing\"+\"_\"+seq_str+'.pickle'\n",
    "my_path = root / d \n",
    "fileToOpen = open(my_path, 'rb')\n",
    "data_set = pickle.load(fileToOpen)"
   ]
  },
  {
   "cell_type": "markdown",
   "metadata": {},
   "source": [
    "# label y axis "
   ]
  },
  {
   "cell_type": "code",
   "execution_count": null,
   "metadata": {},
   "outputs": [],
   "source": [
    "y_axis_list = [\"df_f\",\"z_score\",\"z_score_sliding_window\"]"
   ]
  },
  {
   "cell_type": "code",
   "execution_count": null,
   "metadata": {},
   "outputs": [],
   "source": [
    "alphabet = [\"a\",\"b\",\"c\",\"d\",\"e\",\"f\",\"g\"]\n",
    "y_axis = y_axis_list[alphabet.index(seq_str[:seq_str.index('4')][-1])]\n",
    "print (y_axis)"
   ]
  },
  {
   "cell_type": "code",
   "execution_count": null,
   "metadata": {},
   "outputs": [],
   "source": []
  },
  {
   "cell_type": "code",
   "execution_count": null,
   "metadata": {},
   "outputs": [],
   "source": [
    "# stash result in a cache directory.\n",
    "cache_dir_plt = os.path.join(path_to_save_plots,period_of_interest)\n",
    "if not os.path.exists(cache_dir_plt):\n",
    "    os.makedirs(cache_dir_plt)"
   ]
  },
  {
   "cell_type": "code",
   "execution_count": null,
   "metadata": {},
   "outputs": [],
   "source": [
    "cache_dir_plt"
   ]
  },
  {
   "cell_type": "markdown",
   "metadata": {},
   "source": [
    "# generate data sets of interest"
   ]
  },
  {
   "cell_type": "code",
   "execution_count": null,
   "metadata": {},
   "outputs": [],
   "source": [
    "#combinations = [(2, 2), (2, 1), (1, 2), (1, 1)]"
   ]
  },
  {
   "cell_type": "code",
   "execution_count": null,
   "metadata": {
    "scrolled": true
   },
   "outputs": [],
   "source": [
    "ws_period_d1_data_set= dslhf.extract_data_of_interest_ipsi_contra_data_set(data_set,\n",
    "                                                                           1,2,\n",
    "                                                                           period_of_interest,\"d1 L\")"
   ]
  },
  {
   "cell_type": "code",
   "execution_count": null,
   "metadata": {
    "scrolled": true
   },
   "outputs": [],
   "source": [
    "ws_period_d2_data_set= dslhf.extract_data_of_interest_ipsi_contra_data_set(data_set,\n",
    "                                                                           1,2,\n",
    "                                                                           period_of_interest,\"d2 L\")"
   ]
  },
  {
   "cell_type": "code",
   "execution_count": null,
   "metadata": {
    "scrolled": true
   },
   "outputs": [],
   "source": [
    "wr_period_d1_data_set= dslhf.extract_data_of_interest_ipsi_contra_data_set(data_set,\n",
    "                                                                           1,3,\n",
    "                                                                           period_of_interest,\"d1 L\")"
   ]
  },
  {
   "cell_type": "code",
   "execution_count": null,
   "metadata": {
    "scrolled": true
   },
   "outputs": [],
   "source": [
    "wr_period_d2_data_set= dslhf.extract_data_of_interest_ipsi_contra_data_set(data_set,\n",
    "                                                                           1,3,\n",
    "                                                                           period_of_interest,\"d2 L\")"
   ]
  },
  {
   "cell_type": "code",
   "execution_count": null,
   "metadata": {
    "scrolled": true
   },
   "outputs": [],
   "source": [
    "ls_period_d1_data_set= dslhf.extract_data_of_interest_ipsi_contra_data_set(data_set,\n",
    "                                                                           1,0,\n",
    "                                                                           period_of_interest,\"d1 L\")"
   ]
  },
  {
   "cell_type": "code",
   "execution_count": null,
   "metadata": {
    "scrolled": true
   },
   "outputs": [],
   "source": [
    "ls_period_d2_data_set= dslhf.extract_data_of_interest_ipsi_contra_data_set(data_set,\n",
    "                                                                           1,0,\n",
    "                                                                           period_of_interest,\"d2 L\")"
   ]
  },
  {
   "cell_type": "code",
   "execution_count": null,
   "metadata": {
    "scrolled": true
   },
   "outputs": [],
   "source": [
    "lr_period_d1_data_set= dslhf.extract_data_of_interest_ipsi_contra_data_set(data_set,\n",
    "                                                                           1,1,\n",
    "                                                                           period_of_interest,\"d1 L\")"
   ]
  },
  {
   "cell_type": "code",
   "execution_count": null,
   "metadata": {
    "scrolled": true
   },
   "outputs": [],
   "source": [
    "lr_period_d2_data_set= dslhf.extract_data_of_interest_ipsi_contra_data_set(data_set,\n",
    "                                                                           1,1,\n",
    "                                                                           period_of_interest,\"d2 L\")"
   ]
  },
  {
   "cell_type": "markdown",
   "metadata": {},
   "source": [
    "combining the win repeat and win switch\n",
    "\n",
    "combining the lose switch and lose repeat"
   ]
  },
  {
   "cell_type": "code",
   "execution_count": null,
   "metadata": {},
   "outputs": [],
   "source": [
    "def combine_all_ipsi_or_contra_data_of_interest_previous (data_set_1, data_set_2,data_set_3,data_set_4): \n",
    "    \n",
    "    ipsi_contra_data_set_combined = []\n",
    "    \n",
    "    for condition_1,condition_2,condition_3,condition_4 in zip(data_set_1,data_set_2,data_set_3,data_set_4):\n",
    "        \n",
    "        ipsi_contra_previous = combine_all_ipsi_or_contra_data_of_interest_helper_previous(condition_1,condition_2,condition_3,condition_4)\n",
    "        ipsi_contra_data_set_combined.append(ipsi_contra_previous)\n",
    "        \n",
    "    return (ipsi_contra_data_set_combined)"
   ]
  },
  {
   "cell_type": "code",
   "execution_count": null,
   "metadata": {},
   "outputs": [],
   "source": [
    "def combine_all_ipsi_or_contra_data_of_interest_helper_previous (condition_1,condition_2,condition_3,condition_4):\n",
    "#combine function: \n",
    "#append the win switch (if exists) to the win repeats that do exist.\n",
    "    ipsi_combined =  pd.concat([condition_1[0],condition_2[1],condition_3[1],condition_4[0]],axis=1)\n",
    "    contra_combined =  pd.concat([condition_1[1],condition_2[0],condition_3[0],condition_4[1]],axis=1)\n",
    "\n",
    "    #contra_combined = PhotoData_perTrial_channels[rl][1][tt][period][cell_type]\n",
    "    return (ipsi_combined,contra_combined)"
   ]
  },
  {
   "cell_type": "code",
   "execution_count": null,
   "metadata": {},
   "outputs": [],
   "source": [
    "d1_data_set = combine_all_ipsi_or_contra_data_of_interest_previous (wr_period_d1_data_set,\n",
    "                                                                    ws_period_d1_data_set,\n",
    "                                                                    ls_period_d1_data_set,\n",
    "                                                                    lr_period_d1_data_set)"
   ]
  },
  {
   "cell_type": "code",
   "execution_count": null,
   "metadata": {},
   "outputs": [],
   "source": [
    "d2_data_set = combine_all_ipsi_or_contra_data_of_interest_previous (wr_period_d2_data_set,\n",
    "                                                                    ws_period_d2_data_set,\n",
    "                                                                    ls_period_d2_data_set,\n",
    "                                                                    lr_period_d2_data_set)"
   ]
  },
  {
   "cell_type": "code",
   "execution_count": null,
   "metadata": {},
   "outputs": [],
   "source": [
    "def calculate_mean_data_set (ipsi_contra_data_set): \n",
    "    \n",
    "    df_ipsi_previous = pd.DataFrame()\n",
    "    df_contra_previous = pd.DataFrame()\n",
    "    \n",
    "    for session_data in ipsi_contra_data_set:\n",
    "        \n",
    "        mean_ipsi_previous = session_data[0].mean(axis=1)\n",
    "        mean_contra_previous = session_data[1].mean(axis=1)\n",
    "        \n",
    "        df_ipsi_previous = pd.concat([df_ipsi_previous,mean_ipsi_previous],axis=1)\n",
    "        df_contra_previous = pd.concat([df_contra_previous,mean_contra_previous],axis=1)\n",
    "        \n",
    "        \n",
    "    return (df_ipsi_previous,df_contra_previous)\n"
   ]
  },
  {
   "cell_type": "code",
   "execution_count": null,
   "metadata": {},
   "outputs": [],
   "source": [
    "d1_mean_ipsi_contra = calculate_mean_data_set(d1_data_set)"
   ]
  },
  {
   "cell_type": "code",
   "execution_count": null,
   "metadata": {},
   "outputs": [],
   "source": [
    "d2_mean_ipsi_contra = calculate_mean_data_set(d2_data_set)"
   ]
  },
  {
   "cell_type": "code",
   "execution_count": null,
   "metadata": {},
   "outputs": [],
   "source": [
    "def calculate_mean_sem(data_ipsi_contra):\n",
    "    \n",
    "    number_of_trials_ipsi_previous = len(data_ipsi_contra[0].columns)\n",
    "    number_of_trials_contra_previous = len(data_ipsi_contra[1].columns)\n",
    "    \n",
    "    mean_ipsi_previous = data_ipsi_contra[0].mean(axis=1)\n",
    "    mean_contra_previous = data_ipsi_contra[1].mean(axis=1)\n",
    "    \n",
    "    sem_ipsi_previous = data_ipsi_contra[0].std(axis=1)/(number_of_trials_ipsi_previous**0.5)\n",
    "    sem_contra_previous = data_ipsi_contra[1].std(axis=1)/(number_of_trials_contra_previous**0.5)\n",
    "    \n",
    "    \n",
    "    return (mean_ipsi_previous, sem_ipsi_previous,\n",
    "            mean_contra_previous, sem_contra_previous,\n",
    "            number_of_trials_ipsi_previous, number_of_trials_contra_previous)\n",
    "    #in the return - its called trials but its actually sessions. I am just using the same code as notebook 7s so kept it the same.\n"
   ]
  },
  {
   "cell_type": "markdown",
   "metadata": {},
   "source": [
    "# calculate mean and sem for each session - both ipsi and contra "
   ]
  },
  {
   "cell_type": "code",
   "execution_count": null,
   "metadata": {},
   "outputs": [],
   "source": [
    "d1_mean_sem_ipsi_contra = calculate_mean_sem (d1_mean_ipsi_contra)"
   ]
  },
  {
   "cell_type": "code",
   "execution_count": null,
   "metadata": {},
   "outputs": [],
   "source": [
    "d2_mean_sem_ipsi_contra = calculate_mean_sem (d2_mean_ipsi_contra)"
   ]
  },
  {
   "cell_type": "markdown",
   "metadata": {},
   "source": [
    "# Calculate means and sem on the data set "
   ]
  },
  {
   "cell_type": "code",
   "execution_count": null,
   "metadata": {},
   "outputs": [],
   "source": [
    "\n",
    "#make_sem_traces is a function that helps making the sem traces for the plots. \n",
    "def make_sem_traces (data_ipsi_contra_mean_sem):\n",
    "    sem_up_ipsi_previous = data_ipsi_contra_mean_sem[0]+data_ipsi_contra_mean_sem[1]/2\n",
    "    sem_down_ipsi_previous = data_ipsi_contra_mean_sem[0]-data_ipsi_contra_mean_sem[1]/2\n",
    "    \n",
    "    sem_up_contra_previous = data_ipsi_contra_mean_sem[2]+data_ipsi_contra_mean_sem[3]/2\n",
    "    sem_down_contra_previous = data_ipsi_contra_mean_sem[2]-data_ipsi_contra_mean_sem[3]/2\n",
    "    \n",
    "    return (sem_up_ipsi_previous,sem_down_ipsi_previous,sem_up_contra_previous,sem_down_contra_previous)\n",
    "\n",
    "\n"
   ]
  },
  {
   "cell_type": "code",
   "execution_count": null,
   "metadata": {},
   "outputs": [],
   "source": [
    "d1_sem_traces = make_sem_traces(d1_mean_sem_ipsi_contra)"
   ]
  },
  {
   "cell_type": "code",
   "execution_count": null,
   "metadata": {},
   "outputs": [],
   "source": [
    "d2_sem_traces = make_sem_traces(d2_mean_sem_ipsi_contra)"
   ]
  },
  {
   "cell_type": "markdown",
   "metadata": {},
   "source": [
    "# plots"
   ]
  },
  {
   "cell_type": "code",
   "execution_count": null,
   "metadata": {},
   "outputs": [],
   "source": [
    "import matplotlib as mpl"
   ]
  },
  {
   "cell_type": "code",
   "execution_count": null,
   "metadata": {},
   "outputs": [],
   "source": [
    "#data_ipsi_contra_mean_sem is the output of calculate_mean_sem\n",
    "#sem_traces is the output of make_sem_traces.\n",
    "\n",
    "\n",
    "def plot_ipsi_contra_together (data_ipsi_contra_mean_sem,sem_traces,\n",
    "                               trial_type,period_of_interest,cell_type,y_axis,path_to_plot):\n",
    "    #number of sessions is the same ipsi and contra. \n",
    "    \n",
    "    plt.plot(data_ipsi_contra_mean_sem[0],linewidth=2, label=\"ipsi_previous\"+\" \"+\"(\" +str(data_ipsi_contra_mean_sem[4]))\n",
    "    plt.plot(data_ipsi_contra_mean_sem[2],linewidth=2, label=\"contra_previous\"+\" \"+\"(\" +str(data_ipsi_contra_mean_sem[4]))\n",
    "    \n",
    "    plt.plot(sem_traces[0],color='black', linewidth=0.5,alpha=0.8)\n",
    "    plt.plot(sem_traces[1],color='black', linewidth=0.5,alpha=0.8)\n",
    "    plt.plot(sem_traces[2],color='black', linewidth=0.5,alpha=0.8)\n",
    "    plt.plot(sem_traces[3],color='black', linewidth=0.5,alpha=0.8)\n",
    "    \n",
    "    # Add legend\n",
    "    plt.legend(loc='upper right')\n",
    "    \n",
    "    \n",
    "    # Add title and x, y labels\n",
    "    title = trial_type+\"_\"+\"(\"+period_of_interest+\")\"\n",
    "    plt.title(title, fontsize=16, fontweight='bold')\n",
    "    plt.suptitle(cell_type, fontsize=16)\n",
    "\n",
    "    plt.xlabel(\"time_bins\")\n",
    "    \n",
    "    #the y axis is defined in the paper mill. This allows to run 7_b with 3a,3b,3c and any future 3s, easliy changing the \n",
    "    #the name of the y axis to not cause confusion. \n",
    "    plt.ylabel(y_axis)\n",
    "    plt.savefig(path_to_plot+\"/\"+\"_\"+trial_type+cell_type+\"_\"+period_of_interest+'.pdf')\n",
    "    plt.show()"
   ]
  },
  {
   "cell_type": "code",
   "execution_count": null,
   "metadata": {
    "scrolled": false
   },
   "outputs": [],
   "source": [
    "plot_ipsi_contra_together(d1_mean_sem_ipsi_contra,\n",
    "                          d1_sem_traces,\n",
    "                          \"left side ipsi vs contra previous\",period_of_interest,\"D1\",y_axis,cache_dir_plt)"
   ]
  },
  {
   "cell_type": "code",
   "execution_count": null,
   "metadata": {
    "scrolled": true
   },
   "outputs": [],
   "source": [
    "plot_ipsi_contra_together(d2_mean_sem_ipsi_contra,\n",
    "                          d2_sem_traces,\n",
    "                          \"left side ipsi vs contra previous\",period_of_interest,\"D2\",y_axis,cache_dir_plt)"
   ]
  },
  {
   "cell_type": "code",
   "execution_count": null,
   "metadata": {},
   "outputs": [],
   "source": []
  }
 ],
 "metadata": {
  "celltoolbar": "Tags",
  "kernelspec": {
   "display_name": "Python 3",
   "language": "python",
   "name": "python3"
  },
  "language_info": {
   "codemirror_mode": {
    "name": "ipython",
    "version": 3
   },
   "file_extension": ".py",
   "mimetype": "text/x-python",
   "name": "python",
   "nbconvert_exporter": "python",
   "pygments_lexer": "ipython3",
   "version": "3.7.3"
  }
 },
 "nbformat": 4,
 "nbformat_minor": 4
}
