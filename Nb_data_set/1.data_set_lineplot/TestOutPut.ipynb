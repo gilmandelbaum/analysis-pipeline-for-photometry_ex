{
 "cells": [
  {
   "cell_type": "code",
   "execution_count": 1,
   "metadata": {
    "execution": {
     "iopub.execute_input": "2020-08-14T21:55:49.687847Z",
     "iopub.status.busy": "2020-08-14T21:55:49.686867Z",
     "iopub.status.idle": "2020-08-14T21:55:50.331722Z",
     "shell.execute_reply": "2020-08-14T21:55:50.331083Z"
    },
    "papermill": {
     "duration": 0.678989,
     "end_time": "2020-08-14T21:55:50.331819",
     "exception": false,
     "start_time": "2020-08-14T21:55:49.652830",
     "status": "completed"
    },
    "tags": []
   },
   "outputs": [],
   "source": [
    "import pickle\n",
    "from pathlib import Path\n",
    "import pandas as pd \n",
    "import os\n",
    "import sys\n",
    "import matplotlib.pyplot as plt\n",
    "import getpass"
   ]
  },
  {
   "cell_type": "markdown",
   "metadata": {
    "papermill": {
     "duration": 0.023464,
     "end_time": "2020-08-14T21:55:50.380011",
     "exception": false,
     "start_time": "2020-08-14T21:55:50.356547",
     "status": "completed"
    },
    "tags": []
   },
   "source": [
    "# importing the helper functions: "
   ]
  },
  {
   "cell_type": "code",
   "execution_count": 2,
   "metadata": {
    "execution": {
     "iopub.execute_input": "2020-08-14T21:55:50.431351Z",
     "iopub.status.busy": "2020-08-14T21:55:50.430779Z",
     "iopub.status.idle": "2020-08-14T21:55:50.434362Z",
     "shell.execute_reply": "2020-08-14T21:55:50.433691Z"
    },
    "papermill": {
     "duration": 0.030327,
     "end_time": "2020-08-14T21:55:50.434457",
     "exception": false,
     "start_time": "2020-08-14T21:55:50.404130",
     "status": "completed"
    },
    "tags": []
   },
   "outputs": [
    {
     "name": "stdout",
     "output_type": "stream",
     "text": [
      "gilmandelbaum\n"
     ]
    }
   ],
   "source": [
    "#add the github path that will run the notebooks: \n",
    "username = getpass.getuser() # gets the username from the current comp \n",
    "print (username)"
   ]
  },
  {
   "cell_type": "code",
   "execution_count": 3,
   "metadata": {
    "execution": {
     "iopub.execute_input": "2020-08-14T21:55:50.487094Z",
     "iopub.status.busy": "2020-08-14T21:55:50.486488Z",
     "iopub.status.idle": "2020-08-14T21:55:50.489569Z",
     "shell.execute_reply": "2020-08-14T21:55:50.488838Z"
    },
    "papermill": {
     "duration": 0.030664,
     "end_time": "2020-08-14T21:55:50.489679",
     "exception": false,
     "start_time": "2020-08-14T21:55:50.459015",
     "status": "completed"
    },
    "tags": []
   },
   "outputs": [],
   "source": [
    "sys.path.insert(0,'/Users/{:}/github/analysis-pipeline-for-photometry_ex/Nb_data_set/1.data_set_lineplot'.format(username))"
   ]
  },
  {
   "cell_type": "code",
   "execution_count": 4,
   "metadata": {
    "execution": {
     "iopub.execute_input": "2020-08-14T21:55:50.538807Z",
     "iopub.status.busy": "2020-08-14T21:55:50.538293Z",
     "iopub.status.idle": "2020-08-14T21:55:50.541234Z",
     "shell.execute_reply": "2020-08-14T21:55:50.540714Z"
    },
    "papermill": {
     "duration": 0.028213,
     "end_time": "2020-08-14T21:55:50.541310",
     "exception": false,
     "start_time": "2020-08-14T21:55:50.513097",
     "status": "completed"
    },
    "tags": []
   },
   "outputs": [
    {
     "data": {
      "text/plain": [
       "'/Users/gilmandelbaum/github/analysis-pipeline-for-photometry_ex/Nb_data_set/1.data_set_lineplot'"
      ]
     },
     "execution_count": 4,
     "metadata": {},
     "output_type": "execute_result"
    }
   ],
   "source": [
    "sys.path[0]"
   ]
  },
  {
   "cell_type": "code",
   "execution_count": 5,
   "metadata": {
    "execution": {
     "iopub.execute_input": "2020-08-14T21:55:50.585294Z",
     "iopub.status.busy": "2020-08-14T21:55:50.584800Z",
     "iopub.status.idle": "2020-08-14T21:55:50.588264Z",
     "shell.execute_reply": "2020-08-14T21:55:50.587719Z"
    },
    "papermill": {
     "duration": 0.026514,
     "end_time": "2020-08-14T21:55:50.588346",
     "exception": false,
     "start_time": "2020-08-14T21:55:50.561832",
     "status": "completed"
    },
    "tags": []
   },
   "outputs": [],
   "source": [
    "import data_set_lineplot_ic_together_helper_functions as dslhf"
   ]
  },
  {
   "cell_type": "markdown",
   "metadata": {
    "papermill": {
     "duration": 0.018894,
     "end_time": "2020-08-14T21:55:50.627054",
     "exception": false,
     "start_time": "2020-08-14T21:55:50.608160",
     "status": "completed"
    },
    "tags": []
   },
   "source": [
    "# parameters when using papermill:"
   ]
  },
  {
   "cell_type": "code",
   "execution_count": 6,
   "metadata": {
    "execution": {
     "iopub.execute_input": "2020-08-14T21:55:50.669258Z",
     "iopub.status.busy": "2020-08-14T21:55:50.668796Z",
     "iopub.status.idle": "2020-08-14T21:55:50.671096Z",
     "shell.execute_reply": "2020-08-14T21:55:50.671556Z"
    },
    "papermill": {
     "duration": 0.025598,
     "end_time": "2020-08-14T21:55:50.671654",
     "exception": false,
     "start_time": "2020-08-14T21:55:50.646056",
     "status": "completed"
    },
    "tags": [
     "parameters"
    ]
   },
   "outputs": [],
   "source": [
    "seq_str = '0a1b2a3b4abcd5a6a7a'\n",
    "period_of_interest = \"combined_periods_1\"\n",
    "HowManyBasck=1\n",
    "folderName=\"left_dual_color_photo_full_data_set_after_inspection\" #folder where the plot data_set will be saved \n",
    "#where to load the data from: \n",
    "path_to_load_data = \"/Volumes/GilInVivoPaper.large/2.Photometry_in_str/1.lateral_medial_6_analysis//left_dual_color_photo_full_data/0a1b2a3b4abcd5a6a7a\"\n",
    "sessionIndex_perMouse = ['0', '10', '21', '39', '53', '74', '84', '93', '104']\n",
    "\n",
    "y_axis_list = [\"df_f\",\"z_score\",\"z_score_sliding_window\",\"z_score_smooth\"]"
   ]
  },
  {
   "cell_type": "code",
   "execution_count": 7,
   "metadata": {
    "execution": {
     "iopub.execute_input": "2020-08-14T21:55:50.717369Z",
     "iopub.status.busy": "2020-08-14T21:55:50.716838Z",
     "iopub.status.idle": "2020-08-14T21:55:50.719388Z",
     "shell.execute_reply": "2020-08-14T21:55:50.718834Z"
    },
    "papermill": {
     "duration": 0.027504,
     "end_time": "2020-08-14T21:55:50.719472",
     "exception": false,
     "start_time": "2020-08-14T21:55:50.691968",
     "status": "completed"
    },
    "tags": [
     "injected-parameters"
    ]
   },
   "outputs": [],
   "source": [
    "# Parameters\n",
    "seq_str = \"0a1b2b3d4abcd5a6a7a\"\n",
    "HowManyBack = 1\n",
    "folderName = \"left_dual_color_photo_full_data_after_QC\"\n",
    "path_to_load_data = \"/Volumes/GilInVivoPaper.large/2.Photometry_in_str/1.lateral_medial_6_analysis//left_dual_color_photo_full_data_after_QC/0a1b2b3d4abcd5a6a7a\"\n",
    "sessionIndex_perMouse = [\"0\", \"7\", \"10\", \"22\", \"26\", \"44\", \"52\", \"56\", \"59\"]\n",
    "y_axis_list = [\"df_f\", \"z_score\", \"z_score_sliding_window\", \"z_score_smooth\"]\n",
    "period_of_interest = \"combined_periods_1\"\n"
   ]
  },
  {
   "cell_type": "markdown",
   "metadata": {
    "papermill": {
     "duration": 0.020472,
     "end_time": "2020-08-14T21:55:50.760813",
     "exception": false,
     "start_time": "2020-08-14T21:55:50.740341",
     "status": "completed"
    },
    "tags": []
   },
   "source": [
    "# folder name of analysis: "
   ]
  },
  {
   "cell_type": "code",
   "execution_count": 8,
   "metadata": {
    "execution": {
     "iopub.execute_input": "2020-08-14T21:55:50.809304Z",
     "iopub.status.busy": "2020-08-14T21:55:50.808682Z",
     "iopub.status.idle": "2020-08-14T21:55:50.811436Z",
     "shell.execute_reply": "2020-08-14T21:55:50.810766Z"
    },
    "papermill": {
     "duration": 0.02991,
     "end_time": "2020-08-14T21:55:50.811540",
     "exception": false,
     "start_time": "2020-08-14T21:55:50.781630",
     "status": "completed"
    },
    "tags": []
   },
   "outputs": [],
   "source": [
    "analysis_type = \"6.dsl__winrepeat(ipsi_vs_contra_previous)_loseswitch(ipsi_vs_contra_previous)__ls_mice\""
   ]
  },
  {
   "cell_type": "code",
   "execution_count": 9,
   "metadata": {
    "execution": {
     "iopub.execute_input": "2020-08-14T21:55:50.871687Z",
     "iopub.status.busy": "2020-08-14T21:55:50.870897Z",
     "iopub.status.idle": "2020-08-14T21:55:50.874875Z",
     "shell.execute_reply": "2020-08-14T21:55:50.874362Z"
    },
    "papermill": {
     "duration": 0.037458,
     "end_time": "2020-08-14T21:55:50.874972",
     "exception": false,
     "start_time": "2020-08-14T21:55:50.837514",
     "status": "completed"
    },
    "tags": []
   },
   "outputs": [
    {
     "data": {
      "text/plain": [
       "'/anaconda3/bin/python3'"
      ]
     },
     "execution_count": 9,
     "metadata": {},
     "output_type": "execute_result"
    }
   ],
   "source": [
    "sys.executable"
   ]
  },
  {
   "cell_type": "markdown",
   "metadata": {
    "papermill": {
     "duration": 0.024138,
     "end_time": "2020-08-14T21:55:50.924926",
     "exception": false,
     "start_time": "2020-08-14T21:55:50.900788",
     "status": "completed"
    },
    "tags": []
   },
   "source": [
    "# where to save the data: "
   ]
  },
  {
   "cell_type": "code",
   "execution_count": 10,
   "metadata": {
    "execution": {
     "iopub.execute_input": "2020-08-14T21:55:50.972424Z",
     "iopub.status.busy": "2020-08-14T21:55:50.971883Z",
     "iopub.status.idle": "2020-08-14T21:55:50.974373Z",
     "shell.execute_reply": "2020-08-14T21:55:50.973822Z"
    },
    "papermill": {
     "duration": 0.027125,
     "end_time": "2020-08-14T21:55:50.974452",
     "exception": false,
     "start_time": "2020-08-14T21:55:50.947327",
     "status": "completed"
    },
    "tags": []
   },
   "outputs": [],
   "source": [
    "path_to_save_plots = path_to_load_data+\"/\"+\"line_plots\"+\"/\"+\"avg_of_mice\"+\"/\"+analysis_type "
   ]
  },
  {
   "cell_type": "code",
   "execution_count": 11,
   "metadata": {
    "execution": {
     "iopub.execute_input": "2020-08-14T21:55:51.019394Z",
     "iopub.status.busy": "2020-08-14T21:55:51.018704Z",
     "iopub.status.idle": "2020-08-14T21:55:51.021297Z",
     "shell.execute_reply": "2020-08-14T21:55:51.021760Z"
    },
    "papermill": {
     "duration": 0.026061,
     "end_time": "2020-08-14T21:55:51.021857",
     "exception": false,
     "start_time": "2020-08-14T21:55:50.995796",
     "status": "completed"
    },
    "tags": []
   },
   "outputs": [
    {
     "data": {
      "text/plain": [
       "'/Volumes/GilInVivoPaper.large/2.Photometry_in_str/1.lateral_medial_6_analysis//left_dual_color_photo_full_data_after_QC/0a1b2b3d4abcd5a6a7a/line_plots/avg_of_mice/6.dsl__winrepeat(ipsi_vs_contra_previous)_loseswitch(ipsi_vs_contra_previous)__ls_mice'"
      ]
     },
     "execution_count": 11,
     "metadata": {},
     "output_type": "execute_result"
    }
   ],
   "source": [
    "path_to_save_plots"
   ]
  },
  {
   "cell_type": "markdown",
   "metadata": {
    "papermill": {
     "duration": 0.020509,
     "end_time": "2020-08-14T21:55:51.062687",
     "exception": false,
     "start_time": "2020-08-14T21:55:51.042178",
     "status": "completed"
    },
    "tags": []
   },
   "source": [
    "# Import the data and where to save it "
   ]
  },
  {
   "cell_type": "code",
   "execution_count": 12,
   "metadata": {
    "execution": {
     "iopub.execute_input": "2020-08-14T21:55:51.111410Z",
     "iopub.status.busy": "2020-08-14T21:55:51.110339Z",
     "iopub.status.idle": "2020-08-14T21:56:15.661400Z",
     "shell.execute_reply": "2020-08-14T21:56:15.660762Z"
    },
    "papermill": {
     "duration": 24.577825,
     "end_time": "2020-08-14T21:56:15.661494",
     "exception": false,
     "start_time": "2020-08-14T21:55:51.083669",
     "status": "completed"
    },
    "tags": []
   },
   "outputs": [
    {
     "name": "stdout",
     "output_type": "stream",
     "text": [
      "CPU times: user 22.3 s, sys: 1.8 s, total: 24.1 s\n",
      "Wall time: 24.5 s\n"
     ]
    }
   ],
   "source": [
    "%%time\n",
    "root = Path(path_to_load_data)\n",
    "d = \"data_object_photometry_after_processing\"+\"_\"+seq_str+'.pickle'\n",
    "my_path = root / d \n",
    "fileToOpen = open(my_path, 'rb')\n",
    "data_set = pickle.load(fileToOpen)"
   ]
  },
  {
   "cell_type": "markdown",
   "metadata": {
    "papermill": {
     "duration": 0.026738,
     "end_time": "2020-08-14T21:56:15.716268",
     "exception": false,
     "start_time": "2020-08-14T21:56:15.689530",
     "status": "completed"
    },
    "tags": []
   },
   "source": [
    "# label y axis "
   ]
  },
  {
   "cell_type": "code",
   "execution_count": 13,
   "metadata": {
    "execution": {
     "iopub.execute_input": "2020-08-14T21:56:15.775472Z",
     "iopub.status.busy": "2020-08-14T21:56:15.774510Z",
     "iopub.status.idle": "2020-08-14T21:56:15.777353Z",
     "shell.execute_reply": "2020-08-14T21:56:15.777979Z"
    },
    "papermill": {
     "duration": 0.036587,
     "end_time": "2020-08-14T21:56:15.778108",
     "exception": false,
     "start_time": "2020-08-14T21:56:15.741521",
     "status": "completed"
    },
    "tags": []
   },
   "outputs": [
    {
     "name": "stdout",
     "output_type": "stream",
     "text": [
      "z_score_smooth\n"
     ]
    }
   ],
   "source": [
    "alphabet = [\"a\",\"b\",\"c\",\"d\",\"e\",\"f\",\"g\"]\n",
    "y_axis = y_axis_list[alphabet.index(seq_str[:seq_str.index('4')][-1])]\n",
    "print (y_axis)"
   ]
  },
  {
   "cell_type": "code",
   "execution_count": null,
   "metadata": {
    "papermill": {
     "duration": 0.03154,
     "end_time": "2020-08-14T21:56:15.842497",
     "exception": false,
     "start_time": "2020-08-14T21:56:15.810957",
     "status": "completed"
    },
    "tags": []
   },
   "outputs": [],
   "source": []
  },
  {
   "cell_type": "code",
   "execution_count": 14,
   "metadata": {
    "execution": {
     "iopub.execute_input": "2020-08-14T21:56:15.911488Z",
     "iopub.status.busy": "2020-08-14T21:56:15.910849Z",
     "iopub.status.idle": "2020-08-14T21:56:15.914994Z",
     "shell.execute_reply": "2020-08-14T21:56:15.914050Z"
    },
    "papermill": {
     "duration": 0.041278,
     "end_time": "2020-08-14T21:56:15.915139",
     "exception": false,
     "start_time": "2020-08-14T21:56:15.873861",
     "status": "completed"
    },
    "tags": []
   },
   "outputs": [],
   "source": [
    "# stash result in a cache directory.\n",
    "cache_dir_plt = os.path.join(path_to_save_plots,period_of_interest)\n",
    "if not os.path.exists(cache_dir_plt):\n",
    "    os.makedirs(cache_dir_plt)"
   ]
  },
  {
   "cell_type": "code",
   "execution_count": 15,
   "metadata": {
    "execution": {
     "iopub.execute_input": "2020-08-14T21:56:15.993497Z",
     "iopub.status.busy": "2020-08-14T21:56:15.992632Z",
     "iopub.status.idle": "2020-08-14T21:56:15.996790Z",
     "shell.execute_reply": "2020-08-14T21:56:15.995981Z"
    },
    "papermill": {
     "duration": 0.043718,
     "end_time": "2020-08-14T21:56:15.996924",
     "exception": false,
     "start_time": "2020-08-14T21:56:15.953206",
     "status": "completed"
    },
    "tags": []
   },
   "outputs": [
    {
     "data": {
      "text/plain": [
       "'/Volumes/GilInVivoPaper.large/2.Photometry_in_str/1.lateral_medial_6_analysis//left_dual_color_photo_full_data_after_QC/0a1b2b3d4abcd5a6a7a/line_plots/avg_of_mice/6.dsl__winrepeat(ipsi_vs_contra_previous)_loseswitch(ipsi_vs_contra_previous)__ls_mice/combined_periods_1'"
      ]
     },
     "execution_count": 15,
     "metadata": {},
     "output_type": "execute_result"
    }
   ],
   "source": [
    "cache_dir_plt"
   ]
  },
  {
   "cell_type": "markdown",
   "metadata": {
    "papermill": {
     "duration": 0.026905,
     "end_time": "2020-08-14T21:56:16.056274",
     "exception": false,
     "start_time": "2020-08-14T21:56:16.029369",
     "status": "completed"
    },
    "tags": []
   },
   "source": [
    "# generate data sets of interest"
   ]
  },
  {
   "cell_type": "code",
   "execution_count": 16,
   "metadata": {
    "execution": {
     "iopub.execute_input": "2020-08-14T21:56:16.115354Z",
     "iopub.status.busy": "2020-08-14T21:56:16.113825Z",
     "iopub.status.idle": "2020-08-14T21:56:16.118582Z",
     "shell.execute_reply": "2020-08-14T21:56:16.117559Z"
    },
    "papermill": {
     "duration": 0.035933,
     "end_time": "2020-08-14T21:56:16.118754",
     "exception": false,
     "start_time": "2020-08-14T21:56:16.082821",
     "status": "completed"
    },
    "tags": []
   },
   "outputs": [],
   "source": [
    "#combinations = [(2, 2), (2, 1), (1, 2), (1, 1)]"
   ]
  },
  {
   "cell_type": "code",
   "execution_count": 17,
   "metadata": {
    "execution": {
     "iopub.execute_input": "2020-08-14T21:56:16.182351Z",
     "iopub.status.busy": "2020-08-14T21:56:16.180697Z",
     "iopub.status.idle": "2020-08-14T21:56:16.249390Z",
     "shell.execute_reply": "2020-08-14T21:56:16.249850Z"
    },
    "papermill": {
     "duration": 0.101391,
     "end_time": "2020-08-14T21:56:16.249946",
     "exception": false,
     "start_time": "2020-08-14T21:56:16.148555",
     "status": "completed"
    },
    "scrolled": true,
    "tags": []
   },
   "outputs": [
    {
     "name": "stdout",
     "output_type": "stream",
     "text": [
      "full\n",
      "full\n",
      "full\n",
      "full\n",
      "full\n",
      "full\n",
      "full\n",
      "full\n",
      "full\n",
      "full\n",
      "full\n",
      "full\n",
      "full\n",
      "full\n",
      "full\n",
      "full\n",
      "full\n",
      "full\n",
      "full\n",
      "full\n",
      "full\n",
      "full\n",
      "full\n",
      "full\n",
      "full\n",
      "full\n",
      "full\n",
      "full\n",
      "full\n",
      "full\n",
      "full\n",
      "full\n",
      "full\n",
      "full\n",
      "full\n",
      "full\n",
      "full\n",
      "full\n",
      "full\n",
      "full\n",
      "full\n",
      "full\n",
      "full\n",
      "full\n",
      "full\n",
      "full\n",
      "full\n",
      "full\n",
      "full\n",
      "full\n",
      "full\n",
      "full\n",
      "full\n",
      "full\n",
      "full\n",
      "full\n",
      "full\n",
      "full\n",
      "full\n"
     ]
    }
   ],
   "source": [
    "wr_period_d1_data_set= dslhf.extract_data_of_interest_ipsi_contra_data_set(data_set,\n",
    "                                                                           1,3,\n",
    "                                                                           period_of_interest,\"d1 L\")"
   ]
  },
  {
   "cell_type": "code",
   "execution_count": 18,
   "metadata": {
    "execution": {
     "iopub.execute_input": "2020-08-14T21:56:16.305512Z",
     "iopub.status.busy": "2020-08-14T21:56:16.303965Z",
     "iopub.status.idle": "2020-08-14T21:56:16.353683Z",
     "shell.execute_reply": "2020-08-14T21:56:16.354228Z"
    },
    "papermill": {
     "duration": 0.079679,
     "end_time": "2020-08-14T21:56:16.354342",
     "exception": false,
     "start_time": "2020-08-14T21:56:16.274663",
     "status": "completed"
    },
    "scrolled": true,
    "tags": []
   },
   "outputs": [
    {
     "name": "stdout",
     "output_type": "stream",
     "text": [
      "full\n",
      "full\n",
      "full\n",
      "full\n",
      "full\n",
      "full\n",
      "full\n",
      "full\n",
      "full\n",
      "full\n",
      "full\n",
      "full\n",
      "full\n",
      "full\n",
      "full\n",
      "full\n",
      "full\n",
      "full\n",
      "full\n",
      "full\n",
      "full\n",
      "full\n",
      "full\n",
      "full\n",
      "full\n",
      "full\n",
      "full\n",
      "full\n",
      "full\n",
      "full\n",
      "full\n",
      "full\n",
      "full\n",
      "full\n",
      "full\n",
      "full\n",
      "full\n",
      "full\n",
      "full\n",
      "full\n",
      "full\n",
      "full\n",
      "full\n",
      "full\n",
      "full\n",
      "full\n",
      "full\n",
      "full\n",
      "full\n",
      "full\n",
      "full\n",
      "full\n",
      "full\n",
      "full\n",
      "full\n",
      "full\n",
      "full\n",
      "full\n",
      "full\n"
     ]
    }
   ],
   "source": [
    "wr_period_d2_data_set= dslhf.extract_data_of_interest_ipsi_contra_data_set(data_set,\n",
    "                                                                           1,3,\n",
    "                                                                           period_of_interest,\"d2 L\")"
   ]
  },
  {
   "cell_type": "code",
   "execution_count": 19,
   "metadata": {
    "execution": {
     "iopub.execute_input": "2020-08-14T21:56:16.416282Z",
     "iopub.status.busy": "2020-08-14T21:56:16.415625Z",
     "iopub.status.idle": "2020-08-14T21:56:16.484863Z",
     "shell.execute_reply": "2020-08-14T21:56:16.485360Z"
    },
    "papermill": {
     "duration": 0.104474,
     "end_time": "2020-08-14T21:56:16.485462",
     "exception": false,
     "start_time": "2020-08-14T21:56:16.380988",
     "status": "completed"
    },
    "scrolled": true,
    "tags": []
   },
   "outputs": [
    {
     "name": "stdout",
     "output_type": "stream",
     "text": [
      "full\n",
      "full\n",
      "full\n",
      "full\n",
      "full\n",
      "full\n",
      "full\n",
      "full\n",
      "full\n",
      "full\n",
      "full\n",
      "full\n",
      "full\n",
      "full\n",
      "full\n",
      "full\n",
      "full\n",
      "full\n",
      "full\n",
      "full\n",
      "full\n",
      "full\n",
      "full\n",
      "full\n",
      "full\n",
      "full\n",
      "full\n",
      "full\n",
      "full\n",
      "full\n",
      "full\n",
      "full\n",
      "full\n",
      "full\n",
      "full\n",
      "full\n",
      "full\n",
      "full\n",
      "full\n",
      "full\n",
      "full\n",
      "full\n",
      "full\n",
      "full\n",
      "full\n",
      "full\n",
      "full\n",
      "full\n",
      "full\n",
      "full\n",
      "full\n",
      "full\n",
      "full\n",
      "full\n",
      "full\n",
      "full\n",
      "full\n",
      "full\n",
      "full\n"
     ]
    }
   ],
   "source": [
    "ls_period_d1_data_set= dslhf.extract_data_of_interest_ipsi_contra_data_set(data_set,\n",
    "                                                                           1,0,\n",
    "                                                                           period_of_interest,\"d1 L\")"
   ]
  },
  {
   "cell_type": "code",
   "execution_count": 20,
   "metadata": {
    "execution": {
     "iopub.execute_input": "2020-08-14T21:56:16.553611Z",
     "iopub.status.busy": "2020-08-14T21:56:16.553006Z",
     "iopub.status.idle": "2020-08-14T21:56:16.596824Z",
     "shell.execute_reply": "2020-08-14T21:56:16.597408Z"
    },
    "papermill": {
     "duration": 0.086931,
     "end_time": "2020-08-14T21:56:16.597537",
     "exception": false,
     "start_time": "2020-08-14T21:56:16.510606",
     "status": "completed"
    },
    "scrolled": true,
    "tags": []
   },
   "outputs": [
    {
     "name": "stdout",
     "output_type": "stream",
     "text": [
      "full\n",
      "full\n",
      "full\n",
      "full\n",
      "full\n",
      "full\n",
      "full\n",
      "full\n",
      "full\n",
      "full\n",
      "full\n",
      "full\n",
      "full\n",
      "full\n",
      "full\n",
      "full\n",
      "full\n",
      "full\n",
      "full\n",
      "full\n",
      "full\n",
      "full\n",
      "full\n",
      "full\n",
      "full\n",
      "full\n",
      "full\n",
      "full\n",
      "full\n",
      "full\n",
      "full\n",
      "full\n",
      "full\n",
      "full\n",
      "full\n",
      "full\n",
      "full\n",
      "full\n",
      "full\n",
      "full\n",
      "full\n",
      "full\n",
      "full\n",
      "full\n",
      "full\n",
      "full\n",
      "full\n",
      "full\n",
      "full\n",
      "full\n",
      "full\n",
      "full\n",
      "full\n",
      "full\n",
      "full\n",
      "full\n",
      "full\n",
      "full\n",
      "full\n"
     ]
    }
   ],
   "source": [
    "ls_period_d2_data_set= dslhf.extract_data_of_interest_ipsi_contra_data_set(data_set,\n",
    "                                                                           1,0,\n",
    "                                                                           period_of_interest,\"d2 L\")"
   ]
  },
  {
   "cell_type": "code",
   "execution_count": 21,
   "metadata": {
    "execution": {
     "iopub.execute_input": "2020-08-14T21:56:16.657508Z",
     "iopub.status.busy": "2020-08-14T21:56:16.656778Z",
     "iopub.status.idle": "2020-08-14T21:56:16.659712Z",
     "shell.execute_reply": "2020-08-14T21:56:16.659119Z"
    },
    "papermill": {
     "duration": 0.036216,
     "end_time": "2020-08-14T21:56:16.659799",
     "exception": false,
     "start_time": "2020-08-14T21:56:16.623583",
     "status": "completed"
    },
    "tags": []
   },
   "outputs": [],
   "source": [
    "def calculate_mean_data_set (ipsi_contra_data_set): \n",
    "    \n",
    "    df_ipsi_previous = pd.DataFrame()\n",
    "    df_contra_previous = pd.DataFrame()\n",
    "    \n",
    "    for session_data in ipsi_contra_data_set:\n",
    "        \n",
    "        mean_ipsi_previous = session_data[0].mean(axis=1)\n",
    "        mean_contra_previous = session_data[1].mean(axis=1)\n",
    "        \n",
    "        df_ipsi_previous = pd.concat([df_ipsi_previous,mean_ipsi_previous],axis=1)\n",
    "        df_contra_previous = pd.concat([df_contra_previous,mean_contra_previous],axis=1)\n",
    "        \n",
    "        \n",
    "    return (df_ipsi_previous,df_contra_previous)\n"
   ]
  },
  {
   "cell_type": "code",
   "execution_count": 22,
   "metadata": {
    "execution": {
     "iopub.execute_input": "2020-08-14T21:56:16.722695Z",
     "iopub.status.busy": "2020-08-14T21:56:16.722042Z",
     "iopub.status.idle": "2020-08-14T21:56:16.982083Z",
     "shell.execute_reply": "2020-08-14T21:56:16.982817Z"
    },
    "papermill": {
     "duration": 0.294531,
     "end_time": "2020-08-14T21:56:16.982948",
     "exception": false,
     "start_time": "2020-08-14T21:56:16.688417",
     "status": "completed"
    },
    "tags": []
   },
   "outputs": [],
   "source": [
    "d1_win_mean_ipsi_contra = calculate_mean_data_set(wr_period_d1_data_set)"
   ]
  },
  {
   "cell_type": "code",
   "execution_count": 23,
   "metadata": {
    "execution": {
     "iopub.execute_input": "2020-08-14T21:56:17.045748Z",
     "iopub.status.busy": "2020-08-14T21:56:17.045025Z",
     "iopub.status.idle": "2020-08-14T21:56:17.312974Z",
     "shell.execute_reply": "2020-08-14T21:56:17.312374Z"
    },
    "papermill": {
     "duration": 0.301779,
     "end_time": "2020-08-14T21:56:17.313063",
     "exception": false,
     "start_time": "2020-08-14T21:56:17.011284",
     "status": "completed"
    },
    "tags": []
   },
   "outputs": [],
   "source": [
    "d2_win_mean_ipsi_contra = calculate_mean_data_set(wr_period_d2_data_set)"
   ]
  },
  {
   "cell_type": "code",
   "execution_count": 24,
   "metadata": {
    "execution": {
     "iopub.execute_input": "2020-08-14T21:56:17.377700Z",
     "iopub.status.busy": "2020-08-14T21:56:17.377124Z",
     "iopub.status.idle": "2020-08-14T21:56:17.566718Z",
     "shell.execute_reply": "2020-08-14T21:56:17.566139Z"
    },
    "papermill": {
     "duration": 0.225052,
     "end_time": "2020-08-14T21:56:17.566804",
     "exception": false,
     "start_time": "2020-08-14T21:56:17.341752",
     "status": "completed"
    },
    "tags": []
   },
   "outputs": [],
   "source": [
    "d1_lose_mean_ipsi_contra = calculate_mean_data_set(ls_period_d1_data_set)"
   ]
  },
  {
   "cell_type": "code",
   "execution_count": 25,
   "metadata": {
    "execution": {
     "iopub.execute_input": "2020-08-14T21:56:17.623684Z",
     "iopub.status.busy": "2020-08-14T21:56:17.620903Z",
     "iopub.status.idle": "2020-08-14T21:56:17.796475Z",
     "shell.execute_reply": "2020-08-14T21:56:17.797003Z"
    },
    "papermill": {
     "duration": 0.204723,
     "end_time": "2020-08-14T21:56:17.797112",
     "exception": false,
     "start_time": "2020-08-14T21:56:17.592389",
     "status": "completed"
    },
    "tags": []
   },
   "outputs": [],
   "source": [
    "d2_lose_mean_ipsi_contra = calculate_mean_data_set(ls_period_d2_data_set)"
   ]
  },
  {
   "cell_type": "code",
   "execution_count": null,
   "metadata": {
    "papermill": {
     "duration": 0.02483,
     "end_time": "2020-08-14T21:56:17.847253",
     "exception": false,
     "start_time": "2020-08-14T21:56:17.822423",
     "status": "completed"
    },
    "tags": []
   },
   "outputs": [],
   "source": []
  },
  {
   "cell_type": "code",
   "execution_count": 26,
   "metadata": {
    "execution": {
     "iopub.execute_input": "2020-08-14T21:56:17.899734Z",
     "iopub.status.busy": "2020-08-14T21:56:17.899236Z",
     "iopub.status.idle": "2020-08-14T21:56:17.901567Z",
     "shell.execute_reply": "2020-08-14T21:56:17.902039Z"
    },
    "papermill": {
     "duration": 0.030995,
     "end_time": "2020-08-14T21:56:17.902137",
     "exception": false,
     "start_time": "2020-08-14T21:56:17.871142",
     "status": "completed"
    },
    "tags": []
   },
   "outputs": [
    {
     "data": {
      "text/plain": [
       "[0, 7, 10, 22, 26, 44, 52, 56, 59]"
      ]
     },
     "execution_count": 26,
     "metadata": {},
     "output_type": "execute_result"
    }
   ],
   "source": [
    "sessionIndex_perMouse = list(map(int,sessionIndex_perMouse))\n",
    "sessionIndex_perMouse"
   ]
  },
  {
   "cell_type": "code",
   "execution_count": 27,
   "metadata": {
    "execution": {
     "iopub.execute_input": "2020-08-14T21:56:17.959095Z",
     "iopub.status.busy": "2020-08-14T21:56:17.958608Z",
     "iopub.status.idle": "2020-08-14T21:56:17.960887Z",
     "shell.execute_reply": "2020-08-14T21:56:17.960406Z"
    },
    "papermill": {
     "duration": 0.032606,
     "end_time": "2020-08-14T21:56:17.960962",
     "exception": false,
     "start_time": "2020-08-14T21:56:17.928356",
     "status": "completed"
    },
    "tags": []
   },
   "outputs": [],
   "source": [
    "def calculate_mean_per_mouse_ipsi_contra(data_set,sessionIndex_perMouse):\n",
    "    \n",
    "    avg_per_mouse_df_ipsi = pd.DataFrame()\n",
    "    avg_per_mouse_df_contra = pd.DataFrame()\n",
    "    \n",
    "    for list_index in range(len(sessionIndex_perMouse)-1):\n",
    "        \n",
    "        avg_per_mouse_ipsi = data_set[0].iloc[:,sessionIndex_perMouse[list_index]:sessionIndex_perMouse[list_index+1]].mean(axis=1)\n",
    "        avg_per_mouse_df_ipsi = pd.concat([avg_per_mouse_df_ipsi,avg_per_mouse_ipsi],axis=1)\n",
    "    \n",
    "\n",
    "        \n",
    "        avg_per_mouse_contra = data_set[1].iloc[:,sessionIndex_perMouse[list_index]:sessionIndex_perMouse[list_index+1]].mean(axis=1)\n",
    "        avg_per_mouse_df_contra = pd.concat([avg_per_mouse_df_contra,avg_per_mouse_contra],axis=1)\n",
    "        \n",
    "    avg_per_mouse_df_ipsi_data_set = avg_per_mouse_df_ipsi.mean(axis=1)\n",
    "    avg_per_mouse_df_contra_data_set = avg_per_mouse_df_contra.mean(axis=1)\n",
    "    \n",
    "    return (avg_per_mouse_df_ipsi, avg_per_mouse_df_ipsi_data_set,\n",
    "            avg_per_mouse_df_contra, avg_per_mouse_df_contra_data_set)"
   ]
  },
  {
   "cell_type": "code",
   "execution_count": 28,
   "metadata": {
    "execution": {
     "iopub.execute_input": "2020-08-14T21:56:18.021703Z",
     "iopub.status.busy": "2020-08-14T21:56:18.018321Z",
     "iopub.status.idle": "2020-08-14T21:56:18.039973Z",
     "shell.execute_reply": "2020-08-14T21:56:18.039342Z"
    },
    "papermill": {
     "duration": 0.054768,
     "end_time": "2020-08-14T21:56:18.040069",
     "exception": false,
     "start_time": "2020-08-14T21:56:17.985301",
     "status": "completed"
    },
    "tags": []
   },
   "outputs": [],
   "source": [
    "d1_win_mean_ipsi_contra_per_mouse_data_set = calculate_mean_per_mouse_ipsi_contra(d1_win_mean_ipsi_contra,sessionIndex_perMouse)"
   ]
  },
  {
   "cell_type": "code",
   "execution_count": 29,
   "metadata": {
    "execution": {
     "iopub.execute_input": "2020-08-14T21:56:18.106575Z",
     "iopub.status.busy": "2020-08-14T21:56:18.106009Z",
     "iopub.status.idle": "2020-08-14T21:56:18.128806Z",
     "shell.execute_reply": "2020-08-14T21:56:18.128159Z"
    },
    "papermill": {
     "duration": 0.06293,
     "end_time": "2020-08-14T21:56:18.128903",
     "exception": false,
     "start_time": "2020-08-14T21:56:18.065973",
     "status": "completed"
    },
    "tags": []
   },
   "outputs": [],
   "source": [
    "d2_win_mean_ipsi_contra_per_mouse_data_set = calculate_mean_per_mouse_ipsi_contra(d2_win_mean_ipsi_contra,sessionIndex_perMouse)"
   ]
  },
  {
   "cell_type": "code",
   "execution_count": 30,
   "metadata": {
    "execution": {
     "iopub.execute_input": "2020-08-14T21:56:18.217196Z",
     "iopub.status.busy": "2020-08-14T21:56:18.216231Z",
     "iopub.status.idle": "2020-08-14T21:56:18.231827Z",
     "shell.execute_reply": "2020-08-14T21:56:18.231267Z"
    },
    "papermill": {
     "duration": 0.070383,
     "end_time": "2020-08-14T21:56:18.231912",
     "exception": false,
     "start_time": "2020-08-14T21:56:18.161529",
     "status": "completed"
    },
    "tags": []
   },
   "outputs": [],
   "source": [
    "d1_lose_mean_ipsi_contra_per_mouse_data_set = calculate_mean_per_mouse_ipsi_contra(d1_lose_mean_ipsi_contra,sessionIndex_perMouse)\n",
    "\n"
   ]
  },
  {
   "cell_type": "code",
   "execution_count": 31,
   "metadata": {
    "execution": {
     "iopub.execute_input": "2020-08-14T21:56:18.305601Z",
     "iopub.status.busy": "2020-08-14T21:56:18.305057Z",
     "iopub.status.idle": "2020-08-14T21:56:18.318755Z",
     "shell.execute_reply": "2020-08-14T21:56:18.318128Z"
    },
    "papermill": {
     "duration": 0.060439,
     "end_time": "2020-08-14T21:56:18.318847",
     "exception": false,
     "start_time": "2020-08-14T21:56:18.258408",
     "status": "completed"
    },
    "tags": []
   },
   "outputs": [],
   "source": [
    "d2_lose_mean_ipsi_contra_per_mouse_data_set = calculate_mean_per_mouse_ipsi_contra(d2_lose_mean_ipsi_contra,sessionIndex_perMouse)\n",
    "\n"
   ]
  },
  {
   "cell_type": "markdown",
   "metadata": {
    "papermill": {
     "duration": 0.030936,
     "end_time": "2020-08-14T21:56:18.380796",
     "exception": false,
     "start_time": "2020-08-14T21:56:18.349860",
     "status": "completed"
    },
    "tags": []
   },
   "source": [
    "# plots"
   ]
  },
  {
   "cell_type": "code",
   "execution_count": 32,
   "metadata": {
    "execution": {
     "iopub.execute_input": "2020-08-14T21:56:18.440252Z",
     "iopub.status.busy": "2020-08-14T21:56:18.439731Z",
     "iopub.status.idle": "2020-08-14T21:56:18.441553Z",
     "shell.execute_reply": "2020-08-14T21:56:18.442060Z"
    },
    "papermill": {
     "duration": 0.032053,
     "end_time": "2020-08-14T21:56:18.442167",
     "exception": false,
     "start_time": "2020-08-14T21:56:18.410114",
     "status": "completed"
    },
    "tags": []
   },
   "outputs": [],
   "source": [
    "import matplotlib as mpl"
   ]
  },
  {
   "cell_type": "code",
   "execution_count": 33,
   "metadata": {
    "execution": {
     "iopub.execute_input": "2020-08-14T21:56:18.499581Z",
     "iopub.status.busy": "2020-08-14T21:56:18.499050Z",
     "iopub.status.idle": "2020-08-14T21:56:18.501430Z",
     "shell.execute_reply": "2020-08-14T21:56:18.500955Z"
    },
    "papermill": {
     "duration": 0.034444,
     "end_time": "2020-08-14T21:56:18.501505",
     "exception": false,
     "start_time": "2020-08-14T21:56:18.467061",
     "status": "completed"
    },
    "tags": []
   },
   "outputs": [],
   "source": [
    "def plot_win_or_lose_ipsi_contra_per_mouse(mean_ipsi_contra_per_mouse_data_set,\n",
    "                                           trial_type,period_of_interest,cell_type,y_axis,path_to_plot):\n",
    "    \n",
    "        \n",
    "    \n",
    "    for i in range(len(mean_ipsi_contra_per_mouse_data_set[0].columns)):\n",
    "        \n",
    "        plt.plot(mean_ipsi_contra_per_mouse_data_set[0].iloc[:,i],color='blue', linewidth=0.2,alpha=0.5)\n",
    "        plt.plot(mean_ipsi_contra_per_mouse_data_set[2].iloc[:,i],color='orange', linewidth=0.2,alpha=0.5)\n",
    "        \n",
    "        print (\"ok\")\n",
    "    \n",
    "    plt.plot(mean_ipsi_contra_per_mouse_data_set[1],linewidth=2.5, label=\"ipsi_previous\")\n",
    "    plt.plot(mean_ipsi_contra_per_mouse_data_set[3],linewidth=2.5, label=\"contra_previous\")\n",
    "    \n",
    "\n",
    "    plt.ylim([-0.4,0.6])\n",
    "    \n",
    "    \n",
    "    \n",
    "    # Add legend\n",
    "    plt.legend(loc='upper right')\n",
    "\n",
    "    # Add title and x, y labels\n",
    "    title = trial_type+\"_\"+\"(\"+period_of_interest+\")\"\n",
    "    plt.title(title, fontsize=16, fontweight='bold')\n",
    "    plt.suptitle(cell_type, fontsize=16)\n",
    "\n",
    "    plt.xlabel(\"time_bins\")\n",
    "    \n",
    "    #the y axis is defined in the paper mill. This allows to run 7_b with 3a,3b,3c and any future 3s, easliy changing the \n",
    "    #the name of the y axis to not cause confusion. \n",
    "    plt.ylabel(y_axis)\n",
    "    plt.savefig(path_to_plot+\"/\"+\"_\"+trial_type+cell_type+\"_\"+period_of_interest+'.pdf')\n",
    "    plt.show()"
   ]
  },
  {
   "cell_type": "code",
   "execution_count": 34,
   "metadata": {
    "execution": {
     "iopub.execute_input": "2020-08-14T21:56:18.556197Z",
     "iopub.status.busy": "2020-08-14T21:56:18.555675Z",
     "iopub.status.idle": "2020-08-14T21:56:18.868666Z",
     "shell.execute_reply": "2020-08-14T21:56:18.868146Z"
    },
    "papermill": {
     "duration": 0.341867,
     "end_time": "2020-08-14T21:56:18.868765",
     "exception": false,
     "start_time": "2020-08-14T21:56:18.526898",
     "status": "completed"
    },
    "scrolled": false,
    "tags": []
   },
   "outputs": [
    {
     "name": "stdout",
     "output_type": "stream",
     "text": [
      "ok\n",
      "ok\n",
      "ok\n",
      "ok\n",
      "ok\n",
      "ok\n",
      "ok\n",
      "ok\n"
     ]
    },
    {
     "data": {
      "image/png": "[encoded data removed]",
      "text/plain": [
       "<Figure size 432x288 with 1 Axes>"
      ]
     },
     "metadata": {
      "needs_background": "light"
     },
     "output_type": "display_data"
    }
   ],
   "source": [
    "plot_win_or_lose_ipsi_contra_per_mouse(d1_win_mean_ipsi_contra_per_mouse_data_set,\n",
    "                                       \"left_WR_(ipsi_vs_contra)_previous\",period_of_interest,\"D1\",y_axis,cache_dir_plt)"
   ]
  },
  {
   "cell_type": "code",
   "execution_count": 35,
   "metadata": {
    "execution": {
     "iopub.execute_input": "2020-08-14T21:56:18.961467Z",
     "iopub.status.busy": "2020-08-14T21:56:18.960852Z",
     "iopub.status.idle": "2020-08-14T21:56:19.337805Z",
     "shell.execute_reply": "2020-08-14T21:56:19.338804Z"
    },
    "papermill": {
     "duration": 0.427286,
     "end_time": "2020-08-14T21:56:19.339001",
     "exception": false,
     "start_time": "2020-08-14T21:56:18.911715",
     "status": "completed"
    },
    "scrolled": false,
    "tags": []
   },
   "outputs": [
    {
     "name": "stdout",
     "output_type": "stream",
     "text": [
      "ok\n",
      "ok\n",
      "ok\n",
      "ok\n",
      "ok\n",
      "ok\n",
      "ok\n",
      "ok\n"
     ]
    },
    {
     "data": {
      "image/png": "[encoded data removed]",
      "text/plain": [
       "<Figure size 432x288 with 1 Axes>"
      ]
     },
     "metadata": {
      "needs_background": "light"
     },
     "output_type": "display_data"
    }
   ],
   "source": [
    "plot_win_or_lose_ipsi_contra_per_mouse(d2_win_mean_ipsi_contra_per_mouse_data_set,\n",
    "                                       \"left_WR_(ipsi_vs_contra)_previous\",period_of_interest,\"D2\",y_axis,cache_dir_plt)"
   ]
  },
  {
   "cell_type": "code",
   "execution_count": 36,
   "metadata": {
    "execution": {
     "iopub.execute_input": "2020-08-14T21:56:19.461242Z",
     "iopub.status.busy": "2020-08-14T21:56:19.459970Z",
     "iopub.status.idle": "2020-08-14T21:56:19.995056Z",
     "shell.execute_reply": "2020-08-14T21:56:19.994124Z"
    },
    "papermill": {
     "duration": 0.612724,
     "end_time": "2020-08-14T21:56:19.995242",
     "exception": false,
     "start_time": "2020-08-14T21:56:19.382518",
     "status": "completed"
    },
    "scrolled": false,
    "tags": []
   },
   "outputs": [
    {
     "name": "stdout",
     "output_type": "stream",
     "text": [
      "ok\n",
      "ok\n",
      "ok\n",
      "ok\n",
      "ok\n",
      "ok\n",
      "ok\n",
      "ok\n"
     ]
    },
    {
     "data": {
      "image/png": "[encoded data removed]",
      "text/plain": [
       "<Figure size 432x288 with 1 Axes>"
      ]
     },
     "metadata": {
      "needs_background": "light"
     },
     "output_type": "display_data"
    }
   ],
   "source": [
    "plot_win_or_lose_ipsi_contra_per_mouse(d1_lose_mean_ipsi_contra_per_mouse_data_set,\n",
    "                                       \"left_LS_(ipsi_vs_contra)_previous\",period_of_interest,\"D1\",y_axis,cache_dir_plt)"
   ]
  },
  {
   "cell_type": "code",
   "execution_count": 37,
   "metadata": {
    "execution": {
     "iopub.execute_input": "2020-08-14T21:56:20.103052Z",
     "iopub.status.busy": "2020-08-14T21:56:20.101270Z",
     "iopub.status.idle": "2020-08-14T21:56:20.493798Z",
     "shell.execute_reply": "2020-08-14T21:56:20.494417Z"
    },
    "papermill": {
     "duration": 0.441024,
     "end_time": "2020-08-14T21:56:20.494547",
     "exception": false,
     "start_time": "2020-08-14T21:56:20.053523",
     "status": "completed"
    },
    "tags": []
   },
   "outputs": [
    {
     "name": "stdout",
     "output_type": "stream",
     "text": [
      "ok\n",
      "ok\n",
      "ok\n",
      "ok\n",
      "ok\n",
      "ok\n",
      "ok\n",
      "ok\n"
     ]
    },
    {
     "data": {
      "image/png": "[encoded data removed]",
      "text/plain": [
       "<Figure size 432x288 with 1 Axes>"
      ]
     },
     "metadata": {
      "needs_background": "light"
     },
     "output_type": "display_data"
    }
   ],
   "source": [
    "plot_win_or_lose_ipsi_contra_per_mouse(d2_lose_mean_ipsi_contra_per_mouse_data_set,\n",
    "                                       \"left_LS_(ipsi_vs_contra)_previous\",period_of_interest,\"D2\",y_axis,cache_dir_plt)"
   ]
  },
  {
   "cell_type": "code",
   "execution_count": null,
   "metadata": {
    "papermill": {
     "duration": 0.03326,
     "end_time": "2020-08-14T21:56:20.563768",
     "exception": false,
     "start_time": "2020-08-14T21:56:20.530508",
     "status": "completed"
    },
    "tags": []
   },
   "outputs": [],
   "source": []
  }
 ],
 "metadata": {
  "celltoolbar": "Tags",
  "kernelspec": {
   "display_name": "Python 3",
   "language": "python",
   "name": "python3"
  },
  "language_info": {
   "codemirror_mode": {
    "name": "ipython",
    "version": 3
   },
   "file_extension": ".py",
   "mimetype": "text/x-python",
   "name": "python",
   "nbconvert_exporter": "python",
   "pygments_lexer": "ipython3",
   "version": "3.7.3"
  },
  "papermill": {
   "duration": 33.15596,
   "end_time": "2020-08-14T21:56:21.856360",
   "environment_variables": {},
   "exception": null,
   "input_path": "/Users/gilmandelbaum/github/analysis-pipeline-for-photometry_ex/Nb_data_set/1.data_set_lineplot/left_side_of_the_brain/avg_of_mice/6.dsl__winrepeat(ipsi_vs_contra_previous)_loseswitch(ipsi_vs_contra_previous)__ls_mice.ipynb",
   "output_path": "TestOutPut.ipynb",
   "parameters": {
    "HowManyBack": 1,
    "folderName": "left_dual_color_photo_full_data_after_QC",
    "path_to_load_data": "/Volumes/GilInVivoPaper.large/2.Photometry_in_str/1.lateral_medial_6_analysis//left_dual_color_photo_full_data_after_QC/0a1b2b3d4abcd5a6a7a",
    "period_of_interest": "combined_periods_1",
    "seq_str": "0a1b2b3d4abcd5a6a7a",
    "sessionIndex_perMouse": [
     "0",
     "7",
     "10",
     "22",
     "26",
     "44",
     "52",
     "56",
     "59"
    ],
    "y_axis_list": [
     "df_f",
     "z_score",
     "z_score_sliding_window",
     "z_score_smooth"
    ]
   },
   "start_time": "2020-08-14T21:55:48.700400",
   "version": "2.1.1"
  }
 },
 "nbformat": 4,
 "nbformat_minor": 4
}