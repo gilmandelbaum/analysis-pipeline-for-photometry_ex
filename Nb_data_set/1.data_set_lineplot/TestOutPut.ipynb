{
 "cells": [
  {
   "cell_type": "code",
   "execution_count": 1,
   "metadata": {
    "execution": {
     "iopub.execute_input": "2020-10-15T23:01:27.854691Z",
     "iopub.status.busy": "2020-10-15T23:01:27.854074Z",
     "iopub.status.idle": "2020-10-15T23:01:28.413122Z",
     "shell.execute_reply": "2020-10-15T23:01:28.412528Z"
    },
    "papermill": {
     "duration": 0.588543,
     "end_time": "2020-10-15T23:01:28.413221",
     "exception": false,
     "start_time": "2020-10-15T23:01:27.824678",
     "status": "completed"
    },
    "tags": []
   },
   "outputs": [],
   "source": [
    "import pickle\n",
    "from pathlib import Path\n",
    "import pandas as pd \n",
    "import os\n",
    "import sys\n",
    "import matplotlib.pyplot as plt\n",
    "import getpass"
   ]
  },
  {
   "cell_type": "markdown",
   "metadata": {
    "papermill": {
     "duration": 0.020623,
     "end_time": "2020-10-15T23:01:28.455180",
     "exception": false,
     "start_time": "2020-10-15T23:01:28.434557",
     "status": "completed"
    },
    "tags": []
   },
   "source": [
    "# importing the helper functions: "
   ]
  },
  {
   "cell_type": "code",
   "execution_count": 2,
   "metadata": {
    "execution": {
     "iopub.execute_input": "2020-10-15T23:01:28.497325Z",
     "iopub.status.busy": "2020-10-15T23:01:28.496825Z",
     "iopub.status.idle": "2020-10-15T23:01:28.500015Z",
     "shell.execute_reply": "2020-10-15T23:01:28.499494Z"
    },
    "papermill": {
     "duration": 0.025034,
     "end_time": "2020-10-15T23:01:28.500095",
     "exception": false,
     "start_time": "2020-10-15T23:01:28.475061",
     "status": "completed"
    },
    "tags": []
   },
   "outputs": [
    {
     "name": "stdout",
     "output_type": "stream",
     "text": [
      "gilmandelbaum\n"
     ]
    }
   ],
   "source": [
    "#add the github path that will run the notebooks: \n",
    "username = getpass.getuser() # gets the username from the current comp \n",
    "print (username)"
   ]
  },
  {
   "cell_type": "code",
   "execution_count": 3,
   "metadata": {
    "execution": {
     "iopub.execute_input": "2020-10-15T23:01:28.542674Z",
     "iopub.status.busy": "2020-10-15T23:01:28.542013Z",
     "iopub.status.idle": "2020-10-15T23:01:28.544770Z",
     "shell.execute_reply": "2020-10-15T23:01:28.544208Z"
    },
    "papermill": {
     "duration": 0.025258,
     "end_time": "2020-10-15T23:01:28.544854",
     "exception": false,
     "start_time": "2020-10-15T23:01:28.519596",
     "status": "completed"
    },
    "tags": []
   },
   "outputs": [],
   "source": [
    "sys.path.insert(0,'/Users/{:}/github/analysis-pipeline-for-photometry_ex/Nb_data_set/1.data_set_lineplot'.format(username))"
   ]
  },
  {
   "cell_type": "code",
   "execution_count": 4,
   "metadata": {
    "execution": {
     "iopub.execute_input": "2020-10-15T23:01:28.591341Z",
     "iopub.status.busy": "2020-10-15T23:01:28.590535Z",
     "iopub.status.idle": "2020-10-15T23:01:28.594122Z",
     "shell.execute_reply": "2020-10-15T23:01:28.593590Z"
    },
    "papermill": {
     "duration": 0.028931,
     "end_time": "2020-10-15T23:01:28.594207",
     "exception": false,
     "start_time": "2020-10-15T23:01:28.565276",
     "status": "completed"
    },
    "tags": []
   },
   "outputs": [
    {
     "data": {
      "text/plain": [
       "'/Users/gilmandelbaum/github/analysis-pipeline-for-photometry_ex/Nb_data_set/1.data_set_lineplot'"
      ]
     },
     "execution_count": 4,
     "metadata": {},
     "output_type": "execute_result"
    }
   ],
   "source": [
    "sys.path[0]"
   ]
  },
  {
   "cell_type": "code",
   "execution_count": 5,
   "metadata": {
    "execution": {
     "iopub.execute_input": "2020-10-15T23:01:28.637216Z",
     "iopub.status.busy": "2020-10-15T23:01:28.636594Z",
     "iopub.status.idle": "2020-10-15T23:01:28.640156Z",
     "shell.execute_reply": "2020-10-15T23:01:28.639648Z"
    },
    "papermill": {
     "duration": 0.025722,
     "end_time": "2020-10-15T23:01:28.640234",
     "exception": false,
     "start_time": "2020-10-15T23:01:28.614512",
     "status": "completed"
    },
    "tags": []
   },
   "outputs": [],
   "source": [
    "import data_set_lineplot_ic_together_helper_functions as dslhf"
   ]
  },
  {
   "cell_type": "markdown",
   "metadata": {
    "papermill": {
     "duration": 0.018913,
     "end_time": "2020-10-15T23:01:28.679198",
     "exception": false,
     "start_time": "2020-10-15T23:01:28.660285",
     "status": "completed"
    },
    "tags": []
   },
   "source": [
    "# parameters when using papermill:"
   ]
  },
  {
   "cell_type": "code",
   "execution_count": 6,
   "metadata": {
    "execution": {
     "iopub.execute_input": "2020-10-15T23:01:28.725300Z",
     "iopub.status.busy": "2020-10-15T23:01:28.724780Z",
     "iopub.status.idle": "2020-10-15T23:01:28.727204Z",
     "shell.execute_reply": "2020-10-15T23:01:28.726682Z"
    },
    "papermill": {
     "duration": 0.027285,
     "end_time": "2020-10-15T23:01:28.727285",
     "exception": false,
     "start_time": "2020-10-15T23:01:28.700000",
     "status": "completed"
    },
    "tags": [
     "parameters"
    ]
   },
   "outputs": [],
   "source": [
    "seq_str = '0a1b2b3b4abcd5a6b7a'\n",
    "period_of_interest = \"combined_periods_2\"\n",
    "HowManyBasck=1\n",
    "folderName=\"left_dual_color_photo_full_data_after_QC\" #folder where the plot data_set will be saved \n",
    "#where to load the data from: \n",
    "path_to_load_data = \"/Volumes/GilInVivoPaper.large/2.Photometry_in_str/1.lateral_medial_6_analysis//left_dual_color_photo_full_data_after_QC/0a1b2b3b4abcd5a6b7a\"\n",
    "sessionIndex_perMouse = ['0', '8', '15', '33', '54', '62', '70', '75']\n",
    "\n",
    "# y_axis_list = [\"df_f\",\"z_score\",\"z_score_sliding_window\",\"z_score_smooth\"]\n",
    "\n",
    "y_axis = \"df_f\"\n",
    "\n",
    "ylim_d1 = [0.25,1.75]\n",
    "ylim_d2 = [0.5,3]\n"
   ]
  },
  {
   "cell_type": "code",
   "execution_count": 7,
   "metadata": {
    "execution": {
     "iopub.execute_input": "2020-10-15T23:01:28.771334Z",
     "iopub.status.busy": "2020-10-15T23:01:28.770847Z",
     "iopub.status.idle": "2020-10-15T23:01:28.772861Z",
     "shell.execute_reply": "2020-10-15T23:01:28.773322Z"
    },
    "papermill": {
     "duration": 0.026143,
     "end_time": "2020-10-15T23:01:28.773420",
     "exception": false,
     "start_time": "2020-10-15T23:01:28.747277",
     "status": "completed"
    },
    "tags": [
     "injected-parameters"
    ]
   },
   "outputs": [],
   "source": [
    "# Parameters\n",
    "seq_str = \"0a1b2a3g4abcd5a6a7a\"\n",
    "HowManyBack = 1\n",
    "folderName = \"left_dual_color_photo_full_data_after_QC\"\n",
    "path_to_load_data = \"/Volumes/GilInVivoPaper.large/2.Photometry_in_str/1.lateral_medial_6_analysis//left_dual_color_photo_full_data_after_QC/0a1b2a3g4abcd5a6a7a\"\n",
    "sessionIndex_perMouse = [\"0\", \"7\", \"10\", \"22\", \"26\", \"44\", \"52\", \"56\", \"59\"]\n",
    "ylim_d1 = [0.0, 1.5]\n",
    "ylim_d2 = [0.5, 4]\n",
    "y_axis = \"df_f_1\"\n",
    "period_of_interest = \"combined_periods_1\"\n"
   ]
  },
  {
   "cell_type": "markdown",
   "metadata": {
    "papermill": {
     "duration": 0.020057,
     "end_time": "2020-10-15T23:01:28.812941",
     "exception": false,
     "start_time": "2020-10-15T23:01:28.792884",
     "status": "completed"
    },
    "tags": []
   },
   "source": [
    "# folder name of analysis: "
   ]
  },
  {
   "cell_type": "code",
   "execution_count": 8,
   "metadata": {
    "execution": {
     "iopub.execute_input": "2020-10-15T23:01:28.858564Z",
     "iopub.status.busy": "2020-10-15T23:01:28.857963Z",
     "iopub.status.idle": "2020-10-15T23:01:28.860645Z",
     "shell.execute_reply": "2020-10-15T23:01:28.860103Z"
    },
    "papermill": {
     "duration": 0.027058,
     "end_time": "2020-10-15T23:01:28.860728",
     "exception": false,
     "start_time": "2020-10-15T23:01:28.833670",
     "status": "completed"
    },
    "tags": []
   },
   "outputs": [],
   "source": [
    "analysis_type = \"8.dsl__ipsi_previous(WR_vs_LS)_contra_previous(WR_vs_LS)__ls_mice\""
   ]
  },
  {
   "cell_type": "code",
   "execution_count": 9,
   "metadata": {
    "execution": {
     "iopub.execute_input": "2020-10-15T23:01:28.905746Z",
     "iopub.status.busy": "2020-10-15T23:01:28.905212Z",
     "iopub.status.idle": "2020-10-15T23:01:28.908475Z",
     "shell.execute_reply": "2020-10-15T23:01:28.907972Z"
    },
    "papermill": {
     "duration": 0.027368,
     "end_time": "2020-10-15T23:01:28.908553",
     "exception": false,
     "start_time": "2020-10-15T23:01:28.881185",
     "status": "completed"
    },
    "tags": []
   },
   "outputs": [
    {
     "data": {
      "text/plain": [
       "'/anaconda3/envs/photometry_env/bin/python'"
      ]
     },
     "execution_count": 9,
     "metadata": {},
     "output_type": "execute_result"
    }
   ],
   "source": [
    "sys.executable"
   ]
  },
  {
   "cell_type": "markdown",
   "metadata": {
    "papermill": {
     "duration": 0.020042,
     "end_time": "2020-10-15T23:01:28.948271",
     "exception": false,
     "start_time": "2020-10-15T23:01:28.928229",
     "status": "completed"
    },
    "tags": []
   },
   "source": [
    "# where to save the data: "
   ]
  },
  {
   "cell_type": "code",
   "execution_count": 10,
   "metadata": {
    "execution": {
     "iopub.execute_input": "2020-10-15T23:01:28.994062Z",
     "iopub.status.busy": "2020-10-15T23:01:28.993546Z",
     "iopub.status.idle": "2020-10-15T23:01:28.996137Z",
     "shell.execute_reply": "2020-10-15T23:01:28.995623Z"
    },
    "papermill": {
     "duration": 0.026994,
     "end_time": "2020-10-15T23:01:28.996218",
     "exception": false,
     "start_time": "2020-10-15T23:01:28.969224",
     "status": "completed"
    },
    "tags": []
   },
   "outputs": [],
   "source": [
    "path_to_save_plots = path_to_load_data+\"/\"+\"line_plots\"+\"/\"+\"avg_of_mice\"+\"/\"+analysis_type "
   ]
  },
  {
   "cell_type": "code",
   "execution_count": 11,
   "metadata": {
    "execution": {
     "iopub.execute_input": "2020-10-15T23:01:29.041008Z",
     "iopub.status.busy": "2020-10-15T23:01:29.040446Z",
     "iopub.status.idle": "2020-10-15T23:01:29.043482Z",
     "shell.execute_reply": "2020-10-15T23:01:29.043000Z"
    },
    "papermill": {
     "duration": 0.026486,
     "end_time": "2020-10-15T23:01:29.043559",
     "exception": false,
     "start_time": "2020-10-15T23:01:29.017073",
     "status": "completed"
    },
    "tags": []
   },
   "outputs": [
    {
     "data": {
      "text/plain": [
       "'/Volumes/GilInVivoPaper.large/2.Photometry_in_str/1.lateral_medial_6_analysis//left_dual_color_photo_full_data_after_QC/0a1b2a3g4abcd5a6a7a/line_plots/avg_of_mice/8.dsl__ipsi_previous(WR_vs_LS)_contra_previous(WR_vs_LS)__ls_mice'"
      ]
     },
     "execution_count": 11,
     "metadata": {},
     "output_type": "execute_result"
    }
   ],
   "source": [
    "path_to_save_plots"
   ]
  },
  {
   "cell_type": "markdown",
   "metadata": {
    "papermill": {
     "duration": 0.020666,
     "end_time": "2020-10-15T23:01:29.085121",
     "exception": false,
     "start_time": "2020-10-15T23:01:29.064455",
     "status": "completed"
    },
    "tags": []
   },
   "source": [
    "# Import the data and where to save it "
   ]
  },
  {
   "cell_type": "code",
   "execution_count": 12,
   "metadata": {
    "execution": {
     "iopub.execute_input": "2020-10-15T23:01:29.132420Z",
     "iopub.status.busy": "2020-10-15T23:01:29.131762Z",
     "iopub.status.idle": "2020-10-15T23:01:46.565034Z",
     "shell.execute_reply": "2020-10-15T23:01:46.564401Z"
    },
    "papermill": {
     "duration": 17.458441,
     "end_time": "2020-10-15T23:01:46.565130",
     "exception": false,
     "start_time": "2020-10-15T23:01:29.106689",
     "status": "completed"
    },
    "tags": []
   },
   "outputs": [
    {
     "name": "stdout",
     "output_type": "stream",
     "text": [
      "CPU times: user 16.4 s, sys: 948 ms, total: 17.4 s\n",
      "Wall time: 17.4 s\n"
     ]
    }
   ],
   "source": [
    "%%time\n",
    "root = Path(path_to_load_data)\n",
    "d = \"data_object_photometry_after_processing\"+\"_\"+seq_str+'.pickle'\n",
    "my_path = root / d \n",
    "fileToOpen = open(my_path, 'rb')\n",
    "data_set = pickle.load(fileToOpen)"
   ]
  },
  {
   "cell_type": "markdown",
   "metadata": {
    "papermill": {
     "duration": 0.023875,
     "end_time": "2020-10-15T23:01:46.614138",
     "exception": false,
     "start_time": "2020-10-15T23:01:46.590263",
     "status": "completed"
    },
    "tags": []
   },
   "source": [
    "# label y axis "
   ]
  },
  {
   "cell_type": "code",
   "execution_count": 13,
   "metadata": {
    "execution": {
     "iopub.execute_input": "2020-10-15T23:01:46.661853Z",
     "iopub.status.busy": "2020-10-15T23:01:46.661356Z",
     "iopub.status.idle": "2020-10-15T23:01:46.664088Z",
     "shell.execute_reply": "2020-10-15T23:01:46.663589Z"
    },
    "papermill": {
     "duration": 0.027302,
     "end_time": "2020-10-15T23:01:46.664167",
     "exception": false,
     "start_time": "2020-10-15T23:01:46.636865",
     "status": "completed"
    },
    "tags": []
   },
   "outputs": [],
   "source": [
    "# alphabet = [\"a\",\"b\",\"c\",\"d\",\"e\",\"f\",\"g\"]\n",
    "# y_axis = y_axis_list[alphabet.index(seq_str[:seq_str.index('4')][-1])]\n",
    "# print (y_axis)"
   ]
  },
  {
   "cell_type": "code",
   "execution_count": null,
   "metadata": {
    "papermill": {
     "duration": 0.02176,
     "end_time": "2020-10-15T23:01:46.707843",
     "exception": false,
     "start_time": "2020-10-15T23:01:46.686083",
     "status": "completed"
    },
    "tags": []
   },
   "outputs": [],
   "source": []
  },
  {
   "cell_type": "code",
   "execution_count": 14,
   "metadata": {
    "execution": {
     "iopub.execute_input": "2020-10-15T23:01:46.756800Z",
     "iopub.status.busy": "2020-10-15T23:01:46.755978Z",
     "iopub.status.idle": "2020-10-15T23:01:46.759847Z",
     "shell.execute_reply": "2020-10-15T23:01:46.759348Z"
    },
    "papermill": {
     "duration": 0.029065,
     "end_time": "2020-10-15T23:01:46.759924",
     "exception": false,
     "start_time": "2020-10-15T23:01:46.730859",
     "status": "completed"
    },
    "tags": []
   },
   "outputs": [],
   "source": [
    "# stash result in a cache directory.\n",
    "cache_dir_plt = os.path.join(path_to_save_plots,period_of_interest)\n",
    "if not os.path.exists(cache_dir_plt):\n",
    "    os.makedirs(cache_dir_plt)"
   ]
  },
  {
   "cell_type": "code",
   "execution_count": 15,
   "metadata": {
    "execution": {
     "iopub.execute_input": "2020-10-15T23:01:46.810503Z",
     "iopub.status.busy": "2020-10-15T23:01:46.809741Z",
     "iopub.status.idle": "2020-10-15T23:01:46.813589Z",
     "shell.execute_reply": "2020-10-15T23:01:46.813044Z"
    },
    "papermill": {
     "duration": 0.030453,
     "end_time": "2020-10-15T23:01:46.813673",
     "exception": false,
     "start_time": "2020-10-15T23:01:46.783220",
     "status": "completed"
    },
    "tags": []
   },
   "outputs": [
    {
     "data": {
      "text/plain": [
       "'/Volumes/GilInVivoPaper.large/2.Photometry_in_str/1.lateral_medial_6_analysis//left_dual_color_photo_full_data_after_QC/0a1b2a3g4abcd5a6a7a/line_plots/avg_of_mice/8.dsl__ipsi_previous(WR_vs_LS)_contra_previous(WR_vs_LS)__ls_mice/combined_periods_1'"
      ]
     },
     "execution_count": 15,
     "metadata": {},
     "output_type": "execute_result"
    }
   ],
   "source": [
    "cache_dir_plt"
   ]
  },
  {
   "cell_type": "markdown",
   "metadata": {
    "papermill": {
     "duration": 0.021314,
     "end_time": "2020-10-15T23:01:46.857866",
     "exception": false,
     "start_time": "2020-10-15T23:01:46.836552",
     "status": "completed"
    },
    "tags": []
   },
   "source": [
    "# generate data sets of interest"
   ]
  },
  {
   "cell_type": "code",
   "execution_count": 16,
   "metadata": {
    "execution": {
     "iopub.execute_input": "2020-10-15T23:01:46.903990Z",
     "iopub.status.busy": "2020-10-15T23:01:46.903532Z",
     "iopub.status.idle": "2020-10-15T23:01:46.905911Z",
     "shell.execute_reply": "2020-10-15T23:01:46.906368Z"
    },
    "papermill": {
     "duration": 0.02713,
     "end_time": "2020-10-15T23:01:46.906464",
     "exception": false,
     "start_time": "2020-10-15T23:01:46.879334",
     "status": "completed"
    },
    "tags": []
   },
   "outputs": [],
   "source": [
    "#combinations = [(2, 2), (2, 1), (1, 2), (1, 1)]"
   ]
  },
  {
   "cell_type": "code",
   "execution_count": 17,
   "metadata": {
    "execution": {
     "iopub.execute_input": "2020-10-15T23:01:46.959701Z",
     "iopub.status.busy": "2020-10-15T23:01:46.956894Z",
     "iopub.status.idle": "2020-10-15T23:01:47.020438Z",
     "shell.execute_reply": "2020-10-15T23:01:47.020979Z"
    },
    "papermill": {
     "duration": 0.091318,
     "end_time": "2020-10-15T23:01:47.021094",
     "exception": false,
     "start_time": "2020-10-15T23:01:46.929776",
     "status": "completed"
    },
    "scrolled": true,
    "tags": []
   },
   "outputs": [
    {
     "name": "stdout",
     "output_type": "stream",
     "text": [
      "full\n",
      "full\n",
      "full\n",
      "full\n",
      "full\n",
      "full\n",
      "full\n",
      "full\n",
      "full\n",
      "full\n",
      "full\n",
      "full\n",
      "full\n",
      "full\n",
      "full\n",
      "full\n",
      "full\n",
      "full\n",
      "full\n",
      "full\n",
      "full\n",
      "full\n",
      "full\n",
      "full\n",
      "full\n",
      "full\n",
      "full\n",
      "full\n",
      "full\n",
      "full\n",
      "full\n",
      "full\n",
      "full\n",
      "full\n",
      "full\n",
      "full\n",
      "full\n",
      "full\n",
      "full\n",
      "full\n",
      "full\n",
      "full\n",
      "full\n",
      "full\n",
      "full\n",
      "full\n",
      "full\n",
      "full\n",
      "full\n",
      "full\n",
      "full\n",
      "full\n",
      "full\n",
      "full\n",
      "full\n",
      "full\n",
      "full\n",
      "full\n",
      "full\n"
     ]
    }
   ],
   "source": [
    "wr_period_d1_data_set= dslhf.extract_data_of_interest_ipsi_contra_data_set(data_set,\n",
    "                                                                           1,3,\n",
    "                                                                           period_of_interest,\"d1 L\")"
   ]
  },
  {
   "cell_type": "code",
   "execution_count": 18,
   "metadata": {
    "execution": {
     "iopub.execute_input": "2020-10-15T23:01:47.078675Z",
     "iopub.status.busy": "2020-10-15T23:01:47.078116Z",
     "iopub.status.idle": "2020-10-15T23:01:47.127134Z",
     "shell.execute_reply": "2020-10-15T23:01:47.128053Z"
    },
    "papermill": {
     "duration": 0.082119,
     "end_time": "2020-10-15T23:01:47.128238",
     "exception": false,
     "start_time": "2020-10-15T23:01:47.046119",
     "status": "completed"
    },
    "scrolled": true,
    "tags": []
   },
   "outputs": [
    {
     "name": "stdout",
     "output_type": "stream",
     "text": [
      "full\n",
      "full\n",
      "full\n",
      "full\n",
      "full\n",
      "full\n",
      "full\n",
      "full\n",
      "full\n",
      "full\n",
      "full\n",
      "full\n",
      "full\n",
      "full\n",
      "full\n",
      "full\n",
      "full\n",
      "full\n",
      "full\n",
      "full\n",
      "full\n",
      "full\n",
      "full\n",
      "full\n",
      "full\n",
      "full\n",
      "full\n",
      "full\n",
      "full\n",
      "full\n",
      "full\n",
      "full\n",
      "full\n",
      "full\n",
      "full\n",
      "full\n",
      "full\n",
      "full\n",
      "full\n",
      "full\n",
      "full\n",
      "full\n",
      "full\n",
      "full\n",
      "full\n",
      "full\n",
      "full\n",
      "full\n",
      "full\n",
      "full\n",
      "full\n",
      "full\n",
      "full\n",
      "full\n",
      "full\n",
      "full\n",
      "full\n",
      "full\n",
      "full\n"
     ]
    }
   ],
   "source": [
    "wr_period_d2_data_set= dslhf.extract_data_of_interest_ipsi_contra_data_set(data_set,\n",
    "                                                                           1,3,\n",
    "                                                                           period_of_interest,\"d2 L\")"
   ]
  },
  {
   "cell_type": "code",
   "execution_count": 19,
   "metadata": {
    "execution": {
     "iopub.execute_input": "2020-10-15T23:01:47.190953Z",
     "iopub.status.busy": "2020-10-15T23:01:47.190148Z",
     "iopub.status.idle": "2020-10-15T23:01:47.255633Z",
     "shell.execute_reply": "2020-10-15T23:01:47.256111Z"
    },
    "papermill": {
     "duration": 0.095236,
     "end_time": "2020-10-15T23:01:47.256214",
     "exception": false,
     "start_time": "2020-10-15T23:01:47.160978",
     "status": "completed"
    },
    "scrolled": true,
    "tags": []
   },
   "outputs": [
    {
     "name": "stdout",
     "output_type": "stream",
     "text": [
      "full\n",
      "full\n",
      "full\n",
      "full\n",
      "full\n",
      "full\n",
      "full\n",
      "full\n",
      "full\n",
      "full\n",
      "full\n",
      "full\n",
      "full\n",
      "full\n",
      "full\n",
      "full\n",
      "full\n",
      "full\n",
      "full\n",
      "full\n",
      "full\n",
      "full\n",
      "full\n",
      "full\n",
      "full\n",
      "full\n",
      "full\n",
      "full\n",
      "full\n",
      "full\n",
      "full\n",
      "full\n",
      "full\n",
      "full\n",
      "full\n",
      "full\n",
      "full\n",
      "full\n",
      "full\n",
      "full\n",
      "full\n",
      "full\n",
      "full\n",
      "full\n",
      "full\n",
      "full\n",
      "full\n",
      "full\n",
      "full\n",
      "full\n",
      "full\n",
      "full\n",
      "full\n",
      "full\n",
      "full\n",
      "full\n",
      "full\n",
      "full\n",
      "full\n"
     ]
    }
   ],
   "source": [
    "ls_period_d1_data_set= dslhf.extract_data_of_interest_ipsi_contra_data_set(data_set,\n",
    "                                                                           1,0,\n",
    "                                                                           period_of_interest,\"d1 L\")"
   ]
  },
  {
   "cell_type": "code",
   "execution_count": 20,
   "metadata": {
    "execution": {
     "iopub.execute_input": "2020-10-15T23:01:47.308907Z",
     "iopub.status.busy": "2020-10-15T23:01:47.307571Z",
     "iopub.status.idle": "2020-10-15T23:01:47.344621Z",
     "shell.execute_reply": "2020-10-15T23:01:47.345094Z"
    },
    "papermill": {
     "duration": 0.065424,
     "end_time": "2020-10-15T23:01:47.345193",
     "exception": false,
     "start_time": "2020-10-15T23:01:47.279769",
     "status": "completed"
    },
    "scrolled": true,
    "tags": []
   },
   "outputs": [
    {
     "name": "stdout",
     "output_type": "stream",
     "text": [
      "full\n",
      "full\n",
      "full\n",
      "full\n",
      "full\n",
      "full\n",
      "full\n",
      "full\n",
      "full\n",
      "full\n",
      "full\n",
      "full\n",
      "full\n",
      "full\n",
      "full\n",
      "full\n",
      "full\n",
      "full\n",
      "full\n",
      "full\n",
      "full\n",
      "full\n",
      "full\n",
      "full\n",
      "full\n",
      "full\n",
      "full\n",
      "full\n",
      "full\n",
      "full\n",
      "full\n",
      "full\n",
      "full\n",
      "full\n",
      "full\n",
      "full\n",
      "full\n",
      "full\n",
      "full\n",
      "full\n",
      "full\n",
      "full\n",
      "full\n",
      "full\n",
      "full\n",
      "full\n",
      "full\n",
      "full\n",
      "full\n",
      "full\n",
      "full\n",
      "full\n",
      "full\n",
      "full\n",
      "full\n",
      "full\n",
      "full\n",
      "full\n",
      "full\n"
     ]
    }
   ],
   "source": [
    "ls_period_d2_data_set= dslhf.extract_data_of_interest_ipsi_contra_data_set(data_set,\n",
    "                                                                           1,0,\n",
    "                                                                           period_of_interest,\"d2 L\")"
   ]
  },
  {
   "cell_type": "code",
   "execution_count": 21,
   "metadata": {
    "execution": {
     "iopub.execute_input": "2020-10-15T23:01:47.398767Z",
     "iopub.status.busy": "2020-10-15T23:01:47.398035Z",
     "iopub.status.idle": "2020-10-15T23:01:47.401695Z",
     "shell.execute_reply": "2020-10-15T23:01:47.401128Z"
    },
    "papermill": {
     "duration": 0.032355,
     "end_time": "2020-10-15T23:01:47.401774",
     "exception": false,
     "start_time": "2020-10-15T23:01:47.369419",
     "status": "completed"
    },
    "tags": []
   },
   "outputs": [],
   "source": [
    "def calculate_mean_data_set (ipsi_contra_data_set): \n",
    "    \n",
    "    df_ipsi_previous = pd.DataFrame()\n",
    "    df_contra_previous = pd.DataFrame()\n",
    "    \n",
    "    for session_data in ipsi_contra_data_set:\n",
    "        \n",
    "        mean_ipsi_previous = session_data[0].mean(axis=1)\n",
    "        mean_contra_previous = session_data[1].mean(axis=1)\n",
    "        \n",
    "        df_ipsi_previous = pd.concat([df_ipsi_previous,mean_ipsi_previous],axis=1)\n",
    "        df_contra_previous = pd.concat([df_contra_previous,mean_contra_previous],axis=1)\n",
    "        \n",
    "        \n",
    "    return (df_ipsi_previous,df_contra_previous)\n"
   ]
  },
  {
   "cell_type": "code",
   "execution_count": 22,
   "metadata": {
    "execution": {
     "iopub.execute_input": "2020-10-15T23:01:47.460351Z",
     "iopub.status.busy": "2020-10-15T23:01:47.459670Z",
     "iopub.status.idle": "2020-10-15T23:01:47.709078Z",
     "shell.execute_reply": "2020-10-15T23:01:47.708278Z"
    },
    "papermill": {
     "duration": 0.281209,
     "end_time": "2020-10-15T23:01:47.709237",
     "exception": false,
     "start_time": "2020-10-15T23:01:47.428028",
     "status": "completed"
    },
    "tags": []
   },
   "outputs": [],
   "source": [
    "d1_win_mean_ipsi_contra = calculate_mean_data_set(wr_period_d1_data_set)"
   ]
  },
  {
   "cell_type": "code",
   "execution_count": 23,
   "metadata": {
    "execution": {
     "iopub.execute_input": "2020-10-15T23:01:47.775678Z",
     "iopub.status.busy": "2020-10-15T23:01:47.774919Z",
     "iopub.status.idle": "2020-10-15T23:01:48.010048Z",
     "shell.execute_reply": "2020-10-15T23:01:48.009479Z"
    },
    "papermill": {
     "duration": 0.269032,
     "end_time": "2020-10-15T23:01:48.010135",
     "exception": false,
     "start_time": "2020-10-15T23:01:47.741103",
     "status": "completed"
    },
    "tags": []
   },
   "outputs": [],
   "source": [
    "d2_win_mean_ipsi_contra = calculate_mean_data_set(wr_period_d2_data_set)"
   ]
  },
  {
   "cell_type": "code",
   "execution_count": 24,
   "metadata": {
    "execution": {
     "iopub.execute_input": "2020-10-15T23:01:48.069324Z",
     "iopub.status.busy": "2020-10-15T23:01:48.068424Z",
     "iopub.status.idle": "2020-10-15T23:01:48.276808Z",
     "shell.execute_reply": "2020-10-15T23:01:48.276119Z"
    },
    "papermill": {
     "duration": 0.239106,
     "end_time": "2020-10-15T23:01:48.276937",
     "exception": false,
     "start_time": "2020-10-15T23:01:48.037831",
     "status": "completed"
    },
    "tags": []
   },
   "outputs": [],
   "source": [
    "d1_lose_mean_ipsi_contra = calculate_mean_data_set(ls_period_d1_data_set)"
   ]
  },
  {
   "cell_type": "code",
   "execution_count": 25,
   "metadata": {
    "execution": {
     "iopub.execute_input": "2020-10-15T23:01:48.331753Z",
     "iopub.status.busy": "2020-10-15T23:01:48.331195Z",
     "iopub.status.idle": "2020-10-15T23:01:48.487654Z",
     "shell.execute_reply": "2020-10-15T23:01:48.486914Z"
    },
    "papermill": {
     "duration": 0.185261,
     "end_time": "2020-10-15T23:01:48.487734",
     "exception": false,
     "start_time": "2020-10-15T23:01:48.302473",
     "status": "completed"
    },
    "tags": []
   },
   "outputs": [],
   "source": [
    "d2_lose_mean_ipsi_contra = calculate_mean_data_set(ls_period_d2_data_set)"
   ]
  },
  {
   "cell_type": "code",
   "execution_count": null,
   "metadata": {
    "papermill": {
     "duration": 0.02525,
     "end_time": "2020-10-15T23:01:48.539609",
     "exception": false,
     "start_time": "2020-10-15T23:01:48.514359",
     "status": "completed"
    },
    "tags": []
   },
   "outputs": [],
   "source": []
  },
  {
   "cell_type": "code",
   "execution_count": 26,
   "metadata": {
    "execution": {
     "iopub.execute_input": "2020-10-15T23:01:48.600080Z",
     "iopub.status.busy": "2020-10-15T23:01:48.599428Z",
     "iopub.status.idle": "2020-10-15T23:01:48.602948Z",
     "shell.execute_reply": "2020-10-15T23:01:48.602376Z"
    },
    "papermill": {
     "duration": 0.034265,
     "end_time": "2020-10-15T23:01:48.603037",
     "exception": false,
     "start_time": "2020-10-15T23:01:48.568772",
     "status": "completed"
    },
    "tags": []
   },
   "outputs": [
    {
     "data": {
      "text/plain": [
       "[0, 7, 10, 22, 26, 44, 52, 56, 59]"
      ]
     },
     "execution_count": 26,
     "metadata": {},
     "output_type": "execute_result"
    }
   ],
   "source": [
    "sessionIndex_perMouse = list(map(int,sessionIndex_perMouse))\n",
    "sessionIndex_perMouse"
   ]
  },
  {
   "cell_type": "code",
   "execution_count": 27,
   "metadata": {
    "execution": {
     "iopub.execute_input": "2020-10-15T23:01:48.662625Z",
     "iopub.status.busy": "2020-10-15T23:01:48.662104Z",
     "iopub.status.idle": "2020-10-15T23:01:48.664936Z",
     "shell.execute_reply": "2020-10-15T23:01:48.664413Z"
    },
    "papermill": {
     "duration": 0.034121,
     "end_time": "2020-10-15T23:01:48.665018",
     "exception": false,
     "start_time": "2020-10-15T23:01:48.630897",
     "status": "completed"
    },
    "tags": []
   },
   "outputs": [],
   "source": [
    "def calculate_mean_per_mouse_ipsi_contra(data_set,sessionIndex_perMouse):\n",
    "    \n",
    "    avg_per_mouse_df_ipsi = pd.DataFrame()\n",
    "    avg_per_mouse_df_contra = pd.DataFrame()\n",
    "    \n",
    "    for list_index in range(len(sessionIndex_perMouse)-1):\n",
    "        \n",
    "        avg_per_mouse_ipsi = data_set[0].iloc[:,sessionIndex_perMouse[list_index]:sessionIndex_perMouse[list_index+1]].mean(axis=1)\n",
    "        avg_per_mouse_df_ipsi = pd.concat([avg_per_mouse_df_ipsi,avg_per_mouse_ipsi],axis=1)\n",
    "    \n",
    "\n",
    "        \n",
    "        avg_per_mouse_contra = data_set[1].iloc[:,sessionIndex_perMouse[list_index]:sessionIndex_perMouse[list_index+1]].mean(axis=1)\n",
    "        avg_per_mouse_df_contra = pd.concat([avg_per_mouse_df_contra,avg_per_mouse_contra],axis=1)\n",
    "        \n",
    "    avg_per_mouse_df_ipsi_data_set = avg_per_mouse_df_ipsi.mean(axis=1)\n",
    "    avg_per_mouse_df_contra_data_set = avg_per_mouse_df_contra.mean(axis=1)\n",
    "    \n",
    "    return (avg_per_mouse_df_ipsi, avg_per_mouse_df_ipsi_data_set,\n",
    "            avg_per_mouse_df_contra, avg_per_mouse_df_contra_data_set)"
   ]
  },
  {
   "cell_type": "code",
   "execution_count": 28,
   "metadata": {
    "execution": {
     "iopub.execute_input": "2020-10-15T23:01:48.721221Z",
     "iopub.status.busy": "2020-10-15T23:01:48.720588Z",
     "iopub.status.idle": "2020-10-15T23:01:48.748659Z",
     "shell.execute_reply": "2020-10-15T23:01:48.748109Z"
    },
    "papermill": {
     "duration": 0.058172,
     "end_time": "2020-10-15T23:01:48.748743",
     "exception": false,
     "start_time": "2020-10-15T23:01:48.690571",
     "status": "completed"
    },
    "tags": []
   },
   "outputs": [],
   "source": [
    "d1_win_mean_ipsi_contra_per_mouse_data_set = calculate_mean_per_mouse_ipsi_contra(d1_win_mean_ipsi_contra,sessionIndex_perMouse)"
   ]
  },
  {
   "cell_type": "code",
   "execution_count": 29,
   "metadata": {
    "execution": {
     "iopub.execute_input": "2020-10-15T23:01:48.817126Z",
     "iopub.status.busy": "2020-10-15T23:01:48.814490Z",
     "iopub.status.idle": "2020-10-15T23:01:48.849836Z",
     "shell.execute_reply": "2020-10-15T23:01:48.850423Z"
    },
    "papermill": {
     "duration": 0.075152,
     "end_time": "2020-10-15T23:01:48.850549",
     "exception": false,
     "start_time": "2020-10-15T23:01:48.775397",
     "status": "completed"
    },
    "tags": []
   },
   "outputs": [],
   "source": [
    "d2_win_mean_ipsi_contra_per_mouse_data_set = calculate_mean_per_mouse_ipsi_contra(d2_win_mean_ipsi_contra,sessionIndex_perMouse)"
   ]
  },
  {
   "cell_type": "code",
   "execution_count": 30,
   "metadata": {
    "execution": {
     "iopub.execute_input": "2020-10-15T23:01:48.917660Z",
     "iopub.status.busy": "2020-10-15T23:01:48.915242Z",
     "iopub.status.idle": "2020-10-15T23:01:48.944519Z",
     "shell.execute_reply": "2020-10-15T23:01:48.945029Z"
    },
    "papermill": {
     "duration": 0.063513,
     "end_time": "2020-10-15T23:01:48.945137",
     "exception": false,
     "start_time": "2020-10-15T23:01:48.881624",
     "status": "completed"
    },
    "tags": []
   },
   "outputs": [],
   "source": [
    "d1_lose_mean_ipsi_contra_per_mouse_data_set = calculate_mean_per_mouse_ipsi_contra(d1_lose_mean_ipsi_contra,sessionIndex_perMouse)\n",
    "\n"
   ]
  },
  {
   "cell_type": "code",
   "execution_count": 31,
   "metadata": {
    "execution": {
     "iopub.execute_input": "2020-10-15T23:01:49.011079Z",
     "iopub.status.busy": "2020-10-15T23:01:49.006826Z",
     "iopub.status.idle": "2020-10-15T23:01:49.033084Z",
     "shell.execute_reply": "2020-10-15T23:01:49.032531Z"
    },
    "papermill": {
     "duration": 0.061459,
     "end_time": "2020-10-15T23:01:49.033169",
     "exception": false,
     "start_time": "2020-10-15T23:01:48.971710",
     "status": "completed"
    },
    "tags": []
   },
   "outputs": [],
   "source": [
    "d2_lose_mean_ipsi_contra_per_mouse_data_set = calculate_mean_per_mouse_ipsi_contra(d2_lose_mean_ipsi_contra,sessionIndex_perMouse)\n",
    "\n"
   ]
  },
  {
   "cell_type": "markdown",
   "metadata": {
    "papermill": {
     "duration": 0.024535,
     "end_time": "2020-10-15T23:01:49.082677",
     "exception": false,
     "start_time": "2020-10-15T23:01:49.058142",
     "status": "completed"
    },
    "tags": []
   },
   "source": [
    "# plots"
   ]
  },
  {
   "cell_type": "code",
   "execution_count": 32,
   "metadata": {
    "execution": {
     "iopub.execute_input": "2020-10-15T23:01:49.139917Z",
     "iopub.status.busy": "2020-10-15T23:01:49.139048Z",
     "iopub.status.idle": "2020-10-15T23:01:49.141770Z",
     "shell.execute_reply": "2020-10-15T23:01:49.142474Z"
    },
    "papermill": {
     "duration": 0.034494,
     "end_time": "2020-10-15T23:01:49.142604",
     "exception": false,
     "start_time": "2020-10-15T23:01:49.108110",
     "status": "completed"
    },
    "tags": []
   },
   "outputs": [],
   "source": [
    "import matplotlib as mpl"
   ]
  },
  {
   "cell_type": "code",
   "execution_count": 33,
   "metadata": {
    "execution": {
     "iopub.execute_input": "2020-10-15T23:01:49.203408Z",
     "iopub.status.busy": "2020-10-15T23:01:49.202812Z",
     "iopub.status.idle": "2020-10-15T23:01:49.205043Z",
     "shell.execute_reply": "2020-10-15T23:01:49.204550Z"
    },
    "papermill": {
     "duration": 0.035013,
     "end_time": "2020-10-15T23:01:49.205121",
     "exception": false,
     "start_time": "2020-10-15T23:01:49.170108",
     "status": "completed"
    },
    "tags": []
   },
   "outputs": [],
   "source": [
    "def plot_ipsiprevious_win_or_lose_per_mouse(win_mean_ipsi_contra_per_mouse_data_set,\n",
    "                                            lose_mean_ipsi_contra_per_mouse_data_set,\n",
    "                                            trial_type,period_of_interest,cell_type,\n",
    "                                            ylim_d1,ylim_d2,y_axis,\n",
    "                                            path_to_plot):\n",
    "    \n",
    "        \n",
    "    \n",
    "    for i in range(len(win_mean_ipsi_contra_per_mouse_data_set[0].columns)):\n",
    "        \n",
    "        plt.plot(win_mean_ipsi_contra_per_mouse_data_set[0].iloc[:,i],color='cyan', linewidth=0.2,alpha=0.5)\n",
    "        plt.plot(lose_mean_ipsi_contra_per_mouse_data_set[0].iloc[:,i],color='magenta', linewidth=0.2,alpha=0.5)\n",
    "        \n",
    "        print (\"ok\")\n",
    "    \n",
    "    plt.plot(win_mean_ipsi_contra_per_mouse_data_set[1],linewidth=2.5, label=\"win\",color='cyan')\n",
    "    plt.plot(lose_mean_ipsi_contra_per_mouse_data_set[1],linewidth=2.5, label=\"lose\",color='magenta')\n",
    "    \n",
    "\n",
    "#     plt.ylim([-0.4,0.6])\n",
    "    \n",
    "    if cell_type == \"D1\":\n",
    "        plt.ylim(ylim_d1)\n",
    "      \n",
    "    if cell_type == \"D2\":\n",
    "        plt.ylim(ylim_d2)\n",
    "        \n",
    "        \n",
    "    # Add legend\n",
    "    plt.legend(loc='upper right')\n",
    "\n",
    "    # Add title and x, y labels\n",
    "    title = trial_type+\"_\"+\"(\"+period_of_interest+\")\"\n",
    "    plt.title(title, fontsize=16, fontweight='bold')\n",
    "    plt.suptitle(cell_type, fontsize=16)\n",
    "\n",
    "    plt.xlabel(\"time_bins\")\n",
    "    \n",
    "    #the y axis is defined in the paper mill. This allows to run 7_b with 3a,3b,3c and any future 3s, easliy changing the \n",
    "    #the name of the y axis to not cause confusion. \n",
    "    plt.ylabel(y_axis)\n",
    "    plt.savefig(path_to_plot+\"/\"+\"_\"+trial_type+cell_type+\"_\"+period_of_interest+'.pdf')\n",
    "    plt.show()"
   ]
  },
  {
   "cell_type": "code",
   "execution_count": 34,
   "metadata": {
    "execution": {
     "iopub.execute_input": "2020-10-15T23:01:49.286838Z",
     "iopub.status.busy": "2020-10-15T23:01:49.282143Z",
     "iopub.status.idle": "2020-10-15T23:01:49.692618Z",
     "shell.execute_reply": "2020-10-15T23:01:49.693316Z"
    },
    "papermill": {
     "duration": 0.46126,
     "end_time": "2020-10-15T23:01:49.693450",
     "exception": false,
     "start_time": "2020-10-15T23:01:49.232190",
     "status": "completed"
    },
    "scrolled": false,
    "tags": []
   },
   "outputs": [
    {
     "name": "stdout",
     "output_type": "stream",
     "text": [
      "ok\n",
      "ok\n",
      "ok\n",
      "ok\n",
      "ok\n",
      "ok\n",
      "ok\n",
      "ok\n"
     ]
    },
    {
     "data": {
      "image/png": "[encoded data removed]",
      "text/plain": [
       "<Figure size 432x288 with 1 Axes>"
      ]
     },
     "metadata": {
      "needs_background": "light"
     },
     "output_type": "display_data"
    }
   ],
   "source": [
    "plot_ipsiprevious_win_or_lose_per_mouse(d1_win_mean_ipsi_contra_per_mouse_data_set,\n",
    "                                        d1_lose_mean_ipsi_contra_per_mouse_data_set,\n",
    "                                        \"left_ipsi_(win_vs_lose)_previous\",period_of_interest,\"D1\",\n",
    "                                        ylim_d1,ylim_d2,y_axis,cache_dir_plt)"
   ]
  },
  {
   "cell_type": "code",
   "execution_count": 35,
   "metadata": {
    "execution": {
     "iopub.execute_input": "2020-10-15T23:01:49.785876Z",
     "iopub.status.busy": "2020-10-15T23:01:49.782063Z",
     "iopub.status.idle": "2020-10-15T23:01:50.105642Z",
     "shell.execute_reply": "2020-10-15T23:01:50.106471Z"
    },
    "papermill": {
     "duration": 0.380135,
     "end_time": "2020-10-15T23:01:50.106657",
     "exception": false,
     "start_time": "2020-10-15T23:01:49.726522",
     "status": "completed"
    },
    "scrolled": false,
    "tags": []
   },
   "outputs": [
    {
     "name": "stdout",
     "output_type": "stream",
     "text": [
      "ok\n",
      "ok\n",
      "ok\n",
      "ok\n",
      "ok\n",
      "ok\n",
      "ok\n",
      "ok\n"
     ]
    },
    {
     "data": {
      "image/png": "[encoded data removed]",
      "text/plain": [
       "<Figure size 432x288 with 1 Axes>"
      ]
     },
     "metadata": {
      "needs_background": "light"
     },
     "output_type": "display_data"
    }
   ],
   "source": [
    "plot_ipsiprevious_win_or_lose_per_mouse(d2_win_mean_ipsi_contra_per_mouse_data_set,\n",
    "                                        d2_lose_mean_ipsi_contra_per_mouse_data_set,\n",
    "                                        \"left_ipsi_(win_vs_lose)_previous\",period_of_interest,\"D2\",\n",
    "                                        ylim_d1,ylim_d2,y_axis,cache_dir_plt)\n"
   ]
  },
  {
   "cell_type": "code",
   "execution_count": 36,
   "metadata": {
    "execution": {
     "iopub.execute_input": "2020-10-15T23:01:50.198073Z",
     "iopub.status.busy": "2020-10-15T23:01:50.196382Z",
     "iopub.status.idle": "2020-10-15T23:01:50.200912Z",
     "shell.execute_reply": "2020-10-15T23:01:50.201530Z"
    },
    "papermill": {
     "duration": 0.055128,
     "end_time": "2020-10-15T23:01:50.201651",
     "exception": false,
     "start_time": "2020-10-15T23:01:50.146523",
     "status": "completed"
    },
    "tags": []
   },
   "outputs": [],
   "source": [
    "def plot_contraprevious_win_or_lose_per_mouse(win_mean_ipsi_contra_per_mouse_data_set,\n",
    "                                              lose_mean_ipsi_contra_per_mouse_data_set,\n",
    "                                              trial_type,period_of_interest,cell_type,\n",
    "                                              ylim_d1,ylim_d2,y_axis,path_to_plot):\n",
    "    \n",
    "        \n",
    "    \n",
    "    for i in range(len(win_mean_ipsi_contra_per_mouse_data_set[0].columns)):\n",
    "        \n",
    "        plt.plot(win_mean_ipsi_contra_per_mouse_data_set[2].iloc[:,i],color='cyan', linewidth=0.2,alpha=0.5)\n",
    "        plt.plot(lose_mean_ipsi_contra_per_mouse_data_set[2].iloc[:,i],color='magenta', linewidth=0.2,alpha=0.5)\n",
    "        \n",
    "        print (\"ok\")\n",
    "    \n",
    "    plt.plot(win_mean_ipsi_contra_per_mouse_data_set[3],linewidth=2.5, label=\"win\",color='cyan')\n",
    "    plt.plot(lose_mean_ipsi_contra_per_mouse_data_set[3],linewidth=2.5, label=\"lose\",color='magenta')\n",
    "    \n",
    "\n",
    "#     plt.ylim([-0.4,0.6])\n",
    "\n",
    "    if cell_type == \"D1\":\n",
    "        plt.ylim(ylim_d1)\n",
    "      \n",
    "    if cell_type == \"D2\":\n",
    "        plt.ylim(ylim_d2)\n",
    "        \n",
    "    #plt.ylim([-1,2.5])\n",
    "    \n",
    "    \n",
    "    # Add legend\n",
    "    plt.legend(loc='upper right')\n",
    "\n",
    "    # Add title and x, y labels\n",
    "    title = trial_type+\"_\"+\"(\"+period_of_interest+\")\"\n",
    "    plt.title(title, fontsize=16, fontweight='bold')\n",
    "    plt.suptitle(cell_type, fontsize=16)\n",
    "\n",
    "    plt.xlabel(\"time_bins\")\n",
    "    \n",
    "    #the y axis is defined in the paper mill. This allows to run 7_b with 3a,3b,3c and any future 3s, easliy changing the \n",
    "    #the name of the y axis to not cause confusion. \n",
    "    plt.ylabel(y_axis)\n",
    "    plt.savefig(path_to_plot+\"/\"+\"_\"+trial_type+cell_type+\"_\"+period_of_interest+'.pdf')\n",
    "    plt.show()"
   ]
  },
  {
   "cell_type": "code",
   "execution_count": 37,
   "metadata": {
    "execution": {
     "iopub.execute_input": "2020-10-15T23:01:50.283041Z",
     "iopub.status.busy": "2020-10-15T23:01:50.279061Z",
     "iopub.status.idle": "2020-10-15T23:01:50.630487Z",
     "shell.execute_reply": "2020-10-15T23:01:50.629954Z"
    },
    "papermill": {
     "duration": 0.392686,
     "end_time": "2020-10-15T23:01:50.630570",
     "exception": false,
     "start_time": "2020-10-15T23:01:50.237884",
     "status": "completed"
    },
    "scrolled": false,
    "tags": []
   },
   "outputs": [
    {
     "name": "stdout",
     "output_type": "stream",
     "text": [
      "ok\n",
      "ok\n",
      "ok\n",
      "ok\n",
      "ok\n",
      "ok\n",
      "ok\n",
      "ok\n"
     ]
    },
    {
     "data": {
      "image/png": "[encoded data removed]",
      "text/plain": [
       "<Figure size 432x288 with 1 Axes>"
      ]
     },
     "metadata": {
      "needs_background": "light"
     },
     "output_type": "display_data"
    }
   ],
   "source": [
    "plot_contraprevious_win_or_lose_per_mouse(d1_win_mean_ipsi_contra_per_mouse_data_set,\n",
    "                                          d1_lose_mean_ipsi_contra_per_mouse_data_set,\n",
    "                                          \"left_contra_(win_vs_lose)_previous\",period_of_interest,\"D1\",\n",
    "                                          ylim_d1,ylim_d2,y_axis,cache_dir_plt)"
   ]
  },
  {
   "cell_type": "code",
   "execution_count": 38,
   "metadata": {
    "execution": {
     "iopub.execute_input": "2020-10-15T23:01:50.716385Z",
     "iopub.status.busy": "2020-10-15T23:01:50.705597Z",
     "iopub.status.idle": "2020-10-15T23:01:51.066742Z",
     "shell.execute_reply": "2020-10-15T23:01:51.066270Z"
    },
    "papermill": {
     "duration": 0.404552,
     "end_time": "2020-10-15T23:01:51.066817",
     "exception": false,
     "start_time": "2020-10-15T23:01:50.662265",
     "status": "completed"
    },
    "tags": []
   },
   "outputs": [
    {
     "name": "stdout",
     "output_type": "stream",
     "text": [
      "ok\n",
      "ok\n",
      "ok\n",
      "ok\n",
      "ok\n",
      "ok\n",
      "ok\n",
      "ok\n"
     ]
    },
    {
     "data": {
      "image/png": "[encoded data removed]",
      "text/plain": [
       "<Figure size 432x288 with 1 Axes>"
      ]
     },
     "metadata": {
      "needs_background": "light"
     },
     "output_type": "display_data"
    }
   ],
   "source": [
    "plot_contraprevious_win_or_lose_per_mouse(d2_win_mean_ipsi_contra_per_mouse_data_set,\n",
    "                                          d2_lose_mean_ipsi_contra_per_mouse_data_set,\n",
    "                                          \"left_contra_(win_vs_lose)_previous\",period_of_interest,\"D2\",\n",
    "                                          ylim_d1,ylim_d2,y_axis,cache_dir_plt)"
   ]
  },
  {
   "cell_type": "code",
   "execution_count": null,
   "metadata": {
    "papermill": {
     "duration": 0.031291,
     "end_time": "2020-10-15T23:01:51.129779",
     "exception": false,
     "start_time": "2020-10-15T23:01:51.098488",
     "status": "completed"
    },
    "tags": []
   },
   "outputs": [],
   "source": []
  }
 ],
 "metadata": {
  "celltoolbar": "Tags",
  "kernelspec": {
   "display_name": "Python 3",
   "language": "python",
   "name": "python3"
  },
  "language_info": {
   "codemirror_mode": {
    "name": "ipython",
    "version": 3
   },
   "file_extension": ".py",
   "mimetype": "text/x-python",
   "name": "python",
   "nbconvert_exporter": "python",
   "pygments_lexer": "ipython3",
   "version": "3.7.3"
  },
  "papermill": {
   "duration": 24.403756,
   "end_time": "2020-10-15T23:01:51.374857",
   "environment_variables": {},
   "exception": null,
   "input_path": "/Users/gilmandelbaum/github/analysis-pipeline-for-photometry_ex/Nb_data_set/1.data_set_lineplot/left_side_of_the_brain/avg_of_mice/8.dsl__ipsi_previous(WR_vs_LS)_contra_previous(WR_vs_LS)__ls_mice.ipynb",
   "output_path": "TestOutPut.ipynb",
   "parameters": {
    "HowManyBack": 1,
    "folderName": "left_dual_color_photo_full_data_after_QC",
    "path_to_load_data": "/Volumes/GilInVivoPaper.large/2.Photometry_in_str/1.lateral_medial_6_analysis//left_dual_color_photo_full_data_after_QC/0a1b2a3g4abcd5a6a7a",
    "period_of_interest": "combined_periods_1",
    "seq_str": "0a1b2a3g4abcd5a6a7a",
    "sessionIndex_perMouse": [
     "0",
     "7",
     "10",
     "22",
     "26",
     "44",
     "52",
     "56",
     "59"
    ],
    "y_axis": "df_f_1",
    "ylim_d1": [
     0.0,
     1.5
    ],
    "ylim_d2": [
     0.5,
     4
    ]
   },
   "start_time": "2020-10-15T23:01:26.971101",
   "version": "2.1.1"
  }
 },
 "nbformat": 4,
 "nbformat_minor": 4
}