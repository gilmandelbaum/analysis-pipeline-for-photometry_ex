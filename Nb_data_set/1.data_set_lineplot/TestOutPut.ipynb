{
 "cells": [
  {
   "cell_type": "code",
   "execution_count": 1,
   "metadata": {
    "execution": {
     "iopub.execute_input": "2020-08-12T23:27:14.083118Z",
     "iopub.status.busy": "2020-08-12T23:27:14.082522Z",
     "iopub.status.idle": "2020-08-12T23:27:14.622152Z",
     "shell.execute_reply": "2020-08-12T23:27:14.621635Z"
    },
    "papermill": {
     "duration": 0.569693,
     "end_time": "2020-08-12T23:27:14.622238",
     "exception": false,
     "start_time": "2020-08-12T23:27:14.052545",
     "status": "completed"
    },
    "tags": []
   },
   "outputs": [],
   "source": [
    "import pickle\n",
    "from pathlib import Path\n",
    "import pandas as pd \n",
    "import os\n",
    "import sys\n",
    "import matplotlib.pyplot as plt\n",
    "import getpass"
   ]
  },
  {
   "cell_type": "markdown",
   "metadata": {
    "papermill": {
     "duration": 0.019387,
     "end_time": "2020-08-12T23:27:14.660794",
     "exception": false,
     "start_time": "2020-08-12T23:27:14.641407",
     "status": "completed"
    },
    "tags": []
   },
   "source": [
    "# importing the helper functions: "
   ]
  },
  {
   "cell_type": "code",
   "execution_count": 2,
   "metadata": {
    "execution": {
     "iopub.execute_input": "2020-08-12T23:27:14.701141Z",
     "iopub.status.busy": "2020-08-12T23:27:14.700589Z",
     "iopub.status.idle": "2020-08-12T23:27:14.702875Z",
     "shell.execute_reply": "2020-08-12T23:27:14.703316Z"
    },
    "papermill": {
     "duration": 0.023934,
     "end_time": "2020-08-12T23:27:14.703410",
     "exception": false,
     "start_time": "2020-08-12T23:27:14.679476",
     "status": "completed"
    },
    "tags": []
   },
   "outputs": [
    {
     "name": "stdout",
     "output_type": "stream",
     "text": [
      "gilmandelbaum\n"
     ]
    }
   ],
   "source": [
    "#add the github path that will run the notebooks: \n",
    "username = getpass.getuser() # gets the username from the current comp \n",
    "print (username)"
   ]
  },
  {
   "cell_type": "code",
   "execution_count": 3,
   "metadata": {
    "execution": {
     "iopub.execute_input": "2020-08-12T23:27:14.744365Z",
     "iopub.status.busy": "2020-08-12T23:27:14.743929Z",
     "iopub.status.idle": "2020-08-12T23:27:14.745862Z",
     "shell.execute_reply": "2020-08-12T23:27:14.746344Z"
    },
    "papermill": {
     "duration": 0.024546,
     "end_time": "2020-08-12T23:27:14.746438",
     "exception": false,
     "start_time": "2020-08-12T23:27:14.721892",
     "status": "completed"
    },
    "tags": []
   },
   "outputs": [],
   "source": [
    "sys.path.insert(0,'/Users/{:}/github/analysis-pipeline-for-photometry_ex/Nb_data_set/1.data_set_lineplot'.format(username))"
   ]
  },
  {
   "cell_type": "code",
   "execution_count": 4,
   "metadata": {
    "execution": {
     "iopub.execute_input": "2020-08-12T23:27:14.791193Z",
     "iopub.status.busy": "2020-08-12T23:27:14.790684Z",
     "iopub.status.idle": "2020-08-12T23:27:14.793672Z",
     "shell.execute_reply": "2020-08-12T23:27:14.793172Z"
    },
    "papermill": {
     "duration": 0.02718,
     "end_time": "2020-08-12T23:27:14.793748",
     "exception": false,
     "start_time": "2020-08-12T23:27:14.766568",
     "status": "completed"
    },
    "tags": []
   },
   "outputs": [
    {
     "data": {
      "text/plain": [
       "'/Users/gilmandelbaum/github/analysis-pipeline-for-photometry_ex/Nb_data_set/1.data_set_lineplot'"
      ]
     },
     "execution_count": 4,
     "metadata": {},
     "output_type": "execute_result"
    }
   ],
   "source": [
    "sys.path[0]"
   ]
  },
  {
   "cell_type": "code",
   "execution_count": 5,
   "metadata": {
    "execution": {
     "iopub.execute_input": "2020-08-12T23:27:14.834651Z",
     "iopub.status.busy": "2020-08-12T23:27:14.833972Z",
     "iopub.status.idle": "2020-08-12T23:27:14.837649Z",
     "shell.execute_reply": "2020-08-12T23:27:14.837171Z"
    },
    "papermill": {
     "duration": 0.025302,
     "end_time": "2020-08-12T23:27:14.837734",
     "exception": false,
     "start_time": "2020-08-12T23:27:14.812432",
     "status": "completed"
    },
    "tags": []
   },
   "outputs": [],
   "source": [
    "import data_set_lineplot_ic_together_helper_functions as dslhf"
   ]
  },
  {
   "cell_type": "markdown",
   "metadata": {
    "papermill": {
     "duration": 0.018665,
     "end_time": "2020-08-12T23:27:14.876574",
     "exception": false,
     "start_time": "2020-08-12T23:27:14.857909",
     "status": "completed"
    },
    "tags": []
   },
   "source": [
    "# parameters when using papermill:"
   ]
  },
  {
   "cell_type": "code",
   "execution_count": 6,
   "metadata": {
    "execution": {
     "iopub.execute_input": "2020-08-12T23:27:14.923178Z",
     "iopub.status.busy": "2020-08-12T23:27:14.922642Z",
     "iopub.status.idle": "2020-08-12T23:27:14.925047Z",
     "shell.execute_reply": "2020-08-12T23:27:14.924531Z"
    },
    "papermill": {
     "duration": 0.026812,
     "end_time": "2020-08-12T23:27:14.925125",
     "exception": false,
     "start_time": "2020-08-12T23:27:14.898313",
     "status": "completed"
    },
    "tags": [
     "parameters"
    ]
   },
   "outputs": [],
   "source": [
    "seq_str = '0a1b2a3b4abcd5a6a7a'\n",
    "period_of_interest = \"combined_periods_1\"\n",
    "HowManyBasck=1\n",
    "folderName=\"right_dual_color_photo_full_data_set_after_inspection\" #folder where the plot data_set will be saved \n",
    "#where to load the data from: \n",
    "path_to_load_data = \"/Volumes/GilInVivoPaper.large/2.Photometry_in_str/1.lateral_medial_6_analysis//right_dual_color_photo_full_data/0a1b2a3b4abcd5a6a7a\"\n",
    "sessionIndex_perMouse = ['0', '10', '21', '39', '53', '74', '84', '93', '104']\n"
   ]
  },
  {
   "cell_type": "code",
   "execution_count": 7,
   "metadata": {
    "execution": {
     "iopub.execute_input": "2020-08-12T23:27:14.967819Z",
     "iopub.status.busy": "2020-08-12T23:27:14.967333Z",
     "iopub.status.idle": "2020-08-12T23:27:14.970342Z",
     "shell.execute_reply": "2020-08-12T23:27:14.969873Z"
    },
    "papermill": {
     "duration": 0.025977,
     "end_time": "2020-08-12T23:27:14.970412",
     "exception": false,
     "start_time": "2020-08-12T23:27:14.944435",
     "status": "completed"
    },
    "tags": [
     "injected-parameters"
    ]
   },
   "outputs": [],
   "source": [
    "# Parameters\n",
    "seq_str = \"0a1b2b3b4abcd5a6b7a\"\n",
    "HowManyBack = 1\n",
    "folderName = \"right_dual_color_photo_full_data_after_QC\"\n",
    "path_to_load_data = \"/Volumes/GilInVivoPaper.large/2.Photometry_in_str/1.lateral_medial_6_analysis//right_dual_color_photo_full_data_after_QC/0a1b2b3b4abcd5a6b7a\"\n",
    "sessionIndex_perMouse = [\"0\", \"8\", \"15\", \"33\", \"54\", \"62\", \"70\", \"75\"]\n",
    "period_of_interest = \"combined_periods_2\"\n"
   ]
  },
  {
   "cell_type": "markdown",
   "metadata": {
    "papermill": {
     "duration": 0.019983,
     "end_time": "2020-08-12T23:27:15.010797",
     "exception": false,
     "start_time": "2020-08-12T23:27:14.990814",
     "status": "completed"
    },
    "tags": []
   },
   "source": [
    "# folder name of analysis: "
   ]
  },
  {
   "cell_type": "code",
   "execution_count": 8,
   "metadata": {
    "execution": {
     "iopub.execute_input": "2020-08-12T23:27:15.054306Z",
     "iopub.status.busy": "2020-08-12T23:27:15.053762Z",
     "iopub.status.idle": "2020-08-12T23:27:15.056370Z",
     "shell.execute_reply": "2020-08-12T23:27:15.055834Z"
    },
    "papermill": {
     "duration": 0.025953,
     "end_time": "2020-08-12T23:27:15.056453",
     "exception": false,
     "start_time": "2020-08-12T23:27:15.030500",
     "status": "completed"
    },
    "tags": []
   },
   "outputs": [],
   "source": [
    "analysis_type = \"6.dsl__winrepeat(ipsi_vs_contra_previous)_loseswitch(ipsi_vs_contra_previous)__rs_mice.ipynb\""
   ]
  },
  {
   "cell_type": "code",
   "execution_count": 9,
   "metadata": {
    "execution": {
     "iopub.execute_input": "2020-08-12T23:27:15.098754Z",
     "iopub.status.busy": "2020-08-12T23:27:15.098004Z",
     "iopub.status.idle": "2020-08-12T23:27:15.100854Z",
     "shell.execute_reply": "2020-08-12T23:27:15.101311Z"
    },
    "papermill": {
     "duration": 0.02531,
     "end_time": "2020-08-12T23:27:15.101402",
     "exception": false,
     "start_time": "2020-08-12T23:27:15.076092",
     "status": "completed"
    },
    "tags": []
   },
   "outputs": [
    {
     "data": {
      "text/plain": [
       "'/anaconda3/bin/python3'"
      ]
     },
     "execution_count": 9,
     "metadata": {},
     "output_type": "execute_result"
    }
   ],
   "source": [
    "sys.executable"
   ]
  },
  {
   "cell_type": "markdown",
   "metadata": {
    "papermill": {
     "duration": 0.018489,
     "end_time": "2020-08-12T23:27:15.139389",
     "exception": false,
     "start_time": "2020-08-12T23:27:15.120900",
     "status": "completed"
    },
    "tags": []
   },
   "source": [
    "# where to save the data: "
   ]
  },
  {
   "cell_type": "code",
   "execution_count": 10,
   "metadata": {
    "execution": {
     "iopub.execute_input": "2020-08-12T23:27:15.183547Z",
     "iopub.status.busy": "2020-08-12T23:27:15.183048Z",
     "iopub.status.idle": "2020-08-12T23:27:15.185378Z",
     "shell.execute_reply": "2020-08-12T23:27:15.184910Z"
    },
    "papermill": {
     "duration": 0.02644,
     "end_time": "2020-08-12T23:27:15.185451",
     "exception": false,
     "start_time": "2020-08-12T23:27:15.159011",
     "status": "completed"
    },
    "tags": []
   },
   "outputs": [],
   "source": [
    "path_to_save_plots = path_to_load_data+\"/\"+\"line_plots\"+\"/\"+\"avg_of_mice\"+\"/\"+analysis_type "
   ]
  },
  {
   "cell_type": "code",
   "execution_count": 11,
   "metadata": {
    "execution": {
     "iopub.execute_input": "2020-08-12T23:27:15.228255Z",
     "iopub.status.busy": "2020-08-12T23:27:15.227408Z",
     "iopub.status.idle": "2020-08-12T23:27:15.230607Z",
     "shell.execute_reply": "2020-08-12T23:27:15.230947Z"
    },
    "papermill": {
     "duration": 0.026069,
     "end_time": "2020-08-12T23:27:15.231039",
     "exception": false,
     "start_time": "2020-08-12T23:27:15.204970",
     "status": "completed"
    },
    "tags": []
   },
   "outputs": [
    {
     "data": {
      "text/plain": [
       "'/Volumes/GilInVivoPaper.large/2.Photometry_in_str/1.lateral_medial_6_analysis//right_dual_color_photo_full_data_after_QC/0a1b2b3b4abcd5a6b7a/line_plots/avg_of_mice/6.dsl__winrepeat(ipsi_vs_contra_previous)_loseswitch(ipsi_vs_contra_previous)__rs_mice.ipynb'"
      ]
     },
     "execution_count": 11,
     "metadata": {},
     "output_type": "execute_result"
    }
   ],
   "source": [
    "path_to_save_plots"
   ]
  },
  {
   "cell_type": "markdown",
   "metadata": {
    "papermill": {
     "duration": 0.019706,
     "end_time": "2020-08-12T23:27:15.269885",
     "exception": false,
     "start_time": "2020-08-12T23:27:15.250179",
     "status": "completed"
    },
    "tags": []
   },
   "source": [
    "# Import the data and where to save it "
   ]
  },
  {
   "cell_type": "code",
   "execution_count": 12,
   "metadata": {
    "execution": {
     "iopub.execute_input": "2020-08-12T23:27:15.321393Z",
     "iopub.status.busy": "2020-08-12T23:27:15.320927Z",
     "iopub.status.idle": "2020-08-12T23:27:39.597140Z",
     "shell.execute_reply": "2020-08-12T23:27:39.599005Z"
    },
    "papermill": {
     "duration": 24.308569,
     "end_time": "2020-08-12T23:27:39.599254",
     "exception": false,
     "start_time": "2020-08-12T23:27:15.290685",
     "status": "completed"
    },
    "tags": []
   },
   "outputs": [
    {
     "name": "stdout",
     "output_type": "stream",
     "text": [
      "CPU times: user 22.3 s, sys: 1.79 s, total: 24.1 s\n",
      "Wall time: 24.3 s\n"
     ]
    }
   ],
   "source": [
    "%%time\n",
    "root = Path(path_to_load_data)\n",
    "d = \"data_object_photometry_after_processing\"+\"_\"+seq_str+'.pickle'\n",
    "my_path = root / d \n",
    "fileToOpen = open(my_path, 'rb')\n",
    "data_set = pickle.load(fileToOpen)"
   ]
  },
  {
   "cell_type": "markdown",
   "metadata": {
    "papermill": {
     "duration": 0.052854,
     "end_time": "2020-08-12T23:27:39.699071",
     "exception": false,
     "start_time": "2020-08-12T23:27:39.646217",
     "status": "completed"
    },
    "tags": []
   },
   "source": [
    "# label y axis "
   ]
  },
  {
   "cell_type": "code",
   "execution_count": 13,
   "metadata": {
    "execution": {
     "iopub.execute_input": "2020-08-12T23:27:39.808454Z",
     "iopub.status.busy": "2020-08-12T23:27:39.807631Z",
     "iopub.status.idle": "2020-08-12T23:27:39.811017Z",
     "shell.execute_reply": "2020-08-12T23:27:39.811727Z"
    },
    "papermill": {
     "duration": 0.056855,
     "end_time": "2020-08-12T23:27:39.811872",
     "exception": false,
     "start_time": "2020-08-12T23:27:39.755017",
     "status": "completed"
    },
    "tags": []
   },
   "outputs": [],
   "source": [
    "y_axis_list = [\"df_f\",\"z_score\",\"z_score_sliding_window\"]"
   ]
  },
  {
   "cell_type": "code",
   "execution_count": 14,
   "metadata": {
    "execution": {
     "iopub.execute_input": "2020-08-12T23:27:39.891413Z",
     "iopub.status.busy": "2020-08-12T23:27:39.890745Z",
     "iopub.status.idle": "2020-08-12T23:27:39.893976Z",
     "shell.execute_reply": "2020-08-12T23:27:39.893353Z"
    },
    "papermill": {
     "duration": 0.038945,
     "end_time": "2020-08-12T23:27:39.894071",
     "exception": false,
     "start_time": "2020-08-12T23:27:39.855126",
     "status": "completed"
    },
    "tags": []
   },
   "outputs": [
    {
     "name": "stdout",
     "output_type": "stream",
     "text": [
      "z_score\n"
     ]
    }
   ],
   "source": [
    "alphabet = [\"a\",\"b\",\"c\",\"d\",\"e\",\"f\",\"g\"]\n",
    "y_axis = y_axis_list[alphabet.index(seq_str[:seq_str.index('4')][-1])]\n",
    "print (y_axis)"
   ]
  },
  {
   "cell_type": "code",
   "execution_count": null,
   "metadata": {
    "papermill": {
     "duration": 0.02385,
     "end_time": "2020-08-12T23:27:39.942427",
     "exception": false,
     "start_time": "2020-08-12T23:27:39.918577",
     "status": "completed"
    },
    "tags": []
   },
   "outputs": [],
   "source": []
  },
  {
   "cell_type": "code",
   "execution_count": 15,
   "metadata": {
    "execution": {
     "iopub.execute_input": "2020-08-12T23:27:39.997799Z",
     "iopub.status.busy": "2020-08-12T23:27:39.997049Z",
     "iopub.status.idle": "2020-08-12T23:27:40.000987Z",
     "shell.execute_reply": "2020-08-12T23:27:40.000306Z"
    },
    "papermill": {
     "duration": 0.03426,
     "end_time": "2020-08-12T23:27:40.001077",
     "exception": false,
     "start_time": "2020-08-12T23:27:39.966817",
     "status": "completed"
    },
    "tags": []
   },
   "outputs": [],
   "source": [
    "# stash result in a cache directory.\n",
    "cache_dir_plt = os.path.join(path_to_save_plots,period_of_interest)\n",
    "if not os.path.exists(cache_dir_plt):\n",
    "    os.makedirs(cache_dir_plt)"
   ]
  },
  {
   "cell_type": "code",
   "execution_count": 16,
   "metadata": {
    "execution": {
     "iopub.execute_input": "2020-08-12T23:27:40.056004Z",
     "iopub.status.busy": "2020-08-12T23:27:40.055492Z",
     "iopub.status.idle": "2020-08-12T23:27:40.058095Z",
     "shell.execute_reply": "2020-08-12T23:27:40.058618Z"
    },
    "papermill": {
     "duration": 0.031985,
     "end_time": "2020-08-12T23:27:40.058723",
     "exception": false,
     "start_time": "2020-08-12T23:27:40.026738",
     "status": "completed"
    },
    "tags": []
   },
   "outputs": [
    {
     "data": {
      "text/plain": [
       "'/Volumes/GilInVivoPaper.large/2.Photometry_in_str/1.lateral_medial_6_analysis//right_dual_color_photo_full_data_after_QC/0a1b2b3b4abcd5a6b7a/line_plots/avg_of_mice/6.dsl__winrepeat(ipsi_vs_contra_previous)_loseswitch(ipsi_vs_contra_previous)__rs_mice.ipynb/combined_periods_2'"
      ]
     },
     "execution_count": 16,
     "metadata": {},
     "output_type": "execute_result"
    }
   ],
   "source": [
    "cache_dir_plt"
   ]
  },
  {
   "cell_type": "markdown",
   "metadata": {
    "papermill": {
     "duration": 0.025318,
     "end_time": "2020-08-12T23:27:40.110651",
     "exception": false,
     "start_time": "2020-08-12T23:27:40.085333",
     "status": "completed"
    },
    "tags": []
   },
   "source": [
    "# generate data sets of interest"
   ]
  },
  {
   "cell_type": "code",
   "execution_count": 17,
   "metadata": {
    "execution": {
     "iopub.execute_input": "2020-08-12T23:27:40.165015Z",
     "iopub.status.busy": "2020-08-12T23:27:40.164440Z",
     "iopub.status.idle": "2020-08-12T23:27:40.167159Z",
     "shell.execute_reply": "2020-08-12T23:27:40.166572Z"
    },
    "papermill": {
     "duration": 0.030532,
     "end_time": "2020-08-12T23:27:40.167246",
     "exception": false,
     "start_time": "2020-08-12T23:27:40.136714",
     "status": "completed"
    },
    "tags": []
   },
   "outputs": [],
   "source": [
    "#combinations = [(2, 2), (2, 1), (1, 2), (1, 1)]"
   ]
  },
  {
   "cell_type": "code",
   "execution_count": 18,
   "metadata": {
    "execution": {
     "iopub.execute_input": "2020-08-12T23:27:40.239378Z",
     "iopub.status.busy": "2020-08-12T23:27:40.238685Z",
     "iopub.status.idle": "2020-08-12T23:27:40.324758Z",
     "shell.execute_reply": "2020-08-12T23:27:40.324279Z"
    },
    "papermill": {
     "duration": 0.12458,
     "end_time": "2020-08-12T23:27:40.324833",
     "exception": false,
     "start_time": "2020-08-12T23:27:40.200253",
     "status": "completed"
    },
    "scrolled": true,
    "tags": []
   },
   "outputs": [
    {
     "name": "stdout",
     "output_type": "stream",
     "text": [
      "full\n",
      "full\n",
      "full\n",
      "full\n",
      "full\n",
      "full\n",
      "full\n",
      "full\n",
      "full\n",
      "full\n",
      "full\n",
      "full\n",
      "full\n",
      "full\n",
      "full\n",
      "full\n",
      "full\n",
      "full\n",
      "full\n",
      "full\n",
      "full\n",
      "full\n",
      "full\n",
      "full\n",
      "full\n",
      "full\n",
      "full\n",
      "full\n",
      "full\n",
      "full\n",
      "full\n",
      "full\n",
      "full\n",
      "full\n",
      "full\n",
      "full\n",
      "full\n",
      "full\n",
      "full\n",
      "full\n",
      "full\n",
      "full\n",
      "full\n",
      "full\n",
      "full\n",
      "full\n",
      "full\n",
      "full\n",
      "full\n",
      "full\n",
      "full\n",
      "full\n",
      "full\n",
      "full\n",
      "full\n",
      "full\n",
      "full\n",
      "full\n",
      "full\n",
      "full\n",
      "full\n",
      "full\n",
      "full\n",
      "full\n",
      "full\n",
      "full\n",
      "full\n",
      "full\n",
      "full\n",
      "full\n",
      "full\n",
      "full\n",
      "full\n",
      "full\n",
      "full\n"
     ]
    }
   ],
   "source": [
    "wr_period_d1_data_set= dslhf.extract_data_of_interest_ipsi_contra_data_set(data_set,\n",
    "                                                                           0,3,\n",
    "                                                                           period_of_interest,\"d1 R\")"
   ]
  },
  {
   "cell_type": "code",
   "execution_count": 19,
   "metadata": {
    "execution": {
     "iopub.execute_input": "2020-08-12T23:27:40.391106Z",
     "iopub.status.busy": "2020-08-12T23:27:40.389035Z",
     "iopub.status.idle": "2020-08-12T23:27:40.435760Z",
     "shell.execute_reply": "2020-08-12T23:27:40.435157Z"
    },
    "papermill": {
     "duration": 0.088334,
     "end_time": "2020-08-12T23:27:40.435845",
     "exception": false,
     "start_time": "2020-08-12T23:27:40.347511",
     "status": "completed"
    },
    "scrolled": true,
    "tags": []
   },
   "outputs": [
    {
     "name": "stdout",
     "output_type": "stream",
     "text": [
      "full\n",
      "full\n",
      "full\n",
      "full\n",
      "full\n",
      "full\n",
      "full\n",
      "full\n",
      "full\n",
      "full\n",
      "full\n",
      "full\n",
      "full\n",
      "full\n",
      "full\n",
      "full\n",
      "full\n",
      "full\n",
      "full\n",
      "full\n",
      "full\n",
      "full\n",
      "full\n",
      "full\n",
      "full\n",
      "full\n",
      "full\n",
      "full\n",
      "full\n",
      "full\n",
      "full\n",
      "full\n",
      "full\n",
      "full\n",
      "full\n",
      "full\n",
      "full\n",
      "full\n",
      "full\n",
      "full\n",
      "full\n",
      "full\n",
      "full\n",
      "full\n",
      "full\n",
      "full\n",
      "full\n",
      "full\n",
      "full\n",
      "full\n",
      "full\n",
      "full\n",
      "full\n",
      "full\n",
      "full\n",
      "full\n",
      "full\n",
      "full\n",
      "full\n",
      "full\n",
      "full\n",
      "full\n",
      "full\n",
      "full\n",
      "full\n",
      "full\n",
      "full\n",
      "full\n",
      "full\n",
      "full\n",
      "full\n",
      "full\n",
      "full\n",
      "full\n",
      "full\n"
     ]
    }
   ],
   "source": [
    "wr_period_d2_data_set= dslhf.extract_data_of_interest_ipsi_contra_data_set(data_set,\n",
    "                                                                           0,3,\n",
    "                                                                           period_of_interest,\"d2 R\")"
   ]
  },
  {
   "cell_type": "code",
   "execution_count": 20,
   "metadata": {
    "execution": {
     "iopub.execute_input": "2020-08-12T23:27:40.493433Z",
     "iopub.status.busy": "2020-08-12T23:27:40.492261Z",
     "iopub.status.idle": "2020-08-12T23:27:40.575168Z",
     "shell.execute_reply": "2020-08-12T23:27:40.574664Z"
    },
    "papermill": {
     "duration": 0.115952,
     "end_time": "2020-08-12T23:27:40.575244",
     "exception": false,
     "start_time": "2020-08-12T23:27:40.459292",
     "status": "completed"
    },
    "scrolled": true,
    "tags": []
   },
   "outputs": [
    {
     "name": "stdout",
     "output_type": "stream",
     "text": [
      "full\n",
      "full\n",
      "full\n",
      "full\n",
      "full\n",
      "full\n",
      "full\n",
      "full\n",
      "full\n",
      "full\n",
      "full\n",
      "full\n",
      "full\n",
      "full\n",
      "full\n",
      "full\n",
      "full\n",
      "full\n",
      "full\n",
      "full\n",
      "full\n",
      "full\n",
      "full\n",
      "full\n",
      "full\n",
      "full\n",
      "full\n",
      "full\n",
      "full\n",
      "full\n",
      "full\n",
      "full\n",
      "full\n",
      "full\n",
      "full\n",
      "full\n",
      "full\n",
      "full\n",
      "full\n",
      "full\n",
      "full\n",
      "full\n",
      "full\n",
      "full\n",
      "full\n",
      "full\n",
      "full\n",
      "full\n",
      "full\n",
      "full\n",
      "full\n",
      "full\n",
      "full\n",
      "full\n",
      "full\n",
      "full\n",
      "full\n",
      "full\n",
      "full\n",
      "full\n",
      "full\n",
      "full\n",
      "full\n",
      "full\n",
      "full\n",
      "full\n",
      "full\n",
      "full\n",
      "full\n",
      "full\n",
      "full\n",
      "full\n",
      "full\n",
      "full\n",
      "full\n"
     ]
    }
   ],
   "source": [
    "ls_period_d1_data_set= dslhf.extract_data_of_interest_ipsi_contra_data_set(data_set,\n",
    "                                                                           0,0,\n",
    "                                                                           period_of_interest,\"d1 R\")"
   ]
  },
  {
   "cell_type": "code",
   "execution_count": 21,
   "metadata": {
    "execution": {
     "iopub.execute_input": "2020-08-12T23:27:40.626289Z",
     "iopub.status.busy": "2020-08-12T23:27:40.625291Z",
     "iopub.status.idle": "2020-08-12T23:27:40.689193Z",
     "shell.execute_reply": "2020-08-12T23:27:40.689661Z"
    },
    "papermill": {
     "duration": 0.09075,
     "end_time": "2020-08-12T23:27:40.689756",
     "exception": false,
     "start_time": "2020-08-12T23:27:40.599006",
     "status": "completed"
    },
    "scrolled": true,
    "tags": []
   },
   "outputs": [
    {
     "name": "stdout",
     "output_type": "stream",
     "text": [
      "full\n",
      "full\n",
      "full\n",
      "full\n",
      "full\n",
      "full\n",
      "full\n",
      "full\n",
      "full\n",
      "full\n",
      "full\n",
      "full\n",
      "full\n",
      "full\n",
      "full\n",
      "full\n",
      "full\n",
      "full\n",
      "full\n",
      "full\n",
      "full\n",
      "full\n",
      "full\n",
      "full\n",
      "full\n",
      "full\n",
      "full\n",
      "full\n",
      "full\n",
      "full\n",
      "full\n",
      "full\n",
      "full\n",
      "full\n",
      "full\n",
      "full\n",
      "full\n",
      "full\n",
      "full\n",
      "full\n",
      "full\n",
      "full\n",
      "full\n",
      "full\n",
      "full\n",
      "full\n",
      "full\n",
      "full\n",
      "full\n",
      "full\n",
      "full\n",
      "full\n",
      "full\n",
      "full\n",
      "full\n",
      "full\n",
      "full\n",
      "full\n",
      "full\n",
      "full\n",
      "full\n",
      "full\n",
      "full\n",
      "full\n",
      "full\n",
      "full\n",
      "full\n",
      "full\n",
      "full\n",
      "full\n",
      "full\n",
      "full\n",
      "full\n",
      "full\n",
      "full\n"
     ]
    }
   ],
   "source": [
    "ls_period_d2_data_set= dslhf.extract_data_of_interest_ipsi_contra_data_set(data_set,\n",
    "                                                                           0,0,\n",
    "                                                                           period_of_interest,\"d2 R\")"
   ]
  },
  {
   "cell_type": "code",
   "execution_count": 22,
   "metadata": {
    "execution": {
     "iopub.execute_input": "2020-08-12T23:27:40.743233Z",
     "iopub.status.busy": "2020-08-12T23:27:40.742777Z",
     "iopub.status.idle": "2020-08-12T23:27:40.745245Z",
     "shell.execute_reply": "2020-08-12T23:27:40.744773Z"
    },
    "papermill": {
     "duration": 0.031758,
     "end_time": "2020-08-12T23:27:40.745318",
     "exception": false,
     "start_time": "2020-08-12T23:27:40.713560",
     "status": "completed"
    },
    "tags": []
   },
   "outputs": [],
   "source": [
    "def calculate_mean_data_set (ipsi_contra_data_set): \n",
    "    \n",
    "    df_ipsi_previous = pd.DataFrame()\n",
    "    df_contra_previous = pd.DataFrame()\n",
    "    \n",
    "    for session_data in ipsi_contra_data_set:\n",
    "        \n",
    "        mean_ipsi_previous = session_data[0].mean(axis=1)\n",
    "        mean_contra_previous = session_data[1].mean(axis=1)\n",
    "        \n",
    "        df_ipsi_previous = pd.concat([df_ipsi_previous,mean_ipsi_previous],axis=1)\n",
    "        df_contra_previous = pd.concat([df_contra_previous,mean_contra_previous],axis=1)\n",
    "        \n",
    "        \n",
    "    return (df_ipsi_previous,df_contra_previous)\n"
   ]
  },
  {
   "cell_type": "code",
   "execution_count": 23,
   "metadata": {
    "execution": {
     "iopub.execute_input": "2020-08-12T23:27:40.797894Z",
     "iopub.status.busy": "2020-08-12T23:27:40.797433Z",
     "iopub.status.idle": "2020-08-12T23:27:41.208001Z",
     "shell.execute_reply": "2020-08-12T23:27:41.207512Z"
    },
    "papermill": {
     "duration": 0.439089,
     "end_time": "2020-08-12T23:27:41.208075",
     "exception": false,
     "start_time": "2020-08-12T23:27:40.768986",
     "status": "completed"
    },
    "tags": []
   },
   "outputs": [],
   "source": [
    "d1_win_mean_ipsi_contra = calculate_mean_data_set(wr_period_d1_data_set)"
   ]
  },
  {
   "cell_type": "code",
   "execution_count": 24,
   "metadata": {
    "execution": {
     "iopub.execute_input": "2020-08-12T23:27:41.262901Z",
     "iopub.status.busy": "2020-08-12T23:27:41.262443Z",
     "iopub.status.idle": "2020-08-12T23:27:41.822496Z",
     "shell.execute_reply": "2020-08-12T23:27:41.822901Z"
    },
    "papermill": {
     "duration": 0.590201,
     "end_time": "2020-08-12T23:27:41.823013",
     "exception": false,
     "start_time": "2020-08-12T23:27:41.232812",
     "status": "completed"
    },
    "tags": []
   },
   "outputs": [],
   "source": [
    "d2_win_mean_ipsi_contra = calculate_mean_data_set(wr_period_d2_data_set)"
   ]
  },
  {
   "cell_type": "code",
   "execution_count": 25,
   "metadata": {
    "execution": {
     "iopub.execute_input": "2020-08-12T23:27:41.887915Z",
     "iopub.status.busy": "2020-08-12T23:27:41.878010Z",
     "iopub.status.idle": "2020-08-12T23:27:42.350289Z",
     "shell.execute_reply": "2020-08-12T23:27:42.350873Z"
    },
    "papermill": {
     "duration": 0.503504,
     "end_time": "2020-08-12T23:27:42.350994",
     "exception": false,
     "start_time": "2020-08-12T23:27:41.847490",
     "status": "completed"
    },
    "tags": []
   },
   "outputs": [],
   "source": [
    "d1_lose_mean_ipsi_contra = calculate_mean_data_set(ls_period_d1_data_set)"
   ]
  },
  {
   "cell_type": "code",
   "execution_count": 26,
   "metadata": {
    "execution": {
     "iopub.execute_input": "2020-08-12T23:27:42.410905Z",
     "iopub.status.busy": "2020-08-12T23:27:42.410374Z",
     "iopub.status.idle": "2020-08-12T23:27:42.798802Z",
     "shell.execute_reply": "2020-08-12T23:27:42.798290Z"
    },
    "papermill": {
     "duration": 0.417173,
     "end_time": "2020-08-12T23:27:42.798880",
     "exception": false,
     "start_time": "2020-08-12T23:27:42.381707",
     "status": "completed"
    },
    "tags": []
   },
   "outputs": [],
   "source": [
    "d2_lose_mean_ipsi_contra = calculate_mean_data_set(ls_period_d2_data_set)"
   ]
  },
  {
   "cell_type": "code",
   "execution_count": null,
   "metadata": {
    "papermill": {
     "duration": 0.025335,
     "end_time": "2020-08-12T23:27:42.847818",
     "exception": false,
     "start_time": "2020-08-12T23:27:42.822483",
     "status": "completed"
    },
    "tags": []
   },
   "outputs": [],
   "source": []
  },
  {
   "cell_type": "code",
   "execution_count": 27,
   "metadata": {
    "execution": {
     "iopub.execute_input": "2020-08-12T23:27:42.900891Z",
     "iopub.status.busy": "2020-08-12T23:27:42.900169Z",
     "iopub.status.idle": "2020-08-12T23:27:42.903442Z",
     "shell.execute_reply": "2020-08-12T23:27:42.902939Z"
    },
    "papermill": {
     "duration": 0.032889,
     "end_time": "2020-08-12T23:27:42.903521",
     "exception": false,
     "start_time": "2020-08-12T23:27:42.870632",
     "status": "completed"
    },
    "tags": []
   },
   "outputs": [
    {
     "data": {
      "text/plain": [
       "[0, 8, 15, 33, 54, 62, 70, 75]"
      ]
     },
     "execution_count": 27,
     "metadata": {},
     "output_type": "execute_result"
    }
   ],
   "source": [
    "sessionIndex_perMouse = list(map(int,sessionIndex_perMouse))\n",
    "sessionIndex_perMouse"
   ]
  },
  {
   "cell_type": "code",
   "execution_count": 28,
   "metadata": {
    "execution": {
     "iopub.execute_input": "2020-08-12T23:27:42.961270Z",
     "iopub.status.busy": "2020-08-12T23:27:42.960764Z",
     "iopub.status.idle": "2020-08-12T23:27:42.963010Z",
     "shell.execute_reply": "2020-08-12T23:27:42.962521Z"
    },
    "papermill": {
     "duration": 0.033911,
     "end_time": "2020-08-12T23:27:42.963087",
     "exception": false,
     "start_time": "2020-08-12T23:27:42.929176",
     "status": "completed"
    },
    "tags": []
   },
   "outputs": [],
   "source": [
    "def calculate_mean_per_mouse_ipsi_contra(data_set,sessionIndex_perMouse):\n",
    "    \n",
    "    avg_per_mouse_df_ipsi = pd.DataFrame()\n",
    "    avg_per_mouse_df_contra = pd.DataFrame()\n",
    "    \n",
    "    for list_index in range(len(sessionIndex_perMouse)-1):\n",
    "        \n",
    "        avg_per_mouse_ipsi = data_set[0].iloc[:,sessionIndex_perMouse[list_index]:sessionIndex_perMouse[list_index+1]].mean(axis=1)\n",
    "        avg_per_mouse_df_ipsi = pd.concat([avg_per_mouse_df_ipsi,avg_per_mouse_ipsi],axis=1)\n",
    "    \n",
    "\n",
    "        \n",
    "        avg_per_mouse_contra = data_set[1].iloc[:,sessionIndex_perMouse[list_index]:sessionIndex_perMouse[list_index+1]].mean(axis=1)\n",
    "        avg_per_mouse_df_contra = pd.concat([avg_per_mouse_df_contra,avg_per_mouse_contra],axis=1)\n",
    "        \n",
    "    avg_per_mouse_df_ipsi_data_set = avg_per_mouse_df_ipsi.mean(axis=1)\n",
    "    avg_per_mouse_df_contra_data_set = avg_per_mouse_df_contra.mean(axis=1)\n",
    "    \n",
    "    return (avg_per_mouse_df_ipsi, avg_per_mouse_df_ipsi_data_set,\n",
    "            avg_per_mouse_df_contra, avg_per_mouse_df_contra_data_set)"
   ]
  },
  {
   "cell_type": "code",
   "execution_count": 29,
   "metadata": {
    "execution": {
     "iopub.execute_input": "2020-08-12T23:27:43.020795Z",
     "iopub.status.busy": "2020-08-12T23:27:43.015459Z",
     "iopub.status.idle": "2020-08-12T23:27:43.046143Z",
     "shell.execute_reply": "2020-08-12T23:27:43.047485Z"
    },
    "papermill": {
     "duration": 0.060666,
     "end_time": "2020-08-12T23:27:43.047743",
     "exception": false,
     "start_time": "2020-08-12T23:27:42.987077",
     "status": "completed"
    },
    "tags": []
   },
   "outputs": [],
   "source": [
    "d1_win_mean_ipsi_contra_per_mouse_data_set = calculate_mean_per_mouse_ipsi_contra(d1_win_mean_ipsi_contra,sessionIndex_perMouse)"
   ]
  },
  {
   "cell_type": "code",
   "execution_count": 30,
   "metadata": {
    "execution": {
     "iopub.execute_input": "2020-08-12T23:27:43.109733Z",
     "iopub.status.busy": "2020-08-12T23:27:43.109078Z",
     "iopub.status.idle": "2020-08-12T23:27:43.128392Z",
     "shell.execute_reply": "2020-08-12T23:27:43.127807Z"
    },
    "papermill": {
     "duration": 0.054532,
     "end_time": "2020-08-12T23:27:43.128530",
     "exception": false,
     "start_time": "2020-08-12T23:27:43.073998",
     "status": "completed"
    },
    "tags": []
   },
   "outputs": [],
   "source": [
    "d2_win_mean_ipsi_contra_per_mouse_data_set = calculate_mean_per_mouse_ipsi_contra(d2_win_mean_ipsi_contra,sessionIndex_perMouse)"
   ]
  },
  {
   "cell_type": "code",
   "execution_count": 31,
   "metadata": {
    "execution": {
     "iopub.execute_input": "2020-08-12T23:27:43.192188Z",
     "iopub.status.busy": "2020-08-12T23:27:43.184814Z",
     "iopub.status.idle": "2020-08-12T23:27:43.206643Z",
     "shell.execute_reply": "2020-08-12T23:27:43.206144Z"
    },
    "papermill": {
     "duration": 0.054557,
     "end_time": "2020-08-12T23:27:43.206719",
     "exception": false,
     "start_time": "2020-08-12T23:27:43.152162",
     "status": "completed"
    },
    "tags": []
   },
   "outputs": [],
   "source": [
    "d1_lose_mean_ipsi_contra_per_mouse_data_set = calculate_mean_per_mouse_ipsi_contra(d1_lose_mean_ipsi_contra,sessionIndex_perMouse)\n",
    "\n"
   ]
  },
  {
   "cell_type": "code",
   "execution_count": 32,
   "metadata": {
    "execution": {
     "iopub.execute_input": "2020-08-12T23:27:43.259612Z",
     "iopub.status.busy": "2020-08-12T23:27:43.259135Z",
     "iopub.status.idle": "2020-08-12T23:27:43.284579Z",
     "shell.execute_reply": "2020-08-12T23:27:43.284088Z"
    },
    "papermill": {
     "duration": 0.054156,
     "end_time": "2020-08-12T23:27:43.284656",
     "exception": false,
     "start_time": "2020-08-12T23:27:43.230500",
     "status": "completed"
    },
    "tags": []
   },
   "outputs": [],
   "source": [
    "d2_lose_mean_ipsi_contra_per_mouse_data_set = calculate_mean_per_mouse_ipsi_contra(d2_lose_mean_ipsi_contra,sessionIndex_perMouse)\n",
    "\n"
   ]
  },
  {
   "cell_type": "markdown",
   "metadata": {
    "papermill": {
     "duration": 0.022713,
     "end_time": "2020-08-12T23:27:43.330683",
     "exception": false,
     "start_time": "2020-08-12T23:27:43.307970",
     "status": "completed"
    },
    "tags": []
   },
   "source": [
    "# plots"
   ]
  },
  {
   "cell_type": "code",
   "execution_count": 33,
   "metadata": {
    "execution": {
     "iopub.execute_input": "2020-08-12T23:27:43.386827Z",
     "iopub.status.busy": "2020-08-12T23:27:43.386354Z",
     "iopub.status.idle": "2020-08-12T23:27:43.388605Z",
     "shell.execute_reply": "2020-08-12T23:27:43.388123Z"
    },
    "papermill": {
     "duration": 0.030426,
     "end_time": "2020-08-12T23:27:43.388680",
     "exception": false,
     "start_time": "2020-08-12T23:27:43.358254",
     "status": "completed"
    },
    "tags": []
   },
   "outputs": [],
   "source": [
    "import matplotlib as mpl"
   ]
  },
  {
   "cell_type": "code",
   "execution_count": 34,
   "metadata": {
    "execution": {
     "iopub.execute_input": "2020-08-12T23:27:43.445303Z",
     "iopub.status.busy": "2020-08-12T23:27:43.444846Z",
     "iopub.status.idle": "2020-08-12T23:27:43.447674Z",
     "shell.execute_reply": "2020-08-12T23:27:43.447216Z"
    },
    "papermill": {
     "duration": 0.034333,
     "end_time": "2020-08-12T23:27:43.447745",
     "exception": false,
     "start_time": "2020-08-12T23:27:43.413412",
     "status": "completed"
    },
    "tags": []
   },
   "outputs": [],
   "source": [
    "def plot_win_or_lose_ipsi_contra_per_mouse(mean_ipsi_contra_per_mouse_data_set,\n",
    "                                           trial_type,period_of_interest,cell_type,y_axis,path_to_plot):\n",
    "    \n",
    "        \n",
    "    \n",
    "    for i in range(len(mean_ipsi_contra_per_mouse_data_set[0].columns)):\n",
    "        \n",
    "        plt.plot(mean_ipsi_contra_per_mouse_data_set[0].iloc[:,i],color='blue', linewidth=0.2,alpha=0.5)\n",
    "        plt.plot(mean_ipsi_contra_per_mouse_data_set[2].iloc[:,i],color='orange', linewidth=0.2,alpha=0.5)\n",
    "        \n",
    "        print (\"ok\")\n",
    "    \n",
    "    plt.plot(mean_ipsi_contra_per_mouse_data_set[1],linewidth=2.5, label=\"ipsi_previous\")\n",
    "    plt.plot(mean_ipsi_contra_per_mouse_data_set[3],linewidth=2.5, label=\"contra_previous\")\n",
    "    \n",
    "\n",
    "    plt.ylim([-1,2.5])\n",
    "    \n",
    "    \n",
    "    \n",
    "    # Add legend\n",
    "    plt.legend(loc='upper right')\n",
    "\n",
    "    # Add title and x, y labels\n",
    "    title = trial_type+\"_\"+\"(\"+period_of_interest+\")\"\n",
    "    plt.title(title, fontsize=16, fontweight='bold')\n",
    "    plt.suptitle(cell_type, fontsize=16)\n",
    "\n",
    "    plt.xlabel(\"time_bins\")\n",
    "    \n",
    "    #the y axis is defined in the paper mill. This allows to run 7_b with 3a,3b,3c and any future 3s, easliy changing the \n",
    "    #the name of the y axis to not cause confusion. \n",
    "    plt.ylabel(y_axis)\n",
    "    plt.savefig(path_to_plot+\"/\"+\"_\"+trial_type+cell_type+\"_\"+period_of_interest+'.pdf')\n",
    "    plt.show()"
   ]
  },
  {
   "cell_type": "code",
   "execution_count": 35,
   "metadata": {
    "execution": {
     "iopub.execute_input": "2020-08-12T23:27:43.501176Z",
     "iopub.status.busy": "2020-08-12T23:27:43.500704Z",
     "iopub.status.idle": "2020-08-12T23:27:43.789987Z",
     "shell.execute_reply": "2020-08-12T23:27:43.790439Z"
    },
    "papermill": {
     "duration": 0.318136,
     "end_time": "2020-08-12T23:27:43.790534",
     "exception": false,
     "start_time": "2020-08-12T23:27:43.472398",
     "status": "completed"
    },
    "scrolled": false,
    "tags": []
   },
   "outputs": [
    {
     "name": "stdout",
     "output_type": "stream",
     "text": [
      "ok\n",
      "ok\n",
      "ok\n",
      "ok\n",
      "ok\n",
      "ok\n",
      "ok\n"
     ]
    },
    {
     "data": {
      "image/png": "[encoded data removed]",
      "text/plain": [
       "<Figure size 432x288 with 1 Axes>"
      ]
     },
     "metadata": {
      "needs_background": "light"
     },
     "output_type": "display_data"
    }
   ],
   "source": [
    "plot_win_or_lose_ipsi_contra_per_mouse(d1_win_mean_ipsi_contra_per_mouse_data_set,\n",
    "                                       \"right_WR_(ipsi_vs_contra)_previous\",period_of_interest,\"D1\",y_axis,cache_dir_plt)"
   ]
  },
  {
   "cell_type": "code",
   "execution_count": 36,
   "metadata": {
    "execution": {
     "iopub.execute_input": "2020-08-12T23:27:43.856329Z",
     "iopub.status.busy": "2020-08-12T23:27:43.855224Z",
     "iopub.status.idle": "2020-08-12T23:27:44.103820Z",
     "shell.execute_reply": "2020-08-12T23:27:44.104302Z"
    },
    "papermill": {
     "duration": 0.289504,
     "end_time": "2020-08-12T23:27:44.104398",
     "exception": false,
     "start_time": "2020-08-12T23:27:43.814894",
     "status": "completed"
    },
    "scrolled": false,
    "tags": []
   },
   "outputs": [
    {
     "name": "stdout",
     "output_type": "stream",
     "text": [
      "ok\n",
      "ok\n",
      "ok\n",
      "ok\n",
      "ok\n",
      "ok\n",
      "ok\n"
     ]
    },
    {
     "data": {
      "image/png": "[encoded data removed]",
      "text/plain": [
       "<Figure size 432x288 with 1 Axes>"
      ]
     },
     "metadata": {
      "needs_background": "light"
     },
     "output_type": "display_data"
    }
   ],
   "source": [
    "plot_win_or_lose_ipsi_contra_per_mouse(d2_win_mean_ipsi_contra_per_mouse_data_set,\n",
    "                                       \"right_WR_(ipsi_vs_contra)_previous\",period_of_interest,\"D2\",y_axis,cache_dir_plt)"
   ]
  },
  {
   "cell_type": "code",
   "execution_count": 37,
   "metadata": {
    "execution": {
     "iopub.execute_input": "2020-08-12T23:27:44.170318Z",
     "iopub.status.busy": "2020-08-12T23:27:44.168093Z",
     "iopub.status.idle": "2020-08-12T23:27:44.467758Z",
     "shell.execute_reply": "2020-08-12T23:27:44.468263Z"
    },
    "papermill": {
     "duration": 0.335738,
     "end_time": "2020-08-12T23:27:44.468368",
     "exception": false,
     "start_time": "2020-08-12T23:27:44.132630",
     "status": "completed"
    },
    "scrolled": false,
    "tags": []
   },
   "outputs": [
    {
     "name": "stdout",
     "output_type": "stream",
     "text": [
      "ok\n",
      "ok\n",
      "ok\n",
      "ok\n",
      "ok\n",
      "ok\n",
      "ok\n"
     ]
    },
    {
     "data": {
      "image/png": "[encoded data removed]",
      "text/plain": [
       "<Figure size 432x288 with 1 Axes>"
      ]
     },
     "metadata": {
      "needs_background": "light"
     },
     "output_type": "display_data"
    }
   ],
   "source": [
    "plot_win_or_lose_ipsi_contra_per_mouse(d1_lose_mean_ipsi_contra_per_mouse_data_set,\n",
    "                                       \"right_LS_(ipsi_vs_contra)_previous\",period_of_interest,\"D1\",y_axis,cache_dir_plt)"
   ]
  },
  {
   "cell_type": "code",
   "execution_count": 38,
   "metadata": {
    "execution": {
     "iopub.execute_input": "2020-08-12T23:27:44.535834Z",
     "iopub.status.busy": "2020-08-12T23:27:44.534900Z",
     "iopub.status.idle": "2020-08-12T23:27:44.828081Z",
     "shell.execute_reply": "2020-08-12T23:27:44.828600Z"
    },
    "papermill": {
     "duration": 0.331184,
     "end_time": "2020-08-12T23:27:44.828709",
     "exception": false,
     "start_time": "2020-08-12T23:27:44.497525",
     "status": "completed"
    },
    "tags": []
   },
   "outputs": [
    {
     "name": "stdout",
     "output_type": "stream",
     "text": [
      "ok\n",
      "ok\n",
      "ok\n",
      "ok\n",
      "ok\n",
      "ok\n",
      "ok\n"
     ]
    },
    {
     "data": {
      "image/png": "[encoded data removed]",
      "text/plain": [
       "<Figure size 432x288 with 1 Axes>"
      ]
     },
     "metadata": {
      "needs_background": "light"
     },
     "output_type": "display_data"
    }
   ],
   "source": [
    "plot_win_or_lose_ipsi_contra_per_mouse(d2_lose_mean_ipsi_contra_per_mouse_data_set,\n",
    "                                       \"right_LS_(ipsi_vs_contra)_previous\",period_of_interest,\"D2\",y_axis,cache_dir_plt)"
   ]
  },
  {
   "cell_type": "code",
   "execution_count": null,
   "metadata": {
    "papermill": {
     "duration": 0.030824,
     "end_time": "2020-08-12T23:27:44.892186",
     "exception": false,
     "start_time": "2020-08-12T23:27:44.861362",
     "status": "completed"
    },
    "tags": []
   },
   "outputs": [],
   "source": []
  }
 ],
 "metadata": {
  "celltoolbar": "Tags",
  "kernelspec": {
   "display_name": "Python 3",
   "language": "python",
   "name": "python3"
  },
  "language_info": {
   "codemirror_mode": {
    "name": "ipython",
    "version": 3
   },
   "file_extension": ".py",
   "mimetype": "text/x-python",
   "name": "python",
   "nbconvert_exporter": "python",
   "pygments_lexer": "ipython3",
   "version": "3.7.3"
  },
  "papermill": {
   "duration": 31.978005,
   "end_time": "2020-08-12T23:27:45.240104",
   "environment_variables": {},
   "exception": null,
   "input_path": "/Users/gilmandelbaum/github/analysis-pipeline-for-photometry_ex/Nb_data_set/1.data_set_lineplot/right_side_of_the_brain/avg_of_mice/6.dsl__winrepeat(ipsi_vs_contra_previous)_loseswitch(ipsi_vs_contra_previous)__rs_mice.ipynb",
   "output_path": "TestOutPut.ipynb",
   "parameters": {
    "HowManyBack": 1,
    "folderName": "right_dual_color_photo_full_data_after_QC",
    "path_to_load_data": "/Volumes/GilInVivoPaper.large/2.Photometry_in_str/1.lateral_medial_6_analysis//right_dual_color_photo_full_data_after_QC/0a1b2b3b4abcd5a6b7a",
    "period_of_interest": "combined_periods_2",
    "seq_str": "0a1b2b3b4abcd5a6b7a",
    "sessionIndex_perMouse": [
     "0",
     "8",
     "15",
     "33",
     "54",
     "62",
     "70",
     "75"
    ]
   },
   "start_time": "2020-08-12T23:27:13.262099",
   "version": "2.1.1"
  }
 },
 "nbformat": 4,
 "nbformat_minor": 4
}