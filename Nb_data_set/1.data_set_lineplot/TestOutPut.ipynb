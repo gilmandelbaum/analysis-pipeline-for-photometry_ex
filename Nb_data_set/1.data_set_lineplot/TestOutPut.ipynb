{
 "cells": [
  {
   "cell_type": "code",
   "execution_count": 1,
   "metadata": {
    "execution": {
     "iopub.execute_input": "2020-07-29T20:49:32.410624Z",
     "iopub.status.busy": "2020-07-29T20:49:32.410081Z",
     "iopub.status.idle": "2020-07-29T20:49:33.085306Z",
     "shell.execute_reply": "2020-07-29T20:49:33.084765Z"
    },
    "papermill": {
     "duration": 0.714859,
     "end_time": "2020-07-29T20:49:33.085397",
     "exception": false,
     "start_time": "2020-07-29T20:49:32.370538",
     "status": "completed"
    },
    "tags": []
   },
   "outputs": [],
   "source": [
    "import pickle\n",
    "from pathlib import Path\n",
    "import pandas as pd \n",
    "import os\n",
    "import sys\n",
    "import matplotlib.pyplot as plt\n",
    "import getpass"
   ]
  },
  {
   "cell_type": "code",
   "execution_count": 2,
   "metadata": {
    "execution": {
     "iopub.execute_input": "2020-07-29T20:49:33.145662Z",
     "iopub.status.busy": "2020-07-29T20:49:33.145191Z",
     "iopub.status.idle": "2020-07-29T20:49:33.148004Z",
     "shell.execute_reply": "2020-07-29T20:49:33.147465Z"
    },
    "papermill": {
     "duration": 0.034659,
     "end_time": "2020-07-29T20:49:33.148136",
     "exception": false,
     "start_time": "2020-07-29T20:49:33.113477",
     "status": "completed"
    },
    "tags": []
   },
   "outputs": [
    {
     "name": "stdout",
     "output_type": "stream",
     "text": [
      "gilmandelbaum\n"
     ]
    }
   ],
   "source": [
    "#add the github path that will run the notebooks: \n",
    "username = getpass.getuser() # gets the username from the current comp \n",
    "print (username)"
   ]
  },
  {
   "cell_type": "code",
   "execution_count": 3,
   "metadata": {
    "execution": {
     "iopub.execute_input": "2020-07-29T20:49:33.205572Z",
     "iopub.status.busy": "2020-07-29T20:49:33.205130Z",
     "iopub.status.idle": "2020-07-29T20:49:33.207018Z",
     "shell.execute_reply": "2020-07-29T20:49:33.207458Z"
    },
    "papermill": {
     "duration": 0.031878,
     "end_time": "2020-07-29T20:49:33.207548",
     "exception": false,
     "start_time": "2020-07-29T20:49:33.175670",
     "status": "completed"
    },
    "tags": []
   },
   "outputs": [],
   "source": [
    "sys.path.insert(0,'/Users/{:}/github/analysis-pipeline-for-photometry_ex/Nb_data_set/1.data_set_lineplot'.format(username))"
   ]
  },
  {
   "cell_type": "code",
   "execution_count": 4,
   "metadata": {
    "execution": {
     "iopub.execute_input": "2020-07-29T20:49:33.268992Z",
     "iopub.status.busy": "2020-07-29T20:49:33.268190Z",
     "iopub.status.idle": "2020-07-29T20:49:33.271409Z",
     "shell.execute_reply": "2020-07-29T20:49:33.271760Z"
    },
    "papermill": {
     "duration": 0.038025,
     "end_time": "2020-07-29T20:49:33.271857",
     "exception": false,
     "start_time": "2020-07-29T20:49:33.233832",
     "status": "completed"
    },
    "tags": []
   },
   "outputs": [
    {
     "data": {
      "text/plain": [
       "'/Users/gilmandelbaum/github/analysis-pipeline-for-photometry_ex/Nb_data_set/1.data_set_lineplot'"
      ]
     },
     "execution_count": 4,
     "metadata": {},
     "output_type": "execute_result"
    }
   ],
   "source": [
    "sys.path[0]"
   ]
  },
  {
   "cell_type": "code",
   "execution_count": 5,
   "metadata": {
    "execution": {
     "iopub.execute_input": "2020-07-29T20:49:33.328921Z",
     "iopub.status.busy": "2020-07-29T20:49:33.328466Z",
     "iopub.status.idle": "2020-07-29T20:49:33.332127Z",
     "shell.execute_reply": "2020-07-29T20:49:33.331646Z"
    },
    "papermill": {
     "duration": 0.033415,
     "end_time": "2020-07-29T20:49:33.332200",
     "exception": false,
     "start_time": "2020-07-29T20:49:33.298785",
     "status": "completed"
    },
    "tags": []
   },
   "outputs": [],
   "source": [
    "import data_set_lineplot_ic_together_helper_functions as dslhf"
   ]
  },
  {
   "cell_type": "code",
   "execution_count": 6,
   "metadata": {
    "execution": {
     "iopub.execute_input": "2020-07-29T20:49:33.395391Z",
     "iopub.status.busy": "2020-07-29T20:49:33.394856Z",
     "iopub.status.idle": "2020-07-29T20:49:33.396886Z",
     "shell.execute_reply": "2020-07-29T20:49:33.397326Z"
    },
    "papermill": {
     "duration": 0.035934,
     "end_time": "2020-07-29T20:49:33.397444",
     "exception": false,
     "start_time": "2020-07-29T20:49:33.361510",
     "status": "completed"
    },
    "tags": [
     "parameters"
    ]
   },
   "outputs": [],
   "source": [
    "seq_str = '0a1b2a3b4abcd5a6a7a'\n",
    "period_of_interest = \"combined_periods_1\"\n",
    "HowManyBasck=1\n",
    "folderName=\"right_dual_color_photo_full_data_set_after_inspection\" #folder where the plot data_set will be saved \n",
    "path_to_load_data = \"/Volumes/GilInVivoPaper.large/2.Photometry_in_str/1.lateral_medial_6_analysis//right_dual_color_photo_full_data/0a1b2a3b4abcd5a6a7a\""
   ]
  },
  {
   "cell_type": "code",
   "execution_count": 7,
   "metadata": {
    "execution": {
     "iopub.execute_input": "2020-07-29T20:49:33.458654Z",
     "iopub.status.busy": "2020-07-29T20:49:33.458209Z",
     "iopub.status.idle": "2020-07-29T20:49:33.460621Z",
     "shell.execute_reply": "2020-07-29T20:49:33.460163Z"
    },
    "papermill": {
     "duration": 0.032201,
     "end_time": "2020-07-29T20:49:33.460691",
     "exception": false,
     "start_time": "2020-07-29T20:49:33.428490",
     "status": "completed"
    },
    "tags": [
     "injected-parameters"
    ]
   },
   "outputs": [],
   "source": [
    "# Parameters\n",
    "seq_str = \"0a1b2a3b4abcd5a6a7a\"\n",
    "HowManyBack = 1\n",
    "folderName = \"right_dual_color_photo_full_data\"\n",
    "path_to_load_data = \"/Volumes/GilInVivoPaper.large/2.Photometry_in_str/1.lateral_medial_6_analysis//right_dual_color_photo_full_data/0a1b2a3b4abcd5a6a7a\"\n",
    "period_of_interest = \"combined_periods_1\"\n"
   ]
  },
  {
   "cell_type": "markdown",
   "metadata": {
    "papermill": {
     "duration": 0.029211,
     "end_time": "2020-07-29T20:49:33.517698",
     "exception": false,
     "start_time": "2020-07-29T20:49:33.488487",
     "status": "completed"
    },
    "tags": []
   },
   "source": [
    "# Folder name of analysis: "
   ]
  },
  {
   "cell_type": "code",
   "execution_count": 8,
   "metadata": {
    "execution": {
     "iopub.execute_input": "2020-07-29T20:49:33.575872Z",
     "iopub.status.busy": "2020-07-29T20:49:33.575432Z",
     "iopub.status.idle": "2020-07-29T20:49:33.577747Z",
     "shell.execute_reply": "2020-07-29T20:49:33.577288Z"
    },
    "papermill": {
     "duration": 0.031734,
     "end_time": "2020-07-29T20:49:33.577818",
     "exception": false,
     "start_time": "2020-07-29T20:49:33.546084",
     "status": "completed"
    },
    "tags": []
   },
   "outputs": [],
   "source": [
    "analysis_type =\"0.dsl__winall(no_dirc)_loseall(no_dirc)__rs\""
   ]
  },
  {
   "cell_type": "code",
   "execution_count": 9,
   "metadata": {
    "execution": {
     "iopub.execute_input": "2020-07-29T20:49:33.637007Z",
     "iopub.status.busy": "2020-07-29T20:49:33.636091Z",
     "iopub.status.idle": "2020-07-29T20:49:33.639653Z",
     "shell.execute_reply": "2020-07-29T20:49:33.640201Z"
    },
    "papermill": {
     "duration": 0.03461,
     "end_time": "2020-07-29T20:49:33.640309",
     "exception": false,
     "start_time": "2020-07-29T20:49:33.605699",
     "status": "completed"
    },
    "tags": []
   },
   "outputs": [
    {
     "data": {
      "text/plain": [
       "'/anaconda3/bin/python3'"
      ]
     },
     "execution_count": 9,
     "metadata": {},
     "output_type": "execute_result"
    }
   ],
   "source": [
    "sys.executable"
   ]
  },
  {
   "cell_type": "markdown",
   "metadata": {
    "papermill": {
     "duration": 0.027483,
     "end_time": "2020-07-29T20:49:33.696706",
     "exception": false,
     "start_time": "2020-07-29T20:49:33.669223",
     "status": "completed"
    },
    "tags": []
   },
   "source": [
    "# Import the data and where to save it "
   ]
  },
  {
   "cell_type": "code",
   "execution_count": 10,
   "metadata": {
    "execution": {
     "iopub.execute_input": "2020-07-29T20:49:33.758026Z",
     "iopub.status.busy": "2020-07-29T20:49:33.757544Z",
     "iopub.status.idle": "2020-07-29T20:49:33.759865Z",
     "shell.execute_reply": "2020-07-29T20:49:33.759339Z"
    },
    "papermill": {
     "duration": 0.03468,
     "end_time": "2020-07-29T20:49:33.759945",
     "exception": false,
     "start_time": "2020-07-29T20:49:33.725265",
     "status": "completed"
    },
    "tags": []
   },
   "outputs": [],
   "source": [
    "path_to_save_plots = path_to_load_data+\"/\"+\"line_plots\"+\"/\"+analysis_type "
   ]
  },
  {
   "cell_type": "code",
   "execution_count": 11,
   "metadata": {
    "execution": {
     "iopub.execute_input": "2020-07-29T20:49:33.817991Z",
     "iopub.status.busy": "2020-07-29T20:49:33.817127Z",
     "iopub.status.idle": "2020-07-29T20:49:33.820484Z",
     "shell.execute_reply": "2020-07-29T20:49:33.820037Z"
    },
    "papermill": {
     "duration": 0.03217,
     "end_time": "2020-07-29T20:49:33.820551",
     "exception": false,
     "start_time": "2020-07-29T20:49:33.788381",
     "status": "completed"
    },
    "tags": []
   },
   "outputs": [
    {
     "data": {
      "text/plain": [
       "'/Volumes/GilInVivoPaper.large/2.Photometry_in_str/1.lateral_medial_6_analysis//right_dual_color_photo_full_data/0a1b2a3b4abcd5a6a7a/line_plots/0.dsl__winall(no_dirc)_loseall(no_dirc)__rs'"
      ]
     },
     "execution_count": 11,
     "metadata": {},
     "output_type": "execute_result"
    }
   ],
   "source": [
    "path_to_save_plots"
   ]
  },
  {
   "cell_type": "markdown",
   "metadata": {
    "papermill": {
     "duration": 0.030598,
     "end_time": "2020-07-29T20:49:33.881662",
     "exception": false,
     "start_time": "2020-07-29T20:49:33.851064",
     "status": "completed"
    },
    "tags": []
   },
   "source": [
    "# Import the data and where to save it "
   ]
  },
  {
   "cell_type": "code",
   "execution_count": 12,
   "metadata": {
    "execution": {
     "iopub.execute_input": "2020-07-29T20:49:33.949162Z",
     "iopub.status.busy": "2020-07-29T20:49:33.948687Z",
     "iopub.status.idle": "2020-07-29T20:50:09.941878Z",
     "shell.execute_reply": "2020-07-29T20:50:09.942377Z"
    },
    "papermill": {
     "duration": 36.030093,
     "end_time": "2020-07-29T20:50:09.942477",
     "exception": false,
     "start_time": "2020-07-29T20:49:33.912384",
     "status": "completed"
    },
    "tags": []
   },
   "outputs": [
    {
     "name": "stdout",
     "output_type": "stream",
     "text": [
      "CPU times: user 33.1 s, sys: 2.64 s, total: 35.7 s\n",
      "Wall time: 36 s\n"
     ]
    }
   ],
   "source": [
    "%%time\n",
    "root = Path(path_to_load_data)\n",
    "d = \"data_object_photometry_after_processing\"+\"_\"+seq_str+'.pickle'\n",
    "my_path = root / d \n",
    "fileToOpen = open(my_path, 'rb')\n",
    "data_set = pickle.load(fileToOpen)"
   ]
  },
  {
   "cell_type": "code",
   "execution_count": null,
   "metadata": {
    "papermill": {
     "duration": 0.030338,
     "end_time": "2020-07-29T20:50:10.002127",
     "exception": false,
     "start_time": "2020-07-29T20:50:09.971789",
     "status": "completed"
    },
    "tags": []
   },
   "outputs": [],
   "source": []
  },
  {
   "cell_type": "code",
   "execution_count": 13,
   "metadata": {
    "execution": {
     "iopub.execute_input": "2020-07-29T20:50:10.066273Z",
     "iopub.status.busy": "2020-07-29T20:50:10.065710Z",
     "iopub.status.idle": "2020-07-29T20:50:10.068083Z",
     "shell.execute_reply": "2020-07-29T20:50:10.067583Z"
    },
    "papermill": {
     "duration": 0.036032,
     "end_time": "2020-07-29T20:50:10.068159",
     "exception": false,
     "start_time": "2020-07-29T20:50:10.032127",
     "status": "completed"
    },
    "tags": []
   },
   "outputs": [],
   "source": [
    "y_axis_list = [\"df_f\",\"z_score\",\"z_score_sliding_window\"]"
   ]
  },
  {
   "cell_type": "code",
   "execution_count": 14,
   "metadata": {
    "execution": {
     "iopub.execute_input": "2020-07-29T20:50:10.182811Z",
     "iopub.status.busy": "2020-07-29T20:50:10.182078Z",
     "iopub.status.idle": "2020-07-29T20:50:10.185141Z",
     "shell.execute_reply": "2020-07-29T20:50:10.185699Z"
    },
    "papermill": {
     "duration": 0.049485,
     "end_time": "2020-07-29T20:50:10.185811",
     "exception": false,
     "start_time": "2020-07-29T20:50:10.136326",
     "status": "completed"
    },
    "tags": []
   },
   "outputs": [
    {
     "name": "stdout",
     "output_type": "stream",
     "text": [
      "z_score\n"
     ]
    }
   ],
   "source": [
    "alphabet = [\"a\",\"b\",\"c\",\"d\",\"e\",\"f\",\"g\"]\n",
    "y_axis = y_axis_list[alphabet.index(seq_str[:seq_str.index('4')][-1])]\n",
    "print (y_axis)"
   ]
  },
  {
   "cell_type": "code",
   "execution_count": null,
   "metadata": {
    "papermill": {
     "duration": 0.03108,
     "end_time": "2020-07-29T20:50:10.254859",
     "exception": false,
     "start_time": "2020-07-29T20:50:10.223779",
     "status": "completed"
    },
    "tags": []
   },
   "outputs": [],
   "source": []
  },
  {
   "cell_type": "code",
   "execution_count": 15,
   "metadata": {
    "execution": {
     "iopub.execute_input": "2020-07-29T20:50:10.324948Z",
     "iopub.status.busy": "2020-07-29T20:50:10.324366Z",
     "iopub.status.idle": "2020-07-29T20:50:10.334896Z",
     "shell.execute_reply": "2020-07-29T20:50:10.334310Z"
    },
    "papermill": {
     "duration": 0.046998,
     "end_time": "2020-07-29T20:50:10.334983",
     "exception": false,
     "start_time": "2020-07-29T20:50:10.287985",
     "status": "completed"
    },
    "tags": []
   },
   "outputs": [],
   "source": [
    "# stash result in a cache directory, for how many back. \n",
    "cache_dir_plt = os.path.join(path_to_save_plots,period_of_interest)\n",
    "if not os.path.exists(cache_dir_plt):\n",
    "    os.makedirs(cache_dir_plt)"
   ]
  },
  {
   "cell_type": "code",
   "execution_count": 16,
   "metadata": {
    "execution": {
     "iopub.execute_input": "2020-07-29T20:50:10.403698Z",
     "iopub.status.busy": "2020-07-29T20:50:10.403158Z",
     "iopub.status.idle": "2020-07-29T20:50:10.405972Z",
     "shell.execute_reply": "2020-07-29T20:50:10.405498Z"
    },
    "papermill": {
     "duration": 0.036799,
     "end_time": "2020-07-29T20:50:10.406045",
     "exception": false,
     "start_time": "2020-07-29T20:50:10.369246",
     "status": "completed"
    },
    "tags": []
   },
   "outputs": [
    {
     "data": {
      "text/plain": [
       "'/Volumes/GilInVivoPaper.large/2.Photometry_in_str/1.lateral_medial_6_analysis//right_dual_color_photo_full_data/0a1b2a3b4abcd5a6a7a/line_plots/0.dsl__winall(no_dirc)_loseall(no_dirc)__rs/combined_periods_1'"
      ]
     },
     "execution_count": 16,
     "metadata": {},
     "output_type": "execute_result"
    }
   ],
   "source": [
    "cache_dir_plt"
   ]
  },
  {
   "cell_type": "markdown",
   "metadata": {
    "papermill": {
     "duration": 0.032965,
     "end_time": "2020-07-29T20:50:10.472424",
     "exception": false,
     "start_time": "2020-07-29T20:50:10.439459",
     "status": "completed"
    },
    "tags": []
   },
   "source": [
    "# generate data sets of interest"
   ]
  },
  {
   "cell_type": "code",
   "execution_count": 17,
   "metadata": {
    "execution": {
     "iopub.execute_input": "2020-07-29T20:50:10.537806Z",
     "iopub.status.busy": "2020-07-29T20:50:10.537354Z",
     "iopub.status.idle": "2020-07-29T20:50:10.539033Z",
     "shell.execute_reply": "2020-07-29T20:50:10.539487Z"
    },
    "papermill": {
     "duration": 0.035683,
     "end_time": "2020-07-29T20:50:10.539580",
     "exception": false,
     "start_time": "2020-07-29T20:50:10.503897",
     "status": "completed"
    },
    "tags": []
   },
   "outputs": [],
   "source": [
    "#combinations = [(2, 2), (2, 1), (1, 2), (1, 1)]"
   ]
  },
  {
   "cell_type": "code",
   "execution_count": 18,
   "metadata": {
    "execution": {
     "iopub.execute_input": "2020-07-29T20:50:10.620142Z",
     "iopub.status.busy": "2020-07-29T20:50:10.618387Z",
     "iopub.status.idle": "2020-07-29T20:50:10.763913Z",
     "shell.execute_reply": "2020-07-29T20:50:10.762906Z"
    },
    "papermill": {
     "duration": 0.188362,
     "end_time": "2020-07-29T20:50:10.764064",
     "exception": false,
     "start_time": "2020-07-29T20:50:10.575702",
     "status": "completed"
    },
    "scrolled": true,
    "tags": []
   },
   "outputs": [
    {
     "name": "stdout",
     "output_type": "stream",
     "text": [
      "empty\n",
      "empty\n",
      "full\n",
      "empty\n",
      "full\n",
      "full\n",
      "full\n",
      "empty\n",
      "empty\n",
      "empty\n",
      "full\n",
      "empty\n",
      "empty\n",
      "full\n",
      "full\n",
      "empty\n",
      "full\n",
      "empty\n",
      "empty\n",
      "empty\n",
      "empty\n",
      "full\n",
      "full\n",
      "empty\n",
      "full\n",
      "full\n",
      "empty\n",
      "empty\n",
      "full\n",
      "full\n",
      "full\n",
      "full\n",
      "empty\n",
      "empty\n",
      "empty\n",
      "full\n",
      "empty\n",
      "full\n",
      "full\n",
      "empty\n",
      "full\n",
      "empty\n",
      "empty\n",
      "empty\n",
      "empty\n",
      "full\n",
      "empty\n",
      "empty\n",
      "empty\n",
      "empty\n",
      "empty\n",
      "full\n",
      "empty\n",
      "full\n",
      "full\n",
      "empty\n",
      "full\n",
      "empty\n",
      "empty\n",
      "full\n",
      "empty\n",
      "empty\n",
      "full\n",
      "empty\n",
      "empty\n",
      "full\n",
      "full\n",
      "full\n",
      "full\n",
      "full\n",
      "full\n",
      "full\n",
      "full\n",
      "full\n",
      "full\n",
      "empty\n",
      "full\n",
      "full\n",
      "empty\n",
      "full\n",
      "empty\n",
      "full\n",
      "empty\n",
      "empty\n",
      "full\n",
      "empty\n",
      "empty\n",
      "empty\n",
      "full\n",
      "full\n",
      "full\n",
      "full\n",
      "empty\n",
      "empty\n",
      "empty\n",
      "empty\n",
      "full\n",
      "full\n",
      "empty\n",
      "full\n",
      "empty\n",
      "full\n",
      "empty\n",
      "full\n"
     ]
    }
   ],
   "source": [
    "r_ws_period_d1_data_set= dslhf.extract_data_of_interest_ipsi_contra_data_set(data_set,\n",
    "                                                                           0,2,\n",
    "                                                                           period_of_interest,\"d1 R\")"
   ]
  },
  {
   "cell_type": "code",
   "execution_count": 19,
   "metadata": {
    "execution": {
     "iopub.execute_input": "2020-07-29T20:50:10.863090Z",
     "iopub.status.busy": "2020-07-29T20:50:10.862530Z",
     "iopub.status.idle": "2020-07-29T20:50:10.980316Z",
     "shell.execute_reply": "2020-07-29T20:50:10.981139Z"
    },
    "papermill": {
     "duration": 0.167449,
     "end_time": "2020-07-29T20:50:10.981318",
     "exception": false,
     "start_time": "2020-07-29T20:50:10.813869",
     "status": "completed"
    },
    "scrolled": true,
    "tags": []
   },
   "outputs": [
    {
     "name": "stdout",
     "output_type": "stream",
     "text": [
      "empty\n",
      "empty\n",
      "full\n",
      "empty\n",
      "full\n",
      "full\n",
      "full\n",
      "empty\n",
      "empty\n",
      "empty\n",
      "full\n",
      "empty\n",
      "empty\n",
      "full\n",
      "full\n",
      "empty\n",
      "full\n",
      "empty\n",
      "empty\n",
      "empty\n",
      "empty\n",
      "full\n",
      "full\n",
      "empty\n",
      "full\n",
      "full\n",
      "empty\n",
      "empty\n",
      "full\n",
      "full\n",
      "full\n",
      "full\n",
      "empty\n",
      "empty\n",
      "empty\n",
      "full\n",
      "empty\n",
      "full\n",
      "full\n",
      "empty\n",
      "full\n",
      "empty\n",
      "empty\n",
      "empty\n",
      "empty\n",
      "full\n",
      "empty\n",
      "empty\n",
      "empty\n",
      "empty\n",
      "empty\n",
      "full\n",
      "empty\n",
      "full\n",
      "full\n",
      "empty\n",
      "full\n",
      "empty\n",
      "empty\n",
      "full\n",
      "empty\n",
      "empty\n",
      "full\n",
      "empty\n",
      "empty\n",
      "full\n",
      "full\n",
      "full\n",
      "full\n",
      "full\n",
      "full\n",
      "full\n",
      "full\n",
      "full\n",
      "full\n",
      "empty\n",
      "full\n",
      "full\n",
      "empty\n",
      "full\n",
      "empty\n",
      "full\n",
      "empty\n",
      "empty\n",
      "full\n",
      "empty\n",
      "empty\n",
      "empty\n",
      "full\n",
      "full\n",
      "full\n",
      "full\n",
      "empty\n",
      "empty\n",
      "empty\n",
      "empty\n",
      "full\n",
      "full\n",
      "empty\n",
      "full\n",
      "empty\n",
      "full\n",
      "empty\n",
      "full\n"
     ]
    }
   ],
   "source": [
    "r_ws_period_d2_data_set= dslhf.extract_data_of_interest_ipsi_contra_data_set(data_set,\n",
    "                                                                           0,2,\n",
    "                                                                           period_of_interest,\"d2 R\")"
   ]
  },
  {
   "cell_type": "code",
   "execution_count": 20,
   "metadata": {
    "execution": {
     "iopub.execute_input": "2020-07-29T20:50:11.068857Z",
     "iopub.status.busy": "2020-07-29T20:50:11.068140Z",
     "iopub.status.idle": "2020-07-29T20:50:11.216285Z",
     "shell.execute_reply": "2020-07-29T20:50:11.216913Z"
    },
    "papermill": {
     "duration": 0.190791,
     "end_time": "2020-07-29T20:50:11.217035",
     "exception": false,
     "start_time": "2020-07-29T20:50:11.026244",
     "status": "completed"
    },
    "scrolled": true,
    "tags": []
   },
   "outputs": [
    {
     "name": "stdout",
     "output_type": "stream",
     "text": [
      "full\n",
      "full\n",
      "full\n",
      "full\n",
      "full\n",
      "full\n",
      "full\n",
      "full\n",
      "full\n",
      "full\n",
      "full\n",
      "full\n",
      "full\n",
      "full\n",
      "full\n",
      "full\n",
      "full\n",
      "full\n",
      "full\n",
      "full\n",
      "full\n",
      "full\n",
      "full\n",
      "full\n",
      "full\n",
      "full\n",
      "full\n",
      "full\n",
      "full\n",
      "full\n",
      "full\n",
      "full\n",
      "full\n",
      "full\n",
      "full\n",
      "full\n",
      "full\n",
      "full\n",
      "full\n",
      "full\n",
      "full\n",
      "full\n",
      "full\n",
      "full\n",
      "full\n",
      "full\n",
      "full\n",
      "full\n",
      "full\n",
      "full\n",
      "full\n",
      "full\n",
      "full\n",
      "full\n",
      "full\n",
      "full\n",
      "full\n",
      "full\n",
      "full\n",
      "full\n",
      "full\n",
      "full\n",
      "full\n",
      "full\n",
      "full\n",
      "full\n",
      "full\n",
      "full\n",
      "full\n",
      "full\n",
      "full\n",
      "full\n",
      "full\n",
      "full\n",
      "full\n",
      "full\n",
      "full\n",
      "full\n",
      "full\n",
      "full\n",
      "full\n",
      "full\n",
      "full\n",
      "full\n",
      "full\n",
      "full\n",
      "full\n",
      "full\n",
      "full\n",
      "full\n",
      "full\n",
      "full\n",
      "full\n",
      "full\n",
      "full\n",
      "full\n",
      "full\n",
      "full\n",
      "full\n",
      "full\n",
      "full\n",
      "full\n",
      "full\n",
      "full\n"
     ]
    }
   ],
   "source": [
    "r_wr_period_d1_data_set= dslhf.extract_data_of_interest_ipsi_contra_data_set(data_set,\n",
    "                                                                           0,3,\n",
    "                                                                           period_of_interest,\"d1 R\")"
   ]
  },
  {
   "cell_type": "code",
   "execution_count": 21,
   "metadata": {
    "execution": {
     "iopub.execute_input": "2020-07-29T20:50:11.297461Z",
     "iopub.status.busy": "2020-07-29T20:50:11.296767Z",
     "iopub.status.idle": "2020-07-29T20:50:11.386926Z",
     "shell.execute_reply": "2020-07-29T20:50:11.388080Z"
    },
    "papermill": {
     "duration": 0.131444,
     "end_time": "2020-07-29T20:50:11.388377",
     "exception": false,
     "start_time": "2020-07-29T20:50:11.256933",
     "status": "completed"
    },
    "scrolled": true,
    "tags": []
   },
   "outputs": [
    {
     "name": "stdout",
     "output_type": "stream",
     "text": [
      "full\n",
      "full\n",
      "full\n",
      "full\n",
      "full\n",
      "full\n",
      "full\n",
      "full\n",
      "full\n",
      "full\n",
      "full\n",
      "full\n",
      "full\n",
      "full\n",
      "full\n",
      "full\n",
      "full\n",
      "full\n",
      "full\n",
      "full\n",
      "full\n",
      "full\n",
      "full\n",
      "full\n",
      "full\n",
      "full\n",
      "full\n",
      "full\n",
      "full\n",
      "full\n",
      "full\n",
      "full\n",
      "full\n",
      "full\n",
      "full\n",
      "full\n",
      "full\n",
      "full\n",
      "full\n",
      "full\n",
      "full\n",
      "full\n",
      "full\n",
      "full\n",
      "full\n",
      "full\n",
      "full\n",
      "full\n",
      "full\n",
      "full\n",
      "full\n",
      "full\n",
      "full\n",
      "full\n",
      "full\n",
      "full\n",
      "full\n",
      "full\n",
      "full\n",
      "full\n",
      "full\n",
      "full\n",
      "full\n",
      "full\n",
      "full\n",
      "full\n",
      "full\n",
      "full\n",
      "full\n",
      "full\n",
      "full\n",
      "full\n",
      "full\n",
      "full\n",
      "full\n",
      "full\n",
      "full\n",
      "full\n",
      "full\n",
      "full\n",
      "full\n",
      "full\n",
      "full\n",
      "full\n",
      "full\n",
      "full\n",
      "full\n",
      "full\n",
      "full\n",
      "full\n",
      "full\n",
      "full\n",
      "full\n",
      "full\n",
      "full\n",
      "full\n",
      "full\n",
      "full\n",
      "full\n",
      "full\n",
      "full\n",
      "full\n",
      "full\n",
      "full\n"
     ]
    }
   ],
   "source": [
    "r_wr_period_d2_data_set= dslhf.extract_data_of_interest_ipsi_contra_data_set(data_set,\n",
    "                                                                           0,3,\n",
    "                                                                           period_of_interest,\"d2 R\")"
   ]
  },
  {
   "cell_type": "code",
   "execution_count": 22,
   "metadata": {
    "execution": {
     "iopub.execute_input": "2020-07-29T20:50:11.499930Z",
     "iopub.status.busy": "2020-07-29T20:50:11.499293Z",
     "iopub.status.idle": "2020-07-29T20:50:11.639494Z",
     "shell.execute_reply": "2020-07-29T20:50:11.640037Z"
    },
    "papermill": {
     "duration": 0.187301,
     "end_time": "2020-07-29T20:50:11.640170",
     "exception": false,
     "start_time": "2020-07-29T20:50:11.452869",
     "status": "completed"
    },
    "scrolled": true,
    "tags": []
   },
   "outputs": [
    {
     "name": "stdout",
     "output_type": "stream",
     "text": [
      "full"
     ]
    },
    {
     "name": "stdout",
     "output_type": "stream",
     "text": [
      "\n",
      "full\n",
      "full\n",
      "full\n",
      "full\n",
      "full\n",
      "full\n",
      "full\n",
      "full\n",
      "full\n",
      "full\n",
      "full\n",
      "full\n",
      "full\n",
      "full\n",
      "full\n",
      "full\n",
      "full\n",
      "full\n",
      "full\n",
      "full\n",
      "full\n",
      "full\n",
      "full\n",
      "full\n",
      "full\n",
      "full\n",
      "full\n",
      "full\n",
      "full\n",
      "full\n",
      "full\n",
      "full\n",
      "full\n",
      "full\n",
      "full\n",
      "full\n",
      "full\n",
      "full\n",
      "full\n",
      "full\n",
      "full\n",
      "full\n",
      "full\n",
      "full\n",
      "full\n",
      "full\n",
      "full\n",
      "full\n",
      "full\n",
      "full\n",
      "full\n",
      "full\n",
      "full\n",
      "full\n",
      "full\n",
      "full\n",
      "full\n",
      "full\n",
      "full\n",
      "full\n",
      "full\n",
      "full\n",
      "full\n",
      "full\n",
      "full\n",
      "full\n",
      "full\n",
      "full\n",
      "full\n",
      "full\n",
      "full\n",
      "full\n",
      "full\n",
      "full\n",
      "full\n",
      "full\n",
      "full\n",
      "full\n",
      "full\n",
      "full\n",
      "full\n",
      "full\n",
      "full\n",
      "full\n",
      "full\n",
      "full\n",
      "full\n",
      "full\n",
      "full\n",
      "full\n",
      "full\n",
      "full\n",
      "full\n",
      "full\n",
      "full\n",
      "full\n",
      "full\n",
      "full\n",
      "full\n",
      "full\n",
      "full\n",
      "full\n",
      "full\n"
     ]
    }
   ],
   "source": [
    "r_ls_period_d1_data_set= dslhf.extract_data_of_interest_ipsi_contra_data_set(data_set,\n",
    "                                                                           0,0,\n",
    "                                                                           period_of_interest,\"d1 R\")"
   ]
  },
  {
   "cell_type": "code",
   "execution_count": 23,
   "metadata": {
    "execution": {
     "iopub.execute_input": "2020-07-29T20:50:11.749074Z",
     "iopub.status.busy": "2020-07-29T20:50:11.746409Z",
     "iopub.status.idle": "2020-07-29T20:50:11.867919Z",
     "shell.execute_reply": "2020-07-29T20:50:11.868448Z"
    },
    "papermill": {
     "duration": 0.164675,
     "end_time": "2020-07-29T20:50:11.868554",
     "exception": false,
     "start_time": "2020-07-29T20:50:11.703879",
     "status": "completed"
    },
    "scrolled": true,
    "tags": []
   },
   "outputs": [
    {
     "name": "stdout",
     "output_type": "stream",
     "text": [
      "full\n",
      "full\n",
      "full\n",
      "full\n",
      "full\n",
      "full\n",
      "full\n",
      "full\n",
      "full\n",
      "full\n",
      "full\n",
      "full\n",
      "full\n",
      "full\n",
      "full\n",
      "full\n",
      "full\n",
      "full\n",
      "full\n",
      "full\n",
      "full\n",
      "full\n",
      "full\n",
      "full\n",
      "full\n",
      "full\n",
      "full\n",
      "full\n",
      "full\n",
      "full\n",
      "full\n",
      "full\n",
      "full\n",
      "full\n",
      "full\n",
      "full\n",
      "full\n",
      "full\n",
      "full\n",
      "full\n",
      "full\n",
      "full\n",
      "full\n",
      "full\n",
      "full\n",
      "full\n",
      "full\n",
      "full\n",
      "full\n",
      "full\n",
      "full\n",
      "full\n",
      "full\n",
      "full\n",
      "full\n",
      "full\n",
      "full\n",
      "full\n",
      "full\n",
      "full\n",
      "full\n",
      "full\n",
      "full\n",
      "full\n",
      "full\n",
      "full\n",
      "full\n",
      "full\n",
      "full\n",
      "full\n",
      "full\n",
      "full\n",
      "full\n",
      "full\n",
      "full\n",
      "full\n",
      "full\n",
      "full\n",
      "full\n",
      "full\n",
      "full\n",
      "full\n",
      "full\n",
      "full\n",
      "full\n",
      "full\n",
      "full\n",
      "full\n",
      "full\n",
      "full\n",
      "full\n",
      "full\n",
      "full\n",
      "full\n",
      "full\n",
      "full\n",
      "full\n",
      "full\n",
      "full\n",
      "full\n",
      "full\n",
      "full\n",
      "full\n",
      "full\n"
     ]
    }
   ],
   "source": [
    "r_ls_period_d2_data_set= dslhf.extract_data_of_interest_ipsi_contra_data_set(data_set,\n",
    "                                                                           0,0,\n",
    "                                                                           period_of_interest,\"d2 R\")"
   ]
  },
  {
   "cell_type": "code",
   "execution_count": 24,
   "metadata": {
    "execution": {
     "iopub.execute_input": "2020-07-29T20:50:11.977410Z",
     "iopub.status.busy": "2020-07-29T20:50:11.976751Z",
     "iopub.status.idle": "2020-07-29T20:50:12.166537Z",
     "shell.execute_reply": "2020-07-29T20:50:12.166005Z"
    },
    "papermill": {
     "duration": 0.251893,
     "end_time": "2020-07-29T20:50:12.166612",
     "exception": false,
     "start_time": "2020-07-29T20:50:11.914719",
     "status": "completed"
    },
    "tags": []
   },
   "outputs": [
    {
     "name": "stdout",
     "output_type": "stream",
     "text": [
      "full\n",
      "full\n",
      "full\n",
      "full\n",
      "full\n",
      "full\n",
      "full\n",
      "full\n",
      "full\n",
      "full\n",
      "full\n",
      "full\n",
      "full\n",
      "full\n",
      "full\n",
      "full\n",
      "full\n",
      "full\n",
      "full\n",
      "full\n",
      "full\n",
      "empty\n",
      "full\n",
      "empty\n",
      "full\n",
      "empty\n",
      "full\n",
      "full\n",
      "empty\n",
      "empty\n",
      "full\n",
      "empty\n",
      "full\n",
      "full\n",
      "full\n",
      "full\n",
      "empty\n",
      "full\n",
      "full\n",
      "full\n",
      "empty\n",
      "full\n",
      "full\n",
      "full\n",
      "full\n",
      "full\n",
      "full\n",
      "full\n",
      "full\n",
      "full\n",
      "full\n",
      "full\n",
      "full\n",
      "full\n",
      "full\n",
      "full\n",
      "full\n",
      "full\n",
      "full\n",
      "empty\n",
      "empty\n",
      "full\n",
      "full\n",
      "full\n",
      "empty\n",
      "full\n",
      "full\n",
      "full\n",
      "full\n",
      "full\n",
      "full\n",
      "full\n",
      "full\n",
      "full\n",
      "full\n",
      "full\n",
      "full\n",
      "full\n",
      "full\n",
      "full\n",
      "full\n",
      "full\n",
      "full\n",
      "full\n",
      "full\n",
      "full\n",
      "full\n",
      "full\n",
      "full\n",
      "full\n",
      "full\n",
      "full\n",
      "full\n",
      "full\n",
      "full\n",
      "full\n",
      "full\n",
      "full\n",
      "full\n",
      "full\n",
      "full\n",
      "full\n",
      "full\n",
      "full\n"
     ]
    }
   ],
   "source": [
    "r_lr_period_d1_data_set= dslhf.extract_data_of_interest_ipsi_contra_data_set(data_set,\n",
    "                                                                           0,1,\n",
    "                                                                           period_of_interest,\"d1 R\")"
   ]
  },
  {
   "cell_type": "code",
   "execution_count": 25,
   "metadata": {
    "execution": {
     "iopub.execute_input": "2020-07-29T20:50:12.264265Z",
     "iopub.status.busy": "2020-07-29T20:50:12.262187Z",
     "iopub.status.idle": "2020-07-29T20:50:12.370872Z",
     "shell.execute_reply": "2020-07-29T20:50:12.370374Z"
    },
    "papermill": {
     "duration": 0.158493,
     "end_time": "2020-07-29T20:50:12.370948",
     "exception": false,
     "start_time": "2020-07-29T20:50:12.212455",
     "status": "completed"
    },
    "tags": []
   },
   "outputs": [
    {
     "name": "stdout",
     "output_type": "stream",
     "text": [
      "full\n",
      "full\n",
      "full\n",
      "full\n",
      "full\n",
      "full\n",
      "full\n",
      "full\n",
      "full\n",
      "full\n",
      "full\n",
      "full\n",
      "full\n",
      "full\n",
      "full\n",
      "full\n",
      "full\n",
      "full\n",
      "full\n",
      "full\n",
      "full\n",
      "empty\n",
      "full\n",
      "empty\n",
      "full\n",
      "empty\n",
      "full\n",
      "full\n",
      "empty\n",
      "empty\n",
      "full\n",
      "empty\n",
      "full\n",
      "full\n",
      "full\n",
      "full\n",
      "empty\n",
      "full\n",
      "full\n",
      "full\n",
      "empty\n",
      "full\n",
      "full\n",
      "full\n",
      "full\n",
      "full\n",
      "full\n",
      "full\n",
      "full\n",
      "full\n",
      "full\n",
      "full\n",
      "full\n",
      "full\n",
      "full\n",
      "full\n",
      "full\n",
      "full\n",
      "full\n",
      "empty\n",
      "empty\n",
      "full\n",
      "full\n",
      "full\n",
      "empty\n",
      "full\n",
      "full\n",
      "full\n",
      "full\n",
      "full\n",
      "full\n",
      "full\n",
      "full\n",
      "full\n",
      "full\n",
      "full\n",
      "full\n",
      "full\n",
      "full\n",
      "full\n",
      "full\n",
      "full\n",
      "full\n",
      "full\n",
      "full\n",
      "full\n",
      "full\n",
      "full\n",
      "full\n",
      "full\n",
      "full\n",
      "full\n",
      "full\n",
      "full\n",
      "full\n",
      "full\n",
      "full\n",
      "full\n",
      "full\n",
      "full\n",
      "full\n",
      "full\n",
      "full\n",
      "full\n"
     ]
    }
   ],
   "source": [
    "r_lr_period_d2_data_set= dslhf.extract_data_of_interest_ipsi_contra_data_set(data_set,\n",
    "                                                                           0,1,\n",
    "                                                                           period_of_interest,\"d2 R\")"
   ]
  },
  {
   "cell_type": "code",
   "execution_count": 26,
   "metadata": {
    "execution": {
     "iopub.execute_input": "2020-07-29T20:50:12.450480Z",
     "iopub.status.busy": "2020-07-29T20:50:12.450007Z",
     "iopub.status.idle": "2020-07-29T20:50:12.451852Z",
     "shell.execute_reply": "2020-07-29T20:50:12.452320Z"
    },
    "papermill": {
     "duration": 0.042798,
     "end_time": "2020-07-29T20:50:12.452417",
     "exception": false,
     "start_time": "2020-07-29T20:50:12.409619",
     "status": "completed"
    },
    "tags": []
   },
   "outputs": [],
   "source": [
    "def combine_data_of_interest (data_set_1, data_set_2): \n",
    "    \n",
    "    ipsi_contra_data_set_combined = []\n",
    "    \n",
    "    for session_1,session_2 in zip(data_set_1,data_set_2):\n",
    "        ipsi_contra = combine_data_of_interest_helper(session_1,session_2)\n",
    "        ipsi_contra_data_set_combined.append(ipsi_contra)\n",
    "        \n",
    "    return (ipsi_contra_data_set_combined)"
   ]
  },
  {
   "cell_type": "code",
   "execution_count": 27,
   "metadata": {
    "execution": {
     "iopub.execute_input": "2020-07-29T20:50:12.537846Z",
     "iopub.status.busy": "2020-07-29T20:50:12.537339Z",
     "iopub.status.idle": "2020-07-29T20:50:12.539735Z",
     "shell.execute_reply": "2020-07-29T20:50:12.539231Z"
    },
    "papermill": {
     "duration": 0.049694,
     "end_time": "2020-07-29T20:50:12.539812",
     "exception": false,
     "start_time": "2020-07-29T20:50:12.490118",
     "status": "completed"
    },
    "tags": []
   },
   "outputs": [],
   "source": [
    "def combine_data_of_interest_helper (session_1, session_2):\n",
    "#combine function: \n",
    "#append the win switch (if exists) to the win repeats that do exist.\n",
    "    ipsi_combined =  pd.concat([session_1[0],session_2[0]],axis=1)\n",
    "    contra_combined =  pd.concat([session_1[1],session_2[1]],axis=1)\n",
    "\n",
    "    #contra_combined = PhotoData_perTrial_channels[rl][1][tt][period][cell_type]\n",
    "    return (ipsi_combined,contra_combined)"
   ]
  },
  {
   "cell_type": "code",
   "execution_count": 28,
   "metadata": {
    "execution": {
     "iopub.execute_input": "2020-07-29T20:50:12.648479Z",
     "iopub.status.busy": "2020-07-29T20:50:12.647535Z",
     "iopub.status.idle": "2020-07-29T20:50:12.851931Z",
     "shell.execute_reply": "2020-07-29T20:50:12.850866Z"
    },
    "papermill": {
     "duration": 0.265078,
     "end_time": "2020-07-29T20:50:12.852084",
     "exception": false,
     "start_time": "2020-07-29T20:50:12.587006",
     "status": "completed"
    },
    "tags": []
   },
   "outputs": [],
   "source": [
    "r_d1_win_data_set = combine_data_of_interest (r_wr_period_d1_data_set,r_ws_period_d1_data_set)"
   ]
  },
  {
   "cell_type": "code",
   "execution_count": 29,
   "metadata": {
    "execution": {
     "iopub.execute_input": "2020-07-29T20:50:12.955522Z",
     "iopub.status.busy": "2020-07-29T20:50:12.954899Z",
     "iopub.status.idle": "2020-07-29T20:50:13.192499Z",
     "shell.execute_reply": "2020-07-29T20:50:13.191989Z"
    },
    "papermill": {
     "duration": 0.286287,
     "end_time": "2020-07-29T20:50:13.192574",
     "exception": false,
     "start_time": "2020-07-29T20:50:12.906287",
     "status": "completed"
    },
    "tags": []
   },
   "outputs": [],
   "source": [
    "r_d2_win_data_set = combine_data_of_interest (r_wr_period_d2_data_set,r_ws_period_d2_data_set)"
   ]
  },
  {
   "cell_type": "code",
   "execution_count": 30,
   "metadata": {
    "execution": {
     "iopub.execute_input": "2020-07-29T20:50:13.271932Z",
     "iopub.status.busy": "2020-07-29T20:50:13.271462Z",
     "iopub.status.idle": "2020-07-29T20:50:13.383215Z",
     "shell.execute_reply": "2020-07-29T20:50:13.382631Z"
    },
    "papermill": {
     "duration": 0.156155,
     "end_time": "2020-07-29T20:50:13.383297",
     "exception": false,
     "start_time": "2020-07-29T20:50:13.227142",
     "status": "completed"
    },
    "tags": []
   },
   "outputs": [],
   "source": [
    "r_d1_lose_data_set = combine_data_of_interest (r_ls_period_d1_data_set,r_lr_period_d1_data_set)"
   ]
  },
  {
   "cell_type": "code",
   "execution_count": 31,
   "metadata": {
    "execution": {
     "iopub.execute_input": "2020-07-29T20:50:13.458186Z",
     "iopub.status.busy": "2020-07-29T20:50:13.457714Z",
     "iopub.status.idle": "2020-07-29T20:50:13.577017Z",
     "shell.execute_reply": "2020-07-29T20:50:13.576387Z"
    },
    "papermill": {
     "duration": 0.15871,
     "end_time": "2020-07-29T20:50:13.577099",
     "exception": false,
     "start_time": "2020-07-29T20:50:13.418389",
     "status": "completed"
    },
    "tags": []
   },
   "outputs": [],
   "source": [
    "r_d2_lose_data_set = combine_data_of_interest (r_ls_period_d2_data_set,r_lr_period_d2_data_set)"
   ]
  },
  {
   "cell_type": "code",
   "execution_count": 32,
   "metadata": {
    "execution": {
     "iopub.execute_input": "2020-07-29T20:50:13.656300Z",
     "iopub.status.busy": "2020-07-29T20:50:13.655837Z",
     "iopub.status.idle": "2020-07-29T20:50:13.658366Z",
     "shell.execute_reply": "2020-07-29T20:50:13.657819Z"
    },
    "papermill": {
     "duration": 0.040557,
     "end_time": "2020-07-29T20:50:13.658447",
     "exception": false,
     "start_time": "2020-07-29T20:50:13.617890",
     "status": "completed"
    },
    "tags": []
   },
   "outputs": [],
   "source": [
    "def combine_directions(data_set): \n",
    "    \n",
    "    no_direction_data_set=[]\n",
    "    \n",
    "    for session in data_set:\n",
    "        ipsi_contra_combined = combine_directions_helper(session)\n",
    "        no_direction_data_set.append(ipsi_contra_combined)\n",
    "    return (no_direction_data_set)"
   ]
  },
  {
   "cell_type": "code",
   "execution_count": 33,
   "metadata": {
    "execution": {
     "iopub.execute_input": "2020-07-29T20:50:13.732388Z",
     "iopub.status.busy": "2020-07-29T20:50:13.731883Z",
     "iopub.status.idle": "2020-07-29T20:50:13.734996Z",
     "shell.execute_reply": "2020-07-29T20:50:13.734390Z"
    },
    "papermill": {
     "duration": 0.04024,
     "end_time": "2020-07-29T20:50:13.735078",
     "exception": false,
     "start_time": "2020-07-29T20:50:13.694838",
     "status": "completed"
    },
    "tags": []
   },
   "outputs": [],
   "source": [
    "def combine_directions_helper (session):\n",
    "    ipsi_contra_combined =  pd.concat([session[0],session[1]],axis=1)\n",
    "    return (ipsi_contra_combined)"
   ]
  },
  {
   "cell_type": "code",
   "execution_count": 34,
   "metadata": {
    "execution": {
     "iopub.execute_input": "2020-07-29T20:50:13.812427Z",
     "iopub.status.busy": "2020-07-29T20:50:13.811953Z",
     "iopub.status.idle": "2020-07-29T20:50:14.039734Z",
     "shell.execute_reply": "2020-07-29T20:50:14.040240Z"
    },
    "papermill": {
     "duration": 0.26772,
     "end_time": "2020-07-29T20:50:14.040348",
     "exception": false,
     "start_time": "2020-07-29T20:50:13.772628",
     "status": "completed"
    },
    "tags": []
   },
   "outputs": [],
   "source": [
    "r_d1_win_combined_dir_data_set = combine_directions (r_d1_win_data_set)"
   ]
  },
  {
   "cell_type": "code",
   "execution_count": 35,
   "metadata": {
    "execution": {
     "iopub.execute_input": "2020-07-29T20:50:14.117779Z",
     "iopub.status.busy": "2020-07-29T20:50:14.117189Z",
     "iopub.status.idle": "2020-07-29T20:50:14.372302Z",
     "shell.execute_reply": "2020-07-29T20:50:14.372775Z"
    },
    "papermill": {
     "duration": 0.296772,
     "end_time": "2020-07-29T20:50:14.372875",
     "exception": false,
     "start_time": "2020-07-29T20:50:14.076103",
     "status": "completed"
    },
    "tags": []
   },
   "outputs": [],
   "source": [
    "r_d2_win_combined_dir_data_set = combine_directions (r_d2_win_data_set)"
   ]
  },
  {
   "cell_type": "code",
   "execution_count": 36,
   "metadata": {
    "execution": {
     "iopub.execute_input": "2020-07-29T20:50:14.448273Z",
     "iopub.status.busy": "2020-07-29T20:50:14.447792Z",
     "iopub.status.idle": "2020-07-29T20:50:14.612909Z",
     "shell.execute_reply": "2020-07-29T20:50:14.612365Z"
    },
    "papermill": {
     "duration": 0.204191,
     "end_time": "2020-07-29T20:50:14.612994",
     "exception": false,
     "start_time": "2020-07-29T20:50:14.408803",
     "status": "completed"
    },
    "tags": []
   },
   "outputs": [],
   "source": [
    "r_d1_lose_combined_dir_data_set = combine_directions (r_d1_lose_data_set)"
   ]
  },
  {
   "cell_type": "code",
   "execution_count": 37,
   "metadata": {
    "execution": {
     "iopub.execute_input": "2020-07-29T20:50:14.689644Z",
     "iopub.status.busy": "2020-07-29T20:50:14.689169Z",
     "iopub.status.idle": "2020-07-29T20:50:14.842309Z",
     "shell.execute_reply": "2020-07-29T20:50:14.842792Z"
    },
    "papermill": {
     "duration": 0.194363,
     "end_time": "2020-07-29T20:50:14.842894",
     "exception": false,
     "start_time": "2020-07-29T20:50:14.648531",
     "status": "completed"
    },
    "tags": []
   },
   "outputs": [],
   "source": [
    "r_d2_lose_combined_dir_data_set = combine_directions (r_d2_lose_data_set)"
   ]
  },
  {
   "cell_type": "markdown",
   "metadata": {
    "papermill": {
     "duration": 0.03756,
     "end_time": "2020-07-29T20:50:14.916451",
     "exception": false,
     "start_time": "2020-07-29T20:50:14.878891",
     "status": "completed"
    },
    "tags": []
   },
   "source": [
    "# Calculate means per each session "
   ]
  },
  {
   "cell_type": "code",
   "execution_count": 38,
   "metadata": {
    "execution": {
     "iopub.execute_input": "2020-07-29T20:50:14.991803Z",
     "iopub.status.busy": "2020-07-29T20:50:14.991326Z",
     "iopub.status.idle": "2020-07-29T20:50:14.993507Z",
     "shell.execute_reply": "2020-07-29T20:50:14.993030Z"
    },
    "papermill": {
     "duration": 0.042024,
     "end_time": "2020-07-29T20:50:14.993580",
     "exception": false,
     "start_time": "2020-07-29T20:50:14.951556",
     "status": "completed"
    },
    "tags": []
   },
   "outputs": [],
   "source": [
    "def calculate_mean_data_set_no_direc (no_direction_data_set): \n",
    "    \n",
    "    df_no_direction = pd.DataFrame()\n",
    "    \n",
    "    for no_direc_session in no_direction_data_set:    \n",
    "        session_no_direc_mean = no_direc_session.mean(axis=1)\n",
    "        df_no_direction = pd.concat([df_no_direction,session_no_direc_mean],axis=1)\n",
    "        \n",
    "    return (df_no_direction)"
   ]
  },
  {
   "cell_type": "code",
   "execution_count": 39,
   "metadata": {
    "execution": {
     "iopub.execute_input": "2020-07-29T20:50:15.072131Z",
     "iopub.status.busy": "2020-07-29T20:50:15.071652Z",
     "iopub.status.idle": "2020-07-29T20:50:15.398475Z",
     "shell.execute_reply": "2020-07-29T20:50:15.397878Z"
    },
    "papermill": {
     "duration": 0.369056,
     "end_time": "2020-07-29T20:50:15.398568",
     "exception": false,
     "start_time": "2020-07-29T20:50:15.029512",
     "status": "completed"
    },
    "tags": []
   },
   "outputs": [],
   "source": [
    "r_d1_win_data_set_df_no_direc = calculate_mean_data_set_no_direc(r_d1_win_combined_dir_data_set)"
   ]
  },
  {
   "cell_type": "code",
   "execution_count": 40,
   "metadata": {
    "execution": {
     "iopub.execute_input": "2020-07-29T20:50:15.477310Z",
     "iopub.status.busy": "2020-07-29T20:50:15.476806Z",
     "iopub.status.idle": "2020-07-29T20:50:15.793417Z",
     "shell.execute_reply": "2020-07-29T20:50:15.794062Z"
    },
    "papermill": {
     "duration": 0.357752,
     "end_time": "2020-07-29T20:50:15.794171",
     "exception": false,
     "start_time": "2020-07-29T20:50:15.436419",
     "status": "completed"
    },
    "tags": []
   },
   "outputs": [],
   "source": [
    "r_d2_win_data_set_df_no_direc = calculate_mean_data_set_no_direc(r_d2_win_combined_dir_data_set)"
   ]
  },
  {
   "cell_type": "code",
   "execution_count": 41,
   "metadata": {
    "execution": {
     "iopub.execute_input": "2020-07-29T20:50:15.874627Z",
     "iopub.status.busy": "2020-07-29T20:50:15.873944Z",
     "iopub.status.idle": "2020-07-29T20:50:16.154903Z",
     "shell.execute_reply": "2020-07-29T20:50:16.154356Z"
    },
    "papermill": {
     "duration": 0.322568,
     "end_time": "2020-07-29T20:50:16.154990",
     "exception": false,
     "start_time": "2020-07-29T20:50:15.832422",
     "status": "completed"
    },
    "tags": []
   },
   "outputs": [],
   "source": [
    "r_d1_lose_data_set_df_no_direc = calculate_mean_data_set_no_direc(r_d1_lose_combined_dir_data_set)"
   ]
  },
  {
   "cell_type": "code",
   "execution_count": 42,
   "metadata": {
    "execution": {
     "iopub.execute_input": "2020-07-29T20:50:16.237184Z",
     "iopub.status.busy": "2020-07-29T20:50:16.236656Z",
     "iopub.status.idle": "2020-07-29T20:50:16.543491Z",
     "shell.execute_reply": "2020-07-29T20:50:16.542894Z"
    },
    "papermill": {
     "duration": 0.347986,
     "end_time": "2020-07-29T20:50:16.543579",
     "exception": false,
     "start_time": "2020-07-29T20:50:16.195593",
     "status": "completed"
    },
    "tags": []
   },
   "outputs": [],
   "source": [
    "r_d2_lose_data_set_df_no_direc = calculate_mean_data_set_no_direc(r_d2_lose_combined_dir_data_set)"
   ]
  },
  {
   "cell_type": "markdown",
   "metadata": {
    "papermill": {
     "duration": 0.034946,
     "end_time": "2020-07-29T20:50:16.614749",
     "exception": false,
     "start_time": "2020-07-29T20:50:16.579803",
     "status": "completed"
    },
    "tags": []
   },
   "source": [
    "# Calculate means and sem on the data set "
   ]
  },
  {
   "cell_type": "code",
   "execution_count": 43,
   "metadata": {
    "execution": {
     "iopub.execute_input": "2020-07-29T20:50:16.692655Z",
     "iopub.status.busy": "2020-07-29T20:50:16.692175Z",
     "iopub.status.idle": "2020-07-29T20:50:16.694014Z",
     "shell.execute_reply": "2020-07-29T20:50:16.694478Z"
    },
    "papermill": {
     "duration": 0.043605,
     "end_time": "2020-07-29T20:50:16.694576",
     "exception": false,
     "start_time": "2020-07-29T20:50:16.650971",
     "status": "completed"
    },
    "tags": []
   },
   "outputs": [],
   "source": [
    "def calculate_mean_sem_no_direc(no_direction_data_set):\n",
    "    \n",
    "    number_of_trials_no_direc = len(no_direction_data_set.columns)\n",
    "    mean_no_direc = no_direction_data_set.mean(axis=1)\n",
    "    sem_no_direc = no_direction_data_set.std(axis=1)/(number_of_trials_no_direc**0.5)\n",
    "        \n",
    "    return (mean_no_direc,sem_no_direc,number_of_trials_no_direc)\n",
    "    #in the return - its called trials but its actually sessions. I am just using the same code as notebook 7s so kept it the same."
   ]
  },
  {
   "cell_type": "code",
   "execution_count": 44,
   "metadata": {
    "execution": {
     "iopub.execute_input": "2020-07-29T20:50:16.771020Z",
     "iopub.status.busy": "2020-07-29T20:50:16.770557Z",
     "iopub.status.idle": "2020-07-29T20:50:16.788169Z",
     "shell.execute_reply": "2020-07-29T20:50:16.787669Z"
    },
    "papermill": {
     "duration": 0.05807,
     "end_time": "2020-07-29T20:50:16.788244",
     "exception": false,
     "start_time": "2020-07-29T20:50:16.730174",
     "status": "completed"
    },
    "tags": []
   },
   "outputs": [],
   "source": [
    "r_d1_win_mean_sem_no_direc = calculate_mean_sem_no_direc (r_d1_win_data_set_df_no_direc)"
   ]
  },
  {
   "cell_type": "code",
   "execution_count": 45,
   "metadata": {
    "execution": {
     "iopub.execute_input": "2020-07-29T20:50:16.863868Z",
     "iopub.status.busy": "2020-07-29T20:50:16.863340Z",
     "iopub.status.idle": "2020-07-29T20:50:16.867510Z",
     "shell.execute_reply": "2020-07-29T20:50:16.867011Z"
    },
    "papermill": {
     "duration": 0.045258,
     "end_time": "2020-07-29T20:50:16.867585",
     "exception": false,
     "start_time": "2020-07-29T20:50:16.822327",
     "status": "completed"
    },
    "tags": []
   },
   "outputs": [],
   "source": [
    "r_d2_win_mean_sem_no_direc = calculate_mean_sem_no_direc (r_d2_win_data_set_df_no_direc)"
   ]
  },
  {
   "cell_type": "code",
   "execution_count": 46,
   "metadata": {
    "execution": {
     "iopub.execute_input": "2020-07-29T20:50:16.946920Z",
     "iopub.status.busy": "2020-07-29T20:50:16.946310Z",
     "iopub.status.idle": "2020-07-29T20:50:16.950897Z",
     "shell.execute_reply": "2020-07-29T20:50:16.951504Z"
    },
    "papermill": {
     "duration": 0.046617,
     "end_time": "2020-07-29T20:50:16.951611",
     "exception": false,
     "start_time": "2020-07-29T20:50:16.904994",
     "status": "completed"
    },
    "tags": []
   },
   "outputs": [],
   "source": [
    "r_d1_lose_mean_sem_no_direc = calculate_mean_sem_no_direc (r_d1_lose_data_set_df_no_direc)"
   ]
  },
  {
   "cell_type": "code",
   "execution_count": 47,
   "metadata": {
    "execution": {
     "iopub.execute_input": "2020-07-29T20:50:17.025959Z",
     "iopub.status.busy": "2020-07-29T20:50:17.025509Z",
     "iopub.status.idle": "2020-07-29T20:50:17.030589Z",
     "shell.execute_reply": "2020-07-29T20:50:17.030102Z"
    },
    "papermill": {
     "duration": 0.0413,
     "end_time": "2020-07-29T20:50:17.030662",
     "exception": false,
     "start_time": "2020-07-29T20:50:16.989362",
     "status": "completed"
    },
    "tags": []
   },
   "outputs": [],
   "source": [
    "r_d2_lose_mean_sem_no_direc = calculate_mean_sem_no_direc (r_d2_lose_data_set_df_no_direc)"
   ]
  },
  {
   "cell_type": "markdown",
   "metadata": {
    "papermill": {
     "duration": 0.037064,
     "end_time": "2020-07-29T20:50:17.105276",
     "exception": false,
     "start_time": "2020-07-29T20:50:17.068212",
     "status": "completed"
    },
    "tags": []
   },
   "source": [
    "# make_sem_traces"
   ]
  },
  {
   "cell_type": "code",
   "execution_count": 48,
   "metadata": {
    "execution": {
     "iopub.execute_input": "2020-07-29T20:50:17.178632Z",
     "iopub.status.busy": "2020-07-29T20:50:17.178112Z",
     "iopub.status.idle": "2020-07-29T20:50:17.181338Z",
     "shell.execute_reply": "2020-07-29T20:50:17.182139Z"
    },
    "papermill": {
     "duration": 0.042432,
     "end_time": "2020-07-29T20:50:17.182266",
     "exception": false,
     "start_time": "2020-07-29T20:50:17.139834",
     "status": "completed"
    },
    "tags": []
   },
   "outputs": [],
   "source": [
    "#make_sem_traces is a function that helps making the sem traces for the plots. \n",
    "def make_sem_traces_no_direc (data_no_direc_mean_sem):\n",
    "    sem_up_no_direc = data_no_direc_mean_sem[0]+data_no_direc_mean_sem[1]/2\n",
    "    sem_down_no_direc = data_no_direc_mean_sem[0]-data_no_direc_mean_sem[1]/2\n",
    "    \n",
    "    return (sem_up_no_direc,sem_down_no_direc)\n"
   ]
  },
  {
   "cell_type": "code",
   "execution_count": 49,
   "metadata": {
    "execution": {
     "iopub.execute_input": "2020-07-29T20:50:17.263131Z",
     "iopub.status.busy": "2020-07-29T20:50:17.262648Z",
     "iopub.status.idle": "2020-07-29T20:50:17.264918Z",
     "shell.execute_reply": "2020-07-29T20:50:17.264428Z"
    },
    "papermill": {
     "duration": 0.042854,
     "end_time": "2020-07-29T20:50:17.264992",
     "exception": false,
     "start_time": "2020-07-29T20:50:17.222138",
     "status": "completed"
    },
    "tags": []
   },
   "outputs": [],
   "source": [
    "r_d1_win_mean_sem_traces = make_sem_traces_no_direc(r_d1_win_mean_sem_no_direc)"
   ]
  },
  {
   "cell_type": "code",
   "execution_count": 50,
   "metadata": {
    "execution": {
     "iopub.execute_input": "2020-07-29T20:50:17.343560Z",
     "iopub.status.busy": "2020-07-29T20:50:17.343102Z",
     "iopub.status.idle": "2020-07-29T20:50:17.344857Z",
     "shell.execute_reply": "2020-07-29T20:50:17.345311Z"
    },
    "papermill": {
     "duration": 0.042549,
     "end_time": "2020-07-29T20:50:17.345406",
     "exception": false,
     "start_time": "2020-07-29T20:50:17.302857",
     "status": "completed"
    },
    "tags": []
   },
   "outputs": [],
   "source": [
    "r_d2_win_mean_sem_traces = make_sem_traces_no_direc(r_d2_win_mean_sem_no_direc)"
   ]
  },
  {
   "cell_type": "code",
   "execution_count": 51,
   "metadata": {
    "execution": {
     "iopub.execute_input": "2020-07-29T20:50:17.422082Z",
     "iopub.status.busy": "2020-07-29T20:50:17.421574Z",
     "iopub.status.idle": "2020-07-29T20:50:17.423864Z",
     "shell.execute_reply": "2020-07-29T20:50:17.423364Z"
    },
    "papermill": {
     "duration": 0.043223,
     "end_time": "2020-07-29T20:50:17.423938",
     "exception": false,
     "start_time": "2020-07-29T20:50:17.380715",
     "status": "completed"
    },
    "tags": []
   },
   "outputs": [],
   "source": [
    "r_d1_lose_mean_sem_traces = make_sem_traces_no_direc(r_d1_lose_mean_sem_no_direc)"
   ]
  },
  {
   "cell_type": "code",
   "execution_count": 52,
   "metadata": {
    "execution": {
     "iopub.execute_input": "2020-07-29T20:50:17.498186Z",
     "iopub.status.busy": "2020-07-29T20:50:17.497725Z",
     "iopub.status.idle": "2020-07-29T20:50:17.499894Z",
     "shell.execute_reply": "2020-07-29T20:50:17.499409Z"
    },
    "papermill": {
     "duration": 0.04255,
     "end_time": "2020-07-29T20:50:17.499967",
     "exception": false,
     "start_time": "2020-07-29T20:50:17.457417",
     "status": "completed"
    },
    "tags": []
   },
   "outputs": [],
   "source": [
    "r_d2_lose_mean_sem_traces = make_sem_traces_no_direc(r_d2_lose_mean_sem_no_direc)"
   ]
  },
  {
   "cell_type": "markdown",
   "metadata": {
    "papermill": {
     "duration": 0.038043,
     "end_time": "2020-07-29T20:50:17.574007",
     "exception": false,
     "start_time": "2020-07-29T20:50:17.535964",
     "status": "completed"
    },
    "tags": []
   },
   "source": [
    "# plots"
   ]
  },
  {
   "cell_type": "code",
   "execution_count": 53,
   "metadata": {
    "execution": {
     "iopub.execute_input": "2020-07-29T20:50:17.646754Z",
     "iopub.status.busy": "2020-07-29T20:50:17.646261Z",
     "iopub.status.idle": "2020-07-29T20:50:17.648952Z",
     "shell.execute_reply": "2020-07-29T20:50:17.648485Z"
    },
    "papermill": {
     "duration": 0.041171,
     "end_time": "2020-07-29T20:50:17.649024",
     "exception": false,
     "start_time": "2020-07-29T20:50:17.607853",
     "status": "completed"
    },
    "tags": []
   },
   "outputs": [],
   "source": [
    "import matplotlib as mpl"
   ]
  },
  {
   "cell_type": "code",
   "execution_count": 54,
   "metadata": {
    "execution": {
     "iopub.execute_input": "2020-07-29T20:50:17.731891Z",
     "iopub.status.busy": "2020-07-29T20:50:17.731356Z",
     "iopub.status.idle": "2020-07-29T20:50:17.734093Z",
     "shell.execute_reply": "2020-07-29T20:50:17.734584Z"
    },
    "papermill": {
     "duration": 0.048642,
     "end_time": "2020-07-29T20:50:17.734733",
     "exception": false,
     "start_time": "2020-07-29T20:50:17.686091",
     "status": "completed"
    },
    "tags": []
   },
   "outputs": [],
   "source": [
    "def plot_no_direc_lose_win(data_mean_sem_no_direc_win,sem_traces_no_direc_win,\n",
    "                            data_mean_sem_no_direc_lose,sem_traces_no_direc_lose,\n",
    "                            trial_type,period_of_interest,cell_type,y_axis,path_to_plot):\n",
    "    \n",
    "    #number of sessions is the same ipsi and contra. \n",
    "    \n",
    "    plt.plot(data_mean_sem_no_direc_win[0],linewidth=2, label=\"win_no_direc\"+\" \"+\"(\"+str(data_mean_sem_no_direc_win[2])+\")\")\n",
    "    plt.plot(data_mean_sem_no_direc_lose[0],linewidth=2, label=\"lose_no_direc\"+\" \"+\"(\"+str(data_mean_sem_no_direc_lose[2])+\")\")\n",
    "    \n",
    "    plt.plot(sem_traces_no_direc_win[0],color='black', linewidth=0.5,alpha=0.8)\n",
    "    plt.plot(sem_traces_no_direc_win[1],color='black', linewidth=0.5,alpha=0.8)\n",
    "    plt.plot(sem_traces_no_direc_lose[0],color='black', linewidth=0.5,alpha=0.8)\n",
    "    plt.plot(sem_traces_no_direc_lose[1],color='black', linewidth=0.5,alpha=0.8)\n",
    "    \n",
    "    plt.axvline(x=200,color='k')\n",
    "    plt.axhline(y=1.5,color='k')\n",
    "    plt.ylim([-1,2])\n",
    "    \n",
    "    \n",
    "    \n",
    "    # Add legend\n",
    "    plt.legend(loc='upper right')\n",
    "\n",
    "    # Add title and x, y labels\n",
    "    title = trial_type+\"_\"+\"(\"+period_of_interest+\")\"\n",
    "    plt.title(title, fontsize=16, fontweight='bold')\n",
    "    plt.suptitle(cell_type, fontsize=16)\n",
    "\n",
    "    plt.xlabel(\"time_bins\")\n",
    "    \n",
    "    #the y axis is defined in the paper mill. This allows to run 7_b with 3a,3b,3c and any future 3s, easliy changing the \n",
    "    #the name of the y axis to not cause confusion. \n",
    "    plt.ylabel(y_axis)\n",
    "    plt.savefig(path_to_plot+\"/\"+\"_\"+trial_type+cell_type+\"_\"+period_of_interest+'.pdf')\n",
    "    plt.show()"
   ]
  },
  {
   "cell_type": "code",
   "execution_count": 55,
   "metadata": {
    "execution": {
     "iopub.execute_input": "2020-07-29T20:50:17.807477Z",
     "iopub.status.busy": "2020-07-29T20:50:17.807024Z",
     "iopub.status.idle": "2020-07-29T20:50:18.118518Z",
     "shell.execute_reply": "2020-07-29T20:50:18.118014Z"
    },
    "papermill": {
     "duration": 0.349144,
     "end_time": "2020-07-29T20:50:18.118592",
     "exception": false,
     "start_time": "2020-07-29T20:50:17.769448",
     "status": "completed"
    },
    "scrolled": false,
    "tags": []
   },
   "outputs": [
    {
     "data": {
      "image/png": "[encoded data removed]",
      "text/plain": [
       "<Figure size 432x288 with 1 Axes>"
      ]
     },
     "metadata": {
      "needs_background": "light"
     },
     "output_type": "display_data"
    }
   ],
   "source": [
    "plot_no_direc_lose_win(r_d1_win_mean_sem_no_direc,r_d1_win_mean_sem_traces,\n",
    "                       r_d1_lose_mean_sem_no_direc,r_d1_lose_mean_sem_traces,\n",
    "                       \"right_win_lose_no_direc\",period_of_interest,\"D1\",y_axis,cache_dir_plt)"
   ]
  },
  {
   "cell_type": "code",
   "execution_count": 56,
   "metadata": {
    "execution": {
     "iopub.execute_input": "2020-07-29T20:50:18.204421Z",
     "iopub.status.busy": "2020-07-29T20:50:18.199618Z",
     "iopub.status.idle": "2020-07-29T20:50:18.417583Z",
     "shell.execute_reply": "2020-07-29T20:50:18.417114Z"
    },
    "papermill": {
     "duration": 0.260482,
     "end_time": "2020-07-29T20:50:18.417654",
     "exception": false,
     "start_time": "2020-07-29T20:50:18.157172",
     "status": "completed"
    },
    "scrolled": true,
    "tags": []
   },
   "outputs": [
    {
     "data": {
      "image/png": "[encoded data removed]",
      "text/plain": [
       "<Figure size 432x288 with 1 Axes>"
      ]
     },
     "metadata": {
      "needs_background": "light"
     },
     "output_type": "display_data"
    }
   ],
   "source": [
    "plot_no_direc_lose_win(r_d2_win_mean_sem_no_direc,r_d2_win_mean_sem_traces,\n",
    "                       r_d2_lose_mean_sem_no_direc,r_d2_lose_mean_sem_traces,\n",
    "                       \"right_win_lose_no_direc\",period_of_interest,\"D2\",y_axis,cache_dir_plt)"
   ]
  },
  {
   "cell_type": "code",
   "execution_count": null,
   "metadata": {
    "papermill": {
     "duration": 0.037383,
     "end_time": "2020-07-29T20:50:18.495701",
     "exception": false,
     "start_time": "2020-07-29T20:50:18.458318",
     "status": "completed"
    },
    "tags": []
   },
   "outputs": [],
   "source": []
  },
  {
   "cell_type": "code",
   "execution_count": null,
   "metadata": {
    "papermill": {
     "duration": 0.041976,
     "end_time": "2020-07-29T20:50:18.574308",
     "exception": false,
     "start_time": "2020-07-29T20:50:18.532332",
     "status": "completed"
    },
    "tags": []
   },
   "outputs": [],
   "source": []
  },
  {
   "cell_type": "code",
   "execution_count": null,
   "metadata": {
    "papermill": {
     "duration": 0.040108,
     "end_time": "2020-07-29T20:50:18.658573",
     "exception": false,
     "start_time": "2020-07-29T20:50:18.618465",
     "status": "completed"
    },
    "tags": []
   },
   "outputs": [],
   "source": []
  }
 ],
 "metadata": {
  "celltoolbar": "Tags",
  "kernelspec": {
   "display_name": "Python 3",
   "language": "python",
   "name": "python3"
  },
  "language_info": {
   "codemirror_mode": {
    "name": "ipython",
    "version": 3
   },
   "file_extension": ".py",
   "mimetype": "text/x-python",
   "name": "python",
   "nbconvert_exporter": "python",
   "pygments_lexer": "ipython3",
   "version": "3.7.3"
  },
  "papermill": {
   "duration": 48.213118,
   "end_time": "2020-07-29T20:50:19.778057",
   "environment_variables": {},
   "exception": null,
   "input_path": "/Users/gilmandelbaum/github/analysis-pipeline-for-photometry_ex/Nb_data_set/1.data_set_lineplot/right_side_of_the_brain/avg_of_sessions/0.dsl__winall(no_dirc)_loseall(no_dirc)__rs.ipynb",
   "output_path": "TestOutPut.ipynb",
   "parameters": {
    "HowManyBack": 1,
    "folderName": "right_dual_color_photo_full_data",
    "path_to_load_data": "/Volumes/GilInVivoPaper.large/2.Photometry_in_str/1.lateral_medial_6_analysis//right_dual_color_photo_full_data/0a1b2a3b4abcd5a6a7a",
    "period_of_interest": "combined_periods_1",
    "seq_str": "0a1b2a3b4abcd5a6a7a"
   },
   "start_time": "2020-07-29T20:49:31.564939",
   "version": "2.1.1"
  }
 },
 "nbformat": 4,
 "nbformat_minor": 4
}