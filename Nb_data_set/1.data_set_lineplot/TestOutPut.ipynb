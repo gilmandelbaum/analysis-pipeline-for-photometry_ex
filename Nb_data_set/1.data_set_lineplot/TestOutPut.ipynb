{
 "cells": [
  {
   "cell_type": "code",
   "execution_count": 1,
   "metadata": {
    "execution": {
     "iopub.execute_input": "2020-08-12T19:05:12.110137Z",
     "iopub.status.busy": "2020-08-12T19:05:12.109685Z",
     "iopub.status.idle": "2020-08-12T19:05:12.687024Z",
     "shell.execute_reply": "2020-08-12T19:05:12.686477Z"
    },
    "papermill": {
     "duration": 0.60395,
     "end_time": "2020-08-12T19:05:12.687114",
     "exception": false,
     "start_time": "2020-08-12T19:05:12.083164",
     "status": "completed"
    },
    "tags": []
   },
   "outputs": [],
   "source": [
    "import pickle\n",
    "from pathlib import Path\n",
    "import pandas as pd \n",
    "import os\n",
    "import sys\n",
    "import matplotlib.pyplot as plt\n",
    "import getpass"
   ]
  },
  {
   "cell_type": "markdown",
   "metadata": {
    "papermill": {
     "duration": 0.020912,
     "end_time": "2020-08-12T19:05:12.729588",
     "exception": false,
     "start_time": "2020-08-12T19:05:12.708676",
     "status": "completed"
    },
    "tags": []
   },
   "source": [
    "# importing the helper functions: "
   ]
  },
  {
   "cell_type": "code",
   "execution_count": 2,
   "metadata": {
    "execution": {
     "iopub.execute_input": "2020-08-12T19:05:12.773366Z",
     "iopub.status.busy": "2020-08-12T19:05:12.772866Z",
     "iopub.status.idle": "2020-08-12T19:05:12.775163Z",
     "shell.execute_reply": "2020-08-12T19:05:12.775544Z"
    },
    "papermill": {
     "duration": 0.025721,
     "end_time": "2020-08-12T19:05:12.775645",
     "exception": false,
     "start_time": "2020-08-12T19:05:12.749924",
     "status": "completed"
    },
    "tags": []
   },
   "outputs": [
    {
     "name": "stdout",
     "output_type": "stream",
     "text": [
      "gilmandelbaum\n"
     ]
    }
   ],
   "source": [
    "#add the github path that will run the notebooks: \n",
    "username = getpass.getuser() # gets the username from the current comp \n",
    "print (username)"
   ]
  },
  {
   "cell_type": "code",
   "execution_count": 3,
   "metadata": {
    "execution": {
     "iopub.execute_input": "2020-08-12T19:05:12.819398Z",
     "iopub.status.busy": "2020-08-12T19:05:12.818951Z",
     "iopub.status.idle": "2020-08-12T19:05:12.820881Z",
     "shell.execute_reply": "2020-08-12T19:05:12.821327Z"
    },
    "papermill": {
     "duration": 0.025234,
     "end_time": "2020-08-12T19:05:12.821418",
     "exception": false,
     "start_time": "2020-08-12T19:05:12.796184",
     "status": "completed"
    },
    "tags": []
   },
   "outputs": [],
   "source": [
    "sys.path.insert(0,'/Users/{:}/github/analysis-pipeline-for-photometry_ex/Nb_data_set/1.data_set_lineplot'.format(username))"
   ]
  },
  {
   "cell_type": "code",
   "execution_count": 4,
   "metadata": {
    "execution": {
     "iopub.execute_input": "2020-08-12T19:05:12.868283Z",
     "iopub.status.busy": "2020-08-12T19:05:12.867767Z",
     "iopub.status.idle": "2020-08-12T19:05:12.871200Z",
     "shell.execute_reply": "2020-08-12T19:05:12.870658Z"
    },
    "papermill": {
     "duration": 0.029279,
     "end_time": "2020-08-12T19:05:12.871281",
     "exception": false,
     "start_time": "2020-08-12T19:05:12.842002",
     "status": "completed"
    },
    "tags": []
   },
   "outputs": [
    {
     "data": {
      "text/plain": [
       "'/Users/gilmandelbaum/github/analysis-pipeline-for-photometry_ex/Nb_data_set/1.data_set_lineplot'"
      ]
     },
     "execution_count": 4,
     "metadata": {},
     "output_type": "execute_result"
    }
   ],
   "source": [
    "sys.path[0]"
   ]
  },
  {
   "cell_type": "code",
   "execution_count": 5,
   "metadata": {
    "execution": {
     "iopub.execute_input": "2020-08-12T19:05:12.919752Z",
     "iopub.status.busy": "2020-08-12T19:05:12.919255Z",
     "iopub.status.idle": "2020-08-12T19:05:12.922589Z",
     "shell.execute_reply": "2020-08-12T19:05:12.922062Z"
    },
    "papermill": {
     "duration": 0.02786,
     "end_time": "2020-08-12T19:05:12.922668",
     "exception": false,
     "start_time": "2020-08-12T19:05:12.894808",
     "status": "completed"
    },
    "tags": []
   },
   "outputs": [],
   "source": [
    "import data_set_lineplot_ic_together_helper_functions as dslhf"
   ]
  },
  {
   "cell_type": "markdown",
   "metadata": {
    "papermill": {
     "duration": 0.021675,
     "end_time": "2020-08-12T19:05:12.967314",
     "exception": false,
     "start_time": "2020-08-12T19:05:12.945639",
     "status": "completed"
    },
    "tags": []
   },
   "source": [
    "# parameters when using papermill:"
   ]
  },
  {
   "cell_type": "code",
   "execution_count": 6,
   "metadata": {
    "execution": {
     "iopub.execute_input": "2020-08-12T19:05:13.019016Z",
     "iopub.status.busy": "2020-08-12T19:05:13.018480Z",
     "iopub.status.idle": "2020-08-12T19:05:13.020824Z",
     "shell.execute_reply": "2020-08-12T19:05:13.020308Z"
    },
    "papermill": {
     "duration": 0.03138,
     "end_time": "2020-08-12T19:05:13.020901",
     "exception": false,
     "start_time": "2020-08-12T19:05:12.989521",
     "status": "completed"
    },
    "tags": [
     "parameters"
    ]
   },
   "outputs": [],
   "source": [
    "seq_str = '0a1b2a3b4abcd5a6a7a'\n",
    "period_of_interest = \"combined_periods_1\"\n",
    "HowManyBasck=1\n",
    "folderName=\"right_dual_color_photo_full_data_set_after_inspection\" #folder where the plot data_set will be saved \n",
    "#where to load the data from: \n",
    "path_to_load_data = \"/Volumes/GilInVivoPaper.large/2.Photometry_in_str/1.lateral_medial_6_analysis//right_dual_color_photo_full_data/0a1b2a3b4abcd5a6a7a\"\n",
    "sessionIndex_perMouse = ['0', '10', '21', '39', '53', '74', '84', '93', '104']\n"
   ]
  },
  {
   "cell_type": "code",
   "execution_count": 7,
   "metadata": {
    "execution": {
     "iopub.execute_input": "2020-08-12T19:05:13.067183Z",
     "iopub.status.busy": "2020-08-12T19:05:13.066716Z",
     "iopub.status.idle": "2020-08-12T19:05:13.068996Z",
     "shell.execute_reply": "2020-08-12T19:05:13.068502Z"
    },
    "papermill": {
     "duration": 0.026318,
     "end_time": "2020-08-12T19:05:13.069071",
     "exception": false,
     "start_time": "2020-08-12T19:05:13.042753",
     "status": "completed"
    },
    "tags": [
     "injected-parameters"
    ]
   },
   "outputs": [],
   "source": [
    "# Parameters\n",
    "seq_str = \"0a1b2b3b4abcd5a6a7a\"\n",
    "HowManyBack = 1\n",
    "folderName = \"right_dual_color_photo_full_data_after_QC\"\n",
    "path_to_load_data = \"/Volumes/GilInVivoPaper.large/2.Photometry_in_str/1.lateral_medial_6_analysis//right_dual_color_photo_full_data_after_QC/0a1b2b3b4abcd5a6a7a\"\n",
    "sessionIndex_perMouse = [\"0\", \"8\", \"15\", \"33\", \"54\", \"62\", \"70\", \"75\"]\n",
    "period_of_interest = \"combined_periods_1\"\n"
   ]
  },
  {
   "cell_type": "markdown",
   "metadata": {
    "papermill": {
     "duration": 0.024783,
     "end_time": "2020-08-12T19:05:13.116038",
     "exception": false,
     "start_time": "2020-08-12T19:05:13.091255",
     "status": "completed"
    },
    "tags": []
   },
   "source": [
    "# folder name of analysis: "
   ]
  },
  {
   "cell_type": "code",
   "execution_count": 8,
   "metadata": {
    "execution": {
     "iopub.execute_input": "2020-08-12T19:05:13.177908Z",
     "iopub.status.busy": "2020-08-12T19:05:13.177418Z",
     "iopub.status.idle": "2020-08-12T19:05:13.179612Z",
     "shell.execute_reply": "2020-08-12T19:05:13.179101Z"
    },
    "papermill": {
     "duration": 0.02996,
     "end_time": "2020-08-12T19:05:13.179689",
     "exception": false,
     "start_time": "2020-08-12T19:05:13.149729",
     "status": "completed"
    },
    "tags": []
   },
   "outputs": [],
   "source": [
    "analysis_type = \"6.dsl__winrepeat(ipsi_vs_contra_previous)_loseswitch(ipsi_vs_contra_previous)__rs_mice.ipynb\""
   ]
  },
  {
   "cell_type": "code",
   "execution_count": 9,
   "metadata": {
    "execution": {
     "iopub.execute_input": "2020-08-12T19:05:13.226797Z",
     "iopub.status.busy": "2020-08-12T19:05:13.226223Z",
     "iopub.status.idle": "2020-08-12T19:05:13.229240Z",
     "shell.execute_reply": "2020-08-12T19:05:13.230052Z"
    },
    "papermill": {
     "duration": 0.028682,
     "end_time": "2020-08-12T19:05:13.230180",
     "exception": false,
     "start_time": "2020-08-12T19:05:13.201498",
     "status": "completed"
    },
    "tags": []
   },
   "outputs": [
    {
     "data": {
      "text/plain": [
       "'/anaconda3/bin/python3'"
      ]
     },
     "execution_count": 9,
     "metadata": {},
     "output_type": "execute_result"
    }
   ],
   "source": [
    "sys.executable"
   ]
  },
  {
   "cell_type": "markdown",
   "metadata": {
    "papermill": {
     "duration": 0.021777,
     "end_time": "2020-08-12T19:05:13.274897",
     "exception": false,
     "start_time": "2020-08-12T19:05:13.253120",
     "status": "completed"
    },
    "tags": []
   },
   "source": [
    "# where to save the data: "
   ]
  },
  {
   "cell_type": "code",
   "execution_count": 10,
   "metadata": {
    "execution": {
     "iopub.execute_input": "2020-08-12T19:05:13.320002Z",
     "iopub.status.busy": "2020-08-12T19:05:13.319462Z",
     "iopub.status.idle": "2020-08-12T19:05:13.321592Z",
     "shell.execute_reply": "2020-08-12T19:05:13.321127Z"
    },
    "papermill": {
     "duration": 0.026061,
     "end_time": "2020-08-12T19:05:13.321663",
     "exception": false,
     "start_time": "2020-08-12T19:05:13.295602",
     "status": "completed"
    },
    "tags": []
   },
   "outputs": [],
   "source": [
    "path_to_save_plots = path_to_load_data+\"/\"+\"line_plots\"+\"/\"+\"avg_of_mice\"+\"/\"+analysis_type "
   ]
  },
  {
   "cell_type": "code",
   "execution_count": 11,
   "metadata": {
    "execution": {
     "iopub.execute_input": "2020-08-12T19:05:13.369811Z",
     "iopub.status.busy": "2020-08-12T19:05:13.369237Z",
     "iopub.status.idle": "2020-08-12T19:05:13.371841Z",
     "shell.execute_reply": "2020-08-12T19:05:13.372347Z"
    },
    "papermill": {
     "duration": 0.029274,
     "end_time": "2020-08-12T19:05:13.372452",
     "exception": false,
     "start_time": "2020-08-12T19:05:13.343178",
     "status": "completed"
    },
    "tags": []
   },
   "outputs": [
    {
     "data": {
      "text/plain": [
       "'/Volumes/GilInVivoPaper.large/2.Photometry_in_str/1.lateral_medial_6_analysis//right_dual_color_photo_full_data_after_QC/0a1b2b3b4abcd5a6a7a/line_plots/avg_of_mice/6.dsl__winrepeat(ipsi_vs_contra_previous)_loseswitch(ipsi_vs_contra_previous)__rs_mice.ipynb'"
      ]
     },
     "execution_count": 11,
     "metadata": {},
     "output_type": "execute_result"
    }
   ],
   "source": [
    "path_to_save_plots"
   ]
  },
  {
   "cell_type": "markdown",
   "metadata": {
    "papermill": {
     "duration": 0.022091,
     "end_time": "2020-08-12T19:05:13.418153",
     "exception": false,
     "start_time": "2020-08-12T19:05:13.396062",
     "status": "completed"
    },
    "tags": []
   },
   "source": [
    "# Import the data and where to save it "
   ]
  },
  {
   "cell_type": "code",
   "execution_count": 12,
   "metadata": {
    "execution": {
     "iopub.execute_input": "2020-08-12T19:05:13.467312Z",
     "iopub.status.busy": "2020-08-12T19:05:13.466640Z",
     "iopub.status.idle": "2020-08-12T19:05:37.866571Z",
     "shell.execute_reply": "2020-08-12T19:05:37.865970Z"
    },
    "papermill": {
     "duration": 24.426981,
     "end_time": "2020-08-12T19:05:37.866662",
     "exception": false,
     "start_time": "2020-08-12T19:05:13.439681",
     "status": "completed"
    },
    "tags": []
   },
   "outputs": [
    {
     "name": "stdout",
     "output_type": "stream",
     "text": [
      "CPU times: user 22.6 s, sys: 1.7 s, total: 24.3 s\n",
      "Wall time: 24.4 s\n"
     ]
    }
   ],
   "source": [
    "%%time\n",
    "root = Path(path_to_load_data)\n",
    "d = \"data_object_photometry_after_processing\"+\"_\"+seq_str+'.pickle'\n",
    "my_path = root / d \n",
    "fileToOpen = open(my_path, 'rb')\n",
    "data_set = pickle.load(fileToOpen)"
   ]
  },
  {
   "cell_type": "markdown",
   "metadata": {
    "papermill": {
     "duration": 0.024047,
     "end_time": "2020-08-12T19:05:37.915327",
     "exception": false,
     "start_time": "2020-08-12T19:05:37.891280",
     "status": "completed"
    },
    "tags": []
   },
   "source": [
    "# label y axis "
   ]
  },
  {
   "cell_type": "code",
   "execution_count": 13,
   "metadata": {
    "execution": {
     "iopub.execute_input": "2020-08-12T19:05:37.963710Z",
     "iopub.status.busy": "2020-08-12T19:05:37.963226Z",
     "iopub.status.idle": "2020-08-12T19:05:37.965178Z",
     "shell.execute_reply": "2020-08-12T19:05:37.965633Z"
    },
    "papermill": {
     "duration": 0.026746,
     "end_time": "2020-08-12T19:05:37.965729",
     "exception": false,
     "start_time": "2020-08-12T19:05:37.938983",
     "status": "completed"
    },
    "tags": []
   },
   "outputs": [],
   "source": [
    "y_axis_list = [\"df_f\",\"z_score\",\"z_score_sliding_window\"]"
   ]
  },
  {
   "cell_type": "code",
   "execution_count": 14,
   "metadata": {
    "execution": {
     "iopub.execute_input": "2020-08-12T19:05:38.011123Z",
     "iopub.status.busy": "2020-08-12T19:05:38.010569Z",
     "iopub.status.idle": "2020-08-12T19:05:38.013234Z",
     "shell.execute_reply": "2020-08-12T19:05:38.013673Z"
    },
    "papermill": {
     "duration": 0.027295,
     "end_time": "2020-08-12T19:05:38.013765",
     "exception": false,
     "start_time": "2020-08-12T19:05:37.986470",
     "status": "completed"
    },
    "tags": []
   },
   "outputs": [
    {
     "name": "stdout",
     "output_type": "stream",
     "text": [
      "z_score\n"
     ]
    }
   ],
   "source": [
    "alphabet = [\"a\",\"b\",\"c\",\"d\",\"e\",\"f\",\"g\"]\n",
    "y_axis = y_axis_list[alphabet.index(seq_str[:seq_str.index('4')][-1])]\n",
    "print (y_axis)"
   ]
  },
  {
   "cell_type": "code",
   "execution_count": null,
   "metadata": {
    "papermill": {
     "duration": 0.023022,
     "end_time": "2020-08-12T19:05:38.058501",
     "exception": false,
     "start_time": "2020-08-12T19:05:38.035479",
     "status": "completed"
    },
    "tags": []
   },
   "outputs": [],
   "source": []
  },
  {
   "cell_type": "code",
   "execution_count": 15,
   "metadata": {
    "execution": {
     "iopub.execute_input": "2020-08-12T19:05:38.106135Z",
     "iopub.status.busy": "2020-08-12T19:05:38.105676Z",
     "iopub.status.idle": "2020-08-12T19:05:38.109428Z",
     "shell.execute_reply": "2020-08-12T19:05:38.108934Z"
    },
    "papermill": {
     "duration": 0.028318,
     "end_time": "2020-08-12T19:05:38.109503",
     "exception": false,
     "start_time": "2020-08-12T19:05:38.081185",
     "status": "completed"
    },
    "tags": []
   },
   "outputs": [],
   "source": [
    "# stash result in a cache directory.\n",
    "cache_dir_plt = os.path.join(path_to_save_plots,period_of_interest)\n",
    "if not os.path.exists(cache_dir_plt):\n",
    "    os.makedirs(cache_dir_plt)"
   ]
  },
  {
   "cell_type": "code",
   "execution_count": 16,
   "metadata": {
    "execution": {
     "iopub.execute_input": "2020-08-12T19:05:38.155621Z",
     "iopub.status.busy": "2020-08-12T19:05:38.154850Z",
     "iopub.status.idle": "2020-08-12T19:05:38.158148Z",
     "shell.execute_reply": "2020-08-12T19:05:38.158584Z"
    },
    "papermill": {
     "duration": 0.027183,
     "end_time": "2020-08-12T19:05:38.158672",
     "exception": false,
     "start_time": "2020-08-12T19:05:38.131489",
     "status": "completed"
    },
    "tags": []
   },
   "outputs": [
    {
     "data": {
      "text/plain": [
       "'/Volumes/GilInVivoPaper.large/2.Photometry_in_str/1.lateral_medial_6_analysis//right_dual_color_photo_full_data_after_QC/0a1b2b3b4abcd5a6a7a/line_plots/avg_of_mice/6.dsl__winrepeat(ipsi_vs_contra_previous)_loseswitch(ipsi_vs_contra_previous)__rs_mice.ipynb/combined_periods_1'"
      ]
     },
     "execution_count": 16,
     "metadata": {},
     "output_type": "execute_result"
    }
   ],
   "source": [
    "cache_dir_plt"
   ]
  },
  {
   "cell_type": "markdown",
   "metadata": {
    "papermill": {
     "duration": 0.021653,
     "end_time": "2020-08-12T19:05:38.202132",
     "exception": false,
     "start_time": "2020-08-12T19:05:38.180479",
     "status": "completed"
    },
    "tags": []
   },
   "source": [
    "# generate data sets of interest"
   ]
  },
  {
   "cell_type": "code",
   "execution_count": 17,
   "metadata": {
    "execution": {
     "iopub.execute_input": "2020-08-12T19:05:38.250155Z",
     "iopub.status.busy": "2020-08-12T19:05:38.249706Z",
     "iopub.status.idle": "2020-08-12T19:05:38.251948Z",
     "shell.execute_reply": "2020-08-12T19:05:38.251484Z"
    },
    "papermill": {
     "duration": 0.027505,
     "end_time": "2020-08-12T19:05:38.252019",
     "exception": false,
     "start_time": "2020-08-12T19:05:38.224514",
     "status": "completed"
    },
    "tags": []
   },
   "outputs": [],
   "source": [
    "#combinations = [(2, 2), (2, 1), (1, 2), (1, 1)]"
   ]
  },
  {
   "cell_type": "code",
   "execution_count": 18,
   "metadata": {
    "execution": {
     "iopub.execute_input": "2020-08-12T19:05:38.306932Z",
     "iopub.status.busy": "2020-08-12T19:05:38.301143Z",
     "iopub.status.idle": "2020-08-12T19:05:38.378483Z",
     "shell.execute_reply": "2020-08-12T19:05:38.378943Z"
    },
    "papermill": {
     "duration": 0.105771,
     "end_time": "2020-08-12T19:05:38.379037",
     "exception": false,
     "start_time": "2020-08-12T19:05:38.273266",
     "status": "completed"
    },
    "scrolled": true,
    "tags": []
   },
   "outputs": [
    {
     "name": "stdout",
     "output_type": "stream",
     "text": [
      "full\n",
      "full\n",
      "full\n",
      "full\n",
      "full\n",
      "full\n",
      "full\n",
      "full\n",
      "full\n",
      "full\n",
      "full\n",
      "full\n",
      "full\n",
      "full\n",
      "full\n",
      "full\n",
      "full\n",
      "full\n",
      "full\n",
      "full\n",
      "full\n",
      "full\n",
      "full\n",
      "full\n",
      "full\n",
      "full\n",
      "full\n",
      "full\n",
      "full\n",
      "full\n",
      "full\n",
      "full\n",
      "full\n",
      "full\n",
      "full\n",
      "full\n",
      "full\n",
      "full\n",
      "full\n",
      "full\n",
      "full\n",
      "full\n",
      "full\n",
      "full\n",
      "full\n",
      "full\n",
      "full\n",
      "full\n",
      "full\n",
      "full\n",
      "full\n",
      "full\n",
      "full\n",
      "full\n",
      "full\n",
      "full\n",
      "full\n",
      "full\n",
      "full\n",
      "full\n",
      "full\n",
      "full\n",
      "full\n",
      "full\n",
      "full\n",
      "full\n",
      "full\n",
      "full\n",
      "full\n",
      "full\n",
      "full\n",
      "full\n",
      "full\n",
      "full\n",
      "full\n"
     ]
    }
   ],
   "source": [
    "wr_period_d1_data_set= dslhf.extract_data_of_interest_ipsi_contra_data_set(data_set,\n",
    "                                                                           0,3,\n",
    "                                                                           period_of_interest,\"d1 R\")"
   ]
  },
  {
   "cell_type": "code",
   "execution_count": 19,
   "metadata": {
    "execution": {
     "iopub.execute_input": "2020-08-12T19:05:38.435190Z",
     "iopub.status.busy": "2020-08-12T19:05:38.431754Z",
     "iopub.status.idle": "2020-08-12T19:05:38.491026Z",
     "shell.execute_reply": "2020-08-12T19:05:38.491478Z"
    },
    "papermill": {
     "duration": 0.090499,
     "end_time": "2020-08-12T19:05:38.491572",
     "exception": false,
     "start_time": "2020-08-12T19:05:38.401073",
     "status": "completed"
    },
    "scrolled": true,
    "tags": []
   },
   "outputs": [
    {
     "name": "stdout",
     "output_type": "stream",
     "text": [
      "full\n",
      "full\n",
      "full\n",
      "full\n",
      "full\n",
      "full\n",
      "full\n",
      "full\n",
      "full\n",
      "full\n",
      "full\n",
      "full\n",
      "full\n",
      "full\n",
      "full\n",
      "full\n",
      "full\n",
      "full\n",
      "full\n",
      "full\n",
      "full\n",
      "full\n",
      "full\n",
      "full\n",
      "full\n",
      "full\n",
      "full\n",
      "full\n",
      "full\n",
      "full\n",
      "full\n",
      "full\n",
      "full\n",
      "full\n",
      "full\n",
      "full\n",
      "full\n",
      "full\n",
      "full\n",
      "full\n",
      "full\n",
      "full\n",
      "full\n",
      "full\n",
      "full\n",
      "full\n",
      "full\n",
      "full\n",
      "full\n",
      "full\n",
      "full\n",
      "full\n",
      "full\n",
      "full\n",
      "full\n",
      "full\n",
      "full\n",
      "full\n",
      "full\n",
      "full\n",
      "full\n",
      "full\n",
      "full\n",
      "full\n",
      "full\n",
      "full\n",
      "full\n",
      "full\n",
      "full\n",
      "full\n",
      "full\n",
      "full\n",
      "full\n",
      "full\n",
      "full\n"
     ]
    }
   ],
   "source": [
    "wr_period_d2_data_set= dslhf.extract_data_of_interest_ipsi_contra_data_set(data_set,\n",
    "                                                                           0,3,\n",
    "                                                                           period_of_interest,\"d2 R\")"
   ]
  },
  {
   "cell_type": "code",
   "execution_count": 20,
   "metadata": {
    "execution": {
     "iopub.execute_input": "2020-08-12T19:05:38.542314Z",
     "iopub.status.busy": "2020-08-12T19:05:38.541106Z",
     "iopub.status.idle": "2020-08-12T19:05:38.636340Z",
     "shell.execute_reply": "2020-08-12T19:05:38.635737Z"
    },
    "papermill": {
     "duration": 0.121801,
     "end_time": "2020-08-12T19:05:38.636487",
     "exception": false,
     "start_time": "2020-08-12T19:05:38.514686",
     "status": "completed"
    },
    "scrolled": true,
    "tags": []
   },
   "outputs": [
    {
     "name": "stdout",
     "output_type": "stream",
     "text": [
      "full\n",
      "full\n",
      "full\n",
      "full\n",
      "full\n",
      "full\n",
      "full\n",
      "full\n",
      "full\n",
      "full\n",
      "full\n",
      "full\n",
      "full\n",
      "full\n",
      "full\n",
      "full\n",
      "full\n",
      "full\n",
      "full\n",
      "full\n",
      "full\n",
      "full\n",
      "full\n",
      "full\n",
      "full\n",
      "full\n",
      "full\n",
      "full\n",
      "full\n",
      "full\n",
      "full\n",
      "full\n",
      "full\n",
      "full\n",
      "full\n",
      "full\n",
      "full\n",
      "full\n",
      "full\n",
      "full\n",
      "full\n",
      "full\n",
      "full\n",
      "full\n",
      "full\n",
      "full\n",
      "full\n",
      "full\n",
      "full\n",
      "full\n",
      "full\n",
      "full\n",
      "full\n",
      "full\n",
      "full\n",
      "full\n",
      "full\n",
      "full\n",
      "full\n",
      "full\n",
      "full\n",
      "full\n",
      "full\n",
      "full\n",
      "full\n",
      "full\n",
      "full\n",
      "full\n",
      "full\n",
      "full\n",
      "full\n",
      "full\n",
      "full\n",
      "full\n",
      "full\n"
     ]
    }
   ],
   "source": [
    "ls_period_d1_data_set= dslhf.extract_data_of_interest_ipsi_contra_data_set(data_set,\n",
    "                                                                           0,0,\n",
    "                                                                           period_of_interest,\"d1 R\")"
   ]
  },
  {
   "cell_type": "code",
   "execution_count": 21,
   "metadata": {
    "execution": {
     "iopub.execute_input": "2020-08-12T19:05:38.722007Z",
     "iopub.status.busy": "2020-08-12T19:05:38.719319Z",
     "iopub.status.idle": "2020-08-12T19:05:38.792070Z",
     "shell.execute_reply": "2020-08-12T19:05:38.792550Z"
    },
    "papermill": {
     "duration": 0.11704,
     "end_time": "2020-08-12T19:05:38.792656",
     "exception": false,
     "start_time": "2020-08-12T19:05:38.675616",
     "status": "completed"
    },
    "scrolled": true,
    "tags": []
   },
   "outputs": [
    {
     "name": "stdout",
     "output_type": "stream",
     "text": [
      "full\n",
      "full\n",
      "full\n",
      "full\n",
      "full\n",
      "full\n",
      "full\n",
      "full\n",
      "full\n",
      "full\n",
      "full\n",
      "full\n",
      "full\n",
      "full\n",
      "full\n",
      "full\n",
      "full\n",
      "full\n",
      "full\n"
     ]
    },
    {
     "name": "stdout",
     "output_type": "stream",
     "text": [
      "full\n",
      "full\n",
      "full\n",
      "full\n",
      "full\n",
      "full\n",
      "full\n",
      "full\n",
      "full\n",
      "full\n",
      "full\n",
      "full\n",
      "full\n",
      "full\n",
      "full\n",
      "full\n",
      "full\n",
      "full\n",
      "full\n",
      "full\n",
      "full\n",
      "full\n",
      "full\n",
      "full\n",
      "full\n",
      "full\n",
      "full\n",
      "full\n",
      "full\n",
      "full\n",
      "full\n",
      "full\n",
      "full\n",
      "full\n",
      "full\n",
      "full\n",
      "full\n",
      "full\n",
      "full\n",
      "full\n",
      "full\n",
      "full\n",
      "full\n",
      "full\n",
      "full\n",
      "full\n",
      "full\n",
      "full\n",
      "full\n",
      "full\n",
      "full\n",
      "full\n",
      "full\n",
      "full\n",
      "full\n",
      "full\n"
     ]
    }
   ],
   "source": [
    "ls_period_d2_data_set= dslhf.extract_data_of_interest_ipsi_contra_data_set(data_set,\n",
    "                                                                           0,0,\n",
    "                                                                           period_of_interest,\"d2 R\")"
   ]
  },
  {
   "cell_type": "code",
   "execution_count": 22,
   "metadata": {
    "execution": {
     "iopub.execute_input": "2020-08-12T19:05:38.851513Z",
     "iopub.status.busy": "2020-08-12T19:05:38.851000Z",
     "iopub.status.idle": "2020-08-12T19:05:38.853295Z",
     "shell.execute_reply": "2020-08-12T19:05:38.852798Z"
    },
    "papermill": {
     "duration": 0.033263,
     "end_time": "2020-08-12T19:05:38.853371",
     "exception": false,
     "start_time": "2020-08-12T19:05:38.820108",
     "status": "completed"
    },
    "tags": []
   },
   "outputs": [],
   "source": [
    "def calculate_mean_data_set (ipsi_contra_data_set): \n",
    "    \n",
    "    df_ipsi_previous = pd.DataFrame()\n",
    "    df_contra_previous = pd.DataFrame()\n",
    "    \n",
    "    for session_data in ipsi_contra_data_set:\n",
    "        \n",
    "        mean_ipsi_previous = session_data[0].mean(axis=1)\n",
    "        mean_contra_previous = session_data[1].mean(axis=1)\n",
    "        \n",
    "        df_ipsi_previous = pd.concat([df_ipsi_previous,mean_ipsi_previous],axis=1)\n",
    "        df_contra_previous = pd.concat([df_contra_previous,mean_contra_previous],axis=1)\n",
    "        \n",
    "        \n",
    "    return (df_ipsi_previous,df_contra_previous)\n"
   ]
  },
  {
   "cell_type": "code",
   "execution_count": 23,
   "metadata": {
    "execution": {
     "iopub.execute_input": "2020-08-12T19:05:38.913966Z",
     "iopub.status.busy": "2020-08-12T19:05:38.913281Z",
     "iopub.status.idle": "2020-08-12T19:05:39.166469Z",
     "shell.execute_reply": "2020-08-12T19:05:39.167037Z"
    },
    "papermill": {
     "duration": 0.287335,
     "end_time": "2020-08-12T19:05:39.167143",
     "exception": false,
     "start_time": "2020-08-12T19:05:38.879808",
     "status": "completed"
    },
    "tags": []
   },
   "outputs": [],
   "source": [
    "d1_win_mean_ipsi_contra = calculate_mean_data_set(wr_period_d1_data_set)"
   ]
  },
  {
   "cell_type": "code",
   "execution_count": 24,
   "metadata": {
    "execution": {
     "iopub.execute_input": "2020-08-12T19:05:39.221521Z",
     "iopub.status.busy": "2020-08-12T19:05:39.221059Z",
     "iopub.status.idle": "2020-08-12T19:05:39.467848Z",
     "shell.execute_reply": "2020-08-12T19:05:39.467347Z"
    },
    "papermill": {
     "duration": 0.27466,
     "end_time": "2020-08-12T19:05:39.467925",
     "exception": false,
     "start_time": "2020-08-12T19:05:39.193265",
     "status": "completed"
    },
    "tags": []
   },
   "outputs": [],
   "source": [
    "d2_win_mean_ipsi_contra = calculate_mean_data_set(wr_period_d2_data_set)"
   ]
  },
  {
   "cell_type": "code",
   "execution_count": 25,
   "metadata": {
    "execution": {
     "iopub.execute_input": "2020-08-12T19:05:39.525952Z",
     "iopub.status.busy": "2020-08-12T19:05:39.525484Z",
     "iopub.status.idle": "2020-08-12T19:05:39.753840Z",
     "shell.execute_reply": "2020-08-12T19:05:39.753354Z"
    },
    "papermill": {
     "duration": 0.262242,
     "end_time": "2020-08-12T19:05:39.753912",
     "exception": false,
     "start_time": "2020-08-12T19:05:39.491670",
     "status": "completed"
    },
    "tags": []
   },
   "outputs": [],
   "source": [
    "d1_lose_mean_ipsi_contra = calculate_mean_data_set(ls_period_d1_data_set)"
   ]
  },
  {
   "cell_type": "code",
   "execution_count": 26,
   "metadata": {
    "execution": {
     "iopub.execute_input": "2020-08-12T19:05:39.814594Z",
     "iopub.status.busy": "2020-08-12T19:05:39.811952Z",
     "iopub.status.idle": "2020-08-12T19:05:40.032488Z",
     "shell.execute_reply": "2020-08-12T19:05:40.032004Z"
    },
    "papermill": {
     "duration": 0.255064,
     "end_time": "2020-08-12T19:05:40.032561",
     "exception": false,
     "start_time": "2020-08-12T19:05:39.777497",
     "status": "completed"
    },
    "tags": []
   },
   "outputs": [],
   "source": [
    "d2_lose_mean_ipsi_contra = calculate_mean_data_set(ls_period_d2_data_set)"
   ]
  },
  {
   "cell_type": "code",
   "execution_count": null,
   "metadata": {
    "papermill": {
     "duration": 0.025715,
     "end_time": "2020-08-12T19:05:40.081953",
     "exception": false,
     "start_time": "2020-08-12T19:05:40.056238",
     "status": "completed"
    },
    "tags": []
   },
   "outputs": [],
   "source": []
  },
  {
   "cell_type": "code",
   "execution_count": 27,
   "metadata": {
    "execution": {
     "iopub.execute_input": "2020-08-12T19:05:40.134220Z",
     "iopub.status.busy": "2020-08-12T19:05:40.133638Z",
     "iopub.status.idle": "2020-08-12T19:05:40.136472Z",
     "shell.execute_reply": "2020-08-12T19:05:40.136009Z"
    },
    "papermill": {
     "duration": 0.030104,
     "end_time": "2020-08-12T19:05:40.136544",
     "exception": false,
     "start_time": "2020-08-12T19:05:40.106440",
     "status": "completed"
    },
    "tags": []
   },
   "outputs": [
    {
     "data": {
      "text/plain": [
       "[0, 8, 15, 33, 54, 62, 70, 75]"
      ]
     },
     "execution_count": 27,
     "metadata": {},
     "output_type": "execute_result"
    }
   ],
   "source": [
    "sessionIndex_perMouse = list(map(int,sessionIndex_perMouse))\n",
    "sessionIndex_perMouse"
   ]
  },
  {
   "cell_type": "code",
   "execution_count": 28,
   "metadata": {
    "execution": {
     "iopub.execute_input": "2020-08-12T19:05:40.192132Z",
     "iopub.status.busy": "2020-08-12T19:05:40.191631Z",
     "iopub.status.idle": "2020-08-12T19:05:40.194560Z",
     "shell.execute_reply": "2020-08-12T19:05:40.194016Z"
    },
    "papermill": {
     "duration": 0.033585,
     "end_time": "2020-08-12T19:05:40.194640",
     "exception": false,
     "start_time": "2020-08-12T19:05:40.161055",
     "status": "completed"
    },
    "tags": []
   },
   "outputs": [],
   "source": [
    "def calculate_mean_per_mouse_ipsi_contra(data_set,sessionIndex_perMouse):\n",
    "    \n",
    "    avg_per_mouse_df_ipsi = pd.DataFrame()\n",
    "    avg_per_mouse_df_contra = pd.DataFrame()\n",
    "    \n",
    "    for list_index in range(len(sessionIndex_perMouse)-1):\n",
    "        \n",
    "        avg_per_mouse_ipsi = data_set[0].iloc[:,sessionIndex_perMouse[list_index]:sessionIndex_perMouse[list_index+1]].mean(axis=1)\n",
    "        avg_per_mouse_df_ipsi = pd.concat([avg_per_mouse_df_ipsi,avg_per_mouse_ipsi],axis=1)\n",
    "    \n",
    "\n",
    "        \n",
    "        avg_per_mouse_contra = data_set[1].iloc[:,sessionIndex_perMouse[list_index]:sessionIndex_perMouse[list_index+1]].mean(axis=1)\n",
    "        avg_per_mouse_df_contra = pd.concat([avg_per_mouse_df_contra,avg_per_mouse_contra],axis=1)\n",
    "        \n",
    "    avg_per_mouse_df_ipsi_data_set = avg_per_mouse_df_ipsi.mean(axis=1)\n",
    "    avg_per_mouse_df_contra_data_set = avg_per_mouse_df_contra.mean(axis=1)\n",
    "    \n",
    "    return (avg_per_mouse_df_ipsi, avg_per_mouse_df_ipsi_data_set,\n",
    "            avg_per_mouse_df_contra, avg_per_mouse_df_contra_data_set)"
   ]
  },
  {
   "cell_type": "code",
   "execution_count": 29,
   "metadata": {
    "execution": {
     "iopub.execute_input": "2020-08-12T19:05:40.252774Z",
     "iopub.status.busy": "2020-08-12T19:05:40.250926Z",
     "iopub.status.idle": "2020-08-12T19:05:40.271100Z",
     "shell.execute_reply": "2020-08-12T19:05:40.270620Z"
    },
    "papermill": {
     "duration": 0.05165,
     "end_time": "2020-08-12T19:05:40.271173",
     "exception": false,
     "start_time": "2020-08-12T19:05:40.219523",
     "status": "completed"
    },
    "tags": []
   },
   "outputs": [],
   "source": [
    "d1_win_mean_ipsi_contra_per_mouse_data_set = calculate_mean_per_mouse_ipsi_contra(d1_win_mean_ipsi_contra,sessionIndex_perMouse)"
   ]
  },
  {
   "cell_type": "code",
   "execution_count": 30,
   "metadata": {
    "execution": {
     "iopub.execute_input": "2020-08-12T19:05:40.327071Z",
     "iopub.status.busy": "2020-08-12T19:05:40.324136Z",
     "iopub.status.idle": "2020-08-12T19:05:40.349748Z",
     "shell.execute_reply": "2020-08-12T19:05:40.349245Z"
    },
    "papermill": {
     "duration": 0.054406,
     "end_time": "2020-08-12T19:05:40.349823",
     "exception": false,
     "start_time": "2020-08-12T19:05:40.295417",
     "status": "completed"
    },
    "tags": []
   },
   "outputs": [],
   "source": [
    "d2_win_mean_ipsi_contra_per_mouse_data_set = calculate_mean_per_mouse_ipsi_contra(d2_win_mean_ipsi_contra,sessionIndex_perMouse)"
   ]
  },
  {
   "cell_type": "code",
   "execution_count": 31,
   "metadata": {
    "execution": {
     "iopub.execute_input": "2020-08-12T19:05:40.413288Z",
     "iopub.status.busy": "2020-08-12T19:05:40.412771Z",
     "iopub.status.idle": "2020-08-12T19:05:40.428407Z",
     "shell.execute_reply": "2020-08-12T19:05:40.427828Z"
    },
    "papermill": {
     "duration": 0.054392,
     "end_time": "2020-08-12T19:05:40.428550",
     "exception": false,
     "start_time": "2020-08-12T19:05:40.374158",
     "status": "completed"
    },
    "tags": []
   },
   "outputs": [],
   "source": [
    "d1_lose_mean_ipsi_contra_per_mouse_data_set = calculate_mean_per_mouse_ipsi_contra(d1_lose_mean_ipsi_contra,sessionIndex_perMouse)\n",
    "\n"
   ]
  },
  {
   "cell_type": "code",
   "execution_count": 32,
   "metadata": {
    "execution": {
     "iopub.execute_input": "2020-08-12T19:05:40.497789Z",
     "iopub.status.busy": "2020-08-12T19:05:40.497225Z",
     "iopub.status.idle": "2020-08-12T19:05:40.509114Z",
     "shell.execute_reply": "2020-08-12T19:05:40.508605Z"
    },
    "papermill": {
     "duration": 0.055851,
     "end_time": "2020-08-12T19:05:40.509191",
     "exception": false,
     "start_time": "2020-08-12T19:05:40.453340",
     "status": "completed"
    },
    "tags": []
   },
   "outputs": [],
   "source": [
    "d2_lose_mean_ipsi_contra_per_mouse_data_set = calculate_mean_per_mouse_ipsi_contra(d2_lose_mean_ipsi_contra,sessionIndex_perMouse)\n",
    "\n"
   ]
  },
  {
   "cell_type": "markdown",
   "metadata": {
    "papermill": {
     "duration": 0.023858,
     "end_time": "2020-08-12T19:05:40.558379",
     "exception": false,
     "start_time": "2020-08-12T19:05:40.534521",
     "status": "completed"
    },
    "tags": []
   },
   "source": [
    "# plots"
   ]
  },
  {
   "cell_type": "code",
   "execution_count": 33,
   "metadata": {
    "execution": {
     "iopub.execute_input": "2020-08-12T19:05:40.612767Z",
     "iopub.status.busy": "2020-08-12T19:05:40.612265Z",
     "iopub.status.idle": "2020-08-12T19:05:40.615659Z",
     "shell.execute_reply": "2020-08-12T19:05:40.615074Z"
    },
    "papermill": {
     "duration": 0.032567,
     "end_time": "2020-08-12T19:05:40.615736",
     "exception": false,
     "start_time": "2020-08-12T19:05:40.583169",
     "status": "completed"
    },
    "tags": []
   },
   "outputs": [],
   "source": [
    "import matplotlib as mpl"
   ]
  },
  {
   "cell_type": "code",
   "execution_count": 34,
   "metadata": {
    "execution": {
     "iopub.execute_input": "2020-08-12T19:05:40.674897Z",
     "iopub.status.busy": "2020-08-12T19:05:40.674445Z",
     "iopub.status.idle": "2020-08-12T19:05:40.676495Z",
     "shell.execute_reply": "2020-08-12T19:05:40.676833Z"
    },
    "papermill": {
     "duration": 0.034293,
     "end_time": "2020-08-12T19:05:40.676924",
     "exception": false,
     "start_time": "2020-08-12T19:05:40.642631",
     "status": "completed"
    },
    "tags": []
   },
   "outputs": [],
   "source": [
    "def plot_win_or_lose_ipsi_contra_per_mouse(mean_ipsi_contra_per_mouse_data_set,\n",
    "                                           trial_type,period_of_interest,cell_type,y_axis,path_to_plot):\n",
    "    \n",
    "        \n",
    "    \n",
    "    for i in range(len(mean_ipsi_contra_per_mouse_data_set[0].columns)):\n",
    "        \n",
    "        plt.plot(mean_ipsi_contra_per_mouse_data_set[0].iloc[:,i],color='blue', linewidth=0.2,alpha=0.5)\n",
    "        plt.plot(mean_ipsi_contra_per_mouse_data_set[2].iloc[:,i],color='orange', linewidth=0.2,alpha=0.5)\n",
    "        \n",
    "        print (\"ok\")\n",
    "    \n",
    "    plt.plot(mean_ipsi_contra_per_mouse_data_set[1],linewidth=2.5, label=\"ipsi_next\")\n",
    "    plt.plot(mean_ipsi_contra_per_mouse_data_set[3],linewidth=2.5, label=\"contra_next\")\n",
    "    \n",
    "\n",
    "    plt.ylim([-1,2.5])\n",
    "    \n",
    "    \n",
    "    \n",
    "    # Add legend\n",
    "    plt.legend(loc='upper right')\n",
    "\n",
    "    # Add title and x, y labels\n",
    "    title = trial_type+\"_\"+\"(\"+period_of_interest+\")\"\n",
    "    plt.title(title, fontsize=16, fontweight='bold')\n",
    "    plt.suptitle(cell_type, fontsize=16)\n",
    "\n",
    "    plt.xlabel(\"time_bins\")\n",
    "    \n",
    "    #the y axis is defined in the paper mill. This allows to run 7_b with 3a,3b,3c and any future 3s, easliy changing the \n",
    "    #the name of the y axis to not cause confusion. \n",
    "    plt.ylabel(y_axis)\n",
    "    plt.savefig(path_to_plot+\"/\"+\"_\"+trial_type+cell_type+\"_\"+period_of_interest+'.pdf')\n",
    "    plt.show()"
   ]
  },
  {
   "cell_type": "code",
   "execution_count": 35,
   "metadata": {
    "execution": {
     "iopub.execute_input": "2020-08-12T19:05:40.732448Z",
     "iopub.status.busy": "2020-08-12T19:05:40.731953Z",
     "iopub.status.idle": "2020-08-12T19:05:40.992587Z",
     "shell.execute_reply": "2020-08-12T19:05:40.992129Z"
    },
    "papermill": {
     "duration": 0.289949,
     "end_time": "2020-08-12T19:05:40.992658",
     "exception": false,
     "start_time": "2020-08-12T19:05:40.702709",
     "status": "completed"
    },
    "scrolled": false,
    "tags": []
   },
   "outputs": [
    {
     "name": "stdout",
     "output_type": "stream",
     "text": [
      "ok\n",
      "ok\n",
      "ok\n",
      "ok\n",
      "ok\n",
      "ok\n",
      "ok\n"
     ]
    },
    {
     "data": {
      "image/png": "[encoded data removed]",
      "text/plain": [
       "<Figure size 432x288 with 1 Axes>"
      ]
     },
     "metadata": {
      "needs_background": "light"
     },
     "output_type": "display_data"
    }
   ],
   "source": [
    "plot_win_or_lose_ipsi_contra_per_mouse(d1_win_mean_ipsi_contra_per_mouse_data_set,\n",
    "                                       \"wr ipsi vs contra previous\",period_of_interest,\"D1\",y_axis,cache_dir_plt)"
   ]
  },
  {
   "cell_type": "code",
   "execution_count": 36,
   "metadata": {
    "execution": {
     "iopub.execute_input": "2020-08-12T19:05:41.048638Z",
     "iopub.status.busy": "2020-08-12T19:05:41.048190Z",
     "iopub.status.idle": "2020-08-12T19:05:41.278152Z",
     "shell.execute_reply": "2020-08-12T19:05:41.278658Z"
    },
    "papermill": {
     "duration": 0.261751,
     "end_time": "2020-08-12T19:05:41.278749",
     "exception": false,
     "start_time": "2020-08-12T19:05:41.016998",
     "status": "completed"
    },
    "scrolled": false,
    "tags": []
   },
   "outputs": [
    {
     "name": "stdout",
     "output_type": "stream",
     "text": [
      "ok\n",
      "ok\n",
      "ok\n",
      "ok\n",
      "ok\n",
      "ok\n",
      "ok\n"
     ]
    },
    {
     "data": {
      "image/png": "[encoded data removed]",
      "text/plain": [
       "<Figure size 432x288 with 1 Axes>"
      ]
     },
     "metadata": {
      "needs_background": "light"
     },
     "output_type": "display_data"
    }
   ],
   "source": [
    "plot_win_or_lose_ipsi_contra_per_mouse(d2_win_mean_ipsi_contra_per_mouse_data_set,\n",
    "                                       \"wr ipsi vs contra previous\",period_of_interest,\"D2\",y_axis,cache_dir_plt)"
   ]
  },
  {
   "cell_type": "code",
   "execution_count": 37,
   "metadata": {
    "execution": {
     "iopub.execute_input": "2020-08-12T19:05:41.348057Z",
     "iopub.status.busy": "2020-08-12T19:05:41.347536Z",
     "iopub.status.idle": "2020-08-12T19:05:41.593797Z",
     "shell.execute_reply": "2020-08-12T19:05:41.593323Z"
    },
    "papermill": {
     "duration": 0.287904,
     "end_time": "2020-08-12T19:05:41.593870",
     "exception": false,
     "start_time": "2020-08-12T19:05:41.305966",
     "status": "completed"
    },
    "scrolled": false,
    "tags": []
   },
   "outputs": [
    {
     "name": "stdout",
     "output_type": "stream",
     "text": [
      "ok\n",
      "ok\n",
      "ok\n",
      "ok\n",
      "ok\n",
      "ok\n",
      "ok\n"
     ]
    },
    {
     "data": {
      "image/png": "[encoded data removed]",
      "text/plain": [
       "<Figure size 432x288 with 1 Axes>"
      ]
     },
     "metadata": {
      "needs_background": "light"
     },
     "output_type": "display_data"
    }
   ],
   "source": [
    "plot_win_or_lose_ipsi_contra_per_mouse(d1_lose_mean_ipsi_contra_per_mouse_data_set,\n",
    "                                       \"ls ipsi vs contra previous\",period_of_interest,\"D1\",y_axis,cache_dir_plt)"
   ]
  },
  {
   "cell_type": "code",
   "execution_count": 38,
   "metadata": {
    "execution": {
     "iopub.execute_input": "2020-08-12T19:05:41.657038Z",
     "iopub.status.busy": "2020-08-12T19:05:41.654624Z",
     "iopub.status.idle": "2020-08-12T19:05:41.887679Z",
     "shell.execute_reply": "2020-08-12T19:05:41.887246Z"
    },
    "papermill": {
     "duration": 0.266283,
     "end_time": "2020-08-12T19:05:41.887746",
     "exception": false,
     "start_time": "2020-08-12T19:05:41.621463",
     "status": "completed"
    },
    "tags": []
   },
   "outputs": [
    {
     "name": "stdout",
     "output_type": "stream",
     "text": [
      "ok\n",
      "ok\n",
      "ok\n",
      "ok\n",
      "ok\n",
      "ok\n",
      "ok\n"
     ]
    },
    {
     "data": {
      "image/png": "[encoded data removed]",
      "text/plain": [
       "<Figure size 432x288 with 1 Axes>"
      ]
     },
     "metadata": {
      "needs_background": "light"
     },
     "output_type": "display_data"
    }
   ],
   "source": [
    "plot_win_or_lose_ipsi_contra_per_mouse(d2_lose_mean_ipsi_contra_per_mouse_data_set,\n",
    "                                       \"ls ipsi vs contra previous\",period_of_interest,\"D2\",y_axis,cache_dir_plt)"
   ]
  },
  {
   "cell_type": "code",
   "execution_count": null,
   "metadata": {
    "papermill": {
     "duration": 0.032357,
     "end_time": "2020-08-12T19:05:41.951854",
     "exception": false,
     "start_time": "2020-08-12T19:05:41.919497",
     "status": "completed"
    },
    "tags": []
   },
   "outputs": [],
   "source": []
  }
 ],
 "metadata": {
  "celltoolbar": "Tags",
  "kernelspec": {
   "display_name": "Python 3",
   "language": "python",
   "name": "python3"
  },
  "language_info": {
   "codemirror_mode": {
    "name": "ipython",
    "version": 3
   },
   "file_extension": ".py",
   "mimetype": "text/x-python",
   "name": "python",
   "nbconvert_exporter": "python",
   "pygments_lexer": "ipython3",
   "version": "3.7.3"
  },
  "papermill": {
   "duration": 30.923473,
   "end_time": "2020-08-12T19:05:42.300572",
   "environment_variables": {},
   "exception": null,
   "input_path": "/Users/gilmandelbaum/github/analysis-pipeline-for-photometry_ex/Nb_data_set/1.data_set_lineplot/right_side_of_the_brain/avg_of_mice/6.dsl__winrepeat(ipsi_vs_contra_previous)_loseswitch(ipsi_vs_contra_previous)__rs_mice.ipynb",
   "output_path": "TestOutPut.ipynb",
   "parameters": {
    "HowManyBack": 1,
    "folderName": "right_dual_color_photo_full_data_after_QC",
    "path_to_load_data": "/Volumes/GilInVivoPaper.large/2.Photometry_in_str/1.lateral_medial_6_analysis//right_dual_color_photo_full_data_after_QC/0a1b2b3b4abcd5a6a7a",
    "period_of_interest": "combined_periods_1",
    "seq_str": "0a1b2b3b4abcd5a6a7a",
    "sessionIndex_perMouse": [
     "0",
     "8",
     "15",
     "33",
     "54",
     "62",
     "70",
     "75"
    ]
   },
   "start_time": "2020-08-12T19:05:11.377099",
   "version": "2.1.1"
  }
 },
 "nbformat": 4,
 "nbformat_minor": 4
}