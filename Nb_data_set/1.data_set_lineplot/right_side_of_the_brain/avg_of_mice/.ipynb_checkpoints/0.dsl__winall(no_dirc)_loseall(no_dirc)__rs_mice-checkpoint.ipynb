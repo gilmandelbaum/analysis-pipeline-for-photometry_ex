{
 "cells": [
  {
   "cell_type": "code",
   "execution_count": 1,
   "metadata": {},
   "outputs": [],
   "source": [
    "import pickle\n",
    "from pathlib import Path\n",
    "import pandas as pd \n",
    "import os\n",
    "import sys\n",
    "import matplotlib.pyplot as plt\n",
    "import getpass"
   ]
  },
  {
   "cell_type": "markdown",
   "metadata": {},
   "source": [
    "# importing the helper functions: "
   ]
  },
  {
   "cell_type": "code",
   "execution_count": 2,
   "metadata": {},
   "outputs": [
    {
     "name": "stdout",
     "output_type": "stream",
     "text": [
      "gilmandelbaum\n"
     ]
    }
   ],
   "source": [
    "#add the github path that will run the notebooks: \n",
    "username = getpass.getuser() # gets the username from the current comp \n",
    "print (username)"
   ]
  },
  {
   "cell_type": "code",
   "execution_count": 3,
   "metadata": {},
   "outputs": [],
   "source": [
    "sys.path.insert(0,'/Users/{:}/github/analysis-pipeline-for-photometry_ex/Nb_data_set/1.data_set_lineplot'.format(username))"
   ]
  },
  {
   "cell_type": "code",
   "execution_count": 4,
   "metadata": {},
   "outputs": [
    {
     "data": {
      "text/plain": [
       "'/Users/gilmandelbaum/github/analysis-pipeline-for-photometry_ex/Nb_data_set/1.data_set_lineplot'"
      ]
     },
     "execution_count": 4,
     "metadata": {},
     "output_type": "execute_result"
    }
   ],
   "source": [
    "sys.path[0]"
   ]
  },
  {
   "cell_type": "code",
   "execution_count": 5,
   "metadata": {},
   "outputs": [],
   "source": [
    "import data_set_lineplot_ic_together_helper_functions as dslhf"
   ]
  },
  {
   "cell_type": "markdown",
   "metadata": {},
   "source": [
    "# parameters when using papermill:"
   ]
  },
  {
   "cell_type": "code",
   "execution_count": 6,
   "metadata": {
    "tags": [
     "parameters"
    ]
   },
   "outputs": [],
   "source": [
    "seq_str = '0a1b2a3b4abcd5a6a7a'\n",
    "period_of_interest = \"combined_periods_1\"\n",
    "HowManyBasck=1\n",
    "folderName=\"right_dual_color_photo_full_data_set_after_inspection\" #folder where the plot data_set will be saved \n",
    "#where to load the data from: \n",
    "path_to_load_data = \"/Volumes/GilInVivoPaper.large/2.Photometry_in_str/1.lateral_medial_6_analysis//right_dual_color_photo_full_data/0a1b2a3b4abcd5a6a7a\"\n",
    "sessionIndex_perMouse = ['0', '10', '21', '39', '53', '74', '84', '93', '104']\n",
    "\n",
    "\n",
    "\n"
   ]
  },
  {
   "cell_type": "markdown",
   "metadata": {},
   "source": [
    "# folder name of analysis: "
   ]
  },
  {
   "cell_type": "code",
   "execution_count": 7,
   "metadata": {},
   "outputs": [],
   "source": [
    "analysis_type =\"0.dsl__winall(no_dirc)_loseall(no_dirc)__rs\""
   ]
  },
  {
   "cell_type": "code",
   "execution_count": 8,
   "metadata": {},
   "outputs": [
    {
     "data": {
      "text/plain": [
       "'/anaconda3/bin/python3'"
      ]
     },
     "execution_count": 8,
     "metadata": {},
     "output_type": "execute_result"
    }
   ],
   "source": [
    "sys.executable"
   ]
  },
  {
   "cell_type": "markdown",
   "metadata": {},
   "source": [
    "# where to save the data: "
   ]
  },
  {
   "cell_type": "code",
   "execution_count": 9,
   "metadata": {},
   "outputs": [],
   "source": [
    "path_to_save_plots = path_to_load_data+\"/\"+\"line_plots\"+\"/\"+\"avg_of_mice\"+\"/\"+analysis_type "
   ]
  },
  {
   "cell_type": "code",
   "execution_count": 10,
   "metadata": {},
   "outputs": [
    {
     "data": {
      "text/plain": [
       "'/Volumes/GilInVivoPaper.large/2.Photometry_in_str/1.lateral_medial_6_analysis//right_dual_color_photo_full_data/0a1b2a3b4abcd5a6a7a/line_plots/avg_of_mice/0.dsl__winall(no_dirc)_loseall(no_dirc)__rs'"
      ]
     },
     "execution_count": 10,
     "metadata": {},
     "output_type": "execute_result"
    }
   ],
   "source": [
    "path_to_save_plots"
   ]
  },
  {
   "cell_type": "markdown",
   "metadata": {},
   "source": [
    "# Import the data and where to save it "
   ]
  },
  {
   "cell_type": "code",
   "execution_count": 11,
   "metadata": {},
   "outputs": [
    {
     "name": "stdout",
     "output_type": "stream",
     "text": [
      "CPU times: user 36.6 s, sys: 3.75 s, total: 40.3 s\n",
      "Wall time: 1min 5s\n"
     ]
    }
   ],
   "source": [
    "%%time\n",
    "root = Path(path_to_load_data)\n",
    "d = \"data_object_photometry_after_processing\"+\"_\"+seq_str+'.pickle'\n",
    "my_path = root / d \n",
    "fileToOpen = open(my_path, 'rb')\n",
    "data_set = pickle.load(fileToOpen)"
   ]
  },
  {
   "cell_type": "markdown",
   "metadata": {},
   "source": [
    "# label y axis "
   ]
  },
  {
   "cell_type": "code",
   "execution_count": 12,
   "metadata": {},
   "outputs": [],
   "source": [
    "y_axis_list = [\"df_f\",\"z_score\",\"z_score_sliding_window\"]"
   ]
  },
  {
   "cell_type": "code",
   "execution_count": 13,
   "metadata": {},
   "outputs": [
    {
     "name": "stdout",
     "output_type": "stream",
     "text": [
      "z_score\n"
     ]
    }
   ],
   "source": [
    "alphabet = [\"a\",\"b\",\"c\",\"d\",\"e\",\"f\",\"g\"]\n",
    "y_axis = y_axis_list[alphabet.index(seq_str[:seq_str.index('4')][-1])]\n",
    "print (y_axis)"
   ]
  },
  {
   "cell_type": "code",
   "execution_count": null,
   "metadata": {},
   "outputs": [],
   "source": []
  },
  {
   "cell_type": "code",
   "execution_count": 14,
   "metadata": {},
   "outputs": [],
   "source": [
    "# stash result in a cache directory.\n",
    "cache_dir_plt = os.path.join(path_to_save_plots,period_of_interest)\n",
    "if not os.path.exists(cache_dir_plt):\n",
    "    os.makedirs(cache_dir_plt)"
   ]
  },
  {
   "cell_type": "code",
   "execution_count": 15,
   "metadata": {},
   "outputs": [
    {
     "data": {
      "text/plain": [
       "'/Volumes/GilInVivoPaper.large/2.Photometry_in_str/1.lateral_medial_6_analysis//right_dual_color_photo_full_data/0a1b2a3b4abcd5a6a7a/line_plots/avg_of_mice/0.dsl__winall(no_dirc)_loseall(no_dirc)__rs/combined_periods_1'"
      ]
     },
     "execution_count": 15,
     "metadata": {},
     "output_type": "execute_result"
    }
   ],
   "source": [
    "cache_dir_plt"
   ]
  },
  {
   "cell_type": "markdown",
   "metadata": {},
   "source": [
    "# generate data sets of interest"
   ]
  },
  {
   "cell_type": "code",
   "execution_count": 16,
   "metadata": {},
   "outputs": [],
   "source": [
    "#combinations = [(2, 2), (2, 1), (1, 2), (1, 1)]"
   ]
  },
  {
   "cell_type": "code",
   "execution_count": 17,
   "metadata": {
    "scrolled": true
   },
   "outputs": [
    {
     "name": "stdout",
     "output_type": "stream",
     "text": [
      "empty\n",
      "empty\n",
      "full\n",
      "empty\n",
      "full\n",
      "full\n",
      "full\n",
      "empty\n",
      "empty\n",
      "empty\n",
      "full\n",
      "empty\n",
      "empty\n",
      "full\n",
      "full\n",
      "empty\n",
      "full\n",
      "empty\n",
      "empty\n",
      "empty\n",
      "empty\n",
      "full\n",
      "full\n",
      "empty\n",
      "full\n",
      "full\n",
      "empty\n",
      "empty\n",
      "full\n",
      "full\n",
      "full\n",
      "full\n",
      "empty\n",
      "empty\n",
      "empty\n",
      "full\n",
      "empty\n",
      "full\n",
      "full\n",
      "empty\n",
      "full\n",
      "empty\n",
      "empty\n",
      "empty\n",
      "empty\n",
      "full\n",
      "empty\n",
      "empty\n",
      "empty\n",
      "empty\n",
      "empty\n",
      "full\n",
      "empty\n",
      "full\n",
      "full\n",
      "empty\n",
      "full\n",
      "empty\n",
      "empty\n",
      "full\n",
      "empty\n",
      "empty\n",
      "full\n",
      "empty\n",
      "empty\n",
      "full\n",
      "full\n",
      "full\n",
      "full\n",
      "full\n",
      "full\n",
      "full\n",
      "full\n",
      "full\n",
      "full\n",
      "empty\n",
      "full\n",
      "full\n",
      "empty\n",
      "full\n",
      "empty\n",
      "full\n",
      "empty\n",
      "empty\n",
      "full\n",
      "empty\n",
      "empty\n",
      "empty\n",
      "full\n",
      "full\n",
      "full\n",
      "full\n",
      "empty\n",
      "empty\n",
      "empty\n",
      "empty\n",
      "full\n",
      "full\n",
      "empty\n",
      "full\n",
      "empty\n",
      "full\n",
      "empty\n",
      "full\n"
     ]
    }
   ],
   "source": [
    "ws_period_d1_data_set= dslhf.extract_data_of_interest_ipsi_contra_data_set(data_set,\n",
    "                                                                           0,2,\n",
    "                                                                           period_of_interest,\"d1 R\")"
   ]
  },
  {
   "cell_type": "code",
   "execution_count": 18,
   "metadata": {
    "scrolled": true
   },
   "outputs": [
    {
     "name": "stdout",
     "output_type": "stream",
     "text": [
      "empty\n",
      "empty\n",
      "full\n",
      "empty\n",
      "full\n",
      "full\n",
      "full\n",
      "empty\n",
      "empty\n",
      "empty\n",
      "full\n",
      "empty\n",
      "empty\n",
      "full\n",
      "full\n",
      "empty\n",
      "full\n",
      "empty\n",
      "empty\n",
      "empty\n",
      "empty\n",
      "full\n",
      "full\n",
      "empty\n",
      "full\n",
      "full\n",
      "empty\n",
      "empty\n",
      "full\n",
      "full\n",
      "full\n",
      "full\n",
      "empty\n",
      "empty\n",
      "empty\n",
      "full\n",
      "empty\n",
      "full\n",
      "full\n",
      "empty\n",
      "full\n",
      "empty\n",
      "empty\n",
      "empty\n",
      "empty\n",
      "full\n",
      "empty\n",
      "empty\n",
      "empty\n",
      "empty\n",
      "empty\n",
      "full\n",
      "empty\n",
      "full\n",
      "full\n",
      "empty\n",
      "full\n",
      "empty\n",
      "empty\n",
      "full\n",
      "empty\n",
      "empty\n",
      "full\n",
      "empty\n",
      "empty\n",
      "full\n",
      "full\n",
      "full\n",
      "full\n",
      "full\n",
      "full\n",
      "full\n",
      "full\n",
      "full\n",
      "full\n",
      "empty\n",
      "full\n",
      "full\n",
      "empty\n",
      "full\n",
      "empty\n",
      "full\n",
      "empty\n",
      "empty\n",
      "full\n",
      "empty\n",
      "empty\n",
      "empty\n",
      "full\n",
      "full\n",
      "full\n",
      "full\n",
      "empty\n",
      "empty\n",
      "empty\n",
      "empty\n",
      "full\n",
      "full\n",
      "empty\n",
      "full\n",
      "empty\n",
      "full\n",
      "empty\n",
      "full\n"
     ]
    }
   ],
   "source": [
    "ws_period_d2_data_set= dslhf.extract_data_of_interest_ipsi_contra_data_set(data_set,\n",
    "                                                                           0,2,\n",
    "                                                                           period_of_interest,\"d2 R\")"
   ]
  },
  {
   "cell_type": "code",
   "execution_count": 19,
   "metadata": {
    "scrolled": true
   },
   "outputs": [
    {
     "name": "stdout",
     "output_type": "stream",
     "text": [
      "full\n",
      "full\n",
      "full\n",
      "full\n",
      "full\n",
      "full\n",
      "full\n",
      "full\n",
      "full\n",
      "full\n",
      "full\n",
      "full\n",
      "full\n",
      "full\n",
      "full\n",
      "full\n",
      "full\n",
      "full\n",
      "full\n",
      "full\n",
      "full\n",
      "full\n",
      "full\n",
      "full\n",
      "full\n",
      "full\n",
      "full\n",
      "full\n",
      "full\n",
      "full\n",
      "full\n",
      "full\n",
      "full\n",
      "full\n",
      "full\n",
      "full\n",
      "full\n",
      "full\n",
      "full\n",
      "full\n",
      "full\n",
      "full\n",
      "full\n",
      "full\n",
      "full\n",
      "full\n",
      "full\n",
      "full\n",
      "full\n",
      "full\n",
      "full\n",
      "full\n",
      "full\n",
      "full\n",
      "full\n",
      "full\n",
      "full\n",
      "full\n",
      "full\n",
      "full\n",
      "full\n",
      "full\n",
      "full\n",
      "full\n",
      "full\n",
      "full\n",
      "full\n",
      "full\n",
      "full\n",
      "full\n",
      "full\n",
      "full\n",
      "full\n",
      "full\n",
      "full\n",
      "full\n",
      "full\n",
      "full\n",
      "full\n",
      "full\n",
      "full\n",
      "full\n",
      "full\n",
      "full\n",
      "full\n",
      "full\n",
      "full\n",
      "full\n",
      "full\n",
      "full\n",
      "full\n",
      "full\n",
      "full\n",
      "full\n",
      "full\n",
      "full\n",
      "full\n",
      "full\n",
      "full\n",
      "full\n",
      "full\n",
      "full\n",
      "full\n",
      "full\n"
     ]
    }
   ],
   "source": [
    "wr_period_d1_data_set= dslhf.extract_data_of_interest_ipsi_contra_data_set(data_set,\n",
    "                                                                           0,3,\n",
    "                                                                           period_of_interest,\"d1 R\")"
   ]
  },
  {
   "cell_type": "code",
   "execution_count": 20,
   "metadata": {
    "scrolled": true
   },
   "outputs": [
    {
     "name": "stdout",
     "output_type": "stream",
     "text": [
      "full\n",
      "full\n",
      "full\n",
      "full\n",
      "full\n",
      "full\n",
      "full\n",
      "full\n",
      "full\n",
      "full\n",
      "full\n",
      "full\n",
      "full\n",
      "full\n",
      "full\n",
      "full\n",
      "full\n",
      "full\n",
      "full\n",
      "full\n",
      "full\n",
      "full\n",
      "full\n",
      "full\n",
      "full\n",
      "full\n",
      "full\n",
      "full\n",
      "full\n",
      "full\n",
      "full\n",
      "full\n",
      "full\n",
      "full\n",
      "full\n",
      "full\n",
      "full\n",
      "full\n",
      "full\n",
      "full\n",
      "full\n",
      "full\n",
      "full\n",
      "full\n",
      "full\n",
      "full\n",
      "full\n",
      "full\n",
      "full\n",
      "full\n",
      "full\n",
      "full\n",
      "full\n",
      "full\n",
      "full\n",
      "full\n",
      "full\n",
      "full\n",
      "full\n",
      "full\n",
      "full\n",
      "full\n",
      "full\n",
      "full\n",
      "full\n",
      "full\n",
      "full\n",
      "full\n",
      "full\n",
      "full\n",
      "full\n",
      "full\n",
      "full\n",
      "full\n",
      "full\n",
      "full\n",
      "full\n",
      "full\n",
      "full\n",
      "full\n",
      "full\n",
      "full\n",
      "full\n",
      "full\n",
      "full\n",
      "full\n",
      "full\n",
      "full\n",
      "full\n",
      "full\n",
      "full\n",
      "full\n",
      "full\n",
      "full\n",
      "full\n",
      "full\n",
      "full\n",
      "full\n",
      "full\n",
      "full\n",
      "full\n",
      "full\n",
      "full\n",
      "full\n"
     ]
    }
   ],
   "source": [
    "wr_period_d2_data_set= dslhf.extract_data_of_interest_ipsi_contra_data_set(data_set,\n",
    "                                                                           0,3,\n",
    "                                                                           period_of_interest,\"d2 R\")"
   ]
  },
  {
   "cell_type": "code",
   "execution_count": 21,
   "metadata": {
    "scrolled": true
   },
   "outputs": [
    {
     "name": "stdout",
     "output_type": "stream",
     "text": [
      "full\n",
      "full\n",
      "full\n",
      "full\n",
      "full\n",
      "full\n",
      "full\n",
      "full\n",
      "full\n",
      "full\n",
      "full\n",
      "full\n",
      "full\n",
      "full\n",
      "full\n",
      "full\n",
      "full\n",
      "full\n",
      "full\n",
      "full\n",
      "full\n",
      "full\n",
      "full\n",
      "full\n",
      "full\n",
      "full\n",
      "full\n",
      "full\n",
      "full\n",
      "full\n",
      "full\n",
      "full\n",
      "full\n",
      "full\n",
      "full\n",
      "full\n",
      "full\n",
      "full\n",
      "full\n",
      "full\n",
      "full\n",
      "full\n",
      "full\n",
      "full\n",
      "full\n",
      "full\n",
      "full\n",
      "full\n",
      "full\n",
      "full\n",
      "full\n",
      "full\n",
      "full\n",
      "full\n",
      "full\n",
      "full\n",
      "full\n",
      "full\n",
      "full\n",
      "full\n",
      "full\n",
      "full\n",
      "full\n",
      "full\n",
      "full\n",
      "full\n",
      "full\n",
      "full\n",
      "full\n",
      "full\n",
      "full\n",
      "full\n",
      "full\n",
      "full\n",
      "full\n",
      "full\n",
      "full\n",
      "full\n",
      "full\n",
      "full\n",
      "full\n",
      "full\n",
      "full\n",
      "full\n",
      "full\n",
      "full\n",
      "full\n",
      "full\n",
      "full\n",
      "full\n",
      "full\n",
      "full\n",
      "full\n",
      "full\n",
      "full\n",
      "full\n",
      "full\n",
      "full\n",
      "full\n",
      "full\n",
      "full\n",
      "full\n",
      "full\n",
      "full\n"
     ]
    }
   ],
   "source": [
    "ls_period_d1_data_set= dslhf.extract_data_of_interest_ipsi_contra_data_set(data_set,\n",
    "                                                                           0,0,\n",
    "                                                                           period_of_interest,\"d1 R\")"
   ]
  },
  {
   "cell_type": "code",
   "execution_count": 22,
   "metadata": {
    "scrolled": true
   },
   "outputs": [
    {
     "name": "stdout",
     "output_type": "stream",
     "text": [
      "full\n",
      "full\n",
      "full\n",
      "full\n",
      "full\n",
      "full\n",
      "full\n",
      "full\n",
      "full\n",
      "full\n",
      "full\n",
      "full\n",
      "full\n",
      "full\n",
      "full\n",
      "full\n",
      "full\n",
      "full\n",
      "full\n",
      "full\n",
      "full\n",
      "full\n",
      "full\n",
      "full\n",
      "full\n",
      "full\n",
      "full\n",
      "full\n",
      "full\n",
      "full\n",
      "full\n",
      "full\n",
      "full\n",
      "full\n",
      "full\n",
      "full\n",
      "full\n",
      "full\n",
      "full\n",
      "full\n",
      "full\n",
      "full\n",
      "full\n",
      "full\n",
      "full\n",
      "full\n",
      "full\n",
      "full\n",
      "full\n",
      "full\n",
      "full\n",
      "full\n",
      "full\n",
      "full\n",
      "full\n",
      "full\n",
      "full\n",
      "full\n",
      "full\n",
      "full\n",
      "full\n",
      "full\n",
      "full\n",
      "full\n",
      "full\n",
      "full\n",
      "full\n",
      "full\n",
      "full\n",
      "full\n",
      "full\n",
      "full\n",
      "full\n",
      "full\n",
      "full\n",
      "full\n",
      "full\n",
      "full\n",
      "full\n",
      "full\n",
      "full\n",
      "full\n",
      "full\n",
      "full\n",
      "full\n",
      "full\n",
      "full\n",
      "full\n",
      "full\n",
      "full\n",
      "full\n",
      "full\n",
      "full\n",
      "full\n",
      "full\n",
      "full\n",
      "full\n",
      "full\n",
      "full\n",
      "full\n",
      "full\n",
      "full\n",
      "full\n",
      "full\n"
     ]
    }
   ],
   "source": [
    "ls_period_d2_data_set= dslhf.extract_data_of_interest_ipsi_contra_data_set(data_set,\n",
    "                                                                           0,0,\n",
    "                                                                           period_of_interest,\"d2 R\")"
   ]
  },
  {
   "cell_type": "code",
   "execution_count": 23,
   "metadata": {},
   "outputs": [
    {
     "name": "stdout",
     "output_type": "stream",
     "text": [
      "full\n",
      "full\n",
      "full\n",
      "full\n",
      "full\n",
      "full\n",
      "full\n",
      "full\n",
      "full\n",
      "full\n",
      "full\n",
      "full\n",
      "full\n",
      "full\n",
      "full\n",
      "full\n",
      "full\n",
      "full\n",
      "full\n",
      "full\n",
      "full\n",
      "empty\n",
      "full\n",
      "empty\n",
      "full\n",
      "empty\n",
      "full\n",
      "full\n",
      "empty\n",
      "empty\n",
      "full\n",
      "empty\n",
      "full\n",
      "full\n",
      "full\n",
      "full\n",
      "empty\n",
      "full\n",
      "full\n",
      "full\n",
      "empty\n",
      "full\n",
      "full\n",
      "full\n",
      "full\n",
      "full\n",
      "full\n",
      "full\n",
      "full\n",
      "full\n",
      "full\n",
      "full\n",
      "full\n",
      "full\n",
      "full\n",
      "full\n",
      "full\n",
      "full\n",
      "full\n",
      "empty\n",
      "empty\n",
      "full\n",
      "full\n",
      "full\n",
      "empty\n",
      "full\n",
      "full\n",
      "full\n",
      "full\n",
      "full\n",
      "full\n",
      "full\n",
      "full\n",
      "full\n",
      "full\n",
      "full\n",
      "full\n",
      "full\n",
      "full\n",
      "full\n",
      "full\n",
      "full\n",
      "full\n",
      "full\n",
      "full\n",
      "full\n",
      "full\n",
      "full\n",
      "full\n",
      "full\n",
      "full\n",
      "full\n",
      "full\n",
      "full\n",
      "full\n",
      "full\n",
      "full\n",
      "full\n",
      "full\n",
      "full\n",
      "full\n",
      "full\n",
      "full\n",
      "full\n"
     ]
    }
   ],
   "source": [
    "lr_period_d1_data_set= dslhf.extract_data_of_interest_ipsi_contra_data_set(data_set,\n",
    "                                                                           0,1,\n",
    "                                                                           period_of_interest,\"d1 R\")"
   ]
  },
  {
   "cell_type": "code",
   "execution_count": 24,
   "metadata": {},
   "outputs": [
    {
     "name": "stdout",
     "output_type": "stream",
     "text": [
      "full\n",
      "full\n",
      "full\n",
      "full\n",
      "full\n",
      "full\n",
      "full\n",
      "full\n",
      "full\n",
      "full\n",
      "full\n",
      "full\n",
      "full\n",
      "full\n",
      "full\n",
      "full\n",
      "full\n",
      "full\n",
      "full\n",
      "full\n",
      "full\n",
      "empty\n",
      "full\n",
      "empty\n",
      "full\n",
      "empty\n",
      "full\n",
      "full\n",
      "empty\n",
      "empty\n",
      "full\n",
      "empty\n",
      "full\n",
      "full\n",
      "full\n",
      "full\n",
      "empty\n",
      "full\n",
      "full\n",
      "full\n",
      "empty\n",
      "full\n",
      "full\n",
      "full\n",
      "full\n",
      "full\n",
      "full\n",
      "full\n",
      "full\n",
      "full\n",
      "full\n",
      "full\n",
      "full\n",
      "full\n",
      "full\n",
      "full\n",
      "full\n",
      "full\n",
      "full\n",
      "empty\n",
      "empty\n",
      "full\n",
      "full\n",
      "full\n",
      "empty\n",
      "full\n",
      "full\n",
      "full\n",
      "full\n",
      "full\n",
      "full\n",
      "full\n",
      "full\n",
      "full\n",
      "full\n",
      "full\n",
      "full\n",
      "full\n",
      "full\n",
      "full\n",
      "full\n",
      "full\n",
      "full\n",
      "full\n",
      "full\n",
      "full\n",
      "full\n",
      "full\n",
      "full\n",
      "full\n",
      "full\n",
      "full\n",
      "full\n",
      "full\n",
      "full\n",
      "full\n",
      "full\n",
      "full\n",
      "full\n",
      "full\n",
      "full\n",
      "full\n",
      "full\n",
      "full\n"
     ]
    }
   ],
   "source": [
    "lr_period_d2_data_set= dslhf.extract_data_of_interest_ipsi_contra_data_set(data_set,\n",
    "                                                                           0,1,\n",
    "                                                                           period_of_interest,\"d2 R\")"
   ]
  },
  {
   "cell_type": "markdown",
   "metadata": {},
   "source": [
    "combining the win repeat and win switch\n",
    "\n",
    "combining the lose switch and lose repeat"
   ]
  },
  {
   "cell_type": "code",
   "execution_count": 25,
   "metadata": {},
   "outputs": [],
   "source": [
    "def combine_data_of_interest (data_set_1, data_set_2): \n",
    "    \n",
    "    ipsi_contra_data_set_combined = []\n",
    "    \n",
    "    for session_1,session_2 in zip(data_set_1,data_set_2):\n",
    "        ipsi_contra = combine_data_of_interest_helper(session_1,session_2)\n",
    "        ipsi_contra_data_set_combined.append(ipsi_contra)\n",
    "        \n",
    "    return (ipsi_contra_data_set_combined)"
   ]
  },
  {
   "cell_type": "code",
   "execution_count": 26,
   "metadata": {},
   "outputs": [],
   "source": [
    "def combine_data_of_interest_helper (session_1, session_2):\n",
    "#combine function: \n",
    "#append the win switch (if exists) to the win repeats that do exist.\n",
    "    ipsi_combined =  pd.concat([session_1[0],session_2[0]],axis=1)\n",
    "    contra_combined =  pd.concat([session_1[1],session_2[1]],axis=1)\n",
    "\n",
    "    #contra_combined = PhotoData_perTrial_channels[rl][1][tt][period][cell_type]\n",
    "    return (ipsi_combined,contra_combined)"
   ]
  },
  {
   "cell_type": "code",
   "execution_count": 27,
   "metadata": {},
   "outputs": [],
   "source": [
    "d1_win_data_set = combine_data_of_interest (wr_period_d1_data_set,ws_period_d1_data_set)"
   ]
  },
  {
   "cell_type": "code",
   "execution_count": 28,
   "metadata": {},
   "outputs": [],
   "source": [
    "d2_win_data_set = combine_data_of_interest (wr_period_d2_data_set,ws_period_d2_data_set)"
   ]
  },
  {
   "cell_type": "code",
   "execution_count": 29,
   "metadata": {},
   "outputs": [],
   "source": [
    "d1_lose_data_set = combine_data_of_interest (ls_period_d1_data_set,lr_period_d1_data_set)"
   ]
  },
  {
   "cell_type": "code",
   "execution_count": 30,
   "metadata": {},
   "outputs": [],
   "source": [
    "d2_lose_data_set = combine_data_of_interest (ls_period_d2_data_set,lr_period_d2_data_set)"
   ]
  },
  {
   "cell_type": "code",
   "execution_count": 31,
   "metadata": {},
   "outputs": [],
   "source": [
    "def combine_directions(data_set): \n",
    "    \n",
    "    no_direction_data_set=[]\n",
    "    \n",
    "    for session in data_set:\n",
    "        ipsi_contra_combined = combine_directions_helper(session)\n",
    "        no_direction_data_set.append(ipsi_contra_combined)\n",
    "    return (no_direction_data_set)"
   ]
  },
  {
   "cell_type": "code",
   "execution_count": 32,
   "metadata": {},
   "outputs": [],
   "source": [
    "def combine_directions_helper (session):\n",
    "    ipsi_contra_combined =  pd.concat([session[0],session[1]],axis=1)\n",
    "    return (ipsi_contra_combined)"
   ]
  },
  {
   "cell_type": "code",
   "execution_count": 33,
   "metadata": {},
   "outputs": [],
   "source": [
    "d1_win_combined_dir_data_set = combine_directions (d1_win_data_set)"
   ]
  },
  {
   "cell_type": "code",
   "execution_count": 34,
   "metadata": {},
   "outputs": [],
   "source": [
    "d2_win_combined_dir_data_set = combine_directions (d2_win_data_set)"
   ]
  },
  {
   "cell_type": "code",
   "execution_count": 35,
   "metadata": {},
   "outputs": [],
   "source": [
    "d1_lose_combined_dir_data_set = combine_directions (d1_lose_data_set)"
   ]
  },
  {
   "cell_type": "code",
   "execution_count": 36,
   "metadata": {},
   "outputs": [],
   "source": [
    "d2_lose_combined_dir_data_set = combine_directions (d2_lose_data_set)"
   ]
  },
  {
   "cell_type": "markdown",
   "metadata": {},
   "source": [
    "# Calculate means per each session "
   ]
  },
  {
   "cell_type": "code",
   "execution_count": 37,
   "metadata": {},
   "outputs": [],
   "source": [
    "def calculate_mean_data_set_no_direc (no_direction_data_set): \n",
    "    \n",
    "    df_no_direction = pd.DataFrame()\n",
    "    \n",
    "    for no_direc_session in no_direction_data_set:    \n",
    "        session_no_direc_mean = no_direc_session.mean(axis=1)\n",
    "        df_no_direction = pd.concat([df_no_direction,session_no_direc_mean],axis=1)\n",
    "        \n",
    "    return (df_no_direction)"
   ]
  },
  {
   "cell_type": "code",
   "execution_count": 38,
   "metadata": {},
   "outputs": [],
   "source": [
    "d1_win_data_set_df_no_direc = calculate_mean_data_set_no_direc(d1_win_combined_dir_data_set)"
   ]
  },
  {
   "cell_type": "code",
   "execution_count": 39,
   "metadata": {},
   "outputs": [],
   "source": [
    "d2_win_data_set_df_no_direc = calculate_mean_data_set_no_direc(d2_win_combined_dir_data_set)"
   ]
  },
  {
   "cell_type": "code",
   "execution_count": 40,
   "metadata": {},
   "outputs": [],
   "source": [
    "d1_lose_data_set_df_no_direc = calculate_mean_data_set_no_direc(d1_lose_combined_dir_data_set)"
   ]
  },
  {
   "cell_type": "code",
   "execution_count": 41,
   "metadata": {},
   "outputs": [],
   "source": [
    "d2_lose_data_set_df_no_direc = calculate_mean_data_set_no_direc(d2_lose_combined_dir_data_set)"
   ]
  },
  {
   "cell_type": "markdown",
   "metadata": {},
   "source": [
    "# Calculate means and sem per mouse"
   ]
  },
  {
   "cell_type": "code",
   "execution_count": 42,
   "metadata": {},
   "outputs": [
    {
     "data": {
      "text/plain": [
       "[0, 10, 21, 39, 53, 74, 84, 93, 104]"
      ]
     },
     "execution_count": 42,
     "metadata": {},
     "output_type": "execute_result"
    }
   ],
   "source": [
    "sessionIndex_perMouse = list(map(int,sessionIndex_perMouse))\n",
    "sessionIndex_perMouse"
   ]
  },
  {
   "cell_type": "code",
   "execution_count": 43,
   "metadata": {},
   "outputs": [],
   "source": [
    "def calculate_mean_per_mouse(data_set,sessionIndex_perMouse):\n",
    "    avg_per_mouse_df = pd.DataFrame()\n",
    "    for list_index in range(len(sessionIndex_perMouse)-1):\n",
    "        avg_per_mouse = data_set.iloc[:,sessionIndex_perMouse[list_index]:sessionIndex_perMouse[list_index+1]].mean(axis=1)\n",
    "        avg_per_mouse_df = pd.concat([avg_per_mouse_df,avg_per_mouse],axis=1)\n",
    "    avg_per_mouse_df_data_set = avg_per_mouse_df.mean(axis=1)\n",
    "    return (avg_per_mouse_df,avg_per_mouse_df_data_set)"
   ]
  },
  {
   "cell_type": "code",
   "execution_count": 44,
   "metadata": {},
   "outputs": [],
   "source": [
    "d1_win_mean_per_mouse_dataset_no_direc = calculate_mean_per_mouse (d1_win_data_set_df_no_direc,\n",
    "                                                                    sessionIndex_perMouse)"
   ]
  },
  {
   "cell_type": "code",
   "execution_count": 45,
   "metadata": {},
   "outputs": [],
   "source": [
    "d2_win_mean_per_mouse_dataset_no_direc = calculate_mean_per_mouse (d2_win_data_set_df_no_direc,\n",
    "                                                                    sessionIndex_perMouse)"
   ]
  },
  {
   "cell_type": "code",
   "execution_count": 46,
   "metadata": {},
   "outputs": [],
   "source": [
    "d1_lose_mean_per_mouse_dataset_no_direc = calculate_mean_per_mouse (d1_lose_data_set_df_no_direc,\n",
    "                                                                    sessionIndex_perMouse)"
   ]
  },
  {
   "cell_type": "code",
   "execution_count": 47,
   "metadata": {},
   "outputs": [],
   "source": [
    "d2_lose_mean_per_mouse_dataset_no_direc = calculate_mean_per_mouse (d2_lose_data_set_df_no_direc,\n",
    "                                                                    sessionIndex_perMouse)"
   ]
  },
  {
   "cell_type": "markdown",
   "metadata": {},
   "source": [
    "# plots"
   ]
  },
  {
   "cell_type": "code",
   "execution_count": 48,
   "metadata": {},
   "outputs": [],
   "source": [
    "import matplotlib as mpl"
   ]
  },
  {
   "cell_type": "code",
   "execution_count": 49,
   "metadata": {},
   "outputs": [],
   "source": [
    "def plot_no_direc_lose_win_per_mouse(win_mean_per_mouse_dataset_no_direc,\n",
    "                                     lose_mean_per_mouse_dataset_no_direc,\n",
    "                                     trial_type,period_of_interest,cell_type,y_axis,path_to_plot):\n",
    "    \n",
    "    #number of sessions is the same ipsi and contra. \n",
    "    \n",
    "    \n",
    "    \n",
    "    for i in range(len(win_mean_per_mouse_dataset_no_direc[0].columns)):\n",
    "        plt.plot(win_mean_per_mouse_dataset_no_direc[0].iloc[:,i],color='blue', linewidth=0.2,alpha=0.5)\n",
    "        plt.plot(lose_mean_per_mouse_dataset_no_direc[0].iloc[:,i],color='orange', linewidth=0.2,alpha=0.5)\n",
    "        \n",
    "        print (\"ok\")\n",
    "    \n",
    "    plt.plot(win_mean_per_mouse_dataset_no_direc[1],linewidth=2.5, label=\"win_no_direc\")\n",
    "    plt.plot(lose_mean_per_mouse_dataset_no_direc[1],linewidth=2.5, label=\"lose_no_direc\")\n",
    "    \n",
    "#     plt.axvline(x=200,color='k')\n",
    "#     plt.axhline(y=1.5,color='k')\n",
    "    plt.ylim([-1,2.5])\n",
    "    \n",
    "    \n",
    "    \n",
    "    # Add legend\n",
    "    plt.legend(loc='upper right')\n",
    "\n",
    "    # Add title and x, y labels\n",
    "    title = trial_type+\"_\"+\"(\"+period_of_interest+\")\"\n",
    "    plt.title(title, fontsize=16, fontweight='bold')\n",
    "    plt.suptitle(cell_type, fontsize=16)\n",
    "\n",
    "    plt.xlabel(\"time_bins\")\n",
    "    \n",
    "    #the y axis is defined in the paper mill. This allows to run 7_b with 3a,3b,3c and any future 3s, easliy changing the \n",
    "    #the name of the y axis to not cause confusion. \n",
    "    plt.ylabel(y_axis)\n",
    "    plt.savefig(path_to_plot+\"/\"+\"_\"+trial_type+cell_type+\"_\"+period_of_interest+'.pdf')\n",
    "    plt.show()"
   ]
  },
  {
   "cell_type": "code",
   "execution_count": 50,
   "metadata": {
    "scrolled": false
   },
   "outputs": [
    {
     "name": "stdout",
     "output_type": "stream",
     "text": [
      "ok\n",
      "ok\n",
      "ok\n",
      "ok\n",
      "ok\n",
      "ok\n",
      "ok\n",
      "ok\n"
     ]
    },
    {
     "data": {
      "image/png": "[encoded data removed]",
      "text/plain": [
       "<Figure size 432x288 with 1 Axes>"
      ]
     },
     "metadata": {
      "needs_background": "light"
     },
     "output_type": "display_data"
    }
   ],
   "source": [
    "plot_no_direc_lose_win_per_mouse(d1_win_mean_per_mouse_dataset_no_direc,\n",
    "                                 d1_lose_mean_per_mouse_dataset_no_direc,\n",
    "                                 \"right_win_lose_no_direc_per_mouse\",\n",
    "                                 period_of_interest,\n",
    "                                 \"D1\",\n",
    "                                 y_axis,cache_dir_plt)"
   ]
  },
  {
   "cell_type": "code",
   "execution_count": 51,
   "metadata": {
    "scrolled": true
   },
   "outputs": [
    {
     "name": "stdout",
     "output_type": "stream",
     "text": [
      "ok\n",
      "ok\n",
      "ok\n",
      "ok\n",
      "ok\n",
      "ok\n",
      "ok\n",
      "ok\n"
     ]
    },
    {
     "data": {
      "image/png": "[encoded data removed]",
      "text/plain": [
       "<Figure size 432x288 with 1 Axes>"
      ]
     },
     "metadata": {
      "needs_background": "light"
     },
     "output_type": "display_data"
    }
   ],
   "source": [
    "plot_no_direc_lose_win_per_mouse(d2_win_mean_per_mouse_dataset_no_direc,\n",
    "                                 d2_lose_mean_per_mouse_dataset_no_direc,\n",
    "                                 \"right_win_lose_no_direc_per_mouse\",\n",
    "                                 period_of_interest,\n",
    "                                 \"D2\",\n",
    "                                 y_axis,cache_dir_plt)"
   ]
  },
  {
   "cell_type": "code",
   "execution_count": null,
   "metadata": {},
   "outputs": [],
   "source": []
  }
 ],
 "metadata": {
  "celltoolbar": "Tags",
  "kernelspec": {
   "display_name": "Python 3",
   "language": "python",
   "name": "python3"
  },
  "language_info": {
   "codemirror_mode": {
    "name": "ipython",
    "version": 3
   },
   "file_extension": ".py",
   "mimetype": "text/x-python",
   "name": "python",
   "nbconvert_exporter": "python",
   "pygments_lexer": "ipython3",
   "version": "3.7.3"
  }
 },
 "nbformat": 4,
 "nbformat_minor": 4
}
