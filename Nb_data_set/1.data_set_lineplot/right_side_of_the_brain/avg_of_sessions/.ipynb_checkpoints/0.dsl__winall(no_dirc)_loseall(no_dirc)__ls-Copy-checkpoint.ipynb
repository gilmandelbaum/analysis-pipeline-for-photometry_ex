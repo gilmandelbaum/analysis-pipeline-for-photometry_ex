{
 "cells": [
  {
   "cell_type": "code",
   "execution_count": 1,
   "metadata": {},
   "outputs": [],
   "source": [
    "import pickle\n",
    "from pathlib import Path\n",
    "import pandas as pd \n",
    "import os\n",
    "import sys\n",
    "import matplotlib.pyplot as plt\n",
    "import getpass"
   ]
  },
  {
   "cell_type": "code",
   "execution_count": 2,
   "metadata": {},
   "outputs": [
    {
     "name": "stdout",
     "output_type": "stream",
     "text": [
      "gilmandelbaum\n"
     ]
    }
   ],
   "source": [
    "#add the github path that will run the notebooks: \n",
    "username = getpass.getuser() # gets the username from the current comp \n",
    "print (username)"
   ]
  },
  {
   "cell_type": "code",
   "execution_count": 3,
   "metadata": {},
   "outputs": [],
   "source": [
    "sys.path.insert(0,'/Users/{:}/github/analysis-pipeline-for-photometry_ex/Nb_data_set/1.data_set_lineplot'.format(username))"
   ]
  },
  {
   "cell_type": "code",
   "execution_count": 4,
   "metadata": {},
   "outputs": [
    {
     "data": {
      "text/plain": [
       "'/Users/gilmandelbaum/github/analysis-pipeline-for-photometry_ex/Nb_data_set/1.data_set_lineplot'"
      ]
     },
     "execution_count": 4,
     "metadata": {},
     "output_type": "execute_result"
    }
   ],
   "source": [
    "sys.path[0]"
   ]
  },
  {
   "cell_type": "code",
   "execution_count": 5,
   "metadata": {},
   "outputs": [],
   "source": [
    "import data_set_lineplot_ic_together_helper_functions as dslhf"
   ]
  },
  {
   "cell_type": "code",
   "execution_count": 61,
   "metadata": {
    "tags": [
     "parameters"
    ]
   },
   "outputs": [],
   "source": [
    "seq_str = '0a1b2a3b4abcd5a6a7a'\n",
    "period_of_interest = \"combined_periods_1\"\n",
    "HowManyBasck=1\n",
    "folderName=\"right_dual_color_photo_full_data_set_after_inspection\" #folder where the plot data_set will be saved \n",
    "path_to_load_data = \"/Volumes/GilInVivoPaper.large/2.Photometry_in_str/1.lateral_medial_6_analysis//right_dual_color_photo_full_data/0a1b2a3b4abcd5a6a7a\"\n",
    "sessionIndex_perMouse = [0, 10, 21, 39, 53, 74, 84, 93, 104]"
   ]
  },
  {
   "cell_type": "markdown",
   "metadata": {},
   "source": [
    "# Folder name of analysis: "
   ]
  },
  {
   "cell_type": "code",
   "execution_count": 7,
   "metadata": {},
   "outputs": [],
   "source": [
    "analysis_type =\"0.dsl__winall(no_dirc)_loseall(no_dirc)__rs\""
   ]
  },
  {
   "cell_type": "code",
   "execution_count": 8,
   "metadata": {},
   "outputs": [
    {
     "data": {
      "text/plain": [
       "'/anaconda3/bin/python3'"
      ]
     },
     "execution_count": 8,
     "metadata": {},
     "output_type": "execute_result"
    }
   ],
   "source": [
    "sys.executable"
   ]
  },
  {
   "cell_type": "markdown",
   "metadata": {},
   "source": [
    "# Import the data and where to save it "
   ]
  },
  {
   "cell_type": "code",
   "execution_count": 9,
   "metadata": {},
   "outputs": [],
   "source": [
    "path_to_save_plots = path_to_load_data+\"/\"+\"line_plots\"+\"/\"+analysis_type "
   ]
  },
  {
   "cell_type": "code",
   "execution_count": 10,
   "metadata": {},
   "outputs": [
    {
     "data": {
      "text/plain": [
       "'/Volumes/GilInVivoPaper.large/2.Photometry_in_str/1.lateral_medial_6_analysis//right_dual_color_photo_full_data/0a1b2a3b4abcd5a6a7a/line_plots/0.dsl__winall(no_dirc)_loseall(no_dirc)__rs'"
      ]
     },
     "execution_count": 10,
     "metadata": {},
     "output_type": "execute_result"
    }
   ],
   "source": [
    "path_to_save_plots"
   ]
  },
  {
   "cell_type": "markdown",
   "metadata": {},
   "source": [
    "# Import the data and where to save it "
   ]
  },
  {
   "cell_type": "code",
   "execution_count": 11,
   "metadata": {},
   "outputs": [
    {
     "name": "stdout",
     "output_type": "stream",
     "text": [
      "CPU times: user 42.9 s, sys: 5.48 s, total: 48.4 s\n",
      "Wall time: 1min 26s\n"
     ]
    }
   ],
   "source": [
    "%%time\n",
    "root = Path(path_to_load_data)\n",
    "d = \"data_object_photometry_after_processing\"+\"_\"+seq_str+'.pickle'\n",
    "my_path = root / d \n",
    "fileToOpen = open(my_path, 'rb')\n",
    "data_set = pickle.load(fileToOpen)"
   ]
  },
  {
   "cell_type": "code",
   "execution_count": null,
   "metadata": {},
   "outputs": [],
   "source": []
  },
  {
   "cell_type": "code",
   "execution_count": 12,
   "metadata": {},
   "outputs": [],
   "source": [
    "y_axis_list = [\"df_f\",\"z_score\",\"z_score_sliding_window\"]"
   ]
  },
  {
   "cell_type": "code",
   "execution_count": 13,
   "metadata": {},
   "outputs": [
    {
     "name": "stdout",
     "output_type": "stream",
     "text": [
      "z_score\n"
     ]
    }
   ],
   "source": [
    "alphabet = [\"a\",\"b\",\"c\",\"d\",\"e\",\"f\",\"g\"]\n",
    "y_axis = y_axis_list[alphabet.index(seq_str[:seq_str.index('4')][-1])]\n",
    "print (y_axis)"
   ]
  },
  {
   "cell_type": "code",
   "execution_count": null,
   "metadata": {},
   "outputs": [],
   "source": []
  },
  {
   "cell_type": "code",
   "execution_count": 14,
   "metadata": {},
   "outputs": [],
   "source": [
    "# stash result in a cache directory, for how many back. \n",
    "cache_dir_plt = os.path.join(path_to_save_plots,period_of_interest)\n",
    "if not os.path.exists(cache_dir_plt):\n",
    "    os.makedirs(cache_dir_plt)"
   ]
  },
  {
   "cell_type": "code",
   "execution_count": 15,
   "metadata": {},
   "outputs": [
    {
     "data": {
      "text/plain": [
       "'/Volumes/GilInVivoPaper.large/2.Photometry_in_str/1.lateral_medial_6_analysis//right_dual_color_photo_full_data/0a1b2a3b4abcd5a6a7a/line_plots/0.dsl__winall(no_dirc)_loseall(no_dirc)__rs/combined_periods_1'"
      ]
     },
     "execution_count": 15,
     "metadata": {},
     "output_type": "execute_result"
    }
   ],
   "source": [
    "cache_dir_plt"
   ]
  },
  {
   "cell_type": "markdown",
   "metadata": {},
   "source": [
    "# generate data sets of interest"
   ]
  },
  {
   "cell_type": "code",
   "execution_count": null,
   "metadata": {},
   "outputs": [],
   "source": [
    "#combinations = [(2, 2), (2, 1), (1, 2), (1, 1)]"
   ]
  },
  {
   "cell_type": "code",
   "execution_count": 16,
   "metadata": {
    "scrolled": true
   },
   "outputs": [
    {
     "name": "stdout",
     "output_type": "stream",
     "text": [
      "empty\n",
      "empty\n",
      "full\n",
      "empty\n",
      "full\n",
      "full\n",
      "full\n",
      "empty\n",
      "empty\n",
      "empty\n",
      "full\n",
      "empty\n",
      "empty\n",
      "full\n",
      "full\n",
      "empty\n",
      "full\n",
      "empty\n",
      "empty\n",
      "empty\n",
      "empty\n",
      "full\n",
      "full\n",
      "empty\n",
      "full\n",
      "full\n",
      "empty\n",
      "empty\n",
      "full\n",
      "full\n",
      "full\n",
      "full\n",
      "empty\n",
      "empty\n",
      "empty\n",
      "full\n",
      "empty\n",
      "full\n",
      "full\n",
      "empty\n",
      "full\n",
      "empty\n",
      "empty\n",
      "empty\n",
      "empty\n",
      "full\n",
      "empty\n",
      "empty\n",
      "empty\n",
      "empty\n",
      "empty\n",
      "full\n",
      "empty\n",
      "full\n",
      "full\n",
      "empty\n",
      "full\n",
      "empty\n",
      "empty\n",
      "full\n",
      "empty\n",
      "empty\n",
      "full\n",
      "empty\n",
      "empty\n",
      "full\n",
      "full\n",
      "full\n",
      "full\n",
      "full\n",
      "full\n",
      "full\n",
      "full\n",
      "full\n",
      "full\n",
      "empty\n",
      "full\n",
      "full\n",
      "empty\n",
      "full\n",
      "empty\n",
      "full\n",
      "empty\n",
      "empty\n",
      "full\n",
      "empty\n",
      "empty\n",
      "empty\n",
      "full\n",
      "full\n",
      "full\n",
      "full\n",
      "empty\n",
      "empty\n",
      "empty\n",
      "empty\n",
      "full\n",
      "full\n",
      "empty\n",
      "full\n",
      "empty\n",
      "full\n",
      "empty\n",
      "full\n"
     ]
    }
   ],
   "source": [
    "r_ws_period_d1_data_set= dslhf.extract_data_of_interest_ipsi_contra_data_set(data_set,\n",
    "                                                                           0,2,\n",
    "                                                                           period_of_interest,\"d1 R\")"
   ]
  },
  {
   "cell_type": "code",
   "execution_count": 17,
   "metadata": {
    "scrolled": true
   },
   "outputs": [
    {
     "name": "stdout",
     "output_type": "stream",
     "text": [
      "empty\n",
      "empty\n",
      "full\n",
      "empty\n",
      "full\n",
      "full\n",
      "full\n",
      "empty\n",
      "empty\n",
      "empty\n",
      "full\n",
      "empty\n",
      "empty\n",
      "full\n",
      "full\n",
      "empty\n",
      "full\n",
      "empty\n",
      "empty\n",
      "empty\n",
      "empty\n",
      "full\n",
      "full\n",
      "empty\n",
      "full\n",
      "full\n",
      "empty\n",
      "empty\n",
      "full\n",
      "full\n",
      "full\n",
      "full\n",
      "empty\n",
      "empty\n",
      "empty\n",
      "full\n",
      "empty\n",
      "full\n",
      "full\n",
      "empty\n",
      "full\n",
      "empty\n",
      "empty\n",
      "empty\n",
      "empty\n",
      "full\n",
      "empty\n",
      "empty\n",
      "empty\n",
      "empty\n",
      "empty\n",
      "full\n",
      "empty\n",
      "full\n",
      "full\n",
      "empty\n",
      "full\n",
      "empty\n",
      "empty\n",
      "full\n",
      "empty\n",
      "empty\n",
      "full\n",
      "empty\n",
      "empty\n",
      "full\n",
      "full\n",
      "full\n",
      "full\n",
      "full\n",
      "full\n",
      "full\n",
      "full\n",
      "full\n",
      "full\n",
      "empty\n",
      "full\n",
      "full\n",
      "empty\n",
      "full\n",
      "empty\n",
      "full\n",
      "empty\n",
      "empty\n",
      "full\n",
      "empty\n",
      "empty\n",
      "empty\n",
      "full\n",
      "full\n",
      "full\n",
      "full\n",
      "empty\n",
      "empty\n",
      "empty\n",
      "empty\n",
      "full\n",
      "full\n",
      "empty\n",
      "full\n",
      "empty\n",
      "full\n",
      "empty\n",
      "full\n"
     ]
    }
   ],
   "source": [
    "r_ws_period_d2_data_set= dslhf.extract_data_of_interest_ipsi_contra_data_set(data_set,\n",
    "                                                                           0,2,\n",
    "                                                                           period_of_interest,\"d2 R\")"
   ]
  },
  {
   "cell_type": "code",
   "execution_count": 18,
   "metadata": {
    "scrolled": true
   },
   "outputs": [
    {
     "name": "stdout",
     "output_type": "stream",
     "text": [
      "full\n",
      "full\n",
      "full\n",
      "full\n",
      "full\n",
      "full\n",
      "full\n",
      "full\n",
      "full\n",
      "full\n",
      "full\n",
      "full\n",
      "full\n",
      "full\n",
      "full\n",
      "full\n",
      "full\n",
      "full\n",
      "full\n",
      "full\n",
      "full\n",
      "full\n",
      "full\n",
      "full\n",
      "full\n",
      "full\n",
      "full\n",
      "full\n",
      "full\n",
      "full\n",
      "full\n",
      "full\n",
      "full\n",
      "full\n",
      "full\n",
      "full\n",
      "full\n",
      "full\n",
      "full\n",
      "full\n",
      "full\n",
      "full\n",
      "full\n",
      "full\n",
      "full\n",
      "full\n",
      "full\n",
      "full\n",
      "full\n",
      "full\n",
      "full\n",
      "full\n",
      "full\n",
      "full\n",
      "full\n",
      "full\n",
      "full\n",
      "full\n",
      "full\n",
      "full\n",
      "full\n",
      "full\n",
      "full\n",
      "full\n",
      "full\n",
      "full\n",
      "full\n",
      "full\n",
      "full\n",
      "full\n",
      "full\n",
      "full\n",
      "full\n",
      "full\n",
      "full\n",
      "full\n",
      "full\n",
      "full\n",
      "full\n",
      "full\n",
      "full\n",
      "full\n",
      "full\n",
      "full\n",
      "full\n",
      "full\n",
      "full\n",
      "full\n",
      "full\n",
      "full\n",
      "full\n",
      "full\n",
      "full\n",
      "full\n",
      "full\n",
      "full\n",
      "full\n",
      "full\n",
      "full\n",
      "full\n",
      "full\n",
      "full\n",
      "full\n",
      "full\n"
     ]
    }
   ],
   "source": [
    "r_wr_period_d1_data_set= dslhf.extract_data_of_interest_ipsi_contra_data_set(data_set,\n",
    "                                                                           0,3,\n",
    "                                                                           period_of_interest,\"d1 R\")"
   ]
  },
  {
   "cell_type": "code",
   "execution_count": 19,
   "metadata": {
    "scrolled": true
   },
   "outputs": [
    {
     "name": "stdout",
     "output_type": "stream",
     "text": [
      "full\n",
      "full\n",
      "full\n",
      "full\n",
      "full\n",
      "full\n",
      "full\n",
      "full\n",
      "full\n",
      "full\n",
      "full\n",
      "full\n",
      "full\n",
      "full\n",
      "full\n",
      "full\n",
      "full\n",
      "full\n",
      "full\n",
      "full\n",
      "full\n",
      "full\n",
      "full\n",
      "full\n",
      "full\n",
      "full\n",
      "full\n",
      "full\n",
      "full\n",
      "full\n",
      "full\n",
      "full\n",
      "full\n",
      "full\n",
      "full\n",
      "full\n",
      "full\n",
      "full\n",
      "full\n",
      "full\n",
      "full\n",
      "full\n",
      "full\n",
      "full\n",
      "full\n",
      "full\n",
      "full\n",
      "full\n",
      "full\n",
      "full\n",
      "full\n",
      "full\n",
      "full\n",
      "full\n",
      "full\n",
      "full\n",
      "full\n",
      "full\n",
      "full\n",
      "full\n",
      "full\n",
      "full\n",
      "full\n",
      "full\n",
      "full\n",
      "full\n",
      "full\n",
      "full\n",
      "full\n",
      "full\n",
      "full\n",
      "full\n",
      "full\n",
      "full\n",
      "full\n",
      "full\n",
      "full\n",
      "full\n",
      "full\n",
      "full\n",
      "full\n",
      "full\n",
      "full\n",
      "full\n",
      "full\n",
      "full\n",
      "full\n",
      "full\n",
      "full\n",
      "full\n",
      "full\n",
      "full\n",
      "full\n",
      "full\n",
      "full\n",
      "full\n",
      "full\n",
      "full\n",
      "full\n",
      "full\n",
      "full\n",
      "full\n",
      "full\n",
      "full\n"
     ]
    }
   ],
   "source": [
    "r_wr_period_d2_data_set= dslhf.extract_data_of_interest_ipsi_contra_data_set(data_set,\n",
    "                                                                           0,3,\n",
    "                                                                           period_of_interest,\"d2 R\")"
   ]
  },
  {
   "cell_type": "code",
   "execution_count": 20,
   "metadata": {
    "scrolled": true
   },
   "outputs": [
    {
     "name": "stdout",
     "output_type": "stream",
     "text": [
      "full\n",
      "full\n",
      "full\n",
      "full\n",
      "full\n",
      "full\n",
      "full\n",
      "full\n",
      "full\n",
      "full\n",
      "full\n",
      "full\n",
      "full\n",
      "full\n",
      "full\n",
      "full\n",
      "full\n",
      "full\n",
      "full\n",
      "full\n",
      "full\n",
      "full\n",
      "full\n",
      "full\n",
      "full\n",
      "full\n",
      "full\n",
      "full\n",
      "full\n",
      "full\n",
      "full\n",
      "full\n",
      "full\n",
      "full\n",
      "full\n",
      "full\n",
      "full\n",
      "full\n",
      "full\n",
      "full\n",
      "full\n",
      "full\n",
      "full\n",
      "full\n",
      "full\n",
      "full\n",
      "full\n",
      "full\n",
      "full\n",
      "full\n",
      "full\n",
      "full\n",
      "full\n",
      "full\n",
      "full\n",
      "full\n",
      "full\n",
      "full\n",
      "full\n",
      "full\n",
      "full\n",
      "full\n",
      "full\n",
      "full\n",
      "full\n",
      "full\n",
      "full\n",
      "full\n",
      "full\n",
      "full\n",
      "full\n",
      "full\n",
      "full\n",
      "full\n",
      "full\n",
      "full\n",
      "full\n",
      "full\n",
      "full\n",
      "full\n",
      "full\n",
      "full\n",
      "full\n",
      "full\n",
      "full\n",
      "full\n",
      "full\n",
      "full\n",
      "full\n",
      "full\n",
      "full\n",
      "full\n",
      "full\n",
      "full\n",
      "full\n",
      "full\n",
      "full\n",
      "full\n",
      "full\n",
      "full\n",
      "full\n",
      "full\n",
      "full\n",
      "full\n"
     ]
    }
   ],
   "source": [
    "r_ls_period_d1_data_set= dslhf.extract_data_of_interest_ipsi_contra_data_set(data_set,\n",
    "                                                                           0,0,\n",
    "                                                                           period_of_interest,\"d1 R\")"
   ]
  },
  {
   "cell_type": "code",
   "execution_count": 21,
   "metadata": {
    "scrolled": true
   },
   "outputs": [
    {
     "name": "stdout",
     "output_type": "stream",
     "text": [
      "full\n",
      "full\n",
      "full\n",
      "full\n",
      "full\n",
      "full\n",
      "full\n",
      "full\n",
      "full\n",
      "full\n",
      "full\n",
      "full\n",
      "full\n",
      "full\n",
      "full\n",
      "full\n",
      "full\n",
      "full\n",
      "full\n",
      "full\n",
      "full\n",
      "full\n",
      "full\n",
      "full\n",
      "full\n",
      "full\n",
      "full\n",
      "full\n",
      "full\n",
      "full\n",
      "full\n",
      "full\n",
      "full\n",
      "full\n",
      "full\n",
      "full\n",
      "full\n",
      "full\n",
      "full\n",
      "full\n",
      "full\n",
      "full\n",
      "full\n",
      "full\n",
      "full\n",
      "full\n",
      "full\n",
      "full\n",
      "full\n",
      "full\n",
      "full\n",
      "full\n",
      "full\n",
      "full\n",
      "full\n",
      "full\n",
      "full\n",
      "full\n",
      "full\n",
      "full\n",
      "full\n",
      "full\n",
      "full\n",
      "full\n",
      "full\n",
      "full\n",
      "full\n",
      "full\n",
      "full\n",
      "full\n",
      "full\n",
      "full\n",
      "full\n",
      "full\n",
      "full\n",
      "full\n",
      "full\n",
      "full\n",
      "full\n",
      "full\n",
      "full\n",
      "full\n",
      "full\n",
      "full\n",
      "full\n",
      "full\n",
      "full\n",
      "full\n",
      "full\n",
      "full\n",
      "full\n",
      "full\n",
      "full\n",
      "full\n",
      "full\n",
      "full\n",
      "full\n",
      "full\n",
      "full\n",
      "full\n",
      "full\n",
      "full\n",
      "full\n",
      "full\n"
     ]
    }
   ],
   "source": [
    "r_ls_period_d2_data_set= dslhf.extract_data_of_interest_ipsi_contra_data_set(data_set,\n",
    "                                                                           0,0,\n",
    "                                                                           period_of_interest,\"d2 R\")"
   ]
  },
  {
   "cell_type": "code",
   "execution_count": 22,
   "metadata": {},
   "outputs": [
    {
     "name": "stdout",
     "output_type": "stream",
     "text": [
      "full\n",
      "full\n",
      "full\n",
      "full\n",
      "full\n",
      "full\n",
      "full\n",
      "full\n",
      "full\n",
      "full\n",
      "full\n",
      "full\n",
      "full\n",
      "full\n",
      "full\n",
      "full\n",
      "full\n",
      "full\n",
      "full\n",
      "full\n",
      "full\n",
      "empty\n",
      "full\n",
      "empty\n",
      "full\n",
      "empty\n",
      "full\n",
      "full\n",
      "empty\n",
      "empty\n",
      "full\n",
      "empty\n",
      "full\n",
      "full\n",
      "full\n",
      "full\n",
      "empty\n",
      "full\n",
      "full\n",
      "full\n",
      "empty\n",
      "full\n",
      "full\n",
      "full\n",
      "full\n",
      "full\n",
      "full\n",
      "full\n",
      "full\n",
      "full\n",
      "full\n",
      "full\n",
      "full\n",
      "full\n",
      "full\n",
      "full\n",
      "full\n",
      "full\n",
      "full\n",
      "empty\n",
      "empty\n",
      "full\n",
      "full\n",
      "full\n",
      "empty\n",
      "full\n",
      "full\n",
      "full\n",
      "full\n",
      "full\n",
      "full\n",
      "full\n",
      "full\n",
      "full\n",
      "full\n",
      "full\n",
      "full\n",
      "full\n",
      "full\n",
      "full\n",
      "full\n",
      "full\n",
      "full\n",
      "full\n",
      "full\n",
      "full\n",
      "full\n",
      "full\n",
      "full\n",
      "full\n",
      "full\n",
      "full\n",
      "full\n",
      "full\n",
      "full\n",
      "full\n",
      "full\n",
      "full\n",
      "full\n",
      "full\n",
      "full\n",
      "full\n",
      "full\n",
      "full\n"
     ]
    }
   ],
   "source": [
    "r_lr_period_d1_data_set= dslhf.extract_data_of_interest_ipsi_contra_data_set(data_set,\n",
    "                                                                           0,1,\n",
    "                                                                           period_of_interest,\"d1 R\")"
   ]
  },
  {
   "cell_type": "code",
   "execution_count": 23,
   "metadata": {
    "scrolled": true
   },
   "outputs": [
    {
     "name": "stdout",
     "output_type": "stream",
     "text": [
      "full\n",
      "full\n",
      "full\n",
      "full\n",
      "full\n",
      "full\n",
      "full\n",
      "full\n",
      "full\n",
      "full\n",
      "full\n",
      "full\n",
      "full\n",
      "full\n",
      "full\n",
      "full\n",
      "full\n",
      "full\n",
      "full\n",
      "full\n",
      "full\n",
      "empty\n",
      "full\n",
      "empty\n",
      "full\n",
      "empty\n",
      "full\n",
      "full\n",
      "empty\n",
      "empty\n",
      "full\n",
      "empty\n",
      "full\n",
      "full\n",
      "full\n",
      "full\n",
      "empty\n",
      "full\n",
      "full\n",
      "full\n",
      "empty\n",
      "full\n",
      "full\n",
      "full\n",
      "full\n",
      "full\n",
      "full\n",
      "full\n",
      "full\n",
      "full\n",
      "full\n",
      "full\n",
      "full\n",
      "full\n",
      "full\n",
      "full\n",
      "full\n",
      "full\n",
      "full\n",
      "empty\n",
      "empty\n",
      "full\n",
      "full\n",
      "full\n",
      "empty\n",
      "full\n",
      "full\n",
      "full\n",
      "full\n",
      "full\n",
      "full\n",
      "full\n",
      "full\n",
      "full\n",
      "full\n",
      "full\n",
      "full\n",
      "full\n",
      "full\n",
      "full\n",
      "full\n",
      "full\n",
      "full\n",
      "full\n",
      "full\n",
      "full\n",
      "full\n",
      "full\n",
      "full\n",
      "full\n",
      "full\n",
      "full\n",
      "full\n",
      "full\n",
      "full\n",
      "full\n",
      "full\n",
      "full\n",
      "full\n",
      "full\n",
      "full\n",
      "full\n",
      "full\n",
      "full\n"
     ]
    }
   ],
   "source": [
    "r_lr_period_d2_data_set= dslhf.extract_data_of_interest_ipsi_contra_data_set(data_set,\n",
    "                                                                           0,1,\n",
    "                                                                           period_of_interest,\"d2 R\")"
   ]
  },
  {
   "cell_type": "code",
   "execution_count": 26,
   "metadata": {},
   "outputs": [
    {
     "data": {
      "text/html": [
       "<div>\n",
       "<style scoped>\n",
       "    .dataframe tbody tr th:only-of-type {\n",
       "        vertical-align: middle;\n",
       "    }\n",
       "\n",
       "    .dataframe tbody tr th {\n",
       "        vertical-align: top;\n",
       "    }\n",
       "\n",
       "    .dataframe thead th {\n",
       "        text-align: right;\n",
       "    }\n",
       "</style>\n",
       "<table border=\"1\" class=\"dataframe\">\n",
       "  <thead>\n",
       "    <tr style=\"text-align: right;\">\n",
       "      <th></th>\n",
       "      <th>30.0</th>\n",
       "      <th>31.0</th>\n",
       "      <th>47.0</th>\n",
       "      <th>48.0</th>\n",
       "      <th>63.0</th>\n",
       "      <th>78.0</th>\n",
       "      <th>101.0</th>\n",
       "      <th>167.0</th>\n",
       "      <th>184.0</th>\n",
       "      <th>185.0</th>\n",
       "      <th>197.0</th>\n",
       "      <th>211.0</th>\n",
       "      <th>212.0</th>\n",
       "      <th>227.0</th>\n",
       "      <th>244.0</th>\n",
       "      <th>245.0</th>\n",
       "      <th>246.0</th>\n",
       "    </tr>\n",
       "  </thead>\n",
       "  <tbody>\n",
       "    <tr>\n",
       "      <th>0</th>\n",
       "      <td>0.341026</td>\n",
       "      <td>-1.289103</td>\n",
       "      <td>-0.818746</td>\n",
       "      <td>-0.358136</td>\n",
       "      <td>-1.790968</td>\n",
       "      <td>-0.540252</td>\n",
       "      <td>-0.202135</td>\n",
       "      <td>0.526419</td>\n",
       "      <td>-0.510162</td>\n",
       "      <td>-1.125650</td>\n",
       "      <td>-0.488141</td>\n",
       "      <td>-0.779285</td>\n",
       "      <td>-1.200270</td>\n",
       "      <td>0.112301</td>\n",
       "      <td>-1.637680</td>\n",
       "      <td>-0.387799</td>\n",
       "      <td>-1.221865</td>\n",
       "    </tr>\n",
       "    <tr>\n",
       "      <th>1</th>\n",
       "      <td>0.268832</td>\n",
       "      <td>-1.311684</td>\n",
       "      <td>-0.774149</td>\n",
       "      <td>-0.363895</td>\n",
       "      <td>-1.755471</td>\n",
       "      <td>-0.525174</td>\n",
       "      <td>-0.185990</td>\n",
       "      <td>0.498979</td>\n",
       "      <td>-0.518230</td>\n",
       "      <td>-1.103391</td>\n",
       "      <td>-0.447548</td>\n",
       "      <td>-0.795670</td>\n",
       "      <td>-1.211606</td>\n",
       "      <td>0.076319</td>\n",
       "      <td>-1.614917</td>\n",
       "      <td>-0.377197</td>\n",
       "      <td>-1.277857</td>\n",
       "    </tr>\n",
       "    <tr>\n",
       "      <th>2</th>\n",
       "      <td>0.186859</td>\n",
       "      <td>-1.339702</td>\n",
       "      <td>-0.741761</td>\n",
       "      <td>-0.379996</td>\n",
       "      <td>-1.715120</td>\n",
       "      <td>-0.510773</td>\n",
       "      <td>-0.170984</td>\n",
       "      <td>0.475232</td>\n",
       "      <td>-0.526922</td>\n",
       "      <td>-1.079163</td>\n",
       "      <td>-0.395845</td>\n",
       "      <td>-0.810693</td>\n",
       "      <td>-1.227598</td>\n",
       "      <td>0.045542</td>\n",
       "      <td>-1.582341</td>\n",
       "      <td>-0.367787</td>\n",
       "      <td>-1.327397</td>\n",
       "    </tr>\n",
       "    <tr>\n",
       "      <th>3</th>\n",
       "      <td>0.099730</td>\n",
       "      <td>-1.375385</td>\n",
       "      <td>-0.711453</td>\n",
       "      <td>-0.396107</td>\n",
       "      <td>-1.680086</td>\n",
       "      <td>-0.502796</td>\n",
       "      <td>-0.148535</td>\n",
       "      <td>0.443123</td>\n",
       "      <td>-0.542198</td>\n",
       "      <td>-1.057888</td>\n",
       "      <td>-0.349141</td>\n",
       "      <td>-0.826550</td>\n",
       "      <td>-1.242415</td>\n",
       "      <td>0.007971</td>\n",
       "      <td>-1.546405</td>\n",
       "      <td>-0.360583</td>\n",
       "      <td>-1.374458</td>\n",
       "    </tr>\n",
       "    <tr>\n",
       "      <th>4</th>\n",
       "      <td>0.005391</td>\n",
       "      <td>-1.415001</td>\n",
       "      <td>-0.692135</td>\n",
       "      <td>-0.420431</td>\n",
       "      <td>-1.641540</td>\n",
       "      <td>-0.494711</td>\n",
       "      <td>-0.129206</td>\n",
       "      <td>0.415674</td>\n",
       "      <td>-0.552207</td>\n",
       "      <td>-1.034802</td>\n",
       "      <td>-0.290235</td>\n",
       "      <td>-0.839842</td>\n",
       "      <td>-1.261470</td>\n",
       "      <td>-0.025996</td>\n",
       "      <td>-1.502909</td>\n",
       "      <td>-0.357233</td>\n",
       "      <td>-1.412034</td>\n",
       "    </tr>\n",
       "    <tr>\n",
       "      <th>...</th>\n",
       "      <td>...</td>\n",
       "      <td>...</td>\n",
       "      <td>...</td>\n",
       "      <td>...</td>\n",
       "      <td>...</td>\n",
       "      <td>...</td>\n",
       "      <td>...</td>\n",
       "      <td>...</td>\n",
       "      <td>...</td>\n",
       "      <td>...</td>\n",
       "      <td>...</td>\n",
       "      <td>...</td>\n",
       "      <td>...</td>\n",
       "      <td>...</td>\n",
       "      <td>...</td>\n",
       "      <td>...</td>\n",
       "      <td>...</td>\n",
       "    </tr>\n",
       "    <tr>\n",
       "      <th>995</th>\n",
       "      <td>-1.762201</td>\n",
       "      <td>-0.703733</td>\n",
       "      <td>-0.568234</td>\n",
       "      <td>-0.866433</td>\n",
       "      <td>-0.095703</td>\n",
       "      <td>-0.850846</td>\n",
       "      <td>-1.305303</td>\n",
       "      <td>-0.588776</td>\n",
       "      <td>-1.762938</td>\n",
       "      <td>0.621979</td>\n",
       "      <td>-0.798281</td>\n",
       "      <td>-0.847565</td>\n",
       "      <td>-0.350945</td>\n",
       "      <td>-2.142908</td>\n",
       "      <td>-0.373719</td>\n",
       "      <td>-0.321738</td>\n",
       "      <td>-1.659887</td>\n",
       "    </tr>\n",
       "    <tr>\n",
       "      <th>996</th>\n",
       "      <td>-1.773104</td>\n",
       "      <td>-0.677511</td>\n",
       "      <td>-0.541397</td>\n",
       "      <td>-0.891461</td>\n",
       "      <td>-0.113339</td>\n",
       "      <td>-0.855305</td>\n",
       "      <td>-1.323565</td>\n",
       "      <td>-0.602412</td>\n",
       "      <td>-1.774063</td>\n",
       "      <td>0.585585</td>\n",
       "      <td>-0.804008</td>\n",
       "      <td>-0.811120</td>\n",
       "      <td>-0.371537</td>\n",
       "      <td>-2.155584</td>\n",
       "      <td>-0.367551</td>\n",
       "      <td>-0.323641</td>\n",
       "      <td>-1.674031</td>\n",
       "    </tr>\n",
       "    <tr>\n",
       "      <th>997</th>\n",
       "      <td>-1.784080</td>\n",
       "      <td>-0.649861</td>\n",
       "      <td>-0.509074</td>\n",
       "      <td>-0.915780</td>\n",
       "      <td>-0.120802</td>\n",
       "      <td>-0.862300</td>\n",
       "      <td>-1.337096</td>\n",
       "      <td>-0.618785</td>\n",
       "      <td>-1.782346</td>\n",
       "      <td>0.542297</td>\n",
       "      <td>-0.809000</td>\n",
       "      <td>-0.775055</td>\n",
       "      <td>-0.390407</td>\n",
       "      <td>-2.168539</td>\n",
       "      <td>-0.368817</td>\n",
       "      <td>-0.326021</td>\n",
       "      <td>-1.686103</td>\n",
       "    </tr>\n",
       "    <tr>\n",
       "      <th>998</th>\n",
       "      <td>-1.795475</td>\n",
       "      <td>-0.622687</td>\n",
       "      <td>-0.476498</td>\n",
       "      <td>-0.939989</td>\n",
       "      <td>-0.124331</td>\n",
       "      <td>-0.874910</td>\n",
       "      <td>-1.344458</td>\n",
       "      <td>-0.634577</td>\n",
       "      <td>-1.786070</td>\n",
       "      <td>0.496912</td>\n",
       "      <td>-0.811151</td>\n",
       "      <td>-0.740823</td>\n",
       "      <td>-0.410487</td>\n",
       "      <td>-2.173034</td>\n",
       "      <td>-0.376160</td>\n",
       "      <td>-0.328737</td>\n",
       "      <td>-1.698939</td>\n",
       "    </tr>\n",
       "    <tr>\n",
       "      <th>999</th>\n",
       "      <td>-1.806269</td>\n",
       "      <td>-0.595984</td>\n",
       "      <td>-0.440771</td>\n",
       "      <td>-0.960811</td>\n",
       "      <td>-0.121937</td>\n",
       "      <td>-0.891582</td>\n",
       "      <td>-1.346077</td>\n",
       "      <td>-0.652710</td>\n",
       "      <td>-1.786052</td>\n",
       "      <td>0.445235</td>\n",
       "      <td>-0.812530</td>\n",
       "      <td>-0.714055</td>\n",
       "      <td>-0.428548</td>\n",
       "      <td>-2.175063</td>\n",
       "      <td>-0.388389</td>\n",
       "      <td>-0.330809</td>\n",
       "      <td>-1.710825</td>\n",
       "    </tr>\n",
       "  </tbody>\n",
       "</table>\n",
       "<p>1000 rows × 17 columns</p>\n",
       "</div>"
      ],
      "text/plain": [
       "        30.0      31.0      47.0      48.0      63.0      78.0      101.0  \\\n",
       "0    0.341026 -1.289103 -0.818746 -0.358136 -1.790968 -0.540252 -0.202135   \n",
       "1    0.268832 -1.311684 -0.774149 -0.363895 -1.755471 -0.525174 -0.185990   \n",
       "2    0.186859 -1.339702 -0.741761 -0.379996 -1.715120 -0.510773 -0.170984   \n",
       "3    0.099730 -1.375385 -0.711453 -0.396107 -1.680086 -0.502796 -0.148535   \n",
       "4    0.005391 -1.415001 -0.692135 -0.420431 -1.641540 -0.494711 -0.129206   \n",
       "..        ...       ...       ...       ...       ...       ...       ...   \n",
       "995 -1.762201 -0.703733 -0.568234 -0.866433 -0.095703 -0.850846 -1.305303   \n",
       "996 -1.773104 -0.677511 -0.541397 -0.891461 -0.113339 -0.855305 -1.323565   \n",
       "997 -1.784080 -0.649861 -0.509074 -0.915780 -0.120802 -0.862300 -1.337096   \n",
       "998 -1.795475 -0.622687 -0.476498 -0.939989 -0.124331 -0.874910 -1.344458   \n",
       "999 -1.806269 -0.595984 -0.440771 -0.960811 -0.121937 -0.891582 -1.346077   \n",
       "\n",
       "        167.0     184.0     185.0     197.0     211.0     212.0     227.0  \\\n",
       "0    0.526419 -0.510162 -1.125650 -0.488141 -0.779285 -1.200270  0.112301   \n",
       "1    0.498979 -0.518230 -1.103391 -0.447548 -0.795670 -1.211606  0.076319   \n",
       "2    0.475232 -0.526922 -1.079163 -0.395845 -0.810693 -1.227598  0.045542   \n",
       "3    0.443123 -0.542198 -1.057888 -0.349141 -0.826550 -1.242415  0.007971   \n",
       "4    0.415674 -0.552207 -1.034802 -0.290235 -0.839842 -1.261470 -0.025996   \n",
       "..        ...       ...       ...       ...       ...       ...       ...   \n",
       "995 -0.588776 -1.762938  0.621979 -0.798281 -0.847565 -0.350945 -2.142908   \n",
       "996 -0.602412 -1.774063  0.585585 -0.804008 -0.811120 -0.371537 -2.155584   \n",
       "997 -0.618785 -1.782346  0.542297 -0.809000 -0.775055 -0.390407 -2.168539   \n",
       "998 -0.634577 -1.786070  0.496912 -0.811151 -0.740823 -0.410487 -2.173034   \n",
       "999 -0.652710 -1.786052  0.445235 -0.812530 -0.714055 -0.428548 -2.175063   \n",
       "\n",
       "        244.0     245.0     246.0  \n",
       "0   -1.637680 -0.387799 -1.221865  \n",
       "1   -1.614917 -0.377197 -1.277857  \n",
       "2   -1.582341 -0.367787 -1.327397  \n",
       "3   -1.546405 -0.360583 -1.374458  \n",
       "4   -1.502909 -0.357233 -1.412034  \n",
       "..        ...       ...       ...  \n",
       "995 -0.373719 -0.321738 -1.659887  \n",
       "996 -0.367551 -0.323641 -1.674031  \n",
       "997 -0.368817 -0.326021 -1.686103  \n",
       "998 -0.376160 -0.328737 -1.698939  \n",
       "999 -0.388389 -0.330809 -1.710825  \n",
       "\n",
       "[1000 rows x 17 columns]"
      ]
     },
     "execution_count": 26,
     "metadata": {},
     "output_type": "execute_result"
    }
   ],
   "source": [
    "r_lr_period_d2_data_set[0][0]"
   ]
  },
  {
   "cell_type": "code",
   "execution_count": 27,
   "metadata": {},
   "outputs": [],
   "source": [
    "def combine_data_of_interest (data_set_1, data_set_2): \n",
    "    \n",
    "    ipsi_contra_data_set_combined = []\n",
    "    \n",
    "    for session_1,session_2 in zip(data_set_1,data_set_2):\n",
    "        ipsi_contra = combine_data_of_interest_helper(session_1,session_2)\n",
    "        ipsi_contra_data_set_combined.append(ipsi_contra)\n",
    "        \n",
    "    return (ipsi_contra_data_set_combined)"
   ]
  },
  {
   "cell_type": "code",
   "execution_count": 28,
   "metadata": {},
   "outputs": [],
   "source": [
    "def combine_data_of_interest_helper (session_1, session_2):\n",
    "#combine function: \n",
    "#append the win switch (if exists) to the win repeats that do exist.\n",
    "    ipsi_combined =  pd.concat([session_1[0],session_2[0]],axis=1)\n",
    "    contra_combined =  pd.concat([session_1[1],session_2[1]],axis=1)\n",
    "\n",
    "    #contra_combined = PhotoData_perTrial_channels[rl][1][tt][period][cell_type]\n",
    "    return (ipsi_combined,contra_combined)"
   ]
  },
  {
   "cell_type": "code",
   "execution_count": 29,
   "metadata": {},
   "outputs": [],
   "source": [
    "r_d1_win_data_set = combine_data_of_interest (r_wr_period_d1_data_set,r_ws_period_d1_data_set)"
   ]
  },
  {
   "cell_type": "code",
   "execution_count": 30,
   "metadata": {},
   "outputs": [],
   "source": [
    "r_d2_win_data_set = combine_data_of_interest (r_wr_period_d2_data_set,r_ws_period_d2_data_set)"
   ]
  },
  {
   "cell_type": "code",
   "execution_count": 31,
   "metadata": {},
   "outputs": [],
   "source": [
    "r_d1_lose_data_set = combine_data_of_interest (r_ls_period_d1_data_set,r_lr_period_d1_data_set)"
   ]
  },
  {
   "cell_type": "code",
   "execution_count": 32,
   "metadata": {},
   "outputs": [],
   "source": [
    "r_d2_lose_data_set = combine_data_of_interest (r_ls_period_d2_data_set,r_lr_period_d2_data_set)"
   ]
  },
  {
   "cell_type": "code",
   "execution_count": 37,
   "metadata": {},
   "outputs": [],
   "source": [
    "def combine_directions(data_set): \n",
    "    \n",
    "    no_direction_data_set=[]\n",
    "    \n",
    "    for session in data_set:\n",
    "        ipsi_contra_combined = combine_directions_helper(session)\n",
    "        no_direction_data_set.append(ipsi_contra_combined)\n",
    "    return (no_direction_data_set)"
   ]
  },
  {
   "cell_type": "code",
   "execution_count": 38,
   "metadata": {},
   "outputs": [],
   "source": [
    "def combine_directions_helper (session):\n",
    "    ipsi_contra_combined =  pd.concat([session[0],session[1]],axis=1)\n",
    "    return (ipsi_contra_combined)"
   ]
  },
  {
   "cell_type": "code",
   "execution_count": 39,
   "metadata": {},
   "outputs": [],
   "source": [
    "r_d1_win_combined_dir_data_set = combine_directions (r_d1_win_data_set)"
   ]
  },
  {
   "cell_type": "code",
   "execution_count": 40,
   "metadata": {},
   "outputs": [],
   "source": [
    "r_d2_win_combined_dir_data_set = combine_directions (r_d2_win_data_set)"
   ]
  },
  {
   "cell_type": "code",
   "execution_count": 41,
   "metadata": {},
   "outputs": [],
   "source": [
    "r_d1_lose_combined_dir_data_set = combine_directions (r_d1_lose_data_set)"
   ]
  },
  {
   "cell_type": "code",
   "execution_count": 42,
   "metadata": {},
   "outputs": [],
   "source": [
    "r_d2_lose_combined_dir_data_set = combine_directions (r_d2_lose_data_set)"
   ]
  },
  {
   "cell_type": "markdown",
   "metadata": {},
   "source": [
    "# Calculate means per each session "
   ]
  },
  {
   "cell_type": "code",
   "execution_count": 50,
   "metadata": {},
   "outputs": [],
   "source": [
    "def calculate_mean_data_set_no_direc (no_direction_data_set): \n",
    "    \n",
    "    df_no_direction = pd.DataFrame()\n",
    "    \n",
    "    for no_direc_session in no_direction_data_set:    \n",
    "        session_no_direc_mean = no_direc_session.mean(axis=1)\n",
    "        df_no_direction = pd.concat([df_no_direction,session_no_direc_mean],axis=1)\n",
    "        \n",
    "    return (df_no_direction)"
   ]
  },
  {
   "cell_type": "code",
   "execution_count": 126,
   "metadata": {},
   "outputs": [],
   "source": [
    "r_d1_win_data_set_df_no_direc = calculate_mean_data_set_no_direc(r_d1_win_combined_dir_data_set)"
   ]
  },
  {
   "cell_type": "code",
   "execution_count": 127,
   "metadata": {},
   "outputs": [],
   "source": [
    "r_d2_win_data_set_df_no_direc = calculate_mean_data_set_no_direc(r_d2_win_combined_dir_data_set)"
   ]
  },
  {
   "cell_type": "code",
   "execution_count": 128,
   "metadata": {},
   "outputs": [],
   "source": [
    "r_d1_lose_data_set_df_no_direc = calculate_mean_data_set_no_direc(r_d1_lose_combined_dir_data_set)"
   ]
  },
  {
   "cell_type": "code",
   "execution_count": 129,
   "metadata": {},
   "outputs": [],
   "source": [
    "r_d2_lose_data_set_df_no_direc = calculate_mean_data_set_no_direc(r_d2_lose_combined_dir_data_set)"
   ]
  },
  {
   "cell_type": "code",
   "execution_count": 130,
   "metadata": {
    "scrolled": false
   },
   "outputs": [
    {
     "data": {
      "text/plain": [
       "0     -0.589136\n",
       "1     -0.590188\n",
       "2     -0.591286\n",
       "3     -0.592596\n",
       "4     -0.593859\n",
       "         ...   \n",
       "995   -0.713882\n",
       "996   -0.712798\n",
       "997   -0.712003\n",
       "998   -0.710800\n",
       "999   -0.709897\n",
       "Length: 1000, dtype: float64"
      ]
     },
     "execution_count": 130,
     "metadata": {},
     "output_type": "execute_result"
    }
   ],
   "source": [
    "r_d2_lose_data_set_df_no_direc.iloc[:,sessionIndex_perMouse[0]:sessionIndex_perMouse[1]].mean(axis=1)"
   ]
  },
  {
   "cell_type": "code",
   "execution_count": 131,
   "metadata": {},
   "outputs": [
    {
     "data": {
      "text/plain": [
       "[0, 10, 21, 39, 53, 74, 84, 93, 104]"
      ]
     },
     "execution_count": 131,
     "metadata": {},
     "output_type": "execute_result"
    }
   ],
   "source": [
    "sessionIndex_perMouse"
   ]
  },
  {
   "cell_type": "code",
   "execution_count": 132,
   "metadata": {},
   "outputs": [
    {
     "name": "stdout",
     "output_type": "stream",
     "text": [
      "0\n",
      "1\n",
      "2\n",
      "3\n",
      "4\n",
      "5\n",
      "6\n",
      "7\n"
     ]
    }
   ],
   "source": [
    "for list_index in range(len(sessionIndex_perMouse)-1):\n",
    "    print (list_index)"
   ]
  },
  {
   "cell_type": "markdown",
   "metadata": {},
   "source": [
    "# Calculate means and sem on the data set "
   ]
  },
  {
   "cell_type": "code",
   "execution_count": 154,
   "metadata": {},
   "outputs": [],
   "source": [
    "def calculate_mean_per_mouse(no_direction_data_set,sessionIndex_perMouse):\n",
    "    avg_per_mouse_df = pd.DataFrame()\n",
    "    for list_index in range(len(sessionIndex_perMouse)-1):\n",
    "        avg_per_mouse = no_direction_data_set.iloc[:,sessionIndex_perMouse[list_index]:sessionIndex_perMouse[list_index+1]].mean(axis=1)\n",
    "        avg_per_mouse_df = pd.concat([avg_per_mouse_df,avg_per_mouse],axis=1)\n",
    "    avg_per_mouse_df_data_set = avg_per_mouse_df.mean(axis=1)\n",
    "    return (avg_per_mouse_df,avg_per_mouse_df_data_set)"
   ]
  },
  {
   "cell_type": "code",
   "execution_count": 155,
   "metadata": {},
   "outputs": [],
   "source": [
    "r_d1_win_mean_per_session_dataset_no_direc = calculate_mean_per_mouse (r_d1_win_data_set_df_no_direc,sessionIndex_perMouse)"
   ]
  },
  {
   "cell_type": "code",
   "execution_count": 166,
   "metadata": {},
   "outputs": [
    {
     "data": {
      "text/plain": [
       "0     -0.205983\n",
       "1     -0.205434\n",
       "2     -0.204781\n",
       "3     -0.204026\n",
       "4     -0.203055\n",
       "         ...   \n",
       "995    0.041588\n",
       "996    0.043727\n",
       "997    0.045946\n",
       "998    0.048152\n",
       "999    0.050476\n",
       "Name: 0, Length: 1000, dtype: float64"
      ]
     },
     "execution_count": 166,
     "metadata": {},
     "output_type": "execute_result"
    }
   ],
   "source": [
    "r_d1_win_mean_per_session_dataset_no_direc[0].iloc[:,2]"
   ]
  },
  {
   "cell_type": "code",
   "execution_count": 159,
   "metadata": {},
   "outputs": [],
   "source": [
    "r_d2_win_mean_per_session_dataset_no_direc = calculate_mean_per_mouse (r_d2_win_data_set_df_no_direc,sessionIndex_perMouse)"
   ]
  },
  {
   "cell_type": "code",
   "execution_count": 160,
   "metadata": {},
   "outputs": [],
   "source": [
    "r_d1_lose_mean_per_session_dataset_no_direc = calculate_mean_per_mouse (r_d1_lose_data_set_df_no_direc,sessionIndex_perMouse)"
   ]
  },
  {
   "cell_type": "code",
   "execution_count": 161,
   "metadata": {},
   "outputs": [],
   "source": [
    "r_d2_lose_mean_per_session_dataset_no_direc = calculate_mean_per_mouse (r_d2_lose_data_set_df_no_direc,sessionIndex_perMouse)"
   ]
  },
  {
   "cell_type": "markdown",
   "metadata": {},
   "source": [
    "# plots"
   ]
  },
  {
   "cell_type": "code",
   "execution_count": 162,
   "metadata": {},
   "outputs": [],
   "source": [
    "import matplotlib as mpl"
   ]
  },
  {
   "cell_type": "code",
   "execution_count": null,
   "metadata": {},
   "outputs": [],
   "source": [
    "def plot_no_direc_lose_win(data_mean_sem_no_direc_win,sem_traces_no_direc_win,\n",
    "                            data_mean_sem_no_direc_lose,sem_traces_no_direc_lose,\n",
    "                            trial_type,period_of_interest,cell_type,y_axis,path_to_plot):\n",
    "    \n",
    "    #number of sessions is the same ipsi and contra. \n",
    "    \n",
    "    plt.plot(data_mean_sem_no_direc_win[0],linewidth=2, label=\"win_no_direc\"+\" \"+\"(\"+str(data_mean_sem_no_direc_win[2])+\")\")\n",
    "    plt.plot(data_mean_sem_no_direc_lose[0],linewidth=2, label=\"lose_no_direc\"+\" \"+\"(\"+str(data_mean_sem_no_direc_lose[2])+\")\")\n",
    "    \n",
    "    plt.plot(sem_traces_no_direc_win[0],color='black', linewidth=0.5,alpha=0.8)\n",
    "    plt.plot(sem_traces_no_direc_win[1],color='black', linewidth=0.5,alpha=0.8)\n",
    "    plt.plot(sem_traces_no_direc_lose[0],color='black', linewidth=0.5,alpha=0.8)\n",
    "    plt.plot(sem_traces_no_direc_lose[1],color='black', linewidth=0.5,alpha=0.8)\n",
    "    \n",
    "    plt.axvline(x=200,color='k')\n",
    "    plt.axhline(y=1.5,color='k')\n",
    "    plt.ylim([-1,2])\n",
    "    \n",
    "    \n",
    "    \n",
    "    # Add legend\n",
    "    plt.legend(loc='upper right')\n",
    "\n",
    "    # Add title and x, y labels\n",
    "    title = trial_type+\"_\"+\"(\"+period_of_interest+\")\"\n",
    "    plt.title(title, fontsize=16, fontweight='bold')\n",
    "    plt.suptitle(cell_type, fontsize=16)\n",
    "\n",
    "    plt.xlabel(\"time_bins\")\n",
    "    \n",
    "    #the y axis is defined in the paper mill. This allows to run 7_b with 3a,3b,3c and any future 3s, easliy changing the \n",
    "    #the name of the y axis to not cause confusion. \n",
    "    plt.ylabel(y_axis)\n",
    "    plt.savefig(path_to_plot+\"/\"+\"_\"+trial_type+cell_type+\"_\"+period_of_interest+'.pdf')\n",
    "    plt.show()"
   ]
  },
  {
   "cell_type": "code",
   "execution_count": 180,
   "metadata": {},
   "outputs": [],
   "source": [
    "def plot_no_direc_lose_win(win_mean_per_session_dataset_no_direc,\n",
    "                           lose_mean_per_session_dataset_no_direc,\n",
    "                           trial_type,period_of_interest,cell_type,y_axis,path_to_plot):\n",
    "    \n",
    "    #number of sessions is the same ipsi and contra. \n",
    "    \n",
    "    plt.plot(win_mean_per_session_dataset_no_direc[1],linewidth=2, label=\"win_no_direc\")\n",
    "    plt.plot(lose_mean_per_session_dataset_no_direc[1],linewidth=2, label=\"lose_no_direc\")\n",
    "    \n",
    "    for i in range(len(win_mean_per_session_dataset_no_direc[0].columns)):\n",
    "        plt.plot(lose_mean_per_session_dataset_no_direc[0].iloc[:,i],color='black', linewidth=0.3,alpha=0.4)\n",
    "        plt.plot(win_mean_per_session_dataset_no_direc[0].iloc[:,i],color='black', linewidth=0.3,alpha=0.4)\n",
    "        print (\"ok\")\n",
    "    \n",
    "#     plt.axvline(x=200,color='k')\n",
    "#     plt.axhline(y=1.5,color='k')\n",
    "    plt.ylim([-1,2.5])\n",
    "    \n",
    "    \n",
    "    \n",
    "    # Add legend\n",
    "    plt.legend(loc='upper right')\n",
    "\n",
    "    # Add title and x, y labels\n",
    "    title = trial_type+\"_\"+\"(\"+period_of_interest+\")\"\n",
    "    plt.title(title, fontsize=16, fontweight='bold')\n",
    "    plt.suptitle(cell_type, fontsize=16)\n",
    "\n",
    "    plt.xlabel(\"time_bins\")\n",
    "    \n",
    "    #the y axis is defined in the paper mill. This allows to run 7_b with 3a,3b,3c and any future 3s, easliy changing the \n",
    "    #the name of the y axis to not cause confusion. \n",
    "    plt.ylabel(y_axis)\n",
    "    plt.savefig(path_to_plot+\"/\"+\"_\"+trial_type+cell_type+\"_\"+period_of_interest+'.pdf')\n",
    "    plt.show()"
   ]
  },
  {
   "cell_type": "code",
   "execution_count": 181,
   "metadata": {},
   "outputs": [
    {
     "name": "stdout",
     "output_type": "stream",
     "text": [
      "ok\n",
      "ok\n",
      "ok\n",
      "ok\n",
      "ok\n",
      "ok\n",
      "ok\n",
      "ok\n"
     ]
    },
    {
     "data": {
      "image/png": "[encoded data removed]",
      "text/plain": [
       "<Figure size 432x288 with 1 Axes>"
      ]
     },
     "metadata": {
      "needs_background": "light"
     },
     "output_type": "display_data"
    }
   ],
   "source": [
    "plot_no_direc_lose_win(r_d1_win_mean_per_session_dataset_no_direc,\n",
    "                       r_d1_lose_mean_per_session_dataset_no_direc,\n",
    "                       \"right_win_lose_no_direc\",period_of_interest,\"D1\",y_axis,cache_dir_plt)"
   ]
  },
  {
   "cell_type": "code",
   "execution_count": null,
   "metadata": {
    "scrolled": false
   },
   "outputs": [],
   "source": [
    "# plot_no_direc_lose_win(r_d1_win_mean_sem_no_direc,r_d1_win_mean_sem_traces,\n",
    "#                        r_d1_lose_mean_sem_no_direc,r_d1_lose_mean_sem_traces,\n",
    "#                        \"right_win_lose_no_direc\",period_of_interest,\"D1\",y_axis,cache_dir_plt)"
   ]
  },
  {
   "cell_type": "code",
   "execution_count": null,
   "metadata": {
    "scrolled": true
   },
   "outputs": [],
   "source": [
    "# plot_no_direc_lose_win(r_d2_win_mean_sem_no_direc,r_d2_win_mean_sem_traces,\n",
    "#                        r_d2_lose_mean_sem_no_direc,r_d2_lose_mean_sem_traces,\n",
    "#                        \"right_win_lose_no_direc\",period_of_interest,\"D2\",y_axis,cache_dir_plt)"
   ]
  },
  {
   "cell_type": "code",
   "execution_count": 182,
   "metadata": {},
   "outputs": [
    {
     "name": "stdout",
     "output_type": "stream",
     "text": [
      "ok\n",
      "ok\n",
      "ok\n",
      "ok\n",
      "ok\n",
      "ok\n",
      "ok\n",
      "ok\n"
     ]
    },
    {
     "data": {
      "image/png": "[encoded data removed]",
      "text/plain": [
       "<Figure size 432x288 with 1 Axes>"
      ]
     },
     "metadata": {
      "needs_background": "light"
     },
     "output_type": "display_data"
    }
   ],
   "source": [
    "plot_no_direc_lose_win(r_d2_win_mean_per_session_dataset_no_direc,\n",
    "                       r_d2_lose_mean_per_session_dataset_no_direc,\n",
    "                       \"right_win_lose_no_direc\",period_of_interest,\"D2\",y_axis,cache_dir_plt)"
   ]
  },
  {
   "cell_type": "code",
   "execution_count": null,
   "metadata": {},
   "outputs": [],
   "source": []
  },
  {
   "cell_type": "code",
   "execution_count": null,
   "metadata": {},
   "outputs": [],
   "source": []
  }
 ],
 "metadata": {
  "celltoolbar": "Tags",
  "kernelspec": {
   "display_name": "Python 3",
   "language": "python",
   "name": "python3"
  },
  "language_info": {
   "codemirror_mode": {
    "name": "ipython",
    "version": 3
   },
   "file_extension": ".py",
   "mimetype": "text/x-python",
   "name": "python",
   "nbconvert_exporter": "python",
   "pygments_lexer": "ipython3",
   "version": "3.7.3"
  }
 },
 "nbformat": 4,
 "nbformat_minor": 4
}
