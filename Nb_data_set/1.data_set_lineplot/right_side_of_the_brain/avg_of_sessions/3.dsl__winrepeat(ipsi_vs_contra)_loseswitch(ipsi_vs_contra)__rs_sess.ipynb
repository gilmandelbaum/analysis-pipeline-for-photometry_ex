{
 "cells": [
  {
   "cell_type": "code",
   "execution_count": 1,
   "metadata": {},
   "outputs": [],
   "source": [
    "import pickle\n",
    "from pathlib import Path\n",
    "import pandas as pd \n",
    "import os\n",
    "import sys\n",
    "import matplotlib.pyplot as plt\n",
    "import getpass"
   ]
  },
  {
   "cell_type": "code",
   "execution_count": 2,
   "metadata": {},
   "outputs": [
    {
     "name": "stdout",
     "output_type": "stream",
     "text": [
      "gilmandelbaum\n"
     ]
    }
   ],
   "source": [
    "#add the github path that will run the notebooks: \n",
    "username = getpass.getuser() # gets the username from the current comp \n",
    "print (username)"
   ]
  },
  {
   "cell_type": "code",
   "execution_count": 3,
   "metadata": {},
   "outputs": [],
   "source": [
    "sys.path.insert(0,'/Users/{:}/github/analysis-pipeline-for-photometry_ex/Nb_data_set/1.data_set_lineplot'.format(username))"
   ]
  },
  {
   "cell_type": "code",
   "execution_count": 4,
   "metadata": {},
   "outputs": [
    {
     "data": {
      "text/plain": [
       "'/Users/gilmandelbaum/github/analysis-pipeline-for-photometry_ex/Nb_data_set/1.data_set_lineplot'"
      ]
     },
     "execution_count": 4,
     "metadata": {},
     "output_type": "execute_result"
    }
   ],
   "source": [
    "sys.path[0]"
   ]
  },
  {
   "cell_type": "code",
   "execution_count": 5,
   "metadata": {},
   "outputs": [],
   "source": [
    "import data_set_lineplot_ic_together_helper_functions as dslhf"
   ]
  },
  {
   "cell_type": "code",
   "execution_count": 6,
   "metadata": {
    "tags": [
     "parameters"
    ]
   },
   "outputs": [],
   "source": [
    "seq_str = '0a1b2a3b4abcd5a6a7a'\n",
    "period_of_interest = \"combined_periods_1\"\n",
    "HowManyBasck=1\n",
    "folderName=\"right_dual_color_photo_full_data\" #folder where the plot data_set will be saved \n",
    "path_to_load_data = \"/Volumes/GilInVivoPaper.large/2.Photometry_in_str/1.lateral_medial_6_analysis/right_dual_color_photo_full_data/0a1b2a3b4abcd5a6a7a\""
   ]
  },
  {
   "cell_type": "markdown",
   "metadata": {},
   "source": [
    "# Folder name of analysis: "
   ]
  },
  {
   "cell_type": "code",
   "execution_count": 7,
   "metadata": {},
   "outputs": [],
   "source": [
    "analysis_type =\"3.dsl__winrepeat(ipsi_vs_contra)_loseswitch(ipsi_vs_contra)__rs\""
   ]
  },
  {
   "cell_type": "code",
   "execution_count": 8,
   "metadata": {},
   "outputs": [
    {
     "data": {
      "text/plain": [
       "'/anaconda3/bin/python3'"
      ]
     },
     "execution_count": 8,
     "metadata": {},
     "output_type": "execute_result"
    }
   ],
   "source": [
    "sys.executable"
   ]
  },
  {
   "cell_type": "markdown",
   "metadata": {},
   "source": [
    "# Import the data and where to save it "
   ]
  },
  {
   "cell_type": "code",
   "execution_count": 9,
   "metadata": {},
   "outputs": [],
   "source": [
    "path_to_save_plots = path_to_load_data+\"/\"+\"line_plots\"+\"/\"+\"avg_of_sessions\"+\"/\"+analysis_type "
   ]
  },
  {
   "cell_type": "markdown",
   "metadata": {},
   "source": [
    "# Import the data and where to save it "
   ]
  },
  {
   "cell_type": "code",
   "execution_count": 10,
   "metadata": {},
   "outputs": [
    {
     "name": "stdout",
     "output_type": "stream",
     "text": [
      "CPU times: user 40.9 s, sys: 4.07 s, total: 45 s\n",
      "Wall time: 1min 5s\n"
     ]
    }
   ],
   "source": [
    "%%time\n",
    "root = Path(path_to_load_data)\n",
    "d = \"data_object_photometry_after_processing\"+\"_\"+seq_str+'.pickle'\n",
    "my_path = root / d \n",
    "fileToOpen = open(my_path, 'rb')\n",
    "data_set = pickle.load(fileToOpen)"
   ]
  },
  {
   "cell_type": "code",
   "execution_count": 11,
   "metadata": {},
   "outputs": [],
   "source": [
    "#data_set[5][0][0][0][\"firstENLp_tag\"]"
   ]
  },
  {
   "cell_type": "code",
   "execution_count": null,
   "metadata": {},
   "outputs": [],
   "source": []
  },
  {
   "cell_type": "code",
   "execution_count": 12,
   "metadata": {},
   "outputs": [],
   "source": [
    "y_axis_list = [\"df_f\",\"z_score\",\"z_score_sliding_window\"]"
   ]
  },
  {
   "cell_type": "code",
   "execution_count": 13,
   "metadata": {},
   "outputs": [
    {
     "name": "stdout",
     "output_type": "stream",
     "text": [
      "z_score\n"
     ]
    }
   ],
   "source": [
    "alphabet = [\"a\",\"b\",\"c\",\"d\",\"e\",\"f\",\"g\"]\n",
    "y_axis = y_axis_list[alphabet.index(seq_str[:seq_str.index('4')][-1])]\n",
    "print (y_axis)"
   ]
  },
  {
   "cell_type": "code",
   "execution_count": 14,
   "metadata": {},
   "outputs": [],
   "source": [
    "#period_of_interest=\"combined_periods_1\"\n",
    "#period_of_interest = \"pre_firstENLp_tag\"\n",
    "#period_of_interest=\"last_200_bins_ENL_tag\"\n",
    "#period_of_interest = \"first_15_bins_Cue_to_Sel_tag\"\n",
    "#period_of_interest=\"first_15_bins_Cue_to_Sel_fromPrevTrial_tag\"\n",
    "#period_of_interest=\"Real_nTrials\"\n",
    "#period_of_interest=\"Cue_to_Sel_tag\"\n",
    "#period_of_interest=\"Cue_to_Sel_fromPrevTrial_tag\""
   ]
  },
  {
   "cell_type": "code",
   "execution_count": 15,
   "metadata": {},
   "outputs": [],
   "source": [
    "# stash result in a cache directory, for how many back. \n",
    "cache_dir_plt = os.path.join(path_to_save_plots,period_of_interest)\n",
    "if not os.path.exists(cache_dir_plt):\n",
    "    os.makedirs(cache_dir_plt)"
   ]
  },
  {
   "cell_type": "code",
   "execution_count": 16,
   "metadata": {},
   "outputs": [
    {
     "data": {
      "text/plain": [
       "'/Volumes/GilInVivoPaper.large/2.Photometry_in_str/1.lateral_medial_6_analysis/right_dual_color_photo_full_data/0a1b2a3b4abcd5a6a7a/right_dual_color_photo_full_data/0a1b2a3b4abcd5a6a7a/3.dsl__winrepeat(ipsi_vs_contra)_loseswitch(ipsi_vs_contra)__rs/combined_periods_1'"
      ]
     },
     "execution_count": 16,
     "metadata": {},
     "output_type": "execute_result"
    }
   ],
   "source": [
    "cache_dir_plt"
   ]
  },
  {
   "cell_type": "markdown",
   "metadata": {},
   "source": [
    "# generate data sets of interest"
   ]
  },
  {
   "cell_type": "code",
   "execution_count": 17,
   "metadata": {},
   "outputs": [
    {
     "name": "stdout",
     "output_type": "stream",
     "text": [
      "full\n",
      "full\n",
      "full\n",
      "full\n",
      "full\n",
      "full\n",
      "full\n",
      "full\n",
      "full\n",
      "full\n",
      "full\n",
      "full\n",
      "full\n",
      "full\n",
      "full\n",
      "full\n",
      "full\n",
      "full\n",
      "full\n",
      "full\n",
      "full\n",
      "full\n",
      "full\n",
      "full\n",
      "full\n",
      "full\n",
      "full\n",
      "full\n",
      "full\n",
      "full\n",
      "full\n",
      "full\n",
      "full\n",
      "full\n",
      "full\n",
      "full\n",
      "full\n",
      "full\n",
      "full\n",
      "full\n",
      "full\n",
      "full\n",
      "full\n",
      "full\n",
      "full\n",
      "full\n",
      "full\n",
      "full\n",
      "full\n",
      "full\n",
      "full\n",
      "full\n",
      "full\n",
      "full\n",
      "full\n",
      "full\n",
      "full\n",
      "full\n",
      "full\n",
      "full\n",
      "full\n",
      "full\n",
      "full\n",
      "full\n",
      "full\n",
      "full\n",
      "full\n",
      "full\n",
      "full\n",
      "full\n",
      "full\n",
      "full\n",
      "full\n",
      "full\n",
      "full\n",
      "full\n",
      "full\n",
      "full\n",
      "full\n",
      "full\n",
      "full\n",
      "full\n",
      "full\n",
      "full\n",
      "full\n",
      "full\n",
      "full\n",
      "full\n",
      "full\n",
      "full\n",
      "full\n",
      "full\n",
      "full\n",
      "full\n",
      "full\n",
      "full\n",
      "full\n",
      "full\n",
      "full\n",
      "full\n",
      "full\n",
      "full\n",
      "full\n",
      "full\n"
     ]
    }
   ],
   "source": [
    "r_ls_period_d1_data_set= dslhf.extract_data_of_interest_ipsi_contra_data_set(data_set,\n",
    "                                                                           0,0,\n",
    "                                                                           period_of_interest,\"d1 R\")"
   ]
  },
  {
   "cell_type": "code",
   "execution_count": 18,
   "metadata": {},
   "outputs": [
    {
     "name": "stdout",
     "output_type": "stream",
     "text": [
      "full\n",
      "full\n",
      "full\n",
      "full\n",
      "full\n",
      "full\n",
      "full\n",
      "full\n",
      "full\n",
      "full\n",
      "full\n",
      "full\n",
      "full\n",
      "full\n",
      "full\n",
      "full\n",
      "full\n",
      "full\n",
      "full\n",
      "full\n",
      "full\n",
      "full\n",
      "full\n",
      "full\n",
      "full\n",
      "full\n",
      "full\n",
      "full\n",
      "full\n",
      "full\n",
      "full\n",
      "full\n",
      "full\n",
      "full\n",
      "full\n",
      "full\n",
      "full\n",
      "full\n",
      "full\n",
      "full\n",
      "full\n",
      "full\n",
      "full\n",
      "full\n",
      "full\n",
      "full\n",
      "full\n",
      "full\n",
      "full\n",
      "full\n",
      "full\n",
      "full\n",
      "full\n",
      "full\n",
      "full\n",
      "full\n",
      "full\n",
      "full\n",
      "full\n",
      "full\n",
      "full\n",
      "full\n",
      "full\n",
      "full\n",
      "full\n",
      "full\n",
      "full\n",
      "full\n",
      "full\n",
      "full\n",
      "full\n",
      "full\n",
      "full\n",
      "full\n",
      "full\n",
      "full\n",
      "full\n",
      "full\n",
      "full\n",
      "full\n",
      "full\n",
      "full\n",
      "full\n",
      "full\n",
      "full\n",
      "full\n",
      "full\n",
      "full\n",
      "full\n",
      "full\n",
      "full\n",
      "full\n",
      "full\n",
      "full\n",
      "full\n",
      "full\n",
      "full\n",
      "full\n",
      "full\n",
      "full\n",
      "full\n",
      "full\n",
      "full\n",
      "full\n"
     ]
    }
   ],
   "source": [
    "r_ls_period_d2_data_set= dslhf.extract_data_of_interest_ipsi_contra_data_set(data_set,\n",
    "                                                                           0,0,\n",
    "                                                                           period_of_interest,\"d2 R\")"
   ]
  },
  {
   "cell_type": "code",
   "execution_count": 19,
   "metadata": {},
   "outputs": [
    {
     "name": "stdout",
     "output_type": "stream",
     "text": [
      "full\n",
      "full\n",
      "full\n",
      "full\n",
      "full\n",
      "full\n",
      "full\n",
      "full\n",
      "full\n",
      "full\n",
      "full\n",
      "full\n",
      "full\n",
      "full\n",
      "full\n",
      "full\n",
      "full\n",
      "full\n",
      "full\n",
      "full\n",
      "full\n",
      "full\n",
      "full\n",
      "full\n",
      "full\n",
      "full\n",
      "full\n",
      "full\n",
      "full\n",
      "full\n",
      "full\n",
      "full\n",
      "full\n",
      "full\n",
      "full\n",
      "full\n",
      "full\n",
      "full\n",
      "full\n",
      "full\n",
      "full\n",
      "full\n",
      "full\n",
      "full\n",
      "full\n",
      "full\n",
      "full\n",
      "full\n",
      "full\n",
      "full\n",
      "full\n",
      "full\n",
      "full\n",
      "full\n",
      "full\n",
      "full\n",
      "full\n",
      "full\n",
      "full\n",
      "full\n",
      "full\n",
      "full\n",
      "full\n",
      "full\n",
      "full\n",
      "full\n",
      "full\n",
      "full\n",
      "full\n",
      "full\n",
      "full\n",
      "full\n",
      "full\n",
      "full\n",
      "full\n",
      "full\n",
      "full\n",
      "full\n",
      "full\n",
      "full\n",
      "full\n",
      "full\n",
      "full\n",
      "full\n",
      "full\n",
      "full\n",
      "full\n",
      "full\n",
      "full\n",
      "full\n",
      "full\n",
      "full\n",
      "full\n",
      "full\n",
      "full\n",
      "full\n",
      "full\n",
      "full\n",
      "full\n",
      "full\n",
      "full\n",
      "full\n",
      "full\n",
      "full\n"
     ]
    }
   ],
   "source": [
    "r_wr_period_d1_data_set= dslhf.extract_data_of_interest_ipsi_contra_data_set(data_set,\n",
    "                                                                           0,3,\n",
    "                                                                           period_of_interest,\"d1 R\")"
   ]
  },
  {
   "cell_type": "code",
   "execution_count": 20,
   "metadata": {},
   "outputs": [
    {
     "name": "stdout",
     "output_type": "stream",
     "text": [
      "full\n",
      "full\n",
      "full\n",
      "full\n",
      "full\n",
      "full\n",
      "full\n",
      "full\n",
      "full\n",
      "full\n",
      "full\n",
      "full\n",
      "full\n",
      "full\n",
      "full\n",
      "full\n",
      "full\n",
      "full\n",
      "full\n",
      "full\n",
      "full\n",
      "full\n",
      "full\n",
      "full\n",
      "full\n",
      "full\n",
      "full\n",
      "full\n",
      "full\n",
      "full\n",
      "full\n",
      "full\n",
      "full\n",
      "full\n",
      "full\n",
      "full\n",
      "full\n",
      "full\n",
      "full\n",
      "full\n",
      "full\n",
      "full\n",
      "full\n",
      "full\n",
      "full\n",
      "full\n",
      "full\n",
      "full\n",
      "full\n",
      "full\n",
      "full\n",
      "full\n",
      "full\n",
      "full\n",
      "full\n",
      "full\n",
      "full\n",
      "full\n",
      "full\n",
      "full\n",
      "full\n",
      "full\n",
      "full\n",
      "full\n",
      "full\n",
      "full\n",
      "full\n",
      "full\n",
      "full\n",
      "full\n",
      "full\n",
      "full\n",
      "full\n",
      "full\n",
      "full\n",
      "full\n",
      "full\n",
      "full\n",
      "full\n",
      "full\n",
      "full\n",
      "full\n",
      "full\n",
      "full\n",
      "full\n",
      "full\n",
      "full\n",
      "full\n",
      "full\n",
      "full\n",
      "full\n",
      "full\n",
      "full\n",
      "full\n",
      "full\n",
      "full\n",
      "full\n",
      "full\n",
      "full\n",
      "full\n",
      "full\n",
      "full\n",
      "full\n",
      "full\n"
     ]
    }
   ],
   "source": [
    "r_wr_period_d2_data_set= dslhf.extract_data_of_interest_ipsi_contra_data_set(data_set,\n",
    "                                                                           0,3,\n",
    "                                                                           period_of_interest,\"d2 R\")"
   ]
  },
  {
   "cell_type": "markdown",
   "metadata": {},
   "source": [
    "# Calculate means per each session "
   ]
  },
  {
   "cell_type": "code",
   "execution_count": 21,
   "metadata": {},
   "outputs": [],
   "source": [
    "r_ls_period_d1_df = dslhf.calculate_mean_data_set(r_ls_period_d1_data_set)"
   ]
  },
  {
   "cell_type": "code",
   "execution_count": 22,
   "metadata": {},
   "outputs": [],
   "source": [
    "r_ls_period_d2_df = dslhf.calculate_mean_data_set(r_ls_period_d2_data_set)"
   ]
  },
  {
   "cell_type": "code",
   "execution_count": 23,
   "metadata": {},
   "outputs": [],
   "source": [
    "r_wr_period_d1_df = dslhf.calculate_mean_data_set(r_wr_period_d1_data_set)"
   ]
  },
  {
   "cell_type": "code",
   "execution_count": 24,
   "metadata": {},
   "outputs": [],
   "source": [
    "r_wr_period_d2_df = dslhf.calculate_mean_data_set(r_wr_period_d2_data_set)"
   ]
  },
  {
   "cell_type": "markdown",
   "metadata": {},
   "source": [
    "# Calculate means and sem on the data set "
   ]
  },
  {
   "cell_type": "code",
   "execution_count": 25,
   "metadata": {},
   "outputs": [],
   "source": [
    "r_ls_period_d1_mean_sem = dslhf.calculate_mean_sem (r_ls_period_d1_df)"
   ]
  },
  {
   "cell_type": "code",
   "execution_count": 26,
   "metadata": {},
   "outputs": [],
   "source": [
    "r_ls_period_d2_mean_sem = dslhf.calculate_mean_sem (r_ls_period_d2_df)"
   ]
  },
  {
   "cell_type": "code",
   "execution_count": 27,
   "metadata": {},
   "outputs": [],
   "source": [
    "r_wr_period_d1_mean_sem = dslhf.calculate_mean_sem (r_wr_period_d1_df)"
   ]
  },
  {
   "cell_type": "code",
   "execution_count": 28,
   "metadata": {},
   "outputs": [],
   "source": [
    "r_wr_period_d2_mean_sem = dslhf.calculate_mean_sem (r_wr_period_d2_df)"
   ]
  },
  {
   "cell_type": "markdown",
   "metadata": {},
   "source": [
    "# make_sem_traces"
   ]
  },
  {
   "cell_type": "code",
   "execution_count": 29,
   "metadata": {},
   "outputs": [],
   "source": [
    "r_ls_period_d1_sem_traces = dslhf.make_sem_traces(r_ls_period_d1_mean_sem)"
   ]
  },
  {
   "cell_type": "code",
   "execution_count": 30,
   "metadata": {},
   "outputs": [],
   "source": [
    "r_ls_period_d2_sem_traces = dslhf.make_sem_traces(r_ls_period_d2_mean_sem)"
   ]
  },
  {
   "cell_type": "code",
   "execution_count": 31,
   "metadata": {},
   "outputs": [],
   "source": [
    "r_wr_period_d1_sem_traces = dslhf.make_sem_traces(r_wr_period_d1_mean_sem)"
   ]
  },
  {
   "cell_type": "code",
   "execution_count": 32,
   "metadata": {},
   "outputs": [],
   "source": [
    "r_wr_period_d2_sem_traces = dslhf.make_sem_traces(r_wr_period_d2_mean_sem)"
   ]
  },
  {
   "cell_type": "markdown",
   "metadata": {},
   "source": [
    "# plots"
   ]
  },
  {
   "cell_type": "code",
   "execution_count": 33,
   "metadata": {
    "scrolled": false
   },
   "outputs": [
    {
     "data": {
      "image/png": "[encoded data removed]",
      "text/plain": [
       "<Figure size 432x288 with 1 Axes>"
      ]
     },
     "metadata": {
      "needs_background": "light"
     },
     "output_type": "display_data"
    }
   ],
   "source": [
    "dslhf.plot_ipsi_contra_together(r_ls_period_d1_mean_sem,\n",
    "                              r_ls_period_d1_sem_traces,\n",
    "                              \"right_lose switch\",period_of_interest,\"D1\",y_axis,cache_dir_plt)"
   ]
  },
  {
   "cell_type": "code",
   "execution_count": 34,
   "metadata": {},
   "outputs": [
    {
     "data": {
      "image/png": "[encoded data removed]",
      "text/plain": [
       "<Figure size 432x288 with 1 Axes>"
      ]
     },
     "metadata": {
      "needs_background": "light"
     },
     "output_type": "display_data"
    }
   ],
   "source": [
    "dslhf.plot_ipsi_contra_together(r_ls_period_d2_mean_sem,\n",
    "                              r_ls_period_d2_sem_traces,\n",
    "                              \"right_lose switch\",period_of_interest,\"D2\",y_axis,cache_dir_plt)"
   ]
  },
  {
   "cell_type": "code",
   "execution_count": 35,
   "metadata": {
    "scrolled": true
   },
   "outputs": [
    {
     "data": {
      "image/png": "[encoded data removed]",
      "text/plain": [
       "<Figure size 432x288 with 1 Axes>"
      ]
     },
     "metadata": {
      "needs_background": "light"
     },
     "output_type": "display_data"
    }
   ],
   "source": [
    "dslhf.plot_ipsi_contra_together(r_wr_period_d1_mean_sem,\n",
    "                              r_wr_period_d1_sem_traces,\n",
    "                              \"right_win repeat\",period_of_interest,\"D1\",y_axis,cache_dir_plt)"
   ]
  },
  {
   "cell_type": "code",
   "execution_count": 36,
   "metadata": {},
   "outputs": [
    {
     "data": {
      "image/png": "[encoded data removed]",
      "text/plain": [
       "<Figure size 432x288 with 1 Axes>"
      ]
     },
     "metadata": {
      "needs_background": "light"
     },
     "output_type": "display_data"
    }
   ],
   "source": [
    "dslhf.plot_ipsi_contra_together(r_wr_period_d2_mean_sem,\n",
    "                              r_wr_period_d2_sem_traces,\n",
    "                              \"right_win repeat\",period_of_interest,\"D2\",y_axis,cache_dir_plt)"
   ]
  },
  {
   "cell_type": "code",
   "execution_count": null,
   "metadata": {},
   "outputs": [],
   "source": []
  },
  {
   "cell_type": "code",
   "execution_count": null,
   "metadata": {},
   "outputs": [],
   "source": []
  },
  {
   "cell_type": "code",
   "execution_count": null,
   "metadata": {},
   "outputs": [],
   "source": []
  }
 ],
 "metadata": {
  "celltoolbar": "Tags",
  "kernelspec": {
   "display_name": "Python 3",
   "language": "python",
   "name": "python3"
  },
  "language_info": {
   "codemirror_mode": {
    "name": "ipython",
    "version": 3
   },
   "file_extension": ".py",
   "mimetype": "text/x-python",
   "name": "python",
   "nbconvert_exporter": "python",
   "pygments_lexer": "ipython3",
   "version": "3.7.3"
  }
 },
 "nbformat": 4,
 "nbformat_minor": 4
}
