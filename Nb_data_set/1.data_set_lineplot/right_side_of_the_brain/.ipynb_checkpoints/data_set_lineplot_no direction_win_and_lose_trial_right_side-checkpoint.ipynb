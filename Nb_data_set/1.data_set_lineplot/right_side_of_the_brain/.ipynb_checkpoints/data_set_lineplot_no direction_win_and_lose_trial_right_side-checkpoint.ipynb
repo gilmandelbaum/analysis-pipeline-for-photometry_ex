{
 "cells": [
  {
   "cell_type": "code",
   "execution_count": 1,
   "metadata": {},
   "outputs": [],
   "source": [
    "import pickle\n",
    "from pathlib import Path\n",
    "import pandas as pd \n",
    "import os\n",
    "import sys\n",
    "import matplotlib.pyplot as plt\n",
    "import getpass"
   ]
  },
  {
   "cell_type": "code",
   "execution_count": 2,
   "metadata": {},
   "outputs": [
    {
     "name": "stdout",
     "output_type": "stream",
     "text": [
      "gilmandelbaum\n"
     ]
    }
   ],
   "source": [
    "#add the github path that will run the notebooks: \n",
    "username = getpass.getuser() # gets the username from the current comp \n",
    "print (username)"
   ]
  },
  {
   "cell_type": "code",
   "execution_count": 3,
   "metadata": {},
   "outputs": [],
   "source": [
    "sys.path.insert(0,'/Users/{:}/github/analysis-pipeline-for-photometry_ex/Nb_data_set/1.data_set_lineplot'.format(username))"
   ]
  },
  {
   "cell_type": "code",
   "execution_count": 4,
   "metadata": {},
   "outputs": [
    {
     "data": {
      "text/plain": [
       "'/Users/gilmandelbaum/github/analysis-pipeline-for-photometry_ex/Nb_data_set/1.data_set_lineplot'"
      ]
     },
     "execution_count": 4,
     "metadata": {},
     "output_type": "execute_result"
    }
   ],
   "source": [
    "sys.path[0]"
   ]
  },
  {
   "cell_type": "code",
   "execution_count": 5,
   "metadata": {},
   "outputs": [],
   "source": [
    "import data_set_lineplot_ic_together_helper_functions as dslhf"
   ]
  },
  {
   "cell_type": "code",
   "execution_count": 6,
   "metadata": {
    "tags": [
     "parameters"
    ]
   },
   "outputs": [],
   "source": [
    "seq_str = '0a1b2a3b4abcd5a6a7a'\n",
    "period_of_interest = \"combined_periods_1\"\n",
    "HowManyBasck=1\n",
    "folderName=\"right_dual_color_photo_full_data_set_after_inspection\" #folder where the plot data_set will be saved \n",
    "path = \"/Volumes/GilInVivoPaper.large/2.Photometry_in_str/2.dual_color_photo_full_data_set_analysis/\""
   ]
  },
  {
   "cell_type": "markdown",
   "metadata": {},
   "source": [
    "# Folder name of analysis: "
   ]
  },
  {
   "cell_type": "code",
   "execution_count": 7,
   "metadata": {},
   "outputs": [],
   "source": [
    "analysis_type =\"data_set_lineplot_no direction_win_and_lose_trial_right_side\""
   ]
  },
  {
   "cell_type": "code",
   "execution_count": 8,
   "metadata": {},
   "outputs": [
    {
     "data": {
      "text/plain": [
       "'/anaconda3/bin/python3'"
      ]
     },
     "execution_count": 8,
     "metadata": {},
     "output_type": "execute_result"
    }
   ],
   "source": [
    "sys.executable"
   ]
  },
  {
   "cell_type": "markdown",
   "metadata": {},
   "source": [
    "# Import the data and where to save it "
   ]
  },
  {
   "cell_type": "code",
   "execution_count": 9,
   "metadata": {},
   "outputs": [],
   "source": [
    "path_to_save = path+\"/\"+folderName+\"/\"+seq_str #also for loading"
   ]
  },
  {
   "cell_type": "code",
   "execution_count": 10,
   "metadata": {},
   "outputs": [
    {
     "data": {
      "text/plain": [
       "'/Volumes/GilInVivoPaper.large/2.Photometry_in_str/2.dual_color_photo_full_data_set_analysis//right_dual_color_photo_full_data_set_after_inspection/0a1b2a3b4abcd5a6a7a'"
      ]
     },
     "execution_count": 10,
     "metadata": {},
     "output_type": "execute_result"
    }
   ],
   "source": [
    "path_to_save"
   ]
  },
  {
   "cell_type": "markdown",
   "metadata": {},
   "source": [
    "# Import the data and where to save it "
   ]
  },
  {
   "cell_type": "code",
   "execution_count": 11,
   "metadata": {},
   "outputs": [
    {
     "name": "stdout",
     "output_type": "stream",
     "text": [
      "CPU times: user 12.3 s, sys: 1.12 s, total: 13.4 s\n",
      "Wall time: 13.5 s\n"
     ]
    }
   ],
   "source": [
    "%%time\n",
    "root = Path(path_to_save)\n",
    "d = \"data_object_photometry\"+\"_\"+seq_str+'.pickle'\n",
    "my_path = root / d \n",
    "fileToOpen = open(my_path, 'rb')\n",
    "data_set = pickle.load(fileToOpen)"
   ]
  },
  {
   "cell_type": "code",
   "execution_count": null,
   "metadata": {},
   "outputs": [],
   "source": []
  },
  {
   "cell_type": "code",
   "execution_count": 12,
   "metadata": {},
   "outputs": [],
   "source": [
    "y_axis_list = [\"df_f\",\"z_score\",\"z_score_sliding_window\"]"
   ]
  },
  {
   "cell_type": "code",
   "execution_count": 13,
   "metadata": {},
   "outputs": [
    {
     "name": "stdout",
     "output_type": "stream",
     "text": [
      "z_score\n"
     ]
    }
   ],
   "source": [
    "alphabet = [\"a\",\"b\",\"c\",\"d\",\"e\",\"f\",\"g\"]\n",
    "y_axis = y_axis_list[alphabet.index(seq_str[:seq_str.index('4')][-1])]\n",
    "print (y_axis)"
   ]
  },
  {
   "cell_type": "code",
   "execution_count": null,
   "metadata": {},
   "outputs": [],
   "source": []
  },
  {
   "cell_type": "code",
   "execution_count": 14,
   "metadata": {},
   "outputs": [],
   "source": [
    "# stash result in a cache directory, for how many back. \n",
    "cache_dir_plt = os.path.join(path_to_save,analysis_type,period_of_interest)\n",
    "if not os.path.exists(cache_dir_plt):\n",
    "    os.makedirs(cache_dir_plt)"
   ]
  },
  {
   "cell_type": "code",
   "execution_count": 15,
   "metadata": {},
   "outputs": [
    {
     "data": {
      "text/plain": [
       "'/Volumes/GilInVivoPaper.large/2.Photometry_in_str/2.dual_color_photo_full_data_set_analysis//right_dual_color_photo_full_data_set_after_inspection/0a1b2a3b4abcd5a6a7a/data_set_lineplot_no direction_win_and_lose_trial_right_side/combined_periods_1'"
      ]
     },
     "execution_count": 15,
     "metadata": {},
     "output_type": "execute_result"
    }
   ],
   "source": [
    "cache_dir_plt"
   ]
  },
  {
   "cell_type": "markdown",
   "metadata": {},
   "source": [
    "# generate data sets of interest"
   ]
  },
  {
   "cell_type": "code",
   "execution_count": null,
   "metadata": {},
   "outputs": [],
   "source": [
    "#combinations = [(2, 2), (2, 1), (1, 2), (1, 1)]"
   ]
  },
  {
   "cell_type": "code",
   "execution_count": 16,
   "metadata": {
    "scrolled": true
   },
   "outputs": [
    {
     "name": "stdout",
     "output_type": "stream",
     "text": [
      "empty\n",
      "full\n",
      "empty\n",
      "empty\n",
      "full\n",
      "full\n",
      "empty\n",
      "full\n",
      "full\n",
      "empty\n",
      "empty\n",
      "empty\n",
      "full\n",
      "full\n",
      "full\n",
      "full\n",
      "empty\n",
      "full\n",
      "empty\n",
      "full\n",
      "full\n",
      "full\n",
      "full\n",
      "full\n",
      "empty\n",
      "full\n",
      "empty\n",
      "empty\n",
      "empty\n",
      "full\n",
      "empty\n",
      "full\n",
      "empty\n",
      "empty\n",
      "empty\n",
      "full\n",
      "empty\n",
      "full\n",
      "full\n",
      "empty\n"
     ]
    }
   ],
   "source": [
    "r_ws_period_d1_data_set= dslhf.extract_data_of_interest_ipsi_contra_data_set(data_set,\n",
    "                                                                           0,2,\n",
    "                                                                           period_of_interest,\"d1 R\")"
   ]
  },
  {
   "cell_type": "code",
   "execution_count": 17,
   "metadata": {
    "scrolled": true
   },
   "outputs": [
    {
     "name": "stdout",
     "output_type": "stream",
     "text": [
      "empty\n",
      "full\n",
      "empty\n",
      "empty\n",
      "full\n",
      "full\n",
      "empty\n",
      "full\n",
      "full\n",
      "empty\n",
      "empty\n",
      "empty\n",
      "full\n",
      "full\n",
      "full\n",
      "full\n",
      "empty\n",
      "full\n",
      "empty\n",
      "full\n",
      "full\n",
      "full\n",
      "full\n",
      "full\n",
      "empty\n",
      "full\n",
      "empty\n",
      "empty\n",
      "empty\n",
      "full\n",
      "empty\n",
      "full\n",
      "empty\n",
      "empty\n",
      "empty\n",
      "full\n",
      "empty\n",
      "full\n",
      "full\n",
      "empty\n"
     ]
    }
   ],
   "source": [
    "r_ws_period_d2_data_set= dslhf.extract_data_of_interest_ipsi_contra_data_set(data_set,\n",
    "                                                                           0,2,\n",
    "                                                                           period_of_interest,\"d2 R\")"
   ]
  },
  {
   "cell_type": "code",
   "execution_count": 18,
   "metadata": {
    "scrolled": true
   },
   "outputs": [
    {
     "name": "stdout",
     "output_type": "stream",
     "text": [
      "full\n",
      "full\n",
      "full\n",
      "full\n",
      "full\n",
      "full\n",
      "full\n",
      "full\n",
      "full\n",
      "full\n",
      "full\n",
      "full\n",
      "full\n",
      "full\n",
      "full\n",
      "full\n",
      "full\n",
      "full\n",
      "full\n",
      "full\n",
      "full\n",
      "full\n",
      "full\n",
      "full\n",
      "full\n",
      "full\n",
      "full\n",
      "full\n",
      "full\n",
      "full\n",
      "full\n",
      "full\n",
      "full\n",
      "full\n",
      "full\n",
      "full\n",
      "full\n",
      "full\n",
      "full\n",
      "full\n"
     ]
    }
   ],
   "source": [
    "r_wr_period_d1_data_set= dslhf.extract_data_of_interest_ipsi_contra_data_set(data_set,\n",
    "                                                                           0,3,\n",
    "                                                                           period_of_interest,\"d1 R\")"
   ]
  },
  {
   "cell_type": "code",
   "execution_count": 19,
   "metadata": {
    "scrolled": true
   },
   "outputs": [
    {
     "name": "stdout",
     "output_type": "stream",
     "text": [
      "full\n",
      "full\n",
      "full\n",
      "full\n",
      "full\n",
      "full\n",
      "full\n",
      "full\n",
      "full\n",
      "full\n",
      "full\n",
      "full\n",
      "full\n",
      "full\n",
      "full\n",
      "full\n",
      "full\n",
      "full\n",
      "full\n",
      "full\n",
      "full\n",
      "full\n",
      "full\n",
      "full\n",
      "full\n",
      "full\n",
      "full\n",
      "full\n",
      "full\n",
      "full\n",
      "full\n",
      "full\n",
      "full\n",
      "full\n",
      "full\n",
      "full\n",
      "full\n",
      "full\n",
      "full\n",
      "full\n"
     ]
    }
   ],
   "source": [
    "r_wr_period_d2_data_set= dslhf.extract_data_of_interest_ipsi_contra_data_set(data_set,\n",
    "                                                                           0,3,\n",
    "                                                                           period_of_interest,\"d2 R\")"
   ]
  },
  {
   "cell_type": "code",
   "execution_count": 20,
   "metadata": {
    "scrolled": true
   },
   "outputs": [
    {
     "name": "stdout",
     "output_type": "stream",
     "text": [
      "full\n",
      "full\n",
      "full\n",
      "full\n",
      "full\n",
      "full\n",
      "full\n",
      "full\n",
      "full\n",
      "full\n",
      "full\n",
      "full\n",
      "full\n",
      "full\n",
      "full\n",
      "full\n",
      "full\n",
      "full\n",
      "full\n",
      "full\n",
      "full\n",
      "full\n",
      "full\n",
      "full\n",
      "full\n",
      "full\n",
      "full\n",
      "full\n",
      "full\n",
      "full\n",
      "full\n",
      "full\n",
      "full\n",
      "full\n",
      "full\n",
      "full\n",
      "full\n",
      "full\n",
      "full\n",
      "full\n"
     ]
    }
   ],
   "source": [
    "r_ls_period_d1_data_set= dslhf.extract_data_of_interest_ipsi_contra_data_set(data_set,\n",
    "                                                                           0,0,\n",
    "                                                                           period_of_interest,\"d1 R\")"
   ]
  },
  {
   "cell_type": "code",
   "execution_count": 21,
   "metadata": {
    "scrolled": true
   },
   "outputs": [
    {
     "name": "stdout",
     "output_type": "stream",
     "text": [
      "full\n",
      "full\n",
      "full\n",
      "full\n",
      "full\n",
      "full\n",
      "full\n",
      "full\n",
      "full\n",
      "full\n",
      "full\n",
      "full\n",
      "full\n",
      "full\n",
      "full\n",
      "full\n",
      "full\n",
      "full\n",
      "full\n",
      "full\n",
      "full\n",
      "full\n",
      "full\n",
      "full\n",
      "full\n",
      "full\n",
      "full\n",
      "full\n",
      "full\n",
      "full\n",
      "full\n",
      "full\n",
      "full\n",
      "full\n",
      "full\n",
      "full\n",
      "full\n",
      "full\n",
      "full\n",
      "full\n"
     ]
    }
   ],
   "source": [
    "r_ls_period_d2_data_set= dslhf.extract_data_of_interest_ipsi_contra_data_set(data_set,\n",
    "                                                                           0,0,\n",
    "                                                                           period_of_interest,\"d2 R\")"
   ]
  },
  {
   "cell_type": "code",
   "execution_count": 22,
   "metadata": {},
   "outputs": [
    {
     "name": "stdout",
     "output_type": "stream",
     "text": [
      "full\n",
      "full\n",
      "full\n",
      "full\n",
      "full\n",
      "full\n",
      "full\n",
      "full\n",
      "full\n",
      "full\n",
      "full\n",
      "full\n",
      "empty\n",
      "full\n",
      "full\n",
      "empty\n",
      "empty\n",
      "full\n",
      "full\n",
      "full\n",
      "full\n",
      "full\n",
      "full\n",
      "full\n",
      "full\n",
      "full\n",
      "empty\n",
      "full\n",
      "full\n",
      "full\n",
      "full\n",
      "full\n",
      "full\n",
      "full\n",
      "full\n",
      "full\n",
      "full\n",
      "full\n",
      "full\n",
      "full\n"
     ]
    }
   ],
   "source": [
    "r_lr_period_d1_data_set= dslhf.extract_data_of_interest_ipsi_contra_data_set(data_set,\n",
    "                                                                           0,1,\n",
    "                                                                           period_of_interest,\"d1 R\")"
   ]
  },
  {
   "cell_type": "code",
   "execution_count": 23,
   "metadata": {},
   "outputs": [
    {
     "name": "stdout",
     "output_type": "stream",
     "text": [
      "full\n",
      "full\n",
      "full\n",
      "full\n",
      "full\n",
      "full\n",
      "full\n",
      "full\n",
      "full\n",
      "full\n",
      "full\n",
      "full\n",
      "empty\n",
      "full\n",
      "full\n",
      "empty\n",
      "empty\n",
      "full\n",
      "full\n",
      "full\n",
      "full\n",
      "full\n",
      "full\n",
      "full\n",
      "full\n",
      "full\n",
      "empty\n",
      "full\n",
      "full\n",
      "full\n",
      "full\n",
      "full\n",
      "full\n",
      "full\n",
      "full\n",
      "full\n",
      "full\n",
      "full\n",
      "full\n",
      "full\n"
     ]
    }
   ],
   "source": [
    "r_lr_period_d2_data_set= dslhf.extract_data_of_interest_ipsi_contra_data_set(data_set,\n",
    "                                                                           0,1,\n",
    "                                                                           period_of_interest,\"d2 R\")"
   ]
  },
  {
   "cell_type": "code",
   "execution_count": 24,
   "metadata": {},
   "outputs": [],
   "source": [
    "def combine_data_of_interest (data_set_1, data_set_2): \n",
    "    \n",
    "    ipsi_contra_data_set_combined = []\n",
    "    \n",
    "    for session_1,session_2 in zip(data_set_1,data_set_2):\n",
    "        ipsi_contra = combine_data_of_interest_helper(session_1,session_2)\n",
    "        ipsi_contra_data_set_combined.append(ipsi_contra)\n",
    "        \n",
    "    return (ipsi_contra_data_set_combined)"
   ]
  },
  {
   "cell_type": "code",
   "execution_count": 25,
   "metadata": {},
   "outputs": [],
   "source": [
    "def combine_data_of_interest_helper (session_1, session_2):\n",
    "#combine function: \n",
    "#append the win switch (if exists) to the win repeats that do exist.\n",
    "    ipsi_combined =  pd.concat([session_1[0],session_2[0]],axis=1)\n",
    "    contra_combined =  pd.concat([session_1[1],session_2[1]],axis=1)\n",
    "\n",
    "    #contra_combined = PhotoData_perTrial_channels[rl][1][tt][period][cell_type]\n",
    "    return (ipsi_combined,contra_combined)"
   ]
  },
  {
   "cell_type": "code",
   "execution_count": 26,
   "metadata": {},
   "outputs": [],
   "source": [
    "r_d1_win_data_set = combine_data_of_interest (r_wr_period_d1_data_set,r_ws_period_d1_data_set)"
   ]
  },
  {
   "cell_type": "code",
   "execution_count": 27,
   "metadata": {},
   "outputs": [],
   "source": [
    "r_d2_win_data_set = combine_data_of_interest (r_wr_period_d2_data_set,r_ws_period_d2_data_set)"
   ]
  },
  {
   "cell_type": "code",
   "execution_count": 28,
   "metadata": {},
   "outputs": [],
   "source": [
    "r_d1_lose_data_set = combine_data_of_interest (r_ls_period_d1_data_set,r_lr_period_d1_data_set)"
   ]
  },
  {
   "cell_type": "code",
   "execution_count": 29,
   "metadata": {},
   "outputs": [],
   "source": [
    "r_d2_lose_data_set = combine_data_of_interest (r_ls_period_d2_data_set,r_lr_period_d2_data_set)"
   ]
  },
  {
   "cell_type": "code",
   "execution_count": 39,
   "metadata": {},
   "outputs": [
    {
     "data": {
      "text/html": [
       "<div>\n",
       "<style scoped>\n",
       "    .dataframe tbody tr th:only-of-type {\n",
       "        vertical-align: middle;\n",
       "    }\n",
       "\n",
       "    .dataframe tbody tr th {\n",
       "        vertical-align: top;\n",
       "    }\n",
       "\n",
       "    .dataframe thead th {\n",
       "        text-align: right;\n",
       "    }\n",
       "</style>\n",
       "<table border=\"1\" class=\"dataframe\">\n",
       "  <thead>\n",
       "    <tr style=\"text-align: right;\">\n",
       "      <th></th>\n",
       "      <th>18.0</th>\n",
       "      <th>33.0</th>\n",
       "      <th>36.0</th>\n",
       "      <th>37.0</th>\n",
       "      <th>38.0</th>\n",
       "      <th>39.0</th>\n",
       "      <th>40.0</th>\n",
       "      <th>52.0</th>\n",
       "      <th>53.0</th>\n",
       "      <th>54.0</th>\n",
       "      <th>...</th>\n",
       "      <th>204.0</th>\n",
       "      <th>215.0</th>\n",
       "      <th>216.0</th>\n",
       "      <th>217.0</th>\n",
       "      <th>218.0</th>\n",
       "      <th>219.0</th>\n",
       "      <th>233.0</th>\n",
       "      <th>249.0</th>\n",
       "      <th>250.0</th>\n",
       "      <th>252.0</th>\n",
       "    </tr>\n",
       "  </thead>\n",
       "  <tbody>\n",
       "    <tr>\n",
       "      <th>0</th>\n",
       "      <td>-1.114086</td>\n",
       "      <td>0.883403</td>\n",
       "      <td>1.453144</td>\n",
       "      <td>0.495783</td>\n",
       "      <td>-0.772414</td>\n",
       "      <td>-1.123418</td>\n",
       "      <td>-0.040177</td>\n",
       "      <td>0.857911</td>\n",
       "      <td>-1.065080</td>\n",
       "      <td>-1.146431</td>\n",
       "      <td>...</td>\n",
       "      <td>-1.050389</td>\n",
       "      <td>1.290279</td>\n",
       "      <td>-0.933589</td>\n",
       "      <td>-2.108967</td>\n",
       "      <td>-0.824642</td>\n",
       "      <td>0.293656</td>\n",
       "      <td>-0.346212</td>\n",
       "      <td>-0.395529</td>\n",
       "      <td>0.640219</td>\n",
       "      <td>0.827755</td>\n",
       "    </tr>\n",
       "    <tr>\n",
       "      <th>1</th>\n",
       "      <td>-1.125591</td>\n",
       "      <td>0.909538</td>\n",
       "      <td>1.402391</td>\n",
       "      <td>0.357189</td>\n",
       "      <td>-0.779960</td>\n",
       "      <td>-1.044849</td>\n",
       "      <td>0.002889</td>\n",
       "      <td>0.762359</td>\n",
       "      <td>-1.148290</td>\n",
       "      <td>-1.147611</td>\n",
       "      <td>...</td>\n",
       "      <td>-1.029669</td>\n",
       "      <td>1.329856</td>\n",
       "      <td>-0.984114</td>\n",
       "      <td>-2.122083</td>\n",
       "      <td>-0.685428</td>\n",
       "      <td>0.286462</td>\n",
       "      <td>-0.417235</td>\n",
       "      <td>-0.439512</td>\n",
       "      <td>0.566375</td>\n",
       "      <td>0.761135</td>\n",
       "    </tr>\n",
       "    <tr>\n",
       "      <th>2</th>\n",
       "      <td>-1.125249</td>\n",
       "      <td>0.936310</td>\n",
       "      <td>1.348451</td>\n",
       "      <td>0.216881</td>\n",
       "      <td>-0.786476</td>\n",
       "      <td>-0.964272</td>\n",
       "      <td>0.045116</td>\n",
       "      <td>0.658152</td>\n",
       "      <td>-1.193338</td>\n",
       "      <td>-1.129515</td>\n",
       "      <td>...</td>\n",
       "      <td>-1.009100</td>\n",
       "      <td>1.357540</td>\n",
       "      <td>-1.031042</td>\n",
       "      <td>-2.125527</td>\n",
       "      <td>-0.546417</td>\n",
       "      <td>0.262143</td>\n",
       "      <td>-0.489479</td>\n",
       "      <td>-0.484667</td>\n",
       "      <td>0.452933</td>\n",
       "      <td>0.686714</td>\n",
       "    </tr>\n",
       "    <tr>\n",
       "      <th>3</th>\n",
       "      <td>-1.103897</td>\n",
       "      <td>0.947048</td>\n",
       "      <td>1.295991</td>\n",
       "      <td>0.056732</td>\n",
       "      <td>-0.789563</td>\n",
       "      <td>-0.881343</td>\n",
       "      <td>0.086071</td>\n",
       "      <td>0.559698</td>\n",
       "      <td>-1.232090</td>\n",
       "      <td>-1.098191</td>\n",
       "      <td>...</td>\n",
       "      <td>-0.976402</td>\n",
       "      <td>1.374899</td>\n",
       "      <td>-1.079490</td>\n",
       "      <td>-2.124869</td>\n",
       "      <td>-0.395856</td>\n",
       "      <td>0.250592</td>\n",
       "      <td>-0.561875</td>\n",
       "      <td>-0.519782</td>\n",
       "      <td>0.359520</td>\n",
       "      <td>0.619583</td>\n",
       "    </tr>\n",
       "    <tr>\n",
       "      <th>4</th>\n",
       "      <td>-1.071771</td>\n",
       "      <td>0.955678</td>\n",
       "      <td>1.241815</td>\n",
       "      <td>-0.100919</td>\n",
       "      <td>-0.792650</td>\n",
       "      <td>-0.797581</td>\n",
       "      <td>0.132469</td>\n",
       "      <td>0.453278</td>\n",
       "      <td>-1.237303</td>\n",
       "      <td>-1.051770</td>\n",
       "      <td>...</td>\n",
       "      <td>-0.943755</td>\n",
       "      <td>1.383806</td>\n",
       "      <td>-1.127127</td>\n",
       "      <td>-2.115196</td>\n",
       "      <td>-0.248334</td>\n",
       "      <td>0.223486</td>\n",
       "      <td>-0.635440</td>\n",
       "      <td>-0.535734</td>\n",
       "      <td>0.232268</td>\n",
       "      <td>0.553878</td>\n",
       "    </tr>\n",
       "    <tr>\n",
       "      <th>...</th>\n",
       "      <td>...</td>\n",
       "      <td>...</td>\n",
       "      <td>...</td>\n",
       "      <td>...</td>\n",
       "      <td>...</td>\n",
       "      <td>...</td>\n",
       "      <td>...</td>\n",
       "      <td>...</td>\n",
       "      <td>...</td>\n",
       "      <td>...</td>\n",
       "      <td>...</td>\n",
       "      <td>...</td>\n",
       "      <td>...</td>\n",
       "      <td>...</td>\n",
       "      <td>...</td>\n",
       "      <td>...</td>\n",
       "      <td>...</td>\n",
       "      <td>...</td>\n",
       "      <td>...</td>\n",
       "      <td>...</td>\n",
       "      <td>...</td>\n",
       "    </tr>\n",
       "    <tr>\n",
       "      <th>995</th>\n",
       "      <td>-0.700949</td>\n",
       "      <td>0.534983</td>\n",
       "      <td>-0.149612</td>\n",
       "      <td>-0.743204</td>\n",
       "      <td>0.726216</td>\n",
       "      <td>-2.317248</td>\n",
       "      <td>-1.468995</td>\n",
       "      <td>0.383183</td>\n",
       "      <td>-1.363828</td>\n",
       "      <td>-1.410307</td>\n",
       "      <td>...</td>\n",
       "      <td>-0.017593</td>\n",
       "      <td>-0.697662</td>\n",
       "      <td>-0.136037</td>\n",
       "      <td>-1.203891</td>\n",
       "      <td>0.255152</td>\n",
       "      <td>-0.352790</td>\n",
       "      <td>-0.302346</td>\n",
       "      <td>0.335016</td>\n",
       "      <td>-0.011859</td>\n",
       "      <td>-0.882503</td>\n",
       "    </tr>\n",
       "    <tr>\n",
       "      <th>996</th>\n",
       "      <td>-0.722670</td>\n",
       "      <td>0.586364</td>\n",
       "      <td>-0.074215</td>\n",
       "      <td>-0.748398</td>\n",
       "      <td>0.710197</td>\n",
       "      <td>-2.174692</td>\n",
       "      <td>-1.431126</td>\n",
       "      <td>0.458286</td>\n",
       "      <td>-1.361370</td>\n",
       "      <td>-1.572045</td>\n",
       "      <td>...</td>\n",
       "      <td>0.011529</td>\n",
       "      <td>-0.763521</td>\n",
       "      <td>0.014919</td>\n",
       "      <td>-1.231091</td>\n",
       "      <td>0.291784</td>\n",
       "      <td>-0.331342</td>\n",
       "      <td>-0.338444</td>\n",
       "      <td>0.288901</td>\n",
       "      <td>-0.078658</td>\n",
       "      <td>-0.917414</td>\n",
       "    </tr>\n",
       "    <tr>\n",
       "      <th>997</th>\n",
       "      <td>-0.738339</td>\n",
       "      <td>0.638627</td>\n",
       "      <td>0.005394</td>\n",
       "      <td>-0.758156</td>\n",
       "      <td>0.683058</td>\n",
       "      <td>-2.014696</td>\n",
       "      <td>-1.383054</td>\n",
       "      <td>0.526601</td>\n",
       "      <td>-1.355321</td>\n",
       "      <td>-1.737665</td>\n",
       "      <td>...</td>\n",
       "      <td>0.056829</td>\n",
       "      <td>-0.830138</td>\n",
       "      <td>0.169220</td>\n",
       "      <td>-1.244008</td>\n",
       "      <td>0.325831</td>\n",
       "      <td>-0.310198</td>\n",
       "      <td>-0.373067</td>\n",
       "      <td>0.244022</td>\n",
       "      <td>-0.149286</td>\n",
       "      <td>-0.955842</td>\n",
       "    </tr>\n",
       "    <tr>\n",
       "      <th>998</th>\n",
       "      <td>-0.752006</td>\n",
       "      <td>0.688490</td>\n",
       "      <td>0.090883</td>\n",
       "      <td>-0.759874</td>\n",
       "      <td>0.642145</td>\n",
       "      <td>-1.841767</td>\n",
       "      <td>-1.331941</td>\n",
       "      <td>0.582374</td>\n",
       "      <td>-1.344011</td>\n",
       "      <td>-1.905154</td>\n",
       "      <td>...</td>\n",
       "      <td>0.116387</td>\n",
       "      <td>-0.896706</td>\n",
       "      <td>0.326609</td>\n",
       "      <td>-1.244210</td>\n",
       "      <td>0.347820</td>\n",
       "      <td>-0.299144</td>\n",
       "      <td>-0.409267</td>\n",
       "      <td>0.206163</td>\n",
       "      <td>-0.217667</td>\n",
       "      <td>-0.993403</td>\n",
       "    </tr>\n",
       "    <tr>\n",
       "      <th>999</th>\n",
       "      <td>-0.760792</td>\n",
       "      <td>0.738549</td>\n",
       "      <td>0.178135</td>\n",
       "      <td>-0.756445</td>\n",
       "      <td>0.587262</td>\n",
       "      <td>-1.657865</td>\n",
       "      <td>-1.272047</td>\n",
       "      <td>0.619016</td>\n",
       "      <td>-1.330833</td>\n",
       "      <td>-2.074708</td>\n",
       "      <td>...</td>\n",
       "      <td>0.186410</td>\n",
       "      <td>-0.956236</td>\n",
       "      <td>0.484707</td>\n",
       "      <td>-1.233725</td>\n",
       "      <td>0.364084</td>\n",
       "      <td>-0.300260</td>\n",
       "      <td>-0.444348</td>\n",
       "      <td>0.185892</td>\n",
       "      <td>-0.286198</td>\n",
       "      <td>-1.033971</td>\n",
       "    </tr>\n",
       "  </tbody>\n",
       "</table>\n",
       "<p>1000 rows × 63 columns</p>\n",
       "</div>"
      ],
      "text/plain": [
       "        18.0      33.0      36.0      37.0      38.0      39.0      40.0   \\\n",
       "0   -1.114086  0.883403  1.453144  0.495783 -0.772414 -1.123418 -0.040177   \n",
       "1   -1.125591  0.909538  1.402391  0.357189 -0.779960 -1.044849  0.002889   \n",
       "2   -1.125249  0.936310  1.348451  0.216881 -0.786476 -0.964272  0.045116   \n",
       "3   -1.103897  0.947048  1.295991  0.056732 -0.789563 -0.881343  0.086071   \n",
       "4   -1.071771  0.955678  1.241815 -0.100919 -0.792650 -0.797581  0.132469   \n",
       "..        ...       ...       ...       ...       ...       ...       ...   \n",
       "995 -0.700949  0.534983 -0.149612 -0.743204  0.726216 -2.317248 -1.468995   \n",
       "996 -0.722670  0.586364 -0.074215 -0.748398  0.710197 -2.174692 -1.431126   \n",
       "997 -0.738339  0.638627  0.005394 -0.758156  0.683058 -2.014696 -1.383054   \n",
       "998 -0.752006  0.688490  0.090883 -0.759874  0.642145 -1.841767 -1.331941   \n",
       "999 -0.760792  0.738549  0.178135 -0.756445  0.587262 -1.657865 -1.272047   \n",
       "\n",
       "        52.0      53.0      54.0   ...     204.0     215.0     216.0  \\\n",
       "0    0.857911 -1.065080 -1.146431  ... -1.050389  1.290279 -0.933589   \n",
       "1    0.762359 -1.148290 -1.147611  ... -1.029669  1.329856 -0.984114   \n",
       "2    0.658152 -1.193338 -1.129515  ... -1.009100  1.357540 -1.031042   \n",
       "3    0.559698 -1.232090 -1.098191  ... -0.976402  1.374899 -1.079490   \n",
       "4    0.453278 -1.237303 -1.051770  ... -0.943755  1.383806 -1.127127   \n",
       "..        ...       ...       ...  ...       ...       ...       ...   \n",
       "995  0.383183 -1.363828 -1.410307  ... -0.017593 -0.697662 -0.136037   \n",
       "996  0.458286 -1.361370 -1.572045  ...  0.011529 -0.763521  0.014919   \n",
       "997  0.526601 -1.355321 -1.737665  ...  0.056829 -0.830138  0.169220   \n",
       "998  0.582374 -1.344011 -1.905154  ...  0.116387 -0.896706  0.326609   \n",
       "999  0.619016 -1.330833 -2.074708  ...  0.186410 -0.956236  0.484707   \n",
       "\n",
       "        217.0     218.0     219.0     233.0     249.0     250.0     252.0  \n",
       "0   -2.108967 -0.824642  0.293656 -0.346212 -0.395529  0.640219  0.827755  \n",
       "1   -2.122083 -0.685428  0.286462 -0.417235 -0.439512  0.566375  0.761135  \n",
       "2   -2.125527 -0.546417  0.262143 -0.489479 -0.484667  0.452933  0.686714  \n",
       "3   -2.124869 -0.395856  0.250592 -0.561875 -0.519782  0.359520  0.619583  \n",
       "4   -2.115196 -0.248334  0.223486 -0.635440 -0.535734  0.232268  0.553878  \n",
       "..        ...       ...       ...       ...       ...       ...       ...  \n",
       "995 -1.203891  0.255152 -0.352790 -0.302346  0.335016 -0.011859 -0.882503  \n",
       "996 -1.231091  0.291784 -0.331342 -0.338444  0.288901 -0.078658 -0.917414  \n",
       "997 -1.244008  0.325831 -0.310198 -0.373067  0.244022 -0.149286 -0.955842  \n",
       "998 -1.244210  0.347820 -0.299144 -0.409267  0.206163 -0.217667 -0.993403  \n",
       "999 -1.233725  0.364084 -0.300260 -0.444348  0.185892 -0.286198 -1.033971  \n",
       "\n",
       "[1000 rows x 63 columns]"
      ]
     },
     "execution_count": 39,
     "metadata": {},
     "output_type": "execute_result"
    }
   ],
   "source": [
    "r_d1_win_data_set[0][1]"
   ]
  },
  {
   "cell_type": "code",
   "execution_count": 34,
   "metadata": {},
   "outputs": [],
   "source": [
    "def combine_directions(data_set): \n",
    "    \n",
    "    no_direction_data_set=[]\n",
    "    \n",
    "    for session in data_set:\n",
    "        ipsi_contra_combined = combine_directions_helper(session)\n",
    "        no_direction_data_set.append(ipsi_contra_combined)\n",
    "    return (no_direction_data_set)"
   ]
  },
  {
   "cell_type": "code",
   "execution_count": 35,
   "metadata": {},
   "outputs": [],
   "source": [
    "def combine_directions_helper (session):\n",
    "    ipsi_contra_combined =  pd.concat([session[0],session[1]],axis=1)\n",
    "    return (ipsi_contra_combined)"
   ]
  },
  {
   "cell_type": "code",
   "execution_count": 40,
   "metadata": {},
   "outputs": [],
   "source": [
    "r_d1_win_combined_dir_data_set = combine_directions (r_d1_win_data_set)"
   ]
  },
  {
   "cell_type": "code",
   "execution_count": 41,
   "metadata": {},
   "outputs": [],
   "source": [
    "r_d2_win_combined_dir_data_set = combine_directions (r_d2_win_data_set)"
   ]
  },
  {
   "cell_type": "code",
   "execution_count": 42,
   "metadata": {},
   "outputs": [],
   "source": [
    "r_d1_lose_combined_dir_data_set = combine_directions (r_d1_lose_data_set)"
   ]
  },
  {
   "cell_type": "code",
   "execution_count": 43,
   "metadata": {},
   "outputs": [],
   "source": [
    "r_d2_lose_combined_dir_data_set = combine_directions (r_d2_lose_data_set)"
   ]
  },
  {
   "cell_type": "markdown",
   "metadata": {},
   "source": [
    "# Calculate means per each session "
   ]
  },
  {
   "cell_type": "code",
   "execution_count": 44,
   "metadata": {},
   "outputs": [],
   "source": [
    "def calculate_mean_data_set_no_direc (no_direction_data_set): \n",
    "    \n",
    "    df_no_direction = pd.DataFrame()\n",
    "    \n",
    "    for no_direc_session in no_direction_data_set:    \n",
    "        session_no_direc_mean = no_direc_session.mean(axis=1)\n",
    "        df_no_direction = pd.concat([df_no_direction,session_no_direc_mean],axis=1)\n",
    "        \n",
    "    return (df_no_direction)"
   ]
  },
  {
   "cell_type": "code",
   "execution_count": 45,
   "metadata": {},
   "outputs": [],
   "source": [
    "r_d1_win_data_set_df_no_direc = calculate_mean_data_set_no_direc(r_d1_win_combined_dir_data_set)"
   ]
  },
  {
   "cell_type": "code",
   "execution_count": 46,
   "metadata": {},
   "outputs": [],
   "source": [
    "r_d2_win_data_set_df_no_direc = calculate_mean_data_set_no_direc(r_d2_win_combined_dir_data_set)"
   ]
  },
  {
   "cell_type": "code",
   "execution_count": 47,
   "metadata": {},
   "outputs": [],
   "source": [
    "r_d1_lose_data_set_df_no_direc = calculate_mean_data_set_no_direc(r_d1_lose_combined_dir_data_set)"
   ]
  },
  {
   "cell_type": "code",
   "execution_count": 48,
   "metadata": {},
   "outputs": [],
   "source": [
    "r_d2_lose_data_set_df_no_direc = calculate_mean_data_set_no_direc(r_d2_lose_combined_dir_data_set)"
   ]
  },
  {
   "cell_type": "markdown",
   "metadata": {},
   "source": [
    "# Calculate means and sem on the data set "
   ]
  },
  {
   "cell_type": "code",
   "execution_count": 49,
   "metadata": {},
   "outputs": [],
   "source": [
    "def calculate_mean_sem_no_direc(no_direction_data_set):\n",
    "    \n",
    "    number_of_trials_no_direc = len(no_direction_data_set.columns)\n",
    "    mean_no_direc = no_direction_data_set.mean(axis=1)\n",
    "    sem_no_direc = no_direction_data_set.std(axis=1)/(number_of_trials_no_direc**0.5)\n",
    "        \n",
    "    return (mean_no_direc,sem_no_direc,number_of_trials_no_direc)\n",
    "    #in the return - its called trials but its actually sessions. I am just using the same code as notebook 7s so kept it the same."
   ]
  },
  {
   "cell_type": "code",
   "execution_count": 50,
   "metadata": {},
   "outputs": [],
   "source": [
    "r_d1_win_mean_sem_no_direc = calculate_mean_sem_no_direc (r_d1_win_data_set_df_no_direc)"
   ]
  },
  {
   "cell_type": "code",
   "execution_count": 51,
   "metadata": {},
   "outputs": [],
   "source": [
    "r_d2_win_mean_sem_no_direc = calculate_mean_sem_no_direc (r_d2_win_data_set_df_no_direc)"
   ]
  },
  {
   "cell_type": "code",
   "execution_count": 52,
   "metadata": {},
   "outputs": [],
   "source": [
    "r_d1_lose_mean_sem_no_direc = calculate_mean_sem_no_direc (r_d1_lose_data_set_df_no_direc)"
   ]
  },
  {
   "cell_type": "code",
   "execution_count": 53,
   "metadata": {},
   "outputs": [],
   "source": [
    "r_d2_lose_mean_sem_no_direc = calculate_mean_sem_no_direc (r_d2_lose_data_set_df_no_direc)"
   ]
  },
  {
   "cell_type": "markdown",
   "metadata": {},
   "source": [
    "# make_sem_traces"
   ]
  },
  {
   "cell_type": "code",
   "execution_count": 54,
   "metadata": {},
   "outputs": [],
   "source": [
    "#make_sem_traces is a function that helps making the sem traces for the plots. \n",
    "def make_sem_traces_no_direc (data_no_direc_mean_sem):\n",
    "    sem_up_no_direc = data_no_direc_mean_sem[0]+data_no_direc_mean_sem[1]/2\n",
    "    sem_down_no_direc = data_no_direc_mean_sem[0]-data_no_direc_mean_sem[1]/2\n",
    "    \n",
    "    return (sem_up_no_direc,sem_down_no_direc)\n"
   ]
  },
  {
   "cell_type": "code",
   "execution_count": 55,
   "metadata": {},
   "outputs": [],
   "source": [
    "r_d1_win_mean_sem_traces = make_sem_traces_no_direc(r_d1_win_mean_sem_no_direc)"
   ]
  },
  {
   "cell_type": "code",
   "execution_count": 56,
   "metadata": {},
   "outputs": [],
   "source": [
    "r_d2_win_mean_sem_traces = make_sem_traces_no_direc(r_d2_win_mean_sem_no_direc)"
   ]
  },
  {
   "cell_type": "code",
   "execution_count": 57,
   "metadata": {},
   "outputs": [],
   "source": [
    "r_d1_lose_mean_sem_traces = make_sem_traces_no_direc(r_d1_lose_mean_sem_no_direc)"
   ]
  },
  {
   "cell_type": "code",
   "execution_count": 58,
   "metadata": {},
   "outputs": [],
   "source": [
    "r_d2_lose_mean_sem_traces = make_sem_traces_no_direc(r_d2_lose_mean_sem_no_direc)"
   ]
  },
  {
   "cell_type": "markdown",
   "metadata": {},
   "source": [
    "# plots"
   ]
  },
  {
   "cell_type": "code",
   "execution_count": 59,
   "metadata": {},
   "outputs": [],
   "source": [
    "def plot_no_direc_lose_win(data_mean_sem_no_direc_win,sem_traces_no_direc_win,\n",
    "                            data_mean_sem_no_direc_lose,sem_traces_no_direc_lose,\n",
    "                            trial_type,period_of_interest,cell_type,y_axis,path_to_plot):\n",
    "    \n",
    "    #number of sessions is the same ipsi and contra. \n",
    "    \n",
    "    plt.plot(data_mean_sem_no_direc_win[0],linewidth=2, label=\"win_no_direc\"+\" \"+\"(\"+str(data_mean_sem_no_direc_win[2])+\")\")\n",
    "    plt.plot(data_mean_sem_no_direc_lose[0],linewidth=2, label=\"lose_no_direc\"+\" \"+\"(\"+str(data_mean_sem_no_direc_lose[2])+\")\")\n",
    "    \n",
    "    plt.plot(sem_traces_no_direc_win[0],color='black', linewidth=0.5,alpha=0.8)\n",
    "    plt.plot(sem_traces_no_direc_win[1],color='black', linewidth=0.5,alpha=0.8)\n",
    "    plt.plot(sem_traces_no_direc_lose[0],color='black', linewidth=0.5,alpha=0.8)\n",
    "    plt.plot(sem_traces_no_direc_lose[1],color='black', linewidth=0.5,alpha=0.8)\n",
    "    \n",
    "    plt.axvline(x=200,color='k')\n",
    "    \n",
    "    # Add legend\n",
    "    plt.legend(loc='lower left')\n",
    "    \n",
    "    \n",
    "    # Add title and x, y labels\n",
    "    title = trial_type+\"_\"+\"(\"+period_of_interest+\")\"\n",
    "    plt.title(title, fontsize=16, fontweight='bold')\n",
    "    plt.suptitle(cell_type, fontsize=16)\n",
    "\n",
    "    plt.xlabel(\"time_bins\")\n",
    "    \n",
    "    #the y axis is defined in the paper mill. This allows to run 7_b with 3a,3b,3c and any future 3s, easliy changing the \n",
    "    #the name of the y axis to not cause confusion. \n",
    "    plt.ylabel(y_axis)\n",
    "    plt.savefig(path_to_plot+\"/\"+\"_\"+trial_type+cell_type+\"_\"+period_of_interest+'.pdf')\n",
    "    plt.show()"
   ]
  },
  {
   "cell_type": "code",
   "execution_count": 60,
   "metadata": {
    "scrolled": true
   },
   "outputs": [
    {
     "data": {
      "image/png": "[encoded data removed]",
      "text/plain": [
       "<Figure size 432x288 with 1 Axes>"
      ]
     },
     "metadata": {
      "needs_background": "light"
     },
     "output_type": "display_data"
    }
   ],
   "source": [
    "plot_no_direc_lose_win(r_d1_win_mean_sem_no_direc,r_d1_win_mean_sem_traces,\n",
    "                       r_d1_lose_mean_sem_no_direc,r_d1_lose_mean_sem_traces,\n",
    "                       \"right_win_lose_no_direc\",period_of_interest,\"D1\",y_axis,cache_dir_plt)"
   ]
  },
  {
   "cell_type": "code",
   "execution_count": 61,
   "metadata": {
    "scrolled": true
   },
   "outputs": [
    {
     "data": {
      "image/png": "[encoded data removed]",
      "text/plain": [
       "<Figure size 432x288 with 1 Axes>"
      ]
     },
     "metadata": {
      "needs_background": "light"
     },
     "output_type": "display_data"
    }
   ],
   "source": [
    "plot_no_direc_lose_win(r_d2_win_mean_sem_no_direc,r_d2_win_mean_sem_traces,\n",
    "                       r_d2_lose_mean_sem_no_direc,r_d2_lose_mean_sem_traces,\n",
    "                       \"right_win_lose_no_direc\",period_of_interest,\"D2\",y_axis,cache_dir_plt)"
   ]
  },
  {
   "cell_type": "code",
   "execution_count": null,
   "metadata": {},
   "outputs": [],
   "source": []
  }
 ],
 "metadata": {
  "celltoolbar": "Tags",
  "kernelspec": {
   "display_name": "Python 3",
   "language": "python",
   "name": "python3"
  },
  "language_info": {
   "codemirror_mode": {
    "name": "ipython",
    "version": 3
   },
   "file_extension": ".py",
   "mimetype": "text/x-python",
   "name": "python",
   "nbconvert_exporter": "python",
   "pygments_lexer": "ipython3",
   "version": "3.7.3"
  }
 },
 "nbformat": 4,
 "nbformat_minor": 4
}
