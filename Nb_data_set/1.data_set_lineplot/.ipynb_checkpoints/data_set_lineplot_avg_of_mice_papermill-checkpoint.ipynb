{
 "cells": [
  {
   "cell_type": "code",
   "execution_count": 1,
   "metadata": {},
   "outputs": [],
   "source": [
    "import pickle\n",
    "from pathlib import Path\n",
    "import pandas as pd \n",
    "import os\n",
    "import sys\n",
    "import papermill as pm\n",
    "import getpass"
   ]
  },
  {
   "cell_type": "code",
   "execution_count": 2,
   "metadata": {},
   "outputs": [],
   "source": [
    "# import data_set_analysis_helper_functions as ahf"
   ]
  },
  {
   "cell_type": "code",
   "execution_count": 3,
   "metadata": {},
   "outputs": [
    {
     "data": {
      "text/plain": [
       "'/anaconda3/bin/python3'"
      ]
     },
     "execution_count": 3,
     "metadata": {},
     "output_type": "execute_result"
    }
   ],
   "source": [
    "sys.executable"
   ]
  },
  {
   "cell_type": "code",
   "execution_count": 4,
   "metadata": {},
   "outputs": [
    {
     "data": {
      "text/plain": [
       "'/Users/gilmandelbaum/github/analysis-pipeline-for-photometry_ex/Nb_data_set/1.data_set_lineplot'"
      ]
     },
     "execution_count": 4,
     "metadata": {},
     "output_type": "execute_result"
    }
   ],
   "source": [
    "sys.path[0]"
   ]
  },
  {
   "cell_type": "markdown",
   "metadata": {},
   "source": [
    "## Path to data set: (change based on analysis)"
   ]
  },
  {
   "cell_type": "code",
   "execution_count": 5,
   "metadata": {},
   "outputs": [],
   "source": [
    "# path = \"/Volumes/GilInVivoPaper.large/2.Photometry_in_str/1.lateral_medial_6_analysis/\"\n",
    "path = \"/Volumes/GilInVivoPaper.large/2.Photometry_in_str/1.lateral_medial_6_analysis_1/\""
   ]
  },
  {
   "cell_type": "markdown",
   "metadata": {},
   "source": [
    "# folder for analysis type: (change based on analysis)"
   ]
  },
  {
   "cell_type": "code",
   "execution_count": 6,
   "metadata": {},
   "outputs": [],
   "source": [
    "folderName=\"right_dual_color_photo_full_data_after_QC\" \n",
    "\n",
    "#folderName=\"left_dual_color_photo_full_data_after_QC\" "
   ]
  },
  {
   "cell_type": "markdown",
   "metadata": {},
   "source": [
    "## what data set we are working on: (change based on analysis)"
   ]
  },
  {
   "cell_type": "code",
   "execution_count": 7,
   "metadata": {},
   "outputs": [],
   "source": [
    "seq_str = '0a1b2b3j4abcd5a6a7a'\n",
    "HowManyBack=1\n",
    "#side_of_brain = \"left_side_of_the_brain\"\n",
    "side_of_brain = \"right_side_of_the_brain\"\n",
    "combinations_of_sessions = \"avg_of_mice\""
   ]
  },
  {
   "cell_type": "code",
   "execution_count": null,
   "metadata": {},
   "outputs": [],
   "source": []
  },
  {
   "cell_type": "code",
   "execution_count": 8,
   "metadata": {},
   "outputs": [
    {
     "data": {
      "text/plain": [
       "'/Volumes/GilInVivoPaper.large/2.Photometry_in_str/1.lateral_medial_6_analysis_1//right_dual_color_photo_full_data_after_QC/0a1b2b3j4abcd5a6a7a'"
      ]
     },
     "execution_count": 8,
     "metadata": {},
     "output_type": "execute_result"
    }
   ],
   "source": [
    "path_to_load_data = path+\"/\"+folderName+\"/\"+seq_str\n",
    "path_to_load_data"
   ]
  },
  {
   "cell_type": "markdown",
   "metadata": {},
   "source": [
    "# list of y axis "
   ]
  },
  {
   "cell_type": "code",
   "execution_count": 9,
   "metadata": {},
   "outputs": [],
   "source": [
    "y_axis_list = [\"df_f_10\",\n",
    "               \"df_f_10_z_score\",\n",
    "               \"df_f_10_z_score_sliding_window\",\n",
    "               \"df_f_10_z_score_smooth1sec\",\n",
    "               \"df_f_10_diff\",\n",
    "               \"df_f_10_deconv\",\n",
    "               \"df_f_1\",\n",
    "               \"df_f_1_smooth1sec\",\n",
    "               \"df_f_1_smooth150ms\",\n",
    "               \"df_f_0.5_smo_1secD1_.25secD2_z+2\",\n",
    "               \"df_f_0.5_smo_.5secD1_.1secD2_z\",\n",
    "               \"df_f_0.5_norm\"]"
   ]
  },
  {
   "cell_type": "code",
   "execution_count": 10,
   "metadata": {},
   "outputs": [
    {
     "name": "stdout",
     "output_type": "stream",
     "text": [
      "df_f_0.5_smooth1secd1250msd2zscor+2\n"
     ]
    }
   ],
   "source": [
    "alphabet = [\"a\",\"b\",\"c\",\"d\",\"e\",\"f\",\"g\",\"h\",\"i\",\"j\",\"k\",\"l\"]\n",
    "y_axis = y_axis_list[alphabet.index(seq_str[:seq_str.index('4')][-1])]\n",
    "print (y_axis)"
   ]
  },
  {
   "cell_type": "markdown",
   "metadata": {},
   "source": [
    "# range of y axis "
   ]
  },
  {
   "cell_type": "code",
   "execution_count": 11,
   "metadata": {},
   "outputs": [],
   "source": [
    "ylim_d1 = [0.0,4]\n",
    "ylim_d2 = [0.0,4]"
   ]
  },
  {
   "cell_type": "markdown",
   "metadata": {},
   "source": [
    "## Load master spread sheet"
   ]
  },
  {
   "cell_type": "code",
   "execution_count": 12,
   "metadata": {},
   "outputs": [],
   "source": [
    "MasterSheetName = \"3.lateral_medial_6_lateral_channels_final\"\n",
    "#MasterSheetName = \"4.lateral_medial_6_medial_channels_final\"\n",
    "Mouse_Date_FileName = pd.read_excel(path+'/'+folderName+\"/\"+MasterSheetName+'.xlsx')"
   ]
  },
  {
   "cell_type": "code",
   "execution_count": 13,
   "metadata": {
    "scrolled": false
   },
   "outputs": [
    {
     "data": {
      "text/html": [
       "<div>\n",
       "<style scoped>\n",
       "    .dataframe tbody tr th:only-of-type {\n",
       "        vertical-align: middle;\n",
       "    }\n",
       "\n",
       "    .dataframe tbody tr th {\n",
       "        vertical-align: top;\n",
       "    }\n",
       "\n",
       "    .dataframe thead th {\n",
       "        text-align: right;\n",
       "    }\n",
       "</style>\n",
       "<table border=\"1\" class=\"dataframe\">\n",
       "  <thead>\n",
       "    <tr style=\"text-align: right;\">\n",
       "      <th></th>\n",
       "      <th>mouse</th>\n",
       "      <th>date</th>\n",
       "      <th>file name</th>\n",
       "    </tr>\n",
       "  </thead>\n",
       "  <tbody>\n",
       "    <tr>\n",
       "      <th>0</th>\n",
       "      <td>T163</td>\n",
       "      <td>181207</td>\n",
       "      <td>T163-123432</td>\n",
       "    </tr>\n",
       "    <tr>\n",
       "      <th>1</th>\n",
       "      <td>T163</td>\n",
       "      <td>181128</td>\n",
       "      <td>T163-115220</td>\n",
       "    </tr>\n",
       "    <tr>\n",
       "      <th>2</th>\n",
       "      <td>T163</td>\n",
       "      <td>181203</td>\n",
       "      <td>T163-115901</td>\n",
       "    </tr>\n",
       "    <tr>\n",
       "      <th>3</th>\n",
       "      <td>T163</td>\n",
       "      <td>181130</td>\n",
       "      <td>T163-133215</td>\n",
       "    </tr>\n",
       "    <tr>\n",
       "      <th>4</th>\n",
       "      <td>T163</td>\n",
       "      <td>181204</td>\n",
       "      <td>T163-114628</td>\n",
       "    </tr>\n",
       "    <tr>\n",
       "      <th>...</th>\n",
       "      <td>...</td>\n",
       "      <td>...</td>\n",
       "      <td>...</td>\n",
       "    </tr>\n",
       "    <tr>\n",
       "      <th>70</th>\n",
       "      <td>T202</td>\n",
       "      <td>190530</td>\n",
       "      <td>T202-152554</td>\n",
       "    </tr>\n",
       "    <tr>\n",
       "      <th>71</th>\n",
       "      <td>T202</td>\n",
       "      <td>190522</td>\n",
       "      <td>T202-141516</td>\n",
       "    </tr>\n",
       "    <tr>\n",
       "      <th>72</th>\n",
       "      <td>T202</td>\n",
       "      <td>190529</td>\n",
       "      <td>T202-160644</td>\n",
       "    </tr>\n",
       "    <tr>\n",
       "      <th>73</th>\n",
       "      <td>T202</td>\n",
       "      <td>190526</td>\n",
       "      <td>T202-142728</td>\n",
       "    </tr>\n",
       "    <tr>\n",
       "      <th>74</th>\n",
       "      <td>T202</td>\n",
       "      <td>190516</td>\n",
       "      <td>T202-165613</td>\n",
       "    </tr>\n",
       "  </tbody>\n",
       "</table>\n",
       "<p>75 rows × 3 columns</p>\n",
       "</div>"
      ],
      "text/plain": [
       "   mouse    date    file name\n",
       "0   T163  181207  T163-123432\n",
       "1   T163  181128  T163-115220\n",
       "2   T163  181203  T163-115901\n",
       "3   T163  181130  T163-133215\n",
       "4   T163  181204  T163-114628\n",
       "..   ...     ...          ...\n",
       "70  T202  190530  T202-152554\n",
       "71  T202  190522  T202-141516\n",
       "72  T202  190529  T202-160644\n",
       "73  T202  190526  T202-142728\n",
       "74  T202  190516  T202-165613\n",
       "\n",
       "[75 rows x 3 columns]"
      ]
     },
     "execution_count": 13,
     "metadata": {},
     "output_type": "execute_result"
    }
   ],
   "source": [
    "Mouse_Date_FileName"
   ]
  },
  {
   "cell_type": "code",
   "execution_count": 14,
   "metadata": {},
   "outputs": [],
   "source": [
    "def session_range_plus1(Mouse_Date_FileName):\n",
    "    session_length = []\n",
    "    mice = Mouse_Date_FileName['mouse'].unique() \n",
    "    for m in mice:\n",
    "        index = Mouse_Date_FileName[Mouse_Date_FileName['mouse']==m].index[-1]\n",
    "        session_length.append(index)\n",
    "    session_length = list(map(lambda x:x+1, session_length))\n",
    "    session_length.insert(0, 0)\n",
    "    return session_length"
   ]
  },
  {
   "cell_type": "code",
   "execution_count": 15,
   "metadata": {},
   "outputs": [],
   "source": [
    "#makes a list of index numbers, each corresponding to the last session of the mouse from mice list\n",
    "sessionIndex_perMouse = session_range_plus1 (Mouse_Date_FileName)"
   ]
  },
  {
   "cell_type": "code",
   "execution_count": 16,
   "metadata": {},
   "outputs": [],
   "source": [
    "sessionIndex_perMouse = list(map (str,sessionIndex_perMouse)) #turn it into a string.. \n",
    "# Could not pass the the list with papermill so turned it into a string. In the notebook itself i turn it back \n",
    "#into a list of integers. "
   ]
  },
  {
   "cell_type": "code",
   "execution_count": 17,
   "metadata": {},
   "outputs": [
    {
     "data": {
      "text/plain": [
       "['0', '8', '15', '33', '54', '62', '70', '75']"
      ]
     },
     "execution_count": 17,
     "metadata": {},
     "output_type": "execute_result"
    }
   ],
   "source": [
    "sessionIndex_perMouse"
   ]
  },
  {
   "cell_type": "markdown",
   "metadata": {},
   "source": [
    "# list of periods to plot: "
   ]
  },
  {
   "cell_type": "code",
   "execution_count": 18,
   "metadata": {},
   "outputs": [],
   "source": [
    "list_of_periods=['combined_periods_1']"
   ]
  },
  {
   "cell_type": "code",
   "execution_count": 19,
   "metadata": {},
   "outputs": [],
   "source": [
    "# list_of_periods=['Real_nTrials',\n",
    "#                  'Reward_NoReward_tag',\n",
    "#                  'ENL_tag',\n",
    "#                  'Cue_to_Sel_tag',\n",
    "#                  'Cue_to_Sel_fromPrevTrial_tag',\n",
    "#                  'firstENLp_tag',\n",
    "#                  'pre_Reward_NoReward_tag',\n",
    "#                  'post_Reward_NoReward_tag',\n",
    "#                  'pre_ENL_tag',\n",
    "#                  'post_ENL_tag',\n",
    "#                  'pre_Cue_to_Sel_tag',\n",
    "#                  'post_Cue_to_Sel_tag',\n",
    "#                  'pre_Cue_to_Sel_fromPrevTrial_tag',\n",
    "#                  'post_Cue_to_Sel_fromPrevTrial_tag',\n",
    "#                  'pre_firstENLp_tag',\n",
    "#                  'post_firstENLp_tag',\n",
    "#                  'first_600_bins_Reward_NoReward_tag',\n",
    "#                  'last_200_bins_ENL_tag',\n",
    "#                  'first_15_bins_Cue_to_Sel_tag',\n",
    "#                  'first_15_bins_Cue_to_Sel_fromPrevTrial_tag',\n",
    "#                  'first_20_bins_firstENLp_tag',\n",
    "#                  'combined_periods_1']"
   ]
  },
  {
   "cell_type": "markdown",
   "metadata": {},
   "source": [
    "# list of notebooks: "
   ]
  },
  {
   "cell_type": "code",
   "execution_count": 20,
   "metadata": {},
   "outputs": [],
   "source": [
    "nb_to_run_list = [\"0.dsl__winall(no_dirc)_loseall(no_dirc)__rs_mice.ipynb\",       \n",
    "                  \"1.dsl__ipsinext_vs_contranext__rs_mice.ipynb\",\n",
    "                  \"2.dsl__ipsiprevious_vs_contraprevious__rs_mice.ipynb\",\n",
    "                  \"3.dsl__winall(ipsi_vs_contra_next)_loseall(ipsi_vs_contra_next)__rs_mice.ipynb\",\n",
    "                  \"4.dsl__winall(ipsi_vs_contra_previous)_loseall(ipsi_vs_contra_previous)__rs_mice.ipynb\",\n",
    "                  \"5.dsl__winrepeat(ipsi_vs_contra_next)_loseswitch(ipsi_vs_contra_next)__rs_mice.ipynb\",\n",
    "                  \"6.dsl__winrepeat(ipsi_vs_contra_previous)_loseswitch(ipsi_vs_contra_previous)__rs_mice.ipynb\",\n",
    "                  \"7.dsl__ipsi_next(WR_vs_LS)_contra_next(WR_vs_LS)__rs_mice.ipynb\",\n",
    "                  \"8.dsl__ipsi_previous(WR_vs_LS)_contra_previous(WR_vs_LS)__rs_mice.ipynb\"]"
   ]
  },
  {
   "cell_type": "code",
   "execution_count": 21,
   "metadata": {},
   "outputs": [],
   "source": [
    "# nb_to_run_list = [\"7.dsl__ipsi_next(WR_vs_LS)_contra_next(WR_vs_LS)__rs_mice.ipynb\",\n",
    "#                   \"8.dsl__ipsi_previous(WR_vs_LS)_contra_previous(WR_vs_LS)__rs_mice.ipynb\"]"
   ]
  },
  {
   "cell_type": "code",
   "execution_count": 22,
   "metadata": {},
   "outputs": [],
   "source": [
    "# nb_to_run_list = [\"0.dsl__winall(no_dirc)_loseall(no_dirc)__ls_mice.ipynb\",\n",
    "#                   \"1.dsl__ipsinext_vs_contranext__ls_mice.ipynb\",\n",
    "#                   \"2.dsl__ipsiprevious_vs_contraprevious__ls_mice.ipynb\",\n",
    "#                   \"3.dsl__winall(ipsi_vs_contra_next)_loseall(ipsi_vs_contra_next)__ls_mice.ipynb\",\n",
    "#                   \"4.dsl__winall(ipsi_vs_contra_previous)_loseall(ipsi_vs_contra_previous)__ls_mice.ipynb\",\n",
    "#                   \"5.dsl__winrepeat(ipsi_vs_contra_next)_loseswitch(ipsi_vs_contra_next)__ls_mice.ipynb\",\n",
    "#                   \"6.dsl__winrepeat(ipsi_vs_contra_previous)_loseswitch(ipsi_vs_contra_previous)__ls_mice.ipynb\",\n",
    "#                   \"7.dsl__ipsi_next(WR_vs_LS)_contra_next(WR_vs_LS)__ls_mice.ipynb\",\n",
    "#                   \"8.dsl__ipsi_previous(WR_vs_LS)_contra_previous(WR_vs_LS)__ls_mice.ipynb\"]"
   ]
  },
  {
   "cell_type": "code",
   "execution_count": 23,
   "metadata": {},
   "outputs": [],
   "source": [
    "# nb_to_run_list = [\"7.dsl__ipsi_next(WR_vs_LS)_contra_next(WR_vs_LS)__ls_mice.ipynb\",\n",
    "#                   \"8.dsl__ipsi_previous(WR_vs_LS)_contra_previous(WR_vs_LS)__ls_mice.ipynb\"]"
   ]
  },
  {
   "cell_type": "code",
   "execution_count": 24,
   "metadata": {},
   "outputs": [],
   "source": [
    "#parameters that were defined above and will carry on for the whole analysis. \n",
    "dict_for_pm = dict(seq_str= seq_str, \n",
    "                   HowManyBack = HowManyBack,\n",
    "                   folderName = folderName,\n",
    "                   path_to_load_data=path_to_load_data,\n",
    "                   sessionIndex_perMouse = sessionIndex_perMouse,\n",
    "                   ylim_d1=ylim_d1,\n",
    "                   ylim_d2=ylim_d2,\n",
    "                   y_axis = y_axis)     "
   ]
  },
  {
   "cell_type": "code",
   "execution_count": 25,
   "metadata": {},
   "outputs": [],
   "source": [
    "# dict_for_pm[\"sessionIndex_perMouse\"]"
   ]
  },
  {
   "cell_type": "code",
   "execution_count": 26,
   "metadata": {
    "scrolled": false
   },
   "outputs": [
    {
     "name": "stdout",
     "output_type": "stream",
     "text": [
      "/Users/gilmandelbaum/github/analysis-pipeline-for-photometry_ex/Nb_data_set/1.data_set_lineplot/right_side_of_the_brain/avg_of_mice/0.dsl__winall(no_dirc)_loseall(no_dirc)__rs_mice.ipynb\n",
      "combined_periods_1\n"
     ]
    },
    {
     "data": {
      "application/vnd.jupyter.widget-view+json": {
       "model_id": "a9f417499d9e49d9a0511cd16355ba91",
       "version_major": 2,
       "version_minor": 0
      },
      "text/plain": [
       "HBox(children=(FloatProgress(value=0.0, description='Executing', max=64.0, style=ProgressStyle(description_wid…"
      ]
     },
     "metadata": {},
     "output_type": "display_data"
    },
    {
     "name": "stdout",
     "output_type": "stream",
     "text": [
      "\n",
      "/Users/gilmandelbaum/github/analysis-pipeline-for-photometry_ex/Nb_data_set/1.data_set_lineplot/right_side_of_the_brain/avg_of_mice/1.dsl__ipsinext_vs_contranext__rs_mice.ipynb\n",
      "combined_periods_1\n"
     ]
    },
    {
     "data": {
      "application/vnd.jupyter.widget-view+json": {
       "model_id": "1cffc68161ab4f7e88b7dcdf738c0298",
       "version_major": 2,
       "version_minor": 0
      },
      "text/plain": [
       "HBox(children=(FloatProgress(value=0.0, description='Executing', max=52.0, style=ProgressStyle(description_wid…"
      ]
     },
     "metadata": {},
     "output_type": "display_data"
    },
    {
     "name": "stdout",
     "output_type": "stream",
     "text": [
      "\n",
      "/Users/gilmandelbaum/github/analysis-pipeline-for-photometry_ex/Nb_data_set/1.data_set_lineplot/right_side_of_the_brain/avg_of_mice/2.dsl__ipsiprevious_vs_contraprevious__rs_mice.ipynb\n",
      "combined_periods_1\n"
     ]
    },
    {
     "data": {
      "application/vnd.jupyter.widget-view+json": {
       "model_id": "a8c4cd51dd3c46f3ab6fdab54f5358c2",
       "version_major": 2,
       "version_minor": 0
      },
      "text/plain": [
       "HBox(children=(FloatProgress(value=0.0, description='Executing', max=52.0, style=ProgressStyle(description_wid…"
      ]
     },
     "metadata": {},
     "output_type": "display_data"
    },
    {
     "name": "stdout",
     "output_type": "stream",
     "text": [
      "\n",
      "/Users/gilmandelbaum/github/analysis-pipeline-for-photometry_ex/Nb_data_set/1.data_set_lineplot/right_side_of_the_brain/avg_of_mice/3.dsl__winall(ipsi_vs_contra_next)_loseall(ipsi_vs_contra_next)__rs_mice.ipynb\n",
      "combined_periods_1\n"
     ]
    },
    {
     "data": {
      "application/vnd.jupyter.widget-view+json": {
       "model_id": "3a9441bd966f46d180512b5c46eba15e",
       "version_major": 2,
       "version_minor": 0
      },
      "text/plain": [
       "HBox(children=(FloatProgress(value=0.0, description='Executing', max=58.0, style=ProgressStyle(description_wid…"
      ]
     },
     "metadata": {},
     "output_type": "display_data"
    },
    {
     "name": "stdout",
     "output_type": "stream",
     "text": [
      "\n",
      "/Users/gilmandelbaum/github/analysis-pipeline-for-photometry_ex/Nb_data_set/1.data_set_lineplot/right_side_of_the_brain/avg_of_mice/4.dsl__winall(ipsi_vs_contra_previous)_loseall(ipsi_vs_contra_previous)__rs_mice.ipynb\n",
      "combined_periods_1\n"
     ]
    },
    {
     "data": {
      "application/vnd.jupyter.widget-view+json": {
       "model_id": "ecaaccb19c5c4e8f98640bcbc6544c46",
       "version_major": 2,
       "version_minor": 0
      },
      "text/plain": [
       "HBox(children=(FloatProgress(value=0.0, description='Executing', max=58.0, style=ProgressStyle(description_wid…"
      ]
     },
     "metadata": {},
     "output_type": "display_data"
    },
    {
     "name": "stdout",
     "output_type": "stream",
     "text": [
      "\n",
      "/Users/gilmandelbaum/github/analysis-pipeline-for-photometry_ex/Nb_data_set/1.data_set_lineplot/right_side_of_the_brain/avg_of_mice/5.dsl__winrepeat(ipsi_vs_contra_next)_loseswitch(ipsi_vs_contra_next)__rs_mice.ipynb\n",
      "combined_periods_1\n"
     ]
    },
    {
     "data": {
      "application/vnd.jupyter.widget-view+json": {
       "model_id": "af804a34f0d74fc6bac41c1bd3a802a9",
       "version_major": 2,
       "version_minor": 0
      },
      "text/plain": [
       "HBox(children=(FloatProgress(value=0.0, description='Executing', max=48.0, style=ProgressStyle(description_wid…"
      ]
     },
     "metadata": {},
     "output_type": "display_data"
    },
    {
     "name": "stdout",
     "output_type": "stream",
     "text": [
      "\n",
      "/Users/gilmandelbaum/github/analysis-pipeline-for-photometry_ex/Nb_data_set/1.data_set_lineplot/right_side_of_the_brain/avg_of_mice/6.dsl__winrepeat(ipsi_vs_contra_previous)_loseswitch(ipsi_vs_contra_previous)__rs_mice.ipynb\n",
      "combined_periods_1\n"
     ]
    },
    {
     "data": {
      "application/vnd.jupyter.widget-view+json": {
       "model_id": "3da2ca45baf04d99bba0628f365330c6",
       "version_major": 2,
       "version_minor": 0
      },
      "text/plain": [
       "HBox(children=(FloatProgress(value=0.0, description='Executing', max=48.0, style=ProgressStyle(description_wid…"
      ]
     },
     "metadata": {},
     "output_type": "display_data"
    },
    {
     "name": "stdout",
     "output_type": "stream",
     "text": [
      "\n",
      "/Users/gilmandelbaum/github/analysis-pipeline-for-photometry_ex/Nb_data_set/1.data_set_lineplot/right_side_of_the_brain/avg_of_mice/7.dsl__ipsi_next(WR_vs_LS)_contra_next(WR_vs_LS)__rs_mice.ipynb\n",
      "combined_periods_1\n"
     ]
    },
    {
     "data": {
      "application/vnd.jupyter.widget-view+json": {
       "model_id": "83af90cd126a481fb92468351a2c937d",
       "version_major": 2,
       "version_minor": 0
      },
      "text/plain": [
       "HBox(children=(FloatProgress(value=0.0, description='Executing', max=49.0, style=ProgressStyle(description_wid…"
      ]
     },
     "metadata": {},
     "output_type": "display_data"
    },
    {
     "name": "stdout",
     "output_type": "stream",
     "text": [
      "\n",
      "/Users/gilmandelbaum/github/analysis-pipeline-for-photometry_ex/Nb_data_set/1.data_set_lineplot/right_side_of_the_brain/avg_of_mice/8.dsl__ipsi_previous(WR_vs_LS)_contra_previous(WR_vs_LS)__rs_mice.ipynb\n",
      "combined_periods_1\n"
     ]
    },
    {
     "data": {
      "application/vnd.jupyter.widget-view+json": {
       "model_id": "9fedea5ef1434d0ea310d6308175e67a",
       "version_major": 2,
       "version_minor": 0
      },
      "text/plain": [
       "HBox(children=(FloatProgress(value=0.0, description='Executing', max=49.0, style=ProgressStyle(description_wid…"
      ]
     },
     "metadata": {},
     "output_type": "display_data"
    },
    {
     "name": "stdout",
     "output_type": "stream",
     "text": [
      "\n",
      "CPU times: user 34 s, sys: 1.51 s, total: 35.5 s\n",
      "Wall time: 12min 1s\n"
     ]
    }
   ],
   "source": [
    "%%time\n",
    "for nb_to_run in nb_to_run_list: \n",
    "\n",
    "    nb_to_run_with_pm = sys.path[0]+\"/\"+side_of_brain+\"/\"+combinations_of_sessions+\"/\"+nb_to_run\n",
    "    print (nb_to_run_with_pm)\n",
    "    for period_of_interest in list_of_periods:\n",
    "        print (period_of_interest)\n",
    "        dict_for_pm[\"period_of_interest\"]=period_of_interest \n",
    "        pm.execute_notebook(nb_to_run_with_pm,\n",
    "                            'TestOutPut.ipynb',kernel_name = \"photometry_env\",\n",
    "                            parameters= dict_for_pm,nest_asyncio=True)"
   ]
  },
  {
   "cell_type": "code",
   "execution_count": null,
   "metadata": {},
   "outputs": [],
   "source": []
  }
 ],
 "metadata": {
  "kernelspec": {
   "display_name": "Python 3",
   "language": "python",
   "name": "python3"
  },
  "language_info": {
   "codemirror_mode": {
    "name": "ipython",
    "version": 3
   },
   "file_extension": ".py",
   "mimetype": "text/x-python",
   "name": "python",
   "nbconvert_exporter": "python",
   "pygments_lexer": "ipython3",
   "version": "3.7.3"
  }
 },
 "nbformat": 4,
 "nbformat_minor": 4
}
