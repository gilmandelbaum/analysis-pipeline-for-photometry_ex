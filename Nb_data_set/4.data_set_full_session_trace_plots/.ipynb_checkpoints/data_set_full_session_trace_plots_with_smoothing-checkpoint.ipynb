{
 "cells": [
  {
   "cell_type": "code",
   "execution_count": 1,
   "metadata": {},
   "outputs": [],
   "source": [
    "import pickle\n",
    "from pathlib import Path\n",
    "import pandas as pd \n",
    "import os\n",
    "import sys\n",
    "import matplotlib.pyplot as plt\n",
    "import getpass"
   ]
  },
  {
   "cell_type": "code",
   "execution_count": 2,
   "metadata": {},
   "outputs": [
    {
     "name": "stdout",
     "output_type": "stream",
     "text": [
      "gilmandelbaum\n"
     ]
    }
   ],
   "source": [
    "#add the github path that will run the notebooks: \n",
    "username = getpass.getuser() # gets the username from the current comp \n",
    "print (username)"
   ]
  },
  {
   "cell_type": "code",
   "execution_count": 3,
   "metadata": {},
   "outputs": [],
   "source": [
    "sys.path.insert(0,'/Users/{:}/github/analysis-pipeline-for-photometry_ex/Nb_data_set/1.data_set_lineplot'.format(username))"
   ]
  },
  {
   "cell_type": "code",
   "execution_count": 4,
   "metadata": {},
   "outputs": [
    {
     "data": {
      "text/plain": [
       "'/Users/gilmandelbaum/github/analysis-pipeline-for-photometry_ex/Nb_data_set/1.data_set_lineplot'"
      ]
     },
     "execution_count": 4,
     "metadata": {},
     "output_type": "execute_result"
    }
   ],
   "source": [
    "sys.path[0]"
   ]
  },
  {
   "cell_type": "code",
   "execution_count": 5,
   "metadata": {},
   "outputs": [],
   "source": [
    "import data_set_lineplot_ic_together_helper_functions as dslhf"
   ]
  },
  {
   "cell_type": "code",
   "execution_count": 6,
   "metadata": {
    "tags": [
     "parameters"
    ]
   },
   "outputs": [],
   "source": [
    "seq_str = '0a1b2a3b4abcd5a6a7a'\n",
    "period_of_interest = \"choice_lick_label_50_sec\"\n",
    "HowManyBasck=1\n",
    "folderName=\"right_dual_color_photo_full_data\" #folder where the plot data_set will be saved \n",
    "path = \"/Volumes/GilInVivoPaper.large/2.Photometry_in_str/1.lateral_medial_6_analysis\""
   ]
  },
  {
   "cell_type": "markdown",
   "metadata": {},
   "source": [
    "# Folder name of analysis: "
   ]
  },
  {
   "cell_type": "code",
   "execution_count": 7,
   "metadata": {},
   "outputs": [],
   "source": [
    "analysis_type =\"full_session_traces\""
   ]
  },
  {
   "cell_type": "code",
   "execution_count": 8,
   "metadata": {},
   "outputs": [
    {
     "data": {
      "text/plain": [
       "'/anaconda3/bin/python3'"
      ]
     },
     "execution_count": 8,
     "metadata": {},
     "output_type": "execute_result"
    }
   ],
   "source": [
    "sys.executable"
   ]
  },
  {
   "cell_type": "markdown",
   "metadata": {},
   "source": [
    "# Import the data and where to save it "
   ]
  },
  {
   "cell_type": "code",
   "execution_count": 9,
   "metadata": {},
   "outputs": [],
   "source": [
    "path_to_save = path+\"/\"+folderName+\"/\"+seq_str #also for loading"
   ]
  },
  {
   "cell_type": "code",
   "execution_count": 10,
   "metadata": {},
   "outputs": [
    {
     "data": {
      "text/plain": [
       "'/Volumes/GilInVivoPaper.large/2.Photometry_in_str/1.lateral_medial_6_analysis/right_dual_color_photo_full_data/0a1b2a3b4abcd5a6a7a'"
      ]
     },
     "execution_count": 10,
     "metadata": {},
     "output_type": "execute_result"
    }
   ],
   "source": [
    "path_to_save"
   ]
  },
  {
   "cell_type": "markdown",
   "metadata": {},
   "source": [
    "# Import the data table and data"
   ]
  },
  {
   "cell_type": "code",
   "execution_count": 11,
   "metadata": {
    "scrolled": true
   },
   "outputs": [
    {
     "data": {
      "text/html": [
       "<div>\n",
       "<style scoped>\n",
       "    .dataframe tbody tr th:only-of-type {\n",
       "        vertical-align: middle;\n",
       "    }\n",
       "\n",
       "    .dataframe tbody tr th {\n",
       "        vertical-align: top;\n",
       "    }\n",
       "\n",
       "    .dataframe thead th {\n",
       "        text-align: right;\n",
       "    }\n",
       "</style>\n",
       "<table border=\"1\" class=\"dataframe\">\n",
       "  <thead>\n",
       "    <tr style=\"text-align: right;\">\n",
       "      <th></th>\n",
       "      <th>mouse</th>\n",
       "      <th>date</th>\n",
       "      <th>file name</th>\n",
       "    </tr>\n",
       "  </thead>\n",
       "  <tbody>\n",
       "    <tr>\n",
       "      <th>0</th>\n",
       "      <td>T163</td>\n",
       "      <td>181127</td>\n",
       "      <td>T163-144959</td>\n",
       "    </tr>\n",
       "    <tr>\n",
       "      <th>1</th>\n",
       "      <td>T163</td>\n",
       "      <td>181128</td>\n",
       "      <td>T163-115220</td>\n",
       "    </tr>\n",
       "    <tr>\n",
       "      <th>2</th>\n",
       "      <td>T163</td>\n",
       "      <td>181130</td>\n",
       "      <td>T163-133215</td>\n",
       "    </tr>\n",
       "    <tr>\n",
       "      <th>3</th>\n",
       "      <td>T163</td>\n",
       "      <td>181203</td>\n",
       "      <td>T163-115901</td>\n",
       "    </tr>\n",
       "    <tr>\n",
       "      <th>4</th>\n",
       "      <td>T163</td>\n",
       "      <td>181204</td>\n",
       "      <td>T163-114628</td>\n",
       "    </tr>\n",
       "    <tr>\n",
       "      <th>...</th>\n",
       "      <td>...</td>\n",
       "      <td>...</td>\n",
       "      <td>...</td>\n",
       "    </tr>\n",
       "    <tr>\n",
       "      <th>99</th>\n",
       "      <td>T202</td>\n",
       "      <td>190525</td>\n",
       "      <td>T202-153611</td>\n",
       "    </tr>\n",
       "    <tr>\n",
       "      <th>100</th>\n",
       "      <td>T202</td>\n",
       "      <td>190526</td>\n",
       "      <td>T202-142728</td>\n",
       "    </tr>\n",
       "    <tr>\n",
       "      <th>101</th>\n",
       "      <td>T202</td>\n",
       "      <td>190528</td>\n",
       "      <td>T202-140948</td>\n",
       "    </tr>\n",
       "    <tr>\n",
       "      <th>102</th>\n",
       "      <td>T202</td>\n",
       "      <td>190529</td>\n",
       "      <td>T202-160644</td>\n",
       "    </tr>\n",
       "    <tr>\n",
       "      <th>103</th>\n",
       "      <td>T202</td>\n",
       "      <td>190530</td>\n",
       "      <td>T202-152554</td>\n",
       "    </tr>\n",
       "  </tbody>\n",
       "</table>\n",
       "<p>104 rows × 3 columns</p>\n",
       "</div>"
      ],
      "text/plain": [
       "    mouse    date    file name\n",
       "0    T163  181127  T163-144959\n",
       "1    T163  181128  T163-115220\n",
       "2    T163  181130  T163-133215\n",
       "3    T163  181203  T163-115901\n",
       "4    T163  181204  T163-114628\n",
       "..    ...     ...          ...\n",
       "99   T202  190525  T202-153611\n",
       "100  T202  190526  T202-142728\n",
       "101  T202  190528  T202-140948\n",
       "102  T202  190529  T202-160644\n",
       "103  T202  190530  T202-152554\n",
       "\n",
       "[104 rows x 3 columns]"
      ]
     },
     "execution_count": 11,
     "metadata": {},
     "output_type": "execute_result"
    }
   ],
   "source": [
    "MasterSheetName = \"lateral_ medial_6_to_run_analysis\"\n",
    "Mouse_Date_FileName = pd.read_excel(path+'/'+MasterSheetName+'.xlsx')\n",
    "Mouse_Date_FileName"
   ]
  },
  {
   "cell_type": "code",
   "execution_count": null,
   "metadata": {},
   "outputs": [],
   "source": []
  },
  {
   "cell_type": "code",
   "execution_count": 12,
   "metadata": {},
   "outputs": [
    {
     "name": "stdout",
     "output_type": "stream",
     "text": [
      "CPU times: user 1.06 s, sys: 3.09 s, total: 4.15 s\n",
      "Wall time: 1min 7s\n"
     ]
    }
   ],
   "source": [
    "%%time\n",
    "root = Path(path_to_save)\n",
    "d = \"data_object_photometry_after_down_sampling\"+\"_\"+seq_str+'.pickle'\n",
    "my_path = root / d \n",
    "fileToOpen = open(my_path, 'rb')\n",
    "data_set = pickle.load(fileToOpen)"
   ]
  },
  {
   "cell_type": "markdown",
   "metadata": {},
   "source": [
    "# make a list to add to plots "
   ]
  },
  {
   "cell_type": "code",
   "execution_count": 13,
   "metadata": {},
   "outputs": [],
   "source": [
    "Mouse_Date_FileName['date'] = Mouse_Date_FileName['date'].apply(str)\n",
    "Mouse_Date_FileName['mouse_session'] = Mouse_Date_FileName[['mouse','date']].apply(lambda x: '-'.join(x), axis=1)\n",
    "session_date= list(Mouse_Date_FileName['mouse_session']) #session list"
   ]
  },
  {
   "cell_type": "code",
   "execution_count": 17,
   "metadata": {},
   "outputs": [
    {
     "data": {
      "text/html": [
       "<div>\n",
       "<style scoped>\n",
       "    .dataframe tbody tr th:only-of-type {\n",
       "        vertical-align: middle;\n",
       "    }\n",
       "\n",
       "    .dataframe tbody tr th {\n",
       "        vertical-align: top;\n",
       "    }\n",
       "\n",
       "    .dataframe thead th {\n",
       "        text-align: right;\n",
       "    }\n",
       "</style>\n",
       "<table border=\"1\" class=\"dataframe\">\n",
       "  <thead>\n",
       "    <tr style=\"text-align: right;\">\n",
       "      <th></th>\n",
       "      <th>nTrial</th>\n",
       "      <th>iBlock</th>\n",
       "      <th>iTrial</th>\n",
       "      <th>iOccurrence</th>\n",
       "      <th>iState_start</th>\n",
       "      <th>iState_end</th>\n",
       "      <th>analog1</th>\n",
       "      <th>analog2</th>\n",
       "      <th>d2 R</th>\n",
       "      <th>d1 R</th>\n",
       "      <th>d2 L</th>\n",
       "      <th>d1 L</th>\n",
       "      <th>Real_nTrials</th>\n",
       "    </tr>\n",
       "  </thead>\n",
       "  <tbody>\n",
       "    <tr>\n",
       "      <th>0</th>\n",
       "      <td>4.0</td>\n",
       "      <td>1.0</td>\n",
       "      <td>4.0</td>\n",
       "      <td>0.0</td>\n",
       "      <td>23.0</td>\n",
       "      <td>29.0</td>\n",
       "      <td>2757.0</td>\n",
       "      <td>1192.0</td>\n",
       "      <td>-1.156610</td>\n",
       "      <td>-0.782470</td>\n",
       "      <td>-0.899819</td>\n",
       "      <td>0.026222</td>\n",
       "      <td>4</td>\n",
       "    </tr>\n",
       "    <tr>\n",
       "      <th>1</th>\n",
       "      <td>4.0</td>\n",
       "      <td>1.0</td>\n",
       "      <td>4.0</td>\n",
       "      <td>1.0</td>\n",
       "      <td>29.0</td>\n",
       "      <td>30.0</td>\n",
       "      <td>2742.0</td>\n",
       "      <td>1190.0</td>\n",
       "      <td>-1.138105</td>\n",
       "      <td>-0.550450</td>\n",
       "      <td>-0.492505</td>\n",
       "      <td>0.810482</td>\n",
       "      <td>4</td>\n",
       "    </tr>\n",
       "    <tr>\n",
       "      <th>2</th>\n",
       "      <td>4.0</td>\n",
       "      <td>1.0</td>\n",
       "      <td>4.0</td>\n",
       "      <td>2.0</td>\n",
       "      <td>30.0</td>\n",
       "      <td>30.0</td>\n",
       "      <td>9.0</td>\n",
       "      <td>226.0</td>\n",
       "      <td>-1.150520</td>\n",
       "      <td>-0.735638</td>\n",
       "      <td>-0.598353</td>\n",
       "      <td>0.584498</td>\n",
       "      <td>4</td>\n",
       "    </tr>\n",
       "    <tr>\n",
       "      <th>3</th>\n",
       "      <td>4.0</td>\n",
       "      <td>1.0</td>\n",
       "      <td>4.0</td>\n",
       "      <td>3.0</td>\n",
       "      <td>30.0</td>\n",
       "      <td>30.0</td>\n",
       "      <td>8.0</td>\n",
       "      <td>226.0</td>\n",
       "      <td>-1.153421</td>\n",
       "      <td>-0.780912</td>\n",
       "      <td>-0.531143</td>\n",
       "      <td>0.693160</td>\n",
       "      <td>4</td>\n",
       "    </tr>\n",
       "    <tr>\n",
       "      <th>4</th>\n",
       "      <td>4.0</td>\n",
       "      <td>1.0</td>\n",
       "      <td>4.0</td>\n",
       "      <td>4.0</td>\n",
       "      <td>30.0</td>\n",
       "      <td>30.0</td>\n",
       "      <td>2744.0</td>\n",
       "      <td>1192.0</td>\n",
       "      <td>-1.163839</td>\n",
       "      <td>-0.915811</td>\n",
       "      <td>-0.575682</td>\n",
       "      <td>0.575403</td>\n",
       "      <td>4</td>\n",
       "    </tr>\n",
       "    <tr>\n",
       "      <th>...</th>\n",
       "      <td>...</td>\n",
       "      <td>...</td>\n",
       "      <td>...</td>\n",
       "      <td>...</td>\n",
       "      <td>...</td>\n",
       "      <td>...</td>\n",
       "      <td>...</td>\n",
       "      <td>...</td>\n",
       "      <td>...</td>\n",
       "      <td>...</td>\n",
       "      <td>...</td>\n",
       "      <td>...</td>\n",
       "      <td>...</td>\n",
       "    </tr>\n",
       "    <tr>\n",
       "      <th>245622</th>\n",
       "      <td>270.0</td>\n",
       "      <td>33.0</td>\n",
       "      <td>2.0</td>\n",
       "      <td>838.0</td>\n",
       "      <td>21.0</td>\n",
       "      <td>14.0</td>\n",
       "      <td>10.0</td>\n",
       "      <td>230.0</td>\n",
       "      <td>-1.335210</td>\n",
       "      <td>0.364758</td>\n",
       "      <td>-0.917587</td>\n",
       "      <td>-0.902522</td>\n",
       "      <td>270</td>\n",
       "    </tr>\n",
       "    <tr>\n",
       "      <th>245623</th>\n",
       "      <td>270.0</td>\n",
       "      <td>33.0</td>\n",
       "      <td>2.0</td>\n",
       "      <td>839.0</td>\n",
       "      <td>14.0</td>\n",
       "      <td>24.0</td>\n",
       "      <td>9.0</td>\n",
       "      <td>227.0</td>\n",
       "      <td>-1.268237</td>\n",
       "      <td>0.389719</td>\n",
       "      <td>-0.923391</td>\n",
       "      <td>-0.825888</td>\n",
       "      <td>270</td>\n",
       "    </tr>\n",
       "    <tr>\n",
       "      <th>245624</th>\n",
       "      <td>270.0</td>\n",
       "      <td>33.0</td>\n",
       "      <td>2.0</td>\n",
       "      <td>840.0</td>\n",
       "      <td>24.0</td>\n",
       "      <td>25.0</td>\n",
       "      <td>2744.0</td>\n",
       "      <td>764.0</td>\n",
       "      <td>-1.278271</td>\n",
       "      <td>0.418005</td>\n",
       "      <td>-1.042445</td>\n",
       "      <td>-1.012818</td>\n",
       "      <td>270</td>\n",
       "    </tr>\n",
       "    <tr>\n",
       "      <th>245625</th>\n",
       "      <td>270.0</td>\n",
       "      <td>33.0</td>\n",
       "      <td>2.0</td>\n",
       "      <td>841.0</td>\n",
       "      <td>25.0</td>\n",
       "      <td>27.0</td>\n",
       "      <td>2755.0</td>\n",
       "      <td>1192.0</td>\n",
       "      <td>-1.180490</td>\n",
       "      <td>0.439233</td>\n",
       "      <td>-0.988597</td>\n",
       "      <td>-0.843341</td>\n",
       "      <td>270</td>\n",
       "    </tr>\n",
       "    <tr>\n",
       "      <th>245626</th>\n",
       "      <td>270.0</td>\n",
       "      <td>33.0</td>\n",
       "      <td>2.0</td>\n",
       "      <td>842.0</td>\n",
       "      <td>27.0</td>\n",
       "      <td>23.0</td>\n",
       "      <td>2751.0</td>\n",
       "      <td>1191.0</td>\n",
       "      <td>-1.250374</td>\n",
       "      <td>0.469668</td>\n",
       "      <td>-1.186185</td>\n",
       "      <td>-1.232617</td>\n",
       "      <td>270</td>\n",
       "    </tr>\n",
       "  </tbody>\n",
       "</table>\n",
       "<p>245627 rows × 13 columns</p>\n",
       "</div>"
      ],
      "text/plain": [
       "        nTrial  iBlock  iTrial  iOccurrence  iState_start  iState_end  \\\n",
       "0          4.0     1.0     4.0          0.0          23.0        29.0   \n",
       "1          4.0     1.0     4.0          1.0          29.0        30.0   \n",
       "2          4.0     1.0     4.0          2.0          30.0        30.0   \n",
       "3          4.0     1.0     4.0          3.0          30.0        30.0   \n",
       "4          4.0     1.0     4.0          4.0          30.0        30.0   \n",
       "...        ...     ...     ...          ...           ...         ...   \n",
       "245622   270.0    33.0     2.0        838.0          21.0        14.0   \n",
       "245623   270.0    33.0     2.0        839.0          14.0        24.0   \n",
       "245624   270.0    33.0     2.0        840.0          24.0        25.0   \n",
       "245625   270.0    33.0     2.0        841.0          25.0        27.0   \n",
       "245626   270.0    33.0     2.0        842.0          27.0        23.0   \n",
       "\n",
       "        analog1  analog2      d2 R      d1 R      d2 L      d1 L  Real_nTrials  \n",
       "0        2757.0   1192.0 -1.156610 -0.782470 -0.899819  0.026222             4  \n",
       "1        2742.0   1190.0 -1.138105 -0.550450 -0.492505  0.810482             4  \n",
       "2           9.0    226.0 -1.150520 -0.735638 -0.598353  0.584498             4  \n",
       "3           8.0    226.0 -1.153421 -0.780912 -0.531143  0.693160             4  \n",
       "4        2744.0   1192.0 -1.163839 -0.915811 -0.575682  0.575403             4  \n",
       "...         ...      ...       ...       ...       ...       ...           ...  \n",
       "245622     10.0    230.0 -1.335210  0.364758 -0.917587 -0.902522           270  \n",
       "245623      9.0    227.0 -1.268237  0.389719 -0.923391 -0.825888           270  \n",
       "245624   2744.0    764.0 -1.278271  0.418005 -1.042445 -1.012818           270  \n",
       "245625   2755.0   1192.0 -1.180490  0.439233 -0.988597 -0.843341           270  \n",
       "245626   2751.0   1191.0 -1.250374  0.469668 -1.186185 -1.232617           270  \n",
       "\n",
       "[245627 rows x 13 columns]"
      ]
     },
     "execution_count": 17,
     "metadata": {},
     "output_type": "execute_result"
    }
   ],
   "source": []
  },
  {
   "cell_type": "code",
   "execution_count": 18,
   "metadata": {},
   "outputs": [],
   "source": [
    "import scipy.signal as signal"
   ]
  },
  {
   "cell_type": "code",
   "execution_count": null,
   "metadata": {},
   "outputs": [],
   "source": []
  },
  {
   "cell_type": "markdown",
   "metadata": {},
   "source": [
    "# Make the y axis label "
   ]
  },
  {
   "cell_type": "code",
   "execution_count": 14,
   "metadata": {},
   "outputs": [],
   "source": [
    "y_axis_list = [\"df_f\",\"z_score\",\"z_score_sliding_window\"]"
   ]
  },
  {
   "cell_type": "code",
   "execution_count": 15,
   "metadata": {},
   "outputs": [
    {
     "name": "stdout",
     "output_type": "stream",
     "text": [
      "z_score\n"
     ]
    }
   ],
   "source": [
    "alphabet = [\"a\",\"b\",\"c\",\"d\",\"e\",\"f\",\"g\"]\n",
    "y_axis = y_axis_list[alphabet.index(seq_str[:seq_str.index('4')][-1])]\n",
    "print (y_axis)"
   ]
  },
  {
   "cell_type": "code",
   "execution_count": null,
   "metadata": {},
   "outputs": [],
   "source": []
  },
  {
   "cell_type": "code",
   "execution_count": 16,
   "metadata": {},
   "outputs": [],
   "source": [
    "# stash result in a cache directory, for how many back. \n",
    "cache_dir_plt = os.path.join(path_to_save,analysis_type,period_of_interest)\n",
    "if not os.path.exists(cache_dir_plt):\n",
    "    os.makedirs(cache_dir_plt)"
   ]
  },
  {
   "cell_type": "code",
   "execution_count": null,
   "metadata": {},
   "outputs": [],
   "source": [
    "cache_dir_plt"
   ]
  },
  {
   "cell_type": "code",
   "execution_count": null,
   "metadata": {},
   "outputs": [],
   "source": []
  },
  {
   "cell_type": "code",
   "execution_count": null,
   "metadata": {},
   "outputs": [],
   "source": [
    "keys = [\"d2 R\",\"d1 R\",\"d2 L\",\"d1 L\"]"
   ]
  },
  {
   "cell_type": "code",
   "execution_count": null,
   "metadata": {},
   "outputs": [],
   "source": [
    "# state_Selection =[(39, 47), (47, 48), (48, 48), (48, 49)]\n",
    "state_Selection=[(48, 50)]"
   ]
  },
  {
   "cell_type": "code",
   "execution_count": null,
   "metadata": {},
   "outputs": [],
   "source": [
    "def plot_cue_photo_per_session(data_set_l,session_date_l,states_l):\n",
    "    \n",
    "    for data,date in zip(data_set_l,session_date_l):\n",
    "        \n",
    "        path_to_plot=cache_dir_plt+\"/\"+str(date)+\"_\"+seq_str[:seq_str.index(\"4\")]+\"_plot\"\n",
    "        print(date+\" is being plotted\")\n",
    "\n",
    "        time_stamp =find_time_stamps(data,states_l)\n",
    "        \n",
    "        plot_time_stamp_photo(data,time_stamp,path_to_plot)\n",
    "\n",
    "        \n",
    "    return ()"
   ]
  },
  {
   "cell_type": "code",
   "execution_count": null,
   "metadata": {},
   "outputs": [],
   "source": [
    "def find_time_stamps(data,states_list):\n",
    "    time_bin_list=[]\n",
    "    \n",
    "    for state in states_list:\n",
    "        state_start=state[0]\n",
    "        state_end=state[1]\n",
    "        rows = data[(data['iState_start']==state_start) & (data['iState_end']==state_end)]\n",
    "        indexes = list(rows.index)\n",
    "        time_bin_list.extend(indexes)\n",
    "\n",
    "    return time_bin_list\n",
    "\n"
   ]
  },
  {
   "cell_type": "code",
   "execution_count": null,
   "metadata": {},
   "outputs": [],
   "source": []
  },
  {
   "cell_type": "code",
   "execution_count": null,
   "metadata": {},
   "outputs": [],
   "source": [
    "def plot_time_stamp_photo(data,time_stamp, path_to_plot):\n",
    "    fig, ax = plt.subplots(4, 1,figsize=(10,10),sharex=True, sharey=False)\n",
    "    \n",
    "    for _ax, k in zip(ax.flatten(), keys):\n",
    "        _ax.plot(list(range(len(data[k]))), data[k])\n",
    "        _ax.set_title(k.split('_')[0])\n",
    "        _ax.axhline(y=-1,color='r',linewidth=0.5)\n",
    "        _ax.axhline(y=2,color='r',linewidth=0.5)\n",
    "        _ax.set_ylim(-2.5,4)\n",
    "        _ax.set_xlim(100000,110000)\n",
    "        \n",
    "        for time in time_stamp:\n",
    "            _ax.axvline(x=time,linewidth=1, color='g',linestyle=\"--\")\n",
    "        \n",
    "        \n",
    "    _ax.set_xlabel('Time(ms)')\n",
    "    _ax.set_ylabel(\"Zscore\")\n",
    "   \n",
    "    fig.savefig(path_to_plot+'.pdf')\n",
    "    plt.show()"
   ]
  },
  {
   "cell_type": "code",
   "execution_count": null,
   "metadata": {
    "scrolled": false
   },
   "outputs": [],
   "source": [
    "%%time\n",
    "plot_cue_photo_per_session(data_set,session_date,state_Selection)"
   ]
  },
  {
   "cell_type": "code",
   "execution_count": null,
   "metadata": {},
   "outputs": [],
   "source": []
  }
 ],
 "metadata": {
  "celltoolbar": "Tags",
  "kernelspec": {
   "display_name": "Python 3",
   "language": "python",
   "name": "python3"
  },
  "language_info": {
   "codemirror_mode": {
    "name": "ipython",
    "version": 3
   },
   "file_extension": ".py",
   "mimetype": "text/x-python",
   "name": "python",
   "nbconvert_exporter": "python",
   "pygments_lexer": "ipython3",
   "version": "3.7.3"
  }
 },
 "nbformat": 4,
 "nbformat_minor": 4
}
