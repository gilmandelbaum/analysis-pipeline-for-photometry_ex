{
 "cells": [
  {
   "cell_type": "code",
   "execution_count": 1,
   "metadata": {},
   "outputs": [],
   "source": [
    "import pickle\n",
    "from pathlib import Path\n",
    "import pandas as pd \n",
    "import os\n",
    "import sys"
   ]
  },
  {
   "cell_type": "code",
   "execution_count": 2,
   "metadata": {},
   "outputs": [],
   "source": [
    "import data_set_generate_helper_functions as ghf"
   ]
  },
  {
   "cell_type": "code",
   "execution_count": 3,
   "metadata": {},
   "outputs": [
    {
     "data": {
      "text/plain": [
       "'/anaconda3/bin/python3'"
      ]
     },
     "execution_count": 3,
     "metadata": {},
     "output_type": "execute_result"
    }
   ],
   "source": [
    "sys.executable"
   ]
  },
  {
   "cell_type": "code",
   "execution_count": 4,
   "metadata": {},
   "outputs": [
    {
     "data": {
      "text/plain": [
       "'/Users/gilmandelbaum/github/analysis-pipeline-for-photometry_ex/Nb_data_set/5.data_set_counters'"
      ]
     },
     "execution_count": 4,
     "metadata": {},
     "output_type": "execute_result"
    }
   ],
   "source": [
    "sys.path[0]"
   ]
  },
  {
   "cell_type": "markdown",
   "metadata": {},
   "source": [
    "# Path to import the data "
   ]
  },
  {
   "cell_type": "code",
   "execution_count": 8,
   "metadata": {},
   "outputs": [],
   "source": [
    "path_to_import = \"/Volumes/GilInVivoPaper.large/2.Photometry_in_str/0.data_Sets/1.lateral_medial_6\""
   ]
  },
  {
   "cell_type": "markdown",
   "metadata": {},
   "source": [
    "# Path where to save it "
   ]
  },
  {
   "cell_type": "code",
   "execution_count": 10,
   "metadata": {},
   "outputs": [],
   "source": [
    "path_to_save= \"/Volumes/GilInVivoPaper.large/2.Photometry_in_str/1.lateral_medial_6_analysis\""
   ]
  },
  {
   "cell_type": "markdown",
   "metadata": {},
   "source": [
    "# Update depending on analysis: "
   ]
  },
  {
   "cell_type": "code",
   "execution_count": 11,
   "metadata": {},
   "outputs": [],
   "source": [
    "seq_str = '0a1b2a3b4abcd5a6a7a'\n",
    "HowManyBack=1"
   ]
  },
  {
   "cell_type": "markdown",
   "metadata": {},
   "source": [
    "# Folder to save the data: "
   ]
  },
  {
   "cell_type": "code",
   "execution_count": 12,
   "metadata": {},
   "outputs": [],
   "source": [
    "folderName=\"right_dual_color_photo_full_data\" #folder where the plot data_set will be saved \n",
    "#folderName=\"left_dual_color_photo_full_data_set_after_inspection\" #folder where the plot data_set will be saved "
   ]
  },
  {
   "cell_type": "code",
   "execution_count": 13,
   "metadata": {},
   "outputs": [
    {
     "data": {
      "text/plain": [
       "'/Volumes/GilInVivoPaper.large/2.Photometry_in_str/1.lateral_medial_6_analysis/right_dual_color_photo_full_data/0a1b2a3b4abcd5a6a7a'"
      ]
     },
     "execution_count": 13,
     "metadata": {},
     "output_type": "execute_result"
    }
   ],
   "source": [
    "full_path_to_save = path_to_save+\"/\"+folderName+\"/\"+seq_str\n",
    "full_path_to_save"
   ]
  },
  {
   "cell_type": "markdown",
   "metadata": {},
   "source": [
    "# import the data table: "
   ]
  },
  {
   "cell_type": "code",
   "execution_count": 14,
   "metadata": {},
   "outputs": [],
   "source": [
    "#name of xlsx file that has the sessions we want to run: \n",
    "MasterSheetName= 'lateral_ medial_6_to_run_analysis'"
   ]
  },
  {
   "cell_type": "code",
   "execution_count": 15,
   "metadata": {},
   "outputs": [],
   "source": [
    "Mouse_Date_FileName = pd.read_excel(path_to_import+'/'+MasterSheetName+'.xlsx') #mdf is mouse data file "
   ]
  },
  {
   "cell_type": "code",
   "execution_count": null,
   "metadata": {
    "scrolled": true
   },
   "outputs": [],
   "source": [
    "Mouse_Date_FileName"
   ]
  },
  {
   "cell_type": "code",
   "execution_count": null,
   "metadata": {},
   "outputs": [],
   "source": [
    "#Mouse_Date_FileName = Mouse_Date_FileName.iloc[0:45,:]"
   ]
  },
  {
   "cell_type": "code",
   "execution_count": null,
   "metadata": {
    "scrolled": true
   },
   "outputs": [],
   "source": [
    "#Mouse_Date_FileName"
   ]
  },
  {
   "cell_type": "markdown",
   "metadata": {},
   "source": [
    "# Import the full data structure for each session: "
   ]
  },
  {
   "cell_type": "code",
   "execution_count": null,
   "metadata": {},
   "outputs": [],
   "source": [
    "def extract_data_object_data_lick(Mouse_Date_FileName,path):\n",
    "    data_lick_data_set = []\n",
    "    counter = 1 \n",
    "    \n",
    "    l_mouse = list(Mouse_Date_FileName[\"mouse\"]) \n",
    "    l_date_ = list(Mouse_Date_FileName.apply(lambda x: generate_date_(x[\"date\"]),axis=1))  \n",
    "    l_date_and_name = list(Mouse_Date_FileName.apply(lambda x: generate_name_and_date(x[\"date\"],x[\"mouse\"]),axis=1))\n",
    "    \n",
    "    numer_of_sessions_dataset = len(l_mouse)\n",
    "    \n",
    "    for (mouse, date_, date_and_name) in zip(l_mouse, l_date_, l_date_and_name):\n",
    "        print (\"session number\"+\" \"+str(counter)+\" \"+\"was imported (out of\"+\" \"+str(numer_of_sessions_dataset)+\")\")\n",
    "        data_lick = pd.read_excel(path+\"/\"+mouse+\"/\"+date_and_name+\"/\"+mouse+\"_dataLick_label.xlsx\")\n",
    "        data_lick_data_set.append(data_lick)  \n",
    "        counter +=1\n",
    "        \n",
    "    return (data_lick_data_set)"
   ]
  },
  {
   "cell_type": "code",
   "execution_count": null,
   "metadata": {},
   "outputs": [],
   "source": [
    "def generate_date_(Date):\n",
    "    return('20'+str(Date)[:2]+'_'+str(Date)[2:4]+'_'+str(Date)[4:6])\n",
    "\n",
    "def generate_name_and_date(Date,Mouse):\n",
    "    return ('20'+str(Date)[:2]+'_'+str(Date)[2:4]+'_'+str(Date)[4:6]+'__'+Mouse)"
   ]
  },
  {
   "cell_type": "code",
   "execution_count": null,
   "metadata": {
    "scrolled": true
   },
   "outputs": [],
   "source": [
    "%%time\n",
    "behavior_data_lick_data_set = extract_data_object_data_lick(Mouse_Date_FileName,path_to_import)"
   ]
  },
  {
   "cell_type": "markdown",
   "metadata": {},
   "source": [
    "extract_data_object_data_lick(Mouse_Date_FileName,path)"
   ]
  },
  {
   "cell_type": "code",
   "execution_count": null,
   "metadata": {},
   "outputs": [],
   "source": [
    "# behavior_data_lick_data_set[0].to_csv(\"testing2.csv\")"
   ]
  },
  {
   "cell_type": "markdown",
   "metadata": {},
   "source": [
    "# A function to help loop on each session with various functions "
   ]
  },
  {
   "cell_type": "code",
   "execution_count": null,
   "metadata": {},
   "outputs": [],
   "source": [
    "def session_looper(data_set,function):\n",
    "    organized_data_lick_list=[]\n",
    "    for session in data_set:\n",
    "        result = function(session)\n",
    "        organized_data_lick_list.append(result)\n",
    "    return organized_data_lick_list"
   ]
  },
  {
   "cell_type": "code",
   "execution_count": null,
   "metadata": {},
   "outputs": [],
   "source": [
    "def clean_behavior_data_lick (behavior_data_lick):        \n",
    "    if behavior_data_lick.columns.tolist() == ['iBlock', 'iTrial', 'iSpout', 'sTrial_start', 'sTrial_end', 'tState']:\n",
    "        pass\n",
    "    else:\n",
    "        #Shifting the names on the columns, so each column has the right label. (the raw data has these labels shifted)\n",
    "        behavior_data_lick=behavior_data_lick.rename(columns={\"nTrial\": \"iBlock\", \"iBlock\":\"iTrial\", \"iTrial\":\"iSpout\",\"iSpout\":\"sTrial_start\", \"sTrial_start\":\"sTrial_end\", \"sTrial_end\":\"tState_new\"})\n",
    "        #I will delete the extra column\n",
    "        behavior_data_lick=behavior_data_lick.drop(\"tState\", 1)\n",
    "        behavior_data_lick=behavior_data_lick.rename(columns={\"tState_new\":\"tState\"})\n",
    "    #this is to delete the first and last rows which have no lick data  \n",
    "    \n",
    "    behavior_data_lick=behavior_data_lick[1: -1]\n",
    "    #Drop everything before first trial\n",
    "    behavior_data_lick= behavior_data_lick[behavior_data_lick.iBlock>0]\n",
    "    return (behavior_data_lick)"
   ]
  },
  {
   "cell_type": "code",
   "execution_count": null,
   "metadata": {},
   "outputs": [],
   "source": [
    "behavior_data_lick_data_set_clean = session_looper (behavior_data_lick_data_set,clean_behavior_data_lick)"
   ]
  },
  {
   "cell_type": "code",
   "execution_count": null,
   "metadata": {},
   "outputs": [],
   "source": [
    "data_set = behavior_data_lick_data_set_clean.copy()"
   ]
  },
  {
   "cell_type": "code",
   "execution_count": null,
   "metadata": {},
   "outputs": [],
   "source": [
    "# data_set[0].to_csv(\"testing.csv\")"
   ]
  },
  {
   "cell_type": "code",
   "execution_count": null,
   "metadata": {},
   "outputs": [],
   "source": [
    "# %%time\n",
    "# root = Path(full_path_to_save)\n",
    "# d = \"data_object_data_lick\"+\"_\"+seq_str+'.pickle'\n",
    "# my_path = root / d \n",
    "# print (my_path)\n",
    "# my_file = open(my_path, 'wb')\n",
    "# my_file = pickle.dump((data_set),my_file)"
   ]
  },
  {
   "cell_type": "code",
   "execution_count": null,
   "metadata": {},
   "outputs": [],
   "source": []
  },
  {
   "cell_type": "code",
   "execution_count": null,
   "metadata": {},
   "outputs": [],
   "source": [
    "df_with_states = pd.read_csv(\"/Users/gilmandelbaum/Desktop/stateList.csv\", header=None,names = [\"state #\",\"description\"])"
   ]
  },
  {
   "cell_type": "code",
   "execution_count": null,
   "metadata": {},
   "outputs": [],
   "source": [
    "def unique_list_of_state_transitions(behavior_data_lick_df_data_set):\n",
    "    \n",
    "    st_transi_data_set= []\n",
    "    count = 0\n",
    "\n",
    "    for behavior_data_lick_df in behavior_data_lick_df_data_set:\n",
    "        \n",
    "        behavior_data_lick_df[\"state_tuple\"] = behavior_data_lick_df.apply(lambda x: (x[\"sTrial_start\"], x[\"sTrial_end\"]), axis=1)\n",
    "        state_transition_unique_session = list(set(behavior_data_lick_df[\"state_tuple\"]))\n",
    "        st_transi_data_set.extend(state_transition_unique_session)\n",
    "        \n",
    "    \n",
    "    st_transi_uni_data_set = list(set(st_transi_data_set))\n",
    "    st_transi_uni_data_set_sorted = sorted(st_transi_uni_data_set, key=lambda x: x[0])\n",
    "    st_transi_uni_data_set_sorted_names = pd.DataFrame(st_transi_uni_data_set_sorted, columns = [\"sTrial_start #\",\"sTrial_end #\"])\n",
    "    \n",
    "    \n",
    "    return (st_transi_uni_data_set_sorted_names)"
   ]
  },
  {
   "cell_type": "code",
   "execution_count": null,
   "metadata": {
    "scrolled": true
   },
   "outputs": [],
   "source": [
    "%%time\n",
    "st_transi_uni_df = unique_list_of_state_transitions(data_set)"
   ]
  },
  {
   "cell_type": "code",
   "execution_count": null,
   "metadata": {
    "scrolled": true
   },
   "outputs": [],
   "source": [
    "st_transi_uni_df"
   ]
  },
  {
   "cell_type": "code",
   "execution_count": null,
   "metadata": {},
   "outputs": [],
   "source": [
    "st_transi_uni_df['Trial_start_description']=st_transi_uni_df['sTrial_start #']\n",
    "st_transi_uni_df['Trial_end_description']=st_transi_uni_df['sTrial_end #']\n",
    "\n",
    "state_num_list=list(df_with_states['state #'])\n",
    "state_description_list=list(df_with_states['description'])\n",
    "\n",
    "st_transi_uni_df['Trial_start_description'].replace(to_replace=state_num_list, value=state_description_list, \n",
    "                                                    inplace=True)\n",
    "st_transi_uni_df['Trial_end_description'].replace(to_replace=state_num_list, value=state_description_list, \n",
    "                                                    inplace=True)"
   ]
  },
  {
   "cell_type": "code",
   "execution_count": null,
   "metadata": {
    "scrolled": true
   },
   "outputs": [],
   "source": [
    "st_transi_uni_df"
   ]
  },
  {
   "cell_type": "code",
   "execution_count": null,
   "metadata": {},
   "outputs": [],
   "source": [
    "def count_state_transitions_per_session(behavior_data_lick_df_data_set,st_transi_uni_df,Mouse_Date_FileName):\n",
    "    \n",
    "    st_transi_uni_df_list = list(st_transi_uni_df.apply(lambda x: (x[\"sTrial_start #\"], x[\"sTrial_end #\"]), axis=1))\n",
    "    l_date_and_name = list(Mouse_Date_FileName.apply(lambda x: generate_name_and_date(x[\"date\"],x[\"mouse\"]),axis=1))\n",
    "\n",
    "    for behavior_data_lick_df, date_and_name in zip(behavior_data_lick_df_data_set,l_date_and_name):\n",
    "        counts_per_session_list = []\n",
    "        state_transition_session_list = list(behavior_data_lick_df.apply(lambda x: (x[\"sTrial_start\"], x[\"sTrial_end\"]), axis=1))\n",
    "        \n",
    "        for tuple_states in st_transi_uni_df_list:\n",
    "            count = state_transition_session_list.count(tuple_states)\n",
    "            counts_per_session_list.append(count)\n",
    "        \n",
    "        st_transi_uni_df[date_and_name] = counts_per_session_list\n",
    "    \n",
    "    return (st_transi_uni_df)"
   ]
  },
  {
   "cell_type": "code",
   "execution_count": null,
   "metadata": {},
   "outputs": [],
   "source": [
    "def count_states_occurance(st_transi_uni_df,uni_trans_list,data_set,session_list):\n",
    "    for session,date in zip(data_set,session_list):\n",
    "        trans_count_list = []\n",
    "        for trans in uni_trans_list:\n",
    "            session_state_occurance = len(session[session['state_tuple']==trans])\n",
    "            trans_count_list.append(session_state_occurance)\n",
    "        st_transi_uni_df[date]=trans_count_list\n",
    "            \n",
    "    return st_transi_uni_df"
   ]
  },
  {
   "cell_type": "code",
   "execution_count": null,
   "metadata": {},
   "outputs": [],
   "source": [
    "%%time\n",
    "\n",
    "st_transi_uni_df_num_licks_per_session = count_state_transitions_per_session(data_set,\n",
    "                                                                              st_transi_uni_df,\n",
    "                                                                              Mouse_Date_FileName)"
   ]
  },
  {
   "cell_type": "code",
   "execution_count": null,
   "metadata": {},
   "outputs": [],
   "source": [
    "st_transi_uni_df_num_licks_per_session.head()"
   ]
  },
  {
   "cell_type": "code",
   "execution_count": null,
   "metadata": {},
   "outputs": [],
   "source": [
    "st_transi_uni_df_num_licks_per_session.iloc[:,4:]"
   ]
  },
  {
   "cell_type": "code",
   "execution_count": null,
   "metadata": {},
   "outputs": [],
   "source": [
    "st_transi_uni_df_num_licks_per_session [\"total_number_of_licks_state_transi\"] = st_transi_uni_df_num_licks_per_session.iloc[:,4:].sum(axis=1)"
   ]
  },
  {
   "cell_type": "code",
   "execution_count": null,
   "metadata": {},
   "outputs": [],
   "source": [
    "st_transi_uni_df_num_licks_per_session.to_csv(\"testing.csv\")"
   ]
  },
  {
   "cell_type": "code",
   "execution_count": null,
   "metadata": {},
   "outputs": [],
   "source": []
  }
 ],
 "metadata": {
  "kernelspec": {
   "display_name": "Python 3",
   "language": "python",
   "name": "python3"
  },
  "language_info": {
   "codemirror_mode": {
    "name": "ipython",
    "version": 3
   },
   "file_extension": ".py",
   "mimetype": "text/x-python",
   "name": "python",
   "nbconvert_exporter": "python",
   "pygments_lexer": "ipython3",
   "version": "3.7.3"
  }
 },
 "nbformat": 4,
 "nbformat_minor": 4
}
