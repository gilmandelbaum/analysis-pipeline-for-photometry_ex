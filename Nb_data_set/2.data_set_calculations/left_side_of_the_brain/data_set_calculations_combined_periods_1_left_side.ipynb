{
 "cells": [
  {
   "cell_type": "code",
   "execution_count": 1,
   "metadata": {},
   "outputs": [],
   "source": [
    "import pickle\n",
    "from pathlib import Path\n",
    "import pandas as pd \n",
    "import os\n",
    "import sys\n",
    "import matplotlib.pyplot as plt\n",
    "from statistics import mean\n",
    "import getpass"
   ]
  },
  {
   "cell_type": "code",
   "execution_count": 2,
   "metadata": {},
   "outputs": [
    {
     "name": "stdout",
     "output_type": "stream",
     "text": [
      "gilmandelbaum\n"
     ]
    }
   ],
   "source": [
    "#add the github path that will run the notebooks: \n",
    "username = getpass.getuser() # gets the username from the current comp \n",
    "print (username)"
   ]
  },
  {
   "cell_type": "code",
   "execution_count": 3,
   "metadata": {},
   "outputs": [],
   "source": [
    "sys.path.insert(0,'/Users/{:}/github/analysis-pipeline-for-photometry_ex/Nb_data_set/2.data_set_calculations'.format(username))"
   ]
  },
  {
   "cell_type": "code",
   "execution_count": 4,
   "metadata": {},
   "outputs": [],
   "source": [
    "import data_set_calculations_helper_functions as dschf"
   ]
  },
  {
   "cell_type": "code",
   "execution_count": 5,
   "metadata": {},
   "outputs": [],
   "source": [
    "seq_str = '0a1b2a3a4abcd5a6a7a'\n",
    "period_of_interest = \"combined_periods_1\"\n",
    "HowManyBack=1\n",
    "folderName=\"left_dual_color_photo_full_data_set_after_inspection\" #folder where the plot data_set will be saved \n",
    "path = \"/Volumes/GilInVivoPaper.large/2.Photometry_in_str/2.dual_color_photo_full_data_set_analysis_3/\""
   ]
  },
  {
   "cell_type": "markdown",
   "metadata": {},
   "source": [
    "# Folder name of analysis: "
   ]
  },
  {
   "cell_type": "code",
   "execution_count": 6,
   "metadata": {},
   "outputs": [],
   "source": [
    "analysis_type =\"data_set_calculations\""
   ]
  },
  {
   "cell_type": "code",
   "execution_count": 7,
   "metadata": {},
   "outputs": [
    {
     "data": {
      "text/plain": [
       "'/anaconda3/bin/python3'"
      ]
     },
     "execution_count": 7,
     "metadata": {},
     "output_type": "execute_result"
    }
   ],
   "source": [
    "sys.executable"
   ]
  },
  {
   "cell_type": "markdown",
   "metadata": {},
   "source": [
    "# Import the data and where to save it "
   ]
  },
  {
   "cell_type": "code",
   "execution_count": 8,
   "metadata": {},
   "outputs": [],
   "source": [
    "path_to_save = path+\"/\"+folderName+\"/\"+seq_str #also for loading"
   ]
  },
  {
   "cell_type": "code",
   "execution_count": 9,
   "metadata": {},
   "outputs": [
    {
     "data": {
      "text/plain": [
       "'/Volumes/GilInVivoPaper.large/2.Photometry_in_str/2.dual_color_photo_full_data_set_analysis_3//left_dual_color_photo_full_data_set_after_inspection/0a1b2a3b4abcd5a6a7a'"
      ]
     },
     "execution_count": 9,
     "metadata": {},
     "output_type": "execute_result"
    }
   ],
   "source": [
    "path_to_save"
   ]
  },
  {
   "cell_type": "markdown",
   "metadata": {},
   "source": [
    "# Import the data and where to save it "
   ]
  },
  {
   "cell_type": "code",
   "execution_count": 10,
   "metadata": {},
   "outputs": [
    {
     "name": "stdout",
     "output_type": "stream",
     "text": [
      "CPU times: user 25 s, sys: 2.53 s, total: 27.5 s\n",
      "Wall time: 40.3 s\n"
     ]
    }
   ],
   "source": [
    "%%time\n",
    "root = Path(path_to_save)\n",
    "d = \"data_set\"+\"_\"+seq_str+'.pickle'\n",
    "my_path = root / d \n",
    "fileToOpen = open(my_path, 'rb')\n",
    "data_set = pickle.load(fileToOpen)"
   ]
  },
  {
   "cell_type": "code",
   "execution_count": null,
   "metadata": {},
   "outputs": [],
   "source": []
  },
  {
   "cell_type": "code",
   "execution_count": 11,
   "metadata": {},
   "outputs": [],
   "source": [
    "#y_axis_list = [\"df_f\",\"z_score\",\"z_score_sliding_window\"]"
   ]
  },
  {
   "cell_type": "code",
   "execution_count": 12,
   "metadata": {},
   "outputs": [],
   "source": [
    "# alphabet = [\"a\",\"b\",\"c\",\"d\",\"e\",\"f\",\"g\"]\n",
    "# y_axis = y_axis_list[alphabet.index(seq_str[:seq_str.index('4')][-1])]\n",
    "# print (y_axis)"
   ]
  },
  {
   "cell_type": "code",
   "execution_count": 13,
   "metadata": {},
   "outputs": [],
   "source": [
    "#period_of_interest=\"combined_periods_1\"\n",
    "#period_of_interest = \"pre_firstENLp_tag\"\n",
    "#period_of_interest=\"last_200_bins_ENL_tag\"\n",
    "#period_of_interest = \"first_15_bins_Cue_to_Sel_tag\"\n",
    "#period_of_interest=\"first_15_bins_Cue_to_Sel_fromPrevTrial_tag\"\n",
    "#period_of_interest=\"Real_nTrials\"\n",
    "#period_of_interest=\"Cue_to_Sel_tag\"\n",
    "#period_of_interest=\"Cue_to_Sel_fromPrevTrial_tag\""
   ]
  },
  {
   "cell_type": "code",
   "execution_count": 14,
   "metadata": {},
   "outputs": [],
   "source": [
    "# stash result in a cache directory, for how many back. \n",
    "cache_dir_plt = os.path.join(path_to_save,analysis_type,period_of_interest)\n",
    "if not os.path.exists(cache_dir_plt):\n",
    "    os.makedirs(cache_dir_plt)"
   ]
  },
  {
   "cell_type": "code",
   "execution_count": 15,
   "metadata": {},
   "outputs": [
    {
     "data": {
      "text/plain": [
       "'/Volumes/GilInVivoPaper.large/2.Photometry_in_str/2.dual_color_photo_full_data_set_analysis_3//left_dual_color_photo_full_data_set_after_inspection/0a1b2a3b4abcd5a6a7a/data_set_calculations/combined_periods_1'"
      ]
     },
     "execution_count": 15,
     "metadata": {},
     "output_type": "execute_result"
    }
   ],
   "source": [
    "cache_dir_plt"
   ]
  },
  {
   "cell_type": "code",
   "execution_count": 16,
   "metadata": {},
   "outputs": [],
   "source": [
    "#from sklearn.metrics import auc"
   ]
  },
  {
   "cell_type": "code",
   "execution_count": null,
   "metadata": {},
   "outputs": [],
   "source": []
  },
  {
   "cell_type": "code",
   "execution_count": null,
   "metadata": {},
   "outputs": [],
   "source": []
  },
  {
   "cell_type": "markdown",
   "metadata": {},
   "source": [
    "# generate data sets of interest"
   ]
  },
  {
   "cell_type": "code",
   "execution_count": 17,
   "metadata": {},
   "outputs": [],
   "source": [
    "l_ls_period_d1_data_set= dschf.extract_data_of_interest_ipsi_contra_data_set(data_set,\n",
    "                                                                           1,0,\n",
    "                                                                           period_of_interest,\"d1 L\")"
   ]
  },
  {
   "cell_type": "code",
   "execution_count": 18,
   "metadata": {},
   "outputs": [],
   "source": [
    "l_ls_period_d2_data_set= dschf.extract_data_of_interest_ipsi_contra_data_set(data_set,\n",
    "                                                                           1,0,\n",
    "                                                                           period_of_interest,\"d2 L\")"
   ]
  },
  {
   "cell_type": "code",
   "execution_count": 19,
   "metadata": {},
   "outputs": [],
   "source": [
    "l_wr_period_d1_data_set= dschf.extract_data_of_interest_ipsi_contra_data_set(data_set,\n",
    "                                                                           1,3,\n",
    "                                                                           period_of_interest,\"d1 L\")"
   ]
  },
  {
   "cell_type": "code",
   "execution_count": 20,
   "metadata": {},
   "outputs": [],
   "source": [
    "l_wr_period_d2_data_set= dschf.extract_data_of_interest_ipsi_contra_data_set(data_set,\n",
    "                                                                           1,3,\n",
    "                                                                           period_of_interest,\"d2 L\")"
   ]
  },
  {
   "cell_type": "code",
   "execution_count": 21,
   "metadata": {},
   "outputs": [],
   "source": [
    "def max_value_per_session (data_ipsi_contra):\n",
    "    idxmax_value_list = list(data_ipsi_contra.loc[200:500,:].idxmax())\n",
    "    li =[]\n",
    "    for c,i in enumerate (idxmax_value_list): #c is the count, i is the index of max value in each session avg \n",
    "        maxi = data_ipsi_contra.iloc[(i-10):(i+11),c].mean()\n",
    "        li.append(maxi)\n",
    "    li_mean = round(mean(li),3)\n",
    "    return (li_mean)"
   ]
  },
  {
   "cell_type": "code",
   "execution_count": 22,
   "metadata": {},
   "outputs": [],
   "source": [
    "def calculate_value_on_data_set (ipsi_contra_data_set,column_name): #\n",
    "    \n",
    "    df_ipsi_next_list = []\n",
    "    df_contra_next_list = []\n",
    "    df_output = pd.DataFrame()\n",
    "\n",
    "    for data_ipsi_contra in ipsi_contra_data_set:\n",
    "        value_ipsi_next = max_value_per_session(data_ipsi_contra[0])\n",
    "        value_contra_next = max_value_per_session(data_ipsi_contra[1])\n",
    "        #organize into a data frame: \n",
    "        df_ipsi_next_list.append(value_ipsi_next)\n",
    "        df_contra_next_list.append(value_contra_next)\n",
    "    df_output [\"ipsi_\"+column_name] = df_ipsi_next_list\n",
    "    df_output [\"contra_\"+column_name] = df_contra_next_list\n",
    "    #save outputs..      \n",
    "    return (df_output)"
   ]
  },
  {
   "cell_type": "code",
   "execution_count": 23,
   "metadata": {
    "scrolled": true
   },
   "outputs": [],
   "source": [
    "l_ls_period_d1_data_set_peak_value_after_choice = calculate_value_on_data_set(l_ls_period_d1_data_set,\n",
    "                                                                              \"ls_d1_left\")"
   ]
  },
  {
   "cell_type": "code",
   "execution_count": 24,
   "metadata": {
    "scrolled": true
   },
   "outputs": [],
   "source": [
    "l_ls_period_d2_data_set_peak_value_after_choice = calculate_value_on_data_set(l_ls_period_d2_data_set,\n",
    "                                                                              \"ls_d2_left\")"
   ]
  },
  {
   "cell_type": "code",
   "execution_count": 25,
   "metadata": {
    "scrolled": true
   },
   "outputs": [],
   "source": [
    "l_wr_period_d1_data_set_peak_value_after_choice = calculate_value_on_data_set(l_wr_period_d1_data_set,\n",
    "                                                                              \"wr_d1_left\")"
   ]
  },
  {
   "cell_type": "code",
   "execution_count": 26,
   "metadata": {
    "scrolled": false
   },
   "outputs": [],
   "source": [
    "l_wr_period_d2_data_set_peak_value_after_choice = calculate_value_on_data_set(l_wr_period_d2_data_set,\n",
    "                                                                              \"wr_d2_left\")"
   ]
  },
  {
   "cell_type": "code",
   "execution_count": 27,
   "metadata": {},
   "outputs": [],
   "source": [
    "result = pd.concat([l_ls_period_d1_data_set_peak_value_after_choice,\n",
    "                    l_ls_period_d2_data_set_peak_value_after_choice,\n",
    "                    l_wr_period_d1_data_set_peak_value_after_choice,\n",
    "                    l_wr_period_d2_data_set_peak_value_after_choice],axis=1)"
   ]
  },
  {
   "cell_type": "code",
   "execution_count": 28,
   "metadata": {
    "scrolled": true
   },
   "outputs": [
    {
     "data": {
      "text/html": [
       "<div>\n",
       "<style scoped>\n",
       "    .dataframe tbody tr th:only-of-type {\n",
       "        vertical-align: middle;\n",
       "    }\n",
       "\n",
       "    .dataframe tbody tr th {\n",
       "        vertical-align: top;\n",
       "    }\n",
       "\n",
       "    .dataframe thead th {\n",
       "        text-align: right;\n",
       "    }\n",
       "</style>\n",
       "<table border=\"1\" class=\"dataframe\">\n",
       "  <thead>\n",
       "    <tr style=\"text-align: right;\">\n",
       "      <th></th>\n",
       "      <th>ipsi_ls_d1_left</th>\n",
       "      <th>contra_ls_d1_left</th>\n",
       "      <th>ipsi_ls_d2_left</th>\n",
       "      <th>contra_ls_d2_left</th>\n",
       "      <th>ipsi_wr_d1_left</th>\n",
       "      <th>contra_wr_d1_left</th>\n",
       "      <th>ipsi_wr_d2_left</th>\n",
       "      <th>contra_wr_d2_left</th>\n",
       "    </tr>\n",
       "  </thead>\n",
       "  <tbody>\n",
       "    <tr>\n",
       "      <th>0</th>\n",
       "      <td>1.183</td>\n",
       "      <td>2.123</td>\n",
       "      <td>1.727</td>\n",
       "      <td>1.565</td>\n",
       "      <td>2.154</td>\n",
       "      <td>1.089</td>\n",
       "      <td>1.716</td>\n",
       "      <td>1.259</td>\n",
       "    </tr>\n",
       "    <tr>\n",
       "      <th>1</th>\n",
       "      <td>1.334</td>\n",
       "      <td>1.967</td>\n",
       "      <td>1.324</td>\n",
       "      <td>1.745</td>\n",
       "      <td>1.864</td>\n",
       "      <td>1.246</td>\n",
       "      <td>1.201</td>\n",
       "      <td>0.988</td>\n",
       "    </tr>\n",
       "    <tr>\n",
       "      <th>2</th>\n",
       "      <td>1.031</td>\n",
       "      <td>2.034</td>\n",
       "      <td>1.212</td>\n",
       "      <td>1.395</td>\n",
       "      <td>2.121</td>\n",
       "      <td>0.920</td>\n",
       "      <td>1.467</td>\n",
       "      <td>0.891</td>\n",
       "    </tr>\n",
       "    <tr>\n",
       "      <th>3</th>\n",
       "      <td>1.713</td>\n",
       "      <td>1.794</td>\n",
       "      <td>1.706</td>\n",
       "      <td>1.323</td>\n",
       "      <td>1.721</td>\n",
       "      <td>1.371</td>\n",
       "      <td>1.574</td>\n",
       "      <td>1.210</td>\n",
       "    </tr>\n",
       "    <tr>\n",
       "      <th>4</th>\n",
       "      <td>1.146</td>\n",
       "      <td>2.050</td>\n",
       "      <td>1.124</td>\n",
       "      <td>1.685</td>\n",
       "      <td>1.618</td>\n",
       "      <td>1.110</td>\n",
       "      <td>1.155</td>\n",
       "      <td>1.193</td>\n",
       "    </tr>\n",
       "    <tr>\n",
       "      <th>5</th>\n",
       "      <td>1.327</td>\n",
       "      <td>1.814</td>\n",
       "      <td>1.434</td>\n",
       "      <td>1.874</td>\n",
       "      <td>1.749</td>\n",
       "      <td>1.228</td>\n",
       "      <td>1.130</td>\n",
       "      <td>1.161</td>\n",
       "    </tr>\n",
       "    <tr>\n",
       "      <th>6</th>\n",
       "      <td>1.424</td>\n",
       "      <td>1.714</td>\n",
       "      <td>1.590</td>\n",
       "      <td>1.001</td>\n",
       "      <td>1.704</td>\n",
       "      <td>1.240</td>\n",
       "      <td>1.466</td>\n",
       "      <td>1.388</td>\n",
       "    </tr>\n",
       "    <tr>\n",
       "      <th>7</th>\n",
       "      <td>0.762</td>\n",
       "      <td>1.408</td>\n",
       "      <td>1.543</td>\n",
       "      <td>1.413</td>\n",
       "      <td>1.615</td>\n",
       "      <td>0.994</td>\n",
       "      <td>0.725</td>\n",
       "      <td>0.578</td>\n",
       "    </tr>\n",
       "    <tr>\n",
       "      <th>8</th>\n",
       "      <td>1.088</td>\n",
       "      <td>1.533</td>\n",
       "      <td>0.756</td>\n",
       "      <td>1.108</td>\n",
       "      <td>1.689</td>\n",
       "      <td>1.117</td>\n",
       "      <td>0.556</td>\n",
       "      <td>0.464</td>\n",
       "    </tr>\n",
       "    <tr>\n",
       "      <th>9</th>\n",
       "      <td>1.094</td>\n",
       "      <td>1.382</td>\n",
       "      <td>0.771</td>\n",
       "      <td>1.294</td>\n",
       "      <td>1.735</td>\n",
       "      <td>1.196</td>\n",
       "      <td>0.634</td>\n",
       "      <td>0.783</td>\n",
       "    </tr>\n",
       "    <tr>\n",
       "      <th>10</th>\n",
       "      <td>0.863</td>\n",
       "      <td>1.377</td>\n",
       "      <td>0.834</td>\n",
       "      <td>0.868</td>\n",
       "      <td>1.718</td>\n",
       "      <td>1.024</td>\n",
       "      <td>0.757</td>\n",
       "      <td>0.710</td>\n",
       "    </tr>\n",
       "    <tr>\n",
       "      <th>11</th>\n",
       "      <td>1.689</td>\n",
       "      <td>1.998</td>\n",
       "      <td>1.360</td>\n",
       "      <td>1.476</td>\n",
       "      <td>1.688</td>\n",
       "      <td>1.475</td>\n",
       "      <td>1.432</td>\n",
       "      <td>1.422</td>\n",
       "    </tr>\n",
       "    <tr>\n",
       "      <th>12</th>\n",
       "      <td>1.618</td>\n",
       "      <td>1.615</td>\n",
       "      <td>1.506</td>\n",
       "      <td>1.404</td>\n",
       "      <td>1.637</td>\n",
       "      <td>1.832</td>\n",
       "      <td>1.264</td>\n",
       "      <td>1.161</td>\n",
       "    </tr>\n",
       "    <tr>\n",
       "      <th>13</th>\n",
       "      <td>1.589</td>\n",
       "      <td>1.489</td>\n",
       "      <td>0.787</td>\n",
       "      <td>0.857</td>\n",
       "      <td>1.535</td>\n",
       "      <td>1.787</td>\n",
       "      <td>0.914</td>\n",
       "      <td>1.044</td>\n",
       "    </tr>\n",
       "    <tr>\n",
       "      <th>14</th>\n",
       "      <td>1.709</td>\n",
       "      <td>1.376</td>\n",
       "      <td>0.828</td>\n",
       "      <td>0.959</td>\n",
       "      <td>1.631</td>\n",
       "      <td>1.855</td>\n",
       "      <td>0.974</td>\n",
       "      <td>1.101</td>\n",
       "    </tr>\n",
       "    <tr>\n",
       "      <th>15</th>\n",
       "      <td>1.702</td>\n",
       "      <td>1.458</td>\n",
       "      <td>1.114</td>\n",
       "      <td>1.000</td>\n",
       "      <td>1.657</td>\n",
       "      <td>1.816</td>\n",
       "      <td>0.840</td>\n",
       "      <td>0.991</td>\n",
       "    </tr>\n",
       "    <tr>\n",
       "      <th>16</th>\n",
       "      <td>1.596</td>\n",
       "      <td>1.604</td>\n",
       "      <td>0.657</td>\n",
       "      <td>0.901</td>\n",
       "      <td>1.555</td>\n",
       "      <td>1.895</td>\n",
       "      <td>0.862</td>\n",
       "      <td>0.872</td>\n",
       "    </tr>\n",
       "    <tr>\n",
       "      <th>17</th>\n",
       "      <td>1.688</td>\n",
       "      <td>1.478</td>\n",
       "      <td>0.916</td>\n",
       "      <td>0.314</td>\n",
       "      <td>1.470</td>\n",
       "      <td>1.898</td>\n",
       "      <td>0.492</td>\n",
       "      <td>0.638</td>\n",
       "    </tr>\n",
       "    <tr>\n",
       "      <th>18</th>\n",
       "      <td>1.502</td>\n",
       "      <td>1.340</td>\n",
       "      <td>1.539</td>\n",
       "      <td>1.040</td>\n",
       "      <td>1.642</td>\n",
       "      <td>1.771</td>\n",
       "      <td>1.138</td>\n",
       "      <td>1.220</td>\n",
       "    </tr>\n",
       "    <tr>\n",
       "      <th>19</th>\n",
       "      <td>2.221</td>\n",
       "      <td>1.776</td>\n",
       "      <td>1.192</td>\n",
       "      <td>2.144</td>\n",
       "      <td>1.817</td>\n",
       "      <td>2.159</td>\n",
       "      <td>0.904</td>\n",
       "      <td>1.013</td>\n",
       "    </tr>\n",
       "    <tr>\n",
       "      <th>20</th>\n",
       "      <td>1.751</td>\n",
       "      <td>1.684</td>\n",
       "      <td>1.114</td>\n",
       "      <td>1.361</td>\n",
       "      <td>1.723</td>\n",
       "      <td>1.981</td>\n",
       "      <td>0.941</td>\n",
       "      <td>1.056</td>\n",
       "    </tr>\n",
       "    <tr>\n",
       "      <th>21</th>\n",
       "      <td>2.384</td>\n",
       "      <td>1.670</td>\n",
       "      <td>1.484</td>\n",
       "      <td>4.053</td>\n",
       "      <td>1.536</td>\n",
       "      <td>2.192</td>\n",
       "      <td>0.763</td>\n",
       "      <td>1.545</td>\n",
       "    </tr>\n",
       "    <tr>\n",
       "      <th>22</th>\n",
       "      <td>1.845</td>\n",
       "      <td>1.833</td>\n",
       "      <td>1.675</td>\n",
       "      <td>3.708</td>\n",
       "      <td>1.773</td>\n",
       "      <td>1.992</td>\n",
       "      <td>0.692</td>\n",
       "      <td>0.765</td>\n",
       "    </tr>\n",
       "    <tr>\n",
       "      <th>23</th>\n",
       "      <td>1.977</td>\n",
       "      <td>1.670</td>\n",
       "      <td>0.699</td>\n",
       "      <td>1.701</td>\n",
       "      <td>1.746</td>\n",
       "      <td>1.894</td>\n",
       "      <td>0.603</td>\n",
       "      <td>0.854</td>\n",
       "    </tr>\n",
       "    <tr>\n",
       "      <th>24</th>\n",
       "      <td>1.921</td>\n",
       "      <td>1.886</td>\n",
       "      <td>1.657</td>\n",
       "      <td>2.098</td>\n",
       "      <td>1.808</td>\n",
       "      <td>2.057</td>\n",
       "      <td>1.088</td>\n",
       "      <td>1.075</td>\n",
       "    </tr>\n",
       "    <tr>\n",
       "      <th>25</th>\n",
       "      <td>2.036</td>\n",
       "      <td>2.266</td>\n",
       "      <td>1.117</td>\n",
       "      <td>1.782</td>\n",
       "      <td>1.746</td>\n",
       "      <td>2.066</td>\n",
       "      <td>0.722</td>\n",
       "      <td>0.915</td>\n",
       "    </tr>\n",
       "    <tr>\n",
       "      <th>26</th>\n",
       "      <td>1.636</td>\n",
       "      <td>2.262</td>\n",
       "      <td>2.034</td>\n",
       "      <td>2.951</td>\n",
       "      <td>1.894</td>\n",
       "      <td>1.998</td>\n",
       "      <td>0.832</td>\n",
       "      <td>0.659</td>\n",
       "    </tr>\n",
       "    <tr>\n",
       "      <th>27</th>\n",
       "      <td>1.721</td>\n",
       "      <td>1.795</td>\n",
       "      <td>1.941</td>\n",
       "      <td>2.990</td>\n",
       "      <td>1.795</td>\n",
       "      <td>2.074</td>\n",
       "      <td>0.920</td>\n",
       "      <td>1.307</td>\n",
       "    </tr>\n",
       "    <tr>\n",
       "      <th>28</th>\n",
       "      <td>1.399</td>\n",
       "      <td>1.617</td>\n",
       "      <td>1.534</td>\n",
       "      <td>1.852</td>\n",
       "      <td>2.663</td>\n",
       "      <td>1.240</td>\n",
       "      <td>1.293</td>\n",
       "      <td>1.710</td>\n",
       "    </tr>\n",
       "    <tr>\n",
       "      <th>29</th>\n",
       "      <td>1.488</td>\n",
       "      <td>2.371</td>\n",
       "      <td>1.228</td>\n",
       "      <td>1.595</td>\n",
       "      <td>2.455</td>\n",
       "      <td>1.222</td>\n",
       "      <td>1.467</td>\n",
       "      <td>1.374</td>\n",
       "    </tr>\n",
       "    <tr>\n",
       "      <th>30</th>\n",
       "      <td>0.918</td>\n",
       "      <td>2.225</td>\n",
       "      <td>1.152</td>\n",
       "      <td>1.378</td>\n",
       "      <td>2.844</td>\n",
       "      <td>1.188</td>\n",
       "      <td>1.726</td>\n",
       "      <td>1.470</td>\n",
       "    </tr>\n",
       "    <tr>\n",
       "      <th>31</th>\n",
       "      <td>0.871</td>\n",
       "      <td>2.106</td>\n",
       "      <td>1.479</td>\n",
       "      <td>2.205</td>\n",
       "      <td>2.601</td>\n",
       "      <td>1.183</td>\n",
       "      <td>1.510</td>\n",
       "      <td>1.826</td>\n",
       "    </tr>\n",
       "    <tr>\n",
       "      <th>32</th>\n",
       "      <td>1.358</td>\n",
       "      <td>1.515</td>\n",
       "      <td>1.165</td>\n",
       "      <td>1.252</td>\n",
       "      <td>2.030</td>\n",
       "      <td>1.566</td>\n",
       "      <td>1.301</td>\n",
       "      <td>1.804</td>\n",
       "    </tr>\n",
       "    <tr>\n",
       "      <th>33</th>\n",
       "      <td>1.766</td>\n",
       "      <td>1.578</td>\n",
       "      <td>1.663</td>\n",
       "      <td>1.533</td>\n",
       "      <td>1.952</td>\n",
       "      <td>1.543</td>\n",
       "      <td>1.716</td>\n",
       "      <td>1.607</td>\n",
       "    </tr>\n",
       "    <tr>\n",
       "      <th>34</th>\n",
       "      <td>1.382</td>\n",
       "      <td>1.654</td>\n",
       "      <td>1.288</td>\n",
       "      <td>1.087</td>\n",
       "      <td>1.643</td>\n",
       "      <td>1.582</td>\n",
       "      <td>1.436</td>\n",
       "      <td>1.570</td>\n",
       "    </tr>\n",
       "    <tr>\n",
       "      <th>35</th>\n",
       "      <td>1.765</td>\n",
       "      <td>1.415</td>\n",
       "      <td>1.984</td>\n",
       "      <td>1.490</td>\n",
       "      <td>1.650</td>\n",
       "      <td>1.679</td>\n",
       "      <td>1.358</td>\n",
       "      <td>1.526</td>\n",
       "    </tr>\n",
       "    <tr>\n",
       "      <th>36</th>\n",
       "      <td>1.660</td>\n",
       "      <td>2.029</td>\n",
       "      <td>1.415</td>\n",
       "      <td>2.282</td>\n",
       "      <td>1.497</td>\n",
       "      <td>1.848</td>\n",
       "      <td>1.040</td>\n",
       "      <td>1.456</td>\n",
       "    </tr>\n",
       "    <tr>\n",
       "      <th>37</th>\n",
       "      <td>2.039</td>\n",
       "      <td>1.746</td>\n",
       "      <td>1.678</td>\n",
       "      <td>1.689</td>\n",
       "      <td>1.636</td>\n",
       "      <td>1.574</td>\n",
       "      <td>1.312</td>\n",
       "      <td>1.685</td>\n",
       "    </tr>\n",
       "    <tr>\n",
       "      <th>38</th>\n",
       "      <td>1.585</td>\n",
       "      <td>1.665</td>\n",
       "      <td>1.245</td>\n",
       "      <td>1.815</td>\n",
       "      <td>1.617</td>\n",
       "      <td>1.774</td>\n",
       "      <td>1.144</td>\n",
       "      <td>1.578</td>\n",
       "    </tr>\n",
       "    <tr>\n",
       "      <th>39</th>\n",
       "      <td>1.918</td>\n",
       "      <td>1.589</td>\n",
       "      <td>1.711</td>\n",
       "      <td>1.543</td>\n",
       "      <td>1.537</td>\n",
       "      <td>1.693</td>\n",
       "      <td>1.140</td>\n",
       "      <td>1.589</td>\n",
       "    </tr>\n",
       "  </tbody>\n",
       "</table>\n",
       "</div>"
      ],
      "text/plain": [
       "    ipsi_ls_d1_left  contra_ls_d1_left  ipsi_ls_d2_left  contra_ls_d2_left  \\\n",
       "0             1.183              2.123            1.727              1.565   \n",
       "1             1.334              1.967            1.324              1.745   \n",
       "2             1.031              2.034            1.212              1.395   \n",
       "3             1.713              1.794            1.706              1.323   \n",
       "4             1.146              2.050            1.124              1.685   \n",
       "5             1.327              1.814            1.434              1.874   \n",
       "6             1.424              1.714            1.590              1.001   \n",
       "7             0.762              1.408            1.543              1.413   \n",
       "8             1.088              1.533            0.756              1.108   \n",
       "9             1.094              1.382            0.771              1.294   \n",
       "10            0.863              1.377            0.834              0.868   \n",
       "11            1.689              1.998            1.360              1.476   \n",
       "12            1.618              1.615            1.506              1.404   \n",
       "13            1.589              1.489            0.787              0.857   \n",
       "14            1.709              1.376            0.828              0.959   \n",
       "15            1.702              1.458            1.114              1.000   \n",
       "16            1.596              1.604            0.657              0.901   \n",
       "17            1.688              1.478            0.916              0.314   \n",
       "18            1.502              1.340            1.539              1.040   \n",
       "19            2.221              1.776            1.192              2.144   \n",
       "20            1.751              1.684            1.114              1.361   \n",
       "21            2.384              1.670            1.484              4.053   \n",
       "22            1.845              1.833            1.675              3.708   \n",
       "23            1.977              1.670            0.699              1.701   \n",
       "24            1.921              1.886            1.657              2.098   \n",
       "25            2.036              2.266            1.117              1.782   \n",
       "26            1.636              2.262            2.034              2.951   \n",
       "27            1.721              1.795            1.941              2.990   \n",
       "28            1.399              1.617            1.534              1.852   \n",
       "29            1.488              2.371            1.228              1.595   \n",
       "30            0.918              2.225            1.152              1.378   \n",
       "31            0.871              2.106            1.479              2.205   \n",
       "32            1.358              1.515            1.165              1.252   \n",
       "33            1.766              1.578            1.663              1.533   \n",
       "34            1.382              1.654            1.288              1.087   \n",
       "35            1.765              1.415            1.984              1.490   \n",
       "36            1.660              2.029            1.415              2.282   \n",
       "37            2.039              1.746            1.678              1.689   \n",
       "38            1.585              1.665            1.245              1.815   \n",
       "39            1.918              1.589            1.711              1.543   \n",
       "\n",
       "    ipsi_wr_d1_left  contra_wr_d1_left  ipsi_wr_d2_left  contra_wr_d2_left  \n",
       "0             2.154              1.089            1.716              1.259  \n",
       "1             1.864              1.246            1.201              0.988  \n",
       "2             2.121              0.920            1.467              0.891  \n",
       "3             1.721              1.371            1.574              1.210  \n",
       "4             1.618              1.110            1.155              1.193  \n",
       "5             1.749              1.228            1.130              1.161  \n",
       "6             1.704              1.240            1.466              1.388  \n",
       "7             1.615              0.994            0.725              0.578  \n",
       "8             1.689              1.117            0.556              0.464  \n",
       "9             1.735              1.196            0.634              0.783  \n",
       "10            1.718              1.024            0.757              0.710  \n",
       "11            1.688              1.475            1.432              1.422  \n",
       "12            1.637              1.832            1.264              1.161  \n",
       "13            1.535              1.787            0.914              1.044  \n",
       "14            1.631              1.855            0.974              1.101  \n",
       "15            1.657              1.816            0.840              0.991  \n",
       "16            1.555              1.895            0.862              0.872  \n",
       "17            1.470              1.898            0.492              0.638  \n",
       "18            1.642              1.771            1.138              1.220  \n",
       "19            1.817              2.159            0.904              1.013  \n",
       "20            1.723              1.981            0.941              1.056  \n",
       "21            1.536              2.192            0.763              1.545  \n",
       "22            1.773              1.992            0.692              0.765  \n",
       "23            1.746              1.894            0.603              0.854  \n",
       "24            1.808              2.057            1.088              1.075  \n",
       "25            1.746              2.066            0.722              0.915  \n",
       "26            1.894              1.998            0.832              0.659  \n",
       "27            1.795              2.074            0.920              1.307  \n",
       "28            2.663              1.240            1.293              1.710  \n",
       "29            2.455              1.222            1.467              1.374  \n",
       "30            2.844              1.188            1.726              1.470  \n",
       "31            2.601              1.183            1.510              1.826  \n",
       "32            2.030              1.566            1.301              1.804  \n",
       "33            1.952              1.543            1.716              1.607  \n",
       "34            1.643              1.582            1.436              1.570  \n",
       "35            1.650              1.679            1.358              1.526  \n",
       "36            1.497              1.848            1.040              1.456  \n",
       "37            1.636              1.574            1.312              1.685  \n",
       "38            1.617              1.774            1.144              1.578  \n",
       "39            1.537              1.693            1.140              1.589  "
      ]
     },
     "execution_count": 28,
     "metadata": {},
     "output_type": "execute_result"
    }
   ],
   "source": [
    "result"
   ]
  },
  {
   "cell_type": "code",
   "execution_count": 29,
   "metadata": {},
   "outputs": [],
   "source": [
    "result.to_csv(cache_dir_plt+\"/max_signal_after_choice.csv\")"
   ]
  },
  {
   "cell_type": "code",
   "execution_count": null,
   "metadata": {},
   "outputs": [],
   "source": []
  },
  {
   "cell_type": "code",
   "execution_count": null,
   "metadata": {},
   "outputs": [],
   "source": []
  }
 ],
 "metadata": {
  "celltoolbar": "Tags",
  "kernelspec": {
   "display_name": "Python 3",
   "language": "python",
   "name": "python3"
  },
  "language_info": {
   "codemirror_mode": {
    "name": "ipython",
    "version": 3
   },
   "file_extension": ".py",
   "mimetype": "text/x-python",
   "name": "python",
   "nbconvert_exporter": "python",
   "pygments_lexer": "ipython3",
   "version": "3.7.3"
  }
 },
 "nbformat": 4,
 "nbformat_minor": 4
}
