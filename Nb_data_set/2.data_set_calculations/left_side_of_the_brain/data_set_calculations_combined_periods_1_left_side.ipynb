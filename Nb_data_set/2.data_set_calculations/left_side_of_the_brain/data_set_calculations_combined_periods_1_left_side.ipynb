{
 "cells": [
  {
   "cell_type": "code",
   "execution_count": 1,
   "metadata": {},
   "outputs": [],
   "source": [
    "import pickle\n",
    "from pathlib import Path\n",
    "import pandas as pd \n",
    "import os\n",
    "import sys\n",
    "import matplotlib.pyplot as plt\n",
    "from statistics import mean\n",
    "import getpass"
   ]
  },
  {
   "cell_type": "code",
   "execution_count": 2,
   "metadata": {},
   "outputs": [
    {
     "name": "stdout",
     "output_type": "stream",
     "text": [
      "gilmandelbaum\n"
     ]
    }
   ],
   "source": [
    "#add the github path that will run the notebooks: \n",
    "username = getpass.getuser() # gets the username from the current comp \n",
    "print (username)"
   ]
  },
  {
   "cell_type": "code",
   "execution_count": 3,
   "metadata": {},
   "outputs": [],
   "source": [
    "sys.path.insert(0,'/Users/{:}/github/analysis-pipeline-for-photometry_ex/Nb_data_set/2.data_set_calculations'.format(username))"
   ]
  },
  {
   "cell_type": "code",
   "execution_count": 4,
   "metadata": {},
   "outputs": [],
   "source": [
    "import data_set_calculations_helper_functions as dschf"
   ]
  },
  {
   "cell_type": "code",
   "execution_count": 5,
   "metadata": {},
   "outputs": [],
   "source": [
    "seq_str = '0a1b2a3a4abcd5a6a7a'\n",
    "period_of_interest = \"combined_periods_1\"\n",
    "HowManyBack=1\n",
    "folderName=\"left_dual_color_photo_full_data_set_after_inspection\" #folder where the plot data_set will be saved \n",
    "path = \"/Volumes/GilInVivoPaper.large/2.Photometry_in_str/2.dual_color_photo_full_data_set_analysis_2/\""
   ]
  },
  {
   "cell_type": "markdown",
   "metadata": {},
   "source": [
    "# Folder name of analysis: "
   ]
  },
  {
   "cell_type": "code",
   "execution_count": 6,
   "metadata": {},
   "outputs": [],
   "source": [
    "analysis_type =\"data_set_calculations\""
   ]
  },
  {
   "cell_type": "code",
   "execution_count": 7,
   "metadata": {},
   "outputs": [
    {
     "data": {
      "text/plain": [
       "'/anaconda3/bin/python3'"
      ]
     },
     "execution_count": 7,
     "metadata": {},
     "output_type": "execute_result"
    }
   ],
   "source": [
    "sys.executable"
   ]
  },
  {
   "cell_type": "markdown",
   "metadata": {},
   "source": [
    "# Import the data and where to save it "
   ]
  },
  {
   "cell_type": "code",
   "execution_count": 8,
   "metadata": {},
   "outputs": [],
   "source": [
    "path_to_save = path+\"/\"+folderName+\"/\"+seq_str #also for loading"
   ]
  },
  {
   "cell_type": "code",
   "execution_count": 9,
   "metadata": {},
   "outputs": [
    {
     "data": {
      "text/plain": [
       "'/Volumes/GilInVivoPaper.large/2.Photometry_in_str/2.dual_color_photo_full_data_set_analysis_2//left_dual_color_photo_full_data_set_after_inspection/0a1b2a3a4abcd5a6a7a'"
      ]
     },
     "execution_count": 9,
     "metadata": {},
     "output_type": "execute_result"
    }
   ],
   "source": [
    "path_to_save"
   ]
  },
  {
   "cell_type": "markdown",
   "metadata": {},
   "source": [
    "# Import the data and where to save it "
   ]
  },
  {
   "cell_type": "code",
   "execution_count": 10,
   "metadata": {},
   "outputs": [
    {
     "name": "stdout",
     "output_type": "stream",
     "text": [
      "CPU times: user 13.8 s, sys: 1.06 s, total: 14.9 s\n",
      "Wall time: 19.1 s\n"
     ]
    }
   ],
   "source": [
    "%%time\n",
    "root = Path(path_to_save)\n",
    "d = \"data_set\"+\"_\"+seq_str+'.pickle'\n",
    "my_path = root / d \n",
    "fileToOpen = open(my_path, 'rb')\n",
    "data_set = pickle.load(fileToOpen)"
   ]
  },
  {
   "cell_type": "code",
   "execution_count": null,
   "metadata": {},
   "outputs": [],
   "source": []
  },
  {
   "cell_type": "code",
   "execution_count": 11,
   "metadata": {},
   "outputs": [],
   "source": [
    "#y_axis_list = [\"df_f\",\"z_score\",\"z_score_sliding_window\"]"
   ]
  },
  {
   "cell_type": "code",
   "execution_count": 12,
   "metadata": {},
   "outputs": [],
   "source": [
    "# alphabet = [\"a\",\"b\",\"c\",\"d\",\"e\",\"f\",\"g\"]\n",
    "# y_axis = y_axis_list[alphabet.index(seq_str[:seq_str.index('4')][-1])]\n",
    "# print (y_axis)"
   ]
  },
  {
   "cell_type": "code",
   "execution_count": 13,
   "metadata": {},
   "outputs": [],
   "source": [
    "#period_of_interest=\"combined_periods_1\"\n",
    "#period_of_interest = \"pre_firstENLp_tag\"\n",
    "#period_of_interest=\"last_200_bins_ENL_tag\"\n",
    "#period_of_interest = \"first_15_bins_Cue_to_Sel_tag\"\n",
    "#period_of_interest=\"first_15_bins_Cue_to_Sel_fromPrevTrial_tag\"\n",
    "#period_of_interest=\"Real_nTrials\"\n",
    "#period_of_interest=\"Cue_to_Sel_tag\"\n",
    "#period_of_interest=\"Cue_to_Sel_fromPrevTrial_tag\""
   ]
  },
  {
   "cell_type": "code",
   "execution_count": 14,
   "metadata": {},
   "outputs": [],
   "source": [
    "# stash result in a cache directory, for how many back. \n",
    "cache_dir_plt = os.path.join(path_to_save,analysis_type,period_of_interest)\n",
    "if not os.path.exists(cache_dir_plt):\n",
    "    os.makedirs(cache_dir_plt)"
   ]
  },
  {
   "cell_type": "code",
   "execution_count": 15,
   "metadata": {},
   "outputs": [
    {
     "data": {
      "text/plain": [
       "'/Volumes/GilInVivoPaper.large/2.Photometry_in_str/2.dual_color_photo_full_data_set_analysis_2//left_dual_color_photo_full_data_set_after_inspection/0a1b2a3a4abcd5a6a7a/data_set_calculations/combined_periods_1'"
      ]
     },
     "execution_count": 15,
     "metadata": {},
     "output_type": "execute_result"
    }
   ],
   "source": [
    "cache_dir_plt"
   ]
  },
  {
   "cell_type": "code",
   "execution_count": 16,
   "metadata": {},
   "outputs": [],
   "source": [
    "#from sklearn.metrics import auc"
   ]
  },
  {
   "cell_type": "code",
   "execution_count": null,
   "metadata": {},
   "outputs": [],
   "source": []
  },
  {
   "cell_type": "code",
   "execution_count": null,
   "metadata": {},
   "outputs": [],
   "source": []
  },
  {
   "cell_type": "markdown",
   "metadata": {},
   "source": [
    "# generate data sets of interest"
   ]
  },
  {
   "cell_type": "code",
   "execution_count": 17,
   "metadata": {},
   "outputs": [],
   "source": [
    "l_ls_period_d1_data_set= dschf.extract_data_of_interest_ipsi_contra_data_set(data_set,\n",
    "                                                                           1,0,\n",
    "                                                                           period_of_interest,\"d1 L\")"
   ]
  },
  {
   "cell_type": "code",
   "execution_count": 18,
   "metadata": {},
   "outputs": [],
   "source": [
    "l_ls_period_d2_data_set= dschf.extract_data_of_interest_ipsi_contra_data_set(data_set,\n",
    "                                                                           1,0,\n",
    "                                                                           period_of_interest,\"d2 L\")"
   ]
  },
  {
   "cell_type": "code",
   "execution_count": 19,
   "metadata": {},
   "outputs": [],
   "source": [
    "l_wr_period_d1_data_set= dschf.extract_data_of_interest_ipsi_contra_data_set(data_set,\n",
    "                                                                           1,3,\n",
    "                                                                           period_of_interest,\"d1 L\")"
   ]
  },
  {
   "cell_type": "code",
   "execution_count": 20,
   "metadata": {},
   "outputs": [],
   "source": [
    "l_wr_period_d2_data_set= dschf.extract_data_of_interest_ipsi_contra_data_set(data_set,\n",
    "                                                                           1,3,\n",
    "                                                                           period_of_interest,\"d2 L\")"
   ]
  },
  {
   "cell_type": "code",
   "execution_count": 21,
   "metadata": {},
   "outputs": [],
   "source": [
    "def max_value_per_session (data_ipsi_contra):\n",
    "    idxmax_value_list = list(data_ipsi_contra.loc[200:500,:].idxmax())\n",
    "    li =[]\n",
    "    for c,i in enumerate (idxmax_value_list): #c is the count, i is the index of max value in each session avg \n",
    "        maxi = data_ipsi_contra.iloc[(i-10):(i+11),c].mean()\n",
    "        li.append(maxi)\n",
    "    li_mean = round(mean(li),3)\n",
    "    return (li_mean)"
   ]
  },
  {
   "cell_type": "code",
   "execution_count": 22,
   "metadata": {},
   "outputs": [],
   "source": [
    "def calculate_value_on_data_set (ipsi_contra_data_set,column_name): #\n",
    "    \n",
    "    df_ipsi_next_list = []\n",
    "    df_contra_next_list = []\n",
    "    df_output = pd.DataFrame()\n",
    "\n",
    "    for data_ipsi_contra in ipsi_contra_data_set:\n",
    "        value_ipsi_next = max_value_per_session(data_ipsi_contra[0])\n",
    "        value_contra_next = max_value_per_session(data_ipsi_contra[1])\n",
    "        #organize into a data frame: \n",
    "        df_ipsi_next_list.append(value_ipsi_next)\n",
    "        df_contra_next_list.append(value_contra_next)\n",
    "    df_output [\"ipsi_\"+column_name] = df_ipsi_next_list\n",
    "    df_output [\"contra_\"+column_name] = df_contra_next_list\n",
    "    #save outputs..      \n",
    "    return (df_output)"
   ]
  },
  {
   "cell_type": "code",
   "execution_count": 23,
   "metadata": {
    "scrolled": true
   },
   "outputs": [],
   "source": [
    "l_ls_period_d1_data_set_peak_value_after_choice = calculate_value_on_data_set(l_ls_period_d1_data_set,\n",
    "                                                                              \"ls_d1_left\")"
   ]
  },
  {
   "cell_type": "code",
   "execution_count": 24,
   "metadata": {
    "scrolled": true
   },
   "outputs": [],
   "source": [
    "l_ls_period_d2_data_set_peak_value_after_choice = calculate_value_on_data_set(l_ls_period_d2_data_set,\n",
    "                                                                              \"ls_d2_left\")"
   ]
  },
  {
   "cell_type": "code",
   "execution_count": 25,
   "metadata": {
    "scrolled": true
   },
   "outputs": [],
   "source": [
    "l_wr_period_d1_data_set_peak_value_after_choice = calculate_value_on_data_set(l_wr_period_d1_data_set,\n",
    "                                                                              \"wr_d1_left\")"
   ]
  },
  {
   "cell_type": "code",
   "execution_count": 26,
   "metadata": {
    "scrolled": false
   },
   "outputs": [],
   "source": [
    "l_wr_period_d2_data_set_peak_value_after_choice = calculate_value_on_data_set(l_wr_period_d2_data_set,\n",
    "                                                                              \"wr_d2_left\")"
   ]
  },
  {
   "cell_type": "code",
   "execution_count": 27,
   "metadata": {},
   "outputs": [],
   "source": [
    "result = pd.concat([l_ls_period_d1_data_set_peak_value_after_choice,\n",
    "                    l_ls_period_d2_data_set_peak_value_after_choice,\n",
    "                    l_wr_period_d1_data_set_peak_value_after_choice,\n",
    "                    l_wr_period_d2_data_set_peak_value_after_choice],axis=1)"
   ]
  },
  {
   "cell_type": "code",
   "execution_count": 28,
   "metadata": {
    "scrolled": true
   },
   "outputs": [
    {
     "data": {
      "text/html": [
       "<div>\n",
       "<style scoped>\n",
       "    .dataframe tbody tr th:only-of-type {\n",
       "        vertical-align: middle;\n",
       "    }\n",
       "\n",
       "    .dataframe tbody tr th {\n",
       "        vertical-align: top;\n",
       "    }\n",
       "\n",
       "    .dataframe thead th {\n",
       "        text-align: right;\n",
       "    }\n",
       "</style>\n",
       "<table border=\"1\" class=\"dataframe\">\n",
       "  <thead>\n",
       "    <tr style=\"text-align: right;\">\n",
       "      <th></th>\n",
       "      <th>ipsi_ls_d1_left</th>\n",
       "      <th>contra_ls_d1_left</th>\n",
       "      <th>ipsi_ls_d2_left</th>\n",
       "      <th>contra_ls_d2_left</th>\n",
       "      <th>ipsi_wr_d1_left</th>\n",
       "      <th>contra_wr_d1_left</th>\n",
       "      <th>ipsi_wr_d2_left</th>\n",
       "      <th>contra_wr_d2_left</th>\n",
       "    </tr>\n",
       "  </thead>\n",
       "  <tbody>\n",
       "    <tr>\n",
       "      <th>0</th>\n",
       "      <td>0.546</td>\n",
       "      <td>0.758</td>\n",
       "      <td>1.272</td>\n",
       "      <td>1.201</td>\n",
       "      <td>0.765</td>\n",
       "      <td>0.524</td>\n",
       "      <td>1.267</td>\n",
       "      <td>1.068</td>\n",
       "    </tr>\n",
       "    <tr>\n",
       "      <th>1</th>\n",
       "      <td>0.339</td>\n",
       "      <td>0.422</td>\n",
       "      <td>0.994</td>\n",
       "      <td>1.164</td>\n",
       "      <td>0.408</td>\n",
       "      <td>0.327</td>\n",
       "      <td>0.944</td>\n",
       "      <td>0.859</td>\n",
       "    </tr>\n",
       "    <tr>\n",
       "      <th>2</th>\n",
       "      <td>0.524</td>\n",
       "      <td>0.760</td>\n",
       "      <td>1.264</td>\n",
       "      <td>1.366</td>\n",
       "      <td>0.780</td>\n",
       "      <td>0.498</td>\n",
       "      <td>1.406</td>\n",
       "      <td>1.086</td>\n",
       "    </tr>\n",
       "    <tr>\n",
       "      <th>3</th>\n",
       "      <td>0.514</td>\n",
       "      <td>0.528</td>\n",
       "      <td>0.900</td>\n",
       "      <td>0.784</td>\n",
       "      <td>0.516</td>\n",
       "      <td>0.456</td>\n",
       "      <td>0.860</td>\n",
       "      <td>0.750</td>\n",
       "    </tr>\n",
       "    <tr>\n",
       "      <th>4</th>\n",
       "      <td>0.290</td>\n",
       "      <td>0.398</td>\n",
       "      <td>0.888</td>\n",
       "      <td>1.105</td>\n",
       "      <td>0.347</td>\n",
       "      <td>0.286</td>\n",
       "      <td>0.900</td>\n",
       "      <td>0.915</td>\n",
       "    </tr>\n",
       "    <tr>\n",
       "      <th>5</th>\n",
       "      <td>0.323</td>\n",
       "      <td>0.383</td>\n",
       "      <td>0.998</td>\n",
       "      <td>1.165</td>\n",
       "      <td>0.375</td>\n",
       "      <td>0.311</td>\n",
       "      <td>0.882</td>\n",
       "      <td>0.894</td>\n",
       "    </tr>\n",
       "    <tr>\n",
       "      <th>6</th>\n",
       "      <td>0.335</td>\n",
       "      <td>0.371</td>\n",
       "      <td>0.891</td>\n",
       "      <td>0.708</td>\n",
       "      <td>0.370</td>\n",
       "      <td>0.312</td>\n",
       "      <td>0.852</td>\n",
       "      <td>0.828</td>\n",
       "    </tr>\n",
       "    <tr>\n",
       "      <th>7</th>\n",
       "      <td>0.385</td>\n",
       "      <td>0.508</td>\n",
       "      <td>1.316</td>\n",
       "      <td>1.248</td>\n",
       "      <td>0.548</td>\n",
       "      <td>0.429</td>\n",
       "      <td>0.889</td>\n",
       "      <td>0.813</td>\n",
       "    </tr>\n",
       "    <tr>\n",
       "      <th>8</th>\n",
       "      <td>0.582</td>\n",
       "      <td>0.694</td>\n",
       "      <td>1.374</td>\n",
       "      <td>1.695</td>\n",
       "      <td>0.733</td>\n",
       "      <td>0.589</td>\n",
       "      <td>1.192</td>\n",
       "      <td>1.108</td>\n",
       "    </tr>\n",
       "    <tr>\n",
       "      <th>9</th>\n",
       "      <td>0.570</td>\n",
       "      <td>0.640</td>\n",
       "      <td>1.205</td>\n",
       "      <td>1.608</td>\n",
       "      <td>0.726</td>\n",
       "      <td>0.595</td>\n",
       "      <td>1.098</td>\n",
       "      <td>1.214</td>\n",
       "    </tr>\n",
       "    <tr>\n",
       "      <th>10</th>\n",
       "      <td>0.402</td>\n",
       "      <td>0.500</td>\n",
       "      <td>0.958</td>\n",
       "      <td>0.977</td>\n",
       "      <td>0.566</td>\n",
       "      <td>0.432</td>\n",
       "      <td>0.918</td>\n",
       "      <td>0.893</td>\n",
       "    </tr>\n",
       "    <tr>\n",
       "      <th>11</th>\n",
       "      <td>0.419</td>\n",
       "      <td>0.463</td>\n",
       "      <td>0.799</td>\n",
       "      <td>0.834</td>\n",
       "      <td>0.419</td>\n",
       "      <td>0.389</td>\n",
       "      <td>0.821</td>\n",
       "      <td>0.818</td>\n",
       "    </tr>\n",
       "    <tr>\n",
       "      <th>12</th>\n",
       "      <td>1.067</td>\n",
       "      <td>1.066</td>\n",
       "      <td>1.069</td>\n",
       "      <td>1.028</td>\n",
       "      <td>1.074</td>\n",
       "      <td>1.146</td>\n",
       "      <td>0.972</td>\n",
       "      <td>0.930</td>\n",
       "    </tr>\n",
       "    <tr>\n",
       "      <th>13</th>\n",
       "      <td>1.085</td>\n",
       "      <td>1.047</td>\n",
       "      <td>0.943</td>\n",
       "      <td>0.980</td>\n",
       "      <td>1.064</td>\n",
       "      <td>1.160</td>\n",
       "      <td>1.011</td>\n",
       "      <td>1.080</td>\n",
       "    </tr>\n",
       "    <tr>\n",
       "      <th>14</th>\n",
       "      <td>0.443</td>\n",
       "      <td>0.393</td>\n",
       "      <td>0.775</td>\n",
       "      <td>0.828</td>\n",
       "      <td>0.431</td>\n",
       "      <td>0.464</td>\n",
       "      <td>0.835</td>\n",
       "      <td>0.886</td>\n",
       "    </tr>\n",
       "    <tr>\n",
       "      <th>15</th>\n",
       "      <td>1.109</td>\n",
       "      <td>1.018</td>\n",
       "      <td>1.100</td>\n",
       "      <td>1.039</td>\n",
       "      <td>1.092</td>\n",
       "      <td>1.151</td>\n",
       "      <td>0.953</td>\n",
       "      <td>1.034</td>\n",
       "    </tr>\n",
       "    <tr>\n",
       "      <th>16</th>\n",
       "      <td>1.010</td>\n",
       "      <td>1.013</td>\n",
       "      <td>0.820</td>\n",
       "      <td>0.949</td>\n",
       "      <td>0.996</td>\n",
       "      <td>1.115</td>\n",
       "      <td>0.929</td>\n",
       "      <td>0.934</td>\n",
       "    </tr>\n",
       "    <tr>\n",
       "      <th>17</th>\n",
       "      <td>1.145</td>\n",
       "      <td>1.064</td>\n",
       "      <td>1.370</td>\n",
       "      <td>0.822</td>\n",
       "      <td>1.041</td>\n",
       "      <td>1.202</td>\n",
       "      <td>0.973</td>\n",
       "      <td>1.104</td>\n",
       "    </tr>\n",
       "    <tr>\n",
       "      <th>18</th>\n",
       "      <td>0.932</td>\n",
       "      <td>0.878</td>\n",
       "      <td>1.016</td>\n",
       "      <td>0.828</td>\n",
       "      <td>0.978</td>\n",
       "      <td>1.021</td>\n",
       "      <td>0.865</td>\n",
       "      <td>0.896</td>\n",
       "    </tr>\n",
       "    <tr>\n",
       "      <th>19</th>\n",
       "      <td>0.850</td>\n",
       "      <td>0.742</td>\n",
       "      <td>1.899</td>\n",
       "      <td>2.775</td>\n",
       "      <td>0.751</td>\n",
       "      <td>0.834</td>\n",
       "      <td>1.634</td>\n",
       "      <td>1.734</td>\n",
       "    </tr>\n",
       "    <tr>\n",
       "      <th>20</th>\n",
       "      <td>0.593</td>\n",
       "      <td>0.580</td>\n",
       "      <td>1.245</td>\n",
       "      <td>1.401</td>\n",
       "      <td>0.588</td>\n",
       "      <td>0.639</td>\n",
       "      <td>1.136</td>\n",
       "      <td>1.208</td>\n",
       "    </tr>\n",
       "    <tr>\n",
       "      <th>21</th>\n",
       "      <td>0.577</td>\n",
       "      <td>0.463</td>\n",
       "      <td>1.307</td>\n",
       "      <td>2.644</td>\n",
       "      <td>0.438</td>\n",
       "      <td>0.547</td>\n",
       "      <td>0.906</td>\n",
       "      <td>1.323</td>\n",
       "    </tr>\n",
       "    <tr>\n",
       "      <th>22</th>\n",
       "      <td>0.641</td>\n",
       "      <td>0.639</td>\n",
       "      <td>1.872</td>\n",
       "      <td>3.412</td>\n",
       "      <td>0.626</td>\n",
       "      <td>0.671</td>\n",
       "      <td>1.127</td>\n",
       "      <td>1.182</td>\n",
       "    </tr>\n",
       "    <tr>\n",
       "      <th>23</th>\n",
       "      <td>0.632</td>\n",
       "      <td>0.572</td>\n",
       "      <td>1.075</td>\n",
       "      <td>1.830</td>\n",
       "      <td>0.587</td>\n",
       "      <td>0.616</td>\n",
       "      <td>1.003</td>\n",
       "      <td>1.192</td>\n",
       "    </tr>\n",
       "    <tr>\n",
       "      <th>24</th>\n",
       "      <td>0.745</td>\n",
       "      <td>0.737</td>\n",
       "      <td>2.038</td>\n",
       "      <td>2.385</td>\n",
       "      <td>0.719</td>\n",
       "      <td>0.777</td>\n",
       "      <td>1.590</td>\n",
       "      <td>1.580</td>\n",
       "    </tr>\n",
       "    <tr>\n",
       "      <th>25</th>\n",
       "      <td>0.796</td>\n",
       "      <td>0.851</td>\n",
       "      <td>1.997</td>\n",
       "      <td>2.567</td>\n",
       "      <td>0.716</td>\n",
       "      <td>0.803</td>\n",
       "      <td>1.543</td>\n",
       "      <td>1.782</td>\n",
       "    </tr>\n",
       "    <tr>\n",
       "      <th>26</th>\n",
       "      <td>0.661</td>\n",
       "      <td>0.803</td>\n",
       "      <td>2.694</td>\n",
       "      <td>3.566</td>\n",
       "      <td>0.720</td>\n",
       "      <td>0.743</td>\n",
       "      <td>1.551</td>\n",
       "      <td>1.387</td>\n",
       "    </tr>\n",
       "    <tr>\n",
       "      <th>27</th>\n",
       "      <td>0.645</td>\n",
       "      <td>0.661</td>\n",
       "      <td>1.689</td>\n",
       "      <td>2.295</td>\n",
       "      <td>0.661</td>\n",
       "      <td>0.721</td>\n",
       "      <td>1.100</td>\n",
       "      <td>1.323</td>\n",
       "    </tr>\n",
       "    <tr>\n",
       "      <th>28</th>\n",
       "      <td>0.991</td>\n",
       "      <td>1.074</td>\n",
       "      <td>1.048</td>\n",
       "      <td>1.176</td>\n",
       "      <td>1.470</td>\n",
       "      <td>0.931</td>\n",
       "      <td>0.950</td>\n",
       "      <td>1.119</td>\n",
       "    </tr>\n",
       "    <tr>\n",
       "      <th>29</th>\n",
       "      <td>1.028</td>\n",
       "      <td>1.363</td>\n",
       "      <td>0.991</td>\n",
       "      <td>1.156</td>\n",
       "      <td>1.395</td>\n",
       "      <td>0.927</td>\n",
       "      <td>1.098</td>\n",
       "      <td>1.056</td>\n",
       "    </tr>\n",
       "    <tr>\n",
       "      <th>30</th>\n",
       "      <td>0.872</td>\n",
       "      <td>1.416</td>\n",
       "      <td>1.061</td>\n",
       "      <td>1.172</td>\n",
       "      <td>1.673</td>\n",
       "      <td>0.984</td>\n",
       "      <td>1.344</td>\n",
       "      <td>1.217</td>\n",
       "    </tr>\n",
       "    <tr>\n",
       "      <th>31</th>\n",
       "      <td>0.819</td>\n",
       "      <td>1.415</td>\n",
       "      <td>1.132</td>\n",
       "      <td>1.514</td>\n",
       "      <td>1.628</td>\n",
       "      <td>0.995</td>\n",
       "      <td>1.171</td>\n",
       "      <td>1.318</td>\n",
       "    </tr>\n",
       "    <tr>\n",
       "      <th>32</th>\n",
       "      <td>0.848</td>\n",
       "      <td>0.899</td>\n",
       "      <td>0.698</td>\n",
       "      <td>0.726</td>\n",
       "      <td>1.064</td>\n",
       "      <td>0.915</td>\n",
       "      <td>0.741</td>\n",
       "      <td>0.900</td>\n",
       "    </tr>\n",
       "    <tr>\n",
       "      <th>33</th>\n",
       "      <td>0.829</td>\n",
       "      <td>0.777</td>\n",
       "      <td>0.678</td>\n",
       "      <td>0.647</td>\n",
       "      <td>0.880</td>\n",
       "      <td>0.768</td>\n",
       "      <td>0.690</td>\n",
       "      <td>0.664</td>\n",
       "    </tr>\n",
       "    <tr>\n",
       "      <th>34</th>\n",
       "      <td>0.801</td>\n",
       "      <td>0.883</td>\n",
       "      <td>0.717</td>\n",
       "      <td>0.638</td>\n",
       "      <td>0.857</td>\n",
       "      <td>0.829</td>\n",
       "      <td>0.751</td>\n",
       "      <td>0.788</td>\n",
       "    </tr>\n",
       "    <tr>\n",
       "      <th>35</th>\n",
       "      <td>0.780</td>\n",
       "      <td>0.690</td>\n",
       "      <td>0.636</td>\n",
       "      <td>0.540</td>\n",
       "      <td>0.751</td>\n",
       "      <td>0.758</td>\n",
       "      <td>0.515</td>\n",
       "      <td>0.547</td>\n",
       "    </tr>\n",
       "    <tr>\n",
       "      <th>36</th>\n",
       "      <td>0.904</td>\n",
       "      <td>1.017</td>\n",
       "      <td>0.719</td>\n",
       "      <td>0.916</td>\n",
       "      <td>0.847</td>\n",
       "      <td>0.960</td>\n",
       "      <td>0.617</td>\n",
       "      <td>0.735</td>\n",
       "    </tr>\n",
       "    <tr>\n",
       "      <th>37</th>\n",
       "      <td>0.971</td>\n",
       "      <td>0.926</td>\n",
       "      <td>0.622</td>\n",
       "      <td>0.623</td>\n",
       "      <td>0.889</td>\n",
       "      <td>0.855</td>\n",
       "      <td>0.524</td>\n",
       "      <td>0.613</td>\n",
       "    </tr>\n",
       "    <tr>\n",
       "      <th>38</th>\n",
       "      <td>0.890</td>\n",
       "      <td>0.915</td>\n",
       "      <td>0.651</td>\n",
       "      <td>0.802</td>\n",
       "      <td>0.900</td>\n",
       "      <td>0.948</td>\n",
       "      <td>0.624</td>\n",
       "      <td>0.739</td>\n",
       "    </tr>\n",
       "    <tr>\n",
       "      <th>39</th>\n",
       "      <td>0.929</td>\n",
       "      <td>0.833</td>\n",
       "      <td>0.764</td>\n",
       "      <td>0.721</td>\n",
       "      <td>0.818</td>\n",
       "      <td>0.863</td>\n",
       "      <td>0.617</td>\n",
       "      <td>0.733</td>\n",
       "    </tr>\n",
       "  </tbody>\n",
       "</table>\n",
       "</div>"
      ],
      "text/plain": [
       "    ipsi_ls_d1_left  contra_ls_d1_left  ipsi_ls_d2_left  contra_ls_d2_left  \\\n",
       "0             0.546              0.758            1.272              1.201   \n",
       "1             0.339              0.422            0.994              1.164   \n",
       "2             0.524              0.760            1.264              1.366   \n",
       "3             0.514              0.528            0.900              0.784   \n",
       "4             0.290              0.398            0.888              1.105   \n",
       "5             0.323              0.383            0.998              1.165   \n",
       "6             0.335              0.371            0.891              0.708   \n",
       "7             0.385              0.508            1.316              1.248   \n",
       "8             0.582              0.694            1.374              1.695   \n",
       "9             0.570              0.640            1.205              1.608   \n",
       "10            0.402              0.500            0.958              0.977   \n",
       "11            0.419              0.463            0.799              0.834   \n",
       "12            1.067              1.066            1.069              1.028   \n",
       "13            1.085              1.047            0.943              0.980   \n",
       "14            0.443              0.393            0.775              0.828   \n",
       "15            1.109              1.018            1.100              1.039   \n",
       "16            1.010              1.013            0.820              0.949   \n",
       "17            1.145              1.064            1.370              0.822   \n",
       "18            0.932              0.878            1.016              0.828   \n",
       "19            0.850              0.742            1.899              2.775   \n",
       "20            0.593              0.580            1.245              1.401   \n",
       "21            0.577              0.463            1.307              2.644   \n",
       "22            0.641              0.639            1.872              3.412   \n",
       "23            0.632              0.572            1.075              1.830   \n",
       "24            0.745              0.737            2.038              2.385   \n",
       "25            0.796              0.851            1.997              2.567   \n",
       "26            0.661              0.803            2.694              3.566   \n",
       "27            0.645              0.661            1.689              2.295   \n",
       "28            0.991              1.074            1.048              1.176   \n",
       "29            1.028              1.363            0.991              1.156   \n",
       "30            0.872              1.416            1.061              1.172   \n",
       "31            0.819              1.415            1.132              1.514   \n",
       "32            0.848              0.899            0.698              0.726   \n",
       "33            0.829              0.777            0.678              0.647   \n",
       "34            0.801              0.883            0.717              0.638   \n",
       "35            0.780              0.690            0.636              0.540   \n",
       "36            0.904              1.017            0.719              0.916   \n",
       "37            0.971              0.926            0.622              0.623   \n",
       "38            0.890              0.915            0.651              0.802   \n",
       "39            0.929              0.833            0.764              0.721   \n",
       "\n",
       "    ipsi_wr_d1_left  contra_wr_d1_left  ipsi_wr_d2_left  contra_wr_d2_left  \n",
       "0             0.765              0.524            1.267              1.068  \n",
       "1             0.408              0.327            0.944              0.859  \n",
       "2             0.780              0.498            1.406              1.086  \n",
       "3             0.516              0.456            0.860              0.750  \n",
       "4             0.347              0.286            0.900              0.915  \n",
       "5             0.375              0.311            0.882              0.894  \n",
       "6             0.370              0.312            0.852              0.828  \n",
       "7             0.548              0.429            0.889              0.813  \n",
       "8             0.733              0.589            1.192              1.108  \n",
       "9             0.726              0.595            1.098              1.214  \n",
       "10            0.566              0.432            0.918              0.893  \n",
       "11            0.419              0.389            0.821              0.818  \n",
       "12            1.074              1.146            0.972              0.930  \n",
       "13            1.064              1.160            1.011              1.080  \n",
       "14            0.431              0.464            0.835              0.886  \n",
       "15            1.092              1.151            0.953              1.034  \n",
       "16            0.996              1.115            0.929              0.934  \n",
       "17            1.041              1.202            0.973              1.104  \n",
       "18            0.978              1.021            0.865              0.896  \n",
       "19            0.751              0.834            1.634              1.734  \n",
       "20            0.588              0.639            1.136              1.208  \n",
       "21            0.438              0.547            0.906              1.323  \n",
       "22            0.626              0.671            1.127              1.182  \n",
       "23            0.587              0.616            1.003              1.192  \n",
       "24            0.719              0.777            1.590              1.580  \n",
       "25            0.716              0.803            1.543              1.782  \n",
       "26            0.720              0.743            1.551              1.387  \n",
       "27            0.661              0.721            1.100              1.323  \n",
       "28            1.470              0.931            0.950              1.119  \n",
       "29            1.395              0.927            1.098              1.056  \n",
       "30            1.673              0.984            1.344              1.217  \n",
       "31            1.628              0.995            1.171              1.318  \n",
       "32            1.064              0.915            0.741              0.900  \n",
       "33            0.880              0.768            0.690              0.664  \n",
       "34            0.857              0.829            0.751              0.788  \n",
       "35            0.751              0.758            0.515              0.547  \n",
       "36            0.847              0.960            0.617              0.735  \n",
       "37            0.889              0.855            0.524              0.613  \n",
       "38            0.900              0.948            0.624              0.739  \n",
       "39            0.818              0.863            0.617              0.733  "
      ]
     },
     "execution_count": 28,
     "metadata": {},
     "output_type": "execute_result"
    }
   ],
   "source": [
    "result"
   ]
  },
  {
   "cell_type": "code",
   "execution_count": 29,
   "metadata": {},
   "outputs": [],
   "source": [
    "result.to_csv(cache_dir_plt+\"/max_signal_after_choice.csv\")"
   ]
  },
  {
   "cell_type": "code",
   "execution_count": null,
   "metadata": {},
   "outputs": [],
   "source": []
  },
  {
   "cell_type": "code",
   "execution_count": null,
   "metadata": {},
   "outputs": [],
   "source": []
  }
 ],
 "metadata": {
  "celltoolbar": "Tags",
  "kernelspec": {
   "display_name": "Python 3",
   "language": "python",
   "name": "python3"
  },
  "language_info": {
   "codemirror_mode": {
    "name": "ipython",
    "version": 3
   },
   "file_extension": ".py",
   "mimetype": "text/x-python",
   "name": "python",
   "nbconvert_exporter": "python",
   "pygments_lexer": "ipython3",
   "version": "3.7.3"
  }
 },
 "nbformat": 4,
 "nbformat_minor": 4
}
