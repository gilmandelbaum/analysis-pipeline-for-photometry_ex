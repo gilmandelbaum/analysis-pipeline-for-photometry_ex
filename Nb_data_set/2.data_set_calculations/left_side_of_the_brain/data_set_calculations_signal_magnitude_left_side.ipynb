{
 "cells": [
  {
   "cell_type": "code",
   "execution_count": 1,
   "metadata": {},
   "outputs": [],
   "source": [
    "import pickle\n",
    "from pathlib import Path\n",
    "import pandas as pd \n",
    "import os\n",
    "import sys\n",
    "import matplotlib.pyplot as plt\n",
    "from statistics import mean\n",
    "import getpass"
   ]
  },
  {
   "cell_type": "code",
   "execution_count": 2,
   "metadata": {},
   "outputs": [
    {
     "name": "stdout",
     "output_type": "stream",
     "text": [
      "gilmandelbaum\n"
     ]
    }
   ],
   "source": [
    "#add the github path that will run the notebooks: \n",
    "username = getpass.getuser() # gets the username from the current comp \n",
    "print (username)"
   ]
  },
  {
   "cell_type": "code",
   "execution_count": 3,
   "metadata": {},
   "outputs": [],
   "source": [
    "sys.path.insert(0,'/Users/{:}/github/analysis-pipeline-for-photometry_ex/Nb_data_set/2.data_set_calculations'.format(username))"
   ]
  },
  {
   "cell_type": "code",
   "execution_count": 4,
   "metadata": {},
   "outputs": [],
   "source": [
    "import data_set_calculations_helper_functions as dschf"
   ]
  },
  {
   "cell_type": "markdown",
   "metadata": {},
   "source": [
    "# Change based on analysis: "
   ]
  },
  {
   "cell_type": "code",
   "execution_count": 5,
   "metadata": {},
   "outputs": [],
   "source": [
    "seq_str = '0a1b2a3c4abcd5a6a7a'\n",
    "period_of_interest = \"combined_periods_1\"\n",
    "HowManyBack=1\n"
   ]
  },
  {
   "cell_type": "code",
   "execution_count": 6,
   "metadata": {},
   "outputs": [],
   "source": [
    "folderName=\"left_dual_color_photo_full_data_set_after_inspection\" #folder where the plot data_set will be saved \n",
    "path = \"/Volumes/GilInVivoPaper.large/2.Photometry_in_str/2.dual_color_photo_full_data_set_analysis_3/\""
   ]
  },
  {
   "cell_type": "markdown",
   "metadata": {},
   "source": [
    "# Folder name of analysis: "
   ]
  },
  {
   "cell_type": "code",
   "execution_count": 7,
   "metadata": {},
   "outputs": [],
   "source": [
    "analysis_type =\"data_set_calculations\""
   ]
  },
  {
   "cell_type": "code",
   "execution_count": 8,
   "metadata": {},
   "outputs": [
    {
     "data": {
      "text/plain": [
       "'/anaconda3/bin/python3'"
      ]
     },
     "execution_count": 8,
     "metadata": {},
     "output_type": "execute_result"
    }
   ],
   "source": [
    "sys.executable"
   ]
  },
  {
   "cell_type": "markdown",
   "metadata": {},
   "source": [
    "# Import the data and where to save it "
   ]
  },
  {
   "cell_type": "code",
   "execution_count": 9,
   "metadata": {},
   "outputs": [],
   "source": [
    "path_to_save = path+\"/\"+folderName+\"/\"+seq_str #also for loading"
   ]
  },
  {
   "cell_type": "code",
   "execution_count": 10,
   "metadata": {},
   "outputs": [
    {
     "data": {
      "text/plain": [
       "'/Volumes/GilInVivoPaper.large/2.Photometry_in_str/2.dual_color_photo_full_data_set_analysis_3//left_dual_color_photo_full_data_set_after_inspection/0a1b2a3c4abcd5a6a7a'"
      ]
     },
     "execution_count": 10,
     "metadata": {},
     "output_type": "execute_result"
    }
   ],
   "source": [
    "path_to_save"
   ]
  },
  {
   "cell_type": "markdown",
   "metadata": {},
   "source": [
    "# Import the data"
   ]
  },
  {
   "cell_type": "code",
   "execution_count": 11,
   "metadata": {},
   "outputs": [
    {
     "name": "stdout",
     "output_type": "stream",
     "text": [
      "CPU times: user 16.6 s, sys: 2.55 s, total: 19.2 s\n",
      "Wall time: 1min 2s\n"
     ]
    }
   ],
   "source": [
    "%%time\n",
    "root = Path(path_to_save)\n",
    "d = \"data_object_photometry\"+\"_\"+seq_str+'.pickle'\n",
    "my_path = root / d \n",
    "fileToOpen = open(my_path, 'rb')\n",
    "data_set = pickle.load(fileToOpen)"
   ]
  },
  {
   "cell_type": "code",
   "execution_count": null,
   "metadata": {},
   "outputs": [],
   "source": []
  },
  {
   "cell_type": "code",
   "execution_count": 12,
   "metadata": {},
   "outputs": [],
   "source": [
    "#y_axis_list = [\"df_f\",\"z_score\",\"z_score_sliding_window\"]"
   ]
  },
  {
   "cell_type": "code",
   "execution_count": 13,
   "metadata": {},
   "outputs": [],
   "source": [
    "# alphabet = [\"a\",\"b\",\"c\",\"d\",\"e\",\"f\",\"g\"]\n",
    "# y_axis = y_axis_list[alphabet.index(seq_str[:seq_str.index('4')][-1])]\n",
    "# print (y_axis)"
   ]
  },
  {
   "cell_type": "code",
   "execution_count": 14,
   "metadata": {},
   "outputs": [],
   "source": [
    "#period_of_interest=\"combined_periods_1\"\n",
    "#period_of_interest = \"pre_firstENLp_tag\"\n",
    "#period_of_interest=\"last_200_bins_ENL_tag\"\n",
    "#period_of_interest = \"first_15_bins_Cue_to_Sel_tag\"\n",
    "#period_of_interest=\"first_15_bins_Cue_to_Sel_fromPrevTrial_tag\"\n",
    "#period_of_interest=\"Real_nTrials\"\n",
    "#period_of_interest=\"Cue_to_Sel_tag\"\n",
    "#period_of_interest=\"Cue_to_Sel_fromPrevTrial_tag\""
   ]
  },
  {
   "cell_type": "code",
   "execution_count": 15,
   "metadata": {},
   "outputs": [],
   "source": [
    "# stash result in a cache directory, for how many back. \n",
    "cache_dir_plt = os.path.join(path_to_save,analysis_type,period_of_interest)\n",
    "if not os.path.exists(cache_dir_plt):\n",
    "    os.makedirs(cache_dir_plt)"
   ]
  },
  {
   "cell_type": "code",
   "execution_count": 16,
   "metadata": {},
   "outputs": [
    {
     "data": {
      "text/plain": [
       "'/Volumes/GilInVivoPaper.large/2.Photometry_in_str/2.dual_color_photo_full_data_set_analysis_3//left_dual_color_photo_full_data_set_after_inspection/0a1b2a3c4abcd5a6a7a/data_set_calculations/combined_periods_1'"
      ]
     },
     "execution_count": 16,
     "metadata": {},
     "output_type": "execute_result"
    }
   ],
   "source": [
    "cache_dir_plt"
   ]
  },
  {
   "cell_type": "code",
   "execution_count": 17,
   "metadata": {},
   "outputs": [],
   "source": [
    "#from sklearn.metrics import auc"
   ]
  },
  {
   "cell_type": "code",
   "execution_count": null,
   "metadata": {},
   "outputs": [],
   "source": []
  },
  {
   "cell_type": "code",
   "execution_count": null,
   "metadata": {},
   "outputs": [],
   "source": []
  },
  {
   "cell_type": "markdown",
   "metadata": {},
   "source": [
    "# generate data sets of interest"
   ]
  },
  {
   "cell_type": "code",
   "execution_count": 18,
   "metadata": {},
   "outputs": [],
   "source": [
    "l_ls_period_d1_data_set= dschf.extract_data_of_interest_ipsi_contra_data_set(data_set,\n",
    "                                                                           1,0,\n",
    "                                                                           period_of_interest,\"d1 L\")"
   ]
  },
  {
   "cell_type": "code",
   "execution_count": 19,
   "metadata": {},
   "outputs": [],
   "source": [
    "l_ls_period_d2_data_set= dschf.extract_data_of_interest_ipsi_contra_data_set(data_set,\n",
    "                                                                           1,0,\n",
    "                                                                           period_of_interest,\"d2 L\")"
   ]
  },
  {
   "cell_type": "code",
   "execution_count": 20,
   "metadata": {},
   "outputs": [],
   "source": [
    "l_wr_period_d1_data_set= dschf.extract_data_of_interest_ipsi_contra_data_set(data_set,\n",
    "                                                                           1,3,\n",
    "                                                                           period_of_interest,\"d1 L\")"
   ]
  },
  {
   "cell_type": "code",
   "execution_count": 21,
   "metadata": {},
   "outputs": [],
   "source": [
    "l_wr_period_d2_data_set= dschf.extract_data_of_interest_ipsi_contra_data_set(data_set,\n",
    "                                                                           1,3,\n",
    "                                                                           period_of_interest,\"d2 L\")"
   ]
  },
  {
   "cell_type": "code",
   "execution_count": 22,
   "metadata": {},
   "outputs": [],
   "source": [
    "def max_value_per_session (data_ipsi_contra):\n",
    "    idxmax_value_list = list(data_ipsi_contra.loc[200:500,:].idxmax())\n",
    "    li =[]\n",
    "    for c,i in enumerate (idxmax_value_list): #c is the count, i is the index of max value in each session avg \n",
    "        maxi = data_ipsi_contra.iloc[(i-10):(i+11),c].mean()\n",
    "        li.append(maxi)\n",
    "    li_mean = round(mean(li),3)\n",
    "    return (li_mean)"
   ]
  },
  {
   "cell_type": "code",
   "execution_count": 23,
   "metadata": {},
   "outputs": [],
   "source": [
    "def calculate_value_on_data_set (ipsi_contra_data_set,column_name): #\n",
    "    \n",
    "    df_ipsi_next_list = []\n",
    "    df_contra_next_list = []\n",
    "    df_output = pd.DataFrame()\n",
    "\n",
    "    for data_ipsi_contra in ipsi_contra_data_set:\n",
    "        value_ipsi_next = max_value_per_session(data_ipsi_contra[0])\n",
    "        value_contra_next = max_value_per_session(data_ipsi_contra[1])\n",
    "        #organize into a data frame: \n",
    "        df_ipsi_next_list.append(value_ipsi_next)\n",
    "        df_contra_next_list.append(value_contra_next)\n",
    "    df_output [\"ipsi_\"+column_name] = df_ipsi_next_list\n",
    "    df_output [\"contra_\"+column_name] = df_contra_next_list\n",
    "    #save outputs..      \n",
    "    return (df_output)"
   ]
  },
  {
   "cell_type": "code",
   "execution_count": 24,
   "metadata": {
    "scrolled": true
   },
   "outputs": [],
   "source": [
    "l_ls_period_d1_data_set_peak_value_after_choice = calculate_value_on_data_set(l_ls_period_d1_data_set,\n",
    "                                                                              \"ls_d1_left\")"
   ]
  },
  {
   "cell_type": "code",
   "execution_count": 25,
   "metadata": {
    "scrolled": true
   },
   "outputs": [],
   "source": [
    "l_ls_period_d2_data_set_peak_value_after_choice = calculate_value_on_data_set(l_ls_period_d2_data_set,\n",
    "                                                                              \"ls_d2_left\")"
   ]
  },
  {
   "cell_type": "code",
   "execution_count": 26,
   "metadata": {
    "scrolled": true
   },
   "outputs": [],
   "source": [
    "l_wr_period_d1_data_set_peak_value_after_choice = calculate_value_on_data_set(l_wr_period_d1_data_set,\n",
    "                                                                              \"wr_d1_left\")"
   ]
  },
  {
   "cell_type": "code",
   "execution_count": 27,
   "metadata": {
    "scrolled": false
   },
   "outputs": [],
   "source": [
    "l_wr_period_d2_data_set_peak_value_after_choice = calculate_value_on_data_set(l_wr_period_d2_data_set,\n",
    "                                                                              \"wr_d2_left\")"
   ]
  },
  {
   "cell_type": "code",
   "execution_count": 28,
   "metadata": {},
   "outputs": [],
   "source": [
    "result = pd.concat([l_ls_period_d1_data_set_peak_value_after_choice,\n",
    "                    l_ls_period_d2_data_set_peak_value_after_choice,\n",
    "                    l_wr_period_d1_data_set_peak_value_after_choice,\n",
    "                    l_wr_period_d2_data_set_peak_value_after_choice],axis=1)"
   ]
  },
  {
   "cell_type": "code",
   "execution_count": 29,
   "metadata": {
    "scrolled": true
   },
   "outputs": [
    {
     "data": {
      "text/html": [
       "<div>\n",
       "<style scoped>\n",
       "    .dataframe tbody tr th:only-of-type {\n",
       "        vertical-align: middle;\n",
       "    }\n",
       "\n",
       "    .dataframe tbody tr th {\n",
       "        vertical-align: top;\n",
       "    }\n",
       "\n",
       "    .dataframe thead th {\n",
       "        text-align: right;\n",
       "    }\n",
       "</style>\n",
       "<table border=\"1\" class=\"dataframe\">\n",
       "  <thead>\n",
       "    <tr style=\"text-align: right;\">\n",
       "      <th></th>\n",
       "      <th>ipsi_ls_d1_left</th>\n",
       "      <th>contra_ls_d1_left</th>\n",
       "      <th>ipsi_ls_d2_left</th>\n",
       "      <th>contra_ls_d2_left</th>\n",
       "      <th>ipsi_wr_d1_left</th>\n",
       "      <th>contra_wr_d1_left</th>\n",
       "      <th>ipsi_wr_d2_left</th>\n",
       "      <th>contra_wr_d2_left</th>\n",
       "    </tr>\n",
       "  </thead>\n",
       "  <tbody>\n",
       "    <tr>\n",
       "      <th>0</th>\n",
       "      <td>0.904</td>\n",
       "      <td>2.123</td>\n",
       "      <td>1.860</td>\n",
       "      <td>1.622</td>\n",
       "      <td>2.071</td>\n",
       "      <td>1.279</td>\n",
       "      <td>1.678</td>\n",
       "      <td>1.670</td>\n",
       "    </tr>\n",
       "    <tr>\n",
       "      <th>1</th>\n",
       "      <td>1.441</td>\n",
       "      <td>1.843</td>\n",
       "      <td>1.538</td>\n",
       "      <td>1.195</td>\n",
       "      <td>1.974</td>\n",
       "      <td>1.183</td>\n",
       "      <td>1.380</td>\n",
       "      <td>1.434</td>\n",
       "    </tr>\n",
       "    <tr>\n",
       "      <th>2</th>\n",
       "      <td>1.176</td>\n",
       "      <td>2.055</td>\n",
       "      <td>1.679</td>\n",
       "      <td>1.621</td>\n",
       "      <td>2.034</td>\n",
       "      <td>1.074</td>\n",
       "      <td>1.562</td>\n",
       "      <td>1.425</td>\n",
       "    </tr>\n",
       "    <tr>\n",
       "      <th>3</th>\n",
       "      <td>1.614</td>\n",
       "      <td>1.683</td>\n",
       "      <td>1.652</td>\n",
       "      <td>1.399</td>\n",
       "      <td>1.744</td>\n",
       "      <td>1.451</td>\n",
       "      <td>1.517</td>\n",
       "      <td>1.441</td>\n",
       "    </tr>\n",
       "    <tr>\n",
       "      <th>4</th>\n",
       "      <td>1.131</td>\n",
       "      <td>2.028</td>\n",
       "      <td>1.419</td>\n",
       "      <td>1.457</td>\n",
       "      <td>1.770</td>\n",
       "      <td>1.054</td>\n",
       "      <td>1.296</td>\n",
       "      <td>1.350</td>\n",
       "    </tr>\n",
       "    <tr>\n",
       "      <th>5</th>\n",
       "      <td>1.302</td>\n",
       "      <td>1.692</td>\n",
       "      <td>1.466</td>\n",
       "      <td>1.761</td>\n",
       "      <td>1.884</td>\n",
       "      <td>1.201</td>\n",
       "      <td>1.383</td>\n",
       "      <td>1.434</td>\n",
       "    </tr>\n",
       "    <tr>\n",
       "      <th>6</th>\n",
       "      <td>1.419</td>\n",
       "      <td>1.736</td>\n",
       "      <td>1.621</td>\n",
       "      <td>1.091</td>\n",
       "      <td>1.816</td>\n",
       "      <td>1.159</td>\n",
       "      <td>1.477</td>\n",
       "      <td>1.451</td>\n",
       "    </tr>\n",
       "    <tr>\n",
       "      <th>7</th>\n",
       "      <td>0.791</td>\n",
       "      <td>1.534</td>\n",
       "      <td>1.386</td>\n",
       "      <td>1.908</td>\n",
       "      <td>1.679</td>\n",
       "      <td>1.026</td>\n",
       "      <td>0.986</td>\n",
       "      <td>0.841</td>\n",
       "    </tr>\n",
       "    <tr>\n",
       "      <th>8</th>\n",
       "      <td>1.137</td>\n",
       "      <td>1.581</td>\n",
       "      <td>1.291</td>\n",
       "      <td>1.425</td>\n",
       "      <td>1.750</td>\n",
       "      <td>1.195</td>\n",
       "      <td>0.957</td>\n",
       "      <td>1.029</td>\n",
       "    </tr>\n",
       "    <tr>\n",
       "      <th>9</th>\n",
       "      <td>1.252</td>\n",
       "      <td>1.472</td>\n",
       "      <td>1.569</td>\n",
       "      <td>1.564</td>\n",
       "      <td>1.831</td>\n",
       "      <td>1.117</td>\n",
       "      <td>1.319</td>\n",
       "      <td>1.200</td>\n",
       "    </tr>\n",
       "    <tr>\n",
       "      <th>10</th>\n",
       "      <td>1.025</td>\n",
       "      <td>1.601</td>\n",
       "      <td>1.036</td>\n",
       "      <td>1.414</td>\n",
       "      <td>1.726</td>\n",
       "      <td>1.060</td>\n",
       "      <td>1.157</td>\n",
       "      <td>1.071</td>\n",
       "    </tr>\n",
       "    <tr>\n",
       "      <th>11</th>\n",
       "      <td>1.661</td>\n",
       "      <td>1.960</td>\n",
       "      <td>1.475</td>\n",
       "      <td>1.479</td>\n",
       "      <td>1.677</td>\n",
       "      <td>1.503</td>\n",
       "      <td>1.501</td>\n",
       "      <td>1.515</td>\n",
       "    </tr>\n",
       "    <tr>\n",
       "      <th>12</th>\n",
       "      <td>1.594</td>\n",
       "      <td>1.630</td>\n",
       "      <td>1.468</td>\n",
       "      <td>1.361</td>\n",
       "      <td>1.689</td>\n",
       "      <td>1.832</td>\n",
       "      <td>1.572</td>\n",
       "      <td>1.412</td>\n",
       "    </tr>\n",
       "    <tr>\n",
       "      <th>13</th>\n",
       "      <td>1.630</td>\n",
       "      <td>1.535</td>\n",
       "      <td>1.063</td>\n",
       "      <td>1.159</td>\n",
       "      <td>1.528</td>\n",
       "      <td>1.808</td>\n",
       "      <td>1.300</td>\n",
       "      <td>1.517</td>\n",
       "    </tr>\n",
       "    <tr>\n",
       "      <th>14</th>\n",
       "      <td>1.816</td>\n",
       "      <td>1.427</td>\n",
       "      <td>1.279</td>\n",
       "      <td>1.109</td>\n",
       "      <td>1.704</td>\n",
       "      <td>1.828</td>\n",
       "      <td>1.404</td>\n",
       "      <td>1.364</td>\n",
       "    </tr>\n",
       "    <tr>\n",
       "      <th>15</th>\n",
       "      <td>1.810</td>\n",
       "      <td>1.535</td>\n",
       "      <td>1.454</td>\n",
       "      <td>1.438</td>\n",
       "      <td>1.730</td>\n",
       "      <td>1.761</td>\n",
       "      <td>1.430</td>\n",
       "      <td>1.396</td>\n",
       "    </tr>\n",
       "    <tr>\n",
       "      <th>16</th>\n",
       "      <td>1.600</td>\n",
       "      <td>1.658</td>\n",
       "      <td>1.097</td>\n",
       "      <td>1.369</td>\n",
       "      <td>1.582</td>\n",
       "      <td>1.846</td>\n",
       "      <td>1.445</td>\n",
       "      <td>1.391</td>\n",
       "    </tr>\n",
       "    <tr>\n",
       "      <th>17</th>\n",
       "      <td>1.675</td>\n",
       "      <td>1.582</td>\n",
       "      <td>1.488</td>\n",
       "      <td>0.697</td>\n",
       "      <td>1.537</td>\n",
       "      <td>1.832</td>\n",
       "      <td>1.393</td>\n",
       "      <td>1.303</td>\n",
       "    </tr>\n",
       "    <tr>\n",
       "      <th>18</th>\n",
       "      <td>1.543</td>\n",
       "      <td>1.294</td>\n",
       "      <td>1.828</td>\n",
       "      <td>1.106</td>\n",
       "      <td>1.684</td>\n",
       "      <td>1.748</td>\n",
       "      <td>1.462</td>\n",
       "      <td>1.530</td>\n",
       "    </tr>\n",
       "    <tr>\n",
       "      <th>19</th>\n",
       "      <td>2.191</td>\n",
       "      <td>1.707</td>\n",
       "      <td>1.829</td>\n",
       "      <td>1.910</td>\n",
       "      <td>1.890</td>\n",
       "      <td>2.120</td>\n",
       "      <td>1.423</td>\n",
       "      <td>1.710</td>\n",
       "    </tr>\n",
       "    <tr>\n",
       "      <th>20</th>\n",
       "      <td>1.862</td>\n",
       "      <td>1.708</td>\n",
       "      <td>1.781</td>\n",
       "      <td>1.912</td>\n",
       "      <td>1.691</td>\n",
       "      <td>1.987</td>\n",
       "      <td>1.353</td>\n",
       "      <td>2.007</td>\n",
       "    </tr>\n",
       "    <tr>\n",
       "      <th>21</th>\n",
       "      <td>2.479</td>\n",
       "      <td>1.697</td>\n",
       "      <td>1.545</td>\n",
       "      <td>2.638</td>\n",
       "      <td>1.653</td>\n",
       "      <td>2.122</td>\n",
       "      <td>1.355</td>\n",
       "      <td>1.951</td>\n",
       "    </tr>\n",
       "    <tr>\n",
       "      <th>22</th>\n",
       "      <td>1.889</td>\n",
       "      <td>1.826</td>\n",
       "      <td>2.046</td>\n",
       "      <td>2.410</td>\n",
       "      <td>1.823</td>\n",
       "      <td>2.012</td>\n",
       "      <td>1.444</td>\n",
       "      <td>1.629</td>\n",
       "    </tr>\n",
       "    <tr>\n",
       "      <th>23</th>\n",
       "      <td>1.935</td>\n",
       "      <td>1.729</td>\n",
       "      <td>1.660</td>\n",
       "      <td>2.168</td>\n",
       "      <td>1.791</td>\n",
       "      <td>1.910</td>\n",
       "      <td>1.427</td>\n",
       "      <td>1.520</td>\n",
       "    </tr>\n",
       "    <tr>\n",
       "      <th>24</th>\n",
       "      <td>1.984</td>\n",
       "      <td>1.835</td>\n",
       "      <td>1.850</td>\n",
       "      <td>1.931</td>\n",
       "      <td>1.831</td>\n",
       "      <td>2.019</td>\n",
       "      <td>1.388</td>\n",
       "      <td>1.662</td>\n",
       "    </tr>\n",
       "    <tr>\n",
       "      <th>25</th>\n",
       "      <td>2.083</td>\n",
       "      <td>2.165</td>\n",
       "      <td>1.701</td>\n",
       "      <td>1.700</td>\n",
       "      <td>1.841</td>\n",
       "      <td>2.062</td>\n",
       "      <td>1.486</td>\n",
       "      <td>1.814</td>\n",
       "    </tr>\n",
       "    <tr>\n",
       "      <th>26</th>\n",
       "      <td>1.673</td>\n",
       "      <td>2.143</td>\n",
       "      <td>2.105</td>\n",
       "      <td>2.032</td>\n",
       "      <td>1.860</td>\n",
       "      <td>2.030</td>\n",
       "      <td>1.361</td>\n",
       "      <td>1.609</td>\n",
       "    </tr>\n",
       "    <tr>\n",
       "      <th>27</th>\n",
       "      <td>1.749</td>\n",
       "      <td>1.782</td>\n",
       "      <td>1.597</td>\n",
       "      <td>1.974</td>\n",
       "      <td>1.857</td>\n",
       "      <td>2.018</td>\n",
       "      <td>1.516</td>\n",
       "      <td>1.848</td>\n",
       "    </tr>\n",
       "    <tr>\n",
       "      <th>28</th>\n",
       "      <td>1.444</td>\n",
       "      <td>1.830</td>\n",
       "      <td>2.037</td>\n",
       "      <td>1.921</td>\n",
       "      <td>2.249</td>\n",
       "      <td>1.531</td>\n",
       "      <td>1.573</td>\n",
       "      <td>2.091</td>\n",
       "    </tr>\n",
       "    <tr>\n",
       "      <th>29</th>\n",
       "      <td>1.557</td>\n",
       "      <td>2.236</td>\n",
       "      <td>1.754</td>\n",
       "      <td>1.748</td>\n",
       "      <td>2.180</td>\n",
       "      <td>1.473</td>\n",
       "      <td>1.905</td>\n",
       "      <td>2.043</td>\n",
       "    </tr>\n",
       "    <tr>\n",
       "      <th>30</th>\n",
       "      <td>1.163</td>\n",
       "      <td>2.268</td>\n",
       "      <td>1.813</td>\n",
       "      <td>1.478</td>\n",
       "      <td>2.330</td>\n",
       "      <td>1.528</td>\n",
       "      <td>1.844</td>\n",
       "      <td>2.114</td>\n",
       "    </tr>\n",
       "    <tr>\n",
       "      <th>31</th>\n",
       "      <td>0.991</td>\n",
       "      <td>2.200</td>\n",
       "      <td>2.049</td>\n",
       "      <td>1.597</td>\n",
       "      <td>2.231</td>\n",
       "      <td>1.402</td>\n",
       "      <td>1.729</td>\n",
       "      <td>2.157</td>\n",
       "    </tr>\n",
       "    <tr>\n",
       "      <th>32</th>\n",
       "      <td>1.405</td>\n",
       "      <td>1.640</td>\n",
       "      <td>1.678</td>\n",
       "      <td>1.423</td>\n",
       "      <td>1.963</td>\n",
       "      <td>1.648</td>\n",
       "      <td>1.638</td>\n",
       "      <td>2.134</td>\n",
       "    </tr>\n",
       "    <tr>\n",
       "      <th>33</th>\n",
       "      <td>1.756</td>\n",
       "      <td>1.718</td>\n",
       "      <td>1.710</td>\n",
       "      <td>1.679</td>\n",
       "      <td>1.898</td>\n",
       "      <td>1.602</td>\n",
       "      <td>1.831</td>\n",
       "      <td>1.791</td>\n",
       "    </tr>\n",
       "    <tr>\n",
       "      <th>34</th>\n",
       "      <td>1.394</td>\n",
       "      <td>1.651</td>\n",
       "      <td>1.423</td>\n",
       "      <td>1.169</td>\n",
       "      <td>1.639</td>\n",
       "      <td>1.618</td>\n",
       "      <td>1.505</td>\n",
       "      <td>1.624</td>\n",
       "    </tr>\n",
       "    <tr>\n",
       "      <th>35</th>\n",
       "      <td>1.628</td>\n",
       "      <td>1.524</td>\n",
       "      <td>2.034</td>\n",
       "      <td>1.475</td>\n",
       "      <td>1.660</td>\n",
       "      <td>1.717</td>\n",
       "      <td>1.493</td>\n",
       "      <td>1.597</td>\n",
       "    </tr>\n",
       "    <tr>\n",
       "      <th>36</th>\n",
       "      <td>1.799</td>\n",
       "      <td>1.928</td>\n",
       "      <td>1.616</td>\n",
       "      <td>1.957</td>\n",
       "      <td>1.550</td>\n",
       "      <td>1.853</td>\n",
       "      <td>1.346</td>\n",
       "      <td>1.577</td>\n",
       "    </tr>\n",
       "    <tr>\n",
       "      <th>37</th>\n",
       "      <td>1.966</td>\n",
       "      <td>1.702</td>\n",
       "      <td>1.781</td>\n",
       "      <td>1.805</td>\n",
       "      <td>1.673</td>\n",
       "      <td>1.585</td>\n",
       "      <td>1.446</td>\n",
       "      <td>1.734</td>\n",
       "    </tr>\n",
       "    <tr>\n",
       "      <th>38</th>\n",
       "      <td>1.662</td>\n",
       "      <td>1.638</td>\n",
       "      <td>1.612</td>\n",
       "      <td>1.627</td>\n",
       "      <td>1.695</td>\n",
       "      <td>1.771</td>\n",
       "      <td>1.547</td>\n",
       "      <td>1.696</td>\n",
       "    </tr>\n",
       "    <tr>\n",
       "      <th>39</th>\n",
       "      <td>1.859</td>\n",
       "      <td>1.599</td>\n",
       "      <td>1.821</td>\n",
       "      <td>1.311</td>\n",
       "      <td>1.597</td>\n",
       "      <td>1.726</td>\n",
       "      <td>1.464</td>\n",
       "      <td>1.653</td>\n",
       "    </tr>\n",
       "  </tbody>\n",
       "</table>\n",
       "</div>"
      ],
      "text/plain": [
       "    ipsi_ls_d1_left  contra_ls_d1_left  ipsi_ls_d2_left  contra_ls_d2_left  \\\n",
       "0             0.904              2.123            1.860              1.622   \n",
       "1             1.441              1.843            1.538              1.195   \n",
       "2             1.176              2.055            1.679              1.621   \n",
       "3             1.614              1.683            1.652              1.399   \n",
       "4             1.131              2.028            1.419              1.457   \n",
       "5             1.302              1.692            1.466              1.761   \n",
       "6             1.419              1.736            1.621              1.091   \n",
       "7             0.791              1.534            1.386              1.908   \n",
       "8             1.137              1.581            1.291              1.425   \n",
       "9             1.252              1.472            1.569              1.564   \n",
       "10            1.025              1.601            1.036              1.414   \n",
       "11            1.661              1.960            1.475              1.479   \n",
       "12            1.594              1.630            1.468              1.361   \n",
       "13            1.630              1.535            1.063              1.159   \n",
       "14            1.816              1.427            1.279              1.109   \n",
       "15            1.810              1.535            1.454              1.438   \n",
       "16            1.600              1.658            1.097              1.369   \n",
       "17            1.675              1.582            1.488              0.697   \n",
       "18            1.543              1.294            1.828              1.106   \n",
       "19            2.191              1.707            1.829              1.910   \n",
       "20            1.862              1.708            1.781              1.912   \n",
       "21            2.479              1.697            1.545              2.638   \n",
       "22            1.889              1.826            2.046              2.410   \n",
       "23            1.935              1.729            1.660              2.168   \n",
       "24            1.984              1.835            1.850              1.931   \n",
       "25            2.083              2.165            1.701              1.700   \n",
       "26            1.673              2.143            2.105              2.032   \n",
       "27            1.749              1.782            1.597              1.974   \n",
       "28            1.444              1.830            2.037              1.921   \n",
       "29            1.557              2.236            1.754              1.748   \n",
       "30            1.163              2.268            1.813              1.478   \n",
       "31            0.991              2.200            2.049              1.597   \n",
       "32            1.405              1.640            1.678              1.423   \n",
       "33            1.756              1.718            1.710              1.679   \n",
       "34            1.394              1.651            1.423              1.169   \n",
       "35            1.628              1.524            2.034              1.475   \n",
       "36            1.799              1.928            1.616              1.957   \n",
       "37            1.966              1.702            1.781              1.805   \n",
       "38            1.662              1.638            1.612              1.627   \n",
       "39            1.859              1.599            1.821              1.311   \n",
       "\n",
       "    ipsi_wr_d1_left  contra_wr_d1_left  ipsi_wr_d2_left  contra_wr_d2_left  \n",
       "0             2.071              1.279            1.678              1.670  \n",
       "1             1.974              1.183            1.380              1.434  \n",
       "2             2.034              1.074            1.562              1.425  \n",
       "3             1.744              1.451            1.517              1.441  \n",
       "4             1.770              1.054            1.296              1.350  \n",
       "5             1.884              1.201            1.383              1.434  \n",
       "6             1.816              1.159            1.477              1.451  \n",
       "7             1.679              1.026            0.986              0.841  \n",
       "8             1.750              1.195            0.957              1.029  \n",
       "9             1.831              1.117            1.319              1.200  \n",
       "10            1.726              1.060            1.157              1.071  \n",
       "11            1.677              1.503            1.501              1.515  \n",
       "12            1.689              1.832            1.572              1.412  \n",
       "13            1.528              1.808            1.300              1.517  \n",
       "14            1.704              1.828            1.404              1.364  \n",
       "15            1.730              1.761            1.430              1.396  \n",
       "16            1.582              1.846            1.445              1.391  \n",
       "17            1.537              1.832            1.393              1.303  \n",
       "18            1.684              1.748            1.462              1.530  \n",
       "19            1.890              2.120            1.423              1.710  \n",
       "20            1.691              1.987            1.353              2.007  \n",
       "21            1.653              2.122            1.355              1.951  \n",
       "22            1.823              2.012            1.444              1.629  \n",
       "23            1.791              1.910            1.427              1.520  \n",
       "24            1.831              2.019            1.388              1.662  \n",
       "25            1.841              2.062            1.486              1.814  \n",
       "26            1.860              2.030            1.361              1.609  \n",
       "27            1.857              2.018            1.516              1.848  \n",
       "28            2.249              1.531            1.573              2.091  \n",
       "29            2.180              1.473            1.905              2.043  \n",
       "30            2.330              1.528            1.844              2.114  \n",
       "31            2.231              1.402            1.729              2.157  \n",
       "32            1.963              1.648            1.638              2.134  \n",
       "33            1.898              1.602            1.831              1.791  \n",
       "34            1.639              1.618            1.505              1.624  \n",
       "35            1.660              1.717            1.493              1.597  \n",
       "36            1.550              1.853            1.346              1.577  \n",
       "37            1.673              1.585            1.446              1.734  \n",
       "38            1.695              1.771            1.547              1.696  \n",
       "39            1.597              1.726            1.464              1.653  "
      ]
     },
     "execution_count": 29,
     "metadata": {},
     "output_type": "execute_result"
    }
   ],
   "source": [
    "result"
   ]
  },
  {
   "cell_type": "code",
   "execution_count": 30,
   "metadata": {},
   "outputs": [],
   "source": [
    "result.to_csv(cache_dir_plt+\"/max_signal_after_choice.csv\")"
   ]
  },
  {
   "cell_type": "code",
   "execution_count": null,
   "metadata": {},
   "outputs": [],
   "source": []
  },
  {
   "cell_type": "code",
   "execution_count": null,
   "metadata": {},
   "outputs": [],
   "source": []
  }
 ],
 "metadata": {
  "celltoolbar": "Tags",
  "kernelspec": {
   "display_name": "Python 3",
   "language": "python",
   "name": "python3"
  },
  "language_info": {
   "codemirror_mode": {
    "name": "ipython",
    "version": 3
   },
   "file_extension": ".py",
   "mimetype": "text/x-python",
   "name": "python",
   "nbconvert_exporter": "python",
   "pygments_lexer": "ipython3",
   "version": "3.7.3"
  }
 },
 "nbformat": 4,
 "nbformat_minor": 4
}
