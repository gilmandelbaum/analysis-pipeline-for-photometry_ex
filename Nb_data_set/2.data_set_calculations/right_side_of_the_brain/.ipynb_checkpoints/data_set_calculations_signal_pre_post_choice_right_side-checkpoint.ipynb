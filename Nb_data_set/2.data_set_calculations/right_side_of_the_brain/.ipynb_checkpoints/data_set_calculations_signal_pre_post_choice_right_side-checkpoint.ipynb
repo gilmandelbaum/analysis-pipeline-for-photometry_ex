{
 "cells": [
  {
   "cell_type": "code",
   "execution_count": 1,
   "metadata": {},
   "outputs": [],
   "source": [
    "import pickle\n",
    "from pathlib import Path\n",
    "import pandas as pd \n",
    "import os\n",
    "import sys\n",
    "import matplotlib.pyplot as plt\n",
    "from statistics import mean\n",
    "import getpass"
   ]
  },
  {
   "cell_type": "code",
   "execution_count": 2,
   "metadata": {},
   "outputs": [
    {
     "name": "stdout",
     "output_type": "stream",
     "text": [
      "gilmandelbaum\n"
     ]
    }
   ],
   "source": [
    "#add the github path that will run the notebooks: \n",
    "username = getpass.getuser() # gets the username from the current comp \n",
    "print (username)"
   ]
  },
  {
   "cell_type": "code",
   "execution_count": 3,
   "metadata": {},
   "outputs": [],
   "source": [
    "sys.path.insert(0,'/Users/{:}/github/analysis-pipeline-for-photometry_ex/Nb_data_set/2.data_set_calculations'.format(username))"
   ]
  },
  {
   "cell_type": "code",
   "execution_count": 4,
   "metadata": {},
   "outputs": [],
   "source": [
    "import data_set_calculations_helper_functions as dschf"
   ]
  },
  {
   "cell_type": "markdown",
   "metadata": {},
   "source": [
    "# Change based on analysis: "
   ]
  },
  {
   "cell_type": "code",
   "execution_count": 5,
   "metadata": {},
   "outputs": [],
   "source": [
    "seq_str = '0a1ad2a3j4abcd5a6a7a'\n",
    "period_of_interest = \"combined_periods_1\""
   ]
  },
  {
   "cell_type": "code",
   "execution_count": 6,
   "metadata": {},
   "outputs": [],
   "source": [
    "HowManyBack=1\n",
    "# folderName=\"right_dual_color_photo_full_data_set_after_inspection\" #folder where the plot data_set will be saved \n",
    "# path = \"/Volumes/GilInVivoPaper.large/2.Photometry_in_str/2.dual_color_photo_full_data_set_analysis/\"\n",
    "\n",
    "folderName=\"right_dual_color_photo_opto\" #folder where the plot data_set will be saved \n",
    "path = \"/Volumes/GilInVivoPaper.large/2.Photometry_in_str/2.lateral_opto_6/\""
   ]
  },
  {
   "cell_type": "markdown",
   "metadata": {},
   "source": [
    "# Folder name of analysis: "
   ]
  },
  {
   "cell_type": "code",
   "execution_count": 7,
   "metadata": {},
   "outputs": [],
   "source": [
    "analysis_type =\"data_set_calculations\""
   ]
  },
  {
   "cell_type": "code",
   "execution_count": 8,
   "metadata": {},
   "outputs": [
    {
     "data": {
      "text/plain": [
       "'/anaconda3/bin/python3'"
      ]
     },
     "execution_count": 8,
     "metadata": {},
     "output_type": "execute_result"
    }
   ],
   "source": [
    "sys.executable"
   ]
  },
  {
   "cell_type": "markdown",
   "metadata": {},
   "source": [
    "# Import the data and where to save it "
   ]
  },
  {
   "cell_type": "code",
   "execution_count": 9,
   "metadata": {},
   "outputs": [],
   "source": [
    "path_to_save = path+\"/\"+folderName+\"/\"+seq_str #also for loading"
   ]
  },
  {
   "cell_type": "code",
   "execution_count": 10,
   "metadata": {},
   "outputs": [
    {
     "data": {
      "text/plain": [
       "'/Volumes/GilInVivoPaper.large/2.Photometry_in_str/2.lateral_opto_6//right_dual_color_photo_opto/0a1ad2a3j4abcd5a6a7a'"
      ]
     },
     "execution_count": 10,
     "metadata": {},
     "output_type": "execute_result"
    }
   ],
   "source": [
    "path_to_save"
   ]
  },
  {
   "cell_type": "code",
   "execution_count": 12,
   "metadata": {},
   "outputs": [
    {
     "name": "stdout",
     "output_type": "stream",
     "text": [
      "/Volumes/GilInVivoPaper.large/2.Photometry_in_str/2.lateral_opto_6/right_dual_color_photo_opto/0a1ad2a3j4abcd5a6a7a/data_object_photometry_after_processing_0a1ad2a3j4abcd5a6a7a.pickle\n",
      "CPU times: user 4.17 s, sys: 178 ms, total: 4.34 s\n",
      "Wall time: 4.38 s\n"
     ]
    }
   ],
   "source": [
    "%%time\n",
    "root = Path(path_to_save)\n",
    "d = \"data_object_photometry_after_processing\"+\"_\"+seq_str+'.pickle'\n",
    "my_path = root / d \n",
    "print (my_path)\n",
    "fileToOpen = open(my_path, 'rb')\n",
    "data_set = pickle.load(fileToOpen)"
   ]
  },
  {
   "cell_type": "code",
   "execution_count": 13,
   "metadata": {},
   "outputs": [],
   "source": [
    "# stash result in a cache directory, for how many back. \n",
    "cache_dir_plt = os.path.join(path_to_save,analysis_type,period_of_interest)\n",
    "if not os.path.exists(cache_dir_plt):\n",
    "    os.makedirs(cache_dir_plt)"
   ]
  },
  {
   "cell_type": "code",
   "execution_count": 14,
   "metadata": {},
   "outputs": [
    {
     "data": {
      "text/plain": [
       "'/Volumes/GilInVivoPaper.large/2.Photometry_in_str/2.lateral_opto_6//right_dual_color_photo_opto/0a1ad2a3j4abcd5a6a7a/data_set_calculations/combined_periods_1'"
      ]
     },
     "execution_count": 14,
     "metadata": {},
     "output_type": "execute_result"
    }
   ],
   "source": [
    "cache_dir_plt"
   ]
  },
  {
   "cell_type": "markdown",
   "metadata": {},
   "source": [
    "# generate data sets of interest"
   ]
  },
  {
   "cell_type": "code",
   "execution_count": 15,
   "metadata": {},
   "outputs": [
    {
     "ename": "KeyError",
     "evalue": "'combined_periods_1'",
     "output_type": "error",
     "traceback": [
      "\u001b[0;31m---------------------------------------------------------------------------\u001b[0m",
      "\u001b[0;31mKeyError\u001b[0m                                  Traceback (most recent call last)",
      "\u001b[0;32m<ipython-input-15-c370f5d2b80d>\u001b[0m in \u001b[0;36m<module>\u001b[0;34m\u001b[0m\n\u001b[1;32m      1\u001b[0m r_ls_period_d1_data_set= dschf.extract_data_of_interest_ipsi_contra_data_set(data_set,\n\u001b[1;32m      2\u001b[0m                                                                            \u001b[0;36m0\u001b[0m\u001b[0;34m,\u001b[0m\u001b[0;36m0\u001b[0m\u001b[0;34m,\u001b[0m\u001b[0;34m\u001b[0m\u001b[0;34m\u001b[0m\u001b[0m\n\u001b[0;32m----> 3\u001b[0;31m                                                                            period_of_interest,\"d1 R\")\n\u001b[0m",
      "\u001b[0;32m~/github/analysis-pipeline-for-photometry_ex/Nb_data_set/2.data_set_calculations/data_set_calculations_helper_functions.py\u001b[0m in \u001b[0;36mextract_data_of_interest_ipsi_contra_data_set\u001b[0;34m(PhotoData_perTrial_channels_data_set, rl, tt, period, cell_type)\u001b[0m\n\u001b[1;32m     27\u001b[0m \u001b[0;34m\u001b[0m\u001b[0m\n\u001b[1;32m     28\u001b[0m     \u001b[0;32mfor\u001b[0m \u001b[0mPhotoData_perTrial_channels\u001b[0m \u001b[0;32min\u001b[0m \u001b[0mPhotoData_perTrial_channels_data_set\u001b[0m\u001b[0;34m:\u001b[0m\u001b[0;34m\u001b[0m\u001b[0;34m\u001b[0m\u001b[0m\n\u001b[0;32m---> 29\u001b[0;31m         \u001b[0mipsi_contra\u001b[0m \u001b[0;34m=\u001b[0m \u001b[0mextract_data_of_interest_ipsi_contra_per_session_helper\u001b[0m \u001b[0;34m(\u001b[0m\u001b[0mPhotoData_perTrial_channels\u001b[0m\u001b[0;34m,\u001b[0m\u001b[0mrl\u001b[0m\u001b[0;34m,\u001b[0m\u001b[0mtt\u001b[0m\u001b[0;34m,\u001b[0m\u001b[0mperiod\u001b[0m\u001b[0;34m,\u001b[0m\u001b[0mcell_type\u001b[0m\u001b[0;34m)\u001b[0m\u001b[0;34m\u001b[0m\u001b[0;34m\u001b[0m\u001b[0m\n\u001b[0m\u001b[1;32m     30\u001b[0m         \u001b[0mipsi_contra_data_set\u001b[0m\u001b[0;34m.\u001b[0m\u001b[0mappend\u001b[0m\u001b[0;34m(\u001b[0m\u001b[0mipsi_contra\u001b[0m\u001b[0;34m)\u001b[0m\u001b[0;34m\u001b[0m\u001b[0;34m\u001b[0m\u001b[0m\n\u001b[1;32m     31\u001b[0m \u001b[0;34m\u001b[0m\u001b[0m\n",
      "\u001b[0;32m~/github/analysis-pipeline-for-photometry_ex/Nb_data_set/2.data_set_calculations/data_set_calculations_helper_functions.py\u001b[0m in \u001b[0;36mextract_data_of_interest_ipsi_contra_per_session_helper\u001b[0;34m(PhotoData_perTrial_channels, rl, tt, period, cell_type)\u001b[0m\n\u001b[1;32m     14\u001b[0m                                                              cell_type):\n\u001b[1;32m     15\u001b[0m \u001b[0;34m\u001b[0m\u001b[0m\n\u001b[0;32m---> 16\u001b[0;31m     \u001b[0mipsi_next\u001b[0m \u001b[0;34m=\u001b[0m \u001b[0mPhotoData_perTrial_channels\u001b[0m\u001b[0;34m[\u001b[0m\u001b[0mrl\u001b[0m\u001b[0;34m]\u001b[0m\u001b[0;34m[\u001b[0m\u001b[0;36m0\u001b[0m\u001b[0;34m]\u001b[0m\u001b[0;34m[\u001b[0m\u001b[0mtt\u001b[0m\u001b[0;34m]\u001b[0m\u001b[0;34m[\u001b[0m\u001b[0mperiod\u001b[0m\u001b[0;34m]\u001b[0m\u001b[0;34m[\u001b[0m\u001b[0mcell_type\u001b[0m\u001b[0;34m]\u001b[0m\u001b[0;34m\u001b[0m\u001b[0;34m\u001b[0m\u001b[0m\n\u001b[0m\u001b[1;32m     17\u001b[0m     \u001b[0mcontra_next\u001b[0m \u001b[0;34m=\u001b[0m \u001b[0mPhotoData_perTrial_channels\u001b[0m\u001b[0;34m[\u001b[0m\u001b[0mrl\u001b[0m\u001b[0;34m]\u001b[0m\u001b[0;34m[\u001b[0m\u001b[0;36m1\u001b[0m\u001b[0;34m]\u001b[0m\u001b[0;34m[\u001b[0m\u001b[0mtt\u001b[0m\u001b[0;34m]\u001b[0m\u001b[0;34m[\u001b[0m\u001b[0mperiod\u001b[0m\u001b[0;34m]\u001b[0m\u001b[0;34m[\u001b[0m\u001b[0mcell_type\u001b[0m\u001b[0;34m]\u001b[0m\u001b[0;34m\u001b[0m\u001b[0;34m\u001b[0m\u001b[0m\n\u001b[1;32m     18\u001b[0m     \u001b[0;32mreturn\u001b[0m \u001b[0;34m(\u001b[0m\u001b[0mipsi_next\u001b[0m\u001b[0;34m,\u001b[0m\u001b[0mcontra_next\u001b[0m\u001b[0;34m)\u001b[0m\u001b[0;34m\u001b[0m\u001b[0;34m\u001b[0m\u001b[0m\n",
      "\u001b[0;31mKeyError\u001b[0m: 'combined_periods_1'"
     ]
    }
   ],
   "source": [
    "r_ls_period_d1_data_set= dschf.extract_data_of_interest_ipsi_contra_data_set(data_set,\n",
    "                                                                           0,0,\n",
    "                                                                           period_of_interest,\"d1 R\")"
   ]
  },
  {
   "cell_type": "code",
   "execution_count": null,
   "metadata": {},
   "outputs": [],
   "source": [
    "r_ls_period_d2_data_set= dschf.extract_data_of_interest_ipsi_contra_data_set(data_set,\n",
    "                                                                           0,0,\n",
    "                                                                           period_of_interest,\"d2 R\")"
   ]
  },
  {
   "cell_type": "code",
   "execution_count": null,
   "metadata": {},
   "outputs": [],
   "source": [
    "r_wr_period_d1_data_set= dschf.extract_data_of_interest_ipsi_contra_data_set(data_set,\n",
    "                                                                           0,3,\n",
    "                                                                           period_of_interest,\"d1 R\")"
   ]
  },
  {
   "cell_type": "code",
   "execution_count": null,
   "metadata": {},
   "outputs": [],
   "source": [
    "r_wr_period_d2_data_set= dschf.extract_data_of_interest_ipsi_contra_data_set(data_set,\n",
    "                                                                           0,3,\n",
    "                                                                           period_of_interest,\"d2 R\")"
   ]
  },
  {
   "cell_type": "markdown",
   "metadata": {},
   "source": [
    "# Calculations avg per session"
   ]
  },
  {
   "cell_type": "code",
   "execution_count": null,
   "metadata": {},
   "outputs": [],
   "source": [
    "def avg_pre_post_choice_perSession(data_ipsi_contra):\n",
    "    \n",
    "    pre=round(data_ipsi_contra.loc[0:199].mean().mean(),3)\n",
    "    post=round(data_ipsi_contra.loc[201:401].mean().mean(),3)\n",
    "\n",
    "    return(pre,post)"
   ]
  },
  {
   "cell_type": "code",
   "execution_count": null,
   "metadata": {},
   "outputs": [],
   "source": [
    "def calculate_value_on_data_set_2 (ipsi_contra_data_set,function,column_name):\n",
    "    \n",
    "    df_ipsi_next_list_pre = []\n",
    "    df_ipsi_next_list_post = []\n",
    "    df_contra_next_list_pre = []\n",
    "    df_contra_next_list_post = []\n",
    "    \n",
    "    df_output = pd.DataFrame()\n",
    "\n",
    "    for data_ipsi_contra in ipsi_contra_data_set:\n",
    "        value_ipsi_next_pre = function(data_ipsi_contra[0])[0]\n",
    "        value_ipsi_next_post = function(data_ipsi_contra[0])[1]\n",
    "        \n",
    "        value_contra_next_pre = function(data_ipsi_contra[1])[0]\n",
    "        value_contra_next_post = function(data_ipsi_contra[1])[1]\n",
    "        \n",
    "        #organize into a data frame: \n",
    "        df_ipsi_next_list_pre.append(value_ipsi_next_pre)\n",
    "        df_ipsi_next_list_post.append(value_ipsi_next_post)\n",
    "        \n",
    "        df_contra_next_list_pre.append(value_contra_next_pre)\n",
    "        df_contra_next_list_post.append(value_contra_next_post)\n",
    "        \n",
    "    df_output [\"ipsi_pre_\"+column_name] = df_ipsi_next_list_pre\n",
    "    df_output [\"ipsi_post_\"+column_name] = df_ipsi_next_list_post\n",
    "    \n",
    "    df_output [\"contra_pre_\"+column_name] = df_contra_next_list_pre\n",
    "    df_output [\"contra_post_\"+column_name] = df_contra_next_list_post\n",
    "    #save outputs..      \n",
    "    return (df_output)"
   ]
  },
  {
   "cell_type": "code",
   "execution_count": null,
   "metadata": {},
   "outputs": [],
   "source": [
    "r_ls_period_d1_avgSig_pre_post_choice_perSession = calculate_value_on_data_set_2(r_ls_period_d1_data_set,\n",
    "                                                                 avg_pre_post_choice_perSession,\n",
    "                                                                 \"r_ls_d1\")"
   ]
  },
  {
   "cell_type": "code",
   "execution_count": null,
   "metadata": {},
   "outputs": [],
   "source": [
    "r_ls_period_d2_avgSig_pre_post_choice_perSession = calculate_value_on_data_set_2(r_ls_period_d2_data_set,\n",
    "                                                                 avg_pre_post_choice_perSession,\n",
    "                                                                  \"r_ls_d2\")"
   ]
  },
  {
   "cell_type": "code",
   "execution_count": null,
   "metadata": {},
   "outputs": [],
   "source": [
    "r_wr_period_d1_avgSig_pre_post_choice_perSession = calculate_value_on_data_set_2(r_wr_period_d1_data_set,\n",
    "                                                                 avg_pre_post_choice_perSession,\n",
    "                                                                 \"r_wr_d1\")"
   ]
  },
  {
   "cell_type": "code",
   "execution_count": null,
   "metadata": {},
   "outputs": [],
   "source": [
    "r_wr_period_d2_avgSig_pre_post_choice_perSession = calculate_value_on_data_set_2(r_wr_period_d2_data_set,\n",
    "                                                                 avg_pre_post_choice_perSession,\n",
    "                                                                  \"r_wr_d2\")"
   ]
  },
  {
   "cell_type": "code",
   "execution_count": null,
   "metadata": {},
   "outputs": [],
   "source": [
    "result = pd.concat([r_ls_period_d1_avgSig_pre_post_choice_perSession,\n",
    "                    r_ls_period_d2_avgSig_pre_post_choice_perSession,\n",
    "                    r_wr_period_d1_avgSig_pre_post_choice_perSession,\n",
    "                    r_wr_period_d2_avgSig_pre_post_choice_perSession],axis=1)"
   ]
  },
  {
   "cell_type": "code",
   "execution_count": null,
   "metadata": {},
   "outputs": [],
   "source": [
    "result"
   ]
  },
  {
   "cell_type": "code",
   "execution_count": null,
   "metadata": {},
   "outputs": [],
   "source": [
    "result.to_csv(cache_dir_plt+\"/data_set_calculations_signal_pre_post_choice_right_side.csv\")"
   ]
  },
  {
   "cell_type": "code",
   "execution_count": null,
   "metadata": {},
   "outputs": [],
   "source": []
  }
 ],
 "metadata": {
  "celltoolbar": "Tags",
  "kernelspec": {
   "display_name": "Python 3",
   "language": "python",
   "name": "python3"
  },
  "language_info": {
   "codemirror_mode": {
    "name": "ipython",
    "version": 3
   },
   "file_extension": ".py",
   "mimetype": "text/x-python",
   "name": "python",
   "nbconvert_exporter": "python",
   "pygments_lexer": "ipython3",
   "version": "3.7.3"
  }
 },
 "nbformat": 4,
 "nbformat_minor": 4
}
