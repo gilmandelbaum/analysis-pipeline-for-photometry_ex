{
 "cells": [
  {
   "cell_type": "code",
   "execution_count": 1,
   "metadata": {},
   "outputs": [],
   "source": [
    "import pickle\n",
    "from pathlib import Path\n",
    "import pandas as pd \n",
    "import os\n",
    "import sys\n",
    "import matplotlib.pyplot as plt\n",
    "from statistics import mean\n",
    "import getpass"
   ]
  },
  {
   "cell_type": "code",
   "execution_count": 2,
   "metadata": {},
   "outputs": [
    {
     "name": "stdout",
     "output_type": "stream",
     "text": [
      "gilmandelbaum\n"
     ]
    }
   ],
   "source": [
    "#add the github path that will run the notebooks: \n",
    "username = getpass.getuser() # gets the username from the current comp \n",
    "print (username)"
   ]
  },
  {
   "cell_type": "code",
   "execution_count": 3,
   "metadata": {},
   "outputs": [],
   "source": [
    "sys.path.insert(0,'/Users/{:}/github/analysis-pipeline-for-photometry_ex/Nb_data_set/2.data_set_calculations'.format(username))"
   ]
  },
  {
   "cell_type": "code",
   "execution_count": 4,
   "metadata": {},
   "outputs": [],
   "source": [
    "import data_set_calculations_helper_functions as dschf"
   ]
  },
  {
   "cell_type": "markdown",
   "metadata": {},
   "source": [
    "# Change based on analysis: "
   ]
  },
  {
   "cell_type": "code",
   "execution_count": 5,
   "metadata": {},
   "outputs": [],
   "source": [
    "seq_str = '0a1ae2a3j4abcd5a6a7a'\n",
    "period_of_interest = \"combined_periods_1\""
   ]
  },
  {
   "cell_type": "code",
   "execution_count": 6,
   "metadata": {},
   "outputs": [],
   "source": [
    "HowManyBack=1\n",
    "# folderName=\"right_dual_color_photo_full_data_set_after_inspection\" #folder where the plot data_set will be saved \n",
    "# path = \"/Volumes/GilInVivoPaper.large/2.Photometry_in_str/2.dual_color_photo_full_data_set_analysis/\"\n",
    "\n",
    "folderName=\"right_dual_color_photo_opto\" #folder where the plot data_set will be saved \n",
    "path = \"/Volumes/GilInVivoPaper.large/2.Photometry_in_str/2.lateral_opto_6/\""
   ]
  },
  {
   "cell_type": "markdown",
   "metadata": {},
   "source": [
    "# Folder name of analysis: "
   ]
  },
  {
   "cell_type": "code",
   "execution_count": 7,
   "metadata": {},
   "outputs": [],
   "source": [
    "analysis_type =\"data_set_calculations\""
   ]
  },
  {
   "cell_type": "code",
   "execution_count": 8,
   "metadata": {},
   "outputs": [
    {
     "data": {
      "text/plain": [
       "'/anaconda3/bin/python3'"
      ]
     },
     "execution_count": 8,
     "metadata": {},
     "output_type": "execute_result"
    }
   ],
   "source": [
    "sys.executable"
   ]
  },
  {
   "cell_type": "markdown",
   "metadata": {},
   "source": [
    "# Import the data and where to save it "
   ]
  },
  {
   "cell_type": "code",
   "execution_count": 9,
   "metadata": {},
   "outputs": [],
   "source": [
    "path_to_save = path+\"/\"+folderName+\"/\"+seq_str #also for loading"
   ]
  },
  {
   "cell_type": "code",
   "execution_count": 10,
   "metadata": {},
   "outputs": [
    {
     "data": {
      "text/plain": [
       "'/Volumes/GilInVivoPaper.large/2.Photometry_in_str/2.lateral_opto_6//right_dual_color_photo_opto/0a1ae2a3j4abcd5a6a7a'"
      ]
     },
     "execution_count": 10,
     "metadata": {},
     "output_type": "execute_result"
    }
   ],
   "source": [
    "path_to_save"
   ]
  },
  {
   "cell_type": "code",
   "execution_count": 11,
   "metadata": {},
   "outputs": [
    {
     "name": "stdout",
     "output_type": "stream",
     "text": [
      "/Volumes/GilInVivoPaper.large/2.Photometry_in_str/2.lateral_opto_6/right_dual_color_photo_opto/0a1ae2a3j4abcd5a6a7a/data_object_photometry_after_processing_0a1ae2a3j4abcd5a6a7a.pickle\n",
      "CPU times: user 11.6 s, sys: 1.07 s, total: 12.6 s\n",
      "Wall time: 12.7 s\n"
     ]
    }
   ],
   "source": [
    "%%time\n",
    "root = Path(path_to_save)\n",
    "d = \"data_object_photometry_after_processing\"+\"_\"+seq_str+'.pickle'\n",
    "my_path = root / d \n",
    "print (my_path)\n",
    "fileToOpen = open(my_path, 'rb')\n",
    "data_set = pickle.load(fileToOpen)"
   ]
  },
  {
   "cell_type": "code",
   "execution_count": 12,
   "metadata": {},
   "outputs": [],
   "source": [
    "# stash result in a cache directory, for how many back. \n",
    "cache_dir_plt = os.path.join(path_to_save,analysis_type,period_of_interest)\n",
    "if not os.path.exists(cache_dir_plt):\n",
    "    os.makedirs(cache_dir_plt)"
   ]
  },
  {
   "cell_type": "code",
   "execution_count": 13,
   "metadata": {
    "scrolled": true
   },
   "outputs": [
    {
     "data": {
      "text/html": [
       "<div>\n",
       "<style scoped>\n",
       "    .dataframe tbody tr th:only-of-type {\n",
       "        vertical-align: middle;\n",
       "    }\n",
       "\n",
       "    .dataframe tbody tr th {\n",
       "        vertical-align: top;\n",
       "    }\n",
       "\n",
       "    .dataframe thead tr th {\n",
       "        text-align: left;\n",
       "    }\n",
       "</style>\n",
       "<table border=\"1\" class=\"dataframe\">\n",
       "  <thead>\n",
       "    <tr>\n",
       "      <th></th>\n",
       "      <th colspan=\"7\" halign=\"left\">d1 R</th>\n",
       "      <th colspan=\"7\" halign=\"left\">d2 R</th>\n",
       "    </tr>\n",
       "    <tr>\n",
       "      <th></th>\n",
       "      <th>10.0</th>\n",
       "      <th>74.0</th>\n",
       "      <th>202.0</th>\n",
       "      <th>226.0</th>\n",
       "      <th>231.0</th>\n",
       "      <th>233.0</th>\n",
       "      <th>235.0</th>\n",
       "      <th>10.0</th>\n",
       "      <th>74.0</th>\n",
       "      <th>202.0</th>\n",
       "      <th>226.0</th>\n",
       "      <th>231.0</th>\n",
       "      <th>233.0</th>\n",
       "      <th>235.0</th>\n",
       "    </tr>\n",
       "  </thead>\n",
       "  <tbody>\n",
       "    <tr>\n",
       "      <th>0</th>\n",
       "      <td>0.018312</td>\n",
       "      <td>4.786641</td>\n",
       "      <td>0.819554</td>\n",
       "      <td>1.638306</td>\n",
       "      <td>2.521303</td>\n",
       "      <td>2.271885</td>\n",
       "      <td>1.364156</td>\n",
       "      <td>0.803671</td>\n",
       "      <td>2.545776</td>\n",
       "      <td>1.884873</td>\n",
       "      <td>1.582768</td>\n",
       "      <td>2.433613</td>\n",
       "      <td>2.585814</td>\n",
       "      <td>0.803924</td>\n",
       "    </tr>\n",
       "    <tr>\n",
       "      <th>1</th>\n",
       "      <td>0.034335</td>\n",
       "      <td>4.802547</td>\n",
       "      <td>0.815364</td>\n",
       "      <td>1.652370</td>\n",
       "      <td>2.514081</td>\n",
       "      <td>2.263675</td>\n",
       "      <td>1.364998</td>\n",
       "      <td>0.812040</td>\n",
       "      <td>2.550151</td>\n",
       "      <td>1.880324</td>\n",
       "      <td>1.583417</td>\n",
       "      <td>2.437432</td>\n",
       "      <td>2.608296</td>\n",
       "      <td>0.791412</td>\n",
       "    </tr>\n",
       "    <tr>\n",
       "      <th>2</th>\n",
       "      <td>0.050178</td>\n",
       "      <td>4.817323</td>\n",
       "      <td>0.812268</td>\n",
       "      <td>1.667813</td>\n",
       "      <td>2.505640</td>\n",
       "      <td>2.255971</td>\n",
       "      <td>1.365906</td>\n",
       "      <td>0.820564</td>\n",
       "      <td>2.555654</td>\n",
       "      <td>1.875073</td>\n",
       "      <td>1.583129</td>\n",
       "      <td>2.440492</td>\n",
       "      <td>2.631019</td>\n",
       "      <td>0.780424</td>\n",
       "    </tr>\n",
       "    <tr>\n",
       "      <th>3</th>\n",
       "      <td>0.065901</td>\n",
       "      <td>4.831310</td>\n",
       "      <td>0.810355</td>\n",
       "      <td>1.684632</td>\n",
       "      <td>2.495902</td>\n",
       "      <td>2.248958</td>\n",
       "      <td>1.366955</td>\n",
       "      <td>0.829406</td>\n",
       "      <td>2.562275</td>\n",
       "      <td>1.869065</td>\n",
       "      <td>1.581938</td>\n",
       "      <td>2.442675</td>\n",
       "      <td>2.653907</td>\n",
       "      <td>0.770952</td>\n",
       "    </tr>\n",
       "    <tr>\n",
       "      <th>4</th>\n",
       "      <td>0.081615</td>\n",
       "      <td>4.844092</td>\n",
       "      <td>0.809890</td>\n",
       "      <td>1.702782</td>\n",
       "      <td>2.484903</td>\n",
       "      <td>2.242868</td>\n",
       "      <td>1.368124</td>\n",
       "      <td>0.838577</td>\n",
       "      <td>2.570142</td>\n",
       "      <td>1.862345</td>\n",
       "      <td>1.579965</td>\n",
       "      <td>2.443947</td>\n",
       "      <td>2.676907</td>\n",
       "      <td>0.762957</td>\n",
       "    </tr>\n",
       "    <tr>\n",
       "      <th>...</th>\n",
       "      <td>...</td>\n",
       "      <td>...</td>\n",
       "      <td>...</td>\n",
       "      <td>...</td>\n",
       "      <td>...</td>\n",
       "      <td>...</td>\n",
       "      <td>...</td>\n",
       "      <td>...</td>\n",
       "      <td>...</td>\n",
       "      <td>...</td>\n",
       "      <td>...</td>\n",
       "      <td>...</td>\n",
       "      <td>...</td>\n",
       "      <td>...</td>\n",
       "    </tr>\n",
       "    <tr>\n",
       "      <th>995</th>\n",
       "      <td>2.661622</td>\n",
       "      <td>3.854503</td>\n",
       "      <td>2.246498</td>\n",
       "      <td>2.094375</td>\n",
       "      <td>2.043984</td>\n",
       "      <td>1.177810</td>\n",
       "      <td>1.583138</td>\n",
       "      <td>2.598825</td>\n",
       "      <td>3.509818</td>\n",
       "      <td>2.094841</td>\n",
       "      <td>2.787763</td>\n",
       "      <td>3.110142</td>\n",
       "      <td>0.724110</td>\n",
       "      <td>0.665380</td>\n",
       "    </tr>\n",
       "    <tr>\n",
       "      <th>996</th>\n",
       "      <td>2.662581</td>\n",
       "      <td>3.852433</td>\n",
       "      <td>2.234386</td>\n",
       "      <td>2.112962</td>\n",
       "      <td>2.046373</td>\n",
       "      <td>1.210258</td>\n",
       "      <td>1.585668</td>\n",
       "      <td>2.615756</td>\n",
       "      <td>3.506566</td>\n",
       "      <td>2.097181</td>\n",
       "      <td>2.789058</td>\n",
       "      <td>3.116902</td>\n",
       "      <td>0.736083</td>\n",
       "      <td>0.671884</td>\n",
       "    </tr>\n",
       "    <tr>\n",
       "      <th>997</th>\n",
       "      <td>2.663851</td>\n",
       "      <td>3.849435</td>\n",
       "      <td>2.221511</td>\n",
       "      <td>2.131730</td>\n",
       "      <td>2.049456</td>\n",
       "      <td>1.242291</td>\n",
       "      <td>1.588279</td>\n",
       "      <td>2.632585</td>\n",
       "      <td>3.503902</td>\n",
       "      <td>2.099672</td>\n",
       "      <td>2.789857</td>\n",
       "      <td>3.121848</td>\n",
       "      <td>0.748194</td>\n",
       "      <td>0.677866</td>\n",
       "    </tr>\n",
       "    <tr>\n",
       "      <th>998</th>\n",
       "      <td>2.665444</td>\n",
       "      <td>3.845464</td>\n",
       "      <td>2.207978</td>\n",
       "      <td>2.150713</td>\n",
       "      <td>2.053194</td>\n",
       "      <td>1.273769</td>\n",
       "      <td>1.590856</td>\n",
       "      <td>2.649188</td>\n",
       "      <td>3.501933</td>\n",
       "      <td>2.102299</td>\n",
       "      <td>2.790175</td>\n",
       "      <td>3.125054</td>\n",
       "      <td>0.760467</td>\n",
       "      <td>0.683375</td>\n",
       "    </tr>\n",
       "    <tr>\n",
       "      <th>999</th>\n",
       "      <td>2.667382</td>\n",
       "      <td>3.840477</td>\n",
       "      <td>2.193895</td>\n",
       "      <td>2.169933</td>\n",
       "      <td>2.057498</td>\n",
       "      <td>1.304552</td>\n",
       "      <td>1.593287</td>\n",
       "      <td>2.665455</td>\n",
       "      <td>3.500743</td>\n",
       "      <td>2.105047</td>\n",
       "      <td>2.789994</td>\n",
       "      <td>3.126634</td>\n",
       "      <td>0.772888</td>\n",
       "      <td>0.688467</td>\n",
       "    </tr>\n",
       "  </tbody>\n",
       "</table>\n",
       "<p>1000 rows × 14 columns</p>\n",
       "</div>"
      ],
      "text/plain": [
       "         d1 R                                                              \\\n",
       "        10.0      74.0      202.0     226.0     231.0     233.0     235.0   \n",
       "0    0.018312  4.786641  0.819554  1.638306  2.521303  2.271885  1.364156   \n",
       "1    0.034335  4.802547  0.815364  1.652370  2.514081  2.263675  1.364998   \n",
       "2    0.050178  4.817323  0.812268  1.667813  2.505640  2.255971  1.365906   \n",
       "3    0.065901  4.831310  0.810355  1.684632  2.495902  2.248958  1.366955   \n",
       "4    0.081615  4.844092  0.809890  1.702782  2.484903  2.242868  1.368124   \n",
       "..        ...       ...       ...       ...       ...       ...       ...   \n",
       "995  2.661622  3.854503  2.246498  2.094375  2.043984  1.177810  1.583138   \n",
       "996  2.662581  3.852433  2.234386  2.112962  2.046373  1.210258  1.585668   \n",
       "997  2.663851  3.849435  2.221511  2.131730  2.049456  1.242291  1.588279   \n",
       "998  2.665444  3.845464  2.207978  2.150713  2.053194  1.273769  1.590856   \n",
       "999  2.667382  3.840477  2.193895  2.169933  2.057498  1.304552  1.593287   \n",
       "\n",
       "         d2 R                                                              \n",
       "        10.0      74.0      202.0     226.0     231.0     233.0     235.0  \n",
       "0    0.803671  2.545776  1.884873  1.582768  2.433613  2.585814  0.803924  \n",
       "1    0.812040  2.550151  1.880324  1.583417  2.437432  2.608296  0.791412  \n",
       "2    0.820564  2.555654  1.875073  1.583129  2.440492  2.631019  0.780424  \n",
       "3    0.829406  2.562275  1.869065  1.581938  2.442675  2.653907  0.770952  \n",
       "4    0.838577  2.570142  1.862345  1.579965  2.443947  2.676907  0.762957  \n",
       "..        ...       ...       ...       ...       ...       ...       ...  \n",
       "995  2.598825  3.509818  2.094841  2.787763  3.110142  0.724110  0.665380  \n",
       "996  2.615756  3.506566  2.097181  2.789058  3.116902  0.736083  0.671884  \n",
       "997  2.632585  3.503902  2.099672  2.789857  3.121848  0.748194  0.677866  \n",
       "998  2.649188  3.501933  2.102299  2.790175  3.125054  0.760467  0.683375  \n",
       "999  2.665455  3.500743  2.105047  2.789994  3.126634  0.772888  0.688467  \n",
       "\n",
       "[1000 rows x 14 columns]"
      ]
     },
     "execution_count": 13,
     "metadata": {},
     "output_type": "execute_result"
    }
   ],
   "source": [
    "data_set[0][0][0][2][\"combined_periods_1\"]"
   ]
  },
  {
   "cell_type": "markdown",
   "metadata": {},
   "source": [
    "# generate data sets of interest"
   ]
  },
  {
   "cell_type": "code",
   "execution_count": 14,
   "metadata": {},
   "outputs": [],
   "source": [
    "r_ws_period_d1_data_set= dschf.extract_data_of_interest_ipsi_contra_data_set(data_set,\n",
    "                                                                             0,2,\n",
    "                                                                             period_of_interest,\"d1 R\")"
   ]
  },
  {
   "cell_type": "code",
   "execution_count": 15,
   "metadata": {
    "scrolled": true
   },
   "outputs": [],
   "source": [
    "def make_df_from_data_set (specific_data_set,ipsi_contra):\n",
    "    df = pd.DataFrame()\n",
    "    for i in range(len(specific_data_set)):\n",
    "        data = specific_data_set[i][ipsi_contra]\n",
    "        df = pd.concat([df,data],axis=1) \n",
    "    return (df)"
   ]
  },
  {
   "cell_type": "code",
   "execution_count": 16,
   "metadata": {},
   "outputs": [
    {
     "name": "stdout",
     "output_type": "stream",
     "text": [
      "175\n",
      "226\n"
     ]
    }
   ],
   "source": [
    "r_ws_ipsi_d1 = make_df_from_data_set(r_ws_period_d1_data_set,0)\n",
    "\n",
    "print(len(r_ws_ipsi_d1.columns))\n",
    "pre_ws_ipsi_d1 = round(r_ws_ipsi_d1.loc[0:50].mean(),3)\n",
    "post_ws_ipsi_d1 = round(r_ws_ipsi_d1.loc[300:500].mean(),3)\n",
    "df_ws_ipsi_d1 = pd.concat([pre_ws_ipsi_d1,post_ws_ipsi_d1],axis=1) \n",
    "df_ws_ipsi_d1.to_csv(\"df_ws_ipsi_d1_c.csv\")\n",
    "\n",
    "\n",
    "\n",
    "r_ws_contra_d1 = make_df_from_data_set (r_ws_period_d1_data_set,1)\n",
    "\n",
    "print(len(r_ws_contra_d1.columns))\n",
    "pre_ws_contra_d1 = round(r_ws_contra_d1.loc[0:50].mean(),3)\n",
    "post_ws_contra_d1 = round(r_ws_contra_d1.loc[300:500].mean(),3)\n",
    "df_ws_contra_d1 = pd.concat([pre_ws_contra_d1,post_ws_contra_d1],axis=1) \n",
    "df_ws_contra_d1.to_csv(\"df_ws_contra_d1_c.csv\")"
   ]
  },
  {
   "cell_type": "code",
   "execution_count": 17,
   "metadata": {},
   "outputs": [],
   "source": [
    "r_ws_period_d2_data_set= dschf.extract_data_of_interest_ipsi_contra_data_set(data_set,\n",
    "                                                                             0,2,\n",
    "                                                                             period_of_interest,\"d2 R\")"
   ]
  },
  {
   "cell_type": "code",
   "execution_count": 18,
   "metadata": {},
   "outputs": [
    {
     "name": "stdout",
     "output_type": "stream",
     "text": [
      "175\n",
      "226\n"
     ]
    }
   ],
   "source": [
    "r_ws_ipsi_d2 = make_df_from_data_set(r_ws_period_d2_data_set,0)\n",
    "\n",
    "print(len(r_ws_ipsi_d2.columns))\n",
    "pre_ws_ipsi_d2 = round(r_ws_ipsi_d2.loc[0:50].mean(),3)\n",
    "post_ws_ipsi_d2 = round(r_ws_ipsi_d2.loc[300:500].mean(),3)\n",
    "df_ws_ipsi_d2 = pd.concat([pre_ws_ipsi_d2,post_ws_ipsi_d2],axis=1) \n",
    "df_ws_ipsi_d2.to_csv(\"df_ws_ipsi_d2_c.csv\")\n",
    "\n",
    "\n",
    "\n",
    "r_ws_contra_d2 = make_df_from_data_set (r_ws_period_d2_data_set,1)\n",
    "\n",
    "print(len(r_ws_contra_d2.columns))\n",
    "pre_ws_contra_d2 = round(r_ws_contra_d2.loc[0:50].mean(),3)\n",
    "post_ws_contra_d2 = round(r_ws_contra_d2.loc[300:500].mean(),3)\n",
    "df_ws_contra_d2 = pd.concat([pre_ws_contra_d2,post_ws_contra_d2],axis=1) \n",
    "df_ws_contra_d2.to_csv(\"df_ws_contra_d2_c.csv\")"
   ]
  },
  {
   "cell_type": "code",
   "execution_count": 19,
   "metadata": {},
   "outputs": [],
   "source": [
    "r_wr_period_d1_data_set= dschf.extract_data_of_interest_ipsi_contra_data_set(data_set,\n",
    "                                                                             0,3,\n",
    "                                                                             period_of_interest,\"d1 R\")"
   ]
  },
  {
   "cell_type": "code",
   "execution_count": 20,
   "metadata": {},
   "outputs": [],
   "source": [
    "r_wr_period_d1_data_set[8][0].to_csv(\"session.csv\")"
   ]
  },
  {
   "cell_type": "code",
   "execution_count": 21,
   "metadata": {},
   "outputs": [],
   "source": [
    "import numpy as np"
   ]
  },
  {
   "cell_type": "code",
   "execution_count": 22,
   "metadata": {
    "scrolled": true
   },
   "outputs": [
    {
     "name": "stdout",
     "output_type": "stream",
     "text": [
      "1601\n",
      "1698\n"
     ]
    }
   ],
   "source": [
    "r_wr_ipsi_d1 = make_df_from_data_set(r_wr_period_d1_data_set,0)\n",
    "\n",
    "print(len(r_wr_ipsi_d1.columns))\n",
    "pre_wr_ipsi_d1 = round(r_wr_ipsi_d1.loc[0:50].mean(),3)\n",
    "post_wr_ipsi_d1 = round(r_wr_ipsi_d1.loc[300:500].mean(),3)\n",
    "df_wr_ipsi_d1 = pd.concat([pre_wr_ipsi_d1,post_wr_ipsi_d1],axis=1) \n",
    "df_wr_ipsi_d1.to_csv(\"df_wr_ipsi_d1_c.csv\")\n",
    "\n",
    "\n",
    "r_wr_contra_d1 = make_df_from_data_set (r_wr_period_d1_data_set,1)\n",
    "\n",
    "print(len(r_wr_contra_d1.columns))\n",
    "pre_wr_contra_d1 = round(r_wr_contra_d1.loc[0:50].mean(),3)\n",
    "post_wr_contra_d1 = round(r_wr_contra_d1.loc[300:500].mean(),3)\n",
    "df_wr_contra_d1 = pd.concat([pre_wr_contra_d1,post_wr_contra_d1],axis=1) \n",
    "\n",
    "df_wr_contra_d1.to_csv(\"df_wr_contra_d1_c.csv\")"
   ]
  },
  {
   "cell_type": "code",
   "execution_count": 23,
   "metadata": {},
   "outputs": [],
   "source": [
    "r_wr_period_d2_data_set = dschf.extract_data_of_interest_ipsi_contra_data_set(data_set,\n",
    "                                                                             0,3,\n",
    "                                                                             period_of_interest,\"d2 R\")"
   ]
  },
  {
   "cell_type": "code",
   "execution_count": 24,
   "metadata": {},
   "outputs": [
    {
     "name": "stdout",
     "output_type": "stream",
     "text": [
      "1601\n",
      "1698\n"
     ]
    }
   ],
   "source": [
    "r_wr_ipsi_d2 = make_df_from_data_set(r_wr_period_d2_data_set,0)\n",
    "\n",
    "print(len(r_wr_ipsi_d2.columns))\n",
    "pre_wr_ipsi_d2 = round(r_wr_ipsi_d2.loc[0:50].mean(),3)\n",
    "post_wr_ipsi_d2 = round(r_wr_ipsi_d2.loc[300:500].mean(),3)\n",
    "df_wr_ipsi_d2 = pd.concat([pre_wr_ipsi_d2,post_wr_ipsi_d2],axis=1) \n",
    "df_wr_ipsi_d2.to_csv(\"df_wr_ipsi_d2_c.csv\")\n",
    "\n",
    "\n",
    "\n",
    "r_wr_contra_d2 = make_df_from_data_set (r_wr_period_d2_data_set,1)\n",
    "\n",
    "print(len(r_wr_contra_d2.columns))\n",
    "pre_wr_contra_d2 = round(r_wr_contra_d2.loc[0:50].mean(),3)\n",
    "post_wr_contra_d2 = round(r_wr_contra_d2.loc[300:500].mean(),3)\n",
    "df_wr_contra_d2 = pd.concat([pre_wr_contra_d2,post_wr_contra_d2],axis=1) \n",
    "df_wr_contra_d2.to_csv(\"df_wr_contra_d2_c.csv\")"
   ]
  },
  {
   "cell_type": "markdown",
   "metadata": {},
   "source": [
    "# Calculations avg per session"
   ]
  },
  {
   "cell_type": "code",
   "execution_count": null,
   "metadata": {},
   "outputs": [],
   "source": [
    "def avg_pre_post_choice_perSession(data_ipsi_contra):\n",
    "    if data_ipsi_contra[0] == []:\n",
    "        pre = 0\n",
    "        post = 0\n",
    "        \n",
    "    else: \n",
    "        pre=round(data_ipsi_contra.loc[0:199].mean().mean(),3)\n",
    "        post=round(data_ipsi_contra.loc[201:401].mean().mean(),3)\n",
    "        \n",
    "        return(pre, post)"
   ]
  },
  {
   "cell_type": "code",
   "execution_count": null,
   "metadata": {},
   "outputs": [],
   "source": [
    "def calculate_value_on_data_set_2 (ipsi_contra_data_set,function,column_name):\n",
    "    \n",
    "    df_ipsi_next_list_pre = []\n",
    "    df_ipsi_next_list_post = []\n",
    "    df_contra_next_list_pre = []\n",
    "    df_contra_next_list_post = []\n",
    "    \n",
    "    df_output = pd.DataFrame()\n",
    "\n",
    "    for data_ipsi_contra in ipsi_contra_data_set:\n",
    "        \n",
    "        value_ipsi_next_pre = function(data_ipsi_contra[0])[0]\n",
    "        value_ipsi_next_post = function(data_ipsi_contra[0])[1]\n",
    "        value_contra_next_pre = function(data_ipsi_contra[1])[0]\n",
    "        value_contra_next_post = function(data_ipsi_contra[1])[1]\n",
    "       \n",
    "    \n",
    "    \n",
    "        if value_ipsi_next_pre == []:\n",
    "            print (\"empty\")\n",
    "        else: \n",
    "            df_ipsi_next_list_pre.append(value_ipsi_next_pre)\n",
    "        \n",
    "        if value_ipsi_next_post == []:\n",
    "            print (\"empty\")\n",
    "        else: \n",
    "            df_ipsi_next_list_post.append(value_ipsi_next_post)\n",
    "            \n",
    "        if value_contra_next_pre == []:\n",
    "            print (\"empty\")\n",
    "        else: \n",
    "            df_contra_next_list_pre.append(value_contra_next_pre)\n",
    "\n",
    "        if value_contra_next_post == []:\n",
    "            print (\"empty\")\n",
    "        else: \n",
    "            df_contra_next_list_post.append(value_contra_next_post)\n",
    "        \n",
    "        \n",
    "#     df_output [\"ipsi_pre_\"+column_name] = df_ipsi_next_list_pre\n",
    "#     df_output [\"ipsi_post_\"+column_name] = df_ipsi_next_list_post\n",
    "    \n",
    "#     df_output [\"contra_pre_\"+column_name] = df_contra_next_list_pre\n",
    "#     df_output [\"contra_post_\"+column_name] = df_contra_next_list_post\n",
    "    #save outputs.. \n",
    "    \n",
    "    return (df_ipsi_next_list_pre,df_ipsi_next_list_post,df_contra_next_list_pre,df_contra_next_list_post)"
   ]
  },
  {
   "cell_type": "code",
   "execution_count": null,
   "metadata": {},
   "outputs": [],
   "source": [
    "r_ws_period_d1_data_set[0][0]"
   ]
  },
  {
   "cell_type": "code",
   "execution_count": null,
   "metadata": {
    "scrolled": true
   },
   "outputs": [],
   "source": [
    "r_ls_period_d1_avgSig_pre_post_choice_perSession = calculate_value_on_data_set_2(r_ws_period_d1_data_set,\n",
    "                                                                                 avg_pre_post_choice_perSession,\n",
    "                                                                                 \"r_ws_d1\")"
   ]
  },
  {
   "cell_type": "code",
   "execution_count": null,
   "metadata": {},
   "outputs": [],
   "source": [
    "r_ls_period_d2_avgSig_pre_post_choice_perSession = calculate_value_on_data_set_2(r_ls_period_d2_data_set,\n",
    "                                                                 avg_pre_post_choice_perSession,\n",
    "                                                                  \"r_ls_d2\")"
   ]
  },
  {
   "cell_type": "code",
   "execution_count": null,
   "metadata": {},
   "outputs": [],
   "source": [
    "r_wr_period_d1_avgSig_pre_post_choice_perSession = calculate_value_on_data_set_2(r_wr_period_d1_data_set,\n",
    "                                                                 avg_pre_post_choice_perSession,\n",
    "                                                                 \"r_wr_d1\")"
   ]
  },
  {
   "cell_type": "code",
   "execution_count": null,
   "metadata": {},
   "outputs": [],
   "source": [
    "r_wr_period_d2_avgSig_pre_post_choice_perSession = calculate_value_on_data_set_2(r_wr_period_d2_data_set,\n",
    "                                                                 avg_pre_post_choice_perSession,\n",
    "                                                                  \"r_wr_d2\")"
   ]
  },
  {
   "cell_type": "code",
   "execution_count": null,
   "metadata": {},
   "outputs": [],
   "source": [
    "result = pd.concat([r_ls_period_d1_avgSig_pre_post_choice_perSession,\n",
    "                    r_ls_period_d2_avgSig_pre_post_choice_perSession,\n",
    "                    r_wr_period_d1_avgSig_pre_post_choice_perSession,\n",
    "                    r_wr_period_d2_avgSig_pre_post_choice_perSession],axis=1)"
   ]
  },
  {
   "cell_type": "code",
   "execution_count": null,
   "metadata": {},
   "outputs": [],
   "source": [
    "result"
   ]
  },
  {
   "cell_type": "code",
   "execution_count": null,
   "metadata": {},
   "outputs": [],
   "source": [
    "result.to_csv(cache_dir_plt+\"/data_set_calculations_signal_pre_post_choice_right_side.csv\")"
   ]
  },
  {
   "cell_type": "code",
   "execution_count": null,
   "metadata": {},
   "outputs": [],
   "source": []
  }
 ],
 "metadata": {
  "celltoolbar": "Tags",
  "kernelspec": {
   "display_name": "Python 3",
   "language": "python",
   "name": "python3"
  },
  "language_info": {
   "codemirror_mode": {
    "name": "ipython",
    "version": 3
   },
   "file_extension": ".py",
   "mimetype": "text/x-python",
   "name": "python",
   "nbconvert_exporter": "python",
   "pygments_lexer": "ipython3",
   "version": "3.7.3"
  }
 },
 "nbformat": 4,
 "nbformat_minor": 4
}
