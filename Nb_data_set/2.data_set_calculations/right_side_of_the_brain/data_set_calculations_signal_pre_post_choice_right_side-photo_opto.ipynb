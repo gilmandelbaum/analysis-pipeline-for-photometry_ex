{
 "cells": [
  {
   "cell_type": "code",
   "execution_count": 1,
   "metadata": {},
   "outputs": [],
   "source": [
    "import pickle\n",
    "from pathlib import Path\n",
    "import pandas as pd \n",
    "import os\n",
    "import sys\n",
    "import matplotlib.pyplot as plt\n",
    "from statistics import mean\n",
    "import getpass"
   ]
  },
  {
   "cell_type": "code",
   "execution_count": 2,
   "metadata": {},
   "outputs": [
    {
     "name": "stdout",
     "output_type": "stream",
     "text": [
      "gilmandelbaum\n"
     ]
    }
   ],
   "source": [
    "#add the github path that will run the notebooks: \n",
    "username = getpass.getuser() # gets the username from the current comp \n",
    "print (username)"
   ]
  },
  {
   "cell_type": "code",
   "execution_count": 3,
   "metadata": {},
   "outputs": [],
   "source": [
    "sys.path.insert(0,'/Users/{:}/github/analysis-pipeline-for-photometry_ex/Nb_data_set/2.data_set_calculations'.format(username))"
   ]
  },
  {
   "cell_type": "code",
   "execution_count": 4,
   "metadata": {},
   "outputs": [],
   "source": [
    "import data_set_calculations_helper_functions as dschf"
   ]
  },
  {
   "cell_type": "markdown",
   "metadata": {},
   "source": [
    "# Change based on analysis: "
   ]
  },
  {
   "cell_type": "code",
   "execution_count": 5,
   "metadata": {},
   "outputs": [],
   "source": [
    "seq_str = '0a1ad2a3j4abcd5a6a7a'\n",
    "period_of_interest = \"combined_periods_1\""
   ]
  },
  {
   "cell_type": "code",
   "execution_count": 6,
   "metadata": {},
   "outputs": [],
   "source": [
    "HowManyBack=1\n",
    "# folderName=\"right_dual_color_photo_full_data_set_after_inspection\" #folder where the plot data_set will be saved \n",
    "# path = \"/Volumes/GilInVivoPaper.large/2.Photometry_in_str/2.dual_color_photo_full_data_set_analysis/\"\n",
    "\n",
    "folderName=\"right_dual_color_photo_opto\" #folder where the plot data_set will be saved \n",
    "path = \"/Volumes/GilInVivoPaper.large/2.Photometry_in_str/2.lateral_opto_6/\""
   ]
  },
  {
   "cell_type": "markdown",
   "metadata": {},
   "source": [
    "# Folder name of analysis: "
   ]
  },
  {
   "cell_type": "code",
   "execution_count": 7,
   "metadata": {},
   "outputs": [],
   "source": [
    "analysis_type =\"data_set_calculations\""
   ]
  },
  {
   "cell_type": "code",
   "execution_count": 8,
   "metadata": {},
   "outputs": [
    {
     "data": {
      "text/plain": [
       "'/anaconda3/bin/python3'"
      ]
     },
     "execution_count": 8,
     "metadata": {},
     "output_type": "execute_result"
    }
   ],
   "source": [
    "sys.executable"
   ]
  },
  {
   "cell_type": "markdown",
   "metadata": {},
   "source": [
    "# Import the data and where to save it "
   ]
  },
  {
   "cell_type": "code",
   "execution_count": 9,
   "metadata": {},
   "outputs": [],
   "source": [
    "path_to_save = path+\"/\"+folderName+\"/\"+seq_str #also for loading"
   ]
  },
  {
   "cell_type": "code",
   "execution_count": 10,
   "metadata": {},
   "outputs": [
    {
     "data": {
      "text/plain": [
       "'/Volumes/GilInVivoPaper.large/2.Photometry_in_str/2.lateral_opto_6//right_dual_color_photo_opto/0a1ad2a3j4abcd5a6a7a'"
      ]
     },
     "execution_count": 10,
     "metadata": {},
     "output_type": "execute_result"
    }
   ],
   "source": [
    "path_to_save"
   ]
  },
  {
   "cell_type": "code",
   "execution_count": 11,
   "metadata": {},
   "outputs": [
    {
     "name": "stdout",
     "output_type": "stream",
     "text": [
      "/Volumes/GilInVivoPaper.large/2.Photometry_in_str/2.lateral_opto_6/right_dual_color_photo_opto/0a1ad2a3j4abcd5a6a7a/data_object_photometry_after_processing_0a1ad2a3j4abcd5a6a7a.pickle\n",
      "CPU times: user 4.51 s, sys: 192 ms, total: 4.71 s\n",
      "Wall time: 4.76 s\n"
     ]
    }
   ],
   "source": [
    "%%time\n",
    "root = Path(path_to_save)\n",
    "d = \"data_object_photometry_after_processing\"+\"_\"+seq_str+'.pickle'\n",
    "my_path = root / d \n",
    "print (my_path)\n",
    "fileToOpen = open(my_path, 'rb')\n",
    "data_set = pickle.load(fileToOpen)"
   ]
  },
  {
   "cell_type": "code",
   "execution_count": 12,
   "metadata": {},
   "outputs": [],
   "source": [
    "# stash result in a cache directory, for how many back. \n",
    "cache_dir_plt = os.path.join(path_to_save,analysis_type,period_of_interest)\n",
    "if not os.path.exists(cache_dir_plt):\n",
    "    os.makedirs(cache_dir_plt)"
   ]
  },
  {
   "cell_type": "code",
   "execution_count": 13,
   "metadata": {
    "scrolled": false
   },
   "outputs": [
    {
     "data": {
      "text/html": [
       "<div>\n",
       "<style scoped>\n",
       "    .dataframe tbody tr th:only-of-type {\n",
       "        vertical-align: middle;\n",
       "    }\n",
       "\n",
       "    .dataframe tbody tr th {\n",
       "        vertical-align: top;\n",
       "    }\n",
       "\n",
       "    .dataframe thead tr th {\n",
       "        text-align: left;\n",
       "    }\n",
       "</style>\n",
       "<table border=\"1\" class=\"dataframe\">\n",
       "  <thead>\n",
       "    <tr>\n",
       "      <th></th>\n",
       "      <th colspan=\"4\" halign=\"left\">d1 R</th>\n",
       "      <th colspan=\"4\" halign=\"left\">d2 R</th>\n",
       "    </tr>\n",
       "    <tr>\n",
       "      <th></th>\n",
       "      <th>61.0</th>\n",
       "      <th>127.0</th>\n",
       "      <th>156.0</th>\n",
       "      <th>176.0</th>\n",
       "      <th>61.0</th>\n",
       "      <th>127.0</th>\n",
       "      <th>156.0</th>\n",
       "      <th>176.0</th>\n",
       "    </tr>\n",
       "  </thead>\n",
       "  <tbody>\n",
       "    <tr>\n",
       "      <th>0</th>\n",
       "      <td>1.921308</td>\n",
       "      <td>2.251875</td>\n",
       "      <td>1.690257</td>\n",
       "      <td>3.065363</td>\n",
       "      <td>1.362552</td>\n",
       "      <td>2.396285</td>\n",
       "      <td>0.720348</td>\n",
       "      <td>1.572335</td>\n",
       "    </tr>\n",
       "    <tr>\n",
       "      <th>1</th>\n",
       "      <td>1.919027</td>\n",
       "      <td>2.243575</td>\n",
       "      <td>1.695337</td>\n",
       "      <td>3.061625</td>\n",
       "      <td>1.356029</td>\n",
       "      <td>2.416856</td>\n",
       "      <td>0.720168</td>\n",
       "      <td>1.566917</td>\n",
       "    </tr>\n",
       "    <tr>\n",
       "      <th>2</th>\n",
       "      <td>1.916424</td>\n",
       "      <td>2.235545</td>\n",
       "      <td>1.700388</td>\n",
       "      <td>3.059422</td>\n",
       "      <td>1.350335</td>\n",
       "      <td>2.436999</td>\n",
       "      <td>0.717715</td>\n",
       "      <td>1.561315</td>\n",
       "    </tr>\n",
       "    <tr>\n",
       "      <th>3</th>\n",
       "      <td>1.913562</td>\n",
       "      <td>2.227853</td>\n",
       "      <td>1.705281</td>\n",
       "      <td>3.058973</td>\n",
       "      <td>1.345533</td>\n",
       "      <td>2.456655</td>\n",
       "      <td>0.716471</td>\n",
       "      <td>1.555454</td>\n",
       "    </tr>\n",
       "    <tr>\n",
       "      <th>4</th>\n",
       "      <td>1.910608</td>\n",
       "      <td>2.220525</td>\n",
       "      <td>1.710034</td>\n",
       "      <td>3.060521</td>\n",
       "      <td>1.341715</td>\n",
       "      <td>2.475660</td>\n",
       "      <td>0.713899</td>\n",
       "      <td>1.549220</td>\n",
       "    </tr>\n",
       "    <tr>\n",
       "      <th>...</th>\n",
       "      <td>...</td>\n",
       "      <td>...</td>\n",
       "      <td>...</td>\n",
       "      <td>...</td>\n",
       "      <td>...</td>\n",
       "      <td>...</td>\n",
       "      <td>...</td>\n",
       "      <td>...</td>\n",
       "    </tr>\n",
       "    <tr>\n",
       "      <th>995</th>\n",
       "      <td>0.810265</td>\n",
       "      <td>2.931465</td>\n",
       "      <td>1.861416</td>\n",
       "      <td>3.139556</td>\n",
       "      <td>2.888895</td>\n",
       "      <td>3.160460</td>\n",
       "      <td>1.817081</td>\n",
       "      <td>3.567552</td>\n",
       "    </tr>\n",
       "    <tr>\n",
       "      <th>996</th>\n",
       "      <td>0.820736</td>\n",
       "      <td>2.926708</td>\n",
       "      <td>1.869806</td>\n",
       "      <td>3.142608</td>\n",
       "      <td>2.896895</td>\n",
       "      <td>3.180471</td>\n",
       "      <td>1.840827</td>\n",
       "      <td>3.564732</td>\n",
       "    </tr>\n",
       "    <tr>\n",
       "      <th>997</th>\n",
       "      <td>0.831013</td>\n",
       "      <td>2.920454</td>\n",
       "      <td>1.878652</td>\n",
       "      <td>3.145261</td>\n",
       "      <td>2.903948</td>\n",
       "      <td>3.201019</td>\n",
       "      <td>1.863753</td>\n",
       "      <td>3.559805</td>\n",
       "    </tr>\n",
       "    <tr>\n",
       "      <th>998</th>\n",
       "      <td>0.841042</td>\n",
       "      <td>2.912808</td>\n",
       "      <td>1.887979</td>\n",
       "      <td>3.147609</td>\n",
       "      <td>2.909883</td>\n",
       "      <td>3.222008</td>\n",
       "      <td>1.885797</td>\n",
       "      <td>3.552694</td>\n",
       "    </tr>\n",
       "    <tr>\n",
       "      <th>999</th>\n",
       "      <td>0.850669</td>\n",
       "      <td>2.903888</td>\n",
       "      <td>1.897809</td>\n",
       "      <td>3.149760</td>\n",
       "      <td>2.914481</td>\n",
       "      <td>3.243303</td>\n",
       "      <td>1.906894</td>\n",
       "      <td>3.543355</td>\n",
       "    </tr>\n",
       "  </tbody>\n",
       "</table>\n",
       "<p>1000 rows × 8 columns</p>\n",
       "</div>"
      ],
      "text/plain": [
       "         d1 R                                    d2 R                      \\\n",
       "        61.0      127.0     156.0     176.0     61.0      127.0     156.0   \n",
       "0    1.921308  2.251875  1.690257  3.065363  1.362552  2.396285  0.720348   \n",
       "1    1.919027  2.243575  1.695337  3.061625  1.356029  2.416856  0.720168   \n",
       "2    1.916424  2.235545  1.700388  3.059422  1.350335  2.436999  0.717715   \n",
       "3    1.913562  2.227853  1.705281  3.058973  1.345533  2.456655  0.716471   \n",
       "4    1.910608  2.220525  1.710034  3.060521  1.341715  2.475660  0.713899   \n",
       "..        ...       ...       ...       ...       ...       ...       ...   \n",
       "995  0.810265  2.931465  1.861416  3.139556  2.888895  3.160460  1.817081   \n",
       "996  0.820736  2.926708  1.869806  3.142608  2.896895  3.180471  1.840827   \n",
       "997  0.831013  2.920454  1.878652  3.145261  2.903948  3.201019  1.863753   \n",
       "998  0.841042  2.912808  1.887979  3.147609  2.909883  3.222008  1.885797   \n",
       "999  0.850669  2.903888  1.897809  3.149760  2.914481  3.243303  1.906894   \n",
       "\n",
       "               \n",
       "        176.0  \n",
       "0    1.572335  \n",
       "1    1.566917  \n",
       "2    1.561315  \n",
       "3    1.555454  \n",
       "4    1.549220  \n",
       "..        ...  \n",
       "995  3.567552  \n",
       "996  3.564732  \n",
       "997  3.559805  \n",
       "998  3.552694  \n",
       "999  3.543355  \n",
       "\n",
       "[1000 rows x 8 columns]"
      ]
     },
     "execution_count": 13,
     "metadata": {},
     "output_type": "execute_result"
    }
   ],
   "source": [
    "data_set[0][0][0][2][\"combined_periods_1\"]"
   ]
  },
  {
   "cell_type": "markdown",
   "metadata": {},
   "source": [
    "# generate data sets of interest"
   ]
  },
  {
   "cell_type": "code",
   "execution_count": 14,
   "metadata": {},
   "outputs": [],
   "source": [
    "r_ws_period_d1_data_set= dschf.extract_data_of_interest_ipsi_contra_data_set(data_set,\n",
    "                                                                             0,2,\n",
    "                                                                             period_of_interest,\"d1 R\")"
   ]
  },
  {
   "cell_type": "code",
   "execution_count": 15,
   "metadata": {
    "scrolled": true
   },
   "outputs": [],
   "source": [
    "def make_df_from_data_set (specific_data_set,ipsi_contra):\n",
    "    df = pd.DataFrame()\n",
    "    for i in range(len(specific_data_set)):\n",
    "        data = specific_data_set[i][ipsi_contra]\n",
    "        df = pd.concat([df,data],axis=1) \n",
    "    return (df)"
   ]
  },
  {
   "cell_type": "code",
   "execution_count": 16,
   "metadata": {},
   "outputs": [
    {
     "name": "stdout",
     "output_type": "stream",
     "text": [
      "148\n",
      "11\n"
     ]
    }
   ],
   "source": [
    "r_ws_ipsi_d1 = make_df_from_data_set(r_ws_period_d1_data_set,0)\n",
    "\n",
    "print(len(r_ws_ipsi_d1.columns))\n",
    "pre_ws_ipsi_d1 = round(r_ws_ipsi_d1.loc[0:50].mean(),3)\n",
    "post_ws_ipsi_d1 = round(r_ws_ipsi_d1.loc[300:500].mean(),3)\n",
    "df_ws_ipsi_d1 = pd.concat([pre_ws_ipsi_d1,post_ws_ipsi_d1],axis=1) \n",
    "df_ws_ipsi_d1.to_csv(\"df_ws_ipsi_d1.csv\")\n",
    "\n",
    "\n",
    "\n",
    "r_ws_contra_d1 = make_df_from_data_set (r_ws_period_d1_data_set,1)\n",
    "\n",
    "print(len(r_ws_contra_d1.columns))\n",
    "pre_ws_contra_d1 = round(r_ws_contra_d1.loc[0:50].mean(),3)\n",
    "post_ws_contra_d1 = round(r_ws_contra_d1.loc[300:500].mean(),3)\n",
    "df_ws_contra_d1 = pd.concat([pre_ws_contra_d1,post_ws_contra_d1],axis=1) \n",
    "df_ws_contra_d1.to_csv(\"df_ws_contra_d1.csv\")"
   ]
  },
  {
   "cell_type": "code",
   "execution_count": 17,
   "metadata": {},
   "outputs": [],
   "source": [
    "r_ws_period_d2_data_set= dschf.extract_data_of_interest_ipsi_contra_data_set(data_set,\n",
    "                                                                             0,2,\n",
    "                                                                             period_of_interest,\"d2 R\")"
   ]
  },
  {
   "cell_type": "code",
   "execution_count": 18,
   "metadata": {},
   "outputs": [
    {
     "name": "stdout",
     "output_type": "stream",
     "text": [
      "148\n",
      "11\n"
     ]
    }
   ],
   "source": [
    "r_ws_ipsi_d2 = make_df_from_data_set(r_ws_period_d2_data_set,0)\n",
    "\n",
    "print(len(r_ws_ipsi_d2.columns))\n",
    "pre_ws_ipsi_d2 = round(r_ws_ipsi_d2.loc[0:50].mean(),3)\n",
    "post_ws_ipsi_d2 = round(r_ws_ipsi_d2.loc[300:500].mean(),3)\n",
    "df_ws_ipsi_d2 = pd.concat([pre_ws_ipsi_d2,post_ws_ipsi_d2],axis=1) \n",
    "df_ws_ipsi_d2.to_csv(\"df_ws_ipsi_d2.csv\")\n",
    "\n",
    "\n",
    "\n",
    "r_ws_contra_d2 = make_df_from_data_set (r_ws_period_d2_data_set,1)\n",
    "\n",
    "print(len(r_ws_contra_d2.columns))\n",
    "pre_ws_contra_d2 = round(r_ws_contra_d2.loc[0:50].mean(),3)\n",
    "post_ws_contra_d2 = round(r_ws_contra_d2.loc[300:500].mean(),3)\n",
    "df_ws_contra_d2 = pd.concat([pre_ws_contra_d2,post_ws_contra_d2],axis=1) \n",
    "df_ws_contra_d2.to_csv(\"df_ws_contra_d2.csv\")"
   ]
  },
  {
   "cell_type": "code",
   "execution_count": 19,
   "metadata": {},
   "outputs": [],
   "source": [
    "r_wr_period_d1_data_set= dschf.extract_data_of_interest_ipsi_contra_data_set(data_set,\n",
    "                                                                             0,3,\n",
    "                                                                             period_of_interest,\"d1 R\")"
   ]
  },
  {
   "cell_type": "code",
   "execution_count": 20,
   "metadata": {},
   "outputs": [
    {
     "name": "stdout",
     "output_type": "stream",
     "text": [
      "194\n",
      "82\n"
     ]
    }
   ],
   "source": [
    "r_wr_ipsi_d1 = make_df_from_data_set(r_wr_period_d1_data_set,0)\n",
    "\n",
    "print(len(r_wr_ipsi_d1.columns))\n",
    "pre_wr_ipsi_d1 = round(r_wr_ipsi_d1.loc[0:50].mean(),3)\n",
    "post_wr_ipsi_d1 = round(r_wr_ipsi_d1.loc[300:500].mean(),3)\n",
    "df_wr_ipsi_d1 = pd.concat([pre_wr_ipsi_d1,post_wr_ipsi_d1],axis=1) \n",
    "df_wr_ipsi_d1.to_csv(\"df_wr_ipsi_d1.csv\")\n",
    "\n",
    "\n",
    "\n",
    "r_wr_contra_d1 = make_df_from_data_set (r_wr_period_d1_data_set,1)\n",
    "\n",
    "print(len(r_wr_contra_d1.columns))\n",
    "pre_wr_contra_d1 = round(r_wr_contra_d1.loc[0:50].mean(),3)\n",
    "post_wr_contra_d1 = round(r_wr_contra_d1.loc[300:500].mean(),3)\n",
    "df_wr_contra_d1 = pd.concat([pre_wr_contra_d1,post_wr_contra_d1],axis=1) \n",
    "df_wr_contra_d1.to_csv(\"df_wr_contra_d1.csv\")"
   ]
  },
  {
   "cell_type": "code",
   "execution_count": 21,
   "metadata": {},
   "outputs": [],
   "source": [
    "r_wr_period_d2_data_set= dschf.extract_data_of_interest_ipsi_contra_data_set(data_set,\n",
    "                                                                           0,3,\n",
    "                                                                           period_of_interest,\"d2 R\")"
   ]
  },
  {
   "cell_type": "code",
   "execution_count": 22,
   "metadata": {},
   "outputs": [
    {
     "name": "stdout",
     "output_type": "stream",
     "text": [
      "194\n",
      "82\n"
     ]
    }
   ],
   "source": [
    "r_wr_ipsi_d2 = make_df_from_data_set(r_wr_period_d2_data_set,0)\n",
    "\n",
    "print(len(r_wr_ipsi_d2.columns))\n",
    "pre_wr_ipsi_d2 = round(r_wr_ipsi_d2.loc[0:50].mean(),3)\n",
    "post_wr_ipsi_d2 = round(r_wr_ipsi_d2.loc[300:500].mean(),3)\n",
    "df_wr_ipsi_d2 = pd.concat([pre_wr_ipsi_d2,post_wr_ipsi_d2],axis=1) \n",
    "df_wr_ipsi_d2.to_csv(\"df_wr_ipsi_d2.csv\")\n",
    "\n",
    "\n",
    "\n",
    "r_wr_contra_d2 = make_df_from_data_set (r_wr_period_d2_data_set,1)\n",
    "\n",
    "print(len(r_wr_contra_d2.columns))\n",
    "pre_wr_contra_d2 = round(r_wr_contra_d2.loc[0:50].mean(),3)\n",
    "post_wr_contra_d2 = round(r_wr_contra_d2.loc[300:500].mean(),3)\n",
    "df_wr_contra_d2 = pd.concat([pre_wr_contra_d2,post_wr_contra_d2],axis=1) \n",
    "df_wr_contra_d2.to_csv(\"df_wr_contra_d2.csv\")"
   ]
  },
  {
   "cell_type": "markdown",
   "metadata": {},
   "source": [
    "# Calculations avg per session"
   ]
  },
  {
   "cell_type": "code",
   "execution_count": null,
   "metadata": {},
   "outputs": [],
   "source": [
    "def avg_pre_post_choice_perSession(data_ipsi_contra):\n",
    "    if data_ipsi_contra[0] == []:\n",
    "        pre = 0\n",
    "        post = 0\n",
    "        \n",
    "    else: \n",
    "        pre=round(data_ipsi_contra.loc[0:199].mean().mean(),3)\n",
    "        post=round(data_ipsi_contra.loc[201:401].mean().mean(),3)\n",
    "        \n",
    "        return(pre, post)"
   ]
  },
  {
   "cell_type": "code",
   "execution_count": null,
   "metadata": {},
   "outputs": [],
   "source": [
    "def calculate_value_on_data_set_2 (ipsi_contra_data_set,function,column_name):\n",
    "    \n",
    "    df_ipsi_next_list_pre = []\n",
    "    df_ipsi_next_list_post = []\n",
    "    df_contra_next_list_pre = []\n",
    "    df_contra_next_list_post = []\n",
    "    \n",
    "    df_output = pd.DataFrame()\n",
    "\n",
    "    for data_ipsi_contra in ipsi_contra_data_set:\n",
    "        \n",
    "        value_ipsi_next_pre = function(data_ipsi_contra[0])[0]\n",
    "        value_ipsi_next_post = function(data_ipsi_contra[0])[1]\n",
    "        value_contra_next_pre = function(data_ipsi_contra[1])[0]\n",
    "        value_contra_next_post = function(data_ipsi_contra[1])[1]\n",
    "       \n",
    "    \n",
    "    \n",
    "        if value_ipsi_next_pre == []:\n",
    "            print (\"empty\")\n",
    "        else: \n",
    "            df_ipsi_next_list_pre.append(value_ipsi_next_pre)\n",
    "        \n",
    "        if value_ipsi_next_post == []:\n",
    "            print (\"empty\")\n",
    "        else: \n",
    "            df_ipsi_next_list_post.append(value_ipsi_next_post)\n",
    "            \n",
    "        if value_contra_next_pre == []:\n",
    "            print (\"empty\")\n",
    "        else: \n",
    "            df_contra_next_list_pre.append(value_contra_next_pre)\n",
    "\n",
    "        if value_contra_next_post == []:\n",
    "            print (\"empty\")\n",
    "        else: \n",
    "            df_contra_next_list_post.append(value_contra_next_post)\n",
    "        \n",
    "        \n",
    "#     df_output [\"ipsi_pre_\"+column_name] = df_ipsi_next_list_pre\n",
    "#     df_output [\"ipsi_post_\"+column_name] = df_ipsi_next_list_post\n",
    "    \n",
    "#     df_output [\"contra_pre_\"+column_name] = df_contra_next_list_pre\n",
    "#     df_output [\"contra_post_\"+column_name] = df_contra_next_list_post\n",
    "    #save outputs.. \n",
    "    \n",
    "    return (df_ipsi_next_list_pre,df_ipsi_next_list_post,df_contra_next_list_pre,df_contra_next_list_post)"
   ]
  },
  {
   "cell_type": "code",
   "execution_count": null,
   "metadata": {},
   "outputs": [],
   "source": [
    "r_ws_period_d1_data_set[0][0]"
   ]
  },
  {
   "cell_type": "code",
   "execution_count": null,
   "metadata": {
    "scrolled": true
   },
   "outputs": [],
   "source": [
    "r_ls_period_d1_avgSig_pre_post_choice_perSession = calculate_value_on_data_set_2(r_ws_period_d1_data_set,\n",
    "                                                                                 avg_pre_post_choice_perSession,\n",
    "                                                                                 \"r_ws_d1\")"
   ]
  },
  {
   "cell_type": "code",
   "execution_count": null,
   "metadata": {},
   "outputs": [],
   "source": [
    "r_ls_period_d2_avgSig_pre_post_choice_perSession = calculate_value_on_data_set_2(r_ls_period_d2_data_set,\n",
    "                                                                 avg_pre_post_choice_perSession,\n",
    "                                                                  \"r_ls_d2\")"
   ]
  },
  {
   "cell_type": "code",
   "execution_count": null,
   "metadata": {},
   "outputs": [],
   "source": [
    "r_wr_period_d1_avgSig_pre_post_choice_perSession = calculate_value_on_data_set_2(r_wr_period_d1_data_set,\n",
    "                                                                 avg_pre_post_choice_perSession,\n",
    "                                                                 \"r_wr_d1\")"
   ]
  },
  {
   "cell_type": "code",
   "execution_count": null,
   "metadata": {},
   "outputs": [],
   "source": [
    "r_wr_period_d2_avgSig_pre_post_choice_perSession = calculate_value_on_data_set_2(r_wr_period_d2_data_set,\n",
    "                                                                 avg_pre_post_choice_perSession,\n",
    "                                                                  \"r_wr_d2\")"
   ]
  },
  {
   "cell_type": "code",
   "execution_count": null,
   "metadata": {},
   "outputs": [],
   "source": [
    "result = pd.concat([r_ls_period_d1_avgSig_pre_post_choice_perSession,\n",
    "                    r_ls_period_d2_avgSig_pre_post_choice_perSession,\n",
    "                    r_wr_period_d1_avgSig_pre_post_choice_perSession,\n",
    "                    r_wr_period_d2_avgSig_pre_post_choice_perSession],axis=1)"
   ]
  },
  {
   "cell_type": "code",
   "execution_count": null,
   "metadata": {},
   "outputs": [],
   "source": [
    "result"
   ]
  },
  {
   "cell_type": "code",
   "execution_count": null,
   "metadata": {},
   "outputs": [],
   "source": [
    "result.to_csv(cache_dir_plt+\"/data_set_calculations_signal_pre_post_choice_right_side.csv\")"
   ]
  },
  {
   "cell_type": "code",
   "execution_count": null,
   "metadata": {},
   "outputs": [],
   "source": []
  }
 ],
 "metadata": {
  "celltoolbar": "Tags",
  "kernelspec": {
   "display_name": "Python 3",
   "language": "python",
   "name": "python3"
  },
  "language_info": {
   "codemirror_mode": {
    "name": "ipython",
    "version": 3
   },
   "file_extension": ".py",
   "mimetype": "text/x-python",
   "name": "python",
   "nbconvert_exporter": "python",
   "pygments_lexer": "ipython3",
   "version": "3.7.3"
  }
 },
 "nbformat": 4,
 "nbformat_minor": 4
}
