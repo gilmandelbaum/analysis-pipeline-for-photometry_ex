{
 "cells": [
  {
   "cell_type": "code",
   "execution_count": 5,
   "metadata": {},
   "outputs": [],
   "source": [
    "import pickle\n",
    "from pathlib import Path\n",
    "import pandas as pd \n",
    "import os\n",
    "import sys\n",
    "import papermill as pm\n",
    "import getpass\n"
   ]
  },
  {
   "cell_type": "code",
   "execution_count": 6,
   "metadata": {},
   "outputs": [],
   "source": [
    "import data_set_analysis_helper_functions as ahf"
   ]
  },
  {
   "cell_type": "code",
   "execution_count": 7,
   "metadata": {},
   "outputs": [
    {
     "data": {
      "text/plain": [
       "'/anaconda3/bin/python3'"
      ]
     },
     "execution_count": 7,
     "metadata": {},
     "output_type": "execute_result"
    }
   ],
   "source": [
    "sys.executable"
   ]
  },
  {
   "cell_type": "code",
   "execution_count": 8,
   "metadata": {},
   "outputs": [],
   "source": [
    "path = \"/Volumes/GilInVivoPaper.large/2.Photometry_in_str/2.raw_data_final_output_new_version/\""
   ]
  },
  {
   "cell_type": "code",
   "execution_count": null,
   "metadata": {},
   "outputs": [],
   "source": []
  },
  {
   "cell_type": "code",
   "execution_count": 11,
   "metadata": {},
   "outputs": [],
   "source": [
    "# #add the github path that will run the notebooks: \n",
    "# username = getpass.getuser() # gets the username from the current comp \n",
    "# print (username)"
   ]
  },
  {
   "cell_type": "code",
   "execution_count": 12,
   "metadata": {},
   "outputs": [],
   "source": [
    "# sys.path.append('/Users/{:}/github/analysis-pipeline-for-photometry_ex/'.format(username))\n",
    "# nb_path = sys.path[-1]\n",
    "# nb_path"
   ]
  },
  {
   "cell_type": "code",
   "execution_count": 13,
   "metadata": {},
   "outputs": [],
   "source": [
    "list_of_periods=['Real_nTrials',\n",
    "                 'Reward_NoReward_tag',\n",
    "                 'ENL_tag',\n",
    "                 'Cue_to_Sel_tag',\n",
    "                 'Cue_to_Sel_fromPrevTrial_tag',\n",
    "                 'firstENLp_tag',\n",
    "                 'pre_Reward_NoReward_tag',\n",
    "                 'post_Reward_NoReward_tag',\n",
    "                 'pre_ENL_tag',\n",
    "                 'post_ENL_tag',\n",
    "                 'pre_Cue_to_Sel_tag',\n",
    "                 'post_Cue_to_Sel_tag',\n",
    "                 'pre_Cue_to_Sel_fromPrevTrial_tag',\n",
    "                 'post_Cue_to_Sel_fromPrevTrial_tag',\n",
    "                 'pre_firstENLp_tag',\n",
    "                 'post_firstENLp_tag',\n",
    "                 'first_600_bins_Reward_NoReward_tag',\n",
    "                 'last_200_bins_ENL_tag',\n",
    "                 'first_15_bins_Cue_to_Sel_tag',\n",
    "                 'first_15_bins_Cue_to_Sel_fromPrevTrial_tag',\n",
    "                 'first_20_bins_firstENLp_tag',\n",
    "                 'combined_periods_1']"
   ]
  },
  {
   "cell_type": "code",
   "execution_count": null,
   "metadata": {},
   "outputs": [],
   "source": []
  }
 ],
 "metadata": {
  "kernelspec": {
   "display_name": "Python 3",
   "language": "python",
   "name": "python3"
  },
  "language_info": {
   "codemirror_mode": {
    "name": "ipython",
    "version": 3
   },
   "file_extension": ".py",
   "mimetype": "text/x-python",
   "name": "python",
   "nbconvert_exporter": "python",
   "pygments_lexer": "ipython3",
   "version": "3.7.3"
  }
 },
 "nbformat": 4,
 "nbformat_minor": 4
}
