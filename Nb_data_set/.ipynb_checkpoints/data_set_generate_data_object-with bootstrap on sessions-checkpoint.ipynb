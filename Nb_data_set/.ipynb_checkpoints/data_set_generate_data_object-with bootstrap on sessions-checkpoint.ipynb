{
 "cells": [
  {
   "cell_type": "code",
   "execution_count": 1,
   "metadata": {},
   "outputs": [],
   "source": [
    "import pickle\n",
    "from pathlib import Path\n",
    "import pandas as pd \n",
    "import os\n",
    "import sys"
   ]
  },
  {
   "cell_type": "code",
   "execution_count": 2,
   "metadata": {},
   "outputs": [],
   "source": [
    "import data_set_analysis_helper_functions as ahf"
   ]
  },
  {
   "cell_type": "code",
   "execution_count": 3,
   "metadata": {},
   "outputs": [
    {
     "data": {
      "text/plain": [
       "'/anaconda3/bin/python3'"
      ]
     },
     "execution_count": 3,
     "metadata": {},
     "output_type": "execute_result"
    }
   ],
   "source": [
    "sys.executable"
   ]
  },
  {
   "cell_type": "markdown",
   "metadata": {},
   "source": [
    "# Import the data and where to save it "
   ]
  },
  {
   "cell_type": "code",
   "execution_count": 4,
   "metadata": {},
   "outputs": [],
   "source": [
    "path = \"/Volumes/GilInVivoPaper.large/2.Photometry_in_str/2.dual_color_photo_full_data_set_analysis/\""
   ]
  },
  {
   "cell_type": "markdown",
   "metadata": {},
   "source": [
    "# Update depending on analysis: "
   ]
  },
  {
   "cell_type": "code",
   "execution_count": 5,
   "metadata": {},
   "outputs": [],
   "source": [
    "seq_str = '0a1a2a3b4abcde5a6a7b'\n",
    "HowManyBack=1"
   ]
  },
  {
   "cell_type": "code",
   "execution_count": 6,
   "metadata": {},
   "outputs": [],
   "source": [
    "folderName=\"dual_color_photo_full_data_set\" #folder where the plot data_set will be saved "
   ]
  },
  {
   "cell_type": "code",
   "execution_count": 7,
   "metadata": {},
   "outputs": [],
   "source": [
    "path_to_save = path+\"/\"+folderName+\"/\"+seq_str"
   ]
  },
  {
   "cell_type": "markdown",
   "metadata": {},
   "source": []
  },
  {
   "cell_type": "markdown",
   "metadata": {},
   "source": [
    "# import the data table: "
   ]
  },
  {
   "cell_type": "code",
   "execution_count": 8,
   "metadata": {},
   "outputs": [],
   "source": [
    "#name of xlsx file that has the sessions we want to run: \n",
    "MasterSheetName= 'dual_color_photo_master_spread_sheet'"
   ]
  },
  {
   "cell_type": "code",
   "execution_count": 9,
   "metadata": {},
   "outputs": [],
   "source": [
    "Mouse_Date_FileName = pd.read_excel(path+'/'+MasterSheetName+'.xlsx') #mdf is mouse data file "
   ]
  },
  {
   "cell_type": "code",
   "execution_count": 10,
   "metadata": {},
   "outputs": [],
   "source": [
    "def bootstrap_sessions (Mouse_Date_FileName):\n",
    "    Mouse_Date_FileName_bootstrap = pd.DataFrame()\n",
    "    mice_list = Mouse_Date_FileName[\"Mouse\"].unique()\n",
    "    for mouse in mice_list: \n",
    "        df_mouse_bootstrap  = Mouse_Date_FileName[Mouse_Date_FileName['Mouse']==mouse].sample(n = 10, replace = True) \n",
    "        Mouse_Date_FileName_bootstrap = pd.concat([Mouse_Date_FileName_bootstrap,df_mouse_bootstrap])\n",
    "        Mouse_Date_FileName_bootstrap = Mouse_Date_FileName_bootstrap.reset_index(drop=True)\n",
    "    return (Mouse_Date_FileName_bootstrap)"
   ]
  },
  {
   "cell_type": "code",
   "execution_count": 11,
   "metadata": {},
   "outputs": [],
   "source": [
    "Mouse_Date_FileName_bootstrap=bootstrap_sessions (Mouse_Date_FileName)"
   ]
  },
  {
   "cell_type": "code",
   "execution_count": 13,
   "metadata": {},
   "outputs": [
    {
     "data": {
      "text/html": [
       "<div>\n",
       "<style scoped>\n",
       "    .dataframe tbody tr th:only-of-type {\n",
       "        vertical-align: middle;\n",
       "    }\n",
       "\n",
       "    .dataframe tbody tr th {\n",
       "        vertical-align: top;\n",
       "    }\n",
       "\n",
       "    .dataframe thead th {\n",
       "        text-align: right;\n",
       "    }\n",
       "</style>\n",
       "<table border=\"1\" class=\"dataframe\">\n",
       "  <thead>\n",
       "    <tr style=\"text-align: right;\">\n",
       "      <th></th>\n",
       "      <th>Mouse</th>\n",
       "      <th>Date</th>\n",
       "      <th>File name</th>\n",
       "    </tr>\n",
       "  </thead>\n",
       "  <tbody>\n",
       "    <tr>\n",
       "      <th>0</th>\n",
       "      <td>T163</td>\n",
       "      <td>181128</td>\n",
       "      <td>T163-115220</td>\n",
       "    </tr>\n",
       "    <tr>\n",
       "      <th>1</th>\n",
       "      <td>T163</td>\n",
       "      <td>181213</td>\n",
       "      <td>T163-094646</td>\n",
       "    </tr>\n",
       "    <tr>\n",
       "      <th>2</th>\n",
       "      <td>T163</td>\n",
       "      <td>181130</td>\n",
       "      <td>T163-133215</td>\n",
       "    </tr>\n",
       "    <tr>\n",
       "      <th>3</th>\n",
       "      <td>T163</td>\n",
       "      <td>181213</td>\n",
       "      <td>T163-094646</td>\n",
       "    </tr>\n",
       "    <tr>\n",
       "      <th>4</th>\n",
       "      <td>T163</td>\n",
       "      <td>181130</td>\n",
       "      <td>T163-133215</td>\n",
       "    </tr>\n",
       "    <tr>\n",
       "      <th>5</th>\n",
       "      <td>T163</td>\n",
       "      <td>181206</td>\n",
       "      <td>T163-112720</td>\n",
       "    </tr>\n",
       "    <tr>\n",
       "      <th>6</th>\n",
       "      <td>T163</td>\n",
       "      <td>181207</td>\n",
       "      <td>T163-123432</td>\n",
       "    </tr>\n",
       "    <tr>\n",
       "      <th>7</th>\n",
       "      <td>T163</td>\n",
       "      <td>181130</td>\n",
       "      <td>T163-133215</td>\n",
       "    </tr>\n",
       "    <tr>\n",
       "      <th>8</th>\n",
       "      <td>T163</td>\n",
       "      <td>181206</td>\n",
       "      <td>T163-112720</td>\n",
       "    </tr>\n",
       "    <tr>\n",
       "      <th>9</th>\n",
       "      <td>T163</td>\n",
       "      <td>181207</td>\n",
       "      <td>T163-123432</td>\n",
       "    </tr>\n",
       "    <tr>\n",
       "      <th>10</th>\n",
       "      <td>T164</td>\n",
       "      <td>181205</td>\n",
       "      <td>T164-123550</td>\n",
       "    </tr>\n",
       "    <tr>\n",
       "      <th>11</th>\n",
       "      <td>T164</td>\n",
       "      <td>181204</td>\n",
       "      <td>T164-121548</td>\n",
       "    </tr>\n",
       "  </tbody>\n",
       "</table>\n",
       "</div>"
      ],
      "text/plain": [
       "   Mouse    Date    File name\n",
       "0   T163  181128  T163-115220\n",
       "1   T163  181213  T163-094646\n",
       "2   T163  181130  T163-133215\n",
       "3   T163  181213  T163-094646\n",
       "4   T163  181130  T163-133215\n",
       "5   T163  181206  T163-112720\n",
       "6   T163  181207  T163-123432\n",
       "7   T163  181130  T163-133215\n",
       "8   T163  181206  T163-112720\n",
       "9   T163  181207  T163-123432\n",
       "10  T164  181205  T164-123550\n",
       "11  T164  181204  T164-121548"
      ]
     },
     "execution_count": 13,
     "metadata": {},
     "output_type": "execute_result"
    }
   ],
   "source": [
    "Mouse_Date_FileName_bootstrap.head(12)"
   ]
  },
  {
   "cell_type": "markdown",
   "metadata": {},
   "source": [
    "# Import the full data structure for each session: "
   ]
  },
  {
   "cell_type": "code",
   "execution_count": 15,
   "metadata": {
    "scrolled": true
   },
   "outputs": [
    {
     "name": "stdout",
     "output_type": "stream",
     "text": [
      "session number 1 was imported (out of 80)\n",
      "/Volumes/GilInVivoPaper.large/2.Photometry_in_str/2.dual_color_photo_full_data_set_analysis/T163/2018_11_28__T163/1_Back/T163_2018_11_28Notebook_6_a_seq0a1a2a3a4abcde5a6a.pickle\n",
      "session number 2 was imported (out of 80)\n",
      "/Volumes/GilInVivoPaper.large/2.Photometry_in_str/2.dual_color_photo_full_data_set_analysis/T163/2018_12_13__T163/1_Back/T163_2018_12_13Notebook_6_a_seq0a1a2a3a4abcde5a6a.pickle\n",
      "session number 3 was imported (out of 80)\n",
      "/Volumes/GilInVivoPaper.large/2.Photometry_in_str/2.dual_color_photo_full_data_set_analysis/T163/2018_11_30__T163/1_Back/T163_2018_11_30Notebook_6_a_seq0a1a2a3a4abcde5a6a.pickle\n",
      "session number 4 was imported (out of 80)\n",
      "/Volumes/GilInVivoPaper.large/2.Photometry_in_str/2.dual_color_photo_full_data_set_analysis/T163/2018_12_13__T163/1_Back/T163_2018_12_13Notebook_6_a_seq0a1a2a3a4abcde5a6a.pickle\n",
      "session number 5 was imported (out of 80)\n",
      "/Volumes/GilInVivoPaper.large/2.Photometry_in_str/2.dual_color_photo_full_data_set_analysis/T163/2018_11_30__T163/1_Back/T163_2018_11_30Notebook_6_a_seq0a1a2a3a4abcde5a6a.pickle\n",
      "session number 6 was imported (out of 80)\n",
      "/Volumes/GilInVivoPaper.large/2.Photometry_in_str/2.dual_color_photo_full_data_set_analysis/T163/2018_12_06__T163/1_Back/T163_2018_12_06Notebook_6_a_seq0a1a2a3a4abcde5a6a.pickle\n",
      "session number 7 was imported (out of 80)\n",
      "/Volumes/GilInVivoPaper.large/2.Photometry_in_str/2.dual_color_photo_full_data_set_analysis/T163/2018_12_07__T163/1_Back/T163_2018_12_07Notebook_6_a_seq0a1a2a3a4abcde5a6a.pickle\n",
      "session number 8 was imported (out of 80)\n",
      "/Volumes/GilInVivoPaper.large/2.Photometry_in_str/2.dual_color_photo_full_data_set_analysis/T163/2018_11_30__T163/1_Back/T163_2018_11_30Notebook_6_a_seq0a1a2a3a4abcde5a6a.pickle\n",
      "session number 9 was imported (out of 80)\n",
      "/Volumes/GilInVivoPaper.large/2.Photometry_in_str/2.dual_color_photo_full_data_set_analysis/T163/2018_12_06__T163/1_Back/T163_2018_12_06Notebook_6_a_seq0a1a2a3a4abcde5a6a.pickle\n",
      "session number 10 was imported (out of 80)\n",
      "/Volumes/GilInVivoPaper.large/2.Photometry_in_str/2.dual_color_photo_full_data_set_analysis/T163/2018_12_07__T163/1_Back/T163_2018_12_07Notebook_6_a_seq0a1a2a3a4abcde5a6a.pickle\n",
      "session number 11 was imported (out of 80)\n",
      "/Volumes/GilInVivoPaper.large/2.Photometry_in_str/2.dual_color_photo_full_data_set_analysis/T164/2018_12_05__T164/1_Back/T164_2018_12_05Notebook_6_a_seq0a1a2a3a4abcde5a6a.pickle\n",
      "session number 12 was imported (out of 80)\n",
      "/Volumes/GilInVivoPaper.large/2.Photometry_in_str/2.dual_color_photo_full_data_set_analysis/T164/2018_12_04__T164/1_Back/T164_2018_12_04Notebook_6_a_seq0a1a2a3a4abcde5a6a.pickle\n",
      "session number 13 was imported (out of 80)\n",
      "/Volumes/GilInVivoPaper.large/2.Photometry_in_str/2.dual_color_photo_full_data_set_analysis/T164/2018_12_13__T164/1_Back/T164_2018_12_13Notebook_6_a_seq0a1a2a3a4abcde5a6a.pickle\n",
      "session number 14 was imported (out of 80)\n",
      "/Volumes/GilInVivoPaper.large/2.Photometry_in_str/2.dual_color_photo_full_data_set_analysis/T164/2018_11_28__T164/1_Back/T164_2018_11_28Notebook_6_a_seq0a1a2a3a4abcde5a6a.pickle\n",
      "session number 15 was imported (out of 80)\n",
      "/Volumes/GilInVivoPaper.large/2.Photometry_in_str/2.dual_color_photo_full_data_set_analysis/T164/2018_12_05__T164/1_Back/T164_2018_12_05Notebook_6_a_seq0a1a2a3a4abcde5a6a.pickle\n",
      "session number 16 was imported (out of 80)\n",
      "/Volumes/GilInVivoPaper.large/2.Photometry_in_str/2.dual_color_photo_full_data_set_analysis/T164/2018_12_10__T164/1_Back/T164_2018_12_10Notebook_6_a_seq0a1a2a3a4abcde5a6a.pickle\n",
      "session number 17 was imported (out of 80)\n",
      "/Volumes/GilInVivoPaper.large/2.Photometry_in_str/2.dual_color_photo_full_data_set_analysis/T164/2018_12_05__T164/1_Back/T164_2018_12_05Notebook_6_a_seq0a1a2a3a4abcde5a6a.pickle\n",
      "session number 18 was imported (out of 80)\n",
      "/Volumes/GilInVivoPaper.large/2.Photometry_in_str/2.dual_color_photo_full_data_set_analysis/T164/2018_11_28__T164/1_Back/T164_2018_11_28Notebook_6_a_seq0a1a2a3a4abcde5a6a.pickle\n",
      "session number 19 was imported (out of 80)\n",
      "/Volumes/GilInVivoPaper.large/2.Photometry_in_str/2.dual_color_photo_full_data_set_analysis/T164/2018_11_27__T164/1_Back/T164_2018_11_27Notebook_6_a_seq0a1a2a3a4abcde5a6a.pickle\n",
      "session number 20 was imported (out of 80)\n",
      "/Volumes/GilInVivoPaper.large/2.Photometry_in_str/2.dual_color_photo_full_data_set_analysis/T164/2018_12_05__T164/1_Back/T164_2018_12_05Notebook_6_a_seq0a1a2a3a4abcde5a6a.pickle\n",
      "session number 21 was imported (out of 80)\n",
      "/Volumes/GilInVivoPaper.large/2.Photometry_in_str/2.dual_color_photo_full_data_set_analysis/T169/2019_02_19__T169/1_Back/T169_2019_02_19Notebook_6_a_seq0a1a2a3a4abcde5a6a.pickle\n",
      "session number 22 was imported (out of 80)\n",
      "/Volumes/GilInVivoPaper.large/2.Photometry_in_str/2.dual_color_photo_full_data_set_analysis/T169/2019_02_13__T169/1_Back/T169_2019_02_13Notebook_6_a_seq0a1a2a3a4abcde5a6a.pickle\n",
      "session number 23 was imported (out of 80)\n",
      "/Volumes/GilInVivoPaper.large/2.Photometry_in_str/2.dual_color_photo_full_data_set_analysis/T169/2019_02_20__T169/1_Back/T169_2019_02_20Notebook_6_a_seq0a1a2a3a4abcde5a6a.pickle\n",
      "session number 24 was imported (out of 80)\n",
      "/Volumes/GilInVivoPaper.large/2.Photometry_in_str/2.dual_color_photo_full_data_set_analysis/T169/2019_02_27__T169/1_Back/T169_2019_02_27Notebook_6_a_seq0a1a2a3a4abcde5a6a.pickle\n",
      "session number 25 was imported (out of 80)\n",
      "/Volumes/GilInVivoPaper.large/2.Photometry_in_str/2.dual_color_photo_full_data_set_analysis/T169/2019_02_12__T169/1_Back/T169_2019_02_12Notebook_6_a_seq0a1a2a3a4abcde5a6a.pickle\n",
      "session number 26 was imported (out of 80)\n",
      "/Volumes/GilInVivoPaper.large/2.Photometry_in_str/2.dual_color_photo_full_data_set_analysis/T169/2019_02_28__T169/1_Back/T169_2019_02_28Notebook_6_a_seq0a1a2a3a4abcde5a6a.pickle\n",
      "session number 27 was imported (out of 80)\n",
      "/Volumes/GilInVivoPaper.large/2.Photometry_in_str/2.dual_color_photo_full_data_set_analysis/T169/2019_02_19__T169/1_Back/T169_2019_02_19Notebook_6_a_seq0a1a2a3a4abcde5a6a.pickle\n",
      "session number 28 was imported (out of 80)\n",
      "/Volumes/GilInVivoPaper.large/2.Photometry_in_str/2.dual_color_photo_full_data_set_analysis/T169/2019_02_01__T169/1_Back/T169_2019_02_01Notebook_6_a_seq0a1a2a3a4abcde5a6a.pickle\n",
      "session number 29 was imported (out of 80)\n",
      "/Volumes/GilInVivoPaper.large/2.Photometry_in_str/2.dual_color_photo_full_data_set_analysis/T169/2019_02_25__T169/1_Back/T169_2019_02_25Notebook_6_a_seq0a1a2a3a4abcde5a6a.pickle\n",
      "session number 30 was imported (out of 80)\n",
      "/Volumes/GilInVivoPaper.large/2.Photometry_in_str/2.dual_color_photo_full_data_set_analysis/T169/2019_02_28__T169/1_Back/T169_2019_02_28Notebook_6_a_seq0a1a2a3a4abcde5a6a.pickle\n",
      "session number 31 was imported (out of 80)\n",
      "/Volumes/GilInVivoPaper.large/2.Photometry_in_str/2.dual_color_photo_full_data_set_analysis/T171/2019_02_11__T171/1_Back/T171_2019_02_11Notebook_6_a_seq0a1a2a3a4abcde5a6a.pickle\n",
      "session number 32 was imported (out of 80)\n",
      "/Volumes/GilInVivoPaper.large/2.Photometry_in_str/2.dual_color_photo_full_data_set_analysis/T171/2019_02_26__T171/1_Back/T171_2019_02_26Notebook_6_a_seq0a1a2a3a4abcde5a6a.pickle\n",
      "session number 33 was imported (out of 80)\n",
      "/Volumes/GilInVivoPaper.large/2.Photometry_in_str/2.dual_color_photo_full_data_set_analysis/T171/2019_01_30__T171/1_Back/T171_2019_01_30Notebook_6_a_seq0a1a2a3a4abcde5a6a.pickle\n",
      "session number 34 was imported (out of 80)\n",
      "/Volumes/GilInVivoPaper.large/2.Photometry_in_str/2.dual_color_photo_full_data_set_analysis/T171/2019_02_27__T171/1_Back/T171_2019_02_27Notebook_6_a_seq0a1a2a3a4abcde5a6a.pickle\n",
      "session number 35 was imported (out of 80)\n",
      "/Volumes/GilInVivoPaper.large/2.Photometry_in_str/2.dual_color_photo_full_data_set_analysis/T171/2019_02_20__T171/1_Back/T171_2019_02_20Notebook_6_a_seq0a1a2a3a4abcde5a6a.pickle\n",
      "session number 36 was imported (out of 80)\n",
      "/Volumes/GilInVivoPaper.large/2.Photometry_in_str/2.dual_color_photo_full_data_set_analysis/T171/2019_02_11__T171/1_Back/T171_2019_02_11Notebook_6_a_seq0a1a2a3a4abcde5a6a.pickle\n",
      "session number 37 was imported (out of 80)\n",
      "/Volumes/GilInVivoPaper.large/2.Photometry_in_str/2.dual_color_photo_full_data_set_analysis/T171/2019_02_21__T171/1_Back/T171_2019_02_21Notebook_6_a_seq0a1a2a3a4abcde5a6a.pickle\n",
      "session number 38 was imported (out of 80)\n",
      "/Volumes/GilInVivoPaper.large/2.Photometry_in_str/2.dual_color_photo_full_data_set_analysis/T171/2019_02_21__T171/1_Back/T171_2019_02_21Notebook_6_a_seq0a1a2a3a4abcde5a6a.pickle\n"
     ]
    },
    {
     "name": "stdout",
     "output_type": "stream",
     "text": [
      "session number 39 was imported (out of 80)\n",
      "/Volumes/GilInVivoPaper.large/2.Photometry_in_str/2.dual_color_photo_full_data_set_analysis/T171/2019_02_11__T171/1_Back/T171_2019_02_11Notebook_6_a_seq0a1a2a3a4abcde5a6a.pickle\n",
      "session number 40 was imported (out of 80)\n",
      "/Volumes/GilInVivoPaper.large/2.Photometry_in_str/2.dual_color_photo_full_data_set_analysis/T171/2019_02_11__T171/1_Back/T171_2019_02_11Notebook_6_a_seq0a1a2a3a4abcde5a6a.pickle\n",
      "session number 41 was imported (out of 80)\n",
      "/Volumes/GilInVivoPaper.large/2.Photometry_in_str/2.dual_color_photo_full_data_set_analysis/T186/2019_04_01__T186/1_Back/T186_2019_04_01Notebook_6_a_seq0a1a2a3a4abcde5a6a.pickle\n",
      "session number 42 was imported (out of 80)\n",
      "/Volumes/GilInVivoPaper.large/2.Photometry_in_str/2.dual_color_photo_full_data_set_analysis/T186/2019_03_28__T186/1_Back/T186_2019_03_28Notebook_6_a_seq0a1a2a3a4abcde5a6a.pickle\n",
      "session number 43 was imported (out of 80)\n",
      "/Volumes/GilInVivoPaper.large/2.Photometry_in_str/2.dual_color_photo_full_data_set_analysis/T186/2019_03_22__T186/1_Back/T186_2019_03_22Notebook_6_a_seq0a1a2a3a4abcde5a6a.pickle\n",
      "session number 44 was imported (out of 80)\n",
      "/Volumes/GilInVivoPaper.large/2.Photometry_in_str/2.dual_color_photo_full_data_set_analysis/T186/2019_04_02__T186/1_Back/T186_2019_04_02Notebook_6_a_seq0a1a2a3a4abcde5a6a.pickle\n",
      "session number 45 was imported (out of 80)\n",
      "/Volumes/GilInVivoPaper.large/2.Photometry_in_str/2.dual_color_photo_full_data_set_analysis/T186/2019_04_02__T186/1_Back/T186_2019_04_02Notebook_6_a_seq0a1a2a3a4abcde5a6a.pickle\n",
      "session number 46 was imported (out of 80)\n",
      "/Volumes/GilInVivoPaper.large/2.Photometry_in_str/2.dual_color_photo_full_data_set_analysis/T186/2019_04_05__T186/1_Back/T186_2019_04_05Notebook_6_a_seq0a1a2a3a4abcde5a6a.pickle\n",
      "session number 47 was imported (out of 80)\n",
      "/Volumes/GilInVivoPaper.large/2.Photometry_in_str/2.dual_color_photo_full_data_set_analysis/T186/2019_04_02__T186/1_Back/T186_2019_04_02Notebook_6_a_seq0a1a2a3a4abcde5a6a.pickle\n",
      "session number 48 was imported (out of 80)\n",
      "/Volumes/GilInVivoPaper.large/2.Photometry_in_str/2.dual_color_photo_full_data_set_analysis/T186/2019_03_22__T186/1_Back/T186_2019_03_22Notebook_6_a_seq0a1a2a3a4abcde5a6a.pickle\n",
      "session number 49 was imported (out of 80)\n",
      "/Volumes/GilInVivoPaper.large/2.Photometry_in_str/2.dual_color_photo_full_data_set_analysis/T186/2019_04_02__T186/1_Back/T186_2019_04_02Notebook_6_a_seq0a1a2a3a4abcde5a6a.pickle\n",
      "session number 50 was imported (out of 80)\n",
      "/Volumes/GilInVivoPaper.large/2.Photometry_in_str/2.dual_color_photo_full_data_set_analysis/T186/2019_03_27__T186/1_Back/T186_2019_03_27Notebook_6_a_seq0a1a2a3a4abcde5a6a.pickle\n",
      "session number 51 was imported (out of 80)\n",
      "/Volumes/GilInVivoPaper.large/2.Photometry_in_str/2.dual_color_photo_full_data_set_analysis/T187/2019_04_03__T187/1_Back/T187_2019_04_03Notebook_6_a_seq0a1a2a3a4abcde5a6a.pickle\n",
      "session number 52 was imported (out of 80)\n",
      "/Volumes/GilInVivoPaper.large/2.Photometry_in_str/2.dual_color_photo_full_data_set_analysis/T187/2019_04_03__T187/1_Back/T187_2019_04_03Notebook_6_a_seq0a1a2a3a4abcde5a6a.pickle\n",
      "session number 53 was imported (out of 80)\n",
      "/Volumes/GilInVivoPaper.large/2.Photometry_in_str/2.dual_color_photo_full_data_set_analysis/T187/2019_03_28__T187/1_Back/T187_2019_03_28Notebook_6_a_seq0a1a2a3a4abcde5a6a.pickle\n",
      "session number 54 was imported (out of 80)\n",
      "/Volumes/GilInVivoPaper.large/2.Photometry_in_str/2.dual_color_photo_full_data_set_analysis/T187/2019_04_03__T187/1_Back/T187_2019_04_03Notebook_6_a_seq0a1a2a3a4abcde5a6a.pickle\n",
      "session number 55 was imported (out of 80)\n",
      "/Volumes/GilInVivoPaper.large/2.Photometry_in_str/2.dual_color_photo_full_data_set_analysis/T187/2019_03_28__T187/1_Back/T187_2019_03_28Notebook_6_a_seq0a1a2a3a4abcde5a6a.pickle\n",
      "session number 56 was imported (out of 80)\n",
      "/Volumes/GilInVivoPaper.large/2.Photometry_in_str/2.dual_color_photo_full_data_set_analysis/T187/2019_03_28__T187/1_Back/T187_2019_03_28Notebook_6_a_seq0a1a2a3a4abcde5a6a.pickle\n",
      "session number 57 was imported (out of 80)\n",
      "/Volumes/GilInVivoPaper.large/2.Photometry_in_str/2.dual_color_photo_full_data_set_analysis/T187/2019_03_22__T187/1_Back/T187_2019_03_22Notebook_6_a_seq0a1a2a3a4abcde5a6a.pickle\n",
      "session number 58 was imported (out of 80)\n",
      "/Volumes/GilInVivoPaper.large/2.Photometry_in_str/2.dual_color_photo_full_data_set_analysis/T187/2019_04_03__T187/1_Back/T187_2019_04_03Notebook_6_a_seq0a1a2a3a4abcde5a6a.pickle\n",
      "session number 59 was imported (out of 80)\n",
      "/Volumes/GilInVivoPaper.large/2.Photometry_in_str/2.dual_color_photo_full_data_set_analysis/T187/2019_04_04__T187/1_Back/T187_2019_04_04Notebook_6_a_seq0a1a2a3a4abcde5a6a.pickle\n",
      "session number 60 was imported (out of 80)\n",
      "/Volumes/GilInVivoPaper.large/2.Photometry_in_str/2.dual_color_photo_full_data_set_analysis/T187/2019_04_03__T187/1_Back/T187_2019_04_03Notebook_6_a_seq0a1a2a3a4abcde5a6a.pickle\n",
      "session number 61 was imported (out of 80)\n",
      "/Volumes/GilInVivoPaper.large/2.Photometry_in_str/2.dual_color_photo_full_data_set_analysis/T196/2019_05_07__T196/1_Back/T196_2019_05_07Notebook_6_a_seq0a1a2a3a4abcde5a6a.pickle\n",
      "session number 62 was imported (out of 80)\n",
      "/Volumes/GilInVivoPaper.large/2.Photometry_in_str/2.dual_color_photo_full_data_set_analysis/T196/2019_04_29__T196/1_Back/T196_2019_04_29Notebook_6_a_seq0a1a2a3a4abcde5a6a.pickle\n",
      "session number 63 was imported (out of 80)\n",
      "/Volumes/GilInVivoPaper.large/2.Photometry_in_str/2.dual_color_photo_full_data_set_analysis/T196/2019_05_07__T196/1_Back/T196_2019_05_07Notebook_6_a_seq0a1a2a3a4abcde5a6a.pickle\n",
      "session number 64 was imported (out of 80)\n",
      "/Volumes/GilInVivoPaper.large/2.Photometry_in_str/2.dual_color_photo_full_data_set_analysis/T196/2019_04_30__T196/1_Back/T196_2019_04_30Notebook_6_a_seq0a1a2a3a4abcde5a6a.pickle\n",
      "session number 65 was imported (out of 80)\n",
      "/Volumes/GilInVivoPaper.large/2.Photometry_in_str/2.dual_color_photo_full_data_set_analysis/T196/2019_04_22__T196/1_Back/T196_2019_04_22Notebook_6_a_seq0a1a2a3a4abcde5a6a.pickle\n",
      "session number 66 was imported (out of 80)\n",
      "/Volumes/GilInVivoPaper.large/2.Photometry_in_str/2.dual_color_photo_full_data_set_analysis/T196/2019_04_22__T196/1_Back/T196_2019_04_22Notebook_6_a_seq0a1a2a3a4abcde5a6a.pickle\n",
      "session number 67 was imported (out of 80)\n",
      "/Volumes/GilInVivoPaper.large/2.Photometry_in_str/2.dual_color_photo_full_data_set_analysis/T196/2019_04_22__T196/1_Back/T196_2019_04_22Notebook_6_a_seq0a1a2a3a4abcde5a6a.pickle\n",
      "session number 68 was imported (out of 80)\n",
      "/Volumes/GilInVivoPaper.large/2.Photometry_in_str/2.dual_color_photo_full_data_set_analysis/T196/2019_04_29__T196/1_Back/T196_2019_04_29Notebook_6_a_seq0a1a2a3a4abcde5a6a.pickle\n",
      "session number 69 was imported (out of 80)\n",
      "/Volumes/GilInVivoPaper.large/2.Photometry_in_str/2.dual_color_photo_full_data_set_analysis/T196/2019_04_29__T196/1_Back/T196_2019_04_29Notebook_6_a_seq0a1a2a3a4abcde5a6a.pickle\n",
      "session number 70 was imported (out of 80)\n",
      "/Volumes/GilInVivoPaper.large/2.Photometry_in_str/2.dual_color_photo_full_data_set_analysis/T196/2019_05_09__T196/1_Back/T196_2019_05_09Notebook_6_a_seq0a1a2a3a4abcde5a6a.pickle\n",
      "session number 71 was imported (out of 80)\n",
      "/Volumes/GilInVivoPaper.large/2.Photometry_in_str/2.dual_color_photo_full_data_set_analysis/T240/2019_08_30__T240/1_Back/T240_2019_08_30Notebook_6_a_seq0a1a2a3a4abcde5a6a.pickle\n",
      "session number 72 was imported (out of 80)\n",
      "/Volumes/GilInVivoPaper.large/2.Photometry_in_str/2.dual_color_photo_full_data_set_analysis/T240/2019_08_30__T240/1_Back/T240_2019_08_30Notebook_6_a_seq0a1a2a3a4abcde5a6a.pickle\n",
      "session number 73 was imported (out of 80)\n",
      "/Volumes/GilInVivoPaper.large/2.Photometry_in_str/2.dual_color_photo_full_data_set_analysis/T240/2019_08_22__T240/1_Back/T240_2019_08_22Notebook_6_a_seq0a1a2a3a4abcde5a6a.pickle\n",
      "session number 74 was imported (out of 80)\n",
      "/Volumes/GilInVivoPaper.large/2.Photometry_in_str/2.dual_color_photo_full_data_set_analysis/T240/2019_08_22__T240/1_Back/T240_2019_08_22Notebook_6_a_seq0a1a2a3a4abcde5a6a.pickle\n",
      "session number 75 was imported (out of 80)\n",
      "/Volumes/GilInVivoPaper.large/2.Photometry_in_str/2.dual_color_photo_full_data_set_analysis/T240/2019_08_27__T240/1_Back/T240_2019_08_27Notebook_6_a_seq0a1a2a3a4abcde5a6a.pickle\n",
      "session number 76 was imported (out of 80)\n",
      "/Volumes/GilInVivoPaper.large/2.Photometry_in_str/2.dual_color_photo_full_data_set_analysis/T240/2019_08_27__T240/1_Back/T240_2019_08_27Notebook_6_a_seq0a1a2a3a4abcde5a6a.pickle\n"
     ]
    },
    {
     "name": "stdout",
     "output_type": "stream",
     "text": [
      "session number 77 was imported (out of 80)\n",
      "/Volumes/GilInVivoPaper.large/2.Photometry_in_str/2.dual_color_photo_full_data_set_analysis/T240/2019_08_22__T240/1_Back/T240_2019_08_22Notebook_6_a_seq0a1a2a3a4abcde5a6a.pickle\n",
      "session number 78 was imported (out of 80)\n",
      "/Volumes/GilInVivoPaper.large/2.Photometry_in_str/2.dual_color_photo_full_data_set_analysis/T240/2019_09_27__T240/1_Back/T240_2019_09_27Notebook_6_a_seq0a1a2a3a4abcde5a6a.pickle\n",
      "session number 79 was imported (out of 80)\n",
      "/Volumes/GilInVivoPaper.large/2.Photometry_in_str/2.dual_color_photo_full_data_set_analysis/T240/2019_08_22__T240/1_Back/T240_2019_08_22Notebook_6_a_seq0a1a2a3a4abcde5a6a.pickle\n",
      "session number 80 was imported (out of 80)\n",
      "/Volumes/GilInVivoPaper.large/2.Photometry_in_str/2.dual_color_photo_full_data_set_analysis/T240/2019_08_30__T240/1_Back/T240_2019_08_30Notebook_6_a_seq0a1a2a3a4abcde5a6a.pickle\n",
      "CPU times: user 35.7 s, sys: 2.22 s, total: 37.9 s\n",
      "Wall time: 46.1 s\n"
     ]
    }
   ],
   "source": [
    "%%time\n",
    "PhotoData_perTrial_channels_data_set = ahf.extract_data_set(Mouse_Date_FileName_bootstrap,path,HowManyBack,seq_str)"
   ]
  },
  {
   "cell_type": "code",
   "execution_count": 16,
   "metadata": {},
   "outputs": [],
   "source": [
    "data_set = PhotoData_perTrial_channels_data_set.copy()"
   ]
  },
  {
   "cell_type": "code",
   "execution_count": 17,
   "metadata": {
    "scrolled": true
   },
   "outputs": [
    {
     "data": {
      "text/plain": [
       "['Real_nTrials',\n",
       " 'Reward_NoReward_tag',\n",
       " 'ENL_tag',\n",
       " 'Cue_to_Sel_tag',\n",
       " 'Cue_to_Sel_fromPrevTrial_tag',\n",
       " 'firstENLp_tag',\n",
       " 'pre_Reward_NoReward_tag',\n",
       " 'post_Reward_NoReward_tag',\n",
       " 'pre_ENL_tag',\n",
       " 'post_ENL_tag',\n",
       " 'pre_Cue_to_Sel_tag',\n",
       " 'post_Cue_to_Sel_tag',\n",
       " 'pre_Cue_to_Sel_fromPrevTrial_tag',\n",
       " 'post_Cue_to_Sel_fromPrevTrial_tag',\n",
       " 'pre_firstENLp_tag',\n",
       " 'post_firstENLp_tag',\n",
       " 'first_600_bins_Reward_NoReward_tag',\n",
       " 'last_200_bins_ENL_tag',\n",
       " 'first_15_bins_Cue_to_Sel_tag',\n",
       " 'first_15_bins_Cue_to_Sel_fromPrevTrial_tag',\n",
       " 'first_20_bins_firstENLp_tag',\n",
       " 'combined_periods_1']"
      ]
     },
     "execution_count": 17,
     "metadata": {},
     "output_type": "execute_result"
    }
   ],
   "source": [
    "list(data_set[0][0][0][0].keys())"
   ]
  },
  {
   "cell_type": "code",
   "execution_count": 18,
   "metadata": {},
   "outputs": [
    {
     "data": {
      "text/plain": [
       "22"
      ]
     },
     "execution_count": 18,
     "metadata": {},
     "output_type": "execute_result"
    }
   ],
   "source": [
    "len(list(data_set[0][0][0][0].keys()))"
   ]
  },
  {
   "cell_type": "code",
   "execution_count": 19,
   "metadata": {},
   "outputs": [],
   "source": [
    "if not os.path.exists(path_to_save):\n",
    "    os.makedirs(path_to_save)"
   ]
  },
  {
   "cell_type": "code",
   "execution_count": 20,
   "metadata": {},
   "outputs": [
    {
     "name": "stdout",
     "output_type": "stream",
     "text": [
      "CPU times: user 12.5 s, sys: 5.69 s, total: 18.2 s\n",
      "Wall time: 2min 17s\n"
     ]
    }
   ],
   "source": [
    "%%time\n",
    "root = Path(path_to_save)\n",
    "d = \"bootstrap\"+\"_\"+\"data_set\"+\"_\"+seq_str+'.pickle'\n",
    "my_path = root / d \n",
    "my_file = open(my_path, 'wb')\n",
    "my_file = pickle.dump((data_set),my_file)"
   ]
  },
  {
   "cell_type": "code",
   "execution_count": null,
   "metadata": {},
   "outputs": [],
   "source": []
  }
 ],
 "metadata": {
  "kernelspec": {
   "display_name": "Python 3",
   "language": "python",
   "name": "python3"
  },
  "language_info": {
   "codemirror_mode": {
    "name": "ipython",
    "version": 3
   },
   "file_extension": ".py",
   "mimetype": "text/x-python",
   "name": "python",
   "nbconvert_exporter": "python",
   "pygments_lexer": "ipython3",
   "version": "3.7.3"
  }
 },
 "nbformat": 4,
 "nbformat_minor": 4
}
