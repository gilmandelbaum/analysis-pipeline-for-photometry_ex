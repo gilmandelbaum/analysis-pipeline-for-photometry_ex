{
 "cells": [
  {
   "cell_type": "code",
   "execution_count": null,
   "metadata": {},
   "outputs": [],
   "source": [
    "import pickle\n",
    "from pathlib import Path\n",
    "import pandas as pd \n",
    "import os\n",
    "import sys\n",
    "import papermill as pm\n",
    "import getpass\n"
   ]
  },
  {
   "cell_type": "code",
   "execution_count": null,
   "metadata": {},
   "outputs": [],
   "source": [
    "import data_set_analysis_helper_functions as ahf"
   ]
  },
  {
   "cell_type": "code",
   "execution_count": null,
   "metadata": {},
   "outputs": [],
   "source": [
    "sys.executable"
   ]
  },
  {
   "cell_type": "code",
   "execution_count": null,
   "metadata": {},
   "outputs": [],
   "source": []
  },
  {
   "cell_type": "code",
   "execution_count": null,
   "metadata": {},
   "outputs": [],
   "source": [
    "seq_str = '0a1b2a3b4abcde5a6a7b'\n",
    "\n",
    "HowManyBack=1\n",
    "folderName=\"dual_color_photo_full_data_set\" #folder where the plot data_set will be saved \n",
    "path = \"/Volumes/GilInVivoPaper.large/2.Photometry_in_str/2.dual_color_photo_full_data_set_analysis/\""
   ]
  },
  {
   "cell_type": "code",
   "execution_count": null,
   "metadata": {},
   "outputs": [],
   "source": [
    "list_of_periods=['Real_nTrials',\n",
    "                 'Reward_NoReward_tag',\n",
    "                 'ENL_tag',\n",
    "                 'Cue_to_Sel_tag',\n",
    "                 'Cue_to_Sel_fromPrevTrial_tag',\n",
    "                 'firstENLp_tag',\n",
    "                 'pre_Reward_NoReward_tag',\n",
    "                 'post_Reward_NoReward_tag',\n",
    "                 'pre_ENL_tag',\n",
    "                 'post_ENL_tag',\n",
    "                 'pre_Cue_to_Sel_tag',\n",
    "                 'post_Cue_to_Sel_tag',\n",
    "                 'pre_Cue_to_Sel_fromPrevTrial_tag',\n",
    "                 'post_Cue_to_Sel_fromPrevTrial_tag',\n",
    "                 'pre_firstENLp_tag',\n",
    "                 'post_firstENLp_tag',\n",
    "                 'first_600_bins_Reward_NoReward_tag',\n",
    "                 'last_200_bins_ENL_tag',\n",
    "                 'first_15_bins_Cue_to_Sel_tag',\n",
    "                 'first_15_bins_Cue_to_Sel_fromPrevTrial_tag',\n",
    "                 'first_20_bins_firstENLp_tag',\n",
    "                 'combined_periods_1']"
   ]
  },
  {
   "cell_type": "code",
   "execution_count": null,
   "metadata": {},
   "outputs": [],
   "source": [
    "#parameters that were defined above and will carry on for the whole analysis. \n",
    "dict_for_pm = dict(seq_str= seq_str, \n",
    "                   HowManyBack = HowManyBack,\n",
    "                   folderName = folderName,\n",
    "                   path=path)     "
   ]
  },
  {
   "cell_type": "code",
   "execution_count": null,
   "metadata": {},
   "outputs": [],
   "source": [
    "for period_of_interest in list_of_periods:\n",
    "    \n",
    "    dict_for_pm[\"period_of_interest\"]=period_of_interest \n",
    "    \n",
    "    pm.execute_notebook(\"data_set_lineplot_(ic_together).ipynb\",\n",
    "                        'TestOutPut.ipynb',kernel_name = \"python3\",\n",
    "                        parameters= dict_for_pm,nest_asyncio=True)\n",
    "    "
   ]
  }
 ],
 "metadata": {
  "kernelspec": {
   "display_name": "Python 3",
   "language": "python",
   "name": "python3"
  },
  "language_info": {
   "codemirror_mode": {
    "name": "ipython",
    "version": 3
   },
   "file_extension": ".py",
   "mimetype": "text/x-python",
   "name": "python",
   "nbconvert_exporter": "python",
   "pygments_lexer": "ipython3",
   "version": "3.7.3"
  }
 },
 "nbformat": 4,
 "nbformat_minor": 4
}
