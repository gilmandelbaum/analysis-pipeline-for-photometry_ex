{
 "cells": [
  {
   "cell_type": "code",
   "execution_count": 1,
   "metadata": {
    "execution": {
     "iopub.execute_input": "2020-06-13T03:36:39.335882Z",
     "iopub.status.busy": "2020-06-13T03:36:39.335284Z",
     "iopub.status.idle": "2020-06-13T03:36:39.980257Z",
     "shell.execute_reply": "2020-06-13T03:36:39.979743Z"
    },
    "papermill": {
     "duration": 0.673266,
     "end_time": "2020-06-13T03:36:39.980367",
     "exception": false,
     "start_time": "2020-06-13T03:36:39.307101",
     "status": "completed"
    },
    "tags": []
   },
   "outputs": [],
   "source": [
    "import pickle\n",
    "from pathlib import Path\n",
    "import pandas as pd \n",
    "import os\n",
    "import sys\n",
    "import matplotlib.pyplot as plt"
   ]
  },
  {
   "cell_type": "code",
   "execution_count": 2,
   "metadata": {
    "execution": {
     "iopub.execute_input": "2020-06-13T03:36:40.203244Z",
     "iopub.status.busy": "2020-06-13T03:36:40.202510Z",
     "iopub.status.idle": "2020-06-13T03:36:40.205896Z",
     "shell.execute_reply": "2020-06-13T03:36:40.205301Z"
    },
    "papermill": {
     "duration": 0.204204,
     "end_time": "2020-06-13T03:36:40.205987",
     "exception": false,
     "start_time": "2020-06-13T03:36:40.001783",
     "status": "completed"
    },
    "tags": []
   },
   "outputs": [],
   "source": [
    "import data_set_analysis_helper_functions as ahf"
   ]
  },
  {
   "cell_type": "code",
   "execution_count": 3,
   "metadata": {
    "execution": {
     "iopub.execute_input": "2020-06-13T03:36:40.245727Z",
     "iopub.status.busy": "2020-06-13T03:36:40.245246Z",
     "iopub.status.idle": "2020-06-13T03:36:40.248800Z",
     "shell.execute_reply": "2020-06-13T03:36:40.248129Z"
    },
    "papermill": {
     "duration": 0.024176,
     "end_time": "2020-06-13T03:36:40.248881",
     "exception": false,
     "start_time": "2020-06-13T03:36:40.224705",
     "status": "completed"
    },
    "tags": [
     "parameters"
    ]
   },
   "outputs": [],
   "source": [
    "seq_str = '0a1b2a3b4abcde5a6a7b'\n",
    "period_of_interest = \"Real_nTrials\"\n",
    "HowManyBack=1\n",
    "folderName=\"dual_color_photo_full_data_set\" #folder where the plot data_set will be saved \n",
    "path = \"/Volumes/GilInVivoPaper.large/2.Photometry_in_str/2.dual_color_photo_full_data_set_analysis/\""
   ]
  },
  {
   "cell_type": "code",
   "execution_count": 4,
   "metadata": {
    "execution": {
     "iopub.execute_input": "2020-06-13T03:36:40.286114Z",
     "iopub.status.busy": "2020-06-13T03:36:40.285646Z",
     "iopub.status.idle": "2020-06-13T03:36:40.288370Z",
     "shell.execute_reply": "2020-06-13T03:36:40.287894Z"
    },
    "papermill": {
     "duration": 0.022566,
     "end_time": "2020-06-13T03:36:40.288442",
     "exception": false,
     "start_time": "2020-06-13T03:36:40.265876",
     "status": "completed"
    },
    "tags": [
     "injected-parameters"
    ]
   },
   "outputs": [],
   "source": [
    "# Parameters\n",
    "seq_str = \"0a1d2a3a4abcde5a6a7b\"\n",
    "HowManyBack = 1\n",
    "folderName = \"dual_color_photo_full_data_set\"\n",
    "path = \"/Volumes/GilInVivoPaper.large/2.Photometry_in_str/2.dual_color_photo_full_data_set_analysis/\"\n",
    "period_of_interest = \"combined_periods_1\"\n"
   ]
  },
  {
   "cell_type": "code",
   "execution_count": 5,
   "metadata": {
    "execution": {
     "iopub.execute_input": "2020-06-13T03:36:40.328210Z",
     "iopub.status.busy": "2020-06-13T03:36:40.327657Z",
     "iopub.status.idle": "2020-06-13T03:36:40.330975Z",
     "shell.execute_reply": "2020-06-13T03:36:40.330486Z"
    },
    "papermill": {
     "duration": 0.025037,
     "end_time": "2020-06-13T03:36:40.331050",
     "exception": false,
     "start_time": "2020-06-13T03:36:40.306013",
     "status": "completed"
    },
    "tags": []
   },
   "outputs": [
    {
     "data": {
      "text/plain": [
       "'/anaconda3/bin/python3'"
      ]
     },
     "execution_count": 5,
     "metadata": {},
     "output_type": "execute_result"
    }
   ],
   "source": [
    "sys.executable"
   ]
  },
  {
   "cell_type": "markdown",
   "metadata": {
    "papermill": {
     "duration": 0.018015,
     "end_time": "2020-06-13T03:36:40.367508",
     "exception": false,
     "start_time": "2020-06-13T03:36:40.349493",
     "status": "completed"
    },
    "tags": []
   },
   "source": [
    "# Import the data and where to save it "
   ]
  },
  {
   "cell_type": "code",
   "execution_count": 6,
   "metadata": {
    "execution": {
     "iopub.execute_input": "2020-06-13T03:36:40.409625Z",
     "iopub.status.busy": "2020-06-13T03:36:40.409145Z",
     "iopub.status.idle": "2020-06-13T03:36:40.412219Z",
     "shell.execute_reply": "2020-06-13T03:36:40.411694Z"
    },
    "papermill": {
     "duration": 0.023659,
     "end_time": "2020-06-13T03:36:40.412298",
     "exception": false,
     "start_time": "2020-06-13T03:36:40.388639",
     "status": "completed"
    },
    "tags": []
   },
   "outputs": [],
   "source": [
    "path_to_save = path+\"/\"+folderName+\"/\"+seq_str #also for loading"
   ]
  },
  {
   "cell_type": "markdown",
   "metadata": {
    "papermill": {
     "duration": 0.017994,
     "end_time": "2020-06-13T03:36:40.448227",
     "exception": false,
     "start_time": "2020-06-13T03:36:40.430233",
     "status": "completed"
    },
    "tags": []
   },
   "source": [
    "# Import the data and where to save it "
   ]
  },
  {
   "cell_type": "code",
   "execution_count": 7,
   "metadata": {
    "execution": {
     "iopub.execute_input": "2020-06-13T03:36:40.503708Z",
     "iopub.status.busy": "2020-06-13T03:36:40.503178Z",
     "iopub.status.idle": "2020-06-13T03:36:59.035893Z",
     "shell.execute_reply": "2020-06-13T03:36:59.036481Z"
    },
    "papermill": {
     "duration": 18.561969,
     "end_time": "2020-06-13T03:36:59.036604",
     "exception": false,
     "start_time": "2020-06-13T03:36:40.474635",
     "status": "completed"
    },
    "tags": []
   },
   "outputs": [
    {
     "name": "stdout",
     "output_type": "stream",
     "text": [
      "CPU times: user 17.8 s, sys: 722 ms, total: 18.5 s\n",
      "Wall time: 18.5 s\n"
     ]
    }
   ],
   "source": [
    "%%time\n",
    "root = Path(path_to_save)\n",
    "d = \"data_set\"+\"_\"+seq_str+'.pickle'\n",
    "my_path = root / d \n",
    "fileToOpen = open(my_path, 'rb')\n",
    "data_set = pickle.load(fileToOpen)"
   ]
  },
  {
   "cell_type": "code",
   "execution_count": null,
   "metadata": {
    "papermill": {
     "duration": 0.018608,
     "end_time": "2020-06-13T03:36:59.076842",
     "exception": false,
     "start_time": "2020-06-13T03:36:59.058234",
     "status": "completed"
    },
    "tags": []
   },
   "outputs": [],
   "source": []
  },
  {
   "cell_type": "code",
   "execution_count": null,
   "metadata": {
    "papermill": {
     "duration": 0.017343,
     "end_time": "2020-06-13T03:36:59.112026",
     "exception": false,
     "start_time": "2020-06-13T03:36:59.094683",
     "status": "completed"
    },
    "tags": []
   },
   "outputs": [],
   "source": []
  },
  {
   "cell_type": "code",
   "execution_count": 8,
   "metadata": {
    "execution": {
     "iopub.execute_input": "2020-06-13T03:36:59.149166Z",
     "iopub.status.busy": "2020-06-13T03:36:59.148730Z",
     "iopub.status.idle": "2020-06-13T03:36:59.150883Z",
     "shell.execute_reply": "2020-06-13T03:36:59.151320Z"
    },
    "papermill": {
     "duration": 0.022603,
     "end_time": "2020-06-13T03:36:59.151411",
     "exception": false,
     "start_time": "2020-06-13T03:36:59.128808",
     "status": "completed"
    },
    "tags": []
   },
   "outputs": [],
   "source": [
    "y_axis_list = [\"df_f\",\"z_score\",\"z_score_sliding_window\"]"
   ]
  },
  {
   "cell_type": "code",
   "execution_count": 9,
   "metadata": {
    "execution": {
     "iopub.execute_input": "2020-06-13T03:36:59.193625Z",
     "iopub.status.busy": "2020-06-13T03:36:59.193109Z",
     "iopub.status.idle": "2020-06-13T03:36:59.196093Z",
     "shell.execute_reply": "2020-06-13T03:36:59.195641Z"
    },
    "papermill": {
     "duration": 0.025498,
     "end_time": "2020-06-13T03:36:59.196164",
     "exception": false,
     "start_time": "2020-06-13T03:36:59.170666",
     "status": "completed"
    },
    "tags": []
   },
   "outputs": [
    {
     "name": "stdout",
     "output_type": "stream",
     "text": [
      "df_f\n"
     ]
    }
   ],
   "source": [
    "alphabet = [\"a\",\"b\",\"c\",\"d\",\"e\",\"f\",\"g\"]\n",
    "y_axis = y_axis_list[alphabet.index(seq_str[:seq_str.index('4')][-1])]\n",
    "print (y_axis)"
   ]
  },
  {
   "cell_type": "code",
   "execution_count": 10,
   "metadata": {
    "execution": {
     "iopub.execute_input": "2020-06-13T03:36:59.237710Z",
     "iopub.status.busy": "2020-06-13T03:36:59.237206Z",
     "iopub.status.idle": "2020-06-13T03:36:59.239295Z",
     "shell.execute_reply": "2020-06-13T03:36:59.239667Z"
    },
    "papermill": {
     "duration": 0.024823,
     "end_time": "2020-06-13T03:36:59.239770",
     "exception": false,
     "start_time": "2020-06-13T03:36:59.214947",
     "status": "completed"
    },
    "tags": []
   },
   "outputs": [],
   "source": [
    "#period_of_interest=\"combined_periods_1\"\n",
    "#period_of_interest = \"pre_firstENLp_tag\"\n",
    "#period_of_interest=\"last_200_bins_ENL_tag\"\n",
    "#period_of_interest = \"first_15_bins_Cue_to_Sel_tag\"\n",
    "#period_of_interest=\"first_15_bins_Cue_to_Sel_fromPrevTrial_tag\"\n",
    "#period_of_interest=\"Real_nTrials\"\n",
    "#period_of_interest=\"Cue_to_Sel_tag\"\n",
    "#period_of_interest=\"Cue_to_Sel_fromPrevTrial_tag\""
   ]
  },
  {
   "cell_type": "code",
   "execution_count": 11,
   "metadata": {
    "execution": {
     "iopub.execute_input": "2020-06-13T03:36:59.283718Z",
     "iopub.status.busy": "2020-06-13T03:36:59.283021Z",
     "iopub.status.idle": "2020-06-13T03:36:59.287814Z",
     "shell.execute_reply": "2020-06-13T03:36:59.287091Z"
    },
    "papermill": {
     "duration": 0.030006,
     "end_time": "2020-06-13T03:36:59.287904",
     "exception": false,
     "start_time": "2020-06-13T03:36:59.257898",
     "status": "completed"
    },
    "tags": []
   },
   "outputs": [],
   "source": [
    "# stash result in a cache directory, for how many back. \n",
    "cache_dir_plt = os.path.join(path_to_save,period_of_interest)\n",
    "if not os.path.exists(cache_dir_plt):\n",
    "    os.makedirs(cache_dir_plt)"
   ]
  },
  {
   "cell_type": "code",
   "execution_count": 12,
   "metadata": {
    "execution": {
     "iopub.execute_input": "2020-06-13T03:36:59.331808Z",
     "iopub.status.busy": "2020-06-13T03:36:59.331092Z",
     "iopub.status.idle": "2020-06-13T03:36:59.334454Z",
     "shell.execute_reply": "2020-06-13T03:36:59.333983Z"
    },
    "papermill": {
     "duration": 0.025977,
     "end_time": "2020-06-13T03:36:59.334525",
     "exception": false,
     "start_time": "2020-06-13T03:36:59.308548",
     "status": "completed"
    },
    "tags": []
   },
   "outputs": [
    {
     "data": {
      "text/plain": [
       "'/Volumes/GilInVivoPaper.large/2.Photometry_in_str/2.dual_color_photo_full_data_set_analysis//dual_color_photo_full_data_set/0a1d2a3a4abcde5a6a7b/combined_periods_1'"
      ]
     },
     "execution_count": 12,
     "metadata": {},
     "output_type": "execute_result"
    }
   ],
   "source": [
    "cache_dir_plt"
   ]
  },
  {
   "cell_type": "markdown",
   "metadata": {
    "papermill": {
     "duration": 0.017968,
     "end_time": "2020-06-13T03:36:59.370661",
     "exception": false,
     "start_time": "2020-06-13T03:36:59.352693",
     "status": "completed"
    },
    "tags": []
   },
   "source": [
    "# generate data sets of interest"
   ]
  },
  {
   "cell_type": "code",
   "execution_count": 13,
   "metadata": {
    "execution": {
     "iopub.execute_input": "2020-06-13T03:36:59.414805Z",
     "iopub.status.busy": "2020-06-13T03:36:59.414357Z",
     "iopub.status.idle": "2020-06-13T03:36:59.456283Z",
     "shell.execute_reply": "2020-06-13T03:36:59.456786Z"
    },
    "papermill": {
     "duration": 0.065215,
     "end_time": "2020-06-13T03:36:59.456908",
     "exception": false,
     "start_time": "2020-06-13T03:36:59.391693",
     "status": "completed"
    },
    "tags": []
   },
   "outputs": [],
   "source": [
    "r_ls_period_d1_data_set= ahf.extract_data_of_interest_ipsi_contra_data_set(data_set,\n",
    "                                                                           0,0,\n",
    "                                                                           period_of_interest,\"d1 R\")"
   ]
  },
  {
   "cell_type": "code",
   "execution_count": 14,
   "metadata": {
    "execution": {
     "iopub.execute_input": "2020-06-13T03:36:59.509383Z",
     "iopub.status.busy": "2020-06-13T03:36:59.499484Z",
     "iopub.status.idle": "2020-06-13T03:36:59.530799Z",
     "shell.execute_reply": "2020-06-13T03:36:59.530306Z"
    },
    "papermill": {
     "duration": 0.054858,
     "end_time": "2020-06-13T03:36:59.530874",
     "exception": false,
     "start_time": "2020-06-13T03:36:59.476016",
     "status": "completed"
    },
    "tags": []
   },
   "outputs": [],
   "source": [
    "r_ls_period_d2_data_set= ahf.extract_data_of_interest_ipsi_contra_data_set(data_set,\n",
    "                                                                           0,0,\n",
    "                                                                           period_of_interest,\"d2 R\")"
   ]
  },
  {
   "cell_type": "code",
   "execution_count": 15,
   "metadata": {
    "execution": {
     "iopub.execute_input": "2020-06-13T03:36:59.571487Z",
     "iopub.status.busy": "2020-06-13T03:36:59.570356Z",
     "iopub.status.idle": "2020-06-13T03:36:59.613502Z",
     "shell.execute_reply": "2020-06-13T03:36:59.613031Z"
    },
    "papermill": {
     "duration": 0.064724,
     "end_time": "2020-06-13T03:36:59.613575",
     "exception": false,
     "start_time": "2020-06-13T03:36:59.548851",
     "status": "completed"
    },
    "tags": []
   },
   "outputs": [],
   "source": [
    "r_wr_period_d1_data_set= ahf.extract_data_of_interest_ipsi_contra_data_set(data_set,\n",
    "                                                                           0,3,\n",
    "                                                                           period_of_interest,\"d1 R\")"
   ]
  },
  {
   "cell_type": "code",
   "execution_count": 16,
   "metadata": {
    "execution": {
     "iopub.execute_input": "2020-06-13T03:36:59.664311Z",
     "iopub.status.busy": "2020-06-13T03:36:59.660912Z",
     "iopub.status.idle": "2020-06-13T03:36:59.687366Z",
     "shell.execute_reply": "2020-06-13T03:36:59.686876Z"
    },
    "papermill": {
     "duration": 0.055302,
     "end_time": "2020-06-13T03:36:59.687441",
     "exception": false,
     "start_time": "2020-06-13T03:36:59.632139",
     "status": "completed"
    },
    "tags": []
   },
   "outputs": [],
   "source": [
    "r_wr_period_d2_data_set= ahf.extract_data_of_interest_ipsi_contra_data_set(data_set,\n",
    "                                                                           0,3,\n",
    "                                                                           period_of_interest,\"d2 R\")"
   ]
  },
  {
   "cell_type": "markdown",
   "metadata": {
    "papermill": {
     "duration": 0.021647,
     "end_time": "2020-06-13T03:36:59.727628",
     "exception": false,
     "start_time": "2020-06-13T03:36:59.705981",
     "status": "completed"
    },
    "tags": []
   },
   "source": [
    "# Calculate means per each session "
   ]
  },
  {
   "cell_type": "code",
   "execution_count": 17,
   "metadata": {
    "execution": {
     "iopub.execute_input": "2020-06-13T03:36:59.776307Z",
     "iopub.status.busy": "2020-06-13T03:36:59.775826Z",
     "iopub.status.idle": "2020-06-13T03:36:59.908405Z",
     "shell.execute_reply": "2020-06-13T03:36:59.908969Z"
    },
    "papermill": {
     "duration": 0.161412,
     "end_time": "2020-06-13T03:36:59.909099",
     "exception": false,
     "start_time": "2020-06-13T03:36:59.747687",
     "status": "completed"
    },
    "tags": []
   },
   "outputs": [],
   "source": [
    "r_ls_period_d1_df = ahf.calculate_mean_data_set(r_ls_period_d1_data_set)"
   ]
  },
  {
   "cell_type": "code",
   "execution_count": 18,
   "metadata": {
    "execution": {
     "iopub.execute_input": "2020-06-13T03:36:59.948725Z",
     "iopub.status.busy": "2020-06-13T03:36:59.948274Z",
     "iopub.status.idle": "2020-06-13T03:37:00.078715Z",
     "shell.execute_reply": "2020-06-13T03:37:00.079067Z"
    },
    "papermill": {
     "duration": 0.152092,
     "end_time": "2020-06-13T03:37:00.079165",
     "exception": false,
     "start_time": "2020-06-13T03:36:59.927073",
     "status": "completed"
    },
    "tags": []
   },
   "outputs": [],
   "source": [
    "r_ls_period_d2_df = ahf.calculate_mean_data_set(r_ls_period_d2_data_set)"
   ]
  },
  {
   "cell_type": "code",
   "execution_count": 19,
   "metadata": {
    "execution": {
     "iopub.execute_input": "2020-06-13T03:37:00.121230Z",
     "iopub.status.busy": "2020-06-13T03:37:00.120784Z",
     "iopub.status.idle": "2020-06-13T03:37:00.262213Z",
     "shell.execute_reply": "2020-06-13T03:37:00.261763Z"
    },
    "papermill": {
     "duration": 0.164215,
     "end_time": "2020-06-13T03:37:00.262281",
     "exception": false,
     "start_time": "2020-06-13T03:37:00.098066",
     "status": "completed"
    },
    "tags": []
   },
   "outputs": [],
   "source": [
    "r_wr_period_d1_df = ahf.calculate_mean_data_set(r_wr_period_d1_data_set)"
   ]
  },
  {
   "cell_type": "code",
   "execution_count": 20,
   "metadata": {
    "execution": {
     "iopub.execute_input": "2020-06-13T03:37:00.302024Z",
     "iopub.status.busy": "2020-06-13T03:37:00.301573Z",
     "iopub.status.idle": "2020-06-13T03:37:00.437356Z",
     "shell.execute_reply": "2020-06-13T03:37:00.436881Z"
    },
    "papermill": {
     "duration": 0.157006,
     "end_time": "2020-06-13T03:37:00.437429",
     "exception": false,
     "start_time": "2020-06-13T03:37:00.280423",
     "status": "completed"
    },
    "tags": []
   },
   "outputs": [],
   "source": [
    "r_wr_period_d2_df = ahf.calculate_mean_data_set(r_wr_period_d2_data_set)"
   ]
  },
  {
   "cell_type": "markdown",
   "metadata": {
    "papermill": {
     "duration": 0.019335,
     "end_time": "2020-06-13T03:37:00.475505",
     "exception": false,
     "start_time": "2020-06-13T03:37:00.456170",
     "status": "completed"
    },
    "tags": []
   },
   "source": [
    "# Calculate means and sem on the data set "
   ]
  },
  {
   "cell_type": "code",
   "execution_count": 21,
   "metadata": {
    "execution": {
     "iopub.execute_input": "2020-06-13T03:37:00.515912Z",
     "iopub.status.busy": "2020-06-13T03:37:00.515460Z",
     "iopub.status.idle": "2020-06-13T03:37:00.596140Z",
     "shell.execute_reply": "2020-06-13T03:37:00.596559Z"
    },
    "papermill": {
     "duration": 0.102573,
     "end_time": "2020-06-13T03:37:00.596652",
     "exception": false,
     "start_time": "2020-06-13T03:37:00.494079",
     "status": "completed"
    },
    "tags": []
   },
   "outputs": [],
   "source": [
    "r_ls_period_d1_mean_sem = ahf.calculate_mean_sem (r_ls_period_d1_df)"
   ]
  },
  {
   "cell_type": "code",
   "execution_count": 22,
   "metadata": {
    "execution": {
     "iopub.execute_input": "2020-06-13T03:37:00.638865Z",
     "iopub.status.busy": "2020-06-13T03:37:00.638409Z",
     "iopub.status.idle": "2020-06-13T03:37:00.644215Z",
     "shell.execute_reply": "2020-06-13T03:37:00.643740Z"
    },
    "papermill": {
     "duration": 0.028671,
     "end_time": "2020-06-13T03:37:00.644287",
     "exception": false,
     "start_time": "2020-06-13T03:37:00.615616",
     "status": "completed"
    },
    "tags": []
   },
   "outputs": [],
   "source": [
    "r_ls_period_d2_mean_sem = ahf.calculate_mean_sem (r_ls_period_d2_df)"
   ]
  },
  {
   "cell_type": "code",
   "execution_count": 23,
   "metadata": {
    "execution": {
     "iopub.execute_input": "2020-06-13T03:37:00.689117Z",
     "iopub.status.busy": "2020-06-13T03:37:00.688659Z",
     "iopub.status.idle": "2020-06-13T03:37:00.693685Z",
     "shell.execute_reply": "2020-06-13T03:37:00.693203Z"
    },
    "papermill": {
     "duration": 0.02998,
     "end_time": "2020-06-13T03:37:00.693758",
     "exception": false,
     "start_time": "2020-06-13T03:37:00.663778",
     "status": "completed"
    },
    "tags": []
   },
   "outputs": [],
   "source": [
    "r_wr_period_d1_mean_sem = ahf.calculate_mean_sem (r_wr_period_d1_df)"
   ]
  },
  {
   "cell_type": "code",
   "execution_count": 24,
   "metadata": {
    "execution": {
     "iopub.execute_input": "2020-06-13T03:37:00.736240Z",
     "iopub.status.busy": "2020-06-13T03:37:00.735761Z",
     "iopub.status.idle": "2020-06-13T03:37:00.740894Z",
     "shell.execute_reply": "2020-06-13T03:37:00.740398Z"
    },
    "papermill": {
     "duration": 0.027443,
     "end_time": "2020-06-13T03:37:00.740968",
     "exception": false,
     "start_time": "2020-06-13T03:37:00.713525",
     "status": "completed"
    },
    "tags": []
   },
   "outputs": [],
   "source": [
    "r_wr_period_d2_mean_sem = ahf.calculate_mean_sem (r_wr_period_d2_df)"
   ]
  },
  {
   "cell_type": "markdown",
   "metadata": {
    "papermill": {
     "duration": 0.020444,
     "end_time": "2020-06-13T03:37:00.782375",
     "exception": false,
     "start_time": "2020-06-13T03:37:00.761931",
     "status": "completed"
    },
    "tags": []
   },
   "source": [
    "# make_sem_traces"
   ]
  },
  {
   "cell_type": "code",
   "execution_count": 25,
   "metadata": {
    "execution": {
     "iopub.execute_input": "2020-06-13T03:37:00.825464Z",
     "iopub.status.busy": "2020-06-13T03:37:00.825044Z",
     "iopub.status.idle": "2020-06-13T03:37:00.827600Z",
     "shell.execute_reply": "2020-06-13T03:37:00.828032Z"
    },
    "papermill": {
     "duration": 0.026304,
     "end_time": "2020-06-13T03:37:00.828125",
     "exception": false,
     "start_time": "2020-06-13T03:37:00.801821",
     "status": "completed"
    },
    "tags": []
   },
   "outputs": [],
   "source": [
    "r_ls_period_d1_sem_traces = ahf.make_sem_traces(r_ls_period_d1_mean_sem)"
   ]
  },
  {
   "cell_type": "code",
   "execution_count": 26,
   "metadata": {
    "execution": {
     "iopub.execute_input": "2020-06-13T03:37:00.870397Z",
     "iopub.status.busy": "2020-06-13T03:37:00.869961Z",
     "iopub.status.idle": "2020-06-13T03:37:00.872613Z",
     "shell.execute_reply": "2020-06-13T03:37:00.872158Z"
    },
    "papermill": {
     "duration": 0.025825,
     "end_time": "2020-06-13T03:37:00.872684",
     "exception": false,
     "start_time": "2020-06-13T03:37:00.846859",
     "status": "completed"
    },
    "tags": []
   },
   "outputs": [],
   "source": [
    "r_ls_period_d2_sem_traces = ahf.make_sem_traces(r_ls_period_d2_mean_sem)"
   ]
  },
  {
   "cell_type": "code",
   "execution_count": 27,
   "metadata": {
    "execution": {
     "iopub.execute_input": "2020-06-13T03:37:00.918368Z",
     "iopub.status.busy": "2020-06-13T03:37:00.917907Z",
     "iopub.status.idle": "2020-06-13T03:37:00.919872Z",
     "shell.execute_reply": "2020-06-13T03:37:00.920324Z"
    },
    "papermill": {
     "duration": 0.027656,
     "end_time": "2020-06-13T03:37:00.920421",
     "exception": false,
     "start_time": "2020-06-13T03:37:00.892765",
     "status": "completed"
    },
    "tags": []
   },
   "outputs": [],
   "source": [
    "r_wr_period_d1_sem_traces = ahf.make_sem_traces(r_wr_period_d1_mean_sem)"
   ]
  },
  {
   "cell_type": "code",
   "execution_count": 28,
   "metadata": {
    "execution": {
     "iopub.execute_input": "2020-06-13T03:37:00.963827Z",
     "iopub.status.busy": "2020-06-13T03:37:00.963380Z",
     "iopub.status.idle": "2020-06-13T03:37:00.965354Z",
     "shell.execute_reply": "2020-06-13T03:37:00.965790Z"
    },
    "papermill": {
     "duration": 0.025886,
     "end_time": "2020-06-13T03:37:00.965880",
     "exception": false,
     "start_time": "2020-06-13T03:37:00.939994",
     "status": "completed"
    },
    "tags": []
   },
   "outputs": [],
   "source": [
    "r_wr_period_d2_sem_traces = ahf.make_sem_traces(r_wr_period_d2_mean_sem)"
   ]
  },
  {
   "cell_type": "markdown",
   "metadata": {
    "papermill": {
     "duration": 0.018532,
     "end_time": "2020-06-13T03:37:01.003959",
     "exception": false,
     "start_time": "2020-06-13T03:37:00.985427",
     "status": "completed"
    },
    "tags": []
   },
   "source": [
    "# plots"
   ]
  },
  {
   "cell_type": "code",
   "execution_count": 29,
   "metadata": {
    "execution": {
     "iopub.execute_input": "2020-06-13T03:37:01.056048Z",
     "iopub.status.busy": "2020-06-13T03:37:01.051885Z",
     "iopub.status.idle": "2020-06-13T03:37:01.280896Z",
     "shell.execute_reply": "2020-06-13T03:37:01.280427Z"
    },
    "papermill": {
     "duration": 0.253003,
     "end_time": "2020-06-13T03:37:01.280968",
     "exception": false,
     "start_time": "2020-06-13T03:37:01.027965",
     "status": "completed"
    },
    "scrolled": false,
    "tags": []
   },
   "outputs": [
    {
     "data": {
      "image/png": "[encoded data removed]",
      "text/plain": [
       "<Figure size 432x288 with 1 Axes>"
      ]
     },
     "metadata": {
      "needs_background": "light"
     },
     "output_type": "display_data"
    }
   ],
   "source": [
    "ahf.plot_ipsi_contra_together(r_ls_period_d1_mean_sem,\n",
    "                              r_ls_period_d1_sem_traces,\n",
    "                              \"lose switch\",period_of_interest,\"D1\",y_axis,cache_dir_plt)"
   ]
  },
  {
   "cell_type": "code",
   "execution_count": 30,
   "metadata": {
    "execution": {
     "iopub.execute_input": "2020-06-13T03:37:01.335232Z",
     "iopub.status.busy": "2020-06-13T03:37:01.334779Z",
     "iopub.status.idle": "2020-06-13T03:37:01.524289Z",
     "shell.execute_reply": "2020-06-13T03:37:01.524725Z"
    },
    "papermill": {
     "duration": 0.224246,
     "end_time": "2020-06-13T03:37:01.524826",
     "exception": false,
     "start_time": "2020-06-13T03:37:01.300580",
     "status": "completed"
    },
    "tags": []
   },
   "outputs": [
    {
     "data": {
      "image/png": "[encoded data removed]",
      "text/plain": [
       "<Figure size 432x288 with 1 Axes>"
      ]
     },
     "metadata": {
      "needs_background": "light"
     },
     "output_type": "display_data"
    }
   ],
   "source": [
    "ahf.plot_ipsi_contra_together(r_ls_period_d2_mean_sem,\n",
    "                              r_ls_period_d2_sem_traces,\n",
    "                              \"lose switch\",period_of_interest,\"D2\",y_axis,cache_dir_plt)"
   ]
  },
  {
   "cell_type": "code",
   "execution_count": 31,
   "metadata": {
    "execution": {
     "iopub.execute_input": "2020-06-13T03:37:01.594108Z",
     "iopub.status.busy": "2020-06-13T03:37:01.589889Z",
     "iopub.status.idle": "2020-06-13T03:37:01.787007Z",
     "shell.execute_reply": "2020-06-13T03:37:01.787334Z"
    },
    "papermill": {
     "duration": 0.24126,
     "end_time": "2020-06-13T03:37:01.787426",
     "exception": false,
     "start_time": "2020-06-13T03:37:01.546166",
     "status": "completed"
    },
    "scrolled": true,
    "tags": []
   },
   "outputs": [
    {
     "data": {
      "image/png": "[encoded data removed]",
      "text/plain": [
       "<Figure size 432x288 with 1 Axes>"
      ]
     },
     "metadata": {
      "needs_background": "light"
     },
     "output_type": "display_data"
    }
   ],
   "source": [
    "ahf.plot_ipsi_contra_together(r_wr_period_d1_mean_sem,\n",
    "                              r_wr_period_d1_sem_traces,\n",
    "                              \"win repeat\",period_of_interest,\"D1\",y_axis,cache_dir_plt)"
   ]
  },
  {
   "cell_type": "code",
   "execution_count": 32,
   "metadata": {
    "execution": {
     "iopub.execute_input": "2020-06-13T03:37:01.841785Z",
     "iopub.status.busy": "2020-06-13T03:37:01.840678Z",
     "iopub.status.idle": "2020-06-13T03:37:02.037480Z",
     "shell.execute_reply": "2020-06-13T03:37:02.037044Z"
    },
    "papermill": {
     "duration": 0.228393,
     "end_time": "2020-06-13T03:37:02.037548",
     "exception": false,
     "start_time": "2020-06-13T03:37:01.809155",
     "status": "completed"
    },
    "tags": []
   },
   "outputs": [
    {
     "data": {
      "image/png": "[encoded data removed]",
      "text/plain": [
       "<Figure size 432x288 with 1 Axes>"
      ]
     },
     "metadata": {
      "needs_background": "light"
     },
     "output_type": "display_data"
    }
   ],
   "source": [
    "ahf.plot_ipsi_contra_together(r_wr_period_d2_mean_sem,\n",
    "                              r_wr_period_d2_sem_traces,\n",
    "                              \"win repeat\",period_of_interest,\"D2\",y_axis,cache_dir_plt)"
   ]
  },
  {
   "cell_type": "code",
   "execution_count": null,
   "metadata": {
    "papermill": {
     "duration": 0.023813,
     "end_time": "2020-06-13T03:37:02.085259",
     "exception": false,
     "start_time": "2020-06-13T03:37:02.061446",
     "status": "completed"
    },
    "tags": []
   },
   "outputs": [],
   "source": []
  },
  {
   "cell_type": "code",
   "execution_count": null,
   "metadata": {
    "papermill": {
     "duration": 0.022553,
     "end_time": "2020-06-13T03:37:02.130073",
     "exception": false,
     "start_time": "2020-06-13T03:37:02.107520",
     "status": "completed"
    },
    "tags": []
   },
   "outputs": [],
   "source": []
  },
  {
   "cell_type": "code",
   "execution_count": null,
   "metadata": {
    "papermill": {
     "duration": 0.022674,
     "end_time": "2020-06-13T03:37:02.174717",
     "exception": false,
     "start_time": "2020-06-13T03:37:02.152043",
     "status": "completed"
    },
    "tags": []
   },
   "outputs": [],
   "source": []
  }
 ],
 "metadata": {
  "celltoolbar": "Tags",
  "kernelspec": {
   "display_name": "Python 3",
   "language": "python",
   "name": "python3"
  },
  "language_info": {
   "codemirror_mode": {
    "name": "ipython",
    "version": 3
   },
   "file_extension": ".py",
   "mimetype": "text/x-python",
   "name": "python",
   "nbconvert_exporter": "python",
   "pygments_lexer": "ipython3",
   "version": "3.7.3"
  },
  "papermill": {
   "duration": 23.787109,
   "end_time": "2020-06-13T03:37:02.417710",
   "environment_variables": {},
   "exception": null,
   "input_path": "data_set_lineplot_(ic_together).ipynb",
   "output_path": "TestOutPut.ipynb",
   "parameters": {
    "HowManyBack": 1,
    "folderName": "dual_color_photo_full_data_set",
    "path": "/Volumes/GilInVivoPaper.large/2.Photometry_in_str/2.dual_color_photo_full_data_set_analysis/",
    "period_of_interest": "combined_periods_1",
    "seq_str": "0a1d2a3a4abcde5a6a7b"
   },
   "start_time": "2020-06-13T03:36:38.630601",
   "version": "2.1.1"
  }
 },
 "nbformat": 4,
 "nbformat_minor": 4
}