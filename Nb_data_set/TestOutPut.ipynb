{
 "cells": [
  {
   "cell_type": "code",
   "execution_count": 1,
   "metadata": {
    "execution": {
     "iopub.execute_input": "2020-06-14T22:41:32.917825Z",
     "iopub.status.busy": "2020-06-14T22:41:32.917303Z",
     "iopub.status.idle": "2020-06-14T22:41:33.348452Z",
     "shell.execute_reply": "2020-06-14T22:41:33.348933Z"
    },
    "papermill": {
     "duration": 0.457546,
     "end_time": "2020-06-14T22:41:33.349079",
     "exception": false,
     "start_time": "2020-06-14T22:41:32.891533",
     "status": "completed"
    },
    "tags": []
   },
   "outputs": [],
   "source": [
    "import pickle\n",
    "from pathlib import Path\n",
    "import pandas as pd \n",
    "import os\n",
    "import sys\n",
    "import matplotlib.pyplot as plt"
   ]
  },
  {
   "cell_type": "code",
   "execution_count": 2,
   "metadata": {
    "execution": {
     "iopub.execute_input": "2020-06-14T22:41:33.389166Z",
     "iopub.status.busy": "2020-06-14T22:41:33.388439Z",
     "iopub.status.idle": "2020-06-14T22:41:33.392246Z",
     "shell.execute_reply": "2020-06-14T22:41:33.391753Z"
    },
    "papermill": {
     "duration": 0.024471,
     "end_time": "2020-06-14T22:41:33.392321",
     "exception": false,
     "start_time": "2020-06-14T22:41:33.367850",
     "status": "completed"
    },
    "tags": []
   },
   "outputs": [],
   "source": [
    "import data_set_analysis_helper_functions as ahf"
   ]
  },
  {
   "cell_type": "code",
   "execution_count": 3,
   "metadata": {
    "execution": {
     "iopub.execute_input": "2020-06-14T22:41:33.429221Z",
     "iopub.status.busy": "2020-06-14T22:41:33.428742Z",
     "iopub.status.idle": "2020-06-14T22:41:33.430556Z",
     "shell.execute_reply": "2020-06-14T22:41:33.430911Z"
    },
    "papermill": {
     "duration": 0.022027,
     "end_time": "2020-06-14T22:41:33.431006",
     "exception": false,
     "start_time": "2020-06-14T22:41:33.408979",
     "status": "completed"
    },
    "tags": [
     "parameters"
    ]
   },
   "outputs": [],
   "source": [
    "seq_str = '0a1b2a3b4abcde5a6a7b'\n",
    "period_of_interest = \"Real_nTrials\"\n",
    "HowManyBack=1\n",
    "folderName=\"dual_color_photo_full_data_set\" #folder where the plot data_set will be saved \n",
    "path = \"/Volumes/GilInVivoPaper.large/2.Photometry_in_str/2.dual_color_photo_full_data_set_analysis/\""
   ]
  },
  {
   "cell_type": "code",
   "execution_count": 4,
   "metadata": {
    "execution": {
     "iopub.execute_input": "2020-06-14T22:41:33.467774Z",
     "iopub.status.busy": "2020-06-14T22:41:33.467312Z",
     "iopub.status.idle": "2020-06-14T22:41:33.469579Z",
     "shell.execute_reply": "2020-06-14T22:41:33.469999Z"
    },
    "papermill": {
     "duration": 0.022293,
     "end_time": "2020-06-14T22:41:33.470087",
     "exception": false,
     "start_time": "2020-06-14T22:41:33.447794",
     "status": "completed"
    },
    "tags": [
     "injected-parameters"
    ]
   },
   "outputs": [],
   "source": [
    "# Parameters\n",
    "seq_str = \"0a1d2a3b4abcde5a6a7b\"\n",
    "HowManyBack = 1\n",
    "folderName = \"dual_color_photo_full_data_set\"\n",
    "path = \"/Volumes/GilInVivoPaper.large/2.Photometry_in_str/2.dual_color_photo_full_data_set_analysis/\"\n",
    "period_of_interest = \"combined_periods_1\"\n"
   ]
  },
  {
   "cell_type": "code",
   "execution_count": 5,
   "metadata": {
    "execution": {
     "iopub.execute_input": "2020-06-14T22:41:33.509540Z",
     "iopub.status.busy": "2020-06-14T22:41:33.508775Z",
     "iopub.status.idle": "2020-06-14T22:41:33.512142Z",
     "shell.execute_reply": "2020-06-14T22:41:33.511668Z"
    },
    "papermill": {
     "duration": 0.025006,
     "end_time": "2020-06-14T22:41:33.512214",
     "exception": false,
     "start_time": "2020-06-14T22:41:33.487208",
     "status": "completed"
    },
    "tags": []
   },
   "outputs": [
    {
     "data": {
      "text/plain": [
       "'/anaconda3/bin/python3'"
      ]
     },
     "execution_count": 5,
     "metadata": {},
     "output_type": "execute_result"
    }
   ],
   "source": [
    "sys.executable"
   ]
  },
  {
   "cell_type": "markdown",
   "metadata": {
    "papermill": {
     "duration": 0.016673,
     "end_time": "2020-06-14T22:41:33.546273",
     "exception": false,
     "start_time": "2020-06-14T22:41:33.529600",
     "status": "completed"
    },
    "tags": []
   },
   "source": [
    "# Import the data and where to save it "
   ]
  },
  {
   "cell_type": "code",
   "execution_count": 6,
   "metadata": {
    "execution": {
     "iopub.execute_input": "2020-06-14T22:41:33.582555Z",
     "iopub.status.busy": "2020-06-14T22:41:33.582113Z",
     "iopub.status.idle": "2020-06-14T22:41:33.584558Z",
     "shell.execute_reply": "2020-06-14T22:41:33.584101Z"
    },
    "papermill": {
     "duration": 0.02198,
     "end_time": "2020-06-14T22:41:33.584631",
     "exception": false,
     "start_time": "2020-06-14T22:41:33.562651",
     "status": "completed"
    },
    "tags": []
   },
   "outputs": [],
   "source": [
    "path_to_save = path+\"/\"+folderName+\"/\"+seq_str #also for loading"
   ]
  },
  {
   "cell_type": "markdown",
   "metadata": {
    "papermill": {
     "duration": 0.017495,
     "end_time": "2020-06-14T22:41:33.620405",
     "exception": false,
     "start_time": "2020-06-14T22:41:33.602910",
     "status": "completed"
    },
    "tags": []
   },
   "source": [
    "# Import the data and where to save it "
   ]
  },
  {
   "cell_type": "code",
   "execution_count": 7,
   "metadata": {
    "execution": {
     "iopub.execute_input": "2020-06-14T22:41:33.659854Z",
     "iopub.status.busy": "2020-06-14T22:41:33.659384Z",
     "iopub.status.idle": "2020-06-14T22:41:52.337746Z",
     "shell.execute_reply": "2020-06-14T22:41:52.337129Z"
    },
    "papermill": {
     "duration": 18.700188,
     "end_time": "2020-06-14T22:41:52.337847",
     "exception": false,
     "start_time": "2020-06-14T22:41:33.637659",
     "status": "completed"
    },
    "tags": []
   },
   "outputs": [
    {
     "name": "stdout",
     "output_type": "stream",
     "text": [
      "CPU times: user 17.6 s, sys: 1.04 s, total: 18.7 s\n",
      "Wall time: 18.7 s\n"
     ]
    }
   ],
   "source": [
    "%%time\n",
    "root = Path(path_to_save)\n",
    "d = \"data_set\"+\"_\"+seq_str+'.pickle'\n",
    "my_path = root / d \n",
    "fileToOpen = open(my_path, 'rb')\n",
    "data_set = pickle.load(fileToOpen)"
   ]
  },
  {
   "cell_type": "code",
   "execution_count": null,
   "metadata": {
    "papermill": {
     "duration": 0.019359,
     "end_time": "2020-06-14T22:41:52.378630",
     "exception": false,
     "start_time": "2020-06-14T22:41:52.359271",
     "status": "completed"
    },
    "tags": []
   },
   "outputs": [],
   "source": []
  },
  {
   "cell_type": "code",
   "execution_count": null,
   "metadata": {
    "papermill": {
     "duration": 0.017185,
     "end_time": "2020-06-14T22:41:52.413978",
     "exception": false,
     "start_time": "2020-06-14T22:41:52.396793",
     "status": "completed"
    },
    "tags": []
   },
   "outputs": [],
   "source": []
  },
  {
   "cell_type": "code",
   "execution_count": 8,
   "metadata": {
    "execution": {
     "iopub.execute_input": "2020-06-14T22:41:52.449980Z",
     "iopub.status.busy": "2020-06-14T22:41:52.449539Z",
     "iopub.status.idle": "2020-06-14T22:41:52.451931Z",
     "shell.execute_reply": "2020-06-14T22:41:52.452262Z"
    },
    "papermill": {
     "duration": 0.022178,
     "end_time": "2020-06-14T22:41:52.452351",
     "exception": false,
     "start_time": "2020-06-14T22:41:52.430173",
     "status": "completed"
    },
    "tags": []
   },
   "outputs": [],
   "source": [
    "y_axis_list = [\"df_f\",\"z_score\",\"z_score_sliding_window\"]"
   ]
  },
  {
   "cell_type": "code",
   "execution_count": 9,
   "metadata": {
    "execution": {
     "iopub.execute_input": "2020-06-14T22:41:52.493569Z",
     "iopub.status.busy": "2020-06-14T22:41:52.493051Z",
     "iopub.status.idle": "2020-06-14T22:41:52.495331Z",
     "shell.execute_reply": "2020-06-14T22:41:52.495793Z"
    },
    "papermill": {
     "duration": 0.024999,
     "end_time": "2020-06-14T22:41:52.495888",
     "exception": false,
     "start_time": "2020-06-14T22:41:52.470889",
     "status": "completed"
    },
    "tags": []
   },
   "outputs": [
    {
     "name": "stdout",
     "output_type": "stream",
     "text": [
      "z_score\n"
     ]
    }
   ],
   "source": [
    "alphabet = [\"a\",\"b\",\"c\",\"d\",\"e\",\"f\",\"g\"]\n",
    "y_axis = y_axis_list[alphabet.index(seq_str[:seq_str.index('4')][-1])]\n",
    "print (y_axis)"
   ]
  },
  {
   "cell_type": "code",
   "execution_count": 10,
   "metadata": {
    "execution": {
     "iopub.execute_input": "2020-06-14T22:41:52.534136Z",
     "iopub.status.busy": "2020-06-14T22:41:52.533684Z",
     "iopub.status.idle": "2020-06-14T22:41:52.535627Z",
     "shell.execute_reply": "2020-06-14T22:41:52.536073Z"
    },
    "papermill": {
     "duration": 0.022284,
     "end_time": "2020-06-14T22:41:52.536164",
     "exception": false,
     "start_time": "2020-06-14T22:41:52.513880",
     "status": "completed"
    },
    "tags": []
   },
   "outputs": [],
   "source": [
    "#period_of_interest=\"combined_periods_1\"\n",
    "#period_of_interest = \"pre_firstENLp_tag\"\n",
    "#period_of_interest=\"last_200_bins_ENL_tag\"\n",
    "#period_of_interest = \"first_15_bins_Cue_to_Sel_tag\"\n",
    "#period_of_interest=\"first_15_bins_Cue_to_Sel_fromPrevTrial_tag\"\n",
    "#period_of_interest=\"Real_nTrials\"\n",
    "#period_of_interest=\"Cue_to_Sel_tag\"\n",
    "#period_of_interest=\"Cue_to_Sel_fromPrevTrial_tag\""
   ]
  },
  {
   "cell_type": "code",
   "execution_count": 11,
   "metadata": {
    "execution": {
     "iopub.execute_input": "2020-06-14T22:41:52.579105Z",
     "iopub.status.busy": "2020-06-14T22:41:52.578507Z",
     "iopub.status.idle": "2020-06-14T22:41:52.582655Z",
     "shell.execute_reply": "2020-06-14T22:41:52.582163Z"
    },
    "papermill": {
     "duration": 0.024789,
     "end_time": "2020-06-14T22:41:52.582731",
     "exception": false,
     "start_time": "2020-06-14T22:41:52.557942",
     "status": "completed"
    },
    "tags": []
   },
   "outputs": [],
   "source": [
    "# stash result in a cache directory, for how many back. \n",
    "cache_dir_plt = os.path.join(path_to_save,period_of_interest)\n",
    "if not os.path.exists(cache_dir_plt):\n",
    "    os.makedirs(cache_dir_plt)"
   ]
  },
  {
   "cell_type": "code",
   "execution_count": 12,
   "metadata": {
    "execution": {
     "iopub.execute_input": "2020-06-14T22:41:52.625349Z",
     "iopub.status.busy": "2020-06-14T22:41:52.624807Z",
     "iopub.status.idle": "2020-06-14T22:41:52.627430Z",
     "shell.execute_reply": "2020-06-14T22:41:52.627787Z"
    },
    "papermill": {
     "duration": 0.025729,
     "end_time": "2020-06-14T22:41:52.627882",
     "exception": false,
     "start_time": "2020-06-14T22:41:52.602153",
     "status": "completed"
    },
    "tags": []
   },
   "outputs": [
    {
     "data": {
      "text/plain": [
       "'/Volumes/GilInVivoPaper.large/2.Photometry_in_str/2.dual_color_photo_full_data_set_analysis//dual_color_photo_full_data_set/0a1d2a3b4abcde5a6a7b/combined_periods_1'"
      ]
     },
     "execution_count": 12,
     "metadata": {},
     "output_type": "execute_result"
    }
   ],
   "source": [
    "cache_dir_plt"
   ]
  },
  {
   "cell_type": "markdown",
   "metadata": {
    "papermill": {
     "duration": 0.017169,
     "end_time": "2020-06-14T22:41:52.663586",
     "exception": false,
     "start_time": "2020-06-14T22:41:52.646417",
     "status": "completed"
    },
    "tags": []
   },
   "source": [
    "# generate data sets of interest"
   ]
  },
  {
   "cell_type": "code",
   "execution_count": 13,
   "metadata": {
    "execution": {
     "iopub.execute_input": "2020-06-14T22:41:52.703941Z",
     "iopub.status.busy": "2020-06-14T22:41:52.703484Z",
     "iopub.status.idle": "2020-06-14T22:41:52.745649Z",
     "shell.execute_reply": "2020-06-14T22:41:52.745171Z"
    },
    "papermill": {
     "duration": 0.064964,
     "end_time": "2020-06-14T22:41:52.745723",
     "exception": false,
     "start_time": "2020-06-14T22:41:52.680759",
     "status": "completed"
    },
    "tags": []
   },
   "outputs": [],
   "source": [
    "r_ls_period_d1_data_set= ahf.extract_data_of_interest_ipsi_contra_data_set(data_set,\n",
    "                                                                           0,0,\n",
    "                                                                           period_of_interest,\"d1 R\")"
   ]
  },
  {
   "cell_type": "code",
   "execution_count": 14,
   "metadata": {
    "execution": {
     "iopub.execute_input": "2020-06-14T22:41:52.809750Z",
     "iopub.status.busy": "2020-06-14T22:41:52.797069Z",
     "iopub.status.idle": "2020-06-14T22:41:52.823130Z",
     "shell.execute_reply": "2020-06-14T22:41:52.822625Z"
    },
    "papermill": {
     "duration": 0.059044,
     "end_time": "2020-06-14T22:41:52.823205",
     "exception": false,
     "start_time": "2020-06-14T22:41:52.764161",
     "status": "completed"
    },
    "tags": []
   },
   "outputs": [],
   "source": [
    "r_ls_period_d2_data_set= ahf.extract_data_of_interest_ipsi_contra_data_set(data_set,\n",
    "                                                                           0,0,\n",
    "                                                                           period_of_interest,\"d2 R\")"
   ]
  },
  {
   "cell_type": "code",
   "execution_count": 15,
   "metadata": {
    "execution": {
     "iopub.execute_input": "2020-06-14T22:41:52.865485Z",
     "iopub.status.busy": "2020-06-14T22:41:52.864940Z",
     "iopub.status.idle": "2020-06-14T22:41:52.907856Z",
     "shell.execute_reply": "2020-06-14T22:41:52.907363Z"
    },
    "papermill": {
     "duration": 0.066796,
     "end_time": "2020-06-14T22:41:52.907933",
     "exception": false,
     "start_time": "2020-06-14T22:41:52.841137",
     "status": "completed"
    },
    "tags": []
   },
   "outputs": [],
   "source": [
    "r_wr_period_d1_data_set= ahf.extract_data_of_interest_ipsi_contra_data_set(data_set,\n",
    "                                                                           0,3,\n",
    "                                                                           period_of_interest,\"d1 R\")"
   ]
  },
  {
   "cell_type": "code",
   "execution_count": 16,
   "metadata": {
    "execution": {
     "iopub.execute_input": "2020-06-14T22:41:53.050910Z",
     "iopub.status.busy": "2020-06-14T22:41:53.041345Z",
     "iopub.status.idle": "2020-06-14T22:41:53.062343Z",
     "shell.execute_reply": "2020-06-14T22:41:53.061848Z"
    },
    "papermill": {
     "duration": 0.06288,
     "end_time": "2020-06-14T22:41:53.062421",
     "exception": false,
     "start_time": "2020-06-14T22:41:52.999541",
     "status": "completed"
    },
    "tags": []
   },
   "outputs": [],
   "source": [
    "r_wr_period_d2_data_set= ahf.extract_data_of_interest_ipsi_contra_data_set(data_set,\n",
    "                                                                           0,3,\n",
    "                                                                           period_of_interest,\"d2 R\")"
   ]
  },
  {
   "cell_type": "markdown",
   "metadata": {
    "papermill": {
     "duration": 0.017895,
     "end_time": "2020-06-14T22:41:53.099414",
     "exception": false,
     "start_time": "2020-06-14T22:41:53.081519",
     "status": "completed"
    },
    "tags": []
   },
   "source": [
    "# Calculate means per each session "
   ]
  },
  {
   "cell_type": "code",
   "execution_count": 17,
   "metadata": {
    "execution": {
     "iopub.execute_input": "2020-06-14T22:41:53.142378Z",
     "iopub.status.busy": "2020-06-14T22:41:53.141898Z",
     "iopub.status.idle": "2020-06-14T22:41:53.292794Z",
     "shell.execute_reply": "2020-06-14T22:41:53.292298Z"
    },
    "papermill": {
     "duration": 0.175091,
     "end_time": "2020-06-14T22:41:53.292870",
     "exception": false,
     "start_time": "2020-06-14T22:41:53.117779",
     "status": "completed"
    },
    "tags": []
   },
   "outputs": [],
   "source": [
    "r_ls_period_d1_df = ahf.calculate_mean_data_set(r_ls_period_d1_data_set)"
   ]
  },
  {
   "cell_type": "code",
   "execution_count": 18,
   "metadata": {
    "execution": {
     "iopub.execute_input": "2020-06-14T22:41:53.342757Z",
     "iopub.status.busy": "2020-06-14T22:41:53.342241Z",
     "iopub.status.idle": "2020-06-14T22:41:53.487939Z",
     "shell.execute_reply": "2020-06-14T22:41:53.487446Z"
    },
    "papermill": {
     "duration": 0.177039,
     "end_time": "2020-06-14T22:41:53.488016",
     "exception": false,
     "start_time": "2020-06-14T22:41:53.310977",
     "status": "completed"
    },
    "tags": []
   },
   "outputs": [],
   "source": [
    "r_ls_period_d2_df = ahf.calculate_mean_data_set(r_ls_period_d2_data_set)"
   ]
  },
  {
   "cell_type": "code",
   "execution_count": 19,
   "metadata": {
    "execution": {
     "iopub.execute_input": "2020-06-14T22:41:53.531207Z",
     "iopub.status.busy": "2020-06-14T22:41:53.530743Z",
     "iopub.status.idle": "2020-06-14T22:41:53.695310Z",
     "shell.execute_reply": "2020-06-14T22:41:53.694819Z"
    },
    "papermill": {
     "duration": 0.187944,
     "end_time": "2020-06-14T22:41:53.695386",
     "exception": false,
     "start_time": "2020-06-14T22:41:53.507442",
     "status": "completed"
    },
    "tags": []
   },
   "outputs": [],
   "source": [
    "r_wr_period_d1_df = ahf.calculate_mean_data_set(r_wr_period_d1_data_set)"
   ]
  },
  {
   "cell_type": "code",
   "execution_count": 20,
   "metadata": {
    "execution": {
     "iopub.execute_input": "2020-06-14T22:41:53.737430Z",
     "iopub.status.busy": "2020-06-14T22:41:53.736975Z",
     "iopub.status.idle": "2020-06-14T22:41:53.897905Z",
     "shell.execute_reply": "2020-06-14T22:41:53.897415Z"
    },
    "papermill": {
     "duration": 0.183092,
     "end_time": "2020-06-14T22:41:53.897982",
     "exception": false,
     "start_time": "2020-06-14T22:41:53.714890",
     "status": "completed"
    },
    "tags": []
   },
   "outputs": [],
   "source": [
    "r_wr_period_d2_df = ahf.calculate_mean_data_set(r_wr_period_d2_data_set)"
   ]
  },
  {
   "cell_type": "markdown",
   "metadata": {
    "papermill": {
     "duration": 0.019513,
     "end_time": "2020-06-14T22:41:53.937467",
     "exception": false,
     "start_time": "2020-06-14T22:41:53.917954",
     "status": "completed"
    },
    "tags": []
   },
   "source": [
    "# Calculate means and sem on the data set "
   ]
  },
  {
   "cell_type": "code",
   "execution_count": 21,
   "metadata": {
    "execution": {
     "iopub.execute_input": "2020-06-14T22:41:53.977577Z",
     "iopub.status.busy": "2020-06-14T22:41:53.977049Z",
     "iopub.status.idle": "2020-06-14T22:41:54.058567Z",
     "shell.execute_reply": "2020-06-14T22:41:54.058090Z"
    },
    "papermill": {
     "duration": 0.101698,
     "end_time": "2020-06-14T22:41:54.058641",
     "exception": false,
     "start_time": "2020-06-14T22:41:53.956943",
     "status": "completed"
    },
    "tags": []
   },
   "outputs": [],
   "source": [
    "r_ls_period_d1_mean_sem = ahf.calculate_mean_sem (r_ls_period_d1_df)"
   ]
  },
  {
   "cell_type": "code",
   "execution_count": 22,
   "metadata": {
    "execution": {
     "iopub.execute_input": "2020-06-14T22:41:54.101542Z",
     "iopub.status.busy": "2020-06-14T22:41:54.101057Z",
     "iopub.status.idle": "2020-06-14T22:41:54.106583Z",
     "shell.execute_reply": "2020-06-14T22:41:54.106096Z"
    },
    "papermill": {
     "duration": 0.028707,
     "end_time": "2020-06-14T22:41:54.106659",
     "exception": false,
     "start_time": "2020-06-14T22:41:54.077952",
     "status": "completed"
    },
    "tags": []
   },
   "outputs": [],
   "source": [
    "r_ls_period_d2_mean_sem = ahf.calculate_mean_sem (r_ls_period_d2_df)"
   ]
  },
  {
   "cell_type": "code",
   "execution_count": 23,
   "metadata": {
    "execution": {
     "iopub.execute_input": "2020-06-14T22:41:54.147805Z",
     "iopub.status.busy": "2020-06-14T22:41:54.147317Z",
     "iopub.status.idle": "2020-06-14T22:41:54.152474Z",
     "shell.execute_reply": "2020-06-14T22:41:54.151987Z"
    },
    "papermill": {
     "duration": 0.026709,
     "end_time": "2020-06-14T22:41:54.152550",
     "exception": false,
     "start_time": "2020-06-14T22:41:54.125841",
     "status": "completed"
    },
    "tags": []
   },
   "outputs": [],
   "source": [
    "r_wr_period_d1_mean_sem = ahf.calculate_mean_sem (r_wr_period_d1_df)"
   ]
  },
  {
   "cell_type": "code",
   "execution_count": 24,
   "metadata": {
    "execution": {
     "iopub.execute_input": "2020-06-14T22:41:54.193445Z",
     "iopub.status.busy": "2020-06-14T22:41:54.192988Z",
     "iopub.status.idle": "2020-06-14T22:41:54.198725Z",
     "shell.execute_reply": "2020-06-14T22:41:54.198236Z"
    },
    "papermill": {
     "duration": 0.026991,
     "end_time": "2020-06-14T22:41:54.198800",
     "exception": false,
     "start_time": "2020-06-14T22:41:54.171809",
     "status": "completed"
    },
    "tags": []
   },
   "outputs": [],
   "source": [
    "r_wr_period_d2_mean_sem = ahf.calculate_mean_sem (r_wr_period_d2_df)"
   ]
  },
  {
   "cell_type": "markdown",
   "metadata": {
    "papermill": {
     "duration": 0.020148,
     "end_time": "2020-06-14T22:41:54.239735",
     "exception": false,
     "start_time": "2020-06-14T22:41:54.219587",
     "status": "completed"
    },
    "tags": []
   },
   "source": [
    "# make_sem_traces"
   ]
  },
  {
   "cell_type": "code",
   "execution_count": 25,
   "metadata": {
    "execution": {
     "iopub.execute_input": "2020-06-14T22:41:54.282993Z",
     "iopub.status.busy": "2020-06-14T22:41:54.282437Z",
     "iopub.status.idle": "2020-06-14T22:41:54.285038Z",
     "shell.execute_reply": "2020-06-14T22:41:54.284573Z"
    },
    "papermill": {
     "duration": 0.025724,
     "end_time": "2020-06-14T22:41:54.285112",
     "exception": false,
     "start_time": "2020-06-14T22:41:54.259388",
     "status": "completed"
    },
    "tags": []
   },
   "outputs": [],
   "source": [
    "r_ls_period_d1_sem_traces = ahf.make_sem_traces(r_ls_period_d1_mean_sem)"
   ]
  },
  {
   "cell_type": "code",
   "execution_count": 26,
   "metadata": {
    "execution": {
     "iopub.execute_input": "2020-06-14T22:41:54.328053Z",
     "iopub.status.busy": "2020-06-14T22:41:54.327601Z",
     "iopub.status.idle": "2020-06-14T22:41:54.329906Z",
     "shell.execute_reply": "2020-06-14T22:41:54.329435Z"
    },
    "papermill": {
     "duration": 0.025599,
     "end_time": "2020-06-14T22:41:54.329979",
     "exception": false,
     "start_time": "2020-06-14T22:41:54.304380",
     "status": "completed"
    },
    "tags": []
   },
   "outputs": [],
   "source": [
    "r_ls_period_d2_sem_traces = ahf.make_sem_traces(r_ls_period_d2_mean_sem)"
   ]
  },
  {
   "cell_type": "code",
   "execution_count": 27,
   "metadata": {
    "execution": {
     "iopub.execute_input": "2020-06-14T22:41:54.380601Z",
     "iopub.status.busy": "2020-06-14T22:41:54.380130Z",
     "iopub.status.idle": "2020-06-14T22:41:54.382327Z",
     "shell.execute_reply": "2020-06-14T22:41:54.381858Z"
    },
    "papermill": {
     "duration": 0.028191,
     "end_time": "2020-06-14T22:41:54.382403",
     "exception": false,
     "start_time": "2020-06-14T22:41:54.354212",
     "status": "completed"
    },
    "tags": []
   },
   "outputs": [],
   "source": [
    "r_wr_period_d1_sem_traces = ahf.make_sem_traces(r_wr_period_d1_mean_sem)"
   ]
  },
  {
   "cell_type": "code",
   "execution_count": 28,
   "metadata": {
    "execution": {
     "iopub.execute_input": "2020-06-14T22:41:54.425558Z",
     "iopub.status.busy": "2020-06-14T22:41:54.425103Z",
     "iopub.status.idle": "2020-06-14T22:41:54.427384Z",
     "shell.execute_reply": "2020-06-14T22:41:54.426917Z"
    },
    "papermill": {
     "duration": 0.025736,
     "end_time": "2020-06-14T22:41:54.427457",
     "exception": false,
     "start_time": "2020-06-14T22:41:54.401721",
     "status": "completed"
    },
    "tags": []
   },
   "outputs": [],
   "source": [
    "r_wr_period_d2_sem_traces = ahf.make_sem_traces(r_wr_period_d2_mean_sem)"
   ]
  },
  {
   "cell_type": "markdown",
   "metadata": {
    "papermill": {
     "duration": 0.022813,
     "end_time": "2020-06-14T22:41:54.469389",
     "exception": false,
     "start_time": "2020-06-14T22:41:54.446576",
     "status": "completed"
    },
    "tags": []
   },
   "source": [
    "# plots"
   ]
  },
  {
   "cell_type": "code",
   "execution_count": 29,
   "metadata": {
    "execution": {
     "iopub.execute_input": "2020-06-14T22:41:54.517043Z",
     "iopub.status.busy": "2020-06-14T22:41:54.513357Z",
     "iopub.status.idle": "2020-06-14T22:41:54.743726Z",
     "shell.execute_reply": "2020-06-14T22:41:54.744167Z"
    },
    "papermill": {
     "duration": 0.254618,
     "end_time": "2020-06-14T22:41:54.744260",
     "exception": false,
     "start_time": "2020-06-14T22:41:54.489642",
     "status": "completed"
    },
    "scrolled": false,
    "tags": []
   },
   "outputs": [
    {
     "data": {
      "image/png": "[encoded data removed]",
      "text/plain": [
       "<Figure size 432x288 with 1 Axes>"
      ]
     },
     "metadata": {
      "needs_background": "light"
     },
     "output_type": "display_data"
    }
   ],
   "source": [
    "ahf.plot_ipsi_contra_together(r_ls_period_d1_mean_sem,\n",
    "                              r_ls_period_d1_sem_traces,\n",
    "                              \"lose switch\",period_of_interest,\"D1\",y_axis,cache_dir_plt)"
   ]
  },
  {
   "cell_type": "code",
   "execution_count": 30,
   "metadata": {
    "execution": {
     "iopub.execute_input": "2020-06-14T22:41:54.800834Z",
     "iopub.status.busy": "2020-06-14T22:41:54.794877Z",
     "iopub.status.idle": "2020-06-14T22:41:54.989421Z",
     "shell.execute_reply": "2020-06-14T22:41:54.989952Z"
    },
    "papermill": {
     "duration": 0.226001,
     "end_time": "2020-06-14T22:41:54.990044",
     "exception": false,
     "start_time": "2020-06-14T22:41:54.764043",
     "status": "completed"
    },
    "tags": []
   },
   "outputs": [
    {
     "data": {
      "image/png": "[encoded data removed]",
      "text/plain": [
       "<Figure size 432x288 with 1 Axes>"
      ]
     },
     "metadata": {
      "needs_background": "light"
     },
     "output_type": "display_data"
    }
   ],
   "source": [
    "ahf.plot_ipsi_contra_together(r_ls_period_d2_mean_sem,\n",
    "                              r_ls_period_d2_sem_traces,\n",
    "                              \"lose switch\",period_of_interest,\"D2\",y_axis,cache_dir_plt)"
   ]
  },
  {
   "cell_type": "code",
   "execution_count": 31,
   "metadata": {
    "execution": {
     "iopub.execute_input": "2020-06-14T22:41:55.047681Z",
     "iopub.status.busy": "2020-06-14T22:41:55.047204Z",
     "iopub.status.idle": "2020-06-14T22:41:55.244938Z",
     "shell.execute_reply": "2020-06-14T22:41:55.244478Z"
    },
    "papermill": {
     "duration": 0.233507,
     "end_time": "2020-06-14T22:41:55.245012",
     "exception": false,
     "start_time": "2020-06-14T22:41:55.011505",
     "status": "completed"
    },
    "scrolled": true,
    "tags": []
   },
   "outputs": [
    {
     "data": {
      "image/png": "[encoded data removed]",
      "text/plain": [
       "<Figure size 432x288 with 1 Axes>"
      ]
     },
     "metadata": {
      "needs_background": "light"
     },
     "output_type": "display_data"
    }
   ],
   "source": [
    "ahf.plot_ipsi_contra_together(r_wr_period_d1_mean_sem,\n",
    "                              r_wr_period_d1_sem_traces,\n",
    "                              \"win repeat\",period_of_interest,\"D1\",y_axis,cache_dir_plt)"
   ]
  },
  {
   "cell_type": "code",
   "execution_count": 32,
   "metadata": {
    "execution": {
     "iopub.execute_input": "2020-06-14T22:41:55.294346Z",
     "iopub.status.busy": "2020-06-14T22:41:55.293755Z",
     "iopub.status.idle": "2020-06-14T22:41:55.494651Z",
     "shell.execute_reply": "2020-06-14T22:41:55.494188Z"
    },
    "papermill": {
     "duration": 0.22832,
     "end_time": "2020-06-14T22:41:55.494724",
     "exception": false,
     "start_time": "2020-06-14T22:41:55.266404",
     "status": "completed"
    },
    "tags": []
   },
   "outputs": [
    {
     "data": {
      "image/png": "[encoded data removed]",
      "text/plain": [
       "<Figure size 432x288 with 1 Axes>"
      ]
     },
     "metadata": {
      "needs_background": "light"
     },
     "output_type": "display_data"
    }
   ],
   "source": [
    "ahf.plot_ipsi_contra_together(r_wr_period_d2_mean_sem,\n",
    "                              r_wr_period_d2_sem_traces,\n",
    "                              \"win repeat\",period_of_interest,\"D2\",y_axis,cache_dir_plt)"
   ]
  },
  {
   "cell_type": "code",
   "execution_count": null,
   "metadata": {
    "papermill": {
     "duration": 0.024045,
     "end_time": "2020-06-14T22:41:55.542400",
     "exception": false,
     "start_time": "2020-06-14T22:41:55.518355",
     "status": "completed"
    },
    "tags": []
   },
   "outputs": [],
   "source": []
  },
  {
   "cell_type": "code",
   "execution_count": null,
   "metadata": {
    "papermill": {
     "duration": 0.022725,
     "end_time": "2020-06-14T22:41:55.591642",
     "exception": false,
     "start_time": "2020-06-14T22:41:55.568917",
     "status": "completed"
    },
    "tags": []
   },
   "outputs": [],
   "source": []
  },
  {
   "cell_type": "code",
   "execution_count": null,
   "metadata": {
    "papermill": {
     "duration": 0.021338,
     "end_time": "2020-06-14T22:41:55.635237",
     "exception": false,
     "start_time": "2020-06-14T22:41:55.613899",
     "status": "completed"
    },
    "tags": []
   },
   "outputs": [],
   "source": []
  }
 ],
 "metadata": {
  "celltoolbar": "Tags",
  "kernelspec": {
   "display_name": "Python 3",
   "language": "python",
   "name": "python3"
  },
  "language_info": {
   "codemirror_mode": {
    "name": "ipython",
    "version": 3
   },
   "file_extension": ".py",
   "mimetype": "text/x-python",
   "name": "python",
   "nbconvert_exporter": "python",
   "pygments_lexer": "ipython3",
   "version": "3.7.3"
  },
  "papermill": {
   "duration": 23.660409,
   "end_time": "2020-06-14T22:41:55.874497",
   "environment_variables": {},
   "exception": null,
   "input_path": "data_set_lineplot_(ic_together).ipynb",
   "output_path": "TestOutPut.ipynb",
   "parameters": {
    "HowManyBack": 1,
    "folderName": "dual_color_photo_full_data_set",
    "path": "/Volumes/GilInVivoPaper.large/2.Photometry_in_str/2.dual_color_photo_full_data_set_analysis/",
    "period_of_interest": "combined_periods_1",
    "seq_str": "0a1d2a3b4abcde5a6a7b"
   },
   "start_time": "2020-06-14T22:41:32.214088",
   "version": "2.1.1"
  }
 },
 "nbformat": 4,
 "nbformat_minor": 4
}