{
 "cells": [
  {
   "cell_type": "code",
   "execution_count": 1,
   "metadata": {
    "execution": {
     "iopub.execute_input": "2020-06-15T18:32:42.993235Z",
     "iopub.status.busy": "2020-06-15T18:32:42.992660Z",
     "iopub.status.idle": "2020-06-15T18:32:43.552986Z",
     "shell.execute_reply": "2020-06-15T18:32:43.553559Z"
    },
    "papermill": {
     "duration": 0.590121,
     "end_time": "2020-06-15T18:32:43.553723",
     "exception": false,
     "start_time": "2020-06-15T18:32:42.963602",
     "status": "completed"
    },
    "tags": []
   },
   "outputs": [],
   "source": [
    "import pickle\n",
    "from pathlib import Path\n",
    "import pandas as pd \n",
    "import os\n",
    "import sys\n",
    "import matplotlib.pyplot as plt"
   ]
  },
  {
   "cell_type": "code",
   "execution_count": 2,
   "metadata": {
    "execution": {
     "iopub.execute_input": "2020-06-15T18:32:43.605120Z",
     "iopub.status.busy": "2020-06-15T18:32:43.604427Z",
     "iopub.status.idle": "2020-06-15T18:32:43.608407Z",
     "shell.execute_reply": "2020-06-15T18:32:43.607597Z"
    },
    "papermill": {
     "duration": 0.030595,
     "end_time": "2020-06-15T18:32:43.608520",
     "exception": false,
     "start_time": "2020-06-15T18:32:43.577925",
     "status": "completed"
    },
    "tags": []
   },
   "outputs": [],
   "source": [
    "import data_set_analysis_helper_functions as ahf"
   ]
  },
  {
   "cell_type": "code",
   "execution_count": 3,
   "metadata": {
    "execution": {
     "iopub.execute_input": "2020-06-15T18:32:43.656584Z",
     "iopub.status.busy": "2020-06-15T18:32:43.655904Z",
     "iopub.status.idle": "2020-06-15T18:32:43.658300Z",
     "shell.execute_reply": "2020-06-15T18:32:43.657712Z"
    },
    "papermill": {
     "duration": 0.02764,
     "end_time": "2020-06-15T18:32:43.658388",
     "exception": false,
     "start_time": "2020-06-15T18:32:43.630748",
     "status": "completed"
    },
    "tags": [
     "parameters"
    ]
   },
   "outputs": [],
   "source": [
    "seq_str = '0a1b2a3b4abcde5a6a7b'\n",
    "period_of_interest = \"Real_nTrials\"\n",
    "HowManyBack=1\n",
    "folderName=\"dual_color_photo_full_data_set\" #folder where the plot data_set will be saved \n",
    "path = \"/Volumes/GilInVivoPaper.large/2.Photometry_in_str/2.dual_color_photo_full_data_set_analysis/\""
   ]
  },
  {
   "cell_type": "code",
   "execution_count": 4,
   "metadata": {
    "execution": {
     "iopub.execute_input": "2020-06-15T18:32:43.710515Z",
     "iopub.status.busy": "2020-06-15T18:32:43.709714Z",
     "iopub.status.idle": "2020-06-15T18:32:43.712267Z",
     "shell.execute_reply": "2020-06-15T18:32:43.711672Z"
    },
    "papermill": {
     "duration": 0.029112,
     "end_time": "2020-06-15T18:32:43.712359",
     "exception": false,
     "start_time": "2020-06-15T18:32:43.683247",
     "status": "completed"
    },
    "tags": [
     "injected-parameters"
    ]
   },
   "outputs": [],
   "source": [
    "# Parameters\n",
    "seq_str = \"0a1a2a3b4abcde5a6a7b\"\n",
    "HowManyBack = 1\n",
    "folderName = \"dual_color_photo_full_data_set\"\n",
    "path = \"/Volumes/GilInVivoPaper.large/2.Photometry_in_str/2.dual_color_photo_full_data_set_analysis/\"\n",
    "period_of_interest = \"last_200_bins_ENL_tag\"\n"
   ]
  },
  {
   "cell_type": "markdown",
   "metadata": {
    "papermill": {
     "duration": 0.021599,
     "end_time": "2020-06-15T18:32:43.755166",
     "exception": false,
     "start_time": "2020-06-15T18:32:43.733567",
     "status": "completed"
    },
    "tags": []
   },
   "source": [
    "# Folder name of analysis: "
   ]
  },
  {
   "cell_type": "code",
   "execution_count": 5,
   "metadata": {
    "execution": {
     "iopub.execute_input": "2020-06-15T18:32:43.802660Z",
     "iopub.status.busy": "2020-06-15T18:32:43.802091Z",
     "iopub.status.idle": "2020-06-15T18:32:43.804872Z",
     "shell.execute_reply": "2020-06-15T18:32:43.804239Z"
    },
    "papermill": {
     "duration": 0.028761,
     "end_time": "2020-06-15T18:32:43.804967",
     "exception": false,
     "start_time": "2020-06-15T18:32:43.776206",
     "status": "completed"
    },
    "tags": []
   },
   "outputs": [],
   "source": [
    "analysis_type =\"data_set_lineplot_(ic_together)\""
   ]
  },
  {
   "cell_type": "code",
   "execution_count": 6,
   "metadata": {
    "execution": {
     "iopub.execute_input": "2020-06-15T18:32:43.856988Z",
     "iopub.status.busy": "2020-06-15T18:32:43.856329Z",
     "iopub.status.idle": "2020-06-15T18:32:43.859694Z",
     "shell.execute_reply": "2020-06-15T18:32:43.859121Z"
    },
    "papermill": {
     "duration": 0.031676,
     "end_time": "2020-06-15T18:32:43.859780",
     "exception": false,
     "start_time": "2020-06-15T18:32:43.828104",
     "status": "completed"
    },
    "tags": []
   },
   "outputs": [
    {
     "data": {
      "text/plain": [
       "'/anaconda3/bin/python3'"
      ]
     },
     "execution_count": 6,
     "metadata": {},
     "output_type": "execute_result"
    }
   ],
   "source": [
    "sys.executable"
   ]
  },
  {
   "cell_type": "markdown",
   "metadata": {
    "papermill": {
     "duration": 0.022419,
     "end_time": "2020-06-15T18:32:43.903718",
     "exception": false,
     "start_time": "2020-06-15T18:32:43.881299",
     "status": "completed"
    },
    "tags": []
   },
   "source": [
    "# Import the data and where to save it "
   ]
  },
  {
   "cell_type": "code",
   "execution_count": 7,
   "metadata": {
    "execution": {
     "iopub.execute_input": "2020-06-15T18:32:43.952802Z",
     "iopub.status.busy": "2020-06-15T18:32:43.952180Z",
     "iopub.status.idle": "2020-06-15T18:32:43.955119Z",
     "shell.execute_reply": "2020-06-15T18:32:43.954496Z"
    },
    "papermill": {
     "duration": 0.028554,
     "end_time": "2020-06-15T18:32:43.955212",
     "exception": false,
     "start_time": "2020-06-15T18:32:43.926658",
     "status": "completed"
    },
    "tags": []
   },
   "outputs": [],
   "source": [
    "path_to_save = path+\"/\"+folderName+\"/\"+seq_str #also for loading"
   ]
  },
  {
   "cell_type": "markdown",
   "metadata": {
    "papermill": {
     "duration": 0.023135,
     "end_time": "2020-06-15T18:32:44.000908",
     "exception": false,
     "start_time": "2020-06-15T18:32:43.977773",
     "status": "completed"
    },
    "tags": []
   },
   "source": [
    "# Import the data and where to save it "
   ]
  },
  {
   "cell_type": "code",
   "execution_count": 8,
   "metadata": {
    "execution": {
     "iopub.execute_input": "2020-06-15T18:32:44.049445Z",
     "iopub.status.busy": "2020-06-15T18:32:44.048829Z",
     "iopub.status.idle": "2020-06-15T18:33:10.447543Z",
     "shell.execute_reply": "2020-06-15T18:33:10.446912Z"
    },
    "papermill": {
     "duration": 26.424475,
     "end_time": "2020-06-15T18:33:10.447637",
     "exception": false,
     "start_time": "2020-06-15T18:32:44.023162",
     "status": "completed"
    },
    "tags": []
   },
   "outputs": [
    {
     "name": "stdout",
     "output_type": "stream",
     "text": [
      "CPU times: user 24 s, sys: 2.13 s, total: 26.1 s\n",
      "Wall time: 26.4 s\n"
     ]
    }
   ],
   "source": [
    "%%time\n",
    "root = Path(path_to_save)\n",
    "d = \"data_set\"+\"_\"+seq_str+'.pickle'\n",
    "my_path = root / d \n",
    "fileToOpen = open(my_path, 'rb')\n",
    "data_set = pickle.load(fileToOpen)"
   ]
  },
  {
   "cell_type": "code",
   "execution_count": null,
   "metadata": {
    "papermill": {
     "duration": 0.024237,
     "end_time": "2020-06-15T18:33:10.496933",
     "exception": false,
     "start_time": "2020-06-15T18:33:10.472696",
     "status": "completed"
    },
    "tags": []
   },
   "outputs": [],
   "source": []
  },
  {
   "cell_type": "code",
   "execution_count": null,
   "metadata": {
    "papermill": {
     "duration": 0.028255,
     "end_time": "2020-06-15T18:33:10.552525",
     "exception": false,
     "start_time": "2020-06-15T18:33:10.524270",
     "status": "completed"
    },
    "tags": []
   },
   "outputs": [],
   "source": []
  },
  {
   "cell_type": "code",
   "execution_count": 9,
   "metadata": {
    "execution": {
     "iopub.execute_input": "2020-06-15T18:33:10.611313Z",
     "iopub.status.busy": "2020-06-15T18:33:10.610614Z",
     "iopub.status.idle": "2020-06-15T18:33:10.613931Z",
     "shell.execute_reply": "2020-06-15T18:33:10.613254Z"
    },
    "papermill": {
     "duration": 0.032904,
     "end_time": "2020-06-15T18:33:10.614029",
     "exception": false,
     "start_time": "2020-06-15T18:33:10.581125",
     "status": "completed"
    },
    "tags": []
   },
   "outputs": [],
   "source": [
    "y_axis_list = [\"df_f\",\"z_score\",\"z_score_sliding_window\"]"
   ]
  },
  {
   "cell_type": "code",
   "execution_count": 10,
   "metadata": {
    "execution": {
     "iopub.execute_input": "2020-06-15T18:33:10.665371Z",
     "iopub.status.busy": "2020-06-15T18:33:10.664705Z",
     "iopub.status.idle": "2020-06-15T18:33:10.667865Z",
     "shell.execute_reply": "2020-06-15T18:33:10.667272Z"
    },
    "papermill": {
     "duration": 0.030017,
     "end_time": "2020-06-15T18:33:10.667955",
     "exception": false,
     "start_time": "2020-06-15T18:33:10.637938",
     "status": "completed"
    },
    "tags": []
   },
   "outputs": [
    {
     "name": "stdout",
     "output_type": "stream",
     "text": [
      "z_score\n"
     ]
    }
   ],
   "source": [
    "alphabet = [\"a\",\"b\",\"c\",\"d\",\"e\",\"f\",\"g\"]\n",
    "y_axis = y_axis_list[alphabet.index(seq_str[:seq_str.index('4')][-1])]\n",
    "print (y_axis)"
   ]
  },
  {
   "cell_type": "code",
   "execution_count": 11,
   "metadata": {
    "execution": {
     "iopub.execute_input": "2020-06-15T18:33:10.725576Z",
     "iopub.status.busy": "2020-06-15T18:33:10.724781Z",
     "iopub.status.idle": "2020-06-15T18:33:10.727935Z",
     "shell.execute_reply": "2020-06-15T18:33:10.728647Z"
    },
    "papermill": {
     "duration": 0.036924,
     "end_time": "2020-06-15T18:33:10.728833",
     "exception": false,
     "start_time": "2020-06-15T18:33:10.691909",
     "status": "completed"
    },
    "tags": []
   },
   "outputs": [],
   "source": [
    "#period_of_interest=\"combined_periods_1\"\n",
    "#period_of_interest = \"pre_firstENLp_tag\"\n",
    "#period_of_interest=\"last_200_bins_ENL_tag\"\n",
    "#period_of_interest = \"first_15_bins_Cue_to_Sel_tag\"\n",
    "#period_of_interest=\"first_15_bins_Cue_to_Sel_fromPrevTrial_tag\"\n",
    "#period_of_interest=\"Real_nTrials\"\n",
    "#period_of_interest=\"Cue_to_Sel_tag\"\n",
    "#period_of_interest=\"Cue_to_Sel_fromPrevTrial_tag\""
   ]
  },
  {
   "cell_type": "code",
   "execution_count": 12,
   "metadata": {
    "execution": {
     "iopub.execute_input": "2020-06-15T18:33:10.780457Z",
     "iopub.status.busy": "2020-06-15T18:33:10.779885Z",
     "iopub.status.idle": "2020-06-15T18:33:10.782530Z",
     "shell.execute_reply": "2020-06-15T18:33:10.781928Z"
    },
    "papermill": {
     "duration": 0.029896,
     "end_time": "2020-06-15T18:33:10.782630",
     "exception": false,
     "start_time": "2020-06-15T18:33:10.752734",
     "status": "completed"
    },
    "tags": []
   },
   "outputs": [],
   "source": [
    "# stash result in a cache directory, for how many back. \n",
    "cache_dir_plt = os.path.join(path_to_save,analysis_type,period_of_interest)\n",
    "if not os.path.exists(cache_dir_plt):\n",
    "    os.makedirs(cache_dir_plt)"
   ]
  },
  {
   "cell_type": "code",
   "execution_count": 13,
   "metadata": {
    "execution": {
     "iopub.execute_input": "2020-06-15T18:33:10.842096Z",
     "iopub.status.busy": "2020-06-15T18:33:10.841304Z",
     "iopub.status.idle": "2020-06-15T18:33:10.845089Z",
     "shell.execute_reply": "2020-06-15T18:33:10.845741Z"
    },
    "papermill": {
     "duration": 0.035726,
     "end_time": "2020-06-15T18:33:10.845862",
     "exception": false,
     "start_time": "2020-06-15T18:33:10.810136",
     "status": "completed"
    },
    "tags": []
   },
   "outputs": [
    {
     "data": {
      "text/plain": [
       "'/Volumes/GilInVivoPaper.large/2.Photometry_in_str/2.dual_color_photo_full_data_set_analysis//dual_color_photo_full_data_set/0a1a2a3b4abcde5a6a7b/data_set_lineplot_(ic_together)/last_200_bins_ENL_tag'"
      ]
     },
     "execution_count": 13,
     "metadata": {},
     "output_type": "execute_result"
    }
   ],
   "source": [
    "cache_dir_plt"
   ]
  },
  {
   "cell_type": "markdown",
   "metadata": {
    "papermill": {
     "duration": 0.023931,
     "end_time": "2020-06-15T18:33:10.893997",
     "exception": false,
     "start_time": "2020-06-15T18:33:10.870066",
     "status": "completed"
    },
    "tags": []
   },
   "source": [
    "# generate data sets of interest"
   ]
  },
  {
   "cell_type": "code",
   "execution_count": 14,
   "metadata": {
    "execution": {
     "iopub.execute_input": "2020-06-15T18:33:10.948475Z",
     "iopub.status.busy": "2020-06-15T18:33:10.947616Z",
     "iopub.status.idle": "2020-06-15T18:33:11.007458Z",
     "shell.execute_reply": "2020-06-15T18:33:11.008389Z"
    },
    "papermill": {
     "duration": 0.090344,
     "end_time": "2020-06-15T18:33:11.008550",
     "exception": false,
     "start_time": "2020-06-15T18:33:10.918206",
     "status": "completed"
    },
    "tags": []
   },
   "outputs": [],
   "source": [
    "r_ls_period_d1_data_set= ahf.extract_data_of_interest_ipsi_contra_data_set(data_set,\n",
    "                                                                           0,0,\n",
    "                                                                           period_of_interest,\"d1 R\")"
   ]
  },
  {
   "cell_type": "code",
   "execution_count": 15,
   "metadata": {
    "execution": {
     "iopub.execute_input": "2020-06-15T18:33:11.067645Z",
     "iopub.status.busy": "2020-06-15T18:33:11.067069Z",
     "iopub.status.idle": "2020-06-15T18:33:11.093565Z",
     "shell.execute_reply": "2020-06-15T18:33:11.092991Z"
    },
    "papermill": {
     "duration": 0.061981,
     "end_time": "2020-06-15T18:33:11.093651",
     "exception": false,
     "start_time": "2020-06-15T18:33:11.031670",
     "status": "completed"
    },
    "tags": []
   },
   "outputs": [],
   "source": [
    "r_ls_period_d2_data_set= ahf.extract_data_of_interest_ipsi_contra_data_set(data_set,\n",
    "                                                                           0,0,\n",
    "                                                                           period_of_interest,\"d2 R\")"
   ]
  },
  {
   "cell_type": "code",
   "execution_count": 16,
   "metadata": {
    "execution": {
     "iopub.execute_input": "2020-06-15T18:33:11.164566Z",
     "iopub.status.busy": "2020-06-15T18:33:11.162465Z",
     "iopub.status.idle": "2020-06-15T18:33:11.203410Z",
     "shell.execute_reply": "2020-06-15T18:33:11.202829Z"
    },
    "papermill": {
     "duration": 0.086657,
     "end_time": "2020-06-15T18:33:11.203497",
     "exception": false,
     "start_time": "2020-06-15T18:33:11.116840",
     "status": "completed"
    },
    "tags": []
   },
   "outputs": [],
   "source": [
    "r_wr_period_d1_data_set= ahf.extract_data_of_interest_ipsi_contra_data_set(data_set,\n",
    "                                                                           0,3,\n",
    "                                                                           period_of_interest,\"d1 R\")"
   ]
  },
  {
   "cell_type": "code",
   "execution_count": 17,
   "metadata": {
    "execution": {
     "iopub.execute_input": "2020-06-15T18:33:11.262359Z",
     "iopub.status.busy": "2020-06-15T18:33:11.261765Z",
     "iopub.status.idle": "2020-06-15T18:33:11.287357Z",
     "shell.execute_reply": "2020-06-15T18:33:11.287903Z"
    },
    "papermill": {
     "duration": 0.061284,
     "end_time": "2020-06-15T18:33:11.288015",
     "exception": false,
     "start_time": "2020-06-15T18:33:11.226731",
     "status": "completed"
    },
    "tags": []
   },
   "outputs": [],
   "source": [
    "r_wr_period_d2_data_set= ahf.extract_data_of_interest_ipsi_contra_data_set(data_set,\n",
    "                                                                           0,3,\n",
    "                                                                           period_of_interest,\"d2 R\")"
   ]
  },
  {
   "cell_type": "markdown",
   "metadata": {
    "papermill": {
     "duration": 0.023035,
     "end_time": "2020-06-15T18:33:11.334083",
     "exception": false,
     "start_time": "2020-06-15T18:33:11.311048",
     "status": "completed"
    },
    "tags": []
   },
   "source": [
    "# Calculate means per each session "
   ]
  },
  {
   "cell_type": "code",
   "execution_count": 18,
   "metadata": {
    "execution": {
     "iopub.execute_input": "2020-06-15T18:33:11.391656Z",
     "iopub.status.busy": "2020-06-15T18:33:11.391089Z",
     "iopub.status.idle": "2020-06-15T18:33:11.531215Z",
     "shell.execute_reply": "2020-06-15T18:33:11.530626Z"
    },
    "papermill": {
     "duration": 0.172192,
     "end_time": "2020-06-15T18:33:11.531300",
     "exception": false,
     "start_time": "2020-06-15T18:33:11.359108",
     "status": "completed"
    },
    "tags": []
   },
   "outputs": [],
   "source": [
    "r_ls_period_d1_df = ahf.calculate_mean_data_set(r_ls_period_d1_data_set)"
   ]
  },
  {
   "cell_type": "code",
   "execution_count": 19,
   "metadata": {
    "execution": {
     "iopub.execute_input": "2020-06-15T18:33:11.597381Z",
     "iopub.status.busy": "2020-06-15T18:33:11.596653Z",
     "iopub.status.idle": "2020-06-15T18:33:11.737976Z",
     "shell.execute_reply": "2020-06-15T18:33:11.738525Z"
    },
    "papermill": {
     "duration": 0.183708,
     "end_time": "2020-06-15T18:33:11.738664",
     "exception": false,
     "start_time": "2020-06-15T18:33:11.554956",
     "status": "completed"
    },
    "tags": []
   },
   "outputs": [],
   "source": [
    "r_ls_period_d2_df = ahf.calculate_mean_data_set(r_ls_period_d2_data_set)"
   ]
  },
  {
   "cell_type": "code",
   "execution_count": 20,
   "metadata": {
    "execution": {
     "iopub.execute_input": "2020-06-15T18:33:11.798829Z",
     "iopub.status.busy": "2020-06-15T18:33:11.795184Z",
     "iopub.status.idle": "2020-06-15T18:33:11.947711Z",
     "shell.execute_reply": "2020-06-15T18:33:11.948280Z"
    },
    "papermill": {
     "duration": 0.185707,
     "end_time": "2020-06-15T18:33:11.948396",
     "exception": false,
     "start_time": "2020-06-15T18:33:11.762689",
     "status": "completed"
    },
    "tags": []
   },
   "outputs": [],
   "source": [
    "r_wr_period_d1_df = ahf.calculate_mean_data_set(r_wr_period_d1_data_set)"
   ]
  },
  {
   "cell_type": "code",
   "execution_count": 21,
   "metadata": {
    "execution": {
     "iopub.execute_input": "2020-06-15T18:33:12.005743Z",
     "iopub.status.busy": "2020-06-15T18:33:12.005033Z",
     "iopub.status.idle": "2020-06-15T18:33:12.162191Z",
     "shell.execute_reply": "2020-06-15T18:33:12.162736Z"
    },
    "papermill": {
     "duration": 0.190684,
     "end_time": "2020-06-15T18:33:12.162849",
     "exception": false,
     "start_time": "2020-06-15T18:33:11.972165",
     "status": "completed"
    },
    "tags": []
   },
   "outputs": [],
   "source": [
    "r_wr_period_d2_df = ahf.calculate_mean_data_set(r_wr_period_d2_data_set)"
   ]
  },
  {
   "cell_type": "markdown",
   "metadata": {
    "papermill": {
     "duration": 0.025347,
     "end_time": "2020-06-15T18:33:12.213612",
     "exception": false,
     "start_time": "2020-06-15T18:33:12.188265",
     "status": "completed"
    },
    "tags": []
   },
   "source": [
    "# Calculate means and sem on the data set "
   ]
  },
  {
   "cell_type": "code",
   "execution_count": 22,
   "metadata": {
    "execution": {
     "iopub.execute_input": "2020-06-15T18:33:12.267217Z",
     "iopub.status.busy": "2020-06-15T18:33:12.266662Z",
     "iopub.status.idle": "2020-06-15T18:33:12.364254Z",
     "shell.execute_reply": "2020-06-15T18:33:12.363685Z"
    },
    "papermill": {
     "duration": 0.125104,
     "end_time": "2020-06-15T18:33:12.364338",
     "exception": false,
     "start_time": "2020-06-15T18:33:12.239234",
     "status": "completed"
    },
    "tags": []
   },
   "outputs": [],
   "source": [
    "r_ls_period_d1_mean_sem = ahf.calculate_mean_sem (r_ls_period_d1_df)"
   ]
  },
  {
   "cell_type": "code",
   "execution_count": 23,
   "metadata": {
    "execution": {
     "iopub.execute_input": "2020-06-15T18:33:12.417576Z",
     "iopub.status.busy": "2020-06-15T18:33:12.416419Z",
     "iopub.status.idle": "2020-06-15T18:33:12.421312Z",
     "shell.execute_reply": "2020-06-15T18:33:12.421896Z"
    },
    "papermill": {
     "duration": 0.033342,
     "end_time": "2020-06-15T18:33:12.422016",
     "exception": false,
     "start_time": "2020-06-15T18:33:12.388674",
     "status": "completed"
    },
    "tags": []
   },
   "outputs": [],
   "source": [
    "r_ls_period_d2_mean_sem = ahf.calculate_mean_sem (r_ls_period_d2_df)"
   ]
  },
  {
   "cell_type": "code",
   "execution_count": 24,
   "metadata": {
    "execution": {
     "iopub.execute_input": "2020-06-15T18:33:12.474450Z",
     "iopub.status.busy": "2020-06-15T18:33:12.473879Z",
     "iopub.status.idle": "2020-06-15T18:33:12.478815Z",
     "shell.execute_reply": "2020-06-15T18:33:12.478209Z"
    },
    "papermill": {
     "duration": 0.032139,
     "end_time": "2020-06-15T18:33:12.478905",
     "exception": false,
     "start_time": "2020-06-15T18:33:12.446766",
     "status": "completed"
    },
    "tags": []
   },
   "outputs": [],
   "source": [
    "r_wr_period_d1_mean_sem = ahf.calculate_mean_sem (r_wr_period_d1_df)"
   ]
  },
  {
   "cell_type": "code",
   "execution_count": 25,
   "metadata": {
    "execution": {
     "iopub.execute_input": "2020-06-15T18:33:12.532001Z",
     "iopub.status.busy": "2020-06-15T18:33:12.530990Z",
     "iopub.status.idle": "2020-06-15T18:33:12.536543Z",
     "shell.execute_reply": "2020-06-15T18:33:12.535947Z"
    },
    "papermill": {
     "duration": 0.033075,
     "end_time": "2020-06-15T18:33:12.536632",
     "exception": false,
     "start_time": "2020-06-15T18:33:12.503557",
     "status": "completed"
    },
    "tags": []
   },
   "outputs": [],
   "source": [
    "r_wr_period_d2_mean_sem = ahf.calculate_mean_sem (r_wr_period_d2_df)"
   ]
  },
  {
   "cell_type": "markdown",
   "metadata": {
    "papermill": {
     "duration": 0.023809,
     "end_time": "2020-06-15T18:33:12.586409",
     "exception": false,
     "start_time": "2020-06-15T18:33:12.562600",
     "status": "completed"
    },
    "tags": []
   },
   "source": [
    "# make_sem_traces"
   ]
  },
  {
   "cell_type": "code",
   "execution_count": 26,
   "metadata": {
    "execution": {
     "iopub.execute_input": "2020-06-15T18:33:12.645923Z",
     "iopub.status.busy": "2020-06-15T18:33:12.644724Z",
     "iopub.status.idle": "2020-06-15T18:33:12.647464Z",
     "shell.execute_reply": "2020-06-15T18:33:12.648117Z"
    },
    "papermill": {
     "duration": 0.036894,
     "end_time": "2020-06-15T18:33:12.648242",
     "exception": false,
     "start_time": "2020-06-15T18:33:12.611348",
     "status": "completed"
    },
    "tags": []
   },
   "outputs": [],
   "source": [
    "r_ls_period_d1_sem_traces = ahf.make_sem_traces(r_ls_period_d1_mean_sem)"
   ]
  },
  {
   "cell_type": "code",
   "execution_count": 27,
   "metadata": {
    "execution": {
     "iopub.execute_input": "2020-06-15T18:33:12.703043Z",
     "iopub.status.busy": "2020-06-15T18:33:12.702491Z",
     "iopub.status.idle": "2020-06-15T18:33:12.705023Z",
     "shell.execute_reply": "2020-06-15T18:33:12.704468Z"
    },
    "papermill": {
     "duration": 0.032158,
     "end_time": "2020-06-15T18:33:12.705109",
     "exception": false,
     "start_time": "2020-06-15T18:33:12.672951",
     "status": "completed"
    },
    "tags": []
   },
   "outputs": [],
   "source": [
    "r_ls_period_d2_sem_traces = ahf.make_sem_traces(r_ls_period_d2_mean_sem)"
   ]
  },
  {
   "cell_type": "code",
   "execution_count": 28,
   "metadata": {
    "execution": {
     "iopub.execute_input": "2020-06-15T18:33:12.762260Z",
     "iopub.status.busy": "2020-06-15T18:33:12.761691Z",
     "iopub.status.idle": "2020-06-15T18:33:12.764038Z",
     "shell.execute_reply": "2020-06-15T18:33:12.764608Z"
    },
    "papermill": {
     "duration": 0.03364,
     "end_time": "2020-06-15T18:33:12.764730",
     "exception": false,
     "start_time": "2020-06-15T18:33:12.731090",
     "status": "completed"
    },
    "tags": []
   },
   "outputs": [],
   "source": [
    "r_wr_period_d1_sem_traces = ahf.make_sem_traces(r_wr_period_d1_mean_sem)"
   ]
  },
  {
   "cell_type": "code",
   "execution_count": 29,
   "metadata": {
    "execution": {
     "iopub.execute_input": "2020-06-15T18:33:12.820629Z",
     "iopub.status.busy": "2020-06-15T18:33:12.820079Z",
     "iopub.status.idle": "2020-06-15T18:33:12.822763Z",
     "shell.execute_reply": "2020-06-15T18:33:12.822187Z"
    },
    "papermill": {
     "duration": 0.032896,
     "end_time": "2020-06-15T18:33:12.822851",
     "exception": false,
     "start_time": "2020-06-15T18:33:12.789955",
     "status": "completed"
    },
    "tags": []
   },
   "outputs": [],
   "source": [
    "r_wr_period_d2_sem_traces = ahf.make_sem_traces(r_wr_period_d2_mean_sem)"
   ]
  },
  {
   "cell_type": "markdown",
   "metadata": {
    "papermill": {
     "duration": 0.025311,
     "end_time": "2020-06-15T18:33:12.874765",
     "exception": false,
     "start_time": "2020-06-15T18:33:12.849454",
     "status": "completed"
    },
    "tags": []
   },
   "source": [
    "# plots"
   ]
  },
  {
   "cell_type": "code",
   "execution_count": 30,
   "metadata": {
    "execution": {
     "iopub.execute_input": "2020-06-15T18:33:12.939769Z",
     "iopub.status.busy": "2020-06-15T18:33:12.930386Z",
     "iopub.status.idle": "2020-06-15T18:33:13.248428Z",
     "shell.execute_reply": "2020-06-15T18:33:13.247871Z"
    },
    "papermill": {
     "duration": 0.346982,
     "end_time": "2020-06-15T18:33:13.248512",
     "exception": false,
     "start_time": "2020-06-15T18:33:12.901530",
     "status": "completed"
    },
    "scrolled": false,
    "tags": []
   },
   "outputs": [
    {
     "data": {
      "image/png": "[encoded data removed]",
      "text/plain": [
       "<Figure size 432x288 with 1 Axes>"
      ]
     },
     "metadata": {
      "needs_background": "light"
     },
     "output_type": "display_data"
    }
   ],
   "source": [
    "ahf.plot_ipsi_contra_together(r_ls_period_d1_mean_sem,\n",
    "                              r_ls_period_d1_sem_traces,\n",
    "                              \"lose switch\",period_of_interest,\"D1\",y_axis,cache_dir_plt)"
   ]
  },
  {
   "cell_type": "code",
   "execution_count": 31,
   "metadata": {
    "execution": {
     "iopub.execute_input": "2020-06-15T18:33:13.329559Z",
     "iopub.status.busy": "2020-06-15T18:33:13.328965Z",
     "iopub.status.idle": "2020-06-15T18:33:13.592681Z",
     "shell.execute_reply": "2020-06-15T18:33:13.592109Z"
    },
    "papermill": {
     "duration": 0.316956,
     "end_time": "2020-06-15T18:33:13.592767",
     "exception": false,
     "start_time": "2020-06-15T18:33:13.275811",
     "status": "completed"
    },
    "tags": []
   },
   "outputs": [
    {
     "data": {
      "image/png": "[encoded data removed]",
      "text/plain": [
       "<Figure size 432x288 with 1 Axes>"
      ]
     },
     "metadata": {
      "needs_background": "light"
     },
     "output_type": "display_data"
    }
   ],
   "source": [
    "ahf.plot_ipsi_contra_together(r_ls_period_d2_mean_sem,\n",
    "                              r_ls_period_d2_sem_traces,\n",
    "                              \"lose switch\",period_of_interest,\"D2\",y_axis,cache_dir_plt)"
   ]
  },
  {
   "cell_type": "code",
   "execution_count": 32,
   "metadata": {
    "execution": {
     "iopub.execute_input": "2020-06-15T18:33:13.658153Z",
     "iopub.status.busy": "2020-06-15T18:33:13.657468Z",
     "iopub.status.idle": "2020-06-15T18:33:13.937409Z",
     "shell.execute_reply": "2020-06-15T18:33:13.936849Z"
    },
    "papermill": {
     "duration": 0.318078,
     "end_time": "2020-06-15T18:33:13.937495",
     "exception": false,
     "start_time": "2020-06-15T18:33:13.619417",
     "status": "completed"
    },
    "scrolled": true,
    "tags": []
   },
   "outputs": [
    {
     "data": {
      "image/png": "[encoded data removed]",
      "text/plain": [
       "<Figure size 432x288 with 1 Axes>"
      ]
     },
     "metadata": {
      "needs_background": "light"
     },
     "output_type": "display_data"
    }
   ],
   "source": [
    "ahf.plot_ipsi_contra_together(r_wr_period_d1_mean_sem,\n",
    "                              r_wr_period_d1_sem_traces,\n",
    "                              \"win repeat\",period_of_interest,\"D1\",y_axis,cache_dir_plt)"
   ]
  },
  {
   "cell_type": "code",
   "execution_count": 33,
   "metadata": {
    "execution": {
     "iopub.execute_input": "2020-06-15T18:33:14.026326Z",
     "iopub.status.busy": "2020-06-15T18:33:14.009815Z",
     "iopub.status.idle": "2020-06-15T18:33:14.307791Z",
     "shell.execute_reply": "2020-06-15T18:33:14.307218Z"
    },
    "papermill": {
     "duration": 0.342028,
     "end_time": "2020-06-15T18:33:14.307879",
     "exception": false,
     "start_time": "2020-06-15T18:33:13.965851",
     "status": "completed"
    },
    "tags": []
   },
   "outputs": [
    {
     "data": {
      "image/png": "[encoded data removed]",
      "text/plain": [
       "<Figure size 432x288 with 1 Axes>"
      ]
     },
     "metadata": {
      "needs_background": "light"
     },
     "output_type": "display_data"
    }
   ],
   "source": [
    "ahf.plot_ipsi_contra_together(r_wr_period_d2_mean_sem,\n",
    "                              r_wr_period_d2_sem_traces,\n",
    "                              \"win repeat\",period_of_interest,\"D2\",y_axis,cache_dir_plt)"
   ]
  },
  {
   "cell_type": "code",
   "execution_count": null,
   "metadata": {
    "papermill": {
     "duration": 0.033655,
     "end_time": "2020-06-15T18:33:14.373510",
     "exception": false,
     "start_time": "2020-06-15T18:33:14.339855",
     "status": "completed"
    },
    "tags": []
   },
   "outputs": [],
   "source": []
  },
  {
   "cell_type": "code",
   "execution_count": null,
   "metadata": {
    "papermill": {
     "duration": 0.031234,
     "end_time": "2020-06-15T18:33:14.437182",
     "exception": false,
     "start_time": "2020-06-15T18:33:14.405948",
     "status": "completed"
    },
    "tags": []
   },
   "outputs": [],
   "source": []
  },
  {
   "cell_type": "code",
   "execution_count": null,
   "metadata": {
    "papermill": {
     "duration": 0.030797,
     "end_time": "2020-06-15T18:33:14.498596",
     "exception": false,
     "start_time": "2020-06-15T18:33:14.467799",
     "status": "completed"
    },
    "tags": []
   },
   "outputs": [],
   "source": []
  }
 ],
 "metadata": {
  "celltoolbar": "Tags",
  "kernelspec": {
   "display_name": "Python 3",
   "language": "python",
   "name": "python3"
  },
  "language_info": {
   "codemirror_mode": {
    "name": "ipython",
    "version": 3
   },
   "file_extension": ".py",
   "mimetype": "text/x-python",
   "name": "python",
   "nbconvert_exporter": "python",
   "pygments_lexer": "ipython3",
   "version": "3.7.3"
  },
  "papermill": {
   "duration": 32.769403,
   "end_time": "2020-06-15T18:33:14.840319",
   "environment_variables": {},
   "exception": null,
   "input_path": "data_set_lineplot_(ic_together).ipynb",
   "output_path": "TestOutPut.ipynb",
   "parameters": {
    "HowManyBack": 1,
    "folderName": "dual_color_photo_full_data_set",
    "path": "/Volumes/GilInVivoPaper.large/2.Photometry_in_str/2.dual_color_photo_full_data_set_analysis/",
    "period_of_interest": "last_200_bins_ENL_tag",
    "seq_str": "0a1a2a3b4abcde5a6a7b"
   },
   "start_time": "2020-06-15T18:32:42.070916",
   "version": "2.1.1"
  }
 },
 "nbformat": 4,
 "nbformat_minor": 4
}