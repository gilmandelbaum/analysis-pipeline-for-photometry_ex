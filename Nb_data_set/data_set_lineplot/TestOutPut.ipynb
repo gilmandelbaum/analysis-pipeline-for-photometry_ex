{
 "cells": [
  {
   "cell_type": "markdown",
   "metadata": {
    "tags": [
     "papermill-error-cell-tag"
    ]
   },
   "source": [
    "<span style=\"color:red; font-family:Helvetica Neue, Helvetica, Arial, sans-serif; font-size:2em;\">An Exception was encountered at '<a href=\"#papermill-error-cell\">In [14]</a>'.</span>"
   ]
  },
  {
   "cell_type": "code",
   "execution_count": 1,
   "metadata": {
    "execution": {
     "iopub.execute_input": "2020-06-16T17:07:38.012247Z",
     "iopub.status.busy": "2020-06-16T17:07:38.011655Z",
     "iopub.status.idle": "2020-06-16T17:07:38.670793Z",
     "shell.execute_reply": "2020-06-16T17:07:38.670236Z"
    },
    "papermill": {
     "duration": 0.688337,
     "end_time": "2020-06-16T17:07:38.670901",
     "exception": false,
     "start_time": "2020-06-16T17:07:37.982564",
     "status": "completed"
    },
    "tags": []
   },
   "outputs": [],
   "source": [
    "import pickle\n",
    "from pathlib import Path\n",
    "import pandas as pd \n",
    "import os\n",
    "import sys\n",
    "import matplotlib.pyplot as plt"
   ]
  },
  {
   "cell_type": "code",
   "execution_count": 2,
   "metadata": {
    "execution": {
     "iopub.execute_input": "2020-06-16T17:07:38.733891Z",
     "iopub.status.busy": "2020-06-16T17:07:38.733006Z",
     "iopub.status.idle": "2020-06-16T17:07:38.736476Z",
     "shell.execute_reply": "2020-06-16T17:07:38.735875Z"
    },
    "papermill": {
     "duration": 0.028334,
     "end_time": "2020-06-16T17:07:38.736564",
     "exception": false,
     "start_time": "2020-06-16T17:07:38.708230",
     "status": "completed"
    },
    "tags": []
   },
   "outputs": [],
   "source": [
    "import data_set_lineplot_ic_together_helper_functions as dslhf"
   ]
  },
  {
   "cell_type": "code",
   "execution_count": 3,
   "metadata": {
    "execution": {
     "iopub.execute_input": "2020-06-16T17:07:38.780847Z",
     "iopub.status.busy": "2020-06-16T17:07:38.780333Z",
     "iopub.status.idle": "2020-06-16T17:07:38.782675Z",
     "shell.execute_reply": "2020-06-16T17:07:38.782168Z"
    },
    "papermill": {
     "duration": 0.025248,
     "end_time": "2020-06-16T17:07:38.782753",
     "exception": false,
     "start_time": "2020-06-16T17:07:38.757505",
     "status": "completed"
    },
    "tags": [
     "parameters"
    ]
   },
   "outputs": [],
   "source": [
    "seq_str = '0a1b2a3b4abcde5a6a7b'\n",
    "period_of_interest = \"Real_nTrials\"\n",
    "HowManyBack=1\n",
    "folderName=\"dual_color_photo_full_data_set\" #folder where the plot data_set will be saved \n",
    "path = \"/Volumes/GilInVivoPaper.large/2.Photometry_in_str/2.dual_color_photo_full_data_set_analysis/\""
   ]
  },
  {
   "cell_type": "code",
   "execution_count": 4,
   "metadata": {
    "execution": {
     "iopub.execute_input": "2020-06-16T17:07:39.121676Z",
     "iopub.status.busy": "2020-06-16T17:07:39.121023Z",
     "iopub.status.idle": "2020-06-16T17:07:39.123625Z",
     "shell.execute_reply": "2020-06-16T17:07:39.123024Z"
    },
    "papermill": {
     "duration": 0.322754,
     "end_time": "2020-06-16T17:07:39.123715",
     "exception": false,
     "start_time": "2020-06-16T17:07:38.800961",
     "status": "completed"
    },
    "tags": [
     "injected-parameters"
    ]
   },
   "outputs": [],
   "source": [
    "# Parameters\n",
    "seq_str = \"0a1b2a3c4abcd5a6a7a\"\n",
    "HowManyBack = 1\n",
    "folderName = \"left_dual_color_photo_full_data_set\"\n",
    "path_to_save = \"/Volumes/GilInVivoPaper.large/2.Photometry_in_str/2.dual_color_photo_full_data_set_analysis//left_dual_color_photo_full_data_set/0a1b2a3c4abcd5a6a7a\"\n",
    "period_of_interest = \"combined_periods_1\"\n"
   ]
  },
  {
   "cell_type": "markdown",
   "metadata": {
    "papermill": {
     "duration": 0.023382,
     "end_time": "2020-06-16T17:07:39.171762",
     "exception": false,
     "start_time": "2020-06-16T17:07:39.148380",
     "status": "completed"
    },
    "tags": []
   },
   "source": [
    "# Folder name of analysis: "
   ]
  },
  {
   "cell_type": "code",
   "execution_count": 5,
   "metadata": {
    "execution": {
     "iopub.execute_input": "2020-06-16T17:07:39.219200Z",
     "iopub.status.busy": "2020-06-16T17:07:39.218687Z",
     "iopub.status.idle": "2020-06-16T17:07:39.220695Z",
     "shell.execute_reply": "2020-06-16T17:07:39.221216Z"
    },
    "papermill": {
     "duration": 0.026495,
     "end_time": "2020-06-16T17:07:39.221333",
     "exception": false,
     "start_time": "2020-06-16T17:07:39.194838",
     "status": "completed"
    },
    "tags": []
   },
   "outputs": [],
   "source": [
    "analysis_type =\"data_set_lineplot_(ic_together)\""
   ]
  },
  {
   "cell_type": "code",
   "execution_count": 6,
   "metadata": {
    "execution": {
     "iopub.execute_input": "2020-06-16T17:07:39.264322Z",
     "iopub.status.busy": "2020-06-16T17:07:39.263784Z",
     "iopub.status.idle": "2020-06-16T17:07:39.266771Z",
     "shell.execute_reply": "2020-06-16T17:07:39.266269Z"
    },
    "papermill": {
     "duration": 0.026512,
     "end_time": "2020-06-16T17:07:39.266850",
     "exception": false,
     "start_time": "2020-06-16T17:07:39.240338",
     "status": "completed"
    },
    "tags": []
   },
   "outputs": [
    {
     "data": {
      "text/plain": [
       "'/anaconda3/bin/python3'"
      ]
     },
     "execution_count": 6,
     "metadata": {},
     "output_type": "execute_result"
    }
   ],
   "source": [
    "sys.executable"
   ]
  },
  {
   "cell_type": "markdown",
   "metadata": {
    "papermill": {
     "duration": 0.020092,
     "end_time": "2020-06-16T17:07:39.307133",
     "exception": false,
     "start_time": "2020-06-16T17:07:39.287041",
     "status": "completed"
    },
    "tags": []
   },
   "source": [
    "# Import the data and where to save it "
   ]
  },
  {
   "cell_type": "code",
   "execution_count": 7,
   "metadata": {
    "execution": {
     "iopub.execute_input": "2020-06-16T17:07:39.351058Z",
     "iopub.status.busy": "2020-06-16T17:07:39.350586Z",
     "iopub.status.idle": "2020-06-16T17:07:39.352821Z",
     "shell.execute_reply": "2020-06-16T17:07:39.352329Z"
    },
    "papermill": {
     "duration": 0.024882,
     "end_time": "2020-06-16T17:07:39.352898",
     "exception": false,
     "start_time": "2020-06-16T17:07:39.328016",
     "status": "completed"
    },
    "tags": []
   },
   "outputs": [],
   "source": [
    "path_to_save = path+\"/\"+folderName+\"/\"+seq_str #also for loading"
   ]
  },
  {
   "cell_type": "markdown",
   "metadata": {
    "papermill": {
     "duration": 0.018355,
     "end_time": "2020-06-16T17:07:39.390230",
     "exception": false,
     "start_time": "2020-06-16T17:07:39.371875",
     "status": "completed"
    },
    "tags": []
   },
   "source": [
    "# Import the data and where to save it "
   ]
  },
  {
   "cell_type": "code",
   "execution_count": 8,
   "metadata": {
    "execution": {
     "iopub.execute_input": "2020-06-16T17:07:39.435446Z",
     "iopub.status.busy": "2020-06-16T17:07:39.434860Z",
     "iopub.status.idle": "2020-06-16T17:07:39.574433Z",
     "shell.execute_reply": "2020-06-16T17:07:39.574885Z"
    },
    "papermill": {
     "duration": 0.165456,
     "end_time": "2020-06-16T17:07:39.574981",
     "exception": false,
     "start_time": "2020-06-16T17:07:39.409525",
     "status": "completed"
    },
    "tags": []
   },
   "outputs": [
    {
     "ename": "FileNotFoundError",
     "evalue": "[Errno 2] No such file or directory: '/Volumes/GilInVivoPaper.large/2.Photometry_in_str/2.dual_color_photo_full_data_set_analysis/left_dual_color_photo_full_data_set/0a1b2a3c4abcd5a6a7a/data_set_0a1b2a3c4abcd5a6a7a.pickle'",
     "output_type": "error",
     "traceback": [
      "\u001b[0;31m---------------------------------------------------------------------------\u001b[0m",
      "\u001b[0;31mFileNotFoundError\u001b[0m                         Traceback (most recent call last)",
      "\u001b[0;32m<timed exec>\u001b[0m in \u001b[0;36m<module>\u001b[0;34m\u001b[0m\n",
      "\u001b[0;31mFileNotFoundError\u001b[0m: [Errno 2] No such file or directory: '/Volumes/GilInVivoPaper.large/2.Photometry_in_str/2.dual_color_photo_full_data_set_analysis/left_dual_color_photo_full_data_set/0a1b2a3c4abcd5a6a7a/data_set_0a1b2a3c4abcd5a6a7a.pickle'"
     ]
    }
   ],
   "source": [
    "%%time\n",
    "root = Path(path_to_save)\n",
    "d = \"data_set\"+\"_\"+seq_str+'.pickle'\n",
    "my_path = root / d \n",
    "fileToOpen = open(my_path, 'rb')\n",
    "data_set = pickle.load(fileToOpen)"
   ]
  },
  {
   "cell_type": "code",
   "execution_count": null,
   "metadata": {
    "papermill": {
     "duration": 0.01841,
     "end_time": "2020-06-16T17:07:39.611771",
     "exception": false,
     "start_time": "2020-06-16T17:07:39.593361",
     "status": "completed"
    },
    "tags": []
   },
   "outputs": [],
   "source": []
  },
  {
   "cell_type": "code",
   "execution_count": null,
   "metadata": {
    "papermill": {
     "duration": 0.020437,
     "end_time": "2020-06-16T17:07:39.653370",
     "exception": false,
     "start_time": "2020-06-16T17:07:39.632933",
     "status": "completed"
    },
    "tags": []
   },
   "outputs": [],
   "source": []
  },
  {
   "cell_type": "code",
   "execution_count": 9,
   "metadata": {
    "execution": {
     "iopub.execute_input": "2020-06-16T17:07:39.699334Z",
     "iopub.status.busy": "2020-06-16T17:07:39.698848Z",
     "iopub.status.idle": "2020-06-16T17:07:39.700696Z",
     "shell.execute_reply": "2020-06-16T17:07:39.701223Z"
    },
    "papermill": {
     "duration": 0.026371,
     "end_time": "2020-06-16T17:07:39.701340",
     "exception": false,
     "start_time": "2020-06-16T17:07:39.674969",
     "status": "completed"
    },
    "tags": []
   },
   "outputs": [],
   "source": [
    "y_axis_list = [\"df_f\",\"z_score\",\"z_score_sliding_window\"]"
   ]
  },
  {
   "cell_type": "code",
   "execution_count": 10,
   "metadata": {
    "execution": {
     "iopub.execute_input": "2020-06-16T17:07:39.745408Z",
     "iopub.status.busy": "2020-06-16T17:07:39.744927Z",
     "iopub.status.idle": "2020-06-16T17:07:39.747554Z",
     "shell.execute_reply": "2020-06-16T17:07:39.747070Z"
    },
    "papermill": {
     "duration": 0.026245,
     "end_time": "2020-06-16T17:07:39.747630",
     "exception": false,
     "start_time": "2020-06-16T17:07:39.721385",
     "status": "completed"
    },
    "tags": []
   },
   "outputs": [
    {
     "name": "stdout",
     "output_type": "stream",
     "text": [
      "z_score_sliding_window\n"
     ]
    }
   ],
   "source": [
    "alphabet = [\"a\",\"b\",\"c\",\"d\",\"e\",\"f\",\"g\"]\n",
    "y_axis = y_axis_list[alphabet.index(seq_str[:seq_str.index('4')][-1])]\n",
    "print (y_axis)"
   ]
  },
  {
   "cell_type": "code",
   "execution_count": 11,
   "metadata": {
    "execution": {
     "iopub.execute_input": "2020-06-16T17:07:39.792112Z",
     "iopub.status.busy": "2020-06-16T17:07:39.791614Z",
     "iopub.status.idle": "2020-06-16T17:07:39.793906Z",
     "shell.execute_reply": "2020-06-16T17:07:39.793414Z"
    },
    "papermill": {
     "duration": 0.025918,
     "end_time": "2020-06-16T17:07:39.793981",
     "exception": false,
     "start_time": "2020-06-16T17:07:39.768063",
     "status": "completed"
    },
    "tags": []
   },
   "outputs": [],
   "source": [
    "#period_of_interest=\"combined_periods_1\"\n",
    "#period_of_interest = \"pre_firstENLp_tag\"\n",
    "#period_of_interest=\"last_200_bins_ENL_tag\"\n",
    "#period_of_interest = \"first_15_bins_Cue_to_Sel_tag\"\n",
    "#period_of_interest=\"first_15_bins_Cue_to_Sel_fromPrevTrial_tag\"\n",
    "#period_of_interest=\"Real_nTrials\"\n",
    "#period_of_interest=\"Cue_to_Sel_tag\"\n",
    "#period_of_interest=\"Cue_to_Sel_fromPrevTrial_tag\""
   ]
  },
  {
   "cell_type": "code",
   "execution_count": 12,
   "metadata": {
    "execution": {
     "iopub.execute_input": "2020-06-16T17:07:39.842249Z",
     "iopub.status.busy": "2020-06-16T17:07:39.841766Z",
     "iopub.status.idle": "2020-06-16T17:07:39.845525Z",
     "shell.execute_reply": "2020-06-16T17:07:39.845000Z"
    },
    "papermill": {
     "duration": 0.029692,
     "end_time": "2020-06-16T17:07:39.845605",
     "exception": false,
     "start_time": "2020-06-16T17:07:39.815913",
     "status": "completed"
    },
    "tags": []
   },
   "outputs": [],
   "source": [
    "# stash result in a cache directory, for how many back. \n",
    "cache_dir_plt = os.path.join(path_to_save,analysis_type,period_of_interest)\n",
    "if not os.path.exists(cache_dir_plt):\n",
    "    os.makedirs(cache_dir_plt)"
   ]
  },
  {
   "cell_type": "code",
   "execution_count": 13,
   "metadata": {
    "execution": {
     "iopub.execute_input": "2020-06-16T17:07:39.895214Z",
     "iopub.status.busy": "2020-06-16T17:07:39.894574Z",
     "iopub.status.idle": "2020-06-16T17:07:39.898691Z",
     "shell.execute_reply": "2020-06-16T17:07:39.898046Z"
    },
    "papermill": {
     "duration": 0.028613,
     "end_time": "2020-06-16T17:07:39.898789",
     "exception": false,
     "start_time": "2020-06-16T17:07:39.870176",
     "status": "completed"
    },
    "tags": []
   },
   "outputs": [
    {
     "data": {
      "text/plain": [
       "'/Volumes/GilInVivoPaper.large/2.Photometry_in_str/2.dual_color_photo_full_data_set_analysis//left_dual_color_photo_full_data_set/0a1b2a3c4abcd5a6a7a/data_set_lineplot_(ic_together)/combined_periods_1'"
      ]
     },
     "execution_count": 13,
     "metadata": {},
     "output_type": "execute_result"
    }
   ],
   "source": [
    "cache_dir_plt"
   ]
  },
  {
   "cell_type": "markdown",
   "metadata": {
    "papermill": {
     "duration": 0.020411,
     "end_time": "2020-06-16T17:07:39.941359",
     "exception": false,
     "start_time": "2020-06-16T17:07:39.920948",
     "status": "completed"
    },
    "tags": []
   },
   "source": [
    "# generate data sets of interest"
   ]
  },
  {
   "cell_type": "markdown",
   "metadata": {
    "tags": [
     "papermill-error-cell-tag"
    ]
   },
   "source": [
    "<span id=\"papermill-error-cell\" style=\"color:red; font-family:Helvetica Neue, Helvetica, Arial, sans-serif; font-size:2em;\">Execution using papermill encountered an exception here and stopped:</span>"
   ]
  },
  {
   "cell_type": "code",
   "execution_count": 14,
   "metadata": {
    "execution": {
     "iopub.execute_input": "2020-06-16T17:07:39.985729Z",
     "iopub.status.busy": "2020-06-16T17:07:39.985059Z",
     "iopub.status.idle": "2020-06-16T17:07:39.992288Z",
     "shell.execute_reply": "2020-06-16T17:07:39.991347Z"
    },
    "papermill": {
     "duration": 0.031551,
     "end_time": "2020-06-16T17:07:39.992447",
     "exception": true,
     "start_time": "2020-06-16T17:07:39.960896",
     "status": "failed"
    },
    "tags": []
   },
   "outputs": [
    {
     "ename": "NameError",
     "evalue": "name 'data_set' is not defined",
     "output_type": "error",
     "traceback": [
      "\u001b[0;31m---------------------------------------------------------------------------\u001b[0m",
      "\u001b[0;31mNameError\u001b[0m                                 Traceback (most recent call last)",
      "\u001b[0;32m<ipython-input-14-45b2b2a2390d>\u001b[0m in \u001b[0;36m<module>\u001b[0;34m\u001b[0m\n\u001b[0;32m----> 1\u001b[0;31m l_ls_period_d1_data_set= dslhf.extract_data_of_interest_ipsi_contra_data_set(data_set,\n\u001b[0m\u001b[1;32m      2\u001b[0m                                                                            \u001b[0;36m1\u001b[0m\u001b[0;34m,\u001b[0m\u001b[0;36m0\u001b[0m\u001b[0;34m,\u001b[0m\u001b[0;34m\u001b[0m\u001b[0;34m\u001b[0m\u001b[0m\n\u001b[1;32m      3\u001b[0m                                                                            period_of_interest,\"d1 L\")\n",
      "\u001b[0;31mNameError\u001b[0m: name 'data_set' is not defined"
     ]
    }
   ],
   "source": [
    "l_ls_period_d1_data_set= dslhf.extract_data_of_interest_ipsi_contra_data_set(data_set,\n",
    "                                                                           1,0,\n",
    "                                                                           period_of_interest,\"d1 L\")"
   ]
  },
  {
   "cell_type": "code",
   "execution_count": null,
   "metadata": {
    "papermill": {
     "duration": null,
     "end_time": null,
     "exception": null,
     "start_time": null,
     "status": "pending"
    },
    "tags": []
   },
   "outputs": [],
   "source": [
    "l_ls_period_d2_data_set= dslhf.extract_data_of_interest_ipsi_contra_data_set(data_set,\n",
    "                                                                           1,0,\n",
    "                                                                           period_of_interest,\"d2 L\")"
   ]
  },
  {
   "cell_type": "code",
   "execution_count": null,
   "metadata": {
    "papermill": {
     "duration": null,
     "end_time": null,
     "exception": null,
     "start_time": null,
     "status": "pending"
    },
    "tags": []
   },
   "outputs": [],
   "source": [
    "l_wr_period_d1_data_set= dslhf.extract_data_of_interest_ipsi_contra_data_set(data_set,\n",
    "                                                                           1,3,\n",
    "                                                                           period_of_interest,\"d1 L\")"
   ]
  },
  {
   "cell_type": "code",
   "execution_count": null,
   "metadata": {
    "papermill": {
     "duration": null,
     "end_time": null,
     "exception": null,
     "start_time": null,
     "status": "pending"
    },
    "tags": []
   },
   "outputs": [],
   "source": [
    "l_wr_period_d2_data_set= dslhf.extract_data_of_interest_ipsi_contra_data_set(data_set,\n",
    "                                                                           1,3,\n",
    "                                                                           period_of_interest,\"d2 L\")"
   ]
  },
  {
   "cell_type": "markdown",
   "metadata": {
    "papermill": {
     "duration": null,
     "end_time": null,
     "exception": null,
     "start_time": null,
     "status": "pending"
    },
    "tags": []
   },
   "source": [
    "# Calculate means per each session "
   ]
  },
  {
   "cell_type": "code",
   "execution_count": null,
   "metadata": {
    "papermill": {
     "duration": null,
     "end_time": null,
     "exception": null,
     "start_time": null,
     "status": "pending"
    },
    "tags": []
   },
   "outputs": [],
   "source": [
    "l_ls_period_d1_df = dslhf.calculate_mean_data_set(l_ls_period_d1_data_set)"
   ]
  },
  {
   "cell_type": "code",
   "execution_count": null,
   "metadata": {
    "papermill": {
     "duration": null,
     "end_time": null,
     "exception": null,
     "start_time": null,
     "status": "pending"
    },
    "tags": []
   },
   "outputs": [],
   "source": [
    "l_ls_period_d2_df = dslhf.calculate_mean_data_set(l_ls_period_d2_data_set)"
   ]
  },
  {
   "cell_type": "code",
   "execution_count": null,
   "metadata": {
    "papermill": {
     "duration": null,
     "end_time": null,
     "exception": null,
     "start_time": null,
     "status": "pending"
    },
    "tags": []
   },
   "outputs": [],
   "source": [
    "l_wr_period_d1_df = dslhf.calculate_mean_data_set(l_wr_period_d1_data_set)"
   ]
  },
  {
   "cell_type": "code",
   "execution_count": null,
   "metadata": {
    "papermill": {
     "duration": null,
     "end_time": null,
     "exception": null,
     "start_time": null,
     "status": "pending"
    },
    "tags": []
   },
   "outputs": [],
   "source": [
    "l_wr_period_d2_df = dslhf.calculate_mean_data_set(l_wr_period_d2_data_set)"
   ]
  },
  {
   "cell_type": "markdown",
   "metadata": {
    "papermill": {
     "duration": null,
     "end_time": null,
     "exception": null,
     "start_time": null,
     "status": "pending"
    },
    "tags": []
   },
   "source": [
    "# Calculate means and sem on the data set "
   ]
  },
  {
   "cell_type": "code",
   "execution_count": null,
   "metadata": {
    "papermill": {
     "duration": null,
     "end_time": null,
     "exception": null,
     "start_time": null,
     "status": "pending"
    },
    "tags": []
   },
   "outputs": [],
   "source": [
    "l_ls_period_d1_mean_sem = dslhf.calculate_mean_sem (l_ls_period_d1_df)"
   ]
  },
  {
   "cell_type": "code",
   "execution_count": null,
   "metadata": {
    "papermill": {
     "duration": null,
     "end_time": null,
     "exception": null,
     "start_time": null,
     "status": "pending"
    },
    "tags": []
   },
   "outputs": [],
   "source": [
    "l_ls_period_d2_mean_sem = dslhf.calculate_mean_sem (l_ls_period_d2_df)"
   ]
  },
  {
   "cell_type": "code",
   "execution_count": null,
   "metadata": {
    "papermill": {
     "duration": null,
     "end_time": null,
     "exception": null,
     "start_time": null,
     "status": "pending"
    },
    "tags": []
   },
   "outputs": [],
   "source": [
    "l_wr_period_d1_mean_sem = dslhf.calculate_mean_sem (l_wr_period_d1_df)"
   ]
  },
  {
   "cell_type": "code",
   "execution_count": null,
   "metadata": {
    "papermill": {
     "duration": null,
     "end_time": null,
     "exception": null,
     "start_time": null,
     "status": "pending"
    },
    "tags": []
   },
   "outputs": [],
   "source": [
    "l_wr_period_d2_mean_sem = dslhf.calculate_mean_sem (l_wr_period_d2_df)"
   ]
  },
  {
   "cell_type": "markdown",
   "metadata": {
    "papermill": {
     "duration": null,
     "end_time": null,
     "exception": null,
     "start_time": null,
     "status": "pending"
    },
    "tags": []
   },
   "source": [
    "# make_sem_traces"
   ]
  },
  {
   "cell_type": "code",
   "execution_count": null,
   "metadata": {
    "papermill": {
     "duration": null,
     "end_time": null,
     "exception": null,
     "start_time": null,
     "status": "pending"
    },
    "tags": []
   },
   "outputs": [],
   "source": [
    "l_ls_period_d1_sem_traces = dslhf.make_sem_traces(l_ls_period_d1_mean_sem)"
   ]
  },
  {
   "cell_type": "code",
   "execution_count": null,
   "metadata": {
    "papermill": {
     "duration": null,
     "end_time": null,
     "exception": null,
     "start_time": null,
     "status": "pending"
    },
    "tags": []
   },
   "outputs": [],
   "source": [
    "l_ls_period_d2_sem_traces = dslhf.make_sem_traces(l_ls_period_d2_mean_sem)"
   ]
  },
  {
   "cell_type": "code",
   "execution_count": null,
   "metadata": {
    "papermill": {
     "duration": null,
     "end_time": null,
     "exception": null,
     "start_time": null,
     "status": "pending"
    },
    "tags": []
   },
   "outputs": [],
   "source": [
    "l_wr_period_d1_sem_traces = dslhf.make_sem_traces(l_wr_period_d1_mean_sem)"
   ]
  },
  {
   "cell_type": "code",
   "execution_count": null,
   "metadata": {
    "papermill": {
     "duration": null,
     "end_time": null,
     "exception": null,
     "start_time": null,
     "status": "pending"
    },
    "tags": []
   },
   "outputs": [],
   "source": [
    "l_wr_period_d2_sem_traces = dslhf.make_sem_traces(l_wr_period_d2_mean_sem)"
   ]
  },
  {
   "cell_type": "markdown",
   "metadata": {
    "papermill": {
     "duration": null,
     "end_time": null,
     "exception": null,
     "start_time": null,
     "status": "pending"
    },
    "tags": []
   },
   "source": [
    "# plots"
   ]
  },
  {
   "cell_type": "code",
   "execution_count": null,
   "metadata": {
    "papermill": {
     "duration": null,
     "end_time": null,
     "exception": null,
     "start_time": null,
     "status": "pending"
    },
    "scrolled": false,
    "tags": []
   },
   "outputs": [],
   "source": [
    "dslhf.plot_ipsi_contra_together(l_ls_period_d1_mean_sem,\n",
    "                              l_ls_period_d1_sem_traces,\n",
    "                              \"left_lose switch\",period_of_interest,\"D1\",y_axis,cache_dir_plt)"
   ]
  },
  {
   "cell_type": "code",
   "execution_count": null,
   "metadata": {
    "papermill": {
     "duration": null,
     "end_time": null,
     "exception": null,
     "start_time": null,
     "status": "pending"
    },
    "tags": []
   },
   "outputs": [],
   "source": [
    "dslhf.plot_ipsi_contra_together(l_ls_period_d2_mean_sem,\n",
    "                              l_ls_period_d2_sem_traces,\n",
    "                              \"left_lose switch\",period_of_interest,\"D2\",y_axis,cache_dir_plt)"
   ]
  },
  {
   "cell_type": "code",
   "execution_count": null,
   "metadata": {
    "papermill": {
     "duration": null,
     "end_time": null,
     "exception": null,
     "start_time": null,
     "status": "pending"
    },
    "scrolled": true,
    "tags": []
   },
   "outputs": [],
   "source": [
    "dslhf.plot_ipsi_contra_together(l_wr_period_d1_mean_sem,\n",
    "                              l_wr_period_d1_sem_traces,\n",
    "                              \"left_win repeat\",period_of_interest,\"D1\",y_axis,cache_dir_plt)"
   ]
  },
  {
   "cell_type": "code",
   "execution_count": null,
   "metadata": {
    "papermill": {
     "duration": null,
     "end_time": null,
     "exception": null,
     "start_time": null,
     "status": "pending"
    },
    "tags": []
   },
   "outputs": [],
   "source": [
    "dslhf.plot_ipsi_contra_together(l_wr_period_d2_mean_sem,\n",
    "                              l_wr_period_d2_sem_traces,\n",
    "                              \"left_win repeat\",period_of_interest,\"D2\",y_axis,cache_dir_plt)"
   ]
  },
  {
   "cell_type": "code",
   "execution_count": null,
   "metadata": {
    "papermill": {
     "duration": null,
     "end_time": null,
     "exception": null,
     "start_time": null,
     "status": "pending"
    },
    "tags": []
   },
   "outputs": [],
   "source": []
  },
  {
   "cell_type": "code",
   "execution_count": null,
   "metadata": {
    "papermill": {
     "duration": null,
     "end_time": null,
     "exception": null,
     "start_time": null,
     "status": "pending"
    },
    "tags": []
   },
   "outputs": [],
   "source": []
  },
  {
   "cell_type": "code",
   "execution_count": null,
   "metadata": {
    "papermill": {
     "duration": null,
     "end_time": null,
     "exception": null,
     "start_time": null,
     "status": "pending"
    },
    "tags": []
   },
   "outputs": [],
   "source": []
  }
 ],
 "metadata": {
  "celltoolbar": "Tags",
  "kernelspec": {
   "display_name": "Python 3",
   "language": "python",
   "name": "python3"
  },
  "language_info": {
   "codemirror_mode": {
    "name": "ipython",
    "version": 3
   },
   "file_extension": ".py",
   "mimetype": "text/x-python",
   "name": "python",
   "nbconvert_exporter": "python",
   "pygments_lexer": "ipython3",
   "version": "3.7.3"
  },
  "papermill": {
   "duration": 2.995302,
   "end_time": "2020-06-16T17:07:40.201899",
   "environment_variables": {},
   "exception": true,
   "input_path": "data_set_lineplot_ic_together_left_side.ipynb",
   "output_path": "TestOutPut.ipynb",
   "parameters": {
    "HowManyBack": 1,
    "folderName": "left_dual_color_photo_full_data_set",
    "path_to_save": "/Volumes/GilInVivoPaper.large/2.Photometry_in_str/2.dual_color_photo_full_data_set_analysis//left_dual_color_photo_full_data_set/0a1b2a3c4abcd5a6a7a",
    "period_of_interest": "combined_periods_1",
    "seq_str": "0a1b2a3c4abcd5a6a7a"
   },
   "start_time": "2020-06-16T17:07:37.206597",
   "version": "2.1.1"
  }
 },
 "nbformat": 4,
 "nbformat_minor": 4
}