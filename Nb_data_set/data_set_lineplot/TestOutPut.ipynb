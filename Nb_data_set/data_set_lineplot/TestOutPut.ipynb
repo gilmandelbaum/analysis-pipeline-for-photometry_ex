{
 "cells": [
  {
   "cell_type": "code",
   "execution_count": 1,
   "metadata": {
    "execution": {
     "iopub.execute_input": "2020-06-16T17:47:42.294942Z",
     "iopub.status.busy": "2020-06-16T17:47:42.294344Z",
     "iopub.status.idle": "2020-06-16T17:47:42.877410Z",
     "shell.execute_reply": "2020-06-16T17:47:42.876845Z"
    },
    "papermill": {
     "duration": 0.613019,
     "end_time": "2020-06-16T17:47:42.877513",
     "exception": false,
     "start_time": "2020-06-16T17:47:42.264494",
     "status": "completed"
    },
    "tags": []
   },
   "outputs": [],
   "source": [
    "import pickle\n",
    "from pathlib import Path\n",
    "import pandas as pd \n",
    "import os\n",
    "import sys\n",
    "import matplotlib.pyplot as plt"
   ]
  },
  {
   "cell_type": "code",
   "execution_count": 2,
   "metadata": {
    "execution": {
     "iopub.execute_input": "2020-06-16T17:47:42.917041Z",
     "iopub.status.busy": "2020-06-16T17:47:42.916131Z",
     "iopub.status.idle": "2020-06-16T17:47:42.919673Z",
     "shell.execute_reply": "2020-06-16T17:47:42.920148Z"
    },
    "papermill": {
     "duration": 0.024714,
     "end_time": "2020-06-16T17:47:42.920245",
     "exception": false,
     "start_time": "2020-06-16T17:47:42.895531",
     "status": "completed"
    },
    "tags": []
   },
   "outputs": [],
   "source": [
    "import data_set_lineplot_ic_together_helper_functions as dslhf"
   ]
  },
  {
   "cell_type": "code",
   "execution_count": 3,
   "metadata": {
    "execution": {
     "iopub.execute_input": "2020-06-16T17:47:42.959500Z",
     "iopub.status.busy": "2020-06-16T17:47:42.959048Z",
     "iopub.status.idle": "2020-06-16T17:47:42.960877Z",
     "shell.execute_reply": "2020-06-16T17:47:42.961220Z"
    },
    "papermill": {
     "duration": 0.023031,
     "end_time": "2020-06-16T17:47:42.961315",
     "exception": false,
     "start_time": "2020-06-16T17:47:42.938284",
     "status": "completed"
    },
    "tags": [
     "parameters"
    ]
   },
   "outputs": [],
   "source": [
    "seq_str = '0a1b2a3b4abcd5a6a7a'\n",
    "period_of_interest = \"Real_nTrials\"\n",
    "HowManyBack=1\n",
    "folderName=\"right_dual_color_photo_full_data_set\" #folder where the plot data_set will be saved \n",
    "path = \"/Volumes/GilInVivoPaper.large/2.Photometry_in_str/2.dual_color_photo_full_data_set_analysis/\""
   ]
  },
  {
   "cell_type": "code",
   "execution_count": 4,
   "metadata": {
    "execution": {
     "iopub.execute_input": "2020-06-16T17:47:43.000994Z",
     "iopub.status.busy": "2020-06-16T17:47:43.000560Z",
     "iopub.status.idle": "2020-06-16T17:47:43.003067Z",
     "shell.execute_reply": "2020-06-16T17:47:43.002608Z"
    },
    "papermill": {
     "duration": 0.023976,
     "end_time": "2020-06-16T17:47:43.003138",
     "exception": false,
     "start_time": "2020-06-16T17:47:42.979162",
     "status": "completed"
    },
    "tags": [
     "injected-parameters"
    ]
   },
   "outputs": [],
   "source": [
    "# Parameters\n",
    "seq_str = \"0a1b2a3c4abcd5a6a7a\"\n",
    "HowManyBack = 1\n",
    "folderName = \"right_dual_color_photo_full_data_set\"\n",
    "path_to_save = \"/Volumes/GilInVivoPaper.large/2.Photometry_in_str/2.dual_color_photo_full_data_set_analysis//right_dual_color_photo_full_data_set/0a1b2a3c4abcd5a6a7a\"\n",
    "period_of_interest = \"last_200_bins_ENL_tag\"\n"
   ]
  },
  {
   "cell_type": "markdown",
   "metadata": {
    "papermill": {
     "duration": 0.019214,
     "end_time": "2020-06-16T17:47:43.040753",
     "exception": false,
     "start_time": "2020-06-16T17:47:43.021539",
     "status": "completed"
    },
    "tags": []
   },
   "source": [
    "# Folder name of analysis: "
   ]
  },
  {
   "cell_type": "code",
   "execution_count": 5,
   "metadata": {
    "execution": {
     "iopub.execute_input": "2020-06-16T17:47:43.080475Z",
     "iopub.status.busy": "2020-06-16T17:47:43.080034Z",
     "iopub.status.idle": "2020-06-16T17:47:43.082084Z",
     "shell.execute_reply": "2020-06-16T17:47:43.082440Z"
    },
    "papermill": {
     "duration": 0.022878,
     "end_time": "2020-06-16T17:47:43.082539",
     "exception": false,
     "start_time": "2020-06-16T17:47:43.059661",
     "status": "completed"
    },
    "tags": []
   },
   "outputs": [],
   "source": [
    "analysis_type =\"data_set_lineplot_(ic_together)\""
   ]
  },
  {
   "cell_type": "code",
   "execution_count": 6,
   "metadata": {
    "execution": {
     "iopub.execute_input": "2020-06-16T17:47:43.124145Z",
     "iopub.status.busy": "2020-06-16T17:47:43.123664Z",
     "iopub.status.idle": "2020-06-16T17:47:43.126134Z",
     "shell.execute_reply": "2020-06-16T17:47:43.126605Z"
    },
    "papermill": {
     "duration": 0.026665,
     "end_time": "2020-06-16T17:47:43.126705",
     "exception": false,
     "start_time": "2020-06-16T17:47:43.100040",
     "status": "completed"
    },
    "tags": []
   },
   "outputs": [
    {
     "data": {
      "text/plain": [
       "'/anaconda3/bin/python3'"
      ]
     },
     "execution_count": 6,
     "metadata": {},
     "output_type": "execute_result"
    }
   ],
   "source": [
    "sys.executable"
   ]
  },
  {
   "cell_type": "markdown",
   "metadata": {
    "papermill": {
     "duration": 0.018269,
     "end_time": "2020-06-16T17:47:43.163623",
     "exception": false,
     "start_time": "2020-06-16T17:47:43.145354",
     "status": "completed"
    },
    "tags": []
   },
   "source": [
    "# Import the data and where to save it "
   ]
  },
  {
   "cell_type": "code",
   "execution_count": 7,
   "metadata": {
    "execution": {
     "iopub.execute_input": "2020-06-16T17:47:43.205440Z",
     "iopub.status.busy": "2020-06-16T17:47:43.204961Z",
     "iopub.status.idle": "2020-06-16T17:47:43.207318Z",
     "shell.execute_reply": "2020-06-16T17:47:43.206799Z"
    },
    "papermill": {
     "duration": 0.024781,
     "end_time": "2020-06-16T17:47:43.207398",
     "exception": false,
     "start_time": "2020-06-16T17:47:43.182617",
     "status": "completed"
    },
    "tags": []
   },
   "outputs": [],
   "source": [
    "path_to_save = path+\"/\"+folderName+\"/\"+seq_str #also for loading"
   ]
  },
  {
   "cell_type": "markdown",
   "metadata": {
    "papermill": {
     "duration": 0.017353,
     "end_time": "2020-06-16T17:47:43.243334",
     "exception": false,
     "start_time": "2020-06-16T17:47:43.225981",
     "status": "completed"
    },
    "tags": []
   },
   "source": [
    "# Import the data and where to save it "
   ]
  },
  {
   "cell_type": "code",
   "execution_count": 8,
   "metadata": {
    "execution": {
     "iopub.execute_input": "2020-06-16T17:47:43.286512Z",
     "iopub.status.busy": "2020-06-16T17:47:43.285955Z",
     "iopub.status.idle": "2020-06-16T17:48:04.073948Z",
     "shell.execute_reply": "2020-06-16T17:48:04.073450Z"
    },
    "papermill": {
     "duration": 20.812301,
     "end_time": "2020-06-16T17:48:04.074035",
     "exception": false,
     "start_time": "2020-06-16T17:47:43.261734",
     "status": "completed"
    },
    "tags": []
   },
   "outputs": [
    {
     "name": "stdout",
     "output_type": "stream",
     "text": [
      "CPU times: user 17.4 s, sys: 2.69 s, total: 20.1 s\n",
      "Wall time: 20.8 s\n"
     ]
    }
   ],
   "source": [
    "%%time\n",
    "root = Path(path_to_save)\n",
    "d = \"data_set\"+\"_\"+seq_str+'.pickle'\n",
    "my_path = root / d \n",
    "fileToOpen = open(my_path, 'rb')\n",
    "data_set = pickle.load(fileToOpen)"
   ]
  },
  {
   "cell_type": "code",
   "execution_count": null,
   "metadata": {
    "papermill": {
     "duration": 0.019883,
     "end_time": "2020-06-16T17:48:04.113716",
     "exception": false,
     "start_time": "2020-06-16T17:48:04.093833",
     "status": "completed"
    },
    "tags": []
   },
   "outputs": [],
   "source": []
  },
  {
   "cell_type": "code",
   "execution_count": null,
   "metadata": {
    "papermill": {
     "duration": 0.020729,
     "end_time": "2020-06-16T17:48:04.156172",
     "exception": false,
     "start_time": "2020-06-16T17:48:04.135443",
     "status": "completed"
    },
    "tags": []
   },
   "outputs": [],
   "source": []
  },
  {
   "cell_type": "code",
   "execution_count": 9,
   "metadata": {
    "execution": {
     "iopub.execute_input": "2020-06-16T17:48:04.197118Z",
     "iopub.status.busy": "2020-06-16T17:48:04.196363Z",
     "iopub.status.idle": "2020-06-16T17:48:04.199134Z",
     "shell.execute_reply": "2020-06-16T17:48:04.198608Z"
    },
    "papermill": {
     "duration": 0.024227,
     "end_time": "2020-06-16T17:48:04.199208",
     "exception": false,
     "start_time": "2020-06-16T17:48:04.174981",
     "status": "completed"
    },
    "tags": []
   },
   "outputs": [],
   "source": [
    "y_axis_list = [\"df_f\",\"z_score\",\"z_score_sliding_window\"]"
   ]
  },
  {
   "cell_type": "code",
   "execution_count": 10,
   "metadata": {
    "execution": {
     "iopub.execute_input": "2020-06-16T17:48:04.247322Z",
     "iopub.status.busy": "2020-06-16T17:48:04.246815Z",
     "iopub.status.idle": "2020-06-16T17:48:04.249566Z",
     "shell.execute_reply": "2020-06-16T17:48:04.249020Z"
    },
    "papermill": {
     "duration": 0.028481,
     "end_time": "2020-06-16T17:48:04.249657",
     "exception": false,
     "start_time": "2020-06-16T17:48:04.221176",
     "status": "completed"
    },
    "tags": []
   },
   "outputs": [
    {
     "name": "stdout",
     "output_type": "stream",
     "text": [
      "z_score_sliding_window\n"
     ]
    }
   ],
   "source": [
    "alphabet = [\"a\",\"b\",\"c\",\"d\",\"e\",\"f\",\"g\"]\n",
    "y_axis = y_axis_list[alphabet.index(seq_str[:seq_str.index('4')][-1])]\n",
    "print (y_axis)"
   ]
  },
  {
   "cell_type": "code",
   "execution_count": 11,
   "metadata": {
    "execution": {
     "iopub.execute_input": "2020-06-16T17:48:04.293062Z",
     "iopub.status.busy": "2020-06-16T17:48:04.292591Z",
     "iopub.status.idle": "2020-06-16T17:48:04.294697Z",
     "shell.execute_reply": "2020-06-16T17:48:04.294218Z"
    },
    "papermill": {
     "duration": 0.024085,
     "end_time": "2020-06-16T17:48:04.294769",
     "exception": false,
     "start_time": "2020-06-16T17:48:04.270684",
     "status": "completed"
    },
    "tags": []
   },
   "outputs": [],
   "source": [
    "#period_of_interest=\"combined_periods_1\"\n",
    "#period_of_interest = \"pre_firstENLp_tag\"\n",
    "#period_of_interest=\"last_200_bins_ENL_tag\"\n",
    "#period_of_interest = \"first_15_bins_Cue_to_Sel_tag\"\n",
    "#period_of_interest=\"first_15_bins_Cue_to_Sel_fromPrevTrial_tag\"\n",
    "#period_of_interest=\"Real_nTrials\"\n",
    "#period_of_interest=\"Cue_to_Sel_tag\"\n",
    "#period_of_interest=\"Cue_to_Sel_fromPrevTrial_tag\""
   ]
  },
  {
   "cell_type": "code",
   "execution_count": 12,
   "metadata": {
    "execution": {
     "iopub.execute_input": "2020-06-16T17:48:04.335779Z",
     "iopub.status.busy": "2020-06-16T17:48:04.335336Z",
     "iopub.status.idle": "2020-06-16T17:48:04.341898Z",
     "shell.execute_reply": "2020-06-16T17:48:04.342388Z"
    },
    "papermill": {
     "duration": 0.029002,
     "end_time": "2020-06-16T17:48:04.342494",
     "exception": false,
     "start_time": "2020-06-16T17:48:04.313492",
     "status": "completed"
    },
    "tags": []
   },
   "outputs": [],
   "source": [
    "# stash result in a cache directory, for how many back. \n",
    "cache_dir_plt = os.path.join(path_to_save,analysis_type,period_of_interest)\n",
    "if not os.path.exists(cache_dir_plt):\n",
    "    os.makedirs(cache_dir_plt)"
   ]
  },
  {
   "cell_type": "code",
   "execution_count": 13,
   "metadata": {
    "execution": {
     "iopub.execute_input": "2020-06-16T17:48:04.387903Z",
     "iopub.status.busy": "2020-06-16T17:48:04.387157Z",
     "iopub.status.idle": "2020-06-16T17:48:04.390583Z",
     "shell.execute_reply": "2020-06-16T17:48:04.390053Z"
    },
    "papermill": {
     "duration": 0.028011,
     "end_time": "2020-06-16T17:48:04.390664",
     "exception": false,
     "start_time": "2020-06-16T17:48:04.362653",
     "status": "completed"
    },
    "tags": []
   },
   "outputs": [
    {
     "data": {
      "text/plain": [
       "'/Volumes/GilInVivoPaper.large/2.Photometry_in_str/2.dual_color_photo_full_data_set_analysis//right_dual_color_photo_full_data_set/0a1b2a3c4abcd5a6a7a/data_set_lineplot_(ic_together)/last_200_bins_ENL_tag'"
      ]
     },
     "execution_count": 13,
     "metadata": {},
     "output_type": "execute_result"
    }
   ],
   "source": [
    "cache_dir_plt"
   ]
  },
  {
   "cell_type": "markdown",
   "metadata": {
    "papermill": {
     "duration": 0.020819,
     "end_time": "2020-06-16T17:48:04.433337",
     "exception": false,
     "start_time": "2020-06-16T17:48:04.412518",
     "status": "completed"
    },
    "tags": []
   },
   "source": [
    "# generate data sets of interest"
   ]
  },
  {
   "cell_type": "code",
   "execution_count": 14,
   "metadata": {
    "execution": {
     "iopub.execute_input": "2020-06-16T17:48:04.477707Z",
     "iopub.status.busy": "2020-06-16T17:48:04.475030Z",
     "iopub.status.idle": "2020-06-16T17:48:04.519371Z",
     "shell.execute_reply": "2020-06-16T17:48:04.519854Z"
    },
    "papermill": {
     "duration": 0.066847,
     "end_time": "2020-06-16T17:48:04.519958",
     "exception": false,
     "start_time": "2020-06-16T17:48:04.453111",
     "status": "completed"
    },
    "tags": []
   },
   "outputs": [],
   "source": [
    "r_ls_period_d1_data_set= dslhf.extract_data_of_interest_ipsi_contra_data_set(data_set,\n",
    "                                                                           0,0,\n",
    "                                                                           period_of_interest,\"d1 R\")"
   ]
  },
  {
   "cell_type": "code",
   "execution_count": 15,
   "metadata": {
    "execution": {
     "iopub.execute_input": "2020-06-16T17:48:04.582386Z",
     "iopub.status.busy": "2020-06-16T17:48:04.574797Z",
     "iopub.status.idle": "2020-06-16T17:48:04.601098Z",
     "shell.execute_reply": "2020-06-16T17:48:04.600573Z"
    },
    "papermill": {
     "duration": 0.060546,
     "end_time": "2020-06-16T17:48:04.601179",
     "exception": false,
     "start_time": "2020-06-16T17:48:04.540633",
     "status": "completed"
    },
    "tags": []
   },
   "outputs": [],
   "source": [
    "r_ls_period_d2_data_set= dslhf.extract_data_of_interest_ipsi_contra_data_set(data_set,\n",
    "                                                                           0,0,\n",
    "                                                                           period_of_interest,\"d2 R\")"
   ]
  },
  {
   "cell_type": "code",
   "execution_count": 16,
   "metadata": {
    "execution": {
     "iopub.execute_input": "2020-06-16T17:48:04.655412Z",
     "iopub.status.busy": "2020-06-16T17:48:04.654933Z",
     "iopub.status.idle": "2020-06-16T17:48:04.692592Z",
     "shell.execute_reply": "2020-06-16T17:48:04.693032Z"
    },
    "papermill": {
     "duration": 0.071083,
     "end_time": "2020-06-16T17:48:04.693127",
     "exception": false,
     "start_time": "2020-06-16T17:48:04.622044",
     "status": "completed"
    },
    "tags": []
   },
   "outputs": [],
   "source": [
    "r_wr_period_d1_data_set= dslhf.extract_data_of_interest_ipsi_contra_data_set(data_set,\n",
    "                                                                           0,3,\n",
    "                                                                           period_of_interest,\"d1 R\")"
   ]
  },
  {
   "cell_type": "code",
   "execution_count": 17,
   "metadata": {
    "execution": {
     "iopub.execute_input": "2020-06-16T17:48:04.752935Z",
     "iopub.status.busy": "2020-06-16T17:48:04.752288Z",
     "iopub.status.idle": "2020-06-16T17:48:04.773148Z",
     "shell.execute_reply": "2020-06-16T17:48:04.772607Z"
    },
    "papermill": {
     "duration": 0.060389,
     "end_time": "2020-06-16T17:48:04.773231",
     "exception": false,
     "start_time": "2020-06-16T17:48:04.712842",
     "status": "completed"
    },
    "tags": []
   },
   "outputs": [],
   "source": [
    "r_wr_period_d2_data_set= dslhf.extract_data_of_interest_ipsi_contra_data_set(data_set,\n",
    "                                                                           0,3,\n",
    "                                                                           period_of_interest,\"d2 R\")"
   ]
  },
  {
   "cell_type": "markdown",
   "metadata": {
    "papermill": {
     "duration": 0.019188,
     "end_time": "2020-06-16T17:48:04.811998",
     "exception": false,
     "start_time": "2020-06-16T17:48:04.792810",
     "status": "completed"
    },
    "tags": []
   },
   "source": [
    "# Calculate means per each session "
   ]
  },
  {
   "cell_type": "code",
   "execution_count": 18,
   "metadata": {
    "execution": {
     "iopub.execute_input": "2020-06-16T17:48:04.864056Z",
     "iopub.status.busy": "2020-06-16T17:48:04.863543Z",
     "iopub.status.idle": "2020-06-16T17:48:04.993580Z",
     "shell.execute_reply": "2020-06-16T17:48:04.993918Z"
    },
    "papermill": {
     "duration": 0.160862,
     "end_time": "2020-06-16T17:48:04.994015",
     "exception": false,
     "start_time": "2020-06-16T17:48:04.833153",
     "status": "completed"
    },
    "tags": []
   },
   "outputs": [],
   "source": [
    "r_ls_period_d1_df = dslhf.calculate_mean_data_set(r_ls_period_d1_data_set)"
   ]
  },
  {
   "cell_type": "code",
   "execution_count": 19,
   "metadata": {
    "execution": {
     "iopub.execute_input": "2020-06-16T17:48:05.047229Z",
     "iopub.status.busy": "2020-06-16T17:48:05.041412Z",
     "iopub.status.idle": "2020-06-16T17:48:05.165048Z",
     "shell.execute_reply": "2020-06-16T17:48:05.165464Z"
    },
    "papermill": {
     "duration": 0.152742,
     "end_time": "2020-06-16T17:48:05.165559",
     "exception": false,
     "start_time": "2020-06-16T17:48:05.012817",
     "status": "completed"
    },
    "tags": []
   },
   "outputs": [],
   "source": [
    "r_ls_period_d2_df = dslhf.calculate_mean_data_set(r_ls_period_d2_data_set)"
   ]
  },
  {
   "cell_type": "code",
   "execution_count": 20,
   "metadata": {
    "execution": {
     "iopub.execute_input": "2020-06-16T17:48:05.215911Z",
     "iopub.status.busy": "2020-06-16T17:48:05.211447Z",
     "iopub.status.idle": "2020-06-16T17:48:05.359959Z",
     "shell.execute_reply": "2020-06-16T17:48:05.359487Z"
    },
    "papermill": {
     "duration": 0.1739,
     "end_time": "2020-06-16T17:48:05.360031",
     "exception": false,
     "start_time": "2020-06-16T17:48:05.186131",
     "status": "completed"
    },
    "tags": []
   },
   "outputs": [],
   "source": [
    "r_wr_period_d1_df = dslhf.calculate_mean_data_set(r_wr_period_d1_data_set)"
   ]
  },
  {
   "cell_type": "code",
   "execution_count": 21,
   "metadata": {
    "execution": {
     "iopub.execute_input": "2020-06-16T17:48:05.409192Z",
     "iopub.status.busy": "2020-06-16T17:48:05.408002Z",
     "iopub.status.idle": "2020-06-16T17:48:05.547722Z",
     "shell.execute_reply": "2020-06-16T17:48:05.547240Z"
    },
    "papermill": {
     "duration": 0.168233,
     "end_time": "2020-06-16T17:48:05.547797",
     "exception": false,
     "start_time": "2020-06-16T17:48:05.379564",
     "status": "completed"
    },
    "tags": []
   },
   "outputs": [],
   "source": [
    "r_wr_period_d2_df = dslhf.calculate_mean_data_set(r_wr_period_d2_data_set)"
   ]
  },
  {
   "cell_type": "markdown",
   "metadata": {
    "papermill": {
     "duration": 0.022255,
     "end_time": "2020-06-16T17:48:05.591260",
     "exception": false,
     "start_time": "2020-06-16T17:48:05.569005",
     "status": "completed"
    },
    "tags": []
   },
   "source": [
    "# Calculate means and sem on the data set "
   ]
  },
  {
   "cell_type": "code",
   "execution_count": 22,
   "metadata": {
    "execution": {
     "iopub.execute_input": "2020-06-16T17:48:05.637188Z",
     "iopub.status.busy": "2020-06-16T17:48:05.636400Z",
     "iopub.status.idle": "2020-06-16T17:48:05.803986Z",
     "shell.execute_reply": "2020-06-16T17:48:05.803393Z"
    },
    "papermill": {
     "duration": 0.191814,
     "end_time": "2020-06-16T17:48:05.804099",
     "exception": false,
     "start_time": "2020-06-16T17:48:05.612285",
     "status": "completed"
    },
    "tags": []
   },
   "outputs": [],
   "source": [
    "r_ls_period_d1_mean_sem = dslhf.calculate_mean_sem (r_ls_period_d1_df)"
   ]
  },
  {
   "cell_type": "code",
   "execution_count": 23,
   "metadata": {
    "execution": {
     "iopub.execute_input": "2020-06-16T17:48:05.853110Z",
     "iopub.status.busy": "2020-06-16T17:48:05.852458Z",
     "iopub.status.idle": "2020-06-16T17:48:05.856657Z",
     "shell.execute_reply": "2020-06-16T17:48:05.857130Z"
    },
    "papermill": {
     "duration": 0.030488,
     "end_time": "2020-06-16T17:48:05.857230",
     "exception": false,
     "start_time": "2020-06-16T17:48:05.826742",
     "status": "completed"
    },
    "tags": []
   },
   "outputs": [],
   "source": [
    "r_ls_period_d2_mean_sem = dslhf.calculate_mean_sem (r_ls_period_d2_df)"
   ]
  },
  {
   "cell_type": "code",
   "execution_count": 24,
   "metadata": {
    "execution": {
     "iopub.execute_input": "2020-06-16T17:48:05.903772Z",
     "iopub.status.busy": "2020-06-16T17:48:05.902123Z",
     "iopub.status.idle": "2020-06-16T17:48:05.906748Z",
     "shell.execute_reply": "2020-06-16T17:48:05.906266Z"
    },
    "papermill": {
     "duration": 0.027956,
     "end_time": "2020-06-16T17:48:05.906823",
     "exception": false,
     "start_time": "2020-06-16T17:48:05.878867",
     "status": "completed"
    },
    "tags": []
   },
   "outputs": [],
   "source": [
    "r_wr_period_d1_mean_sem = dslhf.calculate_mean_sem (r_wr_period_d1_df)"
   ]
  },
  {
   "cell_type": "code",
   "execution_count": 25,
   "metadata": {
    "execution": {
     "iopub.execute_input": "2020-06-16T17:48:05.954599Z",
     "iopub.status.busy": "2020-06-16T17:48:05.953913Z",
     "iopub.status.idle": "2020-06-16T17:48:05.958614Z",
     "shell.execute_reply": "2020-06-16T17:48:05.958094Z"
    },
    "papermill": {
     "duration": 0.030464,
     "end_time": "2020-06-16T17:48:05.958692",
     "exception": false,
     "start_time": "2020-06-16T17:48:05.928228",
     "status": "completed"
    },
    "tags": []
   },
   "outputs": [],
   "source": [
    "r_wr_period_d2_mean_sem = dslhf.calculate_mean_sem (r_wr_period_d2_df)"
   ]
  },
  {
   "cell_type": "markdown",
   "metadata": {
    "papermill": {
     "duration": 0.021419,
     "end_time": "2020-06-16T17:48:06.001632",
     "exception": false,
     "start_time": "2020-06-16T17:48:05.980213",
     "status": "completed"
    },
    "tags": []
   },
   "source": [
    "# make_sem_traces"
   ]
  },
  {
   "cell_type": "code",
   "execution_count": 26,
   "metadata": {
    "execution": {
     "iopub.execute_input": "2020-06-16T17:48:06.046080Z",
     "iopub.status.busy": "2020-06-16T17:48:06.045565Z",
     "iopub.status.idle": "2020-06-16T17:48:06.048390Z",
     "shell.execute_reply": "2020-06-16T17:48:06.047933Z"
    },
    "papermill": {
     "duration": 0.026835,
     "end_time": "2020-06-16T17:48:06.048461",
     "exception": false,
     "start_time": "2020-06-16T17:48:06.021626",
     "status": "completed"
    },
    "tags": []
   },
   "outputs": [],
   "source": [
    "r_ls_period_d1_sem_traces = dslhf.make_sem_traces(r_ls_period_d1_mean_sem)"
   ]
  },
  {
   "cell_type": "code",
   "execution_count": 27,
   "metadata": {
    "execution": {
     "iopub.execute_input": "2020-06-16T17:48:06.097462Z",
     "iopub.status.busy": "2020-06-16T17:48:06.096945Z",
     "iopub.status.idle": "2020-06-16T17:48:06.098901Z",
     "shell.execute_reply": "2020-06-16T17:48:06.099486Z"
    },
    "papermill": {
     "duration": 0.029836,
     "end_time": "2020-06-16T17:48:06.099631",
     "exception": false,
     "start_time": "2020-06-16T17:48:06.069795",
     "status": "completed"
    },
    "tags": []
   },
   "outputs": [],
   "source": [
    "r_ls_period_d2_sem_traces = dslhf.make_sem_traces(r_ls_period_d2_mean_sem)"
   ]
  },
  {
   "cell_type": "code",
   "execution_count": 28,
   "metadata": {
    "execution": {
     "iopub.execute_input": "2020-06-16T17:48:06.148162Z",
     "iopub.status.busy": "2020-06-16T17:48:06.147615Z",
     "iopub.status.idle": "2020-06-16T17:48:06.150028Z",
     "shell.execute_reply": "2020-06-16T17:48:06.149525Z"
    },
    "papermill": {
     "duration": 0.027451,
     "end_time": "2020-06-16T17:48:06.150100",
     "exception": false,
     "start_time": "2020-06-16T17:48:06.122649",
     "status": "completed"
    },
    "tags": []
   },
   "outputs": [],
   "source": [
    "r_wr_period_d1_sem_traces = dslhf.make_sem_traces(r_wr_period_d1_mean_sem)"
   ]
  },
  {
   "cell_type": "code",
   "execution_count": 29,
   "metadata": {
    "execution": {
     "iopub.execute_input": "2020-06-16T17:48:06.198565Z",
     "iopub.status.busy": "2020-06-16T17:48:06.198100Z",
     "iopub.status.idle": "2020-06-16T17:48:06.200678Z",
     "shell.execute_reply": "2020-06-16T17:48:06.200052Z"
    },
    "papermill": {
     "duration": 0.028583,
     "end_time": "2020-06-16T17:48:06.200772",
     "exception": false,
     "start_time": "2020-06-16T17:48:06.172189",
     "status": "completed"
    },
    "tags": []
   },
   "outputs": [],
   "source": [
    "r_wr_period_d2_sem_traces = dslhf.make_sem_traces(r_wr_period_d2_mean_sem)"
   ]
  },
  {
   "cell_type": "markdown",
   "metadata": {
    "papermill": {
     "duration": 0.021256,
     "end_time": "2020-06-16T17:48:06.245032",
     "exception": false,
     "start_time": "2020-06-16T17:48:06.223776",
     "status": "completed"
    },
    "tags": []
   },
   "source": [
    "# plots"
   ]
  },
  {
   "cell_type": "code",
   "execution_count": 30,
   "metadata": {
    "execution": {
     "iopub.execute_input": "2020-06-16T17:48:06.292298Z",
     "iopub.status.busy": "2020-06-16T17:48:06.288163Z",
     "iopub.status.idle": "2020-06-16T17:48:06.587789Z",
     "shell.execute_reply": "2020-06-16T17:48:06.587308Z"
    },
    "papermill": {
     "duration": 0.322822,
     "end_time": "2020-06-16T17:48:06.587863",
     "exception": false,
     "start_time": "2020-06-16T17:48:06.265041",
     "status": "completed"
    },
    "scrolled": false,
    "tags": []
   },
   "outputs": [
    {
     "data": {
      "image/png": "[encoded data removed]",
      "text/plain": [
       "<Figure size 432x288 with 1 Axes>"
      ]
     },
     "metadata": {
      "needs_background": "light"
     },
     "output_type": "display_data"
    }
   ],
   "source": [
    "dslhf.plot_ipsi_contra_together(r_ls_period_d1_mean_sem,\n",
    "                              r_ls_period_d1_sem_traces,\n",
    "                              \"right_lose switch\",period_of_interest,\"D1\",y_axis,cache_dir_plt)"
   ]
  },
  {
   "cell_type": "code",
   "execution_count": 31,
   "metadata": {
    "execution": {
     "iopub.execute_input": "2020-06-16T17:48:06.651277Z",
     "iopub.status.busy": "2020-06-16T17:48:06.650645Z",
     "iopub.status.idle": "2020-06-16T17:48:06.884785Z",
     "shell.execute_reply": "2020-06-16T17:48:06.884356Z"
    },
    "papermill": {
     "duration": 0.274591,
     "end_time": "2020-06-16T17:48:06.884853",
     "exception": false,
     "start_time": "2020-06-16T17:48:06.610262",
     "status": "completed"
    },
    "tags": []
   },
   "outputs": [
    {
     "data": {
      "image/png": "[encoded data removed]",
      "text/plain": [
       "<Figure size 432x288 with 1 Axes>"
      ]
     },
     "metadata": {
      "needs_background": "light"
     },
     "output_type": "display_data"
    }
   ],
   "source": [
    "dslhf.plot_ipsi_contra_together(r_ls_period_d2_mean_sem,\n",
    "                              r_ls_period_d2_sem_traces,\n",
    "                              \"right_lose switch\",period_of_interest,\"D2\",y_axis,cache_dir_plt)"
   ]
  },
  {
   "cell_type": "code",
   "execution_count": 32,
   "metadata": {
    "execution": {
     "iopub.execute_input": "2020-06-16T17:48:06.947399Z",
     "iopub.status.busy": "2020-06-16T17:48:06.946917Z",
     "iopub.status.idle": "2020-06-16T17:48:07.160463Z",
     "shell.execute_reply": "2020-06-16T17:48:07.160805Z"
    },
    "papermill": {
     "duration": 0.25468,
     "end_time": "2020-06-16T17:48:07.160901",
     "exception": false,
     "start_time": "2020-06-16T17:48:06.906221",
     "status": "completed"
    },
    "scrolled": true,
    "tags": []
   },
   "outputs": [
    {
     "data": {
      "image/png": "[encoded data removed]",
      "text/plain": [
       "<Figure size 432x288 with 1 Axes>"
      ]
     },
     "metadata": {
      "needs_background": "light"
     },
     "output_type": "display_data"
    }
   ],
   "source": [
    "dslhf.plot_ipsi_contra_together(r_wr_period_d1_mean_sem,\n",
    "                              r_wr_period_d1_sem_traces,\n",
    "                              \"right_win repeat\",period_of_interest,\"D1\",y_axis,cache_dir_plt)"
   ]
  },
  {
   "cell_type": "code",
   "execution_count": 33,
   "metadata": {
    "execution": {
     "iopub.execute_input": "2020-06-16T17:48:07.216483Z",
     "iopub.status.busy": "2020-06-16T17:48:07.215771Z",
     "iopub.status.idle": "2020-06-16T17:48:07.437050Z",
     "shell.execute_reply": "2020-06-16T17:48:07.437471Z"
    },
    "papermill": {
     "duration": 0.253232,
     "end_time": "2020-06-16T17:48:07.437564",
     "exception": false,
     "start_time": "2020-06-16T17:48:07.184332",
     "status": "completed"
    },
    "tags": []
   },
   "outputs": [
    {
     "data": {
      "image/png": "[encoded data removed]",
      "text/plain": [
       "<Figure size 432x288 with 1 Axes>"
      ]
     },
     "metadata": {
      "needs_background": "light"
     },
     "output_type": "display_data"
    }
   ],
   "source": [
    "dslhf.plot_ipsi_contra_together(r_wr_period_d2_mean_sem,\n",
    "                              r_wr_period_d2_sem_traces,\n",
    "                              \"right_win repeat\",period_of_interest,\"D2\",y_axis,cache_dir_plt)"
   ]
  },
  {
   "cell_type": "code",
   "execution_count": null,
   "metadata": {
    "papermill": {
     "duration": 0.027414,
     "end_time": "2020-06-16T17:48:07.489492",
     "exception": false,
     "start_time": "2020-06-16T17:48:07.462078",
     "status": "completed"
    },
    "tags": []
   },
   "outputs": [],
   "source": []
  },
  {
   "cell_type": "code",
   "execution_count": null,
   "metadata": {
    "papermill": {
     "duration": 0.027053,
     "end_time": "2020-06-16T17:48:07.541552",
     "exception": false,
     "start_time": "2020-06-16T17:48:07.514499",
     "status": "completed"
    },
    "tags": []
   },
   "outputs": [],
   "source": []
  },
  {
   "cell_type": "code",
   "execution_count": null,
   "metadata": {
    "papermill": {
     "duration": 0.023969,
     "end_time": "2020-06-16T17:48:07.590419",
     "exception": false,
     "start_time": "2020-06-16T17:48:07.566450",
     "status": "completed"
    },
    "tags": []
   },
   "outputs": [],
   "source": []
  }
 ],
 "metadata": {
  "celltoolbar": "Tags",
  "kernelspec": {
   "display_name": "Python 3",
   "language": "python",
   "name": "python3"
  },
  "language_info": {
   "codemirror_mode": {
    "name": "ipython",
    "version": 3
   },
   "file_extension": ".py",
   "mimetype": "text/x-python",
   "name": "python",
   "nbconvert_exporter": "python",
   "pygments_lexer": "ipython3",
   "version": "3.7.3"
  },
  "papermill": {
   "duration": 26.547392,
   "end_time": "2020-06-16T17:48:08.033905",
   "environment_variables": {},
   "exception": null,
   "input_path": "data_set_lineplot_ic_together_right_side.ipynb",
   "output_path": "TestOutPut.ipynb",
   "parameters": {
    "HowManyBack": 1,
    "folderName": "right_dual_color_photo_full_data_set",
    "path_to_save": "/Volumes/GilInVivoPaper.large/2.Photometry_in_str/2.dual_color_photo_full_data_set_analysis//right_dual_color_photo_full_data_set/0a1b2a3c4abcd5a6a7a",
    "period_of_interest": "last_200_bins_ENL_tag",
    "seq_str": "0a1b2a3c4abcd5a6a7a"
   },
   "start_time": "2020-06-16T17:47:41.486513",
   "version": "2.1.1"
  }
 },
 "nbformat": 4,
 "nbformat_minor": 4
}