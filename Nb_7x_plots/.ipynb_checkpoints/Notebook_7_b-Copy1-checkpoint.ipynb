{
 "cells": [
  {
   "cell_type": "markdown",
   "metadata": {},
   "source": [
    "# Notebook 7b: "
   ]
  },
  {
   "cell_type": "markdown",
   "metadata": {},
   "source": [
    "simple plot ipsi contra combined win stay and lose switch conditions. recordings from the right side hemisphere. "
   ]
  },
  {
   "cell_type": "code",
   "execution_count": 1,
   "metadata": {},
   "outputs": [],
   "source": [
    "import os\n",
    "from pathlib import Path\n",
    "import pickle\n",
    "import matplotlib.pyplot as plt"
   ]
  },
  {
   "cell_type": "code",
   "execution_count": 2,
   "metadata": {},
   "outputs": [],
   "source": [
    "import Notebook_7_helper_functions as Nb_7"
   ]
  },
  {
   "cell_type": "markdown",
   "metadata": {},
   "source": [
    "\n",
    "# Needs to be updated if more notebooks 3s are added: \n"
   ]
  },
  {
   "cell_type": "code",
   "execution_count": 3,
   "metadata": {},
   "outputs": [],
   "source": [
    "Nb_name= 'Notebook_7_b'\n",
    "period_of_interest = \"combined_periods_1\""
   ]
  },
  {
   "cell_type": "code",
   "execution_count": null,
   "metadata": {},
   "outputs": [],
   "source": []
  },
  {
   "cell_type": "code",
   "execution_count": 4,
   "metadata": {
    "tags": [
     "parameters"
    ]
   },
   "outputs": [],
   "source": [
    "mouse = 'T240'\n",
    "data_day = '2019_09_27__T240'\n",
    "date = '2019_09_27'\n",
    "\n",
    "HowManyBack = 1\n",
    "\n",
    "seq_str= \"0a1b2a3b4abcde5a6a7b\"\n",
    "\n",
    "data_dir_output = \"/Users/gilmandelbaum/Desktop/outPut\"\n",
    "\n",
    "y_axis_list = [\"df_f\",\"z_score\",\"z_score_sliding_window\"]"
   ]
  },
  {
   "cell_type": "markdown",
   "metadata": {},
   "source": [
    "same for all 7 notebooks"
   ]
  },
  {
   "cell_type": "code",
   "execution_count": 5,
   "metadata": {},
   "outputs": [
    {
     "name": "stdout",
     "output_type": "stream",
     "text": [
      "z_score\n"
     ]
    }
   ],
   "source": [
    "alphabet = [\"a\",\"b\",\"c\",\"d\",\"e\",\"f\",\"g\"]\n",
    "y_axis = y_axis_list[alphabet.index(seq_str[:seq_str.index('4')][-1])]\n",
    "print (y_axis)"
   ]
  },
  {
   "cell_type": "code",
   "execution_count": 6,
   "metadata": {},
   "outputs": [],
   "source": [
    "version_to_import = seq_str[:seq_str.index('7')][-1]"
   ]
  },
  {
   "cell_type": "code",
   "execution_count": 7,
   "metadata": {},
   "outputs": [
    {
     "name": "stdout",
     "output_type": "stream",
     "text": [
      "/Users/gilmandelbaum/Desktop/outPut/T240/2019_09_27__T240/1_Back/T240_2019_09_27Notebook_6_a_seq0a1b2a3b4abcde5a6a.pickle\n"
     ]
    }
   ],
   "source": [
    "root = Path(data_dir_output+\"/\"+mouse+\"/\"+data_day+'/'+str(HowManyBack)+\"_Back\")\n",
    "d = mouse+\"_\"+date+\"Notebook_6_\"+version_to_import+\"_\"+'seq'+seq_str[:seq_str.index('7')]+'.pickle'\n",
    "\n",
    "my_path = root / d \n",
    "print (my_path)\n",
    "        \n",
    "# open a file, where you stored the pickled data\n",
    "fileToOpen = open(my_path, 'rb')\n",
    "# load the pickle: \n",
    "PhotoData_perTrial_channels = pickle.load(fileToOpen)      "
   ]
  },
  {
   "cell_type": "code",
   "execution_count": 10,
   "metadata": {},
   "outputs": [],
   "source": [
    "PhotoData_perTrial_channels[0][0][0][\"combined_periods_1\"].to_csv(\"testing.csv\")"
   ]
  },
  {
   "cell_type": "code",
   "execution_count": 9,
   "metadata": {},
   "outputs": [],
   "source": [
    "# stash result in a cache directory, for how many back. \n",
    "cache_dir_plt = os.path.join(data_dir_output+'/'+mouse+'/'+data_day, str(HowManyBack)+'_Back',\"0.plots\",\"session_plots_\"+y_axis)\n",
    "if not os.path.exists(cache_dir_plt):\n",
    "    os.makedirs(cache_dir_plt)    "
   ]
  },
  {
   "cell_type": "code",
   "execution_count": null,
   "metadata": {},
   "outputs": [],
   "source": [
    "path_to_plot = cache_dir_plt+\"/\"+seq_str\n",
    "print (path_to_plot)"
   ]
  },
  {
   "cell_type": "code",
   "execution_count": null,
   "metadata": {},
   "outputs": [],
   "source": [
    "# def extract_rl_tt_period_celltype_mean(PhotoData_perTrial_channels,rl,tt,period,cell_type):\n",
    "    \n",
    "#     number_of_trials = len(PhotoData_perTrial_channels[rl][0][tt][period][cell_type].columns)\n",
    "    \n",
    "#     mean_ipsi_next = PhotoData_perTrial_channels[rl][0][tt][period][cell_type].mean(axis=1)\n",
    "#     mean_contra_next = PhotoData_perTrial_channels[rl][1][tt][period][cell_type].mean(axis=1)\n",
    "    \n",
    "#     sem_ipsi_next = (PhotoData_perTrial_channels[rl][0][tt][period][cell_type].std(axis=1))/(number_of_trials**0.5)\n",
    "#     sem_contra_next = PhotoData_perTrial_channels[rl][1][tt][period][cell_type].std(axis=1)/(number_of_trials**0.5)\n",
    "    \n",
    "    \n",
    "#     return (mean_ipsi_next,sem_ipsi_next,mean_contra_next,sem_contra_next,number_of_trials)\n"
   ]
  },
  {
   "cell_type": "code",
   "execution_count": null,
   "metadata": {},
   "outputs": [],
   "source": [
    "# def calculate_sem (data):\n",
    "#     sem_up_ipsi_next = data[0]+data[1]/2\n",
    "#     sem_down_ipsi_next = data[0]-data[1]/2\n",
    "    \n",
    "#     sem_up_contra_next = data[2]+data[3]/2\n",
    "#     sem_down_contra_next = data[2]-data[3]/2\n",
    "    \n",
    "#     return (sem_up_ipsi_next,sem_down_ipsi_next,sem_up_contra_next,sem_down_contra_next)\n"
   ]
  },
  {
   "cell_type": "code",
   "execution_count": null,
   "metadata": {},
   "outputs": [],
   "source": [
    "# def plot_ipsi_contra_together (data,sem,trial_type,cell_type,y_axis,path_to_plot):\n",
    "\n",
    "#     plt.plot(data[0],linewidth=2, label=\"ipsi_next\"+\" \"+\"(\"+str(data[4])+\")\")\n",
    "#     plt.plot(data[2],linewidth=2, label=\"contra_next\"+\" \"+\"(\"+str(data[4])+\")\")\n",
    "    \n",
    "#     plt.plot(sem[0],color='black', linewidth=0.5,alpha=0.8)\n",
    "#     plt.plot(sem[1],color='black', linewidth=0.5,alpha=0.8)\n",
    "#     plt.plot(sem[2],color='black', linewidth=0.5,alpha=0.8)\n",
    "#     plt.plot(sem[3],color='black', linewidth=0.5,alpha=0.8)\n",
    "    \n",
    "#     # Add legend\n",
    "#     plt.legend(loc='lower left')\n",
    "    \n",
    "#     # Add title and x, y labels\n",
    "#     plt.title(trial_type, fontsize=16, fontweight='bold')\n",
    "#     plt.suptitle(cell_type, fontsize=16)\n",
    "\n",
    "#     plt.xlabel(\"time_bins\")\n",
    "\n",
    "#     #the y axis is defined in the paper mill. This allows to run 7_b with 3a,3b,3c and any future 3s, easliy changing the \n",
    "#     #the name of the y axis to not cause confusion. \n",
    "#     plt.ylabel(y_axis)\n",
    "#     plt.savefig(path_to_plot+\"_\"+trial_type+cell_type+'.pdf')\n",
    "#     plt.show()\n",
    "    "
   ]
  },
  {
   "cell_type": "code",
   "execution_count": null,
   "metadata": {},
   "outputs": [],
   "source": [
    "r_ls_combined_periods_1_d1 = Nb_7.extract_rl_tt_period_celltype_mean (PhotoData_perTrial_channels,0,0,\n",
    "                                                                      \"combined_periods_1\",\"d1 R\")"
   ]
  },
  {
   "cell_type": "code",
   "execution_count": null,
   "metadata": {},
   "outputs": [],
   "source": [
    "r_ls_combined_periods_1_d1_sem = Nb_7.calculate_sem_traces (r_ls_combined_periods_1_d1)"
   ]
  },
  {
   "cell_type": "code",
   "execution_count": null,
   "metadata": {
    "scrolled": true
   },
   "outputs": [],
   "source": [
    "Nb_7.plot_ipsi_contra_together(r_ls_combined_periods_1_d1,r_ls_combined_periods_1_d1_sem,\"rightrecording; lose_switch\",\n",
    "                               \"d1\",y_axis,path_to_plot)"
   ]
  },
  {
   "cell_type": "code",
   "execution_count": null,
   "metadata": {},
   "outputs": [],
   "source": [
    "r_ls_combined_periods_1_d2 = Nb_7.extract_rl_tt_period_celltype_mean (PhotoData_perTrial_channels,0,0,\n",
    "                                                                      \"combined_periods_1\",\"d2 R\")"
   ]
  },
  {
   "cell_type": "code",
   "execution_count": null,
   "metadata": {},
   "outputs": [],
   "source": [
    "r_ls_combined_periods_1_d2_sem = Nb_7.calculate_sem_traces(r_ls_combined_periods_1_d2)"
   ]
  },
  {
   "cell_type": "code",
   "execution_count": null,
   "metadata": {},
   "outputs": [],
   "source": [
    "Nb_7.plot_ipsi_contra_together(r_ls_combined_periods_1_d2,r_ls_combined_periods_1_d2_sem,\"rightrecording; lose_switch\",\n",
    "                               \"d2\",y_axis,path_to_plot)"
   ]
  },
  {
   "cell_type": "code",
   "execution_count": null,
   "metadata": {},
   "outputs": [],
   "source": [
    "r_wr_combined_periods_1_d1 = Nb_7.extract_rl_tt_period_celltype_mean (PhotoData_perTrial_channels,0,3,\n",
    "                                                                      \"combined_periods_1\",\"d1 R\")"
   ]
  },
  {
   "cell_type": "code",
   "execution_count": null,
   "metadata": {},
   "outputs": [],
   "source": [
    "r_wr_combined_periods_1_d1_sem = Nb_7.calculate_sem_traces(r_wr_combined_periods_1_d1)"
   ]
  },
  {
   "cell_type": "code",
   "execution_count": null,
   "metadata": {},
   "outputs": [],
   "source": [
    "Nb_7.plot_ipsi_contra_together(r_wr_combined_periods_1_d1,r_wr_combined_periods_1_d1_sem,\"rightrecording; win_repeat\",\n",
    "                               \"d1\",y_axis,path_to_plot)"
   ]
  },
  {
   "cell_type": "code",
   "execution_count": null,
   "metadata": {},
   "outputs": [],
   "source": [
    "r_wr_combined_periods_1_d2 = Nb_7.extract_rl_tt_period_celltype_mean (PhotoData_perTrial_channels,0,3,\n",
    "                                                                      \"combined_periods_1\",\"d2 R\")"
   ]
  },
  {
   "cell_type": "code",
   "execution_count": null,
   "metadata": {},
   "outputs": [],
   "source": [
    "r_wr_combined_periods_1_d2_sem = Nb_7.calculate_sem_traces(r_wr_combined_periods_1_d2)"
   ]
  },
  {
   "cell_type": "code",
   "execution_count": null,
   "metadata": {},
   "outputs": [],
   "source": [
    "Nb_7.plot_ipsi_contra_together(r_wr_combined_periods_1_d2,r_wr_combined_periods_1_d2_sem,\"rightrecording; win_repeat\",\n",
    "                               \"d2\",y_axis,path_to_plot)"
   ]
  },
  {
   "cell_type": "code",
   "execution_count": null,
   "metadata": {},
   "outputs": [],
   "source": [
    "root = Path(data_dir_output+\"/\"+mouse+\"/\"+data_day+'/'+str(HowManyBack)+\"_Back\")\n",
    "d = mouse+\"_\"+date+Nb_name+'_seq'+seq_str+'.pickle'\n",
    "my_path = root / d \n",
    "my_file = open(my_path, 'wb')\n",
    "my_file = pickle.dump((),my_file)"
   ]
  },
  {
   "cell_type": "code",
   "execution_count": null,
   "metadata": {},
   "outputs": [],
   "source": []
  }
 ],
 "metadata": {
  "celltoolbar": "Tags",
  "kernelspec": {
   "display_name": "Python 3",
   "language": "python",
   "name": "python3"
  },
  "language_info": {
   "codemirror_mode": {
    "name": "ipython",
    "version": 3
   },
   "file_extension": ".py",
   "mimetype": "text/x-python",
   "name": "python",
   "nbconvert_exporter": "python",
   "pygments_lexer": "ipython3",
   "version": "3.7.3"
  }
 },
 "nbformat": 4,
 "nbformat_minor": 2
}
